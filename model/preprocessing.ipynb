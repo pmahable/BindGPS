{
 "cells": [
  {
   "cell_type": "code",
   "execution_count": 18,
   "metadata": {},
   "outputs": [],
   "source": [
    "from src.data import DatasetLoader\n",
    "import os"
   ]
  },
  {
   "cell_type": "code",
   "execution_count": 22,
   "id": "44845885",
   "metadata": {},
   "outputs": [
    {
     "ename": "NameError",
     "evalue": "name 'os' is not defined",
     "output_type": "error",
     "traceback": [
      "\u001b[0;31m---------------------------------------------------------------------------\u001b[0m",
      "\u001b[0;31mNameError\u001b[0m                                 Traceback (most recent call last)",
      "\u001b[1;32m/oscar/data/larschan/shared_data/BindGPS/model/preprocessing.ipynb Cell 2\u001b[0m line \u001b[0;36m2\n\u001b[1;32m      <a href='vscode-notebook-cell://ood.ccv.brown.edu/oscar/data/larschan/shared_data/BindGPS/model/preprocessing.ipynb#W1sdnNjb2RlLXJlbW90ZQ%3D%3D?line=0'>1</a>\u001b[0m loader \u001b[39m=\u001b[39m DatasetLoader()\n\u001b[0;32m----> <a href='vscode-notebook-cell://ood.ccv.brown.edu/oscar/data/larschan/shared_data/BindGPS/model/preprocessing.ipynb#W1sdnNjb2RlLXJlbW90ZQ%3D%3D?line=1'>2</a>\u001b[0m node_df, edge_df \u001b[39m=\u001b[39m loader\u001b[39m.\u001b[39;49mload(p_value\u001b[39m=\u001b[39;49m\u001b[39m'\u001b[39;49m\u001b[39m0_1\u001b[39;49m\u001b[39m'\u001b[39;49m, resolution\u001b[39m=\u001b[39;49m\u001b[39m'\u001b[39;49m\u001b[39m1kb\u001b[39;49m\u001b[39m'\u001b[39;49m)\n",
      "File \u001b[0;32m/oscar/data/larschan/shared_data/BindGPS/model/src/data.py:81\u001b[0m, in \u001b[0;36mDatasetLoader.load\u001b[0;34m(self, p_value, resolution)\u001b[0m\n\u001b[1;32m     80\u001b[0m \u001b[39mdef\u001b[39;00m\u001b[39m \u001b[39m\u001b[39mload\u001b[39m(\u001b[39mself\u001b[39m, p_value: \u001b[39mstr\u001b[39m, resolution: \u001b[39mstr\u001b[39m):\n\u001b[0;32m---> 81\u001b[0m     os\u001b[39m.\u001b[39mchdir(\u001b[39mself\u001b[39m\u001b[39m.\u001b[39mbase_path)\n\u001b[1;32m     82\u001b[0m     node_df \u001b[39m=\u001b[39m pd\u001b[39m.\u001b[39mread_pickle(\u001b[39mf\u001b[39m\u001b[39m\"\u001b[39m\u001b[39mnode_dataset_\u001b[39m\u001b[39m{\u001b[39;00mresolution\u001b[39m}\u001b[39;00m\u001b[39m.pkl\u001b[39m\u001b[39m\"\u001b[39m)\n\u001b[1;32m     83\u001b[0m     edge_df \u001b[39m=\u001b[39m pd\u001b[39m.\u001b[39mread_pickle(\u001b[39mf\u001b[39m\u001b[39m\"\u001b[39m\u001b[39medge_dataset_\u001b[39m\u001b[39m{\u001b[39;00mp_value\u001b[39m}\u001b[39;00m\u001b[39m_\u001b[39m\u001b[39m{\u001b[39;00mresolution\u001b[39m}\u001b[39;00m\u001b[39m.pkl\u001b[39m\u001b[39m\"\u001b[39m)\n",
      "\u001b[0;31mNameError\u001b[0m: name 'os' is not defined"
     ]
    }
   ],
   "source": [
    "loader = DatasetLoader()\n",
    "node_df, edge_df = loader.load(p_value='0_1', resolution='1kb')"
   ]
  }
 ],
 "metadata": {
  "kernelspec": {
   "display_name": "bind_gps_env",
   "language": "python",
   "name": "python3"
  },
  "language_info": {
   "codemirror_mode": {
    "name": "ipython",
    "version": 3
   },
   "file_extension": ".py",
   "mimetype": "text/x-python",
   "name": "python",
   "nbconvert_exporter": "python",
   "pygments_lexer": "ipython3",
   "version": "3.9.16"
  }
 },
 "nbformat": 4,
 "nbformat_minor": 5
}
