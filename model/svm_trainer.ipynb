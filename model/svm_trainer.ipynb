{
 "cells": [
  {
   "cell_type": "code",
   "execution_count": 5,
   "id": "de59725b",
   "metadata": {},
   "outputs": [],
   "source": [
    "import torch\n",
    "from torch import nn\n",
    "import torch.nn.functional as F\n",
    "from torch.utils.data import DataLoader, random_split\n",
    "import numpy as np\n",
    "from typing import Dict, Any, Optional, Tuple\n",
    "import json\n",
    "import joblib\n",
    "\n",
    "from src.wandb_utils import WandbLogger\n",
    "from src.metrics import compute_metrics\n",
    "from src.models import KmerSequenceModel\n",
    "from src.metrics import compute_metrics, compute_regression_metrics\n",
    "\n",
    "from scipy import sparse\n",
    "import os\n",
    "\n",
    "from sklearn.decomposition import TruncatedSVD\n",
    "import pandas as pd\n",
    "from src.utils import load_kmer_counts, load_svd\n",
    "from src.data import DNASequenceDataset\n",
    "from src.data import KmerTokenizer\n",
    "\n",
    "from sklearn.metrics import roc_auc_score, average_precision_score\n",
    "from torcheval.metrics import MulticlassAUROC, MulticlassAUPRC, MulticlassAccuracy\n",
    "\n",
    "\n",
    "def svm_project_kmer_vec(svd_model, full_dataset, batch_size=128):\n",
    "    projected_vecs = []\n",
    "    n_samples = full_dataset.shape[0]   # number of rows\n",
    "    for i in range(0, n_samples, batch_size):\n",
    "        batch = full_dataset[i:i+batch_size]\n",
    "        projected_vecs.append(batch @ svd_model.components_.T)\n",
    "    return np.vstack(projected_vecs)\n",
    "\n",
    "#Run twice to generate sparse kmer counts for 1kb and 5kb\n",
    "def generate_vec_dataset(resolution: str, svd_dim: int, batch_size: int=128):\n",
    "    data_path = f\"../data/data_transformation/chipseq/updated_histone_mods_and_GA_factors.feature_matrix.{resolution}_res.txt\"\n",
    "    df = pd.read_csv(data_path, sep=\"\\t\")\n",
    "    df['seq'] = df['seq'].str.upper()\n",
    "        \n",
    "    tokenizer = KmerTokenizer(k=8)\n",
    "    df['kmer_vec'] = df['seq'].map(lambda x: tokenizer.seq_to_vec(x))\n",
    "        \n",
    "    full_dataset = sparse.vstack(df['kmer_vec'])\n",
    "    sparse.save_npz(f\"../data/sparse_kmer_counts_{resolution}.npz\", full_dataset)\n",
    "    \n",
    "#Creates and saves final datasets from sparse kmer counts\n",
    "def build_dataset(resolution: str, svd_dim: int, batch_size: int=128):\n",
    "    data_path = f\"../data/data_transformation/chipseq/updated_histone_mods_and_GA_factors.feature_matrix.{resolution}_res.txt\"\n",
    "    df = pd.read_csv(data_path, sep=\"\\t\")\n",
    "    df['seq'] = df['seq'].str.upper()\n",
    "    \n",
    "    sparse_counts_path = f\"../data/sparse_kmer_counts_{resolution}.npz\"\n",
    "    full_dataset = load_kmer_counts(sparse_counts_path, drop_unk=True)\n",
    "    \n",
    "    svd_path = f\"../output/models/seq_svm/svd_model_{resolution}_{svd_dim}.joblib\"\n",
    "    if not os.path.exists(svd_path):\n",
    "        svd_model = TruncatedSVD(n_components=svd_dim)\n",
    "        svd_model.fit(full_dataset)\n",
    "        joblib.dump(svd_model, svd_path)\n",
    "        \n",
    "    svd_model = load_svd(n_components=svd_dim, path=svd_path)\n",
    "    projected_vecs = svm_project_kmer_vec(svd_model, full_dataset, batch_size)\n",
    "    \n",
    "    #DNA Sequence dataset from projection\n",
    "    sequences = df['seq']\n",
    "    gene_labels = df['gene_labels'].to_numpy()\n",
    "    mre_labels = df['mre_labels'].to_numpy()\n",
    "    metadata = df.drop(columns=['seq', 'gene_labels', 'mre_labels'])\n",
    "    \n",
    "    final_dataset = DNASequenceDataset(sequences, gene_labels, mre_labels, projected_vecs, metadata)\n",
    "    \n",
    "    torch.save(final_dataset, f\"../data/{resolution}_{svd_dim}_vec_dataset.pt\")\n",
    "    return final_dataset\n",
    "\n",
    "\n",
    "\n",
    "\n",
    "# TODO: @Romer, feel free to port the notebook code into this format to make it easier...\n",
    "class SeqSVMTrainer:\n",
    "    def __init__(self,\n",
    "                 dataset: DNASequenceDataset,\n",
    "                 resolution: str,\n",
    "                 svd_dim: int,\n",
    "                 input_dim: int = 128, \n",
    "                 hidden_dims: Tuple[int, ...] = (256, 128),\n",
    "                 num_classes: int = 3, \n",
    "                 dropout: float = 0.3,\n",
    "                 batch_size: int = 128, \n",
    "                 lr: float = 1e-3, \n",
    "                 weighted: bool = False,\n",
    "                 task: str = \"mre\",\n",
    "                 target_metric: str = \"MulticlassAccuracy\",\n",
    "                 wandb_logger: Optional[WandbLogger] = None,\n",
    "                 device: Optional[torch.device] = None):\n",
    "               \n",
    "        self.device = device or torch.device(\"cuda\" if torch.cuda.is_available() else \"cpu\")\n",
    "        self.wandb_logger = wandb_logger\n",
    "        self.batch_size = batch_size\n",
    "        self.weighted = weighted\n",
    "        self.task = task\n",
    "        self.target_metric = target_metric\n",
    "        self.resolution = resolution\n",
    "        self.svd_dim = svd_dim\n",
    "        \n",
    "        \n",
    "        self.run_name = f\"{task}_res{resolution}_svd{svd_dim}_lr{lr}_bs{batch_size}_weighted{weighted}\"\n",
    "               \n",
    "        #Making training and validation data loaders\n",
    "        train_size = int(0.8 * len(dataset))\n",
    "        val_size = len(dataset) - train_size\n",
    "        self.train_dataset, self.val_dataset = random_split(dataset, [train_size, val_size])\n",
    "        self.train_loader = DataLoader(self.train_dataset, batch_size=batch_size, shuffle=True)\n",
    "        self.val_loader = DataLoader(self.val_dataset, batch_size=batch_size, shuffle=False)\n",
    "\n",
    "        #Instantiating the model\n",
    "        self.model = KmerSequenceModel(\n",
    "            input_dim=input_dim,\n",
    "            hidden_dims=hidden_dims,\n",
    "            num_classes=num_classes,\n",
    "            dropout=dropout,\n",
    "        ).to(self.device)    \n",
    "\n",
    "        if weighted:\n",
    "            # Compute class weights\n",
    "            if task == \"mre\":\n",
    "                _, class_counts = np.unique(dataset.mre_labels, return_counts=True)\n",
    "            else:\n",
    "                _, class_counts = np.unique(dataset.gene_labels, return_counts=True)\n",
    "            weights = 1 / (class_counts / class_counts.sum())\n",
    "            weights = torch.tensor(weights, dtype=torch.float32).to(self.device)\n",
    "            self.criterion = nn.CrossEntropyLoss(weight=weights)\n",
    "        else:\n",
    "            self.criterion = nn.CrossEntropyLoss()\n",
    "        self.optimizer = torch.optim.Adam(self.model.parameters(), lr=lr)\n",
    "               \n",
    "\n",
    "    def train(self, val_metrics=None, epochs: int=10):\n",
    "        if val_metrics is None:\n",
    "            val_metrics = [\n",
    "            MulticlassAUROC(num_classes=3),\n",
    "            MulticlassAUPRC(num_classes=3),\n",
    "            MulticlassAccuracy(),\n",
    "        ]\n",
    "        best_state_dict = None\n",
    "        \n",
    "        device = self.device\n",
    "        patience = 0\n",
    "        best_metric = 0\n",
    "        train_acc = MulticlassAccuracy().to(device)\n",
    "        best_metrics = {}\n",
    "        \n",
    "        for epoch in range(epochs):\n",
    "            if patience >= 5:\n",
    "                print(f\"Early Stopping at epoch {epoch}\")\n",
    "                break\n",
    "            self.model.train()\n",
    "            train_loss = 0.0\n",
    "            \n",
    "            for gene, mre, vecs in self.train_loader:\n",
    "                if self.task == \"mre\":\n",
    "                    labels = mre\n",
    "                elif self.task == \"gene\":\n",
    "                    labels = gene\n",
    "                labels = labels.long().to(self.device)\n",
    "                vecs = vecs.to(self.device)\n",
    "                \n",
    "                self.optimizer.zero_grad()\n",
    "                outs = self.model(vecs)\n",
    "                loss = self.criterion(outs, labels)\n",
    "                loss.backward()\n",
    "                self.optimizer.step()\n",
    "                \n",
    "                logits = F.softmax(outs, dim=1)\n",
    "                train_loss += loss.detach().item()\n",
    "                train_acc.update(logits, labels)\n",
    "                \n",
    "            train_accuracy = train_acc.compute().item()\n",
    "            print(f\"[Epoch {epoch}] Train Loss: {train_loss:.4f}, Acc: {train_accuracy:.4f}\")\n",
    "            train_acc.reset()\n",
    "                \n",
    "            val_loss, metrics = self.evaluate(val_metrics=val_metrics)\n",
    "            print(f\"[Epoch {epoch}] Val Loss: {val_loss:.4f}, Val Metrics: {metrics}\")\n",
    "            \n",
    "            \n",
    "            wandb.log({\n",
    "                \"epoch\": epoch,\n",
    "                \"train_loss\": train_loss,\n",
    "                \"train_accuracy\": train_accuracy,\n",
    "                \"val_loss\": val_loss,\n",
    "                **{f\"val_{k}\": v for k, v in metrics.items()}\n",
    "            })\n",
    "            \n",
    "#             if self.wandb_logger:\n",
    "#                 self.wandb_logger.log({\n",
    "#                     \"epoch\": epoch,\n",
    "#                     \"train_loss\": train_loss,\n",
    "#                     \"train_accuracy\": train_accuracy,\n",
    "#                     \"val_loss\": val_loss,\n",
    "#                     **{f\"val_{k}\": v for k, v in metrics.items()}\n",
    "#                 })\n",
    "\n",
    "\n",
    "\n",
    "                \n",
    "            target_metric = metrics.get(self.target_metric, 0.0)\n",
    "            if target_metric > best_metric:\n",
    "                patience = 0\n",
    "                best_metric = target_metric\n",
    "                best_metrics = metrics\n",
    "                #torch.save(self.model.state_dict(), f\"{self.run_name}_best.pt\")\n",
    "                best_state_dict = self.model.state_dict()\n",
    "            else:\n",
    "                patience +=1\n",
    "                \n",
    "        #best_model = torch.load(f\"{self.run_name}_best.pt\", map_location=device)\n",
    "        #self.model.load_state_dict(best_model)\n",
    "        \n",
    "        if best_state_dict is not None:\n",
    "            torch.save(best_state_dict, f\"{self.run_name}_best.pt\")\n",
    "            self.model.load_state_dict(best_state_dict)\n",
    "\n",
    "        \n",
    "        \n",
    "        self.model.to(device)\n",
    "\n",
    "        return self.model, best_metrics\n",
    "               \n",
    "\n",
    "    def evaluate(self, val_metrics=None, return_full: bool=False):\n",
    "        device = self.device\n",
    "        self.model.eval()\n",
    "        \n",
    "        for m in val_metrics:\n",
    "            m.to(device)\n",
    "            m.reset()\n",
    "        val_loss = 0\n",
    "        lab_pred_log = ([], [], [])\n",
    "        \n",
    "        with torch.no_grad():\n",
    "            for gene, mre, vecs in self.val_loader:\n",
    "                labels = mre if self.task == \"mre\" else gene\n",
    "                labels = labels.long().to(device)\n",
    "                vecs = vecs.to(device)\n",
    "                \n",
    "                outs = self.model(vecs)\n",
    "                loss = self.criterion(outs, labels)\n",
    "                val_loss += loss.detach().item()\n",
    "                logits = F.softmax(outs, dim=1)\n",
    "                preds = torch.argmax(logits, dim=1)\n",
    "                \n",
    "                if return_full:\n",
    "                    for append, ls in zip([labels, preds, logits], lab_pred_log):\n",
    "                        ls.append(append.detach().cpu())\n",
    "                    \n",
    "                for metric in val_metrics:\n",
    "                    metric.update(logits, labels)\n",
    "        \n",
    "        lab_pred_log = [torch.cat(ls) for ls in lab_pred_log] if return_full else None\n",
    "        metrics = {m.__class__.__name__: m.compute().item() for m in val_metrics}\n",
    "\n",
    "        return val_loss, metrics if not return_full else (val_loss, metrics, lab_pred_log)\n",
    "      \n",
    "\n",
    "    def input_gradients(self):\n",
    "        device = self.device\n",
    "        self.model.eval()\n",
    "        all_loss_grads = []\n",
    "        all_class_grads = []\n",
    "        \n",
    "        for gene, mre, vecs in self.val_loader:\n",
    "            labels = mre if self.task == \"mre\" else gene\n",
    "            labels = labels.long().to(device)\n",
    "\n",
    "            vecs = vecs.to(device)\n",
    "            vecs.requires_grad_(True)\n",
    "\n",
    "            outputs = self.model(vecs)\n",
    "\n",
    "            # per-class gradients: d(outputs[:,c].sum())/d(vecs)\n",
    "            class_grads = []\n",
    "            C = outputs.shape[1]\n",
    "            for c in range(C):\n",
    "                grad_c = torch.autograd.grad(\n",
    "                    outputs[:, c].sum(), vecs, retain_graph=True\n",
    "                )[0]\n",
    "                class_grads.append(grad_c.detach().cpu())\n",
    "            class_grads = torch.stack(class_grads, dim=1)  # (B, C, D)\n",
    "\n",
    "            loss = self.criterion(outputs, labels)\n",
    "            loss_grads = torch.autograd.grad(loss, vecs)[0].detach().cpu()\n",
    "\n",
    "            all_loss_grads.append(loss_grads)\n",
    "            all_class_grads.append(class_grads)\n",
    "\n",
    "        loss_grads = torch.cat(all_loss_grads, dim=0)   # (N, D)\n",
    "        class_grads = torch.cat(all_class_grads, dim=0) # (N, C, D)\n",
    "        return loss_grads, class_grads\n",
    "        \n"
   ]
  },
  {
   "cell_type": "code",
   "execution_count": 2,
   "id": "eb4cb147",
   "metadata": {},
   "outputs": [
    {
     "name": "stderr",
     "output_type": "stream",
     "text": [
      "\u001b[34m\u001b[1mwandb\u001b[0m: \u001b[32m\u001b[41mERROR\u001b[0m Failed to detect the name of this notebook. You can set it manually with the WANDB_NOTEBOOK_NAME environment variable to enable code saving.\n",
      "\u001b[34m\u001b[1mwandb\u001b[0m: Currently logged in as: \u001b[33mromer_miranda\u001b[0m (\u001b[33mbind-gps\u001b[0m) to \u001b[32mhttps://api.wandb.ai\u001b[0m. Use \u001b[1m`wandb login --relogin`\u001b[0m to force relogin\n"
     ]
    },
    {
     "data": {
      "text/plain": [
       "True"
      ]
     },
     "execution_count": 2,
     "metadata": {},
     "output_type": "execute_result"
    }
   ],
   "source": [
    "import wandb\n",
    "wandb.login()"
   ]
  },
  {
   "cell_type": "code",
   "execution_count": 6,
   "id": "61418ffa",
   "metadata": {},
   "outputs": [
    {
     "name": "stdout",
     "output_type": "stream",
     "text": [
      "Create sweep with ID: 79ufxypb\n",
      "Sweep URL: https://wandb.ai/bind-gps/BindGPS/sweeps/79ufxypb\n"
     ]
    },
    {
     "name": "stderr",
     "output_type": "stream",
     "text": [
      "\u001b[34m\u001b[1mwandb\u001b[0m: Agent Starting Run: ru4xx79v with config:\n",
      "\u001b[34m\u001b[1mwandb\u001b[0m: \tbatch_size: 128\n",
      "\u001b[34m\u001b[1mwandb\u001b[0m: \tepochs: 10\n",
      "\u001b[34m\u001b[1mwandb\u001b[0m: \thidden_dims: [256, 128]\n",
      "\u001b[34m\u001b[1mwandb\u001b[0m: \tlr: 0.001\n",
      "\u001b[34m\u001b[1mwandb\u001b[0m: \tresolution: 1kb\n",
      "\u001b[34m\u001b[1mwandb\u001b[0m: \tsvd_dim: 64\n",
      "\u001b[34m\u001b[1mwandb\u001b[0m: \ttarget_metric: MulticlassAUROC\n",
      "\u001b[34m\u001b[1mwandb\u001b[0m: \ttask: mre\n",
      "\u001b[34m\u001b[1mwandb\u001b[0m: \tweighted: True\n",
      "\u001b[34m\u001b[1mwandb\u001b[0m: \u001b[32m\u001b[41mERROR\u001b[0m Failed to detect the name of this notebook. You can set it manually with the WANDB_NOTEBOOK_NAME environment variable to enable code saving.\n"
     ]
    },
    {
     "name": "stdout",
     "output_type": "stream",
     "text": [
      "\u001b[1;34mwandb\u001b[0m: \n",
      "\u001b[1;34mwandb\u001b[0m: 🚀 View run \u001b[33mhopeful-sweep-5\u001b[0m at: \u001b[34mhttps://wandb.ai/bind-gps/BindGPS/runs/9z2fasxr\u001b[0m\n",
      "\u001b[1;34mwandb\u001b[0m: Find logs at: \u001b[1;35mwandb/run-20251002_121429-9z2fasxr/logs\u001b[0m\n"
     ]
    },
    {
     "data": {
      "text/html": [],
      "text/plain": [
       "<IPython.core.display.HTML object>"
      ]
     },
     "metadata": {},
     "output_type": "display_data"
    },
    {
     "data": {
      "text/html": [
       "Tracking run with wandb version 0.22.1"
      ],
      "text/plain": [
       "<IPython.core.display.HTML object>"
      ]
     },
     "metadata": {},
     "output_type": "display_data"
    },
    {
     "data": {
      "text/html": [
       "Run data is saved locally in <code>/oscar/data/larschan/shared_data/BindGPS/model/wandb/run-20251002_134015-ru4xx79v</code>"
      ],
      "text/plain": [
       "<IPython.core.display.HTML object>"
      ]
     },
     "metadata": {},
     "output_type": "display_data"
    },
    {
     "data": {
      "text/html": [
       "Syncing run <strong><a href='https://wandb.ai/bind-gps/BindGPS/runs/ru4xx79v' target=\"_blank\">zany-sweep-1</a></strong> to <a href='https://wandb.ai/bind-gps/BindGPS' target=\"_blank\">Weights & Biases</a> (<a href='https://wandb.me/developer-guide' target=\"_blank\">docs</a>)<br>Sweep page: <a href='https://wandb.ai/bind-gps/BindGPS/sweeps/79ufxypb' target=\"_blank\">https://wandb.ai/bind-gps/BindGPS/sweeps/79ufxypb</a>"
      ],
      "text/plain": [
       "<IPython.core.display.HTML object>"
      ]
     },
     "metadata": {},
     "output_type": "display_data"
    },
    {
     "data": {
      "text/html": [
       " View project at <a href='https://wandb.ai/bind-gps/BindGPS' target=\"_blank\">https://wandb.ai/bind-gps/BindGPS</a>"
      ],
      "text/plain": [
       "<IPython.core.display.HTML object>"
      ]
     },
     "metadata": {},
     "output_type": "display_data"
    },
    {
     "data": {
      "text/html": [
       " View sweep at <a href='https://wandb.ai/bind-gps/BindGPS/sweeps/79ufxypb' target=\"_blank\">https://wandb.ai/bind-gps/BindGPS/sweeps/79ufxypb</a>"
      ],
      "text/plain": [
       "<IPython.core.display.HTML object>"
      ]
     },
     "metadata": {},
     "output_type": "display_data"
    },
    {
     "data": {
      "text/html": [
       " View run at <a href='https://wandb.ai/bind-gps/BindGPS/runs/ru4xx79v' target=\"_blank\">https://wandb.ai/bind-gps/BindGPS/runs/ru4xx79v</a>"
      ],
      "text/plain": [
       "<IPython.core.display.HTML object>"
      ]
     },
     "metadata": {},
     "output_type": "display_data"
    },
    {
     "name": "stderr",
     "output_type": "stream",
     "text": [
      "\u001b[34m\u001b[1mwandb\u001b[0m: \u001b[33mWARNING\u001b[0m Calling wandb.login() after wandb.init() has no effect.\n"
     ]
    },
    {
     "name": "stdout",
     "output_type": "stream",
     "text": [
      "[Epoch 0] Train Loss: 801.4778, Acc: 0.6766\n",
      "[Epoch 0] Val Loss: 185.2773, Val Metrics: {'MulticlassAUROC': 0.8065464496612549, 'MulticlassAUPRC': 0.5224514603614807, 'MulticlassAccuracy': 0.6978011727333069}\n",
      "[Epoch 1] Train Loss: 752.6460, Acc: 0.7245\n",
      "[Epoch 1] Val Loss: 184.0574, Val Metrics: {'MulticlassAUROC': 0.8172297477722168, 'MulticlassAUPRC': 0.5284170508384705, 'MulticlassAccuracy': 0.7183718085289001}\n",
      "[Epoch 2] Train Loss: 736.1022, Acc: 0.7278\n",
      "[Epoch 2] Val Loss: 180.8344, Val Metrics: {'MulticlassAUROC': 0.822375476360321, 'MulticlassAUPRC': 0.5315660238265991, 'MulticlassAccuracy': 0.723132848739624}\n",
      "[Epoch 3] Train Loss: 729.2272, Acc: 0.7320\n",
      "[Epoch 3] Val Loss: 180.5910, Val Metrics: {'MulticlassAUROC': 0.8148261904716492, 'MulticlassAUPRC': 0.5280207395553589, 'MulticlassAccuracy': 0.732763946056366}\n",
      "[Epoch 4] Train Loss: 724.3335, Acc: 0.7372\n",
      "[Epoch 4] Val Loss: 181.0924, Val Metrics: {'MulticlassAUROC': 0.8298683166503906, 'MulticlassAUPRC': 0.537189245223999, 'MulticlassAccuracy': 0.7301108241081238}\n",
      "[Epoch 5] Train Loss: 719.6075, Acc: 0.7387\n",
      "[Epoch 5] Val Loss: 178.2832, Val Metrics: {'MulticlassAUROC': 0.831920325756073, 'MulticlassAUPRC': 0.5459396243095398, 'MulticlassAccuracy': 0.7716518044471741}\n",
      "[Epoch 6] Train Loss: 714.2220, Acc: 0.7389\n",
      "[Epoch 6] Val Loss: 180.2170, Val Metrics: {'MulticlassAUROC': 0.828734815120697, 'MulticlassAUPRC': 0.5370048880577087, 'MulticlassAccuracy': 0.6969289183616638}\n",
      "[Epoch 7] Train Loss: 711.8596, Acc: 0.7392\n",
      "[Epoch 7] Val Loss: 178.8243, Val Metrics: {'MulticlassAUROC': 0.8328557014465332, 'MulticlassAUPRC': 0.5490414500236511, 'MulticlassAccuracy': 0.7580592632293701}\n",
      "[Epoch 8] Train Loss: 707.4900, Acc: 0.7416\n",
      "[Epoch 8] Val Loss: 177.9140, Val Metrics: {'MulticlassAUROC': 0.8351423144340515, 'MulticlassAUPRC': 0.5442709922790527, 'MulticlassAccuracy': 0.7461748123168945}\n",
      "[Epoch 9] Train Loss: 705.5122, Acc: 0.7423\n",
      "[Epoch 9] Val Loss: 178.6985, Val Metrics: {'MulticlassAUROC': 0.8329780697822571, 'MulticlassAUPRC': 0.5517950057983398, 'MulticlassAccuracy': 0.7811012268066406}\n"
     ]
    },
    {
     "data": {
      "text/html": [],
      "text/plain": [
       "<IPython.core.display.HTML object>"
      ]
     },
     "metadata": {},
     "output_type": "display_data"
    },
    {
     "data": {
      "text/html": [
       "<br>    <style><br>        .wandb-row {<br>            display: flex;<br>            flex-direction: row;<br>            flex-wrap: wrap;<br>            justify-content: flex-start;<br>            width: 100%;<br>        }<br>        .wandb-col {<br>            display: flex;<br>            flex-direction: column;<br>            flex-basis: 100%;<br>            flex: 1;<br>            padding: 10px;<br>        }<br>    </style><br><div class=\"wandb-row\"><div class=\"wandb-col\"><h3>Run history:</h3><br/><table class=\"wandb\"><tr><td>epoch</td><td>▁▂▃▃▄▅▆▆▇█</td></tr><tr><td>train_accuracy</td><td>▁▆▆▇▇█████</td></tr><tr><td>train_loss</td><td>█▄▃▃▂▂▂▁▁▁</td></tr><tr><td>val_MulticlassAUPRC</td><td>▁▂▃▂▅▇▄▇▆█</td></tr><tr><td>val_MulticlassAUROC</td><td>▁▄▅▃▇▇▆▇█▇</td></tr><tr><td>val_MulticlassAccuracy</td><td>▁▃▃▄▄▇▁▆▅█</td></tr><tr><td>val_loss</td><td>█▇▄▄▄▁▃▂▁▂</td></tr></table><br/></div><div class=\"wandb-col\"><h3>Run summary:</h3><br/><table class=\"wandb\"><tr><td>epoch</td><td>9</td></tr><tr><td>train_accuracy</td><td>0.74228</td></tr><tr><td>train_loss</td><td>705.51217</td></tr><tr><td>val_MulticlassAUPRC</td><td>0.5518</td></tr><tr><td>val_MulticlassAUROC</td><td>0.83298</td></tr><tr><td>val_MulticlassAccuracy</td><td>0.7811</td></tr><tr><td>val_loss</td><td>178.6985</td></tr></table><br/></div></div>"
      ],
      "text/plain": [
       "<IPython.core.display.HTML object>"
      ]
     },
     "metadata": {},
     "output_type": "display_data"
    },
    {
     "data": {
      "text/html": [
       " View run <strong style=\"color:#cdcd00\">mre_1kb_64_0.001</strong> at: <a href='https://wandb.ai/bind-gps/BindGPS/runs/ru4xx79v' target=\"_blank\">https://wandb.ai/bind-gps/BindGPS/runs/ru4xx79v</a><br> View project at: <a href='https://wandb.ai/bind-gps/BindGPS' target=\"_blank\">https://wandb.ai/bind-gps/BindGPS</a><br>Synced 5 W&B file(s), 0 media file(s), 0 artifact file(s) and 0 other file(s)"
      ],
      "text/plain": [
       "<IPython.core.display.HTML object>"
      ]
     },
     "metadata": {},
     "output_type": "display_data"
    },
    {
     "data": {
      "text/html": [
       "Find logs at: <code>./wandb/run-20251002_134015-ru4xx79v/logs</code>"
      ],
      "text/plain": [
       "<IPython.core.display.HTML object>"
      ]
     },
     "metadata": {},
     "output_type": "display_data"
    },
    {
     "name": "stderr",
     "output_type": "stream",
     "text": [
      "\u001b[34m\u001b[1mwandb\u001b[0m: Agent Starting Run: 5f05adnn with config:\n",
      "\u001b[34m\u001b[1mwandb\u001b[0m: \tbatch_size: 128\n",
      "\u001b[34m\u001b[1mwandb\u001b[0m: \tepochs: 10\n",
      "\u001b[34m\u001b[1mwandb\u001b[0m: \thidden_dims: [256, 128]\n",
      "\u001b[34m\u001b[1mwandb\u001b[0m: \tlr: 0.001\n",
      "\u001b[34m\u001b[1mwandb\u001b[0m: \tresolution: 1kb\n",
      "\u001b[34m\u001b[1mwandb\u001b[0m: \tsvd_dim: 64\n",
      "\u001b[34m\u001b[1mwandb\u001b[0m: \ttarget_metric: MulticlassAUROC\n",
      "\u001b[34m\u001b[1mwandb\u001b[0m: \ttask: mre\n",
      "\u001b[34m\u001b[1mwandb\u001b[0m: \tweighted: False\n",
      "\u001b[34m\u001b[1mwandb\u001b[0m: \u001b[32m\u001b[41mERROR\u001b[0m Failed to detect the name of this notebook. You can set it manually with the WANDB_NOTEBOOK_NAME environment variable to enable code saving.\n"
     ]
    },
    {
     "data": {
      "text/html": [],
      "text/plain": [
       "<IPython.core.display.HTML object>"
      ]
     },
     "metadata": {},
     "output_type": "display_data"
    },
    {
     "data": {
      "text/html": [
       "Tracking run with wandb version 0.22.1"
      ],
      "text/plain": [
       "<IPython.core.display.HTML object>"
      ]
     },
     "metadata": {},
     "output_type": "display_data"
    },
    {
     "data": {
      "text/html": [
       "Run data is saved locally in <code>/oscar/data/larschan/shared_data/BindGPS/model/wandb/run-20251002_134056-5f05adnn</code>"
      ],
      "text/plain": [
       "<IPython.core.display.HTML object>"
      ]
     },
     "metadata": {},
     "output_type": "display_data"
    },
    {
     "data": {
      "text/html": [
       "Syncing run <strong><a href='https://wandb.ai/bind-gps/BindGPS/runs/5f05adnn' target=\"_blank\">icy-sweep-2</a></strong> to <a href='https://wandb.ai/bind-gps/BindGPS' target=\"_blank\">Weights & Biases</a> (<a href='https://wandb.me/developer-guide' target=\"_blank\">docs</a>)<br>Sweep page: <a href='https://wandb.ai/bind-gps/BindGPS/sweeps/79ufxypb' target=\"_blank\">https://wandb.ai/bind-gps/BindGPS/sweeps/79ufxypb</a>"
      ],
      "text/plain": [
       "<IPython.core.display.HTML object>"
      ]
     },
     "metadata": {},
     "output_type": "display_data"
    },
    {
     "data": {
      "text/html": [
       " View project at <a href='https://wandb.ai/bind-gps/BindGPS' target=\"_blank\">https://wandb.ai/bind-gps/BindGPS</a>"
      ],
      "text/plain": [
       "<IPython.core.display.HTML object>"
      ]
     },
     "metadata": {},
     "output_type": "display_data"
    },
    {
     "data": {
      "text/html": [
       " View sweep at <a href='https://wandb.ai/bind-gps/BindGPS/sweeps/79ufxypb' target=\"_blank\">https://wandb.ai/bind-gps/BindGPS/sweeps/79ufxypb</a>"
      ],
      "text/plain": [
       "<IPython.core.display.HTML object>"
      ]
     },
     "metadata": {},
     "output_type": "display_data"
    },
    {
     "data": {
      "text/html": [
       " View run at <a href='https://wandb.ai/bind-gps/BindGPS/runs/5f05adnn' target=\"_blank\">https://wandb.ai/bind-gps/BindGPS/runs/5f05adnn</a>"
      ],
      "text/plain": [
       "<IPython.core.display.HTML object>"
      ]
     },
     "metadata": {},
     "output_type": "display_data"
    },
    {
     "name": "stderr",
     "output_type": "stream",
     "text": [
      "\u001b[34m\u001b[1mwandb\u001b[0m: \u001b[33mWARNING\u001b[0m Calling wandb.login() after wandb.init() has no effect.\n"
     ]
    },
    {
     "name": "stdout",
     "output_type": "stream",
     "text": [
      "[Epoch 0] Train Loss: 362.3249, Acc: 0.8663\n",
      "[Epoch 0] Val Loss: 80.0097, Val Metrics: {'MulticlassAUROC': 0.835801899433136, 'MulticlassAUPRC': 0.5768808722496033, 'MulticlassAccuracy': 0.8773033022880554}\n",
      "[Epoch 1] Train Loss: 330.8692, Acc: 0.8758\n",
      "[Epoch 1] Val Loss: 78.4403, Val Metrics: {'MulticlassAUROC': 0.8485271334648132, 'MulticlassAUPRC': 0.5940541625022888, 'MulticlassAccuracy': 0.8804652094841003}\n",
      "[Epoch 2] Train Loss: 324.5810, Acc: 0.8766\n",
      "[Epoch 2] Val Loss: 77.8486, Val Metrics: {'MulticlassAUROC': 0.8485651612281799, 'MulticlassAUPRC': 0.5938132405281067, 'MulticlassAccuracy': 0.880210816860199}\n",
      "[Epoch 3] Train Loss: 322.0413, Acc: 0.8776\n",
      "[Epoch 3] Val Loss: 77.5924, Val Metrics: {'MulticlassAUROC': 0.8504235148429871, 'MulticlassAUPRC': 0.5956338047981262, 'MulticlassAccuracy': 0.88010174036026}\n",
      "[Epoch 4] Train Loss: 319.4710, Acc: 0.8775\n",
      "[Epoch 4] Val Loss: 77.6275, Val Metrics: {'MulticlassAUROC': 0.8507339358329773, 'MulticlassAUPRC': 0.5889707207679749, 'MulticlassAccuracy': 0.8800290822982788}\n",
      "[Epoch 5] Train Loss: 318.4756, Acc: 0.8784\n",
      "[Epoch 5] Val Loss: 77.2367, Val Metrics: {'MulticlassAUROC': 0.8522564768791199, 'MulticlassAUPRC': 0.5969313979148865, 'MulticlassAccuracy': 0.881737232208252}\n",
      "[Epoch 6] Train Loss: 315.9869, Acc: 0.8786\n",
      "[Epoch 6] Val Loss: 77.0349, Val Metrics: {'MulticlassAUROC': 0.8534727096557617, 'MulticlassAUPRC': 0.597545862197876, 'MulticlassAccuracy': 0.8806105852127075}\n",
      "[Epoch 7] Train Loss: 314.8925, Acc: 0.8788\n",
      "[Epoch 7] Val Loss: 77.3528, Val Metrics: {'MulticlassAUROC': 0.854480504989624, 'MulticlassAUPRC': 0.601512610912323, 'MulticlassAccuracy': 0.8817735910415649}\n",
      "[Epoch 8] Train Loss: 313.6613, Acc: 0.8787\n",
      "[Epoch 8] Val Loss: 76.6160, Val Metrics: {'MulticlassAUROC': 0.8549790978431702, 'MulticlassAUPRC': 0.5961061120033264, 'MulticlassAccuracy': 0.8819189667701721}\n",
      "[Epoch 9] Train Loss: 312.7969, Acc: 0.8792\n",
      "[Epoch 9] Val Loss: 76.6295, Val Metrics: {'MulticlassAUROC': 0.8545558452606201, 'MulticlassAUPRC': 0.600976824760437, 'MulticlassAccuracy': 0.8822097182273865}\n"
     ]
    },
    {
     "data": {
      "text/html": [],
      "text/plain": [
       "<IPython.core.display.HTML object>"
      ]
     },
     "metadata": {},
     "output_type": "display_data"
    },
    {
     "data": {
      "text/html": [
       "<br>    <style><br>        .wandb-row {<br>            display: flex;<br>            flex-direction: row;<br>            flex-wrap: wrap;<br>            justify-content: flex-start;<br>            width: 100%;<br>        }<br>        .wandb-col {<br>            display: flex;<br>            flex-direction: column;<br>            flex-basis: 100%;<br>            flex: 1;<br>            padding: 10px;<br>        }<br>    </style><br><div class=\"wandb-row\"><div class=\"wandb-col\"><h3>Run history:</h3><br/><table class=\"wandb\"><tr><td>epoch</td><td>▁▂▃▃▄▅▆▆▇█</td></tr><tr><td>train_accuracy</td><td>▁▆▇▇▇█████</td></tr><tr><td>train_loss</td><td>█▄▃▂▂▂▁▁▁▁</td></tr><tr><td>val_MulticlassAUPRC</td><td>▁▆▆▆▄▇▇█▆█</td></tr><tr><td>val_MulticlassAUROC</td><td>▁▆▆▆▆▇▇███</td></tr><tr><td>val_MulticlassAccuracy</td><td>▁▆▅▅▅▇▆▇██</td></tr><tr><td>val_loss</td><td>█▅▄▃▃▂▂▃▁▁</td></tr></table><br/></div><div class=\"wandb-col\"><h3>Run summary:</h3><br/><table class=\"wandb\"><tr><td>epoch</td><td>9</td></tr><tr><td>train_accuracy</td><td>0.87917</td></tr><tr><td>train_loss</td><td>312.7969</td></tr><tr><td>val_MulticlassAUPRC</td><td>0.60098</td></tr><tr><td>val_MulticlassAUROC</td><td>0.85456</td></tr><tr><td>val_MulticlassAccuracy</td><td>0.88221</td></tr><tr><td>val_loss</td><td>76.62947</td></tr></table><br/></div></div>"
      ],
      "text/plain": [
       "<IPython.core.display.HTML object>"
      ]
     },
     "metadata": {},
     "output_type": "display_data"
    },
    {
     "data": {
      "text/html": [
       " View run <strong style=\"color:#cdcd00\">mre_1kb_64_0.001</strong> at: <a href='https://wandb.ai/bind-gps/BindGPS/runs/5f05adnn' target=\"_blank\">https://wandb.ai/bind-gps/BindGPS/runs/5f05adnn</a><br> View project at: <a href='https://wandb.ai/bind-gps/BindGPS' target=\"_blank\">https://wandb.ai/bind-gps/BindGPS</a><br>Synced 5 W&B file(s), 0 media file(s), 0 artifact file(s) and 0 other file(s)"
      ],
      "text/plain": [
       "<IPython.core.display.HTML object>"
      ]
     },
     "metadata": {},
     "output_type": "display_data"
    },
    {
     "data": {
      "text/html": [
       "Find logs at: <code>./wandb/run-20251002_134056-5f05adnn/logs</code>"
      ],
      "text/plain": [
       "<IPython.core.display.HTML object>"
      ]
     },
     "metadata": {},
     "output_type": "display_data"
    },
    {
     "name": "stderr",
     "output_type": "stream",
     "text": [
      "\u001b[34m\u001b[1mwandb\u001b[0m: Agent Starting Run: euirqo3d with config:\n",
      "\u001b[34m\u001b[1mwandb\u001b[0m: \tbatch_size: 128\n",
      "\u001b[34m\u001b[1mwandb\u001b[0m: \tepochs: 10\n",
      "\u001b[34m\u001b[1mwandb\u001b[0m: \thidden_dims: [256, 128]\n",
      "\u001b[34m\u001b[1mwandb\u001b[0m: \tlr: 0.001\n",
      "\u001b[34m\u001b[1mwandb\u001b[0m: \tresolution: 1kb\n",
      "\u001b[34m\u001b[1mwandb\u001b[0m: \tsvd_dim: 64\n",
      "\u001b[34m\u001b[1mwandb\u001b[0m: \ttarget_metric: MulticlassAUROC\n",
      "\u001b[34m\u001b[1mwandb\u001b[0m: \ttask: gene\n",
      "\u001b[34m\u001b[1mwandb\u001b[0m: \tweighted: True\n",
      "\u001b[34m\u001b[1mwandb\u001b[0m: \u001b[32m\u001b[41mERROR\u001b[0m Failed to detect the name of this notebook. You can set it manually with the WANDB_NOTEBOOK_NAME environment variable to enable code saving.\n"
     ]
    },
    {
     "data": {
      "text/html": [],
      "text/plain": [
       "<IPython.core.display.HTML object>"
      ]
     },
     "metadata": {},
     "output_type": "display_data"
    },
    {
     "data": {
      "text/html": [
       "Tracking run with wandb version 0.22.1"
      ],
      "text/plain": [
       "<IPython.core.display.HTML object>"
      ]
     },
     "metadata": {},
     "output_type": "display_data"
    },
    {
     "data": {
      "text/html": [
       "Run data is saved locally in <code>/oscar/data/larschan/shared_data/BindGPS/model/wandb/run-20251002_134137-euirqo3d</code>"
      ],
      "text/plain": [
       "<IPython.core.display.HTML object>"
      ]
     },
     "metadata": {},
     "output_type": "display_data"
    },
    {
     "data": {
      "text/html": [
       "Syncing run <strong><a href='https://wandb.ai/bind-gps/BindGPS/runs/euirqo3d' target=\"_blank\">mild-sweep-3</a></strong> to <a href='https://wandb.ai/bind-gps/BindGPS' target=\"_blank\">Weights & Biases</a> (<a href='https://wandb.me/developer-guide' target=\"_blank\">docs</a>)<br>Sweep page: <a href='https://wandb.ai/bind-gps/BindGPS/sweeps/79ufxypb' target=\"_blank\">https://wandb.ai/bind-gps/BindGPS/sweeps/79ufxypb</a>"
      ],
      "text/plain": [
       "<IPython.core.display.HTML object>"
      ]
     },
     "metadata": {},
     "output_type": "display_data"
    },
    {
     "data": {
      "text/html": [
       " View project at <a href='https://wandb.ai/bind-gps/BindGPS' target=\"_blank\">https://wandb.ai/bind-gps/BindGPS</a>"
      ],
      "text/plain": [
       "<IPython.core.display.HTML object>"
      ]
     },
     "metadata": {},
     "output_type": "display_data"
    },
    {
     "data": {
      "text/html": [
       " View sweep at <a href='https://wandb.ai/bind-gps/BindGPS/sweeps/79ufxypb' target=\"_blank\">https://wandb.ai/bind-gps/BindGPS/sweeps/79ufxypb</a>"
      ],
      "text/plain": [
       "<IPython.core.display.HTML object>"
      ]
     },
     "metadata": {},
     "output_type": "display_data"
    },
    {
     "data": {
      "text/html": [
       " View run at <a href='https://wandb.ai/bind-gps/BindGPS/runs/euirqo3d' target=\"_blank\">https://wandb.ai/bind-gps/BindGPS/runs/euirqo3d</a>"
      ],
      "text/plain": [
       "<IPython.core.display.HTML object>"
      ]
     },
     "metadata": {},
     "output_type": "display_data"
    },
    {
     "name": "stderr",
     "output_type": "stream",
     "text": [
      "\u001b[34m\u001b[1mwandb\u001b[0m: \u001b[33mWARNING\u001b[0m Calling wandb.login() after wandb.init() has no effect.\n"
     ]
    },
    {
     "name": "stdout",
     "output_type": "stream",
     "text": [
      "[Epoch 0] Train Loss: 875.9735, Acc: 0.4827\n",
      "[Epoch 0] Val Loss: 214.2926, Val Metrics: {'MulticlassAUROC': 0.6931362152099609, 'MulticlassAUPRC': 0.49026814103126526, 'MulticlassAccuracy': 0.5153552889823914}\n",
      "[Epoch 1] Train Loss: 854.4546, Acc: 0.5090\n",
      "[Epoch 1] Val Loss: 210.9245, Val Metrics: {'MulticlassAUROC': 0.6993626952171326, 'MulticlassAUPRC': 0.4974100589752197, 'MulticlassAccuracy': 0.522151529788971}\n",
      "[Epoch 2] Train Loss: 847.4917, Acc: 0.5173\n",
      "[Epoch 2] Val Loss: 211.3448, Val Metrics: {'MulticlassAUROC': 0.707958996295929, 'MulticlassAUPRC': 0.5045908093452454, 'MulticlassAccuracy': 0.5418135523796082}\n",
      "[Epoch 3] Train Loss: 842.9062, Acc: 0.5239\n",
      "[Epoch 3] Val Loss: 210.5324, Val Metrics: {'MulticlassAUROC': 0.7001628875732422, 'MulticlassAUPRC': 0.49791058897972107, 'MulticlassAccuracy': 0.5013265609741211}\n",
      "[Epoch 4] Train Loss: 841.8982, Acc: 0.5251\n",
      "[Epoch 4] Val Loss: 209.7062, Val Metrics: {'MulticlassAUROC': 0.7057744860649109, 'MulticlassAUPRC': 0.5047046542167664, 'MulticlassAccuracy': 0.520625114440918}\n",
      "[Epoch 5] Train Loss: 838.0014, Acc: 0.5282\n",
      "[Epoch 5] Val Loss: 209.3545, Val Metrics: {'MulticlassAUROC': 0.7071499228477478, 'MulticlassAUPRC': 0.504893958568573, 'MulticlassAccuracy': 0.5299291014671326}\n",
      "[Epoch 6] Train Loss: 835.0950, Acc: 0.5303\n",
      "[Epoch 6] Val Loss: 208.4920, Val Metrics: {'MulticlassAUROC': 0.7097769379615784, 'MulticlassAUPRC': 0.5081737637519836, 'MulticlassAccuracy': 0.533563494682312}\n",
      "[Epoch 7] Train Loss: 833.7827, Acc: 0.5337\n",
      "[Epoch 7] Val Loss: 209.3368, Val Metrics: {'MulticlassAUROC': 0.7053577303886414, 'MulticlassAUPRC': 0.504291296005249, 'MulticlassAccuracy': 0.5244048833847046}\n",
      "[Epoch 8] Train Loss: 831.2474, Acc: 0.5337\n",
      "[Epoch 8] Val Loss: 209.6215, Val Metrics: {'MulticlassAUROC': 0.7045034766197205, 'MulticlassAUPRC': 0.5046642422676086, 'MulticlassAccuracy': 0.5268762707710266}\n",
      "[Epoch 9] Train Loss: 830.6918, Acc: 0.5347\n",
      "[Epoch 9] Val Loss: 208.9751, Val Metrics: {'MulticlassAUROC': 0.7077109217643738, 'MulticlassAUPRC': 0.5066255927085876, 'MulticlassAccuracy': 0.524622917175293}\n"
     ]
    },
    {
     "data": {
      "text/html": [],
      "text/plain": [
       "<IPython.core.display.HTML object>"
      ]
     },
     "metadata": {},
     "output_type": "display_data"
    },
    {
     "data": {
      "text/html": [
       "<br>    <style><br>        .wandb-row {<br>            display: flex;<br>            flex-direction: row;<br>            flex-wrap: wrap;<br>            justify-content: flex-start;<br>            width: 100%;<br>        }<br>        .wandb-col {<br>            display: flex;<br>            flex-direction: column;<br>            flex-basis: 100%;<br>            flex: 1;<br>            padding: 10px;<br>        }<br>    </style><br><div class=\"wandb-row\"><div class=\"wandb-col\"><h3>Run history:</h3><br/><table class=\"wandb\"><tr><td>epoch</td><td>▁▂▃▃▄▅▆▆▇█</td></tr><tr><td>train_accuracy</td><td>▁▅▆▇▇▇▇███</td></tr><tr><td>train_loss</td><td>█▅▄▃▃▂▂▁▁▁</td></tr><tr><td>val_MulticlassAUPRC</td><td>▁▄▇▄▇▇█▆▇▇</td></tr><tr><td>val_MulticlassAUROC</td><td>▁▄▇▄▆▇█▆▆▇</td></tr><tr><td>val_MulticlassAccuracy</td><td>▃▅█▁▄▆▇▅▅▅</td></tr><tr><td>val_loss</td><td>█▄▄▃▂▂▁▂▂▂</td></tr></table><br/></div><div class=\"wandb-col\"><h3>Run summary:</h3><br/><table class=\"wandb\"><tr><td>epoch</td><td>9</td></tr><tr><td>train_accuracy</td><td>0.5347</td></tr><tr><td>train_loss</td><td>830.69176</td></tr><tr><td>val_MulticlassAUPRC</td><td>0.50663</td></tr><tr><td>val_MulticlassAUROC</td><td>0.70771</td></tr><tr><td>val_MulticlassAccuracy</td><td>0.52462</td></tr><tr><td>val_loss</td><td>208.97513</td></tr></table><br/></div></div>"
      ],
      "text/plain": [
       "<IPython.core.display.HTML object>"
      ]
     },
     "metadata": {},
     "output_type": "display_data"
    },
    {
     "data": {
      "text/html": [
       " View run <strong style=\"color:#cdcd00\">gene_1kb_64_0.001</strong> at: <a href='https://wandb.ai/bind-gps/BindGPS/runs/euirqo3d' target=\"_blank\">https://wandb.ai/bind-gps/BindGPS/runs/euirqo3d</a><br> View project at: <a href='https://wandb.ai/bind-gps/BindGPS' target=\"_blank\">https://wandb.ai/bind-gps/BindGPS</a><br>Synced 5 W&B file(s), 0 media file(s), 0 artifact file(s) and 0 other file(s)"
      ],
      "text/plain": [
       "<IPython.core.display.HTML object>"
      ]
     },
     "metadata": {},
     "output_type": "display_data"
    },
    {
     "data": {
      "text/html": [
       "Find logs at: <code>./wandb/run-20251002_134137-euirqo3d/logs</code>"
      ],
      "text/plain": [
       "<IPython.core.display.HTML object>"
      ]
     },
     "metadata": {},
     "output_type": "display_data"
    },
    {
     "name": "stderr",
     "output_type": "stream",
     "text": [
      "\u001b[34m\u001b[1mwandb\u001b[0m: Agent Starting Run: j07mcdsn with config:\n",
      "\u001b[34m\u001b[1mwandb\u001b[0m: \tbatch_size: 128\n",
      "\u001b[34m\u001b[1mwandb\u001b[0m: \tepochs: 10\n",
      "\u001b[34m\u001b[1mwandb\u001b[0m: \thidden_dims: [256, 128]\n",
      "\u001b[34m\u001b[1mwandb\u001b[0m: \tlr: 0.001\n",
      "\u001b[34m\u001b[1mwandb\u001b[0m: \tresolution: 1kb\n",
      "\u001b[34m\u001b[1mwandb\u001b[0m: \tsvd_dim: 64\n",
      "\u001b[34m\u001b[1mwandb\u001b[0m: \ttarget_metric: MulticlassAUROC\n",
      "\u001b[34m\u001b[1mwandb\u001b[0m: \ttask: gene\n",
      "\u001b[34m\u001b[1mwandb\u001b[0m: \tweighted: False\n",
      "\u001b[34m\u001b[1mwandb\u001b[0m: \u001b[32m\u001b[41mERROR\u001b[0m Failed to detect the name of this notebook. You can set it manually with the WANDB_NOTEBOOK_NAME environment variable to enable code saving.\n"
     ]
    },
    {
     "data": {
      "text/html": [],
      "text/plain": [
       "<IPython.core.display.HTML object>"
      ]
     },
     "metadata": {},
     "output_type": "display_data"
    },
    {
     "data": {
      "text/html": [
       "Tracking run with wandb version 0.22.1"
      ],
      "text/plain": [
       "<IPython.core.display.HTML object>"
      ]
     },
     "metadata": {},
     "output_type": "display_data"
    },
    {
     "data": {
      "text/html": [
       "Run data is saved locally in <code>/oscar/data/larschan/shared_data/BindGPS/model/wandb/run-20251002_134218-j07mcdsn</code>"
      ],
      "text/plain": [
       "<IPython.core.display.HTML object>"
      ]
     },
     "metadata": {},
     "output_type": "display_data"
    },
    {
     "data": {
      "text/html": [
       "Syncing run <strong><a href='https://wandb.ai/bind-gps/BindGPS/runs/j07mcdsn' target=\"_blank\">dauntless-sweep-4</a></strong> to <a href='https://wandb.ai/bind-gps/BindGPS' target=\"_blank\">Weights & Biases</a> (<a href='https://wandb.me/developer-guide' target=\"_blank\">docs</a>)<br>Sweep page: <a href='https://wandb.ai/bind-gps/BindGPS/sweeps/79ufxypb' target=\"_blank\">https://wandb.ai/bind-gps/BindGPS/sweeps/79ufxypb</a>"
      ],
      "text/plain": [
       "<IPython.core.display.HTML object>"
      ]
     },
     "metadata": {},
     "output_type": "display_data"
    },
    {
     "data": {
      "text/html": [
       " View project at <a href='https://wandb.ai/bind-gps/BindGPS' target=\"_blank\">https://wandb.ai/bind-gps/BindGPS</a>"
      ],
      "text/plain": [
       "<IPython.core.display.HTML object>"
      ]
     },
     "metadata": {},
     "output_type": "display_data"
    },
    {
     "data": {
      "text/html": [
       " View sweep at <a href='https://wandb.ai/bind-gps/BindGPS/sweeps/79ufxypb' target=\"_blank\">https://wandb.ai/bind-gps/BindGPS/sweeps/79ufxypb</a>"
      ],
      "text/plain": [
       "<IPython.core.display.HTML object>"
      ]
     },
     "metadata": {},
     "output_type": "display_data"
    },
    {
     "data": {
      "text/html": [
       " View run at <a href='https://wandb.ai/bind-gps/BindGPS/runs/j07mcdsn' target=\"_blank\">https://wandb.ai/bind-gps/BindGPS/runs/j07mcdsn</a>"
      ],
      "text/plain": [
       "<IPython.core.display.HTML object>"
      ]
     },
     "metadata": {},
     "output_type": "display_data"
    },
    {
     "name": "stderr",
     "output_type": "stream",
     "text": [
      "\u001b[34m\u001b[1mwandb\u001b[0m: \u001b[33mWARNING\u001b[0m Calling wandb.login() after wandb.init() has no effect.\n"
     ]
    },
    {
     "name": "stdout",
     "output_type": "stream",
     "text": [
      "[Epoch 0] Train Loss: 734.9659, Acc: 0.6056\n",
      "[Epoch 0] Val Loss: 177.1009, Val Metrics: {'MulticlassAUROC': 0.7016996741294861, 'MulticlassAUPRC': 0.49632740020751953, 'MulticlassAccuracy': 0.6239506006240845}\n",
      "[Epoch 1] Train Loss: 715.4982, Acc: 0.6177\n",
      "[Epoch 1] Val Loss: 174.6695, Val Metrics: {'MulticlassAUROC': 0.7077987194061279, 'MulticlassAUPRC': 0.5032081007957458, 'MulticlassAccuracy': 0.6279120445251465}\n",
      "[Epoch 2] Train Loss: 709.3299, Acc: 0.6220\n",
      "[Epoch 2] Val Loss: 175.0399, Val Metrics: {'MulticlassAUROC': 0.7128937840461731, 'MulticlassAUPRC': 0.5099625587463379, 'MulticlassAccuracy': 0.6314374208450317}\n",
      "[Epoch 3] Train Loss: 706.1528, Acc: 0.6233\n",
      "[Epoch 3] Val Loss: 174.2329, Val Metrics: {'MulticlassAUROC': 0.7132799625396729, 'MulticlassAUPRC': 0.5093074440956116, 'MulticlassAccuracy': 0.6309285759925842}\n",
      "[Epoch 4] Train Loss: 703.3409, Acc: 0.6262\n",
      "[Epoch 4] Val Loss: 173.1072, Val Metrics: {'MulticlassAUROC': 0.7168447375297546, 'MulticlassAUPRC': 0.5136473178863525, 'MulticlassAccuracy': 0.6328548192977905}\n",
      "[Epoch 5] Train Loss: 700.4136, Acc: 0.6282\n",
      "[Epoch 5] Val Loss: 172.5784, Val Metrics: {'MulticlassAUROC': 0.7185578942298889, 'MulticlassAUPRC': 0.5153103470802307, 'MulticlassAccuracy': 0.6363438367843628}\n",
      "[Epoch 6] Train Loss: 699.6618, Acc: 0.6285\n",
      "[Epoch 6] Val Loss: 173.3323, Val Metrics: {'MulticlassAUROC': 0.7189952731132507, 'MulticlassAUPRC': 0.5164631009101868, 'MulticlassAccuracy': 0.6330365538597107}\n",
      "[Epoch 7] Train Loss: 697.2493, Acc: 0.6307\n",
      "[Epoch 7] Val Loss: 172.3141, Val Metrics: {'MulticlassAUROC': 0.719957172870636, 'MulticlassAUPRC': 0.5166250467300415, 'MulticlassAccuracy': 0.6362347602844238}\n",
      "[Epoch 8] Train Loss: 696.1695, Acc: 0.6305\n",
      "[Epoch 8] Val Loss: 172.6539, Val Metrics: {'MulticlassAUROC': 0.719578742980957, 'MulticlassAUPRC': 0.5176553130149841, 'MulticlassAccuracy': 0.6338724493980408}\n",
      "[Epoch 9] Train Loss: 695.3813, Acc: 0.6317\n",
      "[Epoch 9] Val Loss: 172.0987, Val Metrics: {'MulticlassAUROC': 0.720684826374054, 'MulticlassAUPRC': 0.5189054608345032, 'MulticlassAccuracy': 0.6354352235794067}\n"
     ]
    },
    {
     "data": {
      "text/html": [],
      "text/plain": [
       "<IPython.core.display.HTML object>"
      ]
     },
     "metadata": {},
     "output_type": "display_data"
    },
    {
     "data": {
      "text/html": [
       "<br>    <style><br>        .wandb-row {<br>            display: flex;<br>            flex-direction: row;<br>            flex-wrap: wrap;<br>            justify-content: flex-start;<br>            width: 100%;<br>        }<br>        .wandb-col {<br>            display: flex;<br>            flex-direction: column;<br>            flex-basis: 100%;<br>            flex: 1;<br>            padding: 10px;<br>        }<br>    </style><br><div class=\"wandb-row\"><div class=\"wandb-col\"><h3>Run history:</h3><br/><table class=\"wandb\"><tr><td>epoch</td><td>▁▂▃▃▄▅▆▆▇█</td></tr><tr><td>train_accuracy</td><td>▁▄▅▆▇▇▇███</td></tr><tr><td>train_loss</td><td>█▅▃▃▂▂▂▁▁▁</td></tr><tr><td>val_MulticlassAUPRC</td><td>▁▃▅▅▆▇▇▇██</td></tr><tr><td>val_MulticlassAUROC</td><td>▁▃▅▅▇▇▇███</td></tr><tr><td>val_MulticlassAccuracy</td><td>▁▃▅▅▆█▆█▇▇</td></tr><tr><td>val_loss</td><td>█▅▅▄▂▂▃▁▂▁</td></tr></table><br/></div><div class=\"wandb-col\"><h3>Run summary:</h3><br/><table class=\"wandb\"><tr><td>epoch</td><td>9</td></tr><tr><td>train_accuracy</td><td>0.63172</td></tr><tr><td>train_loss</td><td>695.38127</td></tr><tr><td>val_MulticlassAUPRC</td><td>0.51891</td></tr><tr><td>val_MulticlassAUROC</td><td>0.72068</td></tr><tr><td>val_MulticlassAccuracy</td><td>0.63544</td></tr><tr><td>val_loss</td><td>172.09867</td></tr></table><br/></div></div>"
      ],
      "text/plain": [
       "<IPython.core.display.HTML object>"
      ]
     },
     "metadata": {},
     "output_type": "display_data"
    },
    {
     "data": {
      "text/html": [
       " View run <strong style=\"color:#cdcd00\">gene_1kb_64_0.001</strong> at: <a href='https://wandb.ai/bind-gps/BindGPS/runs/j07mcdsn' target=\"_blank\">https://wandb.ai/bind-gps/BindGPS/runs/j07mcdsn</a><br> View project at: <a href='https://wandb.ai/bind-gps/BindGPS' target=\"_blank\">https://wandb.ai/bind-gps/BindGPS</a><br>Synced 5 W&B file(s), 0 media file(s), 0 artifact file(s) and 0 other file(s)"
      ],
      "text/plain": [
       "<IPython.core.display.HTML object>"
      ]
     },
     "metadata": {},
     "output_type": "display_data"
    },
    {
     "data": {
      "text/html": [
       "Find logs at: <code>./wandb/run-20251002_134218-j07mcdsn/logs</code>"
      ],
      "text/plain": [
       "<IPython.core.display.HTML object>"
      ]
     },
     "metadata": {},
     "output_type": "display_data"
    },
    {
     "name": "stderr",
     "output_type": "stream",
     "text": [
      "\u001b[34m\u001b[1mwandb\u001b[0m: Agent Starting Run: 0f0ir6x4 with config:\n",
      "\u001b[34m\u001b[1mwandb\u001b[0m: \tbatch_size: 128\n",
      "\u001b[34m\u001b[1mwandb\u001b[0m: \tepochs: 10\n",
      "\u001b[34m\u001b[1mwandb\u001b[0m: \thidden_dims: [256, 128]\n",
      "\u001b[34m\u001b[1mwandb\u001b[0m: \tlr: 0.001\n",
      "\u001b[34m\u001b[1mwandb\u001b[0m: \tresolution: 1kb\n",
      "\u001b[34m\u001b[1mwandb\u001b[0m: \tsvd_dim: 64\n",
      "\u001b[34m\u001b[1mwandb\u001b[0m: \ttarget_metric: MulticlassAccuracy\n",
      "\u001b[34m\u001b[1mwandb\u001b[0m: \ttask: mre\n",
      "\u001b[34m\u001b[1mwandb\u001b[0m: \tweighted: True\n",
      "\u001b[34m\u001b[1mwandb\u001b[0m: \u001b[32m\u001b[41mERROR\u001b[0m Failed to detect the name of this notebook. You can set it manually with the WANDB_NOTEBOOK_NAME environment variable to enable code saving.\n"
     ]
    },
    {
     "data": {
      "text/html": [],
      "text/plain": [
       "<IPython.core.display.HTML object>"
      ]
     },
     "metadata": {},
     "output_type": "display_data"
    },
    {
     "data": {
      "text/html": [
       "Tracking run with wandb version 0.22.1"
      ],
      "text/plain": [
       "<IPython.core.display.HTML object>"
      ]
     },
     "metadata": {},
     "output_type": "display_data"
    },
    {
     "data": {
      "text/html": [
       "Run data is saved locally in <code>/oscar/data/larschan/shared_data/BindGPS/model/wandb/run-20251002_134258-0f0ir6x4</code>"
      ],
      "text/plain": [
       "<IPython.core.display.HTML object>"
      ]
     },
     "metadata": {},
     "output_type": "display_data"
    },
    {
     "data": {
      "text/html": [
       "Syncing run <strong><a href='https://wandb.ai/bind-gps/BindGPS/runs/0f0ir6x4' target=\"_blank\">morning-sweep-5</a></strong> to <a href='https://wandb.ai/bind-gps/BindGPS' target=\"_blank\">Weights & Biases</a> (<a href='https://wandb.me/developer-guide' target=\"_blank\">docs</a>)<br>Sweep page: <a href='https://wandb.ai/bind-gps/BindGPS/sweeps/79ufxypb' target=\"_blank\">https://wandb.ai/bind-gps/BindGPS/sweeps/79ufxypb</a>"
      ],
      "text/plain": [
       "<IPython.core.display.HTML object>"
      ]
     },
     "metadata": {},
     "output_type": "display_data"
    },
    {
     "data": {
      "text/html": [
       " View project at <a href='https://wandb.ai/bind-gps/BindGPS' target=\"_blank\">https://wandb.ai/bind-gps/BindGPS</a>"
      ],
      "text/plain": [
       "<IPython.core.display.HTML object>"
      ]
     },
     "metadata": {},
     "output_type": "display_data"
    },
    {
     "data": {
      "text/html": [
       " View sweep at <a href='https://wandb.ai/bind-gps/BindGPS/sweeps/79ufxypb' target=\"_blank\">https://wandb.ai/bind-gps/BindGPS/sweeps/79ufxypb</a>"
      ],
      "text/plain": [
       "<IPython.core.display.HTML object>"
      ]
     },
     "metadata": {},
     "output_type": "display_data"
    },
    {
     "data": {
      "text/html": [
       " View run at <a href='https://wandb.ai/bind-gps/BindGPS/runs/0f0ir6x4' target=\"_blank\">https://wandb.ai/bind-gps/BindGPS/runs/0f0ir6x4</a>"
      ],
      "text/plain": [
       "<IPython.core.display.HTML object>"
      ]
     },
     "metadata": {},
     "output_type": "display_data"
    },
    {
     "name": "stderr",
     "output_type": "stream",
     "text": [
      "\u001b[34m\u001b[1mwandb\u001b[0m: \u001b[33mWARNING\u001b[0m Calling wandb.login() after wandb.init() has no effect.\n"
     ]
    },
    {
     "name": "stdout",
     "output_type": "stream",
     "text": [
      "[Epoch 0] Train Loss: 801.9599, Acc: 0.6673\n",
      "[Epoch 0] Val Loss: 188.0431, Val Metrics: {'MulticlassAUROC': 0.8049185276031494, 'MulticlassAUPRC': 0.5115776062011719, 'MulticlassAccuracy': 0.7362166047096252}\n",
      "[Epoch 1] Train Loss: 748.3261, Acc: 0.7226\n",
      "[Epoch 1] Val Loss: 185.1023, Val Metrics: {'MulticlassAUROC': 0.8099302649497986, 'MulticlassAUPRC': 0.5167470574378967, 'MulticlassAccuracy': 0.7278575301170349}\n",
      "[Epoch 2] Train Loss: 736.6166, Acc: 0.7278\n",
      "[Epoch 2] Val Loss: 182.8915, Val Metrics: {'MulticlassAUROC': 0.8176674842834473, 'MulticlassAUPRC': 0.5244784355163574, 'MulticlassAccuracy': 0.7394512295722961}\n",
      "[Epoch 3] Train Loss: 727.4334, Acc: 0.7314\n",
      "[Epoch 3] Val Loss: 182.8090, Val Metrics: {'MulticlassAUROC': 0.8162290453910828, 'MulticlassAUPRC': 0.5175235867500305, 'MulticlassAccuracy': 0.7201163172721863}\n",
      "[Epoch 4] Train Loss: 721.4501, Acc: 0.7354\n",
      "[Epoch 4] Val Loss: 182.7202, Val Metrics: {'MulticlassAUROC': 0.8253603577613831, 'MulticlassAUPRC': 0.5371976494789124, 'MulticlassAccuracy': 0.7644920945167542}\n",
      "[Epoch 5] Train Loss: 716.6161, Acc: 0.7374\n",
      "[Epoch 5] Val Loss: 182.2610, Val Metrics: {'MulticlassAUROC': 0.8239498138427734, 'MulticlassAUPRC': 0.5333512425422668, 'MulticlassAccuracy': 0.7726694345474243}\n",
      "[Epoch 6] Train Loss: 715.4119, Acc: 0.7396\n",
      "[Epoch 6] Val Loss: 183.9178, Val Metrics: {'MulticlassAUROC': 0.8231201171875, 'MulticlassAUPRC': 0.5310624837875366, 'MulticlassAccuracy': 0.7490823268890381}\n",
      "[Epoch 7] Train Loss: 707.8434, Acc: 0.7398\n",
      "[Epoch 7] Val Loss: 182.3329, Val Metrics: {'MulticlassAUROC': 0.8289070129394531, 'MulticlassAUPRC': 0.5446324348449707, 'MulticlassAccuracy': 0.7782300710678101}\n",
      "[Epoch 8] Train Loss: 705.9219, Acc: 0.7432\n",
      "[Epoch 8] Val Loss: 182.8013, Val Metrics: {'MulticlassAUROC': 0.8166513442993164, 'MulticlassAUPRC': 0.5174997448921204, 'MulticlassAccuracy': 0.7204433679580688}\n",
      "[Epoch 9] Train Loss: 702.5209, Acc: 0.7410\n",
      "[Epoch 9] Val Loss: 181.7145, Val Metrics: {'MulticlassAUROC': 0.8201488852500916, 'MulticlassAUPRC': 0.5223779082298279, 'MulticlassAccuracy': 0.733636200428009}\n"
     ]
    },
    {
     "data": {
      "text/html": [],
      "text/plain": [
       "<IPython.core.display.HTML object>"
      ]
     },
     "metadata": {},
     "output_type": "display_data"
    },
    {
     "data": {
      "text/html": [
       "<br>    <style><br>        .wandb-row {<br>            display: flex;<br>            flex-direction: row;<br>            flex-wrap: wrap;<br>            justify-content: flex-start;<br>            width: 100%;<br>        }<br>        .wandb-col {<br>            display: flex;<br>            flex-direction: column;<br>            flex-basis: 100%;<br>            flex: 1;<br>            padding: 10px;<br>        }<br>    </style><br><div class=\"wandb-row\"><div class=\"wandb-col\"><h3>Run history:</h3><br/><table class=\"wandb\"><tr><td>epoch</td><td>▁▂▃▃▄▅▆▆▇█</td></tr><tr><td>train_accuracy</td><td>▁▆▇▇▇▇████</td></tr><tr><td>train_loss</td><td>█▄▃▃▂▂▂▁▁▁</td></tr><tr><td>val_MulticlassAUPRC</td><td>▁▂▄▂▆▆▅█▂▃</td></tr><tr><td>val_MulticlassAUROC</td><td>▁▂▅▄▇▇▆█▄▅</td></tr><tr><td>val_MulticlassAccuracy</td><td>▃▂▃▁▆▇▄█▁▃</td></tr><tr><td>val_loss</td><td>█▅▂▂▂▂▃▂▂▁</td></tr></table><br/></div><div class=\"wandb-col\"><h3>Run summary:</h3><br/><table class=\"wandb\"><tr><td>epoch</td><td>9</td></tr><tr><td>train_accuracy</td><td>0.74101</td></tr><tr><td>train_loss</td><td>702.52085</td></tr><tr><td>val_MulticlassAUPRC</td><td>0.52238</td></tr><tr><td>val_MulticlassAUROC</td><td>0.82015</td></tr><tr><td>val_MulticlassAccuracy</td><td>0.73364</td></tr><tr><td>val_loss</td><td>181.71452</td></tr></table><br/></div></div>"
      ],
      "text/plain": [
       "<IPython.core.display.HTML object>"
      ]
     },
     "metadata": {},
     "output_type": "display_data"
    },
    {
     "data": {
      "text/html": [
       " View run <strong style=\"color:#cdcd00\">mre_1kb_64_0.001</strong> at: <a href='https://wandb.ai/bind-gps/BindGPS/runs/0f0ir6x4' target=\"_blank\">https://wandb.ai/bind-gps/BindGPS/runs/0f0ir6x4</a><br> View project at: <a href='https://wandb.ai/bind-gps/BindGPS' target=\"_blank\">https://wandb.ai/bind-gps/BindGPS</a><br>Synced 5 W&B file(s), 0 media file(s), 0 artifact file(s) and 0 other file(s)"
      ],
      "text/plain": [
       "<IPython.core.display.HTML object>"
      ]
     },
     "metadata": {},
     "output_type": "display_data"
    },
    {
     "data": {
      "text/html": [
       "Find logs at: <code>./wandb/run-20251002_134258-0f0ir6x4/logs</code>"
      ],
      "text/plain": [
       "<IPython.core.display.HTML object>"
      ]
     },
     "metadata": {},
     "output_type": "display_data"
    },
    {
     "name": "stderr",
     "output_type": "stream",
     "text": [
      "\u001b[34m\u001b[1mwandb\u001b[0m: Agent Starting Run: ab3gtvps with config:\n",
      "\u001b[34m\u001b[1mwandb\u001b[0m: \tbatch_size: 128\n",
      "\u001b[34m\u001b[1mwandb\u001b[0m: \tepochs: 10\n",
      "\u001b[34m\u001b[1mwandb\u001b[0m: \thidden_dims: [256, 128]\n",
      "\u001b[34m\u001b[1mwandb\u001b[0m: \tlr: 0.001\n",
      "\u001b[34m\u001b[1mwandb\u001b[0m: \tresolution: 1kb\n",
      "\u001b[34m\u001b[1mwandb\u001b[0m: \tsvd_dim: 64\n",
      "\u001b[34m\u001b[1mwandb\u001b[0m: \ttarget_metric: MulticlassAccuracy\n",
      "\u001b[34m\u001b[1mwandb\u001b[0m: \ttask: mre\n",
      "\u001b[34m\u001b[1mwandb\u001b[0m: \tweighted: False\n",
      "\u001b[34m\u001b[1mwandb\u001b[0m: \u001b[32m\u001b[41mERROR\u001b[0m Failed to detect the name of this notebook. You can set it manually with the WANDB_NOTEBOOK_NAME environment variable to enable code saving.\n"
     ]
    },
    {
     "data": {
      "text/html": [],
      "text/plain": [
       "<IPython.core.display.HTML object>"
      ]
     },
     "metadata": {},
     "output_type": "display_data"
    },
    {
     "data": {
      "text/html": [
       "Tracking run with wandb version 0.22.1"
      ],
      "text/plain": [
       "<IPython.core.display.HTML object>"
      ]
     },
     "metadata": {},
     "output_type": "display_data"
    },
    {
     "data": {
      "text/html": [
       "Run data is saved locally in <code>/oscar/data/larschan/shared_data/BindGPS/model/wandb/run-20251002_134339-ab3gtvps</code>"
      ],
      "text/plain": [
       "<IPython.core.display.HTML object>"
      ]
     },
     "metadata": {},
     "output_type": "display_data"
    },
    {
     "data": {
      "text/html": [
       "Syncing run <strong><a href='https://wandb.ai/bind-gps/BindGPS/runs/ab3gtvps' target=\"_blank\">exalted-sweep-6</a></strong> to <a href='https://wandb.ai/bind-gps/BindGPS' target=\"_blank\">Weights & Biases</a> (<a href='https://wandb.me/developer-guide' target=\"_blank\">docs</a>)<br>Sweep page: <a href='https://wandb.ai/bind-gps/BindGPS/sweeps/79ufxypb' target=\"_blank\">https://wandb.ai/bind-gps/BindGPS/sweeps/79ufxypb</a>"
      ],
      "text/plain": [
       "<IPython.core.display.HTML object>"
      ]
     },
     "metadata": {},
     "output_type": "display_data"
    },
    {
     "data": {
      "text/html": [
       " View project at <a href='https://wandb.ai/bind-gps/BindGPS' target=\"_blank\">https://wandb.ai/bind-gps/BindGPS</a>"
      ],
      "text/plain": [
       "<IPython.core.display.HTML object>"
      ]
     },
     "metadata": {},
     "output_type": "display_data"
    },
    {
     "data": {
      "text/html": [
       " View sweep at <a href='https://wandb.ai/bind-gps/BindGPS/sweeps/79ufxypb' target=\"_blank\">https://wandb.ai/bind-gps/BindGPS/sweeps/79ufxypb</a>"
      ],
      "text/plain": [
       "<IPython.core.display.HTML object>"
      ]
     },
     "metadata": {},
     "output_type": "display_data"
    },
    {
     "data": {
      "text/html": [
       " View run at <a href='https://wandb.ai/bind-gps/BindGPS/runs/ab3gtvps' target=\"_blank\">https://wandb.ai/bind-gps/BindGPS/runs/ab3gtvps</a>"
      ],
      "text/plain": [
       "<IPython.core.display.HTML object>"
      ]
     },
     "metadata": {},
     "output_type": "display_data"
    },
    {
     "name": "stderr",
     "output_type": "stream",
     "text": [
      "\u001b[34m\u001b[1mwandb\u001b[0m: \u001b[33mWARNING\u001b[0m Calling wandb.login() after wandb.init() has no effect.\n"
     ]
    },
    {
     "name": "stdout",
     "output_type": "stream",
     "text": [
      "[Epoch 0] Train Loss: 364.8389, Acc: 0.8660\n",
      "[Epoch 0] Val Loss: 82.0449, Val Metrics: {'MulticlassAUROC': 0.8307266235351562, 'MulticlassAUPRC': 0.5746976733207703, 'MulticlassAccuracy': 0.8759585618972778}\n",
      "[Epoch 1] Train Loss: 330.5639, Acc: 0.8754\n",
      "[Epoch 1] Val Loss: 79.6297, Val Metrics: {'MulticlassAUROC': 0.8389028906822205, 'MulticlassAUPRC': 0.5724698901176453, 'MulticlassAccuracy': 0.8783209323883057}\n",
      "[Epoch 2] Train Loss: 323.5077, Acc: 0.8774\n",
      "[Epoch 2] Val Loss: 78.9396, Val Metrics: {'MulticlassAUROC': 0.8458693623542786, 'MulticlassAUPRC': 0.5827562212944031, 'MulticlassAccuracy': 0.8775940537452698}\n",
      "[Epoch 3] Train Loss: 320.5747, Acc: 0.8777\n",
      "[Epoch 3] Val Loss: 78.2186, Val Metrics: {'MulticlassAUROC': 0.8481809496879578, 'MulticlassAUPRC': 0.588489294052124, 'MulticlassAccuracy': 0.8793022036552429}\n",
      "[Epoch 4] Train Loss: 317.8125, Acc: 0.8786\n",
      "[Epoch 4] Val Loss: 78.6578, Val Metrics: {'MulticlassAUROC': 0.8451233506202698, 'MulticlassAUPRC': 0.5887157320976257, 'MulticlassAccuracy': 0.8789024353027344}\n",
      "[Epoch 5] Train Loss: 317.2785, Acc: 0.8784\n",
      "[Epoch 5] Val Loss: 78.5707, Val Metrics: {'MulticlassAUROC': 0.847039520740509, 'MulticlassAUPRC': 0.5853821635246277, 'MulticlassAccuracy': 0.8798109889030457}\n",
      "[Epoch 6] Train Loss: 315.7363, Acc: 0.8791\n",
      "[Epoch 6] Val Loss: 77.6529, Val Metrics: {'MulticlassAUROC': 0.850213348865509, 'MulticlassAUPRC': 0.5940588116645813, 'MulticlassAccuracy': 0.880138099193573}\n",
      "[Epoch 7] Train Loss: 313.8118, Acc: 0.8793\n",
      "[Epoch 7] Val Loss: 78.0600, Val Metrics: {'MulticlassAUROC': 0.8478792309761047, 'MulticlassAUPRC': 0.5880231261253357, 'MulticlassAccuracy': 0.8799927234649658}\n",
      "[Epoch 8] Train Loss: 313.0809, Acc: 0.8793\n",
      "[Epoch 8] Val Loss: 77.6234, Val Metrics: {'MulticlassAUROC': 0.8521117568016052, 'MulticlassAUPRC': 0.591781497001648, 'MulticlassAccuracy': 0.8798473477363586}\n",
      "[Epoch 9] Train Loss: 310.9995, Acc: 0.8793\n",
      "[Epoch 9] Val Loss: 77.4875, Val Metrics: {'MulticlassAUROC': 0.8499799370765686, 'MulticlassAUPRC': 0.5956401824951172, 'MulticlassAccuracy': 0.8809013366699219}\n"
     ]
    },
    {
     "data": {
      "text/html": [],
      "text/plain": [
       "<IPython.core.display.HTML object>"
      ]
     },
     "metadata": {},
     "output_type": "display_data"
    },
    {
     "data": {
      "text/html": [
       "<br>    <style><br>        .wandb-row {<br>            display: flex;<br>            flex-direction: row;<br>            flex-wrap: wrap;<br>            justify-content: flex-start;<br>            width: 100%;<br>        }<br>        .wandb-col {<br>            display: flex;<br>            flex-direction: column;<br>            flex-basis: 100%;<br>            flex: 1;<br>            padding: 10px;<br>        }<br>    </style><br><div class=\"wandb-row\"><div class=\"wandb-col\"><h3>Run history:</h3><br/><table class=\"wandb\"><tr><td>epoch</td><td>▁▂▃▃▄▅▆▆▇█</td></tr><tr><td>train_accuracy</td><td>▁▆▇▇██████</td></tr><tr><td>train_loss</td><td>█▄▃▂▂▂▂▁▁▁</td></tr><tr><td>val_MulticlassAUPRC</td><td>▂▁▄▆▆▅█▆▇█</td></tr><tr><td>val_MulticlassAUROC</td><td>▁▄▆▇▆▆▇▇█▇</td></tr><tr><td>val_MulticlassAccuracy</td><td>▁▄▃▆▅▆▇▇▇█</td></tr><tr><td>val_loss</td><td>█▄▃▂▃▃▁▂▁▁</td></tr></table><br/></div><div class=\"wandb-col\"><h3>Run summary:</h3><br/><table class=\"wandb\"><tr><td>epoch</td><td>9</td></tr><tr><td>train_accuracy</td><td>0.87931</td></tr><tr><td>train_loss</td><td>310.99953</td></tr><tr><td>val_MulticlassAUPRC</td><td>0.59564</td></tr><tr><td>val_MulticlassAUROC</td><td>0.84998</td></tr><tr><td>val_MulticlassAccuracy</td><td>0.8809</td></tr><tr><td>val_loss</td><td>77.4875</td></tr></table><br/></div></div>"
      ],
      "text/plain": [
       "<IPython.core.display.HTML object>"
      ]
     },
     "metadata": {},
     "output_type": "display_data"
    },
    {
     "data": {
      "text/html": [
       " View run <strong style=\"color:#cdcd00\">mre_1kb_64_0.001</strong> at: <a href='https://wandb.ai/bind-gps/BindGPS/runs/ab3gtvps' target=\"_blank\">https://wandb.ai/bind-gps/BindGPS/runs/ab3gtvps</a><br> View project at: <a href='https://wandb.ai/bind-gps/BindGPS' target=\"_blank\">https://wandb.ai/bind-gps/BindGPS</a><br>Synced 5 W&B file(s), 0 media file(s), 0 artifact file(s) and 0 other file(s)"
      ],
      "text/plain": [
       "<IPython.core.display.HTML object>"
      ]
     },
     "metadata": {},
     "output_type": "display_data"
    },
    {
     "data": {
      "text/html": [
       "Find logs at: <code>./wandb/run-20251002_134339-ab3gtvps/logs</code>"
      ],
      "text/plain": [
       "<IPython.core.display.HTML object>"
      ]
     },
     "metadata": {},
     "output_type": "display_data"
    },
    {
     "name": "stderr",
     "output_type": "stream",
     "text": [
      "\u001b[34m\u001b[1mwandb\u001b[0m: Agent Starting Run: g9hvqkq1 with config:\n",
      "\u001b[34m\u001b[1mwandb\u001b[0m: \tbatch_size: 128\n",
      "\u001b[34m\u001b[1mwandb\u001b[0m: \tepochs: 10\n",
      "\u001b[34m\u001b[1mwandb\u001b[0m: \thidden_dims: [256, 128]\n",
      "\u001b[34m\u001b[1mwandb\u001b[0m: \tlr: 0.001\n",
      "\u001b[34m\u001b[1mwandb\u001b[0m: \tresolution: 1kb\n",
      "\u001b[34m\u001b[1mwandb\u001b[0m: \tsvd_dim: 64\n",
      "\u001b[34m\u001b[1mwandb\u001b[0m: \ttarget_metric: MulticlassAccuracy\n",
      "\u001b[34m\u001b[1mwandb\u001b[0m: \ttask: gene\n",
      "\u001b[34m\u001b[1mwandb\u001b[0m: \tweighted: True\n",
      "\u001b[34m\u001b[1mwandb\u001b[0m: \u001b[32m\u001b[41mERROR\u001b[0m Failed to detect the name of this notebook. You can set it manually with the WANDB_NOTEBOOK_NAME environment variable to enable code saving.\n"
     ]
    },
    {
     "data": {
      "text/html": [],
      "text/plain": [
       "<IPython.core.display.HTML object>"
      ]
     },
     "metadata": {},
     "output_type": "display_data"
    },
    {
     "data": {
      "text/html": [
       "Tracking run with wandb version 0.22.1"
      ],
      "text/plain": [
       "<IPython.core.display.HTML object>"
      ]
     },
     "metadata": {},
     "output_type": "display_data"
    },
    {
     "data": {
      "text/html": [
       "Run data is saved locally in <code>/oscar/data/larschan/shared_data/BindGPS/model/wandb/run-20251002_134420-g9hvqkq1</code>"
      ],
      "text/plain": [
       "<IPython.core.display.HTML object>"
      ]
     },
     "metadata": {},
     "output_type": "display_data"
    },
    {
     "data": {
      "text/html": [
       "Syncing run <strong><a href='https://wandb.ai/bind-gps/BindGPS/runs/g9hvqkq1' target=\"_blank\">serene-sweep-7</a></strong> to <a href='https://wandb.ai/bind-gps/BindGPS' target=\"_blank\">Weights & Biases</a> (<a href='https://wandb.me/developer-guide' target=\"_blank\">docs</a>)<br>Sweep page: <a href='https://wandb.ai/bind-gps/BindGPS/sweeps/79ufxypb' target=\"_blank\">https://wandb.ai/bind-gps/BindGPS/sweeps/79ufxypb</a>"
      ],
      "text/plain": [
       "<IPython.core.display.HTML object>"
      ]
     },
     "metadata": {},
     "output_type": "display_data"
    },
    {
     "data": {
      "text/html": [
       " View project at <a href='https://wandb.ai/bind-gps/BindGPS' target=\"_blank\">https://wandb.ai/bind-gps/BindGPS</a>"
      ],
      "text/plain": [
       "<IPython.core.display.HTML object>"
      ]
     },
     "metadata": {},
     "output_type": "display_data"
    },
    {
     "data": {
      "text/html": [
       " View sweep at <a href='https://wandb.ai/bind-gps/BindGPS/sweeps/79ufxypb' target=\"_blank\">https://wandb.ai/bind-gps/BindGPS/sweeps/79ufxypb</a>"
      ],
      "text/plain": [
       "<IPython.core.display.HTML object>"
      ]
     },
     "metadata": {},
     "output_type": "display_data"
    },
    {
     "data": {
      "text/html": [
       " View run at <a href='https://wandb.ai/bind-gps/BindGPS/runs/g9hvqkq1' target=\"_blank\">https://wandb.ai/bind-gps/BindGPS/runs/g9hvqkq1</a>"
      ],
      "text/plain": [
       "<IPython.core.display.HTML object>"
      ]
     },
     "metadata": {},
     "output_type": "display_data"
    },
    {
     "name": "stderr",
     "output_type": "stream",
     "text": [
      "\u001b[34m\u001b[1mwandb\u001b[0m: \u001b[33mWARNING\u001b[0m Calling wandb.login() after wandb.init() has no effect.\n"
     ]
    },
    {
     "name": "stdout",
     "output_type": "stream",
     "text": [
      "[Epoch 0] Train Loss: 879.6873, Acc: 0.4849\n",
      "[Epoch 0] Val Loss: 213.5753, Val Metrics: {'MulticlassAUROC': 0.6906442642211914, 'MulticlassAUPRC': 0.486690878868103, 'MulticlassAccuracy': 0.47853899002075195}\n",
      "[Epoch 1] Train Loss: 856.8607, Acc: 0.5070\n",
      "[Epoch 1] Val Loss: 209.5714, Val Metrics: {'MulticlassAUROC': 0.7019184231758118, 'MulticlassAUPRC': 0.5012338757514954, 'MulticlassAccuracy': 0.5284390449523926}\n",
      "[Epoch 2] Train Loss: 849.4658, Acc: 0.5184\n",
      "[Epoch 2] Val Loss: 208.7697, Val Metrics: {'MulticlassAUROC': 0.7032758593559265, 'MulticlassAUPRC': 0.5033524036407471, 'MulticlassAccuracy': 0.5305106043815613}\n",
      "[Epoch 3] Train Loss: 845.5906, Acc: 0.5226\n",
      "[Epoch 3] Val Loss: 208.7722, Val Metrics: {'MulticlassAUROC': 0.7096572518348694, 'MulticlassAUPRC': 0.5073565244674683, 'MulticlassAccuracy': 0.5124114155769348}\n",
      "[Epoch 4] Train Loss: 842.8491, Acc: 0.5275\n",
      "[Epoch 4] Val Loss: 212.6211, Val Metrics: {'MulticlassAUROC': 0.6983478665351868, 'MulticlassAUPRC': 0.4973917305469513, 'MulticlassAccuracy': 0.4749772846698761}\n",
      "[Epoch 5] Train Loss: 839.3382, Acc: 0.5278\n",
      "[Epoch 5] Val Loss: 208.1243, Val Metrics: {'MulticlassAUROC': 0.709151566028595, 'MulticlassAUPRC': 0.5080464482307434, 'MulticlassAccuracy': 0.5397419333457947}\n",
      "[Epoch 6] Train Loss: 837.8270, Acc: 0.5292\n",
      "[Epoch 6] Val Loss: 208.1139, Val Metrics: {'MulticlassAUROC': 0.7112979292869568, 'MulticlassAUPRC': 0.5095333456993103, 'MulticlassAccuracy': 0.5444666743278503}\n",
      "[Epoch 7] Train Loss: 835.7068, Acc: 0.5333\n",
      "[Epoch 7] Val Loss: 208.5411, Val Metrics: {'MulticlassAUROC': 0.7118156552314758, 'MulticlassAUPRC': 0.509234607219696, 'MulticlassAccuracy': 0.5194984674453735}\n",
      "[Epoch 8] Train Loss: 833.3670, Acc: 0.5340\n",
      "[Epoch 8] Val Loss: 207.7651, Val Metrics: {'MulticlassAUROC': 0.7146932482719421, 'MulticlassAUPRC': 0.5151850581169128, 'MulticlassAccuracy': 0.553080141544342}\n",
      "[Epoch 9] Train Loss: 832.7449, Acc: 0.5356\n",
      "[Epoch 9] Val Loss: 206.6954, Val Metrics: {'MulticlassAUROC': 0.7163875699043274, 'MulticlassAUPRC': 0.5156252980232239, 'MulticlassAccuracy': 0.5414501428604126}\n"
     ]
    },
    {
     "data": {
      "text/html": [],
      "text/plain": [
       "<IPython.core.display.HTML object>"
      ]
     },
     "metadata": {},
     "output_type": "display_data"
    },
    {
     "data": {
      "text/html": [
       "<br>    <style><br>        .wandb-row {<br>            display: flex;<br>            flex-direction: row;<br>            flex-wrap: wrap;<br>            justify-content: flex-start;<br>            width: 100%;<br>        }<br>        .wandb-col {<br>            display: flex;<br>            flex-direction: column;<br>            flex-basis: 100%;<br>            flex: 1;<br>            padding: 10px;<br>        }<br>    </style><br><div class=\"wandb-row\"><div class=\"wandb-col\"><h3>Run history:</h3><br/><table class=\"wandb\"><tr><td>epoch</td><td>▁▂▃▃▄▅▆▆▇█</td></tr><tr><td>train_accuracy</td><td>▁▄▆▆▇▇▇███</td></tr><tr><td>train_loss</td><td>█▅▃▃▃▂▂▁▁▁</td></tr><tr><td>val_MulticlassAUPRC</td><td>▁▅▅▆▄▆▇▆██</td></tr><tr><td>val_MulticlassAUROC</td><td>▁▄▄▆▃▆▇▇██</td></tr><tr><td>val_MulticlassAccuracy</td><td>▁▆▆▄▁▇▇▅█▇</td></tr><tr><td>val_loss</td><td>█▄▃▃▇▂▂▃▂▁</td></tr></table><br/></div><div class=\"wandb-col\"><h3>Run summary:</h3><br/><table class=\"wandb\"><tr><td>epoch</td><td>9</td></tr><tr><td>train_accuracy</td><td>0.53565</td></tr><tr><td>train_loss</td><td>832.7449</td></tr><tr><td>val_MulticlassAUPRC</td><td>0.51563</td></tr><tr><td>val_MulticlassAUROC</td><td>0.71639</td></tr><tr><td>val_MulticlassAccuracy</td><td>0.54145</td></tr><tr><td>val_loss</td><td>206.69537</td></tr></table><br/></div></div>"
      ],
      "text/plain": [
       "<IPython.core.display.HTML object>"
      ]
     },
     "metadata": {},
     "output_type": "display_data"
    },
    {
     "data": {
      "text/html": [
       " View run <strong style=\"color:#cdcd00\">gene_1kb_64_0.001</strong> at: <a href='https://wandb.ai/bind-gps/BindGPS/runs/g9hvqkq1' target=\"_blank\">https://wandb.ai/bind-gps/BindGPS/runs/g9hvqkq1</a><br> View project at: <a href='https://wandb.ai/bind-gps/BindGPS' target=\"_blank\">https://wandb.ai/bind-gps/BindGPS</a><br>Synced 5 W&B file(s), 0 media file(s), 0 artifact file(s) and 0 other file(s)"
      ],
      "text/plain": [
       "<IPython.core.display.HTML object>"
      ]
     },
     "metadata": {},
     "output_type": "display_data"
    },
    {
     "data": {
      "text/html": [
       "Find logs at: <code>./wandb/run-20251002_134420-g9hvqkq1/logs</code>"
      ],
      "text/plain": [
       "<IPython.core.display.HTML object>"
      ]
     },
     "metadata": {},
     "output_type": "display_data"
    },
    {
     "name": "stderr",
     "output_type": "stream",
     "text": [
      "\u001b[34m\u001b[1mwandb\u001b[0m: Agent Starting Run: rnzvu4fn with config:\n",
      "\u001b[34m\u001b[1mwandb\u001b[0m: \tbatch_size: 128\n",
      "\u001b[34m\u001b[1mwandb\u001b[0m: \tepochs: 10\n",
      "\u001b[34m\u001b[1mwandb\u001b[0m: \thidden_dims: [256, 128]\n",
      "\u001b[34m\u001b[1mwandb\u001b[0m: \tlr: 0.001\n",
      "\u001b[34m\u001b[1mwandb\u001b[0m: \tresolution: 1kb\n",
      "\u001b[34m\u001b[1mwandb\u001b[0m: \tsvd_dim: 64\n",
      "\u001b[34m\u001b[1mwandb\u001b[0m: \ttarget_metric: MulticlassAccuracy\n",
      "\u001b[34m\u001b[1mwandb\u001b[0m: \ttask: gene\n",
      "\u001b[34m\u001b[1mwandb\u001b[0m: \tweighted: False\n",
      "\u001b[34m\u001b[1mwandb\u001b[0m: \u001b[32m\u001b[41mERROR\u001b[0m Failed to detect the name of this notebook. You can set it manually with the WANDB_NOTEBOOK_NAME environment variable to enable code saving.\n"
     ]
    },
    {
     "data": {
      "text/html": [],
      "text/plain": [
       "<IPython.core.display.HTML object>"
      ]
     },
     "metadata": {},
     "output_type": "display_data"
    },
    {
     "data": {
      "text/html": [
       "Tracking run with wandb version 0.22.1"
      ],
      "text/plain": [
       "<IPython.core.display.HTML object>"
      ]
     },
     "metadata": {},
     "output_type": "display_data"
    },
    {
     "data": {
      "text/html": [
       "Run data is saved locally in <code>/oscar/data/larschan/shared_data/BindGPS/model/wandb/run-20251002_134501-rnzvu4fn</code>"
      ],
      "text/plain": [
       "<IPython.core.display.HTML object>"
      ]
     },
     "metadata": {},
     "output_type": "display_data"
    },
    {
     "data": {
      "text/html": [
       "Syncing run <strong><a href='https://wandb.ai/bind-gps/BindGPS/runs/rnzvu4fn' target=\"_blank\">woven-sweep-8</a></strong> to <a href='https://wandb.ai/bind-gps/BindGPS' target=\"_blank\">Weights & Biases</a> (<a href='https://wandb.me/developer-guide' target=\"_blank\">docs</a>)<br>Sweep page: <a href='https://wandb.ai/bind-gps/BindGPS/sweeps/79ufxypb' target=\"_blank\">https://wandb.ai/bind-gps/BindGPS/sweeps/79ufxypb</a>"
      ],
      "text/plain": [
       "<IPython.core.display.HTML object>"
      ]
     },
     "metadata": {},
     "output_type": "display_data"
    },
    {
     "data": {
      "text/html": [
       " View project at <a href='https://wandb.ai/bind-gps/BindGPS' target=\"_blank\">https://wandb.ai/bind-gps/BindGPS</a>"
      ],
      "text/plain": [
       "<IPython.core.display.HTML object>"
      ]
     },
     "metadata": {},
     "output_type": "display_data"
    },
    {
     "data": {
      "text/html": [
       " View sweep at <a href='https://wandb.ai/bind-gps/BindGPS/sweeps/79ufxypb' target=\"_blank\">https://wandb.ai/bind-gps/BindGPS/sweeps/79ufxypb</a>"
      ],
      "text/plain": [
       "<IPython.core.display.HTML object>"
      ]
     },
     "metadata": {},
     "output_type": "display_data"
    },
    {
     "data": {
      "text/html": [
       " View run at <a href='https://wandb.ai/bind-gps/BindGPS/runs/rnzvu4fn' target=\"_blank\">https://wandb.ai/bind-gps/BindGPS/runs/rnzvu4fn</a>"
      ],
      "text/plain": [
       "<IPython.core.display.HTML object>"
      ]
     },
     "metadata": {},
     "output_type": "display_data"
    },
    {
     "name": "stderr",
     "output_type": "stream",
     "text": [
      "\u001b[34m\u001b[1mwandb\u001b[0m: \u001b[33mWARNING\u001b[0m Calling wandb.login() after wandb.init() has no effect.\n"
     ]
    },
    {
     "name": "stdout",
     "output_type": "stream",
     "text": [
      "[Epoch 0] Train Loss: 734.3520, Acc: 0.6058\n",
      "[Epoch 0] Val Loss: 178.1684, Val Metrics: {'MulticlassAUROC': 0.6971855163574219, 'MulticlassAUPRC': 0.4922693967819214, 'MulticlassAccuracy': 0.6214428544044495}\n",
      "[Epoch 1] Train Loss: 712.2487, Acc: 0.6198\n",
      "[Epoch 1] Val Loss: 176.3777, Val Metrics: {'MulticlassAUROC': 0.7060985565185547, 'MulticlassAUPRC': 0.5021876096725464, 'MulticlassAccuracy': 0.6235871315002441}\n",
      "[Epoch 2] Train Loss: 706.2963, Acc: 0.6218\n",
      "[Epoch 2] Val Loss: 175.6924, Val Metrics: {'MulticlassAUROC': 0.7098556160926819, 'MulticlassAUPRC': 0.5079068541526794, 'MulticlassAccuracy': 0.625913143157959}\n",
      "[Epoch 3] Train Loss: 703.4229, Acc: 0.6252\n",
      "[Epoch 3] Val Loss: 175.8329, Val Metrics: {'MulticlassAUROC': 0.7120780944824219, 'MulticlassAUPRC': 0.5092626214027405, 'MulticlassAccuracy': 0.627475917339325}\n",
      "[Epoch 4] Train Loss: 700.7544, Acc: 0.6272\n",
      "[Epoch 4] Val Loss: 175.1714, Val Metrics: {'MulticlassAUROC': 0.7135831713676453, 'MulticlassAUPRC': 0.512195885181427, 'MulticlassAccuracy': 0.6289660334587097}\n",
      "[Epoch 5] Train Loss: 698.0796, Acc: 0.6299\n",
      "[Epoch 5] Val Loss: 174.4457, Val Metrics: {'MulticlassAUROC': 0.7141650319099426, 'MulticlassAUPRC': 0.5126968026161194, 'MulticlassAccuracy': 0.6322005987167358}\n",
      "[Epoch 6] Train Loss: 696.5760, Acc: 0.6299\n",
      "[Epoch 6] Val Loss: 175.4237, Val Metrics: {'MulticlassAUROC': 0.7119355797767639, 'MulticlassAUPRC': 0.5116152763366699, 'MulticlassAccuracy': 0.6271125078201294}\n",
      "[Epoch 7] Train Loss: 695.9406, Acc: 0.6289\n",
      "[Epoch 7] Val Loss: 173.9719, Val Metrics: {'MulticlassAUROC': 0.7178997993469238, 'MulticlassAUPRC': 0.5169801115989685, 'MulticlassAccuracy': 0.6322005987167358}\n",
      "[Epoch 8] Train Loss: 694.9052, Acc: 0.6313\n",
      "[Epoch 8] Val Loss: 174.6765, Val Metrics: {'MulticlassAUROC': 0.7154714465141296, 'MulticlassAUPRC': 0.5156686902046204, 'MulticlassAccuracy': 0.629947304725647}\n",
      "[Epoch 9] Train Loss: 693.7347, Acc: 0.6319\n",
      "[Epoch 9] Val Loss: 173.7795, Val Metrics: {'MulticlassAUROC': 0.716963529586792, 'MulticlassAUPRC': 0.5168124437332153, 'MulticlassAccuracy': 0.633327305316925}\n"
     ]
    },
    {
     "data": {
      "text/html": [],
      "text/plain": [
       "<IPython.core.display.HTML object>"
      ]
     },
     "metadata": {},
     "output_type": "display_data"
    },
    {
     "data": {
      "text/html": [
       "<br>    <style><br>        .wandb-row {<br>            display: flex;<br>            flex-direction: row;<br>            flex-wrap: wrap;<br>            justify-content: flex-start;<br>            width: 100%;<br>        }<br>        .wandb-col {<br>            display: flex;<br>            flex-direction: column;<br>            flex-basis: 100%;<br>            flex: 1;<br>            padding: 10px;<br>        }<br>    </style><br><div class=\"wandb-row\"><div class=\"wandb-col\"><h3>Run history:</h3><br/><table class=\"wandb\"><tr><td>epoch</td><td>▁▂▃▃▄▅▆▆▇█</td></tr><tr><td>train_accuracy</td><td>▁▅▅▆▇▇▇▇██</td></tr><tr><td>train_loss</td><td>█▄▃▃▂▂▁▁▁▁</td></tr><tr><td>val_MulticlassAUPRC</td><td>▁▄▅▆▇▇▆███</td></tr><tr><td>val_MulticlassAUROC</td><td>▁▄▅▆▇▇▆█▇█</td></tr><tr><td>val_MulticlassAccuracy</td><td>▁▂▄▅▅▇▄▇▆█</td></tr><tr><td>val_loss</td><td>█▅▄▄▃▂▄▁▂▁</td></tr></table><br/></div><div class=\"wandb-col\"><h3>Run summary:</h3><br/><table class=\"wandb\"><tr><td>epoch</td><td>9</td></tr><tr><td>train_accuracy</td><td>0.63187</td></tr><tr><td>train_loss</td><td>693.73474</td></tr><tr><td>val_MulticlassAUPRC</td><td>0.51681</td></tr><tr><td>val_MulticlassAUROC</td><td>0.71696</td></tr><tr><td>val_MulticlassAccuracy</td><td>0.63333</td></tr><tr><td>val_loss</td><td>173.7795</td></tr></table><br/></div></div>"
      ],
      "text/plain": [
       "<IPython.core.display.HTML object>"
      ]
     },
     "metadata": {},
     "output_type": "display_data"
    },
    {
     "data": {
      "text/html": [
       " View run <strong style=\"color:#cdcd00\">gene_1kb_64_0.001</strong> at: <a href='https://wandb.ai/bind-gps/BindGPS/runs/rnzvu4fn' target=\"_blank\">https://wandb.ai/bind-gps/BindGPS/runs/rnzvu4fn</a><br> View project at: <a href='https://wandb.ai/bind-gps/BindGPS' target=\"_blank\">https://wandb.ai/bind-gps/BindGPS</a><br>Synced 5 W&B file(s), 0 media file(s), 0 artifact file(s) and 0 other file(s)"
      ],
      "text/plain": [
       "<IPython.core.display.HTML object>"
      ]
     },
     "metadata": {},
     "output_type": "display_data"
    },
    {
     "data": {
      "text/html": [
       "Find logs at: <code>./wandb/run-20251002_134501-rnzvu4fn/logs</code>"
      ],
      "text/plain": [
       "<IPython.core.display.HTML object>"
      ]
     },
     "metadata": {},
     "output_type": "display_data"
    },
    {
     "name": "stderr",
     "output_type": "stream",
     "text": [
      "\u001b[34m\u001b[1mwandb\u001b[0m: Agent Starting Run: 3vbfbowy with config:\n",
      "\u001b[34m\u001b[1mwandb\u001b[0m: \tbatch_size: 128\n",
      "\u001b[34m\u001b[1mwandb\u001b[0m: \tepochs: 10\n",
      "\u001b[34m\u001b[1mwandb\u001b[0m: \thidden_dims: [256, 128]\n",
      "\u001b[34m\u001b[1mwandb\u001b[0m: \tlr: 0.001\n",
      "\u001b[34m\u001b[1mwandb\u001b[0m: \tresolution: 1kb\n",
      "\u001b[34m\u001b[1mwandb\u001b[0m: \tsvd_dim: 64\n",
      "\u001b[34m\u001b[1mwandb\u001b[0m: \ttarget_metric: MulticlassAUPRC\n",
      "\u001b[34m\u001b[1mwandb\u001b[0m: \ttask: mre\n",
      "\u001b[34m\u001b[1mwandb\u001b[0m: \tweighted: True\n",
      "\u001b[34m\u001b[1mwandb\u001b[0m: \u001b[32m\u001b[41mERROR\u001b[0m Failed to detect the name of this notebook. You can set it manually with the WANDB_NOTEBOOK_NAME environment variable to enable code saving.\n"
     ]
    },
    {
     "data": {
      "text/html": [],
      "text/plain": [
       "<IPython.core.display.HTML object>"
      ]
     },
     "metadata": {},
     "output_type": "display_data"
    },
    {
     "data": {
      "text/html": [
       "Tracking run with wandb version 0.22.1"
      ],
      "text/plain": [
       "<IPython.core.display.HTML object>"
      ]
     },
     "metadata": {},
     "output_type": "display_data"
    },
    {
     "data": {
      "text/html": [
       "Run data is saved locally in <code>/oscar/data/larschan/shared_data/BindGPS/model/wandb/run-20251002_134541-3vbfbowy</code>"
      ],
      "text/plain": [
       "<IPython.core.display.HTML object>"
      ]
     },
     "metadata": {},
     "output_type": "display_data"
    },
    {
     "data": {
      "text/html": [
       "Syncing run <strong><a href='https://wandb.ai/bind-gps/BindGPS/runs/3vbfbowy' target=\"_blank\">elated-sweep-9</a></strong> to <a href='https://wandb.ai/bind-gps/BindGPS' target=\"_blank\">Weights & Biases</a> (<a href='https://wandb.me/developer-guide' target=\"_blank\">docs</a>)<br>Sweep page: <a href='https://wandb.ai/bind-gps/BindGPS/sweeps/79ufxypb' target=\"_blank\">https://wandb.ai/bind-gps/BindGPS/sweeps/79ufxypb</a>"
      ],
      "text/plain": [
       "<IPython.core.display.HTML object>"
      ]
     },
     "metadata": {},
     "output_type": "display_data"
    },
    {
     "data": {
      "text/html": [
       " View project at <a href='https://wandb.ai/bind-gps/BindGPS' target=\"_blank\">https://wandb.ai/bind-gps/BindGPS</a>"
      ],
      "text/plain": [
       "<IPython.core.display.HTML object>"
      ]
     },
     "metadata": {},
     "output_type": "display_data"
    },
    {
     "data": {
      "text/html": [
       " View sweep at <a href='https://wandb.ai/bind-gps/BindGPS/sweeps/79ufxypb' target=\"_blank\">https://wandb.ai/bind-gps/BindGPS/sweeps/79ufxypb</a>"
      ],
      "text/plain": [
       "<IPython.core.display.HTML object>"
      ]
     },
     "metadata": {},
     "output_type": "display_data"
    },
    {
     "data": {
      "text/html": [
       " View run at <a href='https://wandb.ai/bind-gps/BindGPS/runs/3vbfbowy' target=\"_blank\">https://wandb.ai/bind-gps/BindGPS/runs/3vbfbowy</a>"
      ],
      "text/plain": [
       "<IPython.core.display.HTML object>"
      ]
     },
     "metadata": {},
     "output_type": "display_data"
    },
    {
     "name": "stderr",
     "output_type": "stream",
     "text": [
      "\u001b[34m\u001b[1mwandb\u001b[0m: \u001b[33mWARNING\u001b[0m Calling wandb.login() after wandb.init() has no effect.\n"
     ]
    },
    {
     "name": "stdout",
     "output_type": "stream",
     "text": [
      "[Epoch 0] Train Loss: 798.2414, Acc: 0.6731\n",
      "[Epoch 0] Val Loss: 188.0035, Val Metrics: {'MulticlassAUROC': 0.8147558569908142, 'MulticlassAUPRC': 0.5358275175094604, 'MulticlassAccuracy': 0.7719062566757202}\n",
      "[Epoch 1] Train Loss: 749.9675, Acc: 0.7223\n",
      "[Epoch 1] Val Loss: 185.7411, Val Metrics: {'MulticlassAUROC': 0.8035652041435242, 'MulticlassAUPRC': 0.506351113319397, 'MulticlassAccuracy': 0.6805378794670105}\n",
      "[Epoch 2] Train Loss: 736.8183, Acc: 0.7300\n",
      "[Epoch 2] Val Loss: 183.2637, Val Metrics: {'MulticlassAUROC': 0.8209885954856873, 'MulticlassAUPRC': 0.5357779860496521, 'MulticlassAccuracy': 0.769216775894165}\n",
      "[Epoch 3] Train Loss: 726.4442, Acc: 0.7341\n",
      "[Epoch 3] Val Loss: 182.1843, Val Metrics: {'MulticlassAUROC': 0.8182010650634766, 'MulticlassAUPRC': 0.518043577671051, 'MulticlassAccuracy': 0.7279665470123291}\n",
      "[Epoch 4] Train Loss: 721.9208, Acc: 0.7384\n",
      "[Epoch 4] Val Loss: 182.7636, Val Metrics: {'MulticlassAUROC': 0.818669319152832, 'MulticlassAUPRC': 0.5212518572807312, 'MulticlassAccuracy': 0.7212066054344177}\n",
      "[Epoch 5] Train Loss: 717.8616, Acc: 0.7396\n",
      "[Epoch 5] Val Loss: 182.8604, Val Metrics: {'MulticlassAUROC': 0.814470112323761, 'MulticlassAUPRC': 0.5197939276695251, 'MulticlassAccuracy': 0.7235689759254456}\n",
      "Early Stopping at epoch 6\n"
     ]
    },
    {
     "data": {
      "text/html": [],
      "text/plain": [
       "<IPython.core.display.HTML object>"
      ]
     },
     "metadata": {},
     "output_type": "display_data"
    },
    {
     "data": {
      "text/html": [
       "<br>    <style><br>        .wandb-row {<br>            display: flex;<br>            flex-direction: row;<br>            flex-wrap: wrap;<br>            justify-content: flex-start;<br>            width: 100%;<br>        }<br>        .wandb-col {<br>            display: flex;<br>            flex-direction: column;<br>            flex-basis: 100%;<br>            flex: 1;<br>            padding: 10px;<br>        }<br>    </style><br><div class=\"wandb-row\"><div class=\"wandb-col\"><h3>Run history:</h3><br/><table class=\"wandb\"><tr><td>epoch</td><td>▁▂▄▅▇█</td></tr><tr><td>train_accuracy</td><td>▁▆▇▇██</td></tr><tr><td>train_loss</td><td>█▄▃▂▁▁</td></tr><tr><td>val_MulticlassAUPRC</td><td>█▁█▄▅▄</td></tr><tr><td>val_MulticlassAUROC</td><td>▅▁█▇▇▅</td></tr><tr><td>val_MulticlassAccuracy</td><td>█▁█▅▄▄</td></tr><tr><td>val_loss</td><td>█▅▂▁▂▂</td></tr></table><br/></div><div class=\"wandb-col\"><h3>Run summary:</h3><br/><table class=\"wandb\"><tr><td>epoch</td><td>5</td></tr><tr><td>train_accuracy</td><td>0.73962</td></tr><tr><td>train_loss</td><td>717.86155</td></tr><tr><td>val_MulticlassAUPRC</td><td>0.51979</td></tr><tr><td>val_MulticlassAUROC</td><td>0.81447</td></tr><tr><td>val_MulticlassAccuracy</td><td>0.72357</td></tr><tr><td>val_loss</td><td>182.86037</td></tr></table><br/></div></div>"
      ],
      "text/plain": [
       "<IPython.core.display.HTML object>"
      ]
     },
     "metadata": {},
     "output_type": "display_data"
    },
    {
     "data": {
      "text/html": [
       " View run <strong style=\"color:#cdcd00\">mre_1kb_64_0.001</strong> at: <a href='https://wandb.ai/bind-gps/BindGPS/runs/3vbfbowy' target=\"_blank\">https://wandb.ai/bind-gps/BindGPS/runs/3vbfbowy</a><br> View project at: <a href='https://wandb.ai/bind-gps/BindGPS' target=\"_blank\">https://wandb.ai/bind-gps/BindGPS</a><br>Synced 5 W&B file(s), 0 media file(s), 0 artifact file(s) and 0 other file(s)"
      ],
      "text/plain": [
       "<IPython.core.display.HTML object>"
      ]
     },
     "metadata": {},
     "output_type": "display_data"
    },
    {
     "data": {
      "text/html": [
       "Find logs at: <code>./wandb/run-20251002_134541-3vbfbowy/logs</code>"
      ],
      "text/plain": [
       "<IPython.core.display.HTML object>"
      ]
     },
     "metadata": {},
     "output_type": "display_data"
    },
    {
     "name": "stderr",
     "output_type": "stream",
     "text": [
      "\u001b[34m\u001b[1mwandb\u001b[0m: Agent Starting Run: uc0cwowb with config:\n",
      "\u001b[34m\u001b[1mwandb\u001b[0m: \tbatch_size: 128\n",
      "\u001b[34m\u001b[1mwandb\u001b[0m: \tepochs: 10\n",
      "\u001b[34m\u001b[1mwandb\u001b[0m: \thidden_dims: [256, 128]\n",
      "\u001b[34m\u001b[1mwandb\u001b[0m: \tlr: 0.001\n",
      "\u001b[34m\u001b[1mwandb\u001b[0m: \tresolution: 1kb\n",
      "\u001b[34m\u001b[1mwandb\u001b[0m: \tsvd_dim: 64\n",
      "\u001b[34m\u001b[1mwandb\u001b[0m: \ttarget_metric: MulticlassAUPRC\n",
      "\u001b[34m\u001b[1mwandb\u001b[0m: \ttask: mre\n",
      "\u001b[34m\u001b[1mwandb\u001b[0m: \tweighted: False\n",
      "\u001b[34m\u001b[1mwandb\u001b[0m: \u001b[32m\u001b[41mERROR\u001b[0m Failed to detect the name of this notebook. You can set it manually with the WANDB_NOTEBOOK_NAME environment variable to enable code saving.\n"
     ]
    },
    {
     "data": {
      "text/html": [],
      "text/plain": [
       "<IPython.core.display.HTML object>"
      ]
     },
     "metadata": {},
     "output_type": "display_data"
    },
    {
     "data": {
      "text/html": [
       "Tracking run with wandb version 0.22.1"
      ],
      "text/plain": [
       "<IPython.core.display.HTML object>"
      ]
     },
     "metadata": {},
     "output_type": "display_data"
    },
    {
     "data": {
      "text/html": [
       "Run data is saved locally in <code>/oscar/data/larschan/shared_data/BindGPS/model/wandb/run-20251002_134607-uc0cwowb</code>"
      ],
      "text/plain": [
       "<IPython.core.display.HTML object>"
      ]
     },
     "metadata": {},
     "output_type": "display_data"
    },
    {
     "data": {
      "text/html": [
       "Syncing run <strong><a href='https://wandb.ai/bind-gps/BindGPS/runs/uc0cwowb' target=\"_blank\">worldly-sweep-10</a></strong> to <a href='https://wandb.ai/bind-gps/BindGPS' target=\"_blank\">Weights & Biases</a> (<a href='https://wandb.me/developer-guide' target=\"_blank\">docs</a>)<br>Sweep page: <a href='https://wandb.ai/bind-gps/BindGPS/sweeps/79ufxypb' target=\"_blank\">https://wandb.ai/bind-gps/BindGPS/sweeps/79ufxypb</a>"
      ],
      "text/plain": [
       "<IPython.core.display.HTML object>"
      ]
     },
     "metadata": {},
     "output_type": "display_data"
    },
    {
     "data": {
      "text/html": [
       " View project at <a href='https://wandb.ai/bind-gps/BindGPS' target=\"_blank\">https://wandb.ai/bind-gps/BindGPS</a>"
      ],
      "text/plain": [
       "<IPython.core.display.HTML object>"
      ]
     },
     "metadata": {},
     "output_type": "display_data"
    },
    {
     "data": {
      "text/html": [
       " View sweep at <a href='https://wandb.ai/bind-gps/BindGPS/sweeps/79ufxypb' target=\"_blank\">https://wandb.ai/bind-gps/BindGPS/sweeps/79ufxypb</a>"
      ],
      "text/plain": [
       "<IPython.core.display.HTML object>"
      ]
     },
     "metadata": {},
     "output_type": "display_data"
    },
    {
     "data": {
      "text/html": [
       " View run at <a href='https://wandb.ai/bind-gps/BindGPS/runs/uc0cwowb' target=\"_blank\">https://wandb.ai/bind-gps/BindGPS/runs/uc0cwowb</a>"
      ],
      "text/plain": [
       "<IPython.core.display.HTML object>"
      ]
     },
     "metadata": {},
     "output_type": "display_data"
    },
    {
     "name": "stderr",
     "output_type": "stream",
     "text": [
      "\u001b[34m\u001b[1mwandb\u001b[0m: \u001b[33mWARNING\u001b[0m Calling wandb.login() after wandb.init() has no effect.\n"
     ]
    },
    {
     "name": "stdout",
     "output_type": "stream",
     "text": [
      "[Epoch 0] Train Loss: 361.4519, Acc: 0.8674\n",
      "[Epoch 0] Val Loss: 82.2579, Val Metrics: {'MulticlassAUROC': 0.83208829164505, 'MulticlassAUPRC': 0.5634997487068176, 'MulticlassAccuracy': 0.8729056715965271}\n",
      "[Epoch 1] Train Loss: 327.2937, Acc: 0.8776\n",
      "[Epoch 1] Val Loss: 81.1373, Val Metrics: {'MulticlassAUROC': 0.8380782008171082, 'MulticlassAUPRC': 0.5806159973144531, 'MulticlassAccuracy': 0.8739960193634033}\n",
      "[Epoch 2] Train Loss: 323.0401, Acc: 0.8778\n",
      "[Epoch 2] Val Loss: 80.3463, Val Metrics: {'MulticlassAUROC': 0.8433926701545715, 'MulticlassAUPRC': 0.5791212320327759, 'MulticlassAccuracy': 0.8750136494636536}\n",
      "[Epoch 3] Train Loss: 319.6821, Acc: 0.8791\n",
      "[Epoch 3] Val Loss: 80.4539, Val Metrics: {'MulticlassAUROC': 0.844879150390625, 'MulticlassAUPRC': 0.5864613652229309, 'MulticlassAccuracy': 0.8746138215065002}\n",
      "[Epoch 4] Train Loss: 317.6104, Acc: 0.8793\n",
      "[Epoch 4] Val Loss: 80.2285, Val Metrics: {'MulticlassAUROC': 0.8471822142601013, 'MulticlassAUPRC': 0.5862328410148621, 'MulticlassAccuracy': 0.8751590251922607}\n",
      "[Epoch 5] Train Loss: 315.5791, Acc: 0.8797\n",
      "[Epoch 5] Val Loss: 80.2268, Val Metrics: {'MulticlassAUROC': 0.843244731426239, 'MulticlassAUPRC': 0.5874855518341064, 'MulticlassAccuracy': 0.8755951523780823}\n",
      "[Epoch 6] Train Loss: 314.3125, Acc: 0.8790\n",
      "[Epoch 6] Val Loss: 79.4033, Val Metrics: {'MulticlassAUROC': 0.8471205830574036, 'MulticlassAUPRC': 0.5891516208648682, 'MulticlassAccuracy': 0.8758495450019836}\n",
      "[Epoch 7] Train Loss: 312.4131, Acc: 0.8798\n",
      "[Epoch 7] Val Loss: 79.6047, Val Metrics: {'MulticlassAUROC': 0.8490751385688782, 'MulticlassAUPRC': 0.5893449187278748, 'MulticlassAccuracy': 0.8754860758781433}\n",
      "[Epoch 8] Train Loss: 310.8051, Acc: 0.8805\n",
      "[Epoch 8] Val Loss: 78.9883, Val Metrics: {'MulticlassAUROC': 0.8501433730125427, 'MulticlassAUPRC': 0.5939604640007019, 'MulticlassAccuracy': 0.876067578792572}\n",
      "[Epoch 9] Train Loss: 310.2437, Acc: 0.8804\n",
      "[Epoch 9] Val Loss: 79.3824, Val Metrics: {'MulticlassAUROC': 0.8503127098083496, 'MulticlassAUPRC': 0.5913450121879578, 'MulticlassAccuracy': 0.8758495450019836}\n"
     ]
    },
    {
     "data": {
      "text/html": [],
      "text/plain": [
       "<IPython.core.display.HTML object>"
      ]
     },
     "metadata": {},
     "output_type": "display_data"
    },
    {
     "data": {
      "text/html": [
       "<br>    <style><br>        .wandb-row {<br>            display: flex;<br>            flex-direction: row;<br>            flex-wrap: wrap;<br>            justify-content: flex-start;<br>            width: 100%;<br>        }<br>        .wandb-col {<br>            display: flex;<br>            flex-direction: column;<br>            flex-basis: 100%;<br>            flex: 1;<br>            padding: 10px;<br>        }<br>    </style><br><div class=\"wandb-row\"><div class=\"wandb-col\"><h3>Run history:</h3><br/><table class=\"wandb\"><tr><td>epoch</td><td>▁▂▃▃▄▅▆▆▇█</td></tr><tr><td>train_accuracy</td><td>▁▆▇▇▇█▇███</td></tr><tr><td>train_loss</td><td>█▃▃▂▂▂▂▁▁▁</td></tr><tr><td>val_MulticlassAUPRC</td><td>▁▅▅▆▆▇▇▇█▇</td></tr><tr><td>val_MulticlassAUROC</td><td>▁▃▅▆▇▅▇███</td></tr><tr><td>val_MulticlassAccuracy</td><td>▁▃▆▅▆▇█▇██</td></tr><tr><td>val_loss</td><td>█▆▄▄▄▄▂▂▁▂</td></tr></table><br/></div><div class=\"wandb-col\"><h3>Run summary:</h3><br/><table class=\"wandb\"><tr><td>epoch</td><td>9</td></tr><tr><td>train_accuracy</td><td>0.88038</td></tr><tr><td>train_loss</td><td>310.24372</td></tr><tr><td>val_MulticlassAUPRC</td><td>0.59135</td></tr><tr><td>val_MulticlassAUROC</td><td>0.85031</td></tr><tr><td>val_MulticlassAccuracy</td><td>0.87585</td></tr><tr><td>val_loss</td><td>79.38239</td></tr></table><br/></div></div>"
      ],
      "text/plain": [
       "<IPython.core.display.HTML object>"
      ]
     },
     "metadata": {},
     "output_type": "display_data"
    },
    {
     "data": {
      "text/html": [
       " View run <strong style=\"color:#cdcd00\">mre_1kb_64_0.001</strong> at: <a href='https://wandb.ai/bind-gps/BindGPS/runs/uc0cwowb' target=\"_blank\">https://wandb.ai/bind-gps/BindGPS/runs/uc0cwowb</a><br> View project at: <a href='https://wandb.ai/bind-gps/BindGPS' target=\"_blank\">https://wandb.ai/bind-gps/BindGPS</a><br>Synced 5 W&B file(s), 0 media file(s), 0 artifact file(s) and 0 other file(s)"
      ],
      "text/plain": [
       "<IPython.core.display.HTML object>"
      ]
     },
     "metadata": {},
     "output_type": "display_data"
    },
    {
     "data": {
      "text/html": [
       "Find logs at: <code>./wandb/run-20251002_134607-uc0cwowb/logs</code>"
      ],
      "text/plain": [
       "<IPython.core.display.HTML object>"
      ]
     },
     "metadata": {},
     "output_type": "display_data"
    },
    {
     "name": "stderr",
     "output_type": "stream",
     "text": [
      "\u001b[34m\u001b[1mwandb\u001b[0m: Agent Starting Run: n7yi9g10 with config:\n",
      "\u001b[34m\u001b[1mwandb\u001b[0m: \tbatch_size: 128\n",
      "\u001b[34m\u001b[1mwandb\u001b[0m: \tepochs: 10\n",
      "\u001b[34m\u001b[1mwandb\u001b[0m: \thidden_dims: [256, 128]\n",
      "\u001b[34m\u001b[1mwandb\u001b[0m: \tlr: 0.001\n",
      "\u001b[34m\u001b[1mwandb\u001b[0m: \tresolution: 1kb\n",
      "\u001b[34m\u001b[1mwandb\u001b[0m: \tsvd_dim: 64\n",
      "\u001b[34m\u001b[1mwandb\u001b[0m: \ttarget_metric: MulticlassAUPRC\n",
      "\u001b[34m\u001b[1mwandb\u001b[0m: \ttask: gene\n",
      "\u001b[34m\u001b[1mwandb\u001b[0m: \tweighted: True\n",
      "\u001b[34m\u001b[1mwandb\u001b[0m: \u001b[32m\u001b[41mERROR\u001b[0m Failed to detect the name of this notebook. You can set it manually with the WANDB_NOTEBOOK_NAME environment variable to enable code saving.\n"
     ]
    },
    {
     "data": {
      "text/html": [],
      "text/plain": [
       "<IPython.core.display.HTML object>"
      ]
     },
     "metadata": {},
     "output_type": "display_data"
    },
    {
     "data": {
      "text/html": [
       "Tracking run with wandb version 0.22.1"
      ],
      "text/plain": [
       "<IPython.core.display.HTML object>"
      ]
     },
     "metadata": {},
     "output_type": "display_data"
    },
    {
     "data": {
      "text/html": [
       "Run data is saved locally in <code>/oscar/data/larschan/shared_data/BindGPS/model/wandb/run-20251002_134719-n7yi9g10</code>"
      ],
      "text/plain": [
       "<IPython.core.display.HTML object>"
      ]
     },
     "metadata": {},
     "output_type": "display_data"
    },
    {
     "data": {
      "text/html": [
       "Syncing run <strong><a href='https://wandb.ai/bind-gps/BindGPS/runs/n7yi9g10' target=\"_blank\">brisk-sweep-11</a></strong> to <a href='https://wandb.ai/bind-gps/BindGPS' target=\"_blank\">Weights & Biases</a> (<a href='https://wandb.me/developer-guide' target=\"_blank\">docs</a>)<br>Sweep page: <a href='https://wandb.ai/bind-gps/BindGPS/sweeps/79ufxypb' target=\"_blank\">https://wandb.ai/bind-gps/BindGPS/sweeps/79ufxypb</a>"
      ],
      "text/plain": [
       "<IPython.core.display.HTML object>"
      ]
     },
     "metadata": {},
     "output_type": "display_data"
    },
    {
     "data": {
      "text/html": [
       " View project at <a href='https://wandb.ai/bind-gps/BindGPS' target=\"_blank\">https://wandb.ai/bind-gps/BindGPS</a>"
      ],
      "text/plain": [
       "<IPython.core.display.HTML object>"
      ]
     },
     "metadata": {},
     "output_type": "display_data"
    },
    {
     "data": {
      "text/html": [
       " View sweep at <a href='https://wandb.ai/bind-gps/BindGPS/sweeps/79ufxypb' target=\"_blank\">https://wandb.ai/bind-gps/BindGPS/sweeps/79ufxypb</a>"
      ],
      "text/plain": [
       "<IPython.core.display.HTML object>"
      ]
     },
     "metadata": {},
     "output_type": "display_data"
    },
    {
     "data": {
      "text/html": [
       " View run at <a href='https://wandb.ai/bind-gps/BindGPS/runs/n7yi9g10' target=\"_blank\">https://wandb.ai/bind-gps/BindGPS/runs/n7yi9g10</a>"
      ],
      "text/plain": [
       "<IPython.core.display.HTML object>"
      ]
     },
     "metadata": {},
     "output_type": "display_data"
    },
    {
     "name": "stderr",
     "output_type": "stream",
     "text": [
      "\u001b[34m\u001b[1mwandb\u001b[0m: \u001b[33mWARNING\u001b[0m Calling wandb.login() after wandb.init() has no effect.\n"
     ]
    },
    {
     "name": "stdout",
     "output_type": "stream",
     "text": [
      "[Epoch 0] Train Loss: 876.1126, Acc: 0.4870\n",
      "[Epoch 0] Val Loss: 214.7262, Val Metrics: {'MulticlassAUROC': 0.6851591467857361, 'MulticlassAUPRC': 0.48636701703071594, 'MulticlassAccuracy': 0.4677812159061432}\n",
      "[Epoch 1] Train Loss: 855.8029, Acc: 0.5123\n",
      "[Epoch 1] Val Loss: 212.8821, Val Metrics: {'MulticlassAUROC': 0.6978752017021179, 'MulticlassAUPRC': 0.4973330795764923, 'MulticlassAccuracy': 0.5143376588821411}\n",
      "[Epoch 2] Train Loss: 848.7096, Acc: 0.5183\n",
      "[Epoch 2] Val Loss: 210.9332, Val Metrics: {'MulticlassAUROC': 0.695925235748291, 'MulticlassAUPRC': 0.49582985043525696, 'MulticlassAccuracy': 0.4948573410511017}\n",
      "[Epoch 3] Train Loss: 844.2999, Acc: 0.5225\n",
      "[Epoch 3] Val Loss: 210.4288, Val Metrics: {'MulticlassAUROC': 0.7035362720489502, 'MulticlassAUPRC': 0.5039467215538025, 'MulticlassAccuracy': 0.5347628593444824}\n",
      "[Epoch 4] Train Loss: 839.7747, Acc: 0.5276\n",
      "[Epoch 4] Val Loss: 211.3493, Val Metrics: {'MulticlassAUROC': 0.7057066559791565, 'MulticlassAUPRC': 0.508528470993042, 'MulticlassAccuracy': 0.5507904887199402}\n",
      "[Epoch 5] Train Loss: 838.4025, Acc: 0.5301\n",
      "[Epoch 5] Val Loss: 210.2375, Val Metrics: {'MulticlassAUROC': 0.7045269012451172, 'MulticlassAUPRC': 0.5055754780769348, 'MulticlassAccuracy': 0.5398873090744019}\n",
      "[Epoch 6] Train Loss: 836.3750, Acc: 0.5324\n",
      "[Epoch 6] Val Loss: 209.1311, Val Metrics: {'MulticlassAUROC': 0.7043717503547668, 'MulticlassAUPRC': 0.5051038861274719, 'MulticlassAccuracy': 0.5200436115264893}\n",
      "[Epoch 7] Train Loss: 833.2378, Acc: 0.5343\n",
      "[Epoch 7] Val Loss: 208.8799, Val Metrics: {'MulticlassAUROC': 0.7065897583961487, 'MulticlassAUPRC': 0.5079385638237, 'MulticlassAccuracy': 0.5250590443611145}\n",
      "[Epoch 8] Train Loss: 832.5184, Acc: 0.5353\n",
      "[Epoch 8] Val Loss: 209.7238, Val Metrics: {'MulticlassAUROC': 0.7064714431762695, 'MulticlassAUPRC': 0.507058322429657, 'MulticlassAccuracy': 0.5273850560188293}\n",
      "[Epoch 9] Train Loss: 830.0509, Acc: 0.5363\n",
      "[Epoch 9] Val Loss: 208.9660, Val Metrics: {'MulticlassAUROC': 0.7056693434715271, 'MulticlassAUPRC': 0.5056479573249817, 'MulticlassAccuracy': 0.5232782363891602}\n"
     ]
    },
    {
     "data": {
      "text/html": [],
      "text/plain": [
       "<IPython.core.display.HTML object>"
      ]
     },
     "metadata": {},
     "output_type": "display_data"
    },
    {
     "data": {
      "text/html": [
       "<br>    <style><br>        .wandb-row {<br>            display: flex;<br>            flex-direction: row;<br>            flex-wrap: wrap;<br>            justify-content: flex-start;<br>            width: 100%;<br>        }<br>        .wandb-col {<br>            display: flex;<br>            flex-direction: column;<br>            flex-basis: 100%;<br>            flex: 1;<br>            padding: 10px;<br>        }<br>    </style><br><div class=\"wandb-row\"><div class=\"wandb-col\"><h3>Run history:</h3><br/><table class=\"wandb\"><tr><td>epoch</td><td>▁▂▃▃▄▅▆▆▇█</td></tr><tr><td>train_accuracy</td><td>▁▅▅▆▇▇▇███</td></tr><tr><td>train_loss</td><td>█▅▄▃▂▂▂▁▁▁</td></tr><tr><td>val_MulticlassAUPRC</td><td>▁▄▄▇█▇▇██▇</td></tr><tr><td>val_MulticlassAUROC</td><td>▁▅▅▇█▇▇███</td></tr><tr><td>val_MulticlassAccuracy</td><td>▁▅▃▇█▇▅▆▆▆</td></tr><tr><td>val_loss</td><td>█▆▃▃▄▃▁▁▂▁</td></tr></table><br/></div><div class=\"wandb-col\"><h3>Run summary:</h3><br/><table class=\"wandb\"><tr><td>epoch</td><td>9</td></tr><tr><td>train_accuracy</td><td>0.53631</td></tr><tr><td>train_loss</td><td>830.0509</td></tr><tr><td>val_MulticlassAUPRC</td><td>0.50565</td></tr><tr><td>val_MulticlassAUROC</td><td>0.70567</td></tr><tr><td>val_MulticlassAccuracy</td><td>0.52328</td></tr><tr><td>val_loss</td><td>208.96596</td></tr></table><br/></div></div>"
      ],
      "text/plain": [
       "<IPython.core.display.HTML object>"
      ]
     },
     "metadata": {},
     "output_type": "display_data"
    },
    {
     "data": {
      "text/html": [
       " View run <strong style=\"color:#cdcd00\">gene_1kb_64_0.001</strong> at: <a href='https://wandb.ai/bind-gps/BindGPS/runs/n7yi9g10' target=\"_blank\">https://wandb.ai/bind-gps/BindGPS/runs/n7yi9g10</a><br> View project at: <a href='https://wandb.ai/bind-gps/BindGPS' target=\"_blank\">https://wandb.ai/bind-gps/BindGPS</a><br>Synced 5 W&B file(s), 0 media file(s), 0 artifact file(s) and 0 other file(s)"
      ],
      "text/plain": [
       "<IPython.core.display.HTML object>"
      ]
     },
     "metadata": {},
     "output_type": "display_data"
    },
    {
     "data": {
      "text/html": [
       "Find logs at: <code>./wandb/run-20251002_134719-n7yi9g10/logs</code>"
      ],
      "text/plain": [
       "<IPython.core.display.HTML object>"
      ]
     },
     "metadata": {},
     "output_type": "display_data"
    },
    {
     "name": "stderr",
     "output_type": "stream",
     "text": [
      "\u001b[34m\u001b[1mwandb\u001b[0m: Sweep Agent: Waiting for job.\n",
      "\u001b[34m\u001b[1mwandb\u001b[0m: Job received.\n",
      "\u001b[34m\u001b[1mwandb\u001b[0m: Agent Starting Run: civpukym with config:\n",
      "\u001b[34m\u001b[1mwandb\u001b[0m: \tbatch_size: 128\n",
      "\u001b[34m\u001b[1mwandb\u001b[0m: \tepochs: 10\n",
      "\u001b[34m\u001b[1mwandb\u001b[0m: \thidden_dims: [256, 128]\n",
      "\u001b[34m\u001b[1mwandb\u001b[0m: \tlr: 0.001\n",
      "\u001b[34m\u001b[1mwandb\u001b[0m: \tresolution: 1kb\n",
      "\u001b[34m\u001b[1mwandb\u001b[0m: \tsvd_dim: 64\n",
      "\u001b[34m\u001b[1mwandb\u001b[0m: \ttarget_metric: MulticlassAUPRC\n",
      "\u001b[34m\u001b[1mwandb\u001b[0m: \ttask: gene\n",
      "\u001b[34m\u001b[1mwandb\u001b[0m: \tweighted: False\n",
      "\u001b[34m\u001b[1mwandb\u001b[0m: \u001b[32m\u001b[41mERROR\u001b[0m Failed to detect the name of this notebook. You can set it manually with the WANDB_NOTEBOOK_NAME environment variable to enable code saving.\n"
     ]
    },
    {
     "data": {
      "text/html": [],
      "text/plain": [
       "<IPython.core.display.HTML object>"
      ]
     },
     "metadata": {},
     "output_type": "display_data"
    },
    {
     "data": {
      "text/html": [
       "Tracking run with wandb version 0.22.1"
      ],
      "text/plain": [
       "<IPython.core.display.HTML object>"
      ]
     },
     "metadata": {},
     "output_type": "display_data"
    },
    {
     "data": {
      "text/html": [
       "Run data is saved locally in <code>/oscar/data/larschan/shared_data/BindGPS/model/wandb/run-20251002_134841-civpukym</code>"
      ],
      "text/plain": [
       "<IPython.core.display.HTML object>"
      ]
     },
     "metadata": {},
     "output_type": "display_data"
    },
    {
     "data": {
      "text/html": [
       "Syncing run <strong><a href='https://wandb.ai/bind-gps/BindGPS/runs/civpukym' target=\"_blank\">jumping-sweep-12</a></strong> to <a href='https://wandb.ai/bind-gps/BindGPS' target=\"_blank\">Weights & Biases</a> (<a href='https://wandb.me/developer-guide' target=\"_blank\">docs</a>)<br>Sweep page: <a href='https://wandb.ai/bind-gps/BindGPS/sweeps/79ufxypb' target=\"_blank\">https://wandb.ai/bind-gps/BindGPS/sweeps/79ufxypb</a>"
      ],
      "text/plain": [
       "<IPython.core.display.HTML object>"
      ]
     },
     "metadata": {},
     "output_type": "display_data"
    },
    {
     "data": {
      "text/html": [
       " View project at <a href='https://wandb.ai/bind-gps/BindGPS' target=\"_blank\">https://wandb.ai/bind-gps/BindGPS</a>"
      ],
      "text/plain": [
       "<IPython.core.display.HTML object>"
      ]
     },
     "metadata": {},
     "output_type": "display_data"
    },
    {
     "data": {
      "text/html": [
       " View sweep at <a href='https://wandb.ai/bind-gps/BindGPS/sweeps/79ufxypb' target=\"_blank\">https://wandb.ai/bind-gps/BindGPS/sweeps/79ufxypb</a>"
      ],
      "text/plain": [
       "<IPython.core.display.HTML object>"
      ]
     },
     "metadata": {},
     "output_type": "display_data"
    },
    {
     "data": {
      "text/html": [
       " View run at <a href='https://wandb.ai/bind-gps/BindGPS/runs/civpukym' target=\"_blank\">https://wandb.ai/bind-gps/BindGPS/runs/civpukym</a>"
      ],
      "text/plain": [
       "<IPython.core.display.HTML object>"
      ]
     },
     "metadata": {},
     "output_type": "display_data"
    },
    {
     "name": "stderr",
     "output_type": "stream",
     "text": [
      "\u001b[34m\u001b[1mwandb\u001b[0m: \u001b[33mWARNING\u001b[0m Calling wandb.login() after wandb.init() has no effect.\n"
     ]
    },
    {
     "name": "stdout",
     "output_type": "stream",
     "text": [
      "[Epoch 0] Train Loss: 734.5309, Acc: 0.6070\n",
      "[Epoch 0] Val Loss: 177.6519, Val Metrics: {'MulticlassAUROC': 0.6986557841300964, 'MulticlassAUPRC': 0.49191221594810486, 'MulticlassAccuracy': 0.621842622756958}\n",
      "[Epoch 1] Train Loss: 712.9873, Acc: 0.6192\n",
      "[Epoch 1] Val Loss: 178.0532, Val Metrics: {'MulticlassAUROC': 0.7034727931022644, 'MulticlassAUPRC': 0.498562216758728, 'MulticlassAccuracy': 0.6232600212097168}\n",
      "[Epoch 2] Train Loss: 707.5965, Acc: 0.6219\n",
      "[Epoch 2] Val Loss: 175.3595, Val Metrics: {'MulticlassAUROC': 0.7094395160675049, 'MulticlassAUPRC': 0.50499427318573, 'MulticlassAccuracy': 0.6294384598731995}\n",
      "[Epoch 3] Train Loss: 704.1573, Acc: 0.6250\n",
      "[Epoch 3] Val Loss: 175.0748, Val Metrics: {'MulticlassAUROC': 0.7122501730918884, 'MulticlassAUPRC': 0.5070372223854065, 'MulticlassAccuracy': 0.6287479400634766}\n",
      "[Epoch 4] Train Loss: 700.9373, Acc: 0.6277\n",
      "[Epoch 4] Val Loss: 174.6057, Val Metrics: {'MulticlassAUROC': 0.7133509516716003, 'MulticlassAUPRC': 0.51015305519104, 'MulticlassAccuracy': 0.6296929121017456}\n",
      "[Epoch 5] Train Loss: 698.7359, Acc: 0.6290\n",
      "[Epoch 5] Val Loss: 175.5147, Val Metrics: {'MulticlassAUROC': 0.7123659253120422, 'MulticlassAUPRC': 0.5099021792411804, 'MulticlassAccuracy': 0.6292567849159241}\n",
      "[Epoch 6] Train Loss: 697.6709, Acc: 0.6309\n",
      "[Epoch 6] Val Loss: 174.0021, Val Metrics: {'MulticlassAUROC': 0.7155529856681824, 'MulticlassAUPRC': 0.5134627819061279, 'MulticlassAccuracy': 0.6321279406547546}\n",
      "[Epoch 7] Train Loss: 696.5713, Acc: 0.6306\n",
      "[Epoch 7] Val Loss: 174.0398, Val Metrics: {'MulticlassAUROC': 0.7167496085166931, 'MulticlassAUPRC': 0.5139853358268738, 'MulticlassAccuracy': 0.6337270736694336}\n",
      "[Epoch 8] Train Loss: 695.2145, Acc: 0.6311\n",
      "[Epoch 8] Val Loss: 174.1694, Val Metrics: {'MulticlassAUROC': 0.7178129553794861, 'MulticlassAUPRC': 0.5150763392448425, 'MulticlassAccuracy': 0.6320552229881287}\n",
      "[Epoch 9] Train Loss: 693.6828, Acc: 0.6317\n",
      "[Epoch 9] Val Loss: 173.3737, Val Metrics: {'MulticlassAUROC': 0.7182696461677551, 'MulticlassAUPRC': 0.5165393352508545, 'MulticlassAccuracy': 0.6320552229881287}\n"
     ]
    },
    {
     "data": {
      "text/html": [],
      "text/plain": [
       "<IPython.core.display.HTML object>"
      ]
     },
     "metadata": {},
     "output_type": "display_data"
    },
    {
     "data": {
      "text/html": [
       "<br>    <style><br>        .wandb-row {<br>            display: flex;<br>            flex-direction: row;<br>            flex-wrap: wrap;<br>            justify-content: flex-start;<br>            width: 100%;<br>        }<br>        .wandb-col {<br>            display: flex;<br>            flex-direction: column;<br>            flex-basis: 100%;<br>            flex: 1;<br>            padding: 10px;<br>        }<br>    </style><br><div class=\"wandb-row\"><div class=\"wandb-col\"><h3>Run history:</h3><br/><table class=\"wandb\"><tr><td>epoch</td><td>▁▂▃▃▄▅▆▆▇█</td></tr><tr><td>train_accuracy</td><td>▁▄▅▆▇▇████</td></tr><tr><td>train_loss</td><td>█▄▃▃▂▂▂▁▁▁</td></tr><tr><td>val_MulticlassAUPRC</td><td>▁▃▅▅▆▆▇▇██</td></tr><tr><td>val_MulticlassAUROC</td><td>▁▃▅▆▆▆▇▇██</td></tr><tr><td>val_MulticlassAccuracy</td><td>▁▂▅▅▆▅▇█▇▇</td></tr><tr><td>val_loss</td><td>▇█▄▄▃▄▂▂▂▁</td></tr></table><br/></div><div class=\"wandb-col\"><h3>Run summary:</h3><br/><table class=\"wandb\"><tr><td>epoch</td><td>9</td></tr><tr><td>train_accuracy</td><td>0.63168</td></tr><tr><td>train_loss</td><td>693.68279</td></tr><tr><td>val_MulticlassAUPRC</td><td>0.51654</td></tr><tr><td>val_MulticlassAUROC</td><td>0.71827</td></tr><tr><td>val_MulticlassAccuracy</td><td>0.63206</td></tr><tr><td>val_loss</td><td>173.3737</td></tr></table><br/></div></div>"
      ],
      "text/plain": [
       "<IPython.core.display.HTML object>"
      ]
     },
     "metadata": {},
     "output_type": "display_data"
    },
    {
     "data": {
      "text/html": [
       " View run <strong style=\"color:#cdcd00\">gene_1kb_64_0.001</strong> at: <a href='https://wandb.ai/bind-gps/BindGPS/runs/civpukym' target=\"_blank\">https://wandb.ai/bind-gps/BindGPS/runs/civpukym</a><br> View project at: <a href='https://wandb.ai/bind-gps/BindGPS' target=\"_blank\">https://wandb.ai/bind-gps/BindGPS</a><br>Synced 5 W&B file(s), 0 media file(s), 0 artifact file(s) and 0 other file(s)"
      ],
      "text/plain": [
       "<IPython.core.display.HTML object>"
      ]
     },
     "metadata": {},
     "output_type": "display_data"
    },
    {
     "data": {
      "text/html": [
       "Find logs at: <code>./wandb/run-20251002_134841-civpukym/logs</code>"
      ],
      "text/plain": [
       "<IPython.core.display.HTML object>"
      ]
     },
     "metadata": {},
     "output_type": "display_data"
    },
    {
     "name": "stderr",
     "output_type": "stream",
     "text": [
      "\u001b[34m\u001b[1mwandb\u001b[0m: Agent Starting Run: fk2be3zs with config:\n",
      "\u001b[34m\u001b[1mwandb\u001b[0m: \tbatch_size: 128\n",
      "\u001b[34m\u001b[1mwandb\u001b[0m: \tepochs: 10\n",
      "\u001b[34m\u001b[1mwandb\u001b[0m: \thidden_dims: [256, 128]\n",
      "\u001b[34m\u001b[1mwandb\u001b[0m: \tlr: 0.001\n",
      "\u001b[34m\u001b[1mwandb\u001b[0m: \tresolution: 1kb\n",
      "\u001b[34m\u001b[1mwandb\u001b[0m: \tsvd_dim: 128\n",
      "\u001b[34m\u001b[1mwandb\u001b[0m: \ttarget_metric: MulticlassAUROC\n",
      "\u001b[34m\u001b[1mwandb\u001b[0m: \ttask: mre\n",
      "\u001b[34m\u001b[1mwandb\u001b[0m: \tweighted: True\n",
      "\u001b[34m\u001b[1mwandb\u001b[0m: \u001b[32m\u001b[41mERROR\u001b[0m Failed to detect the name of this notebook. You can set it manually with the WANDB_NOTEBOOK_NAME environment variable to enable code saving.\n"
     ]
    },
    {
     "data": {
      "text/html": [],
      "text/plain": [
       "<IPython.core.display.HTML object>"
      ]
     },
     "metadata": {},
     "output_type": "display_data"
    },
    {
     "data": {
      "text/html": [
       "Tracking run with wandb version 0.22.1"
      ],
      "text/plain": [
       "<IPython.core.display.HTML object>"
      ]
     },
     "metadata": {},
     "output_type": "display_data"
    },
    {
     "data": {
      "text/html": [
       "Run data is saved locally in <code>/oscar/data/larschan/shared_data/BindGPS/model/wandb/run-20251002_134922-fk2be3zs</code>"
      ],
      "text/plain": [
       "<IPython.core.display.HTML object>"
      ]
     },
     "metadata": {},
     "output_type": "display_data"
    },
    {
     "data": {
      "text/html": [
       "Syncing run <strong><a href='https://wandb.ai/bind-gps/BindGPS/runs/fk2be3zs' target=\"_blank\">solar-sweep-13</a></strong> to <a href='https://wandb.ai/bind-gps/BindGPS' target=\"_blank\">Weights & Biases</a> (<a href='https://wandb.me/developer-guide' target=\"_blank\">docs</a>)<br>Sweep page: <a href='https://wandb.ai/bind-gps/BindGPS/sweeps/79ufxypb' target=\"_blank\">https://wandb.ai/bind-gps/BindGPS/sweeps/79ufxypb</a>"
      ],
      "text/plain": [
       "<IPython.core.display.HTML object>"
      ]
     },
     "metadata": {},
     "output_type": "display_data"
    },
    {
     "data": {
      "text/html": [
       " View project at <a href='https://wandb.ai/bind-gps/BindGPS' target=\"_blank\">https://wandb.ai/bind-gps/BindGPS</a>"
      ],
      "text/plain": [
       "<IPython.core.display.HTML object>"
      ]
     },
     "metadata": {},
     "output_type": "display_data"
    },
    {
     "data": {
      "text/html": [
       " View sweep at <a href='https://wandb.ai/bind-gps/BindGPS/sweeps/79ufxypb' target=\"_blank\">https://wandb.ai/bind-gps/BindGPS/sweeps/79ufxypb</a>"
      ],
      "text/plain": [
       "<IPython.core.display.HTML object>"
      ]
     },
     "metadata": {},
     "output_type": "display_data"
    },
    {
     "data": {
      "text/html": [
       " View run at <a href='https://wandb.ai/bind-gps/BindGPS/runs/fk2be3zs' target=\"_blank\">https://wandb.ai/bind-gps/BindGPS/runs/fk2be3zs</a>"
      ],
      "text/plain": [
       "<IPython.core.display.HTML object>"
      ]
     },
     "metadata": {},
     "output_type": "display_data"
    },
    {
     "name": "stderr",
     "output_type": "stream",
     "text": [
      "\u001b[34m\u001b[1mwandb\u001b[0m: \u001b[33mWARNING\u001b[0m Calling wandb.login() after wandb.init() has no effect.\n"
     ]
    },
    {
     "name": "stdout",
     "output_type": "stream",
     "text": [
      "[Epoch 0] Train Loss: 787.1494, Acc: 0.6763\n",
      "[Epoch 0] Val Loss: 182.6450, Val Metrics: {'MulticlassAUROC': 0.8228340148925781, 'MulticlassAUPRC': 0.5419270992279053, 'MulticlassAccuracy': 0.7629293203353882}\n",
      "[Epoch 1] Train Loss: 730.8840, Acc: 0.7284\n",
      "[Epoch 1] Val Loss: 178.2198, Val Metrics: {'MulticlassAUROC': 0.8363941311836243, 'MulticlassAUPRC': 0.5491304397583008, 'MulticlassAccuracy': 0.7543158531188965}\n",
      "[Epoch 2] Train Loss: 707.7626, Acc: 0.7403\n",
      "[Epoch 2] Val Loss: 177.3624, Val Metrics: {'MulticlassAUROC': 0.8384848237037659, 'MulticlassAUPRC': 0.5575088858604431, 'MulticlassAccuracy': 0.7620207071304321}\n",
      "[Epoch 3] Train Loss: 694.9146, Acc: 0.7432\n",
      "[Epoch 3] Val Loss: 175.2973, Val Metrics: {'MulticlassAUROC': 0.8390392661094666, 'MulticlassAUPRC': 0.5567699074745178, 'MulticlassAccuracy': 0.7561693787574768}\n",
      "[Epoch 4] Train Loss: 685.1112, Acc: 0.7459\n",
      "[Epoch 4] Val Loss: 175.4100, Val Metrics: {'MulticlassAUROC': 0.8406407237052917, 'MulticlassAUPRC': 0.5433844923973083, 'MulticlassAccuracy': 0.7487915754318237}\n",
      "[Epoch 5] Train Loss: 676.0685, Acc: 0.7484\n",
      "[Epoch 5] Val Loss: 174.2323, Val Metrics: {'MulticlassAUROC': 0.8440510630607605, 'MulticlassAUPRC': 0.5538330078125, 'MulticlassAccuracy': 0.7713610529899597}\n",
      "[Epoch 6] Train Loss: 665.5341, Acc: 0.7484\n",
      "[Epoch 6] Val Loss: 174.9534, Val Metrics: {'MulticlassAUROC': 0.8423378467559814, 'MulticlassAUPRC': 0.5457099080085754, 'MulticlassAccuracy': 0.7720516324043274}\n",
      "[Epoch 7] Train Loss: 662.9474, Acc: 0.7461\n",
      "[Epoch 7] Val Loss: 176.0071, Val Metrics: {'MulticlassAUROC': 0.845705509185791, 'MulticlassAUPRC': 0.5546969175338745, 'MulticlassAccuracy': 0.7639105916023254}\n",
      "[Epoch 8] Train Loss: 650.9432, Acc: 0.7535\n",
      "[Epoch 8] Val Loss: 175.3200, Val Metrics: {'MulticlassAUROC': 0.8404347896575928, 'MulticlassAUPRC': 0.5537379384040833, 'MulticlassAccuracy': 0.7648192048072815}\n",
      "[Epoch 9] Train Loss: 645.9624, Acc: 0.7505\n",
      "[Epoch 9] Val Loss: 175.6855, Val Metrics: {'MulticlassAUROC': 0.8447244763374329, 'MulticlassAUPRC': 0.5473769903182983, 'MulticlassAccuracy': 0.745775043964386}\n"
     ]
    },
    {
     "data": {
      "text/html": [],
      "text/plain": [
       "<IPython.core.display.HTML object>"
      ]
     },
     "metadata": {},
     "output_type": "display_data"
    },
    {
     "data": {
      "text/html": [
       "<br>    <style><br>        .wandb-row {<br>            display: flex;<br>            flex-direction: row;<br>            flex-wrap: wrap;<br>            justify-content: flex-start;<br>            width: 100%;<br>        }<br>        .wandb-col {<br>            display: flex;<br>            flex-direction: column;<br>            flex-basis: 100%;<br>            flex: 1;<br>            padding: 10px;<br>        }<br>    </style><br><div class=\"wandb-row\"><div class=\"wandb-col\"><h3>Run history:</h3><br/><table class=\"wandb\"><tr><td>epoch</td><td>▁▂▃▃▄▅▆▆▇█</td></tr><tr><td>train_accuracy</td><td>▁▆▇▇▇██▇██</td></tr><tr><td>train_loss</td><td>█▅▄▃▃▂▂▂▁▁</td></tr><tr><td>val_MulticlassAUPRC</td><td>▁▄██▂▆▃▇▆▃</td></tr><tr><td>val_MulticlassAUROC</td><td>▁▅▆▆▆▇▇█▆█</td></tr><tr><td>val_MulticlassAccuracy</td><td>▆▃▅▄▂██▆▆▁</td></tr><tr><td>val_loss</td><td>█▄▄▂▂▁▂▂▂▂</td></tr></table><br/></div><div class=\"wandb-col\"><h3>Run summary:</h3><br/><table class=\"wandb\"><tr><td>epoch</td><td>9</td></tr><tr><td>train_accuracy</td><td>0.75055</td></tr><tr><td>train_loss</td><td>645.96244</td></tr><tr><td>val_MulticlassAUPRC</td><td>0.54738</td></tr><tr><td>val_MulticlassAUROC</td><td>0.84472</td></tr><tr><td>val_MulticlassAccuracy</td><td>0.74578</td></tr><tr><td>val_loss</td><td>175.6855</td></tr></table><br/></div></div>"
      ],
      "text/plain": [
       "<IPython.core.display.HTML object>"
      ]
     },
     "metadata": {},
     "output_type": "display_data"
    },
    {
     "data": {
      "text/html": [
       " View run <strong style=\"color:#cdcd00\">mre_1kb_128_0.001</strong> at: <a href='https://wandb.ai/bind-gps/BindGPS/runs/fk2be3zs' target=\"_blank\">https://wandb.ai/bind-gps/BindGPS/runs/fk2be3zs</a><br> View project at: <a href='https://wandb.ai/bind-gps/BindGPS' target=\"_blank\">https://wandb.ai/bind-gps/BindGPS</a><br>Synced 5 W&B file(s), 0 media file(s), 0 artifact file(s) and 0 other file(s)"
      ],
      "text/plain": [
       "<IPython.core.display.HTML object>"
      ]
     },
     "metadata": {},
     "output_type": "display_data"
    },
    {
     "data": {
      "text/html": [
       "Find logs at: <code>./wandb/run-20251002_134922-fk2be3zs/logs</code>"
      ],
      "text/plain": [
       "<IPython.core.display.HTML object>"
      ]
     },
     "metadata": {},
     "output_type": "display_data"
    },
    {
     "name": "stderr",
     "output_type": "stream",
     "text": [
      "\u001b[34m\u001b[1mwandb\u001b[0m: Agent Starting Run: itur8cbk with config:\n",
      "\u001b[34m\u001b[1mwandb\u001b[0m: \tbatch_size: 128\n",
      "\u001b[34m\u001b[1mwandb\u001b[0m: \tepochs: 10\n",
      "\u001b[34m\u001b[1mwandb\u001b[0m: \thidden_dims: [256, 128]\n",
      "\u001b[34m\u001b[1mwandb\u001b[0m: \tlr: 0.001\n",
      "\u001b[34m\u001b[1mwandb\u001b[0m: \tresolution: 1kb\n",
      "\u001b[34m\u001b[1mwandb\u001b[0m: \tsvd_dim: 128\n",
      "\u001b[34m\u001b[1mwandb\u001b[0m: \ttarget_metric: MulticlassAUROC\n",
      "\u001b[34m\u001b[1mwandb\u001b[0m: \ttask: mre\n",
      "\u001b[34m\u001b[1mwandb\u001b[0m: \tweighted: False\n",
      "\u001b[34m\u001b[1mwandb\u001b[0m: \u001b[32m\u001b[41mERROR\u001b[0m Failed to detect the name of this notebook. You can set it manually with the WANDB_NOTEBOOK_NAME environment variable to enable code saving.\n"
     ]
    },
    {
     "data": {
      "text/html": [],
      "text/plain": [
       "<IPython.core.display.HTML object>"
      ]
     },
     "metadata": {},
     "output_type": "display_data"
    },
    {
     "data": {
      "text/html": [
       "Tracking run with wandb version 0.22.1"
      ],
      "text/plain": [
       "<IPython.core.display.HTML object>"
      ]
     },
     "metadata": {},
     "output_type": "display_data"
    },
    {
     "data": {
      "text/html": [
       "Run data is saved locally in <code>/oscar/data/larschan/shared_data/BindGPS/model/wandb/run-20251002_135002-itur8cbk</code>"
      ],
      "text/plain": [
       "<IPython.core.display.HTML object>"
      ]
     },
     "metadata": {},
     "output_type": "display_data"
    },
    {
     "data": {
      "text/html": [
       "Syncing run <strong><a href='https://wandb.ai/bind-gps/BindGPS/runs/itur8cbk' target=\"_blank\">fresh-sweep-14</a></strong> to <a href='https://wandb.ai/bind-gps/BindGPS' target=\"_blank\">Weights & Biases</a> (<a href='https://wandb.me/developer-guide' target=\"_blank\">docs</a>)<br>Sweep page: <a href='https://wandb.ai/bind-gps/BindGPS/sweeps/79ufxypb' target=\"_blank\">https://wandb.ai/bind-gps/BindGPS/sweeps/79ufxypb</a>"
      ],
      "text/plain": [
       "<IPython.core.display.HTML object>"
      ]
     },
     "metadata": {},
     "output_type": "display_data"
    },
    {
     "data": {
      "text/html": [
       " View project at <a href='https://wandb.ai/bind-gps/BindGPS' target=\"_blank\">https://wandb.ai/bind-gps/BindGPS</a>"
      ],
      "text/plain": [
       "<IPython.core.display.HTML object>"
      ]
     },
     "metadata": {},
     "output_type": "display_data"
    },
    {
     "data": {
      "text/html": [
       " View sweep at <a href='https://wandb.ai/bind-gps/BindGPS/sweeps/79ufxypb' target=\"_blank\">https://wandb.ai/bind-gps/BindGPS/sweeps/79ufxypb</a>"
      ],
      "text/plain": [
       "<IPython.core.display.HTML object>"
      ]
     },
     "metadata": {},
     "output_type": "display_data"
    },
    {
     "data": {
      "text/html": [
       " View run at <a href='https://wandb.ai/bind-gps/BindGPS/runs/itur8cbk' target=\"_blank\">https://wandb.ai/bind-gps/BindGPS/runs/itur8cbk</a>"
      ],
      "text/plain": [
       "<IPython.core.display.HTML object>"
      ]
     },
     "metadata": {},
     "output_type": "display_data"
    },
    {
     "name": "stderr",
     "output_type": "stream",
     "text": [
      "\u001b[34m\u001b[1mwandb\u001b[0m: \u001b[33mWARNING\u001b[0m Calling wandb.login() after wandb.init() has no effect.\n"
     ]
    },
    {
     "name": "stdout",
     "output_type": "stream",
     "text": [
      "[Epoch 0] Train Loss: 354.5436, Acc: 0.8696\n",
      "[Epoch 0] Val Loss: 80.0224, Val Metrics: {'MulticlassAUROC': 0.8463498950004578, 'MulticlassAUPRC': 0.58814936876297, 'MulticlassAccuracy': 0.8774850368499756}\n",
      "[Epoch 1] Train Loss: 319.2519, Acc: 0.8791\n",
      "[Epoch 1] Val Loss: 77.2486, Val Metrics: {'MulticlassAUROC': 0.8586845993995667, 'MulticlassAUPRC': 0.6036245226860046, 'MulticlassAccuracy': 0.8795565962791443}\n",
      "[Epoch 2] Train Loss: 309.5599, Acc: 0.8806\n",
      "[Epoch 2] Val Loss: 76.7332, Val Metrics: {'MulticlassAUROC': 0.8611891865730286, 'MulticlassAUPRC': 0.6055658459663391, 'MulticlassAccuracy': 0.8809376955032349}\n",
      "[Epoch 3] Train Loss: 304.3209, Acc: 0.8817\n",
      "[Epoch 3] Val Loss: 76.7351, Val Metrics: {'MulticlassAUROC': 0.8640461564064026, 'MulticlassAUPRC': 0.6079471707344055, 'MulticlassAccuracy': 0.8806469440460205}\n",
      "[Epoch 4] Train Loss: 302.1734, Acc: 0.8823\n",
      "[Epoch 4] Val Loss: 76.2611, Val Metrics: {'MulticlassAUROC': 0.863762378692627, 'MulticlassAUPRC': 0.5963843464851379, 'MulticlassAccuracy': 0.881700873374939}\n",
      "[Epoch 5] Train Loss: 297.9449, Acc: 0.8831\n",
      "[Epoch 5] Val Loss: 75.9473, Val Metrics: {'MulticlassAUROC': 0.8658847212791443, 'MulticlassAUPRC': 0.6111338138580322, 'MulticlassAccuracy': 0.8821733593940735}\n",
      "[Epoch 6] Train Loss: 296.4084, Acc: 0.8835\n",
      "[Epoch 6] Val Loss: 75.0145, Val Metrics: {'MulticlassAUROC': 0.8697285056114197, 'MulticlassAUPRC': 0.6093092560768127, 'MulticlassAccuracy': 0.8811920881271362}\n",
      "[Epoch 7] Train Loss: 293.0182, Acc: 0.8842\n",
      "[Epoch 7] Val Loss: 75.6917, Val Metrics: {'MulticlassAUROC': 0.8676818013191223, 'MulticlassAUPRC': 0.6123284101486206, 'MulticlassAccuracy': 0.8818826079368591}\n",
      "[Epoch 8] Train Loss: 291.2697, Acc: 0.8842\n",
      "[Epoch 8] Val Loss: 76.1585, Val Metrics: {'MulticlassAUROC': 0.8662081360816956, 'MulticlassAUPRC': 0.6091590523719788, 'MulticlassAccuracy': 0.8828275203704834}\n",
      "[Epoch 9] Train Loss: 289.8880, Acc: 0.8842\n",
      "[Epoch 9] Val Loss: 76.5605, Val Metrics: {'MulticlassAUROC': 0.8652562499046326, 'MulticlassAUPRC': 0.6130401492118835, 'MulticlassAccuracy': 0.882536768913269}\n"
     ]
    },
    {
     "data": {
      "text/html": [],
      "text/plain": [
       "<IPython.core.display.HTML object>"
      ]
     },
     "metadata": {},
     "output_type": "display_data"
    },
    {
     "data": {
      "text/html": [
       "<br>    <style><br>        .wandb-row {<br>            display: flex;<br>            flex-direction: row;<br>            flex-wrap: wrap;<br>            justify-content: flex-start;<br>            width: 100%;<br>        }<br>        .wandb-col {<br>            display: flex;<br>            flex-direction: column;<br>            flex-basis: 100%;<br>            flex: 1;<br>            padding: 10px;<br>        }<br>    </style><br><div class=\"wandb-row\"><div class=\"wandb-col\"><h3>Run history:</h3><br/><table class=\"wandb\"><tr><td>epoch</td><td>▁▂▃▃▄▅▆▆▇█</td></tr><tr><td>train_accuracy</td><td>▁▆▆▇▇▇████</td></tr><tr><td>train_loss</td><td>█▄▃▃▂▂▂▁▁▁</td></tr><tr><td>val_MulticlassAUPRC</td><td>▁▅▆▇▃▇▇█▇█</td></tr><tr><td>val_MulticlassAUROC</td><td>▁▅▅▆▆▇█▇▇▇</td></tr><tr><td>val_MulticlassAccuracy</td><td>▁▄▆▅▇▇▆▇██</td></tr><tr><td>val_loss</td><td>█▄▃▃▃▂▁▂▃▃</td></tr></table><br/></div><div class=\"wandb-col\"><h3>Run summary:</h3><br/><table class=\"wandb\"><tr><td>epoch</td><td>9</td></tr><tr><td>train_accuracy</td><td>0.88424</td></tr><tr><td>train_loss</td><td>289.88804</td></tr><tr><td>val_MulticlassAUPRC</td><td>0.61304</td></tr><tr><td>val_MulticlassAUROC</td><td>0.86526</td></tr><tr><td>val_MulticlassAccuracy</td><td>0.88254</td></tr><tr><td>val_loss</td><td>76.56048</td></tr></table><br/></div></div>"
      ],
      "text/plain": [
       "<IPython.core.display.HTML object>"
      ]
     },
     "metadata": {},
     "output_type": "display_data"
    },
    {
     "data": {
      "text/html": [
       " View run <strong style=\"color:#cdcd00\">mre_1kb_128_0.001</strong> at: <a href='https://wandb.ai/bind-gps/BindGPS/runs/itur8cbk' target=\"_blank\">https://wandb.ai/bind-gps/BindGPS/runs/itur8cbk</a><br> View project at: <a href='https://wandb.ai/bind-gps/BindGPS' target=\"_blank\">https://wandb.ai/bind-gps/BindGPS</a><br>Synced 5 W&B file(s), 0 media file(s), 0 artifact file(s) and 0 other file(s)"
      ],
      "text/plain": [
       "<IPython.core.display.HTML object>"
      ]
     },
     "metadata": {},
     "output_type": "display_data"
    },
    {
     "data": {
      "text/html": [
       "Find logs at: <code>./wandb/run-20251002_135002-itur8cbk/logs</code>"
      ],
      "text/plain": [
       "<IPython.core.display.HTML object>"
      ]
     },
     "metadata": {},
     "output_type": "display_data"
    },
    {
     "name": "stderr",
     "output_type": "stream",
     "text": [
      "\u001b[34m\u001b[1mwandb\u001b[0m: Agent Starting Run: dz2f8a4q with config:\n",
      "\u001b[34m\u001b[1mwandb\u001b[0m: \tbatch_size: 128\n",
      "\u001b[34m\u001b[1mwandb\u001b[0m: \tepochs: 10\n",
      "\u001b[34m\u001b[1mwandb\u001b[0m: \thidden_dims: [256, 128]\n",
      "\u001b[34m\u001b[1mwandb\u001b[0m: \tlr: 0.001\n",
      "\u001b[34m\u001b[1mwandb\u001b[0m: \tresolution: 1kb\n",
      "\u001b[34m\u001b[1mwandb\u001b[0m: \tsvd_dim: 128\n",
      "\u001b[34m\u001b[1mwandb\u001b[0m: \ttarget_metric: MulticlassAUROC\n",
      "\u001b[34m\u001b[1mwandb\u001b[0m: \ttask: gene\n",
      "\u001b[34m\u001b[1mwandb\u001b[0m: \tweighted: True\n",
      "\u001b[34m\u001b[1mwandb\u001b[0m: \u001b[32m\u001b[41mERROR\u001b[0m Failed to detect the name of this notebook. You can set it manually with the WANDB_NOTEBOOK_NAME environment variable to enable code saving.\n"
     ]
    },
    {
     "data": {
      "text/html": [],
      "text/plain": [
       "<IPython.core.display.HTML object>"
      ]
     },
     "metadata": {},
     "output_type": "display_data"
    },
    {
     "data": {
      "text/html": [
       "Tracking run with wandb version 0.22.1"
      ],
      "text/plain": [
       "<IPython.core.display.HTML object>"
      ]
     },
     "metadata": {},
     "output_type": "display_data"
    },
    {
     "data": {
      "text/html": [
       "Run data is saved locally in <code>/oscar/data/larschan/shared_data/BindGPS/model/wandb/run-20251002_135043-dz2f8a4q</code>"
      ],
      "text/plain": [
       "<IPython.core.display.HTML object>"
      ]
     },
     "metadata": {},
     "output_type": "display_data"
    },
    {
     "data": {
      "text/html": [
       "Syncing run <strong><a href='https://wandb.ai/bind-gps/BindGPS/runs/dz2f8a4q' target=\"_blank\">true-sweep-15</a></strong> to <a href='https://wandb.ai/bind-gps/BindGPS' target=\"_blank\">Weights & Biases</a> (<a href='https://wandb.me/developer-guide' target=\"_blank\">docs</a>)<br>Sweep page: <a href='https://wandb.ai/bind-gps/BindGPS/sweeps/79ufxypb' target=\"_blank\">https://wandb.ai/bind-gps/BindGPS/sweeps/79ufxypb</a>"
      ],
      "text/plain": [
       "<IPython.core.display.HTML object>"
      ]
     },
     "metadata": {},
     "output_type": "display_data"
    },
    {
     "data": {
      "text/html": [
       " View project at <a href='https://wandb.ai/bind-gps/BindGPS' target=\"_blank\">https://wandb.ai/bind-gps/BindGPS</a>"
      ],
      "text/plain": [
       "<IPython.core.display.HTML object>"
      ]
     },
     "metadata": {},
     "output_type": "display_data"
    },
    {
     "data": {
      "text/html": [
       " View sweep at <a href='https://wandb.ai/bind-gps/BindGPS/sweeps/79ufxypb' target=\"_blank\">https://wandb.ai/bind-gps/BindGPS/sweeps/79ufxypb</a>"
      ],
      "text/plain": [
       "<IPython.core.display.HTML object>"
      ]
     },
     "metadata": {},
     "output_type": "display_data"
    },
    {
     "data": {
      "text/html": [
       " View run at <a href='https://wandb.ai/bind-gps/BindGPS/runs/dz2f8a4q' target=\"_blank\">https://wandb.ai/bind-gps/BindGPS/runs/dz2f8a4q</a>"
      ],
      "text/plain": [
       "<IPython.core.display.HTML object>"
      ]
     },
     "metadata": {},
     "output_type": "display_data"
    },
    {
     "name": "stderr",
     "output_type": "stream",
     "text": [
      "\u001b[34m\u001b[1mwandb\u001b[0m: \u001b[33mWARNING\u001b[0m Calling wandb.login() after wandb.init() has no effect.\n"
     ]
    },
    {
     "name": "stdout",
     "output_type": "stream",
     "text": [
      "[Epoch 0] Train Loss: 862.1776, Acc: 0.5039\n",
      "[Epoch 0] Val Loss: 206.7545, Val Metrics: {'MulticlassAUROC': 0.7124125957489014, 'MulticlassAUPRC': 0.5101737380027771, 'MulticlassAccuracy': 0.5163365602493286}\n",
      "[Epoch 1] Train Loss: 835.3424, Acc: 0.5356\n",
      "[Epoch 1] Val Loss: 204.5902, Val Metrics: {'MulticlassAUROC': 0.7186254858970642, 'MulticlassAUPRC': 0.5159828662872314, 'MulticlassAccuracy': 0.5317463278770447}\n",
      "[Epoch 2] Train Loss: 827.2396, Acc: 0.5400\n",
      "[Epoch 2] Val Loss: 203.7932, Val Metrics: {'MulticlassAUROC': 0.7257277369499207, 'MulticlassAUPRC': 0.5255706906318665, 'MulticlassAccuracy': 0.5598400831222534}\n",
      "[Epoch 3] Train Loss: 821.2947, Acc: 0.5449\n",
      "[Epoch 3] Val Loss: 204.5484, Val Metrics: {'MulticlassAUROC': 0.7243945002555847, 'MulticlassAUPRC': 0.5233364701271057, 'MulticlassAccuracy': 0.5516263842582703}\n",
      "[Epoch 4] Train Loss: 816.2560, Acc: 0.5495\n",
      "[Epoch 4] Val Loss: 202.7402, Val Metrics: {'MulticlassAUROC': 0.7327070236206055, 'MulticlassAUPRC': 0.5314192175865173, 'MulticlassAccuracy': 0.5688533782958984}\n",
      "[Epoch 5] Train Loss: 811.9883, Acc: 0.5494\n",
      "[Epoch 5] Val Loss: 202.6509, Val Metrics: {'MulticlassAUROC': 0.7305326461791992, 'MulticlassAUPRC': 0.5291224122047424, 'MulticlassAccuracy': 0.5655097365379333}\n",
      "[Epoch 6] Train Loss: 808.3563, Acc: 0.5513\n",
      "[Epoch 6] Val Loss: 202.8169, Val Metrics: {'MulticlassAUROC': 0.7318564057350159, 'MulticlassAUPRC': 0.5302037596702576, 'MulticlassAccuracy': 0.5725967884063721}\n",
      "[Epoch 7] Train Loss: 803.8345, Acc: 0.5570\n",
      "[Epoch 7] Val Loss: 202.9420, Val Metrics: {'MulticlassAUROC': 0.72732013463974, 'MulticlassAUPRC': 0.5275384187698364, 'MulticlassAccuracy': 0.5607486963272095}\n",
      "[Epoch 8] Train Loss: 800.7094, Acc: 0.5556\n",
      "[Epoch 8] Val Loss: 201.8804, Val Metrics: {'MulticlassAUROC': 0.7305980324745178, 'MulticlassAUPRC': 0.5314974784851074, 'MulticlassAccuracy': 0.5607486963272095}\n",
      "[Epoch 9] Train Loss: 797.0654, Acc: 0.5579\n",
      "[Epoch 9] Val Loss: 202.3402, Val Metrics: {'MulticlassAUROC': 0.7292652130126953, 'MulticlassAUPRC': 0.5281767845153809, 'MulticlassAccuracy': 0.5460294485092163}\n"
     ]
    },
    {
     "data": {
      "text/html": [],
      "text/plain": [
       "<IPython.core.display.HTML object>"
      ]
     },
     "metadata": {},
     "output_type": "display_data"
    },
    {
     "data": {
      "text/html": [
       "<br>    <style><br>        .wandb-row {<br>            display: flex;<br>            flex-direction: row;<br>            flex-wrap: wrap;<br>            justify-content: flex-start;<br>            width: 100%;<br>        }<br>        .wandb-col {<br>            display: flex;<br>            flex-direction: column;<br>            flex-basis: 100%;<br>            flex: 1;<br>            padding: 10px;<br>        }<br>    </style><br><div class=\"wandb-row\"><div class=\"wandb-col\"><h3>Run history:</h3><br/><table class=\"wandb\"><tr><td>epoch</td><td>▁▂▃▃▄▅▆▆▇█</td></tr><tr><td>train_accuracy</td><td>▁▅▆▆▇▇▇███</td></tr><tr><td>train_loss</td><td>█▅▄▄▃▃▂▂▁▁</td></tr><tr><td>val_MulticlassAUPRC</td><td>▁▃▆▅█▇█▇█▇</td></tr><tr><td>val_MulticlassAUROC</td><td>▁▃▆▅█▇█▆▇▇</td></tr><tr><td>val_MulticlassAccuracy</td><td>▁▃▆▅█▇█▇▇▅</td></tr><tr><td>val_loss</td><td>█▅▄▅▂▂▂▃▁▂</td></tr></table><br/></div><div class=\"wandb-col\"><h3>Run summary:</h3><br/><table class=\"wandb\"><tr><td>epoch</td><td>9</td></tr><tr><td>train_accuracy</td><td>0.55788</td></tr><tr><td>train_loss</td><td>797.06536</td></tr><tr><td>val_MulticlassAUPRC</td><td>0.52818</td></tr><tr><td>val_MulticlassAUROC</td><td>0.72927</td></tr><tr><td>val_MulticlassAccuracy</td><td>0.54603</td></tr><tr><td>val_loss</td><td>202.34018</td></tr></table><br/></div></div>"
      ],
      "text/plain": [
       "<IPython.core.display.HTML object>"
      ]
     },
     "metadata": {},
     "output_type": "display_data"
    },
    {
     "data": {
      "text/html": [
       " View run <strong style=\"color:#cdcd00\">gene_1kb_128_0.001</strong> at: <a href='https://wandb.ai/bind-gps/BindGPS/runs/dz2f8a4q' target=\"_blank\">https://wandb.ai/bind-gps/BindGPS/runs/dz2f8a4q</a><br> View project at: <a href='https://wandb.ai/bind-gps/BindGPS' target=\"_blank\">https://wandb.ai/bind-gps/BindGPS</a><br>Synced 5 W&B file(s), 0 media file(s), 0 artifact file(s) and 0 other file(s)"
      ],
      "text/plain": [
       "<IPython.core.display.HTML object>"
      ]
     },
     "metadata": {},
     "output_type": "display_data"
    },
    {
     "data": {
      "text/html": [
       "Find logs at: <code>./wandb/run-20251002_135043-dz2f8a4q/logs</code>"
      ],
      "text/plain": [
       "<IPython.core.display.HTML object>"
      ]
     },
     "metadata": {},
     "output_type": "display_data"
    },
    {
     "name": "stderr",
     "output_type": "stream",
     "text": [
      "\u001b[34m\u001b[1mwandb\u001b[0m: Agent Starting Run: 7kl9m6lt with config:\n",
      "\u001b[34m\u001b[1mwandb\u001b[0m: \tbatch_size: 128\n",
      "\u001b[34m\u001b[1mwandb\u001b[0m: \tepochs: 10\n",
      "\u001b[34m\u001b[1mwandb\u001b[0m: \thidden_dims: [256, 128]\n",
      "\u001b[34m\u001b[1mwandb\u001b[0m: \tlr: 0.001\n",
      "\u001b[34m\u001b[1mwandb\u001b[0m: \tresolution: 1kb\n",
      "\u001b[34m\u001b[1mwandb\u001b[0m: \tsvd_dim: 128\n",
      "\u001b[34m\u001b[1mwandb\u001b[0m: \ttarget_metric: MulticlassAUROC\n",
      "\u001b[34m\u001b[1mwandb\u001b[0m: \ttask: gene\n",
      "\u001b[34m\u001b[1mwandb\u001b[0m: \tweighted: False\n",
      "\u001b[34m\u001b[1mwandb\u001b[0m: \u001b[32m\u001b[41mERROR\u001b[0m Failed to detect the name of this notebook. You can set it manually with the WANDB_NOTEBOOK_NAME environment variable to enable code saving.\n"
     ]
    },
    {
     "data": {
      "text/html": [],
      "text/plain": [
       "<IPython.core.display.HTML object>"
      ]
     },
     "metadata": {},
     "output_type": "display_data"
    },
    {
     "data": {
      "text/html": [
       "Tracking run with wandb version 0.22.1"
      ],
      "text/plain": [
       "<IPython.core.display.HTML object>"
      ]
     },
     "metadata": {},
     "output_type": "display_data"
    },
    {
     "data": {
      "text/html": [
       "Run data is saved locally in <code>/oscar/data/larschan/shared_data/BindGPS/model/wandb/run-20251002_135124-7kl9m6lt</code>"
      ],
      "text/plain": [
       "<IPython.core.display.HTML object>"
      ]
     },
     "metadata": {},
     "output_type": "display_data"
    },
    {
     "data": {
      "text/html": [
       "Syncing run <strong><a href='https://wandb.ai/bind-gps/BindGPS/runs/7kl9m6lt' target=\"_blank\">wild-sweep-16</a></strong> to <a href='https://wandb.ai/bind-gps/BindGPS' target=\"_blank\">Weights & Biases</a> (<a href='https://wandb.me/developer-guide' target=\"_blank\">docs</a>)<br>Sweep page: <a href='https://wandb.ai/bind-gps/BindGPS/sweeps/79ufxypb' target=\"_blank\">https://wandb.ai/bind-gps/BindGPS/sweeps/79ufxypb</a>"
      ],
      "text/plain": [
       "<IPython.core.display.HTML object>"
      ]
     },
     "metadata": {},
     "output_type": "display_data"
    },
    {
     "data": {
      "text/html": [
       " View project at <a href='https://wandb.ai/bind-gps/BindGPS' target=\"_blank\">https://wandb.ai/bind-gps/BindGPS</a>"
      ],
      "text/plain": [
       "<IPython.core.display.HTML object>"
      ]
     },
     "metadata": {},
     "output_type": "display_data"
    },
    {
     "data": {
      "text/html": [
       " View sweep at <a href='https://wandb.ai/bind-gps/BindGPS/sweeps/79ufxypb' target=\"_blank\">https://wandb.ai/bind-gps/BindGPS/sweeps/79ufxypb</a>"
      ],
      "text/plain": [
       "<IPython.core.display.HTML object>"
      ]
     },
     "metadata": {},
     "output_type": "display_data"
    },
    {
     "data": {
      "text/html": [
       " View run at <a href='https://wandb.ai/bind-gps/BindGPS/runs/7kl9m6lt' target=\"_blank\">https://wandb.ai/bind-gps/BindGPS/runs/7kl9m6lt</a>"
      ],
      "text/plain": [
       "<IPython.core.display.HTML object>"
      ]
     },
     "metadata": {},
     "output_type": "display_data"
    },
    {
     "name": "stderr",
     "output_type": "stream",
     "text": [
      "\u001b[34m\u001b[1mwandb\u001b[0m: \u001b[33mWARNING\u001b[0m Calling wandb.login() after wandb.init() has no effect.\n"
     ]
    },
    {
     "name": "stdout",
     "output_type": "stream",
     "text": [
      "[Epoch 0] Train Loss: 720.5109, Acc: 0.6172\n",
      "[Epoch 0] Val Loss: 174.2535, Val Metrics: {'MulticlassAUROC': 0.7211353778839111, 'MulticlassAUPRC': 0.5156542658805847, 'MulticlassAccuracy': 0.6331819295883179}\n",
      "[Epoch 1] Train Loss: 697.1591, Acc: 0.6314\n",
      "[Epoch 1] Val Loss: 171.6882, Val Metrics: {'MulticlassAUROC': 0.7290000319480896, 'MulticlassAUPRC': 0.5243762135505676, 'MulticlassAccuracy': 0.6367436051368713}\n",
      "[Epoch 2] Train Loss: 690.3034, Acc: 0.6343\n",
      "[Epoch 2] Val Loss: 172.2472, Val Metrics: {'MulticlassAUROC': 0.731137752532959, 'MulticlassAUPRC': 0.5289818644523621, 'MulticlassAccuracy': 0.6365618705749512}\n",
      "[Epoch 3] Train Loss: 686.7441, Acc: 0.6365\n",
      "[Epoch 3] Val Loss: 171.2769, Val Metrics: {'MulticlassAUROC': 0.732249915599823, 'MulticlassAUPRC': 0.5301220417022705, 'MulticlassAccuracy': 0.6363074779510498}\n",
      "[Epoch 4] Train Loss: 681.8221, Acc: 0.6413\n",
      "[Epoch 4] Val Loss: 171.0002, Val Metrics: {'MulticlassAUROC': 0.7344772219657898, 'MulticlassAUPRC': 0.5342209935188293, 'MulticlassAccuracy': 0.6373251080513}\n",
      "[Epoch 5] Train Loss: 678.9757, Acc: 0.6431\n",
      "[Epoch 5] Val Loss: 170.1717, Val Metrics: {'MulticlassAUROC': 0.7365012764930725, 'MulticlassAUPRC': 0.5365288853645325, 'MulticlassAccuracy': 0.6370343565940857}\n",
      "[Epoch 6] Train Loss: 675.7079, Acc: 0.6438\n",
      "[Epoch 6] Val Loss: 169.9127, Val Metrics: {'MulticlassAUROC': 0.7376078963279724, 'MulticlassAUPRC': 0.5359699726104736, 'MulticlassAccuracy': 0.6397601366043091}\n",
      "[Epoch 7] Train Loss: 672.7209, Acc: 0.6455\n",
      "[Epoch 7] Val Loss: 169.8390, Val Metrics: {'MulticlassAUROC': 0.7375402450561523, 'MulticlassAUPRC': 0.5369578003883362, 'MulticlassAccuracy': 0.6393603682518005}\n",
      "[Epoch 8] Train Loss: 671.1504, Acc: 0.6471\n",
      "[Epoch 8] Val Loss: 169.7342, Val Metrics: {'MulticlassAUROC': 0.7386637330055237, 'MulticlassAUPRC': 0.5388104915618896, 'MulticlassAccuracy': 0.6403779983520508}\n",
      "[Epoch 9] Train Loss: 668.7159, Acc: 0.6495\n",
      "[Epoch 9] Val Loss: 169.6699, Val Metrics: {'MulticlassAUROC': 0.737260103225708, 'MulticlassAUPRC': 0.5369425415992737, 'MulticlassAccuracy': 0.6408504247665405}\n"
     ]
    },
    {
     "data": {
      "text/html": [],
      "text/plain": [
       "<IPython.core.display.HTML object>"
      ]
     },
     "metadata": {},
     "output_type": "display_data"
    },
    {
     "data": {
      "text/html": [
       "<br>    <style><br>        .wandb-row {<br>            display: flex;<br>            flex-direction: row;<br>            flex-wrap: wrap;<br>            justify-content: flex-start;<br>            width: 100%;<br>        }<br>        .wandb-col {<br>            display: flex;<br>            flex-direction: column;<br>            flex-basis: 100%;<br>            flex: 1;<br>            padding: 10px;<br>        }<br>    </style><br><div class=\"wandb-row\"><div class=\"wandb-col\"><h3>Run history:</h3><br/><table class=\"wandb\"><tr><td>epoch</td><td>▁▂▃▃▄▅▆▆▇█</td></tr><tr><td>train_accuracy</td><td>▁▄▅▅▆▇▇▇▇█</td></tr><tr><td>train_loss</td><td>█▅▄▃▃▂▂▂▁▁</td></tr><tr><td>val_MulticlassAUPRC</td><td>▁▄▅▅▇▇▇▇█▇</td></tr><tr><td>val_MulticlassAUROC</td><td>▁▄▅▅▆▇███▇</td></tr><tr><td>val_MulticlassAccuracy</td><td>▁▄▄▄▅▅▇▇██</td></tr><tr><td>val_loss</td><td>█▄▅▃▃▂▁▁▁▁</td></tr></table><br/></div><div class=\"wandb-col\"><h3>Run summary:</h3><br/><table class=\"wandb\"><tr><td>epoch</td><td>9</td></tr><tr><td>train_accuracy</td><td>0.64955</td></tr><tr><td>train_loss</td><td>668.71588</td></tr><tr><td>val_MulticlassAUPRC</td><td>0.53694</td></tr><tr><td>val_MulticlassAUROC</td><td>0.73726</td></tr><tr><td>val_MulticlassAccuracy</td><td>0.64085</td></tr><tr><td>val_loss</td><td>169.66989</td></tr></table><br/></div></div>"
      ],
      "text/plain": [
       "<IPython.core.display.HTML object>"
      ]
     },
     "metadata": {},
     "output_type": "display_data"
    },
    {
     "data": {
      "text/html": [
       " View run <strong style=\"color:#cdcd00\">gene_1kb_128_0.001</strong> at: <a href='https://wandb.ai/bind-gps/BindGPS/runs/7kl9m6lt' target=\"_blank\">https://wandb.ai/bind-gps/BindGPS/runs/7kl9m6lt</a><br> View project at: <a href='https://wandb.ai/bind-gps/BindGPS' target=\"_blank\">https://wandb.ai/bind-gps/BindGPS</a><br>Synced 5 W&B file(s), 0 media file(s), 0 artifact file(s) and 0 other file(s)"
      ],
      "text/plain": [
       "<IPython.core.display.HTML object>"
      ]
     },
     "metadata": {},
     "output_type": "display_data"
    },
    {
     "data": {
      "text/html": [
       "Find logs at: <code>./wandb/run-20251002_135124-7kl9m6lt/logs</code>"
      ],
      "text/plain": [
       "<IPython.core.display.HTML object>"
      ]
     },
     "metadata": {},
     "output_type": "display_data"
    },
    {
     "name": "stderr",
     "output_type": "stream",
     "text": [
      "\u001b[34m\u001b[1mwandb\u001b[0m: Agent Starting Run: wmklt9a6 with config:\n",
      "\u001b[34m\u001b[1mwandb\u001b[0m: \tbatch_size: 128\n",
      "\u001b[34m\u001b[1mwandb\u001b[0m: \tepochs: 10\n",
      "\u001b[34m\u001b[1mwandb\u001b[0m: \thidden_dims: [256, 128]\n",
      "\u001b[34m\u001b[1mwandb\u001b[0m: \tlr: 0.001\n",
      "\u001b[34m\u001b[1mwandb\u001b[0m: \tresolution: 1kb\n",
      "\u001b[34m\u001b[1mwandb\u001b[0m: \tsvd_dim: 128\n",
      "\u001b[34m\u001b[1mwandb\u001b[0m: \ttarget_metric: MulticlassAccuracy\n",
      "\u001b[34m\u001b[1mwandb\u001b[0m: \ttask: mre\n",
      "\u001b[34m\u001b[1mwandb\u001b[0m: \tweighted: True\n",
      "\u001b[34m\u001b[1mwandb\u001b[0m: \u001b[32m\u001b[41mERROR\u001b[0m Failed to detect the name of this notebook. You can set it manually with the WANDB_NOTEBOOK_NAME environment variable to enable code saving.\n"
     ]
    },
    {
     "data": {
      "text/html": [],
      "text/plain": [
       "<IPython.core.display.HTML object>"
      ]
     },
     "metadata": {},
     "output_type": "display_data"
    },
    {
     "data": {
      "text/html": [
       "Tracking run with wandb version 0.22.1"
      ],
      "text/plain": [
       "<IPython.core.display.HTML object>"
      ]
     },
     "metadata": {},
     "output_type": "display_data"
    },
    {
     "data": {
      "text/html": [
       "Run data is saved locally in <code>/oscar/data/larschan/shared_data/BindGPS/model/wandb/run-20251002_135205-wmklt9a6</code>"
      ],
      "text/plain": [
       "<IPython.core.display.HTML object>"
      ]
     },
     "metadata": {},
     "output_type": "display_data"
    },
    {
     "data": {
      "text/html": [
       "Syncing run <strong><a href='https://wandb.ai/bind-gps/BindGPS/runs/wmklt9a6' target=\"_blank\">comic-sweep-17</a></strong> to <a href='https://wandb.ai/bind-gps/BindGPS' target=\"_blank\">Weights & Biases</a> (<a href='https://wandb.me/developer-guide' target=\"_blank\">docs</a>)<br>Sweep page: <a href='https://wandb.ai/bind-gps/BindGPS/sweeps/79ufxypb' target=\"_blank\">https://wandb.ai/bind-gps/BindGPS/sweeps/79ufxypb</a>"
      ],
      "text/plain": [
       "<IPython.core.display.HTML object>"
      ]
     },
     "metadata": {},
     "output_type": "display_data"
    },
    {
     "data": {
      "text/html": [
       " View project at <a href='https://wandb.ai/bind-gps/BindGPS' target=\"_blank\">https://wandb.ai/bind-gps/BindGPS</a>"
      ],
      "text/plain": [
       "<IPython.core.display.HTML object>"
      ]
     },
     "metadata": {},
     "output_type": "display_data"
    },
    {
     "data": {
      "text/html": [
       " View sweep at <a href='https://wandb.ai/bind-gps/BindGPS/sweeps/79ufxypb' target=\"_blank\">https://wandb.ai/bind-gps/BindGPS/sweeps/79ufxypb</a>"
      ],
      "text/plain": [
       "<IPython.core.display.HTML object>"
      ]
     },
     "metadata": {},
     "output_type": "display_data"
    },
    {
     "data": {
      "text/html": [
       " View run at <a href='https://wandb.ai/bind-gps/BindGPS/runs/wmklt9a6' target=\"_blank\">https://wandb.ai/bind-gps/BindGPS/runs/wmklt9a6</a>"
      ],
      "text/plain": [
       "<IPython.core.display.HTML object>"
      ]
     },
     "metadata": {},
     "output_type": "display_data"
    },
    {
     "name": "stderr",
     "output_type": "stream",
     "text": [
      "\u001b[34m\u001b[1mwandb\u001b[0m: \u001b[33mWARNING\u001b[0m Calling wandb.login() after wandb.init() has no effect.\n"
     ]
    },
    {
     "name": "stdout",
     "output_type": "stream",
     "text": [
      "[Epoch 0] Train Loss: 792.4039, Acc: 0.6732\n",
      "[Epoch 0] Val Loss: 184.8366, Val Metrics: {'MulticlassAUROC': 0.8106696605682373, 'MulticlassAUPRC': 0.5253304243087769, 'MulticlassAccuracy': 0.6849355101585388}\n",
      "[Epoch 1] Train Loss: 730.5060, Acc: 0.7239\n",
      "[Epoch 1] Val Loss: 180.4687, Val Metrics: {'MulticlassAUROC': 0.8190202116966248, 'MulticlassAUPRC': 0.5315775275230408, 'MulticlassAccuracy': 0.7130292654037476}\n",
      "[Epoch 2] Train Loss: 709.6310, Acc: 0.7378\n",
      "[Epoch 2] Val Loss: 182.5298, Val Metrics: {'MulticlassAUROC': 0.8206915855407715, 'MulticlassAUPRC': 0.5274710059165955, 'MulticlassAccuracy': 0.71819007396698}\n",
      "[Epoch 3] Train Loss: 695.2026, Acc: 0.7411\n",
      "[Epoch 3] Val Loss: 175.2819, Val Metrics: {'MulticlassAUROC': 0.8351430296897888, 'MulticlassAUPRC': 0.5516271591186523, 'MulticlassAccuracy': 0.7528620958328247}\n",
      "[Epoch 4] Train Loss: 685.9288, Acc: 0.7429\n",
      "[Epoch 4] Val Loss: 176.8526, Val Metrics: {'MulticlassAUROC': 0.8252348899841309, 'MulticlassAUPRC': 0.539029061794281, 'MulticlassAccuracy': 0.6515355110168457}\n",
      "[Epoch 5] Train Loss: 676.3609, Acc: 0.7461\n",
      "[Epoch 5] Val Loss: 175.5004, Val Metrics: {'MulticlassAUROC': 0.8395200371742249, 'MulticlassAUPRC': 0.5562093257904053, 'MulticlassAccuracy': 0.7606396675109863}\n",
      "[Epoch 6] Train Loss: 667.0945, Acc: 0.7466\n",
      "[Epoch 6] Val Loss: 175.4101, Val Metrics: {'MulticlassAUROC': 0.8325605988502502, 'MulticlassAUPRC': 0.5462099313735962, 'MulticlassAccuracy': 0.719135046005249}\n",
      "[Epoch 7] Train Loss: 657.8682, Acc: 0.7452\n",
      "[Epoch 7] Val Loss: 175.6221, Val Metrics: {'MulticlassAUROC': 0.8418733477592468, 'MulticlassAUPRC': 0.5627663731575012, 'MulticlassAccuracy': 0.7921497225761414}\n",
      "[Epoch 8] Train Loss: 652.2818, Acc: 0.7495\n",
      "[Epoch 8] Val Loss: 175.1129, Val Metrics: {'MulticlassAUROC': 0.8340587019920349, 'MulticlassAUPRC': 0.5399084091186523, 'MulticlassAccuracy': 0.6847537755966187}\n",
      "[Epoch 9] Train Loss: 644.6924, Acc: 0.7499\n",
      "[Epoch 9] Val Loss: 175.0005, Val Metrics: {'MulticlassAUROC': 0.8378472924232483, 'MulticlassAUPRC': 0.5329038500785828, 'MulticlassAccuracy': 0.740178108215332}\n"
     ]
    },
    {
     "data": {
      "text/html": [],
      "text/plain": [
       "<IPython.core.display.HTML object>"
      ]
     },
     "metadata": {},
     "output_type": "display_data"
    },
    {
     "data": {
      "text/html": [
       "<br>    <style><br>        .wandb-row {<br>            display: flex;<br>            flex-direction: row;<br>            flex-wrap: wrap;<br>            justify-content: flex-start;<br>            width: 100%;<br>        }<br>        .wandb-col {<br>            display: flex;<br>            flex-direction: column;<br>            flex-basis: 100%;<br>            flex: 1;<br>            padding: 10px;<br>        }<br>    </style><br><div class=\"wandb-row\"><div class=\"wandb-col\"><h3>Run history:</h3><br/><table class=\"wandb\"><tr><td>epoch</td><td>▁▂▃▃▄▅▆▆▇█</td></tr><tr><td>train_accuracy</td><td>▁▆▇▇▇█████</td></tr><tr><td>train_loss</td><td>█▅▄▃▃▃▂▂▁▁</td></tr><tr><td>val_MulticlassAUPRC</td><td>▁▂▁▆▄▇▅█▄▂</td></tr><tr><td>val_MulticlassAUROC</td><td>▁▃▃▆▄▇▆█▆▇</td></tr><tr><td>val_MulticlassAccuracy</td><td>▃▄▄▆▁▆▄█▃▅</td></tr><tr><td>val_loss</td><td>█▅▆▁▂▁▁▁▁▁</td></tr></table><br/></div><div class=\"wandb-col\"><h3>Run summary:</h3><br/><table class=\"wandb\"><tr><td>epoch</td><td>9</td></tr><tr><td>train_accuracy</td><td>0.74987</td></tr><tr><td>train_loss</td><td>644.69237</td></tr><tr><td>val_MulticlassAUPRC</td><td>0.5329</td></tr><tr><td>val_MulticlassAUROC</td><td>0.83785</td></tr><tr><td>val_MulticlassAccuracy</td><td>0.74018</td></tr><tr><td>val_loss</td><td>175.00045</td></tr></table><br/></div></div>"
      ],
      "text/plain": [
       "<IPython.core.display.HTML object>"
      ]
     },
     "metadata": {},
     "output_type": "display_data"
    },
    {
     "data": {
      "text/html": [
       " View run <strong style=\"color:#cdcd00\">mre_1kb_128_0.001</strong> at: <a href='https://wandb.ai/bind-gps/BindGPS/runs/wmklt9a6' target=\"_blank\">https://wandb.ai/bind-gps/BindGPS/runs/wmklt9a6</a><br> View project at: <a href='https://wandb.ai/bind-gps/BindGPS' target=\"_blank\">https://wandb.ai/bind-gps/BindGPS</a><br>Synced 5 W&B file(s), 0 media file(s), 0 artifact file(s) and 0 other file(s)"
      ],
      "text/plain": [
       "<IPython.core.display.HTML object>"
      ]
     },
     "metadata": {},
     "output_type": "display_data"
    },
    {
     "data": {
      "text/html": [
       "Find logs at: <code>./wandb/run-20251002_135205-wmklt9a6/logs</code>"
      ],
      "text/plain": [
       "<IPython.core.display.HTML object>"
      ]
     },
     "metadata": {},
     "output_type": "display_data"
    },
    {
     "name": "stderr",
     "output_type": "stream",
     "text": [
      "\u001b[34m\u001b[1mwandb\u001b[0m: Agent Starting Run: uti425e6 with config:\n",
      "\u001b[34m\u001b[1mwandb\u001b[0m: \tbatch_size: 128\n",
      "\u001b[34m\u001b[1mwandb\u001b[0m: \tepochs: 10\n",
      "\u001b[34m\u001b[1mwandb\u001b[0m: \thidden_dims: [256, 128]\n",
      "\u001b[34m\u001b[1mwandb\u001b[0m: \tlr: 0.001\n",
      "\u001b[34m\u001b[1mwandb\u001b[0m: \tresolution: 1kb\n",
      "\u001b[34m\u001b[1mwandb\u001b[0m: \tsvd_dim: 128\n",
      "\u001b[34m\u001b[1mwandb\u001b[0m: \ttarget_metric: MulticlassAccuracy\n",
      "\u001b[34m\u001b[1mwandb\u001b[0m: \ttask: mre\n",
      "\u001b[34m\u001b[1mwandb\u001b[0m: \tweighted: False\n",
      "\u001b[34m\u001b[1mwandb\u001b[0m: \u001b[32m\u001b[41mERROR\u001b[0m Failed to detect the name of this notebook. You can set it manually with the WANDB_NOTEBOOK_NAME environment variable to enable code saving.\n"
     ]
    },
    {
     "data": {
      "text/html": [],
      "text/plain": [
       "<IPython.core.display.HTML object>"
      ]
     },
     "metadata": {},
     "output_type": "display_data"
    },
    {
     "data": {
      "text/html": [
       "Tracking run with wandb version 0.22.1"
      ],
      "text/plain": [
       "<IPython.core.display.HTML object>"
      ]
     },
     "metadata": {},
     "output_type": "display_data"
    },
    {
     "data": {
      "text/html": [
       "Run data is saved locally in <code>/oscar/data/larschan/shared_data/BindGPS/model/wandb/run-20251002_135245-uti425e6</code>"
      ],
      "text/plain": [
       "<IPython.core.display.HTML object>"
      ]
     },
     "metadata": {},
     "output_type": "display_data"
    },
    {
     "data": {
      "text/html": [
       "Syncing run <strong><a href='https://wandb.ai/bind-gps/BindGPS/runs/uti425e6' target=\"_blank\">crimson-sweep-18</a></strong> to <a href='https://wandb.ai/bind-gps/BindGPS' target=\"_blank\">Weights & Biases</a> (<a href='https://wandb.me/developer-guide' target=\"_blank\">docs</a>)<br>Sweep page: <a href='https://wandb.ai/bind-gps/BindGPS/sweeps/79ufxypb' target=\"_blank\">https://wandb.ai/bind-gps/BindGPS/sweeps/79ufxypb</a>"
      ],
      "text/plain": [
       "<IPython.core.display.HTML object>"
      ]
     },
     "metadata": {},
     "output_type": "display_data"
    },
    {
     "data": {
      "text/html": [
       " View project at <a href='https://wandb.ai/bind-gps/BindGPS' target=\"_blank\">https://wandb.ai/bind-gps/BindGPS</a>"
      ],
      "text/plain": [
       "<IPython.core.display.HTML object>"
      ]
     },
     "metadata": {},
     "output_type": "display_data"
    },
    {
     "data": {
      "text/html": [
       " View sweep at <a href='https://wandb.ai/bind-gps/BindGPS/sweeps/79ufxypb' target=\"_blank\">https://wandb.ai/bind-gps/BindGPS/sweeps/79ufxypb</a>"
      ],
      "text/plain": [
       "<IPython.core.display.HTML object>"
      ]
     },
     "metadata": {},
     "output_type": "display_data"
    },
    {
     "data": {
      "text/html": [
       " View run at <a href='https://wandb.ai/bind-gps/BindGPS/runs/uti425e6' target=\"_blank\">https://wandb.ai/bind-gps/BindGPS/runs/uti425e6</a>"
      ],
      "text/plain": [
       "<IPython.core.display.HTML object>"
      ]
     },
     "metadata": {},
     "output_type": "display_data"
    },
    {
     "name": "stderr",
     "output_type": "stream",
     "text": [
      "\u001b[34m\u001b[1mwandb\u001b[0m: \u001b[33mWARNING\u001b[0m Calling wandb.login() after wandb.init() has no effect.\n"
     ]
    },
    {
     "name": "stdout",
     "output_type": "stream",
     "text": [
      "[Epoch 0] Train Loss: 355.2568, Acc: 0.8677\n",
      "[Epoch 0] Val Loss: 79.1730, Val Metrics: {'MulticlassAUROC': 0.849337637424469, 'MulticlassAUPRC': 0.581146240234375, 'MulticlassAccuracy': 0.8771215677261353}\n",
      "[Epoch 1] Train Loss: 319.4705, Acc: 0.8783\n",
      "[Epoch 1] Val Loss: 77.2658, Val Metrics: {'MulticlassAUROC': 0.8604521751403809, 'MulticlassAUPRC': 0.5859744548797607, 'MulticlassAccuracy': 0.8799927234649658}\n",
      "[Epoch 2] Train Loss: 310.7770, Acc: 0.8805\n",
      "[Epoch 2] Val Loss: 75.0427, Val Metrics: {'MulticlassAUROC': 0.865990161895752, 'MulticlassAUPRC': 0.6037584543228149, 'MulticlassAccuracy': 0.882536768913269}\n",
      "[Epoch 3] Train Loss: 305.0278, Acc: 0.8816\n",
      "[Epoch 3] Val Loss: 75.0067, Val Metrics: {'MulticlassAUROC': 0.8685038089752197, 'MulticlassAUPRC': 0.5977166295051575, 'MulticlassAccuracy': 0.881083071231842}\n",
      "[Epoch 4] Train Loss: 302.2905, Acc: 0.8817\n",
      "[Epoch 4] Val Loss: 74.6295, Val Metrics: {'MulticlassAUROC': 0.8709841370582581, 'MulticlassAUPRC': 0.6052157282829285, 'MulticlassAccuracy': 0.8839178681373596}\n",
      "[Epoch 5] Train Loss: 299.5754, Acc: 0.8821\n",
      "[Epoch 5] Val Loss: 74.7213, Val Metrics: {'MulticlassAUROC': 0.8686864972114563, 'MulticlassAUPRC': 0.6018738150596619, 'MulticlassAccuracy': 0.8819553256034851}\n",
      "[Epoch 6] Train Loss: 296.8797, Acc: 0.8833\n",
      "[Epoch 6] Val Loss: 74.2137, Val Metrics: {'MulticlassAUROC': 0.8718550205230713, 'MulticlassAUPRC': 0.6098524928092957, 'MulticlassAccuracy': 0.8834090232849121}\n",
      "[Epoch 7] Train Loss: 294.2770, Acc: 0.8839\n",
      "[Epoch 7] Val Loss: 75.2794, Val Metrics: {'MulticlassAUROC': 0.8679235577583313, 'MulticlassAUPRC': 0.6012294888496399, 'MulticlassAccuracy': 0.8830092549324036}\n",
      "[Epoch 8] Train Loss: 292.6778, Acc: 0.8837\n",
      "[Epoch 8] Val Loss: 74.0744, Val Metrics: {'MulticlassAUROC': 0.8734849095344543, 'MulticlassAUPRC': 0.6109493374824524, 'MulticlassAccuracy': 0.8835543990135193}\n",
      "[Epoch 9] Train Loss: 289.9479, Acc: 0.8849\n",
      "[Epoch 9] Val Loss: 75.0691, Val Metrics: {'MulticlassAUROC': 0.8726531863212585, 'MulticlassAUPRC': 0.6073184609413147, 'MulticlassAccuracy': 0.8838088512420654}\n"
     ]
    },
    {
     "data": {
      "text/html": [],
      "text/plain": [
       "<IPython.core.display.HTML object>"
      ]
     },
     "metadata": {},
     "output_type": "display_data"
    },
    {
     "data": {
      "text/html": [
       "<br>    <style><br>        .wandb-row {<br>            display: flex;<br>            flex-direction: row;<br>            flex-wrap: wrap;<br>            justify-content: flex-start;<br>            width: 100%;<br>        }<br>        .wandb-col {<br>            display: flex;<br>            flex-direction: column;<br>            flex-basis: 100%;<br>            flex: 1;<br>            padding: 10px;<br>        }<br>    </style><br><div class=\"wandb-row\"><div class=\"wandb-col\"><h3>Run history:</h3><br/><table class=\"wandb\"><tr><td>epoch</td><td>▁▂▃▃▄▅▆▆▇█</td></tr><tr><td>train_accuracy</td><td>▁▅▆▇▇▇▇███</td></tr><tr><td>train_loss</td><td>█▄▃▃▂▂▂▁▁▁</td></tr><tr><td>val_MulticlassAUPRC</td><td>▁▂▆▅▇▆█▆█▇</td></tr><tr><td>val_MulticlassAUROC</td><td>▁▄▆▇▇▇█▆██</td></tr><tr><td>val_MulticlassAccuracy</td><td>▁▄▇▅█▆▇▇██</td></tr><tr><td>val_loss</td><td>█▅▂▂▂▂▁▃▁▂</td></tr></table><br/></div><div class=\"wandb-col\"><h3>Run summary:</h3><br/><table class=\"wandb\"><tr><td>epoch</td><td>9</td></tr><tr><td>train_accuracy</td><td>0.88489</td></tr><tr><td>train_loss</td><td>289.94793</td></tr><tr><td>val_MulticlassAUPRC</td><td>0.60732</td></tr><tr><td>val_MulticlassAUROC</td><td>0.87265</td></tr><tr><td>val_MulticlassAccuracy</td><td>0.88381</td></tr><tr><td>val_loss</td><td>75.06911</td></tr></table><br/></div></div>"
      ],
      "text/plain": [
       "<IPython.core.display.HTML object>"
      ]
     },
     "metadata": {},
     "output_type": "display_data"
    },
    {
     "data": {
      "text/html": [
       " View run <strong style=\"color:#cdcd00\">mre_1kb_128_0.001</strong> at: <a href='https://wandb.ai/bind-gps/BindGPS/runs/uti425e6' target=\"_blank\">https://wandb.ai/bind-gps/BindGPS/runs/uti425e6</a><br> View project at: <a href='https://wandb.ai/bind-gps/BindGPS' target=\"_blank\">https://wandb.ai/bind-gps/BindGPS</a><br>Synced 5 W&B file(s), 0 media file(s), 0 artifact file(s) and 0 other file(s)"
      ],
      "text/plain": [
       "<IPython.core.display.HTML object>"
      ]
     },
     "metadata": {},
     "output_type": "display_data"
    },
    {
     "data": {
      "text/html": [
       "Find logs at: <code>./wandb/run-20251002_135245-uti425e6/logs</code>"
      ],
      "text/plain": [
       "<IPython.core.display.HTML object>"
      ]
     },
     "metadata": {},
     "output_type": "display_data"
    },
    {
     "name": "stderr",
     "output_type": "stream",
     "text": [
      "\u001b[34m\u001b[1mwandb\u001b[0m: Agent Starting Run: 7hclulwg with config:\n",
      "\u001b[34m\u001b[1mwandb\u001b[0m: \tbatch_size: 128\n",
      "\u001b[34m\u001b[1mwandb\u001b[0m: \tepochs: 10\n",
      "\u001b[34m\u001b[1mwandb\u001b[0m: \thidden_dims: [256, 128]\n",
      "\u001b[34m\u001b[1mwandb\u001b[0m: \tlr: 0.001\n",
      "\u001b[34m\u001b[1mwandb\u001b[0m: \tresolution: 1kb\n",
      "\u001b[34m\u001b[1mwandb\u001b[0m: \tsvd_dim: 128\n",
      "\u001b[34m\u001b[1mwandb\u001b[0m: \ttarget_metric: MulticlassAccuracy\n",
      "\u001b[34m\u001b[1mwandb\u001b[0m: \ttask: gene\n",
      "\u001b[34m\u001b[1mwandb\u001b[0m: \tweighted: True\n",
      "\u001b[34m\u001b[1mwandb\u001b[0m: \u001b[32m\u001b[41mERROR\u001b[0m Failed to detect the name of this notebook. You can set it manually with the WANDB_NOTEBOOK_NAME environment variable to enable code saving.\n"
     ]
    },
    {
     "data": {
      "text/html": [],
      "text/plain": [
       "<IPython.core.display.HTML object>"
      ]
     },
     "metadata": {},
     "output_type": "display_data"
    },
    {
     "data": {
      "text/html": [
       "Tracking run with wandb version 0.22.1"
      ],
      "text/plain": [
       "<IPython.core.display.HTML object>"
      ]
     },
     "metadata": {},
     "output_type": "display_data"
    },
    {
     "data": {
      "text/html": [
       "Run data is saved locally in <code>/oscar/data/larschan/shared_data/BindGPS/model/wandb/run-20251002_135326-7hclulwg</code>"
      ],
      "text/plain": [
       "<IPython.core.display.HTML object>"
      ]
     },
     "metadata": {},
     "output_type": "display_data"
    },
    {
     "data": {
      "text/html": [
       "Syncing run <strong><a href='https://wandb.ai/bind-gps/BindGPS/runs/7hclulwg' target=\"_blank\">cerulean-sweep-19</a></strong> to <a href='https://wandb.ai/bind-gps/BindGPS' target=\"_blank\">Weights & Biases</a> (<a href='https://wandb.me/developer-guide' target=\"_blank\">docs</a>)<br>Sweep page: <a href='https://wandb.ai/bind-gps/BindGPS/sweeps/79ufxypb' target=\"_blank\">https://wandb.ai/bind-gps/BindGPS/sweeps/79ufxypb</a>"
      ],
      "text/plain": [
       "<IPython.core.display.HTML object>"
      ]
     },
     "metadata": {},
     "output_type": "display_data"
    },
    {
     "data": {
      "text/html": [
       " View project at <a href='https://wandb.ai/bind-gps/BindGPS' target=\"_blank\">https://wandb.ai/bind-gps/BindGPS</a>"
      ],
      "text/plain": [
       "<IPython.core.display.HTML object>"
      ]
     },
     "metadata": {},
     "output_type": "display_data"
    },
    {
     "data": {
      "text/html": [
       " View sweep at <a href='https://wandb.ai/bind-gps/BindGPS/sweeps/79ufxypb' target=\"_blank\">https://wandb.ai/bind-gps/BindGPS/sweeps/79ufxypb</a>"
      ],
      "text/plain": [
       "<IPython.core.display.HTML object>"
      ]
     },
     "metadata": {},
     "output_type": "display_data"
    },
    {
     "data": {
      "text/html": [
       " View run at <a href='https://wandb.ai/bind-gps/BindGPS/runs/7hclulwg' target=\"_blank\">https://wandb.ai/bind-gps/BindGPS/runs/7hclulwg</a>"
      ],
      "text/plain": [
       "<IPython.core.display.HTML object>"
      ]
     },
     "metadata": {},
     "output_type": "display_data"
    },
    {
     "name": "stderr",
     "output_type": "stream",
     "text": [
      "\u001b[34m\u001b[1mwandb\u001b[0m: \u001b[33mWARNING\u001b[0m Calling wandb.login() after wandb.init() has no effect.\n"
     ]
    },
    {
     "name": "stdout",
     "output_type": "stream",
     "text": [
      "[Epoch 0] Train Loss: 863.4409, Acc: 0.5022\n",
      "[Epoch 0] Val Loss: 208.3493, Val Metrics: {'MulticlassAUROC': 0.7129179835319519, 'MulticlassAUPRC': 0.5076919794082642, 'MulticlassAccuracy': 0.5188442468643188}\n",
      "[Epoch 1] Train Loss: 834.5366, Acc: 0.5334\n",
      "[Epoch 1] Val Loss: 205.2200, Val Metrics: {'MulticlassAUROC': 0.7183945775032043, 'MulticlassAUPRC': 0.5156485438346863, 'MulticlassAccuracy': 0.546538233757019}\n",
      "[Epoch 2] Train Loss: 827.6585, Acc: 0.5413\n",
      "[Epoch 2] Val Loss: 205.8951, Val Metrics: {'MulticlassAUROC': 0.7227573990821838, 'MulticlassAUPRC': 0.5180115103721619, 'MulticlassAccuracy': 0.5210976004600525}\n",
      "[Epoch 3] Train Loss: 821.8245, Acc: 0.5447\n",
      "[Epoch 3] Val Loss: 203.9996, Val Metrics: {'MulticlassAUROC': 0.7249305844306946, 'MulticlassAUPRC': 0.5207831263542175, 'MulticlassAccuracy': 0.5529711246490479}\n",
      "[Epoch 4] Train Loss: 816.5874, Acc: 0.5501\n",
      "[Epoch 4] Val Loss: 203.4735, Val Metrics: {'MulticlassAUROC': 0.7261025309562683, 'MulticlassAUPRC': 0.5212153792381287, 'MulticlassAccuracy': 0.5508995056152344}\n",
      "[Epoch 5] Train Loss: 812.8549, Acc: 0.5555\n",
      "[Epoch 5] Val Loss: 203.2994, Val Metrics: {'MulticlassAUROC': 0.7275864481925964, 'MulticlassAUPRC': 0.5227410197257996, 'MulticlassAccuracy': 0.5518081188201904}\n",
      "[Epoch 6] Train Loss: 809.0890, Acc: 0.5532\n",
      "[Epoch 6] Val Loss: 203.2592, Val Metrics: {'MulticlassAUROC': 0.7268829345703125, 'MulticlassAUPRC': 0.5241736769676208, 'MulticlassAccuracy': 0.5560966730117798}\n",
      "[Epoch 7] Train Loss: 804.0394, Acc: 0.5557\n",
      "[Epoch 7] Val Loss: 203.4709, Val Metrics: {'MulticlassAUROC': 0.72847580909729, 'MulticlassAUPRC': 0.5230557918548584, 'MulticlassAccuracy': 0.550645112991333}\n",
      "[Epoch 8] Train Loss: 801.7153, Acc: 0.5602\n",
      "[Epoch 8] Val Loss: 203.5156, Val Metrics: {'MulticlassAUROC': 0.7287499308586121, 'MulticlassAUPRC': 0.5239685773849487, 'MulticlassAccuracy': 0.549082338809967}\n",
      "[Epoch 9] Train Loss: 796.9299, Acc: 0.5616\n",
      "[Epoch 9] Val Loss: 203.5722, Val Metrics: {'MulticlassAUROC': 0.7265868186950684, 'MulticlassAUPRC': 0.5242785811424255, 'MulticlassAccuracy': 0.5600944757461548}\n"
     ]
    },
    {
     "data": {
      "text/html": [],
      "text/plain": [
       "<IPython.core.display.HTML object>"
      ]
     },
     "metadata": {},
     "output_type": "display_data"
    },
    {
     "data": {
      "text/html": [
       "<br>    <style><br>        .wandb-row {<br>            display: flex;<br>            flex-direction: row;<br>            flex-wrap: wrap;<br>            justify-content: flex-start;<br>            width: 100%;<br>        }<br>        .wandb-col {<br>            display: flex;<br>            flex-direction: column;<br>            flex-basis: 100%;<br>            flex: 1;<br>            padding: 10px;<br>        }<br>    </style><br><div class=\"wandb-row\"><div class=\"wandb-col\"><h3>Run history:</h3><br/><table class=\"wandb\"><tr><td>epoch</td><td>▁▂▃▃▄▅▆▆▇█</td></tr><tr><td>train_accuracy</td><td>▁▅▆▆▇▇▇▇██</td></tr><tr><td>train_loss</td><td>█▅▄▄▃▃▂▂▂▁</td></tr><tr><td>val_MulticlassAUPRC</td><td>▁▄▅▇▇▇█▇██</td></tr><tr><td>val_MulticlassAUROC</td><td>▁▃▅▆▇▇▇██▇</td></tr><tr><td>val_MulticlassAccuracy</td><td>▁▆▁▇▆▇▇▆▆█</td></tr><tr><td>val_loss</td><td>█▄▅▂▁▁▁▁▁▁</td></tr></table><br/></div><div class=\"wandb-col\"><h3>Run summary:</h3><br/><table class=\"wandb\"><tr><td>epoch</td><td>9</td></tr><tr><td>train_accuracy</td><td>0.56161</td></tr><tr><td>train_loss</td><td>796.92989</td></tr><tr><td>val_MulticlassAUPRC</td><td>0.52428</td></tr><tr><td>val_MulticlassAUROC</td><td>0.72659</td></tr><tr><td>val_MulticlassAccuracy</td><td>0.56009</td></tr><tr><td>val_loss</td><td>203.57224</td></tr></table><br/></div></div>"
      ],
      "text/plain": [
       "<IPython.core.display.HTML object>"
      ]
     },
     "metadata": {},
     "output_type": "display_data"
    },
    {
     "data": {
      "text/html": [
       " View run <strong style=\"color:#cdcd00\">gene_1kb_128_0.001</strong> at: <a href='https://wandb.ai/bind-gps/BindGPS/runs/7hclulwg' target=\"_blank\">https://wandb.ai/bind-gps/BindGPS/runs/7hclulwg</a><br> View project at: <a href='https://wandb.ai/bind-gps/BindGPS' target=\"_blank\">https://wandb.ai/bind-gps/BindGPS</a><br>Synced 5 W&B file(s), 0 media file(s), 0 artifact file(s) and 0 other file(s)"
      ],
      "text/plain": [
       "<IPython.core.display.HTML object>"
      ]
     },
     "metadata": {},
     "output_type": "display_data"
    },
    {
     "data": {
      "text/html": [
       "Find logs at: <code>./wandb/run-20251002_135326-7hclulwg/logs</code>"
      ],
      "text/plain": [
       "<IPython.core.display.HTML object>"
      ]
     },
     "metadata": {},
     "output_type": "display_data"
    },
    {
     "name": "stderr",
     "output_type": "stream",
     "text": [
      "\u001b[34m\u001b[1mwandb\u001b[0m: Agent Starting Run: 3f7q8v5d with config:\n",
      "\u001b[34m\u001b[1mwandb\u001b[0m: \tbatch_size: 128\n",
      "\u001b[34m\u001b[1mwandb\u001b[0m: \tepochs: 10\n",
      "\u001b[34m\u001b[1mwandb\u001b[0m: \thidden_dims: [256, 128]\n",
      "\u001b[34m\u001b[1mwandb\u001b[0m: \tlr: 0.001\n",
      "\u001b[34m\u001b[1mwandb\u001b[0m: \tresolution: 1kb\n",
      "\u001b[34m\u001b[1mwandb\u001b[0m: \tsvd_dim: 128\n",
      "\u001b[34m\u001b[1mwandb\u001b[0m: \ttarget_metric: MulticlassAccuracy\n",
      "\u001b[34m\u001b[1mwandb\u001b[0m: \ttask: gene\n",
      "\u001b[34m\u001b[1mwandb\u001b[0m: \tweighted: False\n",
      "\u001b[34m\u001b[1mwandb\u001b[0m: \u001b[32m\u001b[41mERROR\u001b[0m Failed to detect the name of this notebook. You can set it manually with the WANDB_NOTEBOOK_NAME environment variable to enable code saving.\n"
     ]
    },
    {
     "data": {
      "text/html": [],
      "text/plain": [
       "<IPython.core.display.HTML object>"
      ]
     },
     "metadata": {},
     "output_type": "display_data"
    },
    {
     "data": {
      "text/html": [
       "Tracking run with wandb version 0.22.1"
      ],
      "text/plain": [
       "<IPython.core.display.HTML object>"
      ]
     },
     "metadata": {},
     "output_type": "display_data"
    },
    {
     "data": {
      "text/html": [
       "Run data is saved locally in <code>/oscar/data/larschan/shared_data/BindGPS/model/wandb/run-20251002_135407-3f7q8v5d</code>"
      ],
      "text/plain": [
       "<IPython.core.display.HTML object>"
      ]
     },
     "metadata": {},
     "output_type": "display_data"
    },
    {
     "data": {
      "text/html": [
       "Syncing run <strong><a href='https://wandb.ai/bind-gps/BindGPS/runs/3f7q8v5d' target=\"_blank\">woven-sweep-20</a></strong> to <a href='https://wandb.ai/bind-gps/BindGPS' target=\"_blank\">Weights & Biases</a> (<a href='https://wandb.me/developer-guide' target=\"_blank\">docs</a>)<br>Sweep page: <a href='https://wandb.ai/bind-gps/BindGPS/sweeps/79ufxypb' target=\"_blank\">https://wandb.ai/bind-gps/BindGPS/sweeps/79ufxypb</a>"
      ],
      "text/plain": [
       "<IPython.core.display.HTML object>"
      ]
     },
     "metadata": {},
     "output_type": "display_data"
    },
    {
     "data": {
      "text/html": [
       " View project at <a href='https://wandb.ai/bind-gps/BindGPS' target=\"_blank\">https://wandb.ai/bind-gps/BindGPS</a>"
      ],
      "text/plain": [
       "<IPython.core.display.HTML object>"
      ]
     },
     "metadata": {},
     "output_type": "display_data"
    },
    {
     "data": {
      "text/html": [
       " View sweep at <a href='https://wandb.ai/bind-gps/BindGPS/sweeps/79ufxypb' target=\"_blank\">https://wandb.ai/bind-gps/BindGPS/sweeps/79ufxypb</a>"
      ],
      "text/plain": [
       "<IPython.core.display.HTML object>"
      ]
     },
     "metadata": {},
     "output_type": "display_data"
    },
    {
     "data": {
      "text/html": [
       " View run at <a href='https://wandb.ai/bind-gps/BindGPS/runs/3f7q8v5d' target=\"_blank\">https://wandb.ai/bind-gps/BindGPS/runs/3f7q8v5d</a>"
      ],
      "text/plain": [
       "<IPython.core.display.HTML object>"
      ]
     },
     "metadata": {},
     "output_type": "display_data"
    },
    {
     "name": "stderr",
     "output_type": "stream",
     "text": [
      "\u001b[34m\u001b[1mwandb\u001b[0m: \u001b[33mWARNING\u001b[0m Calling wandb.login() after wandb.init() has no effect.\n"
     ]
    },
    {
     "name": "stdout",
     "output_type": "stream",
     "text": [
      "[Epoch 0] Train Loss: 721.5364, Acc: 0.6145\n",
      "[Epoch 0] Val Loss: 173.7887, Val Metrics: {'MulticlassAUROC': 0.7215266227722168, 'MulticlassAUPRC': 0.515545666217804, 'MulticlassAccuracy': 0.6367436051368713}\n",
      "[Epoch 1] Train Loss: 698.2965, Acc: 0.6284\n",
      "[Epoch 1] Val Loss: 172.2272, Val Metrics: {'MulticlassAUROC': 0.7263900637626648, 'MulticlassAUPRC': 0.5209882855415344, 'MulticlassAccuracy': 0.6370707154273987}\n",
      "[Epoch 2] Train Loss: 690.7772, Acc: 0.6346\n",
      "[Epoch 2] Val Loss: 171.8390, Val Metrics: {'MulticlassAUROC': 0.7279056906700134, 'MulticlassAUPRC': 0.524963915348053, 'MulticlassAccuracy': 0.6371797323226929}\n",
      "[Epoch 3] Train Loss: 686.7763, Acc: 0.6355\n",
      "[Epoch 3] Val Loss: 171.0471, Val Metrics: {'MulticlassAUROC': 0.7296519875526428, 'MulticlassAUPRC': 0.526523232460022, 'MulticlassAccuracy': 0.6391786336898804}\n",
      "[Epoch 4] Train Loss: 682.6549, Acc: 0.6402\n",
      "[Epoch 4] Val Loss: 171.0730, Val Metrics: {'MulticlassAUROC': 0.7301718592643738, 'MulticlassAUPRC': 0.5297472476959229, 'MulticlassAccuracy': 0.6387425065040588}\n",
      "[Epoch 5] Train Loss: 679.0120, Acc: 0.6428\n",
      "[Epoch 5] Val Loss: 169.9189, Val Metrics: {'MulticlassAUROC': 0.7352535128593445, 'MulticlassAUPRC': 0.5328620076179504, 'MulticlassAccuracy': 0.6416500210762024}\n",
      "[Epoch 6] Train Loss: 676.3458, Acc: 0.6437\n",
      "[Epoch 6] Val Loss: 169.3858, Val Metrics: {'MulticlassAUROC': 0.7364258766174316, 'MulticlassAUPRC': 0.5340588092803955, 'MulticlassAccuracy': 0.6456478238105774}\n",
      "[Epoch 7] Train Loss: 673.9937, Acc: 0.6457\n",
      "[Epoch 7] Val Loss: 169.8403, Val Metrics: {'MulticlassAUROC': 0.7344694137573242, 'MulticlassAUPRC': 0.5341636538505554, 'MulticlassAccuracy': 0.6424495577812195}\n",
      "[Epoch 8] Train Loss: 671.1044, Acc: 0.6478\n",
      "[Epoch 8] Val Loss: 169.7892, Val Metrics: {'MulticlassAUROC': 0.7369577288627625, 'MulticlassAUPRC': 0.5355541110038757, 'MulticlassAccuracy': 0.6416500210762024}\n",
      "[Epoch 9] Train Loss: 669.1675, Acc: 0.6490\n",
      "[Epoch 9] Val Loss: 169.0208, Val Metrics: {'MulticlassAUROC': 0.7376832365989685, 'MulticlassAUPRC': 0.5365359783172607, 'MulticlassAccuracy': 0.6447755694389343}\n"
     ]
    },
    {
     "data": {
      "text/html": [],
      "text/plain": [
       "<IPython.core.display.HTML object>"
      ]
     },
     "metadata": {},
     "output_type": "display_data"
    },
    {
     "data": {
      "text/html": [
       "<br>    <style><br>        .wandb-row {<br>            display: flex;<br>            flex-direction: row;<br>            flex-wrap: wrap;<br>            justify-content: flex-start;<br>            width: 100%;<br>        }<br>        .wandb-col {<br>            display: flex;<br>            flex-direction: column;<br>            flex-basis: 100%;<br>            flex: 1;<br>            padding: 10px;<br>        }<br>    </style><br><div class=\"wandb-row\"><div class=\"wandb-col\"><h3>Run history:</h3><br/><table class=\"wandb\"><tr><td>epoch</td><td>▁▂▃▃▄▅▆▆▇█</td></tr><tr><td>train_accuracy</td><td>▁▄▅▅▆▇▇▇██</td></tr><tr><td>train_loss</td><td>█▅▄▃▃▂▂▂▁▁</td></tr><tr><td>val_MulticlassAUPRC</td><td>▁▃▄▅▆▇▇▇██</td></tr><tr><td>val_MulticlassAUROC</td><td>▁▃▄▅▅▇▇▇██</td></tr><tr><td>val_MulticlassAccuracy</td><td>▁▁▁▃▃▅█▅▅▇</td></tr><tr><td>val_loss</td><td>█▆▅▄▄▂▂▂▂▁</td></tr></table><br/></div><div class=\"wandb-col\"><h3>Run summary:</h3><br/><table class=\"wandb\"><tr><td>epoch</td><td>9</td></tr><tr><td>train_accuracy</td><td>0.64896</td></tr><tr><td>train_loss</td><td>669.16751</td></tr><tr><td>val_MulticlassAUPRC</td><td>0.53654</td></tr><tr><td>val_MulticlassAUROC</td><td>0.73768</td></tr><tr><td>val_MulticlassAccuracy</td><td>0.64478</td></tr><tr><td>val_loss</td><td>169.02079</td></tr></table><br/></div></div>"
      ],
      "text/plain": [
       "<IPython.core.display.HTML object>"
      ]
     },
     "metadata": {},
     "output_type": "display_data"
    },
    {
     "data": {
      "text/html": [
       " View run <strong style=\"color:#cdcd00\">gene_1kb_128_0.001</strong> at: <a href='https://wandb.ai/bind-gps/BindGPS/runs/3f7q8v5d' target=\"_blank\">https://wandb.ai/bind-gps/BindGPS/runs/3f7q8v5d</a><br> View project at: <a href='https://wandb.ai/bind-gps/BindGPS' target=\"_blank\">https://wandb.ai/bind-gps/BindGPS</a><br>Synced 5 W&B file(s), 0 media file(s), 0 artifact file(s) and 0 other file(s)"
      ],
      "text/plain": [
       "<IPython.core.display.HTML object>"
      ]
     },
     "metadata": {},
     "output_type": "display_data"
    },
    {
     "data": {
      "text/html": [
       "Find logs at: <code>./wandb/run-20251002_135407-3f7q8v5d/logs</code>"
      ],
      "text/plain": [
       "<IPython.core.display.HTML object>"
      ]
     },
     "metadata": {},
     "output_type": "display_data"
    },
    {
     "name": "stderr",
     "output_type": "stream",
     "text": [
      "\u001b[34m\u001b[1mwandb\u001b[0m: Agent Starting Run: 4vtzo439 with config:\n",
      "\u001b[34m\u001b[1mwandb\u001b[0m: \tbatch_size: 128\n",
      "\u001b[34m\u001b[1mwandb\u001b[0m: \tepochs: 10\n",
      "\u001b[34m\u001b[1mwandb\u001b[0m: \thidden_dims: [256, 128]\n",
      "\u001b[34m\u001b[1mwandb\u001b[0m: \tlr: 0.001\n",
      "\u001b[34m\u001b[1mwandb\u001b[0m: \tresolution: 1kb\n",
      "\u001b[34m\u001b[1mwandb\u001b[0m: \tsvd_dim: 128\n",
      "\u001b[34m\u001b[1mwandb\u001b[0m: \ttarget_metric: MulticlassAUPRC\n",
      "\u001b[34m\u001b[1mwandb\u001b[0m: \ttask: mre\n",
      "\u001b[34m\u001b[1mwandb\u001b[0m: \tweighted: True\n",
      "\u001b[34m\u001b[1mwandb\u001b[0m: \u001b[32m\u001b[41mERROR\u001b[0m Failed to detect the name of this notebook. You can set it manually with the WANDB_NOTEBOOK_NAME environment variable to enable code saving.\n"
     ]
    },
    {
     "data": {
      "text/html": [],
      "text/plain": [
       "<IPython.core.display.HTML object>"
      ]
     },
     "metadata": {},
     "output_type": "display_data"
    },
    {
     "data": {
      "text/html": [
       "Tracking run with wandb version 0.22.1"
      ],
      "text/plain": [
       "<IPython.core.display.HTML object>"
      ]
     },
     "metadata": {},
     "output_type": "display_data"
    },
    {
     "data": {
      "text/html": [
       "Run data is saved locally in <code>/oscar/data/larschan/shared_data/BindGPS/model/wandb/run-20251002_135448-4vtzo439</code>"
      ],
      "text/plain": [
       "<IPython.core.display.HTML object>"
      ]
     },
     "metadata": {},
     "output_type": "display_data"
    },
    {
     "data": {
      "text/html": [
       "Syncing run <strong><a href='https://wandb.ai/bind-gps/BindGPS/runs/4vtzo439' target=\"_blank\">iconic-sweep-21</a></strong> to <a href='https://wandb.ai/bind-gps/BindGPS' target=\"_blank\">Weights & Biases</a> (<a href='https://wandb.me/developer-guide' target=\"_blank\">docs</a>)<br>Sweep page: <a href='https://wandb.ai/bind-gps/BindGPS/sweeps/79ufxypb' target=\"_blank\">https://wandb.ai/bind-gps/BindGPS/sweeps/79ufxypb</a>"
      ],
      "text/plain": [
       "<IPython.core.display.HTML object>"
      ]
     },
     "metadata": {},
     "output_type": "display_data"
    },
    {
     "data": {
      "text/html": [
       " View project at <a href='https://wandb.ai/bind-gps/BindGPS' target=\"_blank\">https://wandb.ai/bind-gps/BindGPS</a>"
      ],
      "text/plain": [
       "<IPython.core.display.HTML object>"
      ]
     },
     "metadata": {},
     "output_type": "display_data"
    },
    {
     "data": {
      "text/html": [
       " View sweep at <a href='https://wandb.ai/bind-gps/BindGPS/sweeps/79ufxypb' target=\"_blank\">https://wandb.ai/bind-gps/BindGPS/sweeps/79ufxypb</a>"
      ],
      "text/plain": [
       "<IPython.core.display.HTML object>"
      ]
     },
     "metadata": {},
     "output_type": "display_data"
    },
    {
     "data": {
      "text/html": [
       " View run at <a href='https://wandb.ai/bind-gps/BindGPS/runs/4vtzo439' target=\"_blank\">https://wandb.ai/bind-gps/BindGPS/runs/4vtzo439</a>"
      ],
      "text/plain": [
       "<IPython.core.display.HTML object>"
      ]
     },
     "metadata": {},
     "output_type": "display_data"
    },
    {
     "name": "stderr",
     "output_type": "stream",
     "text": [
      "\u001b[34m\u001b[1mwandb\u001b[0m: \u001b[33mWARNING\u001b[0m Calling wandb.login() after wandb.init() has no effect.\n"
     ]
    },
    {
     "name": "stdout",
     "output_type": "stream",
     "text": [
      "[Epoch 0] Train Loss: 788.0712, Acc: 0.6675\n",
      "[Epoch 0] Val Loss: 182.9144, Val Metrics: {'MulticlassAUROC': 0.8189565539360046, 'MulticlassAUPRC': 0.5359482169151306, 'MulticlassAccuracy': 0.7555151581764221}\n",
      "[Epoch 1] Train Loss: 730.3475, Acc: 0.7262\n",
      "[Epoch 1] Val Loss: 179.5617, Val Metrics: {'MulticlassAUROC': 0.8367496132850647, 'MulticlassAUPRC': 0.5557399392127991, 'MulticlassAccuracy': 0.7624204754829407}\n",
      "[Epoch 2] Train Loss: 709.1301, Acc: 0.7425\n",
      "[Epoch 2] Val Loss: 176.7042, Val Metrics: {'MulticlassAUROC': 0.8352141380310059, 'MulticlassAUPRC': 0.5427504181861877, 'MulticlassAccuracy': 0.7377793788909912}\n",
      "[Epoch 3] Train Loss: 695.8774, Acc: 0.7465\n",
      "[Epoch 3] Val Loss: 174.6260, Val Metrics: {'MulticlassAUROC': 0.8390777707099915, 'MulticlassAUPRC': 0.5502555966377258, 'MulticlassAccuracy': 0.7422133088111877}\n",
      "[Epoch 4] Train Loss: 683.8326, Acc: 0.7464\n",
      "[Epoch 4] Val Loss: 174.9706, Val Metrics: {'MulticlassAUROC': 0.8462914824485779, 'MulticlassAUPRC': 0.5486204028129578, 'MulticlassAccuracy': 0.7650735974311829}\n",
      "[Epoch 5] Train Loss: 673.4026, Acc: 0.7535\n",
      "[Epoch 5] Val Loss: 172.7858, Val Metrics: {'MulticlassAUROC': 0.8454424738883972, 'MulticlassAUPRC': 0.5450261235237122, 'MulticlassAccuracy': 0.7454115748405457}\n",
      "[Epoch 6] Train Loss: 665.6242, Acc: 0.7495\n",
      "[Epoch 6] Val Loss: 174.4702, Val Metrics: {'MulticlassAUROC': 0.8430862426757812, 'MulticlassAUPRC': 0.546293318271637, 'MulticlassAccuracy': 0.7409412860870361}\n",
      "Early Stopping at epoch 7\n"
     ]
    },
    {
     "data": {
      "text/html": [],
      "text/plain": [
       "<IPython.core.display.HTML object>"
      ]
     },
     "metadata": {},
     "output_type": "display_data"
    },
    {
     "data": {
      "text/html": [
       "<br>    <style><br>        .wandb-row {<br>            display: flex;<br>            flex-direction: row;<br>            flex-wrap: wrap;<br>            justify-content: flex-start;<br>            width: 100%;<br>        }<br>        .wandb-col {<br>            display: flex;<br>            flex-direction: column;<br>            flex-basis: 100%;<br>            flex: 1;<br>            padding: 10px;<br>        }<br>    </style><br><div class=\"wandb-row\"><div class=\"wandb-col\"><h3>Run history:</h3><br/><table class=\"wandb\"><tr><td>epoch</td><td>▁▂▃▅▆▇█</td></tr><tr><td>train_accuracy</td><td>▁▆▇▇▇██</td></tr><tr><td>train_loss</td><td>█▅▃▃▂▁▁</td></tr><tr><td>val_MulticlassAUPRC</td><td>▁█▃▆▅▄▅</td></tr><tr><td>val_MulticlassAUROC</td><td>▁▆▅▆██▇</td></tr><tr><td>val_MulticlassAccuracy</td><td>▆▇▁▂█▃▂</td></tr><tr><td>val_loss</td><td>█▆▄▂▃▁▂</td></tr></table><br/></div><div class=\"wandb-col\"><h3>Run summary:</h3><br/><table class=\"wandb\"><tr><td>epoch</td><td>6</td></tr><tr><td>train_accuracy</td><td>0.74947</td></tr><tr><td>train_loss</td><td>665.62417</td></tr><tr><td>val_MulticlassAUPRC</td><td>0.54629</td></tr><tr><td>val_MulticlassAUROC</td><td>0.84309</td></tr><tr><td>val_MulticlassAccuracy</td><td>0.74094</td></tr><tr><td>val_loss</td><td>174.47015</td></tr></table><br/></div></div>"
      ],
      "text/plain": [
       "<IPython.core.display.HTML object>"
      ]
     },
     "metadata": {},
     "output_type": "display_data"
    },
    {
     "data": {
      "text/html": [
       " View run <strong style=\"color:#cdcd00\">mre_1kb_128_0.001</strong> at: <a href='https://wandb.ai/bind-gps/BindGPS/runs/4vtzo439' target=\"_blank\">https://wandb.ai/bind-gps/BindGPS/runs/4vtzo439</a><br> View project at: <a href='https://wandb.ai/bind-gps/BindGPS' target=\"_blank\">https://wandb.ai/bind-gps/BindGPS</a><br>Synced 5 W&B file(s), 0 media file(s), 0 artifact file(s) and 0 other file(s)"
      ],
      "text/plain": [
       "<IPython.core.display.HTML object>"
      ]
     },
     "metadata": {},
     "output_type": "display_data"
    },
    {
     "data": {
      "text/html": [
       "Find logs at: <code>./wandb/run-20251002_135448-4vtzo439/logs</code>"
      ],
      "text/plain": [
       "<IPython.core.display.HTML object>"
      ]
     },
     "metadata": {},
     "output_type": "display_data"
    },
    {
     "name": "stderr",
     "output_type": "stream",
     "text": [
      "\u001b[34m\u001b[1mwandb\u001b[0m: Agent Starting Run: ze52q8qm with config:\n",
      "\u001b[34m\u001b[1mwandb\u001b[0m: \tbatch_size: 128\n",
      "\u001b[34m\u001b[1mwandb\u001b[0m: \tepochs: 10\n",
      "\u001b[34m\u001b[1mwandb\u001b[0m: \thidden_dims: [256, 128]\n",
      "\u001b[34m\u001b[1mwandb\u001b[0m: \tlr: 0.001\n",
      "\u001b[34m\u001b[1mwandb\u001b[0m: \tresolution: 1kb\n",
      "\u001b[34m\u001b[1mwandb\u001b[0m: \tsvd_dim: 128\n",
      "\u001b[34m\u001b[1mwandb\u001b[0m: \ttarget_metric: MulticlassAUPRC\n",
      "\u001b[34m\u001b[1mwandb\u001b[0m: \ttask: mre\n",
      "\u001b[34m\u001b[1mwandb\u001b[0m: \tweighted: False\n",
      "\u001b[34m\u001b[1mwandb\u001b[0m: \u001b[32m\u001b[41mERROR\u001b[0m Failed to detect the name of this notebook. You can set it manually with the WANDB_NOTEBOOK_NAME environment variable to enable code saving.\n"
     ]
    },
    {
     "data": {
      "text/html": [],
      "text/plain": [
       "<IPython.core.display.HTML object>"
      ]
     },
     "metadata": {},
     "output_type": "display_data"
    },
    {
     "data": {
      "text/html": [
       "Tracking run with wandb version 0.22.1"
      ],
      "text/plain": [
       "<IPython.core.display.HTML object>"
      ]
     },
     "metadata": {},
     "output_type": "display_data"
    },
    {
     "data": {
      "text/html": [
       "Run data is saved locally in <code>/oscar/data/larschan/shared_data/BindGPS/model/wandb/run-20251002_135518-ze52q8qm</code>"
      ],
      "text/plain": [
       "<IPython.core.display.HTML object>"
      ]
     },
     "metadata": {},
     "output_type": "display_data"
    },
    {
     "data": {
      "text/html": [
       "Syncing run <strong><a href='https://wandb.ai/bind-gps/BindGPS/runs/ze52q8qm' target=\"_blank\">wobbly-sweep-22</a></strong> to <a href='https://wandb.ai/bind-gps/BindGPS' target=\"_blank\">Weights & Biases</a> (<a href='https://wandb.me/developer-guide' target=\"_blank\">docs</a>)<br>Sweep page: <a href='https://wandb.ai/bind-gps/BindGPS/sweeps/79ufxypb' target=\"_blank\">https://wandb.ai/bind-gps/BindGPS/sweeps/79ufxypb</a>"
      ],
      "text/plain": [
       "<IPython.core.display.HTML object>"
      ]
     },
     "metadata": {},
     "output_type": "display_data"
    },
    {
     "data": {
      "text/html": [
       " View project at <a href='https://wandb.ai/bind-gps/BindGPS' target=\"_blank\">https://wandb.ai/bind-gps/BindGPS</a>"
      ],
      "text/plain": [
       "<IPython.core.display.HTML object>"
      ]
     },
     "metadata": {},
     "output_type": "display_data"
    },
    {
     "data": {
      "text/html": [
       " View sweep at <a href='https://wandb.ai/bind-gps/BindGPS/sweeps/79ufxypb' target=\"_blank\">https://wandb.ai/bind-gps/BindGPS/sweeps/79ufxypb</a>"
      ],
      "text/plain": [
       "<IPython.core.display.HTML object>"
      ]
     },
     "metadata": {},
     "output_type": "display_data"
    },
    {
     "data": {
      "text/html": [
       " View run at <a href='https://wandb.ai/bind-gps/BindGPS/runs/ze52q8qm' target=\"_blank\">https://wandb.ai/bind-gps/BindGPS/runs/ze52q8qm</a>"
      ],
      "text/plain": [
       "<IPython.core.display.HTML object>"
      ]
     },
     "metadata": {},
     "output_type": "display_data"
    },
    {
     "name": "stderr",
     "output_type": "stream",
     "text": [
      "\u001b[34m\u001b[1mwandb\u001b[0m: \u001b[33mWARNING\u001b[0m Calling wandb.login() after wandb.init() has no effect.\n"
     ]
    },
    {
     "name": "stdout",
     "output_type": "stream",
     "text": [
      "[Epoch 0] Train Loss: 358.1532, Acc: 0.8673\n",
      "[Epoch 0] Val Loss: 78.7111, Val Metrics: {'MulticlassAUROC': 0.8486061096191406, 'MulticlassAUPRC': 0.5893115997314453, 'MulticlassAccuracy': 0.8792294859886169}\n",
      "[Epoch 1] Train Loss: 319.8821, Acc: 0.8783\n",
      "[Epoch 1] Val Loss: 76.1608, Val Metrics: {'MulticlassAUROC': 0.8600381016731262, 'MulticlassAUPRC': 0.5979586243629456, 'MulticlassAccuracy': 0.8811920881271362}\n",
      "[Epoch 2] Train Loss: 310.5014, Acc: 0.8804\n",
      "[Epoch 2] Val Loss: 75.9954, Val Metrics: {'MulticlassAUROC': 0.864541232585907, 'MulticlassAUPRC': 0.6008298397064209, 'MulticlassAccuracy': 0.8821007013320923}\n",
      "[Epoch 3] Train Loss: 306.2188, Acc: 0.8810\n",
      "[Epoch 3] Val Loss: 75.8524, Val Metrics: {'MulticlassAUROC': 0.8698152899742126, 'MulticlassAUPRC': 0.5996429920196533, 'MulticlassAccuracy': 0.8794475793838501}\n",
      "[Epoch 4] Train Loss: 301.9097, Acc: 0.8819\n",
      "[Epoch 4] Val Loss: 75.1076, Val Metrics: {'MulticlassAUROC': 0.866227388381958, 'MulticlassAUPRC': 0.6032648682594299, 'MulticlassAccuracy': 0.8831546306610107}\n",
      "[Epoch 5] Train Loss: 299.1843, Acc: 0.8823\n",
      "[Epoch 5] Val Loss: 74.2799, Val Metrics: {'MulticlassAUROC': 0.8699186444282532, 'MulticlassAUPRC': 0.6101652979850769, 'MulticlassAccuracy': 0.8821733593940735}\n",
      "[Epoch 6] Train Loss: 297.0288, Acc: 0.8828\n",
      "[Epoch 6] Val Loss: 74.0886, Val Metrics: {'MulticlassAUROC': 0.8709884285926819, 'MulticlassAUPRC': 0.6134718060493469, 'MulticlassAccuracy': 0.8828275203704834}\n",
      "[Epoch 7] Train Loss: 295.1599, Acc: 0.8833\n",
      "[Epoch 7] Val Loss: 73.9906, Val Metrics: {'MulticlassAUROC': 0.8709187507629395, 'MulticlassAUPRC': 0.6117687821388245, 'MulticlassAccuracy': 0.8830819725990295}\n",
      "[Epoch 8] Train Loss: 293.1466, Acc: 0.8845\n",
      "[Epoch 8] Val Loss: 73.8776, Val Metrics: {'MulticlassAUROC': 0.8729844689369202, 'MulticlassAUPRC': 0.6110693216323853, 'MulticlassAccuracy': 0.8827548623085022}\n",
      "[Epoch 9] Train Loss: 291.3031, Acc: 0.8843\n",
      "[Epoch 9] Val Loss: 74.9361, Val Metrics: {'MulticlassAUROC': 0.8707097172737122, 'MulticlassAUPRC': 0.6140705347061157, 'MulticlassAccuracy': 0.8837724924087524}\n"
     ]
    },
    {
     "data": {
      "text/html": [],
      "text/plain": [
       "<IPython.core.display.HTML object>"
      ]
     },
     "metadata": {},
     "output_type": "display_data"
    },
    {
     "data": {
      "text/html": [
       "<br>    <style><br>        .wandb-row {<br>            display: flex;<br>            flex-direction: row;<br>            flex-wrap: wrap;<br>            justify-content: flex-start;<br>            width: 100%;<br>        }<br>        .wandb-col {<br>            display: flex;<br>            flex-direction: column;<br>            flex-basis: 100%;<br>            flex: 1;<br>            padding: 10px;<br>        }<br>    </style><br><div class=\"wandb-row\"><div class=\"wandb-col\"><h3>Run history:</h3><br/><table class=\"wandb\"><tr><td>epoch</td><td>▁▂▃▃▄▅▆▆▇█</td></tr><tr><td>train_accuracy</td><td>▁▆▆▇▇▇▇███</td></tr><tr><td>train_loss</td><td>█▄▃▃▂▂▂▁▁▁</td></tr><tr><td>val_MulticlassAUPRC</td><td>▁▃▄▄▅▇█▇▇█</td></tr><tr><td>val_MulticlassAUROC</td><td>▁▄▆▇▆▇▇▇█▇</td></tr><tr><td>val_MulticlassAccuracy</td><td>▁▄▅▁▇▆▇▇▆█</td></tr><tr><td>val_loss</td><td>█▄▄▄▃▂▁▁▁▃</td></tr></table><br/></div><div class=\"wandb-col\"><h3>Run summary:</h3><br/><table class=\"wandb\"><tr><td>epoch</td><td>9</td></tr><tr><td>train_accuracy</td><td>0.88427</td></tr><tr><td>train_loss</td><td>291.30312</td></tr><tr><td>val_MulticlassAUPRC</td><td>0.61407</td></tr><tr><td>val_MulticlassAUROC</td><td>0.87071</td></tr><tr><td>val_MulticlassAccuracy</td><td>0.88377</td></tr><tr><td>val_loss</td><td>74.93607</td></tr></table><br/></div></div>"
      ],
      "text/plain": [
       "<IPython.core.display.HTML object>"
      ]
     },
     "metadata": {},
     "output_type": "display_data"
    },
    {
     "data": {
      "text/html": [
       " View run <strong style=\"color:#cdcd00\">mre_1kb_128_0.001</strong> at: <a href='https://wandb.ai/bind-gps/BindGPS/runs/ze52q8qm' target=\"_blank\">https://wandb.ai/bind-gps/BindGPS/runs/ze52q8qm</a><br> View project at: <a href='https://wandb.ai/bind-gps/BindGPS' target=\"_blank\">https://wandb.ai/bind-gps/BindGPS</a><br>Synced 5 W&B file(s), 0 media file(s), 0 artifact file(s) and 0 other file(s)"
      ],
      "text/plain": [
       "<IPython.core.display.HTML object>"
      ]
     },
     "metadata": {},
     "output_type": "display_data"
    },
    {
     "data": {
      "text/html": [
       "Find logs at: <code>./wandb/run-20251002_135518-ze52q8qm/logs</code>"
      ],
      "text/plain": [
       "<IPython.core.display.HTML object>"
      ]
     },
     "metadata": {},
     "output_type": "display_data"
    },
    {
     "name": "stderr",
     "output_type": "stream",
     "text": [
      "\u001b[34m\u001b[1mwandb\u001b[0m: Agent Starting Run: wm295jqk with config:\n",
      "\u001b[34m\u001b[1mwandb\u001b[0m: \tbatch_size: 128\n",
      "\u001b[34m\u001b[1mwandb\u001b[0m: \tepochs: 10\n",
      "\u001b[34m\u001b[1mwandb\u001b[0m: \thidden_dims: [256, 128]\n",
      "\u001b[34m\u001b[1mwandb\u001b[0m: \tlr: 0.001\n",
      "\u001b[34m\u001b[1mwandb\u001b[0m: \tresolution: 1kb\n",
      "\u001b[34m\u001b[1mwandb\u001b[0m: \tsvd_dim: 128\n",
      "\u001b[34m\u001b[1mwandb\u001b[0m: \ttarget_metric: MulticlassAUPRC\n",
      "\u001b[34m\u001b[1mwandb\u001b[0m: \ttask: gene\n",
      "\u001b[34m\u001b[1mwandb\u001b[0m: \tweighted: True\n",
      "\u001b[34m\u001b[1mwandb\u001b[0m: \u001b[32m\u001b[41mERROR\u001b[0m Failed to detect the name of this notebook. You can set it manually with the WANDB_NOTEBOOK_NAME environment variable to enable code saving.\n"
     ]
    },
    {
     "data": {
      "text/html": [],
      "text/plain": [
       "<IPython.core.display.HTML object>"
      ]
     },
     "metadata": {},
     "output_type": "display_data"
    },
    {
     "data": {
      "text/html": [
       "Tracking run with wandb version 0.22.1"
      ],
      "text/plain": [
       "<IPython.core.display.HTML object>"
      ]
     },
     "metadata": {},
     "output_type": "display_data"
    },
    {
     "data": {
      "text/html": [
       "Run data is saved locally in <code>/oscar/data/larschan/shared_data/BindGPS/model/wandb/run-20251002_135559-wm295jqk</code>"
      ],
      "text/plain": [
       "<IPython.core.display.HTML object>"
      ]
     },
     "metadata": {},
     "output_type": "display_data"
    },
    {
     "data": {
      "text/html": [
       "Syncing run <strong><a href='https://wandb.ai/bind-gps/BindGPS/runs/wm295jqk' target=\"_blank\">fancy-sweep-23</a></strong> to <a href='https://wandb.ai/bind-gps/BindGPS' target=\"_blank\">Weights & Biases</a> (<a href='https://wandb.me/developer-guide' target=\"_blank\">docs</a>)<br>Sweep page: <a href='https://wandb.ai/bind-gps/BindGPS/sweeps/79ufxypb' target=\"_blank\">https://wandb.ai/bind-gps/BindGPS/sweeps/79ufxypb</a>"
      ],
      "text/plain": [
       "<IPython.core.display.HTML object>"
      ]
     },
     "metadata": {},
     "output_type": "display_data"
    },
    {
     "data": {
      "text/html": [
       " View project at <a href='https://wandb.ai/bind-gps/BindGPS' target=\"_blank\">https://wandb.ai/bind-gps/BindGPS</a>"
      ],
      "text/plain": [
       "<IPython.core.display.HTML object>"
      ]
     },
     "metadata": {},
     "output_type": "display_data"
    },
    {
     "data": {
      "text/html": [
       " View sweep at <a href='https://wandb.ai/bind-gps/BindGPS/sweeps/79ufxypb' target=\"_blank\">https://wandb.ai/bind-gps/BindGPS/sweeps/79ufxypb</a>"
      ],
      "text/plain": [
       "<IPython.core.display.HTML object>"
      ]
     },
     "metadata": {},
     "output_type": "display_data"
    },
    {
     "data": {
      "text/html": [
       " View run at <a href='https://wandb.ai/bind-gps/BindGPS/runs/wm295jqk' target=\"_blank\">https://wandb.ai/bind-gps/BindGPS/runs/wm295jqk</a>"
      ],
      "text/plain": [
       "<IPython.core.display.HTML object>"
      ]
     },
     "metadata": {},
     "output_type": "display_data"
    },
    {
     "name": "stderr",
     "output_type": "stream",
     "text": [
      "\u001b[34m\u001b[1mwandb\u001b[0m: \u001b[33mWARNING\u001b[0m Calling wandb.login() after wandb.init() has no effect.\n"
     ]
    },
    {
     "name": "stdout",
     "output_type": "stream",
     "text": [
      "[Epoch 0] Train Loss: 860.9116, Acc: 0.5016\n",
      "[Epoch 0] Val Loss: 208.8931, Val Metrics: {'MulticlassAUROC': 0.7068166136741638, 'MulticlassAUPRC': 0.504371702671051, 'MulticlassAccuracy': 0.4888606071472168}\n",
      "[Epoch 1] Train Loss: 835.2575, Acc: 0.5298\n",
      "[Epoch 1] Val Loss: 205.5068, Val Metrics: {'MulticlassAUROC': 0.7184064388275146, 'MulticlassAUPRC': 0.5135688185691833, 'MulticlassAccuracy': 0.5319643616676331}\n",
      "[Epoch 2] Train Loss: 825.9042, Acc: 0.5401\n",
      "[Epoch 2] Val Loss: 205.9290, Val Metrics: {'MulticlassAUROC': 0.7214974761009216, 'MulticlassAUPRC': 0.5186095833778381, 'MulticlassAccuracy': 0.5493367314338684}\n",
      "[Epoch 3] Train Loss: 820.5451, Acc: 0.5433\n",
      "[Epoch 3] Val Loss: 205.0147, Val Metrics: {'MulticlassAUROC': 0.7235331535339355, 'MulticlassAUPRC': 0.5196780562400818, 'MulticlassAccuracy': 0.552207887172699}\n",
      "[Epoch 4] Train Loss: 815.3947, Acc: 0.5487\n",
      "[Epoch 4] Val Loss: 204.3562, Val Metrics: {'MulticlassAUROC': 0.7213082313537598, 'MulticlassAUPRC': 0.5188835263252258, 'MulticlassAccuracy': 0.5398146510124207}\n",
      "[Epoch 5] Train Loss: 810.9129, Acc: 0.5506\n",
      "[Epoch 5] Val Loss: 204.5459, Val Metrics: {'MulticlassAUROC': 0.7224439978599548, 'MulticlassAUPRC': 0.5203632712364197, 'MulticlassAccuracy': 0.5438488125801086}\n",
      "[Epoch 6] Train Loss: 806.9180, Acc: 0.5529\n",
      "[Epoch 6] Val Loss: 205.1580, Val Metrics: {'MulticlassAUROC': 0.7250722050666809, 'MulticlassAUPRC': 0.5244503021240234, 'MulticlassAccuracy': 0.5489732623100281}\n",
      "[Epoch 7] Train Loss: 804.2491, Acc: 0.5540\n",
      "[Epoch 7] Val Loss: 204.4659, Val Metrics: {'MulticlassAUROC': 0.724348247051239, 'MulticlassAUPRC': 0.5227920413017273, 'MulticlassAccuracy': 0.5508995056152344}\n",
      "[Epoch 8] Train Loss: 799.7706, Acc: 0.5565\n",
      "[Epoch 8] Val Loss: 204.3729, Val Metrics: {'MulticlassAUROC': 0.726707935333252, 'MulticlassAUPRC': 0.525183916091919, 'MulticlassAccuracy': 0.5640196204185486}\n",
      "[Epoch 9] Train Loss: 794.5673, Acc: 0.5571\n",
      "[Epoch 9] Val Loss: 205.5149, Val Metrics: {'MulticlassAUROC': 0.7206186652183533, 'MulticlassAUPRC': 0.5201475620269775, 'MulticlassAccuracy': 0.5531527996063232}\n"
     ]
    },
    {
     "data": {
      "text/html": [],
      "text/plain": [
       "<IPython.core.display.HTML object>"
      ]
     },
     "metadata": {},
     "output_type": "display_data"
    },
    {
     "data": {
      "text/html": [
       "<br>    <style><br>        .wandb-row {<br>            display: flex;<br>            flex-direction: row;<br>            flex-wrap: wrap;<br>            justify-content: flex-start;<br>            width: 100%;<br>        }<br>        .wandb-col {<br>            display: flex;<br>            flex-direction: column;<br>            flex-basis: 100%;<br>            flex: 1;<br>            padding: 10px;<br>        }<br>    </style><br><div class=\"wandb-row\"><div class=\"wandb-col\"><h3>Run history:</h3><br/><table class=\"wandb\"><tr><td>epoch</td><td>▁▂▃▃▄▅▆▆▇█</td></tr><tr><td>train_accuracy</td><td>▁▅▆▆▇▇▇███</td></tr><tr><td>train_loss</td><td>█▅▄▄▃▃▂▂▂▁</td></tr><tr><td>val_MulticlassAUPRC</td><td>▁▄▆▆▆▆█▇█▆</td></tr><tr><td>val_MulticlassAUROC</td><td>▁▅▆▇▆▆▇▇█▆</td></tr><tr><td>val_MulticlassAccuracy</td><td>▁▅▇▇▆▆▇▇█▇</td></tr><tr><td>val_loss</td><td>█▃▃▂▁▁▂▁▁▃</td></tr></table><br/></div><div class=\"wandb-col\"><h3>Run summary:</h3><br/><table class=\"wandb\"><tr><td>epoch</td><td>9</td></tr><tr><td>train_accuracy</td><td>0.55713</td></tr><tr><td>train_loss</td><td>794.56725</td></tr><tr><td>val_MulticlassAUPRC</td><td>0.52015</td></tr><tr><td>val_MulticlassAUROC</td><td>0.72062</td></tr><tr><td>val_MulticlassAccuracy</td><td>0.55315</td></tr><tr><td>val_loss</td><td>205.51489</td></tr></table><br/></div></div>"
      ],
      "text/plain": [
       "<IPython.core.display.HTML object>"
      ]
     },
     "metadata": {},
     "output_type": "display_data"
    },
    {
     "data": {
      "text/html": [
       " View run <strong style=\"color:#cdcd00\">gene_1kb_128_0.001</strong> at: <a href='https://wandb.ai/bind-gps/BindGPS/runs/wm295jqk' target=\"_blank\">https://wandb.ai/bind-gps/BindGPS/runs/wm295jqk</a><br> View project at: <a href='https://wandb.ai/bind-gps/BindGPS' target=\"_blank\">https://wandb.ai/bind-gps/BindGPS</a><br>Synced 5 W&B file(s), 0 media file(s), 0 artifact file(s) and 0 other file(s)"
      ],
      "text/plain": [
       "<IPython.core.display.HTML object>"
      ]
     },
     "metadata": {},
     "output_type": "display_data"
    },
    {
     "data": {
      "text/html": [
       "Find logs at: <code>./wandb/run-20251002_135559-wm295jqk/logs</code>"
      ],
      "text/plain": [
       "<IPython.core.display.HTML object>"
      ]
     },
     "metadata": {},
     "output_type": "display_data"
    },
    {
     "name": "stderr",
     "output_type": "stream",
     "text": [
      "\u001b[34m\u001b[1mwandb\u001b[0m: Agent Starting Run: un1l3okp with config:\n",
      "\u001b[34m\u001b[1mwandb\u001b[0m: \tbatch_size: 128\n",
      "\u001b[34m\u001b[1mwandb\u001b[0m: \tepochs: 10\n",
      "\u001b[34m\u001b[1mwandb\u001b[0m: \thidden_dims: [256, 128]\n",
      "\u001b[34m\u001b[1mwandb\u001b[0m: \tlr: 0.001\n",
      "\u001b[34m\u001b[1mwandb\u001b[0m: \tresolution: 1kb\n",
      "\u001b[34m\u001b[1mwandb\u001b[0m: \tsvd_dim: 128\n",
      "\u001b[34m\u001b[1mwandb\u001b[0m: \ttarget_metric: MulticlassAUPRC\n",
      "\u001b[34m\u001b[1mwandb\u001b[0m: \ttask: gene\n",
      "\u001b[34m\u001b[1mwandb\u001b[0m: \tweighted: False\n",
      "\u001b[34m\u001b[1mwandb\u001b[0m: \u001b[32m\u001b[41mERROR\u001b[0m Failed to detect the name of this notebook. You can set it manually with the WANDB_NOTEBOOK_NAME environment variable to enable code saving.\n"
     ]
    },
    {
     "data": {
      "text/html": [],
      "text/plain": [
       "<IPython.core.display.HTML object>"
      ]
     },
     "metadata": {},
     "output_type": "display_data"
    },
    {
     "data": {
      "text/html": [
       "Tracking run with wandb version 0.22.1"
      ],
      "text/plain": [
       "<IPython.core.display.HTML object>"
      ]
     },
     "metadata": {},
     "output_type": "display_data"
    },
    {
     "data": {
      "text/html": [
       "Run data is saved locally in <code>/oscar/data/larschan/shared_data/BindGPS/model/wandb/run-20251002_135640-un1l3okp</code>"
      ],
      "text/plain": [
       "<IPython.core.display.HTML object>"
      ]
     },
     "metadata": {},
     "output_type": "display_data"
    },
    {
     "data": {
      "text/html": [
       "Syncing run <strong><a href='https://wandb.ai/bind-gps/BindGPS/runs/un1l3okp' target=\"_blank\">soft-sweep-24</a></strong> to <a href='https://wandb.ai/bind-gps/BindGPS' target=\"_blank\">Weights & Biases</a> (<a href='https://wandb.me/developer-guide' target=\"_blank\">docs</a>)<br>Sweep page: <a href='https://wandb.ai/bind-gps/BindGPS/sweeps/79ufxypb' target=\"_blank\">https://wandb.ai/bind-gps/BindGPS/sweeps/79ufxypb</a>"
      ],
      "text/plain": [
       "<IPython.core.display.HTML object>"
      ]
     },
     "metadata": {},
     "output_type": "display_data"
    },
    {
     "data": {
      "text/html": [
       " View project at <a href='https://wandb.ai/bind-gps/BindGPS' target=\"_blank\">https://wandb.ai/bind-gps/BindGPS</a>"
      ],
      "text/plain": [
       "<IPython.core.display.HTML object>"
      ]
     },
     "metadata": {},
     "output_type": "display_data"
    },
    {
     "data": {
      "text/html": [
       " View sweep at <a href='https://wandb.ai/bind-gps/BindGPS/sweeps/79ufxypb' target=\"_blank\">https://wandb.ai/bind-gps/BindGPS/sweeps/79ufxypb</a>"
      ],
      "text/plain": [
       "<IPython.core.display.HTML object>"
      ]
     },
     "metadata": {},
     "output_type": "display_data"
    },
    {
     "data": {
      "text/html": [
       " View run at <a href='https://wandb.ai/bind-gps/BindGPS/runs/un1l3okp' target=\"_blank\">https://wandb.ai/bind-gps/BindGPS/runs/un1l3okp</a>"
      ],
      "text/plain": [
       "<IPython.core.display.HTML object>"
      ]
     },
     "metadata": {},
     "output_type": "display_data"
    },
    {
     "name": "stderr",
     "output_type": "stream",
     "text": [
      "\u001b[34m\u001b[1mwandb\u001b[0m: \u001b[33mWARNING\u001b[0m Calling wandb.login() after wandb.init() has no effect.\n"
     ]
    },
    {
     "name": "stdout",
     "output_type": "stream",
     "text": [
      "[Epoch 0] Train Loss: 721.9432, Acc: 0.6139\n",
      "[Epoch 0] Val Loss: 174.8128, Val Metrics: {'MulticlassAUROC': 0.7173452377319336, 'MulticlassAUPRC': 0.5176607966423035, 'MulticlassAccuracy': 0.6344902515411377}\n",
      "[Epoch 1] Train Loss: 697.0796, Acc: 0.6296\n",
      "[Epoch 1] Val Loss: 172.9631, Val Metrics: {'MulticlassAUROC': 0.7254379391670227, 'MulticlassAUPRC': 0.5269802808761597, 'MulticlassAccuracy': 0.6378338932991028}\n",
      "[Epoch 2] Train Loss: 689.4997, Acc: 0.6339\n",
      "[Epoch 2] Val Loss: 171.4748, Val Metrics: {'MulticlassAUROC': 0.7302576899528503, 'MulticlassAUPRC': 0.5332968831062317, 'MulticlassAccuracy': 0.640523374080658}\n",
      "[Epoch 3] Train Loss: 685.4911, Acc: 0.6375\n",
      "[Epoch 3] Val Loss: 171.6628, Val Metrics: {'MulticlassAUROC': 0.7318843007087708, 'MulticlassAUPRC': 0.536274254322052, 'MulticlassAccuracy': 0.6409231424331665}\n",
      "[Epoch 4] Train Loss: 681.6278, Acc: 0.6392\n",
      "[Epoch 4] Val Loss: 170.8950, Val Metrics: {'MulticlassAUROC': 0.7331848740577698, 'MulticlassAUPRC': 0.5348615050315857, 'MulticlassAccuracy': 0.644521176815033}\n",
      "[Epoch 5] Train Loss: 678.0030, Acc: 0.6426\n",
      "[Epoch 5] Val Loss: 170.1464, Val Metrics: {'MulticlassAUROC': 0.7353773713111877, 'MulticlassAUPRC': 0.540949285030365, 'MulticlassAccuracy': 0.6467744708061218}\n",
      "[Epoch 6] Train Loss: 674.8221, Acc: 0.6434\n",
      "[Epoch 6] Val Loss: 169.7981, Val Metrics: {'MulticlassAUROC': 0.7367755770683289, 'MulticlassAUPRC': 0.540381908416748, 'MulticlassAccuracy': 0.6447029113769531}\n",
      "[Epoch 7] Train Loss: 672.7944, Acc: 0.6446\n",
      "[Epoch 7] Val Loss: 170.5728, Val Metrics: {'MulticlassAUROC': 0.7344326376914978, 'MulticlassAUPRC': 0.5409255623817444, 'MulticlassAccuracy': 0.6452480554580688}\n",
      "[Epoch 8] Train Loss: 670.5027, Acc: 0.6466\n",
      "[Epoch 8] Val Loss: 169.9044, Val Metrics: {'MulticlassAUROC': 0.7355000376701355, 'MulticlassAUPRC': 0.5413291454315186, 'MulticlassAccuracy': 0.6431764364242554}\n",
      "[Epoch 9] Train Loss: 668.4502, Acc: 0.6483\n",
      "[Epoch 9] Val Loss: 169.6184, Val Metrics: {'MulticlassAUROC': 0.7367236614227295, 'MulticlassAUPRC': 0.5411291718482971, 'MulticlassAccuracy': 0.6446301937103271}\n"
     ]
    },
    {
     "data": {
      "text/html": [],
      "text/plain": [
       "<IPython.core.display.HTML object>"
      ]
     },
     "metadata": {},
     "output_type": "display_data"
    },
    {
     "data": {
      "text/html": [
       "<br>    <style><br>        .wandb-row {<br>            display: flex;<br>            flex-direction: row;<br>            flex-wrap: wrap;<br>            justify-content: flex-start;<br>            width: 100%;<br>        }<br>        .wandb-col {<br>            display: flex;<br>            flex-direction: column;<br>            flex-basis: 100%;<br>            flex: 1;<br>            padding: 10px;<br>        }<br>    </style><br><div class=\"wandb-row\"><div class=\"wandb-col\"><h3>Run history:</h3><br/><table class=\"wandb\"><tr><td>epoch</td><td>▁▂▃▃▄▅▆▆▇█</td></tr><tr><td>train_accuracy</td><td>▁▄▅▆▆▇▇▇██</td></tr><tr><td>train_loss</td><td>█▅▄▃▃▂▂▂▁▁</td></tr><tr><td>val_MulticlassAUPRC</td><td>▁▄▆▇▆█████</td></tr><tr><td>val_MulticlassAUROC</td><td>▁▄▆▆▇▇█▇██</td></tr><tr><td>val_MulticlassAccuracy</td><td>▁▃▄▅▇█▇▇▆▇</td></tr><tr><td>val_loss</td><td>█▆▄▄▃▂▁▂▁▁</td></tr></table><br/></div><div class=\"wandb-col\"><h3>Run summary:</h3><br/><table class=\"wandb\"><tr><td>epoch</td><td>9</td></tr><tr><td>train_accuracy</td><td>0.6483</td></tr><tr><td>train_loss</td><td>668.45019</td></tr><tr><td>val_MulticlassAUPRC</td><td>0.54113</td></tr><tr><td>val_MulticlassAUROC</td><td>0.73672</td></tr><tr><td>val_MulticlassAccuracy</td><td>0.64463</td></tr><tr><td>val_loss</td><td>169.61839</td></tr></table><br/></div></div>"
      ],
      "text/plain": [
       "<IPython.core.display.HTML object>"
      ]
     },
     "metadata": {},
     "output_type": "display_data"
    },
    {
     "data": {
      "text/html": [
       " View run <strong style=\"color:#cdcd00\">gene_1kb_128_0.001</strong> at: <a href='https://wandb.ai/bind-gps/BindGPS/runs/un1l3okp' target=\"_blank\">https://wandb.ai/bind-gps/BindGPS/runs/un1l3okp</a><br> View project at: <a href='https://wandb.ai/bind-gps/BindGPS' target=\"_blank\">https://wandb.ai/bind-gps/BindGPS</a><br>Synced 5 W&B file(s), 0 media file(s), 0 artifact file(s) and 0 other file(s)"
      ],
      "text/plain": [
       "<IPython.core.display.HTML object>"
      ]
     },
     "metadata": {},
     "output_type": "display_data"
    },
    {
     "data": {
      "text/html": [
       "Find logs at: <code>./wandb/run-20251002_135640-un1l3okp/logs</code>"
      ],
      "text/plain": [
       "<IPython.core.display.HTML object>"
      ]
     },
     "metadata": {},
     "output_type": "display_data"
    },
    {
     "name": "stderr",
     "output_type": "stream",
     "text": [
      "\u001b[34m\u001b[1mwandb\u001b[0m: Agent Starting Run: pdfn6dxq with config:\n",
      "\u001b[34m\u001b[1mwandb\u001b[0m: \tbatch_size: 128\n",
      "\u001b[34m\u001b[1mwandb\u001b[0m: \tepochs: 10\n",
      "\u001b[34m\u001b[1mwandb\u001b[0m: \thidden_dims: [256, 128]\n",
      "\u001b[34m\u001b[1mwandb\u001b[0m: \tlr: 0.001\n",
      "\u001b[34m\u001b[1mwandb\u001b[0m: \tresolution: 1kb\n",
      "\u001b[34m\u001b[1mwandb\u001b[0m: \tsvd_dim: 256\n",
      "\u001b[34m\u001b[1mwandb\u001b[0m: \ttarget_metric: MulticlassAUROC\n",
      "\u001b[34m\u001b[1mwandb\u001b[0m: \ttask: mre\n",
      "\u001b[34m\u001b[1mwandb\u001b[0m: \tweighted: True\n",
      "\u001b[34m\u001b[1mwandb\u001b[0m: \u001b[32m\u001b[41mERROR\u001b[0m Failed to detect the name of this notebook. You can set it manually with the WANDB_NOTEBOOK_NAME environment variable to enable code saving.\n"
     ]
    },
    {
     "data": {
      "text/html": [],
      "text/plain": [
       "<IPython.core.display.HTML object>"
      ]
     },
     "metadata": {},
     "output_type": "display_data"
    },
    {
     "data": {
      "text/html": [
       "Tracking run with wandb version 0.22.1"
      ],
      "text/plain": [
       "<IPython.core.display.HTML object>"
      ]
     },
     "metadata": {},
     "output_type": "display_data"
    },
    {
     "data": {
      "text/html": [
       "Run data is saved locally in <code>/oscar/data/larschan/shared_data/BindGPS/model/wandb/run-20251002_135720-pdfn6dxq</code>"
      ],
      "text/plain": [
       "<IPython.core.display.HTML object>"
      ]
     },
     "metadata": {},
     "output_type": "display_data"
    },
    {
     "data": {
      "text/html": [
       "Syncing run <strong><a href='https://wandb.ai/bind-gps/BindGPS/runs/pdfn6dxq' target=\"_blank\">fluent-sweep-25</a></strong> to <a href='https://wandb.ai/bind-gps/BindGPS' target=\"_blank\">Weights & Biases</a> (<a href='https://wandb.me/developer-guide' target=\"_blank\">docs</a>)<br>Sweep page: <a href='https://wandb.ai/bind-gps/BindGPS/sweeps/79ufxypb' target=\"_blank\">https://wandb.ai/bind-gps/BindGPS/sweeps/79ufxypb</a>"
      ],
      "text/plain": [
       "<IPython.core.display.HTML object>"
      ]
     },
     "metadata": {},
     "output_type": "display_data"
    },
    {
     "data": {
      "text/html": [
       " View project at <a href='https://wandb.ai/bind-gps/BindGPS' target=\"_blank\">https://wandb.ai/bind-gps/BindGPS</a>"
      ],
      "text/plain": [
       "<IPython.core.display.HTML object>"
      ]
     },
     "metadata": {},
     "output_type": "display_data"
    },
    {
     "data": {
      "text/html": [
       " View sweep at <a href='https://wandb.ai/bind-gps/BindGPS/sweeps/79ufxypb' target=\"_blank\">https://wandb.ai/bind-gps/BindGPS/sweeps/79ufxypb</a>"
      ],
      "text/plain": [
       "<IPython.core.display.HTML object>"
      ]
     },
     "metadata": {},
     "output_type": "display_data"
    },
    {
     "data": {
      "text/html": [
       " View run at <a href='https://wandb.ai/bind-gps/BindGPS/runs/pdfn6dxq' target=\"_blank\">https://wandb.ai/bind-gps/BindGPS/runs/pdfn6dxq</a>"
      ],
      "text/plain": [
       "<IPython.core.display.HTML object>"
      ]
     },
     "metadata": {},
     "output_type": "display_data"
    },
    {
     "name": "stderr",
     "output_type": "stream",
     "text": [
      "\u001b[34m\u001b[1mwandb\u001b[0m: \u001b[33mWARNING\u001b[0m Calling wandb.login() after wandb.init() has no effect.\n"
     ]
    },
    {
     "name": "stdout",
     "output_type": "stream",
     "text": [
      "[Epoch 0] Train Loss: 775.8723, Acc: 0.6793\n",
      "[Epoch 0] Val Loss: 176.2477, Val Metrics: {'MulticlassAUROC': 0.8376569747924805, 'MulticlassAUPRC': 0.5551031827926636, 'MulticlassAccuracy': 0.754715621471405}\n",
      "[Epoch 1] Train Loss: 709.6635, Acc: 0.7380\n",
      "[Epoch 1] Val Loss: 172.3467, Val Metrics: {'MulticlassAUROC': 0.8431100845336914, 'MulticlassAUPRC': 0.5600422024726868, 'MulticlassAccuracy': 0.7501363158226013}\n",
      "[Epoch 2] Train Loss: 684.7220, Acc: 0.7476\n",
      "[Epoch 2] Val Loss: 168.7893, Val Metrics: {'MulticlassAUROC': 0.8412027955055237, 'MulticlassAUPRC': 0.5602760910987854, 'MulticlassAccuracy': 0.7508994936943054}\n",
      "[Epoch 3] Train Loss: 660.8630, Acc: 0.7585\n",
      "[Epoch 3] Val Loss: 169.4096, Val Metrics: {'MulticlassAUROC': 0.8446622490882874, 'MulticlassAUPRC': 0.5599265098571777, 'MulticlassAccuracy': 0.7701253890991211}\n",
      "[Epoch 4] Train Loss: 644.9650, Acc: 0.7568\n",
      "[Epoch 4] Val Loss: 170.1187, Val Metrics: {'MulticlassAUROC': 0.8512938618659973, 'MulticlassAUPRC': 0.563959002494812, 'MulticlassAccuracy': 0.7727421522140503}\n",
      "[Epoch 5] Train Loss: 627.9588, Acc: 0.7601\n",
      "[Epoch 5] Val Loss: 171.2186, Val Metrics: {'MulticlassAUROC': 0.8445693850517273, 'MulticlassAUPRC': 0.5541574358940125, 'MulticlassAccuracy': 0.7516990900039673}\n",
      "[Epoch 6] Train Loss: 608.7384, Acc: 0.7615\n",
      "[Epoch 6] Val Loss: 170.3009, Val Metrics: {'MulticlassAUROC': 0.8475616574287415, 'MulticlassAUPRC': 0.5568640828132629, 'MulticlassAccuracy': 0.750681459903717}\n",
      "[Epoch 7] Train Loss: 592.3163, Acc: 0.7640\n",
      "[Epoch 7] Val Loss: 173.2308, Val Metrics: {'MulticlassAUROC': 0.8480885624885559, 'MulticlassAUPRC': 0.5564026236534119, 'MulticlassAccuracy': 0.7586407661437988}\n",
      "[Epoch 8] Train Loss: 572.1889, Acc: 0.7680\n",
      "[Epoch 8] Val Loss: 178.4823, Val Metrics: {'MulticlassAUROC': 0.841668426990509, 'MulticlassAUPRC': 0.555946946144104, 'MulticlassAccuracy': 0.7413411140441895}\n",
      "[Epoch 9] Train Loss: 557.0337, Acc: 0.7663\n",
      "[Epoch 9] Val Loss: 182.4503, Val Metrics: {'MulticlassAUROC': 0.8408565521240234, 'MulticlassAUPRC': 0.5493631958961487, 'MulticlassAccuracy': 0.7600218057632446}\n"
     ]
    },
    {
     "data": {
      "text/html": [],
      "text/plain": [
       "<IPython.core.display.HTML object>"
      ]
     },
     "metadata": {},
     "output_type": "display_data"
    },
    {
     "data": {
      "text/html": [
       "<br>    <style><br>        .wandb-row {<br>            display: flex;<br>            flex-direction: row;<br>            flex-wrap: wrap;<br>            justify-content: flex-start;<br>            width: 100%;<br>        }<br>        .wandb-col {<br>            display: flex;<br>            flex-direction: column;<br>            flex-basis: 100%;<br>            flex: 1;<br>            padding: 10px;<br>        }<br>    </style><br><div class=\"wandb-row\"><div class=\"wandb-col\"><h3>Run history:</h3><br/><table class=\"wandb\"><tr><td>epoch</td><td>▁▂▃▃▄▅▆▆▇█</td></tr><tr><td>train_accuracy</td><td>▁▆▆▇▇▇▇███</td></tr><tr><td>train_loss</td><td>█▆▅▄▄▃▃▂▁▁</td></tr><tr><td>val_MulticlassAUPRC</td><td>▄▆▆▆█▃▅▄▄▁</td></tr><tr><td>val_MulticlassAUROC</td><td>▁▄▃▅█▅▆▆▃▃</td></tr><tr><td>val_MulticlassAccuracy</td><td>▄▃▃▇█▃▃▅▁▅</td></tr><tr><td>val_loss</td><td>▅▃▁▁▂▂▂▃▆█</td></tr></table><br/></div><div class=\"wandb-col\"><h3>Run summary:</h3><br/><table class=\"wandb\"><tr><td>epoch</td><td>9</td></tr><tr><td>train_accuracy</td><td>0.76629</td></tr><tr><td>train_loss</td><td>557.03366</td></tr><tr><td>val_MulticlassAUPRC</td><td>0.54936</td></tr><tr><td>val_MulticlassAUROC</td><td>0.84086</td></tr><tr><td>val_MulticlassAccuracy</td><td>0.76002</td></tr><tr><td>val_loss</td><td>182.45032</td></tr></table><br/></div></div>"
      ],
      "text/plain": [
       "<IPython.core.display.HTML object>"
      ]
     },
     "metadata": {},
     "output_type": "display_data"
    },
    {
     "data": {
      "text/html": [
       " View run <strong style=\"color:#cdcd00\">mre_1kb_256_0.001</strong> at: <a href='https://wandb.ai/bind-gps/BindGPS/runs/pdfn6dxq' target=\"_blank\">https://wandb.ai/bind-gps/BindGPS/runs/pdfn6dxq</a><br> View project at: <a href='https://wandb.ai/bind-gps/BindGPS' target=\"_blank\">https://wandb.ai/bind-gps/BindGPS</a><br>Synced 5 W&B file(s), 0 media file(s), 0 artifact file(s) and 0 other file(s)"
      ],
      "text/plain": [
       "<IPython.core.display.HTML object>"
      ]
     },
     "metadata": {},
     "output_type": "display_data"
    },
    {
     "data": {
      "text/html": [
       "Find logs at: <code>./wandb/run-20251002_135720-pdfn6dxq/logs</code>"
      ],
      "text/plain": [
       "<IPython.core.display.HTML object>"
      ]
     },
     "metadata": {},
     "output_type": "display_data"
    },
    {
     "name": "stderr",
     "output_type": "stream",
     "text": [
      "\u001b[34m\u001b[1mwandb\u001b[0m: Agent Starting Run: lesekh38 with config:\n",
      "\u001b[34m\u001b[1mwandb\u001b[0m: \tbatch_size: 128\n",
      "\u001b[34m\u001b[1mwandb\u001b[0m: \tepochs: 10\n",
      "\u001b[34m\u001b[1mwandb\u001b[0m: \thidden_dims: [256, 128]\n",
      "\u001b[34m\u001b[1mwandb\u001b[0m: \tlr: 0.001\n",
      "\u001b[34m\u001b[1mwandb\u001b[0m: \tresolution: 1kb\n",
      "\u001b[34m\u001b[1mwandb\u001b[0m: \tsvd_dim: 256\n",
      "\u001b[34m\u001b[1mwandb\u001b[0m: \ttarget_metric: MulticlassAUROC\n",
      "\u001b[34m\u001b[1mwandb\u001b[0m: \ttask: mre\n",
      "\u001b[34m\u001b[1mwandb\u001b[0m: \tweighted: False\n",
      "\u001b[34m\u001b[1mwandb\u001b[0m: \u001b[32m\u001b[41mERROR\u001b[0m Failed to detect the name of this notebook. You can set it manually with the WANDB_NOTEBOOK_NAME environment variable to enable code saving.\n"
     ]
    },
    {
     "data": {
      "text/html": [],
      "text/plain": [
       "<IPython.core.display.HTML object>"
      ]
     },
     "metadata": {},
     "output_type": "display_data"
    },
    {
     "data": {
      "text/html": [
       "Tracking run with wandb version 0.22.1"
      ],
      "text/plain": [
       "<IPython.core.display.HTML object>"
      ]
     },
     "metadata": {},
     "output_type": "display_data"
    },
    {
     "data": {
      "text/html": [
       "Run data is saved locally in <code>/oscar/data/larschan/shared_data/BindGPS/model/wandb/run-20251002_135806-lesekh38</code>"
      ],
      "text/plain": [
       "<IPython.core.display.HTML object>"
      ]
     },
     "metadata": {},
     "output_type": "display_data"
    },
    {
     "data": {
      "text/html": [
       "Syncing run <strong><a href='https://wandb.ai/bind-gps/BindGPS/runs/lesekh38' target=\"_blank\">atomic-sweep-26</a></strong> to <a href='https://wandb.ai/bind-gps/BindGPS' target=\"_blank\">Weights & Biases</a> (<a href='https://wandb.me/developer-guide' target=\"_blank\">docs</a>)<br>Sweep page: <a href='https://wandb.ai/bind-gps/BindGPS/sweeps/79ufxypb' target=\"_blank\">https://wandb.ai/bind-gps/BindGPS/sweeps/79ufxypb</a>"
      ],
      "text/plain": [
       "<IPython.core.display.HTML object>"
      ]
     },
     "metadata": {},
     "output_type": "display_data"
    },
    {
     "data": {
      "text/html": [
       " View project at <a href='https://wandb.ai/bind-gps/BindGPS' target=\"_blank\">https://wandb.ai/bind-gps/BindGPS</a>"
      ],
      "text/plain": [
       "<IPython.core.display.HTML object>"
      ]
     },
     "metadata": {},
     "output_type": "display_data"
    },
    {
     "data": {
      "text/html": [
       " View sweep at <a href='https://wandb.ai/bind-gps/BindGPS/sweeps/79ufxypb' target=\"_blank\">https://wandb.ai/bind-gps/BindGPS/sweeps/79ufxypb</a>"
      ],
      "text/plain": [
       "<IPython.core.display.HTML object>"
      ]
     },
     "metadata": {},
     "output_type": "display_data"
    },
    {
     "data": {
      "text/html": [
       " View run at <a href='https://wandb.ai/bind-gps/BindGPS/runs/lesekh38' target=\"_blank\">https://wandb.ai/bind-gps/BindGPS/runs/lesekh38</a>"
      ],
      "text/plain": [
       "<IPython.core.display.HTML object>"
      ]
     },
     "metadata": {},
     "output_type": "display_data"
    },
    {
     "name": "stderr",
     "output_type": "stream",
     "text": [
      "\u001b[34m\u001b[1mwandb\u001b[0m: \u001b[33mWARNING\u001b[0m Calling wandb.login() after wandb.init() has no effect.\n"
     ]
    },
    {
     "name": "stdout",
     "output_type": "stream",
     "text": [
      "[Epoch 0] Train Loss: 348.0238, Acc: 0.8685\n",
      "[Epoch 0] Val Loss: 76.2727, Val Metrics: {'MulticlassAUROC': 0.851146936416626, 'MulticlassAUPRC': 0.5836498141288757, 'MulticlassAccuracy': 0.8822097182273865}\n",
      "[Epoch 1] Train Loss: 306.7527, Acc: 0.8820\n",
      "[Epoch 1] Val Loss: 73.8774, Val Metrics: {'MulticlassAUROC': 0.8656497001647949, 'MulticlassAUPRC': 0.6135063767433167, 'MulticlassAccuracy': 0.8853716254234314}\n",
      "[Epoch 2] Train Loss: 295.2975, Acc: 0.8849\n",
      "[Epoch 2] Val Loss: 73.6384, Val Metrics: {'MulticlassAUROC': 0.865851640701294, 'MulticlassAUPRC': 0.6148229241371155, 'MulticlassAccuracy': 0.8863165378570557}\n",
      "[Epoch 3] Train Loss: 288.1289, Acc: 0.8863\n",
      "[Epoch 3] Val Loss: 73.3157, Val Metrics: {'MulticlassAUROC': 0.8683778643608093, 'MulticlassAUPRC': 0.6180701851844788, 'MulticlassAccuracy': 0.8858077526092529}\n",
      "[Epoch 4] Train Loss: 282.9604, Acc: 0.8879\n",
      "[Epoch 4] Val Loss: 72.6290, Val Metrics: {'MulticlassAUROC': 0.8701111674308777, 'MulticlassAUPRC': 0.6216829419136047, 'MulticlassAccuracy': 0.8872978091239929}\n",
      "[Epoch 5] Train Loss: 276.2903, Acc: 0.8896\n",
      "[Epoch 5] Val Loss: 72.9187, Val Metrics: {'MulticlassAUROC': 0.8685073256492615, 'MulticlassAUPRC': 0.6167556643486023, 'MulticlassAccuracy': 0.8872978091239929}\n",
      "[Epoch 6] Train Loss: 273.1029, Acc: 0.8891\n",
      "[Epoch 6] Val Loss: 73.7839, Val Metrics: {'MulticlassAUROC': 0.8687027096748352, 'MulticlassAUPRC': 0.619481086730957, 'MulticlassAccuracy': 0.8863892555236816}\n",
      "[Epoch 7] Train Loss: 267.1244, Acc: 0.8911\n",
      "[Epoch 7] Val Loss: 73.4458, Val Metrics: {'MulticlassAUROC': 0.8678714632987976, 'MulticlassAUPRC': 0.6220886707305908, 'MulticlassAccuracy': 0.8880610466003418}\n",
      "[Epoch 8] Train Loss: 263.3482, Acc: 0.8922\n",
      "[Epoch 8] Val Loss: 73.5103, Val Metrics: {'MulticlassAUROC': 0.868116557598114, 'MulticlassAUPRC': 0.6180649995803833, 'MulticlassAccuracy': 0.8880246877670288}\n",
      "[Epoch 9] Train Loss: 258.9470, Acc: 0.8934\n",
      "[Epoch 9] Val Loss: 73.9609, Val Metrics: {'MulticlassAUROC': 0.8664841651916504, 'MulticlassAUPRC': 0.6175642013549805, 'MulticlassAccuracy': 0.8880974054336548}\n"
     ]
    },
    {
     "data": {
      "text/html": [],
      "text/plain": [
       "<IPython.core.display.HTML object>"
      ]
     },
     "metadata": {},
     "output_type": "display_data"
    },
    {
     "data": {
      "text/html": [
       "<br>    <style><br>        .wandb-row {<br>            display: flex;<br>            flex-direction: row;<br>            flex-wrap: wrap;<br>            justify-content: flex-start;<br>            width: 100%;<br>        }<br>        .wandb-col {<br>            display: flex;<br>            flex-direction: column;<br>            flex-basis: 100%;<br>            flex: 1;<br>            padding: 10px;<br>        }<br>    </style><br><div class=\"wandb-row\"><div class=\"wandb-col\"><h3>Run history:</h3><br/><table class=\"wandb\"><tr><td>epoch</td><td>▁▂▃▃▄▅▆▆▇█</td></tr><tr><td>train_accuracy</td><td>▁▅▆▆▆▇▇▇██</td></tr><tr><td>train_loss</td><td>█▅▄▃▃▂▂▂▁▁</td></tr><tr><td>val_MulticlassAUPRC</td><td>▁▆▇▇█▇██▇▇</td></tr><tr><td>val_MulticlassAUROC</td><td>▁▆▆▇█▇▇▇▇▇</td></tr><tr><td>val_MulticlassAccuracy</td><td>▁▅▆▅▇▇▆███</td></tr><tr><td>val_loss</td><td>█▃▃▂▁▂▃▃▃▄</td></tr></table><br/></div><div class=\"wandb-col\"><h3>Run summary:</h3><br/><table class=\"wandb\"><tr><td>epoch</td><td>9</td></tr><tr><td>train_accuracy</td><td>0.89338</td></tr><tr><td>train_loss</td><td>258.94697</td></tr><tr><td>val_MulticlassAUPRC</td><td>0.61756</td></tr><tr><td>val_MulticlassAUROC</td><td>0.86648</td></tr><tr><td>val_MulticlassAccuracy</td><td>0.8881</td></tr><tr><td>val_loss</td><td>73.96089</td></tr></table><br/></div></div>"
      ],
      "text/plain": [
       "<IPython.core.display.HTML object>"
      ]
     },
     "metadata": {},
     "output_type": "display_data"
    },
    {
     "data": {
      "text/html": [
       " View run <strong style=\"color:#cdcd00\">mre_1kb_256_0.001</strong> at: <a href='https://wandb.ai/bind-gps/BindGPS/runs/lesekh38' target=\"_blank\">https://wandb.ai/bind-gps/BindGPS/runs/lesekh38</a><br> View project at: <a href='https://wandb.ai/bind-gps/BindGPS' target=\"_blank\">https://wandb.ai/bind-gps/BindGPS</a><br>Synced 5 W&B file(s), 0 media file(s), 0 artifact file(s) and 0 other file(s)"
      ],
      "text/plain": [
       "<IPython.core.display.HTML object>"
      ]
     },
     "metadata": {},
     "output_type": "display_data"
    },
    {
     "data": {
      "text/html": [
       "Find logs at: <code>./wandb/run-20251002_135806-lesekh38/logs</code>"
      ],
      "text/plain": [
       "<IPython.core.display.HTML object>"
      ]
     },
     "metadata": {},
     "output_type": "display_data"
    },
    {
     "name": "stderr",
     "output_type": "stream",
     "text": [
      "\u001b[34m\u001b[1mwandb\u001b[0m: Agent Starting Run: krco2z86 with config:\n",
      "\u001b[34m\u001b[1mwandb\u001b[0m: \tbatch_size: 128\n",
      "\u001b[34m\u001b[1mwandb\u001b[0m: \tepochs: 10\n",
      "\u001b[34m\u001b[1mwandb\u001b[0m: \thidden_dims: [256, 128]\n",
      "\u001b[34m\u001b[1mwandb\u001b[0m: \tlr: 0.001\n",
      "\u001b[34m\u001b[1mwandb\u001b[0m: \tresolution: 1kb\n",
      "\u001b[34m\u001b[1mwandb\u001b[0m: \tsvd_dim: 256\n",
      "\u001b[34m\u001b[1mwandb\u001b[0m: \ttarget_metric: MulticlassAUROC\n",
      "\u001b[34m\u001b[1mwandb\u001b[0m: \ttask: gene\n",
      "\u001b[34m\u001b[1mwandb\u001b[0m: \tweighted: True\n",
      "\u001b[34m\u001b[1mwandb\u001b[0m: \u001b[32m\u001b[41mERROR\u001b[0m Failed to detect the name of this notebook. You can set it manually with the WANDB_NOTEBOOK_NAME environment variable to enable code saving.\n"
     ]
    },
    {
     "data": {
      "text/html": [],
      "text/plain": [
       "<IPython.core.display.HTML object>"
      ]
     },
     "metadata": {},
     "output_type": "display_data"
    },
    {
     "data": {
      "text/html": [
       "Tracking run with wandb version 0.22.1"
      ],
      "text/plain": [
       "<IPython.core.display.HTML object>"
      ]
     },
     "metadata": {},
     "output_type": "display_data"
    },
    {
     "data": {
      "text/html": [
       "Run data is saved locally in <code>/oscar/data/larschan/shared_data/BindGPS/model/wandb/run-20251002_135852-krco2z86</code>"
      ],
      "text/plain": [
       "<IPython.core.display.HTML object>"
      ]
     },
     "metadata": {},
     "output_type": "display_data"
    },
    {
     "data": {
      "text/html": [
       "Syncing run <strong><a href='https://wandb.ai/bind-gps/BindGPS/runs/krco2z86' target=\"_blank\">polar-sweep-27</a></strong> to <a href='https://wandb.ai/bind-gps/BindGPS' target=\"_blank\">Weights & Biases</a> (<a href='https://wandb.me/developer-guide' target=\"_blank\">docs</a>)<br>Sweep page: <a href='https://wandb.ai/bind-gps/BindGPS/sweeps/79ufxypb' target=\"_blank\">https://wandb.ai/bind-gps/BindGPS/sweeps/79ufxypb</a>"
      ],
      "text/plain": [
       "<IPython.core.display.HTML object>"
      ]
     },
     "metadata": {},
     "output_type": "display_data"
    },
    {
     "data": {
      "text/html": [
       " View project at <a href='https://wandb.ai/bind-gps/BindGPS' target=\"_blank\">https://wandb.ai/bind-gps/BindGPS</a>"
      ],
      "text/plain": [
       "<IPython.core.display.HTML object>"
      ]
     },
     "metadata": {},
     "output_type": "display_data"
    },
    {
     "data": {
      "text/html": [
       " View sweep at <a href='https://wandb.ai/bind-gps/BindGPS/sweeps/79ufxypb' target=\"_blank\">https://wandb.ai/bind-gps/BindGPS/sweeps/79ufxypb</a>"
      ],
      "text/plain": [
       "<IPython.core.display.HTML object>"
      ]
     },
     "metadata": {},
     "output_type": "display_data"
    },
    {
     "data": {
      "text/html": [
       " View run at <a href='https://wandb.ai/bind-gps/BindGPS/runs/krco2z86' target=\"_blank\">https://wandb.ai/bind-gps/BindGPS/runs/krco2z86</a>"
      ],
      "text/plain": [
       "<IPython.core.display.HTML object>"
      ]
     },
     "metadata": {},
     "output_type": "display_data"
    },
    {
     "name": "stderr",
     "output_type": "stream",
     "text": [
      "\u001b[34m\u001b[1mwandb\u001b[0m: \u001b[33mWARNING\u001b[0m Calling wandb.login() after wandb.init() has no effect.\n"
     ]
    },
    {
     "name": "stdout",
     "output_type": "stream",
     "text": [
      "[Epoch 0] Train Loss: 849.7279, Acc: 0.5178\n",
      "[Epoch 0] Val Loss: 204.5643, Val Metrics: {'MulticlassAUROC': 0.7238849997520447, 'MulticlassAUPRC': 0.5188170671463013, 'MulticlassAccuracy': 0.5380701422691345}\n",
      "[Epoch 1] Train Loss: 816.0485, Acc: 0.5494\n",
      "[Epoch 1] Val Loss: 203.2545, Val Metrics: {'MulticlassAUROC': 0.7302071452140808, 'MulticlassAUPRC': 0.5266411900520325, 'MulticlassAccuracy': 0.5292385816574097}\n",
      "[Epoch 2] Train Loss: 804.8392, Acc: 0.5610\n",
      "[Epoch 2] Val Loss: 201.9919, Val Metrics: {'MulticlassAUROC': 0.7342185974121094, 'MulticlassAUPRC': 0.5324201583862305, 'MulticlassAccuracy': 0.5372706055641174}\n",
      "[Epoch 3] Train Loss: 792.6086, Acc: 0.5673\n",
      "[Epoch 3] Val Loss: 200.8923, Val Metrics: {'MulticlassAUROC': 0.7343215942382812, 'MulticlassAUPRC': 0.532041072845459, 'MulticlassAccuracy': 0.552135169506073}\n",
      "[Epoch 4] Train Loss: 784.9647, Acc: 0.5703\n",
      "[Epoch 4] Val Loss: 200.2023, Val Metrics: {'MulticlassAUROC': 0.7380671501159668, 'MulticlassAUPRC': 0.5373113751411438, 'MulticlassAccuracy': 0.5590405464172363}\n",
      "[Epoch 5] Train Loss: 773.1299, Acc: 0.5733\n",
      "[Epoch 5] Val Loss: 200.4996, Val Metrics: {'MulticlassAUROC': 0.7385556697845459, 'MulticlassAUPRC': 0.535982608795166, 'MulticlassAccuracy': 0.5608940720558167}\n",
      "[Epoch 6] Train Loss: 764.4962, Acc: 0.5766\n",
      "[Epoch 6] Val Loss: 201.3404, Val Metrics: {'MulticlassAUROC': 0.7368409037590027, 'MulticlassAUPRC': 0.5344831347465515, 'MulticlassAccuracy': 0.5646011233329773}\n",
      "[Epoch 7] Train Loss: 754.5479, Acc: 0.5793\n",
      "[Epoch 7] Val Loss: 202.8427, Val Metrics: {'MulticlassAUROC': 0.7356922626495361, 'MulticlassAUPRC': 0.5327574610710144, 'MulticlassAccuracy': 0.5660912394523621}\n",
      "[Epoch 8] Train Loss: 745.4161, Acc: 0.5829\n",
      "[Epoch 8] Val Loss: 203.4651, Val Metrics: {'MulticlassAUROC': 0.7332885265350342, 'MulticlassAUPRC': 0.5324059128761292, 'MulticlassAccuracy': 0.5572596788406372}\n",
      "[Epoch 9] Train Loss: 734.7010, Acc: 0.5827\n",
      "[Epoch 9] Val Loss: 204.0814, Val Metrics: {'MulticlassAUROC': 0.7337069511413574, 'MulticlassAUPRC': 0.5324738025665283, 'MulticlassAccuracy': 0.5559149384498596}\n"
     ]
    },
    {
     "data": {
      "text/html": [],
      "text/plain": [
       "<IPython.core.display.HTML object>"
      ]
     },
     "metadata": {},
     "output_type": "display_data"
    },
    {
     "data": {
      "text/html": [
       "<br>    <style><br>        .wandb-row {<br>            display: flex;<br>            flex-direction: row;<br>            flex-wrap: wrap;<br>            justify-content: flex-start;<br>            width: 100%;<br>        }<br>        .wandb-col {<br>            display: flex;<br>            flex-direction: column;<br>            flex-basis: 100%;<br>            flex: 1;<br>            padding: 10px;<br>        }<br>    </style><br><div class=\"wandb-row\"><div class=\"wandb-col\"><h3>Run history:</h3><br/><table class=\"wandb\"><tr><td>epoch</td><td>▁▂▃▃▄▅▆▆▇█</td></tr><tr><td>train_accuracy</td><td>▁▄▆▆▇▇▇███</td></tr><tr><td>train_loss</td><td>█▆▅▅▄▃▃▂▂▁</td></tr><tr><td>val_MulticlassAUPRC</td><td>▁▄▆▆█▇▇▆▆▆</td></tr><tr><td>val_MulticlassAUROC</td><td>▁▄▆▆██▇▇▅▆</td></tr><tr><td>val_MulticlassAccuracy</td><td>▃▁▃▅▇▇██▆▆</td></tr><tr><td>val_loss</td><td>█▆▄▂▁▁▃▅▆▇</td></tr></table><br/></div><div class=\"wandb-col\"><h3>Run summary:</h3><br/><table class=\"wandb\"><tr><td>epoch</td><td>9</td></tr><tr><td>train_accuracy</td><td>0.58274</td></tr><tr><td>train_loss</td><td>734.70103</td></tr><tr><td>val_MulticlassAUPRC</td><td>0.53247</td></tr><tr><td>val_MulticlassAUROC</td><td>0.73371</td></tr><tr><td>val_MulticlassAccuracy</td><td>0.55591</td></tr><tr><td>val_loss</td><td>204.0814</td></tr></table><br/></div></div>"
      ],
      "text/plain": [
       "<IPython.core.display.HTML object>"
      ]
     },
     "metadata": {},
     "output_type": "display_data"
    },
    {
     "data": {
      "text/html": [
       " View run <strong style=\"color:#cdcd00\">gene_1kb_256_0.001</strong> at: <a href='https://wandb.ai/bind-gps/BindGPS/runs/krco2z86' target=\"_blank\">https://wandb.ai/bind-gps/BindGPS/runs/krco2z86</a><br> View project at: <a href='https://wandb.ai/bind-gps/BindGPS' target=\"_blank\">https://wandb.ai/bind-gps/BindGPS</a><br>Synced 5 W&B file(s), 0 media file(s), 0 artifact file(s) and 0 other file(s)"
      ],
      "text/plain": [
       "<IPython.core.display.HTML object>"
      ]
     },
     "metadata": {},
     "output_type": "display_data"
    },
    {
     "data": {
      "text/html": [
       "Find logs at: <code>./wandb/run-20251002_135852-krco2z86/logs</code>"
      ],
      "text/plain": [
       "<IPython.core.display.HTML object>"
      ]
     },
     "metadata": {},
     "output_type": "display_data"
    },
    {
     "name": "stderr",
     "output_type": "stream",
     "text": [
      "\u001b[34m\u001b[1mwandb\u001b[0m: Agent Starting Run: iyqil8hs with config:\n",
      "\u001b[34m\u001b[1mwandb\u001b[0m: \tbatch_size: 128\n",
      "\u001b[34m\u001b[1mwandb\u001b[0m: \tepochs: 10\n",
      "\u001b[34m\u001b[1mwandb\u001b[0m: \thidden_dims: [256, 128]\n",
      "\u001b[34m\u001b[1mwandb\u001b[0m: \tlr: 0.001\n",
      "\u001b[34m\u001b[1mwandb\u001b[0m: \tresolution: 1kb\n",
      "\u001b[34m\u001b[1mwandb\u001b[0m: \tsvd_dim: 256\n",
      "\u001b[34m\u001b[1mwandb\u001b[0m: \ttarget_metric: MulticlassAUROC\n",
      "\u001b[34m\u001b[1mwandb\u001b[0m: \ttask: gene\n",
      "\u001b[34m\u001b[1mwandb\u001b[0m: \tweighted: False\n",
      "\u001b[34m\u001b[1mwandb\u001b[0m: \u001b[32m\u001b[41mERROR\u001b[0m Failed to detect the name of this notebook. You can set it manually with the WANDB_NOTEBOOK_NAME environment variable to enable code saving.\n"
     ]
    },
    {
     "data": {
      "text/html": [],
      "text/plain": [
       "<IPython.core.display.HTML object>"
      ]
     },
     "metadata": {},
     "output_type": "display_data"
    },
    {
     "data": {
      "text/html": [
       "Tracking run with wandb version 0.22.1"
      ],
      "text/plain": [
       "<IPython.core.display.HTML object>"
      ]
     },
     "metadata": {},
     "output_type": "display_data"
    },
    {
     "data": {
      "text/html": [
       "Run data is saved locally in <code>/oscar/data/larschan/shared_data/BindGPS/model/wandb/run-20251002_135938-iyqil8hs</code>"
      ],
      "text/plain": [
       "<IPython.core.display.HTML object>"
      ]
     },
     "metadata": {},
     "output_type": "display_data"
    },
    {
     "data": {
      "text/html": [
       "Syncing run <strong><a href='https://wandb.ai/bind-gps/BindGPS/runs/iyqil8hs' target=\"_blank\">scarlet-sweep-28</a></strong> to <a href='https://wandb.ai/bind-gps/BindGPS' target=\"_blank\">Weights & Biases</a> (<a href='https://wandb.me/developer-guide' target=\"_blank\">docs</a>)<br>Sweep page: <a href='https://wandb.ai/bind-gps/BindGPS/sweeps/79ufxypb' target=\"_blank\">https://wandb.ai/bind-gps/BindGPS/sweeps/79ufxypb</a>"
      ],
      "text/plain": [
       "<IPython.core.display.HTML object>"
      ]
     },
     "metadata": {},
     "output_type": "display_data"
    },
    {
     "data": {
      "text/html": [
       " View project at <a href='https://wandb.ai/bind-gps/BindGPS' target=\"_blank\">https://wandb.ai/bind-gps/BindGPS</a>"
      ],
      "text/plain": [
       "<IPython.core.display.HTML object>"
      ]
     },
     "metadata": {},
     "output_type": "display_data"
    },
    {
     "data": {
      "text/html": [
       " View sweep at <a href='https://wandb.ai/bind-gps/BindGPS/sweeps/79ufxypb' target=\"_blank\">https://wandb.ai/bind-gps/BindGPS/sweeps/79ufxypb</a>"
      ],
      "text/plain": [
       "<IPython.core.display.HTML object>"
      ]
     },
     "metadata": {},
     "output_type": "display_data"
    },
    {
     "data": {
      "text/html": [
       " View run at <a href='https://wandb.ai/bind-gps/BindGPS/runs/iyqil8hs' target=\"_blank\">https://wandb.ai/bind-gps/BindGPS/runs/iyqil8hs</a>"
      ],
      "text/plain": [
       "<IPython.core.display.HTML object>"
      ]
     },
     "metadata": {},
     "output_type": "display_data"
    },
    {
     "name": "stderr",
     "output_type": "stream",
     "text": [
      "\u001b[34m\u001b[1mwandb\u001b[0m: \u001b[33mWARNING\u001b[0m Calling wandb.login() after wandb.init() has no effect.\n"
     ]
    },
    {
     "name": "stdout",
     "output_type": "stream",
     "text": [
      "[Epoch 0] Train Loss: 712.2946, Acc: 0.6213\n",
      "[Epoch 0] Val Loss: 170.6973, Val Metrics: {'MulticlassAUROC': 0.7363175749778748, 'MulticlassAUPRC': 0.5327371954917908, 'MulticlassAccuracy': 0.641359269618988}\n",
      "[Epoch 1] Train Loss: 682.0523, Acc: 0.6408\n",
      "[Epoch 1] Val Loss: 169.3319, Val Metrics: {'MulticlassAUROC': 0.7431978583335876, 'MulticlassAUPRC': 0.5396106243133545, 'MulticlassAccuracy': 0.6458659172058105}\n",
      "[Epoch 2] Train Loss: 672.6320, Acc: 0.6471\n",
      "[Epoch 2] Val Loss: 167.8467, Val Metrics: {'MulticlassAUROC': 0.7471802234649658, 'MulticlassAUPRC': 0.5468472838401794, 'MulticlassAccuracy': 0.6493185758590698}\n",
      "[Epoch 3] Train Loss: 663.7715, Acc: 0.6517\n",
      "[Epoch 3] Val Loss: 168.6470, Val Metrics: {'MulticlassAUROC': 0.7476362586021423, 'MulticlassAUPRC': 0.5471737384796143, 'MulticlassAccuracy': 0.6471015810966492}\n",
      "[Epoch 4] Train Loss: 658.2052, Acc: 0.6548\n",
      "[Epoch 4] Val Loss: 167.4508, Val Metrics: {'MulticlassAUROC': 0.7498726844787598, 'MulticlassAUPRC': 0.5493903756141663, 'MulticlassAccuracy': 0.6512084603309631}\n",
      "[Epoch 5] Train Loss: 651.2439, Acc: 0.6602\n",
      "[Epoch 5] Val Loss: 166.4562, Val Metrics: {'MulticlassAUROC': 0.7522532343864441, 'MulticlassAUPRC': 0.5503621697425842, 'MulticlassAccuracy': 0.6511357426643372}\n",
      "[Epoch 6] Train Loss: 644.7043, Acc: 0.6634\n",
      "[Epoch 6] Val Loss: 166.4488, Val Metrics: {'MulticlassAUROC': 0.7509393692016602, 'MulticlassAUPRC': 0.5522393584251404, 'MulticlassAccuracy': 0.6524077653884888}\n",
      "[Epoch 7] Train Loss: 639.0145, Acc: 0.6662\n",
      "[Epoch 7] Val Loss: 166.6322, Val Metrics: {'MulticlassAUROC': 0.7507323622703552, 'MulticlassAUPRC': 0.548897922039032, 'MulticlassAccuracy': 0.6487733721733093}\n",
      "[Epoch 8] Train Loss: 633.6289, Acc: 0.6698\n",
      "[Epoch 8] Val Loss: 167.4995, Val Metrics: {'MulticlassAUROC': 0.7482251524925232, 'MulticlassAUPRC': 0.5476042628288269, 'MulticlassAccuracy': 0.6512811183929443}\n",
      "[Epoch 9] Train Loss: 628.7386, Acc: 0.6722\n",
      "[Epoch 9] Val Loss: 167.3807, Val Metrics: {'MulticlassAUROC': 0.7485405802726746, 'MulticlassAUPRC': 0.5486517548561096, 'MulticlassAccuracy': 0.6502634882926941}\n"
     ]
    },
    {
     "data": {
      "text/html": [],
      "text/plain": [
       "<IPython.core.display.HTML object>"
      ]
     },
     "metadata": {},
     "output_type": "display_data"
    },
    {
     "data": {
      "text/html": [
       "<br>    <style><br>        .wandb-row {<br>            display: flex;<br>            flex-direction: row;<br>            flex-wrap: wrap;<br>            justify-content: flex-start;<br>            width: 100%;<br>        }<br>        .wandb-col {<br>            display: flex;<br>            flex-direction: column;<br>            flex-basis: 100%;<br>            flex: 1;<br>            padding: 10px;<br>        }<br>    </style><br><div class=\"wandb-row\"><div class=\"wandb-col\"><h3>Run history:</h3><br/><table class=\"wandb\"><tr><td>epoch</td><td>▁▂▃▃▄▅▆▆▇█</td></tr><tr><td>train_accuracy</td><td>▁▄▅▅▆▆▇▇██</td></tr><tr><td>train_loss</td><td>█▅▅▄▃▃▂▂▁▁</td></tr><tr><td>val_MulticlassAUPRC</td><td>▁▃▆▆▇▇█▇▆▇</td></tr><tr><td>val_MulticlassAUROC</td><td>▁▄▆▆▇█▇▇▆▆</td></tr><tr><td>val_MulticlassAccuracy</td><td>▁▄▆▅▇▇█▆▇▇</td></tr><tr><td>val_loss</td><td>█▆▃▅▃▁▁▁▃▃</td></tr></table><br/></div><div class=\"wandb-col\"><h3>Run summary:</h3><br/><table class=\"wandb\"><tr><td>epoch</td><td>9</td></tr><tr><td>train_accuracy</td><td>0.67224</td></tr><tr><td>train_loss</td><td>628.73862</td></tr><tr><td>val_MulticlassAUPRC</td><td>0.54865</td></tr><tr><td>val_MulticlassAUROC</td><td>0.74854</td></tr><tr><td>val_MulticlassAccuracy</td><td>0.65026</td></tr><tr><td>val_loss</td><td>167.38067</td></tr></table><br/></div></div>"
      ],
      "text/plain": [
       "<IPython.core.display.HTML object>"
      ]
     },
     "metadata": {},
     "output_type": "display_data"
    },
    {
     "data": {
      "text/html": [
       " View run <strong style=\"color:#cdcd00\">gene_1kb_256_0.001</strong> at: <a href='https://wandb.ai/bind-gps/BindGPS/runs/iyqil8hs' target=\"_blank\">https://wandb.ai/bind-gps/BindGPS/runs/iyqil8hs</a><br> View project at: <a href='https://wandb.ai/bind-gps/BindGPS' target=\"_blank\">https://wandb.ai/bind-gps/BindGPS</a><br>Synced 5 W&B file(s), 0 media file(s), 0 artifact file(s) and 0 other file(s)"
      ],
      "text/plain": [
       "<IPython.core.display.HTML object>"
      ]
     },
     "metadata": {},
     "output_type": "display_data"
    },
    {
     "data": {
      "text/html": [
       "Find logs at: <code>./wandb/run-20251002_135938-iyqil8hs/logs</code>"
      ],
      "text/plain": [
       "<IPython.core.display.HTML object>"
      ]
     },
     "metadata": {},
     "output_type": "display_data"
    },
    {
     "name": "stderr",
     "output_type": "stream",
     "text": [
      "\u001b[34m\u001b[1mwandb\u001b[0m: Agent Starting Run: 45wbrr35 with config:\n",
      "\u001b[34m\u001b[1mwandb\u001b[0m: \tbatch_size: 128\n",
      "\u001b[34m\u001b[1mwandb\u001b[0m: \tepochs: 10\n",
      "\u001b[34m\u001b[1mwandb\u001b[0m: \thidden_dims: [256, 128]\n",
      "\u001b[34m\u001b[1mwandb\u001b[0m: \tlr: 0.001\n",
      "\u001b[34m\u001b[1mwandb\u001b[0m: \tresolution: 1kb\n",
      "\u001b[34m\u001b[1mwandb\u001b[0m: \tsvd_dim: 256\n",
      "\u001b[34m\u001b[1mwandb\u001b[0m: \ttarget_metric: MulticlassAccuracy\n",
      "\u001b[34m\u001b[1mwandb\u001b[0m: \ttask: mre\n",
      "\u001b[34m\u001b[1mwandb\u001b[0m: \tweighted: True\n",
      "\u001b[34m\u001b[1mwandb\u001b[0m: \u001b[32m\u001b[41mERROR\u001b[0m Failed to detect the name of this notebook. You can set it manually with the WANDB_NOTEBOOK_NAME environment variable to enable code saving.\n"
     ]
    },
    {
     "data": {
      "text/html": [],
      "text/plain": [
       "<IPython.core.display.HTML object>"
      ]
     },
     "metadata": {},
     "output_type": "display_data"
    },
    {
     "data": {
      "text/html": [
       "Tracking run with wandb version 0.22.1"
      ],
      "text/plain": [
       "<IPython.core.display.HTML object>"
      ]
     },
     "metadata": {},
     "output_type": "display_data"
    },
    {
     "data": {
      "text/html": [
       "Run data is saved locally in <code>/oscar/data/larschan/shared_data/BindGPS/model/wandb/run-20251002_140024-45wbrr35</code>"
      ],
      "text/plain": [
       "<IPython.core.display.HTML object>"
      ]
     },
     "metadata": {},
     "output_type": "display_data"
    },
    {
     "data": {
      "text/html": [
       "Syncing run <strong><a href='https://wandb.ai/bind-gps/BindGPS/runs/45wbrr35' target=\"_blank\">unique-sweep-29</a></strong> to <a href='https://wandb.ai/bind-gps/BindGPS' target=\"_blank\">Weights & Biases</a> (<a href='https://wandb.me/developer-guide' target=\"_blank\">docs</a>)<br>Sweep page: <a href='https://wandb.ai/bind-gps/BindGPS/sweeps/79ufxypb' target=\"_blank\">https://wandb.ai/bind-gps/BindGPS/sweeps/79ufxypb</a>"
      ],
      "text/plain": [
       "<IPython.core.display.HTML object>"
      ]
     },
     "metadata": {},
     "output_type": "display_data"
    },
    {
     "data": {
      "text/html": [
       " View project at <a href='https://wandb.ai/bind-gps/BindGPS' target=\"_blank\">https://wandb.ai/bind-gps/BindGPS</a>"
      ],
      "text/plain": [
       "<IPython.core.display.HTML object>"
      ]
     },
     "metadata": {},
     "output_type": "display_data"
    },
    {
     "data": {
      "text/html": [
       " View sweep at <a href='https://wandb.ai/bind-gps/BindGPS/sweeps/79ufxypb' target=\"_blank\">https://wandb.ai/bind-gps/BindGPS/sweeps/79ufxypb</a>"
      ],
      "text/plain": [
       "<IPython.core.display.HTML object>"
      ]
     },
     "metadata": {},
     "output_type": "display_data"
    },
    {
     "data": {
      "text/html": [
       " View run at <a href='https://wandb.ai/bind-gps/BindGPS/runs/45wbrr35' target=\"_blank\">https://wandb.ai/bind-gps/BindGPS/runs/45wbrr35</a>"
      ],
      "text/plain": [
       "<IPython.core.display.HTML object>"
      ]
     },
     "metadata": {},
     "output_type": "display_data"
    },
    {
     "name": "stderr",
     "output_type": "stream",
     "text": [
      "\u001b[34m\u001b[1mwandb\u001b[0m: \u001b[33mWARNING\u001b[0m Calling wandb.login() after wandb.init() has no effect.\n"
     ]
    },
    {
     "name": "stdout",
     "output_type": "stream",
     "text": [
      "[Epoch 0] Train Loss: 780.1653, Acc: 0.6758\n",
      "[Epoch 0] Val Loss: 180.1803, Val Metrics: {'MulticlassAUROC': 0.8301551342010498, 'MulticlassAUPRC': 0.5365440249443054, 'MulticlassAccuracy': 0.7406868934631348}\n",
      "[Epoch 1] Train Loss: 710.6907, Acc: 0.7362\n",
      "[Epoch 1] Val Loss: 172.5229, Val Metrics: {'MulticlassAUROC': 0.8453467488288879, 'MulticlassAUPRC': 0.562816321849823, 'MulticlassAccuracy': 0.7467563152313232}\n",
      "[Epoch 2] Train Loss: 684.0579, Acc: 0.7489\n",
      "[Epoch 2] Val Loss: 169.6799, Val Metrics: {'MulticlassAUROC': 0.8471283912658691, 'MulticlassAUPRC': 0.5611301064491272, 'MulticlassAccuracy': 0.7677993774414062}\n",
      "[Epoch 3] Train Loss: 661.8706, Acc: 0.7567\n",
      "[Epoch 3] Val Loss: 171.6856, Val Metrics: {'MulticlassAUROC': 0.8507428765296936, 'MulticlassAUPRC': 0.558150589466095, 'MulticlassAccuracy': 0.779792845249176}\n",
      "[Epoch 4] Train Loss: 645.0589, Acc: 0.7589\n",
      "[Epoch 4] Val Loss: 169.7339, Val Metrics: {'MulticlassAUROC': 0.8524839878082275, 'MulticlassAUPRC': 0.5638043284416199, 'MulticlassAccuracy': 0.7718335390090942}\n",
      "[Epoch 5] Train Loss: 623.5706, Acc: 0.7598\n",
      "[Epoch 5] Val Loss: 171.9234, Val Metrics: {'MulticlassAUROC': 0.8498172760009766, 'MulticlassAUPRC': 0.5469265580177307, 'MulticlassAccuracy': 0.7659822106361389}\n",
      "[Epoch 6] Train Loss: 602.6464, Acc: 0.7628\n",
      "[Epoch 6] Val Loss: 169.4261, Val Metrics: {'MulticlassAUROC': 0.8412065505981445, 'MulticlassAUPRC': 0.5452372431755066, 'MulticlassAccuracy': 0.7113211154937744}\n",
      "[Epoch 7] Train Loss: 586.4271, Acc: 0.7673\n",
      "[Epoch 7] Val Loss: 175.0368, Val Metrics: {'MulticlassAUROC': 0.8412550091743469, 'MulticlassAUPRC': 0.5345808267593384, 'MulticlassAccuracy': 0.7132109999656677}\n",
      "[Epoch 8] Train Loss: 562.5286, Acc: 0.7697\n",
      "[Epoch 8] Val Loss: 183.4634, Val Metrics: {'MulticlassAUROC': 0.8424556255340576, 'MulticlassAUPRC': 0.5521480441093445, 'MulticlassAccuracy': 0.7696529030799866}\n",
      "Early Stopping at epoch 9\n"
     ]
    },
    {
     "data": {
      "text/html": [],
      "text/plain": [
       "<IPython.core.display.HTML object>"
      ]
     },
     "metadata": {},
     "output_type": "display_data"
    },
    {
     "data": {
      "text/html": [
       "<br>    <style><br>        .wandb-row {<br>            display: flex;<br>            flex-direction: row;<br>            flex-wrap: wrap;<br>            justify-content: flex-start;<br>            width: 100%;<br>        }<br>        .wandb-col {<br>            display: flex;<br>            flex-direction: column;<br>            flex-basis: 100%;<br>            flex: 1;<br>            padding: 10px;<br>        }<br>    </style><br><div class=\"wandb-row\"><div class=\"wandb-col\"><h3>Run history:</h3><br/><table class=\"wandb\"><tr><td>epoch</td><td>▁▂▃▄▅▅▆▇█</td></tr><tr><td>train_accuracy</td><td>▁▆▆▇▇▇▇██</td></tr><tr><td>train_loss</td><td>█▆▅▄▄▃▂▂▁</td></tr><tr><td>val_MulticlassAUPRC</td><td>▁█▇▇█▄▄▁▅</td></tr><tr><td>val_MulticlassAUROC</td><td>▁▆▆▇█▇▄▄▅</td></tr><tr><td>val_MulticlassAccuracy</td><td>▄▅▇█▇▇▁▁▇</td></tr><tr><td>val_loss</td><td>▆▃▁▂▁▂▁▄█</td></tr></table><br/></div><div class=\"wandb-col\"><h3>Run summary:</h3><br/><table class=\"wandb\"><tr><td>epoch</td><td>8</td></tr><tr><td>train_accuracy</td><td>0.76966</td></tr><tr><td>train_loss</td><td>562.52859</td></tr><tr><td>val_MulticlassAUPRC</td><td>0.55215</td></tr><tr><td>val_MulticlassAUROC</td><td>0.84246</td></tr><tr><td>val_MulticlassAccuracy</td><td>0.76965</td></tr><tr><td>val_loss</td><td>183.46338</td></tr></table><br/></div></div>"
      ],
      "text/plain": [
       "<IPython.core.display.HTML object>"
      ]
     },
     "metadata": {},
     "output_type": "display_data"
    },
    {
     "data": {
      "text/html": [
       " View run <strong style=\"color:#cdcd00\">mre_1kb_256_0.001</strong> at: <a href='https://wandb.ai/bind-gps/BindGPS/runs/45wbrr35' target=\"_blank\">https://wandb.ai/bind-gps/BindGPS/runs/45wbrr35</a><br> View project at: <a href='https://wandb.ai/bind-gps/BindGPS' target=\"_blank\">https://wandb.ai/bind-gps/BindGPS</a><br>Synced 5 W&B file(s), 0 media file(s), 0 artifact file(s) and 0 other file(s)"
      ],
      "text/plain": [
       "<IPython.core.display.HTML object>"
      ]
     },
     "metadata": {},
     "output_type": "display_data"
    },
    {
     "data": {
      "text/html": [
       "Find logs at: <code>./wandb/run-20251002_140024-45wbrr35/logs</code>"
      ],
      "text/plain": [
       "<IPython.core.display.HTML object>"
      ]
     },
     "metadata": {},
     "output_type": "display_data"
    },
    {
     "name": "stderr",
     "output_type": "stream",
     "text": [
      "\u001b[34m\u001b[1mwandb\u001b[0m: Agent Starting Run: 22hze3ns with config:\n",
      "\u001b[34m\u001b[1mwandb\u001b[0m: \tbatch_size: 128\n",
      "\u001b[34m\u001b[1mwandb\u001b[0m: \tepochs: 10\n",
      "\u001b[34m\u001b[1mwandb\u001b[0m: \thidden_dims: [256, 128]\n",
      "\u001b[34m\u001b[1mwandb\u001b[0m: \tlr: 0.001\n",
      "\u001b[34m\u001b[1mwandb\u001b[0m: \tresolution: 1kb\n",
      "\u001b[34m\u001b[1mwandb\u001b[0m: \tsvd_dim: 256\n",
      "\u001b[34m\u001b[1mwandb\u001b[0m: \ttarget_metric: MulticlassAccuracy\n",
      "\u001b[34m\u001b[1mwandb\u001b[0m: \ttask: mre\n",
      "\u001b[34m\u001b[1mwandb\u001b[0m: \tweighted: False\n",
      "\u001b[34m\u001b[1mwandb\u001b[0m: \u001b[32m\u001b[41mERROR\u001b[0m Failed to detect the name of this notebook. You can set it manually with the WANDB_NOTEBOOK_NAME environment variable to enable code saving.\n"
     ]
    },
    {
     "data": {
      "text/html": [],
      "text/plain": [
       "<IPython.core.display.HTML object>"
      ]
     },
     "metadata": {},
     "output_type": "display_data"
    },
    {
     "data": {
      "text/html": [
       "Tracking run with wandb version 0.22.1"
      ],
      "text/plain": [
       "<IPython.core.display.HTML object>"
      ]
     },
     "metadata": {},
     "output_type": "display_data"
    },
    {
     "data": {
      "text/html": [
       "Run data is saved locally in <code>/oscar/data/larschan/shared_data/BindGPS/model/wandb/run-20251002_140104-22hze3ns</code>"
      ],
      "text/plain": [
       "<IPython.core.display.HTML object>"
      ]
     },
     "metadata": {},
     "output_type": "display_data"
    },
    {
     "data": {
      "text/html": [
       "Syncing run <strong><a href='https://wandb.ai/bind-gps/BindGPS/runs/22hze3ns' target=\"_blank\">skilled-sweep-30</a></strong> to <a href='https://wandb.ai/bind-gps/BindGPS' target=\"_blank\">Weights & Biases</a> (<a href='https://wandb.me/developer-guide' target=\"_blank\">docs</a>)<br>Sweep page: <a href='https://wandb.ai/bind-gps/BindGPS/sweeps/79ufxypb' target=\"_blank\">https://wandb.ai/bind-gps/BindGPS/sweeps/79ufxypb</a>"
      ],
      "text/plain": [
       "<IPython.core.display.HTML object>"
      ]
     },
     "metadata": {},
     "output_type": "display_data"
    },
    {
     "data": {
      "text/html": [
       " View project at <a href='https://wandb.ai/bind-gps/BindGPS' target=\"_blank\">https://wandb.ai/bind-gps/BindGPS</a>"
      ],
      "text/plain": [
       "<IPython.core.display.HTML object>"
      ]
     },
     "metadata": {},
     "output_type": "display_data"
    },
    {
     "data": {
      "text/html": [
       " View sweep at <a href='https://wandb.ai/bind-gps/BindGPS/sweeps/79ufxypb' target=\"_blank\">https://wandb.ai/bind-gps/BindGPS/sweeps/79ufxypb</a>"
      ],
      "text/plain": [
       "<IPython.core.display.HTML object>"
      ]
     },
     "metadata": {},
     "output_type": "display_data"
    },
    {
     "data": {
      "text/html": [
       " View run at <a href='https://wandb.ai/bind-gps/BindGPS/runs/22hze3ns' target=\"_blank\">https://wandb.ai/bind-gps/BindGPS/runs/22hze3ns</a>"
      ],
      "text/plain": [
       "<IPython.core.display.HTML object>"
      ]
     },
     "metadata": {},
     "output_type": "display_data"
    },
    {
     "name": "stderr",
     "output_type": "stream",
     "text": [
      "\u001b[34m\u001b[1mwandb\u001b[0m: \u001b[33mWARNING\u001b[0m Calling wandb.login() after wandb.init() has no effect.\n"
     ]
    },
    {
     "name": "stdout",
     "output_type": "stream",
     "text": [
      "[Epoch 0] Train Loss: 348.8292, Acc: 0.8682\n",
      "[Epoch 0] Val Loss: 79.7918, Val Metrics: {'MulticlassAUROC': 0.8579732775688171, 'MulticlassAUPRC': 0.6093100905418396, 'MulticlassAccuracy': 0.88010174036026}\n",
      "[Epoch 1] Train Loss: 305.1492, Acc: 0.8822\n",
      "[Epoch 1] Val Loss: 75.1135, Val Metrics: {'MulticlassAUROC': 0.8684853911399841, 'MulticlassAUPRC': 0.6205079555511475, 'MulticlassAccuracy': 0.8812284469604492}\n",
      "[Epoch 2] Train Loss: 295.0950, Acc: 0.8850\n",
      "[Epoch 2] Val Loss: 74.5313, Val Metrics: {'MulticlassAUROC': 0.8691681027412415, 'MulticlassAUPRC': 0.6233999133110046, 'MulticlassAccuracy': 0.8839178681373596}\n",
      "[Epoch 3] Train Loss: 288.1236, Acc: 0.8871\n",
      "[Epoch 3] Val Loss: 74.3364, Val Metrics: {'MulticlassAUROC': 0.8691437840461731, 'MulticlassAUPRC': 0.6263821125030518, 'MulticlassAccuracy': 0.8838088512420654}\n",
      "[Epoch 4] Train Loss: 281.8283, Acc: 0.8880\n",
      "[Epoch 4] Val Loss: 73.7504, Val Metrics: {'MulticlassAUROC': 0.8747787475585938, 'MulticlassAUPRC': 0.6205642223358154, 'MulticlassAccuracy': 0.8828275203704834}\n",
      "[Epoch 5] Train Loss: 276.2105, Acc: 0.8890\n",
      "[Epoch 5] Val Loss: 73.4988, Val Metrics: {'MulticlassAUROC': 0.8755807876586914, 'MulticlassAUPRC': 0.6273850202560425, 'MulticlassAccuracy': 0.8840268850326538}\n",
      "[Epoch 6] Train Loss: 271.4887, Acc: 0.8908\n",
      "[Epoch 6] Val Loss: 74.2239, Val Metrics: {'MulticlassAUROC': 0.8731613159179688, 'MulticlassAUPRC': 0.6276392340660095, 'MulticlassAccuracy': 0.8838088512420654}\n",
      "[Epoch 7] Train Loss: 267.0233, Acc: 0.8918\n",
      "[Epoch 7] Val Loss: 73.8690, Val Metrics: {'MulticlassAUROC': 0.8760697841644287, 'MulticlassAUPRC': 0.6280073523521423, 'MulticlassAccuracy': 0.8858441114425659}\n",
      "[Epoch 8] Train Loss: 260.9924, Acc: 0.8934\n",
      "[Epoch 8] Val Loss: 73.3112, Val Metrics: {'MulticlassAUROC': 0.876598060131073, 'MulticlassAUPRC': 0.6309629082679749, 'MulticlassAccuracy': 0.8835907578468323}\n",
      "[Epoch 9] Train Loss: 258.6677, Acc: 0.8939\n",
      "[Epoch 9] Val Loss: 73.7421, Val Metrics: {'MulticlassAUROC': 0.8739627003669739, 'MulticlassAUPRC': 0.6250234246253967, 'MulticlassAccuracy': 0.885080873966217}\n"
     ]
    },
    {
     "data": {
      "text/html": [],
      "text/plain": [
       "<IPython.core.display.HTML object>"
      ]
     },
     "metadata": {},
     "output_type": "display_data"
    },
    {
     "data": {
      "text/html": [
       "<br>    <style><br>        .wandb-row {<br>            display: flex;<br>            flex-direction: row;<br>            flex-wrap: wrap;<br>            justify-content: flex-start;<br>            width: 100%;<br>        }<br>        .wandb-col {<br>            display: flex;<br>            flex-direction: column;<br>            flex-basis: 100%;<br>            flex: 1;<br>            padding: 10px;<br>        }<br>    </style><br><div class=\"wandb-row\"><div class=\"wandb-col\"><h3>Run history:</h3><br/><table class=\"wandb\"><tr><td>epoch</td><td>▁▂▃▃▄▅▆▆▇█</td></tr><tr><td>train_accuracy</td><td>▁▅▆▆▆▇▇▇██</td></tr><tr><td>train_loss</td><td>█▅▄▃▃▂▂▂▁▁</td></tr><tr><td>val_MulticlassAUPRC</td><td>▁▅▆▇▅▇▇▇█▆</td></tr><tr><td>val_MulticlassAUROC</td><td>▁▅▅▅▇█▇██▇</td></tr><tr><td>val_MulticlassAccuracy</td><td>▁▂▆▆▄▆▆█▅▇</td></tr><tr><td>val_loss</td><td>█▃▂▂▁▁▂▂▁▁</td></tr></table><br/></div><div class=\"wandb-col\"><h3>Run summary:</h3><br/><table class=\"wandb\"><tr><td>epoch</td><td>9</td></tr><tr><td>train_accuracy</td><td>0.89386</td></tr><tr><td>train_loss</td><td>258.66774</td></tr><tr><td>val_MulticlassAUPRC</td><td>0.62502</td></tr><tr><td>val_MulticlassAUROC</td><td>0.87396</td></tr><tr><td>val_MulticlassAccuracy</td><td>0.88508</td></tr><tr><td>val_loss</td><td>73.74208</td></tr></table><br/></div></div>"
      ],
      "text/plain": [
       "<IPython.core.display.HTML object>"
      ]
     },
     "metadata": {},
     "output_type": "display_data"
    },
    {
     "data": {
      "text/html": [
       " View run <strong style=\"color:#cdcd00\">mre_1kb_256_0.001</strong> at: <a href='https://wandb.ai/bind-gps/BindGPS/runs/22hze3ns' target=\"_blank\">https://wandb.ai/bind-gps/BindGPS/runs/22hze3ns</a><br> View project at: <a href='https://wandb.ai/bind-gps/BindGPS' target=\"_blank\">https://wandb.ai/bind-gps/BindGPS</a><br>Synced 5 W&B file(s), 0 media file(s), 0 artifact file(s) and 0 other file(s)"
      ],
      "text/plain": [
       "<IPython.core.display.HTML object>"
      ]
     },
     "metadata": {},
     "output_type": "display_data"
    },
    {
     "data": {
      "text/html": [
       "Find logs at: <code>./wandb/run-20251002_140104-22hze3ns/logs</code>"
      ],
      "text/plain": [
       "<IPython.core.display.HTML object>"
      ]
     },
     "metadata": {},
     "output_type": "display_data"
    },
    {
     "name": "stderr",
     "output_type": "stream",
     "text": [
      "\u001b[34m\u001b[1mwandb\u001b[0m: Agent Starting Run: cdvlg2gz with config:\n",
      "\u001b[34m\u001b[1mwandb\u001b[0m: \tbatch_size: 128\n",
      "\u001b[34m\u001b[1mwandb\u001b[0m: \tepochs: 10\n",
      "\u001b[34m\u001b[1mwandb\u001b[0m: \thidden_dims: [256, 128]\n",
      "\u001b[34m\u001b[1mwandb\u001b[0m: \tlr: 0.001\n",
      "\u001b[34m\u001b[1mwandb\u001b[0m: \tresolution: 1kb\n",
      "\u001b[34m\u001b[1mwandb\u001b[0m: \tsvd_dim: 256\n",
      "\u001b[34m\u001b[1mwandb\u001b[0m: \ttarget_metric: MulticlassAccuracy\n",
      "\u001b[34m\u001b[1mwandb\u001b[0m: \ttask: gene\n",
      "\u001b[34m\u001b[1mwandb\u001b[0m: \tweighted: True\n",
      "\u001b[34m\u001b[1mwandb\u001b[0m: \u001b[32m\u001b[41mERROR\u001b[0m Failed to detect the name of this notebook. You can set it manually with the WANDB_NOTEBOOK_NAME environment variable to enable code saving.\n"
     ]
    },
    {
     "data": {
      "text/html": [],
      "text/plain": [
       "<IPython.core.display.HTML object>"
      ]
     },
     "metadata": {},
     "output_type": "display_data"
    },
    {
     "data": {
      "text/html": [
       "Tracking run with wandb version 0.22.1"
      ],
      "text/plain": [
       "<IPython.core.display.HTML object>"
      ]
     },
     "metadata": {},
     "output_type": "display_data"
    },
    {
     "data": {
      "text/html": [
       "Run data is saved locally in <code>/oscar/data/larschan/shared_data/BindGPS/model/wandb/run-20251002_140150-cdvlg2gz</code>"
      ],
      "text/plain": [
       "<IPython.core.display.HTML object>"
      ]
     },
     "metadata": {},
     "output_type": "display_data"
    },
    {
     "data": {
      "text/html": [
       "Syncing run <strong><a href='https://wandb.ai/bind-gps/BindGPS/runs/cdvlg2gz' target=\"_blank\">earthy-sweep-31</a></strong> to <a href='https://wandb.ai/bind-gps/BindGPS' target=\"_blank\">Weights & Biases</a> (<a href='https://wandb.me/developer-guide' target=\"_blank\">docs</a>)<br>Sweep page: <a href='https://wandb.ai/bind-gps/BindGPS/sweeps/79ufxypb' target=\"_blank\">https://wandb.ai/bind-gps/BindGPS/sweeps/79ufxypb</a>"
      ],
      "text/plain": [
       "<IPython.core.display.HTML object>"
      ]
     },
     "metadata": {},
     "output_type": "display_data"
    },
    {
     "data": {
      "text/html": [
       " View project at <a href='https://wandb.ai/bind-gps/BindGPS' target=\"_blank\">https://wandb.ai/bind-gps/BindGPS</a>"
      ],
      "text/plain": [
       "<IPython.core.display.HTML object>"
      ]
     },
     "metadata": {},
     "output_type": "display_data"
    },
    {
     "data": {
      "text/html": [
       " View sweep at <a href='https://wandb.ai/bind-gps/BindGPS/sweeps/79ufxypb' target=\"_blank\">https://wandb.ai/bind-gps/BindGPS/sweeps/79ufxypb</a>"
      ],
      "text/plain": [
       "<IPython.core.display.HTML object>"
      ]
     },
     "metadata": {},
     "output_type": "display_data"
    },
    {
     "data": {
      "text/html": [
       " View run at <a href='https://wandb.ai/bind-gps/BindGPS/runs/cdvlg2gz' target=\"_blank\">https://wandb.ai/bind-gps/BindGPS/runs/cdvlg2gz</a>"
      ],
      "text/plain": [
       "<IPython.core.display.HTML object>"
      ]
     },
     "metadata": {},
     "output_type": "display_data"
    },
    {
     "name": "stderr",
     "output_type": "stream",
     "text": [
      "\u001b[34m\u001b[1mwandb\u001b[0m: \u001b[33mWARNING\u001b[0m Calling wandb.login() after wandb.init() has no effect.\n"
     ]
    },
    {
     "name": "stdout",
     "output_type": "stream",
     "text": [
      "[Epoch 0] Train Loss: 851.1884, Acc: 0.5151\n",
      "[Epoch 0] Val Loss: 204.1226, Val Metrics: {'MulticlassAUROC': 0.7205889821052551, 'MulticlassAUPRC': 0.5204790234565735, 'MulticlassAccuracy': 0.5285844206809998}\n",
      "[Epoch 1] Train Loss: 816.6477, Acc: 0.5512\n",
      "[Epoch 1] Val Loss: 202.0501, Val Metrics: {'MulticlassAUROC': 0.7322020530700684, 'MulticlassAUPRC': 0.5313088893890381, 'MulticlassAccuracy': 0.552171528339386}\n",
      "[Epoch 2] Train Loss: 804.0799, Acc: 0.5605\n",
      "[Epoch 2] Val Loss: 201.0382, Val Metrics: {'MulticlassAUROC': 0.733436107635498, 'MulticlassAUPRC': 0.5335921049118042, 'MulticlassAccuracy': 0.5483554601669312}\n",
      "[Epoch 3] Train Loss: 794.1376, Acc: 0.5651\n",
      "[Epoch 3] Val Loss: 200.8643, Val Metrics: {'MulticlassAUROC': 0.7357115149497986, 'MulticlassAUPRC': 0.5376167297363281, 'MulticlassAccuracy': 0.5608213543891907}\n",
      "[Epoch 4] Train Loss: 783.4508, Acc: 0.5720\n",
      "[Epoch 4] Val Loss: 200.5006, Val Metrics: {'MulticlassAUROC': 0.735971987247467, 'MulticlassAUPRC': 0.5385209918022156, 'MulticlassAccuracy': 0.5618389844894409}\n",
      "[Epoch 5] Train Loss: 773.8438, Acc: 0.5780\n",
      "[Epoch 5] Val Loss: 202.2378, Val Metrics: {'MulticlassAUROC': 0.7317158579826355, 'MulticlassAUPRC': 0.5320060849189758, 'MulticlassAccuracy': 0.5446847081184387}\n",
      "[Epoch 6] Train Loss: 764.4882, Acc: 0.5794\n",
      "[Epoch 6] Val Loss: 201.7422, Val Metrics: {'MulticlassAUROC': 0.736537516117096, 'MulticlassAUPRC': 0.5348629355430603, 'MulticlassAccuracy': 0.5568962097167969}\n",
      "[Epoch 7] Train Loss: 756.8685, Acc: 0.5809\n",
      "[Epoch 7] Val Loss: 202.7319, Val Metrics: {'MulticlassAUROC': 0.7359866499900818, 'MulticlassAUPRC': 0.536233127117157, 'MulticlassAccuracy': 0.5599491000175476}\n",
      "[Epoch 8] Train Loss: 746.5752, Acc: 0.5844\n",
      "[Epoch 8] Val Loss: 203.9040, Val Metrics: {'MulticlassAUROC': 0.7323099970817566, 'MulticlassAUPRC': 0.5315646529197693, 'MulticlassAccuracy': 0.5542067885398865}\n",
      "[Epoch 9] Train Loss: 736.5947, Acc: 0.5881\n",
      "[Epoch 9] Val Loss: 205.0098, Val Metrics: {'MulticlassAUROC': 0.7302737236022949, 'MulticlassAUPRC': 0.5307031273841858, 'MulticlassAccuracy': 0.5564601421356201}\n"
     ]
    },
    {
     "data": {
      "text/html": [],
      "text/plain": [
       "<IPython.core.display.HTML object>"
      ]
     },
     "metadata": {},
     "output_type": "display_data"
    },
    {
     "data": {
      "text/html": [
       "<br>    <style><br>        .wandb-row {<br>            display: flex;<br>            flex-direction: row;<br>            flex-wrap: wrap;<br>            justify-content: flex-start;<br>            width: 100%;<br>        }<br>        .wandb-col {<br>            display: flex;<br>            flex-direction: column;<br>            flex-basis: 100%;<br>            flex: 1;<br>            padding: 10px;<br>        }<br>    </style><br><div class=\"wandb-row\"><div class=\"wandb-col\"><h3>Run history:</h3><br/><table class=\"wandb\"><tr><td>epoch</td><td>▁▂▃▃▄▅▆▆▇█</td></tr><tr><td>train_accuracy</td><td>▁▄▅▆▆▇▇▇██</td></tr><tr><td>train_loss</td><td>█▆▅▅▄▃▃▂▂▁</td></tr><tr><td>val_MulticlassAUPRC</td><td>▁▅▆██▅▇▇▅▅</td></tr><tr><td>val_MulticlassAUROC</td><td>▁▆▇██▆██▆▅</td></tr><tr><td>val_MulticlassAccuracy</td><td>▁▆▅██▄▇█▆▇</td></tr><tr><td>val_loss</td><td>▇▃▂▂▁▄▃▄▆█</td></tr></table><br/></div><div class=\"wandb-col\"><h3>Run summary:</h3><br/><table class=\"wandb\"><tr><td>epoch</td><td>9</td></tr><tr><td>train_accuracy</td><td>0.58813</td></tr><tr><td>train_loss</td><td>736.59472</td></tr><tr><td>val_MulticlassAUPRC</td><td>0.5307</td></tr><tr><td>val_MulticlassAUROC</td><td>0.73027</td></tr><tr><td>val_MulticlassAccuracy</td><td>0.55646</td></tr><tr><td>val_loss</td><td>205.00978</td></tr></table><br/></div></div>"
      ],
      "text/plain": [
       "<IPython.core.display.HTML object>"
      ]
     },
     "metadata": {},
     "output_type": "display_data"
    },
    {
     "data": {
      "text/html": [
       " View run <strong style=\"color:#cdcd00\">gene_1kb_256_0.001</strong> at: <a href='https://wandb.ai/bind-gps/BindGPS/runs/cdvlg2gz' target=\"_blank\">https://wandb.ai/bind-gps/BindGPS/runs/cdvlg2gz</a><br> View project at: <a href='https://wandb.ai/bind-gps/BindGPS' target=\"_blank\">https://wandb.ai/bind-gps/BindGPS</a><br>Synced 5 W&B file(s), 0 media file(s), 0 artifact file(s) and 0 other file(s)"
      ],
      "text/plain": [
       "<IPython.core.display.HTML object>"
      ]
     },
     "metadata": {},
     "output_type": "display_data"
    },
    {
     "data": {
      "text/html": [
       "Find logs at: <code>./wandb/run-20251002_140150-cdvlg2gz/logs</code>"
      ],
      "text/plain": [
       "<IPython.core.display.HTML object>"
      ]
     },
     "metadata": {},
     "output_type": "display_data"
    },
    {
     "name": "stderr",
     "output_type": "stream",
     "text": [
      "\u001b[34m\u001b[1mwandb\u001b[0m: Agent Starting Run: pljmgb1n with config:\n",
      "\u001b[34m\u001b[1mwandb\u001b[0m: \tbatch_size: 128\n",
      "\u001b[34m\u001b[1mwandb\u001b[0m: \tepochs: 10\n",
      "\u001b[34m\u001b[1mwandb\u001b[0m: \thidden_dims: [256, 128]\n",
      "\u001b[34m\u001b[1mwandb\u001b[0m: \tlr: 0.001\n",
      "\u001b[34m\u001b[1mwandb\u001b[0m: \tresolution: 1kb\n",
      "\u001b[34m\u001b[1mwandb\u001b[0m: \tsvd_dim: 256\n",
      "\u001b[34m\u001b[1mwandb\u001b[0m: \ttarget_metric: MulticlassAccuracy\n",
      "\u001b[34m\u001b[1mwandb\u001b[0m: \ttask: gene\n",
      "\u001b[34m\u001b[1mwandb\u001b[0m: \tweighted: False\n",
      "\u001b[34m\u001b[1mwandb\u001b[0m: \u001b[32m\u001b[41mERROR\u001b[0m Failed to detect the name of this notebook. You can set it manually with the WANDB_NOTEBOOK_NAME environment variable to enable code saving.\n"
     ]
    },
    {
     "data": {
      "text/html": [],
      "text/plain": [
       "<IPython.core.display.HTML object>"
      ]
     },
     "metadata": {},
     "output_type": "display_data"
    },
    {
     "data": {
      "text/html": [
       "Tracking run with wandb version 0.22.1"
      ],
      "text/plain": [
       "<IPython.core.display.HTML object>"
      ]
     },
     "metadata": {},
     "output_type": "display_data"
    },
    {
     "data": {
      "text/html": [
       "Run data is saved locally in <code>/oscar/data/larschan/shared_data/BindGPS/model/wandb/run-20251002_140236-pljmgb1n</code>"
      ],
      "text/plain": [
       "<IPython.core.display.HTML object>"
      ]
     },
     "metadata": {},
     "output_type": "display_data"
    },
    {
     "data": {
      "text/html": [
       "Syncing run <strong><a href='https://wandb.ai/bind-gps/BindGPS/runs/pljmgb1n' target=\"_blank\">lemon-sweep-32</a></strong> to <a href='https://wandb.ai/bind-gps/BindGPS' target=\"_blank\">Weights & Biases</a> (<a href='https://wandb.me/developer-guide' target=\"_blank\">docs</a>)<br>Sweep page: <a href='https://wandb.ai/bind-gps/BindGPS/sweeps/79ufxypb' target=\"_blank\">https://wandb.ai/bind-gps/BindGPS/sweeps/79ufxypb</a>"
      ],
      "text/plain": [
       "<IPython.core.display.HTML object>"
      ]
     },
     "metadata": {},
     "output_type": "display_data"
    },
    {
     "data": {
      "text/html": [
       " View project at <a href='https://wandb.ai/bind-gps/BindGPS' target=\"_blank\">https://wandb.ai/bind-gps/BindGPS</a>"
      ],
      "text/plain": [
       "<IPython.core.display.HTML object>"
      ]
     },
     "metadata": {},
     "output_type": "display_data"
    },
    {
     "data": {
      "text/html": [
       " View sweep at <a href='https://wandb.ai/bind-gps/BindGPS/sweeps/79ufxypb' target=\"_blank\">https://wandb.ai/bind-gps/BindGPS/sweeps/79ufxypb</a>"
      ],
      "text/plain": [
       "<IPython.core.display.HTML object>"
      ]
     },
     "metadata": {},
     "output_type": "display_data"
    },
    {
     "data": {
      "text/html": [
       " View run at <a href='https://wandb.ai/bind-gps/BindGPS/runs/pljmgb1n' target=\"_blank\">https://wandb.ai/bind-gps/BindGPS/runs/pljmgb1n</a>"
      ],
      "text/plain": [
       "<IPython.core.display.HTML object>"
      ]
     },
     "metadata": {},
     "output_type": "display_data"
    },
    {
     "name": "stderr",
     "output_type": "stream",
     "text": [
      "\u001b[34m\u001b[1mwandb\u001b[0m: \u001b[33mWARNING\u001b[0m Calling wandb.login() after wandb.init() has no effect.\n"
     ]
    },
    {
     "name": "stdout",
     "output_type": "stream",
     "text": [
      "[Epoch 0] Train Loss: 712.4738, Acc: 0.6217\n",
      "[Epoch 0] Val Loss: 170.2757, Val Metrics: {'MulticlassAUROC': 0.7367917895317078, 'MulticlassAUPRC': 0.5333386063575745, 'MulticlassAccuracy': 0.6395420432090759}\n",
      "[Epoch 1] Train Loss: 682.2196, Acc: 0.6416\n",
      "[Epoch 1] Val Loss: 168.4649, Val Metrics: {'MulticlassAUROC': 0.7436955571174622, 'MulticlassAUPRC': 0.5436379313468933, 'MulticlassAccuracy': 0.6475377082824707}\n",
      "[Epoch 2] Train Loss: 672.5006, Acc: 0.6457\n",
      "[Epoch 2] Val Loss: 167.7715, Val Metrics: {'MulticlassAUROC': 0.7463541626930237, 'MulticlassAUPRC': 0.5459138751029968, 'MulticlassAccuracy': 0.6499727368354797}\n",
      "[Epoch 3] Train Loss: 664.7659, Acc: 0.6522\n",
      "[Epoch 3] Val Loss: 167.3992, Val Metrics: {'MulticlassAUROC': 0.7500473856925964, 'MulticlassAUPRC': 0.5493122935295105, 'MulticlassAccuracy': 0.6492822170257568}\n",
      "[Epoch 4] Train Loss: 658.2294, Acc: 0.6552\n",
      "[Epoch 4] Val Loss: 166.8690, Val Metrics: {'MulticlassAUROC': 0.7495179176330566, 'MulticlassAUPRC': 0.5506533980369568, 'MulticlassAccuracy': 0.651026725769043}\n",
      "[Epoch 5] Train Loss: 652.6237, Acc: 0.6594\n",
      "[Epoch 5] Val Loss: 166.5183, Val Metrics: {'MulticlassAUROC': 0.7515705227851868, 'MulticlassAUPRC': 0.554410457611084, 'MulticlassAccuracy': 0.6500454545021057}\n",
      "[Epoch 6] Train Loss: 645.9242, Acc: 0.6641\n",
      "[Epoch 6] Val Loss: 166.6626, Val Metrics: {'MulticlassAUROC': 0.7508243918418884, 'MulticlassAUPRC': 0.5519232153892517, 'MulticlassAccuracy': 0.653498113155365}\n",
      "[Epoch 7] Train Loss: 640.3050, Acc: 0.6662\n",
      "[Epoch 7] Val Loss: 167.0203, Val Metrics: {'MulticlassAUROC': 0.750110924243927, 'MulticlassAUPRC': 0.5519502758979797, 'MulticlassAccuracy': 0.6508449912071228}\n",
      "[Epoch 8] Train Loss: 633.5912, Acc: 0.6692\n",
      "[Epoch 8] Val Loss: 166.9479, Val Metrics: {'MulticlassAUROC': 0.74896639585495, 'MulticlassAUPRC': 0.550704300403595, 'MulticlassAccuracy': 0.6512084603309631}\n",
      "[Epoch 9] Train Loss: 629.4964, Acc: 0.6727\n",
      "[Epoch 9] Val Loss: 167.6893, Val Metrics: {'MulticlassAUROC': 0.7496857643127441, 'MulticlassAUPRC': 0.5514865517616272, 'MulticlassAccuracy': 0.6473559737205505}\n"
     ]
    },
    {
     "data": {
      "text/html": [],
      "text/plain": [
       "<IPython.core.display.HTML object>"
      ]
     },
     "metadata": {},
     "output_type": "display_data"
    },
    {
     "data": {
      "text/html": [
       "<br>    <style><br>        .wandb-row {<br>            display: flex;<br>            flex-direction: row;<br>            flex-wrap: wrap;<br>            justify-content: flex-start;<br>            width: 100%;<br>        }<br>        .wandb-col {<br>            display: flex;<br>            flex-direction: column;<br>            flex-basis: 100%;<br>            flex: 1;<br>            padding: 10px;<br>        }<br>    </style><br><div class=\"wandb-row\"><div class=\"wandb-col\"><h3>Run history:</h3><br/><table class=\"wandb\"><tr><td>epoch</td><td>▁▂▃▃▄▅▆▆▇█</td></tr><tr><td>train_accuracy</td><td>▁▄▄▅▆▆▇▇██</td></tr><tr><td>train_loss</td><td>█▅▅▄▃▃▂▂▁▁</td></tr><tr><td>val_MulticlassAUPRC</td><td>▁▄▅▆▇█▇▇▇▇</td></tr><tr><td>val_MulticlassAUROC</td><td>▁▄▆▇▇██▇▇▇</td></tr><tr><td>val_MulticlassAccuracy</td><td>▁▅▆▆▇▆█▇▇▅</td></tr><tr><td>val_loss</td><td>█▅▃▃▂▁▁▂▂▃</td></tr></table><br/></div><div class=\"wandb-col\"><h3>Run summary:</h3><br/><table class=\"wandb\"><tr><td>epoch</td><td>9</td></tr><tr><td>train_accuracy</td><td>0.67272</td></tr><tr><td>train_loss</td><td>629.49636</td></tr><tr><td>val_MulticlassAUPRC</td><td>0.55149</td></tr><tr><td>val_MulticlassAUROC</td><td>0.74969</td></tr><tr><td>val_MulticlassAccuracy</td><td>0.64736</td></tr><tr><td>val_loss</td><td>167.68932</td></tr></table><br/></div></div>"
      ],
      "text/plain": [
       "<IPython.core.display.HTML object>"
      ]
     },
     "metadata": {},
     "output_type": "display_data"
    },
    {
     "data": {
      "text/html": [
       " View run <strong style=\"color:#cdcd00\">gene_1kb_256_0.001</strong> at: <a href='https://wandb.ai/bind-gps/BindGPS/runs/pljmgb1n' target=\"_blank\">https://wandb.ai/bind-gps/BindGPS/runs/pljmgb1n</a><br> View project at: <a href='https://wandb.ai/bind-gps/BindGPS' target=\"_blank\">https://wandb.ai/bind-gps/BindGPS</a><br>Synced 5 W&B file(s), 0 media file(s), 0 artifact file(s) and 0 other file(s)"
      ],
      "text/plain": [
       "<IPython.core.display.HTML object>"
      ]
     },
     "metadata": {},
     "output_type": "display_data"
    },
    {
     "data": {
      "text/html": [
       "Find logs at: <code>./wandb/run-20251002_140236-pljmgb1n/logs</code>"
      ],
      "text/plain": [
       "<IPython.core.display.HTML object>"
      ]
     },
     "metadata": {},
     "output_type": "display_data"
    },
    {
     "name": "stderr",
     "output_type": "stream",
     "text": [
      "\u001b[34m\u001b[1mwandb\u001b[0m: Agent Starting Run: 9w6mrn8l with config:\n",
      "\u001b[34m\u001b[1mwandb\u001b[0m: \tbatch_size: 128\n",
      "\u001b[34m\u001b[1mwandb\u001b[0m: \tepochs: 10\n",
      "\u001b[34m\u001b[1mwandb\u001b[0m: \thidden_dims: [256, 128]\n",
      "\u001b[34m\u001b[1mwandb\u001b[0m: \tlr: 0.001\n",
      "\u001b[34m\u001b[1mwandb\u001b[0m: \tresolution: 1kb\n",
      "\u001b[34m\u001b[1mwandb\u001b[0m: \tsvd_dim: 256\n",
      "\u001b[34m\u001b[1mwandb\u001b[0m: \ttarget_metric: MulticlassAUPRC\n",
      "\u001b[34m\u001b[1mwandb\u001b[0m: \ttask: mre\n",
      "\u001b[34m\u001b[1mwandb\u001b[0m: \tweighted: True\n",
      "\u001b[34m\u001b[1mwandb\u001b[0m: \u001b[32m\u001b[41mERROR\u001b[0m Failed to detect the name of this notebook. You can set it manually with the WANDB_NOTEBOOK_NAME environment variable to enable code saving.\n"
     ]
    },
    {
     "data": {
      "text/html": [],
      "text/plain": [
       "<IPython.core.display.HTML object>"
      ]
     },
     "metadata": {},
     "output_type": "display_data"
    },
    {
     "data": {
      "text/html": [
       "Tracking run with wandb version 0.22.1"
      ],
      "text/plain": [
       "<IPython.core.display.HTML object>"
      ]
     },
     "metadata": {},
     "output_type": "display_data"
    },
    {
     "data": {
      "text/html": [
       "Run data is saved locally in <code>/oscar/data/larschan/shared_data/BindGPS/model/wandb/run-20251002_140342-9w6mrn8l</code>"
      ],
      "text/plain": [
       "<IPython.core.display.HTML object>"
      ]
     },
     "metadata": {},
     "output_type": "display_data"
    },
    {
     "data": {
      "text/html": [
       "Syncing run <strong><a href='https://wandb.ai/bind-gps/BindGPS/runs/9w6mrn8l' target=\"_blank\">leafy-sweep-33</a></strong> to <a href='https://wandb.ai/bind-gps/BindGPS' target=\"_blank\">Weights & Biases</a> (<a href='https://wandb.me/developer-guide' target=\"_blank\">docs</a>)<br>Sweep page: <a href='https://wandb.ai/bind-gps/BindGPS/sweeps/79ufxypb' target=\"_blank\">https://wandb.ai/bind-gps/BindGPS/sweeps/79ufxypb</a>"
      ],
      "text/plain": [
       "<IPython.core.display.HTML object>"
      ]
     },
     "metadata": {},
     "output_type": "display_data"
    },
    {
     "data": {
      "text/html": [
       " View project at <a href='https://wandb.ai/bind-gps/BindGPS' target=\"_blank\">https://wandb.ai/bind-gps/BindGPS</a>"
      ],
      "text/plain": [
       "<IPython.core.display.HTML object>"
      ]
     },
     "metadata": {},
     "output_type": "display_data"
    },
    {
     "data": {
      "text/html": [
       " View sweep at <a href='https://wandb.ai/bind-gps/BindGPS/sweeps/79ufxypb' target=\"_blank\">https://wandb.ai/bind-gps/BindGPS/sweeps/79ufxypb</a>"
      ],
      "text/plain": [
       "<IPython.core.display.HTML object>"
      ]
     },
     "metadata": {},
     "output_type": "display_data"
    },
    {
     "data": {
      "text/html": [
       " View run at <a href='https://wandb.ai/bind-gps/BindGPS/runs/9w6mrn8l' target=\"_blank\">https://wandb.ai/bind-gps/BindGPS/runs/9w6mrn8l</a>"
      ],
      "text/plain": [
       "<IPython.core.display.HTML object>"
      ]
     },
     "metadata": {},
     "output_type": "display_data"
    },
    {
     "name": "stderr",
     "output_type": "stream",
     "text": [
      "\u001b[34m\u001b[1mwandb\u001b[0m: \u001b[33mWARNING\u001b[0m Calling wandb.login() after wandb.init() has no effect.\n"
     ]
    },
    {
     "name": "stdout",
     "output_type": "stream",
     "text": [
      "[Epoch 0] Train Loss: 773.3049, Acc: 0.6851\n",
      "[Epoch 0] Val Loss: 179.1019, Val Metrics: {'MulticlassAUROC': 0.8277543187141418, 'MulticlassAUPRC': 0.5423567891120911, 'MulticlassAccuracy': 0.7655097246170044}\n",
      "[Epoch 1] Train Loss: 705.5175, Acc: 0.7405\n",
      "[Epoch 1] Val Loss: 175.5464, Val Metrics: {'MulticlassAUROC': 0.833906352519989, 'MulticlassAUPRC': 0.5489040017127991, 'MulticlassAccuracy': 0.7830637693405151}\n",
      "[Epoch 2] Train Loss: 678.6407, Acc: 0.7494\n",
      "[Epoch 2] Val Loss: 172.9039, Val Metrics: {'MulticlassAUROC': 0.8352966904640198, 'MulticlassAUPRC': 0.5443175435066223, 'MulticlassAccuracy': 0.7389060258865356}\n",
      "[Epoch 3] Train Loss: 656.2540, Acc: 0.7548\n",
      "[Epoch 3] Val Loss: 172.4448, Val Metrics: {'MulticlassAUROC': 0.8394848704338074, 'MulticlassAUPRC': 0.548966109752655, 'MulticlassAccuracy': 0.7720516324043274}\n",
      "[Epoch 4] Train Loss: 638.2597, Acc: 0.7547\n",
      "[Epoch 4] Val Loss: 172.7588, Val Metrics: {'MulticlassAUROC': 0.8410801887512207, 'MulticlassAUPRC': 0.5461437106132507, 'MulticlassAccuracy': 0.752280592918396}\n",
      "[Epoch 5] Train Loss: 622.3152, Acc: 0.7591\n",
      "[Epoch 5] Val Loss: 173.3921, Val Metrics: {'MulticlassAUROC': 0.8379232883453369, 'MulticlassAUPRC': 0.5420685410499573, 'MulticlassAccuracy': 0.7507541179656982}\n",
      "[Epoch 6] Train Loss: 599.3769, Acc: 0.7631\n",
      "[Epoch 6] Val Loss: 175.6848, Val Metrics: {'MulticlassAUROC': 0.8391179442405701, 'MulticlassAUPRC': 0.544985830783844, 'MulticlassAccuracy': 0.7574777603149414}\n",
      "[Epoch 7] Train Loss: 580.0684, Acc: 0.7660\n",
      "[Epoch 7] Val Loss: 183.2746, Val Metrics: {'MulticlassAUROC': 0.8336096405982971, 'MulticlassAUPRC': 0.5428544878959656, 'MulticlassAccuracy': 0.7442849278450012}\n",
      "[Epoch 8] Train Loss: 560.0985, Acc: 0.7702\n",
      "[Epoch 8] Val Loss: 185.0814, Val Metrics: {'MulticlassAUROC': 0.8319595456123352, 'MulticlassAUPRC': 0.5413881540298462, 'MulticlassAccuracy': 0.7524259686470032}\n",
      "Early Stopping at epoch 9\n"
     ]
    },
    {
     "data": {
      "text/html": [],
      "text/plain": [
       "<IPython.core.display.HTML object>"
      ]
     },
     "metadata": {},
     "output_type": "display_data"
    },
    {
     "data": {
      "text/html": [
       "<br>    <style><br>        .wandb-row {<br>            display: flex;<br>            flex-direction: row;<br>            flex-wrap: wrap;<br>            justify-content: flex-start;<br>            width: 100%;<br>        }<br>        .wandb-col {<br>            display: flex;<br>            flex-direction: column;<br>            flex-basis: 100%;<br>            flex: 1;<br>            padding: 10px;<br>        }<br>    </style><br><div class=\"wandb-row\"><div class=\"wandb-col\"><h3>Run history:</h3><br/><table class=\"wandb\"><tr><td>epoch</td><td>▁▂▃▄▅▅▆▇█</td></tr><tr><td>train_accuracy</td><td>▁▆▆▇▇▇▇██</td></tr><tr><td>train_loss</td><td>█▆▅▄▄▃▂▂▁</td></tr><tr><td>val_MulticlassAUPRC</td><td>▂█▄█▅▂▄▂▁</td></tr><tr><td>val_MulticlassAUROC</td><td>▁▄▅▇█▆▇▄▃</td></tr><tr><td>val_MulticlassAccuracy</td><td>▅█▁▆▃▃▄▂▃</td></tr><tr><td>val_loss</td><td>▅▃▁▁▁▂▃▇█</td></tr></table><br/></div><div class=\"wandb-col\"><h3>Run summary:</h3><br/><table class=\"wandb\"><tr><td>epoch</td><td>8</td></tr><tr><td>train_accuracy</td><td>0.7702</td></tr><tr><td>train_loss</td><td>560.09846</td></tr><tr><td>val_MulticlassAUPRC</td><td>0.54139</td></tr><tr><td>val_MulticlassAUROC</td><td>0.83196</td></tr><tr><td>val_MulticlassAccuracy</td><td>0.75243</td></tr><tr><td>val_loss</td><td>185.0814</td></tr></table><br/></div></div>"
      ],
      "text/plain": [
       "<IPython.core.display.HTML object>"
      ]
     },
     "metadata": {},
     "output_type": "display_data"
    },
    {
     "data": {
      "text/html": [
       " View run <strong style=\"color:#cdcd00\">mre_1kb_256_0.001</strong> at: <a href='https://wandb.ai/bind-gps/BindGPS/runs/9w6mrn8l' target=\"_blank\">https://wandb.ai/bind-gps/BindGPS/runs/9w6mrn8l</a><br> View project at: <a href='https://wandb.ai/bind-gps/BindGPS' target=\"_blank\">https://wandb.ai/bind-gps/BindGPS</a><br>Synced 5 W&B file(s), 0 media file(s), 0 artifact file(s) and 0 other file(s)"
      ],
      "text/plain": [
       "<IPython.core.display.HTML object>"
      ]
     },
     "metadata": {},
     "output_type": "display_data"
    },
    {
     "data": {
      "text/html": [
       "Find logs at: <code>./wandb/run-20251002_140342-9w6mrn8l/logs</code>"
      ],
      "text/plain": [
       "<IPython.core.display.HTML object>"
      ]
     },
     "metadata": {},
     "output_type": "display_data"
    },
    {
     "name": "stderr",
     "output_type": "stream",
     "text": [
      "\u001b[34m\u001b[1mwandb\u001b[0m: Agent Starting Run: strt615v with config:\n",
      "\u001b[34m\u001b[1mwandb\u001b[0m: \tbatch_size: 128\n",
      "\u001b[34m\u001b[1mwandb\u001b[0m: \tepochs: 10\n",
      "\u001b[34m\u001b[1mwandb\u001b[0m: \thidden_dims: [256, 128]\n",
      "\u001b[34m\u001b[1mwandb\u001b[0m: \tlr: 0.001\n",
      "\u001b[34m\u001b[1mwandb\u001b[0m: \tresolution: 1kb\n",
      "\u001b[34m\u001b[1mwandb\u001b[0m: \tsvd_dim: 256\n",
      "\u001b[34m\u001b[1mwandb\u001b[0m: \ttarget_metric: MulticlassAUPRC\n",
      "\u001b[34m\u001b[1mwandb\u001b[0m: \ttask: mre\n",
      "\u001b[34m\u001b[1mwandb\u001b[0m: \tweighted: False\n",
      "\u001b[34m\u001b[1mwandb\u001b[0m: \u001b[32m\u001b[41mERROR\u001b[0m Failed to detect the name of this notebook. You can set it manually with the WANDB_NOTEBOOK_NAME environment variable to enable code saving.\n"
     ]
    },
    {
     "data": {
      "text/html": [],
      "text/plain": [
       "<IPython.core.display.HTML object>"
      ]
     },
     "metadata": {},
     "output_type": "display_data"
    },
    {
     "data": {
      "text/html": [
       "Tracking run with wandb version 0.22.1"
      ],
      "text/plain": [
       "<IPython.core.display.HTML object>"
      ]
     },
     "metadata": {},
     "output_type": "display_data"
    },
    {
     "data": {
      "text/html": [
       "Run data is saved locally in <code>/oscar/data/larschan/shared_data/BindGPS/model/wandb/run-20251002_140423-strt615v</code>"
      ],
      "text/plain": [
       "<IPython.core.display.HTML object>"
      ]
     },
     "metadata": {},
     "output_type": "display_data"
    },
    {
     "data": {
      "text/html": [
       "Syncing run <strong><a href='https://wandb.ai/bind-gps/BindGPS/runs/strt615v' target=\"_blank\">fluent-sweep-34</a></strong> to <a href='https://wandb.ai/bind-gps/BindGPS' target=\"_blank\">Weights & Biases</a> (<a href='https://wandb.me/developer-guide' target=\"_blank\">docs</a>)<br>Sweep page: <a href='https://wandb.ai/bind-gps/BindGPS/sweeps/79ufxypb' target=\"_blank\">https://wandb.ai/bind-gps/BindGPS/sweeps/79ufxypb</a>"
      ],
      "text/plain": [
       "<IPython.core.display.HTML object>"
      ]
     },
     "metadata": {},
     "output_type": "display_data"
    },
    {
     "data": {
      "text/html": [
       " View project at <a href='https://wandb.ai/bind-gps/BindGPS' target=\"_blank\">https://wandb.ai/bind-gps/BindGPS</a>"
      ],
      "text/plain": [
       "<IPython.core.display.HTML object>"
      ]
     },
     "metadata": {},
     "output_type": "display_data"
    },
    {
     "data": {
      "text/html": [
       " View sweep at <a href='https://wandb.ai/bind-gps/BindGPS/sweeps/79ufxypb' target=\"_blank\">https://wandb.ai/bind-gps/BindGPS/sweeps/79ufxypb</a>"
      ],
      "text/plain": [
       "<IPython.core.display.HTML object>"
      ]
     },
     "metadata": {},
     "output_type": "display_data"
    },
    {
     "data": {
      "text/html": [
       " View run at <a href='https://wandb.ai/bind-gps/BindGPS/runs/strt615v' target=\"_blank\">https://wandb.ai/bind-gps/BindGPS/runs/strt615v</a>"
      ],
      "text/plain": [
       "<IPython.core.display.HTML object>"
      ]
     },
     "metadata": {},
     "output_type": "display_data"
    },
    {
     "name": "stderr",
     "output_type": "stream",
     "text": [
      "\u001b[34m\u001b[1mwandb\u001b[0m: \u001b[33mWARNING\u001b[0m Calling wandb.login() after wandb.init() has no effect.\n"
     ]
    },
    {
     "name": "stdout",
     "output_type": "stream",
     "text": [
      "[Epoch 0] Train Loss: 344.5280, Acc: 0.8714\n",
      "[Epoch 0] Val Loss: 76.3055, Val Metrics: {'MulticlassAUROC': 0.858046293258667, 'MulticlassAUPRC': 0.5995937585830688, 'MulticlassAccuracy': 0.8813738226890564}\n",
      "[Epoch 1] Train Loss: 306.4276, Acc: 0.8822\n",
      "[Epoch 1] Val Loss: 74.9167, Val Metrics: {'MulticlassAUROC': 0.8644270896911621, 'MulticlassAUPRC': 0.6074895858764648, 'MulticlassAccuracy': 0.8838815093040466}\n",
      "[Epoch 2] Train Loss: 295.4154, Acc: 0.8853\n",
      "[Epoch 2] Val Loss: 73.8089, Val Metrics: {'MulticlassAUROC': 0.8691031336784363, 'MulticlassAUPRC': 0.6131658554077148, 'MulticlassAccuracy': 0.8854806423187256}\n",
      "[Epoch 3] Train Loss: 287.7565, Acc: 0.8864\n",
      "[Epoch 3] Val Loss: 73.4473, Val Metrics: {'MulticlassAUROC': 0.8704459071159363, 'MulticlassAUPRC': 0.6113552451133728, 'MulticlassAccuracy': 0.885080873966217}\n",
      "[Epoch 4] Train Loss: 281.7493, Acc: 0.8877\n",
      "[Epoch 4] Val Loss: 73.6431, Val Metrics: {'MulticlassAUROC': 0.8715376257896423, 'MulticlassAUPRC': 0.6162006258964539, 'MulticlassAccuracy': 0.8859894871711731}\n",
      "[Epoch 5] Train Loss: 277.4511, Acc: 0.8886\n",
      "[Epoch 5] Val Loss: 73.1319, Val Metrics: {'MulticlassAUROC': 0.8694515228271484, 'MulticlassAUPRC': 0.6179041266441345, 'MulticlassAccuracy': 0.88660728931427}\n",
      "[Epoch 6] Train Loss: 272.4261, Acc: 0.8897\n",
      "[Epoch 6] Val Loss: 72.7220, Val Metrics: {'MulticlassAUROC': 0.8743467330932617, 'MulticlassAUPRC': 0.6175174117088318, 'MulticlassAccuracy': 0.885735034942627}\n",
      "[Epoch 7] Train Loss: 267.0888, Acc: 0.8913\n",
      "[Epoch 7] Val Loss: 72.6444, Val Metrics: {'MulticlassAUROC': 0.8723905086517334, 'MulticlassAUPRC': 0.6198804974555969, 'MulticlassAccuracy': 0.8867890238761902}\n",
      "[Epoch 8] Train Loss: 262.9396, Acc: 0.8922\n",
      "[Epoch 8] Val Loss: 73.4507, Val Metrics: {'MulticlassAUROC': 0.8694245219230652, 'MulticlassAUPRC': 0.6162223219871521, 'MulticlassAccuracy': 0.8865346312522888}\n",
      "[Epoch 9] Train Loss: 258.5754, Acc: 0.8935\n",
      "[Epoch 9] Val Loss: 72.7103, Val Metrics: {'MulticlassAUROC': 0.8732544779777527, 'MulticlassAUPRC': 0.6200701594352722, 'MulticlassAccuracy': 0.8873341679573059}\n"
     ]
    },
    {
     "data": {
      "text/html": [],
      "text/plain": [
       "<IPython.core.display.HTML object>"
      ]
     },
     "metadata": {},
     "output_type": "display_data"
    },
    {
     "data": {
      "text/html": [
       "<br>    <style><br>        .wandb-row {<br>            display: flex;<br>            flex-direction: row;<br>            flex-wrap: wrap;<br>            justify-content: flex-start;<br>            width: 100%;<br>        }<br>        .wandb-col {<br>            display: flex;<br>            flex-direction: column;<br>            flex-basis: 100%;<br>            flex: 1;<br>            padding: 10px;<br>        }<br>    </style><br><div class=\"wandb-row\"><div class=\"wandb-col\"><h3>Run history:</h3><br/><table class=\"wandb\"><tr><td>epoch</td><td>▁▂▃▃▄▅▆▆▇█</td></tr><tr><td>train_accuracy</td><td>▁▄▅▆▆▆▇▇██</td></tr><tr><td>train_loss</td><td>█▅▄▃▃▃▂▂▁▁</td></tr><tr><td>val_MulticlassAUPRC</td><td>▁▄▆▅▇▇▇█▇█</td></tr><tr><td>val_MulticlassAUROC</td><td>▁▄▆▆▇▆█▇▆█</td></tr><tr><td>val_MulticlassAccuracy</td><td>▁▄▆▅▆▇▆▇▇█</td></tr><tr><td>val_loss</td><td>█▅▃▃▃▂▁▁▃▁</td></tr></table><br/></div><div class=\"wandb-col\"><h3>Run summary:</h3><br/><table class=\"wandb\"><tr><td>epoch</td><td>9</td></tr><tr><td>train_accuracy</td><td>0.89348</td></tr><tr><td>train_loss</td><td>258.57537</td></tr><tr><td>val_MulticlassAUPRC</td><td>0.62007</td></tr><tr><td>val_MulticlassAUROC</td><td>0.87325</td></tr><tr><td>val_MulticlassAccuracy</td><td>0.88733</td></tr><tr><td>val_loss</td><td>72.71027</td></tr></table><br/></div></div>"
      ],
      "text/plain": [
       "<IPython.core.display.HTML object>"
      ]
     },
     "metadata": {},
     "output_type": "display_data"
    },
    {
     "data": {
      "text/html": [
       " View run <strong style=\"color:#cdcd00\">mre_1kb_256_0.001</strong> at: <a href='https://wandb.ai/bind-gps/BindGPS/runs/strt615v' target=\"_blank\">https://wandb.ai/bind-gps/BindGPS/runs/strt615v</a><br> View project at: <a href='https://wandb.ai/bind-gps/BindGPS' target=\"_blank\">https://wandb.ai/bind-gps/BindGPS</a><br>Synced 5 W&B file(s), 0 media file(s), 0 artifact file(s) and 0 other file(s)"
      ],
      "text/plain": [
       "<IPython.core.display.HTML object>"
      ]
     },
     "metadata": {},
     "output_type": "display_data"
    },
    {
     "data": {
      "text/html": [
       "Find logs at: <code>./wandb/run-20251002_140423-strt615v/logs</code>"
      ],
      "text/plain": [
       "<IPython.core.display.HTML object>"
      ]
     },
     "metadata": {},
     "output_type": "display_data"
    },
    {
     "name": "stderr",
     "output_type": "stream",
     "text": [
      "\u001b[34m\u001b[1mwandb\u001b[0m: Agent Starting Run: b1cpvr6l with config:\n",
      "\u001b[34m\u001b[1mwandb\u001b[0m: \tbatch_size: 128\n",
      "\u001b[34m\u001b[1mwandb\u001b[0m: \tepochs: 10\n",
      "\u001b[34m\u001b[1mwandb\u001b[0m: \thidden_dims: [256, 128]\n",
      "\u001b[34m\u001b[1mwandb\u001b[0m: \tlr: 0.001\n",
      "\u001b[34m\u001b[1mwandb\u001b[0m: \tresolution: 1kb\n",
      "\u001b[34m\u001b[1mwandb\u001b[0m: \tsvd_dim: 256\n",
      "\u001b[34m\u001b[1mwandb\u001b[0m: \ttarget_metric: MulticlassAUPRC\n",
      "\u001b[34m\u001b[1mwandb\u001b[0m: \ttask: gene\n",
      "\u001b[34m\u001b[1mwandb\u001b[0m: \tweighted: True\n",
      "\u001b[34m\u001b[1mwandb\u001b[0m: \u001b[32m\u001b[41mERROR\u001b[0m Failed to detect the name of this notebook. You can set it manually with the WANDB_NOTEBOOK_NAME environment variable to enable code saving.\n"
     ]
    },
    {
     "data": {
      "text/html": [],
      "text/plain": [
       "<IPython.core.display.HTML object>"
      ]
     },
     "metadata": {},
     "output_type": "display_data"
    },
    {
     "data": {
      "text/html": [
       "Tracking run with wandb version 0.22.1"
      ],
      "text/plain": [
       "<IPython.core.display.HTML object>"
      ]
     },
     "metadata": {},
     "output_type": "display_data"
    },
    {
     "data": {
      "text/html": [
       "Run data is saved locally in <code>/oscar/data/larschan/shared_data/BindGPS/model/wandb/run-20251002_140509-b1cpvr6l</code>"
      ],
      "text/plain": [
       "<IPython.core.display.HTML object>"
      ]
     },
     "metadata": {},
     "output_type": "display_data"
    },
    {
     "data": {
      "text/html": [
       "Syncing run <strong><a href='https://wandb.ai/bind-gps/BindGPS/runs/b1cpvr6l' target=\"_blank\">neat-sweep-35</a></strong> to <a href='https://wandb.ai/bind-gps/BindGPS' target=\"_blank\">Weights & Biases</a> (<a href='https://wandb.me/developer-guide' target=\"_blank\">docs</a>)<br>Sweep page: <a href='https://wandb.ai/bind-gps/BindGPS/sweeps/79ufxypb' target=\"_blank\">https://wandb.ai/bind-gps/BindGPS/sweeps/79ufxypb</a>"
      ],
      "text/plain": [
       "<IPython.core.display.HTML object>"
      ]
     },
     "metadata": {},
     "output_type": "display_data"
    },
    {
     "data": {
      "text/html": [
       " View project at <a href='https://wandb.ai/bind-gps/BindGPS' target=\"_blank\">https://wandb.ai/bind-gps/BindGPS</a>"
      ],
      "text/plain": [
       "<IPython.core.display.HTML object>"
      ]
     },
     "metadata": {},
     "output_type": "display_data"
    },
    {
     "data": {
      "text/html": [
       " View sweep at <a href='https://wandb.ai/bind-gps/BindGPS/sweeps/79ufxypb' target=\"_blank\">https://wandb.ai/bind-gps/BindGPS/sweeps/79ufxypb</a>"
      ],
      "text/plain": [
       "<IPython.core.display.HTML object>"
      ]
     },
     "metadata": {},
     "output_type": "display_data"
    },
    {
     "data": {
      "text/html": [
       " View run at <a href='https://wandb.ai/bind-gps/BindGPS/runs/b1cpvr6l' target=\"_blank\">https://wandb.ai/bind-gps/BindGPS/runs/b1cpvr6l</a>"
      ],
      "text/plain": [
       "<IPython.core.display.HTML object>"
      ]
     },
     "metadata": {},
     "output_type": "display_data"
    },
    {
     "name": "stderr",
     "output_type": "stream",
     "text": [
      "\u001b[34m\u001b[1mwandb\u001b[0m: \u001b[33mWARNING\u001b[0m Calling wandb.login() after wandb.init() has no effect.\n"
     ]
    },
    {
     "name": "stdout",
     "output_type": "stream",
     "text": [
      "[Epoch 0] Train Loss: 851.1382, Acc: 0.5141\n",
      "[Epoch 0] Val Loss: 204.4902, Val Metrics: {'MulticlassAUROC': 0.723606526851654, 'MulticlassAUPRC': 0.5247569680213928, 'MulticlassAccuracy': 0.5337452292442322}\n",
      "[Epoch 1] Train Loss: 816.0891, Acc: 0.5485\n",
      "[Epoch 1] Val Loss: 201.8795, Val Metrics: {'MulticlassAUROC': 0.7339504361152649, 'MulticlassAUPRC': 0.5396779179573059, 'MulticlassAccuracy': 0.5622751116752625}\n",
      "[Epoch 2] Train Loss: 804.5230, Acc: 0.5590\n",
      "[Epoch 2] Val Loss: 200.7362, Val Metrics: {'MulticlassAUROC': 0.7364391684532166, 'MulticlassAUPRC': 0.5432180166244507, 'MulticlassAccuracy': 0.5672542452812195}\n",
      "[Epoch 3] Train Loss: 793.3455, Acc: 0.5656\n",
      "[Epoch 3] Val Loss: 200.3182, Val Metrics: {'MulticlassAUROC': 0.7381253242492676, 'MulticlassAUPRC': 0.5449196100234985, 'MulticlassAccuracy': 0.5608213543891907}\n",
      "[Epoch 4] Train Loss: 785.5783, Acc: 0.5687\n",
      "[Epoch 4] Val Loss: 199.8152, Val Metrics: {'MulticlassAUROC': 0.7361539006233215, 'MulticlassAUPRC': 0.5433714389801025, 'MulticlassAccuracy': 0.5503543615341187}\n",
      "[Epoch 5] Train Loss: 774.1100, Acc: 0.5718\n",
      "[Epoch 5] Val Loss: 199.6127, Val Metrics: {'MulticlassAUROC': 0.7419379353523254, 'MulticlassAUPRC': 0.5498130917549133, 'MulticlassAccuracy': 0.5714337825775146}\n",
      "[Epoch 6] Train Loss: 764.5487, Acc: 0.5761\n",
      "[Epoch 6] Val Loss: 199.8859, Val Metrics: {'MulticlassAUROC': 0.7396875023841858, 'MulticlassAUPRC': 0.5441057085990906, 'MulticlassAccuracy': 0.5503180027008057}\n",
      "[Epoch 7] Train Loss: 757.2011, Acc: 0.5758\n",
      "[Epoch 7] Val Loss: 199.8531, Val Metrics: {'MulticlassAUROC': 0.7414366602897644, 'MulticlassAUPRC': 0.5472881197929382, 'MulticlassAccuracy': 0.5671451687812805}\n",
      "[Epoch 8] Train Loss: 747.8615, Acc: 0.5812\n",
      "[Epoch 8] Val Loss: 201.4201, Val Metrics: {'MulticlassAUROC': 0.7411940693855286, 'MulticlassAUPRC': 0.5451340079307556, 'MulticlassAccuracy': 0.5702707767486572}\n",
      "[Epoch 9] Train Loss: 738.4184, Acc: 0.5845\n",
      "[Epoch 9] Val Loss: 203.9557, Val Metrics: {'MulticlassAUROC': 0.7350859642028809, 'MulticlassAUPRC': 0.538054883480072, 'MulticlassAccuracy': 0.5387243032455444}\n"
     ]
    },
    {
     "data": {
      "text/html": [],
      "text/plain": [
       "<IPython.core.display.HTML object>"
      ]
     },
     "metadata": {},
     "output_type": "display_data"
    },
    {
     "data": {
      "text/html": [
       "<br>    <style><br>        .wandb-row {<br>            display: flex;<br>            flex-direction: row;<br>            flex-wrap: wrap;<br>            justify-content: flex-start;<br>            width: 100%;<br>        }<br>        .wandb-col {<br>            display: flex;<br>            flex-direction: column;<br>            flex-basis: 100%;<br>            flex: 1;<br>            padding: 10px;<br>        }<br>    </style><br><div class=\"wandb-row\"><div class=\"wandb-col\"><h3>Run history:</h3><br/><table class=\"wandb\"><tr><td>epoch</td><td>▁▂▃▃▄▅▆▆▇█</td></tr><tr><td>train_accuracy</td><td>▁▄▅▆▆▇▇▇██</td></tr><tr><td>train_loss</td><td>█▆▅▄▄▃▃▂▂▁</td></tr><tr><td>val_MulticlassAUPRC</td><td>▁▅▆▇▆█▆▇▇▅</td></tr><tr><td>val_MulticlassAUROC</td><td>▁▅▆▇▆█▇██▅</td></tr><tr><td>val_MulticlassAccuracy</td><td>▁▆▇▆▄█▄▇█▂</td></tr><tr><td>val_loss</td><td>█▄▃▂▁▁▁▁▄▇</td></tr></table><br/></div><div class=\"wandb-col\"><h3>Run summary:</h3><br/><table class=\"wandb\"><tr><td>epoch</td><td>9</td></tr><tr><td>train_accuracy</td><td>0.5845</td></tr><tr><td>train_loss</td><td>738.41841</td></tr><tr><td>val_MulticlassAUPRC</td><td>0.53805</td></tr><tr><td>val_MulticlassAUROC</td><td>0.73509</td></tr><tr><td>val_MulticlassAccuracy</td><td>0.53872</td></tr><tr><td>val_loss</td><td>203.95574</td></tr></table><br/></div></div>"
      ],
      "text/plain": [
       "<IPython.core.display.HTML object>"
      ]
     },
     "metadata": {},
     "output_type": "display_data"
    },
    {
     "data": {
      "text/html": [
       " View run <strong style=\"color:#cdcd00\">gene_1kb_256_0.001</strong> at: <a href='https://wandb.ai/bind-gps/BindGPS/runs/b1cpvr6l' target=\"_blank\">https://wandb.ai/bind-gps/BindGPS/runs/b1cpvr6l</a><br> View project at: <a href='https://wandb.ai/bind-gps/BindGPS' target=\"_blank\">https://wandb.ai/bind-gps/BindGPS</a><br>Synced 5 W&B file(s), 0 media file(s), 0 artifact file(s) and 0 other file(s)"
      ],
      "text/plain": [
       "<IPython.core.display.HTML object>"
      ]
     },
     "metadata": {},
     "output_type": "display_data"
    },
    {
     "data": {
      "text/html": [
       "Find logs at: <code>./wandb/run-20251002_140509-b1cpvr6l/logs</code>"
      ],
      "text/plain": [
       "<IPython.core.display.HTML object>"
      ]
     },
     "metadata": {},
     "output_type": "display_data"
    },
    {
     "name": "stderr",
     "output_type": "stream",
     "text": [
      "\u001b[34m\u001b[1mwandb\u001b[0m: Agent Starting Run: x95pr7yu with config:\n",
      "\u001b[34m\u001b[1mwandb\u001b[0m: \tbatch_size: 128\n",
      "\u001b[34m\u001b[1mwandb\u001b[0m: \tepochs: 10\n",
      "\u001b[34m\u001b[1mwandb\u001b[0m: \thidden_dims: [256, 128]\n",
      "\u001b[34m\u001b[1mwandb\u001b[0m: \tlr: 0.001\n",
      "\u001b[34m\u001b[1mwandb\u001b[0m: \tresolution: 1kb\n",
      "\u001b[34m\u001b[1mwandb\u001b[0m: \tsvd_dim: 256\n",
      "\u001b[34m\u001b[1mwandb\u001b[0m: \ttarget_metric: MulticlassAUPRC\n",
      "\u001b[34m\u001b[1mwandb\u001b[0m: \ttask: gene\n",
      "\u001b[34m\u001b[1mwandb\u001b[0m: \tweighted: False\n",
      "\u001b[34m\u001b[1mwandb\u001b[0m: \u001b[32m\u001b[41mERROR\u001b[0m Failed to detect the name of this notebook. You can set it manually with the WANDB_NOTEBOOK_NAME environment variable to enable code saving.\n"
     ]
    },
    {
     "data": {
      "text/html": [],
      "text/plain": [
       "<IPython.core.display.HTML object>"
      ]
     },
     "metadata": {},
     "output_type": "display_data"
    },
    {
     "data": {
      "text/html": [
       "Tracking run with wandb version 0.22.1"
      ],
      "text/plain": [
       "<IPython.core.display.HTML object>"
      ]
     },
     "metadata": {},
     "output_type": "display_data"
    },
    {
     "data": {
      "text/html": [
       "Run data is saved locally in <code>/oscar/data/larschan/shared_data/BindGPS/model/wandb/run-20251002_140555-x95pr7yu</code>"
      ],
      "text/plain": [
       "<IPython.core.display.HTML object>"
      ]
     },
     "metadata": {},
     "output_type": "display_data"
    },
    {
     "data": {
      "text/html": [
       "Syncing run <strong><a href='https://wandb.ai/bind-gps/BindGPS/runs/x95pr7yu' target=\"_blank\">light-sweep-36</a></strong> to <a href='https://wandb.ai/bind-gps/BindGPS' target=\"_blank\">Weights & Biases</a> (<a href='https://wandb.me/developer-guide' target=\"_blank\">docs</a>)<br>Sweep page: <a href='https://wandb.ai/bind-gps/BindGPS/sweeps/79ufxypb' target=\"_blank\">https://wandb.ai/bind-gps/BindGPS/sweeps/79ufxypb</a>"
      ],
      "text/plain": [
       "<IPython.core.display.HTML object>"
      ]
     },
     "metadata": {},
     "output_type": "display_data"
    },
    {
     "data": {
      "text/html": [
       " View project at <a href='https://wandb.ai/bind-gps/BindGPS' target=\"_blank\">https://wandb.ai/bind-gps/BindGPS</a>"
      ],
      "text/plain": [
       "<IPython.core.display.HTML object>"
      ]
     },
     "metadata": {},
     "output_type": "display_data"
    },
    {
     "data": {
      "text/html": [
       " View sweep at <a href='https://wandb.ai/bind-gps/BindGPS/sweeps/79ufxypb' target=\"_blank\">https://wandb.ai/bind-gps/BindGPS/sweeps/79ufxypb</a>"
      ],
      "text/plain": [
       "<IPython.core.display.HTML object>"
      ]
     },
     "metadata": {},
     "output_type": "display_data"
    },
    {
     "data": {
      "text/html": [
       " View run at <a href='https://wandb.ai/bind-gps/BindGPS/runs/x95pr7yu' target=\"_blank\">https://wandb.ai/bind-gps/BindGPS/runs/x95pr7yu</a>"
      ],
      "text/plain": [
       "<IPython.core.display.HTML object>"
      ]
     },
     "metadata": {},
     "output_type": "display_data"
    },
    {
     "name": "stderr",
     "output_type": "stream",
     "text": [
      "\u001b[34m\u001b[1mwandb\u001b[0m: \u001b[33mWARNING\u001b[0m Calling wandb.login() after wandb.init() has no effect.\n"
     ]
    },
    {
     "name": "stdout",
     "output_type": "stream",
     "text": [
      "[Epoch 0] Train Loss: 713.1761, Acc: 0.6203\n",
      "[Epoch 0] Val Loss: 170.5387, Val Metrics: {'MulticlassAUROC': 0.736321747303009, 'MulticlassAUPRC': 0.5323784947395325, 'MulticlassAccuracy': 0.6450663208961487}\n",
      "[Epoch 1] Train Loss: 682.9856, Acc: 0.6402\n",
      "[Epoch 1] Val Loss: 168.8338, Val Metrics: {'MulticlassAUROC': 0.745133101940155, 'MulticlassAUPRC': 0.5415267944335938, 'MulticlassAccuracy': 0.6481918692588806}\n",
      "[Epoch 2] Train Loss: 672.0914, Acc: 0.6463\n",
      "[Epoch 2] Val Loss: 167.5692, Val Metrics: {'MulticlassAUROC': 0.747703492641449, 'MulticlassAUPRC': 0.5465425252914429, 'MulticlassAccuracy': 0.6480464935302734}\n",
      "[Epoch 3] Train Loss: 663.9002, Acc: 0.6523\n",
      "[Epoch 3] Val Loss: 167.6016, Val Metrics: {'MulticlassAUROC': 0.7482767105102539, 'MulticlassAUPRC': 0.5475668907165527, 'MulticlassAccuracy': 0.6516445279121399}\n",
      "[Epoch 4] Train Loss: 657.9149, Acc: 0.6558\n",
      "[Epoch 4] Val Loss: 166.6107, Val Metrics: {'MulticlassAUROC': 0.7509084343910217, 'MulticlassAUPRC': 0.5519280433654785, 'MulticlassAccuracy': 0.6512447595596313}\n",
      "[Epoch 5] Train Loss: 651.1605, Acc: 0.6592\n",
      "[Epoch 5] Val Loss: 166.5559, Val Metrics: {'MulticlassAUROC': 0.7520816326141357, 'MulticlassAUPRC': 0.5526933670043945, 'MulticlassAccuracy': 0.6496456265449524}\n",
      "[Epoch 6] Train Loss: 644.5050, Acc: 0.6628\n",
      "[Epoch 6] Val Loss: 166.8814, Val Metrics: {'MulticlassAUROC': 0.7512919902801514, 'MulticlassAUPRC': 0.5537275671958923, 'MulticlassAccuracy': 0.6477557420730591}\n",
      "[Epoch 7] Train Loss: 639.4043, Acc: 0.6681\n",
      "[Epoch 7] Val Loss: 166.6178, Val Metrics: {'MulticlassAUROC': 0.7516441345214844, 'MulticlassAUPRC': 0.5534401535987854, 'MulticlassAccuracy': 0.6523351073265076}\n",
      "[Epoch 8] Train Loss: 633.2610, Acc: 0.6700\n",
      "[Epoch 8] Val Loss: 166.9041, Val Metrics: {'MulticlassAUROC': 0.7515869736671448, 'MulticlassAUPRC': 0.553753137588501, 'MulticlassAccuracy': 0.6513538360595703}\n",
      "[Epoch 9] Train Loss: 628.0850, Acc: 0.6732\n",
      "[Epoch 9] Val Loss: 167.6955, Val Metrics: {'MulticlassAUROC': 0.7496420741081238, 'MulticlassAUPRC': 0.5497484803199768, 'MulticlassAccuracy': 0.6460112929344177}\n"
     ]
    },
    {
     "data": {
      "text/html": [],
      "text/plain": [
       "<IPython.core.display.HTML object>"
      ]
     },
     "metadata": {},
     "output_type": "display_data"
    },
    {
     "data": {
      "text/html": [
       "<br>    <style><br>        .wandb-row {<br>            display: flex;<br>            flex-direction: row;<br>            flex-wrap: wrap;<br>            justify-content: flex-start;<br>            width: 100%;<br>        }<br>        .wandb-col {<br>            display: flex;<br>            flex-direction: column;<br>            flex-basis: 100%;<br>            flex: 1;<br>            padding: 10px;<br>        }<br>    </style><br><div class=\"wandb-row\"><div class=\"wandb-col\"><h3>Run history:</h3><br/><table class=\"wandb\"><tr><td>epoch</td><td>▁▂▃▃▄▅▆▆▇█</td></tr><tr><td>train_accuracy</td><td>▁▄▄▅▆▆▇▇██</td></tr><tr><td>train_loss</td><td>█▆▅▄▃▃▂▂▁▁</td></tr><tr><td>val_MulticlassAUPRC</td><td>▁▄▆▆▇████▇</td></tr><tr><td>val_MulticlassAUROC</td><td>▁▅▆▆▇████▇</td></tr><tr><td>val_MulticlassAccuracy</td><td>▁▄▄▇▇▅▄█▇▂</td></tr><tr><td>val_loss</td><td>█▅▃▃▁▁▂▁▂▃</td></tr></table><br/></div><div class=\"wandb-col\"><h3>Run summary:</h3><br/><table class=\"wandb\"><tr><td>epoch</td><td>9</td></tr><tr><td>train_accuracy</td><td>0.6732</td></tr><tr><td>train_loss</td><td>628.08498</td></tr><tr><td>val_MulticlassAUPRC</td><td>0.54975</td></tr><tr><td>val_MulticlassAUROC</td><td>0.74964</td></tr><tr><td>val_MulticlassAccuracy</td><td>0.64601</td></tr><tr><td>val_loss</td><td>167.69553</td></tr></table><br/></div></div>"
      ],
      "text/plain": [
       "<IPython.core.display.HTML object>"
      ]
     },
     "metadata": {},
     "output_type": "display_data"
    },
    {
     "data": {
      "text/html": [
       " View run <strong style=\"color:#cdcd00\">gene_1kb_256_0.001</strong> at: <a href='https://wandb.ai/bind-gps/BindGPS/runs/x95pr7yu' target=\"_blank\">https://wandb.ai/bind-gps/BindGPS/runs/x95pr7yu</a><br> View project at: <a href='https://wandb.ai/bind-gps/BindGPS' target=\"_blank\">https://wandb.ai/bind-gps/BindGPS</a><br>Synced 5 W&B file(s), 0 media file(s), 0 artifact file(s) and 0 other file(s)"
      ],
      "text/plain": [
       "<IPython.core.display.HTML object>"
      ]
     },
     "metadata": {},
     "output_type": "display_data"
    },
    {
     "data": {
      "text/html": [
       "Find logs at: <code>./wandb/run-20251002_140555-x95pr7yu/logs</code>"
      ],
      "text/plain": [
       "<IPython.core.display.HTML object>"
      ]
     },
     "metadata": {},
     "output_type": "display_data"
    },
    {
     "name": "stderr",
     "output_type": "stream",
     "text": [
      "\u001b[34m\u001b[1mwandb\u001b[0m: Agent Starting Run: 0b1iwaeo with config:\n",
      "\u001b[34m\u001b[1mwandb\u001b[0m: \tbatch_size: 128\n",
      "\u001b[34m\u001b[1mwandb\u001b[0m: \tepochs: 10\n",
      "\u001b[34m\u001b[1mwandb\u001b[0m: \thidden_dims: [256, 128]\n",
      "\u001b[34m\u001b[1mwandb\u001b[0m: \tlr: 0.001\n",
      "\u001b[34m\u001b[1mwandb\u001b[0m: \tresolution: 5kb\n",
      "\u001b[34m\u001b[1mwandb\u001b[0m: \tsvd_dim: 64\n",
      "\u001b[34m\u001b[1mwandb\u001b[0m: \ttarget_metric: MulticlassAUROC\n",
      "\u001b[34m\u001b[1mwandb\u001b[0m: \ttask: mre\n",
      "\u001b[34m\u001b[1mwandb\u001b[0m: \tweighted: True\n",
      "\u001b[34m\u001b[1mwandb\u001b[0m: \u001b[32m\u001b[41mERROR\u001b[0m Failed to detect the name of this notebook. You can set it manually with the WANDB_NOTEBOOK_NAME environment variable to enable code saving.\n"
     ]
    },
    {
     "data": {
      "text/html": [],
      "text/plain": [
       "<IPython.core.display.HTML object>"
      ]
     },
     "metadata": {},
     "output_type": "display_data"
    },
    {
     "data": {
      "text/html": [
       "Tracking run with wandb version 0.22.1"
      ],
      "text/plain": [
       "<IPython.core.display.HTML object>"
      ]
     },
     "metadata": {},
     "output_type": "display_data"
    },
    {
     "data": {
      "text/html": [
       "Run data is saved locally in <code>/oscar/data/larschan/shared_data/BindGPS/model/wandb/run-20251002_140640-0b1iwaeo</code>"
      ],
      "text/plain": [
       "<IPython.core.display.HTML object>"
      ]
     },
     "metadata": {},
     "output_type": "display_data"
    },
    {
     "data": {
      "text/html": [
       "Syncing run <strong><a href='https://wandb.ai/bind-gps/BindGPS/runs/0b1iwaeo' target=\"_blank\">olive-sweep-37</a></strong> to <a href='https://wandb.ai/bind-gps/BindGPS' target=\"_blank\">Weights & Biases</a> (<a href='https://wandb.me/developer-guide' target=\"_blank\">docs</a>)<br>Sweep page: <a href='https://wandb.ai/bind-gps/BindGPS/sweeps/79ufxypb' target=\"_blank\">https://wandb.ai/bind-gps/BindGPS/sweeps/79ufxypb</a>"
      ],
      "text/plain": [
       "<IPython.core.display.HTML object>"
      ]
     },
     "metadata": {},
     "output_type": "display_data"
    },
    {
     "data": {
      "text/html": [
       " View project at <a href='https://wandb.ai/bind-gps/BindGPS' target=\"_blank\">https://wandb.ai/bind-gps/BindGPS</a>"
      ],
      "text/plain": [
       "<IPython.core.display.HTML object>"
      ]
     },
     "metadata": {},
     "output_type": "display_data"
    },
    {
     "data": {
      "text/html": [
       " View sweep at <a href='https://wandb.ai/bind-gps/BindGPS/sweeps/79ufxypb' target=\"_blank\">https://wandb.ai/bind-gps/BindGPS/sweeps/79ufxypb</a>"
      ],
      "text/plain": [
       "<IPython.core.display.HTML object>"
      ]
     },
     "metadata": {},
     "output_type": "display_data"
    },
    {
     "data": {
      "text/html": [
       " View run at <a href='https://wandb.ai/bind-gps/BindGPS/runs/0b1iwaeo' target=\"_blank\">https://wandb.ai/bind-gps/BindGPS/runs/0b1iwaeo</a>"
      ],
      "text/plain": [
       "<IPython.core.display.HTML object>"
      ]
     },
     "metadata": {},
     "output_type": "display_data"
    },
    {
     "name": "stderr",
     "output_type": "stream",
     "text": [
      "\u001b[34m\u001b[1mwandb\u001b[0m: \u001b[33mWARNING\u001b[0m Calling wandb.login() after wandb.init() has no effect.\n"
     ]
    },
    {
     "name": "stdout",
     "output_type": "stream",
     "text": [
      "[Epoch 0] Train Loss: 163.5406, Acc: 0.4960\n",
      "[Epoch 0] Val Loss: 38.3554, Val Metrics: {'MulticlassAUROC': 0.7246794700622559, 'MulticlassAUPRC': 0.5638115406036377, 'MulticlassAccuracy': 0.5069040656089783}\n",
      "[Epoch 1] Train Loss: 153.7801, Acc: 0.5290\n",
      "[Epoch 1] Val Loss: 37.8491, Val Metrics: {'MulticlassAUROC': 0.7429793477058411, 'MulticlassAUPRC': 0.5882019996643066, 'MulticlassAccuracy': 0.5581395626068115}\n",
      "[Epoch 2] Train Loss: 150.9005, Acc: 0.5422\n",
      "[Epoch 2] Val Loss: 37.5964, Val Metrics: {'MulticlassAUROC': 0.7484154105186462, 'MulticlassAUPRC': 0.5941987633705139, 'MulticlassAccuracy': 0.5610465407371521}\n",
      "[Epoch 3] Train Loss: 148.4298, Acc: 0.5487\n",
      "[Epoch 3] Val Loss: 37.7059, Val Metrics: {'MulticlassAUROC': 0.7487316727638245, 'MulticlassAUPRC': 0.5940585732460022, 'MulticlassAccuracy': 0.5637717843055725}\n",
      "[Epoch 4] Train Loss: 147.8100, Acc: 0.5536\n",
      "[Epoch 4] Val Loss: 37.0603, Val Metrics: {'MulticlassAUROC': 0.7528216242790222, 'MulticlassAUPRC': 0.5957182049751282, 'MulticlassAccuracy': 0.5659520626068115}\n",
      "[Epoch 5] Train Loss: 146.1942, Acc: 0.5534\n",
      "[Epoch 5] Val Loss: 37.1443, Val Metrics: {'MulticlassAUROC': 0.7494170069694519, 'MulticlassAUPRC': 0.5964107513427734, 'MulticlassAccuracy': 0.5628633499145508}\n",
      "[Epoch 6] Train Loss: 146.7703, Acc: 0.5574\n",
      "[Epoch 6] Val Loss: 36.7601, Val Metrics: {'MulticlassAUROC': 0.7520901560783386, 'MulticlassAUPRC': 0.5986197590827942, 'MulticlassAccuracy': 0.5557776093482971}\n",
      "[Epoch 7] Train Loss: 145.2600, Acc: 0.5597\n",
      "[Epoch 7] Val Loss: 36.9335, Val Metrics: {'MulticlassAUROC': 0.7552083134651184, 'MulticlassAUPRC': 0.5972676873207092, 'MulticlassAccuracy': 0.5652253031730652}\n",
      "[Epoch 8] Train Loss: 144.2245, Acc: 0.5628\n",
      "[Epoch 8] Val Loss: 37.1902, Val Metrics: {'MulticlassAUROC': 0.7581677436828613, 'MulticlassAUPRC': 0.6036118865013123, 'MulticlassAccuracy': 0.5861191749572754}\n",
      "[Epoch 9] Train Loss: 143.7442, Acc: 0.5654\n",
      "[Epoch 9] Val Loss: 36.8149, Val Metrics: {'MulticlassAUROC': 0.7554025053977966, 'MulticlassAUPRC': 0.6029793620109558, 'MulticlassAccuracy': 0.5652253031730652}\n"
     ]
    },
    {
     "data": {
      "text/html": [],
      "text/plain": [
       "<IPython.core.display.HTML object>"
      ]
     },
     "metadata": {},
     "output_type": "display_data"
    },
    {
     "data": {
      "text/html": [
       "<br>    <style><br>        .wandb-row {<br>            display: flex;<br>            flex-direction: row;<br>            flex-wrap: wrap;<br>            justify-content: flex-start;<br>            width: 100%;<br>        }<br>        .wandb-col {<br>            display: flex;<br>            flex-direction: column;<br>            flex-basis: 100%;<br>            flex: 1;<br>            padding: 10px;<br>        }<br>    </style><br><div class=\"wandb-row\"><div class=\"wandb-col\"><h3>Run history:</h3><br/><table class=\"wandb\"><tr><td>epoch</td><td>▁▂▃▃▄▅▆▆▇█</td></tr><tr><td>train_accuracy</td><td>▁▄▆▆▇▇▇▇██</td></tr><tr><td>train_loss</td><td>█▅▄▃▂▂▂▂▁▁</td></tr><tr><td>val_MulticlassAUPRC</td><td>▁▅▆▆▇▇▇▇██</td></tr><tr><td>val_MulticlassAUROC</td><td>▁▅▆▆▇▆▇▇█▇</td></tr><tr><td>val_MulticlassAccuracy</td><td>▁▆▆▆▆▆▅▆█▆</td></tr><tr><td>val_loss</td><td>█▆▅▅▂▃▁▂▃▁</td></tr></table><br/></div><div class=\"wandb-col\"><h3>Run summary:</h3><br/><table class=\"wandb\"><tr><td>epoch</td><td>9</td></tr><tr><td>train_accuracy</td><td>0.56539</td></tr><tr><td>train_loss</td><td>143.74417</td></tr><tr><td>val_MulticlassAUPRC</td><td>0.60298</td></tr><tr><td>val_MulticlassAUROC</td><td>0.7554</td></tr><tr><td>val_MulticlassAccuracy</td><td>0.56523</td></tr><tr><td>val_loss</td><td>36.8149</td></tr></table><br/></div></div>"
      ],
      "text/plain": [
       "<IPython.core.display.HTML object>"
      ]
     },
     "metadata": {},
     "output_type": "display_data"
    },
    {
     "data": {
      "text/html": [
       " View run <strong style=\"color:#cdcd00\">mre_5kb_64_0.001</strong> at: <a href='https://wandb.ai/bind-gps/BindGPS/runs/0b1iwaeo' target=\"_blank\">https://wandb.ai/bind-gps/BindGPS/runs/0b1iwaeo</a><br> View project at: <a href='https://wandb.ai/bind-gps/BindGPS' target=\"_blank\">https://wandb.ai/bind-gps/BindGPS</a><br>Synced 5 W&B file(s), 0 media file(s), 0 artifact file(s) and 0 other file(s)"
      ],
      "text/plain": [
       "<IPython.core.display.HTML object>"
      ]
     },
     "metadata": {},
     "output_type": "display_data"
    },
    {
     "data": {
      "text/html": [
       "Find logs at: <code>./wandb/run-20251002_140640-0b1iwaeo/logs</code>"
      ],
      "text/plain": [
       "<IPython.core.display.HTML object>"
      ]
     },
     "metadata": {},
     "output_type": "display_data"
    },
    {
     "name": "stderr",
     "output_type": "stream",
     "text": [
      "\u001b[34m\u001b[1mwandb\u001b[0m: Agent Starting Run: co4233ti with config:\n",
      "\u001b[34m\u001b[1mwandb\u001b[0m: \tbatch_size: 128\n",
      "\u001b[34m\u001b[1mwandb\u001b[0m: \tepochs: 10\n",
      "\u001b[34m\u001b[1mwandb\u001b[0m: \thidden_dims: [256, 128]\n",
      "\u001b[34m\u001b[1mwandb\u001b[0m: \tlr: 0.001\n",
      "\u001b[34m\u001b[1mwandb\u001b[0m: \tresolution: 5kb\n",
      "\u001b[34m\u001b[1mwandb\u001b[0m: \tsvd_dim: 64\n",
      "\u001b[34m\u001b[1mwandb\u001b[0m: \ttarget_metric: MulticlassAUROC\n",
      "\u001b[34m\u001b[1mwandb\u001b[0m: \ttask: mre\n",
      "\u001b[34m\u001b[1mwandb\u001b[0m: \tweighted: False\n",
      "\u001b[34m\u001b[1mwandb\u001b[0m: \u001b[32m\u001b[41mERROR\u001b[0m Failed to detect the name of this notebook. You can set it manually with the WANDB_NOTEBOOK_NAME environment variable to enable code saving.\n"
     ]
    },
    {
     "data": {
      "text/html": [],
      "text/plain": [
       "<IPython.core.display.HTML object>"
      ]
     },
     "metadata": {},
     "output_type": "display_data"
    },
    {
     "data": {
      "text/html": [
       "Tracking run with wandb version 0.22.1"
      ],
      "text/plain": [
       "<IPython.core.display.HTML object>"
      ]
     },
     "metadata": {},
     "output_type": "display_data"
    },
    {
     "data": {
      "text/html": [
       "Run data is saved locally in <code>/oscar/data/larschan/shared_data/BindGPS/model/wandb/run-20251002_140651-co4233ti</code>"
      ],
      "text/plain": [
       "<IPython.core.display.HTML object>"
      ]
     },
     "metadata": {},
     "output_type": "display_data"
    },
    {
     "data": {
      "text/html": [
       "Syncing run <strong><a href='https://wandb.ai/bind-gps/BindGPS/runs/co4233ti' target=\"_blank\">treasured-sweep-38</a></strong> to <a href='https://wandb.ai/bind-gps/BindGPS' target=\"_blank\">Weights & Biases</a> (<a href='https://wandb.me/developer-guide' target=\"_blank\">docs</a>)<br>Sweep page: <a href='https://wandb.ai/bind-gps/BindGPS/sweeps/79ufxypb' target=\"_blank\">https://wandb.ai/bind-gps/BindGPS/sweeps/79ufxypb</a>"
      ],
      "text/plain": [
       "<IPython.core.display.HTML object>"
      ]
     },
     "metadata": {},
     "output_type": "display_data"
    },
    {
     "data": {
      "text/html": [
       " View project at <a href='https://wandb.ai/bind-gps/BindGPS' target=\"_blank\">https://wandb.ai/bind-gps/BindGPS</a>"
      ],
      "text/plain": [
       "<IPython.core.display.HTML object>"
      ]
     },
     "metadata": {},
     "output_type": "display_data"
    },
    {
     "data": {
      "text/html": [
       " View sweep at <a href='https://wandb.ai/bind-gps/BindGPS/sweeps/79ufxypb' target=\"_blank\">https://wandb.ai/bind-gps/BindGPS/sweeps/79ufxypb</a>"
      ],
      "text/plain": [
       "<IPython.core.display.HTML object>"
      ]
     },
     "metadata": {},
     "output_type": "display_data"
    },
    {
     "data": {
      "text/html": [
       " View run at <a href='https://wandb.ai/bind-gps/BindGPS/runs/co4233ti' target=\"_blank\">https://wandb.ai/bind-gps/BindGPS/runs/co4233ti</a>"
      ],
      "text/plain": [
       "<IPython.core.display.HTML object>"
      ]
     },
     "metadata": {},
     "output_type": "display_data"
    },
    {
     "name": "stderr",
     "output_type": "stream",
     "text": [
      "\u001b[34m\u001b[1mwandb\u001b[0m: \u001b[33mWARNING\u001b[0m Calling wandb.login() after wandb.init() has no effect.\n"
     ]
    },
    {
     "name": "stdout",
     "output_type": "stream",
     "text": [
      "[Epoch 0] Train Loss: 150.8911, Acc: 0.5499\n",
      "[Epoch 0] Val Loss: 35.5459, Val Metrics: {'MulticlassAUROC': 0.7433091998100281, 'MulticlassAUPRC': 0.5708435773849487, 'MulticlassAccuracy': 0.5910246968269348}\n",
      "[Epoch 1] Train Loss: 140.9857, Acc: 0.5790\n",
      "[Epoch 1] Val Loss: 35.3281, Val Metrics: {'MulticlassAUROC': 0.7517102360725403, 'MulticlassAUPRC': 0.5763334035873413, 'MulticlassAccuracy': 0.59375}\n",
      "[Epoch 2] Train Loss: 138.6360, Acc: 0.5963\n",
      "[Epoch 2] Val Loss: 34.6401, Val Metrics: {'MulticlassAUROC': 0.7583038210868835, 'MulticlassAUPRC': 0.590684711933136, 'MulticlassAccuracy': 0.6130087375640869}\n",
      "[Epoch 3] Train Loss: 136.7500, Acc: 0.6009\n",
      "[Epoch 3] Val Loss: 34.3630, Val Metrics: {'MulticlassAUROC': 0.7613318562507629, 'MulticlassAUPRC': 0.5937548875808716, 'MulticlassAccuracy': 0.6173691749572754}\n",
      "[Epoch 4] Train Loss: 136.1497, Acc: 0.6002\n",
      "[Epoch 4] Val Loss: 34.5726, Val Metrics: {'MulticlassAUROC': 0.7610968947410583, 'MulticlassAUPRC': 0.5954768657684326, 'MulticlassAccuracy': 0.6110101938247681}\n",
      "[Epoch 5] Train Loss: 135.2607, Acc: 0.6040\n",
      "[Epoch 5] Val Loss: 34.4697, Val Metrics: {'MulticlassAUROC': 0.7624457478523254, 'MulticlassAUPRC': 0.5968186855316162, 'MulticlassAccuracy': 0.6168241500854492}\n",
      "[Epoch 6] Train Loss: 134.2045, Acc: 0.6134\n",
      "[Epoch 6] Val Loss: 34.1067, Val Metrics: {'MulticlassAUROC': 0.763602077960968, 'MulticlassAUPRC': 0.6025071144104004, 'MulticlassAccuracy': 0.6168241500854492}\n",
      "[Epoch 7] Train Loss: 133.8675, Acc: 0.6100\n",
      "[Epoch 7] Val Loss: 34.3938, Val Metrics: {'MulticlassAUROC': 0.7647678256034851, 'MulticlassAUPRC': 0.6025794744491577, 'MulticlassAccuracy': 0.6148256063461304}\n",
      "[Epoch 8] Train Loss: 133.4890, Acc: 0.6144\n",
      "[Epoch 8] Val Loss: 34.5621, Val Metrics: {'MulticlassAUROC': 0.7622631192207336, 'MulticlassAUPRC': 0.5996143221855164, 'MulticlassAccuracy': 0.6079215407371521}\n",
      "[Epoch 9] Train Loss: 133.0087, Acc: 0.6133\n",
      "[Epoch 9] Val Loss: 34.0173, Val Metrics: {'MulticlassAUROC': 0.7665858268737793, 'MulticlassAUPRC': 0.6076565384864807, 'MulticlassAccuracy': 0.6224563717842102}\n"
     ]
    },
    {
     "data": {
      "text/html": [],
      "text/plain": [
       "<IPython.core.display.HTML object>"
      ]
     },
     "metadata": {},
     "output_type": "display_data"
    },
    {
     "data": {
      "text/html": [
       "<br>    <style><br>        .wandb-row {<br>            display: flex;<br>            flex-direction: row;<br>            flex-wrap: wrap;<br>            justify-content: flex-start;<br>            width: 100%;<br>        }<br>        .wandb-col {<br>            display: flex;<br>            flex-direction: column;<br>            flex-basis: 100%;<br>            flex: 1;<br>            padding: 10px;<br>        }<br>    </style><br><div class=\"wandb-row\"><div class=\"wandb-col\"><h3>Run history:</h3><br/><table class=\"wandb\"><tr><td>epoch</td><td>▁▂▃▃▄▅▆▆▇█</td></tr><tr><td>train_accuracy</td><td>▁▄▆▇▆▇████</td></tr><tr><td>train_loss</td><td>█▄▃▂▂▂▁▁▁▁</td></tr><tr><td>val_MulticlassAUPRC</td><td>▁▂▅▅▆▆▇▇▆█</td></tr><tr><td>val_MulticlassAUROC</td><td>▁▄▆▆▆▇▇▇▇█</td></tr><tr><td>val_MulticlassAccuracy</td><td>▁▂▆▇▅▇▇▆▅█</td></tr><tr><td>val_loss</td><td>█▇▄▃▄▃▁▃▃▁</td></tr></table><br/></div><div class=\"wandb-col\"><h3>Run summary:</h3><br/><table class=\"wandb\"><tr><td>epoch</td><td>9</td></tr><tr><td>train_accuracy</td><td>0.61327</td></tr><tr><td>train_loss</td><td>133.00867</td></tr><tr><td>val_MulticlassAUPRC</td><td>0.60766</td></tr><tr><td>val_MulticlassAUROC</td><td>0.76659</td></tr><tr><td>val_MulticlassAccuracy</td><td>0.62246</td></tr><tr><td>val_loss</td><td>34.01726</td></tr></table><br/></div></div>"
      ],
      "text/plain": [
       "<IPython.core.display.HTML object>"
      ]
     },
     "metadata": {},
     "output_type": "display_data"
    },
    {
     "data": {
      "text/html": [
       " View run <strong style=\"color:#cdcd00\">mre_5kb_64_0.001</strong> at: <a href='https://wandb.ai/bind-gps/BindGPS/runs/co4233ti' target=\"_blank\">https://wandb.ai/bind-gps/BindGPS/runs/co4233ti</a><br> View project at: <a href='https://wandb.ai/bind-gps/BindGPS' target=\"_blank\">https://wandb.ai/bind-gps/BindGPS</a><br>Synced 5 W&B file(s), 0 media file(s), 0 artifact file(s) and 0 other file(s)"
      ],
      "text/plain": [
       "<IPython.core.display.HTML object>"
      ]
     },
     "metadata": {},
     "output_type": "display_data"
    },
    {
     "data": {
      "text/html": [
       "Find logs at: <code>./wandb/run-20251002_140651-co4233ti/logs</code>"
      ],
      "text/plain": [
       "<IPython.core.display.HTML object>"
      ]
     },
     "metadata": {},
     "output_type": "display_data"
    },
    {
     "name": "stderr",
     "output_type": "stream",
     "text": [
      "\u001b[34m\u001b[1mwandb\u001b[0m: Agent Starting Run: pjw0tv7z with config:\n",
      "\u001b[34m\u001b[1mwandb\u001b[0m: \tbatch_size: 128\n",
      "\u001b[34m\u001b[1mwandb\u001b[0m: \tepochs: 10\n",
      "\u001b[34m\u001b[1mwandb\u001b[0m: \thidden_dims: [256, 128]\n",
      "\u001b[34m\u001b[1mwandb\u001b[0m: \tlr: 0.001\n",
      "\u001b[34m\u001b[1mwandb\u001b[0m: \tresolution: 5kb\n",
      "\u001b[34m\u001b[1mwandb\u001b[0m: \tsvd_dim: 64\n",
      "\u001b[34m\u001b[1mwandb\u001b[0m: \ttarget_metric: MulticlassAUROC\n",
      "\u001b[34m\u001b[1mwandb\u001b[0m: \ttask: gene\n",
      "\u001b[34m\u001b[1mwandb\u001b[0m: \tweighted: True\n",
      "\u001b[34m\u001b[1mwandb\u001b[0m: \u001b[32m\u001b[41mERROR\u001b[0m Failed to detect the name of this notebook. You can set it manually with the WANDB_NOTEBOOK_NAME environment variable to enable code saving.\n"
     ]
    },
    {
     "data": {
      "text/html": [],
      "text/plain": [
       "<IPython.core.display.HTML object>"
      ]
     },
     "metadata": {},
     "output_type": "display_data"
    },
    {
     "data": {
      "text/html": [
       "Tracking run with wandb version 0.22.1"
      ],
      "text/plain": [
       "<IPython.core.display.HTML object>"
      ]
     },
     "metadata": {},
     "output_type": "display_data"
    },
    {
     "data": {
      "text/html": [
       "Run data is saved locally in <code>/oscar/data/larschan/shared_data/BindGPS/model/wandb/run-20251002_140701-pjw0tv7z</code>"
      ],
      "text/plain": [
       "<IPython.core.display.HTML object>"
      ]
     },
     "metadata": {},
     "output_type": "display_data"
    },
    {
     "data": {
      "text/html": [
       "Syncing run <strong><a href='https://wandb.ai/bind-gps/BindGPS/runs/pjw0tv7z' target=\"_blank\">pretty-sweep-39</a></strong> to <a href='https://wandb.ai/bind-gps/BindGPS' target=\"_blank\">Weights & Biases</a> (<a href='https://wandb.me/developer-guide' target=\"_blank\">docs</a>)<br>Sweep page: <a href='https://wandb.ai/bind-gps/BindGPS/sweeps/79ufxypb' target=\"_blank\">https://wandb.ai/bind-gps/BindGPS/sweeps/79ufxypb</a>"
      ],
      "text/plain": [
       "<IPython.core.display.HTML object>"
      ]
     },
     "metadata": {},
     "output_type": "display_data"
    },
    {
     "data": {
      "text/html": [
       " View project at <a href='https://wandb.ai/bind-gps/BindGPS' target=\"_blank\">https://wandb.ai/bind-gps/BindGPS</a>"
      ],
      "text/plain": [
       "<IPython.core.display.HTML object>"
      ]
     },
     "metadata": {},
     "output_type": "display_data"
    },
    {
     "data": {
      "text/html": [
       " View sweep at <a href='https://wandb.ai/bind-gps/BindGPS/sweeps/79ufxypb' target=\"_blank\">https://wandb.ai/bind-gps/BindGPS/sweeps/79ufxypb</a>"
      ],
      "text/plain": [
       "<IPython.core.display.HTML object>"
      ]
     },
     "metadata": {},
     "output_type": "display_data"
    },
    {
     "data": {
      "text/html": [
       " View run at <a href='https://wandb.ai/bind-gps/BindGPS/runs/pjw0tv7z' target=\"_blank\">https://wandb.ai/bind-gps/BindGPS/runs/pjw0tv7z</a>"
      ],
      "text/plain": [
       "<IPython.core.display.HTML object>"
      ]
     },
     "metadata": {},
     "output_type": "display_data"
    },
    {
     "name": "stderr",
     "output_type": "stream",
     "text": [
      "\u001b[34m\u001b[1mwandb\u001b[0m: \u001b[33mWARNING\u001b[0m Calling wandb.login() after wandb.init() has no effect.\n"
     ]
    },
    {
     "name": "stdout",
     "output_type": "stream",
     "text": [
      "[Epoch 0] Train Loss: 154.3839, Acc: 0.5754\n",
      "[Epoch 0] Val Loss: 36.5898, Val Metrics: {'MulticlassAUROC': 0.7910682559013367, 'MulticlassAUPRC': 0.6194624900817871, 'MulticlassAccuracy': 0.6211845874786377}\n",
      "[Epoch 1] Train Loss: 143.7006, Acc: 0.6259\n",
      "[Epoch 1] Val Loss: 35.6576, Val Metrics: {'MulticlassAUROC': 0.798811674118042, 'MulticlassAUPRC': 0.6321297287940979, 'MulticlassAccuracy': 0.6211845874786377}\n",
      "[Epoch 2] Train Loss: 140.4186, Acc: 0.6369\n",
      "[Epoch 2] Val Loss: 35.1509, Val Metrics: {'MulticlassAUROC': 0.8032567501068115, 'MulticlassAUPRC': 0.63886958360672, 'MulticlassAccuracy': 0.6431686282157898}\n",
      "[Epoch 3] Train Loss: 138.5576, Acc: 0.6401\n",
      "[Epoch 3] Val Loss: 34.8939, Val Metrics: {'MulticlassAUROC': 0.8087649345397949, 'MulticlassAUPRC': 0.6426871418952942, 'MulticlassAccuracy': 0.6357194781303406}\n",
      "[Epoch 4] Train Loss: 137.8172, Acc: 0.6465\n",
      "[Epoch 4] Val Loss: 35.0170, Val Metrics: {'MulticlassAUROC': 0.8097609877586365, 'MulticlassAUPRC': 0.6422708034515381, 'MulticlassAccuracy': 0.6577034592628479}\n",
      "[Epoch 5] Train Loss: 136.6293, Acc: 0.6491\n",
      "[Epoch 5] Val Loss: 34.5506, Val Metrics: {'MulticlassAUROC': 0.8123834729194641, 'MulticlassAUPRC': 0.649003267288208, 'MulticlassAccuracy': 0.6468023061752319}\n",
      "[Epoch 6] Train Loss: 135.8728, Acc: 0.6450\n",
      "[Epoch 6] Val Loss: 34.5620, Val Metrics: {'MulticlassAUROC': 0.8164916634559631, 'MulticlassAUPRC': 0.6532238125801086, 'MulticlassAccuracy': 0.6538881063461304}\n",
      "[Epoch 7] Train Loss: 134.8995, Acc: 0.6480\n",
      "[Epoch 7] Val Loss: 34.3494, Val Metrics: {'MulticlassAUROC': 0.8165621757507324, 'MulticlassAUPRC': 0.6546964049339294, 'MulticlassAccuracy': 0.6580668687820435}\n",
      "[Epoch 8] Train Loss: 134.0077, Acc: 0.6524\n",
      "[Epoch 8] Val Loss: 34.6737, Val Metrics: {'MulticlassAUROC': 0.8107959628105164, 'MulticlassAUPRC': 0.6435604691505432, 'MulticlassAccuracy': 0.6488008499145508}\n",
      "[Epoch 9] Train Loss: 133.8790, Acc: 0.6582\n",
      "[Epoch 9] Val Loss: 34.2443, Val Metrics: {'MulticlassAUROC': 0.8157999515533447, 'MulticlassAUPRC': 0.6530560255050659, 'MulticlassAccuracy': 0.6493459343910217}\n"
     ]
    },
    {
     "data": {
      "text/html": [],
      "text/plain": [
       "<IPython.core.display.HTML object>"
      ]
     },
     "metadata": {},
     "output_type": "display_data"
    },
    {
     "data": {
      "text/html": [
       "<br>    <style><br>        .wandb-row {<br>            display: flex;<br>            flex-direction: row;<br>            flex-wrap: wrap;<br>            justify-content: flex-start;<br>            width: 100%;<br>        }<br>        .wandb-col {<br>            display: flex;<br>            flex-direction: column;<br>            flex-basis: 100%;<br>            flex: 1;<br>            padding: 10px;<br>        }<br>    </style><br><div class=\"wandb-row\"><div class=\"wandb-col\"><h3>Run history:</h3><br/><table class=\"wandb\"><tr><td>epoch</td><td>▁▂▃▃▄▅▆▆▇█</td></tr><tr><td>train_accuracy</td><td>▁▅▆▆▇▇▇▇██</td></tr><tr><td>train_loss</td><td>█▄▃▃▂▂▂▁▁▁</td></tr><tr><td>val_MulticlassAUPRC</td><td>▁▄▅▆▆▇██▆█</td></tr><tr><td>val_MulticlassAUROC</td><td>▁▃▄▆▆▇██▆█</td></tr><tr><td>val_MulticlassAccuracy</td><td>▁▁▅▄█▆▇█▆▆</td></tr><tr><td>val_loss</td><td>█▅▄▃▃▂▂▁▂▁</td></tr></table><br/></div><div class=\"wandb-col\"><h3>Run summary:</h3><br/><table class=\"wandb\"><tr><td>epoch</td><td>9</td></tr><tr><td>train_accuracy</td><td>0.65825</td></tr><tr><td>train_loss</td><td>133.87898</td></tr><tr><td>val_MulticlassAUPRC</td><td>0.65306</td></tr><tr><td>val_MulticlassAUROC</td><td>0.8158</td></tr><tr><td>val_MulticlassAccuracy</td><td>0.64935</td></tr><tr><td>val_loss</td><td>34.24431</td></tr></table><br/></div></div>"
      ],
      "text/plain": [
       "<IPython.core.display.HTML object>"
      ]
     },
     "metadata": {},
     "output_type": "display_data"
    },
    {
     "data": {
      "text/html": [
       " View run <strong style=\"color:#cdcd00\">gene_5kb_64_0.001</strong> at: <a href='https://wandb.ai/bind-gps/BindGPS/runs/pjw0tv7z' target=\"_blank\">https://wandb.ai/bind-gps/BindGPS/runs/pjw0tv7z</a><br> View project at: <a href='https://wandb.ai/bind-gps/BindGPS' target=\"_blank\">https://wandb.ai/bind-gps/BindGPS</a><br>Synced 5 W&B file(s), 0 media file(s), 0 artifact file(s) and 0 other file(s)"
      ],
      "text/plain": [
       "<IPython.core.display.HTML object>"
      ]
     },
     "metadata": {},
     "output_type": "display_data"
    },
    {
     "data": {
      "text/html": [
       "Find logs at: <code>./wandb/run-20251002_140701-pjw0tv7z/logs</code>"
      ],
      "text/plain": [
       "<IPython.core.display.HTML object>"
      ]
     },
     "metadata": {},
     "output_type": "display_data"
    },
    {
     "name": "stderr",
     "output_type": "stream",
     "text": [
      "\u001b[34m\u001b[1mwandb\u001b[0m: Agent Starting Run: t870of6n with config:\n",
      "\u001b[34m\u001b[1mwandb\u001b[0m: \tbatch_size: 128\n",
      "\u001b[34m\u001b[1mwandb\u001b[0m: \tepochs: 10\n",
      "\u001b[34m\u001b[1mwandb\u001b[0m: \thidden_dims: [256, 128]\n",
      "\u001b[34m\u001b[1mwandb\u001b[0m: \tlr: 0.001\n",
      "\u001b[34m\u001b[1mwandb\u001b[0m: \tresolution: 5kb\n",
      "\u001b[34m\u001b[1mwandb\u001b[0m: \tsvd_dim: 64\n",
      "\u001b[34m\u001b[1mwandb\u001b[0m: \ttarget_metric: MulticlassAUROC\n",
      "\u001b[34m\u001b[1mwandb\u001b[0m: \ttask: gene\n",
      "\u001b[34m\u001b[1mwandb\u001b[0m: \tweighted: False\n",
      "\u001b[34m\u001b[1mwandb\u001b[0m: \u001b[32m\u001b[41mERROR\u001b[0m Failed to detect the name of this notebook. You can set it manually with the WANDB_NOTEBOOK_NAME environment variable to enable code saving.\n"
     ]
    },
    {
     "data": {
      "text/html": [],
      "text/plain": [
       "<IPython.core.display.HTML object>"
      ]
     },
     "metadata": {},
     "output_type": "display_data"
    },
    {
     "data": {
      "text/html": [
       "Tracking run with wandb version 0.22.1"
      ],
      "text/plain": [
       "<IPython.core.display.HTML object>"
      ]
     },
     "metadata": {},
     "output_type": "display_data"
    },
    {
     "data": {
      "text/html": [
       "Run data is saved locally in <code>/oscar/data/larschan/shared_data/BindGPS/model/wandb/run-20251002_140711-t870of6n</code>"
      ],
      "text/plain": [
       "<IPython.core.display.HTML object>"
      ]
     },
     "metadata": {},
     "output_type": "display_data"
    },
    {
     "data": {
      "text/html": [
       "Syncing run <strong><a href='https://wandb.ai/bind-gps/BindGPS/runs/t870of6n' target=\"_blank\">bumbling-sweep-40</a></strong> to <a href='https://wandb.ai/bind-gps/BindGPS' target=\"_blank\">Weights & Biases</a> (<a href='https://wandb.me/developer-guide' target=\"_blank\">docs</a>)<br>Sweep page: <a href='https://wandb.ai/bind-gps/BindGPS/sweeps/79ufxypb' target=\"_blank\">https://wandb.ai/bind-gps/BindGPS/sweeps/79ufxypb</a>"
      ],
      "text/plain": [
       "<IPython.core.display.HTML object>"
      ]
     },
     "metadata": {},
     "output_type": "display_data"
    },
    {
     "data": {
      "text/html": [
       " View project at <a href='https://wandb.ai/bind-gps/BindGPS' target=\"_blank\">https://wandb.ai/bind-gps/BindGPS</a>"
      ],
      "text/plain": [
       "<IPython.core.display.HTML object>"
      ]
     },
     "metadata": {},
     "output_type": "display_data"
    },
    {
     "data": {
      "text/html": [
       " View sweep at <a href='https://wandb.ai/bind-gps/BindGPS/sweeps/79ufxypb' target=\"_blank\">https://wandb.ai/bind-gps/BindGPS/sweeps/79ufxypb</a>"
      ],
      "text/plain": [
       "<IPython.core.display.HTML object>"
      ]
     },
     "metadata": {},
     "output_type": "display_data"
    },
    {
     "data": {
      "text/html": [
       " View run at <a href='https://wandb.ai/bind-gps/BindGPS/runs/t870of6n' target=\"_blank\">https://wandb.ai/bind-gps/BindGPS/runs/t870of6n</a>"
      ],
      "text/plain": [
       "<IPython.core.display.HTML object>"
      ]
     },
     "metadata": {},
     "output_type": "display_data"
    },
    {
     "name": "stderr",
     "output_type": "stream",
     "text": [
      "\u001b[34m\u001b[1mwandb\u001b[0m: \u001b[33mWARNING\u001b[0m Calling wandb.login() after wandb.init() has no effect.\n"
     ]
    },
    {
     "name": "stdout",
     "output_type": "stream",
     "text": [
      "[Epoch 0] Train Loss: 137.0854, Acc: 0.6405\n",
      "[Epoch 0] Val Loss: 32.0558, Val Metrics: {'MulticlassAUROC': 0.804527223110199, 'MulticlassAUPRC': 0.6473420262336731, 'MulticlassAccuracy': 0.674963653087616}\n",
      "[Epoch 1] Train Loss: 126.7887, Acc: 0.6773\n",
      "[Epoch 1] Val Loss: 31.3682, Val Metrics: {'MulticlassAUROC': 0.8114379048347473, 'MulticlassAUPRC': 0.6527066230773926, 'MulticlassAccuracy': 0.6809592843055725}\n",
      "[Epoch 2] Train Loss: 124.3874, Acc: 0.6848\n",
      "[Epoch 2] Val Loss: 30.9493, Val Metrics: {'MulticlassAUROC': 0.8169936537742615, 'MulticlassAUPRC': 0.662220299243927, 'MulticlassAccuracy': 0.6853197813034058}\n",
      "[Epoch 3] Train Loss: 123.2588, Acc: 0.6901\n",
      "[Epoch 3] Val Loss: 30.6439, Val Metrics: {'MulticlassAUROC': 0.819736659526825, 'MulticlassAUPRC': 0.6664931178092957, 'MulticlassAccuracy': 0.6900436282157898}\n",
      "[Epoch 4] Train Loss: 121.6573, Acc: 0.6928\n",
      "[Epoch 4] Val Loss: 30.5646, Val Metrics: {'MulticlassAUROC': 0.8211204409599304, 'MulticlassAUPRC': 0.6694976687431335, 'MulticlassAccuracy': 0.6938590407371521}\n",
      "[Epoch 5] Train Loss: 120.9400, Acc: 0.6956\n",
      "[Epoch 5] Val Loss: 30.3764, Val Metrics: {'MulticlassAUROC': 0.8239593505859375, 'MulticlassAUPRC': 0.6719629168510437, 'MulticlassAccuracy': 0.6951308250427246}\n",
      "[Epoch 6] Train Loss: 119.8068, Acc: 0.6980\n",
      "[Epoch 6] Val Loss: 30.3823, Val Metrics: {'MulticlassAUROC': 0.8239727020263672, 'MulticlassAUPRC': 0.6687073111534119, 'MulticlassAccuracy': 0.692223846912384}\n",
      "[Epoch 7] Train Loss: 119.0124, Acc: 0.7000\n",
      "[Epoch 7] Val Loss: 30.4595, Val Metrics: {'MulticlassAUROC': 0.8224249482154846, 'MulticlassAUPRC': 0.665851891040802, 'MulticlassAccuracy': 0.6949491500854492}\n",
      "[Epoch 8] Train Loss: 119.5850, Acc: 0.6978\n",
      "[Epoch 8] Val Loss: 30.3007, Val Metrics: {'MulticlassAUROC': 0.8232242465019226, 'MulticlassAUPRC': 0.669468104839325, 'MulticlassAccuracy': 0.6914970874786377}\n",
      "[Epoch 9] Train Loss: 118.3513, Acc: 0.7016\n",
      "[Epoch 9] Val Loss: 30.2060, Val Metrics: {'MulticlassAUROC': 0.825228750705719, 'MulticlassAUPRC': 0.6726168990135193, 'MulticlassAccuracy': 0.6969476938247681}\n"
     ]
    },
    {
     "data": {
      "text/html": [],
      "text/plain": [
       "<IPython.core.display.HTML object>"
      ]
     },
     "metadata": {},
     "output_type": "display_data"
    },
    {
     "data": {
      "text/html": [
       "<br>    <style><br>        .wandb-row {<br>            display: flex;<br>            flex-direction: row;<br>            flex-wrap: wrap;<br>            justify-content: flex-start;<br>            width: 100%;<br>        }<br>        .wandb-col {<br>            display: flex;<br>            flex-direction: column;<br>            flex-basis: 100%;<br>            flex: 1;<br>            padding: 10px;<br>        }<br>    </style><br><div class=\"wandb-row\"><div class=\"wandb-col\"><h3>Run history:</h3><br/><table class=\"wandb\"><tr><td>epoch</td><td>▁▂▃▃▄▅▆▆▇█</td></tr><tr><td>train_accuracy</td><td>▁▅▆▇▇▇████</td></tr><tr><td>train_loss</td><td>█▄▃▃▂▂▂▁▁▁</td></tr><tr><td>val_MulticlassAUPRC</td><td>▁▂▅▆▇█▇▆▇█</td></tr><tr><td>val_MulticlassAUROC</td><td>▁▃▅▆▇██▇▇█</td></tr><tr><td>val_MulticlassAccuracy</td><td>▁▃▄▆▇▇▆▇▆█</td></tr><tr><td>val_loss</td><td>█▅▄▃▂▂▂▂▁▁</td></tr></table><br/></div><div class=\"wandb-col\"><h3>Run summary:</h3><br/><table class=\"wandb\"><tr><td>epoch</td><td>9</td></tr><tr><td>train_accuracy</td><td>0.70163</td></tr><tr><td>train_loss</td><td>118.35129</td></tr><tr><td>val_MulticlassAUPRC</td><td>0.67262</td></tr><tr><td>val_MulticlassAUROC</td><td>0.82523</td></tr><tr><td>val_MulticlassAccuracy</td><td>0.69695</td></tr><tr><td>val_loss</td><td>30.20601</td></tr></table><br/></div></div>"
      ],
      "text/plain": [
       "<IPython.core.display.HTML object>"
      ]
     },
     "metadata": {},
     "output_type": "display_data"
    },
    {
     "data": {
      "text/html": [
       " View run <strong style=\"color:#cdcd00\">gene_5kb_64_0.001</strong> at: <a href='https://wandb.ai/bind-gps/BindGPS/runs/t870of6n' target=\"_blank\">https://wandb.ai/bind-gps/BindGPS/runs/t870of6n</a><br> View project at: <a href='https://wandb.ai/bind-gps/BindGPS' target=\"_blank\">https://wandb.ai/bind-gps/BindGPS</a><br>Synced 5 W&B file(s), 0 media file(s), 0 artifact file(s) and 0 other file(s)"
      ],
      "text/plain": [
       "<IPython.core.display.HTML object>"
      ]
     },
     "metadata": {},
     "output_type": "display_data"
    },
    {
     "data": {
      "text/html": [
       "Find logs at: <code>./wandb/run-20251002_140711-t870of6n/logs</code>"
      ],
      "text/plain": [
       "<IPython.core.display.HTML object>"
      ]
     },
     "metadata": {},
     "output_type": "display_data"
    },
    {
     "name": "stderr",
     "output_type": "stream",
     "text": [
      "\u001b[34m\u001b[1mwandb\u001b[0m: Agent Starting Run: qs07ysvf with config:\n",
      "\u001b[34m\u001b[1mwandb\u001b[0m: \tbatch_size: 128\n",
      "\u001b[34m\u001b[1mwandb\u001b[0m: \tepochs: 10\n",
      "\u001b[34m\u001b[1mwandb\u001b[0m: \thidden_dims: [256, 128]\n",
      "\u001b[34m\u001b[1mwandb\u001b[0m: \tlr: 0.001\n",
      "\u001b[34m\u001b[1mwandb\u001b[0m: \tresolution: 5kb\n",
      "\u001b[34m\u001b[1mwandb\u001b[0m: \tsvd_dim: 64\n",
      "\u001b[34m\u001b[1mwandb\u001b[0m: \ttarget_metric: MulticlassAccuracy\n",
      "\u001b[34m\u001b[1mwandb\u001b[0m: \ttask: mre\n",
      "\u001b[34m\u001b[1mwandb\u001b[0m: \tweighted: True\n",
      "\u001b[34m\u001b[1mwandb\u001b[0m: \u001b[32m\u001b[41mERROR\u001b[0m Failed to detect the name of this notebook. You can set it manually with the WANDB_NOTEBOOK_NAME environment variable to enable code saving.\n"
     ]
    },
    {
     "data": {
      "text/html": [],
      "text/plain": [
       "<IPython.core.display.HTML object>"
      ]
     },
     "metadata": {},
     "output_type": "display_data"
    },
    {
     "data": {
      "text/html": [
       "Tracking run with wandb version 0.22.1"
      ],
      "text/plain": [
       "<IPython.core.display.HTML object>"
      ]
     },
     "metadata": {},
     "output_type": "display_data"
    },
    {
     "data": {
      "text/html": [
       "Run data is saved locally in <code>/oscar/data/larschan/shared_data/BindGPS/model/wandb/run-20251002_140722-qs07ysvf</code>"
      ],
      "text/plain": [
       "<IPython.core.display.HTML object>"
      ]
     },
     "metadata": {},
     "output_type": "display_data"
    },
    {
     "data": {
      "text/html": [
       "Syncing run <strong><a href='https://wandb.ai/bind-gps/BindGPS/runs/qs07ysvf' target=\"_blank\">faithful-sweep-41</a></strong> to <a href='https://wandb.ai/bind-gps/BindGPS' target=\"_blank\">Weights & Biases</a> (<a href='https://wandb.me/developer-guide' target=\"_blank\">docs</a>)<br>Sweep page: <a href='https://wandb.ai/bind-gps/BindGPS/sweeps/79ufxypb' target=\"_blank\">https://wandb.ai/bind-gps/BindGPS/sweeps/79ufxypb</a>"
      ],
      "text/plain": [
       "<IPython.core.display.HTML object>"
      ]
     },
     "metadata": {},
     "output_type": "display_data"
    },
    {
     "data": {
      "text/html": [
       " View project at <a href='https://wandb.ai/bind-gps/BindGPS' target=\"_blank\">https://wandb.ai/bind-gps/BindGPS</a>"
      ],
      "text/plain": [
       "<IPython.core.display.HTML object>"
      ]
     },
     "metadata": {},
     "output_type": "display_data"
    },
    {
     "data": {
      "text/html": [
       " View sweep at <a href='https://wandb.ai/bind-gps/BindGPS/sweeps/79ufxypb' target=\"_blank\">https://wandb.ai/bind-gps/BindGPS/sweeps/79ufxypb</a>"
      ],
      "text/plain": [
       "<IPython.core.display.HTML object>"
      ]
     },
     "metadata": {},
     "output_type": "display_data"
    },
    {
     "data": {
      "text/html": [
       " View run at <a href='https://wandb.ai/bind-gps/BindGPS/runs/qs07ysvf' target=\"_blank\">https://wandb.ai/bind-gps/BindGPS/runs/qs07ysvf</a>"
      ],
      "text/plain": [
       "<IPython.core.display.HTML object>"
      ]
     },
     "metadata": {},
     "output_type": "display_data"
    },
    {
     "name": "stderr",
     "output_type": "stream",
     "text": [
      "\u001b[34m\u001b[1mwandb\u001b[0m: \u001b[33mWARNING\u001b[0m Calling wandb.login() after wandb.init() has no effect.\n"
     ]
    },
    {
     "name": "stdout",
     "output_type": "stream",
     "text": [
      "[Epoch 0] Train Loss: 164.0360, Acc: 0.4841\n",
      "[Epoch 0] Val Loss: 38.9565, Val Metrics: {'MulticlassAUROC': 0.7226901054382324, 'MulticlassAUPRC': 0.5552350878715515, 'MulticlassAccuracy': 0.5357921719551086}\n",
      "[Epoch 1] Train Loss: 153.9915, Acc: 0.5265\n",
      "[Epoch 1] Val Loss: 37.8514, Val Metrics: {'MulticlassAUROC': 0.7381032109260559, 'MulticlassAUPRC': 0.5718419551849365, 'MulticlassAccuracy': 0.5352470874786377}\n",
      "[Epoch 2] Train Loss: 151.4907, Acc: 0.5360\n",
      "[Epoch 2] Val Loss: 37.8975, Val Metrics: {'MulticlassAUROC': 0.7471310496330261, 'MulticlassAUPRC': 0.5823819041252136, 'MulticlassAccuracy': 0.5623183250427246}\n",
      "[Epoch 3] Train Loss: 149.1039, Acc: 0.5478\n",
      "[Epoch 3] Val Loss: 37.5542, Val Metrics: {'MulticlassAUROC': 0.7475462555885315, 'MulticlassAUPRC': 0.5872788429260254, 'MulticlassAccuracy': 0.5590479373931885}\n",
      "[Epoch 4] Train Loss: 147.5580, Acc: 0.5529\n",
      "[Epoch 4] Val Loss: 37.8057, Val Metrics: {'MulticlassAUROC': 0.749462366104126, 'MulticlassAUPRC': 0.5887289047241211, 'MulticlassAccuracy': 0.5601381063461304}\n",
      "[Epoch 5] Train Loss: 146.1065, Acc: 0.5553\n",
      "[Epoch 5] Val Loss: 37.7639, Val Metrics: {'MulticlassAUROC': 0.7523370385169983, 'MulticlassAUPRC': 0.5874637365341187, 'MulticlassAccuracy': 0.5606831312179565}\n",
      "[Epoch 6] Train Loss: 145.7562, Acc: 0.5551\n",
      "[Epoch 6] Val Loss: 37.7996, Val Metrics: {'MulticlassAUROC': 0.754305899143219, 'MulticlassAUPRC': 0.593451201915741, 'MulticlassAccuracy': 0.5661337375640869}\n",
      "[Epoch 7] Train Loss: 144.8604, Acc: 0.5581\n",
      "[Epoch 7] Val Loss: 38.1194, Val Metrics: {'MulticlassAUROC': 0.7560138702392578, 'MulticlassAUPRC': 0.5922803282737732, 'MulticlassAccuracy': 0.5679506063461304}\n",
      "[Epoch 8] Train Loss: 144.6091, Acc: 0.5577\n",
      "[Epoch 8] Val Loss: 37.8958, Val Metrics: {'MulticlassAUROC': 0.7535734176635742, 'MulticlassAUPRC': 0.5922686457633972, 'MulticlassAccuracy': 0.5583212375640869}\n",
      "[Epoch 9] Train Loss: 143.4859, Acc: 0.5678\n",
      "[Epoch 9] Val Loss: 38.0282, Val Metrics: {'MulticlassAUROC': 0.7548177242279053, 'MulticlassAUPRC': 0.5916692614555359, 'MulticlassAccuracy': 0.5683139562606812}\n"
     ]
    },
    {
     "data": {
      "text/html": [],
      "text/plain": [
       "<IPython.core.display.HTML object>"
      ]
     },
     "metadata": {},
     "output_type": "display_data"
    },
    {
     "data": {
      "text/html": [
       "<br>    <style><br>        .wandb-row {<br>            display: flex;<br>            flex-direction: row;<br>            flex-wrap: wrap;<br>            justify-content: flex-start;<br>            width: 100%;<br>        }<br>        .wandb-col {<br>            display: flex;<br>            flex-direction: column;<br>            flex-basis: 100%;<br>            flex: 1;<br>            padding: 10px;<br>        }<br>    </style><br><div class=\"wandb-row\"><div class=\"wandb-col\"><h3>Run history:</h3><br/><table class=\"wandb\"><tr><td>epoch</td><td>▁▂▃▃▄▅▆▆▇█</td></tr><tr><td>train_accuracy</td><td>▁▅▅▆▇▇▇▇▇█</td></tr><tr><td>train_loss</td><td>█▅▄▃▂▂▂▁▁▁</td></tr><tr><td>val_MulticlassAUPRC</td><td>▁▄▆▇▇▇████</td></tr><tr><td>val_MulticlassAUROC</td><td>▁▄▆▆▇▇██▇█</td></tr><tr><td>val_MulticlassAccuracy</td><td>▁▁▇▆▆▆██▆█</td></tr><tr><td>val_loss</td><td>█▂▃▁▂▂▂▄▃▃</td></tr></table><br/></div><div class=\"wandb-col\"><h3>Run summary:</h3><br/><table class=\"wandb\"><tr><td>epoch</td><td>9</td></tr><tr><td>train_accuracy</td><td>0.5678</td></tr><tr><td>train_loss</td><td>143.48591</td></tr><tr><td>val_MulticlassAUPRC</td><td>0.59167</td></tr><tr><td>val_MulticlassAUROC</td><td>0.75482</td></tr><tr><td>val_MulticlassAccuracy</td><td>0.56831</td></tr><tr><td>val_loss</td><td>38.02816</td></tr></table><br/></div></div>"
      ],
      "text/plain": [
       "<IPython.core.display.HTML object>"
      ]
     },
     "metadata": {},
     "output_type": "display_data"
    },
    {
     "data": {
      "text/html": [
       " View run <strong style=\"color:#cdcd00\">mre_5kb_64_0.001</strong> at: <a href='https://wandb.ai/bind-gps/BindGPS/runs/qs07ysvf' target=\"_blank\">https://wandb.ai/bind-gps/BindGPS/runs/qs07ysvf</a><br> View project at: <a href='https://wandb.ai/bind-gps/BindGPS' target=\"_blank\">https://wandb.ai/bind-gps/BindGPS</a><br>Synced 5 W&B file(s), 0 media file(s), 0 artifact file(s) and 0 other file(s)"
      ],
      "text/plain": [
       "<IPython.core.display.HTML object>"
      ]
     },
     "metadata": {},
     "output_type": "display_data"
    },
    {
     "data": {
      "text/html": [
       "Find logs at: <code>./wandb/run-20251002_140722-qs07ysvf/logs</code>"
      ],
      "text/plain": [
       "<IPython.core.display.HTML object>"
      ]
     },
     "metadata": {},
     "output_type": "display_data"
    },
    {
     "name": "stderr",
     "output_type": "stream",
     "text": [
      "\u001b[34m\u001b[1mwandb\u001b[0m: Agent Starting Run: zllqgg3p with config:\n",
      "\u001b[34m\u001b[1mwandb\u001b[0m: \tbatch_size: 128\n",
      "\u001b[34m\u001b[1mwandb\u001b[0m: \tepochs: 10\n",
      "\u001b[34m\u001b[1mwandb\u001b[0m: \thidden_dims: [256, 128]\n",
      "\u001b[34m\u001b[1mwandb\u001b[0m: \tlr: 0.001\n",
      "\u001b[34m\u001b[1mwandb\u001b[0m: \tresolution: 5kb\n",
      "\u001b[34m\u001b[1mwandb\u001b[0m: \tsvd_dim: 64\n",
      "\u001b[34m\u001b[1mwandb\u001b[0m: \ttarget_metric: MulticlassAccuracy\n",
      "\u001b[34m\u001b[1mwandb\u001b[0m: \ttask: mre\n",
      "\u001b[34m\u001b[1mwandb\u001b[0m: \tweighted: False\n",
      "\u001b[34m\u001b[1mwandb\u001b[0m: \u001b[32m\u001b[41mERROR\u001b[0m Failed to detect the name of this notebook. You can set it manually with the WANDB_NOTEBOOK_NAME environment variable to enable code saving.\n"
     ]
    },
    {
     "data": {
      "text/html": [],
      "text/plain": [
       "<IPython.core.display.HTML object>"
      ]
     },
     "metadata": {},
     "output_type": "display_data"
    },
    {
     "data": {
      "text/html": [
       "Tracking run with wandb version 0.22.1"
      ],
      "text/plain": [
       "<IPython.core.display.HTML object>"
      ]
     },
     "metadata": {},
     "output_type": "display_data"
    },
    {
     "data": {
      "text/html": [
       "Run data is saved locally in <code>/oscar/data/larschan/shared_data/BindGPS/model/wandb/run-20251002_140732-zllqgg3p</code>"
      ],
      "text/plain": [
       "<IPython.core.display.HTML object>"
      ]
     },
     "metadata": {},
     "output_type": "display_data"
    },
    {
     "data": {
      "text/html": [
       "Syncing run <strong><a href='https://wandb.ai/bind-gps/BindGPS/runs/zllqgg3p' target=\"_blank\">dazzling-sweep-42</a></strong> to <a href='https://wandb.ai/bind-gps/BindGPS' target=\"_blank\">Weights & Biases</a> (<a href='https://wandb.me/developer-guide' target=\"_blank\">docs</a>)<br>Sweep page: <a href='https://wandb.ai/bind-gps/BindGPS/sweeps/79ufxypb' target=\"_blank\">https://wandb.ai/bind-gps/BindGPS/sweeps/79ufxypb</a>"
      ],
      "text/plain": [
       "<IPython.core.display.HTML object>"
      ]
     },
     "metadata": {},
     "output_type": "display_data"
    },
    {
     "data": {
      "text/html": [
       " View project at <a href='https://wandb.ai/bind-gps/BindGPS' target=\"_blank\">https://wandb.ai/bind-gps/BindGPS</a>"
      ],
      "text/plain": [
       "<IPython.core.display.HTML object>"
      ]
     },
     "metadata": {},
     "output_type": "display_data"
    },
    {
     "data": {
      "text/html": [
       " View sweep at <a href='https://wandb.ai/bind-gps/BindGPS/sweeps/79ufxypb' target=\"_blank\">https://wandb.ai/bind-gps/BindGPS/sweeps/79ufxypb</a>"
      ],
      "text/plain": [
       "<IPython.core.display.HTML object>"
      ]
     },
     "metadata": {},
     "output_type": "display_data"
    },
    {
     "data": {
      "text/html": [
       " View run at <a href='https://wandb.ai/bind-gps/BindGPS/runs/zllqgg3p' target=\"_blank\">https://wandb.ai/bind-gps/BindGPS/runs/zllqgg3p</a>"
      ],
      "text/plain": [
       "<IPython.core.display.HTML object>"
      ]
     },
     "metadata": {},
     "output_type": "display_data"
    },
    {
     "name": "stderr",
     "output_type": "stream",
     "text": [
      "\u001b[34m\u001b[1mwandb\u001b[0m: \u001b[33mWARNING\u001b[0m Calling wandb.login() after wandb.init() has no effect.\n"
     ]
    },
    {
     "name": "stdout",
     "output_type": "stream",
     "text": [
      "[Epoch 0] Train Loss: 150.5692, Acc: 0.5434\n",
      "[Epoch 0] Val Loss: 35.0987, Val Metrics: {'MulticlassAUROC': 0.7460017800331116, 'MulticlassAUPRC': 0.5775017142295837, 'MulticlassAccuracy': 0.5881177186965942}\n",
      "[Epoch 1] Train Loss: 141.0324, Acc: 0.5882\n",
      "[Epoch 1] Val Loss: 34.5616, Val Metrics: {'MulticlassAUROC': 0.7521445751190186, 'MulticlassAUPRC': 0.5919281840324402, 'MulticlassAccuracy': 0.59375}\n",
      "[Epoch 2] Train Loss: 138.8104, Acc: 0.5956\n",
      "[Epoch 2] Val Loss: 34.2086, Val Metrics: {'MulticlassAUROC': 0.7574567794799805, 'MulticlassAUPRC': 0.5993523597717285, 'MulticlassAccuracy': 0.6026526093482971}\n",
      "[Epoch 3] Train Loss: 136.9742, Acc: 0.5980\n",
      "[Epoch 3] Val Loss: 34.1301, Val Metrics: {'MulticlassAUROC': 0.7579260468482971, 'MulticlassAUPRC': 0.5990250706672668, 'MulticlassAccuracy': 0.6053779125213623}\n",
      "[Epoch 4] Train Loss: 135.9538, Acc: 0.6061\n",
      "[Epoch 4] Val Loss: 34.1357, Val Metrics: {'MulticlassAUROC': 0.7590141892433167, 'MulticlassAUPRC': 0.6052239537239075, 'MulticlassAccuracy': 0.6041061282157898}\n",
      "[Epoch 5] Train Loss: 135.3073, Acc: 0.6098\n",
      "[Epoch 5] Val Loss: 33.9349, Val Metrics: {'MulticlassAUROC': 0.7623786330223083, 'MulticlassAUPRC': 0.607983410358429, 'MulticlassAccuracy': 0.6079215407371521}\n",
      "[Epoch 6] Train Loss: 134.2052, Acc: 0.6093\n",
      "[Epoch 6] Val Loss: 33.9863, Val Metrics: {'MulticlassAUROC': 0.759787380695343, 'MulticlassAUPRC': 0.6045063138008118, 'MulticlassAccuracy': 0.6030159592628479}\n",
      "[Epoch 7] Train Loss: 134.0652, Acc: 0.6152\n",
      "[Epoch 7] Val Loss: 33.7989, Val Metrics: {'MulticlassAUROC': 0.7619500756263733, 'MulticlassAUPRC': 0.6054287552833557, 'MulticlassAccuracy': 0.606286346912384}\n",
      "[Epoch 8] Train Loss: 132.9358, Acc: 0.6167\n",
      "[Epoch 8] Val Loss: 33.8597, Val Metrics: {'MulticlassAUROC': 0.7599577307701111, 'MulticlassAUPRC': 0.6046860814094543, 'MulticlassAccuracy': 0.601017415523529}\n",
      "[Epoch 9] Train Loss: 133.1060, Acc: 0.6185\n",
      "[Epoch 9] Val Loss: 33.7912, Val Metrics: {'MulticlassAUROC': 0.7613520622253418, 'MulticlassAUPRC': 0.6056361794471741, 'MulticlassAccuracy': 0.6013808250427246}\n"
     ]
    },
    {
     "data": {
      "text/html": [],
      "text/plain": [
       "<IPython.core.display.HTML object>"
      ]
     },
     "metadata": {},
     "output_type": "display_data"
    },
    {
     "data": {
      "text/html": [
       "<br>    <style><br>        .wandb-row {<br>            display: flex;<br>            flex-direction: row;<br>            flex-wrap: wrap;<br>            justify-content: flex-start;<br>            width: 100%;<br>        }<br>        .wandb-col {<br>            display: flex;<br>            flex-direction: column;<br>            flex-basis: 100%;<br>            flex: 1;<br>            padding: 10px;<br>        }<br>    </style><br><div class=\"wandb-row\"><div class=\"wandb-col\"><h3>Run history:</h3><br/><table class=\"wandb\"><tr><td>epoch</td><td>▁▂▃▃▄▅▆▆▇█</td></tr><tr><td>train_accuracy</td><td>▁▅▆▆▇▇▇███</td></tr><tr><td>train_loss</td><td>█▄▃▃▂▂▂▁▁▁</td></tr><tr><td>val_MulticlassAUPRC</td><td>▁▄▆▆▇█▇▇▇▇</td></tr><tr><td>val_MulticlassAUROC</td><td>▁▄▆▆▇█▇█▇█</td></tr><tr><td>val_MulticlassAccuracy</td><td>▁▃▆▇▇█▆▇▆▆</td></tr><tr><td>val_loss</td><td>█▅▃▃▃▂▂▁▁▁</td></tr></table><br/></div><div class=\"wandb-col\"><h3>Run summary:</h3><br/><table class=\"wandb\"><tr><td>epoch</td><td>9</td></tr><tr><td>train_accuracy</td><td>0.61845</td></tr><tr><td>train_loss</td><td>133.10596</td></tr><tr><td>val_MulticlassAUPRC</td><td>0.60564</td></tr><tr><td>val_MulticlassAUROC</td><td>0.76135</td></tr><tr><td>val_MulticlassAccuracy</td><td>0.60138</td></tr><tr><td>val_loss</td><td>33.79118</td></tr></table><br/></div></div>"
      ],
      "text/plain": [
       "<IPython.core.display.HTML object>"
      ]
     },
     "metadata": {},
     "output_type": "display_data"
    },
    {
     "data": {
      "text/html": [
       " View run <strong style=\"color:#cdcd00\">mre_5kb_64_0.001</strong> at: <a href='https://wandb.ai/bind-gps/BindGPS/runs/zllqgg3p' target=\"_blank\">https://wandb.ai/bind-gps/BindGPS/runs/zllqgg3p</a><br> View project at: <a href='https://wandb.ai/bind-gps/BindGPS' target=\"_blank\">https://wandb.ai/bind-gps/BindGPS</a><br>Synced 5 W&B file(s), 0 media file(s), 0 artifact file(s) and 0 other file(s)"
      ],
      "text/plain": [
       "<IPython.core.display.HTML object>"
      ]
     },
     "metadata": {},
     "output_type": "display_data"
    },
    {
     "data": {
      "text/html": [
       "Find logs at: <code>./wandb/run-20251002_140732-zllqgg3p/logs</code>"
      ],
      "text/plain": [
       "<IPython.core.display.HTML object>"
      ]
     },
     "metadata": {},
     "output_type": "display_data"
    },
    {
     "name": "stderr",
     "output_type": "stream",
     "text": [
      "\u001b[34m\u001b[1mwandb\u001b[0m: Agent Starting Run: tuv9iqz0 with config:\n",
      "\u001b[34m\u001b[1mwandb\u001b[0m: \tbatch_size: 128\n",
      "\u001b[34m\u001b[1mwandb\u001b[0m: \tepochs: 10\n",
      "\u001b[34m\u001b[1mwandb\u001b[0m: \thidden_dims: [256, 128]\n",
      "\u001b[34m\u001b[1mwandb\u001b[0m: \tlr: 0.001\n",
      "\u001b[34m\u001b[1mwandb\u001b[0m: \tresolution: 5kb\n",
      "\u001b[34m\u001b[1mwandb\u001b[0m: \tsvd_dim: 64\n",
      "\u001b[34m\u001b[1mwandb\u001b[0m: \ttarget_metric: MulticlassAccuracy\n",
      "\u001b[34m\u001b[1mwandb\u001b[0m: \ttask: gene\n",
      "\u001b[34m\u001b[1mwandb\u001b[0m: \tweighted: True\n",
      "\u001b[34m\u001b[1mwandb\u001b[0m: \u001b[32m\u001b[41mERROR\u001b[0m Failed to detect the name of this notebook. You can set it manually with the WANDB_NOTEBOOK_NAME environment variable to enable code saving.\n"
     ]
    },
    {
     "data": {
      "text/html": [],
      "text/plain": [
       "<IPython.core.display.HTML object>"
      ]
     },
     "metadata": {},
     "output_type": "display_data"
    },
    {
     "data": {
      "text/html": [
       "Tracking run with wandb version 0.22.1"
      ],
      "text/plain": [
       "<IPython.core.display.HTML object>"
      ]
     },
     "metadata": {},
     "output_type": "display_data"
    },
    {
     "data": {
      "text/html": [
       "Run data is saved locally in <code>/oscar/data/larschan/shared_data/BindGPS/model/wandb/run-20251002_140742-tuv9iqz0</code>"
      ],
      "text/plain": [
       "<IPython.core.display.HTML object>"
      ]
     },
     "metadata": {},
     "output_type": "display_data"
    },
    {
     "data": {
      "text/html": [
       "Syncing run <strong><a href='https://wandb.ai/bind-gps/BindGPS/runs/tuv9iqz0' target=\"_blank\">summer-sweep-43</a></strong> to <a href='https://wandb.ai/bind-gps/BindGPS' target=\"_blank\">Weights & Biases</a> (<a href='https://wandb.me/developer-guide' target=\"_blank\">docs</a>)<br>Sweep page: <a href='https://wandb.ai/bind-gps/BindGPS/sweeps/79ufxypb' target=\"_blank\">https://wandb.ai/bind-gps/BindGPS/sweeps/79ufxypb</a>"
      ],
      "text/plain": [
       "<IPython.core.display.HTML object>"
      ]
     },
     "metadata": {},
     "output_type": "display_data"
    },
    {
     "data": {
      "text/html": [
       " View project at <a href='https://wandb.ai/bind-gps/BindGPS' target=\"_blank\">https://wandb.ai/bind-gps/BindGPS</a>"
      ],
      "text/plain": [
       "<IPython.core.display.HTML object>"
      ]
     },
     "metadata": {},
     "output_type": "display_data"
    },
    {
     "data": {
      "text/html": [
       " View sweep at <a href='https://wandb.ai/bind-gps/BindGPS/sweeps/79ufxypb' target=\"_blank\">https://wandb.ai/bind-gps/BindGPS/sweeps/79ufxypb</a>"
      ],
      "text/plain": [
       "<IPython.core.display.HTML object>"
      ]
     },
     "metadata": {},
     "output_type": "display_data"
    },
    {
     "data": {
      "text/html": [
       " View run at <a href='https://wandb.ai/bind-gps/BindGPS/runs/tuv9iqz0' target=\"_blank\">https://wandb.ai/bind-gps/BindGPS/runs/tuv9iqz0</a>"
      ],
      "text/plain": [
       "<IPython.core.display.HTML object>"
      ]
     },
     "metadata": {},
     "output_type": "display_data"
    },
    {
     "name": "stderr",
     "output_type": "stream",
     "text": [
      "\u001b[34m\u001b[1mwandb\u001b[0m: \u001b[33mWARNING\u001b[0m Calling wandb.login() after wandb.init() has no effect.\n"
     ]
    },
    {
     "name": "stdout",
     "output_type": "stream",
     "text": [
      "[Epoch 0] Train Loss: 153.6514, Acc: 0.5750\n",
      "[Epoch 0] Val Loss: 35.7726, Val Metrics: {'MulticlassAUROC': 0.7967281341552734, 'MulticlassAUPRC': 0.6307933330535889, 'MulticlassAccuracy': 0.6095566749572754}\n",
      "[Epoch 1] Train Loss: 143.4045, Acc: 0.6196\n",
      "[Epoch 1] Val Loss: 35.1457, Val Metrics: {'MulticlassAUROC': 0.8091475367546082, 'MulticlassAUPRC': 0.6485987305641174, 'MulticlassAccuracy': 0.6295421719551086}\n",
      "[Epoch 2] Train Loss: 141.0954, Acc: 0.6282\n",
      "[Epoch 2] Val Loss: 34.4621, Val Metrics: {'MulticlassAUROC': 0.8120203018188477, 'MulticlassAUPRC': 0.6507925391197205, 'MulticlassAccuracy': 0.6348110437393188}\n",
      "[Epoch 3] Train Loss: 138.9612, Acc: 0.6349\n",
      "[Epoch 3] Val Loss: 34.2649, Val Metrics: {'MulticlassAUROC': 0.8179123997688293, 'MulticlassAUPRC': 0.6564599275588989, 'MulticlassAccuracy': 0.6584302186965942}\n",
      "[Epoch 4] Train Loss: 138.1664, Acc: 0.6432\n",
      "[Epoch 4] Val Loss: 34.2878, Val Metrics: {'MulticlassAUROC': 0.8153927326202393, 'MulticlassAUPRC': 0.6544623374938965, 'MulticlassAccuracy': 0.6382631063461304}\n",
      "[Epoch 5] Train Loss: 136.7002, Acc: 0.6473\n",
      "[Epoch 5] Val Loss: 34.2008, Val Metrics: {'MulticlassAUROC': 0.811985194683075, 'MulticlassAUPRC': 0.6499097943305969, 'MulticlassAccuracy': 0.6324491500854492}\n",
      "[Epoch 6] Train Loss: 135.4326, Acc: 0.6490\n",
      "[Epoch 6] Val Loss: 34.0055, Val Metrics: {'MulticlassAUROC': 0.8202838897705078, 'MulticlassAUPRC': 0.6593382954597473, 'MulticlassAccuracy': 0.6564316749572754}\n",
      "[Epoch 7] Train Loss: 134.5291, Acc: 0.6526\n",
      "[Epoch 7] Val Loss: 33.9230, Val Metrics: {'MulticlassAUROC': 0.8222537636756897, 'MulticlassAUPRC': 0.662113606929779, 'MulticlassAccuracy': 0.659338653087616}\n",
      "[Epoch 8] Train Loss: 134.3682, Acc: 0.6508\n",
      "[Epoch 8] Val Loss: 34.0140, Val Metrics: {'MulticlassAUROC': 0.8210965991020203, 'MulticlassAUPRC': 0.6620436310768127, 'MulticlassAccuracy': 0.6509811282157898}\n",
      "[Epoch 9] Train Loss: 133.0858, Acc: 0.6542\n",
      "[Epoch 9] Val Loss: 34.2237, Val Metrics: {'MulticlassAUROC': 0.8198291659355164, 'MulticlassAUPRC': 0.658295214176178, 'MulticlassAccuracy': 0.6551598906517029}\n"
     ]
    },
    {
     "data": {
      "text/html": [],
      "text/plain": [
       "<IPython.core.display.HTML object>"
      ]
     },
     "metadata": {},
     "output_type": "display_data"
    },
    {
     "data": {
      "text/html": [
       "<br>    <style><br>        .wandb-row {<br>            display: flex;<br>            flex-direction: row;<br>            flex-wrap: wrap;<br>            justify-content: flex-start;<br>            width: 100%;<br>        }<br>        .wandb-col {<br>            display: flex;<br>            flex-direction: column;<br>            flex-basis: 100%;<br>            flex: 1;<br>            padding: 10px;<br>        }<br>    </style><br><div class=\"wandb-row\"><div class=\"wandb-col\"><h3>Run history:</h3><br/><table class=\"wandb\"><tr><td>epoch</td><td>▁▂▃▃▄▅▆▆▇█</td></tr><tr><td>train_accuracy</td><td>▁▅▆▆▇▇████</td></tr><tr><td>train_loss</td><td>█▅▄▃▃▂▂▁▁▁</td></tr><tr><td>val_MulticlassAUPRC</td><td>▁▅▅▇▆▅▇██▇</td></tr><tr><td>val_MulticlassAUROC</td><td>▁▄▅▇▆▅▇██▇</td></tr><tr><td>val_MulticlassAccuracy</td><td>▁▄▅█▅▄██▇▇</td></tr><tr><td>val_loss</td><td>█▆▃▂▂▂▁▁▁▂</td></tr></table><br/></div><div class=\"wandb-col\"><h3>Run summary:</h3><br/><table class=\"wandb\"><tr><td>epoch</td><td>9</td></tr><tr><td>train_accuracy</td><td>0.6542</td></tr><tr><td>train_loss</td><td>133.08577</td></tr><tr><td>val_MulticlassAUPRC</td><td>0.6583</td></tr><tr><td>val_MulticlassAUROC</td><td>0.81983</td></tr><tr><td>val_MulticlassAccuracy</td><td>0.65516</td></tr><tr><td>val_loss</td><td>34.22375</td></tr></table><br/></div></div>"
      ],
      "text/plain": [
       "<IPython.core.display.HTML object>"
      ]
     },
     "metadata": {},
     "output_type": "display_data"
    },
    {
     "data": {
      "text/html": [
       " View run <strong style=\"color:#cdcd00\">gene_5kb_64_0.001</strong> at: <a href='https://wandb.ai/bind-gps/BindGPS/runs/tuv9iqz0' target=\"_blank\">https://wandb.ai/bind-gps/BindGPS/runs/tuv9iqz0</a><br> View project at: <a href='https://wandb.ai/bind-gps/BindGPS' target=\"_blank\">https://wandb.ai/bind-gps/BindGPS</a><br>Synced 5 W&B file(s), 0 media file(s), 0 artifact file(s) and 0 other file(s)"
      ],
      "text/plain": [
       "<IPython.core.display.HTML object>"
      ]
     },
     "metadata": {},
     "output_type": "display_data"
    },
    {
     "data": {
      "text/html": [
       "Find logs at: <code>./wandb/run-20251002_140742-tuv9iqz0/logs</code>"
      ],
      "text/plain": [
       "<IPython.core.display.HTML object>"
      ]
     },
     "metadata": {},
     "output_type": "display_data"
    },
    {
     "name": "stderr",
     "output_type": "stream",
     "text": [
      "\u001b[34m\u001b[1mwandb\u001b[0m: Agent Starting Run: xu1lunvp with config:\n",
      "\u001b[34m\u001b[1mwandb\u001b[0m: \tbatch_size: 128\n",
      "\u001b[34m\u001b[1mwandb\u001b[0m: \tepochs: 10\n",
      "\u001b[34m\u001b[1mwandb\u001b[0m: \thidden_dims: [256, 128]\n",
      "\u001b[34m\u001b[1mwandb\u001b[0m: \tlr: 0.001\n",
      "\u001b[34m\u001b[1mwandb\u001b[0m: \tresolution: 5kb\n",
      "\u001b[34m\u001b[1mwandb\u001b[0m: \tsvd_dim: 64\n",
      "\u001b[34m\u001b[1mwandb\u001b[0m: \ttarget_metric: MulticlassAccuracy\n",
      "\u001b[34m\u001b[1mwandb\u001b[0m: \ttask: gene\n",
      "\u001b[34m\u001b[1mwandb\u001b[0m: \tweighted: False\n",
      "\u001b[34m\u001b[1mwandb\u001b[0m: \u001b[32m\u001b[41mERROR\u001b[0m Failed to detect the name of this notebook. You can set it manually with the WANDB_NOTEBOOK_NAME environment variable to enable code saving.\n"
     ]
    },
    {
     "data": {
      "text/html": [],
      "text/plain": [
       "<IPython.core.display.HTML object>"
      ]
     },
     "metadata": {},
     "output_type": "display_data"
    },
    {
     "data": {
      "text/html": [
       "Tracking run with wandb version 0.22.1"
      ],
      "text/plain": [
       "<IPython.core.display.HTML object>"
      ]
     },
     "metadata": {},
     "output_type": "display_data"
    },
    {
     "data": {
      "text/html": [
       "Run data is saved locally in <code>/oscar/data/larschan/shared_data/BindGPS/model/wandb/run-20251002_140753-xu1lunvp</code>"
      ],
      "text/plain": [
       "<IPython.core.display.HTML object>"
      ]
     },
     "metadata": {},
     "output_type": "display_data"
    },
    {
     "data": {
      "text/html": [
       "Syncing run <strong><a href='https://wandb.ai/bind-gps/BindGPS/runs/xu1lunvp' target=\"_blank\">desert-sweep-44</a></strong> to <a href='https://wandb.ai/bind-gps/BindGPS' target=\"_blank\">Weights & Biases</a> (<a href='https://wandb.me/developer-guide' target=\"_blank\">docs</a>)<br>Sweep page: <a href='https://wandb.ai/bind-gps/BindGPS/sweeps/79ufxypb' target=\"_blank\">https://wandb.ai/bind-gps/BindGPS/sweeps/79ufxypb</a>"
      ],
      "text/plain": [
       "<IPython.core.display.HTML object>"
      ]
     },
     "metadata": {},
     "output_type": "display_data"
    },
    {
     "data": {
      "text/html": [
       " View project at <a href='https://wandb.ai/bind-gps/BindGPS' target=\"_blank\">https://wandb.ai/bind-gps/BindGPS</a>"
      ],
      "text/plain": [
       "<IPython.core.display.HTML object>"
      ]
     },
     "metadata": {},
     "output_type": "display_data"
    },
    {
     "data": {
      "text/html": [
       " View sweep at <a href='https://wandb.ai/bind-gps/BindGPS/sweeps/79ufxypb' target=\"_blank\">https://wandb.ai/bind-gps/BindGPS/sweeps/79ufxypb</a>"
      ],
      "text/plain": [
       "<IPython.core.display.HTML object>"
      ]
     },
     "metadata": {},
     "output_type": "display_data"
    },
    {
     "data": {
      "text/html": [
       " View run at <a href='https://wandb.ai/bind-gps/BindGPS/runs/xu1lunvp' target=\"_blank\">https://wandb.ai/bind-gps/BindGPS/runs/xu1lunvp</a>"
      ],
      "text/plain": [
       "<IPython.core.display.HTML object>"
      ]
     },
     "metadata": {},
     "output_type": "display_data"
    },
    {
     "name": "stderr",
     "output_type": "stream",
     "text": [
      "\u001b[34m\u001b[1mwandb\u001b[0m: \u001b[33mWARNING\u001b[0m Calling wandb.login() after wandb.init() has no effect.\n"
     ]
    },
    {
     "name": "stdout",
     "output_type": "stream",
     "text": [
      "[Epoch 0] Train Loss: 137.5636, Acc: 0.6453\n",
      "[Epoch 0] Val Loss: 31.3414, Val Metrics: {'MulticlassAUROC': 0.8117004036903381, 'MulticlassAUPRC': 0.6454809904098511, 'MulticlassAccuracy': 0.6820493936538696}\n",
      "[Epoch 1] Train Loss: 127.9147, Acc: 0.6744\n",
      "[Epoch 1] Val Loss: 30.6289, Val Metrics: {'MulticlassAUROC': 0.8217584490776062, 'MulticlassAUPRC': 0.6631726622581482, 'MulticlassAccuracy': 0.6876816749572754}\n",
      "[Epoch 2] Train Loss: 124.8513, Acc: 0.6838\n",
      "[Epoch 2] Val Loss: 30.0027, Val Metrics: {'MulticlassAUROC': 0.8255138993263245, 'MulticlassAUPRC': 0.6678211092948914, 'MulticlassAccuracy': 0.6969476938247681}\n",
      "[Epoch 3] Train Loss: 123.0690, Acc: 0.6880\n",
      "[Epoch 3] Val Loss: 29.9909, Val Metrics: {'MulticlassAUROC': 0.8260059952735901, 'MulticlassAUPRC': 0.6684878468513489, 'MulticlassAccuracy': 0.6980378031730652}\n",
      "[Epoch 4] Train Loss: 122.1037, Acc: 0.6927\n",
      "[Epoch 4] Val Loss: 29.9033, Val Metrics: {'MulticlassAUROC': 0.8276710510253906, 'MulticlassAUPRC': 0.6736431121826172, 'MulticlassAccuracy': 0.7058503031730652}\n",
      "[Epoch 5] Train Loss: 121.3820, Acc: 0.6961\n",
      "[Epoch 5] Val Loss: 29.9219, Val Metrics: {'MulticlassAUROC': 0.8295325636863708, 'MulticlassAUPRC': 0.677209198474884, 'MulticlassAccuracy': 0.7040334343910217}\n",
      "[Epoch 6] Train Loss: 120.6093, Acc: 0.6980\n",
      "[Epoch 6] Val Loss: 29.6371, Val Metrics: {'MulticlassAUROC': 0.830361545085907, 'MulticlassAUPRC': 0.6804515719413757, 'MulticlassAccuracy': 0.7023982405662537}\n",
      "[Epoch 7] Train Loss: 119.4053, Acc: 0.7019\n",
      "[Epoch 7] Val Loss: 29.6102, Val Metrics: {'MulticlassAUROC': 0.8307569622993469, 'MulticlassAUPRC': 0.6770593523979187, 'MulticlassAccuracy': 0.7018532156944275}\n",
      "[Epoch 8] Train Loss: 119.3078, Acc: 0.7015\n",
      "[Epoch 8] Val Loss: 29.5248, Val Metrics: {'MulticlassAUROC': 0.8313036561012268, 'MulticlassAUPRC': 0.6772141456604004, 'MulticlassAccuracy': 0.7049418687820435}\n",
      "[Epoch 9] Train Loss: 118.4247, Acc: 0.7038\n",
      "[Epoch 9] Val Loss: 29.5121, Val Metrics: {'MulticlassAUROC': 0.831453263759613, 'MulticlassAUPRC': 0.6801009178161621, 'MulticlassAccuracy': 0.7051235437393188}\n"
     ]
    },
    {
     "data": {
      "text/html": [],
      "text/plain": [
       "<IPython.core.display.HTML object>"
      ]
     },
     "metadata": {},
     "output_type": "display_data"
    },
    {
     "data": {
      "text/html": [
       "<br>    <style><br>        .wandb-row {<br>            display: flex;<br>            flex-direction: row;<br>            flex-wrap: wrap;<br>            justify-content: flex-start;<br>            width: 100%;<br>        }<br>        .wandb-col {<br>            display: flex;<br>            flex-direction: column;<br>            flex-basis: 100%;<br>            flex: 1;<br>            padding: 10px;<br>        }<br>    </style><br><div class=\"wandb-row\"><div class=\"wandb-col\"><h3>Run history:</h3><br/><table class=\"wandb\"><tr><td>epoch</td><td>▁▂▃▃▄▅▆▆▇█</td></tr><tr><td>train_accuracy</td><td>▁▄▆▆▇▇▇███</td></tr><tr><td>train_loss</td><td>█▄▃▃▂▂▂▁▁▁</td></tr><tr><td>val_MulticlassAUPRC</td><td>▁▅▅▆▇▇█▇▇█</td></tr><tr><td>val_MulticlassAUROC</td><td>▁▅▆▆▇▇████</td></tr><tr><td>val_MulticlassAccuracy</td><td>▁▃▅▆█▇▇▇██</td></tr><tr><td>val_loss</td><td>█▅▃▃▂▃▁▁▁▁</td></tr></table><br/></div><div class=\"wandb-col\"><h3>Run summary:</h3><br/><table class=\"wandb\"><tr><td>epoch</td><td>9</td></tr><tr><td>train_accuracy</td><td>0.70381</td></tr><tr><td>train_loss</td><td>118.42469</td></tr><tr><td>val_MulticlassAUPRC</td><td>0.6801</td></tr><tr><td>val_MulticlassAUROC</td><td>0.83145</td></tr><tr><td>val_MulticlassAccuracy</td><td>0.70512</td></tr><tr><td>val_loss</td><td>29.5121</td></tr></table><br/></div></div>"
      ],
      "text/plain": [
       "<IPython.core.display.HTML object>"
      ]
     },
     "metadata": {},
     "output_type": "display_data"
    },
    {
     "data": {
      "text/html": [
       " View run <strong style=\"color:#cdcd00\">gene_5kb_64_0.001</strong> at: <a href='https://wandb.ai/bind-gps/BindGPS/runs/xu1lunvp' target=\"_blank\">https://wandb.ai/bind-gps/BindGPS/runs/xu1lunvp</a><br> View project at: <a href='https://wandb.ai/bind-gps/BindGPS' target=\"_blank\">https://wandb.ai/bind-gps/BindGPS</a><br>Synced 5 W&B file(s), 0 media file(s), 0 artifact file(s) and 0 other file(s)"
      ],
      "text/plain": [
       "<IPython.core.display.HTML object>"
      ]
     },
     "metadata": {},
     "output_type": "display_data"
    },
    {
     "data": {
      "text/html": [
       "Find logs at: <code>./wandb/run-20251002_140753-xu1lunvp/logs</code>"
      ],
      "text/plain": [
       "<IPython.core.display.HTML object>"
      ]
     },
     "metadata": {},
     "output_type": "display_data"
    },
    {
     "name": "stderr",
     "output_type": "stream",
     "text": [
      "\u001b[34m\u001b[1mwandb\u001b[0m: Agent Starting Run: qc92965d with config:\n",
      "\u001b[34m\u001b[1mwandb\u001b[0m: \tbatch_size: 128\n",
      "\u001b[34m\u001b[1mwandb\u001b[0m: \tepochs: 10\n",
      "\u001b[34m\u001b[1mwandb\u001b[0m: \thidden_dims: [256, 128]\n",
      "\u001b[34m\u001b[1mwandb\u001b[0m: \tlr: 0.001\n",
      "\u001b[34m\u001b[1mwandb\u001b[0m: \tresolution: 5kb\n",
      "\u001b[34m\u001b[1mwandb\u001b[0m: \tsvd_dim: 64\n",
      "\u001b[34m\u001b[1mwandb\u001b[0m: \ttarget_metric: MulticlassAUPRC\n",
      "\u001b[34m\u001b[1mwandb\u001b[0m: \ttask: mre\n",
      "\u001b[34m\u001b[1mwandb\u001b[0m: \tweighted: True\n",
      "\u001b[34m\u001b[1mwandb\u001b[0m: \u001b[32m\u001b[41mERROR\u001b[0m Failed to detect the name of this notebook. You can set it manually with the WANDB_NOTEBOOK_NAME environment variable to enable code saving.\n"
     ]
    },
    {
     "data": {
      "text/html": [],
      "text/plain": [
       "<IPython.core.display.HTML object>"
      ]
     },
     "metadata": {},
     "output_type": "display_data"
    },
    {
     "data": {
      "text/html": [
       "Tracking run with wandb version 0.22.1"
      ],
      "text/plain": [
       "<IPython.core.display.HTML object>"
      ]
     },
     "metadata": {},
     "output_type": "display_data"
    },
    {
     "data": {
      "text/html": [
       "Run data is saved locally in <code>/oscar/data/larschan/shared_data/BindGPS/model/wandb/run-20251002_140803-qc92965d</code>"
      ],
      "text/plain": [
       "<IPython.core.display.HTML object>"
      ]
     },
     "metadata": {},
     "output_type": "display_data"
    },
    {
     "data": {
      "text/html": [
       "Syncing run <strong><a href='https://wandb.ai/bind-gps/BindGPS/runs/qc92965d' target=\"_blank\">different-sweep-45</a></strong> to <a href='https://wandb.ai/bind-gps/BindGPS' target=\"_blank\">Weights & Biases</a> (<a href='https://wandb.me/developer-guide' target=\"_blank\">docs</a>)<br>Sweep page: <a href='https://wandb.ai/bind-gps/BindGPS/sweeps/79ufxypb' target=\"_blank\">https://wandb.ai/bind-gps/BindGPS/sweeps/79ufxypb</a>"
      ],
      "text/plain": [
       "<IPython.core.display.HTML object>"
      ]
     },
     "metadata": {},
     "output_type": "display_data"
    },
    {
     "data": {
      "text/html": [
       " View project at <a href='https://wandb.ai/bind-gps/BindGPS' target=\"_blank\">https://wandb.ai/bind-gps/BindGPS</a>"
      ],
      "text/plain": [
       "<IPython.core.display.HTML object>"
      ]
     },
     "metadata": {},
     "output_type": "display_data"
    },
    {
     "data": {
      "text/html": [
       " View sweep at <a href='https://wandb.ai/bind-gps/BindGPS/sweeps/79ufxypb' target=\"_blank\">https://wandb.ai/bind-gps/BindGPS/sweeps/79ufxypb</a>"
      ],
      "text/plain": [
       "<IPython.core.display.HTML object>"
      ]
     },
     "metadata": {},
     "output_type": "display_data"
    },
    {
     "data": {
      "text/html": [
       " View run at <a href='https://wandb.ai/bind-gps/BindGPS/runs/qc92965d' target=\"_blank\">https://wandb.ai/bind-gps/BindGPS/runs/qc92965d</a>"
      ],
      "text/plain": [
       "<IPython.core.display.HTML object>"
      ]
     },
     "metadata": {},
     "output_type": "display_data"
    },
    {
     "name": "stderr",
     "output_type": "stream",
     "text": [
      "\u001b[34m\u001b[1mwandb\u001b[0m: \u001b[33mWARNING\u001b[0m Calling wandb.login() after wandb.init() has no effect.\n"
     ]
    },
    {
     "name": "stdout",
     "output_type": "stream",
     "text": [
      "[Epoch 0] Train Loss: 164.7957, Acc: 0.4940\n",
      "[Epoch 0] Val Loss: 38.9119, Val Metrics: {'MulticlassAUROC': 0.7311407923698425, 'MulticlassAUPRC': 0.5633881688117981, 'MulticlassAccuracy': 0.5490552186965942}\n",
      "[Epoch 1] Train Loss: 153.2726, Acc: 0.5313\n",
      "[Epoch 1] Val Loss: 38.1708, Val Metrics: {'MulticlassAUROC': 0.7424160838127136, 'MulticlassAUPRC': 0.578982412815094, 'MulticlassAccuracy': 0.5601381063461304}\n",
      "[Epoch 2] Train Loss: 150.1511, Acc: 0.5410\n",
      "[Epoch 2] Val Loss: 37.4421, Val Metrics: {'MulticlassAUROC': 0.7477986812591553, 'MulticlassAUPRC': 0.5838704705238342, 'MulticlassAccuracy': 0.5586845874786377}\n",
      "[Epoch 3] Train Loss: 148.2746, Acc: 0.5491\n",
      "[Epoch 3] Val Loss: 37.9569, Val Metrics: {'MulticlassAUROC': 0.7520762085914612, 'MulticlassAUPRC': 0.5877799391746521, 'MulticlassAccuracy': 0.5659520626068115}\n",
      "[Epoch 4] Train Loss: 147.6673, Acc: 0.5502\n",
      "[Epoch 4] Val Loss: 37.7237, Val Metrics: {'MulticlassAUROC': 0.7510023713111877, 'MulticlassAUPRC': 0.5877990126609802, 'MulticlassAccuracy': 0.5677688717842102}\n",
      "[Epoch 5] Train Loss: 146.0682, Acc: 0.5557\n",
      "[Epoch 5] Val Loss: 37.5736, Val Metrics: {'MulticlassAUROC': 0.74628084897995, 'MulticlassAUPRC': 0.5836806893348694, 'MulticlassAccuracy': 0.559411346912384}\n",
      "[Epoch 6] Train Loss: 145.4358, Acc: 0.5596\n",
      "[Epoch 6] Val Loss: 37.2545, Val Metrics: {'MulticlassAUROC': 0.7533969879150391, 'MulticlassAUPRC': 0.595687210559845, 'MulticlassAccuracy': 0.5686773061752319}\n",
      "[Epoch 7] Train Loss: 144.6856, Acc: 0.5631\n",
      "[Epoch 7] Val Loss: 37.7594, Val Metrics: {'MulticlassAUROC': 0.7555975317955017, 'MulticlassAUPRC': 0.5940760970115662, 'MulticlassAccuracy': 0.5832121968269348}\n",
      "[Epoch 8] Train Loss: 144.0932, Acc: 0.5634\n",
      "[Epoch 8] Val Loss: 37.6288, Val Metrics: {'MulticlassAUROC': 0.749501645565033, 'MulticlassAUPRC': 0.5893761515617371, 'MulticlassAccuracy': 0.5612282156944275}\n",
      "[Epoch 9] Train Loss: 143.4121, Acc: 0.5611\n",
      "[Epoch 9] Val Loss: 38.1381, Val Metrics: {'MulticlassAUROC': 0.754943311214447, 'MulticlassAUPRC': 0.5969832539558411, 'MulticlassAccuracy': 0.5772165656089783}\n"
     ]
    },
    {
     "data": {
      "text/html": [],
      "text/plain": [
       "<IPython.core.display.HTML object>"
      ]
     },
     "metadata": {},
     "output_type": "display_data"
    },
    {
     "data": {
      "text/html": [
       "<br>    <style><br>        .wandb-row {<br>            display: flex;<br>            flex-direction: row;<br>            flex-wrap: wrap;<br>            justify-content: flex-start;<br>            width: 100%;<br>        }<br>        .wandb-col {<br>            display: flex;<br>            flex-direction: column;<br>            flex-basis: 100%;<br>            flex: 1;<br>            padding: 10px;<br>        }<br>    </style><br><div class=\"wandb-row\"><div class=\"wandb-col\"><h3>Run history:</h3><br/><table class=\"wandb\"><tr><td>epoch</td><td>▁▂▃▃▄▅▆▆▇█</td></tr><tr><td>train_accuracy</td><td>▁▅▆▇▇▇████</td></tr><tr><td>train_loss</td><td>█▄▃▃▂▂▂▁▁▁</td></tr><tr><td>val_MulticlassAUPRC</td><td>▁▄▅▆▆▅█▇▆█</td></tr><tr><td>val_MulticlassAUROC</td><td>▁▄▆▇▇▅▇█▆█</td></tr><tr><td>val_MulticlassAccuracy</td><td>▁▃▃▄▅▃▅█▃▇</td></tr><tr><td>val_loss</td><td>█▅▂▄▃▂▁▃▃▅</td></tr></table><br/></div><div class=\"wandb-col\"><h3>Run summary:</h3><br/><table class=\"wandb\"><tr><td>epoch</td><td>9</td></tr><tr><td>train_accuracy</td><td>0.56108</td></tr><tr><td>train_loss</td><td>143.41211</td></tr><tr><td>val_MulticlassAUPRC</td><td>0.59698</td></tr><tr><td>val_MulticlassAUROC</td><td>0.75494</td></tr><tr><td>val_MulticlassAccuracy</td><td>0.57722</td></tr><tr><td>val_loss</td><td>38.13806</td></tr></table><br/></div></div>"
      ],
      "text/plain": [
       "<IPython.core.display.HTML object>"
      ]
     },
     "metadata": {},
     "output_type": "display_data"
    },
    {
     "data": {
      "text/html": [
       " View run <strong style=\"color:#cdcd00\">mre_5kb_64_0.001</strong> at: <a href='https://wandb.ai/bind-gps/BindGPS/runs/qc92965d' target=\"_blank\">https://wandb.ai/bind-gps/BindGPS/runs/qc92965d</a><br> View project at: <a href='https://wandb.ai/bind-gps/BindGPS' target=\"_blank\">https://wandb.ai/bind-gps/BindGPS</a><br>Synced 5 W&B file(s), 0 media file(s), 0 artifact file(s) and 0 other file(s)"
      ],
      "text/plain": [
       "<IPython.core.display.HTML object>"
      ]
     },
     "metadata": {},
     "output_type": "display_data"
    },
    {
     "data": {
      "text/html": [
       "Find logs at: <code>./wandb/run-20251002_140803-qc92965d/logs</code>"
      ],
      "text/plain": [
       "<IPython.core.display.HTML object>"
      ]
     },
     "metadata": {},
     "output_type": "display_data"
    },
    {
     "name": "stderr",
     "output_type": "stream",
     "text": [
      "\u001b[34m\u001b[1mwandb\u001b[0m: Agent Starting Run: 7jy87v1h with config:\n",
      "\u001b[34m\u001b[1mwandb\u001b[0m: \tbatch_size: 128\n",
      "\u001b[34m\u001b[1mwandb\u001b[0m: \tepochs: 10\n",
      "\u001b[34m\u001b[1mwandb\u001b[0m: \thidden_dims: [256, 128]\n",
      "\u001b[34m\u001b[1mwandb\u001b[0m: \tlr: 0.001\n",
      "\u001b[34m\u001b[1mwandb\u001b[0m: \tresolution: 5kb\n",
      "\u001b[34m\u001b[1mwandb\u001b[0m: \tsvd_dim: 64\n",
      "\u001b[34m\u001b[1mwandb\u001b[0m: \ttarget_metric: MulticlassAUPRC\n",
      "\u001b[34m\u001b[1mwandb\u001b[0m: \ttask: mre\n",
      "\u001b[34m\u001b[1mwandb\u001b[0m: \tweighted: False\n",
      "\u001b[34m\u001b[1mwandb\u001b[0m: \u001b[32m\u001b[41mERROR\u001b[0m Failed to detect the name of this notebook. You can set it manually with the WANDB_NOTEBOOK_NAME environment variable to enable code saving.\n"
     ]
    },
    {
     "data": {
      "text/html": [],
      "text/plain": [
       "<IPython.core.display.HTML object>"
      ]
     },
     "metadata": {},
     "output_type": "display_data"
    },
    {
     "data": {
      "text/html": [
       "Tracking run with wandb version 0.22.1"
      ],
      "text/plain": [
       "<IPython.core.display.HTML object>"
      ]
     },
     "metadata": {},
     "output_type": "display_data"
    },
    {
     "data": {
      "text/html": [
       "Run data is saved locally in <code>/oscar/data/larschan/shared_data/BindGPS/model/wandb/run-20251002_140813-7jy87v1h</code>"
      ],
      "text/plain": [
       "<IPython.core.display.HTML object>"
      ]
     },
     "metadata": {},
     "output_type": "display_data"
    },
    {
     "data": {
      "text/html": [
       "Syncing run <strong><a href='https://wandb.ai/bind-gps/BindGPS/runs/7jy87v1h' target=\"_blank\">fresh-sweep-46</a></strong> to <a href='https://wandb.ai/bind-gps/BindGPS' target=\"_blank\">Weights & Biases</a> (<a href='https://wandb.me/developer-guide' target=\"_blank\">docs</a>)<br>Sweep page: <a href='https://wandb.ai/bind-gps/BindGPS/sweeps/79ufxypb' target=\"_blank\">https://wandb.ai/bind-gps/BindGPS/sweeps/79ufxypb</a>"
      ],
      "text/plain": [
       "<IPython.core.display.HTML object>"
      ]
     },
     "metadata": {},
     "output_type": "display_data"
    },
    {
     "data": {
      "text/html": [
       " View project at <a href='https://wandb.ai/bind-gps/BindGPS' target=\"_blank\">https://wandb.ai/bind-gps/BindGPS</a>"
      ],
      "text/plain": [
       "<IPython.core.display.HTML object>"
      ]
     },
     "metadata": {},
     "output_type": "display_data"
    },
    {
     "data": {
      "text/html": [
       " View sweep at <a href='https://wandb.ai/bind-gps/BindGPS/sweeps/79ufxypb' target=\"_blank\">https://wandb.ai/bind-gps/BindGPS/sweeps/79ufxypb</a>"
      ],
      "text/plain": [
       "<IPython.core.display.HTML object>"
      ]
     },
     "metadata": {},
     "output_type": "display_data"
    },
    {
     "data": {
      "text/html": [
       " View run at <a href='https://wandb.ai/bind-gps/BindGPS/runs/7jy87v1h' target=\"_blank\">https://wandb.ai/bind-gps/BindGPS/runs/7jy87v1h</a>"
      ],
      "text/plain": [
       "<IPython.core.display.HTML object>"
      ]
     },
     "metadata": {},
     "output_type": "display_data"
    },
    {
     "name": "stderr",
     "output_type": "stream",
     "text": [
      "\u001b[34m\u001b[1mwandb\u001b[0m: \u001b[33mWARNING\u001b[0m Calling wandb.login() after wandb.init() has no effect.\n"
     ]
    },
    {
     "name": "stdout",
     "output_type": "stream",
     "text": [
      "[Epoch 0] Train Loss: 150.1589, Acc: 0.5487\n",
      "[Epoch 0] Val Loss: 35.1022, Val Metrics: {'MulticlassAUROC': 0.7499063611030579, 'MulticlassAUPRC': 0.5949576497077942, 'MulticlassAccuracy': 0.5846657156944275}\n",
      "[Epoch 1] Train Loss: 141.3832, Acc: 0.5841\n",
      "[Epoch 1] Val Loss: 34.6733, Val Metrics: {'MulticlassAUROC': 0.7531842589378357, 'MulticlassAUPRC': 0.598609983921051, 'MulticlassAccuracy': 0.5953851938247681}\n",
      "[Epoch 2] Train Loss: 138.5809, Acc: 0.5941\n",
      "[Epoch 2] Val Loss: 34.1303, Val Metrics: {'MulticlassAUROC': 0.7625091075897217, 'MulticlassAUPRC': 0.6074045300483704, 'MulticlassAccuracy': 0.6050145626068115}\n",
      "[Epoch 3] Train Loss: 137.0408, Acc: 0.6011\n",
      "[Epoch 3] Val Loss: 34.3236, Val Metrics: {'MulticlassAUROC': 0.7598629593849182, 'MulticlassAUPRC': 0.6094677448272705, 'MulticlassAccuracy': 0.6006540656089783}\n",
      "[Epoch 4] Train Loss: 136.3732, Acc: 0.6001\n",
      "[Epoch 4] Val Loss: 33.8732, Val Metrics: {'MulticlassAUROC': 0.7660295963287354, 'MulticlassAUPRC': 0.6150580644607544, 'MulticlassAccuracy': 0.6126453280448914}\n",
      "[Epoch 5] Train Loss: 135.7513, Acc: 0.6068\n",
      "[Epoch 5] Val Loss: 34.1144, Val Metrics: {'MulticlassAUROC': 0.7627810835838318, 'MulticlassAUPRC': 0.611370325088501, 'MulticlassAccuracy': 0.602107584476471}\n",
      "[Epoch 6] Train Loss: 134.5944, Acc: 0.6092\n",
      "[Epoch 6] Val Loss: 33.9646, Val Metrics: {'MulticlassAUROC': 0.7642301917076111, 'MulticlassAUPRC': 0.6125857830047607, 'MulticlassAccuracy': 0.6084665656089783}\n",
      "[Epoch 7] Train Loss: 134.2717, Acc: 0.6111\n",
      "[Epoch 7] Val Loss: 33.7657, Val Metrics: {'MulticlassAUROC': 0.7664135098457336, 'MulticlassAUPRC': 0.6150374412536621, 'MulticlassAccuracy': 0.6086482405662537}\n",
      "[Epoch 8] Train Loss: 133.3695, Acc: 0.6120\n",
      "[Epoch 8] Val Loss: 34.0126, Val Metrics: {'MulticlassAUROC': 0.763291597366333, 'MulticlassAUPRC': 0.6132669448852539, 'MulticlassAccuracy': 0.5970203280448914}\n",
      "[Epoch 9] Train Loss: 133.3614, Acc: 0.6133\n",
      "[Epoch 9] Val Loss: 33.7179, Val Metrics: {'MulticlassAUROC': 0.7669239044189453, 'MulticlassAUPRC': 0.615629255771637, 'MulticlassAccuracy': 0.6122819781303406}\n"
     ]
    },
    {
     "data": {
      "text/html": [],
      "text/plain": [
       "<IPython.core.display.HTML object>"
      ]
     },
     "metadata": {},
     "output_type": "display_data"
    },
    {
     "data": {
      "text/html": [
       "<br>    <style><br>        .wandb-row {<br>            display: flex;<br>            flex-direction: row;<br>            flex-wrap: wrap;<br>            justify-content: flex-start;<br>            width: 100%;<br>        }<br>        .wandb-col {<br>            display: flex;<br>            flex-direction: column;<br>            flex-basis: 100%;<br>            flex: 1;<br>            padding: 10px;<br>        }<br>    </style><br><div class=\"wandb-row\"><div class=\"wandb-col\"><h3>Run history:</h3><br/><table class=\"wandb\"><tr><td>epoch</td><td>▁▂▃▃▄▅▆▆▇█</td></tr><tr><td>train_accuracy</td><td>▁▅▆▇▇▇████</td></tr><tr><td>train_loss</td><td>█▄▃▃▂▂▂▁▁▁</td></tr><tr><td>val_MulticlassAUPRC</td><td>▁▂▅▆█▇▇█▇█</td></tr><tr><td>val_MulticlassAUROC</td><td>▁▂▆▅█▆▇█▇█</td></tr><tr><td>val_MulticlassAccuracy</td><td>▁▄▆▅█▅▇▇▄█</td></tr><tr><td>val_loss</td><td>█▆▃▄▂▃▂▁▂▁</td></tr></table><br/></div><div class=\"wandb-col\"><h3>Run summary:</h3><br/><table class=\"wandb\"><tr><td>epoch</td><td>9</td></tr><tr><td>train_accuracy</td><td>0.61327</td></tr><tr><td>train_loss</td><td>133.3614</td></tr><tr><td>val_MulticlassAUPRC</td><td>0.61563</td></tr><tr><td>val_MulticlassAUROC</td><td>0.76692</td></tr><tr><td>val_MulticlassAccuracy</td><td>0.61228</td></tr><tr><td>val_loss</td><td>33.71787</td></tr></table><br/></div></div>"
      ],
      "text/plain": [
       "<IPython.core.display.HTML object>"
      ]
     },
     "metadata": {},
     "output_type": "display_data"
    },
    {
     "data": {
      "text/html": [
       " View run <strong style=\"color:#cdcd00\">mre_5kb_64_0.001</strong> at: <a href='https://wandb.ai/bind-gps/BindGPS/runs/7jy87v1h' target=\"_blank\">https://wandb.ai/bind-gps/BindGPS/runs/7jy87v1h</a><br> View project at: <a href='https://wandb.ai/bind-gps/BindGPS' target=\"_blank\">https://wandb.ai/bind-gps/BindGPS</a><br>Synced 5 W&B file(s), 0 media file(s), 0 artifact file(s) and 0 other file(s)"
      ],
      "text/plain": [
       "<IPython.core.display.HTML object>"
      ]
     },
     "metadata": {},
     "output_type": "display_data"
    },
    {
     "data": {
      "text/html": [
       "Find logs at: <code>./wandb/run-20251002_140813-7jy87v1h/logs</code>"
      ],
      "text/plain": [
       "<IPython.core.display.HTML object>"
      ]
     },
     "metadata": {},
     "output_type": "display_data"
    },
    {
     "name": "stderr",
     "output_type": "stream",
     "text": [
      "\u001b[34m\u001b[1mwandb\u001b[0m: Agent Starting Run: b8en4lga with config:\n",
      "\u001b[34m\u001b[1mwandb\u001b[0m: \tbatch_size: 128\n",
      "\u001b[34m\u001b[1mwandb\u001b[0m: \tepochs: 10\n",
      "\u001b[34m\u001b[1mwandb\u001b[0m: \thidden_dims: [256, 128]\n",
      "\u001b[34m\u001b[1mwandb\u001b[0m: \tlr: 0.001\n",
      "\u001b[34m\u001b[1mwandb\u001b[0m: \tresolution: 5kb\n",
      "\u001b[34m\u001b[1mwandb\u001b[0m: \tsvd_dim: 64\n",
      "\u001b[34m\u001b[1mwandb\u001b[0m: \ttarget_metric: MulticlassAUPRC\n",
      "\u001b[34m\u001b[1mwandb\u001b[0m: \ttask: gene\n",
      "\u001b[34m\u001b[1mwandb\u001b[0m: \tweighted: True\n",
      "\u001b[34m\u001b[1mwandb\u001b[0m: \u001b[32m\u001b[41mERROR\u001b[0m Failed to detect the name of this notebook. You can set it manually with the WANDB_NOTEBOOK_NAME environment variable to enable code saving.\n"
     ]
    },
    {
     "data": {
      "text/html": [],
      "text/plain": [
       "<IPython.core.display.HTML object>"
      ]
     },
     "metadata": {},
     "output_type": "display_data"
    },
    {
     "data": {
      "text/html": [
       "Tracking run with wandb version 0.22.1"
      ],
      "text/plain": [
       "<IPython.core.display.HTML object>"
      ]
     },
     "metadata": {},
     "output_type": "display_data"
    },
    {
     "data": {
      "text/html": [
       "Run data is saved locally in <code>/oscar/data/larschan/shared_data/BindGPS/model/wandb/run-20251002_140823-b8en4lga</code>"
      ],
      "text/plain": [
       "<IPython.core.display.HTML object>"
      ]
     },
     "metadata": {},
     "output_type": "display_data"
    },
    {
     "data": {
      "text/html": [
       "Syncing run <strong><a href='https://wandb.ai/bind-gps/BindGPS/runs/b8en4lga' target=\"_blank\">pious-sweep-47</a></strong> to <a href='https://wandb.ai/bind-gps/BindGPS' target=\"_blank\">Weights & Biases</a> (<a href='https://wandb.me/developer-guide' target=\"_blank\">docs</a>)<br>Sweep page: <a href='https://wandb.ai/bind-gps/BindGPS/sweeps/79ufxypb' target=\"_blank\">https://wandb.ai/bind-gps/BindGPS/sweeps/79ufxypb</a>"
      ],
      "text/plain": [
       "<IPython.core.display.HTML object>"
      ]
     },
     "metadata": {},
     "output_type": "display_data"
    },
    {
     "data": {
      "text/html": [
       " View project at <a href='https://wandb.ai/bind-gps/BindGPS' target=\"_blank\">https://wandb.ai/bind-gps/BindGPS</a>"
      ],
      "text/plain": [
       "<IPython.core.display.HTML object>"
      ]
     },
     "metadata": {},
     "output_type": "display_data"
    },
    {
     "data": {
      "text/html": [
       " View sweep at <a href='https://wandb.ai/bind-gps/BindGPS/sweeps/79ufxypb' target=\"_blank\">https://wandb.ai/bind-gps/BindGPS/sweeps/79ufxypb</a>"
      ],
      "text/plain": [
       "<IPython.core.display.HTML object>"
      ]
     },
     "metadata": {},
     "output_type": "display_data"
    },
    {
     "data": {
      "text/html": [
       " View run at <a href='https://wandb.ai/bind-gps/BindGPS/runs/b8en4lga' target=\"_blank\">https://wandb.ai/bind-gps/BindGPS/runs/b8en4lga</a>"
      ],
      "text/plain": [
       "<IPython.core.display.HTML object>"
      ]
     },
     "metadata": {},
     "output_type": "display_data"
    },
    {
     "name": "stderr",
     "output_type": "stream",
     "text": [
      "\u001b[34m\u001b[1mwandb\u001b[0m: \u001b[33mWARNING\u001b[0m Calling wandb.login() after wandb.init() has no effect.\n"
     ]
    },
    {
     "name": "stdout",
     "output_type": "stream",
     "text": [
      "[Epoch 0] Train Loss: 153.8821, Acc: 0.5831\n",
      "[Epoch 0] Val Loss: 36.5447, Val Metrics: {'MulticlassAUROC': 0.794670581817627, 'MulticlassAUPRC': 0.6311975121498108, 'MulticlassAccuracy': 0.6091933250427246}\n",
      "[Epoch 1] Train Loss: 143.4286, Acc: 0.6230\n",
      "[Epoch 1] Val Loss: 35.4501, Val Metrics: {'MulticlassAUROC': 0.8031632900238037, 'MulticlassAUPRC': 0.6452555060386658, 'MulticlassAccuracy': 0.6364462375640869}\n",
      "[Epoch 2] Train Loss: 140.6308, Acc: 0.6331\n",
      "[Epoch 2] Val Loss: 34.8803, Val Metrics: {'MulticlassAUROC': 0.8115527033805847, 'MulticlassAUPRC': 0.6553914546966553, 'MulticlassAccuracy': 0.6566133499145508}\n",
      "[Epoch 3] Train Loss: 138.3027, Acc: 0.6427\n",
      "[Epoch 3] Val Loss: 35.0016, Val Metrics: {'MulticlassAUROC': 0.8147058486938477, 'MulticlassAUPRC': 0.6568736433982849, 'MulticlassAccuracy': 0.6611555218696594}\n",
      "[Epoch 4] Train Loss: 137.5738, Acc: 0.6414\n",
      "[Epoch 4] Val Loss: 34.6894, Val Metrics: {'MulticlassAUROC': 0.8161931037902832, 'MulticlassAUPRC': 0.6604520678520203, 'MulticlassAccuracy': 0.6651526093482971}\n",
      "[Epoch 5] Train Loss: 136.9471, Acc: 0.6427\n",
      "[Epoch 5] Val Loss: 34.8066, Val Metrics: {'MulticlassAUROC': 0.8168480396270752, 'MulticlassAUPRC': 0.6613275408744812, 'MulticlassAccuracy': 0.6686046719551086}\n",
      "[Epoch 6] Train Loss: 136.0158, Acc: 0.6460\n",
      "[Epoch 6] Val Loss: 34.3665, Val Metrics: {'MulticlassAUROC': 0.8170110583305359, 'MulticlassAUPRC': 0.6627346277236938, 'MulticlassAccuracy': 0.6544331312179565}\n",
      "[Epoch 7] Train Loss: 135.0486, Acc: 0.6528\n",
      "[Epoch 7] Val Loss: 34.4441, Val Metrics: {'MulticlassAUROC': 0.8158153891563416, 'MulticlassAUPRC': 0.659842848777771, 'MulticlassAccuracy': 0.660973846912384}\n",
      "[Epoch 8] Train Loss: 134.4304, Acc: 0.6529\n",
      "[Epoch 8] Val Loss: 34.2611, Val Metrics: {'MulticlassAUROC': 0.8170621991157532, 'MulticlassAUPRC': 0.6618563532829285, 'MulticlassAccuracy': 0.6607921719551086}\n",
      "[Epoch 9] Train Loss: 133.1216, Acc: 0.6569\n",
      "[Epoch 9] Val Loss: 34.3576, Val Metrics: {'MulticlassAUROC': 0.8207221627235413, 'MulticlassAUPRC': 0.6649651527404785, 'MulticlassAccuracy': 0.6735101938247681}\n"
     ]
    },
    {
     "data": {
      "text/html": [],
      "text/plain": [
       "<IPython.core.display.HTML object>"
      ]
     },
     "metadata": {},
     "output_type": "display_data"
    },
    {
     "data": {
      "text/html": [
       "<br>    <style><br>        .wandb-row {<br>            display: flex;<br>            flex-direction: row;<br>            flex-wrap: wrap;<br>            justify-content: flex-start;<br>            width: 100%;<br>        }<br>        .wandb-col {<br>            display: flex;<br>            flex-direction: column;<br>            flex-basis: 100%;<br>            flex: 1;<br>            padding: 10px;<br>        }<br>    </style><br><div class=\"wandb-row\"><div class=\"wandb-col\"><h3>Run history:</h3><br/><table class=\"wandb\"><tr><td>epoch</td><td>▁▂▃▃▄▅▆▆▇█</td></tr><tr><td>train_accuracy</td><td>▁▅▆▇▇▇▇███</td></tr><tr><td>train_loss</td><td>█▄▄▃▃▂▂▂▁▁</td></tr><tr><td>val_MulticlassAUPRC</td><td>▁▄▆▆▇▇█▇▇█</td></tr><tr><td>val_MulticlassAUROC</td><td>▁▃▆▆▇▇▇▇▇█</td></tr><tr><td>val_MulticlassAccuracy</td><td>▁▄▆▇▇▇▆▇▇█</td></tr><tr><td>val_loss</td><td>█▅▃▃▂▃▁▂▁▁</td></tr></table><br/></div><div class=\"wandb-col\"><h3>Run summary:</h3><br/><table class=\"wandb\"><tr><td>epoch</td><td>9</td></tr><tr><td>train_accuracy</td><td>0.65688</td></tr><tr><td>train_loss</td><td>133.12155</td></tr><tr><td>val_MulticlassAUPRC</td><td>0.66497</td></tr><tr><td>val_MulticlassAUROC</td><td>0.82072</td></tr><tr><td>val_MulticlassAccuracy</td><td>0.67351</td></tr><tr><td>val_loss</td><td>34.35755</td></tr></table><br/></div></div>"
      ],
      "text/plain": [
       "<IPython.core.display.HTML object>"
      ]
     },
     "metadata": {},
     "output_type": "display_data"
    },
    {
     "data": {
      "text/html": [
       " View run <strong style=\"color:#cdcd00\">gene_5kb_64_0.001</strong> at: <a href='https://wandb.ai/bind-gps/BindGPS/runs/b8en4lga' target=\"_blank\">https://wandb.ai/bind-gps/BindGPS/runs/b8en4lga</a><br> View project at: <a href='https://wandb.ai/bind-gps/BindGPS' target=\"_blank\">https://wandb.ai/bind-gps/BindGPS</a><br>Synced 5 W&B file(s), 0 media file(s), 0 artifact file(s) and 0 other file(s)"
      ],
      "text/plain": [
       "<IPython.core.display.HTML object>"
      ]
     },
     "metadata": {},
     "output_type": "display_data"
    },
    {
     "data": {
      "text/html": [
       "Find logs at: <code>./wandb/run-20251002_140823-b8en4lga/logs</code>"
      ],
      "text/plain": [
       "<IPython.core.display.HTML object>"
      ]
     },
     "metadata": {},
     "output_type": "display_data"
    },
    {
     "name": "stderr",
     "output_type": "stream",
     "text": [
      "\u001b[34m\u001b[1mwandb\u001b[0m: Agent Starting Run: 2pw47b0o with config:\n",
      "\u001b[34m\u001b[1mwandb\u001b[0m: \tbatch_size: 128\n",
      "\u001b[34m\u001b[1mwandb\u001b[0m: \tepochs: 10\n",
      "\u001b[34m\u001b[1mwandb\u001b[0m: \thidden_dims: [256, 128]\n",
      "\u001b[34m\u001b[1mwandb\u001b[0m: \tlr: 0.001\n",
      "\u001b[34m\u001b[1mwandb\u001b[0m: \tresolution: 5kb\n",
      "\u001b[34m\u001b[1mwandb\u001b[0m: \tsvd_dim: 64\n",
      "\u001b[34m\u001b[1mwandb\u001b[0m: \ttarget_metric: MulticlassAUPRC\n",
      "\u001b[34m\u001b[1mwandb\u001b[0m: \ttask: gene\n",
      "\u001b[34m\u001b[1mwandb\u001b[0m: \tweighted: False\n",
      "\u001b[34m\u001b[1mwandb\u001b[0m: \u001b[32m\u001b[41mERROR\u001b[0m Failed to detect the name of this notebook. You can set it manually with the WANDB_NOTEBOOK_NAME environment variable to enable code saving.\n"
     ]
    },
    {
     "data": {
      "text/html": [],
      "text/plain": [
       "<IPython.core.display.HTML object>"
      ]
     },
     "metadata": {},
     "output_type": "display_data"
    },
    {
     "data": {
      "text/html": [
       "Tracking run with wandb version 0.22.1"
      ],
      "text/plain": [
       "<IPython.core.display.HTML object>"
      ]
     },
     "metadata": {},
     "output_type": "display_data"
    },
    {
     "data": {
      "text/html": [
       "Run data is saved locally in <code>/oscar/data/larschan/shared_data/BindGPS/model/wandb/run-20251002_140834-2pw47b0o</code>"
      ],
      "text/plain": [
       "<IPython.core.display.HTML object>"
      ]
     },
     "metadata": {},
     "output_type": "display_data"
    },
    {
     "data": {
      "text/html": [
       "Syncing run <strong><a href='https://wandb.ai/bind-gps/BindGPS/runs/2pw47b0o' target=\"_blank\">hearty-sweep-48</a></strong> to <a href='https://wandb.ai/bind-gps/BindGPS' target=\"_blank\">Weights & Biases</a> (<a href='https://wandb.me/developer-guide' target=\"_blank\">docs</a>)<br>Sweep page: <a href='https://wandb.ai/bind-gps/BindGPS/sweeps/79ufxypb' target=\"_blank\">https://wandb.ai/bind-gps/BindGPS/sweeps/79ufxypb</a>"
      ],
      "text/plain": [
       "<IPython.core.display.HTML object>"
      ]
     },
     "metadata": {},
     "output_type": "display_data"
    },
    {
     "data": {
      "text/html": [
       " View project at <a href='https://wandb.ai/bind-gps/BindGPS' target=\"_blank\">https://wandb.ai/bind-gps/BindGPS</a>"
      ],
      "text/plain": [
       "<IPython.core.display.HTML object>"
      ]
     },
     "metadata": {},
     "output_type": "display_data"
    },
    {
     "data": {
      "text/html": [
       " View sweep at <a href='https://wandb.ai/bind-gps/BindGPS/sweeps/79ufxypb' target=\"_blank\">https://wandb.ai/bind-gps/BindGPS/sweeps/79ufxypb</a>"
      ],
      "text/plain": [
       "<IPython.core.display.HTML object>"
      ]
     },
     "metadata": {},
     "output_type": "display_data"
    },
    {
     "data": {
      "text/html": [
       " View run at <a href='https://wandb.ai/bind-gps/BindGPS/runs/2pw47b0o' target=\"_blank\">https://wandb.ai/bind-gps/BindGPS/runs/2pw47b0o</a>"
      ],
      "text/plain": [
       "<IPython.core.display.HTML object>"
      ]
     },
     "metadata": {},
     "output_type": "display_data"
    },
    {
     "name": "stderr",
     "output_type": "stream",
     "text": [
      "\u001b[34m\u001b[1mwandb\u001b[0m: \u001b[33mWARNING\u001b[0m Calling wandb.login() after wandb.init() has no effect.\n"
     ]
    },
    {
     "name": "stdout",
     "output_type": "stream",
     "text": [
      "[Epoch 0] Train Loss: 136.2985, Acc: 0.6487\n",
      "[Epoch 0] Val Loss: 31.7201, Val Metrics: {'MulticlassAUROC': 0.804395854473114, 'MulticlassAUPRC': 0.6464470624923706, 'MulticlassAccuracy': 0.6804142594337463}\n",
      "[Epoch 1] Train Loss: 126.3824, Acc: 0.6772\n",
      "[Epoch 1] Val Loss: 31.0888, Val Metrics: {'MulticlassAUROC': 0.8126688599586487, 'MulticlassAUPRC': 0.6599007248878479, 'MulticlassAccuracy': 0.6894985437393188}\n",
      "[Epoch 2] Train Loss: 123.7263, Acc: 0.6865\n",
      "[Epoch 2] Val Loss: 30.6940, Val Metrics: {'MulticlassAUROC': 0.8172609806060791, 'MulticlassAUPRC': 0.6663717031478882, 'MulticlassAccuracy': 0.6911337375640869}\n",
      "[Epoch 3] Train Loss: 122.8386, Acc: 0.6893\n",
      "[Epoch 3] Val Loss: 30.4934, Val Metrics: {'MulticlassAUROC': 0.8197804093360901, 'MulticlassAUPRC': 0.6701828837394714, 'MulticlassAccuracy': 0.6911337375640869}\n",
      "[Epoch 4] Train Loss: 121.7541, Acc: 0.6925\n",
      "[Epoch 4] Val Loss: 30.5221, Val Metrics: {'MulticlassAUROC': 0.8207104802131653, 'MulticlassAUPRC': 0.6698374152183533, 'MulticlassAccuracy': 0.6909520626068115}\n",
      "[Epoch 5] Train Loss: 121.0177, Acc: 0.6954\n",
      "[Epoch 5] Val Loss: 30.8253, Val Metrics: {'MulticlassAUROC': 0.8172758221626282, 'MulticlassAUPRC': 0.6680987477302551, 'MulticlassAccuracy': 0.6894985437393188}\n",
      "[Epoch 6] Train Loss: 120.4463, Acc: 0.6942\n",
      "[Epoch 6] Val Loss: 30.3174, Val Metrics: {'MulticlassAUROC': 0.8201566338539124, 'MulticlassAUPRC': 0.6701951622962952, 'MulticlassAccuracy': 0.6949491500854492}\n",
      "[Epoch 7] Train Loss: 119.4640, Acc: 0.6975\n",
      "[Epoch 7] Val Loss: 30.0014, Val Metrics: {'MulticlassAUROC': 0.8233891129493713, 'MulticlassAUPRC': 0.6751952171325684, 'MulticlassAccuracy': 0.6949491500854492}\n",
      "[Epoch 8] Train Loss: 119.3789, Acc: 0.6999\n",
      "[Epoch 8] Val Loss: 30.2906, Val Metrics: {'MulticlassAUROC': 0.8241150379180908, 'MulticlassAUPRC': 0.6748921275138855, 'MulticlassAccuracy': 0.6914970874786377}\n",
      "[Epoch 9] Train Loss: 118.3587, Acc: 0.7030\n",
      "[Epoch 9] Val Loss: 30.1078, Val Metrics: {'MulticlassAUROC': 0.8232359290122986, 'MulticlassAUPRC': 0.6756916046142578, 'MulticlassAccuracy': 0.6942223906517029}\n"
     ]
    },
    {
     "data": {
      "text/html": [],
      "text/plain": [
       "<IPython.core.display.HTML object>"
      ]
     },
     "metadata": {},
     "output_type": "display_data"
    },
    {
     "data": {
      "text/html": [
       "<br>    <style><br>        .wandb-row {<br>            display: flex;<br>            flex-direction: row;<br>            flex-wrap: wrap;<br>            justify-content: flex-start;<br>            width: 100%;<br>        }<br>        .wandb-col {<br>            display: flex;<br>            flex-direction: column;<br>            flex-basis: 100%;<br>            flex: 1;<br>            padding: 10px;<br>        }<br>    </style><br><div class=\"wandb-row\"><div class=\"wandb-col\"><h3>Run history:</h3><br/><table class=\"wandb\"><tr><td>epoch</td><td>▁▂▃▃▄▅▆▆▇█</td></tr><tr><td>train_accuracy</td><td>▁▅▆▆▇▇▇▇██</td></tr><tr><td>train_loss</td><td>█▄▃▃▂▂▂▁▁▁</td></tr><tr><td>val_MulticlassAUPRC</td><td>▁▄▆▇▇▆▇███</td></tr><tr><td>val_MulticlassAUROC</td><td>▁▄▆▆▇▆▇███</td></tr><tr><td>val_MulticlassAccuracy</td><td>▁▅▆▆▆▅██▆█</td></tr><tr><td>val_loss</td><td>█▅▄▃▃▄▂▁▂▁</td></tr></table><br/></div><div class=\"wandb-col\"><h3>Run summary:</h3><br/><table class=\"wandb\"><tr><td>epoch</td><td>9</td></tr><tr><td>train_accuracy</td><td>0.70304</td></tr><tr><td>train_loss</td><td>118.35872</td></tr><tr><td>val_MulticlassAUPRC</td><td>0.67569</td></tr><tr><td>val_MulticlassAUROC</td><td>0.82324</td></tr><tr><td>val_MulticlassAccuracy</td><td>0.69422</td></tr><tr><td>val_loss</td><td>30.10777</td></tr></table><br/></div></div>"
      ],
      "text/plain": [
       "<IPython.core.display.HTML object>"
      ]
     },
     "metadata": {},
     "output_type": "display_data"
    },
    {
     "data": {
      "text/html": [
       " View run <strong style=\"color:#cdcd00\">gene_5kb_64_0.001</strong> at: <a href='https://wandb.ai/bind-gps/BindGPS/runs/2pw47b0o' target=\"_blank\">https://wandb.ai/bind-gps/BindGPS/runs/2pw47b0o</a><br> View project at: <a href='https://wandb.ai/bind-gps/BindGPS' target=\"_blank\">https://wandb.ai/bind-gps/BindGPS</a><br>Synced 5 W&B file(s), 0 media file(s), 0 artifact file(s) and 0 other file(s)"
      ],
      "text/plain": [
       "<IPython.core.display.HTML object>"
      ]
     },
     "metadata": {},
     "output_type": "display_data"
    },
    {
     "data": {
      "text/html": [
       "Find logs at: <code>./wandb/run-20251002_140834-2pw47b0o/logs</code>"
      ],
      "text/plain": [
       "<IPython.core.display.HTML object>"
      ]
     },
     "metadata": {},
     "output_type": "display_data"
    },
    {
     "name": "stderr",
     "output_type": "stream",
     "text": [
      "\u001b[34m\u001b[1mwandb\u001b[0m: Agent Starting Run: 7z37iwwo with config:\n",
      "\u001b[34m\u001b[1mwandb\u001b[0m: \tbatch_size: 128\n",
      "\u001b[34m\u001b[1mwandb\u001b[0m: \tepochs: 10\n",
      "\u001b[34m\u001b[1mwandb\u001b[0m: \thidden_dims: [256, 128]\n",
      "\u001b[34m\u001b[1mwandb\u001b[0m: \tlr: 0.001\n",
      "\u001b[34m\u001b[1mwandb\u001b[0m: \tresolution: 5kb\n",
      "\u001b[34m\u001b[1mwandb\u001b[0m: \tsvd_dim: 128\n",
      "\u001b[34m\u001b[1mwandb\u001b[0m: \ttarget_metric: MulticlassAUROC\n",
      "\u001b[34m\u001b[1mwandb\u001b[0m: \ttask: mre\n",
      "\u001b[34m\u001b[1mwandb\u001b[0m: \tweighted: True\n",
      "\u001b[34m\u001b[1mwandb\u001b[0m: \u001b[32m\u001b[41mERROR\u001b[0m Failed to detect the name of this notebook. You can set it manually with the WANDB_NOTEBOOK_NAME environment variable to enable code saving.\n"
     ]
    },
    {
     "data": {
      "text/html": [],
      "text/plain": [
       "<IPython.core.display.HTML object>"
      ]
     },
     "metadata": {},
     "output_type": "display_data"
    },
    {
     "data": {
      "text/html": [
       "Tracking run with wandb version 0.22.1"
      ],
      "text/plain": [
       "<IPython.core.display.HTML object>"
      ]
     },
     "metadata": {},
     "output_type": "display_data"
    },
    {
     "data": {
      "text/html": [
       "Run data is saved locally in <code>/oscar/data/larschan/shared_data/BindGPS/model/wandb/run-20251002_140844-7z37iwwo</code>"
      ],
      "text/plain": [
       "<IPython.core.display.HTML object>"
      ]
     },
     "metadata": {},
     "output_type": "display_data"
    },
    {
     "data": {
      "text/html": [
       "Syncing run <strong><a href='https://wandb.ai/bind-gps/BindGPS/runs/7z37iwwo' target=\"_blank\">stilted-sweep-49</a></strong> to <a href='https://wandb.ai/bind-gps/BindGPS' target=\"_blank\">Weights & Biases</a> (<a href='https://wandb.me/developer-guide' target=\"_blank\">docs</a>)<br>Sweep page: <a href='https://wandb.ai/bind-gps/BindGPS/sweeps/79ufxypb' target=\"_blank\">https://wandb.ai/bind-gps/BindGPS/sweeps/79ufxypb</a>"
      ],
      "text/plain": [
       "<IPython.core.display.HTML object>"
      ]
     },
     "metadata": {},
     "output_type": "display_data"
    },
    {
     "data": {
      "text/html": [
       " View project at <a href='https://wandb.ai/bind-gps/BindGPS' target=\"_blank\">https://wandb.ai/bind-gps/BindGPS</a>"
      ],
      "text/plain": [
       "<IPython.core.display.HTML object>"
      ]
     },
     "metadata": {},
     "output_type": "display_data"
    },
    {
     "data": {
      "text/html": [
       " View sweep at <a href='https://wandb.ai/bind-gps/BindGPS/sweeps/79ufxypb' target=\"_blank\">https://wandb.ai/bind-gps/BindGPS/sweeps/79ufxypb</a>"
      ],
      "text/plain": [
       "<IPython.core.display.HTML object>"
      ]
     },
     "metadata": {},
     "output_type": "display_data"
    },
    {
     "data": {
      "text/html": [
       " View run at <a href='https://wandb.ai/bind-gps/BindGPS/runs/7z37iwwo' target=\"_blank\">https://wandb.ai/bind-gps/BindGPS/runs/7z37iwwo</a>"
      ],
      "text/plain": [
       "<IPython.core.display.HTML object>"
      ]
     },
     "metadata": {},
     "output_type": "display_data"
    },
    {
     "name": "stderr",
     "output_type": "stream",
     "text": [
      "\u001b[34m\u001b[1mwandb\u001b[0m: \u001b[33mWARNING\u001b[0m Calling wandb.login() after wandb.init() has no effect.\n"
     ]
    },
    {
     "name": "stdout",
     "output_type": "stream",
     "text": [
      "[Epoch 0] Train Loss: 158.4689, Acc: 0.5180\n",
      "[Epoch 0] Val Loss: 35.6721, Val Metrics: {'MulticlassAUROC': 0.7699354290962219, 'MulticlassAUPRC': 0.6187968850135803, 'MulticlassAccuracy': 0.5772165656089783}\n",
      "[Epoch 1] Train Loss: 141.1400, Acc: 0.5856\n",
      "[Epoch 1] Val Loss: 34.3481, Val Metrics: {'MulticlassAUROC': 0.7900032997131348, 'MulticlassAUPRC': 0.6439768671989441, 'MulticlassAccuracy': 0.6004723906517029}\n",
      "[Epoch 2] Train Loss: 137.2293, Acc: 0.6050\n",
      "[Epoch 2] Val Loss: 34.1560, Val Metrics: {'MulticlassAUROC': 0.8058000206947327, 'MulticlassAUPRC': 0.6616427302360535, 'MulticlassAccuracy': 0.6286337375640869}\n",
      "[Epoch 3] Train Loss: 133.6791, Acc: 0.6188\n",
      "[Epoch 3] Val Loss: 33.4971, Val Metrics: {'MulticlassAUROC': 0.7989475131034851, 'MulticlassAUPRC': 0.656364381313324, 'MulticlassAccuracy': 0.6160973906517029}\n",
      "[Epoch 4] Train Loss: 131.1156, Acc: 0.6211\n",
      "[Epoch 4] Val Loss: 33.5525, Val Metrics: {'MulticlassAUROC': 0.8015517592430115, 'MulticlassAUPRC': 0.6554933190345764, 'MulticlassAccuracy': 0.6121003031730652}\n",
      "[Epoch 5] Train Loss: 129.1215, Acc: 0.6305\n",
      "[Epoch 5] Val Loss: 33.4813, Val Metrics: {'MulticlassAUROC': 0.8000662922859192, 'MulticlassAUPRC': 0.6588833332061768, 'MulticlassAccuracy': 0.612463653087616}\n",
      "[Epoch 6] Train Loss: 127.5643, Acc: 0.6357\n",
      "[Epoch 6] Val Loss: 33.4350, Val Metrics: {'MulticlassAUROC': 0.8072077631950378, 'MulticlassAUPRC': 0.6640775203704834, 'MulticlassAccuracy': 0.6328125}\n",
      "[Epoch 7] Train Loss: 125.6469, Acc: 0.6379\n",
      "[Epoch 7] Val Loss: 33.6551, Val Metrics: {'MulticlassAUROC': 0.8052793145179749, 'MulticlassAUPRC': 0.6631317734718323, 'MulticlassAccuracy': 0.6195493936538696}\n",
      "[Epoch 8] Train Loss: 124.6725, Acc: 0.6418\n",
      "[Epoch 8] Val Loss: 33.6850, Val Metrics: {'MulticlassAUROC': 0.8039034008979797, 'MulticlassAUPRC': 0.6585712432861328, 'MulticlassAccuracy': 0.6180959343910217}\n",
      "[Epoch 9] Train Loss: 123.4665, Acc: 0.6424\n",
      "[Epoch 9] Val Loss: 34.2298, Val Metrics: {'MulticlassAUROC': 0.8070440888404846, 'MulticlassAUPRC': 0.664301335811615, 'MulticlassAccuracy': 0.6393532156944275}\n"
     ]
    },
    {
     "data": {
      "text/html": [],
      "text/plain": [
       "<IPython.core.display.HTML object>"
      ]
     },
     "metadata": {},
     "output_type": "display_data"
    },
    {
     "data": {
      "text/html": [
       "<br>    <style><br>        .wandb-row {<br>            display: flex;<br>            flex-direction: row;<br>            flex-wrap: wrap;<br>            justify-content: flex-start;<br>            width: 100%;<br>        }<br>        .wandb-col {<br>            display: flex;<br>            flex-direction: column;<br>            flex-basis: 100%;<br>            flex: 1;<br>            padding: 10px;<br>        }<br>    </style><br><div class=\"wandb-row\"><div class=\"wandb-col\"><h3>Run history:</h3><br/><table class=\"wandb\"><tr><td>epoch</td><td>▁▂▃▃▄▅▆▆▇█</td></tr><tr><td>train_accuracy</td><td>▁▅▆▇▇▇████</td></tr><tr><td>train_loss</td><td>█▅▄▃▃▂▂▁▁▁</td></tr><tr><td>val_MulticlassAUPRC</td><td>▁▅█▇▇▇██▇█</td></tr><tr><td>val_MulticlassAUROC</td><td>▁▅█▆▇▇██▇█</td></tr><tr><td>val_MulticlassAccuracy</td><td>▁▄▇▅▅▅▇▆▆█</td></tr><tr><td>val_loss</td><td>█▄▃▁▁▁▁▂▂▃</td></tr></table><br/></div><div class=\"wandb-col\"><h3>Run summary:</h3><br/><table class=\"wandb\"><tr><td>epoch</td><td>9</td></tr><tr><td>train_accuracy</td><td>0.64244</td></tr><tr><td>train_loss</td><td>123.46649</td></tr><tr><td>val_MulticlassAUPRC</td><td>0.6643</td></tr><tr><td>val_MulticlassAUROC</td><td>0.80704</td></tr><tr><td>val_MulticlassAccuracy</td><td>0.63935</td></tr><tr><td>val_loss</td><td>34.22981</td></tr></table><br/></div></div>"
      ],
      "text/plain": [
       "<IPython.core.display.HTML object>"
      ]
     },
     "metadata": {},
     "output_type": "display_data"
    },
    {
     "data": {
      "text/html": [
       " View run <strong style=\"color:#cdcd00\">mre_5kb_128_0.001</strong> at: <a href='https://wandb.ai/bind-gps/BindGPS/runs/7z37iwwo' target=\"_blank\">https://wandb.ai/bind-gps/BindGPS/runs/7z37iwwo</a><br> View project at: <a href='https://wandb.ai/bind-gps/BindGPS' target=\"_blank\">https://wandb.ai/bind-gps/BindGPS</a><br>Synced 5 W&B file(s), 0 media file(s), 0 artifact file(s) and 0 other file(s)"
      ],
      "text/plain": [
       "<IPython.core.display.HTML object>"
      ]
     },
     "metadata": {},
     "output_type": "display_data"
    },
    {
     "data": {
      "text/html": [
       "Find logs at: <code>./wandb/run-20251002_140844-7z37iwwo/logs</code>"
      ],
      "text/plain": [
       "<IPython.core.display.HTML object>"
      ]
     },
     "metadata": {},
     "output_type": "display_data"
    },
    {
     "name": "stderr",
     "output_type": "stream",
     "text": [
      "\u001b[34m\u001b[1mwandb\u001b[0m: Agent Starting Run: xtl7k9ko with config:\n",
      "\u001b[34m\u001b[1mwandb\u001b[0m: \tbatch_size: 128\n",
      "\u001b[34m\u001b[1mwandb\u001b[0m: \tepochs: 10\n",
      "\u001b[34m\u001b[1mwandb\u001b[0m: \thidden_dims: [256, 128]\n",
      "\u001b[34m\u001b[1mwandb\u001b[0m: \tlr: 0.001\n",
      "\u001b[34m\u001b[1mwandb\u001b[0m: \tresolution: 5kb\n",
      "\u001b[34m\u001b[1mwandb\u001b[0m: \tsvd_dim: 128\n",
      "\u001b[34m\u001b[1mwandb\u001b[0m: \ttarget_metric: MulticlassAUROC\n",
      "\u001b[34m\u001b[1mwandb\u001b[0m: \ttask: mre\n",
      "\u001b[34m\u001b[1mwandb\u001b[0m: \tweighted: False\n",
      "\u001b[34m\u001b[1mwandb\u001b[0m: \u001b[32m\u001b[41mERROR\u001b[0m Failed to detect the name of this notebook. You can set it manually with the WANDB_NOTEBOOK_NAME environment variable to enable code saving.\n"
     ]
    },
    {
     "data": {
      "text/html": [],
      "text/plain": [
       "<IPython.core.display.HTML object>"
      ]
     },
     "metadata": {},
     "output_type": "display_data"
    },
    {
     "data": {
      "text/html": [
       "Tracking run with wandb version 0.22.1"
      ],
      "text/plain": [
       "<IPython.core.display.HTML object>"
      ]
     },
     "metadata": {},
     "output_type": "display_data"
    },
    {
     "data": {
      "text/html": [
       "Run data is saved locally in <code>/oscar/data/larschan/shared_data/BindGPS/model/wandb/run-20251002_140854-xtl7k9ko</code>"
      ],
      "text/plain": [
       "<IPython.core.display.HTML object>"
      ]
     },
     "metadata": {},
     "output_type": "display_data"
    },
    {
     "data": {
      "text/html": [
       "Syncing run <strong><a href='https://wandb.ai/bind-gps/BindGPS/runs/xtl7k9ko' target=\"_blank\">silver-sweep-50</a></strong> to <a href='https://wandb.ai/bind-gps/BindGPS' target=\"_blank\">Weights & Biases</a> (<a href='https://wandb.me/developer-guide' target=\"_blank\">docs</a>)<br>Sweep page: <a href='https://wandb.ai/bind-gps/BindGPS/sweeps/79ufxypb' target=\"_blank\">https://wandb.ai/bind-gps/BindGPS/sweeps/79ufxypb</a>"
      ],
      "text/plain": [
       "<IPython.core.display.HTML object>"
      ]
     },
     "metadata": {},
     "output_type": "display_data"
    },
    {
     "data": {
      "text/html": [
       " View project at <a href='https://wandb.ai/bind-gps/BindGPS' target=\"_blank\">https://wandb.ai/bind-gps/BindGPS</a>"
      ],
      "text/plain": [
       "<IPython.core.display.HTML object>"
      ]
     },
     "metadata": {},
     "output_type": "display_data"
    },
    {
     "data": {
      "text/html": [
       " View sweep at <a href='https://wandb.ai/bind-gps/BindGPS/sweeps/79ufxypb' target=\"_blank\">https://wandb.ai/bind-gps/BindGPS/sweeps/79ufxypb</a>"
      ],
      "text/plain": [
       "<IPython.core.display.HTML object>"
      ]
     },
     "metadata": {},
     "output_type": "display_data"
    },
    {
     "data": {
      "text/html": [
       " View run at <a href='https://wandb.ai/bind-gps/BindGPS/runs/xtl7k9ko' target=\"_blank\">https://wandb.ai/bind-gps/BindGPS/runs/xtl7k9ko</a>"
      ],
      "text/plain": [
       "<IPython.core.display.HTML object>"
      ]
     },
     "metadata": {},
     "output_type": "display_data"
    },
    {
     "name": "stderr",
     "output_type": "stream",
     "text": [
      "\u001b[34m\u001b[1mwandb\u001b[0m: \u001b[33mWARNING\u001b[0m Calling wandb.login() after wandb.init() has no effect.\n"
     ]
    },
    {
     "name": "stdout",
     "output_type": "stream",
     "text": [
      "[Epoch 0] Train Loss: 142.7804, Acc: 0.5883\n",
      "[Epoch 0] Val Loss: 32.3015, Val Metrics: {'MulticlassAUROC': 0.7895976901054382, 'MulticlassAUPRC': 0.6340470910072327, 'MulticlassAccuracy': 0.6409883499145508}\n",
      "[Epoch 1] Train Loss: 128.1065, Acc: 0.6407\n",
      "[Epoch 1] Val Loss: 31.1603, Val Metrics: {'MulticlassAUROC': 0.8031565546989441, 'MulticlassAUPRC': 0.6532489657402039, 'MulticlassAccuracy': 0.6537063717842102}\n",
      "[Epoch 2] Train Loss: 123.3782, Acc: 0.6616\n",
      "[Epoch 2] Val Loss: 30.5968, Val Metrics: {'MulticlassAUROC': 0.8091840147972107, 'MulticlassAUPRC': 0.6593304872512817, 'MulticlassAccuracy': 0.6649709343910217}\n",
      "[Epoch 3] Train Loss: 121.2259, Acc: 0.6668\n",
      "[Epoch 3] Val Loss: 30.3553, Val Metrics: {'MulticlassAUROC': 0.8116433024406433, 'MulticlassAUPRC': 0.6653573513031006, 'MulticlassAccuracy': 0.663517415523529}\n",
      "[Epoch 4] Train Loss: 119.3187, Acc: 0.6756\n",
      "[Epoch 4] Val Loss: 30.2532, Val Metrics: {'MulticlassAUROC': 0.8141608238220215, 'MulticlassAUPRC': 0.6689831614494324, 'MulticlassAccuracy': 0.6744186282157898}\n",
      "[Epoch 5] Train Loss: 118.1880, Acc: 0.6756\n",
      "[Epoch 5] Val Loss: 30.1235, Val Metrics: {'MulticlassAUROC': 0.8170726299285889, 'MulticlassAUPRC': 0.6728340983390808, 'MulticlassAccuracy': 0.6666061282157898}\n",
      "[Epoch 6] Train Loss: 116.7554, Acc: 0.6814\n",
      "[Epoch 6] Val Loss: 30.0083, Val Metrics: {'MulticlassAUROC': 0.8167831897735596, 'MulticlassAUPRC': 0.6739054322242737, 'MulticlassAccuracy': 0.6686046719551086}\n",
      "[Epoch 7] Train Loss: 115.4692, Acc: 0.6869\n",
      "[Epoch 7] Val Loss: 30.4395, Val Metrics: {'MulticlassAUROC': 0.8172283172607422, 'MulticlassAUPRC': 0.674161434173584, 'MulticlassAccuracy': 0.6622456312179565}\n",
      "[Epoch 8] Train Loss: 115.0212, Acc: 0.6872\n",
      "[Epoch 8] Val Loss: 29.9434, Val Metrics: {'MulticlassAUROC': 0.8180747032165527, 'MulticlassAUPRC': 0.675478458404541, 'MulticlassAccuracy': 0.6729651093482971}\n",
      "[Epoch 9] Train Loss: 114.0317, Acc: 0.6895\n",
      "[Epoch 9] Val Loss: 29.9541, Val Metrics: {'MulticlassAUROC': 0.8170156478881836, 'MulticlassAUPRC': 0.6766493320465088, 'MulticlassAccuracy': 0.6709665656089783}\n"
     ]
    },
    {
     "data": {
      "text/html": [],
      "text/plain": [
       "<IPython.core.display.HTML object>"
      ]
     },
     "metadata": {},
     "output_type": "display_data"
    },
    {
     "data": {
      "text/html": [
       "<br>    <style><br>        .wandb-row {<br>            display: flex;<br>            flex-direction: row;<br>            flex-wrap: wrap;<br>            justify-content: flex-start;<br>            width: 100%;<br>        }<br>        .wandb-col {<br>            display: flex;<br>            flex-direction: column;<br>            flex-basis: 100%;<br>            flex: 1;<br>            padding: 10px;<br>        }<br>    </style><br><div class=\"wandb-row\"><div class=\"wandb-col\"><h3>Run history:</h3><br/><table class=\"wandb\"><tr><td>epoch</td><td>▁▂▃▃▄▅▆▆▇█</td></tr><tr><td>train_accuracy</td><td>▁▅▆▆▇▇▇███</td></tr><tr><td>train_loss</td><td>█▄▃▃▂▂▂▁▁▁</td></tr><tr><td>val_MulticlassAUPRC</td><td>▁▄▅▆▇▇████</td></tr><tr><td>val_MulticlassAUROC</td><td>▁▄▆▆▇█████</td></tr><tr><td>val_MulticlassAccuracy</td><td>▁▄▆▆█▆▇▅█▇</td></tr><tr><td>val_loss</td><td>█▅▃▂▂▂▁▂▁▁</td></tr></table><br/></div><div class=\"wandb-col\"><h3>Run summary:</h3><br/><table class=\"wandb\"><tr><td>epoch</td><td>9</td></tr><tr><td>train_accuracy</td><td>0.68946</td></tr><tr><td>train_loss</td><td>114.03174</td></tr><tr><td>val_MulticlassAUPRC</td><td>0.67665</td></tr><tr><td>val_MulticlassAUROC</td><td>0.81702</td></tr><tr><td>val_MulticlassAccuracy</td><td>0.67097</td></tr><tr><td>val_loss</td><td>29.95413</td></tr></table><br/></div></div>"
      ],
      "text/plain": [
       "<IPython.core.display.HTML object>"
      ]
     },
     "metadata": {},
     "output_type": "display_data"
    },
    {
     "data": {
      "text/html": [
       " View run <strong style=\"color:#cdcd00\">mre_5kb_128_0.001</strong> at: <a href='https://wandb.ai/bind-gps/BindGPS/runs/xtl7k9ko' target=\"_blank\">https://wandb.ai/bind-gps/BindGPS/runs/xtl7k9ko</a><br> View project at: <a href='https://wandb.ai/bind-gps/BindGPS' target=\"_blank\">https://wandb.ai/bind-gps/BindGPS</a><br>Synced 5 W&B file(s), 0 media file(s), 0 artifact file(s) and 0 other file(s)"
      ],
      "text/plain": [
       "<IPython.core.display.HTML object>"
      ]
     },
     "metadata": {},
     "output_type": "display_data"
    },
    {
     "data": {
      "text/html": [
       "Find logs at: <code>./wandb/run-20251002_140854-xtl7k9ko/logs</code>"
      ],
      "text/plain": [
       "<IPython.core.display.HTML object>"
      ]
     },
     "metadata": {},
     "output_type": "display_data"
    },
    {
     "name": "stderr",
     "output_type": "stream",
     "text": [
      "\u001b[34m\u001b[1mwandb\u001b[0m: Agent Starting Run: zhaikg9h with config:\n",
      "\u001b[34m\u001b[1mwandb\u001b[0m: \tbatch_size: 128\n",
      "\u001b[34m\u001b[1mwandb\u001b[0m: \tepochs: 10\n",
      "\u001b[34m\u001b[1mwandb\u001b[0m: \thidden_dims: [256, 128]\n",
      "\u001b[34m\u001b[1mwandb\u001b[0m: \tlr: 0.001\n",
      "\u001b[34m\u001b[1mwandb\u001b[0m: \tresolution: 5kb\n",
      "\u001b[34m\u001b[1mwandb\u001b[0m: \tsvd_dim: 128\n",
      "\u001b[34m\u001b[1mwandb\u001b[0m: \ttarget_metric: MulticlassAUROC\n",
      "\u001b[34m\u001b[1mwandb\u001b[0m: \ttask: gene\n",
      "\u001b[34m\u001b[1mwandb\u001b[0m: \tweighted: True\n",
      "\u001b[34m\u001b[1mwandb\u001b[0m: \u001b[32m\u001b[41mERROR\u001b[0m Failed to detect the name of this notebook. You can set it manually with the WANDB_NOTEBOOK_NAME environment variable to enable code saving.\n"
     ]
    },
    {
     "data": {
      "text/html": [],
      "text/plain": [
       "<IPython.core.display.HTML object>"
      ]
     },
     "metadata": {},
     "output_type": "display_data"
    },
    {
     "data": {
      "text/html": [
       "Tracking run with wandb version 0.22.1"
      ],
      "text/plain": [
       "<IPython.core.display.HTML object>"
      ]
     },
     "metadata": {},
     "output_type": "display_data"
    },
    {
     "data": {
      "text/html": [
       "Run data is saved locally in <code>/oscar/data/larschan/shared_data/BindGPS/model/wandb/run-20251002_140910-zhaikg9h</code>"
      ],
      "text/plain": [
       "<IPython.core.display.HTML object>"
      ]
     },
     "metadata": {},
     "output_type": "display_data"
    },
    {
     "data": {
      "text/html": [
       "Syncing run <strong><a href='https://wandb.ai/bind-gps/BindGPS/runs/zhaikg9h' target=\"_blank\">radiant-sweep-51</a></strong> to <a href='https://wandb.ai/bind-gps/BindGPS' target=\"_blank\">Weights & Biases</a> (<a href='https://wandb.me/developer-guide' target=\"_blank\">docs</a>)<br>Sweep page: <a href='https://wandb.ai/bind-gps/BindGPS/sweeps/79ufxypb' target=\"_blank\">https://wandb.ai/bind-gps/BindGPS/sweeps/79ufxypb</a>"
      ],
      "text/plain": [
       "<IPython.core.display.HTML object>"
      ]
     },
     "metadata": {},
     "output_type": "display_data"
    },
    {
     "data": {
      "text/html": [
       " View project at <a href='https://wandb.ai/bind-gps/BindGPS' target=\"_blank\">https://wandb.ai/bind-gps/BindGPS</a>"
      ],
      "text/plain": [
       "<IPython.core.display.HTML object>"
      ]
     },
     "metadata": {},
     "output_type": "display_data"
    },
    {
     "data": {
      "text/html": [
       " View sweep at <a href='https://wandb.ai/bind-gps/BindGPS/sweeps/79ufxypb' target=\"_blank\">https://wandb.ai/bind-gps/BindGPS/sweeps/79ufxypb</a>"
      ],
      "text/plain": [
       "<IPython.core.display.HTML object>"
      ]
     },
     "metadata": {},
     "output_type": "display_data"
    },
    {
     "data": {
      "text/html": [
       " View run at <a href='https://wandb.ai/bind-gps/BindGPS/runs/zhaikg9h' target=\"_blank\">https://wandb.ai/bind-gps/BindGPS/runs/zhaikg9h</a>"
      ],
      "text/plain": [
       "<IPython.core.display.HTML object>"
      ]
     },
     "metadata": {},
     "output_type": "display_data"
    },
    {
     "name": "stderr",
     "output_type": "stream",
     "text": [
      "\u001b[34m\u001b[1mwandb\u001b[0m: \u001b[33mWARNING\u001b[0m Calling wandb.login() after wandb.init() has no effect.\n"
     ]
    },
    {
     "name": "stdout",
     "output_type": "stream",
     "text": [
      "[Epoch 0] Train Loss: 151.0501, Acc: 0.5936\n",
      "[Epoch 0] Val Loss: 34.5973, Val Metrics: {'MulticlassAUROC': 0.8124861121177673, 'MulticlassAUPRC': 0.6564461588859558, 'MulticlassAccuracy': 0.635901153087616}\n",
      "[Epoch 1] Train Loss: 137.7784, Acc: 0.6463\n",
      "[Epoch 1] Val Loss: 33.7342, Val Metrics: {'MulticlassAUROC': 0.821896493434906, 'MulticlassAUPRC': 0.6679276823997498, 'MulticlassAccuracy': 0.6438953280448914}\n",
      "[Epoch 2] Train Loss: 134.5144, Acc: 0.6526\n",
      "[Epoch 2] Val Loss: 33.4694, Val Metrics: {'MulticlassAUROC': 0.827264130115509, 'MulticlassAUPRC': 0.6735210418701172, 'MulticlassAccuracy': 0.6606104373931885}\n",
      "[Epoch 3] Train Loss: 131.7323, Acc: 0.6612\n",
      "[Epoch 3] Val Loss: 33.0521, Val Metrics: {'MulticlassAUROC': 0.8289172649383545, 'MulticlassAUPRC': 0.6756945252418518, 'MulticlassAccuracy': 0.6582485437393188}\n",
      "[Epoch 4] Train Loss: 129.6723, Acc: 0.6658\n",
      "[Epoch 4] Val Loss: 32.9240, Val Metrics: {'MulticlassAUROC': 0.8262059092521667, 'MulticlassAUPRC': 0.6717396378517151, 'MulticlassAccuracy': 0.6418967843055725}\n",
      "[Epoch 5] Train Loss: 128.1088, Acc: 0.6670\n",
      "[Epoch 5] Val Loss: 32.8731, Val Metrics: {'MulticlassAUROC': 0.8296770453453064, 'MulticlassAUPRC': 0.6784785389900208, 'MulticlassAccuracy': 0.6524345874786377}\n",
      "[Epoch 6] Train Loss: 127.3938, Acc: 0.6688\n",
      "[Epoch 6] Val Loss: 32.8874, Val Metrics: {'MulticlassAUROC': 0.8322826027870178, 'MulticlassAUPRC': 0.6816175580024719, 'MulticlassAccuracy': 0.6642441749572754}\n",
      "[Epoch 7] Train Loss: 125.3527, Acc: 0.6724\n",
      "[Epoch 7] Val Loss: 32.8586, Val Metrics: {'MulticlassAUROC': 0.8315029740333557, 'MulticlassAUPRC': 0.6767976880073547, 'MulticlassAccuracy': 0.6569767594337463}\n",
      "[Epoch 8] Train Loss: 124.0964, Acc: 0.6780\n",
      "[Epoch 8] Val Loss: 32.8757, Val Metrics: {'MulticlassAUROC': 0.8318948149681091, 'MulticlassAUPRC': 0.6805830001831055, 'MulticlassAccuracy': 0.6611555218696594}\n",
      "[Epoch 9] Train Loss: 122.9177, Acc: 0.6793\n",
      "[Epoch 9] Val Loss: 32.8151, Val Metrics: {'MulticlassAUROC': 0.8312879204750061, 'MulticlassAUPRC': 0.6799288392066956, 'MulticlassAccuracy': 0.6647892594337463}\n"
     ]
    },
    {
     "data": {
      "text/html": [],
      "text/plain": [
       "<IPython.core.display.HTML object>"
      ]
     },
     "metadata": {},
     "output_type": "display_data"
    },
    {
     "data": {
      "text/html": [
       "<br>    <style><br>        .wandb-row {<br>            display: flex;<br>            flex-direction: row;<br>            flex-wrap: wrap;<br>            justify-content: flex-start;<br>            width: 100%;<br>        }<br>        .wandb-col {<br>            display: flex;<br>            flex-direction: column;<br>            flex-basis: 100%;<br>            flex: 1;<br>            padding: 10px;<br>        }<br>    </style><br><div class=\"wandb-row\"><div class=\"wandb-col\"><h3>Run history:</h3><br/><table class=\"wandb\"><tr><td>epoch</td><td>▁▂▃▃▄▅▆▆▇█</td></tr><tr><td>train_accuracy</td><td>▁▅▆▇▇▇▇▇██</td></tr><tr><td>train_loss</td><td>█▅▄▃▃▂▂▂▁▁</td></tr><tr><td>val_MulticlassAUPRC</td><td>▁▄▆▆▅▇█▇██</td></tr><tr><td>val_MulticlassAUROC</td><td>▁▄▆▇▆▇████</td></tr><tr><td>val_MulticlassAccuracy</td><td>▁▃▇▆▂▅█▆▇█</td></tr><tr><td>val_loss</td><td>█▅▄▂▁▁▁▁▁▁</td></tr></table><br/></div><div class=\"wandb-col\"><h3>Run summary:</h3><br/><table class=\"wandb\"><tr><td>epoch</td><td>9</td></tr><tr><td>train_accuracy</td><td>0.67928</td></tr><tr><td>train_loss</td><td>122.91768</td></tr><tr><td>val_MulticlassAUPRC</td><td>0.67993</td></tr><tr><td>val_MulticlassAUROC</td><td>0.83129</td></tr><tr><td>val_MulticlassAccuracy</td><td>0.66479</td></tr><tr><td>val_loss</td><td>32.81512</td></tr></table><br/></div></div>"
      ],
      "text/plain": [
       "<IPython.core.display.HTML object>"
      ]
     },
     "metadata": {},
     "output_type": "display_data"
    },
    {
     "data": {
      "text/html": [
       " View run <strong style=\"color:#cdcd00\">gene_5kb_128_0.001</strong> at: <a href='https://wandb.ai/bind-gps/BindGPS/runs/zhaikg9h' target=\"_blank\">https://wandb.ai/bind-gps/BindGPS/runs/zhaikg9h</a><br> View project at: <a href='https://wandb.ai/bind-gps/BindGPS' target=\"_blank\">https://wandb.ai/bind-gps/BindGPS</a><br>Synced 5 W&B file(s), 0 media file(s), 0 artifact file(s) and 0 other file(s)"
      ],
      "text/plain": [
       "<IPython.core.display.HTML object>"
      ]
     },
     "metadata": {},
     "output_type": "display_data"
    },
    {
     "data": {
      "text/html": [
       "Find logs at: <code>./wandb/run-20251002_140910-zhaikg9h/logs</code>"
      ],
      "text/plain": [
       "<IPython.core.display.HTML object>"
      ]
     },
     "metadata": {},
     "output_type": "display_data"
    },
    {
     "name": "stderr",
     "output_type": "stream",
     "text": [
      "\u001b[34m\u001b[1mwandb\u001b[0m: Agent Starting Run: oukde9fg with config:\n",
      "\u001b[34m\u001b[1mwandb\u001b[0m: \tbatch_size: 128\n",
      "\u001b[34m\u001b[1mwandb\u001b[0m: \tepochs: 10\n",
      "\u001b[34m\u001b[1mwandb\u001b[0m: \thidden_dims: [256, 128]\n",
      "\u001b[34m\u001b[1mwandb\u001b[0m: \tlr: 0.001\n",
      "\u001b[34m\u001b[1mwandb\u001b[0m: \tresolution: 5kb\n",
      "\u001b[34m\u001b[1mwandb\u001b[0m: \tsvd_dim: 128\n",
      "\u001b[34m\u001b[1mwandb\u001b[0m: \ttarget_metric: MulticlassAUROC\n",
      "\u001b[34m\u001b[1mwandb\u001b[0m: \ttask: gene\n",
      "\u001b[34m\u001b[1mwandb\u001b[0m: \tweighted: False\n",
      "\u001b[34m\u001b[1mwandb\u001b[0m: \u001b[32m\u001b[41mERROR\u001b[0m Failed to detect the name of this notebook. You can set it manually with the WANDB_NOTEBOOK_NAME environment variable to enable code saving.\n"
     ]
    },
    {
     "data": {
      "text/html": [],
      "text/plain": [
       "<IPython.core.display.HTML object>"
      ]
     },
     "metadata": {},
     "output_type": "display_data"
    },
    {
     "data": {
      "text/html": [
       "Tracking run with wandb version 0.22.1"
      ],
      "text/plain": [
       "<IPython.core.display.HTML object>"
      ]
     },
     "metadata": {},
     "output_type": "display_data"
    },
    {
     "data": {
      "text/html": [
       "Run data is saved locally in <code>/oscar/data/larschan/shared_data/BindGPS/model/wandb/run-20251002_140920-oukde9fg</code>"
      ],
      "text/plain": [
       "<IPython.core.display.HTML object>"
      ]
     },
     "metadata": {},
     "output_type": "display_data"
    },
    {
     "data": {
      "text/html": [
       "Syncing run <strong><a href='https://wandb.ai/bind-gps/BindGPS/runs/oukde9fg' target=\"_blank\">skilled-sweep-52</a></strong> to <a href='https://wandb.ai/bind-gps/BindGPS' target=\"_blank\">Weights & Biases</a> (<a href='https://wandb.me/developer-guide' target=\"_blank\">docs</a>)<br>Sweep page: <a href='https://wandb.ai/bind-gps/BindGPS/sweeps/79ufxypb' target=\"_blank\">https://wandb.ai/bind-gps/BindGPS/sweeps/79ufxypb</a>"
      ],
      "text/plain": [
       "<IPython.core.display.HTML object>"
      ]
     },
     "metadata": {},
     "output_type": "display_data"
    },
    {
     "data": {
      "text/html": [
       " View project at <a href='https://wandb.ai/bind-gps/BindGPS' target=\"_blank\">https://wandb.ai/bind-gps/BindGPS</a>"
      ],
      "text/plain": [
       "<IPython.core.display.HTML object>"
      ]
     },
     "metadata": {},
     "output_type": "display_data"
    },
    {
     "data": {
      "text/html": [
       " View sweep at <a href='https://wandb.ai/bind-gps/BindGPS/sweeps/79ufxypb' target=\"_blank\">https://wandb.ai/bind-gps/BindGPS/sweeps/79ufxypb</a>"
      ],
      "text/plain": [
       "<IPython.core.display.HTML object>"
      ]
     },
     "metadata": {},
     "output_type": "display_data"
    },
    {
     "data": {
      "text/html": [
       " View run at <a href='https://wandb.ai/bind-gps/BindGPS/runs/oukde9fg' target=\"_blank\">https://wandb.ai/bind-gps/BindGPS/runs/oukde9fg</a>"
      ],
      "text/plain": [
       "<IPython.core.display.HTML object>"
      ]
     },
     "metadata": {},
     "output_type": "display_data"
    },
    {
     "name": "stderr",
     "output_type": "stream",
     "text": [
      "\u001b[34m\u001b[1mwandb\u001b[0m: \u001b[33mWARNING\u001b[0m Calling wandb.login() after wandb.init() has no effect.\n"
     ]
    },
    {
     "name": "stdout",
     "output_type": "stream",
     "text": [
      "[Epoch 0] Train Loss: 133.2826, Acc: 0.6580\n",
      "[Epoch 0] Val Loss: 30.2366, Val Metrics: {'MulticlassAUROC': 0.828944206237793, 'MulticlassAUPRC': 0.6850852966308594, 'MulticlassAccuracy': 0.6993095874786377}\n",
      "[Epoch 1] Train Loss: 121.7688, Acc: 0.6920\n",
      "[Epoch 1] Val Loss: 29.6138, Val Metrics: {'MulticlassAUROC': 0.8369385600090027, 'MulticlassAUPRC': 0.6987873911857605, 'MulticlassAccuracy': 0.706213653087616}\n",
      "[Epoch 2] Train Loss: 118.6541, Acc: 0.7038\n",
      "[Epoch 2] Val Loss: 29.1705, Val Metrics: {'MulticlassAUROC': 0.839256763458252, 'MulticlassAUPRC': 0.7014007568359375, 'MulticlassAccuracy': 0.7118459343910217}\n",
      "[Epoch 3] Train Loss: 116.7458, Acc: 0.7031\n",
      "[Epoch 3] Val Loss: 29.0678, Val Metrics: {'MulticlassAUROC': 0.8393110632896423, 'MulticlassAUPRC': 0.7050724625587463, 'MulticlassAccuracy': 0.7145712375640869}\n",
      "[Epoch 4] Train Loss: 115.1061, Acc: 0.7104\n",
      "[Epoch 4] Val Loss: 28.7795, Val Metrics: {'MulticlassAUROC': 0.8441267013549805, 'MulticlassAUPRC': 0.7131741046905518, 'MulticlassAccuracy': 0.7154796719551086}\n",
      "[Epoch 5] Train Loss: 113.2719, Acc: 0.7142\n",
      "[Epoch 5] Val Loss: 28.9034, Val Metrics: {'MulticlassAUROC': 0.8426105976104736, 'MulticlassAUPRC': 0.7109883427619934, 'MulticlassAccuracy': 0.711482584476471}\n",
      "[Epoch 6] Train Loss: 112.3199, Acc: 0.7206\n",
      "[Epoch 6] Val Loss: 28.8661, Val Metrics: {'MulticlassAUROC': 0.8428823351860046, 'MulticlassAUPRC': 0.7124862670898438, 'MulticlassAccuracy': 0.7169331312179565}\n",
      "[Epoch 7] Train Loss: 111.4930, Acc: 0.7199\n",
      "[Epoch 7] Val Loss: 28.7898, Val Metrics: {'MulticlassAUROC': 0.8437210917472839, 'MulticlassAUPRC': 0.7133426666259766, 'MulticlassAccuracy': 0.714026153087616}\n",
      "[Epoch 8] Train Loss: 110.7027, Acc: 0.7215\n",
      "[Epoch 8] Val Loss: 28.7698, Val Metrics: {'MulticlassAUROC': 0.8431496620178223, 'MulticlassAUPRC': 0.7117367386817932, 'MulticlassAccuracy': 0.7152979373931885}\n",
      "[Epoch 9] Train Loss: 110.0909, Acc: 0.7240\n",
      "[Epoch 9] Val Loss: 28.7690, Val Metrics: {'MulticlassAUROC': 0.843607485294342, 'MulticlassAUPRC': 0.7135245203971863, 'MulticlassAccuracy': 0.7127543687820435}\n"
     ]
    },
    {
     "data": {
      "text/html": [],
      "text/plain": [
       "<IPython.core.display.HTML object>"
      ]
     },
     "metadata": {},
     "output_type": "display_data"
    },
    {
     "data": {
      "text/html": [
       "<br>    <style><br>        .wandb-row {<br>            display: flex;<br>            flex-direction: row;<br>            flex-wrap: wrap;<br>            justify-content: flex-start;<br>            width: 100%;<br>        }<br>        .wandb-col {<br>            display: flex;<br>            flex-direction: column;<br>            flex-basis: 100%;<br>            flex: 1;<br>            padding: 10px;<br>        }<br>    </style><br><div class=\"wandb-row\"><div class=\"wandb-col\"><h3>Run history:</h3><br/><table class=\"wandb\"><tr><td>epoch</td><td>▁▂▃▃▄▅▆▆▇█</td></tr><tr><td>train_accuracy</td><td>▁▅▆▆▇▇████</td></tr><tr><td>train_loss</td><td>█▅▄▃▃▂▂▁▁▁</td></tr><tr><td>val_MulticlassAUPRC</td><td>▁▄▅▆█▇████</td></tr><tr><td>val_MulticlassAUROC</td><td>▁▅▆▆█▇▇███</td></tr><tr><td>val_MulticlassAccuracy</td><td>▁▄▆▇▇▆█▇▇▆</td></tr><tr><td>val_loss</td><td>█▅▃▂▁▂▁▁▁▁</td></tr></table><br/></div><div class=\"wandb-col\"><h3>Run summary:</h3><br/><table class=\"wandb\"><tr><td>epoch</td><td>9</td></tr><tr><td>train_accuracy</td><td>0.72398</td></tr><tr><td>train_loss</td><td>110.09087</td></tr><tr><td>val_MulticlassAUPRC</td><td>0.71352</td></tr><tr><td>val_MulticlassAUROC</td><td>0.84361</td></tr><tr><td>val_MulticlassAccuracy</td><td>0.71275</td></tr><tr><td>val_loss</td><td>28.76896</td></tr></table><br/></div></div>"
      ],
      "text/plain": [
       "<IPython.core.display.HTML object>"
      ]
     },
     "metadata": {},
     "output_type": "display_data"
    },
    {
     "data": {
      "text/html": [
       " View run <strong style=\"color:#cdcd00\">gene_5kb_128_0.001</strong> at: <a href='https://wandb.ai/bind-gps/BindGPS/runs/oukde9fg' target=\"_blank\">https://wandb.ai/bind-gps/BindGPS/runs/oukde9fg</a><br> View project at: <a href='https://wandb.ai/bind-gps/BindGPS' target=\"_blank\">https://wandb.ai/bind-gps/BindGPS</a><br>Synced 5 W&B file(s), 0 media file(s), 0 artifact file(s) and 0 other file(s)"
      ],
      "text/plain": [
       "<IPython.core.display.HTML object>"
      ]
     },
     "metadata": {},
     "output_type": "display_data"
    },
    {
     "data": {
      "text/html": [
       "Find logs at: <code>./wandb/run-20251002_140920-oukde9fg/logs</code>"
      ],
      "text/plain": [
       "<IPython.core.display.HTML object>"
      ]
     },
     "metadata": {},
     "output_type": "display_data"
    },
    {
     "name": "stderr",
     "output_type": "stream",
     "text": [
      "\u001b[34m\u001b[1mwandb\u001b[0m: Agent Starting Run: l407ufmq with config:\n",
      "\u001b[34m\u001b[1mwandb\u001b[0m: \tbatch_size: 128\n",
      "\u001b[34m\u001b[1mwandb\u001b[0m: \tepochs: 10\n",
      "\u001b[34m\u001b[1mwandb\u001b[0m: \thidden_dims: [256, 128]\n",
      "\u001b[34m\u001b[1mwandb\u001b[0m: \tlr: 0.001\n",
      "\u001b[34m\u001b[1mwandb\u001b[0m: \tresolution: 5kb\n",
      "\u001b[34m\u001b[1mwandb\u001b[0m: \tsvd_dim: 128\n",
      "\u001b[34m\u001b[1mwandb\u001b[0m: \ttarget_metric: MulticlassAccuracy\n",
      "\u001b[34m\u001b[1mwandb\u001b[0m: \ttask: mre\n",
      "\u001b[34m\u001b[1mwandb\u001b[0m: \tweighted: True\n",
      "\u001b[34m\u001b[1mwandb\u001b[0m: \u001b[32m\u001b[41mERROR\u001b[0m Failed to detect the name of this notebook. You can set it manually with the WANDB_NOTEBOOK_NAME environment variable to enable code saving.\n"
     ]
    },
    {
     "data": {
      "text/html": [],
      "text/plain": [
       "<IPython.core.display.HTML object>"
      ]
     },
     "metadata": {},
     "output_type": "display_data"
    },
    {
     "data": {
      "text/html": [
       "Tracking run with wandb version 0.22.1"
      ],
      "text/plain": [
       "<IPython.core.display.HTML object>"
      ]
     },
     "metadata": {},
     "output_type": "display_data"
    },
    {
     "data": {
      "text/html": [
       "Run data is saved locally in <code>/oscar/data/larschan/shared_data/BindGPS/model/wandb/run-20251002_140930-l407ufmq</code>"
      ],
      "text/plain": [
       "<IPython.core.display.HTML object>"
      ]
     },
     "metadata": {},
     "output_type": "display_data"
    },
    {
     "data": {
      "text/html": [
       "Syncing run <strong><a href='https://wandb.ai/bind-gps/BindGPS/runs/l407ufmq' target=\"_blank\">devoted-sweep-53</a></strong> to <a href='https://wandb.ai/bind-gps/BindGPS' target=\"_blank\">Weights & Biases</a> (<a href='https://wandb.me/developer-guide' target=\"_blank\">docs</a>)<br>Sweep page: <a href='https://wandb.ai/bind-gps/BindGPS/sweeps/79ufxypb' target=\"_blank\">https://wandb.ai/bind-gps/BindGPS/sweeps/79ufxypb</a>"
      ],
      "text/plain": [
       "<IPython.core.display.HTML object>"
      ]
     },
     "metadata": {},
     "output_type": "display_data"
    },
    {
     "data": {
      "text/html": [
       " View project at <a href='https://wandb.ai/bind-gps/BindGPS' target=\"_blank\">https://wandb.ai/bind-gps/BindGPS</a>"
      ],
      "text/plain": [
       "<IPython.core.display.HTML object>"
      ]
     },
     "metadata": {},
     "output_type": "display_data"
    },
    {
     "data": {
      "text/html": [
       " View sweep at <a href='https://wandb.ai/bind-gps/BindGPS/sweeps/79ufxypb' target=\"_blank\">https://wandb.ai/bind-gps/BindGPS/sweeps/79ufxypb</a>"
      ],
      "text/plain": [
       "<IPython.core.display.HTML object>"
      ]
     },
     "metadata": {},
     "output_type": "display_data"
    },
    {
     "data": {
      "text/html": [
       " View run at <a href='https://wandb.ai/bind-gps/BindGPS/runs/l407ufmq' target=\"_blank\">https://wandb.ai/bind-gps/BindGPS/runs/l407ufmq</a>"
      ],
      "text/plain": [
       "<IPython.core.display.HTML object>"
      ]
     },
     "metadata": {},
     "output_type": "display_data"
    },
    {
     "name": "stderr",
     "output_type": "stream",
     "text": [
      "\u001b[34m\u001b[1mwandb\u001b[0m: \u001b[33mWARNING\u001b[0m Calling wandb.login() after wandb.init() has no effect.\n"
     ]
    },
    {
     "name": "stdout",
     "output_type": "stream",
     "text": [
      "[Epoch 0] Train Loss: 157.9506, Acc: 0.5246\n",
      "[Epoch 0] Val Loss: 35.8433, Val Metrics: {'MulticlassAUROC': 0.7684615254402161, 'MulticlassAUPRC': 0.6193501353263855, 'MulticlassAccuracy': 0.5723110437393188}\n",
      "[Epoch 1] Train Loss: 142.6022, Acc: 0.5852\n",
      "[Epoch 1] Val Loss: 34.6361, Val Metrics: {'MulticlassAUROC': 0.7894901633262634, 'MulticlassAUPRC': 0.649601936340332, 'MulticlassAccuracy': 0.5868459343910217}\n",
      "[Epoch 2] Train Loss: 137.0362, Acc: 0.6057\n",
      "[Epoch 2] Val Loss: 33.8848, Val Metrics: {'MulticlassAUROC': 0.7970089316368103, 'MulticlassAUPRC': 0.6594122052192688, 'MulticlassAccuracy': 0.6155523061752319}\n",
      "[Epoch 3] Train Loss: 134.0872, Acc: 0.6139\n",
      "[Epoch 3] Val Loss: 33.8641, Val Metrics: {'MulticlassAUROC': 0.8060121536254883, 'MulticlassAUPRC': 0.6669952273368835, 'MulticlassAccuracy': 0.6377180218696594}\n",
      "[Epoch 4] Train Loss: 131.1442, Acc: 0.6257\n",
      "[Epoch 4] Val Loss: 33.5071, Val Metrics: {'MulticlassAUROC': 0.8070228695869446, 'MulticlassAUPRC': 0.6710619330406189, 'MulticlassAccuracy': 0.6300871968269348}\n",
      "[Epoch 5] Train Loss: 129.4690, Acc: 0.6320\n",
      "[Epoch 5] Val Loss: 33.6229, Val Metrics: {'MulticlassAUROC': 0.7989009022712708, 'MulticlassAUPRC': 0.6574082970619202, 'MulticlassAccuracy': 0.6075581312179565}\n",
      "[Epoch 6] Train Loss: 128.0137, Acc: 0.6349\n",
      "[Epoch 6] Val Loss: 33.8055, Val Metrics: {'MulticlassAUROC': 0.8061065077781677, 'MulticlassAUPRC': 0.6652588248252869, 'MulticlassAccuracy': 0.6355378031730652}\n",
      "[Epoch 7] Train Loss: 126.6061, Acc: 0.6351\n",
      "[Epoch 7] Val Loss: 33.8534, Val Metrics: {'MulticlassAUROC': 0.8035712242126465, 'MulticlassAUPRC': 0.6622198224067688, 'MulticlassAccuracy': 0.6184592843055725}\n",
      "[Epoch 8] Train Loss: 124.7164, Acc: 0.6396\n",
      "[Epoch 8] Val Loss: 33.3917, Val Metrics: {'MulticlassAUROC': 0.8061895966529846, 'MulticlassAUPRC': 0.6675620079040527, 'MulticlassAccuracy': 0.6199128031730652}\n",
      "Early Stopping at epoch 9\n"
     ]
    },
    {
     "data": {
      "text/html": [],
      "text/plain": [
       "<IPython.core.display.HTML object>"
      ]
     },
     "metadata": {},
     "output_type": "display_data"
    },
    {
     "data": {
      "text/html": [
       "<br>    <style><br>        .wandb-row {<br>            display: flex;<br>            flex-direction: row;<br>            flex-wrap: wrap;<br>            justify-content: flex-start;<br>            width: 100%;<br>        }<br>        .wandb-col {<br>            display: flex;<br>            flex-direction: column;<br>            flex-basis: 100%;<br>            flex: 1;<br>            padding: 10px;<br>        }<br>    </style><br><div class=\"wandb-row\"><div class=\"wandb-col\"><h3>Run history:</h3><br/><table class=\"wandb\"><tr><td>epoch</td><td>▁▂▃▄▅▅▆▇█</td></tr><tr><td>train_accuracy</td><td>▁▅▆▆▇████</td></tr><tr><td>train_loss</td><td>█▅▄▃▂▂▂▁▁</td></tr><tr><td>val_MulticlassAUPRC</td><td>▁▅▆▇█▆▇▇█</td></tr><tr><td>val_MulticlassAUROC</td><td>▁▅▆██▇█▇█</td></tr><tr><td>val_MulticlassAccuracy</td><td>▁▃▆█▇▅█▆▆</td></tr><tr><td>val_loss</td><td>█▅▂▂▁▂▂▂▁</td></tr></table><br/></div><div class=\"wandb-col\"><h3>Run summary:</h3><br/><table class=\"wandb\"><tr><td>epoch</td><td>8</td></tr><tr><td>train_accuracy</td><td>0.63962</td></tr><tr><td>train_loss</td><td>124.7164</td></tr><tr><td>val_MulticlassAUPRC</td><td>0.66756</td></tr><tr><td>val_MulticlassAUROC</td><td>0.80619</td></tr><tr><td>val_MulticlassAccuracy</td><td>0.61991</td></tr><tr><td>val_loss</td><td>33.39166</td></tr></table><br/></div></div>"
      ],
      "text/plain": [
       "<IPython.core.display.HTML object>"
      ]
     },
     "metadata": {},
     "output_type": "display_data"
    },
    {
     "data": {
      "text/html": [
       " View run <strong style=\"color:#cdcd00\">mre_5kb_128_0.001</strong> at: <a href='https://wandb.ai/bind-gps/BindGPS/runs/l407ufmq' target=\"_blank\">https://wandb.ai/bind-gps/BindGPS/runs/l407ufmq</a><br> View project at: <a href='https://wandb.ai/bind-gps/BindGPS' target=\"_blank\">https://wandb.ai/bind-gps/BindGPS</a><br>Synced 5 W&B file(s), 0 media file(s), 0 artifact file(s) and 0 other file(s)"
      ],
      "text/plain": [
       "<IPython.core.display.HTML object>"
      ]
     },
     "metadata": {},
     "output_type": "display_data"
    },
    {
     "data": {
      "text/html": [
       "Find logs at: <code>./wandb/run-20251002_140930-l407ufmq/logs</code>"
      ],
      "text/plain": [
       "<IPython.core.display.HTML object>"
      ]
     },
     "metadata": {},
     "output_type": "display_data"
    },
    {
     "name": "stderr",
     "output_type": "stream",
     "text": [
      "\u001b[34m\u001b[1mwandb\u001b[0m: Agent Starting Run: pkdyepwr with config:\n",
      "\u001b[34m\u001b[1mwandb\u001b[0m: \tbatch_size: 128\n",
      "\u001b[34m\u001b[1mwandb\u001b[0m: \tepochs: 10\n",
      "\u001b[34m\u001b[1mwandb\u001b[0m: \thidden_dims: [256, 128]\n",
      "\u001b[34m\u001b[1mwandb\u001b[0m: \tlr: 0.001\n",
      "\u001b[34m\u001b[1mwandb\u001b[0m: \tresolution: 5kb\n",
      "\u001b[34m\u001b[1mwandb\u001b[0m: \tsvd_dim: 128\n",
      "\u001b[34m\u001b[1mwandb\u001b[0m: \ttarget_metric: MulticlassAccuracy\n",
      "\u001b[34m\u001b[1mwandb\u001b[0m: \ttask: mre\n",
      "\u001b[34m\u001b[1mwandb\u001b[0m: \tweighted: False\n",
      "\u001b[34m\u001b[1mwandb\u001b[0m: \u001b[32m\u001b[41mERROR\u001b[0m Failed to detect the name of this notebook. You can set it manually with the WANDB_NOTEBOOK_NAME environment variable to enable code saving.\n"
     ]
    },
    {
     "data": {
      "text/html": [],
      "text/plain": [
       "<IPython.core.display.HTML object>"
      ]
     },
     "metadata": {},
     "output_type": "display_data"
    },
    {
     "data": {
      "text/html": [
       "Tracking run with wandb version 0.22.1"
      ],
      "text/plain": [
       "<IPython.core.display.HTML object>"
      ]
     },
     "metadata": {},
     "output_type": "display_data"
    },
    {
     "data": {
      "text/html": [
       "Run data is saved locally in <code>/oscar/data/larschan/shared_data/BindGPS/model/wandb/run-20251002_140941-pkdyepwr</code>"
      ],
      "text/plain": [
       "<IPython.core.display.HTML object>"
      ]
     },
     "metadata": {},
     "output_type": "display_data"
    },
    {
     "data": {
      "text/html": [
       "Syncing run <strong><a href='https://wandb.ai/bind-gps/BindGPS/runs/pkdyepwr' target=\"_blank\">dainty-sweep-54</a></strong> to <a href='https://wandb.ai/bind-gps/BindGPS' target=\"_blank\">Weights & Biases</a> (<a href='https://wandb.me/developer-guide' target=\"_blank\">docs</a>)<br>Sweep page: <a href='https://wandb.ai/bind-gps/BindGPS/sweeps/79ufxypb' target=\"_blank\">https://wandb.ai/bind-gps/BindGPS/sweeps/79ufxypb</a>"
      ],
      "text/plain": [
       "<IPython.core.display.HTML object>"
      ]
     },
     "metadata": {},
     "output_type": "display_data"
    },
    {
     "data": {
      "text/html": [
       " View project at <a href='https://wandb.ai/bind-gps/BindGPS' target=\"_blank\">https://wandb.ai/bind-gps/BindGPS</a>"
      ],
      "text/plain": [
       "<IPython.core.display.HTML object>"
      ]
     },
     "metadata": {},
     "output_type": "display_data"
    },
    {
     "data": {
      "text/html": [
       " View sweep at <a href='https://wandb.ai/bind-gps/BindGPS/sweeps/79ufxypb' target=\"_blank\">https://wandb.ai/bind-gps/BindGPS/sweeps/79ufxypb</a>"
      ],
      "text/plain": [
       "<IPython.core.display.HTML object>"
      ]
     },
     "metadata": {},
     "output_type": "display_data"
    },
    {
     "data": {
      "text/html": [
       " View run at <a href='https://wandb.ai/bind-gps/BindGPS/runs/pkdyepwr' target=\"_blank\">https://wandb.ai/bind-gps/BindGPS/runs/pkdyepwr</a>"
      ],
      "text/plain": [
       "<IPython.core.display.HTML object>"
      ]
     },
     "metadata": {},
     "output_type": "display_data"
    },
    {
     "name": "stderr",
     "output_type": "stream",
     "text": [
      "\u001b[34m\u001b[1mwandb\u001b[0m: \u001b[33mWARNING\u001b[0m Calling wandb.login() after wandb.init() has no effect.\n"
     ]
    },
    {
     "name": "stdout",
     "output_type": "stream",
     "text": [
      "[Epoch 0] Train Loss: 144.3179, Acc: 0.5830\n",
      "[Epoch 0] Val Loss: 32.9499, Val Metrics: {'MulticlassAUROC': 0.7875683903694153, 'MulticlassAUPRC': 0.6283535957336426, 'MulticlassAccuracy': 0.624454915523529}\n",
      "[Epoch 1] Train Loss: 128.6293, Acc: 0.6396\n",
      "[Epoch 1] Val Loss: 31.4519, Val Metrics: {'MulticlassAUROC': 0.8007955551147461, 'MulticlassAUPRC': 0.6454847455024719, 'MulticlassAccuracy': 0.6604287624359131}\n",
      "[Epoch 2] Train Loss: 123.7969, Acc: 0.6587\n",
      "[Epoch 2] Val Loss: 30.9848, Val Metrics: {'MulticlassAUROC': 0.8075507283210754, 'MulticlassAUPRC': 0.6550006866455078, 'MulticlassAccuracy': 0.6651526093482971}\n",
      "[Epoch 3] Train Loss: 121.1671, Acc: 0.6703\n",
      "[Epoch 3] Val Loss: 30.6936, Val Metrics: {'MulticlassAUROC': 0.808330774307251, 'MulticlassAUPRC': 0.6560673117637634, 'MulticlassAccuracy': 0.6680595874786377}\n",
      "[Epoch 4] Train Loss: 119.4693, Acc: 0.6771\n",
      "[Epoch 4] Val Loss: 30.4820, Val Metrics: {'MulticlassAUROC': 0.8109602928161621, 'MulticlassAUPRC': 0.6578336954116821, 'MulticlassAccuracy': 0.6673328280448914}\n",
      "[Epoch 5] Train Loss: 118.4492, Acc: 0.6775\n",
      "[Epoch 5] Val Loss: 30.5301, Val Metrics: {'MulticlassAUROC': 0.8124509453773499, 'MulticlassAUPRC': 0.6612969040870667, 'MulticlassAccuracy': 0.6607921719551086}\n",
      "[Epoch 6] Train Loss: 117.2069, Acc: 0.6806\n",
      "[Epoch 6] Val Loss: 30.3887, Val Metrics: {'MulticlassAUROC': 0.8130509257316589, 'MulticlassAUPRC': 0.6599822640419006, 'MulticlassAccuracy': 0.6709665656089783}\n",
      "[Epoch 7] Train Loss: 115.6545, Acc: 0.6864\n",
      "[Epoch 7] Val Loss: 30.3235, Val Metrics: {'MulticlassAUROC': 0.8127498626708984, 'MulticlassAUPRC': 0.6609579920768738, 'MulticlassAccuracy': 0.6686046719551086}\n",
      "[Epoch 8] Train Loss: 114.5626, Acc: 0.6892\n",
      "[Epoch 8] Val Loss: 30.2249, Val Metrics: {'MulticlassAUROC': 0.8153473734855652, 'MulticlassAUPRC': 0.6660407185554504, 'MulticlassAccuracy': 0.6700581312179565}\n",
      "[Epoch 9] Train Loss: 113.5591, Acc: 0.6914\n",
      "[Epoch 9] Val Loss: 30.1891, Val Metrics: {'MulticlassAUROC': 0.8162047266960144, 'MulticlassAUPRC': 0.668282687664032, 'MulticlassAccuracy': 0.6735101938247681}\n"
     ]
    },
    {
     "data": {
      "text/html": [],
      "text/plain": [
       "<IPython.core.display.HTML object>"
      ]
     },
     "metadata": {},
     "output_type": "display_data"
    },
    {
     "data": {
      "text/html": [
       "<br>    <style><br>        .wandb-row {<br>            display: flex;<br>            flex-direction: row;<br>            flex-wrap: wrap;<br>            justify-content: flex-start;<br>            width: 100%;<br>        }<br>        .wandb-col {<br>            display: flex;<br>            flex-direction: column;<br>            flex-basis: 100%;<br>            flex: 1;<br>            padding: 10px;<br>        }<br>    </style><br><div class=\"wandb-row\"><div class=\"wandb-col\"><h3>Run history:</h3><br/><table class=\"wandb\"><tr><td>epoch</td><td>▁▂▃▃▄▅▆▆▇█</td></tr><tr><td>train_accuracy</td><td>▁▅▆▇▇▇▇███</td></tr><tr><td>train_loss</td><td>█▄▃▃▂▂▂▁▁▁</td></tr><tr><td>val_MulticlassAUPRC</td><td>▁▄▆▆▆▇▇▇██</td></tr><tr><td>val_MulticlassAUROC</td><td>▁▄▆▆▇▇▇▇██</td></tr><tr><td>val_MulticlassAccuracy</td><td>▁▆▇▇▇▆█▇██</td></tr><tr><td>val_loss</td><td>█▄▃▂▂▂▂▁▁▁</td></tr></table><br/></div><div class=\"wandb-col\"><h3>Run summary:</h3><br/><table class=\"wandb\"><tr><td>epoch</td><td>9</td></tr><tr><td>train_accuracy</td><td>0.69141</td></tr><tr><td>train_loss</td><td>113.5591</td></tr><tr><td>val_MulticlassAUPRC</td><td>0.66828</td></tr><tr><td>val_MulticlassAUROC</td><td>0.8162</td></tr><tr><td>val_MulticlassAccuracy</td><td>0.67351</td></tr><tr><td>val_loss</td><td>30.18915</td></tr></table><br/></div></div>"
      ],
      "text/plain": [
       "<IPython.core.display.HTML object>"
      ]
     },
     "metadata": {},
     "output_type": "display_data"
    },
    {
     "data": {
      "text/html": [
       " View run <strong style=\"color:#cdcd00\">mre_5kb_128_0.001</strong> at: <a href='https://wandb.ai/bind-gps/BindGPS/runs/pkdyepwr' target=\"_blank\">https://wandb.ai/bind-gps/BindGPS/runs/pkdyepwr</a><br> View project at: <a href='https://wandb.ai/bind-gps/BindGPS' target=\"_blank\">https://wandb.ai/bind-gps/BindGPS</a><br>Synced 5 W&B file(s), 0 media file(s), 0 artifact file(s) and 0 other file(s)"
      ],
      "text/plain": [
       "<IPython.core.display.HTML object>"
      ]
     },
     "metadata": {},
     "output_type": "display_data"
    },
    {
     "data": {
      "text/html": [
       "Find logs at: <code>./wandb/run-20251002_140941-pkdyepwr/logs</code>"
      ],
      "text/plain": [
       "<IPython.core.display.HTML object>"
      ]
     },
     "metadata": {},
     "output_type": "display_data"
    },
    {
     "name": "stderr",
     "output_type": "stream",
     "text": [
      "\u001b[34m\u001b[1mwandb\u001b[0m: Agent Starting Run: 92s28wyn with config:\n",
      "\u001b[34m\u001b[1mwandb\u001b[0m: \tbatch_size: 128\n",
      "\u001b[34m\u001b[1mwandb\u001b[0m: \tepochs: 10\n",
      "\u001b[34m\u001b[1mwandb\u001b[0m: \thidden_dims: [256, 128]\n",
      "\u001b[34m\u001b[1mwandb\u001b[0m: \tlr: 0.001\n",
      "\u001b[34m\u001b[1mwandb\u001b[0m: \tresolution: 5kb\n",
      "\u001b[34m\u001b[1mwandb\u001b[0m: \tsvd_dim: 128\n",
      "\u001b[34m\u001b[1mwandb\u001b[0m: \ttarget_metric: MulticlassAccuracy\n",
      "\u001b[34m\u001b[1mwandb\u001b[0m: \ttask: gene\n",
      "\u001b[34m\u001b[1mwandb\u001b[0m: \tweighted: True\n",
      "\u001b[34m\u001b[1mwandb\u001b[0m: \u001b[32m\u001b[41mERROR\u001b[0m Failed to detect the name of this notebook. You can set it manually with the WANDB_NOTEBOOK_NAME environment variable to enable code saving.\n"
     ]
    },
    {
     "data": {
      "text/html": [],
      "text/plain": [
       "<IPython.core.display.HTML object>"
      ]
     },
     "metadata": {},
     "output_type": "display_data"
    },
    {
     "data": {
      "text/html": [
       "Tracking run with wandb version 0.22.1"
      ],
      "text/plain": [
       "<IPython.core.display.HTML object>"
      ]
     },
     "metadata": {},
     "output_type": "display_data"
    },
    {
     "data": {
      "text/html": [
       "Run data is saved locally in <code>/oscar/data/larschan/shared_data/BindGPS/model/wandb/run-20251002_140951-92s28wyn</code>"
      ],
      "text/plain": [
       "<IPython.core.display.HTML object>"
      ]
     },
     "metadata": {},
     "output_type": "display_data"
    },
    {
     "data": {
      "text/html": [
       "Syncing run <strong><a href='https://wandb.ai/bind-gps/BindGPS/runs/92s28wyn' target=\"_blank\">charmed-sweep-55</a></strong> to <a href='https://wandb.ai/bind-gps/BindGPS' target=\"_blank\">Weights & Biases</a> (<a href='https://wandb.me/developer-guide' target=\"_blank\">docs</a>)<br>Sweep page: <a href='https://wandb.ai/bind-gps/BindGPS/sweeps/79ufxypb' target=\"_blank\">https://wandb.ai/bind-gps/BindGPS/sweeps/79ufxypb</a>"
      ],
      "text/plain": [
       "<IPython.core.display.HTML object>"
      ]
     },
     "metadata": {},
     "output_type": "display_data"
    },
    {
     "data": {
      "text/html": [
       " View project at <a href='https://wandb.ai/bind-gps/BindGPS' target=\"_blank\">https://wandb.ai/bind-gps/BindGPS</a>"
      ],
      "text/plain": [
       "<IPython.core.display.HTML object>"
      ]
     },
     "metadata": {},
     "output_type": "display_data"
    },
    {
     "data": {
      "text/html": [
       " View sweep at <a href='https://wandb.ai/bind-gps/BindGPS/sweeps/79ufxypb' target=\"_blank\">https://wandb.ai/bind-gps/BindGPS/sweeps/79ufxypb</a>"
      ],
      "text/plain": [
       "<IPython.core.display.HTML object>"
      ]
     },
     "metadata": {},
     "output_type": "display_data"
    },
    {
     "data": {
      "text/html": [
       " View run at <a href='https://wandb.ai/bind-gps/BindGPS/runs/92s28wyn' target=\"_blank\">https://wandb.ai/bind-gps/BindGPS/runs/92s28wyn</a>"
      ],
      "text/plain": [
       "<IPython.core.display.HTML object>"
      ]
     },
     "metadata": {},
     "output_type": "display_data"
    },
    {
     "name": "stderr",
     "output_type": "stream",
     "text": [
      "\u001b[34m\u001b[1mwandb\u001b[0m: \u001b[33mWARNING\u001b[0m Calling wandb.login() after wandb.init() has no effect.\n"
     ]
    },
    {
     "name": "stdout",
     "output_type": "stream",
     "text": [
      "[Epoch 0] Train Loss: 149.7528, Acc: 0.6011\n",
      "[Epoch 0] Val Loss: 34.6722, Val Metrics: {'MulticlassAUROC': 0.8089301586151123, 'MulticlassAUPRC': 0.6576916575431824, 'MulticlassAccuracy': 0.6344476938247681}\n",
      "[Epoch 1] Train Loss: 136.9490, Acc: 0.6432\n",
      "[Epoch 1] Val Loss: 34.1269, Val Metrics: {'MulticlassAUROC': 0.8148917555809021, 'MulticlassAUPRC': 0.6639384627342224, 'MulticlassAccuracy': 0.6288154125213623}\n",
      "[Epoch 2] Train Loss: 133.7720, Acc: 0.6540\n",
      "[Epoch 2] Val Loss: 34.2104, Val Metrics: {'MulticlassAUROC': 0.8213953375816345, 'MulticlassAUPRC': 0.6706742644309998, 'MulticlassAccuracy': 0.6513444781303406}\n",
      "[Epoch 3] Train Loss: 131.0521, Acc: 0.6565\n",
      "[Epoch 3] Val Loss: 33.7545, Val Metrics: {'MulticlassAUROC': 0.8247902393341064, 'MulticlassAUPRC': 0.679470956325531, 'MulticlassAccuracy': 0.6613371968269348}\n",
      "[Epoch 4] Train Loss: 128.5927, Acc: 0.6697\n",
      "[Epoch 4] Val Loss: 33.9953, Val Metrics: {'MulticlassAUROC': 0.8243260383605957, 'MulticlassAUPRC': 0.6763156056404114, 'MulticlassAccuracy': 0.6615188717842102}\n",
      "[Epoch 5] Train Loss: 127.0186, Acc: 0.6699\n",
      "[Epoch 5] Val Loss: 34.0076, Val Metrics: {'MulticlassAUROC': 0.8243598341941833, 'MulticlassAUPRC': 0.6769163608551025, 'MulticlassAccuracy': 0.6698764562606812}\n",
      "[Epoch 6] Train Loss: 126.2533, Acc: 0.6714\n",
      "[Epoch 6] Val Loss: 33.6160, Val Metrics: {'MulticlassAUROC': 0.8258261680603027, 'MulticlassAUPRC': 0.679840087890625, 'MulticlassAccuracy': 0.6640625}\n",
      "[Epoch 7] Train Loss: 124.3377, Acc: 0.6756\n",
      "[Epoch 7] Val Loss: 33.7666, Val Metrics: {'MulticlassAUROC': 0.8232371211051941, 'MulticlassAUPRC': 0.6771695613861084, 'MulticlassAccuracy': 0.6629723906517029}\n",
      "[Epoch 8] Train Loss: 122.6792, Acc: 0.6807\n",
      "[Epoch 8] Val Loss: 34.1825, Val Metrics: {'MulticlassAUROC': 0.8264787197113037, 'MulticlassAUPRC': 0.6786282658576965, 'MulticlassAccuracy': 0.667151153087616}\n",
      "[Epoch 9] Train Loss: 122.1212, Acc: 0.6766\n",
      "[Epoch 9] Val Loss: 34.3101, Val Metrics: {'MulticlassAUROC': 0.8242030143737793, 'MulticlassAUPRC': 0.6810745596885681, 'MulticlassAccuracy': 0.6740552186965942}\n"
     ]
    },
    {
     "data": {
      "text/html": [],
      "text/plain": [
       "<IPython.core.display.HTML object>"
      ]
     },
     "metadata": {},
     "output_type": "display_data"
    },
    {
     "data": {
      "text/html": [
       "<br>    <style><br>        .wandb-row {<br>            display: flex;<br>            flex-direction: row;<br>            flex-wrap: wrap;<br>            justify-content: flex-start;<br>            width: 100%;<br>        }<br>        .wandb-col {<br>            display: flex;<br>            flex-direction: column;<br>            flex-basis: 100%;<br>            flex: 1;<br>            padding: 10px;<br>        }<br>    </style><br><div class=\"wandb-row\"><div class=\"wandb-col\"><h3>Run history:</h3><br/><table class=\"wandb\"><tr><td>epoch</td><td>▁▂▃▃▄▅▆▆▇█</td></tr><tr><td>train_accuracy</td><td>▁▅▆▆▇▇▇███</td></tr><tr><td>train_loss</td><td>█▅▄▃▃▂▂▂▁▁</td></tr><tr><td>val_MulticlassAUPRC</td><td>▁▃▅█▇▇█▇▇█</td></tr><tr><td>val_MulticlassAUROC</td><td>▁▃▆▇▇▇█▇█▇</td></tr><tr><td>val_MulticlassAccuracy</td><td>▂▁▄▆▆▇▆▆▇█</td></tr><tr><td>val_loss</td><td>█▄▅▂▄▄▁▂▅▆</td></tr></table><br/></div><div class=\"wandb-col\"><h3>Run summary:</h3><br/><table class=\"wandb\"><tr><td>epoch</td><td>9</td></tr><tr><td>train_accuracy</td><td>0.67665</td></tr><tr><td>train_loss</td><td>122.1212</td></tr><tr><td>val_MulticlassAUPRC</td><td>0.68107</td></tr><tr><td>val_MulticlassAUROC</td><td>0.8242</td></tr><tr><td>val_MulticlassAccuracy</td><td>0.67406</td></tr><tr><td>val_loss</td><td>34.31008</td></tr></table><br/></div></div>"
      ],
      "text/plain": [
       "<IPython.core.display.HTML object>"
      ]
     },
     "metadata": {},
     "output_type": "display_data"
    },
    {
     "data": {
      "text/html": [
       " View run <strong style=\"color:#cdcd00\">gene_5kb_128_0.001</strong> at: <a href='https://wandb.ai/bind-gps/BindGPS/runs/92s28wyn' target=\"_blank\">https://wandb.ai/bind-gps/BindGPS/runs/92s28wyn</a><br> View project at: <a href='https://wandb.ai/bind-gps/BindGPS' target=\"_blank\">https://wandb.ai/bind-gps/BindGPS</a><br>Synced 5 W&B file(s), 0 media file(s), 0 artifact file(s) and 0 other file(s)"
      ],
      "text/plain": [
       "<IPython.core.display.HTML object>"
      ]
     },
     "metadata": {},
     "output_type": "display_data"
    },
    {
     "data": {
      "text/html": [
       "Find logs at: <code>./wandb/run-20251002_140951-92s28wyn/logs</code>"
      ],
      "text/plain": [
       "<IPython.core.display.HTML object>"
      ]
     },
     "metadata": {},
     "output_type": "display_data"
    },
    {
     "name": "stderr",
     "output_type": "stream",
     "text": [
      "\u001b[34m\u001b[1mwandb\u001b[0m: Agent Starting Run: 1m4yrqgt with config:\n",
      "\u001b[34m\u001b[1mwandb\u001b[0m: \tbatch_size: 128\n",
      "\u001b[34m\u001b[1mwandb\u001b[0m: \tepochs: 10\n",
      "\u001b[34m\u001b[1mwandb\u001b[0m: \thidden_dims: [256, 128]\n",
      "\u001b[34m\u001b[1mwandb\u001b[0m: \tlr: 0.001\n",
      "\u001b[34m\u001b[1mwandb\u001b[0m: \tresolution: 5kb\n",
      "\u001b[34m\u001b[1mwandb\u001b[0m: \tsvd_dim: 128\n",
      "\u001b[34m\u001b[1mwandb\u001b[0m: \ttarget_metric: MulticlassAccuracy\n",
      "\u001b[34m\u001b[1mwandb\u001b[0m: \ttask: gene\n",
      "\u001b[34m\u001b[1mwandb\u001b[0m: \tweighted: False\n",
      "\u001b[34m\u001b[1mwandb\u001b[0m: \u001b[32m\u001b[41mERROR\u001b[0m Failed to detect the name of this notebook. You can set it manually with the WANDB_NOTEBOOK_NAME environment variable to enable code saving.\n"
     ]
    },
    {
     "data": {
      "text/html": [],
      "text/plain": [
       "<IPython.core.display.HTML object>"
      ]
     },
     "metadata": {},
     "output_type": "display_data"
    },
    {
     "data": {
      "text/html": [
       "Tracking run with wandb version 0.22.1"
      ],
      "text/plain": [
       "<IPython.core.display.HTML object>"
      ]
     },
     "metadata": {},
     "output_type": "display_data"
    },
    {
     "data": {
      "text/html": [
       "Run data is saved locally in <code>/oscar/data/larschan/shared_data/BindGPS/model/wandb/run-20251002_141001-1m4yrqgt</code>"
      ],
      "text/plain": [
       "<IPython.core.display.HTML object>"
      ]
     },
     "metadata": {},
     "output_type": "display_data"
    },
    {
     "data": {
      "text/html": [
       "Syncing run <strong><a href='https://wandb.ai/bind-gps/BindGPS/runs/1m4yrqgt' target=\"_blank\">glowing-sweep-56</a></strong> to <a href='https://wandb.ai/bind-gps/BindGPS' target=\"_blank\">Weights & Biases</a> (<a href='https://wandb.me/developer-guide' target=\"_blank\">docs</a>)<br>Sweep page: <a href='https://wandb.ai/bind-gps/BindGPS/sweeps/79ufxypb' target=\"_blank\">https://wandb.ai/bind-gps/BindGPS/sweeps/79ufxypb</a>"
      ],
      "text/plain": [
       "<IPython.core.display.HTML object>"
      ]
     },
     "metadata": {},
     "output_type": "display_data"
    },
    {
     "data": {
      "text/html": [
       " View project at <a href='https://wandb.ai/bind-gps/BindGPS' target=\"_blank\">https://wandb.ai/bind-gps/BindGPS</a>"
      ],
      "text/plain": [
       "<IPython.core.display.HTML object>"
      ]
     },
     "metadata": {},
     "output_type": "display_data"
    },
    {
     "data": {
      "text/html": [
       " View sweep at <a href='https://wandb.ai/bind-gps/BindGPS/sweeps/79ufxypb' target=\"_blank\">https://wandb.ai/bind-gps/BindGPS/sweeps/79ufxypb</a>"
      ],
      "text/plain": [
       "<IPython.core.display.HTML object>"
      ]
     },
     "metadata": {},
     "output_type": "display_data"
    },
    {
     "data": {
      "text/html": [
       " View run at <a href='https://wandb.ai/bind-gps/BindGPS/runs/1m4yrqgt' target=\"_blank\">https://wandb.ai/bind-gps/BindGPS/runs/1m4yrqgt</a>"
      ],
      "text/plain": [
       "<IPython.core.display.HTML object>"
      ]
     },
     "metadata": {},
     "output_type": "display_data"
    },
    {
     "name": "stderr",
     "output_type": "stream",
     "text": [
      "\u001b[34m\u001b[1mwandb\u001b[0m: \u001b[33mWARNING\u001b[0m Calling wandb.login() after wandb.init() has no effect.\n"
     ]
    },
    {
     "name": "stdout",
     "output_type": "stream",
     "text": [
      "[Epoch 0] Train Loss: 135.9060, Acc: 0.6473\n",
      "[Epoch 0] Val Loss: 30.1283, Val Metrics: {'MulticlassAUROC': 0.8251675963401794, 'MulticlassAUPRC': 0.6646631360054016, 'MulticlassAccuracy': 0.7016715407371521}\n",
      "[Epoch 1] Train Loss: 122.3355, Acc: 0.6924\n",
      "[Epoch 1] Val Loss: 29.0167, Val Metrics: {'MulticlassAUROC': 0.8360145092010498, 'MulticlassAUPRC': 0.6856210827827454, 'MulticlassAccuracy': 0.7165697813034058}\n",
      "[Epoch 2] Train Loss: 118.8590, Acc: 0.6999\n",
      "[Epoch 2] Val Loss: 28.6401, Val Metrics: {'MulticlassAUROC': 0.8378503918647766, 'MulticlassAUPRC': 0.6881982684135437, 'MulticlassAccuracy': 0.7205668687820435}\n",
      "[Epoch 3] Train Loss: 117.1328, Acc: 0.7059\n",
      "[Epoch 3] Val Loss: 28.6622, Val Metrics: {'MulticlassAUROC': 0.8372668623924255, 'MulticlassAUPRC': 0.6913166046142578, 'MulticlassAccuracy': 0.7134811282157898}\n",
      "[Epoch 4] Train Loss: 115.6846, Acc: 0.7114\n",
      "[Epoch 4] Val Loss: 28.2490, Val Metrics: {'MulticlassAUROC': 0.8410435318946838, 'MulticlassAUPRC': 0.6941320896148682, 'MulticlassAccuracy': 0.7196584343910217}\n",
      "[Epoch 5] Train Loss: 113.8869, Acc: 0.7110\n",
      "[Epoch 5] Val Loss: 28.2267, Val Metrics: {'MulticlassAUROC': 0.8414079546928406, 'MulticlassAUPRC': 0.6960086822509766, 'MulticlassAccuracy': 0.7200217843055725}\n",
      "[Epoch 6] Train Loss: 113.3696, Acc: 0.7136\n",
      "[Epoch 6] Val Loss: 28.3337, Val Metrics: {'MulticlassAUROC': 0.8405819535255432, 'MulticlassAUPRC': 0.6920208930969238, 'MulticlassAccuracy': 0.7172965407371521}\n",
      "[Epoch 7] Train Loss: 112.3493, Acc: 0.7167\n",
      "[Epoch 7] Val Loss: 28.1757, Val Metrics: {'MulticlassAUROC': 0.8419608473777771, 'MulticlassAUPRC': 0.6929974555969238, 'MulticlassAccuracy': 0.7205668687820435}\n",
      "Early Stopping at epoch 8\n"
     ]
    },
    {
     "data": {
      "text/html": [],
      "text/plain": [
       "<IPython.core.display.HTML object>"
      ]
     },
     "metadata": {},
     "output_type": "display_data"
    },
    {
     "data": {
      "text/html": [
       "<br>    <style><br>        .wandb-row {<br>            display: flex;<br>            flex-direction: row;<br>            flex-wrap: wrap;<br>            justify-content: flex-start;<br>            width: 100%;<br>        }<br>        .wandb-col {<br>            display: flex;<br>            flex-direction: column;<br>            flex-basis: 100%;<br>            flex: 1;<br>            padding: 10px;<br>        }<br>    </style><br><div class=\"wandb-row\"><div class=\"wandb-col\"><h3>Run history:</h3><br/><table class=\"wandb\"><tr><td>epoch</td><td>▁▂▃▄▅▆▇█</td></tr><tr><td>train_accuracy</td><td>▁▆▆▇▇▇██</td></tr><tr><td>train_loss</td><td>█▄▃▂▂▁▁▁</td></tr><tr><td>val_MulticlassAUPRC</td><td>▁▆▆▇██▇▇</td></tr><tr><td>val_MulticlassAUROC</td><td>▁▆▆▆██▇█</td></tr><tr><td>val_MulticlassAccuracy</td><td>▁▇█▅██▇█</td></tr><tr><td>val_loss</td><td>█▄▃▃▁▁▂▁</td></tr></table><br/></div><div class=\"wandb-col\"><h3>Run summary:</h3><br/><table class=\"wandb\"><tr><td>epoch</td><td>7</td></tr><tr><td>train_accuracy</td><td>0.71671</td></tr><tr><td>train_loss</td><td>112.34932</td></tr><tr><td>val_MulticlassAUPRC</td><td>0.693</td></tr><tr><td>val_MulticlassAUROC</td><td>0.84196</td></tr><tr><td>val_MulticlassAccuracy</td><td>0.72057</td></tr><tr><td>val_loss</td><td>28.17568</td></tr></table><br/></div></div>"
      ],
      "text/plain": [
       "<IPython.core.display.HTML object>"
      ]
     },
     "metadata": {},
     "output_type": "display_data"
    },
    {
     "data": {
      "text/html": [
       " View run <strong style=\"color:#cdcd00\">gene_5kb_128_0.001</strong> at: <a href='https://wandb.ai/bind-gps/BindGPS/runs/1m4yrqgt' target=\"_blank\">https://wandb.ai/bind-gps/BindGPS/runs/1m4yrqgt</a><br> View project at: <a href='https://wandb.ai/bind-gps/BindGPS' target=\"_blank\">https://wandb.ai/bind-gps/BindGPS</a><br>Synced 5 W&B file(s), 0 media file(s), 0 artifact file(s) and 0 other file(s)"
      ],
      "text/plain": [
       "<IPython.core.display.HTML object>"
      ]
     },
     "metadata": {},
     "output_type": "display_data"
    },
    {
     "data": {
      "text/html": [
       "Find logs at: <code>./wandb/run-20251002_141001-1m4yrqgt/logs</code>"
      ],
      "text/plain": [
       "<IPython.core.display.HTML object>"
      ]
     },
     "metadata": {},
     "output_type": "display_data"
    },
    {
     "name": "stderr",
     "output_type": "stream",
     "text": [
      "\u001b[34m\u001b[1mwandb\u001b[0m: Agent Starting Run: udl1k73e with config:\n",
      "\u001b[34m\u001b[1mwandb\u001b[0m: \tbatch_size: 128\n",
      "\u001b[34m\u001b[1mwandb\u001b[0m: \tepochs: 10\n",
      "\u001b[34m\u001b[1mwandb\u001b[0m: \thidden_dims: [256, 128]\n",
      "\u001b[34m\u001b[1mwandb\u001b[0m: \tlr: 0.001\n",
      "\u001b[34m\u001b[1mwandb\u001b[0m: \tresolution: 5kb\n",
      "\u001b[34m\u001b[1mwandb\u001b[0m: \tsvd_dim: 128\n",
      "\u001b[34m\u001b[1mwandb\u001b[0m: \ttarget_metric: MulticlassAUPRC\n",
      "\u001b[34m\u001b[1mwandb\u001b[0m: \ttask: mre\n",
      "\u001b[34m\u001b[1mwandb\u001b[0m: \tweighted: True\n",
      "\u001b[34m\u001b[1mwandb\u001b[0m: \u001b[32m\u001b[41mERROR\u001b[0m Failed to detect the name of this notebook. You can set it manually with the WANDB_NOTEBOOK_NAME environment variable to enable code saving.\n"
     ]
    },
    {
     "data": {
      "text/html": [],
      "text/plain": [
       "<IPython.core.display.HTML object>"
      ]
     },
     "metadata": {},
     "output_type": "display_data"
    },
    {
     "data": {
      "text/html": [
       "Tracking run with wandb version 0.22.1"
      ],
      "text/plain": [
       "<IPython.core.display.HTML object>"
      ]
     },
     "metadata": {},
     "output_type": "display_data"
    },
    {
     "data": {
      "text/html": [
       "Run data is saved locally in <code>/oscar/data/larschan/shared_data/BindGPS/model/wandb/run-20251002_141012-udl1k73e</code>"
      ],
      "text/plain": [
       "<IPython.core.display.HTML object>"
      ]
     },
     "metadata": {},
     "output_type": "display_data"
    },
    {
     "data": {
      "text/html": [
       "Syncing run <strong><a href='https://wandb.ai/bind-gps/BindGPS/runs/udl1k73e' target=\"_blank\">exalted-sweep-57</a></strong> to <a href='https://wandb.ai/bind-gps/BindGPS' target=\"_blank\">Weights & Biases</a> (<a href='https://wandb.me/developer-guide' target=\"_blank\">docs</a>)<br>Sweep page: <a href='https://wandb.ai/bind-gps/BindGPS/sweeps/79ufxypb' target=\"_blank\">https://wandb.ai/bind-gps/BindGPS/sweeps/79ufxypb</a>"
      ],
      "text/plain": [
       "<IPython.core.display.HTML object>"
      ]
     },
     "metadata": {},
     "output_type": "display_data"
    },
    {
     "data": {
      "text/html": [
       " View project at <a href='https://wandb.ai/bind-gps/BindGPS' target=\"_blank\">https://wandb.ai/bind-gps/BindGPS</a>"
      ],
      "text/plain": [
       "<IPython.core.display.HTML object>"
      ]
     },
     "metadata": {},
     "output_type": "display_data"
    },
    {
     "data": {
      "text/html": [
       " View sweep at <a href='https://wandb.ai/bind-gps/BindGPS/sweeps/79ufxypb' target=\"_blank\">https://wandb.ai/bind-gps/BindGPS/sweeps/79ufxypb</a>"
      ],
      "text/plain": [
       "<IPython.core.display.HTML object>"
      ]
     },
     "metadata": {},
     "output_type": "display_data"
    },
    {
     "data": {
      "text/html": [
       " View run at <a href='https://wandb.ai/bind-gps/BindGPS/runs/udl1k73e' target=\"_blank\">https://wandb.ai/bind-gps/BindGPS/runs/udl1k73e</a>"
      ],
      "text/plain": [
       "<IPython.core.display.HTML object>"
      ]
     },
     "metadata": {},
     "output_type": "display_data"
    },
    {
     "name": "stderr",
     "output_type": "stream",
     "text": [
      "\u001b[34m\u001b[1mwandb\u001b[0m: \u001b[33mWARNING\u001b[0m Calling wandb.login() after wandb.init() has no effect.\n"
     ]
    },
    {
     "name": "stdout",
     "output_type": "stream",
     "text": [
      "[Epoch 0] Train Loss: 158.1540, Acc: 0.5188\n",
      "[Epoch 0] Val Loss: 35.8611, Val Metrics: {'MulticlassAUROC': 0.7691603302955627, 'MulticlassAUPRC': 0.6197636723518372, 'MulticlassAccuracy': 0.5615915656089783}\n",
      "[Epoch 1] Train Loss: 142.5004, Acc: 0.5831\n",
      "[Epoch 1] Val Loss: 34.3331, Val Metrics: {'MulticlassAUROC': 0.7917315363883972, 'MulticlassAUPRC': 0.6443092226982117, 'MulticlassAccuracy': 0.6008357405662537}\n",
      "[Epoch 2] Train Loss: 136.2551, Acc: 0.6062\n",
      "[Epoch 2] Val Loss: 33.5463, Val Metrics: {'MulticlassAUROC': 0.7979410290718079, 'MulticlassAUPRC': 0.6564633846282959, 'MulticlassAccuracy': 0.6086482405662537}\n",
      "[Epoch 3] Train Loss: 133.8244, Acc: 0.6163\n",
      "[Epoch 3] Val Loss: 33.5779, Val Metrics: {'MulticlassAUROC': 0.8030910491943359, 'MulticlassAUPRC': 0.6662755012512207, 'MulticlassAccuracy': 0.6180959343910217}\n",
      "[Epoch 4] Train Loss: 130.6284, Acc: 0.6192\n",
      "[Epoch 4] Val Loss: 33.7292, Val Metrics: {'MulticlassAUROC': 0.799142599105835, 'MulticlassAUPRC': 0.660939633846283, 'MulticlassAccuracy': 0.6115552186965942}\n",
      "[Epoch 5] Train Loss: 129.5632, Acc: 0.6275\n",
      "[Epoch 5] Val Loss: 33.4054, Val Metrics: {'MulticlassAUROC': 0.803148090839386, 'MulticlassAUPRC': 0.6598491072654724, 'MulticlassAccuracy': 0.6242732405662537}\n",
      "[Epoch 6] Train Loss: 127.7635, Acc: 0.6315\n",
      "[Epoch 6] Val Loss: 33.1166, Val Metrics: {'MulticlassAUROC': 0.8055691719055176, 'MulticlassAUPRC': 0.6665281057357788, 'MulticlassAccuracy': 0.6230014562606812}\n",
      "[Epoch 7] Train Loss: 125.9117, Acc: 0.6334\n",
      "[Epoch 7] Val Loss: 33.3789, Val Metrics: {'MulticlassAUROC': 0.7983373999595642, 'MulticlassAUPRC': 0.660848081111908, 'MulticlassAccuracy': 0.5990188717842102}\n",
      "[Epoch 8] Train Loss: 124.1419, Acc: 0.6422\n",
      "[Epoch 8] Val Loss: 33.4831, Val Metrics: {'MulticlassAUROC': 0.8048761487007141, 'MulticlassAUPRC': 0.6639848351478577, 'MulticlassAccuracy': 0.6293604373931885}\n",
      "[Epoch 9] Train Loss: 122.8981, Acc: 0.6414\n",
      "[Epoch 9] Val Loss: 33.2714, Val Metrics: {'MulticlassAUROC': 0.8021807670593262, 'MulticlassAUPRC': 0.6624538898468018, 'MulticlassAccuracy': 0.6144621968269348}\n"
     ]
    },
    {
     "data": {
      "text/html": [],
      "text/plain": [
       "<IPython.core.display.HTML object>"
      ]
     },
     "metadata": {},
     "output_type": "display_data"
    },
    {
     "data": {
      "text/html": [
       "<br>    <style><br>        .wandb-row {<br>            display: flex;<br>            flex-direction: row;<br>            flex-wrap: wrap;<br>            justify-content: flex-start;<br>            width: 100%;<br>        }<br>        .wandb-col {<br>            display: flex;<br>            flex-direction: column;<br>            flex-basis: 100%;<br>            flex: 1;<br>            padding: 10px;<br>        }<br>    </style><br><div class=\"wandb-row\"><div class=\"wandb-col\"><h3>Run history:</h3><br/><table class=\"wandb\"><tr><td>epoch</td><td>▁▂▃▃▄▅▆▆▇█</td></tr><tr><td>train_accuracy</td><td>▁▅▆▇▇▇▇███</td></tr><tr><td>train_loss</td><td>█▅▄▃▃▂▂▂▁▁</td></tr><tr><td>val_MulticlassAUPRC</td><td>▁▅▆█▇▇█▇█▇</td></tr><tr><td>val_MulticlassAUROC</td><td>▁▅▇█▇██▇█▇</td></tr><tr><td>val_MulticlassAccuracy</td><td>▁▅▆▇▆▇▇▅█▆</td></tr><tr><td>val_loss</td><td>█▄▂▂▃▂▁▂▂▁</td></tr></table><br/></div><div class=\"wandb-col\"><h3>Run summary:</h3><br/><table class=\"wandb\"><tr><td>epoch</td><td>9</td></tr><tr><td>train_accuracy</td><td>0.64144</td></tr><tr><td>train_loss</td><td>122.89807</td></tr><tr><td>val_MulticlassAUPRC</td><td>0.66245</td></tr><tr><td>val_MulticlassAUROC</td><td>0.80218</td></tr><tr><td>val_MulticlassAccuracy</td><td>0.61446</td></tr><tr><td>val_loss</td><td>33.27141</td></tr></table><br/></div></div>"
      ],
      "text/plain": [
       "<IPython.core.display.HTML object>"
      ]
     },
     "metadata": {},
     "output_type": "display_data"
    },
    {
     "data": {
      "text/html": [
       " View run <strong style=\"color:#cdcd00\">mre_5kb_128_0.001</strong> at: <a href='https://wandb.ai/bind-gps/BindGPS/runs/udl1k73e' target=\"_blank\">https://wandb.ai/bind-gps/BindGPS/runs/udl1k73e</a><br> View project at: <a href='https://wandb.ai/bind-gps/BindGPS' target=\"_blank\">https://wandb.ai/bind-gps/BindGPS</a><br>Synced 5 W&B file(s), 0 media file(s), 0 artifact file(s) and 0 other file(s)"
      ],
      "text/plain": [
       "<IPython.core.display.HTML object>"
      ]
     },
     "metadata": {},
     "output_type": "display_data"
    },
    {
     "data": {
      "text/html": [
       "Find logs at: <code>./wandb/run-20251002_141012-udl1k73e/logs</code>"
      ],
      "text/plain": [
       "<IPython.core.display.HTML object>"
      ]
     },
     "metadata": {},
     "output_type": "display_data"
    },
    {
     "name": "stderr",
     "output_type": "stream",
     "text": [
      "\u001b[34m\u001b[1mwandb\u001b[0m: Agent Starting Run: 3asoj9i7 with config:\n",
      "\u001b[34m\u001b[1mwandb\u001b[0m: \tbatch_size: 128\n",
      "\u001b[34m\u001b[1mwandb\u001b[0m: \tepochs: 10\n",
      "\u001b[34m\u001b[1mwandb\u001b[0m: \thidden_dims: [256, 128]\n",
      "\u001b[34m\u001b[1mwandb\u001b[0m: \tlr: 0.001\n",
      "\u001b[34m\u001b[1mwandb\u001b[0m: \tresolution: 5kb\n",
      "\u001b[34m\u001b[1mwandb\u001b[0m: \tsvd_dim: 128\n",
      "\u001b[34m\u001b[1mwandb\u001b[0m: \ttarget_metric: MulticlassAUPRC\n",
      "\u001b[34m\u001b[1mwandb\u001b[0m: \ttask: mre\n",
      "\u001b[34m\u001b[1mwandb\u001b[0m: \tweighted: False\n",
      "\u001b[34m\u001b[1mwandb\u001b[0m: \u001b[32m\u001b[41mERROR\u001b[0m Failed to detect the name of this notebook. You can set it manually with the WANDB_NOTEBOOK_NAME environment variable to enable code saving.\n"
     ]
    },
    {
     "data": {
      "text/html": [],
      "text/plain": [
       "<IPython.core.display.HTML object>"
      ]
     },
     "metadata": {},
     "output_type": "display_data"
    },
    {
     "data": {
      "text/html": [
       "Tracking run with wandb version 0.22.1"
      ],
      "text/plain": [
       "<IPython.core.display.HTML object>"
      ]
     },
     "metadata": {},
     "output_type": "display_data"
    },
    {
     "data": {
      "text/html": [
       "Run data is saved locally in <code>/oscar/data/larschan/shared_data/BindGPS/model/wandb/run-20251002_141022-3asoj9i7</code>"
      ],
      "text/plain": [
       "<IPython.core.display.HTML object>"
      ]
     },
     "metadata": {},
     "output_type": "display_data"
    },
    {
     "data": {
      "text/html": [
       "Syncing run <strong><a href='https://wandb.ai/bind-gps/BindGPS/runs/3asoj9i7' target=\"_blank\">chocolate-sweep-58</a></strong> to <a href='https://wandb.ai/bind-gps/BindGPS' target=\"_blank\">Weights & Biases</a> (<a href='https://wandb.me/developer-guide' target=\"_blank\">docs</a>)<br>Sweep page: <a href='https://wandb.ai/bind-gps/BindGPS/sweeps/79ufxypb' target=\"_blank\">https://wandb.ai/bind-gps/BindGPS/sweeps/79ufxypb</a>"
      ],
      "text/plain": [
       "<IPython.core.display.HTML object>"
      ]
     },
     "metadata": {},
     "output_type": "display_data"
    },
    {
     "data": {
      "text/html": [
       " View project at <a href='https://wandb.ai/bind-gps/BindGPS' target=\"_blank\">https://wandb.ai/bind-gps/BindGPS</a>"
      ],
      "text/plain": [
       "<IPython.core.display.HTML object>"
      ]
     },
     "metadata": {},
     "output_type": "display_data"
    },
    {
     "data": {
      "text/html": [
       " View sweep at <a href='https://wandb.ai/bind-gps/BindGPS/sweeps/79ufxypb' target=\"_blank\">https://wandb.ai/bind-gps/BindGPS/sweeps/79ufxypb</a>"
      ],
      "text/plain": [
       "<IPython.core.display.HTML object>"
      ]
     },
     "metadata": {},
     "output_type": "display_data"
    },
    {
     "data": {
      "text/html": [
       " View run at <a href='https://wandb.ai/bind-gps/BindGPS/runs/3asoj9i7' target=\"_blank\">https://wandb.ai/bind-gps/BindGPS/runs/3asoj9i7</a>"
      ],
      "text/plain": [
       "<IPython.core.display.HTML object>"
      ]
     },
     "metadata": {},
     "output_type": "display_data"
    },
    {
     "name": "stderr",
     "output_type": "stream",
     "text": [
      "\u001b[34m\u001b[1mwandb\u001b[0m: \u001b[33mWARNING\u001b[0m Calling wandb.login() after wandb.init() has no effect.\n"
     ]
    },
    {
     "name": "stdout",
     "output_type": "stream",
     "text": [
      "[Epoch 0] Train Loss: 144.0472, Acc: 0.5806\n",
      "[Epoch 0] Val Loss: 32.3001, Val Metrics: {'MulticlassAUROC': 0.7898357510566711, 'MulticlassAUPRC': 0.6257749795913696, 'MulticlassAccuracy': 0.6560683250427246}\n",
      "[Epoch 1] Train Loss: 128.5984, Acc: 0.6413\n",
      "[Epoch 1] Val Loss: 31.6722, Val Metrics: {'MulticlassAUROC': 0.7991175651550293, 'MulticlassAUPRC': 0.6406774520874023, 'MulticlassAccuracy': 0.6480741500854492}\n",
      "[Epoch 2] Train Loss: 123.8164, Acc: 0.6593\n",
      "[Epoch 2] Val Loss: 30.7280, Val Metrics: {'MulticlassAUROC': 0.806199312210083, 'MulticlassAUPRC': 0.65274578332901, 'MulticlassAccuracy': 0.6629723906517029}\n",
      "[Epoch 3] Train Loss: 121.0391, Acc: 0.6696\n",
      "[Epoch 3] Val Loss: 30.6392, Val Metrics: {'MulticlassAUROC': 0.8088431358337402, 'MulticlassAUPRC': 0.6570305824279785, 'MulticlassAccuracy': 0.664607584476471}\n",
      "[Epoch 4] Train Loss: 118.8667, Acc: 0.6766\n",
      "[Epoch 4] Val Loss: 30.2642, Val Metrics: {'MulticlassAUROC': 0.8100970387458801, 'MulticlassAUPRC': 0.6586698889732361, 'MulticlassAccuracy': 0.6698764562606812}\n",
      "[Epoch 5] Train Loss: 117.7021, Acc: 0.6822\n",
      "[Epoch 5] Val Loss: 30.6795, Val Metrics: {'MulticlassAUROC': 0.809995174407959, 'MulticlassAUPRC': 0.6571822762489319, 'MulticlassAccuracy': 0.6604287624359131}\n",
      "[Epoch 6] Train Loss: 116.7344, Acc: 0.6860\n",
      "[Epoch 6] Val Loss: 30.3987, Val Metrics: {'MulticlassAUROC': 0.8116133213043213, 'MulticlassAUPRC': 0.6585375666618347, 'MulticlassAccuracy': 0.6644258499145508}\n",
      "[Epoch 7] Train Loss: 115.4647, Acc: 0.6856\n",
      "[Epoch 7] Val Loss: 30.3106, Val Metrics: {'MulticlassAUROC': 0.8097538948059082, 'MulticlassAUPRC': 0.6566057801246643, 'MulticlassAccuracy': 0.6682412624359131}\n",
      "[Epoch 8] Train Loss: 114.5171, Acc: 0.6897\n",
      "[Epoch 8] Val Loss: 30.4294, Val Metrics: {'MulticlassAUROC': 0.8091268539428711, 'MulticlassAUPRC': 0.6555220484733582, 'MulticlassAccuracy': 0.6680595874786377}\n",
      "[Epoch 9] Train Loss: 113.5957, Acc: 0.6950\n",
      "[Epoch 9] Val Loss: 30.1567, Val Metrics: {'MulticlassAUROC': 0.8111627697944641, 'MulticlassAUPRC': 0.6601759791374207, 'MulticlassAccuracy': 0.668786346912384}\n"
     ]
    },
    {
     "data": {
      "text/html": [],
      "text/plain": [
       "<IPython.core.display.HTML object>"
      ]
     },
     "metadata": {},
     "output_type": "display_data"
    },
    {
     "data": {
      "text/html": [
       "<br>    <style><br>        .wandb-row {<br>            display: flex;<br>            flex-direction: row;<br>            flex-wrap: wrap;<br>            justify-content: flex-start;<br>            width: 100%;<br>        }<br>        .wandb-col {<br>            display: flex;<br>            flex-direction: column;<br>            flex-basis: 100%;<br>            flex: 1;<br>            padding: 10px;<br>        }<br>    </style><br><div class=\"wandb-row\"><div class=\"wandb-col\"><h3>Run history:</h3><br/><table class=\"wandb\"><tr><td>epoch</td><td>▁▂▃▃▄▅▆▆▇█</td></tr><tr><td>train_accuracy</td><td>▁▅▆▆▇▇▇▇██</td></tr><tr><td>train_loss</td><td>█▄▃▃▂▂▂▁▁▁</td></tr><tr><td>val_MulticlassAUPRC</td><td>▁▄▆▇█▇█▇▇█</td></tr><tr><td>val_MulticlassAUROC</td><td>▁▄▆▇█▇█▇▇█</td></tr><tr><td>val_MulticlassAccuracy</td><td>▄▁▆▆█▅▆▇▇█</td></tr><tr><td>val_loss</td><td>█▆▃▃▁▃▂▂▂▁</td></tr></table><br/></div><div class=\"wandb-col\"><h3>Run summary:</h3><br/><table class=\"wandb\"><tr><td>epoch</td><td>9</td></tr><tr><td>train_accuracy</td><td>0.695</td></tr><tr><td>train_loss</td><td>113.59572</td></tr><tr><td>val_MulticlassAUPRC</td><td>0.66018</td></tr><tr><td>val_MulticlassAUROC</td><td>0.81116</td></tr><tr><td>val_MulticlassAccuracy</td><td>0.66879</td></tr><tr><td>val_loss</td><td>30.15666</td></tr></table><br/></div></div>"
      ],
      "text/plain": [
       "<IPython.core.display.HTML object>"
      ]
     },
     "metadata": {},
     "output_type": "display_data"
    },
    {
     "data": {
      "text/html": [
       " View run <strong style=\"color:#cdcd00\">mre_5kb_128_0.001</strong> at: <a href='https://wandb.ai/bind-gps/BindGPS/runs/3asoj9i7' target=\"_blank\">https://wandb.ai/bind-gps/BindGPS/runs/3asoj9i7</a><br> View project at: <a href='https://wandb.ai/bind-gps/BindGPS' target=\"_blank\">https://wandb.ai/bind-gps/BindGPS</a><br>Synced 5 W&B file(s), 0 media file(s), 0 artifact file(s) and 0 other file(s)"
      ],
      "text/plain": [
       "<IPython.core.display.HTML object>"
      ]
     },
     "metadata": {},
     "output_type": "display_data"
    },
    {
     "data": {
      "text/html": [
       "Find logs at: <code>./wandb/run-20251002_141022-3asoj9i7/logs</code>"
      ],
      "text/plain": [
       "<IPython.core.display.HTML object>"
      ]
     },
     "metadata": {},
     "output_type": "display_data"
    },
    {
     "name": "stderr",
     "output_type": "stream",
     "text": [
      "\u001b[34m\u001b[1mwandb\u001b[0m: Agent Starting Run: a28lkuzj with config:\n",
      "\u001b[34m\u001b[1mwandb\u001b[0m: \tbatch_size: 128\n",
      "\u001b[34m\u001b[1mwandb\u001b[0m: \tepochs: 10\n",
      "\u001b[34m\u001b[1mwandb\u001b[0m: \thidden_dims: [256, 128]\n",
      "\u001b[34m\u001b[1mwandb\u001b[0m: \tlr: 0.001\n",
      "\u001b[34m\u001b[1mwandb\u001b[0m: \tresolution: 5kb\n",
      "\u001b[34m\u001b[1mwandb\u001b[0m: \tsvd_dim: 128\n",
      "\u001b[34m\u001b[1mwandb\u001b[0m: \ttarget_metric: MulticlassAUPRC\n",
      "\u001b[34m\u001b[1mwandb\u001b[0m: \ttask: gene\n",
      "\u001b[34m\u001b[1mwandb\u001b[0m: \tweighted: True\n",
      "\u001b[34m\u001b[1mwandb\u001b[0m: \u001b[32m\u001b[41mERROR\u001b[0m Failed to detect the name of this notebook. You can set it manually with the WANDB_NOTEBOOK_NAME environment variable to enable code saving.\n"
     ]
    },
    {
     "data": {
      "text/html": [],
      "text/plain": [
       "<IPython.core.display.HTML object>"
      ]
     },
     "metadata": {},
     "output_type": "display_data"
    },
    {
     "data": {
      "text/html": [
       "Tracking run with wandb version 0.22.1"
      ],
      "text/plain": [
       "<IPython.core.display.HTML object>"
      ]
     },
     "metadata": {},
     "output_type": "display_data"
    },
    {
     "data": {
      "text/html": [
       "Run data is saved locally in <code>/oscar/data/larschan/shared_data/BindGPS/model/wandb/run-20251002_141032-a28lkuzj</code>"
      ],
      "text/plain": [
       "<IPython.core.display.HTML object>"
      ]
     },
     "metadata": {},
     "output_type": "display_data"
    },
    {
     "data": {
      "text/html": [
       "Syncing run <strong><a href='https://wandb.ai/bind-gps/BindGPS/runs/a28lkuzj' target=\"_blank\">worthy-sweep-59</a></strong> to <a href='https://wandb.ai/bind-gps/BindGPS' target=\"_blank\">Weights & Biases</a> (<a href='https://wandb.me/developer-guide' target=\"_blank\">docs</a>)<br>Sweep page: <a href='https://wandb.ai/bind-gps/BindGPS/sweeps/79ufxypb' target=\"_blank\">https://wandb.ai/bind-gps/BindGPS/sweeps/79ufxypb</a>"
      ],
      "text/plain": [
       "<IPython.core.display.HTML object>"
      ]
     },
     "metadata": {},
     "output_type": "display_data"
    },
    {
     "data": {
      "text/html": [
       " View project at <a href='https://wandb.ai/bind-gps/BindGPS' target=\"_blank\">https://wandb.ai/bind-gps/BindGPS</a>"
      ],
      "text/plain": [
       "<IPython.core.display.HTML object>"
      ]
     },
     "metadata": {},
     "output_type": "display_data"
    },
    {
     "data": {
      "text/html": [
       " View sweep at <a href='https://wandb.ai/bind-gps/BindGPS/sweeps/79ufxypb' target=\"_blank\">https://wandb.ai/bind-gps/BindGPS/sweeps/79ufxypb</a>"
      ],
      "text/plain": [
       "<IPython.core.display.HTML object>"
      ]
     },
     "metadata": {},
     "output_type": "display_data"
    },
    {
     "data": {
      "text/html": [
       " View run at <a href='https://wandb.ai/bind-gps/BindGPS/runs/a28lkuzj' target=\"_blank\">https://wandb.ai/bind-gps/BindGPS/runs/a28lkuzj</a>"
      ],
      "text/plain": [
       "<IPython.core.display.HTML object>"
      ]
     },
     "metadata": {},
     "output_type": "display_data"
    },
    {
     "name": "stderr",
     "output_type": "stream",
     "text": [
      "\u001b[34m\u001b[1mwandb\u001b[0m: \u001b[33mWARNING\u001b[0m Calling wandb.login() after wandb.init() has no effect.\n"
     ]
    },
    {
     "name": "stdout",
     "output_type": "stream",
     "text": [
      "[Epoch 0] Train Loss: 150.6881, Acc: 0.5977\n",
      "[Epoch 0] Val Loss: 34.1124, Val Metrics: {'MulticlassAUROC': 0.8126646876335144, 'MulticlassAUPRC': 0.6637355089187622, 'MulticlassAccuracy': 0.6299055218696594}\n",
      "[Epoch 1] Train Loss: 137.7364, Acc: 0.6404\n",
      "[Epoch 1] Val Loss: 34.1422, Val Metrics: {'MulticlassAUROC': 0.817729651927948, 'MulticlassAUPRC': 0.670325756072998, 'MulticlassAccuracy': 0.6351743936538696}\n",
      "[Epoch 2] Train Loss: 134.6163, Acc: 0.6504\n",
      "[Epoch 2] Val Loss: 33.4376, Val Metrics: {'MulticlassAUROC': 0.8231281638145447, 'MulticlassAUPRC': 0.6795803904533386, 'MulticlassAccuracy': 0.6589753031730652}\n",
      "[Epoch 3] Train Loss: 131.3694, Acc: 0.6601\n",
      "[Epoch 3] Val Loss: 33.3211, Val Metrics: {'MulticlassAUROC': 0.8237982392311096, 'MulticlassAUPRC': 0.6798763275146484, 'MulticlassAccuracy': 0.6598837375640869}\n",
      "[Epoch 4] Train Loss: 129.3605, Acc: 0.6656\n",
      "[Epoch 4] Val Loss: 33.2083, Val Metrics: {'MulticlassAUROC': 0.82308429479599, 'MulticlassAUPRC': 0.6806650161743164, 'MulticlassAccuracy': 0.6535246968269348}\n",
      "[Epoch 5] Train Loss: 127.7097, Acc: 0.6696\n",
      "[Epoch 5] Val Loss: 33.2766, Val Metrics: {'MulticlassAUROC': 0.8254504799842834, 'MulticlassAUPRC': 0.6812254786491394, 'MulticlassAccuracy': 0.6527979373931885}\n",
      "[Epoch 6] Train Loss: 127.1661, Acc: 0.6696\n",
      "[Epoch 6] Val Loss: 33.2077, Val Metrics: {'MulticlassAUROC': 0.8277780413627625, 'MulticlassAUPRC': 0.6868707537651062, 'MulticlassAccuracy': 0.6720566749572754}\n",
      "[Epoch 7] Train Loss: 125.4357, Acc: 0.6732\n",
      "[Epoch 7] Val Loss: 33.2343, Val Metrics: {'MulticlassAUROC': 0.8282873630523682, 'MulticlassAUPRC': 0.6888978481292725, 'MulticlassAccuracy': 0.6769621968269348}\n",
      "[Epoch 8] Train Loss: 123.9528, Acc: 0.6760\n",
      "[Epoch 8] Val Loss: 33.0915, Val Metrics: {'MulticlassAUROC': 0.8280852437019348, 'MulticlassAUPRC': 0.6861627697944641, 'MulticlassAccuracy': 0.6662427186965942}\n",
      "[Epoch 9] Train Loss: 123.0229, Acc: 0.6821\n",
      "[Epoch 9] Val Loss: 33.2448, Val Metrics: {'MulticlassAUROC': 0.8267751336097717, 'MulticlassAUPRC': 0.6813122630119324, 'MulticlassAccuracy': 0.6589753031730652}\n"
     ]
    },
    {
     "data": {
      "text/html": [],
      "text/plain": [
       "<IPython.core.display.HTML object>"
      ]
     },
     "metadata": {},
     "output_type": "display_data"
    },
    {
     "data": {
      "text/html": [
       "<br>    <style><br>        .wandb-row {<br>            display: flex;<br>            flex-direction: row;<br>            flex-wrap: wrap;<br>            justify-content: flex-start;<br>            width: 100%;<br>        }<br>        .wandb-col {<br>            display: flex;<br>            flex-direction: column;<br>            flex-basis: 100%;<br>            flex: 1;<br>            padding: 10px;<br>        }<br>    </style><br><div class=\"wandb-row\"><div class=\"wandb-col\"><h3>Run history:</h3><br/><table class=\"wandb\"><tr><td>epoch</td><td>▁▂▃▃▄▅▆▆▇█</td></tr><tr><td>train_accuracy</td><td>▁▅▅▆▇▇▇▇▇█</td></tr><tr><td>train_loss</td><td>█▅▄▃▃▂▂▂▁▁</td></tr><tr><td>val_MulticlassAUPRC</td><td>▁▃▅▅▆▆▇█▇▆</td></tr><tr><td>val_MulticlassAUROC</td><td>▁▃▆▆▆▇███▇</td></tr><tr><td>val_MulticlassAccuracy</td><td>▁▂▅▅▅▄▇█▆▅</td></tr><tr><td>val_loss</td><td>██▃▃▂▂▂▂▁▂</td></tr></table><br/></div><div class=\"wandb-col\"><h3>Run summary:</h3><br/><table class=\"wandb\"><tr><td>epoch</td><td>9</td></tr><tr><td>train_accuracy</td><td>0.68205</td></tr><tr><td>train_loss</td><td>123.0229</td></tr><tr><td>val_MulticlassAUPRC</td><td>0.68131</td></tr><tr><td>val_MulticlassAUROC</td><td>0.82678</td></tr><tr><td>val_MulticlassAccuracy</td><td>0.65898</td></tr><tr><td>val_loss</td><td>33.24479</td></tr></table><br/></div></div>"
      ],
      "text/plain": [
       "<IPython.core.display.HTML object>"
      ]
     },
     "metadata": {},
     "output_type": "display_data"
    },
    {
     "data": {
      "text/html": [
       " View run <strong style=\"color:#cdcd00\">gene_5kb_128_0.001</strong> at: <a href='https://wandb.ai/bind-gps/BindGPS/runs/a28lkuzj' target=\"_blank\">https://wandb.ai/bind-gps/BindGPS/runs/a28lkuzj</a><br> View project at: <a href='https://wandb.ai/bind-gps/BindGPS' target=\"_blank\">https://wandb.ai/bind-gps/BindGPS</a><br>Synced 5 W&B file(s), 0 media file(s), 0 artifact file(s) and 0 other file(s)"
      ],
      "text/plain": [
       "<IPython.core.display.HTML object>"
      ]
     },
     "metadata": {},
     "output_type": "display_data"
    },
    {
     "data": {
      "text/html": [
       "Find logs at: <code>./wandb/run-20251002_141032-a28lkuzj/logs</code>"
      ],
      "text/plain": [
       "<IPython.core.display.HTML object>"
      ]
     },
     "metadata": {},
     "output_type": "display_data"
    },
    {
     "name": "stderr",
     "output_type": "stream",
     "text": [
      "\u001b[34m\u001b[1mwandb\u001b[0m: Agent Starting Run: or57f6hj with config:\n",
      "\u001b[34m\u001b[1mwandb\u001b[0m: \tbatch_size: 128\n",
      "\u001b[34m\u001b[1mwandb\u001b[0m: \tepochs: 10\n",
      "\u001b[34m\u001b[1mwandb\u001b[0m: \thidden_dims: [256, 128]\n",
      "\u001b[34m\u001b[1mwandb\u001b[0m: \tlr: 0.001\n",
      "\u001b[34m\u001b[1mwandb\u001b[0m: \tresolution: 5kb\n",
      "\u001b[34m\u001b[1mwandb\u001b[0m: \tsvd_dim: 128\n",
      "\u001b[34m\u001b[1mwandb\u001b[0m: \ttarget_metric: MulticlassAUPRC\n",
      "\u001b[34m\u001b[1mwandb\u001b[0m: \ttask: gene\n",
      "\u001b[34m\u001b[1mwandb\u001b[0m: \tweighted: False\n",
      "\u001b[34m\u001b[1mwandb\u001b[0m: \u001b[32m\u001b[41mERROR\u001b[0m Failed to detect the name of this notebook. You can set it manually with the WANDB_NOTEBOOK_NAME environment variable to enable code saving.\n"
     ]
    },
    {
     "data": {
      "text/html": [],
      "text/plain": [
       "<IPython.core.display.HTML object>"
      ]
     },
     "metadata": {},
     "output_type": "display_data"
    },
    {
     "data": {
      "text/html": [
       "Tracking run with wandb version 0.22.1"
      ],
      "text/plain": [
       "<IPython.core.display.HTML object>"
      ]
     },
     "metadata": {},
     "output_type": "display_data"
    },
    {
     "data": {
      "text/html": [
       "Run data is saved locally in <code>/oscar/data/larschan/shared_data/BindGPS/model/wandb/run-20251002_141043-or57f6hj</code>"
      ],
      "text/plain": [
       "<IPython.core.display.HTML object>"
      ]
     },
     "metadata": {},
     "output_type": "display_data"
    },
    {
     "data": {
      "text/html": [
       "Syncing run <strong><a href='https://wandb.ai/bind-gps/BindGPS/runs/or57f6hj' target=\"_blank\">hardy-sweep-60</a></strong> to <a href='https://wandb.ai/bind-gps/BindGPS' target=\"_blank\">Weights & Biases</a> (<a href='https://wandb.me/developer-guide' target=\"_blank\">docs</a>)<br>Sweep page: <a href='https://wandb.ai/bind-gps/BindGPS/sweeps/79ufxypb' target=\"_blank\">https://wandb.ai/bind-gps/BindGPS/sweeps/79ufxypb</a>"
      ],
      "text/plain": [
       "<IPython.core.display.HTML object>"
      ]
     },
     "metadata": {},
     "output_type": "display_data"
    },
    {
     "data": {
      "text/html": [
       " View project at <a href='https://wandb.ai/bind-gps/BindGPS' target=\"_blank\">https://wandb.ai/bind-gps/BindGPS</a>"
      ],
      "text/plain": [
       "<IPython.core.display.HTML object>"
      ]
     },
     "metadata": {},
     "output_type": "display_data"
    },
    {
     "data": {
      "text/html": [
       " View sweep at <a href='https://wandb.ai/bind-gps/BindGPS/sweeps/79ufxypb' target=\"_blank\">https://wandb.ai/bind-gps/BindGPS/sweeps/79ufxypb</a>"
      ],
      "text/plain": [
       "<IPython.core.display.HTML object>"
      ]
     },
     "metadata": {},
     "output_type": "display_data"
    },
    {
     "data": {
      "text/html": [
       " View run at <a href='https://wandb.ai/bind-gps/BindGPS/runs/or57f6hj' target=\"_blank\">https://wandb.ai/bind-gps/BindGPS/runs/or57f6hj</a>"
      ],
      "text/plain": [
       "<IPython.core.display.HTML object>"
      ]
     },
     "metadata": {},
     "output_type": "display_data"
    },
    {
     "name": "stderr",
     "output_type": "stream",
     "text": [
      "\u001b[34m\u001b[1mwandb\u001b[0m: \u001b[33mWARNING\u001b[0m Calling wandb.login() after wandb.init() has no effect.\n"
     ]
    },
    {
     "name": "stdout",
     "output_type": "stream",
     "text": [
      "[Epoch 0] Train Loss: 134.6455, Acc: 0.6551\n",
      "[Epoch 0] Val Loss: 30.8772, Val Metrics: {'MulticlassAUROC': 0.8184186816215515, 'MulticlassAUPRC': 0.6710956692695618, 'MulticlassAccuracy': 0.686954915523529}\n",
      "[Epoch 1] Train Loss: 122.2242, Acc: 0.6913\n",
      "[Epoch 1] Val Loss: 30.1034, Val Metrics: {'MulticlassAUROC': 0.8257258534431458, 'MulticlassAUPRC': 0.6807042956352234, 'MulticlassAccuracy': 0.6962209343910217}\n",
      "[Epoch 2] Train Loss: 118.6700, Acc: 0.6982\n",
      "[Epoch 2] Val Loss: 29.4129, Val Metrics: {'MulticlassAUROC': 0.8307604193687439, 'MulticlassAUPRC': 0.689295768737793, 'MulticlassAccuracy': 0.7069404125213623}\n",
      "[Epoch 3] Train Loss: 116.5050, Acc: 0.7079\n",
      "[Epoch 3] Val Loss: 29.1676, Val Metrics: {'MulticlassAUROC': 0.8332739472389221, 'MulticlassAUPRC': 0.6940453052520752, 'MulticlassAccuracy': 0.707848846912384}\n",
      "[Epoch 4] Train Loss: 115.0724, Acc: 0.7138\n",
      "[Epoch 4] Val Loss: 29.1082, Val Metrics: {'MulticlassAUROC': 0.8346536159515381, 'MulticlassAUPRC': 0.6937506794929504, 'MulticlassAccuracy': 0.7109375}\n",
      "[Epoch 5] Train Loss: 114.2017, Acc: 0.7162\n",
      "[Epoch 5] Val Loss: 29.0889, Val Metrics: {'MulticlassAUROC': 0.834470272064209, 'MulticlassAUPRC': 0.6932054162025452, 'MulticlassAccuracy': 0.711482584476471}\n",
      "[Epoch 6] Train Loss: 112.8736, Acc: 0.7168\n",
      "[Epoch 6] Val Loss: 29.0806, Val Metrics: {'MulticlassAUROC': 0.8361034393310547, 'MulticlassAUPRC': 0.6960580348968506, 'MulticlassAccuracy': 0.711482584476471}\n",
      "[Epoch 7] Train Loss: 111.6498, Acc: 0.7197\n",
      "[Epoch 7] Val Loss: 28.9129, Val Metrics: {'MulticlassAUROC': 0.836753785610199, 'MulticlassAUPRC': 0.6990689635276794, 'MulticlassAccuracy': 0.7132993936538696}\n",
      "[Epoch 8] Train Loss: 110.8143, Acc: 0.7226\n",
      "[Epoch 8] Val Loss: 28.9159, Val Metrics: {'MulticlassAUROC': 0.8365316390991211, 'MulticlassAUPRC': 0.6991755366325378, 'MulticlassAccuracy': 0.7120276093482971}\n",
      "[Epoch 9] Train Loss: 108.9810, Acc: 0.7288\n",
      "[Epoch 9] Val Loss: 29.0478, Val Metrics: {'MulticlassAUROC': 0.8366942405700684, 'MulticlassAUPRC': 0.6991658210754395, 'MulticlassAccuracy': 0.714026153087616}\n"
     ]
    },
    {
     "data": {
      "text/html": [],
      "text/plain": [
       "<IPython.core.display.HTML object>"
      ]
     },
     "metadata": {},
     "output_type": "display_data"
    },
    {
     "data": {
      "text/html": [
       "<br>    <style><br>        .wandb-row {<br>            display: flex;<br>            flex-direction: row;<br>            flex-wrap: wrap;<br>            justify-content: flex-start;<br>            width: 100%;<br>        }<br>        .wandb-col {<br>            display: flex;<br>            flex-direction: column;<br>            flex-basis: 100%;<br>            flex: 1;<br>            padding: 10px;<br>        }<br>    </style><br><div class=\"wandb-row\"><div class=\"wandb-col\"><h3>Run history:</h3><br/><table class=\"wandb\"><tr><td>epoch</td><td>▁▂▃▃▄▅▆▆▇█</td></tr><tr><td>train_accuracy</td><td>▁▄▅▆▇▇▇▇▇█</td></tr><tr><td>train_loss</td><td>█▅▄▃▃▂▂▂▂▁</td></tr><tr><td>val_MulticlassAUPRC</td><td>▁▃▆▇▇▇▇███</td></tr><tr><td>val_MulticlassAUROC</td><td>▁▄▆▇▇▇████</td></tr><tr><td>val_MulticlassAccuracy</td><td>▁▃▆▆▇▇▇█▇█</td></tr><tr><td>val_loss</td><td>█▅▃▂▂▂▂▁▁▁</td></tr></table><br/></div><div class=\"wandb-col\"><h3>Run summary:</h3><br/><table class=\"wandb\"><tr><td>epoch</td><td>9</td></tr><tr><td>train_accuracy</td><td>0.72884</td></tr><tr><td>train_loss</td><td>108.98097</td></tr><tr><td>val_MulticlassAUPRC</td><td>0.69917</td></tr><tr><td>val_MulticlassAUROC</td><td>0.83669</td></tr><tr><td>val_MulticlassAccuracy</td><td>0.71403</td></tr><tr><td>val_loss</td><td>29.04782</td></tr></table><br/></div></div>"
      ],
      "text/plain": [
       "<IPython.core.display.HTML object>"
      ]
     },
     "metadata": {},
     "output_type": "display_data"
    },
    {
     "data": {
      "text/html": [
       " View run <strong style=\"color:#cdcd00\">gene_5kb_128_0.001</strong> at: <a href='https://wandb.ai/bind-gps/BindGPS/runs/or57f6hj' target=\"_blank\">https://wandb.ai/bind-gps/BindGPS/runs/or57f6hj</a><br> View project at: <a href='https://wandb.ai/bind-gps/BindGPS' target=\"_blank\">https://wandb.ai/bind-gps/BindGPS</a><br>Synced 5 W&B file(s), 0 media file(s), 0 artifact file(s) and 0 other file(s)"
      ],
      "text/plain": [
       "<IPython.core.display.HTML object>"
      ]
     },
     "metadata": {},
     "output_type": "display_data"
    },
    {
     "data": {
      "text/html": [
       "Find logs at: <code>./wandb/run-20251002_141043-or57f6hj/logs</code>"
      ],
      "text/plain": [
       "<IPython.core.display.HTML object>"
      ]
     },
     "metadata": {},
     "output_type": "display_data"
    },
    {
     "name": "stderr",
     "output_type": "stream",
     "text": [
      "\u001b[34m\u001b[1mwandb\u001b[0m: Agent Starting Run: mek9j5n7 with config:\n",
      "\u001b[34m\u001b[1mwandb\u001b[0m: \tbatch_size: 128\n",
      "\u001b[34m\u001b[1mwandb\u001b[0m: \tepochs: 10\n",
      "\u001b[34m\u001b[1mwandb\u001b[0m: \thidden_dims: [256, 128]\n",
      "\u001b[34m\u001b[1mwandb\u001b[0m: \tlr: 0.001\n",
      "\u001b[34m\u001b[1mwandb\u001b[0m: \tresolution: 5kb\n",
      "\u001b[34m\u001b[1mwandb\u001b[0m: \tsvd_dim: 256\n",
      "\u001b[34m\u001b[1mwandb\u001b[0m: \ttarget_metric: MulticlassAUROC\n",
      "\u001b[34m\u001b[1mwandb\u001b[0m: \ttask: mre\n",
      "\u001b[34m\u001b[1mwandb\u001b[0m: \tweighted: True\n",
      "\u001b[34m\u001b[1mwandb\u001b[0m: \u001b[32m\u001b[41mERROR\u001b[0m Failed to detect the name of this notebook. You can set it manually with the WANDB_NOTEBOOK_NAME environment variable to enable code saving.\n"
     ]
    },
    {
     "data": {
      "text/html": [],
      "text/plain": [
       "<IPython.core.display.HTML object>"
      ]
     },
     "metadata": {},
     "output_type": "display_data"
    },
    {
     "data": {
      "text/html": [
       "Tracking run with wandb version 0.22.1"
      ],
      "text/plain": [
       "<IPython.core.display.HTML object>"
      ]
     },
     "metadata": {},
     "output_type": "display_data"
    },
    {
     "data": {
      "text/html": [
       "Run data is saved locally in <code>/oscar/data/larschan/shared_data/BindGPS/model/wandb/run-20251002_141053-mek9j5n7</code>"
      ],
      "text/plain": [
       "<IPython.core.display.HTML object>"
      ]
     },
     "metadata": {},
     "output_type": "display_data"
    },
    {
     "data": {
      "text/html": [
       "Syncing run <strong><a href='https://wandb.ai/bind-gps/BindGPS/runs/mek9j5n7' target=\"_blank\">eager-sweep-61</a></strong> to <a href='https://wandb.ai/bind-gps/BindGPS' target=\"_blank\">Weights & Biases</a> (<a href='https://wandb.me/developer-guide' target=\"_blank\">docs</a>)<br>Sweep page: <a href='https://wandb.ai/bind-gps/BindGPS/sweeps/79ufxypb' target=\"_blank\">https://wandb.ai/bind-gps/BindGPS/sweeps/79ufxypb</a>"
      ],
      "text/plain": [
       "<IPython.core.display.HTML object>"
      ]
     },
     "metadata": {},
     "output_type": "display_data"
    },
    {
     "data": {
      "text/html": [
       " View project at <a href='https://wandb.ai/bind-gps/BindGPS' target=\"_blank\">https://wandb.ai/bind-gps/BindGPS</a>"
      ],
      "text/plain": [
       "<IPython.core.display.HTML object>"
      ]
     },
     "metadata": {},
     "output_type": "display_data"
    },
    {
     "data": {
      "text/html": [
       " View sweep at <a href='https://wandb.ai/bind-gps/BindGPS/sweeps/79ufxypb' target=\"_blank\">https://wandb.ai/bind-gps/BindGPS/sweeps/79ufxypb</a>"
      ],
      "text/plain": [
       "<IPython.core.display.HTML object>"
      ]
     },
     "metadata": {},
     "output_type": "display_data"
    },
    {
     "data": {
      "text/html": [
       " View run at <a href='https://wandb.ai/bind-gps/BindGPS/runs/mek9j5n7' target=\"_blank\">https://wandb.ai/bind-gps/BindGPS/runs/mek9j5n7</a>"
      ],
      "text/plain": [
       "<IPython.core.display.HTML object>"
      ]
     },
     "metadata": {},
     "output_type": "display_data"
    },
    {
     "name": "stderr",
     "output_type": "stream",
     "text": [
      "\u001b[34m\u001b[1mwandb\u001b[0m: \u001b[33mWARNING\u001b[0m Calling wandb.login() after wandb.init() has no effect.\n"
     ]
    },
    {
     "name": "stdout",
     "output_type": "stream",
     "text": [
      "[Epoch 0] Train Loss: 157.0619, Acc: 0.5228\n",
      "[Epoch 0] Val Loss: 34.9252, Val Metrics: {'MulticlassAUROC': 0.7836795449256897, 'MulticlassAUPRC': 0.6304383277893066, 'MulticlassAccuracy': 0.5970203280448914}\n",
      "[Epoch 1] Train Loss: 136.5365, Acc: 0.5974\n",
      "[Epoch 1] Val Loss: 33.6574, Val Metrics: {'MulticlassAUROC': 0.7987858653068542, 'MulticlassAUPRC': 0.6514170169830322, 'MulticlassAccuracy': 0.6146438717842102}\n",
      "[Epoch 2] Train Loss: 129.2703, Acc: 0.6258\n",
      "[Epoch 2] Val Loss: 33.2534, Val Metrics: {'MulticlassAUROC': 0.804227352142334, 'MulticlassAUPRC': 0.6567703485488892, 'MulticlassAccuracy': 0.6131904125213623}\n",
      "[Epoch 3] Train Loss: 124.3222, Acc: 0.6458\n",
      "[Epoch 3] Val Loss: 33.6238, Val Metrics: {'MulticlassAUROC': 0.8116483688354492, 'MulticlassAUPRC': 0.6677727699279785, 'MulticlassAccuracy': 0.6240915656089783}\n",
      "[Epoch 4] Train Loss: 120.4071, Acc: 0.6559\n",
      "[Epoch 4] Val Loss: 32.9679, Val Metrics: {'MulticlassAUROC': 0.815613329410553, 'MulticlassAUPRC': 0.6735010147094727, 'MulticlassAccuracy': 0.6308139562606812}\n",
      "[Epoch 5] Train Loss: 114.8658, Acc: 0.6708\n",
      "[Epoch 5] Val Loss: 33.6178, Val Metrics: {'MulticlassAUROC': 0.8142035603523254, 'MulticlassAUPRC': 0.6735486388206482, 'MulticlassAccuracy': 0.6222746968269348}\n",
      "[Epoch 6] Train Loss: 112.3645, Acc: 0.6751\n",
      "[Epoch 6] Val Loss: 33.8122, Val Metrics: {'MulticlassAUROC': 0.8098732829093933, 'MulticlassAUPRC': 0.6579046845436096, 'MulticlassAccuracy': 0.624454915523529}\n",
      "[Epoch 7] Train Loss: 108.7125, Acc: 0.6836\n",
      "[Epoch 7] Val Loss: 34.0113, Val Metrics: {'MulticlassAUROC': 0.8148742318153381, 'MulticlassAUPRC': 0.6732980608940125, 'MulticlassAccuracy': 0.6429868936538696}\n",
      "[Epoch 8] Train Loss: 104.6341, Acc: 0.6936\n",
      "[Epoch 8] Val Loss: 34.6732, Val Metrics: {'MulticlassAUROC': 0.8195139765739441, 'MulticlassAUPRC': 0.6772848963737488, 'MulticlassAccuracy': 0.6527979373931885}\n",
      "[Epoch 9] Train Loss: 103.1241, Acc: 0.7029\n",
      "[Epoch 9] Val Loss: 35.3538, Val Metrics: {'MulticlassAUROC': 0.8161984086036682, 'MulticlassAUPRC': 0.6752353310585022, 'MulticlassAccuracy': 0.6473473906517029}\n"
     ]
    },
    {
     "data": {
      "text/html": [],
      "text/plain": [
       "<IPython.core.display.HTML object>"
      ]
     },
     "metadata": {},
     "output_type": "display_data"
    },
    {
     "data": {
      "text/html": [
       "<br>    <style><br>        .wandb-row {<br>            display: flex;<br>            flex-direction: row;<br>            flex-wrap: wrap;<br>            justify-content: flex-start;<br>            width: 100%;<br>        }<br>        .wandb-col {<br>            display: flex;<br>            flex-direction: column;<br>            flex-basis: 100%;<br>            flex: 1;<br>            padding: 10px;<br>        }<br>    </style><br><div class=\"wandb-row\"><div class=\"wandb-col\"><h3>Run history:</h3><br/><table class=\"wandb\"><tr><td>epoch</td><td>▁▂▃▃▄▅▆▆▇█</td></tr><tr><td>train_accuracy</td><td>▁▄▅▆▆▇▇▇██</td></tr><tr><td>train_loss</td><td>█▅▄▄▃▃▂▂▁▁</td></tr><tr><td>val_MulticlassAUPRC</td><td>▁▄▅▇▇▇▅▇██</td></tr><tr><td>val_MulticlassAUROC</td><td>▁▄▅▆▇▇▆▇█▇</td></tr><tr><td>val_MulticlassAccuracy</td><td>▁▃▃▄▅▄▄▇█▇</td></tr><tr><td>val_loss</td><td>▇▃▂▃▁▃▃▄▆█</td></tr></table><br/></div><div class=\"wandb-col\"><h3>Run summary:</h3><br/><table class=\"wandb\"><tr><td>epoch</td><td>9</td></tr><tr><td>train_accuracy</td><td>0.70295</td></tr><tr><td>train_loss</td><td>103.12408</td></tr><tr><td>val_MulticlassAUPRC</td><td>0.67524</td></tr><tr><td>val_MulticlassAUROC</td><td>0.8162</td></tr><tr><td>val_MulticlassAccuracy</td><td>0.64735</td></tr><tr><td>val_loss</td><td>35.35375</td></tr></table><br/></div></div>"
      ],
      "text/plain": [
       "<IPython.core.display.HTML object>"
      ]
     },
     "metadata": {},
     "output_type": "display_data"
    },
    {
     "data": {
      "text/html": [
       " View run <strong style=\"color:#cdcd00\">mre_5kb_256_0.001</strong> at: <a href='https://wandb.ai/bind-gps/BindGPS/runs/mek9j5n7' target=\"_blank\">https://wandb.ai/bind-gps/BindGPS/runs/mek9j5n7</a><br> View project at: <a href='https://wandb.ai/bind-gps/BindGPS' target=\"_blank\">https://wandb.ai/bind-gps/BindGPS</a><br>Synced 5 W&B file(s), 0 media file(s), 0 artifact file(s) and 0 other file(s)"
      ],
      "text/plain": [
       "<IPython.core.display.HTML object>"
      ]
     },
     "metadata": {},
     "output_type": "display_data"
    },
    {
     "data": {
      "text/html": [
       "Find logs at: <code>./wandb/run-20251002_141053-mek9j5n7/logs</code>"
      ],
      "text/plain": [
       "<IPython.core.display.HTML object>"
      ]
     },
     "metadata": {},
     "output_type": "display_data"
    },
    {
     "name": "stderr",
     "output_type": "stream",
     "text": [
      "\u001b[34m\u001b[1mwandb\u001b[0m: Sweep Agent: Waiting for job.\n",
      "\u001b[34m\u001b[1mwandb\u001b[0m: Job received.\n",
      "\u001b[34m\u001b[1mwandb\u001b[0m: Agent Starting Run: kqnogfb7 with config:\n",
      "\u001b[34m\u001b[1mwandb\u001b[0m: \tbatch_size: 128\n",
      "\u001b[34m\u001b[1mwandb\u001b[0m: \tepochs: 10\n",
      "\u001b[34m\u001b[1mwandb\u001b[0m: \thidden_dims: [256, 128]\n",
      "\u001b[34m\u001b[1mwandb\u001b[0m: \tlr: 0.001\n",
      "\u001b[34m\u001b[1mwandb\u001b[0m: \tresolution: 5kb\n",
      "\u001b[34m\u001b[1mwandb\u001b[0m: \tsvd_dim: 256\n",
      "\u001b[34m\u001b[1mwandb\u001b[0m: \ttarget_metric: MulticlassAUROC\n",
      "\u001b[34m\u001b[1mwandb\u001b[0m: \ttask: mre\n",
      "\u001b[34m\u001b[1mwandb\u001b[0m: \tweighted: False\n",
      "\u001b[34m\u001b[1mwandb\u001b[0m: \u001b[32m\u001b[41mERROR\u001b[0m Failed to detect the name of this notebook. You can set it manually with the WANDB_NOTEBOOK_NAME environment variable to enable code saving.\n"
     ]
    },
    {
     "data": {
      "text/html": [],
      "text/plain": [
       "<IPython.core.display.HTML object>"
      ]
     },
     "metadata": {},
     "output_type": "display_data"
    },
    {
     "data": {
      "text/html": [
       "Tracking run with wandb version 0.22.1"
      ],
      "text/plain": [
       "<IPython.core.display.HTML object>"
      ]
     },
     "metadata": {},
     "output_type": "display_data"
    },
    {
     "data": {
      "text/html": [
       "Run data is saved locally in <code>/oscar/data/larschan/shared_data/BindGPS/model/wandb/run-20251002_141114-kqnogfb7</code>"
      ],
      "text/plain": [
       "<IPython.core.display.HTML object>"
      ]
     },
     "metadata": {},
     "output_type": "display_data"
    },
    {
     "data": {
      "text/html": [
       "Syncing run <strong><a href='https://wandb.ai/bind-gps/BindGPS/runs/kqnogfb7' target=\"_blank\">sage-sweep-62</a></strong> to <a href='https://wandb.ai/bind-gps/BindGPS' target=\"_blank\">Weights & Biases</a> (<a href='https://wandb.me/developer-guide' target=\"_blank\">docs</a>)<br>Sweep page: <a href='https://wandb.ai/bind-gps/BindGPS/sweeps/79ufxypb' target=\"_blank\">https://wandb.ai/bind-gps/BindGPS/sweeps/79ufxypb</a>"
      ],
      "text/plain": [
       "<IPython.core.display.HTML object>"
      ]
     },
     "metadata": {},
     "output_type": "display_data"
    },
    {
     "data": {
      "text/html": [
       " View project at <a href='https://wandb.ai/bind-gps/BindGPS' target=\"_blank\">https://wandb.ai/bind-gps/BindGPS</a>"
      ],
      "text/plain": [
       "<IPython.core.display.HTML object>"
      ]
     },
     "metadata": {},
     "output_type": "display_data"
    },
    {
     "data": {
      "text/html": [
       " View sweep at <a href='https://wandb.ai/bind-gps/BindGPS/sweeps/79ufxypb' target=\"_blank\">https://wandb.ai/bind-gps/BindGPS/sweeps/79ufxypb</a>"
      ],
      "text/plain": [
       "<IPython.core.display.HTML object>"
      ]
     },
     "metadata": {},
     "output_type": "display_data"
    },
    {
     "data": {
      "text/html": [
       " View run at <a href='https://wandb.ai/bind-gps/BindGPS/runs/kqnogfb7' target=\"_blank\">https://wandb.ai/bind-gps/BindGPS/runs/kqnogfb7</a>"
      ],
      "text/plain": [
       "<IPython.core.display.HTML object>"
      ]
     },
     "metadata": {},
     "output_type": "display_data"
    },
    {
     "name": "stderr",
     "output_type": "stream",
     "text": [
      "\u001b[34m\u001b[1mwandb\u001b[0m: \u001b[33mWARNING\u001b[0m Calling wandb.login() after wandb.init() has no effect.\n"
     ]
    },
    {
     "name": "stdout",
     "output_type": "stream",
     "text": [
      "[Epoch 0] Train Loss: 142.4436, Acc: 0.5887\n",
      "[Epoch 0] Val Loss: 31.9204, Val Metrics: {'MulticlassAUROC': 0.801663875579834, 'MulticlassAUPRC': 0.6489664912223816, 'MulticlassAccuracy': 0.6509811282157898}\n",
      "[Epoch 1] Train Loss: 123.7038, Acc: 0.6639\n",
      "[Epoch 1] Val Loss: 29.9418, Val Metrics: {'MulticlassAUROC': 0.8213105797767639, 'MulticlassAUPRC': 0.6791419386863708, 'MulticlassAccuracy': 0.6758720874786377}\n",
      "[Epoch 2] Train Loss: 116.8911, Acc: 0.6815\n",
      "[Epoch 2] Val Loss: 29.3459, Val Metrics: {'MulticlassAUROC': 0.8284063935279846, 'MulticlassAUPRC': 0.6883520483970642, 'MulticlassAccuracy': 0.6829578280448914}\n",
      "[Epoch 3] Train Loss: 113.1979, Acc: 0.6984\n",
      "[Epoch 3] Val Loss: 29.2995, Val Metrics: {'MulticlassAUROC': 0.8327484726905823, 'MulticlassAUPRC': 0.692265510559082, 'MulticlassAccuracy': 0.6816860437393188}\n",
      "[Epoch 4] Train Loss: 110.1976, Acc: 0.7055\n",
      "[Epoch 4] Val Loss: 28.9010, Val Metrics: {'MulticlassAUROC': 0.8326451778411865, 'MulticlassAUPRC': 0.6957282423973083, 'MulticlassAccuracy': 0.6907703280448914}\n",
      "[Epoch 5] Train Loss: 106.7562, Acc: 0.7152\n",
      "[Epoch 5] Val Loss: 29.0002, Val Metrics: {'MulticlassAUROC': 0.8302886486053467, 'MulticlassAUPRC': 0.690235435962677, 'MulticlassAccuracy': 0.6900436282157898}\n",
      "[Epoch 6] Train Loss: 104.3788, Acc: 0.7249\n",
      "[Epoch 6] Val Loss: 28.8338, Val Metrics: {'MulticlassAUROC': 0.833378255367279, 'MulticlassAUPRC': 0.6979756951332092, 'MulticlassAccuracy': 0.6904069781303406}\n",
      "[Epoch 7] Train Loss: 101.8783, Acc: 0.7298\n",
      "[Epoch 7] Val Loss: 29.4873, Val Metrics: {'MulticlassAUROC': 0.8255370259284973, 'MulticlassAUPRC': 0.6844689249992371, 'MulticlassAccuracy': 0.6778706312179565}\n",
      "[Epoch 8] Train Loss: 99.6507, Acc: 0.7397\n",
      "[Epoch 8] Val Loss: 28.9862, Val Metrics: {'MulticlassAUROC': 0.8320021629333496, 'MulticlassAUPRC': 0.6966513991355896, 'MulticlassAccuracy': 0.6878633499145508}\n",
      "[Epoch 9] Train Loss: 97.3285, Acc: 0.7462\n",
      "[Epoch 9] Val Loss: 29.2811, Val Metrics: {'MulticlassAUROC': 0.8318173289299011, 'MulticlassAUPRC': 0.694525420665741, 'MulticlassAccuracy': 0.684411346912384}\n"
     ]
    },
    {
     "data": {
      "text/html": [],
      "text/plain": [
       "<IPython.core.display.HTML object>"
      ]
     },
     "metadata": {},
     "output_type": "display_data"
    },
    {
     "data": {
      "text/html": [
       "<br>    <style><br>        .wandb-row {<br>            display: flex;<br>            flex-direction: row;<br>            flex-wrap: wrap;<br>            justify-content: flex-start;<br>            width: 100%;<br>        }<br>        .wandb-col {<br>            display: flex;<br>            flex-direction: column;<br>            flex-basis: 100%;<br>            flex: 1;<br>            padding: 10px;<br>        }<br>    </style><br><div class=\"wandb-row\"><div class=\"wandb-col\"><h3>Run history:</h3><br/><table class=\"wandb\"><tr><td>epoch</td><td>▁▂▃▃▄▅▆▆▇█</td></tr><tr><td>train_accuracy</td><td>▁▄▅▆▆▇▇▇██</td></tr><tr><td>train_loss</td><td>█▅▄▃▃▂▂▂▁▁</td></tr><tr><td>val_MulticlassAUPRC</td><td>▁▅▇▇█▇█▆██</td></tr><tr><td>val_MulticlassAUROC</td><td>▁▅▇██▇█▆██</td></tr><tr><td>val_MulticlassAccuracy</td><td>▁▅▇▆███▆▇▇</td></tr><tr><td>val_loss</td><td>█▄▂▂▁▁▁▂▁▂</td></tr></table><br/></div><div class=\"wandb-col\"><h3>Run summary:</h3><br/><table class=\"wandb\"><tr><td>epoch</td><td>9</td></tr><tr><td>train_accuracy</td><td>0.74624</td></tr><tr><td>train_loss</td><td>97.32853</td></tr><tr><td>val_MulticlassAUPRC</td><td>0.69453</td></tr><tr><td>val_MulticlassAUROC</td><td>0.83182</td></tr><tr><td>val_MulticlassAccuracy</td><td>0.68441</td></tr><tr><td>val_loss</td><td>29.28107</td></tr></table><br/></div></div>"
      ],
      "text/plain": [
       "<IPython.core.display.HTML object>"
      ]
     },
     "metadata": {},
     "output_type": "display_data"
    },
    {
     "data": {
      "text/html": [
       " View run <strong style=\"color:#cdcd00\">mre_5kb_256_0.001</strong> at: <a href='https://wandb.ai/bind-gps/BindGPS/runs/kqnogfb7' target=\"_blank\">https://wandb.ai/bind-gps/BindGPS/runs/kqnogfb7</a><br> View project at: <a href='https://wandb.ai/bind-gps/BindGPS' target=\"_blank\">https://wandb.ai/bind-gps/BindGPS</a><br>Synced 5 W&B file(s), 0 media file(s), 0 artifact file(s) and 0 other file(s)"
      ],
      "text/plain": [
       "<IPython.core.display.HTML object>"
      ]
     },
     "metadata": {},
     "output_type": "display_data"
    },
    {
     "data": {
      "text/html": [
       "Find logs at: <code>./wandb/run-20251002_141114-kqnogfb7/logs</code>"
      ],
      "text/plain": [
       "<IPython.core.display.HTML object>"
      ]
     },
     "metadata": {},
     "output_type": "display_data"
    },
    {
     "name": "stderr",
     "output_type": "stream",
     "text": [
      "\u001b[34m\u001b[1mwandb\u001b[0m: Agent Starting Run: lz6eqwyg with config:\n",
      "\u001b[34m\u001b[1mwandb\u001b[0m: \tbatch_size: 128\n",
      "\u001b[34m\u001b[1mwandb\u001b[0m: \tepochs: 10\n",
      "\u001b[34m\u001b[1mwandb\u001b[0m: \thidden_dims: [256, 128]\n",
      "\u001b[34m\u001b[1mwandb\u001b[0m: \tlr: 0.001\n",
      "\u001b[34m\u001b[1mwandb\u001b[0m: \tresolution: 5kb\n",
      "\u001b[34m\u001b[1mwandb\u001b[0m: \tsvd_dim: 256\n",
      "\u001b[34m\u001b[1mwandb\u001b[0m: \ttarget_metric: MulticlassAUROC\n",
      "\u001b[34m\u001b[1mwandb\u001b[0m: \ttask: gene\n",
      "\u001b[34m\u001b[1mwandb\u001b[0m: \tweighted: True\n",
      "\u001b[34m\u001b[1mwandb\u001b[0m: \u001b[32m\u001b[41mERROR\u001b[0m Failed to detect the name of this notebook. You can set it manually with the WANDB_NOTEBOOK_NAME environment variable to enable code saving.\n"
     ]
    },
    {
     "data": {
      "text/html": [],
      "text/plain": [
       "<IPython.core.display.HTML object>"
      ]
     },
     "metadata": {},
     "output_type": "display_data"
    },
    {
     "data": {
      "text/html": [
       "Tracking run with wandb version 0.22.1"
      ],
      "text/plain": [
       "<IPython.core.display.HTML object>"
      ]
     },
     "metadata": {},
     "output_type": "display_data"
    },
    {
     "data": {
      "text/html": [
       "Run data is saved locally in <code>/oscar/data/larschan/shared_data/BindGPS/model/wandb/run-20251002_141124-lz6eqwyg</code>"
      ],
      "text/plain": [
       "<IPython.core.display.HTML object>"
      ]
     },
     "metadata": {},
     "output_type": "display_data"
    },
    {
     "data": {
      "text/html": [
       "Syncing run <strong><a href='https://wandb.ai/bind-gps/BindGPS/runs/lz6eqwyg' target=\"_blank\">winter-sweep-63</a></strong> to <a href='https://wandb.ai/bind-gps/BindGPS' target=\"_blank\">Weights & Biases</a> (<a href='https://wandb.me/developer-guide' target=\"_blank\">docs</a>)<br>Sweep page: <a href='https://wandb.ai/bind-gps/BindGPS/sweeps/79ufxypb' target=\"_blank\">https://wandb.ai/bind-gps/BindGPS/sweeps/79ufxypb</a>"
      ],
      "text/plain": [
       "<IPython.core.display.HTML object>"
      ]
     },
     "metadata": {},
     "output_type": "display_data"
    },
    {
     "data": {
      "text/html": [
       " View project at <a href='https://wandb.ai/bind-gps/BindGPS' target=\"_blank\">https://wandb.ai/bind-gps/BindGPS</a>"
      ],
      "text/plain": [
       "<IPython.core.display.HTML object>"
      ]
     },
     "metadata": {},
     "output_type": "display_data"
    },
    {
     "data": {
      "text/html": [
       " View sweep at <a href='https://wandb.ai/bind-gps/BindGPS/sweeps/79ufxypb' target=\"_blank\">https://wandb.ai/bind-gps/BindGPS/sweeps/79ufxypb</a>"
      ],
      "text/plain": [
       "<IPython.core.display.HTML object>"
      ]
     },
     "metadata": {},
     "output_type": "display_data"
    },
    {
     "data": {
      "text/html": [
       " View run at <a href='https://wandb.ai/bind-gps/BindGPS/runs/lz6eqwyg' target=\"_blank\">https://wandb.ai/bind-gps/BindGPS/runs/lz6eqwyg</a>"
      ],
      "text/plain": [
       "<IPython.core.display.HTML object>"
      ]
     },
     "metadata": {},
     "output_type": "display_data"
    },
    {
     "name": "stderr",
     "output_type": "stream",
     "text": [
      "\u001b[34m\u001b[1mwandb\u001b[0m: \u001b[33mWARNING\u001b[0m Calling wandb.login() after wandb.init() has no effect.\n"
     ]
    },
    {
     "name": "stdout",
     "output_type": "stream",
     "text": [
      "[Epoch 0] Train Loss: 147.2383, Acc: 0.6086\n",
      "[Epoch 0] Val Loss: 32.9499, Val Metrics: {'MulticlassAUROC': 0.8293612599372864, 'MulticlassAUPRC': 0.6842977404594421, 'MulticlassAccuracy': 0.6644258499145508}\n",
      "[Epoch 1] Train Loss: 130.7099, Acc: 0.6600\n",
      "[Epoch 1] Val Loss: 32.4713, Val Metrics: {'MulticlassAUROC': 0.837526798248291, 'MulticlassAUPRC': 0.6936809420585632, 'MulticlassAccuracy': 0.6746003031730652}\n",
      "[Epoch 2] Train Loss: 124.7928, Acc: 0.6764\n",
      "[Epoch 2] Val Loss: 32.4137, Val Metrics: {'MulticlassAUROC': 0.838029682636261, 'MulticlassAUPRC': 0.6942585110664368, 'MulticlassAccuracy': 0.6564316749572754}\n",
      "[Epoch 3] Train Loss: 120.1849, Acc: 0.6900\n",
      "[Epoch 3] Val Loss: 32.7613, Val Metrics: {'MulticlassAUROC': 0.8421154022216797, 'MulticlassAUPRC': 0.6994163990020752, 'MulticlassAccuracy': 0.6782340407371521}\n",
      "[Epoch 4] Train Loss: 116.6529, Acc: 0.6974\n",
      "[Epoch 4] Val Loss: 33.1805, Val Metrics: {'MulticlassAUROC': 0.8398079872131348, 'MulticlassAUPRC': 0.6969141364097595, 'MulticlassAccuracy': 0.6769621968269348}\n",
      "[Epoch 5] Train Loss: 113.4152, Acc: 0.7021\n",
      "[Epoch 5] Val Loss: 32.8387, Val Metrics: {'MulticlassAUROC': 0.8379738926887512, 'MulticlassAUPRC': 0.6942488551139832, 'MulticlassAccuracy': 0.6738735437393188}\n",
      "[Epoch 6] Train Loss: 110.0042, Acc: 0.7038\n",
      "[Epoch 6] Val Loss: 33.3901, Val Metrics: {'MulticlassAUROC': 0.8400976061820984, 'MulticlassAUPRC': 0.6962182521820068, 'MulticlassAccuracy': 0.6887717843055725}\n",
      "[Epoch 7] Train Loss: 106.5858, Acc: 0.7130\n",
      "[Epoch 7] Val Loss: 34.1805, Val Metrics: {'MulticlassAUROC': 0.8401656746864319, 'MulticlassAUPRC': 0.6937957406044006, 'MulticlassAccuracy': 0.6847746968269348}\n",
      "[Epoch 8] Train Loss: 104.0725, Acc: 0.7190\n",
      "[Epoch 8] Val Loss: 35.0175, Val Metrics: {'MulticlassAUROC': 0.8384998440742493, 'MulticlassAUPRC': 0.6957995891571045, 'MulticlassAccuracy': 0.6833212375640869}\n",
      "Early Stopping at epoch 9\n"
     ]
    },
    {
     "data": {
      "text/html": [],
      "text/plain": [
       "<IPython.core.display.HTML object>"
      ]
     },
     "metadata": {},
     "output_type": "display_data"
    },
    {
     "data": {
      "text/html": [
       "<br>    <style><br>        .wandb-row {<br>            display: flex;<br>            flex-direction: row;<br>            flex-wrap: wrap;<br>            justify-content: flex-start;<br>            width: 100%;<br>        }<br>        .wandb-col {<br>            display: flex;<br>            flex-direction: column;<br>            flex-basis: 100%;<br>            flex: 1;<br>            padding: 10px;<br>        }<br>    </style><br><div class=\"wandb-row\"><div class=\"wandb-col\"><h3>Run history:</h3><br/><table class=\"wandb\"><tr><td>epoch</td><td>▁▂▃▄▅▅▆▇█</td></tr><tr><td>train_accuracy</td><td>▁▄▅▆▇▇▇██</td></tr><tr><td>train_loss</td><td>█▅▄▄▃▃▂▁▁</td></tr><tr><td>val_MulticlassAUPRC</td><td>▁▅▆█▇▆▇▅▆</td></tr><tr><td>val_MulticlassAUROC</td><td>▁▅▆█▇▆▇▇▆</td></tr><tr><td>val_MulticlassAccuracy</td><td>▃▅▁▆▅▅█▇▇</td></tr><tr><td>val_loss</td><td>▂▁▁▂▃▂▄▆█</td></tr></table><br/></div><div class=\"wandb-col\"><h3>Run summary:</h3><br/><table class=\"wandb\"><tr><td>epoch</td><td>8</td></tr><tr><td>train_accuracy</td><td>0.71898</td></tr><tr><td>train_loss</td><td>104.07246</td></tr><tr><td>val_MulticlassAUPRC</td><td>0.6958</td></tr><tr><td>val_MulticlassAUROC</td><td>0.8385</td></tr><tr><td>val_MulticlassAccuracy</td><td>0.68332</td></tr><tr><td>val_loss</td><td>35.01747</td></tr></table><br/></div></div>"
      ],
      "text/plain": [
       "<IPython.core.display.HTML object>"
      ]
     },
     "metadata": {},
     "output_type": "display_data"
    },
    {
     "data": {
      "text/html": [
       " View run <strong style=\"color:#cdcd00\">gene_5kb_256_0.001</strong> at: <a href='https://wandb.ai/bind-gps/BindGPS/runs/lz6eqwyg' target=\"_blank\">https://wandb.ai/bind-gps/BindGPS/runs/lz6eqwyg</a><br> View project at: <a href='https://wandb.ai/bind-gps/BindGPS' target=\"_blank\">https://wandb.ai/bind-gps/BindGPS</a><br>Synced 5 W&B file(s), 0 media file(s), 0 artifact file(s) and 0 other file(s)"
      ],
      "text/plain": [
       "<IPython.core.display.HTML object>"
      ]
     },
     "metadata": {},
     "output_type": "display_data"
    },
    {
     "data": {
      "text/html": [
       "Find logs at: <code>./wandb/run-20251002_141124-lz6eqwyg/logs</code>"
      ],
      "text/plain": [
       "<IPython.core.display.HTML object>"
      ]
     },
     "metadata": {},
     "output_type": "display_data"
    },
    {
     "name": "stderr",
     "output_type": "stream",
     "text": [
      "\u001b[34m\u001b[1mwandb\u001b[0m: Agent Starting Run: 7ws33em5 with config:\n",
      "\u001b[34m\u001b[1mwandb\u001b[0m: \tbatch_size: 128\n",
      "\u001b[34m\u001b[1mwandb\u001b[0m: \tepochs: 10\n",
      "\u001b[34m\u001b[1mwandb\u001b[0m: \thidden_dims: [256, 128]\n",
      "\u001b[34m\u001b[1mwandb\u001b[0m: \tlr: 0.001\n",
      "\u001b[34m\u001b[1mwandb\u001b[0m: \tresolution: 5kb\n",
      "\u001b[34m\u001b[1mwandb\u001b[0m: \tsvd_dim: 256\n",
      "\u001b[34m\u001b[1mwandb\u001b[0m: \ttarget_metric: MulticlassAUROC\n",
      "\u001b[34m\u001b[1mwandb\u001b[0m: \ttask: gene\n",
      "\u001b[34m\u001b[1mwandb\u001b[0m: \tweighted: False\n",
      "\u001b[34m\u001b[1mwandb\u001b[0m: \u001b[32m\u001b[41mERROR\u001b[0m Failed to detect the name of this notebook. You can set it manually with the WANDB_NOTEBOOK_NAME environment variable to enable code saving.\n"
     ]
    },
    {
     "data": {
      "text/html": [],
      "text/plain": [
       "<IPython.core.display.HTML object>"
      ]
     },
     "metadata": {},
     "output_type": "display_data"
    },
    {
     "data": {
      "text/html": [
       "Tracking run with wandb version 0.22.1"
      ],
      "text/plain": [
       "<IPython.core.display.HTML object>"
      ]
     },
     "metadata": {},
     "output_type": "display_data"
    },
    {
     "data": {
      "text/html": [
       "Run data is saved locally in <code>/oscar/data/larschan/shared_data/BindGPS/model/wandb/run-20251002_141134-7ws33em5</code>"
      ],
      "text/plain": [
       "<IPython.core.display.HTML object>"
      ]
     },
     "metadata": {},
     "output_type": "display_data"
    },
    {
     "data": {
      "text/html": [
       "Syncing run <strong><a href='https://wandb.ai/bind-gps/BindGPS/runs/7ws33em5' target=\"_blank\">splendid-sweep-64</a></strong> to <a href='https://wandb.ai/bind-gps/BindGPS' target=\"_blank\">Weights & Biases</a> (<a href='https://wandb.me/developer-guide' target=\"_blank\">docs</a>)<br>Sweep page: <a href='https://wandb.ai/bind-gps/BindGPS/sweeps/79ufxypb' target=\"_blank\">https://wandb.ai/bind-gps/BindGPS/sweeps/79ufxypb</a>"
      ],
      "text/plain": [
       "<IPython.core.display.HTML object>"
      ]
     },
     "metadata": {},
     "output_type": "display_data"
    },
    {
     "data": {
      "text/html": [
       " View project at <a href='https://wandb.ai/bind-gps/BindGPS' target=\"_blank\">https://wandb.ai/bind-gps/BindGPS</a>"
      ],
      "text/plain": [
       "<IPython.core.display.HTML object>"
      ]
     },
     "metadata": {},
     "output_type": "display_data"
    },
    {
     "data": {
      "text/html": [
       " View sweep at <a href='https://wandb.ai/bind-gps/BindGPS/sweeps/79ufxypb' target=\"_blank\">https://wandb.ai/bind-gps/BindGPS/sweeps/79ufxypb</a>"
      ],
      "text/plain": [
       "<IPython.core.display.HTML object>"
      ]
     },
     "metadata": {},
     "output_type": "display_data"
    },
    {
     "data": {
      "text/html": [
       " View run at <a href='https://wandb.ai/bind-gps/BindGPS/runs/7ws33em5' target=\"_blank\">https://wandb.ai/bind-gps/BindGPS/runs/7ws33em5</a>"
      ],
      "text/plain": [
       "<IPython.core.display.HTML object>"
      ]
     },
     "metadata": {},
     "output_type": "display_data"
    },
    {
     "name": "stderr",
     "output_type": "stream",
     "text": [
      "\u001b[34m\u001b[1mwandb\u001b[0m: \u001b[33mWARNING\u001b[0m Calling wandb.login() after wandb.init() has no effect.\n"
     ]
    },
    {
     "name": "stdout",
     "output_type": "stream",
     "text": [
      "[Epoch 0] Train Loss: 130.7158, Acc: 0.6744\n",
      "[Epoch 0] Val Loss: 29.0894, Val Metrics: {'MulticlassAUROC': 0.842045783996582, 'MulticlassAUPRC': 0.6975031495094299, 'MulticlassAccuracy': 0.7045784592628479}\n",
      "[Epoch 1] Train Loss: 116.3483, Acc: 0.7097\n",
      "[Epoch 1] Val Loss: 28.5046, Val Metrics: {'MulticlassAUROC': 0.8472151756286621, 'MulticlassAUPRC': 0.7053017020225525, 'MulticlassAccuracy': 0.7154796719551086}\n",
      "[Epoch 2] Train Loss: 112.1513, Acc: 0.7231\n",
      "[Epoch 2] Val Loss: 28.1752, Val Metrics: {'MulticlassAUROC': 0.8523344993591309, 'MulticlassAUPRC': 0.7098953127861023, 'MulticlassAccuracy': 0.7107558250427246}\n",
      "[Epoch 3] Train Loss: 108.3004, Acc: 0.7318\n",
      "[Epoch 3] Val Loss: 27.8774, Val Metrics: {'MulticlassAUROC': 0.8544219136238098, 'MulticlassAUPRC': 0.7171141505241394, 'MulticlassAccuracy': 0.7172965407371521}\n",
      "[Epoch 4] Train Loss: 105.8084, Acc: 0.7366\n",
      "[Epoch 4] Val Loss: 27.9956, Val Metrics: {'MulticlassAUROC': 0.8520113825798035, 'MulticlassAUPRC': 0.7100989818572998, 'MulticlassAccuracy': 0.7180232405662537}\n",
      "[Epoch 5] Train Loss: 102.9322, Acc: 0.7452\n",
      "[Epoch 5] Val Loss: 28.2329, Val Metrics: {'MulticlassAUROC': 0.8521677851676941, 'MulticlassAUPRC': 0.7102190852165222, 'MulticlassAccuracy': 0.7163881063461304}\n",
      "[Epoch 6] Train Loss: 101.8649, Acc: 0.7492\n",
      "[Epoch 6] Val Loss: 28.0557, Val Metrics: {'MulticlassAUROC': 0.8527719974517822, 'MulticlassAUPRC': 0.7094714641571045, 'MulticlassAccuracy': 0.7265625}\n",
      "[Epoch 7] Train Loss: 99.2509, Acc: 0.7525\n",
      "[Epoch 7] Val Loss: 28.5973, Val Metrics: {'MulticlassAUROC': 0.8496010899543762, 'MulticlassAUPRC': 0.7038337588310242, 'MulticlassAccuracy': 0.7107558250427246}\n",
      "[Epoch 8] Train Loss: 97.3744, Acc: 0.7558\n",
      "[Epoch 8] Val Loss: 27.9517, Val Metrics: {'MulticlassAUROC': 0.8535116314888, 'MulticlassAUPRC': 0.7114297747612, 'MulticlassAccuracy': 0.7207485437393188}\n",
      "Early Stopping at epoch 9\n"
     ]
    },
    {
     "data": {
      "text/html": [],
      "text/plain": [
       "<IPython.core.display.HTML object>"
      ]
     },
     "metadata": {},
     "output_type": "display_data"
    },
    {
     "data": {
      "text/html": [
       "<br>    <style><br>        .wandb-row {<br>            display: flex;<br>            flex-direction: row;<br>            flex-wrap: wrap;<br>            justify-content: flex-start;<br>            width: 100%;<br>        }<br>        .wandb-col {<br>            display: flex;<br>            flex-direction: column;<br>            flex-basis: 100%;<br>            flex: 1;<br>            padding: 10px;<br>        }<br>    </style><br><div class=\"wandb-row\"><div class=\"wandb-col\"><h3>Run history:</h3><br/><table class=\"wandb\"><tr><td>epoch</td><td>▁▂▃▄▅▅▆▇█</td></tr><tr><td>train_accuracy</td><td>▁▄▅▆▆▇▇██</td></tr><tr><td>train_loss</td><td>█▅▄▃▃▂▂▁▁</td></tr><tr><td>val_MulticlassAUPRC</td><td>▁▄▅█▅▆▅▃▆</td></tr><tr><td>val_MulticlassAUROC</td><td>▁▄▇█▇▇▇▅▇</td></tr><tr><td>val_MulticlassAccuracy</td><td>▁▄▃▅▅▅█▃▆</td></tr><tr><td>val_loss</td><td>█▅▃▁▂▃▂▅▁</td></tr></table><br/></div><div class=\"wandb-col\"><h3>Run summary:</h3><br/><table class=\"wandb\"><tr><td>epoch</td><td>8</td></tr><tr><td>train_accuracy</td><td>0.75578</td></tr><tr><td>train_loss</td><td>97.37439</td></tr><tr><td>val_MulticlassAUPRC</td><td>0.71143</td></tr><tr><td>val_MulticlassAUROC</td><td>0.85351</td></tr><tr><td>val_MulticlassAccuracy</td><td>0.72075</td></tr><tr><td>val_loss</td><td>27.95166</td></tr></table><br/></div></div>"
      ],
      "text/plain": [
       "<IPython.core.display.HTML object>"
      ]
     },
     "metadata": {},
     "output_type": "display_data"
    },
    {
     "data": {
      "text/html": [
       " View run <strong style=\"color:#cdcd00\">gene_5kb_256_0.001</strong> at: <a href='https://wandb.ai/bind-gps/BindGPS/runs/7ws33em5' target=\"_blank\">https://wandb.ai/bind-gps/BindGPS/runs/7ws33em5</a><br> View project at: <a href='https://wandb.ai/bind-gps/BindGPS' target=\"_blank\">https://wandb.ai/bind-gps/BindGPS</a><br>Synced 5 W&B file(s), 0 media file(s), 0 artifact file(s) and 0 other file(s)"
      ],
      "text/plain": [
       "<IPython.core.display.HTML object>"
      ]
     },
     "metadata": {},
     "output_type": "display_data"
    },
    {
     "data": {
      "text/html": [
       "Find logs at: <code>./wandb/run-20251002_141134-7ws33em5/logs</code>"
      ],
      "text/plain": [
       "<IPython.core.display.HTML object>"
      ]
     },
     "metadata": {},
     "output_type": "display_data"
    },
    {
     "name": "stderr",
     "output_type": "stream",
     "text": [
      "\u001b[34m\u001b[1mwandb\u001b[0m: Agent Starting Run: ume6vcnr with config:\n",
      "\u001b[34m\u001b[1mwandb\u001b[0m: \tbatch_size: 128\n",
      "\u001b[34m\u001b[1mwandb\u001b[0m: \tepochs: 10\n",
      "\u001b[34m\u001b[1mwandb\u001b[0m: \thidden_dims: [256, 128]\n",
      "\u001b[34m\u001b[1mwandb\u001b[0m: \tlr: 0.001\n",
      "\u001b[34m\u001b[1mwandb\u001b[0m: \tresolution: 5kb\n",
      "\u001b[34m\u001b[1mwandb\u001b[0m: \tsvd_dim: 256\n",
      "\u001b[34m\u001b[1mwandb\u001b[0m: \ttarget_metric: MulticlassAccuracy\n",
      "\u001b[34m\u001b[1mwandb\u001b[0m: \ttask: mre\n",
      "\u001b[34m\u001b[1mwandb\u001b[0m: \tweighted: True\n",
      "\u001b[34m\u001b[1mwandb\u001b[0m: \u001b[32m\u001b[41mERROR\u001b[0m Failed to detect the name of this notebook. You can set it manually with the WANDB_NOTEBOOK_NAME environment variable to enable code saving.\n"
     ]
    },
    {
     "data": {
      "text/html": [],
      "text/plain": [
       "<IPython.core.display.HTML object>"
      ]
     },
     "metadata": {},
     "output_type": "display_data"
    },
    {
     "data": {
      "text/html": [
       "Tracking run with wandb version 0.22.1"
      ],
      "text/plain": [
       "<IPython.core.display.HTML object>"
      ]
     },
     "metadata": {},
     "output_type": "display_data"
    },
    {
     "data": {
      "text/html": [
       "Run data is saved locally in <code>/oscar/data/larschan/shared_data/BindGPS/model/wandb/run-20251002_141145-ume6vcnr</code>"
      ],
      "text/plain": [
       "<IPython.core.display.HTML object>"
      ]
     },
     "metadata": {},
     "output_type": "display_data"
    },
    {
     "data": {
      "text/html": [
       "Syncing run <strong><a href='https://wandb.ai/bind-gps/BindGPS/runs/ume6vcnr' target=\"_blank\">legendary-sweep-65</a></strong> to <a href='https://wandb.ai/bind-gps/BindGPS' target=\"_blank\">Weights & Biases</a> (<a href='https://wandb.me/developer-guide' target=\"_blank\">docs</a>)<br>Sweep page: <a href='https://wandb.ai/bind-gps/BindGPS/sweeps/79ufxypb' target=\"_blank\">https://wandb.ai/bind-gps/BindGPS/sweeps/79ufxypb</a>"
      ],
      "text/plain": [
       "<IPython.core.display.HTML object>"
      ]
     },
     "metadata": {},
     "output_type": "display_data"
    },
    {
     "data": {
      "text/html": [
       " View project at <a href='https://wandb.ai/bind-gps/BindGPS' target=\"_blank\">https://wandb.ai/bind-gps/BindGPS</a>"
      ],
      "text/plain": [
       "<IPython.core.display.HTML object>"
      ]
     },
     "metadata": {},
     "output_type": "display_data"
    },
    {
     "data": {
      "text/html": [
       " View sweep at <a href='https://wandb.ai/bind-gps/BindGPS/sweeps/79ufxypb' target=\"_blank\">https://wandb.ai/bind-gps/BindGPS/sweeps/79ufxypb</a>"
      ],
      "text/plain": [
       "<IPython.core.display.HTML object>"
      ]
     },
     "metadata": {},
     "output_type": "display_data"
    },
    {
     "data": {
      "text/html": [
       " View run at <a href='https://wandb.ai/bind-gps/BindGPS/runs/ume6vcnr' target=\"_blank\">https://wandb.ai/bind-gps/BindGPS/runs/ume6vcnr</a>"
      ],
      "text/plain": [
       "<IPython.core.display.HTML object>"
      ]
     },
     "metadata": {},
     "output_type": "display_data"
    },
    {
     "name": "stderr",
     "output_type": "stream",
     "text": [
      "\u001b[34m\u001b[1mwandb\u001b[0m: \u001b[33mWARNING\u001b[0m Calling wandb.login() after wandb.init() has no effect.\n"
     ]
    },
    {
     "name": "stdout",
     "output_type": "stream",
     "text": [
      "[Epoch 0] Train Loss: 153.7664, Acc: 0.5364\n",
      "[Epoch 0] Val Loss: 35.5063, Val Metrics: {'MulticlassAUROC': 0.7772212028503418, 'MulticlassAUPRC': 0.6281316876411438, 'MulticlassAccuracy': 0.6022892594337463}\n",
      "[Epoch 1] Train Loss: 134.1462, Acc: 0.6095\n",
      "[Epoch 1] Val Loss: 34.0256, Val Metrics: {'MulticlassAUROC': 0.7961565852165222, 'MulticlassAUPRC': 0.65083247423172, 'MulticlassAccuracy': 0.6193677186965942}\n",
      "[Epoch 2] Train Loss: 127.8689, Acc: 0.6317\n",
      "[Epoch 2] Val Loss: 33.8050, Val Metrics: {'MulticlassAUROC': 0.806851863861084, 'MulticlassAUPRC': 0.6653099060058594, 'MulticlassAccuracy': 0.6353561282157898}\n",
      "[Epoch 3] Train Loss: 123.4639, Acc: 0.6447\n",
      "[Epoch 3] Val Loss: 33.5918, Val Metrics: {'MulticlassAUROC': 0.8109801411628723, 'MulticlassAUPRC': 0.6711539626121521, 'MulticlassAccuracy': 0.6473473906517029}\n",
      "[Epoch 4] Train Loss: 118.8647, Acc: 0.6611\n",
      "[Epoch 4] Val Loss: 33.8347, Val Metrics: {'MulticlassAUROC': 0.8076837658882141, 'MulticlassAUPRC': 0.6729026436805725, 'MulticlassAccuracy': 0.6377180218696594}\n",
      "[Epoch 5] Train Loss: 113.8621, Acc: 0.6703\n",
      "[Epoch 5] Val Loss: 33.9639, Val Metrics: {'MulticlassAUROC': 0.8126382231712341, 'MulticlassAUPRC': 0.6754982471466064, 'MulticlassAccuracy': 0.6500726938247681}\n",
      "[Epoch 6] Train Loss: 112.2029, Acc: 0.6751\n",
      "[Epoch 6] Val Loss: 33.9519, Val Metrics: {'MulticlassAUROC': 0.8112144470214844, 'MulticlassAUPRC': 0.6740205883979797, 'MulticlassAccuracy': 0.6393532156944275}\n",
      "[Epoch 7] Train Loss: 107.2725, Acc: 0.6916\n",
      "[Epoch 7] Val Loss: 35.0873, Val Metrics: {'MulticlassAUROC': 0.8134147524833679, 'MulticlassAUPRC': 0.6754401326179504, 'MulticlassAccuracy': 0.6500726938247681}\n",
      "[Epoch 8] Train Loss: 104.1049, Acc: 0.6971\n",
      "[Epoch 8] Val Loss: 36.2802, Val Metrics: {'MulticlassAUROC': 0.8151853680610657, 'MulticlassAUPRC': 0.6771159768104553, 'MulticlassAccuracy': 0.6600654125213623}\n",
      "[Epoch 9] Train Loss: 100.3159, Acc: 0.7042\n",
      "[Epoch 9] Val Loss: 35.8219, Val Metrics: {'MulticlassAUROC': 0.8110595345497131, 'MulticlassAUPRC': 0.6764030456542969, 'MulticlassAccuracy': 0.648982584476471}\n"
     ]
    },
    {
     "data": {
      "text/html": [],
      "text/plain": [
       "<IPython.core.display.HTML object>"
      ]
     },
     "metadata": {},
     "output_type": "display_data"
    },
    {
     "data": {
      "text/html": [
       "<br>    <style><br>        .wandb-row {<br>            display: flex;<br>            flex-direction: row;<br>            flex-wrap: wrap;<br>            justify-content: flex-start;<br>            width: 100%;<br>        }<br>        .wandb-col {<br>            display: flex;<br>            flex-direction: column;<br>            flex-basis: 100%;<br>            flex: 1;<br>            padding: 10px;<br>        }<br>    </style><br><div class=\"wandb-row\"><div class=\"wandb-col\"><h3>Run history:</h3><br/><table class=\"wandb\"><tr><td>epoch</td><td>▁▂▃▃▄▅▆▆▇█</td></tr><tr><td>train_accuracy</td><td>▁▄▅▆▆▇▇▇██</td></tr><tr><td>train_loss</td><td>█▅▅▄▃▃▃▂▁▁</td></tr><tr><td>val_MulticlassAUPRC</td><td>▁▄▆▇▇█████</td></tr><tr><td>val_MulticlassAUROC</td><td>▁▄▆▇▇█▇██▇</td></tr><tr><td>val_MulticlassAccuracy</td><td>▁▃▅▆▅▇▅▇█▇</td></tr><tr><td>val_loss</td><td>▆▂▂▁▂▂▂▅█▇</td></tr></table><br/></div><div class=\"wandb-col\"><h3>Run summary:</h3><br/><table class=\"wandb\"><tr><td>epoch</td><td>9</td></tr><tr><td>train_accuracy</td><td>0.70417</td></tr><tr><td>train_loss</td><td>100.31591</td></tr><tr><td>val_MulticlassAUPRC</td><td>0.6764</td></tr><tr><td>val_MulticlassAUROC</td><td>0.81106</td></tr><tr><td>val_MulticlassAccuracy</td><td>0.64898</td></tr><tr><td>val_loss</td><td>35.82191</td></tr></table><br/></div></div>"
      ],
      "text/plain": [
       "<IPython.core.display.HTML object>"
      ]
     },
     "metadata": {},
     "output_type": "display_data"
    },
    {
     "data": {
      "text/html": [
       " View run <strong style=\"color:#cdcd00\">mre_5kb_256_0.001</strong> at: <a href='https://wandb.ai/bind-gps/BindGPS/runs/ume6vcnr' target=\"_blank\">https://wandb.ai/bind-gps/BindGPS/runs/ume6vcnr</a><br> View project at: <a href='https://wandb.ai/bind-gps/BindGPS' target=\"_blank\">https://wandb.ai/bind-gps/BindGPS</a><br>Synced 5 W&B file(s), 0 media file(s), 0 artifact file(s) and 0 other file(s)"
      ],
      "text/plain": [
       "<IPython.core.display.HTML object>"
      ]
     },
     "metadata": {},
     "output_type": "display_data"
    },
    {
     "data": {
      "text/html": [
       "Find logs at: <code>./wandb/run-20251002_141145-ume6vcnr/logs</code>"
      ],
      "text/plain": [
       "<IPython.core.display.HTML object>"
      ]
     },
     "metadata": {},
     "output_type": "display_data"
    },
    {
     "name": "stderr",
     "output_type": "stream",
     "text": [
      "\u001b[34m\u001b[1mwandb\u001b[0m: Agent Starting Run: ip3nwkdk with config:\n",
      "\u001b[34m\u001b[1mwandb\u001b[0m: \tbatch_size: 128\n",
      "\u001b[34m\u001b[1mwandb\u001b[0m: \tepochs: 10\n",
      "\u001b[34m\u001b[1mwandb\u001b[0m: \thidden_dims: [256, 128]\n",
      "\u001b[34m\u001b[1mwandb\u001b[0m: \tlr: 0.001\n",
      "\u001b[34m\u001b[1mwandb\u001b[0m: \tresolution: 5kb\n",
      "\u001b[34m\u001b[1mwandb\u001b[0m: \tsvd_dim: 256\n",
      "\u001b[34m\u001b[1mwandb\u001b[0m: \ttarget_metric: MulticlassAccuracy\n",
      "\u001b[34m\u001b[1mwandb\u001b[0m: \ttask: mre\n",
      "\u001b[34m\u001b[1mwandb\u001b[0m: \tweighted: False\n",
      "\u001b[34m\u001b[1mwandb\u001b[0m: \u001b[32m\u001b[41mERROR\u001b[0m Failed to detect the name of this notebook. You can set it manually with the WANDB_NOTEBOOK_NAME environment variable to enable code saving.\n"
     ]
    },
    {
     "data": {
      "text/html": [],
      "text/plain": [
       "<IPython.core.display.HTML object>"
      ]
     },
     "metadata": {},
     "output_type": "display_data"
    },
    {
     "data": {
      "text/html": [
       "Tracking run with wandb version 0.22.1"
      ],
      "text/plain": [
       "<IPython.core.display.HTML object>"
      ]
     },
     "metadata": {},
     "output_type": "display_data"
    },
    {
     "data": {
      "text/html": [
       "Run data is saved locally in <code>/oscar/data/larschan/shared_data/BindGPS/model/wandb/run-20251002_141155-ip3nwkdk</code>"
      ],
      "text/plain": [
       "<IPython.core.display.HTML object>"
      ]
     },
     "metadata": {},
     "output_type": "display_data"
    },
    {
     "data": {
      "text/html": [
       "Syncing run <strong><a href='https://wandb.ai/bind-gps/BindGPS/runs/ip3nwkdk' target=\"_blank\">swept-sweep-66</a></strong> to <a href='https://wandb.ai/bind-gps/BindGPS' target=\"_blank\">Weights & Biases</a> (<a href='https://wandb.me/developer-guide' target=\"_blank\">docs</a>)<br>Sweep page: <a href='https://wandb.ai/bind-gps/BindGPS/sweeps/79ufxypb' target=\"_blank\">https://wandb.ai/bind-gps/BindGPS/sweeps/79ufxypb</a>"
      ],
      "text/plain": [
       "<IPython.core.display.HTML object>"
      ]
     },
     "metadata": {},
     "output_type": "display_data"
    },
    {
     "data": {
      "text/html": [
       " View project at <a href='https://wandb.ai/bind-gps/BindGPS' target=\"_blank\">https://wandb.ai/bind-gps/BindGPS</a>"
      ],
      "text/plain": [
       "<IPython.core.display.HTML object>"
      ]
     },
     "metadata": {},
     "output_type": "display_data"
    },
    {
     "data": {
      "text/html": [
       " View sweep at <a href='https://wandb.ai/bind-gps/BindGPS/sweeps/79ufxypb' target=\"_blank\">https://wandb.ai/bind-gps/BindGPS/sweeps/79ufxypb</a>"
      ],
      "text/plain": [
       "<IPython.core.display.HTML object>"
      ]
     },
     "metadata": {},
     "output_type": "display_data"
    },
    {
     "data": {
      "text/html": [
       " View run at <a href='https://wandb.ai/bind-gps/BindGPS/runs/ip3nwkdk' target=\"_blank\">https://wandb.ai/bind-gps/BindGPS/runs/ip3nwkdk</a>"
      ],
      "text/plain": [
       "<IPython.core.display.HTML object>"
      ]
     },
     "metadata": {},
     "output_type": "display_data"
    },
    {
     "name": "stderr",
     "output_type": "stream",
     "text": [
      "\u001b[34m\u001b[1mwandb\u001b[0m: \u001b[33mWARNING\u001b[0m Calling wandb.login() after wandb.init() has no effect.\n"
     ]
    },
    {
     "name": "stdout",
     "output_type": "stream",
     "text": [
      "[Epoch 0] Train Loss: 143.0338, Acc: 0.5853\n",
      "[Epoch 0] Val Loss: 31.9529, Val Metrics: {'MulticlassAUROC': 0.8005409240722656, 'MulticlassAUPRC': 0.6418570876121521, 'MulticlassAccuracy': 0.6549782156944275}\n",
      "[Epoch 1] Train Loss: 123.5462, Acc: 0.6590\n",
      "[Epoch 1] Val Loss: 30.4873, Val Metrics: {'MulticlassAUROC': 0.8122310638427734, 'MulticlassAUPRC': 0.6609531044960022, 'MulticlassAccuracy': 0.6611555218696594}\n",
      "[Epoch 2] Train Loss: 116.5677, Acc: 0.6829\n",
      "[Epoch 2] Val Loss: 30.1980, Val Metrics: {'MulticlassAUROC': 0.8185673356056213, 'MulticlassAUPRC': 0.6702940464019775, 'MulticlassAccuracy': 0.6636991500854492}\n",
      "[Epoch 3] Train Loss: 113.5017, Acc: 0.6943\n",
      "[Epoch 3] Val Loss: 29.5201, Val Metrics: {'MulticlassAUROC': 0.8233957290649414, 'MulticlassAUPRC': 0.6760517954826355, 'MulticlassAccuracy': 0.6824128031730652}\n",
      "[Epoch 4] Train Loss: 110.5688, Acc: 0.7053\n",
      "[Epoch 4] Val Loss: 29.5031, Val Metrics: {'MulticlassAUROC': 0.8241392970085144, 'MulticlassAUPRC': 0.676973283290863, 'MulticlassAccuracy': 0.6835029125213623}\n",
      "[Epoch 5] Train Loss: 106.2254, Acc: 0.7184\n",
      "[Epoch 5] Val Loss: 29.6405, Val Metrics: {'MulticlassAUROC': 0.8227086067199707, 'MulticlassAUPRC': 0.6735007166862488, 'MulticlassAccuracy': 0.6798691749572754}\n",
      "[Epoch 6] Train Loss: 104.6477, Acc: 0.7244\n",
      "[Epoch 6] Val Loss: 29.2189, Val Metrics: {'MulticlassAUROC': 0.8257387280464172, 'MulticlassAUPRC': 0.6795626282691956, 'MulticlassAccuracy': 0.686954915523529}\n",
      "[Epoch 7] Train Loss: 101.9456, Acc: 0.7327\n",
      "[Epoch 7] Val Loss: 29.5500, Val Metrics: {'MulticlassAUROC': 0.8262403607368469, 'MulticlassAUPRC': 0.6813066601753235, 'MulticlassAccuracy': 0.6804142594337463}\n",
      "[Epoch 8] Train Loss: 99.7337, Acc: 0.7355\n",
      "[Epoch 8] Val Loss: 30.1283, Val Metrics: {'MulticlassAUROC': 0.8224002718925476, 'MulticlassAUPRC': 0.6765480637550354, 'MulticlassAccuracy': 0.6776889562606812}\n",
      "[Epoch 9] Train Loss: 97.4276, Acc: 0.7451\n",
      "[Epoch 9] Val Loss: 30.2327, Val Metrics: {'MulticlassAUROC': 0.8217647075653076, 'MulticlassAUPRC': 0.6761966347694397, 'MulticlassAccuracy': 0.6755087375640869}\n"
     ]
    },
    {
     "data": {
      "text/html": [],
      "text/plain": [
       "<IPython.core.display.HTML object>"
      ]
     },
     "metadata": {},
     "output_type": "display_data"
    },
    {
     "data": {
      "text/html": [
       "<br>    <style><br>        .wandb-row {<br>            display: flex;<br>            flex-direction: row;<br>            flex-wrap: wrap;<br>            justify-content: flex-start;<br>            width: 100%;<br>        }<br>        .wandb-col {<br>            display: flex;<br>            flex-direction: column;<br>            flex-basis: 100%;<br>            flex: 1;<br>            padding: 10px;<br>        }<br>    </style><br><div class=\"wandb-row\"><div class=\"wandb-col\"><h3>Run history:</h3><br/><table class=\"wandb\"><tr><td>epoch</td><td>▁▂▃▃▄▅▆▆▇█</td></tr><tr><td>train_accuracy</td><td>▁▄▅▆▆▇▇▇██</td></tr><tr><td>train_loss</td><td>█▅▄▃▃▂▂▂▁▁</td></tr><tr><td>val_MulticlassAUPRC</td><td>▁▄▆▇▇▇██▇▇</td></tr><tr><td>val_MulticlassAUROC</td><td>▁▄▆▇▇▇██▇▇</td></tr><tr><td>val_MulticlassAccuracy</td><td>▁▂▃▇▇▆█▇▆▅</td></tr><tr><td>val_loss</td><td>█▄▄▂▂▂▁▂▃▄</td></tr></table><br/></div><div class=\"wandb-col\"><h3>Run summary:</h3><br/><table class=\"wandb\"><tr><td>epoch</td><td>9</td></tr><tr><td>train_accuracy</td><td>0.74506</td></tr><tr><td>train_loss</td><td>97.42758</td></tr><tr><td>val_MulticlassAUPRC</td><td>0.6762</td></tr><tr><td>val_MulticlassAUROC</td><td>0.82176</td></tr><tr><td>val_MulticlassAccuracy</td><td>0.67551</td></tr><tr><td>val_loss</td><td>30.2327</td></tr></table><br/></div></div>"
      ],
      "text/plain": [
       "<IPython.core.display.HTML object>"
      ]
     },
     "metadata": {},
     "output_type": "display_data"
    },
    {
     "data": {
      "text/html": [
       " View run <strong style=\"color:#cdcd00\">mre_5kb_256_0.001</strong> at: <a href='https://wandb.ai/bind-gps/BindGPS/runs/ip3nwkdk' target=\"_blank\">https://wandb.ai/bind-gps/BindGPS/runs/ip3nwkdk</a><br> View project at: <a href='https://wandb.ai/bind-gps/BindGPS' target=\"_blank\">https://wandb.ai/bind-gps/BindGPS</a><br>Synced 5 W&B file(s), 0 media file(s), 0 artifact file(s) and 0 other file(s)"
      ],
      "text/plain": [
       "<IPython.core.display.HTML object>"
      ]
     },
     "metadata": {},
     "output_type": "display_data"
    },
    {
     "data": {
      "text/html": [
       "Find logs at: <code>./wandb/run-20251002_141155-ip3nwkdk/logs</code>"
      ],
      "text/plain": [
       "<IPython.core.display.HTML object>"
      ]
     },
     "metadata": {},
     "output_type": "display_data"
    },
    {
     "name": "stderr",
     "output_type": "stream",
     "text": [
      "\u001b[34m\u001b[1mwandb\u001b[0m: Agent Starting Run: hm4ix712 with config:\n",
      "\u001b[34m\u001b[1mwandb\u001b[0m: \tbatch_size: 128\n",
      "\u001b[34m\u001b[1mwandb\u001b[0m: \tepochs: 10\n",
      "\u001b[34m\u001b[1mwandb\u001b[0m: \thidden_dims: [256, 128]\n",
      "\u001b[34m\u001b[1mwandb\u001b[0m: \tlr: 0.001\n",
      "\u001b[34m\u001b[1mwandb\u001b[0m: \tresolution: 5kb\n",
      "\u001b[34m\u001b[1mwandb\u001b[0m: \tsvd_dim: 256\n",
      "\u001b[34m\u001b[1mwandb\u001b[0m: \ttarget_metric: MulticlassAccuracy\n",
      "\u001b[34m\u001b[1mwandb\u001b[0m: \ttask: gene\n",
      "\u001b[34m\u001b[1mwandb\u001b[0m: \tweighted: True\n",
      "\u001b[34m\u001b[1mwandb\u001b[0m: \u001b[32m\u001b[41mERROR\u001b[0m Failed to detect the name of this notebook. You can set it manually with the WANDB_NOTEBOOK_NAME environment variable to enable code saving.\n"
     ]
    },
    {
     "data": {
      "text/html": [],
      "text/plain": [
       "<IPython.core.display.HTML object>"
      ]
     },
     "metadata": {},
     "output_type": "display_data"
    },
    {
     "data": {
      "text/html": [
       "Tracking run with wandb version 0.22.1"
      ],
      "text/plain": [
       "<IPython.core.display.HTML object>"
      ]
     },
     "metadata": {},
     "output_type": "display_data"
    },
    {
     "data": {
      "text/html": [
       "Run data is saved locally in <code>/oscar/data/larschan/shared_data/BindGPS/model/wandb/run-20251002_141205-hm4ix712</code>"
      ],
      "text/plain": [
       "<IPython.core.display.HTML object>"
      ]
     },
     "metadata": {},
     "output_type": "display_data"
    },
    {
     "data": {
      "text/html": [
       "Syncing run <strong><a href='https://wandb.ai/bind-gps/BindGPS/runs/hm4ix712' target=\"_blank\">comic-sweep-67</a></strong> to <a href='https://wandb.ai/bind-gps/BindGPS' target=\"_blank\">Weights & Biases</a> (<a href='https://wandb.me/developer-guide' target=\"_blank\">docs</a>)<br>Sweep page: <a href='https://wandb.ai/bind-gps/BindGPS/sweeps/79ufxypb' target=\"_blank\">https://wandb.ai/bind-gps/BindGPS/sweeps/79ufxypb</a>"
      ],
      "text/plain": [
       "<IPython.core.display.HTML object>"
      ]
     },
     "metadata": {},
     "output_type": "display_data"
    },
    {
     "data": {
      "text/html": [
       " View project at <a href='https://wandb.ai/bind-gps/BindGPS' target=\"_blank\">https://wandb.ai/bind-gps/BindGPS</a>"
      ],
      "text/plain": [
       "<IPython.core.display.HTML object>"
      ]
     },
     "metadata": {},
     "output_type": "display_data"
    },
    {
     "data": {
      "text/html": [
       " View sweep at <a href='https://wandb.ai/bind-gps/BindGPS/sweeps/79ufxypb' target=\"_blank\">https://wandb.ai/bind-gps/BindGPS/sweeps/79ufxypb</a>"
      ],
      "text/plain": [
       "<IPython.core.display.HTML object>"
      ]
     },
     "metadata": {},
     "output_type": "display_data"
    },
    {
     "data": {
      "text/html": [
       " View run at <a href='https://wandb.ai/bind-gps/BindGPS/runs/hm4ix712' target=\"_blank\">https://wandb.ai/bind-gps/BindGPS/runs/hm4ix712</a>"
      ],
      "text/plain": [
       "<IPython.core.display.HTML object>"
      ]
     },
     "metadata": {},
     "output_type": "display_data"
    },
    {
     "name": "stderr",
     "output_type": "stream",
     "text": [
      "\u001b[34m\u001b[1mwandb\u001b[0m: \u001b[33mWARNING\u001b[0m Calling wandb.login() after wandb.init() has no effect.\n"
     ]
    },
    {
     "name": "stdout",
     "output_type": "stream",
     "text": [
      "[Epoch 0] Train Loss: 146.1941, Acc: 0.6096\n",
      "[Epoch 0] Val Loss: 33.6318, Val Metrics: {'MulticlassAUROC': 0.8233404755592346, 'MulticlassAUPRC': 0.6640226244926453, 'MulticlassAccuracy': 0.6520712375640869}\n",
      "[Epoch 1] Train Loss: 129.6507, Acc: 0.6659\n",
      "[Epoch 1] Val Loss: 33.3432, Val Metrics: {'MulticlassAUROC': 0.8261842131614685, 'MulticlassAUPRC': 0.666687548160553, 'MulticlassAccuracy': 0.6497092843055725}\n",
      "[Epoch 2] Train Loss: 123.6981, Acc: 0.6798\n",
      "[Epoch 2] Val Loss: 32.9765, Val Metrics: {'MulticlassAUROC': 0.8325510025024414, 'MulticlassAUPRC': 0.6737918257713318, 'MulticlassAccuracy': 0.6700581312179565}\n",
      "[Epoch 3] Train Loss: 119.4832, Acc: 0.6886\n",
      "[Epoch 3] Val Loss: 33.1201, Val Metrics: {'MulticlassAUROC': 0.8279299736022949, 'MulticlassAUPRC': 0.6743535995483398, 'MulticlassAccuracy': 0.6511628031730652}\n",
      "[Epoch 4] Train Loss: 115.0606, Acc: 0.6983\n",
      "[Epoch 4] Val Loss: 33.2737, Val Metrics: {'MulticlassAUROC': 0.8327130675315857, 'MulticlassAUPRC': 0.6769658923149109, 'MulticlassAccuracy': 0.6656976938247681}\n",
      "[Epoch 5] Train Loss: 112.8099, Acc: 0.7039\n",
      "[Epoch 5] Val Loss: 33.5320, Val Metrics: {'MulticlassAUROC': 0.8367211222648621, 'MulticlassAUPRC': 0.6849432587623596, 'MulticlassAccuracy': 0.6900436282157898}\n",
      "[Epoch 6] Train Loss: 108.2778, Acc: 0.7122\n",
      "[Epoch 6] Val Loss: 33.8772, Val Metrics: {'MulticlassAUROC': 0.8319563865661621, 'MulticlassAUPRC': 0.6809487342834473, 'MulticlassAccuracy': 0.6698764562606812}\n",
      "[Epoch 7] Train Loss: 104.4692, Acc: 0.7160\n",
      "[Epoch 7] Val Loss: 35.6388, Val Metrics: {'MulticlassAUROC': 0.8314706683158875, 'MulticlassAUPRC': 0.6783819198608398, 'MulticlassAccuracy': 0.6711482405662537}\n",
      "[Epoch 8] Train Loss: 102.7551, Acc: 0.7224\n",
      "[Epoch 8] Val Loss: 37.9162, Val Metrics: {'MulticlassAUROC': 0.834372341632843, 'MulticlassAUPRC': 0.6859632134437561, 'MulticlassAccuracy': 0.6784157156944275}\n",
      "[Epoch 9] Train Loss: 98.4887, Acc: 0.7267\n",
      "[Epoch 9] Val Loss: 36.4576, Val Metrics: {'MulticlassAUROC': 0.8308100700378418, 'MulticlassAUPRC': 0.6837881207466125, 'MulticlassAccuracy': 0.6809592843055725}\n"
     ]
    },
    {
     "data": {
      "text/html": [],
      "text/plain": [
       "<IPython.core.display.HTML object>"
      ]
     },
     "metadata": {},
     "output_type": "display_data"
    },
    {
     "data": {
      "text/html": [
       "<br>    <style><br>        .wandb-row {<br>            display: flex;<br>            flex-direction: row;<br>            flex-wrap: wrap;<br>            justify-content: flex-start;<br>            width: 100%;<br>        }<br>        .wandb-col {<br>            display: flex;<br>            flex-direction: column;<br>            flex-basis: 100%;<br>            flex: 1;<br>            padding: 10px;<br>        }<br>    </style><br><div class=\"wandb-row\"><div class=\"wandb-col\"><h3>Run history:</h3><br/><table class=\"wandb\"><tr><td>epoch</td><td>▁▂▃▃▄▅▆▆▇█</td></tr><tr><td>train_accuracy</td><td>▁▄▅▆▆▇▇▇██</td></tr><tr><td>train_loss</td><td>█▆▅▄▃▃▂▂▂▁</td></tr><tr><td>val_MulticlassAUPRC</td><td>▁▂▄▄▅█▆▆█▇</td></tr><tr><td>val_MulticlassAUROC</td><td>▁▂▆▃▆█▆▅▇▅</td></tr><tr><td>val_MulticlassAccuracy</td><td>▁▁▅▁▄█▅▅▆▆</td></tr><tr><td>val_loss</td><td>▂▂▁▁▁▂▂▅█▆</td></tr></table><br/></div><div class=\"wandb-col\"><h3>Run summary:</h3><br/><table class=\"wandb\"><tr><td>epoch</td><td>9</td></tr><tr><td>train_accuracy</td><td>0.72671</td></tr><tr><td>train_loss</td><td>98.48875</td></tr><tr><td>val_MulticlassAUPRC</td><td>0.68379</td></tr><tr><td>val_MulticlassAUROC</td><td>0.83081</td></tr><tr><td>val_MulticlassAccuracy</td><td>0.68096</td></tr><tr><td>val_loss</td><td>36.45759</td></tr></table><br/></div></div>"
      ],
      "text/plain": [
       "<IPython.core.display.HTML object>"
      ]
     },
     "metadata": {},
     "output_type": "display_data"
    },
    {
     "data": {
      "text/html": [
       " View run <strong style=\"color:#cdcd00\">gene_5kb_256_0.001</strong> at: <a href='https://wandb.ai/bind-gps/BindGPS/runs/hm4ix712' target=\"_blank\">https://wandb.ai/bind-gps/BindGPS/runs/hm4ix712</a><br> View project at: <a href='https://wandb.ai/bind-gps/BindGPS' target=\"_blank\">https://wandb.ai/bind-gps/BindGPS</a><br>Synced 5 W&B file(s), 0 media file(s), 0 artifact file(s) and 0 other file(s)"
      ],
      "text/plain": [
       "<IPython.core.display.HTML object>"
      ]
     },
     "metadata": {},
     "output_type": "display_data"
    },
    {
     "data": {
      "text/html": [
       "Find logs at: <code>./wandb/run-20251002_141205-hm4ix712/logs</code>"
      ],
      "text/plain": [
       "<IPython.core.display.HTML object>"
      ]
     },
     "metadata": {},
     "output_type": "display_data"
    },
    {
     "name": "stderr",
     "output_type": "stream",
     "text": [
      "\u001b[34m\u001b[1mwandb\u001b[0m: Agent Starting Run: vn2gdsaq with config:\n",
      "\u001b[34m\u001b[1mwandb\u001b[0m: \tbatch_size: 128\n",
      "\u001b[34m\u001b[1mwandb\u001b[0m: \tepochs: 10\n",
      "\u001b[34m\u001b[1mwandb\u001b[0m: \thidden_dims: [256, 128]\n",
      "\u001b[34m\u001b[1mwandb\u001b[0m: \tlr: 0.001\n",
      "\u001b[34m\u001b[1mwandb\u001b[0m: \tresolution: 5kb\n",
      "\u001b[34m\u001b[1mwandb\u001b[0m: \tsvd_dim: 256\n",
      "\u001b[34m\u001b[1mwandb\u001b[0m: \ttarget_metric: MulticlassAccuracy\n",
      "\u001b[34m\u001b[1mwandb\u001b[0m: \ttask: gene\n",
      "\u001b[34m\u001b[1mwandb\u001b[0m: \tweighted: False\n",
      "\u001b[34m\u001b[1mwandb\u001b[0m: \u001b[32m\u001b[41mERROR\u001b[0m Failed to detect the name of this notebook. You can set it manually with the WANDB_NOTEBOOK_NAME environment variable to enable code saving.\n"
     ]
    },
    {
     "data": {
      "text/html": [],
      "text/plain": [
       "<IPython.core.display.HTML object>"
      ]
     },
     "metadata": {},
     "output_type": "display_data"
    },
    {
     "data": {
      "text/html": [
       "Tracking run with wandb version 0.22.1"
      ],
      "text/plain": [
       "<IPython.core.display.HTML object>"
      ]
     },
     "metadata": {},
     "output_type": "display_data"
    },
    {
     "data": {
      "text/html": [
       "Run data is saved locally in <code>/oscar/data/larschan/shared_data/BindGPS/model/wandb/run-20251002_141216-vn2gdsaq</code>"
      ],
      "text/plain": [
       "<IPython.core.display.HTML object>"
      ]
     },
     "metadata": {},
     "output_type": "display_data"
    },
    {
     "data": {
      "text/html": [
       "Syncing run <strong><a href='https://wandb.ai/bind-gps/BindGPS/runs/vn2gdsaq' target=\"_blank\">cosmic-sweep-68</a></strong> to <a href='https://wandb.ai/bind-gps/BindGPS' target=\"_blank\">Weights & Biases</a> (<a href='https://wandb.me/developer-guide' target=\"_blank\">docs</a>)<br>Sweep page: <a href='https://wandb.ai/bind-gps/BindGPS/sweeps/79ufxypb' target=\"_blank\">https://wandb.ai/bind-gps/BindGPS/sweeps/79ufxypb</a>"
      ],
      "text/plain": [
       "<IPython.core.display.HTML object>"
      ]
     },
     "metadata": {},
     "output_type": "display_data"
    },
    {
     "data": {
      "text/html": [
       " View project at <a href='https://wandb.ai/bind-gps/BindGPS' target=\"_blank\">https://wandb.ai/bind-gps/BindGPS</a>"
      ],
      "text/plain": [
       "<IPython.core.display.HTML object>"
      ]
     },
     "metadata": {},
     "output_type": "display_data"
    },
    {
     "data": {
      "text/html": [
       " View sweep at <a href='https://wandb.ai/bind-gps/BindGPS/sweeps/79ufxypb' target=\"_blank\">https://wandb.ai/bind-gps/BindGPS/sweeps/79ufxypb</a>"
      ],
      "text/plain": [
       "<IPython.core.display.HTML object>"
      ]
     },
     "metadata": {},
     "output_type": "display_data"
    },
    {
     "data": {
      "text/html": [
       " View run at <a href='https://wandb.ai/bind-gps/BindGPS/runs/vn2gdsaq' target=\"_blank\">https://wandb.ai/bind-gps/BindGPS/runs/vn2gdsaq</a>"
      ],
      "text/plain": [
       "<IPython.core.display.HTML object>"
      ]
     },
     "metadata": {},
     "output_type": "display_data"
    },
    {
     "name": "stderr",
     "output_type": "stream",
     "text": [
      "\u001b[34m\u001b[1mwandb\u001b[0m: \u001b[33mWARNING\u001b[0m Calling wandb.login() after wandb.init() has no effect.\n"
     ]
    },
    {
     "name": "stdout",
     "output_type": "stream",
     "text": [
      "[Epoch 0] Train Loss: 129.9122, Acc: 0.6755\n",
      "[Epoch 0] Val Loss: 29.9777, Val Metrics: {'MulticlassAUROC': 0.8285724520683289, 'MulticlassAUPRC': 0.6827718615531921, 'MulticlassAccuracy': 0.6989462375640869}\n",
      "[Epoch 1] Train Loss: 115.1021, Acc: 0.7148\n",
      "[Epoch 1] Val Loss: 29.5569, Val Metrics: {'MulticlassAUROC': 0.8348298668861389, 'MulticlassAUPRC': 0.6919431090354919, 'MulticlassAccuracy': 0.7074854373931885}\n",
      "[Epoch 2] Train Loss: 111.0489, Acc: 0.7251\n",
      "[Epoch 2] Val Loss: 29.4223, Val Metrics: {'MulticlassAUROC': 0.8369837403297424, 'MulticlassAUPRC': 0.6934941411018372, 'MulticlassAccuracy': 0.711482584476471}\n",
      "[Epoch 3] Train Loss: 107.6938, Acc: 0.7313\n",
      "[Epoch 3] Val Loss: 29.1904, Val Metrics: {'MulticlassAUROC': 0.8367443084716797, 'MulticlassAUPRC': 0.6977276802062988, 'MulticlassAccuracy': 0.7125726938247681}\n",
      "[Epoch 4] Train Loss: 104.6315, Acc: 0.7418\n",
      "[Epoch 4] Val Loss: 29.1777, Val Metrics: {'MulticlassAUROC': 0.8406584858894348, 'MulticlassAUPRC': 0.7012885212898254, 'MulticlassAccuracy': 0.7098473906517029}\n",
      "[Epoch 5] Train Loss: 102.3039, Acc: 0.7428\n",
      "[Epoch 5] Val Loss: 29.4718, Val Metrics: {'MulticlassAUROC': 0.8397395014762878, 'MulticlassAUPRC': 0.6968798637390137, 'MulticlassAccuracy': 0.7147529125213623}\n",
      "[Epoch 6] Train Loss: 100.4394, Acc: 0.7508\n",
      "[Epoch 6] Val Loss: 29.8105, Val Metrics: {'MulticlassAUROC': 0.8368492722511292, 'MulticlassAUPRC': 0.6920159459114075, 'MulticlassAccuracy': 0.7089389562606812}\n",
      "[Epoch 7] Train Loss: 97.7180, Acc: 0.7565\n",
      "[Epoch 7] Val Loss: 29.5273, Val Metrics: {'MulticlassAUROC': 0.8391402363777161, 'MulticlassAUPRC': 0.6991954445838928, 'MulticlassAccuracy': 0.7138444781303406}\n",
      "[Epoch 8] Train Loss: 96.0621, Acc: 0.7638\n",
      "[Epoch 8] Val Loss: 30.2304, Val Metrics: {'MulticlassAUROC': 0.836591899394989, 'MulticlassAUPRC': 0.6958829760551453, 'MulticlassAccuracy': 0.7147529125213623}\n",
      "[Epoch 9] Train Loss: 93.2268, Acc: 0.7691\n",
      "[Epoch 9] Val Loss: 30.3943, Val Metrics: {'MulticlassAUROC': 0.8360728621482849, 'MulticlassAUPRC': 0.6904855370521545, 'MulticlassAccuracy': 0.7165697813034058}\n"
     ]
    },
    {
     "data": {
      "text/html": [],
      "text/plain": [
       "<IPython.core.display.HTML object>"
      ]
     },
     "metadata": {},
     "output_type": "display_data"
    },
    {
     "data": {
      "text/html": [
       "<br>    <style><br>        .wandb-row {<br>            display: flex;<br>            flex-direction: row;<br>            flex-wrap: wrap;<br>            justify-content: flex-start;<br>            width: 100%;<br>        }<br>        .wandb-col {<br>            display: flex;<br>            flex-direction: column;<br>            flex-basis: 100%;<br>            flex: 1;<br>            padding: 10px;<br>        }<br>    </style><br><div class=\"wandb-row\"><div class=\"wandb-col\"><h3>Run history:</h3><br/><table class=\"wandb\"><tr><td>epoch</td><td>▁▂▃▃▄▅▆▆▇█</td></tr><tr><td>train_accuracy</td><td>▁▄▅▅▆▆▇▇██</td></tr><tr><td>train_loss</td><td>█▅▄▄▃▃▂▂▂▁</td></tr><tr><td>val_MulticlassAUPRC</td><td>▁▄▅▇█▆▄▇▆▄</td></tr><tr><td>val_MulticlassAUROC</td><td>▁▅▆▆█▇▆▇▆▅</td></tr><tr><td>val_MulticlassAccuracy</td><td>▁▄▆▆▅▇▅▇▇█</td></tr><tr><td>val_loss</td><td>▆▃▂▁▁▃▅▃▇█</td></tr></table><br/></div><div class=\"wandb-col\"><h3>Run summary:</h3><br/><table class=\"wandb\"><tr><td>epoch</td><td>9</td></tr><tr><td>train_accuracy</td><td>0.76914</td></tr><tr><td>train_loss</td><td>93.22682</td></tr><tr><td>val_MulticlassAUPRC</td><td>0.69049</td></tr><tr><td>val_MulticlassAUROC</td><td>0.83607</td></tr><tr><td>val_MulticlassAccuracy</td><td>0.71657</td></tr><tr><td>val_loss</td><td>30.39426</td></tr></table><br/></div></div>"
      ],
      "text/plain": [
       "<IPython.core.display.HTML object>"
      ]
     },
     "metadata": {},
     "output_type": "display_data"
    },
    {
     "data": {
      "text/html": [
       " View run <strong style=\"color:#cdcd00\">gene_5kb_256_0.001</strong> at: <a href='https://wandb.ai/bind-gps/BindGPS/runs/vn2gdsaq' target=\"_blank\">https://wandb.ai/bind-gps/BindGPS/runs/vn2gdsaq</a><br> View project at: <a href='https://wandb.ai/bind-gps/BindGPS' target=\"_blank\">https://wandb.ai/bind-gps/BindGPS</a><br>Synced 5 W&B file(s), 0 media file(s), 0 artifact file(s) and 0 other file(s)"
      ],
      "text/plain": [
       "<IPython.core.display.HTML object>"
      ]
     },
     "metadata": {},
     "output_type": "display_data"
    },
    {
     "data": {
      "text/html": [
       "Find logs at: <code>./wandb/run-20251002_141216-vn2gdsaq/logs</code>"
      ],
      "text/plain": [
       "<IPython.core.display.HTML object>"
      ]
     },
     "metadata": {},
     "output_type": "display_data"
    },
    {
     "name": "stderr",
     "output_type": "stream",
     "text": [
      "\u001b[34m\u001b[1mwandb\u001b[0m: Agent Starting Run: zgnjo473 with config:\n",
      "\u001b[34m\u001b[1mwandb\u001b[0m: \tbatch_size: 128\n",
      "\u001b[34m\u001b[1mwandb\u001b[0m: \tepochs: 10\n",
      "\u001b[34m\u001b[1mwandb\u001b[0m: \thidden_dims: [256, 128]\n",
      "\u001b[34m\u001b[1mwandb\u001b[0m: \tlr: 0.001\n",
      "\u001b[34m\u001b[1mwandb\u001b[0m: \tresolution: 5kb\n",
      "\u001b[34m\u001b[1mwandb\u001b[0m: \tsvd_dim: 256\n",
      "\u001b[34m\u001b[1mwandb\u001b[0m: \ttarget_metric: MulticlassAUPRC\n",
      "\u001b[34m\u001b[1mwandb\u001b[0m: \ttask: mre\n",
      "\u001b[34m\u001b[1mwandb\u001b[0m: \tweighted: True\n",
      "\u001b[34m\u001b[1mwandb\u001b[0m: \u001b[32m\u001b[41mERROR\u001b[0m Failed to detect the name of this notebook. You can set it manually with the WANDB_NOTEBOOK_NAME environment variable to enable code saving.\n"
     ]
    },
    {
     "data": {
      "text/html": [],
      "text/plain": [
       "<IPython.core.display.HTML object>"
      ]
     },
     "metadata": {},
     "output_type": "display_data"
    },
    {
     "data": {
      "text/html": [
       "Tracking run with wandb version 0.22.1"
      ],
      "text/plain": [
       "<IPython.core.display.HTML object>"
      ]
     },
     "metadata": {},
     "output_type": "display_data"
    },
    {
     "data": {
      "text/html": [
       "Run data is saved locally in <code>/oscar/data/larschan/shared_data/BindGPS/model/wandb/run-20251002_141226-zgnjo473</code>"
      ],
      "text/plain": [
       "<IPython.core.display.HTML object>"
      ]
     },
     "metadata": {},
     "output_type": "display_data"
    },
    {
     "data": {
      "text/html": [
       "Syncing run <strong><a href='https://wandb.ai/bind-gps/BindGPS/runs/zgnjo473' target=\"_blank\">polished-sweep-69</a></strong> to <a href='https://wandb.ai/bind-gps/BindGPS' target=\"_blank\">Weights & Biases</a> (<a href='https://wandb.me/developer-guide' target=\"_blank\">docs</a>)<br>Sweep page: <a href='https://wandb.ai/bind-gps/BindGPS/sweeps/79ufxypb' target=\"_blank\">https://wandb.ai/bind-gps/BindGPS/sweeps/79ufxypb</a>"
      ],
      "text/plain": [
       "<IPython.core.display.HTML object>"
      ]
     },
     "metadata": {},
     "output_type": "display_data"
    },
    {
     "data": {
      "text/html": [
       " View project at <a href='https://wandb.ai/bind-gps/BindGPS' target=\"_blank\">https://wandb.ai/bind-gps/BindGPS</a>"
      ],
      "text/plain": [
       "<IPython.core.display.HTML object>"
      ]
     },
     "metadata": {},
     "output_type": "display_data"
    },
    {
     "data": {
      "text/html": [
       " View sweep at <a href='https://wandb.ai/bind-gps/BindGPS/sweeps/79ufxypb' target=\"_blank\">https://wandb.ai/bind-gps/BindGPS/sweeps/79ufxypb</a>"
      ],
      "text/plain": [
       "<IPython.core.display.HTML object>"
      ]
     },
     "metadata": {},
     "output_type": "display_data"
    },
    {
     "data": {
      "text/html": [
       " View run at <a href='https://wandb.ai/bind-gps/BindGPS/runs/zgnjo473' target=\"_blank\">https://wandb.ai/bind-gps/BindGPS/runs/zgnjo473</a>"
      ],
      "text/plain": [
       "<IPython.core.display.HTML object>"
      ]
     },
     "metadata": {},
     "output_type": "display_data"
    },
    {
     "name": "stderr",
     "output_type": "stream",
     "text": [
      "\u001b[34m\u001b[1mwandb\u001b[0m: \u001b[33mWARNING\u001b[0m Calling wandb.login() after wandb.init() has no effect.\n"
     ]
    },
    {
     "name": "stdout",
     "output_type": "stream",
     "text": [
      "[Epoch 0] Train Loss: 154.9814, Acc: 0.5355\n",
      "[Epoch 0] Val Loss: 35.2533, Val Metrics: {'MulticlassAUROC': 0.7768861651420593, 'MulticlassAUPRC': 0.6210179924964905, 'MulticlassAccuracy': 0.5792151093482971}\n",
      "[Epoch 1] Train Loss: 136.0379, Acc: 0.6046\n",
      "[Epoch 1] Val Loss: 33.7020, Val Metrics: {'MulticlassAUROC': 0.7997406125068665, 'MulticlassAUPRC': 0.6518380641937256, 'MulticlassAccuracy': 0.6071947813034058}\n",
      "[Epoch 2] Train Loss: 127.9912, Acc: 0.6307\n",
      "[Epoch 2] Val Loss: 33.6410, Val Metrics: {'MulticlassAUROC': 0.8089811205863953, 'MulticlassAUPRC': 0.6632853150367737, 'MulticlassAccuracy': 0.6211845874786377}\n",
      "[Epoch 3] Train Loss: 122.6945, Acc: 0.6466\n",
      "[Epoch 3] Val Loss: 32.8032, Val Metrics: {'MulticlassAUROC': 0.8148935437202454, 'MulticlassAUPRC': 0.672852098941803, 'MulticlassAccuracy': 0.6331758499145508}\n",
      "[Epoch 4] Train Loss: 118.2210, Acc: 0.6576\n",
      "[Epoch 4] Val Loss: 32.8215, Val Metrics: {'MulticlassAUROC': 0.8177275657653809, 'MulticlassAUPRC': 0.6760895252227783, 'MulticlassAccuracy': 0.6402616500854492}\n",
      "[Epoch 5] Train Loss: 114.1935, Acc: 0.6672\n",
      "[Epoch 5] Val Loss: 33.2248, Val Metrics: {'MulticlassAUROC': 0.818354606628418, 'MulticlassAUPRC': 0.6795149445533752, 'MulticlassAccuracy': 0.6388081312179565}\n",
      "[Epoch 6] Train Loss: 110.8542, Acc: 0.6808\n",
      "[Epoch 6] Val Loss: 34.3990, Val Metrics: {'MulticlassAUROC': 0.8187215328216553, 'MulticlassAUPRC': 0.6778410077095032, 'MulticlassAccuracy': 0.6558866500854492}\n",
      "[Epoch 7] Train Loss: 107.7167, Acc: 0.6890\n",
      "[Epoch 7] Val Loss: 33.4195, Val Metrics: {'MulticlassAUROC': 0.8151800632476807, 'MulticlassAUPRC': 0.6722855567932129, 'MulticlassAccuracy': 0.6309956312179565}\n",
      "[Epoch 8] Train Loss: 104.3429, Acc: 0.6920\n",
      "[Epoch 8] Val Loss: 33.8212, Val Metrics: {'MulticlassAUROC': 0.8194713592529297, 'MulticlassAUPRC': 0.6824952960014343, 'MulticlassAccuracy': 0.6537063717842102}\n",
      "[Epoch 9] Train Loss: 100.2703, Acc: 0.7029\n",
      "[Epoch 9] Val Loss: 37.0134, Val Metrics: {'MulticlassAUROC': 0.8178396224975586, 'MulticlassAUPRC': 0.6777181029319763, 'MulticlassAccuracy': 0.6649709343910217}\n"
     ]
    },
    {
     "data": {
      "text/html": [],
      "text/plain": [
       "<IPython.core.display.HTML object>"
      ]
     },
     "metadata": {},
     "output_type": "display_data"
    },
    {
     "data": {
      "text/html": [
       "<br>    <style><br>        .wandb-row {<br>            display: flex;<br>            flex-direction: row;<br>            flex-wrap: wrap;<br>            justify-content: flex-start;<br>            width: 100%;<br>        }<br>        .wandb-col {<br>            display: flex;<br>            flex-direction: column;<br>            flex-basis: 100%;<br>            flex: 1;<br>            padding: 10px;<br>        }<br>    </style><br><div class=\"wandb-row\"><div class=\"wandb-col\"><h3>Run history:</h3><br/><table class=\"wandb\"><tr><td>epoch</td><td>▁▂▃▃▄▅▆▆▇█</td></tr><tr><td>train_accuracy</td><td>▁▄▅▆▆▇▇▇██</td></tr><tr><td>train_loss</td><td>█▆▅▄▃▃▂▂▂▁</td></tr><tr><td>val_MulticlassAUPRC</td><td>▁▅▆▇▇█▇▇█▇</td></tr><tr><td>val_MulticlassAUROC</td><td>▁▅▆▇███▇██</td></tr><tr><td>val_MulticlassAccuracy</td><td>▁▃▄▅▆▆▇▅▇█</td></tr><tr><td>val_loss</td><td>▅▂▂▁▁▂▄▂▃█</td></tr></table><br/></div><div class=\"wandb-col\"><h3>Run summary:</h3><br/><table class=\"wandb\"><tr><td>epoch</td><td>9</td></tr><tr><td>train_accuracy</td><td>0.7029</td></tr><tr><td>train_loss</td><td>100.27033</td></tr><tr><td>val_MulticlassAUPRC</td><td>0.67772</td></tr><tr><td>val_MulticlassAUROC</td><td>0.81784</td></tr><tr><td>val_MulticlassAccuracy</td><td>0.66497</td></tr><tr><td>val_loss</td><td>37.01337</td></tr></table><br/></div></div>"
      ],
      "text/plain": [
       "<IPython.core.display.HTML object>"
      ]
     },
     "metadata": {},
     "output_type": "display_data"
    },
    {
     "data": {
      "text/html": [
       " View run <strong style=\"color:#cdcd00\">mre_5kb_256_0.001</strong> at: <a href='https://wandb.ai/bind-gps/BindGPS/runs/zgnjo473' target=\"_blank\">https://wandb.ai/bind-gps/BindGPS/runs/zgnjo473</a><br> View project at: <a href='https://wandb.ai/bind-gps/BindGPS' target=\"_blank\">https://wandb.ai/bind-gps/BindGPS</a><br>Synced 5 W&B file(s), 0 media file(s), 0 artifact file(s) and 0 other file(s)"
      ],
      "text/plain": [
       "<IPython.core.display.HTML object>"
      ]
     },
     "metadata": {},
     "output_type": "display_data"
    },
    {
     "data": {
      "text/html": [
       "Find logs at: <code>./wandb/run-20251002_141226-zgnjo473/logs</code>"
      ],
      "text/plain": [
       "<IPython.core.display.HTML object>"
      ]
     },
     "metadata": {},
     "output_type": "display_data"
    },
    {
     "name": "stderr",
     "output_type": "stream",
     "text": [
      "\u001b[34m\u001b[1mwandb\u001b[0m: Agent Starting Run: yeeigtoz with config:\n",
      "\u001b[34m\u001b[1mwandb\u001b[0m: \tbatch_size: 128\n",
      "\u001b[34m\u001b[1mwandb\u001b[0m: \tepochs: 10\n",
      "\u001b[34m\u001b[1mwandb\u001b[0m: \thidden_dims: [256, 128]\n",
      "\u001b[34m\u001b[1mwandb\u001b[0m: \tlr: 0.001\n",
      "\u001b[34m\u001b[1mwandb\u001b[0m: \tresolution: 5kb\n",
      "\u001b[34m\u001b[1mwandb\u001b[0m: \tsvd_dim: 256\n",
      "\u001b[34m\u001b[1mwandb\u001b[0m: \ttarget_metric: MulticlassAUPRC\n",
      "\u001b[34m\u001b[1mwandb\u001b[0m: \ttask: mre\n",
      "\u001b[34m\u001b[1mwandb\u001b[0m: \tweighted: False\n",
      "\u001b[34m\u001b[1mwandb\u001b[0m: \u001b[32m\u001b[41mERROR\u001b[0m Failed to detect the name of this notebook. You can set it manually with the WANDB_NOTEBOOK_NAME environment variable to enable code saving.\n"
     ]
    },
    {
     "data": {
      "text/html": [],
      "text/plain": [
       "<IPython.core.display.HTML object>"
      ]
     },
     "metadata": {},
     "output_type": "display_data"
    },
    {
     "data": {
      "text/html": [
       "Tracking run with wandb version 0.22.1"
      ],
      "text/plain": [
       "<IPython.core.display.HTML object>"
      ]
     },
     "metadata": {},
     "output_type": "display_data"
    },
    {
     "data": {
      "text/html": [
       "Run data is saved locally in <code>/oscar/data/larschan/shared_data/BindGPS/model/wandb/run-20251002_141236-yeeigtoz</code>"
      ],
      "text/plain": [
       "<IPython.core.display.HTML object>"
      ]
     },
     "metadata": {},
     "output_type": "display_data"
    },
    {
     "data": {
      "text/html": [
       "Syncing run <strong><a href='https://wandb.ai/bind-gps/BindGPS/runs/yeeigtoz' target=\"_blank\">brisk-sweep-70</a></strong> to <a href='https://wandb.ai/bind-gps/BindGPS' target=\"_blank\">Weights & Biases</a> (<a href='https://wandb.me/developer-guide' target=\"_blank\">docs</a>)<br>Sweep page: <a href='https://wandb.ai/bind-gps/BindGPS/sweeps/79ufxypb' target=\"_blank\">https://wandb.ai/bind-gps/BindGPS/sweeps/79ufxypb</a>"
      ],
      "text/plain": [
       "<IPython.core.display.HTML object>"
      ]
     },
     "metadata": {},
     "output_type": "display_data"
    },
    {
     "data": {
      "text/html": [
       " View project at <a href='https://wandb.ai/bind-gps/BindGPS' target=\"_blank\">https://wandb.ai/bind-gps/BindGPS</a>"
      ],
      "text/plain": [
       "<IPython.core.display.HTML object>"
      ]
     },
     "metadata": {},
     "output_type": "display_data"
    },
    {
     "data": {
      "text/html": [
       " View sweep at <a href='https://wandb.ai/bind-gps/BindGPS/sweeps/79ufxypb' target=\"_blank\">https://wandb.ai/bind-gps/BindGPS/sweeps/79ufxypb</a>"
      ],
      "text/plain": [
       "<IPython.core.display.HTML object>"
      ]
     },
     "metadata": {},
     "output_type": "display_data"
    },
    {
     "data": {
      "text/html": [
       " View run at <a href='https://wandb.ai/bind-gps/BindGPS/runs/yeeigtoz' target=\"_blank\">https://wandb.ai/bind-gps/BindGPS/runs/yeeigtoz</a>"
      ],
      "text/plain": [
       "<IPython.core.display.HTML object>"
      ]
     },
     "metadata": {},
     "output_type": "display_data"
    },
    {
     "name": "stderr",
     "output_type": "stream",
     "text": [
      "\u001b[34m\u001b[1mwandb\u001b[0m: \u001b[33mWARNING\u001b[0m Calling wandb.login() after wandb.init() has no effect.\n"
     ]
    },
    {
     "name": "stdout",
     "output_type": "stream",
     "text": [
      "[Epoch 0] Train Loss: 142.0491, Acc: 0.5924\n",
      "[Epoch 0] Val Loss: 31.6147, Val Metrics: {'MulticlassAUROC': 0.7993243336677551, 'MulticlassAUPRC': 0.6406357288360596, 'MulticlassAccuracy': 0.6497092843055725}\n",
      "[Epoch 1] Train Loss: 123.2706, Acc: 0.6629\n",
      "[Epoch 1] Val Loss: 29.8543, Val Metrics: {'MulticlassAUROC': 0.8184070587158203, 'MulticlassAUPRC': 0.6706278920173645, 'MulticlassAccuracy': 0.6653342843055725}\n",
      "[Epoch 2] Train Loss: 116.6675, Acc: 0.6865\n",
      "[Epoch 2] Val Loss: 29.5582, Val Metrics: {'MulticlassAUROC': 0.8238100409507751, 'MulticlassAUPRC': 0.6752233505249023, 'MulticlassAccuracy': 0.6696947813034058}\n",
      "[Epoch 3] Train Loss: 112.7094, Acc: 0.7002\n",
      "[Epoch 3] Val Loss: 29.4252, Val Metrics: {'MulticlassAUROC': 0.8239970803260803, 'MulticlassAUPRC': 0.6742509007453918, 'MulticlassAccuracy': 0.6771438717842102}\n",
      "[Epoch 4] Train Loss: 109.9915, Acc: 0.7086\n",
      "[Epoch 4] Val Loss: 29.3593, Val Metrics: {'MulticlassAUROC': 0.8250170350074768, 'MulticlassAUPRC': 0.676941454410553, 'MulticlassAccuracy': 0.6782340407371521}\n",
      "[Epoch 5] Train Loss: 106.8959, Acc: 0.7162\n",
      "[Epoch 5] Val Loss: 29.4709, Val Metrics: {'MulticlassAUROC': 0.824925422668457, 'MulticlassAUPRC': 0.6765616536140442, 'MulticlassAccuracy': 0.676598846912384}\n",
      "[Epoch 6] Train Loss: 104.2328, Acc: 0.7254\n",
      "[Epoch 6] Val Loss: 29.4220, Val Metrics: {'MulticlassAUROC': 0.8273861408233643, 'MulticlassAUPRC': 0.6803093552589417, 'MulticlassAccuracy': 0.6796875}\n",
      "[Epoch 7] Train Loss: 102.1061, Acc: 0.7321\n",
      "[Epoch 7] Val Loss: 29.3920, Val Metrics: {'MulticlassAUROC': 0.8257566094398499, 'MulticlassAUPRC': 0.6748201251029968, 'MulticlassAccuracy': 0.6784157156944275}\n",
      "[Epoch 8] Train Loss: 99.9744, Acc: 0.7368\n",
      "[Epoch 8] Val Loss: 29.6013, Val Metrics: {'MulticlassAUROC': 0.8259790539741516, 'MulticlassAUPRC': 0.6752960085868835, 'MulticlassAccuracy': 0.6778706312179565}\n",
      "[Epoch 9] Train Loss: 97.6634, Acc: 0.7423\n",
      "[Epoch 9] Val Loss: 29.7615, Val Metrics: {'MulticlassAUROC': 0.8257172107696533, 'MulticlassAUPRC': 0.6749860644340515, 'MulticlassAccuracy': 0.6796875}\n"
     ]
    },
    {
     "data": {
      "text/html": [],
      "text/plain": [
       "<IPython.core.display.HTML object>"
      ]
     },
     "metadata": {},
     "output_type": "display_data"
    },
    {
     "data": {
      "text/html": [
       "<br>    <style><br>        .wandb-row {<br>            display: flex;<br>            flex-direction: row;<br>            flex-wrap: wrap;<br>            justify-content: flex-start;<br>            width: 100%;<br>        }<br>        .wandb-col {<br>            display: flex;<br>            flex-direction: column;<br>            flex-basis: 100%;<br>            flex: 1;<br>            padding: 10px;<br>        }<br>    </style><br><div class=\"wandb-row\"><div class=\"wandb-col\"><h3>Run history:</h3><br/><table class=\"wandb\"><tr><td>epoch</td><td>▁▂▃▃▄▅▆▆▇█</td></tr><tr><td>train_accuracy</td><td>▁▄▅▆▆▇▇███</td></tr><tr><td>train_loss</td><td>█▅▄▃▃▂▂▂▁▁</td></tr><tr><td>val_MulticlassAUPRC</td><td>▁▆▇▇▇▇█▇▇▇</td></tr><tr><td>val_MulticlassAUROC</td><td>▁▆▇▇▇▇████</td></tr><tr><td>val_MulticlassAccuracy</td><td>▁▅▆▇█▇████</td></tr><tr><td>val_loss</td><td>█▃▂▁▁▁▁▁▂▂</td></tr></table><br/></div><div class=\"wandb-col\"><h3>Run summary:</h3><br/><table class=\"wandb\"><tr><td>epoch</td><td>9</td></tr><tr><td>train_accuracy</td><td>0.74229</td></tr><tr><td>train_loss</td><td>97.66344</td></tr><tr><td>val_MulticlassAUPRC</td><td>0.67499</td></tr><tr><td>val_MulticlassAUROC</td><td>0.82572</td></tr><tr><td>val_MulticlassAccuracy</td><td>0.67969</td></tr><tr><td>val_loss</td><td>29.76147</td></tr></table><br/></div></div>"
      ],
      "text/plain": [
       "<IPython.core.display.HTML object>"
      ]
     },
     "metadata": {},
     "output_type": "display_data"
    },
    {
     "data": {
      "text/html": [
       " View run <strong style=\"color:#cdcd00\">mre_5kb_256_0.001</strong> at: <a href='https://wandb.ai/bind-gps/BindGPS/runs/yeeigtoz' target=\"_blank\">https://wandb.ai/bind-gps/BindGPS/runs/yeeigtoz</a><br> View project at: <a href='https://wandb.ai/bind-gps/BindGPS' target=\"_blank\">https://wandb.ai/bind-gps/BindGPS</a><br>Synced 5 W&B file(s), 0 media file(s), 0 artifact file(s) and 0 other file(s)"
      ],
      "text/plain": [
       "<IPython.core.display.HTML object>"
      ]
     },
     "metadata": {},
     "output_type": "display_data"
    },
    {
     "data": {
      "text/html": [
       "Find logs at: <code>./wandb/run-20251002_141236-yeeigtoz/logs</code>"
      ],
      "text/plain": [
       "<IPython.core.display.HTML object>"
      ]
     },
     "metadata": {},
     "output_type": "display_data"
    },
    {
     "name": "stderr",
     "output_type": "stream",
     "text": [
      "\u001b[34m\u001b[1mwandb\u001b[0m: Agent Starting Run: p1d5lxqn with config:\n",
      "\u001b[34m\u001b[1mwandb\u001b[0m: \tbatch_size: 128\n",
      "\u001b[34m\u001b[1mwandb\u001b[0m: \tepochs: 10\n",
      "\u001b[34m\u001b[1mwandb\u001b[0m: \thidden_dims: [256, 128]\n",
      "\u001b[34m\u001b[1mwandb\u001b[0m: \tlr: 0.001\n",
      "\u001b[34m\u001b[1mwandb\u001b[0m: \tresolution: 5kb\n",
      "\u001b[34m\u001b[1mwandb\u001b[0m: \tsvd_dim: 256\n",
      "\u001b[34m\u001b[1mwandb\u001b[0m: \ttarget_metric: MulticlassAUPRC\n",
      "\u001b[34m\u001b[1mwandb\u001b[0m: \ttask: gene\n",
      "\u001b[34m\u001b[1mwandb\u001b[0m: \tweighted: True\n",
      "\u001b[34m\u001b[1mwandb\u001b[0m: \u001b[32m\u001b[41mERROR\u001b[0m Failed to detect the name of this notebook. You can set it manually with the WANDB_NOTEBOOK_NAME environment variable to enable code saving.\n"
     ]
    },
    {
     "data": {
      "text/html": [],
      "text/plain": [
       "<IPython.core.display.HTML object>"
      ]
     },
     "metadata": {},
     "output_type": "display_data"
    },
    {
     "data": {
      "text/html": [
       "Tracking run with wandb version 0.22.1"
      ],
      "text/plain": [
       "<IPython.core.display.HTML object>"
      ]
     },
     "metadata": {},
     "output_type": "display_data"
    },
    {
     "data": {
      "text/html": [
       "Run data is saved locally in <code>/oscar/data/larschan/shared_data/BindGPS/model/wandb/run-20251002_141247-p1d5lxqn</code>"
      ],
      "text/plain": [
       "<IPython.core.display.HTML object>"
      ]
     },
     "metadata": {},
     "output_type": "display_data"
    },
    {
     "data": {
      "text/html": [
       "Syncing run <strong><a href='https://wandb.ai/bind-gps/BindGPS/runs/p1d5lxqn' target=\"_blank\">bumbling-sweep-71</a></strong> to <a href='https://wandb.ai/bind-gps/BindGPS' target=\"_blank\">Weights & Biases</a> (<a href='https://wandb.me/developer-guide' target=\"_blank\">docs</a>)<br>Sweep page: <a href='https://wandb.ai/bind-gps/BindGPS/sweeps/79ufxypb' target=\"_blank\">https://wandb.ai/bind-gps/BindGPS/sweeps/79ufxypb</a>"
      ],
      "text/plain": [
       "<IPython.core.display.HTML object>"
      ]
     },
     "metadata": {},
     "output_type": "display_data"
    },
    {
     "data": {
      "text/html": [
       " View project at <a href='https://wandb.ai/bind-gps/BindGPS' target=\"_blank\">https://wandb.ai/bind-gps/BindGPS</a>"
      ],
      "text/plain": [
       "<IPython.core.display.HTML object>"
      ]
     },
     "metadata": {},
     "output_type": "display_data"
    },
    {
     "data": {
      "text/html": [
       " View sweep at <a href='https://wandb.ai/bind-gps/BindGPS/sweeps/79ufxypb' target=\"_blank\">https://wandb.ai/bind-gps/BindGPS/sweeps/79ufxypb</a>"
      ],
      "text/plain": [
       "<IPython.core.display.HTML object>"
      ]
     },
     "metadata": {},
     "output_type": "display_data"
    },
    {
     "data": {
      "text/html": [
       " View run at <a href='https://wandb.ai/bind-gps/BindGPS/runs/p1d5lxqn' target=\"_blank\">https://wandb.ai/bind-gps/BindGPS/runs/p1d5lxqn</a>"
      ],
      "text/plain": [
       "<IPython.core.display.HTML object>"
      ]
     },
     "metadata": {},
     "output_type": "display_data"
    },
    {
     "name": "stderr",
     "output_type": "stream",
     "text": [
      "\u001b[34m\u001b[1mwandb\u001b[0m: \u001b[33mWARNING\u001b[0m Calling wandb.login() after wandb.init() has no effect.\n"
     ]
    },
    {
     "name": "stdout",
     "output_type": "stream",
     "text": [
      "[Epoch 0] Train Loss: 146.5954, Acc: 0.6071\n",
      "[Epoch 0] Val Loss: 33.3346, Val Metrics: {'MulticlassAUROC': 0.8262202739715576, 'MulticlassAUPRC': 0.680640459060669, 'MulticlassAccuracy': 0.6626090407371521}\n",
      "[Epoch 1] Train Loss: 129.7636, Acc: 0.6654\n",
      "[Epoch 1] Val Loss: 32.5929, Val Metrics: {'MulticlassAUROC': 0.8330044746398926, 'MulticlassAUPRC': 0.6922450065612793, 'MulticlassAccuracy': 0.667151153087616}\n",
      "[Epoch 2] Train Loss: 124.1891, Acc: 0.6757\n",
      "[Epoch 2] Val Loss: 32.6657, Val Metrics: {'MulticlassAUROC': 0.8382616639137268, 'MulticlassAUPRC': 0.6982002258300781, 'MulticlassAccuracy': 0.6838662624359131}\n",
      "[Epoch 3] Train Loss: 120.0944, Acc: 0.6857\n",
      "[Epoch 3] Val Loss: 32.4916, Val Metrics: {'MulticlassAUROC': 0.8337714672088623, 'MulticlassAUPRC': 0.695469081401825, 'MulticlassAccuracy': 0.6782340407371521}\n",
      "[Epoch 4] Train Loss: 115.3372, Acc: 0.7004\n",
      "[Epoch 4] Val Loss: 32.4821, Val Metrics: {'MulticlassAUROC': 0.8362682461738586, 'MulticlassAUPRC': 0.7002773880958557, 'MulticlassAccuracy': 0.6764171719551086}\n",
      "[Epoch 5] Train Loss: 112.8959, Acc: 0.6982\n",
      "[Epoch 5] Val Loss: 32.9158, Val Metrics: {'MulticlassAUROC': 0.8370647430419922, 'MulticlassAUPRC': 0.7031285762786865, 'MulticlassAccuracy': 0.6865915656089783}\n",
      "[Epoch 6] Train Loss: 108.4785, Acc: 0.7070\n",
      "[Epoch 6] Val Loss: 33.1440, Val Metrics: {'MulticlassAUROC': 0.8367815613746643, 'MulticlassAUPRC': 0.7025902271270752, 'MulticlassAccuracy': 0.6684229373931885}\n",
      "[Epoch 7] Train Loss: 105.0787, Acc: 0.7128\n",
      "[Epoch 7] Val Loss: 34.0605, Val Metrics: {'MulticlassAUROC': 0.838523805141449, 'MulticlassAUPRC': 0.701836884021759, 'MulticlassAccuracy': 0.6816860437393188}\n",
      "[Epoch 8] Train Loss: 102.7954, Acc: 0.7210\n",
      "[Epoch 8] Val Loss: 36.0857, Val Metrics: {'MulticlassAUROC': 0.8333215713500977, 'MulticlassAUPRC': 0.6978395581245422, 'MulticlassAccuracy': 0.684411346912384}\n",
      "[Epoch 9] Train Loss: 99.6133, Acc: 0.7259\n",
      "[Epoch 9] Val Loss: 36.9184, Val Metrics: {'MulticlassAUROC': 0.8355732560157776, 'MulticlassAUPRC': 0.6992732882499695, 'MulticlassAccuracy': 0.6876816749572754}\n"
     ]
    },
    {
     "data": {
      "text/html": [],
      "text/plain": [
       "<IPython.core.display.HTML object>"
      ]
     },
     "metadata": {},
     "output_type": "display_data"
    },
    {
     "data": {
      "text/html": [
       "<br>    <style><br>        .wandb-row {<br>            display: flex;<br>            flex-direction: row;<br>            flex-wrap: wrap;<br>            justify-content: flex-start;<br>            width: 100%;<br>        }<br>        .wandb-col {<br>            display: flex;<br>            flex-direction: column;<br>            flex-basis: 100%;<br>            flex: 1;<br>            padding: 10px;<br>        }<br>    </style><br><div class=\"wandb-row\"><div class=\"wandb-col\"><h3>Run history:</h3><br/><table class=\"wandb\"><tr><td>epoch</td><td>▁▂▃▃▄▅▆▆▇█</td></tr><tr><td>train_accuracy</td><td>▁▄▅▆▆▆▇▇██</td></tr><tr><td>train_loss</td><td>█▅▅▄▃▃▂▂▁▁</td></tr><tr><td>val_MulticlassAUPRC</td><td>▁▅▆▆▇███▆▇</td></tr><tr><td>val_MulticlassAUROC</td><td>▁▅█▅▇▇▇█▅▆</td></tr><tr><td>val_MulticlassAccuracy</td><td>▁▂▇▅▅█▃▆▇█</td></tr><tr><td>val_loss</td><td>▂▁▁▁▁▂▂▃▇█</td></tr></table><br/></div><div class=\"wandb-col\"><h3>Run summary:</h3><br/><table class=\"wandb\"><tr><td>epoch</td><td>9</td></tr><tr><td>train_accuracy</td><td>0.72589</td></tr><tr><td>train_loss</td><td>99.6133</td></tr><tr><td>val_MulticlassAUPRC</td><td>0.69927</td></tr><tr><td>val_MulticlassAUROC</td><td>0.83557</td></tr><tr><td>val_MulticlassAccuracy</td><td>0.68768</td></tr><tr><td>val_loss</td><td>36.91845</td></tr></table><br/></div></div>"
      ],
      "text/plain": [
       "<IPython.core.display.HTML object>"
      ]
     },
     "metadata": {},
     "output_type": "display_data"
    },
    {
     "data": {
      "text/html": [
       " View run <strong style=\"color:#cdcd00\">gene_5kb_256_0.001</strong> at: <a href='https://wandb.ai/bind-gps/BindGPS/runs/p1d5lxqn' target=\"_blank\">https://wandb.ai/bind-gps/BindGPS/runs/p1d5lxqn</a><br> View project at: <a href='https://wandb.ai/bind-gps/BindGPS' target=\"_blank\">https://wandb.ai/bind-gps/BindGPS</a><br>Synced 5 W&B file(s), 0 media file(s), 0 artifact file(s) and 0 other file(s)"
      ],
      "text/plain": [
       "<IPython.core.display.HTML object>"
      ]
     },
     "metadata": {},
     "output_type": "display_data"
    },
    {
     "data": {
      "text/html": [
       "Find logs at: <code>./wandb/run-20251002_141247-p1d5lxqn/logs</code>"
      ],
      "text/plain": [
       "<IPython.core.display.HTML object>"
      ]
     },
     "metadata": {},
     "output_type": "display_data"
    },
    {
     "name": "stderr",
     "output_type": "stream",
     "text": [
      "\u001b[34m\u001b[1mwandb\u001b[0m: Agent Starting Run: 2nyy8pg6 with config:\n",
      "\u001b[34m\u001b[1mwandb\u001b[0m: \tbatch_size: 128\n",
      "\u001b[34m\u001b[1mwandb\u001b[0m: \tepochs: 10\n",
      "\u001b[34m\u001b[1mwandb\u001b[0m: \thidden_dims: [256, 128]\n",
      "\u001b[34m\u001b[1mwandb\u001b[0m: \tlr: 0.001\n",
      "\u001b[34m\u001b[1mwandb\u001b[0m: \tresolution: 5kb\n",
      "\u001b[34m\u001b[1mwandb\u001b[0m: \tsvd_dim: 256\n",
      "\u001b[34m\u001b[1mwandb\u001b[0m: \ttarget_metric: MulticlassAUPRC\n",
      "\u001b[34m\u001b[1mwandb\u001b[0m: \ttask: gene\n",
      "\u001b[34m\u001b[1mwandb\u001b[0m: \tweighted: False\n",
      "\u001b[34m\u001b[1mwandb\u001b[0m: \u001b[32m\u001b[41mERROR\u001b[0m Failed to detect the name of this notebook. You can set it manually with the WANDB_NOTEBOOK_NAME environment variable to enable code saving.\n"
     ]
    },
    {
     "data": {
      "text/html": [],
      "text/plain": [
       "<IPython.core.display.HTML object>"
      ]
     },
     "metadata": {},
     "output_type": "display_data"
    },
    {
     "data": {
      "text/html": [
       "Tracking run with wandb version 0.22.1"
      ],
      "text/plain": [
       "<IPython.core.display.HTML object>"
      ]
     },
     "metadata": {},
     "output_type": "display_data"
    },
    {
     "data": {
      "text/html": [
       "Run data is saved locally in <code>/oscar/data/larschan/shared_data/BindGPS/model/wandb/run-20251002_141257-2nyy8pg6</code>"
      ],
      "text/plain": [
       "<IPython.core.display.HTML object>"
      ]
     },
     "metadata": {},
     "output_type": "display_data"
    },
    {
     "data": {
      "text/html": [
       "Syncing run <strong><a href='https://wandb.ai/bind-gps/BindGPS/runs/2nyy8pg6' target=\"_blank\">drawn-sweep-72</a></strong> to <a href='https://wandb.ai/bind-gps/BindGPS' target=\"_blank\">Weights & Biases</a> (<a href='https://wandb.me/developer-guide' target=\"_blank\">docs</a>)<br>Sweep page: <a href='https://wandb.ai/bind-gps/BindGPS/sweeps/79ufxypb' target=\"_blank\">https://wandb.ai/bind-gps/BindGPS/sweeps/79ufxypb</a>"
      ],
      "text/plain": [
       "<IPython.core.display.HTML object>"
      ]
     },
     "metadata": {},
     "output_type": "display_data"
    },
    {
     "data": {
      "text/html": [
       " View project at <a href='https://wandb.ai/bind-gps/BindGPS' target=\"_blank\">https://wandb.ai/bind-gps/BindGPS</a>"
      ],
      "text/plain": [
       "<IPython.core.display.HTML object>"
      ]
     },
     "metadata": {},
     "output_type": "display_data"
    },
    {
     "data": {
      "text/html": [
       " View sweep at <a href='https://wandb.ai/bind-gps/BindGPS/sweeps/79ufxypb' target=\"_blank\">https://wandb.ai/bind-gps/BindGPS/sweeps/79ufxypb</a>"
      ],
      "text/plain": [
       "<IPython.core.display.HTML object>"
      ]
     },
     "metadata": {},
     "output_type": "display_data"
    },
    {
     "data": {
      "text/html": [
       " View run at <a href='https://wandb.ai/bind-gps/BindGPS/runs/2nyy8pg6' target=\"_blank\">https://wandb.ai/bind-gps/BindGPS/runs/2nyy8pg6</a>"
      ],
      "text/plain": [
       "<IPython.core.display.HTML object>"
      ]
     },
     "metadata": {},
     "output_type": "display_data"
    },
    {
     "name": "stderr",
     "output_type": "stream",
     "text": [
      "\u001b[34m\u001b[1mwandb\u001b[0m: \u001b[33mWARNING\u001b[0m Calling wandb.login() after wandb.init() has no effect.\n"
     ]
    },
    {
     "name": "stdout",
     "output_type": "stream",
     "text": [
      "[Epoch 0] Train Loss: 128.3437, Acc: 0.6791\n",
      "[Epoch 0] Val Loss: 30.0319, Val Metrics: {'MulticlassAUROC': 0.8314229846000671, 'MulticlassAUPRC': 0.6817900538444519, 'MulticlassAccuracy': 0.6931322813034058}\n",
      "[Epoch 1] Train Loss: 115.1690, Acc: 0.7141\n",
      "[Epoch 1] Val Loss: 29.3482, Val Metrics: {'MulticlassAUROC': 0.8348800539970398, 'MulticlassAUPRC': 0.6886274814605713, 'MulticlassAccuracy': 0.703125}\n",
      "[Epoch 2] Train Loss: 110.3204, Acc: 0.7255\n",
      "[Epoch 2] Val Loss: 29.0969, Val Metrics: {'MulticlassAUROC': 0.8380077481269836, 'MulticlassAUPRC': 0.6914842128753662, 'MulticlassAccuracy': 0.7076671719551086}\n",
      "[Epoch 3] Train Loss: 107.1291, Acc: 0.7328\n",
      "[Epoch 3] Val Loss: 29.0836, Val Metrics: {'MulticlassAUROC': 0.8414061665534973, 'MulticlassAUPRC': 0.6956727504730225, 'MulticlassAccuracy': 0.7056686282157898}\n",
      "[Epoch 4] Train Loss: 104.6158, Acc: 0.7382\n",
      "[Epoch 4] Val Loss: 29.4530, Val Metrics: {'MulticlassAUROC': 0.8416528701782227, 'MulticlassAUPRC': 0.6941676139831543, 'MulticlassAccuracy': 0.700036346912384}\n",
      "[Epoch 5] Train Loss: 102.8359, Acc: 0.7428\n",
      "[Epoch 5] Val Loss: 29.0162, Val Metrics: {'MulticlassAUROC': 0.8439536094665527, 'MulticlassAUPRC': 0.6975417137145996, 'MulticlassAccuracy': 0.7082121968269348}\n",
      "[Epoch 6] Train Loss: 99.4849, Acc: 0.7512\n",
      "[Epoch 6] Val Loss: 29.5778, Val Metrics: {'MulticlassAUROC': 0.8397795557975769, 'MulticlassAUPRC': 0.6944593787193298, 'MulticlassAccuracy': 0.7027616500854492}\n",
      "[Epoch 7] Train Loss: 96.5781, Acc: 0.7598\n",
      "[Epoch 7] Val Loss: 29.6312, Val Metrics: {'MulticlassAUROC': 0.8382055163383484, 'MulticlassAUPRC': 0.6926375031471252, 'MulticlassAccuracy': 0.7013081312179565}\n",
      "[Epoch 8] Train Loss: 95.2128, Acc: 0.7624\n",
      "[Epoch 8] Val Loss: 29.5228, Val Metrics: {'MulticlassAUROC': 0.83799809217453, 'MulticlassAUPRC': 0.6948480010032654, 'MulticlassAccuracy': 0.703670084476471}\n",
      "[Epoch 9] Train Loss: 92.7377, Acc: 0.7706\n",
      "[Epoch 9] Val Loss: 29.8788, Val Metrics: {'MulticlassAUROC': 0.8364320397377014, 'MulticlassAUPRC': 0.6915327906608582, 'MulticlassAccuracy': 0.6976743936538696}\n"
     ]
    },
    {
     "data": {
      "text/html": [],
      "text/plain": [
       "<IPython.core.display.HTML object>"
      ]
     },
     "metadata": {},
     "output_type": "display_data"
    },
    {
     "data": {
      "text/html": [
       "<br>    <style><br>        .wandb-row {<br>            display: flex;<br>            flex-direction: row;<br>            flex-wrap: wrap;<br>            justify-content: flex-start;<br>            width: 100%;<br>        }<br>        .wandb-col {<br>            display: flex;<br>            flex-direction: column;<br>            flex-basis: 100%;<br>            flex: 1;<br>            padding: 10px;<br>        }<br>    </style><br><div class=\"wandb-row\"><div class=\"wandb-col\"><h3>Run history:</h3><br/><table class=\"wandb\"><tr><td>epoch</td><td>▁▂▃▃▄▅▆▆▇█</td></tr><tr><td>train_accuracy</td><td>▁▄▅▅▆▆▇▇▇█</td></tr><tr><td>train_loss</td><td>█▅▄▄▃▃▂▂▁▁</td></tr><tr><td>val_MulticlassAUPRC</td><td>▁▄▅▇▇█▇▆▇▅</td></tr><tr><td>val_MulticlassAUROC</td><td>▁▃▅▇▇█▆▅▅▄</td></tr><tr><td>val_MulticlassAccuracy</td><td>▁▆█▇▄█▅▅▆▃</td></tr><tr><td>val_loss</td><td>█▃▂▁▄▁▅▅▄▇</td></tr></table><br/></div><div class=\"wandb-col\"><h3>Run summary:</h3><br/><table class=\"wandb\"><tr><td>epoch</td><td>9</td></tr><tr><td>train_accuracy</td><td>0.77059</td></tr><tr><td>train_loss</td><td>92.73765</td></tr><tr><td>val_MulticlassAUPRC</td><td>0.69153</td></tr><tr><td>val_MulticlassAUROC</td><td>0.83643</td></tr><tr><td>val_MulticlassAccuracy</td><td>0.69767</td></tr><tr><td>val_loss</td><td>29.87882</td></tr></table><br/></div></div>"
      ],
      "text/plain": [
       "<IPython.core.display.HTML object>"
      ]
     },
     "metadata": {},
     "output_type": "display_data"
    },
    {
     "data": {
      "text/html": [
       " View run <strong style=\"color:#cdcd00\">gene_5kb_256_0.001</strong> at: <a href='https://wandb.ai/bind-gps/BindGPS/runs/2nyy8pg6' target=\"_blank\">https://wandb.ai/bind-gps/BindGPS/runs/2nyy8pg6</a><br> View project at: <a href='https://wandb.ai/bind-gps/BindGPS' target=\"_blank\">https://wandb.ai/bind-gps/BindGPS</a><br>Synced 5 W&B file(s), 0 media file(s), 0 artifact file(s) and 0 other file(s)"
      ],
      "text/plain": [
       "<IPython.core.display.HTML object>"
      ]
     },
     "metadata": {},
     "output_type": "display_data"
    },
    {
     "data": {
      "text/html": [
       "Find logs at: <code>./wandb/run-20251002_141257-2nyy8pg6/logs</code>"
      ],
      "text/plain": [
       "<IPython.core.display.HTML object>"
      ]
     },
     "metadata": {},
     "output_type": "display_data"
    },
    {
     "name": "stderr",
     "output_type": "stream",
     "text": [
      "\u001b[34m\u001b[1mwandb\u001b[0m: Agent Starting Run: 9t6gxyfm with config:\n",
      "\u001b[34m\u001b[1mwandb\u001b[0m: \tbatch_size: 128\n",
      "\u001b[34m\u001b[1mwandb\u001b[0m: \tepochs: 10\n",
      "\u001b[34m\u001b[1mwandb\u001b[0m: \thidden_dims: [256, 128]\n",
      "\u001b[34m\u001b[1mwandb\u001b[0m: \tlr: 0.0001\n",
      "\u001b[34m\u001b[1mwandb\u001b[0m: \tresolution: 1kb\n",
      "\u001b[34m\u001b[1mwandb\u001b[0m: \tsvd_dim: 64\n",
      "\u001b[34m\u001b[1mwandb\u001b[0m: \ttarget_metric: MulticlassAUROC\n",
      "\u001b[34m\u001b[1mwandb\u001b[0m: \ttask: mre\n",
      "\u001b[34m\u001b[1mwandb\u001b[0m: \tweighted: True\n",
      "\u001b[34m\u001b[1mwandb\u001b[0m: \u001b[32m\u001b[41mERROR\u001b[0m Failed to detect the name of this notebook. You can set it manually with the WANDB_NOTEBOOK_NAME environment variable to enable code saving.\n"
     ]
    },
    {
     "data": {
      "text/html": [],
      "text/plain": [
       "<IPython.core.display.HTML object>"
      ]
     },
     "metadata": {},
     "output_type": "display_data"
    },
    {
     "data": {
      "text/html": [
       "Tracking run with wandb version 0.22.1"
      ],
      "text/plain": [
       "<IPython.core.display.HTML object>"
      ]
     },
     "metadata": {},
     "output_type": "display_data"
    },
    {
     "data": {
      "text/html": [
       "Run data is saved locally in <code>/oscar/data/larschan/shared_data/BindGPS/model/wandb/run-20251002_141307-9t6gxyfm</code>"
      ],
      "text/plain": [
       "<IPython.core.display.HTML object>"
      ]
     },
     "metadata": {},
     "output_type": "display_data"
    },
    {
     "data": {
      "text/html": [
       "Syncing run <strong><a href='https://wandb.ai/bind-gps/BindGPS/runs/9t6gxyfm' target=\"_blank\">vivid-sweep-73</a></strong> to <a href='https://wandb.ai/bind-gps/BindGPS' target=\"_blank\">Weights & Biases</a> (<a href='https://wandb.me/developer-guide' target=\"_blank\">docs</a>)<br>Sweep page: <a href='https://wandb.ai/bind-gps/BindGPS/sweeps/79ufxypb' target=\"_blank\">https://wandb.ai/bind-gps/BindGPS/sweeps/79ufxypb</a>"
      ],
      "text/plain": [
       "<IPython.core.display.HTML object>"
      ]
     },
     "metadata": {},
     "output_type": "display_data"
    },
    {
     "data": {
      "text/html": [
       " View project at <a href='https://wandb.ai/bind-gps/BindGPS' target=\"_blank\">https://wandb.ai/bind-gps/BindGPS</a>"
      ],
      "text/plain": [
       "<IPython.core.display.HTML object>"
      ]
     },
     "metadata": {},
     "output_type": "display_data"
    },
    {
     "data": {
      "text/html": [
       " View sweep at <a href='https://wandb.ai/bind-gps/BindGPS/sweeps/79ufxypb' target=\"_blank\">https://wandb.ai/bind-gps/BindGPS/sweeps/79ufxypb</a>"
      ],
      "text/plain": [
       "<IPython.core.display.HTML object>"
      ]
     },
     "metadata": {},
     "output_type": "display_data"
    },
    {
     "data": {
      "text/html": [
       " View run at <a href='https://wandb.ai/bind-gps/BindGPS/runs/9t6gxyfm' target=\"_blank\">https://wandb.ai/bind-gps/BindGPS/runs/9t6gxyfm</a>"
      ],
      "text/plain": [
       "<IPython.core.display.HTML object>"
      ]
     },
     "metadata": {},
     "output_type": "display_data"
    },
    {
     "name": "stderr",
     "output_type": "stream",
     "text": [
      "\u001b[34m\u001b[1mwandb\u001b[0m: \u001b[33mWARNING\u001b[0m Calling wandb.login() after wandb.init() has no effect.\n"
     ]
    },
    {
     "name": "stdout",
     "output_type": "stream",
     "text": [
      "[Epoch 0] Train Loss: 882.2887, Acc: 0.5401\n",
      "[Epoch 0] Val Loss: 203.5097, Val Metrics: {'MulticlassAUROC': 0.739247739315033, 'MulticlassAUPRC': 0.4777339994907379, 'MulticlassAccuracy': 0.6917318105697632}\n",
      "[Epoch 1] Train Loss: 819.5938, Acc: 0.6572\n",
      "[Epoch 1] Val Loss: 196.7304, Val Metrics: {'MulticlassAUROC': 0.7770515084266663, 'MulticlassAUPRC': 0.5076232552528381, 'MulticlassAccuracy': 0.6858077645301819}\n",
      "[Epoch 2] Train Loss: 790.3957, Acc: 0.6851\n",
      "[Epoch 2] Val Loss: 191.3415, Val Metrics: {'MulticlassAUROC': 0.7944869995117188, 'MulticlassAUPRC': 0.5201252102851868, 'MulticlassAccuracy': 0.7250590324401855}\n",
      "[Epoch 3] Train Loss: 777.4794, Acc: 0.6988\n",
      "[Epoch 3] Val Loss: 188.2257, Val Metrics: {'MulticlassAUROC': 0.804537296295166, 'MulticlassAUPRC': 0.5256105065345764, 'MulticlassAccuracy': 0.7326912879943848}\n",
      "[Epoch 4] Train Loss: 765.1056, Acc: 0.7090\n",
      "[Epoch 4] Val Loss: 186.4688, Val Metrics: {'MulticlassAUROC': 0.8051061034202576, 'MulticlassAUPRC': 0.5245594382286072, 'MulticlassAccuracy': 0.7465019226074219}\n",
      "[Epoch 5] Train Loss: 761.8482, Acc: 0.7141\n",
      "[Epoch 5] Val Loss: 185.9022, Val Metrics: {'MulticlassAUROC': 0.8121064305305481, 'MulticlassAUPRC': 0.5331042408943176, 'MulticlassAccuracy': 0.7549336552619934}\n",
      "[Epoch 6] Train Loss: 753.5776, Acc: 0.7199\n",
      "[Epoch 6] Val Loss: 184.3502, Val Metrics: {'MulticlassAUROC': 0.8167210221290588, 'MulticlassAUPRC': 0.5325941443443298, 'MulticlassAccuracy': 0.7504633665084839}\n",
      "[Epoch 7] Train Loss: 748.3578, Acc: 0.7223\n",
      "[Epoch 7] Val Loss: 183.0906, Val Metrics: {'MulticlassAUROC': 0.8207578659057617, 'MulticlassAUPRC': 0.5344188809394836, 'MulticlassAccuracy': 0.7330546975135803}\n",
      "[Epoch 8] Train Loss: 742.3627, Acc: 0.7284\n",
      "[Epoch 8] Val Loss: 182.8977, Val Metrics: {'MulticlassAUROC': 0.8197768330574036, 'MulticlassAUPRC': 0.5292829275131226, 'MulticlassAccuracy': 0.7192440629005432}\n",
      "[Epoch 9] Train Loss: 739.6026, Acc: 0.7264\n",
      "[Epoch 9] Val Loss: 183.0951, Val Metrics: {'MulticlassAUROC': 0.822093665599823, 'MulticlassAUPRC': 0.5312798619270325, 'MulticlassAccuracy': 0.7254225015640259}\n"
     ]
    },
    {
     "data": {
      "text/html": [],
      "text/plain": [
       "<IPython.core.display.HTML object>"
      ]
     },
     "metadata": {},
     "output_type": "display_data"
    },
    {
     "data": {
      "text/html": [
       "<br>    <style><br>        .wandb-row {<br>            display: flex;<br>            flex-direction: row;<br>            flex-wrap: wrap;<br>            justify-content: flex-start;<br>            width: 100%;<br>        }<br>        .wandb-col {<br>            display: flex;<br>            flex-direction: column;<br>            flex-basis: 100%;<br>            flex: 1;<br>            padding: 10px;<br>        }<br>    </style><br><div class=\"wandb-row\"><div class=\"wandb-col\"><h3>Run history:</h3><br/><table class=\"wandb\"><tr><td>epoch</td><td>▁▂▃▃▄▅▆▆▇█</td></tr><tr><td>train_accuracy</td><td>▁▅▆▇▇▇████</td></tr><tr><td>train_loss</td><td>█▅▃▃▂▂▂▁▁▁</td></tr><tr><td>val_MulticlassAUPRC</td><td>▁▅▆▇▇███▇█</td></tr><tr><td>val_MulticlassAUROC</td><td>▁▄▆▇▇▇████</td></tr><tr><td>val_MulticlassAccuracy</td><td>▂▁▅▆▇██▆▄▅</td></tr><tr><td>val_loss</td><td>█▆▄▃▂▂▁▁▁▁</td></tr></table><br/></div><div class=\"wandb-col\"><h3>Run summary:</h3><br/><table class=\"wandb\"><tr><td>epoch</td><td>9</td></tr><tr><td>train_accuracy</td><td>0.72644</td></tr><tr><td>train_loss</td><td>739.60262</td></tr><tr><td>val_MulticlassAUPRC</td><td>0.53128</td></tr><tr><td>val_MulticlassAUROC</td><td>0.82209</td></tr><tr><td>val_MulticlassAccuracy</td><td>0.72542</td></tr><tr><td>val_loss</td><td>183.09514</td></tr></table><br/></div></div>"
      ],
      "text/plain": [
       "<IPython.core.display.HTML object>"
      ]
     },
     "metadata": {},
     "output_type": "display_data"
    },
    {
     "data": {
      "text/html": [
       " View run <strong style=\"color:#cdcd00\">mre_1kb_64_0.0001</strong> at: <a href='https://wandb.ai/bind-gps/BindGPS/runs/9t6gxyfm' target=\"_blank\">https://wandb.ai/bind-gps/BindGPS/runs/9t6gxyfm</a><br> View project at: <a href='https://wandb.ai/bind-gps/BindGPS' target=\"_blank\">https://wandb.ai/bind-gps/BindGPS</a><br>Synced 5 W&B file(s), 0 media file(s), 0 artifact file(s) and 0 other file(s)"
      ],
      "text/plain": [
       "<IPython.core.display.HTML object>"
      ]
     },
     "metadata": {},
     "output_type": "display_data"
    },
    {
     "data": {
      "text/html": [
       "Find logs at: <code>./wandb/run-20251002_141307-9t6gxyfm/logs</code>"
      ],
      "text/plain": [
       "<IPython.core.display.HTML object>"
      ]
     },
     "metadata": {},
     "output_type": "display_data"
    },
    {
     "name": "stderr",
     "output_type": "stream",
     "text": [
      "\u001b[34m\u001b[1mwandb\u001b[0m: Agent Starting Run: bpbat1uz with config:\n",
      "\u001b[34m\u001b[1mwandb\u001b[0m: \tbatch_size: 128\n",
      "\u001b[34m\u001b[1mwandb\u001b[0m: \tepochs: 10\n",
      "\u001b[34m\u001b[1mwandb\u001b[0m: \thidden_dims: [256, 128]\n",
      "\u001b[34m\u001b[1mwandb\u001b[0m: \tlr: 0.0001\n",
      "\u001b[34m\u001b[1mwandb\u001b[0m: \tresolution: 1kb\n",
      "\u001b[34m\u001b[1mwandb\u001b[0m: \tsvd_dim: 64\n",
      "\u001b[34m\u001b[1mwandb\u001b[0m: \ttarget_metric: MulticlassAUROC\n",
      "\u001b[34m\u001b[1mwandb\u001b[0m: \ttask: mre\n",
      "\u001b[34m\u001b[1mwandb\u001b[0m: \tweighted: False\n",
      "\u001b[34m\u001b[1mwandb\u001b[0m: \u001b[32m\u001b[41mERROR\u001b[0m Failed to detect the name of this notebook. You can set it manually with the WANDB_NOTEBOOK_NAME environment variable to enable code saving.\n"
     ]
    },
    {
     "data": {
      "text/html": [],
      "text/plain": [
       "<IPython.core.display.HTML object>"
      ]
     },
     "metadata": {},
     "output_type": "display_data"
    },
    {
     "data": {
      "text/html": [
       "Tracking run with wandb version 0.22.1"
      ],
      "text/plain": [
       "<IPython.core.display.HTML object>"
      ]
     },
     "metadata": {},
     "output_type": "display_data"
    },
    {
     "data": {
      "text/html": [
       "Run data is saved locally in <code>/oscar/data/larschan/shared_data/BindGPS/model/wandb/run-20251002_141348-bpbat1uz</code>"
      ],
      "text/plain": [
       "<IPython.core.display.HTML object>"
      ]
     },
     "metadata": {},
     "output_type": "display_data"
    },
    {
     "data": {
      "text/html": [
       "Syncing run <strong><a href='https://wandb.ai/bind-gps/BindGPS/runs/bpbat1uz' target=\"_blank\">leafy-sweep-74</a></strong> to <a href='https://wandb.ai/bind-gps/BindGPS' target=\"_blank\">Weights & Biases</a> (<a href='https://wandb.me/developer-guide' target=\"_blank\">docs</a>)<br>Sweep page: <a href='https://wandb.ai/bind-gps/BindGPS/sweeps/79ufxypb' target=\"_blank\">https://wandb.ai/bind-gps/BindGPS/sweeps/79ufxypb</a>"
      ],
      "text/plain": [
       "<IPython.core.display.HTML object>"
      ]
     },
     "metadata": {},
     "output_type": "display_data"
    },
    {
     "data": {
      "text/html": [
       " View project at <a href='https://wandb.ai/bind-gps/BindGPS' target=\"_blank\">https://wandb.ai/bind-gps/BindGPS</a>"
      ],
      "text/plain": [
       "<IPython.core.display.HTML object>"
      ]
     },
     "metadata": {},
     "output_type": "display_data"
    },
    {
     "data": {
      "text/html": [
       " View sweep at <a href='https://wandb.ai/bind-gps/BindGPS/sweeps/79ufxypb' target=\"_blank\">https://wandb.ai/bind-gps/BindGPS/sweeps/79ufxypb</a>"
      ],
      "text/plain": [
       "<IPython.core.display.HTML object>"
      ]
     },
     "metadata": {},
     "output_type": "display_data"
    },
    {
     "data": {
      "text/html": [
       " View run at <a href='https://wandb.ai/bind-gps/BindGPS/runs/bpbat1uz' target=\"_blank\">https://wandb.ai/bind-gps/BindGPS/runs/bpbat1uz</a>"
      ],
      "text/plain": [
       "<IPython.core.display.HTML object>"
      ]
     },
     "metadata": {},
     "output_type": "display_data"
    },
    {
     "name": "stderr",
     "output_type": "stream",
     "text": [
      "\u001b[34m\u001b[1mwandb\u001b[0m: \u001b[33mWARNING\u001b[0m Calling wandb.login() after wandb.init() has no effect.\n"
     ]
    },
    {
     "name": "stdout",
     "output_type": "stream",
     "text": [
      "[Epoch 0] Train Loss: 475.0310, Acc: 0.8308\n",
      "[Epoch 0] Val Loss: 92.0575, Val Metrics: {'MulticlassAUROC': 0.7951216697692871, 'MulticlassAUPRC': 0.5282975435256958, 'MulticlassAccuracy': 0.8627294301986694}\n",
      "[Epoch 1] Train Loss: 364.0451, Acc: 0.8668\n",
      "[Epoch 1] Val Loss: 88.0016, Val Metrics: {'MulticlassAUROC': 0.8116578459739685, 'MulticlassAUPRC': 0.545400083065033, 'MulticlassAccuracy': 0.8728330135345459}\n",
      "[Epoch 2] Train Loss: 348.0637, Acc: 0.8718\n",
      "[Epoch 2] Val Loss: 83.0663, Val Metrics: {'MulticlassAUROC': 0.830498218536377, 'MulticlassAUPRC': 0.5737637877464294, 'MulticlassAccuracy': 0.876067578792572}\n",
      "[Epoch 3] Train Loss: 341.3541, Acc: 0.8730\n",
      "[Epoch 3] Val Loss: 81.6068, Val Metrics: {'MulticlassAUROC': 0.8382349610328674, 'MulticlassAUPRC': 0.5823094248771667, 'MulticlassAccuracy': 0.8779574632644653}\n",
      "[Epoch 4] Train Loss: 338.2354, Acc: 0.8746\n",
      "[Epoch 4] Val Loss: 81.2185, Val Metrics: {'MulticlassAUROC': 0.8359975814819336, 'MulticlassAUPRC': 0.5747483372688293, 'MulticlassAccuracy': 0.8769398331642151}\n",
      "[Epoch 5] Train Loss: 332.6872, Acc: 0.8749\n",
      "[Epoch 5] Val Loss: 80.3752, Val Metrics: {'MulticlassAUROC': 0.8395668864250183, 'MulticlassAUPRC': 0.5817939639091492, 'MulticlassAccuracy': 0.8774850368499756}\n",
      "[Epoch 6] Train Loss: 332.1276, Acc: 0.8755\n",
      "[Epoch 6] Val Loss: 79.8819, Val Metrics: {'MulticlassAUROC': 0.8448740839958191, 'MulticlassAUPRC': 0.5897467732429504, 'MulticlassAccuracy': 0.8783935904502869}\n",
      "[Epoch 7] Train Loss: 328.3572, Acc: 0.8763\n",
      "[Epoch 7] Val Loss: 79.0333, Val Metrics: {'MulticlassAUROC': 0.8453798890113831, 'MulticlassAUPRC': 0.5889869332313538, 'MulticlassAccuracy': 0.8782118558883667}\n",
      "[Epoch 8] Train Loss: 327.0674, Acc: 0.8772\n",
      "[Epoch 8] Val Loss: 80.6755, Val Metrics: {'MulticlassAUROC': 0.8455793857574463, 'MulticlassAUPRC': 0.5895110368728638, 'MulticlassAccuracy': 0.8780664801597595}\n",
      "[Epoch 9] Train Loss: 325.9685, Acc: 0.8769\n",
      "[Epoch 9] Val Loss: 79.4088, Val Metrics: {'MulticlassAUROC': 0.847264289855957, 'MulticlassAUPRC': 0.5924097895622253, 'MulticlassAccuracy': 0.8781391978263855}\n"
     ]
    },
    {
     "data": {
      "text/html": [],
      "text/plain": [
       "<IPython.core.display.HTML object>"
      ]
     },
     "metadata": {},
     "output_type": "display_data"
    },
    {
     "data": {
      "text/html": [
       "<br>    <style><br>        .wandb-row {<br>            display: flex;<br>            flex-direction: row;<br>            flex-wrap: wrap;<br>            justify-content: flex-start;<br>            width: 100%;<br>        }<br>        .wandb-col {<br>            display: flex;<br>            flex-direction: column;<br>            flex-basis: 100%;<br>            flex: 1;<br>            padding: 10px;<br>        }<br>    </style><br><div class=\"wandb-row\"><div class=\"wandb-col\"><h3>Run history:</h3><br/><table class=\"wandb\"><tr><td>epoch</td><td>▁▂▃▃▄▅▆▆▇█</td></tr><tr><td>train_accuracy</td><td>▁▆▇▇██████</td></tr><tr><td>train_loss</td><td>█▃▂▂▂▁▁▁▁▁</td></tr><tr><td>val_MulticlassAUPRC</td><td>▁▃▆▇▆▇████</td></tr><tr><td>val_MulticlassAUROC</td><td>▁▃▆▇▆▇████</td></tr><tr><td>val_MulticlassAccuracy</td><td>▁▆▇█▇█████</td></tr><tr><td>val_loss</td><td>█▆▃▂▂▂▁▁▂▁</td></tr></table><br/></div><div class=\"wandb-col\"><h3>Run summary:</h3><br/><table class=\"wandb\"><tr><td>epoch</td><td>9</td></tr><tr><td>train_accuracy</td><td>0.87693</td></tr><tr><td>train_loss</td><td>325.96845</td></tr><tr><td>val_MulticlassAUPRC</td><td>0.59241</td></tr><tr><td>val_MulticlassAUROC</td><td>0.84726</td></tr><tr><td>val_MulticlassAccuracy</td><td>0.87814</td></tr><tr><td>val_loss</td><td>79.40881</td></tr></table><br/></div></div>"
      ],
      "text/plain": [
       "<IPython.core.display.HTML object>"
      ]
     },
     "metadata": {},
     "output_type": "display_data"
    },
    {
     "data": {
      "text/html": [
       " View run <strong style=\"color:#cdcd00\">mre_1kb_64_0.0001</strong> at: <a href='https://wandb.ai/bind-gps/BindGPS/runs/bpbat1uz' target=\"_blank\">https://wandb.ai/bind-gps/BindGPS/runs/bpbat1uz</a><br> View project at: <a href='https://wandb.ai/bind-gps/BindGPS' target=\"_blank\">https://wandb.ai/bind-gps/BindGPS</a><br>Synced 5 W&B file(s), 0 media file(s), 0 artifact file(s) and 0 other file(s)"
      ],
      "text/plain": [
       "<IPython.core.display.HTML object>"
      ]
     },
     "metadata": {},
     "output_type": "display_data"
    },
    {
     "data": {
      "text/html": [
       "Find logs at: <code>./wandb/run-20251002_141348-bpbat1uz/logs</code>"
      ],
      "text/plain": [
       "<IPython.core.display.HTML object>"
      ]
     },
     "metadata": {},
     "output_type": "display_data"
    },
    {
     "name": "stderr",
     "output_type": "stream",
     "text": [
      "\u001b[34m\u001b[1mwandb\u001b[0m: Agent Starting Run: 458oyq5n with config:\n",
      "\u001b[34m\u001b[1mwandb\u001b[0m: \tbatch_size: 128\n",
      "\u001b[34m\u001b[1mwandb\u001b[0m: \tepochs: 10\n",
      "\u001b[34m\u001b[1mwandb\u001b[0m: \thidden_dims: [256, 128]\n",
      "\u001b[34m\u001b[1mwandb\u001b[0m: \tlr: 0.0001\n",
      "\u001b[34m\u001b[1mwandb\u001b[0m: \tresolution: 1kb\n",
      "\u001b[34m\u001b[1mwandb\u001b[0m: \tsvd_dim: 64\n",
      "\u001b[34m\u001b[1mwandb\u001b[0m: \ttarget_metric: MulticlassAUROC\n",
      "\u001b[34m\u001b[1mwandb\u001b[0m: \ttask: gene\n",
      "\u001b[34m\u001b[1mwandb\u001b[0m: \tweighted: True\n",
      "\u001b[34m\u001b[1mwandb\u001b[0m: \u001b[32m\u001b[41mERROR\u001b[0m Failed to detect the name of this notebook. You can set it manually with the WANDB_NOTEBOOK_NAME environment variable to enable code saving.\n"
     ]
    },
    {
     "data": {
      "text/html": [],
      "text/plain": [
       "<IPython.core.display.HTML object>"
      ]
     },
     "metadata": {},
     "output_type": "display_data"
    },
    {
     "data": {
      "text/html": [
       "Tracking run with wandb version 0.22.1"
      ],
      "text/plain": [
       "<IPython.core.display.HTML object>"
      ]
     },
     "metadata": {},
     "output_type": "display_data"
    },
    {
     "data": {
      "text/html": [
       "Run data is saved locally in <code>/oscar/data/larschan/shared_data/BindGPS/model/wandb/run-20251002_141429-458oyq5n</code>"
      ],
      "text/plain": [
       "<IPython.core.display.HTML object>"
      ]
     },
     "metadata": {},
     "output_type": "display_data"
    },
    {
     "data": {
      "text/html": [
       "Syncing run <strong><a href='https://wandb.ai/bind-gps/BindGPS/runs/458oyq5n' target=\"_blank\">solar-sweep-75</a></strong> to <a href='https://wandb.ai/bind-gps/BindGPS' target=\"_blank\">Weights & Biases</a> (<a href='https://wandb.me/developer-guide' target=\"_blank\">docs</a>)<br>Sweep page: <a href='https://wandb.ai/bind-gps/BindGPS/sweeps/79ufxypb' target=\"_blank\">https://wandb.ai/bind-gps/BindGPS/sweeps/79ufxypb</a>"
      ],
      "text/plain": [
       "<IPython.core.display.HTML object>"
      ]
     },
     "metadata": {},
     "output_type": "display_data"
    },
    {
     "data": {
      "text/html": [
       " View project at <a href='https://wandb.ai/bind-gps/BindGPS' target=\"_blank\">https://wandb.ai/bind-gps/BindGPS</a>"
      ],
      "text/plain": [
       "<IPython.core.display.HTML object>"
      ]
     },
     "metadata": {},
     "output_type": "display_data"
    },
    {
     "data": {
      "text/html": [
       " View sweep at <a href='https://wandb.ai/bind-gps/BindGPS/sweeps/79ufxypb' target=\"_blank\">https://wandb.ai/bind-gps/BindGPS/sweeps/79ufxypb</a>"
      ],
      "text/plain": [
       "<IPython.core.display.HTML object>"
      ]
     },
     "metadata": {},
     "output_type": "display_data"
    },
    {
     "data": {
      "text/html": [
       " View run at <a href='https://wandb.ai/bind-gps/BindGPS/runs/458oyq5n' target=\"_blank\">https://wandb.ai/bind-gps/BindGPS/runs/458oyq5n</a>"
      ],
      "text/plain": [
       "<IPython.core.display.HTML object>"
      ]
     },
     "metadata": {},
     "output_type": "display_data"
    },
    {
     "name": "stderr",
     "output_type": "stream",
     "text": [
      "\u001b[34m\u001b[1mwandb\u001b[0m: \u001b[33mWARNING\u001b[0m Calling wandb.login() after wandb.init() has no effect.\n"
     ]
    },
    {
     "name": "stdout",
     "output_type": "stream",
     "text": [
      "[Epoch 0] Train Loss: 906.9825, Acc: 0.4493\n",
      "[Epoch 0] Val Loss: 217.7326, Val Metrics: {'MulticlassAUROC': 0.6693623065948486, 'MulticlassAUPRC': 0.47086822986602783, 'MulticlassAccuracy': 0.4684354066848755}\n",
      "[Epoch 1] Train Loss: 880.7312, Acc: 0.4802\n",
      "[Epoch 1] Val Loss: 217.9120, Val Metrics: {'MulticlassAUROC': 0.6743819117546082, 'MulticlassAUPRC': 0.4764493405818939, 'MulticlassAccuracy': 0.44561147689819336}\n",
      "[Epoch 2] Train Loss: 872.4629, Acc: 0.4912\n",
      "[Epoch 2] Val Loss: 215.1220, Val Metrics: {'MulticlassAUROC': 0.6795088648796082, 'MulticlassAUPRC': 0.48170849680900574, 'MulticlassAccuracy': 0.45822277665138245}\n",
      "[Epoch 3] Train Loss: 866.8216, Acc: 0.4936\n",
      "[Epoch 3] Val Loss: 212.8322, Val Metrics: {'MulticlassAUROC': 0.6877944469451904, 'MulticlassAUPRC': 0.49007153511047363, 'MulticlassAccuracy': 0.4913683533668518}\n",
      "[Epoch 4] Train Loss: 861.9978, Acc: 0.5006\n",
      "[Epoch 4] Val Loss: 212.9422, Val Metrics: {'MulticlassAUROC': 0.6884416937828064, 'MulticlassAUPRC': 0.49005940556526184, 'MulticlassAccuracy': 0.4776303768157959}\n",
      "[Epoch 5] Train Loss: 858.6940, Acc: 0.5047\n",
      "[Epoch 5] Val Loss: 211.4675, Val Metrics: {'MulticlassAUROC': 0.6938493847846985, 'MulticlassAUPRC': 0.4959610402584076, 'MulticlassAccuracy': 0.499545693397522}\n",
      "[Epoch 6] Train Loss: 856.8614, Acc: 0.5070\n",
      "[Epoch 6] Val Loss: 211.6635, Val Metrics: {'MulticlassAUROC': 0.694861888885498, 'MulticlassAUPRC': 0.49698448181152344, 'MulticlassAccuracy': 0.5033618211746216}\n",
      "[Epoch 7] Train Loss: 854.4143, Acc: 0.5094\n",
      "[Epoch 7] Val Loss: 211.3915, Val Metrics: {'MulticlassAUROC': 0.6977476477622986, 'MulticlassAUPRC': 0.4998645484447479, 'MulticlassAccuracy': 0.5062693357467651}\n",
      "[Epoch 8] Train Loss: 852.5563, Acc: 0.5121\n",
      "[Epoch 8] Val Loss: 210.4579, Val Metrics: {'MulticlassAUROC': 0.6968738436698914, 'MulticlassAUPRC': 0.49897751212120056, 'MulticlassAccuracy': 0.49373069405555725}\n",
      "[Epoch 9] Train Loss: 850.2224, Acc: 0.5132\n",
      "[Epoch 9] Val Loss: 210.3250, Val Metrics: {'MulticlassAUROC': 0.6981911659240723, 'MulticlassAUPRC': 0.5002517700195312, 'MulticlassAccuracy': 0.4880973994731903}\n"
     ]
    },
    {
     "data": {
      "text/html": [],
      "text/plain": [
       "<IPython.core.display.HTML object>"
      ]
     },
     "metadata": {},
     "output_type": "display_data"
    },
    {
     "data": {
      "text/html": [
       "<br>    <style><br>        .wandb-row {<br>            display: flex;<br>            flex-direction: row;<br>            flex-wrap: wrap;<br>            justify-content: flex-start;<br>            width: 100%;<br>        }<br>        .wandb-col {<br>            display: flex;<br>            flex-direction: column;<br>            flex-basis: 100%;<br>            flex: 1;<br>            padding: 10px;<br>        }<br>    </style><br><div class=\"wandb-row\"><div class=\"wandb-col\"><h3>Run history:</h3><br/><table class=\"wandb\"><tr><td>epoch</td><td>▁▂▃▃▄▅▆▆▇█</td></tr><tr><td>train_accuracy</td><td>▁▄▆▆▇▇▇███</td></tr><tr><td>train_loss</td><td>█▅▄▃▂▂▂▂▁▁</td></tr><tr><td>val_MulticlassAUPRC</td><td>▁▂▄▆▆▇▇███</td></tr><tr><td>val_MulticlassAUROC</td><td>▁▂▃▅▆▇▇███</td></tr><tr><td>val_MulticlassAccuracy</td><td>▄▁▂▆▅▇██▇▆</td></tr><tr><td>val_loss</td><td>██▅▃▃▂▂▂▁▁</td></tr></table><br/></div><div class=\"wandb-col\"><h3>Run summary:</h3><br/><table class=\"wandb\"><tr><td>epoch</td><td>9</td></tr><tr><td>train_accuracy</td><td>0.51317</td></tr><tr><td>train_loss</td><td>850.22241</td></tr><tr><td>val_MulticlassAUPRC</td><td>0.50025</td></tr><tr><td>val_MulticlassAUROC</td><td>0.69819</td></tr><tr><td>val_MulticlassAccuracy</td><td>0.4881</td></tr><tr><td>val_loss</td><td>210.32495</td></tr></table><br/></div></div>"
      ],
      "text/plain": [
       "<IPython.core.display.HTML object>"
      ]
     },
     "metadata": {},
     "output_type": "display_data"
    },
    {
     "data": {
      "text/html": [
       " View run <strong style=\"color:#cdcd00\">gene_1kb_64_0.0001</strong> at: <a href='https://wandb.ai/bind-gps/BindGPS/runs/458oyq5n' target=\"_blank\">https://wandb.ai/bind-gps/BindGPS/runs/458oyq5n</a><br> View project at: <a href='https://wandb.ai/bind-gps/BindGPS' target=\"_blank\">https://wandb.ai/bind-gps/BindGPS</a><br>Synced 5 W&B file(s), 0 media file(s), 0 artifact file(s) and 0 other file(s)"
      ],
      "text/plain": [
       "<IPython.core.display.HTML object>"
      ]
     },
     "metadata": {},
     "output_type": "display_data"
    },
    {
     "data": {
      "text/html": [
       "Find logs at: <code>./wandb/run-20251002_141429-458oyq5n/logs</code>"
      ],
      "text/plain": [
       "<IPython.core.display.HTML object>"
      ]
     },
     "metadata": {},
     "output_type": "display_data"
    },
    {
     "name": "stderr",
     "output_type": "stream",
     "text": [
      "\u001b[34m\u001b[1mwandb\u001b[0m: Agent Starting Run: 3grzl06y with config:\n",
      "\u001b[34m\u001b[1mwandb\u001b[0m: \tbatch_size: 128\n",
      "\u001b[34m\u001b[1mwandb\u001b[0m: \tepochs: 10\n",
      "\u001b[34m\u001b[1mwandb\u001b[0m: \thidden_dims: [256, 128]\n",
      "\u001b[34m\u001b[1mwandb\u001b[0m: \tlr: 0.0001\n",
      "\u001b[34m\u001b[1mwandb\u001b[0m: \tresolution: 1kb\n",
      "\u001b[34m\u001b[1mwandb\u001b[0m: \tsvd_dim: 64\n",
      "\u001b[34m\u001b[1mwandb\u001b[0m: \ttarget_metric: MulticlassAUROC\n",
      "\u001b[34m\u001b[1mwandb\u001b[0m: \ttask: gene\n",
      "\u001b[34m\u001b[1mwandb\u001b[0m: \tweighted: False\n",
      "\u001b[34m\u001b[1mwandb\u001b[0m: \u001b[32m\u001b[41mERROR\u001b[0m Failed to detect the name of this notebook. You can set it manually with the WANDB_NOTEBOOK_NAME environment variable to enable code saving.\n"
     ]
    },
    {
     "data": {
      "text/html": [],
      "text/plain": [
       "<IPython.core.display.HTML object>"
      ]
     },
     "metadata": {},
     "output_type": "display_data"
    },
    {
     "data": {
      "text/html": [
       "Tracking run with wandb version 0.22.1"
      ],
      "text/plain": [
       "<IPython.core.display.HTML object>"
      ]
     },
     "metadata": {},
     "output_type": "display_data"
    },
    {
     "data": {
      "text/html": [
       "Run data is saved locally in <code>/oscar/data/larschan/shared_data/BindGPS/model/wandb/run-20251002_141510-3grzl06y</code>"
      ],
      "text/plain": [
       "<IPython.core.display.HTML object>"
      ]
     },
     "metadata": {},
     "output_type": "display_data"
    },
    {
     "data": {
      "text/html": [
       "Syncing run <strong><a href='https://wandb.ai/bind-gps/BindGPS/runs/3grzl06y' target=\"_blank\">still-sweep-76</a></strong> to <a href='https://wandb.ai/bind-gps/BindGPS' target=\"_blank\">Weights & Biases</a> (<a href='https://wandb.me/developer-guide' target=\"_blank\">docs</a>)<br>Sweep page: <a href='https://wandb.ai/bind-gps/BindGPS/sweeps/79ufxypb' target=\"_blank\">https://wandb.ai/bind-gps/BindGPS/sweeps/79ufxypb</a>"
      ],
      "text/plain": [
       "<IPython.core.display.HTML object>"
      ]
     },
     "metadata": {},
     "output_type": "display_data"
    },
    {
     "data": {
      "text/html": [
       " View project at <a href='https://wandb.ai/bind-gps/BindGPS' target=\"_blank\">https://wandb.ai/bind-gps/BindGPS</a>"
      ],
      "text/plain": [
       "<IPython.core.display.HTML object>"
      ]
     },
     "metadata": {},
     "output_type": "display_data"
    },
    {
     "data": {
      "text/html": [
       " View sweep at <a href='https://wandb.ai/bind-gps/BindGPS/sweeps/79ufxypb' target=\"_blank\">https://wandb.ai/bind-gps/BindGPS/sweeps/79ufxypb</a>"
      ],
      "text/plain": [
       "<IPython.core.display.HTML object>"
      ]
     },
     "metadata": {},
     "output_type": "display_data"
    },
    {
     "data": {
      "text/html": [
       " View run at <a href='https://wandb.ai/bind-gps/BindGPS/runs/3grzl06y' target=\"_blank\">https://wandb.ai/bind-gps/BindGPS/runs/3grzl06y</a>"
      ],
      "text/plain": [
       "<IPython.core.display.HTML object>"
      ]
     },
     "metadata": {},
     "output_type": "display_data"
    },
    {
     "name": "stderr",
     "output_type": "stream",
     "text": [
      "\u001b[34m\u001b[1mwandb\u001b[0m: \u001b[33mWARNING\u001b[0m Calling wandb.login() after wandb.init() has no effect.\n"
     ]
    },
    {
     "name": "stdout",
     "output_type": "stream",
     "text": [
      "[Epoch 0] Train Loss: 768.0156, Acc: 0.5915\n",
      "[Epoch 0] Val Loss: 182.7423, Val Metrics: {'MulticlassAUROC': 0.6769737601280212, 'MulticlassAUPRC': 0.47012123465538025, 'MulticlassAccuracy': 0.6102489829063416}\n",
      "[Epoch 1] Train Loss: 736.6249, Acc: 0.6043\n",
      "[Epoch 1] Val Loss: 181.4435, Val Metrics: {'MulticlassAUROC': 0.6857892870903015, 'MulticlassAUPRC': 0.47944411635398865, 'MulticlassAccuracy': 0.6134108901023865}\n",
      "[Epoch 2] Train Loss: 728.9857, Acc: 0.6080\n",
      "[Epoch 2] Val Loss: 179.3964, Val Metrics: {'MulticlassAUROC': 0.6933088898658752, 'MulticlassAUPRC': 0.4892606735229492, 'MulticlassAccuracy': 0.6192622184753418}\n",
      "[Epoch 3] Train Loss: 723.9087, Acc: 0.6108\n",
      "[Epoch 3] Val Loss: 179.2327, Val Metrics: {'MulticlassAUROC': 0.6964855194091797, 'MulticlassAUPRC': 0.49207961559295654, 'MulticlassAccuracy': 0.6186443567276001}\n",
      "[Epoch 4] Train Loss: 721.8068, Acc: 0.6135\n",
      "[Epoch 4] Val Loss: 178.2372, Val Metrics: {'MulticlassAUROC': 0.7005572319030762, 'MulticlassAUPRC': 0.4968632757663727, 'MulticlassAccuracy': 0.621842622756958}\n",
      "[Epoch 5] Train Loss: 718.5659, Acc: 0.6142\n",
      "[Epoch 5] Val Loss: 177.1633, Val Metrics: {'MulticlassAUROC': 0.7035781741142273, 'MulticlassAUPRC': 0.5005058646202087, 'MulticlassAccuracy': 0.6241322755813599}\n",
      "[Epoch 6] Train Loss: 716.5407, Acc: 0.6170\n",
      "[Epoch 6] Val Loss: 176.9630, Val Metrics: {'MulticlassAUROC': 0.7048868536949158, 'MulticlassAUPRC': 0.5009748339653015, 'MulticlassAccuracy': 0.6254770159721375}\n",
      "[Epoch 7] Train Loss: 714.3851, Acc: 0.6172\n",
      "[Epoch 7] Val Loss: 176.1340, Val Metrics: {'MulticlassAUROC': 0.7080860733985901, 'MulticlassAUPRC': 0.5049342513084412, 'MulticlassAccuracy': 0.6265310049057007}\n",
      "[Epoch 8] Train Loss: 711.2495, Acc: 0.6201\n",
      "[Epoch 8] Val Loss: 177.7317, Val Metrics: {'MulticlassAUROC': 0.7054543495178223, 'MulticlassAUPRC': 0.5019476413726807, 'MulticlassAccuracy': 0.6261675357818604}\n",
      "[Epoch 9] Train Loss: 709.7482, Acc: 0.6200\n",
      "[Epoch 9] Val Loss: 175.3744, Val Metrics: {'MulticlassAUROC': 0.7107741236686707, 'MulticlassAUPRC': 0.5087209939956665, 'MulticlassAccuracy': 0.6291477084159851}\n"
     ]
    },
    {
     "data": {
      "text/html": [],
      "text/plain": [
       "<IPython.core.display.HTML object>"
      ]
     },
     "metadata": {},
     "output_type": "display_data"
    },
    {
     "data": {
      "text/html": [
       "<br>    <style><br>        .wandb-row {<br>            display: flex;<br>            flex-direction: row;<br>            flex-wrap: wrap;<br>            justify-content: flex-start;<br>            width: 100%;<br>        }<br>        .wandb-col {<br>            display: flex;<br>            flex-direction: column;<br>            flex-basis: 100%;<br>            flex: 1;<br>            padding: 10px;<br>        }<br>    </style><br><div class=\"wandb-row\"><div class=\"wandb-col\"><h3>Run history:</h3><br/><table class=\"wandb\"><tr><td>epoch</td><td>▁▂▃▃▄▅▆▆▇█</td></tr><tr><td>train_accuracy</td><td>▁▄▅▆▆▇▇▇██</td></tr><tr><td>train_loss</td><td>█▄▃▃▂▂▂▂▁▁</td></tr><tr><td>val_MulticlassAUPRC</td><td>▁▃▄▅▆▇▇▇▇█</td></tr><tr><td>val_MulticlassAUROC</td><td>▁▃▄▅▆▇▇▇▇█</td></tr><tr><td>val_MulticlassAccuracy</td><td>▁▂▄▄▅▆▇▇▇█</td></tr><tr><td>val_loss</td><td>█▇▅▅▄▃▃▂▃▁</td></tr></table><br/></div><div class=\"wandb-col\"><h3>Run summary:</h3><br/><table class=\"wandb\"><tr><td>epoch</td><td>9</td></tr><tr><td>train_accuracy</td><td>0.62001</td></tr><tr><td>train_loss</td><td>709.74822</td></tr><tr><td>val_MulticlassAUPRC</td><td>0.50872</td></tr><tr><td>val_MulticlassAUROC</td><td>0.71077</td></tr><tr><td>val_MulticlassAccuracy</td><td>0.62915</td></tr><tr><td>val_loss</td><td>175.37439</td></tr></table><br/></div></div>"
      ],
      "text/plain": [
       "<IPython.core.display.HTML object>"
      ]
     },
     "metadata": {},
     "output_type": "display_data"
    },
    {
     "data": {
      "text/html": [
       " View run <strong style=\"color:#cdcd00\">gene_1kb_64_0.0001</strong> at: <a href='https://wandb.ai/bind-gps/BindGPS/runs/3grzl06y' target=\"_blank\">https://wandb.ai/bind-gps/BindGPS/runs/3grzl06y</a><br> View project at: <a href='https://wandb.ai/bind-gps/BindGPS' target=\"_blank\">https://wandb.ai/bind-gps/BindGPS</a><br>Synced 5 W&B file(s), 0 media file(s), 0 artifact file(s) and 0 other file(s)"
      ],
      "text/plain": [
       "<IPython.core.display.HTML object>"
      ]
     },
     "metadata": {},
     "output_type": "display_data"
    },
    {
     "data": {
      "text/html": [
       "Find logs at: <code>./wandb/run-20251002_141510-3grzl06y/logs</code>"
      ],
      "text/plain": [
       "<IPython.core.display.HTML object>"
      ]
     },
     "metadata": {},
     "output_type": "display_data"
    },
    {
     "name": "stderr",
     "output_type": "stream",
     "text": [
      "\u001b[34m\u001b[1mwandb\u001b[0m: Agent Starting Run: uk8fefsd with config:\n",
      "\u001b[34m\u001b[1mwandb\u001b[0m: \tbatch_size: 128\n",
      "\u001b[34m\u001b[1mwandb\u001b[0m: \tepochs: 10\n",
      "\u001b[34m\u001b[1mwandb\u001b[0m: \thidden_dims: [256, 128]\n",
      "\u001b[34m\u001b[1mwandb\u001b[0m: \tlr: 0.0001\n",
      "\u001b[34m\u001b[1mwandb\u001b[0m: \tresolution: 1kb\n",
      "\u001b[34m\u001b[1mwandb\u001b[0m: \tsvd_dim: 64\n",
      "\u001b[34m\u001b[1mwandb\u001b[0m: \ttarget_metric: MulticlassAccuracy\n",
      "\u001b[34m\u001b[1mwandb\u001b[0m: \ttask: mre\n",
      "\u001b[34m\u001b[1mwandb\u001b[0m: \tweighted: True\n",
      "\u001b[34m\u001b[1mwandb\u001b[0m: \u001b[32m\u001b[41mERROR\u001b[0m Failed to detect the name of this notebook. You can set it manually with the WANDB_NOTEBOOK_NAME environment variable to enable code saving.\n"
     ]
    },
    {
     "data": {
      "text/html": [],
      "text/plain": [
       "<IPython.core.display.HTML object>"
      ]
     },
     "metadata": {},
     "output_type": "display_data"
    },
    {
     "data": {
      "text/html": [
       "Tracking run with wandb version 0.22.1"
      ],
      "text/plain": [
       "<IPython.core.display.HTML object>"
      ]
     },
     "metadata": {},
     "output_type": "display_data"
    },
    {
     "data": {
      "text/html": [
       "Run data is saved locally in <code>/oscar/data/larschan/shared_data/BindGPS/model/wandb/run-20251002_141550-uk8fefsd</code>"
      ],
      "text/plain": [
       "<IPython.core.display.HTML object>"
      ]
     },
     "metadata": {},
     "output_type": "display_data"
    },
    {
     "data": {
      "text/html": [
       "Syncing run <strong><a href='https://wandb.ai/bind-gps/BindGPS/runs/uk8fefsd' target=\"_blank\">robust-sweep-77</a></strong> to <a href='https://wandb.ai/bind-gps/BindGPS' target=\"_blank\">Weights & Biases</a> (<a href='https://wandb.me/developer-guide' target=\"_blank\">docs</a>)<br>Sweep page: <a href='https://wandb.ai/bind-gps/BindGPS/sweeps/79ufxypb' target=\"_blank\">https://wandb.ai/bind-gps/BindGPS/sweeps/79ufxypb</a>"
      ],
      "text/plain": [
       "<IPython.core.display.HTML object>"
      ]
     },
     "metadata": {},
     "output_type": "display_data"
    },
    {
     "data": {
      "text/html": [
       " View project at <a href='https://wandb.ai/bind-gps/BindGPS' target=\"_blank\">https://wandb.ai/bind-gps/BindGPS</a>"
      ],
      "text/plain": [
       "<IPython.core.display.HTML object>"
      ]
     },
     "metadata": {},
     "output_type": "display_data"
    },
    {
     "data": {
      "text/html": [
       " View sweep at <a href='https://wandb.ai/bind-gps/BindGPS/sweeps/79ufxypb' target=\"_blank\">https://wandb.ai/bind-gps/BindGPS/sweeps/79ufxypb</a>"
      ],
      "text/plain": [
       "<IPython.core.display.HTML object>"
      ]
     },
     "metadata": {},
     "output_type": "display_data"
    },
    {
     "data": {
      "text/html": [
       " View run at <a href='https://wandb.ai/bind-gps/BindGPS/runs/uk8fefsd' target=\"_blank\">https://wandb.ai/bind-gps/BindGPS/runs/uk8fefsd</a>"
      ],
      "text/plain": [
       "<IPython.core.display.HTML object>"
      ]
     },
     "metadata": {},
     "output_type": "display_data"
    },
    {
     "name": "stderr",
     "output_type": "stream",
     "text": [
      "\u001b[34m\u001b[1mwandb\u001b[0m: \u001b[33mWARNING\u001b[0m Calling wandb.login() after wandb.init() has no effect.\n"
     ]
    },
    {
     "name": "stdout",
     "output_type": "stream",
     "text": [
      "[Epoch 0] Train Loss: 880.3521, Acc: 0.5433\n",
      "[Epoch 0] Val Loss: 204.1791, Val Metrics: {'MulticlassAUROC': 0.7479832172393799, 'MulticlassAUPRC': 0.49035611748695374, 'MulticlassAccuracy': 0.6959113478660583}\n",
      "[Epoch 1] Train Loss: 818.0873, Acc: 0.6546\n",
      "[Epoch 1] Val Loss: 194.5420, Val Metrics: {'MulticlassAUROC': 0.7759265303611755, 'MulticlassAUPRC': 0.5108424425125122, 'MulticlassAccuracy': 0.7115027904510498}\n",
      "[Epoch 2] Train Loss: 792.6949, Acc: 0.6774\n",
      "[Epoch 2] Val Loss: 190.7319, Val Metrics: {'MulticlassAUROC': 0.7923871874809265, 'MulticlassAUPRC': 0.5209466814994812, 'MulticlassAccuracy': 0.7305106520652771}\n",
      "[Epoch 3] Train Loss: 774.9020, Acc: 0.6979\n",
      "[Epoch 3] Val Loss: 189.5221, Val Metrics: {'MulticlassAUROC': 0.8014836311340332, 'MulticlassAUPRC': 0.5296833515167236, 'MulticlassAccuracy': 0.7430855631828308}\n",
      "[Epoch 4] Train Loss: 768.3304, Acc: 0.7000\n",
      "[Epoch 4] Val Loss: 186.0762, Val Metrics: {'MulticlassAUROC': 0.8112011551856995, 'MulticlassAUPRC': 0.5334629416465759, 'MulticlassAccuracy': 0.7455933094024658}\n",
      "[Epoch 5] Train Loss: 759.7573, Acc: 0.7086\n",
      "[Epoch 5] Val Loss: 184.8036, Val Metrics: {'MulticlassAUROC': 0.813363254070282, 'MulticlassAUPRC': 0.5334954261779785, 'MulticlassAccuracy': 0.7420679926872253}\n",
      "[Epoch 6] Train Loss: 752.6383, Acc: 0.7145\n",
      "[Epoch 6] Val Loss: 183.5118, Val Metrics: {'MulticlassAUROC': 0.8172866702079773, 'MulticlassAUPRC': 0.5336698889732361, 'MulticlassAccuracy': 0.7383608818054199}\n",
      "[Epoch 7] Train Loss: 748.3507, Acc: 0.7159\n",
      "[Epoch 7] Val Loss: 186.4627, Val Metrics: {'MulticlassAUROC': 0.8141090273857117, 'MulticlassAUPRC': 0.5311591625213623, 'MulticlassAccuracy': 0.6985280513763428}\n",
      "[Epoch 8] Train Loss: 742.3477, Acc: 0.7185\n",
      "[Epoch 8] Val Loss: 182.5739, Val Metrics: {'MulticlassAUROC': 0.8192059397697449, 'MulticlassAUPRC': 0.5337398648262024, 'MulticlassAccuracy': 0.7433763146400452}\n",
      "[Epoch 9] Train Loss: 739.9700, Acc: 0.7241\n",
      "[Epoch 9] Val Loss: 182.2857, Val Metrics: {'MulticlassAUROC': 0.8180845379829407, 'MulticlassAUPRC': 0.5325677990913391, 'MulticlassAccuracy': 0.7530437707901001}\n"
     ]
    },
    {
     "data": {
      "text/html": [],
      "text/plain": [
       "<IPython.core.display.HTML object>"
      ]
     },
     "metadata": {},
     "output_type": "display_data"
    },
    {
     "data": {
      "text/html": [
       "<br>    <style><br>        .wandb-row {<br>            display: flex;<br>            flex-direction: row;<br>            flex-wrap: wrap;<br>            justify-content: flex-start;<br>            width: 100%;<br>        }<br>        .wandb-col {<br>            display: flex;<br>            flex-direction: column;<br>            flex-basis: 100%;<br>            flex: 1;<br>            padding: 10px;<br>        }<br>    </style><br><div class=\"wandb-row\"><div class=\"wandb-col\"><h3>Run history:</h3><br/><table class=\"wandb\"><tr><td>epoch</td><td>▁▂▃▃▄▅▆▆▇█</td></tr><tr><td>train_accuracy</td><td>▁▅▆▇▇▇████</td></tr><tr><td>train_loss</td><td>█▅▄▃▂▂▂▁▁▁</td></tr><tr><td>val_MulticlassAUPRC</td><td>▁▄▆▇██████</td></tr><tr><td>val_MulticlassAUROC</td><td>▁▄▅▆▇▇█▇██</td></tr><tr><td>val_MulticlassAccuracy</td><td>▁▃▅▇▇▇▆▁▇█</td></tr><tr><td>val_loss</td><td>█▅▄▃▂▂▁▂▁▁</td></tr></table><br/></div><div class=\"wandb-col\"><h3>Run summary:</h3><br/><table class=\"wandb\"><tr><td>epoch</td><td>9</td></tr><tr><td>train_accuracy</td><td>0.72406</td></tr><tr><td>train_loss</td><td>739.96999</td></tr><tr><td>val_MulticlassAUPRC</td><td>0.53257</td></tr><tr><td>val_MulticlassAUROC</td><td>0.81808</td></tr><tr><td>val_MulticlassAccuracy</td><td>0.75304</td></tr><tr><td>val_loss</td><td>182.28573</td></tr></table><br/></div></div>"
      ],
      "text/plain": [
       "<IPython.core.display.HTML object>"
      ]
     },
     "metadata": {},
     "output_type": "display_data"
    },
    {
     "data": {
      "text/html": [
       " View run <strong style=\"color:#cdcd00\">mre_1kb_64_0.0001</strong> at: <a href='https://wandb.ai/bind-gps/BindGPS/runs/uk8fefsd' target=\"_blank\">https://wandb.ai/bind-gps/BindGPS/runs/uk8fefsd</a><br> View project at: <a href='https://wandb.ai/bind-gps/BindGPS' target=\"_blank\">https://wandb.ai/bind-gps/BindGPS</a><br>Synced 5 W&B file(s), 0 media file(s), 0 artifact file(s) and 0 other file(s)"
      ],
      "text/plain": [
       "<IPython.core.display.HTML object>"
      ]
     },
     "metadata": {},
     "output_type": "display_data"
    },
    {
     "data": {
      "text/html": [
       "Find logs at: <code>./wandb/run-20251002_141550-uk8fefsd/logs</code>"
      ],
      "text/plain": [
       "<IPython.core.display.HTML object>"
      ]
     },
     "metadata": {},
     "output_type": "display_data"
    },
    {
     "name": "stderr",
     "output_type": "stream",
     "text": [
      "\u001b[34m\u001b[1mwandb\u001b[0m: Agent Starting Run: oy4saqf1 with config:\n",
      "\u001b[34m\u001b[1mwandb\u001b[0m: \tbatch_size: 128\n",
      "\u001b[34m\u001b[1mwandb\u001b[0m: \tepochs: 10\n",
      "\u001b[34m\u001b[1mwandb\u001b[0m: \thidden_dims: [256, 128]\n",
      "\u001b[34m\u001b[1mwandb\u001b[0m: \tlr: 0.0001\n",
      "\u001b[34m\u001b[1mwandb\u001b[0m: \tresolution: 1kb\n",
      "\u001b[34m\u001b[1mwandb\u001b[0m: \tsvd_dim: 64\n",
      "\u001b[34m\u001b[1mwandb\u001b[0m: \ttarget_metric: MulticlassAccuracy\n",
      "\u001b[34m\u001b[1mwandb\u001b[0m: \ttask: mre\n",
      "\u001b[34m\u001b[1mwandb\u001b[0m: \tweighted: False\n",
      "\u001b[34m\u001b[1mwandb\u001b[0m: \u001b[32m\u001b[41mERROR\u001b[0m Failed to detect the name of this notebook. You can set it manually with the WANDB_NOTEBOOK_NAME environment variable to enable code saving.\n"
     ]
    },
    {
     "data": {
      "text/html": [],
      "text/plain": [
       "<IPython.core.display.HTML object>"
      ]
     },
     "metadata": {},
     "output_type": "display_data"
    },
    {
     "data": {
      "text/html": [
       "Tracking run with wandb version 0.22.1"
      ],
      "text/plain": [
       "<IPython.core.display.HTML object>"
      ]
     },
     "metadata": {},
     "output_type": "display_data"
    },
    {
     "data": {
      "text/html": [
       "Run data is saved locally in <code>/oscar/data/larschan/shared_data/BindGPS/model/wandb/run-20251002_141631-oy4saqf1</code>"
      ],
      "text/plain": [
       "<IPython.core.display.HTML object>"
      ]
     },
     "metadata": {},
     "output_type": "display_data"
    },
    {
     "data": {
      "text/html": [
       "Syncing run <strong><a href='https://wandb.ai/bind-gps/BindGPS/runs/oy4saqf1' target=\"_blank\">woven-sweep-78</a></strong> to <a href='https://wandb.ai/bind-gps/BindGPS' target=\"_blank\">Weights & Biases</a> (<a href='https://wandb.me/developer-guide' target=\"_blank\">docs</a>)<br>Sweep page: <a href='https://wandb.ai/bind-gps/BindGPS/sweeps/79ufxypb' target=\"_blank\">https://wandb.ai/bind-gps/BindGPS/sweeps/79ufxypb</a>"
      ],
      "text/plain": [
       "<IPython.core.display.HTML object>"
      ]
     },
     "metadata": {},
     "output_type": "display_data"
    },
    {
     "data": {
      "text/html": [
       " View project at <a href='https://wandb.ai/bind-gps/BindGPS' target=\"_blank\">https://wandb.ai/bind-gps/BindGPS</a>"
      ],
      "text/plain": [
       "<IPython.core.display.HTML object>"
      ]
     },
     "metadata": {},
     "output_type": "display_data"
    },
    {
     "data": {
      "text/html": [
       " View sweep at <a href='https://wandb.ai/bind-gps/BindGPS/sweeps/79ufxypb' target=\"_blank\">https://wandb.ai/bind-gps/BindGPS/sweeps/79ufxypb</a>"
      ],
      "text/plain": [
       "<IPython.core.display.HTML object>"
      ]
     },
     "metadata": {},
     "output_type": "display_data"
    },
    {
     "data": {
      "text/html": [
       " View run at <a href='https://wandb.ai/bind-gps/BindGPS/runs/oy4saqf1' target=\"_blank\">https://wandb.ai/bind-gps/BindGPS/runs/oy4saqf1</a>"
      ],
      "text/plain": [
       "<IPython.core.display.HTML object>"
      ]
     },
     "metadata": {},
     "output_type": "display_data"
    },
    {
     "name": "stderr",
     "output_type": "stream",
     "text": [
      "\u001b[34m\u001b[1mwandb\u001b[0m: \u001b[33mWARNING\u001b[0m Calling wandb.login() after wandb.init() has no effect.\n"
     ]
    },
    {
     "name": "stdout",
     "output_type": "stream",
     "text": [
      "[Epoch 0] Train Loss: 470.8088, Acc: 0.8263\n",
      "[Epoch 0] Val Loss: 93.1955, Val Metrics: {'MulticlassAUROC': 0.7925583720207214, 'MulticlassAUPRC': 0.5336354970932007, 'MulticlassAccuracy': 0.8604760766029358}\n",
      "[Epoch 1] Train Loss: 361.2950, Acc: 0.8680\n",
      "[Epoch 1] Val Loss: 87.2380, Val Metrics: {'MulticlassAUROC': 0.8123092651367188, 'MulticlassAUPRC': 0.5565510392189026, 'MulticlassAccuracy': 0.8687624931335449}\n",
      "[Epoch 2] Train Loss: 344.6854, Acc: 0.8730\n",
      "[Epoch 2] Val Loss: 84.2825, Val Metrics: {'MulticlassAUROC': 0.8257783055305481, 'MulticlassAUPRC': 0.5722813010215759, 'MulticlassAccuracy': 0.8712338805198669}\n",
      "[Epoch 3] Train Loss: 337.6096, Acc: 0.8750\n",
      "[Epoch 3] Val Loss: 83.4336, Val Metrics: {'MulticlassAUROC': 0.8292410969734192, 'MulticlassAUPRC': 0.578661322593689, 'MulticlassAccuracy': 0.8722515106201172}\n",
      "[Epoch 4] Train Loss: 334.1952, Acc: 0.8754\n",
      "[Epoch 4] Val Loss: 83.5688, Val Metrics: {'MulticlassAUROC': 0.832349956035614, 'MulticlassAUPRC': 0.5821475386619568, 'MulticlassAccuracy': 0.8730147480964661}\n",
      "[Epoch 5] Train Loss: 330.7904, Acc: 0.8763\n",
      "[Epoch 5] Val Loss: 82.8227, Val Metrics: {'MulticlassAUROC': 0.8315398693084717, 'MulticlassAUPRC': 0.5821458101272583, 'MulticlassAccuracy': 0.8731964230537415}\n",
      "[Epoch 6] Train Loss: 328.1046, Acc: 0.8772\n",
      "[Epoch 6] Val Loss: 82.4260, Val Metrics: {'MulticlassAUROC': 0.8371822834014893, 'MulticlassAUPRC': 0.5824765563011169, 'MulticlassAccuracy': 0.8722878694534302}\n",
      "[Epoch 7] Train Loss: 326.6557, Acc: 0.8770\n",
      "[Epoch 7] Val Loss: 81.4006, Val Metrics: {'MulticlassAUROC': 0.8404186367988586, 'MulticlassAUPRC': 0.5840198397636414, 'MulticlassAccuracy': 0.8738506436347961}\n",
      "[Epoch 8] Train Loss: 324.5475, Acc: 0.8774\n",
      "[Epoch 8] Val Loss: 81.1202, Val Metrics: {'MulticlassAUROC': 0.8409131169319153, 'MulticlassAUPRC': 0.5873042941093445, 'MulticlassAccuracy': 0.8741050362586975}\n",
      "[Epoch 9] Train Loss: 323.3079, Acc: 0.8780\n",
      "[Epoch 9] Val Loss: 81.0207, Val Metrics: {'MulticlassAUROC': 0.8445919156074524, 'MulticlassAUPRC': 0.5904620289802551, 'MulticlassAccuracy': 0.8750499486923218}\n"
     ]
    },
    {
     "data": {
      "text/html": [],
      "text/plain": [
       "<IPython.core.display.HTML object>"
      ]
     },
     "metadata": {},
     "output_type": "display_data"
    },
    {
     "data": {
      "text/html": [
       "<br>    <style><br>        .wandb-row {<br>            display: flex;<br>            flex-direction: row;<br>            flex-wrap: wrap;<br>            justify-content: flex-start;<br>            width: 100%;<br>        }<br>        .wandb-col {<br>            display: flex;<br>            flex-direction: column;<br>            flex-basis: 100%;<br>            flex: 1;<br>            padding: 10px;<br>        }<br>    </style><br><div class=\"wandb-row\"><div class=\"wandb-col\"><h3>Run history:</h3><br/><table class=\"wandb\"><tr><td>epoch</td><td>▁▂▃▃▄▅▆▆▇█</td></tr><tr><td>train_accuracy</td><td>▁▇▇███████</td></tr><tr><td>train_loss</td><td>█▃▂▂▂▁▁▁▁▁</td></tr><tr><td>val_MulticlassAUPRC</td><td>▁▄▆▇▇▇▇▇██</td></tr><tr><td>val_MulticlassAUROC</td><td>▁▄▅▆▆▆▇▇██</td></tr><tr><td>val_MulticlassAccuracy</td><td>▁▅▆▇▇▇▇▇██</td></tr><tr><td>val_loss</td><td>█▅▃▂▂▂▂▁▁▁</td></tr></table><br/></div><div class=\"wandb-col\"><h3>Run summary:</h3><br/><table class=\"wandb\"><tr><td>epoch</td><td>9</td></tr><tr><td>train_accuracy</td><td>0.87796</td></tr><tr><td>train_loss</td><td>323.30792</td></tr><tr><td>val_MulticlassAUPRC</td><td>0.59046</td></tr><tr><td>val_MulticlassAUROC</td><td>0.84459</td></tr><tr><td>val_MulticlassAccuracy</td><td>0.87505</td></tr><tr><td>val_loss</td><td>81.02067</td></tr></table><br/></div></div>"
      ],
      "text/plain": [
       "<IPython.core.display.HTML object>"
      ]
     },
     "metadata": {},
     "output_type": "display_data"
    },
    {
     "data": {
      "text/html": [
       " View run <strong style=\"color:#cdcd00\">mre_1kb_64_0.0001</strong> at: <a href='https://wandb.ai/bind-gps/BindGPS/runs/oy4saqf1' target=\"_blank\">https://wandb.ai/bind-gps/BindGPS/runs/oy4saqf1</a><br> View project at: <a href='https://wandb.ai/bind-gps/BindGPS' target=\"_blank\">https://wandb.ai/bind-gps/BindGPS</a><br>Synced 5 W&B file(s), 0 media file(s), 0 artifact file(s) and 0 other file(s)"
      ],
      "text/plain": [
       "<IPython.core.display.HTML object>"
      ]
     },
     "metadata": {},
     "output_type": "display_data"
    },
    {
     "data": {
      "text/html": [
       "Find logs at: <code>./wandb/run-20251002_141631-oy4saqf1/logs</code>"
      ],
      "text/plain": [
       "<IPython.core.display.HTML object>"
      ]
     },
     "metadata": {},
     "output_type": "display_data"
    },
    {
     "name": "stderr",
     "output_type": "stream",
     "text": [
      "\u001b[34m\u001b[1mwandb\u001b[0m: Agent Starting Run: tvvnnzjm with config:\n",
      "\u001b[34m\u001b[1mwandb\u001b[0m: \tbatch_size: 128\n",
      "\u001b[34m\u001b[1mwandb\u001b[0m: \tepochs: 10\n",
      "\u001b[34m\u001b[1mwandb\u001b[0m: \thidden_dims: [256, 128]\n",
      "\u001b[34m\u001b[1mwandb\u001b[0m: \tlr: 0.0001\n",
      "\u001b[34m\u001b[1mwandb\u001b[0m: \tresolution: 1kb\n",
      "\u001b[34m\u001b[1mwandb\u001b[0m: \tsvd_dim: 64\n",
      "\u001b[34m\u001b[1mwandb\u001b[0m: \ttarget_metric: MulticlassAccuracy\n",
      "\u001b[34m\u001b[1mwandb\u001b[0m: \ttask: gene\n",
      "\u001b[34m\u001b[1mwandb\u001b[0m: \tweighted: True\n",
      "\u001b[34m\u001b[1mwandb\u001b[0m: \u001b[32m\u001b[41mERROR\u001b[0m Failed to detect the name of this notebook. You can set it manually with the WANDB_NOTEBOOK_NAME environment variable to enable code saving.\n"
     ]
    },
    {
     "data": {
      "text/html": [],
      "text/plain": [
       "<IPython.core.display.HTML object>"
      ]
     },
     "metadata": {},
     "output_type": "display_data"
    },
    {
     "data": {
      "text/html": [
       "Tracking run with wandb version 0.22.1"
      ],
      "text/plain": [
       "<IPython.core.display.HTML object>"
      ]
     },
     "metadata": {},
     "output_type": "display_data"
    },
    {
     "data": {
      "text/html": [
       "Run data is saved locally in <code>/oscar/data/larschan/shared_data/BindGPS/model/wandb/run-20251002_141712-tvvnnzjm</code>"
      ],
      "text/plain": [
       "<IPython.core.display.HTML object>"
      ]
     },
     "metadata": {},
     "output_type": "display_data"
    },
    {
     "data": {
      "text/html": [
       "Syncing run <strong><a href='https://wandb.ai/bind-gps/BindGPS/runs/tvvnnzjm' target=\"_blank\">amber-sweep-79</a></strong> to <a href='https://wandb.ai/bind-gps/BindGPS' target=\"_blank\">Weights & Biases</a> (<a href='https://wandb.me/developer-guide' target=\"_blank\">docs</a>)<br>Sweep page: <a href='https://wandb.ai/bind-gps/BindGPS/sweeps/79ufxypb' target=\"_blank\">https://wandb.ai/bind-gps/BindGPS/sweeps/79ufxypb</a>"
      ],
      "text/plain": [
       "<IPython.core.display.HTML object>"
      ]
     },
     "metadata": {},
     "output_type": "display_data"
    },
    {
     "data": {
      "text/html": [
       " View project at <a href='https://wandb.ai/bind-gps/BindGPS' target=\"_blank\">https://wandb.ai/bind-gps/BindGPS</a>"
      ],
      "text/plain": [
       "<IPython.core.display.HTML object>"
      ]
     },
     "metadata": {},
     "output_type": "display_data"
    },
    {
     "data": {
      "text/html": [
       " View sweep at <a href='https://wandb.ai/bind-gps/BindGPS/sweeps/79ufxypb' target=\"_blank\">https://wandb.ai/bind-gps/BindGPS/sweeps/79ufxypb</a>"
      ],
      "text/plain": [
       "<IPython.core.display.HTML object>"
      ]
     },
     "metadata": {},
     "output_type": "display_data"
    },
    {
     "data": {
      "text/html": [
       " View run at <a href='https://wandb.ai/bind-gps/BindGPS/runs/tvvnnzjm' target=\"_blank\">https://wandb.ai/bind-gps/BindGPS/runs/tvvnnzjm</a>"
      ],
      "text/plain": [
       "<IPython.core.display.HTML object>"
      ]
     },
     "metadata": {},
     "output_type": "display_data"
    },
    {
     "name": "stderr",
     "output_type": "stream",
     "text": [
      "\u001b[34m\u001b[1mwandb\u001b[0m: \u001b[33mWARNING\u001b[0m Calling wandb.login() after wandb.init() has no effect.\n"
     ]
    },
    {
     "name": "stdout",
     "output_type": "stream",
     "text": [
      "[Epoch 0] Train Loss: 911.9625, Acc: 0.4321\n",
      "[Epoch 0] Val Loss: 219.3770, Val Metrics: {'MulticlassAUROC': 0.6665501594543457, 'MulticlassAUPRC': 0.46487489342689514, 'MulticlassAccuracy': 0.4618208110332489}\n",
      "[Epoch 1] Train Loss: 878.8851, Acc: 0.4768\n",
      "[Epoch 1] Val Loss: 217.5199, Val Metrics: {'MulticlassAUROC': 0.6744107604026794, 'MulticlassAUPRC': 0.47398868203163147, 'MulticlassAccuracy': 0.47337815165519714}\n",
      "[Epoch 2] Train Loss: 870.9311, Acc: 0.4840\n",
      "[Epoch 2] Val Loss: 216.5469, Val Metrics: {'MulticlassAUROC': 0.6769736409187317, 'MulticlassAUPRC': 0.4777412414550781, 'MulticlassAccuracy': 0.45284390449523926}\n",
      "[Epoch 3] Train Loss: 864.5493, Acc: 0.4895\n",
      "[Epoch 3] Val Loss: 214.4009, Val Metrics: {'MulticlassAUROC': 0.6873156428337097, 'MulticlassAUPRC': 0.4879080355167389, 'MulticlassAccuracy': 0.5018717050552368}\n",
      "[Epoch 4] Train Loss: 859.7858, Acc: 0.4967\n",
      "[Epoch 4] Val Loss: 213.5755, Val Metrics: {'MulticlassAUROC': 0.6912327408790588, 'MulticlassAUPRC': 0.4910415709018707, 'MulticlassAccuracy': 0.5058695077896118}\n",
      "[Epoch 5] Train Loss: 856.4051, Acc: 0.5026\n",
      "[Epoch 5] Val Loss: 212.8066, Val Metrics: {'MulticlassAUROC': 0.690869152545929, 'MulticlassAUPRC': 0.4907851219177246, 'MulticlassAccuracy': 0.5019080638885498}\n",
      "[Epoch 6] Train Loss: 854.3055, Acc: 0.5047\n",
      "[Epoch 6] Val Loss: 212.6726, Val Metrics: {'MulticlassAUROC': 0.6945858001708984, 'MulticlassAUPRC': 0.49516645073890686, 'MulticlassAccuracy': 0.5136470794677734}\n",
      "[Epoch 7] Train Loss: 850.5547, Acc: 0.5069\n",
      "[Epoch 7] Val Loss: 214.6165, Val Metrics: {'MulticlassAUROC': 0.6916889548301697, 'MulticlassAUPRC': 0.4933670461177826, 'MulticlassAccuracy': 0.4775213599205017}\n",
      "[Epoch 8] Train Loss: 849.3215, Acc: 0.5106\n",
      "[Epoch 8] Val Loss: 211.9367, Val Metrics: {'MulticlassAUROC': 0.6978920102119446, 'MulticlassAUPRC': 0.4989984929561615, 'MulticlassAccuracy': 0.5249863862991333}\n",
      "[Epoch 9] Train Loss: 846.6743, Acc: 0.5130\n",
      "[Epoch 9] Val Loss: 211.7043, Val Metrics: {'MulticlassAUROC': 0.6997553706169128, 'MulticlassAUPRC': 0.5008832812309265, 'MulticlassAccuracy': 0.5212792754173279}\n"
     ]
    },
    {
     "data": {
      "text/html": [],
      "text/plain": [
       "<IPython.core.display.HTML object>"
      ]
     },
     "metadata": {},
     "output_type": "display_data"
    },
    {
     "data": {
      "text/html": [
       "<br>    <style><br>        .wandb-row {<br>            display: flex;<br>            flex-direction: row;<br>            flex-wrap: wrap;<br>            justify-content: flex-start;<br>            width: 100%;<br>        }<br>        .wandb-col {<br>            display: flex;<br>            flex-direction: column;<br>            flex-basis: 100%;<br>            flex: 1;<br>            padding: 10px;<br>        }<br>    </style><br><div class=\"wandb-row\"><div class=\"wandb-col\"><h3>Run history:</h3><br/><table class=\"wandb\"><tr><td>epoch</td><td>▁▂▃▃▄▅▆▆▇█</td></tr><tr><td>train_accuracy</td><td>▁▅▅▆▇▇▇▇██</td></tr><tr><td>train_loss</td><td>█▄▄▃▂▂▂▁▁▁</td></tr><tr><td>val_MulticlassAUPRC</td><td>▁▃▄▅▆▆▇▇██</td></tr><tr><td>val_MulticlassAUROC</td><td>▁▃▃▅▆▆▇▆██</td></tr><tr><td>val_MulticlassAccuracy</td><td>▂▃▁▆▆▆▇▃██</td></tr><tr><td>val_loss</td><td>█▆▅▃▃▂▂▄▁▁</td></tr></table><br/></div><div class=\"wandb-col\"><h3>Run summary:</h3><br/><table class=\"wandb\"><tr><td>epoch</td><td>9</td></tr><tr><td>train_accuracy</td><td>0.51297</td></tr><tr><td>train_loss</td><td>846.6743</td></tr><tr><td>val_MulticlassAUPRC</td><td>0.50088</td></tr><tr><td>val_MulticlassAUROC</td><td>0.69976</td></tr><tr><td>val_MulticlassAccuracy</td><td>0.52128</td></tr><tr><td>val_loss</td><td>211.70434</td></tr></table><br/></div></div>"
      ],
      "text/plain": [
       "<IPython.core.display.HTML object>"
      ]
     },
     "metadata": {},
     "output_type": "display_data"
    },
    {
     "data": {
      "text/html": [
       " View run <strong style=\"color:#cdcd00\">gene_1kb_64_0.0001</strong> at: <a href='https://wandb.ai/bind-gps/BindGPS/runs/tvvnnzjm' target=\"_blank\">https://wandb.ai/bind-gps/BindGPS/runs/tvvnnzjm</a><br> View project at: <a href='https://wandb.ai/bind-gps/BindGPS' target=\"_blank\">https://wandb.ai/bind-gps/BindGPS</a><br>Synced 5 W&B file(s), 0 media file(s), 0 artifact file(s) and 0 other file(s)"
      ],
      "text/plain": [
       "<IPython.core.display.HTML object>"
      ]
     },
     "metadata": {},
     "output_type": "display_data"
    },
    {
     "data": {
      "text/html": [
       "Find logs at: <code>./wandb/run-20251002_141712-tvvnnzjm/logs</code>"
      ],
      "text/plain": [
       "<IPython.core.display.HTML object>"
      ]
     },
     "metadata": {},
     "output_type": "display_data"
    },
    {
     "name": "stderr",
     "output_type": "stream",
     "text": [
      "\u001b[34m\u001b[1mwandb\u001b[0m: Agent Starting Run: d2hopss1 with config:\n",
      "\u001b[34m\u001b[1mwandb\u001b[0m: \tbatch_size: 128\n",
      "\u001b[34m\u001b[1mwandb\u001b[0m: \tepochs: 10\n",
      "\u001b[34m\u001b[1mwandb\u001b[0m: \thidden_dims: [256, 128]\n",
      "\u001b[34m\u001b[1mwandb\u001b[0m: \tlr: 0.0001\n",
      "\u001b[34m\u001b[1mwandb\u001b[0m: \tresolution: 1kb\n",
      "\u001b[34m\u001b[1mwandb\u001b[0m: \tsvd_dim: 64\n",
      "\u001b[34m\u001b[1mwandb\u001b[0m: \ttarget_metric: MulticlassAccuracy\n",
      "\u001b[34m\u001b[1mwandb\u001b[0m: \ttask: gene\n",
      "\u001b[34m\u001b[1mwandb\u001b[0m: \tweighted: False\n",
      "\u001b[34m\u001b[1mwandb\u001b[0m: \u001b[32m\u001b[41mERROR\u001b[0m Failed to detect the name of this notebook. You can set it manually with the WANDB_NOTEBOOK_NAME environment variable to enable code saving.\n"
     ]
    },
    {
     "data": {
      "text/html": [],
      "text/plain": [
       "<IPython.core.display.HTML object>"
      ]
     },
     "metadata": {},
     "output_type": "display_data"
    },
    {
     "data": {
      "text/html": [
       "Tracking run with wandb version 0.22.1"
      ],
      "text/plain": [
       "<IPython.core.display.HTML object>"
      ]
     },
     "metadata": {},
     "output_type": "display_data"
    },
    {
     "data": {
      "text/html": [
       "Run data is saved locally in <code>/oscar/data/larschan/shared_data/BindGPS/model/wandb/run-20251002_141753-d2hopss1</code>"
      ],
      "text/plain": [
       "<IPython.core.display.HTML object>"
      ]
     },
     "metadata": {},
     "output_type": "display_data"
    },
    {
     "data": {
      "text/html": [
       "Syncing run <strong><a href='https://wandb.ai/bind-gps/BindGPS/runs/d2hopss1' target=\"_blank\">skilled-sweep-80</a></strong> to <a href='https://wandb.ai/bind-gps/BindGPS' target=\"_blank\">Weights & Biases</a> (<a href='https://wandb.me/developer-guide' target=\"_blank\">docs</a>)<br>Sweep page: <a href='https://wandb.ai/bind-gps/BindGPS/sweeps/79ufxypb' target=\"_blank\">https://wandb.ai/bind-gps/BindGPS/sweeps/79ufxypb</a>"
      ],
      "text/plain": [
       "<IPython.core.display.HTML object>"
      ]
     },
     "metadata": {},
     "output_type": "display_data"
    },
    {
     "data": {
      "text/html": [
       " View project at <a href='https://wandb.ai/bind-gps/BindGPS' target=\"_blank\">https://wandb.ai/bind-gps/BindGPS</a>"
      ],
      "text/plain": [
       "<IPython.core.display.HTML object>"
      ]
     },
     "metadata": {},
     "output_type": "display_data"
    },
    {
     "data": {
      "text/html": [
       " View sweep at <a href='https://wandb.ai/bind-gps/BindGPS/sweeps/79ufxypb' target=\"_blank\">https://wandb.ai/bind-gps/BindGPS/sweeps/79ufxypb</a>"
      ],
      "text/plain": [
       "<IPython.core.display.HTML object>"
      ]
     },
     "metadata": {},
     "output_type": "display_data"
    },
    {
     "data": {
      "text/html": [
       " View run at <a href='https://wandb.ai/bind-gps/BindGPS/runs/d2hopss1' target=\"_blank\">https://wandb.ai/bind-gps/BindGPS/runs/d2hopss1</a>"
      ],
      "text/plain": [
       "<IPython.core.display.HTML object>"
      ]
     },
     "metadata": {},
     "output_type": "display_data"
    },
    {
     "name": "stderr",
     "output_type": "stream",
     "text": [
      "\u001b[34m\u001b[1mwandb\u001b[0m: \u001b[33mWARNING\u001b[0m Calling wandb.login() after wandb.init() has no effect.\n"
     ]
    },
    {
     "name": "stdout",
     "output_type": "stream",
     "text": [
      "[Epoch 0] Train Loss: 777.2055, Acc: 0.5822\n",
      "[Epoch 0] Val Loss: 183.0263, Val Metrics: {'MulticlassAUROC': 0.678555965423584, 'MulticlassAUPRC': 0.4696727693080902, 'MulticlassAccuracy': 0.6112302541732788}\n",
      "[Epoch 1] Train Loss: 739.0057, Acc: 0.6028\n",
      "[Epoch 1] Val Loss: 180.0909, Val Metrics: {'MulticlassAUROC': 0.690152645111084, 'MulticlassAUPRC': 0.48471951484680176, 'MulticlassAccuracy': 0.6134108901023865}\n",
      "[Epoch 2] Train Loss: 730.4925, Acc: 0.6083\n",
      "[Epoch 2] Val Loss: 178.4213, Val Metrics: {'MulticlassAUROC': 0.6987552642822266, 'MulticlassAUPRC': 0.4931720793247223, 'MulticlassAccuracy': 0.6195529699325562}\n",
      "[Epoch 3] Train Loss: 724.7758, Acc: 0.6107\n",
      "[Epoch 3] Val Loss: 177.5192, Val Metrics: {'MulticlassAUROC': 0.7025952339172363, 'MulticlassAUPRC': 0.49554920196533203, 'MulticlassAccuracy': 0.620243489742279}\n",
      "[Epoch 4] Train Loss: 720.6454, Acc: 0.6155\n",
      "[Epoch 4] Val Loss: 176.6300, Val Metrics: {'MulticlassAUROC': 0.7058095932006836, 'MulticlassAUPRC': 0.49932923913002014, 'MulticlassAccuracy': 0.6228966116905212}\n",
      "[Epoch 5] Train Loss: 718.0154, Acc: 0.6162\n",
      "[Epoch 5] Val Loss: 176.8924, Val Metrics: {'MulticlassAUROC': 0.7081138491630554, 'MulticlassAUPRC': 0.5028960704803467, 'MulticlassAccuracy': 0.6248955130577087}\n",
      "[Epoch 6] Train Loss: 716.0684, Acc: 0.6161\n",
      "[Epoch 6] Val Loss: 175.5154, Val Metrics: {'MulticlassAUROC': 0.7102730870246887, 'MulticlassAUPRC': 0.5057811141014099, 'MulticlassAccuracy': 0.6256587505340576}\n",
      "[Epoch 7] Train Loss: 713.6769, Acc: 0.6192\n",
      "[Epoch 7] Val Loss: 174.9452, Val Metrics: {'MulticlassAUROC': 0.7124982476234436, 'MulticlassAUPRC': 0.5080322623252869, 'MulticlassAccuracy': 0.6263492703437805}\n",
      "[Epoch 8] Train Loss: 711.6069, Acc: 0.6199\n",
      "[Epoch 8] Val Loss: 175.7200, Val Metrics: {'MulticlassAUROC': 0.7116978168487549, 'MulticlassAUPRC': 0.5068284869194031, 'MulticlassAccuracy': 0.6271851658821106}\n",
      "[Epoch 9] Train Loss: 709.3006, Acc: 0.6219\n",
      "[Epoch 9] Val Loss: 176.0076, Val Metrics: {'MulticlassAUROC': 0.7133653163909912, 'MulticlassAUPRC': 0.5094632506370544, 'MulticlassAccuracy': 0.6275122761726379}\n"
     ]
    },
    {
     "data": {
      "text/html": [],
      "text/plain": [
       "<IPython.core.display.HTML object>"
      ]
     },
     "metadata": {},
     "output_type": "display_data"
    },
    {
     "data": {
      "text/html": [
       "<br>    <style><br>        .wandb-row {<br>            display: flex;<br>            flex-direction: row;<br>            flex-wrap: wrap;<br>            justify-content: flex-start;<br>            width: 100%;<br>        }<br>        .wandb-col {<br>            display: flex;<br>            flex-direction: column;<br>            flex-basis: 100%;<br>            flex: 1;<br>            padding: 10px;<br>        }<br>    </style><br><div class=\"wandb-row\"><div class=\"wandb-col\"><h3>Run history:</h3><br/><table class=\"wandb\"><tr><td>epoch</td><td>▁▂▃▃▄▅▆▆▇█</td></tr><tr><td>train_accuracy</td><td>▁▅▆▆▇▇▇███</td></tr><tr><td>train_loss</td><td>█▄▃▃▂▂▂▁▁▁</td></tr><tr><td>val_MulticlassAUPRC</td><td>▁▄▅▆▆▇▇███</td></tr><tr><td>val_MulticlassAUROC</td><td>▁▃▅▆▆▇▇███</td></tr><tr><td>val_MulticlassAccuracy</td><td>▁▂▅▅▆▇▇▇██</td></tr><tr><td>val_loss</td><td>█▅▄▃▂▃▁▁▂▂</td></tr></table><br/></div><div class=\"wandb-col\"><h3>Run summary:</h3><br/><table class=\"wandb\"><tr><td>epoch</td><td>9</td></tr><tr><td>train_accuracy</td><td>0.62191</td></tr><tr><td>train_loss</td><td>709.30055</td></tr><tr><td>val_MulticlassAUPRC</td><td>0.50946</td></tr><tr><td>val_MulticlassAUROC</td><td>0.71337</td></tr><tr><td>val_MulticlassAccuracy</td><td>0.62751</td></tr><tr><td>val_loss</td><td>176.00763</td></tr></table><br/></div></div>"
      ],
      "text/plain": [
       "<IPython.core.display.HTML object>"
      ]
     },
     "metadata": {},
     "output_type": "display_data"
    },
    {
     "data": {
      "text/html": [
       " View run <strong style=\"color:#cdcd00\">gene_1kb_64_0.0001</strong> at: <a href='https://wandb.ai/bind-gps/BindGPS/runs/d2hopss1' target=\"_blank\">https://wandb.ai/bind-gps/BindGPS/runs/d2hopss1</a><br> View project at: <a href='https://wandb.ai/bind-gps/BindGPS' target=\"_blank\">https://wandb.ai/bind-gps/BindGPS</a><br>Synced 5 W&B file(s), 0 media file(s), 0 artifact file(s) and 0 other file(s)"
      ],
      "text/plain": [
       "<IPython.core.display.HTML object>"
      ]
     },
     "metadata": {},
     "output_type": "display_data"
    },
    {
     "data": {
      "text/html": [
       "Find logs at: <code>./wandb/run-20251002_141753-d2hopss1/logs</code>"
      ],
      "text/plain": [
       "<IPython.core.display.HTML object>"
      ]
     },
     "metadata": {},
     "output_type": "display_data"
    },
    {
     "name": "stderr",
     "output_type": "stream",
     "text": [
      "\u001b[34m\u001b[1mwandb\u001b[0m: Agent Starting Run: 55zklbac with config:\n",
      "\u001b[34m\u001b[1mwandb\u001b[0m: \tbatch_size: 128\n",
      "\u001b[34m\u001b[1mwandb\u001b[0m: \tepochs: 10\n",
      "\u001b[34m\u001b[1mwandb\u001b[0m: \thidden_dims: [256, 128]\n",
      "\u001b[34m\u001b[1mwandb\u001b[0m: \tlr: 0.0001\n",
      "\u001b[34m\u001b[1mwandb\u001b[0m: \tresolution: 1kb\n",
      "\u001b[34m\u001b[1mwandb\u001b[0m: \tsvd_dim: 64\n",
      "\u001b[34m\u001b[1mwandb\u001b[0m: \ttarget_metric: MulticlassAUPRC\n",
      "\u001b[34m\u001b[1mwandb\u001b[0m: \ttask: mre\n",
      "\u001b[34m\u001b[1mwandb\u001b[0m: \tweighted: True\n",
      "\u001b[34m\u001b[1mwandb\u001b[0m: \u001b[32m\u001b[41mERROR\u001b[0m Failed to detect the name of this notebook. You can set it manually with the WANDB_NOTEBOOK_NAME environment variable to enable code saving.\n"
     ]
    },
    {
     "data": {
      "text/html": [],
      "text/plain": [
       "<IPython.core.display.HTML object>"
      ]
     },
     "metadata": {},
     "output_type": "display_data"
    },
    {
     "data": {
      "text/html": [
       "Tracking run with wandb version 0.22.1"
      ],
      "text/plain": [
       "<IPython.core.display.HTML object>"
      ]
     },
     "metadata": {},
     "output_type": "display_data"
    },
    {
     "data": {
      "text/html": [
       "Run data is saved locally in <code>/oscar/data/larschan/shared_data/BindGPS/model/wandb/run-20251002_141835-55zklbac</code>"
      ],
      "text/plain": [
       "<IPython.core.display.HTML object>"
      ]
     },
     "metadata": {},
     "output_type": "display_data"
    },
    {
     "data": {
      "text/html": [
       "Syncing run <strong><a href='https://wandb.ai/bind-gps/BindGPS/runs/55zklbac' target=\"_blank\">lively-sweep-81</a></strong> to <a href='https://wandb.ai/bind-gps/BindGPS' target=\"_blank\">Weights & Biases</a> (<a href='https://wandb.me/developer-guide' target=\"_blank\">docs</a>)<br>Sweep page: <a href='https://wandb.ai/bind-gps/BindGPS/sweeps/79ufxypb' target=\"_blank\">https://wandb.ai/bind-gps/BindGPS/sweeps/79ufxypb</a>"
      ],
      "text/plain": [
       "<IPython.core.display.HTML object>"
      ]
     },
     "metadata": {},
     "output_type": "display_data"
    },
    {
     "data": {
      "text/html": [
       " View project at <a href='https://wandb.ai/bind-gps/BindGPS' target=\"_blank\">https://wandb.ai/bind-gps/BindGPS</a>"
      ],
      "text/plain": [
       "<IPython.core.display.HTML object>"
      ]
     },
     "metadata": {},
     "output_type": "display_data"
    },
    {
     "data": {
      "text/html": [
       " View sweep at <a href='https://wandb.ai/bind-gps/BindGPS/sweeps/79ufxypb' target=\"_blank\">https://wandb.ai/bind-gps/BindGPS/sweeps/79ufxypb</a>"
      ],
      "text/plain": [
       "<IPython.core.display.HTML object>"
      ]
     },
     "metadata": {},
     "output_type": "display_data"
    },
    {
     "data": {
      "text/html": [
       " View run at <a href='https://wandb.ai/bind-gps/BindGPS/runs/55zklbac' target=\"_blank\">https://wandb.ai/bind-gps/BindGPS/runs/55zklbac</a>"
      ],
      "text/plain": [
       "<IPython.core.display.HTML object>"
      ]
     },
     "metadata": {},
     "output_type": "display_data"
    },
    {
     "name": "stderr",
     "output_type": "stream",
     "text": [
      "\u001b[34m\u001b[1mwandb\u001b[0m: \u001b[33mWARNING\u001b[0m Calling wandb.login() after wandb.init() has no effect.\n"
     ]
    },
    {
     "name": "stdout",
     "output_type": "stream",
     "text": [
      "[Epoch 0] Train Loss: 878.8387, Acc: 0.5088\n",
      "[Epoch 0] Val Loss: 203.3839, Val Metrics: {'MulticlassAUROC': 0.741741955280304, 'MulticlassAUPRC': 0.4806925356388092, 'MulticlassAccuracy': 0.6618934869766235}\n",
      "[Epoch 1] Train Loss: 814.9094, Acc: 0.6541\n",
      "[Epoch 1] Val Loss: 196.7599, Val Metrics: {'MulticlassAUROC': 0.7656733393669128, 'MulticlassAUPRC': 0.5013607144355774, 'MulticlassAccuracy': 0.6728693246841431}\n",
      "[Epoch 2] Train Loss: 790.3265, Acc: 0.6815\n",
      "[Epoch 2] Val Loss: 193.0816, Val Metrics: {'MulticlassAUROC': 0.7889342904090881, 'MulticlassAUPRC': 0.5223318934440613, 'MulticlassAccuracy': 0.7172451615333557}\n",
      "[Epoch 3] Train Loss: 774.6632, Acc: 0.6943\n",
      "[Epoch 3] Val Loss: 189.0118, Val Metrics: {'MulticlassAUROC': 0.7981254458427429, 'MulticlassAUPRC': 0.5242491364479065, 'MulticlassAccuracy': 0.7245866060256958}\n",
      "[Epoch 4] Train Loss: 764.9450, Acc: 0.7061\n",
      "[Epoch 4] Val Loss: 188.6300, Val Metrics: {'MulticlassAUROC': 0.801702082157135, 'MulticlassAUPRC': 0.5252634882926941, 'MulticlassAccuracy': 0.7063056230545044}\n",
      "[Epoch 5] Train Loss: 755.0864, Acc: 0.7073\n",
      "[Epoch 5] Val Loss: 189.0518, Val Metrics: {'MulticlassAUROC': 0.8073499202728271, 'MulticlassAUPRC': 0.5286511182785034, 'MulticlassAccuracy': 0.6957296133041382}\n",
      "[Epoch 6] Train Loss: 751.0932, Acc: 0.7157\n",
      "[Epoch 6] Val Loss: 188.9174, Val Metrics: {'MulticlassAUROC': 0.8095054030418396, 'MulticlassAUPRC': 0.5278815627098083, 'MulticlassAccuracy': 0.7122296690940857}\n",
      "[Epoch 7] Train Loss: 746.2085, Acc: 0.7199\n",
      "[Epoch 7] Val Loss: 185.7196, Val Metrics: {'MulticlassAUROC': 0.8117509484291077, 'MulticlassAUPRC': 0.5311679840087891, 'MulticlassAccuracy': 0.7437761425971985}\n",
      "[Epoch 8] Train Loss: 742.7323, Acc: 0.7236\n",
      "[Epoch 8] Val Loss: 184.8192, Val Metrics: {'MulticlassAUROC': 0.8134600520133972, 'MulticlassAUPRC': 0.5323602557182312, 'MulticlassAccuracy': 0.7398873567581177}\n",
      "[Epoch 9] Train Loss: 737.8954, Acc: 0.7274\n",
      "[Epoch 9] Val Loss: 184.8885, Val Metrics: {'MulticlassAUROC': 0.8203697800636292, 'MulticlassAUPRC': 0.5406776666641235, 'MulticlassAccuracy': 0.7666363716125488}\n"
     ]
    },
    {
     "data": {
      "text/html": [],
      "text/plain": [
       "<IPython.core.display.HTML object>"
      ]
     },
     "metadata": {},
     "output_type": "display_data"
    },
    {
     "data": {
      "text/html": [
       "<br>    <style><br>        .wandb-row {<br>            display: flex;<br>            flex-direction: row;<br>            flex-wrap: wrap;<br>            justify-content: flex-start;<br>            width: 100%;<br>        }<br>        .wandb-col {<br>            display: flex;<br>            flex-direction: column;<br>            flex-basis: 100%;<br>            flex: 1;<br>            padding: 10px;<br>        }<br>    </style><br><div class=\"wandb-row\"><div class=\"wandb-col\"><h3>Run history:</h3><br/><table class=\"wandb\"><tr><td>epoch</td><td>▁▂▃▃▄▅▆▆▇█</td></tr><tr><td>train_accuracy</td><td>▁▆▇▇▇▇████</td></tr><tr><td>train_loss</td><td>█▅▄▃▂▂▂▁▁▁</td></tr><tr><td>val_MulticlassAUPRC</td><td>▁▃▆▆▆▇▇▇▇█</td></tr><tr><td>val_MulticlassAUROC</td><td>▁▃▅▆▆▇▇▇▇█</td></tr><tr><td>val_MulticlassAccuracy</td><td>▁▂▅▅▄▃▄▆▆█</td></tr><tr><td>val_loss</td><td>█▆▄▃▂▃▃▁▁▁</td></tr></table><br/></div><div class=\"wandb-col\"><h3>Run summary:</h3><br/><table class=\"wandb\"><tr><td>epoch</td><td>9</td></tr><tr><td>train_accuracy</td><td>0.72741</td></tr><tr><td>train_loss</td><td>737.89537</td></tr><tr><td>val_MulticlassAUPRC</td><td>0.54068</td></tr><tr><td>val_MulticlassAUROC</td><td>0.82037</td></tr><tr><td>val_MulticlassAccuracy</td><td>0.76664</td></tr><tr><td>val_loss</td><td>184.88847</td></tr></table><br/></div></div>"
      ],
      "text/plain": [
       "<IPython.core.display.HTML object>"
      ]
     },
     "metadata": {},
     "output_type": "display_data"
    },
    {
     "data": {
      "text/html": [
       " View run <strong style=\"color:#cdcd00\">mre_1kb_64_0.0001</strong> at: <a href='https://wandb.ai/bind-gps/BindGPS/runs/55zklbac' target=\"_blank\">https://wandb.ai/bind-gps/BindGPS/runs/55zklbac</a><br> View project at: <a href='https://wandb.ai/bind-gps/BindGPS' target=\"_blank\">https://wandb.ai/bind-gps/BindGPS</a><br>Synced 5 W&B file(s), 0 media file(s), 0 artifact file(s) and 0 other file(s)"
      ],
      "text/plain": [
       "<IPython.core.display.HTML object>"
      ]
     },
     "metadata": {},
     "output_type": "display_data"
    },
    {
     "data": {
      "text/html": [
       "Find logs at: <code>./wandb/run-20251002_141835-55zklbac/logs</code>"
      ],
      "text/plain": [
       "<IPython.core.display.HTML object>"
      ]
     },
     "metadata": {},
     "output_type": "display_data"
    },
    {
     "name": "stderr",
     "output_type": "stream",
     "text": [
      "\u001b[34m\u001b[1mwandb\u001b[0m: Agent Starting Run: 1479knkh with config:\n",
      "\u001b[34m\u001b[1mwandb\u001b[0m: \tbatch_size: 128\n",
      "\u001b[34m\u001b[1mwandb\u001b[0m: \tepochs: 10\n",
      "\u001b[34m\u001b[1mwandb\u001b[0m: \thidden_dims: [256, 128]\n",
      "\u001b[34m\u001b[1mwandb\u001b[0m: \tlr: 0.0001\n",
      "\u001b[34m\u001b[1mwandb\u001b[0m: \tresolution: 1kb\n",
      "\u001b[34m\u001b[1mwandb\u001b[0m: \tsvd_dim: 64\n",
      "\u001b[34m\u001b[1mwandb\u001b[0m: \ttarget_metric: MulticlassAUPRC\n",
      "\u001b[34m\u001b[1mwandb\u001b[0m: \ttask: mre\n",
      "\u001b[34m\u001b[1mwandb\u001b[0m: \tweighted: False\n",
      "\u001b[34m\u001b[1mwandb\u001b[0m: \u001b[32m\u001b[41mERROR\u001b[0m Failed to detect the name of this notebook. You can set it manually with the WANDB_NOTEBOOK_NAME environment variable to enable code saving.\n"
     ]
    },
    {
     "data": {
      "text/html": [],
      "text/plain": [
       "<IPython.core.display.HTML object>"
      ]
     },
     "metadata": {},
     "output_type": "display_data"
    },
    {
     "data": {
      "text/html": [
       "Tracking run with wandb version 0.22.1"
      ],
      "text/plain": [
       "<IPython.core.display.HTML object>"
      ]
     },
     "metadata": {},
     "output_type": "display_data"
    },
    {
     "data": {
      "text/html": [
       "Run data is saved locally in <code>/oscar/data/larschan/shared_data/BindGPS/model/wandb/run-20251002_141915-1479knkh</code>"
      ],
      "text/plain": [
       "<IPython.core.display.HTML object>"
      ]
     },
     "metadata": {},
     "output_type": "display_data"
    },
    {
     "data": {
      "text/html": [
       "Syncing run <strong><a href='https://wandb.ai/bind-gps/BindGPS/runs/1479knkh' target=\"_blank\">dazzling-sweep-82</a></strong> to <a href='https://wandb.ai/bind-gps/BindGPS' target=\"_blank\">Weights & Biases</a> (<a href='https://wandb.me/developer-guide' target=\"_blank\">docs</a>)<br>Sweep page: <a href='https://wandb.ai/bind-gps/BindGPS/sweeps/79ufxypb' target=\"_blank\">https://wandb.ai/bind-gps/BindGPS/sweeps/79ufxypb</a>"
      ],
      "text/plain": [
       "<IPython.core.display.HTML object>"
      ]
     },
     "metadata": {},
     "output_type": "display_data"
    },
    {
     "data": {
      "text/html": [
       " View project at <a href='https://wandb.ai/bind-gps/BindGPS' target=\"_blank\">https://wandb.ai/bind-gps/BindGPS</a>"
      ],
      "text/plain": [
       "<IPython.core.display.HTML object>"
      ]
     },
     "metadata": {},
     "output_type": "display_data"
    },
    {
     "data": {
      "text/html": [
       " View sweep at <a href='https://wandb.ai/bind-gps/BindGPS/sweeps/79ufxypb' target=\"_blank\">https://wandb.ai/bind-gps/BindGPS/sweeps/79ufxypb</a>"
      ],
      "text/plain": [
       "<IPython.core.display.HTML object>"
      ]
     },
     "metadata": {},
     "output_type": "display_data"
    },
    {
     "data": {
      "text/html": [
       " View run at <a href='https://wandb.ai/bind-gps/BindGPS/runs/1479knkh' target=\"_blank\">https://wandb.ai/bind-gps/BindGPS/runs/1479knkh</a>"
      ],
      "text/plain": [
       "<IPython.core.display.HTML object>"
      ]
     },
     "metadata": {},
     "output_type": "display_data"
    },
    {
     "name": "stderr",
     "output_type": "stream",
     "text": [
      "\u001b[34m\u001b[1mwandb\u001b[0m: \u001b[33mWARNING\u001b[0m Calling wandb.login() after wandb.init() has no effect.\n"
     ]
    },
    {
     "name": "stdout",
     "output_type": "stream",
     "text": [
      "[Epoch 0] Train Loss: 457.6981, Acc: 0.8405\n",
      "[Epoch 0] Val Loss: 92.4990, Val Metrics: {'MulticlassAUROC': 0.7888180613517761, 'MulticlassAUPRC': 0.5223663449287415, 'MulticlassAccuracy': 0.8633109331130981}\n",
      "[Epoch 1] Train Loss: 365.4179, Acc: 0.8663\n",
      "[Epoch 1] Val Loss: 85.8079, Val Metrics: {'MulticlassAUROC': 0.8214320540428162, 'MulticlassAUPRC': 0.5638142228126526, 'MulticlassAccuracy': 0.8730510473251343}\n",
      "[Epoch 2] Train Loss: 349.5440, Acc: 0.8716\n",
      "[Epoch 2] Val Loss: 83.7567, Val Metrics: {'MulticlassAUROC': 0.8263424038887024, 'MulticlassAUPRC': 0.5696337819099426, 'MulticlassAccuracy': 0.8759949207305908}\n",
      "[Epoch 3] Train Loss: 342.6053, Acc: 0.8730\n",
      "[Epoch 3] Val Loss: 81.0945, Val Metrics: {'MulticlassAUROC': 0.8345744013786316, 'MulticlassAUPRC': 0.5766011476516724, 'MulticlassAccuracy': 0.8782845735549927}\n",
      "[Epoch 4] Train Loss: 337.3335, Acc: 0.8752\n",
      "[Epoch 4] Val Loss: 81.9371, Val Metrics: {'MulticlassAUROC': 0.8360313773155212, 'MulticlassAUPRC': 0.5786027312278748, 'MulticlassAccuracy': 0.8783572316169739}\n",
      "[Epoch 5] Train Loss: 333.6458, Acc: 0.8758\n",
      "[Epoch 5] Val Loss: 80.2490, Val Metrics: {'MulticlassAUROC': 0.8410100340843201, 'MulticlassAUPRC': 0.5845740437507629, 'MulticlassAccuracy': 0.8787933588027954}\n",
      "[Epoch 6] Train Loss: 330.9855, Acc: 0.8761\n",
      "[Epoch 6] Val Loss: 79.5101, Val Metrics: {'MulticlassAUROC': 0.8444501757621765, 'MulticlassAUPRC': 0.5858547687530518, 'MulticlassAccuracy': 0.8795202374458313}\n",
      "[Epoch 7] Train Loss: 329.4902, Acc: 0.8768\n",
      "[Epoch 7] Val Loss: 79.3318, Val Metrics: {'MulticlassAUROC': 0.8427746891975403, 'MulticlassAUPRC': 0.5862873196601868, 'MulticlassAccuracy': 0.8795202374458313}\n",
      "[Epoch 8] Train Loss: 327.4199, Acc: 0.8762\n",
      "[Epoch 8] Val Loss: 79.6426, Val Metrics: {'MulticlassAUROC': 0.8463889956474304, 'MulticlassAUPRC': 0.586115300655365, 'MulticlassAccuracy': 0.8791204690933228}\n",
      "[Epoch 9] Train Loss: 325.9600, Acc: 0.8766\n",
      "[Epoch 9] Val Loss: 79.3027, Val Metrics: {'MulticlassAUROC': 0.8467513918876648, 'MulticlassAUPRC': 0.5860384106636047, 'MulticlassAccuracy': 0.8790841102600098}\n"
     ]
    },
    {
     "data": {
      "text/html": [],
      "text/plain": [
       "<IPython.core.display.HTML object>"
      ]
     },
     "metadata": {},
     "output_type": "display_data"
    },
    {
     "data": {
      "text/html": [
       "<br>    <style><br>        .wandb-row {<br>            display: flex;<br>            flex-direction: row;<br>            flex-wrap: wrap;<br>            justify-content: flex-start;<br>            width: 100%;<br>        }<br>        .wandb-col {<br>            display: flex;<br>            flex-direction: column;<br>            flex-basis: 100%;<br>            flex: 1;<br>            padding: 10px;<br>        }<br>    </style><br><div class=\"wandb-row\"><div class=\"wandb-col\"><h3>Run history:</h3><br/><table class=\"wandb\"><tr><td>epoch</td><td>▁▂▃▃▄▅▆▆▇█</td></tr><tr><td>train_accuracy</td><td>▁▆▇▇██████</td></tr><tr><td>train_loss</td><td>█▃▂▂▂▁▁▁▁▁</td></tr><tr><td>val_MulticlassAUPRC</td><td>▁▆▆▇▇█████</td></tr><tr><td>val_MulticlassAUROC</td><td>▁▅▆▇▇▇████</td></tr><tr><td>val_MulticlassAccuracy</td><td>▁▅▆▇▇█████</td></tr><tr><td>val_loss</td><td>█▄▃▂▂▂▁▁▁▁</td></tr></table><br/></div><div class=\"wandb-col\"><h3>Run summary:</h3><br/><table class=\"wandb\"><tr><td>epoch</td><td>9</td></tr><tr><td>train_accuracy</td><td>0.87663</td></tr><tr><td>train_loss</td><td>325.96001</td></tr><tr><td>val_MulticlassAUPRC</td><td>0.58604</td></tr><tr><td>val_MulticlassAUROC</td><td>0.84675</td></tr><tr><td>val_MulticlassAccuracy</td><td>0.87908</td></tr><tr><td>val_loss</td><td>79.30275</td></tr></table><br/></div></div>"
      ],
      "text/plain": [
       "<IPython.core.display.HTML object>"
      ]
     },
     "metadata": {},
     "output_type": "display_data"
    },
    {
     "data": {
      "text/html": [
       " View run <strong style=\"color:#cdcd00\">mre_1kb_64_0.0001</strong> at: <a href='https://wandb.ai/bind-gps/BindGPS/runs/1479knkh' target=\"_blank\">https://wandb.ai/bind-gps/BindGPS/runs/1479knkh</a><br> View project at: <a href='https://wandb.ai/bind-gps/BindGPS' target=\"_blank\">https://wandb.ai/bind-gps/BindGPS</a><br>Synced 5 W&B file(s), 0 media file(s), 0 artifact file(s) and 0 other file(s)"
      ],
      "text/plain": [
       "<IPython.core.display.HTML object>"
      ]
     },
     "metadata": {},
     "output_type": "display_data"
    },
    {
     "data": {
      "text/html": [
       "Find logs at: <code>./wandb/run-20251002_141915-1479knkh/logs</code>"
      ],
      "text/plain": [
       "<IPython.core.display.HTML object>"
      ]
     },
     "metadata": {},
     "output_type": "display_data"
    },
    {
     "name": "stderr",
     "output_type": "stream",
     "text": [
      "\u001b[34m\u001b[1mwandb\u001b[0m: Agent Starting Run: iem4bazb with config:\n",
      "\u001b[34m\u001b[1mwandb\u001b[0m: \tbatch_size: 128\n",
      "\u001b[34m\u001b[1mwandb\u001b[0m: \tepochs: 10\n",
      "\u001b[34m\u001b[1mwandb\u001b[0m: \thidden_dims: [256, 128]\n",
      "\u001b[34m\u001b[1mwandb\u001b[0m: \tlr: 0.0001\n",
      "\u001b[34m\u001b[1mwandb\u001b[0m: \tresolution: 1kb\n",
      "\u001b[34m\u001b[1mwandb\u001b[0m: \tsvd_dim: 64\n",
      "\u001b[34m\u001b[1mwandb\u001b[0m: \ttarget_metric: MulticlassAUPRC\n",
      "\u001b[34m\u001b[1mwandb\u001b[0m: \ttask: gene\n",
      "\u001b[34m\u001b[1mwandb\u001b[0m: \tweighted: True\n",
      "\u001b[34m\u001b[1mwandb\u001b[0m: \u001b[32m\u001b[41mERROR\u001b[0m Failed to detect the name of this notebook. You can set it manually with the WANDB_NOTEBOOK_NAME environment variable to enable code saving.\n"
     ]
    },
    {
     "data": {
      "text/html": [],
      "text/plain": [
       "<IPython.core.display.HTML object>"
      ]
     },
     "metadata": {},
     "output_type": "display_data"
    },
    {
     "data": {
      "text/html": [
       "Tracking run with wandb version 0.22.1"
      ],
      "text/plain": [
       "<IPython.core.display.HTML object>"
      ]
     },
     "metadata": {},
     "output_type": "display_data"
    },
    {
     "data": {
      "text/html": [
       "Run data is saved locally in <code>/oscar/data/larschan/shared_data/BindGPS/model/wandb/run-20251002_141956-iem4bazb</code>"
      ],
      "text/plain": [
       "<IPython.core.display.HTML object>"
      ]
     },
     "metadata": {},
     "output_type": "display_data"
    },
    {
     "data": {
      "text/html": [
       "Syncing run <strong><a href='https://wandb.ai/bind-gps/BindGPS/runs/iem4bazb' target=\"_blank\">electric-sweep-83</a></strong> to <a href='https://wandb.ai/bind-gps/BindGPS' target=\"_blank\">Weights & Biases</a> (<a href='https://wandb.me/developer-guide' target=\"_blank\">docs</a>)<br>Sweep page: <a href='https://wandb.ai/bind-gps/BindGPS/sweeps/79ufxypb' target=\"_blank\">https://wandb.ai/bind-gps/BindGPS/sweeps/79ufxypb</a>"
      ],
      "text/plain": [
       "<IPython.core.display.HTML object>"
      ]
     },
     "metadata": {},
     "output_type": "display_data"
    },
    {
     "data": {
      "text/html": [
       " View project at <a href='https://wandb.ai/bind-gps/BindGPS' target=\"_blank\">https://wandb.ai/bind-gps/BindGPS</a>"
      ],
      "text/plain": [
       "<IPython.core.display.HTML object>"
      ]
     },
     "metadata": {},
     "output_type": "display_data"
    },
    {
     "data": {
      "text/html": [
       " View sweep at <a href='https://wandb.ai/bind-gps/BindGPS/sweeps/79ufxypb' target=\"_blank\">https://wandb.ai/bind-gps/BindGPS/sweeps/79ufxypb</a>"
      ],
      "text/plain": [
       "<IPython.core.display.HTML object>"
      ]
     },
     "metadata": {},
     "output_type": "display_data"
    },
    {
     "data": {
      "text/html": [
       " View run at <a href='https://wandb.ai/bind-gps/BindGPS/runs/iem4bazb' target=\"_blank\">https://wandb.ai/bind-gps/BindGPS/runs/iem4bazb</a>"
      ],
      "text/plain": [
       "<IPython.core.display.HTML object>"
      ]
     },
     "metadata": {},
     "output_type": "display_data"
    },
    {
     "name": "stderr",
     "output_type": "stream",
     "text": [
      "\u001b[34m\u001b[1mwandb\u001b[0m: \u001b[33mWARNING\u001b[0m Calling wandb.login() after wandb.init() has no effect.\n"
     ]
    },
    {
     "name": "stdout",
     "output_type": "stream",
     "text": [
      "[Epoch 0] Train Loss: 907.4534, Acc: 0.4399\n",
      "[Epoch 0] Val Loss: 218.2265, Val Metrics: {'MulticlassAUROC': 0.6621168255805969, 'MulticlassAUPRC': 0.4610344469547272, 'MulticlassAccuracy': 0.47675812244415283}\n",
      "[Epoch 1] Train Loss: 880.3826, Acc: 0.4818\n",
      "[Epoch 1] Val Loss: 217.0732, Val Metrics: {'MulticlassAUROC': 0.6677923202514648, 'MulticlassAUPRC': 0.46605733036994934, 'MulticlassAccuracy': 0.45367980003356934}\n",
      "[Epoch 2] Train Loss: 872.3126, Acc: 0.4902\n",
      "[Epoch 2] Val Loss: 216.0919, Val Metrics: {'MulticlassAUROC': 0.6738379597663879, 'MulticlassAUPRC': 0.47286176681518555, 'MulticlassAccuracy': 0.4750136435031891}\n",
      "[Epoch 3] Train Loss: 865.6265, Acc: 0.4951\n",
      "[Epoch 3] Val Loss: 214.3529, Val Metrics: {'MulticlassAUROC': 0.681373119354248, 'MulticlassAUPRC': 0.47887396812438965, 'MulticlassAccuracy': 0.4920952320098877}\n",
      "[Epoch 4] Train Loss: 861.6231, Acc: 0.5006\n",
      "[Epoch 4] Val Loss: 214.2447, Val Metrics: {'MulticlassAUROC': 0.6829509735107422, 'MulticlassAUPRC': 0.47933921217918396, 'MulticlassAccuracy': 0.4827548563480377}\n",
      "[Epoch 5] Train Loss: 858.6615, Acc: 0.5036\n",
      "[Epoch 5] Val Loss: 213.6431, Val Metrics: {'MulticlassAUROC': 0.6853430867195129, 'MulticlassAUPRC': 0.48262670636177063, 'MulticlassAccuracy': 0.4868253767490387}\n",
      "[Epoch 6] Train Loss: 855.6748, Acc: 0.5042\n",
      "[Epoch 6] Val Loss: 212.4868, Val Metrics: {'MulticlassAUROC': 0.689278781414032, 'MulticlassAUPRC': 0.4867676794528961, 'MulticlassAccuracy': 0.5052880048751831}\n",
      "[Epoch 7] Train Loss: 853.0292, Acc: 0.5083\n",
      "[Epoch 7] Val Loss: 212.4886, Val Metrics: {'MulticlassAUROC': 0.6906686425209045, 'MulticlassAUPRC': 0.48765841126441956, 'MulticlassAccuracy': 0.4981282949447632}\n",
      "[Epoch 8] Train Loss: 851.3719, Acc: 0.5125\n",
      "[Epoch 8] Val Loss: 212.2634, Val Metrics: {'MulticlassAUROC': 0.6916623115539551, 'MulticlassAUPRC': 0.4882587194442749, 'MulticlassAccuracy': 0.49827367067337036}\n",
      "[Epoch 9] Train Loss: 849.3233, Acc: 0.5137\n",
      "[Epoch 9] Val Loss: 213.8047, Val Metrics: {'MulticlassAUROC': 0.6919094920158386, 'MulticlassAUPRC': 0.4883498251438141, 'MulticlassAccuracy': 0.4815918505191803}\n"
     ]
    },
    {
     "data": {
      "text/html": [],
      "text/plain": [
       "<IPython.core.display.HTML object>"
      ]
     },
     "metadata": {},
     "output_type": "display_data"
    },
    {
     "data": {
      "text/html": [
       "<br>    <style><br>        .wandb-row {<br>            display: flex;<br>            flex-direction: row;<br>            flex-wrap: wrap;<br>            justify-content: flex-start;<br>            width: 100%;<br>        }<br>        .wandb-col {<br>            display: flex;<br>            flex-direction: column;<br>            flex-basis: 100%;<br>            flex: 1;<br>            padding: 10px;<br>        }<br>    </style><br><div class=\"wandb-row\"><div class=\"wandb-col\"><h3>Run history:</h3><br/><table class=\"wandb\"><tr><td>epoch</td><td>▁▂▃▃▄▅▆▆▇█</td></tr><tr><td>train_accuracy</td><td>▁▅▆▆▇▇▇▇██</td></tr><tr><td>train_loss</td><td>█▅▄▃▂▂▂▁▁▁</td></tr><tr><td>val_MulticlassAUPRC</td><td>▁▂▄▆▆▇████</td></tr><tr><td>val_MulticlassAUROC</td><td>▁▂▄▆▆▆▇███</td></tr><tr><td>val_MulticlassAccuracy</td><td>▄▁▄▆▅▅█▇▇▅</td></tr><tr><td>val_loss</td><td>█▇▅▃▃▃▁▁▁▃</td></tr></table><br/></div><div class=\"wandb-col\"><h3>Run summary:</h3><br/><table class=\"wandb\"><tr><td>epoch</td><td>9</td></tr><tr><td>train_accuracy</td><td>0.51366</td></tr><tr><td>train_loss</td><td>849.32328</td></tr><tr><td>val_MulticlassAUPRC</td><td>0.48835</td></tr><tr><td>val_MulticlassAUROC</td><td>0.69191</td></tr><tr><td>val_MulticlassAccuracy</td><td>0.48159</td></tr><tr><td>val_loss</td><td>213.80471</td></tr></table><br/></div></div>"
      ],
      "text/plain": [
       "<IPython.core.display.HTML object>"
      ]
     },
     "metadata": {},
     "output_type": "display_data"
    },
    {
     "data": {
      "text/html": [
       " View run <strong style=\"color:#cdcd00\">gene_1kb_64_0.0001</strong> at: <a href='https://wandb.ai/bind-gps/BindGPS/runs/iem4bazb' target=\"_blank\">https://wandb.ai/bind-gps/BindGPS/runs/iem4bazb</a><br> View project at: <a href='https://wandb.ai/bind-gps/BindGPS' target=\"_blank\">https://wandb.ai/bind-gps/BindGPS</a><br>Synced 5 W&B file(s), 0 media file(s), 0 artifact file(s) and 0 other file(s)"
      ],
      "text/plain": [
       "<IPython.core.display.HTML object>"
      ]
     },
     "metadata": {},
     "output_type": "display_data"
    },
    {
     "data": {
      "text/html": [
       "Find logs at: <code>./wandb/run-20251002_141956-iem4bazb/logs</code>"
      ],
      "text/plain": [
       "<IPython.core.display.HTML object>"
      ]
     },
     "metadata": {},
     "output_type": "display_data"
    },
    {
     "name": "stderr",
     "output_type": "stream",
     "text": [
      "\u001b[34m\u001b[1mwandb\u001b[0m: Agent Starting Run: 3iamu4yy with config:\n",
      "\u001b[34m\u001b[1mwandb\u001b[0m: \tbatch_size: 128\n",
      "\u001b[34m\u001b[1mwandb\u001b[0m: \tepochs: 10\n",
      "\u001b[34m\u001b[1mwandb\u001b[0m: \thidden_dims: [256, 128]\n",
      "\u001b[34m\u001b[1mwandb\u001b[0m: \tlr: 0.0001\n",
      "\u001b[34m\u001b[1mwandb\u001b[0m: \tresolution: 1kb\n",
      "\u001b[34m\u001b[1mwandb\u001b[0m: \tsvd_dim: 64\n",
      "\u001b[34m\u001b[1mwandb\u001b[0m: \ttarget_metric: MulticlassAUPRC\n",
      "\u001b[34m\u001b[1mwandb\u001b[0m: \ttask: gene\n",
      "\u001b[34m\u001b[1mwandb\u001b[0m: \tweighted: False\n",
      "\u001b[34m\u001b[1mwandb\u001b[0m: \u001b[32m\u001b[41mERROR\u001b[0m Failed to detect the name of this notebook. You can set it manually with the WANDB_NOTEBOOK_NAME environment variable to enable code saving.\n"
     ]
    },
    {
     "data": {
      "text/html": [],
      "text/plain": [
       "<IPython.core.display.HTML object>"
      ]
     },
     "metadata": {},
     "output_type": "display_data"
    },
    {
     "data": {
      "text/html": [
       "Tracking run with wandb version 0.22.1"
      ],
      "text/plain": [
       "<IPython.core.display.HTML object>"
      ]
     },
     "metadata": {},
     "output_type": "display_data"
    },
    {
     "data": {
      "text/html": [
       "Run data is saved locally in <code>/oscar/data/larschan/shared_data/BindGPS/model/wandb/run-20251002_142037-3iamu4yy</code>"
      ],
      "text/plain": [
       "<IPython.core.display.HTML object>"
      ]
     },
     "metadata": {},
     "output_type": "display_data"
    },
    {
     "data": {
      "text/html": [
       "Syncing run <strong><a href='https://wandb.ai/bind-gps/BindGPS/runs/3iamu4yy' target=\"_blank\">dry-sweep-84</a></strong> to <a href='https://wandb.ai/bind-gps/BindGPS' target=\"_blank\">Weights & Biases</a> (<a href='https://wandb.me/developer-guide' target=\"_blank\">docs</a>)<br>Sweep page: <a href='https://wandb.ai/bind-gps/BindGPS/sweeps/79ufxypb' target=\"_blank\">https://wandb.ai/bind-gps/BindGPS/sweeps/79ufxypb</a>"
      ],
      "text/plain": [
       "<IPython.core.display.HTML object>"
      ]
     },
     "metadata": {},
     "output_type": "display_data"
    },
    {
     "data": {
      "text/html": [
       " View project at <a href='https://wandb.ai/bind-gps/BindGPS' target=\"_blank\">https://wandb.ai/bind-gps/BindGPS</a>"
      ],
      "text/plain": [
       "<IPython.core.display.HTML object>"
      ]
     },
     "metadata": {},
     "output_type": "display_data"
    },
    {
     "data": {
      "text/html": [
       " View sweep at <a href='https://wandb.ai/bind-gps/BindGPS/sweeps/79ufxypb' target=\"_blank\">https://wandb.ai/bind-gps/BindGPS/sweeps/79ufxypb</a>"
      ],
      "text/plain": [
       "<IPython.core.display.HTML object>"
      ]
     },
     "metadata": {},
     "output_type": "display_data"
    },
    {
     "data": {
      "text/html": [
       " View run at <a href='https://wandb.ai/bind-gps/BindGPS/runs/3iamu4yy' target=\"_blank\">https://wandb.ai/bind-gps/BindGPS/runs/3iamu4yy</a>"
      ],
      "text/plain": [
       "<IPython.core.display.HTML object>"
      ]
     },
     "metadata": {},
     "output_type": "display_data"
    },
    {
     "name": "stderr",
     "output_type": "stream",
     "text": [
      "\u001b[34m\u001b[1mwandb\u001b[0m: \u001b[33mWARNING\u001b[0m Calling wandb.login() after wandb.init() has no effect.\n"
     ]
    },
    {
     "name": "stdout",
     "output_type": "stream",
     "text": [
      "[Epoch 0] Train Loss: 770.3328, Acc: 0.5893\n",
      "[Epoch 0] Val Loss: 183.9738, Val Metrics: {'MulticlassAUROC': 0.6723600029945374, 'MulticlassAUPRC': 0.46511614322662354, 'MulticlassAccuracy': 0.6084681153297424}\n",
      "[Epoch 1] Train Loss: 737.2246, Acc: 0.6037\n",
      "[Epoch 1] Val Loss: 181.8210, Val Metrics: {'MulticlassAUROC': 0.6827893853187561, 'MulticlassAUPRC': 0.47651752829551697, 'MulticlassAccuracy': 0.6126112937927246}\n",
      "[Epoch 2] Train Loss: 728.7011, Acc: 0.6076\n",
      "[Epoch 2] Val Loss: 181.3810, Val Metrics: {'MulticlassAUROC': 0.6875321269035339, 'MulticlassAUPRC': 0.4801458418369293, 'MulticlassAccuracy': 0.6146829128265381}\n",
      "[Epoch 3] Train Loss: 723.8092, Acc: 0.6121\n",
      "[Epoch 3] Val Loss: 180.9564, Val Metrics: {'MulticlassAUROC': 0.6934455037117004, 'MulticlassAUPRC': 0.4885443150997162, 'MulticlassAccuracy': 0.6175904273986816}\n",
      "[Epoch 4] Train Loss: 719.4127, Acc: 0.6142\n",
      "[Epoch 4] Val Loss: 178.8557, Val Metrics: {'MulticlassAUROC': 0.6962708830833435, 'MulticlassAUPRC': 0.4900166094303131, 'MulticlassAccuracy': 0.6170815825462341}\n",
      "[Epoch 5] Train Loss: 716.2736, Acc: 0.6165\n",
      "[Epoch 5] Val Loss: 178.2384, Val Metrics: {'MulticlassAUROC': 0.7001490592956543, 'MulticlassAUPRC': 0.49471744894981384, 'MulticlassAccuracy': 0.6198800802230835}\n",
      "[Epoch 6] Train Loss: 713.8741, Acc: 0.6169\n",
      "[Epoch 6] Val Loss: 177.4458, Val Metrics: {'MulticlassAUROC': 0.7027186751365662, 'MulticlassAUPRC': 0.4975973069667816, 'MulticlassAccuracy': 0.620934009552002}\n",
      "[Epoch 7] Train Loss: 712.7590, Acc: 0.6187\n",
      "[Epoch 7] Val Loss: 179.0443, Val Metrics: {'MulticlassAUROC': 0.6998118758201599, 'MulticlassAUPRC': 0.49426785111427307, 'MulticlassAccuracy': 0.6214064955711365}\n",
      "[Epoch 8] Train Loss: 709.8484, Acc: 0.6210\n",
      "[Epoch 8] Val Loss: 177.8581, Val Metrics: {'MulticlassAUROC': 0.7034370303153992, 'MulticlassAUPRC': 0.4982912540435791, 'MulticlassAccuracy': 0.6228238940238953}\n",
      "[Epoch 9] Train Loss: 709.3404, Acc: 0.6208\n",
      "[Epoch 9] Val Loss: 177.1909, Val Metrics: {'MulticlassAUROC': 0.7065250873565674, 'MulticlassAUPRC': 0.5019557476043701, 'MulticlassAccuracy': 0.6254406571388245}\n"
     ]
    },
    {
     "data": {
      "text/html": [],
      "text/plain": [
       "<IPython.core.display.HTML object>"
      ]
     },
     "metadata": {},
     "output_type": "display_data"
    },
    {
     "data": {
      "text/html": [
       "<br>    <style><br>        .wandb-row {<br>            display: flex;<br>            flex-direction: row;<br>            flex-wrap: wrap;<br>            justify-content: flex-start;<br>            width: 100%;<br>        }<br>        .wandb-col {<br>            display: flex;<br>            flex-direction: column;<br>            flex-basis: 100%;<br>            flex: 1;<br>            padding: 10px;<br>        }<br>    </style><br><div class=\"wandb-row\"><div class=\"wandb-col\"><h3>Run history:</h3><br/><table class=\"wandb\"><tr><td>epoch</td><td>▁▂▃▃▄▅▆▆▇█</td></tr><tr><td>train_accuracy</td><td>▁▄▅▆▇▇▇▇██</td></tr><tr><td>train_loss</td><td>█▄▃▃▂▂▂▁▁▁</td></tr><tr><td>val_MulticlassAUPRC</td><td>▁▃▄▅▆▇▇▇▇█</td></tr><tr><td>val_MulticlassAUROC</td><td>▁▃▄▅▆▇▇▇▇█</td></tr><tr><td>val_MulticlassAccuracy</td><td>▁▃▄▅▅▆▆▆▇█</td></tr><tr><td>val_loss</td><td>█▆▅▅▃▂▁▃▂▁</td></tr></table><br/></div><div class=\"wandb-col\"><h3>Run summary:</h3><br/><table class=\"wandb\"><tr><td>epoch</td><td>9</td></tr><tr><td>train_accuracy</td><td>0.62077</td></tr><tr><td>train_loss</td><td>709.34041</td></tr><tr><td>val_MulticlassAUPRC</td><td>0.50196</td></tr><tr><td>val_MulticlassAUROC</td><td>0.70653</td></tr><tr><td>val_MulticlassAccuracy</td><td>0.62544</td></tr><tr><td>val_loss</td><td>177.19088</td></tr></table><br/></div></div>"
      ],
      "text/plain": [
       "<IPython.core.display.HTML object>"
      ]
     },
     "metadata": {},
     "output_type": "display_data"
    },
    {
     "data": {
      "text/html": [
       " View run <strong style=\"color:#cdcd00\">gene_1kb_64_0.0001</strong> at: <a href='https://wandb.ai/bind-gps/BindGPS/runs/3iamu4yy' target=\"_blank\">https://wandb.ai/bind-gps/BindGPS/runs/3iamu4yy</a><br> View project at: <a href='https://wandb.ai/bind-gps/BindGPS' target=\"_blank\">https://wandb.ai/bind-gps/BindGPS</a><br>Synced 5 W&B file(s), 0 media file(s), 0 artifact file(s) and 0 other file(s)"
      ],
      "text/plain": [
       "<IPython.core.display.HTML object>"
      ]
     },
     "metadata": {},
     "output_type": "display_data"
    },
    {
     "data": {
      "text/html": [
       "Find logs at: <code>./wandb/run-20251002_142037-3iamu4yy/logs</code>"
      ],
      "text/plain": [
       "<IPython.core.display.HTML object>"
      ]
     },
     "metadata": {},
     "output_type": "display_data"
    },
    {
     "name": "stderr",
     "output_type": "stream",
     "text": [
      "\u001b[34m\u001b[1mwandb\u001b[0m: Agent Starting Run: pz5qzq92 with config:\n",
      "\u001b[34m\u001b[1mwandb\u001b[0m: \tbatch_size: 128\n",
      "\u001b[34m\u001b[1mwandb\u001b[0m: \tepochs: 10\n",
      "\u001b[34m\u001b[1mwandb\u001b[0m: \thidden_dims: [256, 128]\n",
      "\u001b[34m\u001b[1mwandb\u001b[0m: \tlr: 0.0001\n",
      "\u001b[34m\u001b[1mwandb\u001b[0m: \tresolution: 1kb\n",
      "\u001b[34m\u001b[1mwandb\u001b[0m: \tsvd_dim: 128\n",
      "\u001b[34m\u001b[1mwandb\u001b[0m: \ttarget_metric: MulticlassAUROC\n",
      "\u001b[34m\u001b[1mwandb\u001b[0m: \ttask: mre\n",
      "\u001b[34m\u001b[1mwandb\u001b[0m: \tweighted: True\n",
      "\u001b[34m\u001b[1mwandb\u001b[0m: \u001b[32m\u001b[41mERROR\u001b[0m Failed to detect the name of this notebook. You can set it manually with the WANDB_NOTEBOOK_NAME environment variable to enable code saving.\n"
     ]
    },
    {
     "data": {
      "text/html": [],
      "text/plain": [
       "<IPython.core.display.HTML object>"
      ]
     },
     "metadata": {},
     "output_type": "display_data"
    },
    {
     "data": {
      "text/html": [
       "Tracking run with wandb version 0.22.1"
      ],
      "text/plain": [
       "<IPython.core.display.HTML object>"
      ]
     },
     "metadata": {},
     "output_type": "display_data"
    },
    {
     "data": {
      "text/html": [
       "Run data is saved locally in <code>/oscar/data/larschan/shared_data/BindGPS/model/wandb/run-20251002_142118-pz5qzq92</code>"
      ],
      "text/plain": [
       "<IPython.core.display.HTML object>"
      ]
     },
     "metadata": {},
     "output_type": "display_data"
    },
    {
     "data": {
      "text/html": [
       "Syncing run <strong><a href='https://wandb.ai/bind-gps/BindGPS/runs/pz5qzq92' target=\"_blank\">hearty-sweep-85</a></strong> to <a href='https://wandb.ai/bind-gps/BindGPS' target=\"_blank\">Weights & Biases</a> (<a href='https://wandb.me/developer-guide' target=\"_blank\">docs</a>)<br>Sweep page: <a href='https://wandb.ai/bind-gps/BindGPS/sweeps/79ufxypb' target=\"_blank\">https://wandb.ai/bind-gps/BindGPS/sweeps/79ufxypb</a>"
      ],
      "text/plain": [
       "<IPython.core.display.HTML object>"
      ]
     },
     "metadata": {},
     "output_type": "display_data"
    },
    {
     "data": {
      "text/html": [
       " View project at <a href='https://wandb.ai/bind-gps/BindGPS' target=\"_blank\">https://wandb.ai/bind-gps/BindGPS</a>"
      ],
      "text/plain": [
       "<IPython.core.display.HTML object>"
      ]
     },
     "metadata": {},
     "output_type": "display_data"
    },
    {
     "data": {
      "text/html": [
       " View sweep at <a href='https://wandb.ai/bind-gps/BindGPS/sweeps/79ufxypb' target=\"_blank\">https://wandb.ai/bind-gps/BindGPS/sweeps/79ufxypb</a>"
      ],
      "text/plain": [
       "<IPython.core.display.HTML object>"
      ]
     },
     "metadata": {},
     "output_type": "display_data"
    },
    {
     "data": {
      "text/html": [
       " View run at <a href='https://wandb.ai/bind-gps/BindGPS/runs/pz5qzq92' target=\"_blank\">https://wandb.ai/bind-gps/BindGPS/runs/pz5qzq92</a>"
      ],
      "text/plain": [
       "<IPython.core.display.HTML object>"
      ]
     },
     "metadata": {},
     "output_type": "display_data"
    },
    {
     "name": "stderr",
     "output_type": "stream",
     "text": [
      "\u001b[34m\u001b[1mwandb\u001b[0m: \u001b[33mWARNING\u001b[0m Calling wandb.login() after wandb.init() has no effect.\n"
     ]
    },
    {
     "name": "stdout",
     "output_type": "stream",
     "text": [
      "[Epoch 0] Train Loss: 876.6834, Acc: 0.5158\n",
      "[Epoch 0] Val Loss: 201.4431, Val Metrics: {'MulticlassAUROC': 0.7574913501739502, 'MulticlassAUPRC': 0.488829106092453, 'MulticlassAccuracy': 0.6831182837486267}\n",
      "[Epoch 1] Train Loss: 802.3723, Acc: 0.6538\n",
      "[Epoch 1] Val Loss: 191.7145, Val Metrics: {'MulticlassAUROC': 0.7860660552978516, 'MulticlassAUPRC': 0.5151780247688293, 'MulticlassAccuracy': 0.7052516937255859}\n",
      "[Epoch 2] Train Loss: 773.9240, Acc: 0.6904\n",
      "[Epoch 2] Val Loss: 188.3823, Val Metrics: {'MulticlassAUROC': 0.8037448525428772, 'MulticlassAUPRC': 0.5328478217124939, 'MulticlassAccuracy': 0.7107396125793457}\n",
      "[Epoch 3] Train Loss: 756.2450, Acc: 0.6981\n",
      "[Epoch 3] Val Loss: 184.7907, Val Metrics: {'MulticlassAUROC': 0.810431182384491, 'MulticlassAUPRC': 0.5350610017776489, 'MulticlassAccuracy': 0.7266945242881775}\n",
      "[Epoch 4] Train Loss: 743.6170, Acc: 0.7097\n",
      "[Epoch 4] Val Loss: 181.3604, Val Metrics: {'MulticlassAUROC': 0.8187408447265625, 'MulticlassAUPRC': 0.5424643158912659, 'MulticlassAccuracy': 0.7420679926872253}\n",
      "[Epoch 5] Train Loss: 731.8464, Acc: 0.7180\n",
      "[Epoch 5] Val Loss: 180.7971, Val Metrics: {'MulticlassAUROC': 0.8211115002632141, 'MulticlassAUPRC': 0.5402990579605103, 'MulticlassAccuracy': 0.7200799584388733}\n",
      "[Epoch 6] Train Loss: 726.8131, Acc: 0.7236\n",
      "[Epoch 6] Val Loss: 179.7827, Val Metrics: {'MulticlassAUROC': 0.8294509053230286, 'MulticlassAUPRC': 0.5529510378837585, 'MulticlassAccuracy': 0.749809205532074}\n",
      "[Epoch 7] Train Loss: 715.3134, Acc: 0.7275\n",
      "[Epoch 7] Val Loss: 178.3178, Val Metrics: {'MulticlassAUROC': 0.827555239200592, 'MulticlassAUPRC': 0.5454692840576172, 'MulticlassAccuracy': 0.7305469512939453}\n",
      "[Epoch 8] Train Loss: 715.3186, Acc: 0.7308\n",
      "[Epoch 8] Val Loss: 179.4734, Val Metrics: {'MulticlassAUROC': 0.8296537399291992, 'MulticlassAUPRC': 0.5492681860923767, 'MulticlassAccuracy': 0.7536979913711548}\n",
      "[Epoch 9] Train Loss: 705.1961, Acc: 0.7389\n",
      "[Epoch 9] Val Loss: 175.6775, Val Metrics: {'MulticlassAUROC': 0.8375309109687805, 'MulticlassAUPRC': 0.5579413175582886, 'MulticlassAccuracy': 0.773250937461853}\n"
     ]
    },
    {
     "data": {
      "text/html": [],
      "text/plain": [
       "<IPython.core.display.HTML object>"
      ]
     },
     "metadata": {},
     "output_type": "display_data"
    },
    {
     "data": {
      "text/html": [
       "<br>    <style><br>        .wandb-row {<br>            display: flex;<br>            flex-direction: row;<br>            flex-wrap: wrap;<br>            justify-content: flex-start;<br>            width: 100%;<br>        }<br>        .wandb-col {<br>            display: flex;<br>            flex-direction: column;<br>            flex-basis: 100%;<br>            flex: 1;<br>            padding: 10px;<br>        }<br>    </style><br><div class=\"wandb-row\"><div class=\"wandb-col\"><h3>Run history:</h3><br/><table class=\"wandb\"><tr><td>epoch</td><td>▁▂▃▃▄▅▆▆▇█</td></tr><tr><td>train_accuracy</td><td>▁▅▆▇▇▇████</td></tr><tr><td>train_loss</td><td>█▅▄▃▃▂▂▁▁▁</td></tr><tr><td>val_MulticlassAUPRC</td><td>▁▄▅▆▆▆▇▇▇█</td></tr><tr><td>val_MulticlassAUROC</td><td>▁▃▅▆▆▇▇▇▇█</td></tr><tr><td>val_MulticlassAccuracy</td><td>▁▃▃▄▆▄▆▅▆█</td></tr><tr><td>val_loss</td><td>█▅▄▃▃▂▂▂▂▁</td></tr></table><br/></div><div class=\"wandb-col\"><h3>Run summary:</h3><br/><table class=\"wandb\"><tr><td>epoch</td><td>9</td></tr><tr><td>train_accuracy</td><td>0.73888</td></tr><tr><td>train_loss</td><td>705.19606</td></tr><tr><td>val_MulticlassAUPRC</td><td>0.55794</td></tr><tr><td>val_MulticlassAUROC</td><td>0.83753</td></tr><tr><td>val_MulticlassAccuracy</td><td>0.77325</td></tr><tr><td>val_loss</td><td>175.6775</td></tr></table><br/></div></div>"
      ],
      "text/plain": [
       "<IPython.core.display.HTML object>"
      ]
     },
     "metadata": {},
     "output_type": "display_data"
    },
    {
     "data": {
      "text/html": [
       " View run <strong style=\"color:#cdcd00\">mre_1kb_128_0.0001</strong> at: <a href='https://wandb.ai/bind-gps/BindGPS/runs/pz5qzq92' target=\"_blank\">https://wandb.ai/bind-gps/BindGPS/runs/pz5qzq92</a><br> View project at: <a href='https://wandb.ai/bind-gps/BindGPS' target=\"_blank\">https://wandb.ai/bind-gps/BindGPS</a><br>Synced 5 W&B file(s), 0 media file(s), 0 artifact file(s) and 0 other file(s)"
      ],
      "text/plain": [
       "<IPython.core.display.HTML object>"
      ]
     },
     "metadata": {},
     "output_type": "display_data"
    },
    {
     "data": {
      "text/html": [
       "Find logs at: <code>./wandb/run-20251002_142118-pz5qzq92/logs</code>"
      ],
      "text/plain": [
       "<IPython.core.display.HTML object>"
      ]
     },
     "metadata": {},
     "output_type": "display_data"
    },
    {
     "name": "stderr",
     "output_type": "stream",
     "text": [
      "\u001b[34m\u001b[1mwandb\u001b[0m: Agent Starting Run: dk6y5mip with config:\n",
      "\u001b[34m\u001b[1mwandb\u001b[0m: \tbatch_size: 128\n",
      "\u001b[34m\u001b[1mwandb\u001b[0m: \tepochs: 10\n",
      "\u001b[34m\u001b[1mwandb\u001b[0m: \thidden_dims: [256, 128]\n",
      "\u001b[34m\u001b[1mwandb\u001b[0m: \tlr: 0.0001\n",
      "\u001b[34m\u001b[1mwandb\u001b[0m: \tresolution: 1kb\n",
      "\u001b[34m\u001b[1mwandb\u001b[0m: \tsvd_dim: 128\n",
      "\u001b[34m\u001b[1mwandb\u001b[0m: \ttarget_metric: MulticlassAUROC\n",
      "\u001b[34m\u001b[1mwandb\u001b[0m: \ttask: mre\n",
      "\u001b[34m\u001b[1mwandb\u001b[0m: \tweighted: False\n",
      "\u001b[34m\u001b[1mwandb\u001b[0m: \u001b[32m\u001b[41mERROR\u001b[0m Failed to detect the name of this notebook. You can set it manually with the WANDB_NOTEBOOK_NAME environment variable to enable code saving.\n"
     ]
    },
    {
     "data": {
      "text/html": [],
      "text/plain": [
       "<IPython.core.display.HTML object>"
      ]
     },
     "metadata": {},
     "output_type": "display_data"
    },
    {
     "data": {
      "text/html": [
       "Tracking run with wandb version 0.22.1"
      ],
      "text/plain": [
       "<IPython.core.display.HTML object>"
      ]
     },
     "metadata": {},
     "output_type": "display_data"
    },
    {
     "data": {
      "text/html": [
       "Run data is saved locally in <code>/oscar/data/larschan/shared_data/BindGPS/model/wandb/run-20251002_142203-dk6y5mip</code>"
      ],
      "text/plain": [
       "<IPython.core.display.HTML object>"
      ]
     },
     "metadata": {},
     "output_type": "display_data"
    },
    {
     "data": {
      "text/html": [
       "Syncing run <strong><a href='https://wandb.ai/bind-gps/BindGPS/runs/dk6y5mip' target=\"_blank\">jolly-sweep-86</a></strong> to <a href='https://wandb.ai/bind-gps/BindGPS' target=\"_blank\">Weights & Biases</a> (<a href='https://wandb.me/developer-guide' target=\"_blank\">docs</a>)<br>Sweep page: <a href='https://wandb.ai/bind-gps/BindGPS/sweeps/79ufxypb' target=\"_blank\">https://wandb.ai/bind-gps/BindGPS/sweeps/79ufxypb</a>"
      ],
      "text/plain": [
       "<IPython.core.display.HTML object>"
      ]
     },
     "metadata": {},
     "output_type": "display_data"
    },
    {
     "data": {
      "text/html": [
       " View project at <a href='https://wandb.ai/bind-gps/BindGPS' target=\"_blank\">https://wandb.ai/bind-gps/BindGPS</a>"
      ],
      "text/plain": [
       "<IPython.core.display.HTML object>"
      ]
     },
     "metadata": {},
     "output_type": "display_data"
    },
    {
     "data": {
      "text/html": [
       " View sweep at <a href='https://wandb.ai/bind-gps/BindGPS/sweeps/79ufxypb' target=\"_blank\">https://wandb.ai/bind-gps/BindGPS/sweeps/79ufxypb</a>"
      ],
      "text/plain": [
       "<IPython.core.display.HTML object>"
      ]
     },
     "metadata": {},
     "output_type": "display_data"
    },
    {
     "data": {
      "text/html": [
       " View run at <a href='https://wandb.ai/bind-gps/BindGPS/runs/dk6y5mip' target=\"_blank\">https://wandb.ai/bind-gps/BindGPS/runs/dk6y5mip</a>"
      ],
      "text/plain": [
       "<IPython.core.display.HTML object>"
      ]
     },
     "metadata": {},
     "output_type": "display_data"
    },
    {
     "name": "stderr",
     "output_type": "stream",
     "text": [
      "\u001b[34m\u001b[1mwandb\u001b[0m: \u001b[33mWARNING\u001b[0m Calling wandb.login() after wandb.init() has no effect.\n"
     ]
    },
    {
     "name": "stdout",
     "output_type": "stream",
     "text": [
      "[Epoch 0] Train Loss: 463.6979, Acc: 0.8371\n",
      "[Epoch 0] Val Loss: 94.5807, Val Metrics: {'MulticlassAUROC': 0.7910216450691223, 'MulticlassAUPRC': 0.5138919353485107, 'MulticlassAccuracy': 0.8624023199081421}\n",
      "[Epoch 1] Train Loss: 360.9450, Acc: 0.8676\n",
      "[Epoch 1] Val Loss: 86.7127, Val Metrics: {'MulticlassAUROC': 0.8224430084228516, 'MulticlassAUPRC': 0.5500140190124512, 'MulticlassAccuracy': 0.8716336488723755}\n",
      "[Epoch 2] Train Loss: 340.5788, Acc: 0.8733\n",
      "[Epoch 2] Val Loss: 82.1884, Val Metrics: {'MulticlassAUROC': 0.8364484906196594, 'MulticlassAUPRC': 0.5720001459121704, 'MulticlassAccuracy': 0.8763220310211182}\n",
      "[Epoch 3] Train Loss: 332.0336, Acc: 0.8758\n",
      "[Epoch 3] Val Loss: 80.4155, Val Metrics: {'MulticlassAUROC': 0.8462316989898682, 'MulticlassAUPRC': 0.586594820022583, 'MulticlassAccuracy': 0.8771579265594482}\n",
      "[Epoch 4] Train Loss: 326.4488, Acc: 0.8771\n",
      "[Epoch 4] Val Loss: 79.2730, Val Metrics: {'MulticlassAUROC': 0.849830150604248, 'MulticlassAUPRC': 0.5886417031288147, 'MulticlassAccuracy': 0.8782845735549927}\n",
      "[Epoch 5] Train Loss: 321.6776, Acc: 0.8781\n",
      "[Epoch 5] Val Loss: 79.8007, Val Metrics: {'MulticlassAUROC': 0.8536444306373596, 'MulticlassAUPRC': 0.5935229659080505, 'MulticlassAccuracy': 0.878538966178894}\n",
      "[Epoch 6] Train Loss: 317.1164, Acc: 0.8792\n",
      "[Epoch 6] Val Loss: 78.3882, Val Metrics: {'MulticlassAUROC': 0.8572999835014343, 'MulticlassAUPRC': 0.5973504185676575, 'MulticlassAccuracy': 0.8793748617172241}\n",
      "[Epoch 7] Train Loss: 314.5840, Acc: 0.8795\n",
      "[Epoch 7] Val Loss: 78.0127, Val Metrics: {'MulticlassAUROC': 0.8623821139335632, 'MulticlassAUPRC': 0.6027753949165344, 'MulticlassAccuracy': 0.8798837065696716}\n",
      "[Epoch 8] Train Loss: 311.7253, Acc: 0.8804\n",
      "[Epoch 8] Val Loss: 77.2159, Val Metrics: {'MulticlassAUROC': 0.8650121688842773, 'MulticlassAUPRC': 0.6044954657554626, 'MulticlassAccuracy': 0.8811193704605103}\n",
      "[Epoch 9] Train Loss: 308.8116, Acc: 0.8803\n",
      "[Epoch 9] Val Loss: 76.3922, Val Metrics: {'MulticlassAUROC': 0.8676526546478271, 'MulticlassAUPRC': 0.6083797812461853, 'MulticlassAccuracy': 0.8806469440460205}\n"
     ]
    },
    {
     "data": {
      "text/html": [],
      "text/plain": [
       "<IPython.core.display.HTML object>"
      ]
     },
     "metadata": {},
     "output_type": "display_data"
    },
    {
     "data": {
      "text/html": [
       "<br>    <style><br>        .wandb-row {<br>            display: flex;<br>            flex-direction: row;<br>            flex-wrap: wrap;<br>            justify-content: flex-start;<br>            width: 100%;<br>        }<br>        .wandb-col {<br>            display: flex;<br>            flex-direction: column;<br>            flex-basis: 100%;<br>            flex: 1;<br>            padding: 10px;<br>        }<br>    </style><br><div class=\"wandb-row\"><div class=\"wandb-col\"><h3>Run history:</h3><br/><table class=\"wandb\"><tr><td>epoch</td><td>▁▂▃▃▄▅▆▆▇█</td></tr><tr><td>train_accuracy</td><td>▁▆▇▇▇█████</td></tr><tr><td>train_loss</td><td>█▃▂▂▂▂▁▁▁▁</td></tr><tr><td>val_MulticlassAUPRC</td><td>▁▄▅▆▇▇▇███</td></tr><tr><td>val_MulticlassAUROC</td><td>▁▄▅▆▆▇▇███</td></tr><tr><td>val_MulticlassAccuracy</td><td>▁▄▆▇▇▇▇███</td></tr><tr><td>val_loss</td><td>█▅▃▃▂▂▂▂▁▁</td></tr></table><br/></div><div class=\"wandb-col\"><h3>Run summary:</h3><br/><table class=\"wandb\"><tr><td>epoch</td><td>9</td></tr><tr><td>train_accuracy</td><td>0.88026</td></tr><tr><td>train_loss</td><td>308.81164</td></tr><tr><td>val_MulticlassAUPRC</td><td>0.60838</td></tr><tr><td>val_MulticlassAUROC</td><td>0.86765</td></tr><tr><td>val_MulticlassAccuracy</td><td>0.88065</td></tr><tr><td>val_loss</td><td>76.3922</td></tr></table><br/></div></div>"
      ],
      "text/plain": [
       "<IPython.core.display.HTML object>"
      ]
     },
     "metadata": {},
     "output_type": "display_data"
    },
    {
     "data": {
      "text/html": [
       " View run <strong style=\"color:#cdcd00\">mre_1kb_128_0.0001</strong> at: <a href='https://wandb.ai/bind-gps/BindGPS/runs/dk6y5mip' target=\"_blank\">https://wandb.ai/bind-gps/BindGPS/runs/dk6y5mip</a><br> View project at: <a href='https://wandb.ai/bind-gps/BindGPS' target=\"_blank\">https://wandb.ai/bind-gps/BindGPS</a><br>Synced 5 W&B file(s), 0 media file(s), 0 artifact file(s) and 0 other file(s)"
      ],
      "text/plain": [
       "<IPython.core.display.HTML object>"
      ]
     },
     "metadata": {},
     "output_type": "display_data"
    },
    {
     "data": {
      "text/html": [
       "Find logs at: <code>./wandb/run-20251002_142203-dk6y5mip/logs</code>"
      ],
      "text/plain": [
       "<IPython.core.display.HTML object>"
      ]
     },
     "metadata": {},
     "output_type": "display_data"
    },
    {
     "name": "stderr",
     "output_type": "stream",
     "text": [
      "\u001b[34m\u001b[1mwandb\u001b[0m: Sweep Agent: Waiting for job.\n",
      "\u001b[34m\u001b[1mwandb\u001b[0m: Job received.\n",
      "\u001b[34m\u001b[1mwandb\u001b[0m: Agent Starting Run: lwaxxqup with config:\n",
      "\u001b[34m\u001b[1mwandb\u001b[0m: \tbatch_size: 128\n",
      "\u001b[34m\u001b[1mwandb\u001b[0m: \tepochs: 10\n",
      "\u001b[34m\u001b[1mwandb\u001b[0m: \thidden_dims: [256, 128]\n",
      "\u001b[34m\u001b[1mwandb\u001b[0m: \tlr: 0.0001\n",
      "\u001b[34m\u001b[1mwandb\u001b[0m: \tresolution: 1kb\n",
      "\u001b[34m\u001b[1mwandb\u001b[0m: \tsvd_dim: 128\n",
      "\u001b[34m\u001b[1mwandb\u001b[0m: \ttarget_metric: MulticlassAUROC\n",
      "\u001b[34m\u001b[1mwandb\u001b[0m: \ttask: gene\n",
      "\u001b[34m\u001b[1mwandb\u001b[0m: \tweighted: True\n",
      "\u001b[34m\u001b[1mwandb\u001b[0m: \u001b[32m\u001b[41mERROR\u001b[0m Failed to detect the name of this notebook. You can set it manually with the WANDB_NOTEBOOK_NAME environment variable to enable code saving.\n"
     ]
    },
    {
     "data": {
      "text/html": [],
      "text/plain": [
       "<IPython.core.display.HTML object>"
      ]
     },
     "metadata": {},
     "output_type": "display_data"
    },
    {
     "data": {
      "text/html": [
       "Tracking run with wandb version 0.22.1"
      ],
      "text/plain": [
       "<IPython.core.display.HTML object>"
      ]
     },
     "metadata": {},
     "output_type": "display_data"
    },
    {
     "data": {
      "text/html": [
       "Run data is saved locally in <code>/oscar/data/larschan/shared_data/BindGPS/model/wandb/run-20251002_142254-lwaxxqup</code>"
      ],
      "text/plain": [
       "<IPython.core.display.HTML object>"
      ]
     },
     "metadata": {},
     "output_type": "display_data"
    },
    {
     "data": {
      "text/html": [
       "Syncing run <strong><a href='https://wandb.ai/bind-gps/BindGPS/runs/lwaxxqup' target=\"_blank\">pleasant-sweep-87</a></strong> to <a href='https://wandb.ai/bind-gps/BindGPS' target=\"_blank\">Weights & Biases</a> (<a href='https://wandb.me/developer-guide' target=\"_blank\">docs</a>)<br>Sweep page: <a href='https://wandb.ai/bind-gps/BindGPS/sweeps/79ufxypb' target=\"_blank\">https://wandb.ai/bind-gps/BindGPS/sweeps/79ufxypb</a>"
      ],
      "text/plain": [
       "<IPython.core.display.HTML object>"
      ]
     },
     "metadata": {},
     "output_type": "display_data"
    },
    {
     "data": {
      "text/html": [
       " View project at <a href='https://wandb.ai/bind-gps/BindGPS' target=\"_blank\">https://wandb.ai/bind-gps/BindGPS</a>"
      ],
      "text/plain": [
       "<IPython.core.display.HTML object>"
      ]
     },
     "metadata": {},
     "output_type": "display_data"
    },
    {
     "data": {
      "text/html": [
       " View sweep at <a href='https://wandb.ai/bind-gps/BindGPS/sweeps/79ufxypb' target=\"_blank\">https://wandb.ai/bind-gps/BindGPS/sweeps/79ufxypb</a>"
      ],
      "text/plain": [
       "<IPython.core.display.HTML object>"
      ]
     },
     "metadata": {},
     "output_type": "display_data"
    },
    {
     "data": {
      "text/html": [
       " View run at <a href='https://wandb.ai/bind-gps/BindGPS/runs/lwaxxqup' target=\"_blank\">https://wandb.ai/bind-gps/BindGPS/runs/lwaxxqup</a>"
      ],
      "text/plain": [
       "<IPython.core.display.HTML object>"
      ]
     },
     "metadata": {},
     "output_type": "display_data"
    },
    {
     "name": "stderr",
     "output_type": "stream",
     "text": [
      "\u001b[34m\u001b[1mwandb\u001b[0m: \u001b[33mWARNING\u001b[0m Calling wandb.login() after wandb.init() has no effect.\n"
     ]
    },
    {
     "name": "stdout",
     "output_type": "stream",
     "text": [
      "[Epoch 0] Train Loss: 900.0841, Acc: 0.4531\n",
      "[Epoch 0] Val Loss: 215.0867, Val Metrics: {'MulticlassAUROC': 0.6828039288520813, 'MulticlassAUPRC': 0.4775911867618561, 'MulticlassAccuracy': 0.48907867074012756}\n",
      "[Epoch 1] Train Loss: 864.9208, Acc: 0.4962\n",
      "[Epoch 1] Val Loss: 212.4356, Val Metrics: {'MulticlassAUROC': 0.6929532885551453, 'MulticlassAUPRC': 0.48905250430107117, 'MulticlassAccuracy': 0.48046520352363586}\n",
      "[Epoch 2] Train Loss: 854.9935, Acc: 0.5077\n",
      "[Epoch 2] Val Loss: 210.2748, Val Metrics: {'MulticlassAUROC': 0.6990826725959778, 'MulticlassAUPRC': 0.49654486775398254, 'MulticlassAccuracy': 0.510957658290863}\n",
      "[Epoch 3] Train Loss: 846.4334, Acc: 0.5147\n",
      "[Epoch 3] Val Loss: 209.5702, Val Metrics: {'MulticlassAUROC': 0.7038019299507141, 'MulticlassAUPRC': 0.5011782646179199, 'MulticlassAccuracy': 0.5091041326522827}\n",
      "[Epoch 4] Train Loss: 841.8299, Acc: 0.5213\n",
      "[Epoch 4] Val Loss: 209.0949, Val Metrics: {'MulticlassAUROC': 0.7025644183158875, 'MulticlassAUPRC': 0.49970629811286926, 'MulticlassAccuracy': 0.49318554997444153}\n",
      "[Epoch 5] Train Loss: 836.8773, Acc: 0.5236\n",
      "[Epoch 5] Val Loss: 208.5799, Val Metrics: {'MulticlassAUROC': 0.7074862122535706, 'MulticlassAUPRC': 0.5051977038383484, 'MulticlassAccuracy': 0.5015082955360413}\n",
      "[Epoch 6] Train Loss: 833.1737, Acc: 0.5277\n",
      "[Epoch 6] Val Loss: 208.6757, Val Metrics: {'MulticlassAUROC': 0.7094830870628357, 'MulticlassAUPRC': 0.5067221522331238, 'MulticlassAccuracy': 0.49580228328704834}\n",
      "[Epoch 7] Train Loss: 829.7430, Acc: 0.5335\n",
      "[Epoch 7] Val Loss: 206.9311, Val Metrics: {'MulticlassAUROC': 0.7140032649040222, 'MulticlassAUPRC': 0.5113405585289001, 'MulticlassAccuracy': 0.5225513577461243}\n",
      "[Epoch 8] Train Loss: 825.9754, Acc: 0.5376\n",
      "[Epoch 8] Val Loss: 206.1097, Val Metrics: {'MulticlassAUROC': 0.7164177894592285, 'MulticlassAUPRC': 0.5140302777290344, 'MulticlassAccuracy': 0.5372342467308044}\n",
      "[Epoch 9] Train Loss: 825.7178, Acc: 0.5386\n",
      "[Epoch 9] Val Loss: 206.0698, Val Metrics: {'MulticlassAUROC': 0.7180175185203552, 'MulticlassAUPRC': 0.515442430973053, 'MulticlassAccuracy': 0.5407959222793579}\n"
     ]
    },
    {
     "data": {
      "text/html": [],
      "text/plain": [
       "<IPython.core.display.HTML object>"
      ]
     },
     "metadata": {},
     "output_type": "display_data"
    },
    {
     "data": {
      "text/html": [
       "<br>    <style><br>        .wandb-row {<br>            display: flex;<br>            flex-direction: row;<br>            flex-wrap: wrap;<br>            justify-content: flex-start;<br>            width: 100%;<br>        }<br>        .wandb-col {<br>            display: flex;<br>            flex-direction: column;<br>            flex-basis: 100%;<br>            flex: 1;<br>            padding: 10px;<br>        }<br>    </style><br><div class=\"wandb-row\"><div class=\"wandb-col\"><h3>Run history:</h3><br/><table class=\"wandb\"><tr><td>epoch</td><td>▁▂▃▃▄▅▆▆▇█</td></tr><tr><td>train_accuracy</td><td>▁▅▅▆▇▇▇███</td></tr><tr><td>train_loss</td><td>█▅▄▃▃▂▂▁▁▁</td></tr><tr><td>val_MulticlassAUPRC</td><td>▁▃▅▅▅▆▆▇██</td></tr><tr><td>val_MulticlassAUROC</td><td>▁▃▄▅▅▆▆▇██</td></tr><tr><td>val_MulticlassAccuracy</td><td>▂▁▅▄▂▃▃▆██</td></tr><tr><td>val_loss</td><td>█▆▄▄▃▃▃▂▁▁</td></tr></table><br/></div><div class=\"wandb-col\"><h3>Run summary:</h3><br/><table class=\"wandb\"><tr><td>epoch</td><td>9</td></tr><tr><td>train_accuracy</td><td>0.53858</td></tr><tr><td>train_loss</td><td>825.71782</td></tr><tr><td>val_MulticlassAUPRC</td><td>0.51544</td></tr><tr><td>val_MulticlassAUROC</td><td>0.71802</td></tr><tr><td>val_MulticlassAccuracy</td><td>0.5408</td></tr><tr><td>val_loss</td><td>206.06983</td></tr></table><br/></div></div>"
      ],
      "text/plain": [
       "<IPython.core.display.HTML object>"
      ]
     },
     "metadata": {},
     "output_type": "display_data"
    },
    {
     "data": {
      "text/html": [
       " View run <strong style=\"color:#cdcd00\">gene_1kb_128_0.0001</strong> at: <a href='https://wandb.ai/bind-gps/BindGPS/runs/lwaxxqup' target=\"_blank\">https://wandb.ai/bind-gps/BindGPS/runs/lwaxxqup</a><br> View project at: <a href='https://wandb.ai/bind-gps/BindGPS' target=\"_blank\">https://wandb.ai/bind-gps/BindGPS</a><br>Synced 5 W&B file(s), 0 media file(s), 0 artifact file(s) and 0 other file(s)"
      ],
      "text/plain": [
       "<IPython.core.display.HTML object>"
      ]
     },
     "metadata": {},
     "output_type": "display_data"
    },
    {
     "data": {
      "text/html": [
       "Find logs at: <code>./wandb/run-20251002_142254-lwaxxqup/logs</code>"
      ],
      "text/plain": [
       "<IPython.core.display.HTML object>"
      ]
     },
     "metadata": {},
     "output_type": "display_data"
    },
    {
     "name": "stderr",
     "output_type": "stream",
     "text": [
      "\u001b[34m\u001b[1mwandb\u001b[0m: Agent Starting Run: wbyi8c3f with config:\n",
      "\u001b[34m\u001b[1mwandb\u001b[0m: \tbatch_size: 128\n",
      "\u001b[34m\u001b[1mwandb\u001b[0m: \tepochs: 10\n",
      "\u001b[34m\u001b[1mwandb\u001b[0m: \thidden_dims: [256, 128]\n",
      "\u001b[34m\u001b[1mwandb\u001b[0m: \tlr: 0.0001\n",
      "\u001b[34m\u001b[1mwandb\u001b[0m: \tresolution: 1kb\n",
      "\u001b[34m\u001b[1mwandb\u001b[0m: \tsvd_dim: 128\n",
      "\u001b[34m\u001b[1mwandb\u001b[0m: \ttarget_metric: MulticlassAUROC\n",
      "\u001b[34m\u001b[1mwandb\u001b[0m: \ttask: gene\n",
      "\u001b[34m\u001b[1mwandb\u001b[0m: \tweighted: False\n",
      "\u001b[34m\u001b[1mwandb\u001b[0m: \u001b[32m\u001b[41mERROR\u001b[0m Failed to detect the name of this notebook. You can set it manually with the WANDB_NOTEBOOK_NAME environment variable to enable code saving.\n"
     ]
    },
    {
     "data": {
      "text/html": [],
      "text/plain": [
       "<IPython.core.display.HTML object>"
      ]
     },
     "metadata": {},
     "output_type": "display_data"
    },
    {
     "data": {
      "text/html": [
       "Tracking run with wandb version 0.22.1"
      ],
      "text/plain": [
       "<IPython.core.display.HTML object>"
      ]
     },
     "metadata": {},
     "output_type": "display_data"
    },
    {
     "data": {
      "text/html": [
       "Run data is saved locally in <code>/oscar/data/larschan/shared_data/BindGPS/model/wandb/run-20251002_142340-wbyi8c3f</code>"
      ],
      "text/plain": [
       "<IPython.core.display.HTML object>"
      ]
     },
     "metadata": {},
     "output_type": "display_data"
    },
    {
     "data": {
      "text/html": [
       "Syncing run <strong><a href='https://wandb.ai/bind-gps/BindGPS/runs/wbyi8c3f' target=\"_blank\">resilient-sweep-88</a></strong> to <a href='https://wandb.ai/bind-gps/BindGPS' target=\"_blank\">Weights & Biases</a> (<a href='https://wandb.me/developer-guide' target=\"_blank\">docs</a>)<br>Sweep page: <a href='https://wandb.ai/bind-gps/BindGPS/sweeps/79ufxypb' target=\"_blank\">https://wandb.ai/bind-gps/BindGPS/sweeps/79ufxypb</a>"
      ],
      "text/plain": [
       "<IPython.core.display.HTML object>"
      ]
     },
     "metadata": {},
     "output_type": "display_data"
    },
    {
     "data": {
      "text/html": [
       " View project at <a href='https://wandb.ai/bind-gps/BindGPS' target=\"_blank\">https://wandb.ai/bind-gps/BindGPS</a>"
      ],
      "text/plain": [
       "<IPython.core.display.HTML object>"
      ]
     },
     "metadata": {},
     "output_type": "display_data"
    },
    {
     "data": {
      "text/html": [
       " View sweep at <a href='https://wandb.ai/bind-gps/BindGPS/sweeps/79ufxypb' target=\"_blank\">https://wandb.ai/bind-gps/BindGPS/sweeps/79ufxypb</a>"
      ],
      "text/plain": [
       "<IPython.core.display.HTML object>"
      ]
     },
     "metadata": {},
     "output_type": "display_data"
    },
    {
     "data": {
      "text/html": [
       " View run at <a href='https://wandb.ai/bind-gps/BindGPS/runs/wbyi8c3f' target=\"_blank\">https://wandb.ai/bind-gps/BindGPS/runs/wbyi8c3f</a>"
      ],
      "text/plain": [
       "<IPython.core.display.HTML object>"
      ]
     },
     "metadata": {},
     "output_type": "display_data"
    },
    {
     "name": "stderr",
     "output_type": "stream",
     "text": [
      "\u001b[34m\u001b[1mwandb\u001b[0m: \u001b[33mWARNING\u001b[0m Calling wandb.login() after wandb.init() has no effect.\n"
     ]
    },
    {
     "name": "stdout",
     "output_type": "stream",
     "text": [
      "[Epoch 0] Train Loss: 767.7239, Acc: 0.5860\n",
      "[Epoch 0] Val Loss: 180.2794, Val Metrics: {'MulticlassAUROC': 0.7002435326576233, 'MulticlassAUPRC': 0.4898200035095215, 'MulticlassAccuracy': 0.6233690977096558}\n",
      "[Epoch 1] Train Loss: 727.6865, Acc: 0.6099\n",
      "[Epoch 1] Val Loss: 177.9366, Val Metrics: {'MulticlassAUROC': 0.7119000554084778, 'MulticlassAUPRC': 0.5058256983757019, 'MulticlassAccuracy': 0.6287116408348083}\n",
      "[Epoch 2] Train Loss: 716.3562, Acc: 0.6157\n",
      "[Epoch 2] Val Loss: 176.1452, Val Metrics: {'MulticlassAUROC': 0.7179859280586243, 'MulticlassAUPRC': 0.5131723880767822, 'MulticlassAccuracy': 0.6306741833686829}\n",
      "[Epoch 3] Train Loss: 711.7479, Acc: 0.6193\n",
      "[Epoch 3] Val Loss: 174.0774, Val Metrics: {'MulticlassAUROC': 0.7225378155708313, 'MulticlassAUPRC': 0.5186211466789246, 'MulticlassAccuracy': 0.6331819295883179}\n",
      "[Epoch 4] Train Loss: 706.0497, Acc: 0.6238\n",
      "[Epoch 4] Val Loss: 172.9498, Val Metrics: {'MulticlassAUROC': 0.7264010310173035, 'MulticlassAUPRC': 0.5237956047058105, 'MulticlassAccuracy': 0.6346356272697449}\n",
      "[Epoch 5] Train Loss: 702.4849, Acc: 0.6261\n",
      "[Epoch 5] Val Loss: 172.9973, Val Metrics: {'MulticlassAUROC': 0.7292700409889221, 'MulticlassAUPRC': 0.5266901850700378, 'MulticlassAccuracy': 0.6373251080513}\n",
      "[Epoch 6] Train Loss: 698.0925, Acc: 0.6285\n",
      "[Epoch 6] Val Loss: 172.5480, Val Metrics: {'MulticlassAUROC': 0.7306785583496094, 'MulticlassAUPRC': 0.5278285145759583, 'MulticlassAccuracy': 0.6386334896087646}\n",
      "[Epoch 7] Train Loss: 697.2494, Acc: 0.6288\n",
      "[Epoch 7] Val Loss: 170.9496, Val Metrics: {'MulticlassAUROC': 0.7334272265434265, 'MulticlassAUPRC': 0.5318043231964111, 'MulticlassAccuracy': 0.6405960321426392}\n",
      "[Epoch 8] Train Loss: 693.8783, Acc: 0.6321\n",
      "[Epoch 8] Val Loss: 170.8866, Val Metrics: {'MulticlassAUROC': 0.7343935966491699, 'MulticlassAUPRC': 0.5322096347808838, 'MulticlassAccuracy': 0.6395784020423889}\n",
      "[Epoch 9] Train Loss: 692.0013, Acc: 0.6331\n",
      "[Epoch 9] Val Loss: 172.1298, Val Metrics: {'MulticlassAUROC': 0.7345914244651794, 'MulticlassAUPRC': 0.5341909527778625, 'MulticlassAccuracy': 0.6415046453475952}\n"
     ]
    },
    {
     "data": {
      "text/html": [],
      "text/plain": [
       "<IPython.core.display.HTML object>"
      ]
     },
     "metadata": {},
     "output_type": "display_data"
    },
    {
     "data": {
      "text/html": [
       "<br>    <style><br>        .wandb-row {<br>            display: flex;<br>            flex-direction: row;<br>            flex-wrap: wrap;<br>            justify-content: flex-start;<br>            width: 100%;<br>        }<br>        .wandb-col {<br>            display: flex;<br>            flex-direction: column;<br>            flex-basis: 100%;<br>            flex: 1;<br>            padding: 10px;<br>        }<br>    </style><br><div class=\"wandb-row\"><div class=\"wandb-col\"><h3>Run history:</h3><br/><table class=\"wandb\"><tr><td>epoch</td><td>▁▂▃▃▄▅▆▆▇█</td></tr><tr><td>train_accuracy</td><td>▁▅▅▆▇▇▇▇██</td></tr><tr><td>train_loss</td><td>█▄▃▃▂▂▂▁▁▁</td></tr><tr><td>val_MulticlassAUPRC</td><td>▁▄▅▆▆▇▇███</td></tr><tr><td>val_MulticlassAUROC</td><td>▁▃▅▆▆▇▇███</td></tr><tr><td>val_MulticlassAccuracy</td><td>▁▃▄▅▅▆▇█▇█</td></tr><tr><td>val_loss</td><td>█▆▅▃▃▃▂▁▁▂</td></tr></table><br/></div><div class=\"wandb-col\"><h3>Run summary:</h3><br/><table class=\"wandb\"><tr><td>epoch</td><td>9</td></tr><tr><td>train_accuracy</td><td>0.63306</td></tr><tr><td>train_loss</td><td>692.00129</td></tr><tr><td>val_MulticlassAUPRC</td><td>0.53419</td></tr><tr><td>val_MulticlassAUROC</td><td>0.73459</td></tr><tr><td>val_MulticlassAccuracy</td><td>0.6415</td></tr><tr><td>val_loss</td><td>172.12979</td></tr></table><br/></div></div>"
      ],
      "text/plain": [
       "<IPython.core.display.HTML object>"
      ]
     },
     "metadata": {},
     "output_type": "display_data"
    },
    {
     "data": {
      "text/html": [
       " View run <strong style=\"color:#cdcd00\">gene_1kb_128_0.0001</strong> at: <a href='https://wandb.ai/bind-gps/BindGPS/runs/wbyi8c3f' target=\"_blank\">https://wandb.ai/bind-gps/BindGPS/runs/wbyi8c3f</a><br> View project at: <a href='https://wandb.ai/bind-gps/BindGPS' target=\"_blank\">https://wandb.ai/bind-gps/BindGPS</a><br>Synced 5 W&B file(s), 0 media file(s), 0 artifact file(s) and 0 other file(s)"
      ],
      "text/plain": [
       "<IPython.core.display.HTML object>"
      ]
     },
     "metadata": {},
     "output_type": "display_data"
    },
    {
     "data": {
      "text/html": [
       "Find logs at: <code>./wandb/run-20251002_142340-wbyi8c3f/logs</code>"
      ],
      "text/plain": [
       "<IPython.core.display.HTML object>"
      ]
     },
     "metadata": {},
     "output_type": "display_data"
    },
    {
     "name": "stderr",
     "output_type": "stream",
     "text": [
      "\u001b[34m\u001b[1mwandb\u001b[0m: Sweep Agent: Waiting for job.\n",
      "\u001b[34m\u001b[1mwandb\u001b[0m: Job received.\n",
      "\u001b[34m\u001b[1mwandb\u001b[0m: Agent Starting Run: 1yon54y1 with config:\n",
      "\u001b[34m\u001b[1mwandb\u001b[0m: \tbatch_size: 128\n",
      "\u001b[34m\u001b[1mwandb\u001b[0m: \tepochs: 10\n",
      "\u001b[34m\u001b[1mwandb\u001b[0m: \thidden_dims: [256, 128]\n",
      "\u001b[34m\u001b[1mwandb\u001b[0m: \tlr: 0.0001\n",
      "\u001b[34m\u001b[1mwandb\u001b[0m: \tresolution: 1kb\n",
      "\u001b[34m\u001b[1mwandb\u001b[0m: \tsvd_dim: 128\n",
      "\u001b[34m\u001b[1mwandb\u001b[0m: \ttarget_metric: MulticlassAccuracy\n",
      "\u001b[34m\u001b[1mwandb\u001b[0m: \ttask: mre\n",
      "\u001b[34m\u001b[1mwandb\u001b[0m: \tweighted: True\n",
      "\u001b[34m\u001b[1mwandb\u001b[0m: \u001b[32m\u001b[41mERROR\u001b[0m Failed to detect the name of this notebook. You can set it manually with the WANDB_NOTEBOOK_NAME environment variable to enable code saving.\n"
     ]
    },
    {
     "data": {
      "text/html": [],
      "text/plain": [
       "<IPython.core.display.HTML object>"
      ]
     },
     "metadata": {},
     "output_type": "display_data"
    },
    {
     "data": {
      "text/html": [
       "Tracking run with wandb version 0.22.1"
      ],
      "text/plain": [
       "<IPython.core.display.HTML object>"
      ]
     },
     "metadata": {},
     "output_type": "display_data"
    },
    {
     "data": {
      "text/html": [
       "Run data is saved locally in <code>/oscar/data/larschan/shared_data/BindGPS/model/wandb/run-20251002_142431-1yon54y1</code>"
      ],
      "text/plain": [
       "<IPython.core.display.HTML object>"
      ]
     },
     "metadata": {},
     "output_type": "display_data"
    },
    {
     "data": {
      "text/html": [
       "Syncing run <strong><a href='https://wandb.ai/bind-gps/BindGPS/runs/1yon54y1' target=\"_blank\">treasured-sweep-89</a></strong> to <a href='https://wandb.ai/bind-gps/BindGPS' target=\"_blank\">Weights & Biases</a> (<a href='https://wandb.me/developer-guide' target=\"_blank\">docs</a>)<br>Sweep page: <a href='https://wandb.ai/bind-gps/BindGPS/sweeps/79ufxypb' target=\"_blank\">https://wandb.ai/bind-gps/BindGPS/sweeps/79ufxypb</a>"
      ],
      "text/plain": [
       "<IPython.core.display.HTML object>"
      ]
     },
     "metadata": {},
     "output_type": "display_data"
    },
    {
     "data": {
      "text/html": [
       " View project at <a href='https://wandb.ai/bind-gps/BindGPS' target=\"_blank\">https://wandb.ai/bind-gps/BindGPS</a>"
      ],
      "text/plain": [
       "<IPython.core.display.HTML object>"
      ]
     },
     "metadata": {},
     "output_type": "display_data"
    },
    {
     "data": {
      "text/html": [
       " View sweep at <a href='https://wandb.ai/bind-gps/BindGPS/sweeps/79ufxypb' target=\"_blank\">https://wandb.ai/bind-gps/BindGPS/sweeps/79ufxypb</a>"
      ],
      "text/plain": [
       "<IPython.core.display.HTML object>"
      ]
     },
     "metadata": {},
     "output_type": "display_data"
    },
    {
     "data": {
      "text/html": [
       " View run at <a href='https://wandb.ai/bind-gps/BindGPS/runs/1yon54y1' target=\"_blank\">https://wandb.ai/bind-gps/BindGPS/runs/1yon54y1</a>"
      ],
      "text/plain": [
       "<IPython.core.display.HTML object>"
      ]
     },
     "metadata": {},
     "output_type": "display_data"
    },
    {
     "name": "stderr",
     "output_type": "stream",
     "text": [
      "\u001b[34m\u001b[1mwandb\u001b[0m: \u001b[33mWARNING\u001b[0m Calling wandb.login() after wandb.init() has no effect.\n"
     ]
    },
    {
     "name": "stdout",
     "output_type": "stream",
     "text": [
      "[Epoch 0] Train Loss: 876.6002, Acc: 0.5406\n",
      "[Epoch 0] Val Loss: 201.3723, Val Metrics: {'MulticlassAUROC': 0.7446747422218323, 'MulticlassAUPRC': 0.47145915031433105, 'MulticlassAccuracy': 0.6726512908935547}\n",
      "[Epoch 1] Train Loss: 806.5742, Acc: 0.6594\n",
      "[Epoch 1] Val Loss: 192.2441, Val Metrics: {'MulticlassAUROC': 0.7794938683509827, 'MulticlassAUPRC': 0.5039311051368713, 'MulticlassAccuracy': 0.6677812337875366}\n",
      "[Epoch 2] Train Loss: 778.4537, Acc: 0.6804\n",
      "[Epoch 2] Val Loss: 188.0954, Val Metrics: {'MulticlassAUROC': 0.7960304617881775, 'MulticlassAUPRC': 0.5165950655937195, 'MulticlassAccuracy': 0.7063419818878174}\n",
      "[Epoch 3] Train Loss: 757.7487, Acc: 0.6973\n",
      "[Epoch 3] Val Loss: 184.5080, Val Metrics: {'MulticlassAUROC': 0.8073306679725647, 'MulticlassAUPRC': 0.527894914150238, 'MulticlassAccuracy': 0.7378883957862854}\n",
      "[Epoch 4] Train Loss: 742.6898, Acc: 0.7088\n",
      "[Epoch 4] Val Loss: 183.0593, Val Metrics: {'MulticlassAUROC': 0.8123480677604675, 'MulticlassAUPRC': 0.5263196229934692, 'MulticlassAccuracy': 0.6984553933143616}\n",
      "[Epoch 5] Train Loss: 732.9359, Acc: 0.7162\n",
      "[Epoch 5] Val Loss: 180.9850, Val Metrics: {'MulticlassAUROC': 0.8177220225334167, 'MulticlassAUPRC': 0.5331329703330994, 'MulticlassAccuracy': 0.7264401316642761}\n",
      "[Epoch 6] Train Loss: 723.8385, Acc: 0.7206\n",
      "[Epoch 6] Val Loss: 180.7944, Val Metrics: {'MulticlassAUROC': 0.822390079498291, 'MulticlassAUPRC': 0.5398034453392029, 'MulticlassAccuracy': 0.7437034249305725}\n",
      "[Epoch 7] Train Loss: 716.3520, Acc: 0.7286\n",
      "[Epoch 7] Val Loss: 179.1622, Val Metrics: {'MulticlassAUROC': 0.8245204091072083, 'MulticlassAUPRC': 0.5386338233947754, 'MulticlassAccuracy': 0.7295656800270081}\n",
      "[Epoch 8] Train Loss: 709.2333, Acc: 0.7312\n",
      "[Epoch 8] Val Loss: 177.8164, Val Metrics: {'MulticlassAUROC': 0.8258915543556213, 'MulticlassAUPRC': 0.5374689102172852, 'MulticlassAccuracy': 0.728657066822052}\n",
      "[Epoch 9] Train Loss: 702.2637, Acc: 0.7368\n",
      "[Epoch 9] Val Loss: 177.9529, Val Metrics: {'MulticlassAUROC': 0.8307021260261536, 'MulticlassAUPRC': 0.5411999821662903, 'MulticlassAccuracy': 0.7288751602172852}\n"
     ]
    },
    {
     "data": {
      "text/html": [],
      "text/plain": [
       "<IPython.core.display.HTML object>"
      ]
     },
     "metadata": {},
     "output_type": "display_data"
    },
    {
     "data": {
      "text/html": [
       "<br>    <style><br>        .wandb-row {<br>            display: flex;<br>            flex-direction: row;<br>            flex-wrap: wrap;<br>            justify-content: flex-start;<br>            width: 100%;<br>        }<br>        .wandb-col {<br>            display: flex;<br>            flex-direction: column;<br>            flex-basis: 100%;<br>            flex: 1;<br>            padding: 10px;<br>        }<br>    </style><br><div class=\"wandb-row\"><div class=\"wandb-col\"><h3>Run history:</h3><br/><table class=\"wandb\"><tr><td>epoch</td><td>▁▂▃▃▄▅▆▆▇█</td></tr><tr><td>train_accuracy</td><td>▁▅▆▇▇▇▇███</td></tr><tr><td>train_loss</td><td>█▅▄▃▃▂▂▂▁▁</td></tr><tr><td>val_MulticlassAUPRC</td><td>▁▄▆▇▇▇████</td></tr><tr><td>val_MulticlassAUROC</td><td>▁▄▅▆▇▇▇▇██</td></tr><tr><td>val_MulticlassAccuracy</td><td>▁▁▅▇▄▆█▇▇▇</td></tr><tr><td>val_loss</td><td>█▅▄▃▃▂▂▁▁▁</td></tr></table><br/></div><div class=\"wandb-col\"><h3>Run summary:</h3><br/><table class=\"wandb\"><tr><td>epoch</td><td>9</td></tr><tr><td>train_accuracy</td><td>0.73682</td></tr><tr><td>train_loss</td><td>702.26367</td></tr><tr><td>val_MulticlassAUPRC</td><td>0.5412</td></tr><tr><td>val_MulticlassAUROC</td><td>0.8307</td></tr><tr><td>val_MulticlassAccuracy</td><td>0.72888</td></tr><tr><td>val_loss</td><td>177.9529</td></tr></table><br/></div></div>"
      ],
      "text/plain": [
       "<IPython.core.display.HTML object>"
      ]
     },
     "metadata": {},
     "output_type": "display_data"
    },
    {
     "data": {
      "text/html": [
       " View run <strong style=\"color:#cdcd00\">mre_1kb_128_0.0001</strong> at: <a href='https://wandb.ai/bind-gps/BindGPS/runs/1yon54y1' target=\"_blank\">https://wandb.ai/bind-gps/BindGPS/runs/1yon54y1</a><br> View project at: <a href='https://wandb.ai/bind-gps/BindGPS' target=\"_blank\">https://wandb.ai/bind-gps/BindGPS</a><br>Synced 5 W&B file(s), 0 media file(s), 0 artifact file(s) and 0 other file(s)"
      ],
      "text/plain": [
       "<IPython.core.display.HTML object>"
      ]
     },
     "metadata": {},
     "output_type": "display_data"
    },
    {
     "data": {
      "text/html": [
       "Find logs at: <code>./wandb/run-20251002_142431-1yon54y1/logs</code>"
      ],
      "text/plain": [
       "<IPython.core.display.HTML object>"
      ]
     },
     "metadata": {},
     "output_type": "display_data"
    },
    {
     "name": "stderr",
     "output_type": "stream",
     "text": [
      "\u001b[34m\u001b[1mwandb\u001b[0m: Agent Starting Run: 4fue6fl5 with config:\n",
      "\u001b[34m\u001b[1mwandb\u001b[0m: \tbatch_size: 128\n",
      "\u001b[34m\u001b[1mwandb\u001b[0m: \tepochs: 10\n",
      "\u001b[34m\u001b[1mwandb\u001b[0m: \thidden_dims: [256, 128]\n",
      "\u001b[34m\u001b[1mwandb\u001b[0m: \tlr: 0.0001\n",
      "\u001b[34m\u001b[1mwandb\u001b[0m: \tresolution: 1kb\n",
      "\u001b[34m\u001b[1mwandb\u001b[0m: \tsvd_dim: 128\n",
      "\u001b[34m\u001b[1mwandb\u001b[0m: \ttarget_metric: MulticlassAccuracy\n",
      "\u001b[34m\u001b[1mwandb\u001b[0m: \ttask: mre\n",
      "\u001b[34m\u001b[1mwandb\u001b[0m: \tweighted: False\n",
      "\u001b[34m\u001b[1mwandb\u001b[0m: \u001b[32m\u001b[41mERROR\u001b[0m Failed to detect the name of this notebook. You can set it manually with the WANDB_NOTEBOOK_NAME environment variable to enable code saving.\n"
     ]
    },
    {
     "data": {
      "text/html": [],
      "text/plain": [
       "<IPython.core.display.HTML object>"
      ]
     },
     "metadata": {},
     "output_type": "display_data"
    },
    {
     "data": {
      "text/html": [
       "Tracking run with wandb version 0.22.1"
      ],
      "text/plain": [
       "<IPython.core.display.HTML object>"
      ]
     },
     "metadata": {},
     "output_type": "display_data"
    },
    {
     "data": {
      "text/html": [
       "Run data is saved locally in <code>/oscar/data/larschan/shared_data/BindGPS/model/wandb/run-20251002_142517-4fue6fl5</code>"
      ],
      "text/plain": [
       "<IPython.core.display.HTML object>"
      ]
     },
     "metadata": {},
     "output_type": "display_data"
    },
    {
     "data": {
      "text/html": [
       "Syncing run <strong><a href='https://wandb.ai/bind-gps/BindGPS/runs/4fue6fl5' target=\"_blank\">icy-sweep-90</a></strong> to <a href='https://wandb.ai/bind-gps/BindGPS' target=\"_blank\">Weights & Biases</a> (<a href='https://wandb.me/developer-guide' target=\"_blank\">docs</a>)<br>Sweep page: <a href='https://wandb.ai/bind-gps/BindGPS/sweeps/79ufxypb' target=\"_blank\">https://wandb.ai/bind-gps/BindGPS/sweeps/79ufxypb</a>"
      ],
      "text/plain": [
       "<IPython.core.display.HTML object>"
      ]
     },
     "metadata": {},
     "output_type": "display_data"
    },
    {
     "data": {
      "text/html": [
       " View project at <a href='https://wandb.ai/bind-gps/BindGPS' target=\"_blank\">https://wandb.ai/bind-gps/BindGPS</a>"
      ],
      "text/plain": [
       "<IPython.core.display.HTML object>"
      ]
     },
     "metadata": {},
     "output_type": "display_data"
    },
    {
     "data": {
      "text/html": [
       " View sweep at <a href='https://wandb.ai/bind-gps/BindGPS/sweeps/79ufxypb' target=\"_blank\">https://wandb.ai/bind-gps/BindGPS/sweeps/79ufxypb</a>"
      ],
      "text/plain": [
       "<IPython.core.display.HTML object>"
      ]
     },
     "metadata": {},
     "output_type": "display_data"
    },
    {
     "data": {
      "text/html": [
       " View run at <a href='https://wandb.ai/bind-gps/BindGPS/runs/4fue6fl5' target=\"_blank\">https://wandb.ai/bind-gps/BindGPS/runs/4fue6fl5</a>"
      ],
      "text/plain": [
       "<IPython.core.display.HTML object>"
      ]
     },
     "metadata": {},
     "output_type": "display_data"
    },
    {
     "name": "stderr",
     "output_type": "stream",
     "text": [
      "\u001b[34m\u001b[1mwandb\u001b[0m: \u001b[33mWARNING\u001b[0m Calling wandb.login() after wandb.init() has no effect.\n"
     ]
    },
    {
     "name": "stdout",
     "output_type": "stream",
     "text": [
      "[Epoch 0] Train Loss: 444.4285, Acc: 0.8454\n",
      "[Epoch 0] Val Loss: 93.6864, Val Metrics: {'MulticlassAUROC': 0.797071635723114, 'MulticlassAUPRC': 0.5330300331115723, 'MulticlassAccuracy': 0.8641831874847412}\n",
      "[Epoch 1] Train Loss: 355.3751, Acc: 0.8679\n",
      "[Epoch 1] Val Loss: 84.5937, Val Metrics: {'MulticlassAUROC': 0.8254599571228027, 'MulticlassAUPRC': 0.5686130523681641, 'MulticlassAccuracy': 0.8735235333442688}\n",
      "[Epoch 2] Train Loss: 338.4896, Acc: 0.8745\n",
      "[Epoch 2] Val Loss: 81.6149, Val Metrics: {'MulticlassAUROC': 0.8405894637107849, 'MulticlassAUPRC': 0.5855327248573303, 'MulticlassAccuracy': 0.8764310479164124}\n",
      "[Epoch 3] Train Loss: 330.0933, Acc: 0.8760\n",
      "[Epoch 3] Val Loss: 81.4537, Val Metrics: {'MulticlassAUROC': 0.8405430316925049, 'MulticlassAUPRC': 0.5851532220840454, 'MulticlassAccuracy': 0.876103937625885}\n",
      "[Epoch 4] Train Loss: 324.9186, Acc: 0.8773\n",
      "[Epoch 4] Val Loss: 79.0861, Val Metrics: {'MulticlassAUROC': 0.8512199521064758, 'MulticlassAUPRC': 0.5950646996498108, 'MulticlassAccuracy': 0.8773396611213684}\n",
      "[Epoch 5] Train Loss: 320.5502, Acc: 0.8787\n",
      "[Epoch 5] Val Loss: 79.3557, Val Metrics: {'MulticlassAUROC': 0.8552872538566589, 'MulticlassAUPRC': 0.5998948216438293, 'MulticlassAccuracy': 0.8780301809310913}\n",
      "[Epoch 6] Train Loss: 316.2922, Acc: 0.8796\n",
      "[Epoch 6] Val Loss: 77.3139, Val Metrics: {'MulticlassAUROC': 0.8590189814567566, 'MulticlassAUPRC': 0.6013413071632385, 'MulticlassAccuracy': 0.8789387345314026}\n",
      "[Epoch 7] Train Loss: 312.8040, Acc: 0.8797\n",
      "[Epoch 7] Val Loss: 77.6297, Val Metrics: {'MulticlassAUROC': 0.8596290946006775, 'MulticlassAUPRC': 0.6025801301002502, 'MulticlassAccuracy': 0.8780664801597595}\n",
      "[Epoch 8] Train Loss: 310.4029, Acc: 0.8805\n",
      "[Epoch 8] Val Loss: 77.0766, Val Metrics: {'MulticlassAUROC': 0.8608193397521973, 'MulticlassAUPRC': 0.6019173264503479, 'MulticlassAccuracy': 0.8787207007408142}\n",
      "[Epoch 9] Train Loss: 308.0696, Acc: 0.8810\n",
      "[Epoch 9] Val Loss: 76.7794, Val Metrics: {'MulticlassAUROC': 0.8622000217437744, 'MulticlassAUPRC': 0.6028389930725098, 'MulticlassAccuracy': 0.8786479830741882}\n"
     ]
    },
    {
     "data": {
      "text/html": [],
      "text/plain": [
       "<IPython.core.display.HTML object>"
      ]
     },
     "metadata": {},
     "output_type": "display_data"
    },
    {
     "data": {
      "text/html": [
       "<br>    <style><br>        .wandb-row {<br>            display: flex;<br>            flex-direction: row;<br>            flex-wrap: wrap;<br>            justify-content: flex-start;<br>            width: 100%;<br>        }<br>        .wandb-col {<br>            display: flex;<br>            flex-direction: column;<br>            flex-basis: 100%;<br>            flex: 1;<br>            padding: 10px;<br>        }<br>    </style><br><div class=\"wandb-row\"><div class=\"wandb-col\"><h3>Run history:</h3><br/><table class=\"wandb\"><tr><td>epoch</td><td>▁▂▃▃▄▅▆▆▇█</td></tr><tr><td>train_accuracy</td><td>▁▅▇▇▇█████</td></tr><tr><td>train_loss</td><td>█▃▃▂▂▂▁▁▁▁</td></tr><tr><td>val_MulticlassAUPRC</td><td>▁▅▆▆▇█████</td></tr><tr><td>val_MulticlassAUROC</td><td>▁▄▆▆▇▇████</td></tr><tr><td>val_MulticlassAccuracy</td><td>▁▅▇▇▇█████</td></tr><tr><td>val_loss</td><td>█▄▃▃▂▂▁▁▁▁</td></tr></table><br/></div><div class=\"wandb-col\"><h3>Run summary:</h3><br/><table class=\"wandb\"><tr><td>epoch</td><td>9</td></tr><tr><td>train_accuracy</td><td>0.88095</td></tr><tr><td>train_loss</td><td>308.06962</td></tr><tr><td>val_MulticlassAUPRC</td><td>0.60284</td></tr><tr><td>val_MulticlassAUROC</td><td>0.8622</td></tr><tr><td>val_MulticlassAccuracy</td><td>0.87865</td></tr><tr><td>val_loss</td><td>76.77937</td></tr></table><br/></div></div>"
      ],
      "text/plain": [
       "<IPython.core.display.HTML object>"
      ]
     },
     "metadata": {},
     "output_type": "display_data"
    },
    {
     "data": {
      "text/html": [
       " View run <strong style=\"color:#cdcd00\">mre_1kb_128_0.0001</strong> at: <a href='https://wandb.ai/bind-gps/BindGPS/runs/4fue6fl5' target=\"_blank\">https://wandb.ai/bind-gps/BindGPS/runs/4fue6fl5</a><br> View project at: <a href='https://wandb.ai/bind-gps/BindGPS' target=\"_blank\">https://wandb.ai/bind-gps/BindGPS</a><br>Synced 5 W&B file(s), 0 media file(s), 0 artifact file(s) and 0 other file(s)"
      ],
      "text/plain": [
       "<IPython.core.display.HTML object>"
      ]
     },
     "metadata": {},
     "output_type": "display_data"
    },
    {
     "data": {
      "text/html": [
       "Find logs at: <code>./wandb/run-20251002_142517-4fue6fl5/logs</code>"
      ],
      "text/plain": [
       "<IPython.core.display.HTML object>"
      ]
     },
     "metadata": {},
     "output_type": "display_data"
    },
    {
     "name": "stderr",
     "output_type": "stream",
     "text": [
      "\u001b[34m\u001b[1mwandb\u001b[0m: Agent Starting Run: 8lf3rjqm with config:\n",
      "\u001b[34m\u001b[1mwandb\u001b[0m: \tbatch_size: 128\n",
      "\u001b[34m\u001b[1mwandb\u001b[0m: \tepochs: 10\n",
      "\u001b[34m\u001b[1mwandb\u001b[0m: \thidden_dims: [256, 128]\n",
      "\u001b[34m\u001b[1mwandb\u001b[0m: \tlr: 0.0001\n",
      "\u001b[34m\u001b[1mwandb\u001b[0m: \tresolution: 1kb\n",
      "\u001b[34m\u001b[1mwandb\u001b[0m: \tsvd_dim: 128\n",
      "\u001b[34m\u001b[1mwandb\u001b[0m: \ttarget_metric: MulticlassAccuracy\n",
      "\u001b[34m\u001b[1mwandb\u001b[0m: \ttask: gene\n",
      "\u001b[34m\u001b[1mwandb\u001b[0m: \tweighted: True\n",
      "\u001b[34m\u001b[1mwandb\u001b[0m: \u001b[32m\u001b[41mERROR\u001b[0m Failed to detect the name of this notebook. You can set it manually with the WANDB_NOTEBOOK_NAME environment variable to enable code saving.\n"
     ]
    },
    {
     "data": {
      "text/html": [],
      "text/plain": [
       "<IPython.core.display.HTML object>"
      ]
     },
     "metadata": {},
     "output_type": "display_data"
    },
    {
     "data": {
      "text/html": [
       "Tracking run with wandb version 0.22.1"
      ],
      "text/plain": [
       "<IPython.core.display.HTML object>"
      ]
     },
     "metadata": {},
     "output_type": "display_data"
    },
    {
     "data": {
      "text/html": [
       "Run data is saved locally in <code>/oscar/data/larschan/shared_data/BindGPS/model/wandb/run-20251002_142603-8lf3rjqm</code>"
      ],
      "text/plain": [
       "<IPython.core.display.HTML object>"
      ]
     },
     "metadata": {},
     "output_type": "display_data"
    },
    {
     "data": {
      "text/html": [
       "Syncing run <strong><a href='https://wandb.ai/bind-gps/BindGPS/runs/8lf3rjqm' target=\"_blank\">fresh-sweep-91</a></strong> to <a href='https://wandb.ai/bind-gps/BindGPS' target=\"_blank\">Weights & Biases</a> (<a href='https://wandb.me/developer-guide' target=\"_blank\">docs</a>)<br>Sweep page: <a href='https://wandb.ai/bind-gps/BindGPS/sweeps/79ufxypb' target=\"_blank\">https://wandb.ai/bind-gps/BindGPS/sweeps/79ufxypb</a>"
      ],
      "text/plain": [
       "<IPython.core.display.HTML object>"
      ]
     },
     "metadata": {},
     "output_type": "display_data"
    },
    {
     "data": {
      "text/html": [
       " View project at <a href='https://wandb.ai/bind-gps/BindGPS' target=\"_blank\">https://wandb.ai/bind-gps/BindGPS</a>"
      ],
      "text/plain": [
       "<IPython.core.display.HTML object>"
      ]
     },
     "metadata": {},
     "output_type": "display_data"
    },
    {
     "data": {
      "text/html": [
       " View sweep at <a href='https://wandb.ai/bind-gps/BindGPS/sweeps/79ufxypb' target=\"_blank\">https://wandb.ai/bind-gps/BindGPS/sweeps/79ufxypb</a>"
      ],
      "text/plain": [
       "<IPython.core.display.HTML object>"
      ]
     },
     "metadata": {},
     "output_type": "display_data"
    },
    {
     "data": {
      "text/html": [
       " View run at <a href='https://wandb.ai/bind-gps/BindGPS/runs/8lf3rjqm' target=\"_blank\">https://wandb.ai/bind-gps/BindGPS/runs/8lf3rjqm</a>"
      ],
      "text/plain": [
       "<IPython.core.display.HTML object>"
      ]
     },
     "metadata": {},
     "output_type": "display_data"
    },
    {
     "name": "stderr",
     "output_type": "stream",
     "text": [
      "\u001b[34m\u001b[1mwandb\u001b[0m: \u001b[33mWARNING\u001b[0m Calling wandb.login() after wandb.init() has no effect.\n"
     ]
    },
    {
     "name": "stdout",
     "output_type": "stream",
     "text": [
      "[Epoch 0] Train Loss: 902.0095, Acc: 0.4475\n",
      "[Epoch 0] Val Loss: 213.2755, Val Metrics: {'MulticlassAUROC': 0.6874866485595703, 'MulticlassAUPRC': 0.48648786544799805, 'MulticlassAccuracy': 0.499218612909317}\n",
      "[Epoch 1] Train Loss: 866.2248, Acc: 0.4977\n",
      "[Epoch 1] Val Loss: 210.7691, Val Metrics: {'MulticlassAUROC': 0.6949415802955627, 'MulticlassAUPRC': 0.4955885112285614, 'MulticlassAccuracy': 0.4948210120201111}\n",
      "[Epoch 2] Train Loss: 854.1331, Acc: 0.5079\n",
      "[Epoch 2] Val Loss: 209.5263, Val Metrics: {'MulticlassAUROC': 0.6989994049072266, 'MulticlassAUPRC': 0.5014097094535828, 'MulticlassAccuracy': 0.49449390172958374}\n",
      "[Epoch 3] Train Loss: 848.2631, Acc: 0.5132\n",
      "[Epoch 3] Val Loss: 210.4521, Val Metrics: {'MulticlassAUROC': 0.7030137181282043, 'MulticlassAUPRC': 0.5057037472724915, 'MulticlassAccuracy': 0.49449390172958374}\n",
      "[Epoch 4] Train Loss: 842.5529, Acc: 0.5180\n",
      "[Epoch 4] Val Loss: 207.4111, Val Metrics: {'MulticlassAUROC': 0.7102252840995789, 'MulticlassAUPRC': 0.5121704936027527, 'MulticlassAccuracy': 0.5245866179466248}\n",
      "[Epoch 5] Train Loss: 837.7884, Acc: 0.5258\n",
      "[Epoch 5] Val Loss: 207.9691, Val Metrics: {'MulticlassAUROC': 0.7106618881225586, 'MulticlassAUPRC': 0.5131391286849976, 'MulticlassAccuracy': 0.5110666751861572}\n",
      "[Epoch 6] Train Loss: 833.6847, Acc: 0.5286\n",
      "[Epoch 6] Val Loss: 206.1742, Val Metrics: {'MulticlassAUROC': 0.7139070630073547, 'MulticlassAUPRC': 0.5163615345954895, 'MulticlassAccuracy': 0.5276758074760437}\n",
      "[Epoch 7] Train Loss: 830.6342, Acc: 0.5315\n",
      "[Epoch 7] Val Loss: 205.9947, Val Metrics: {'MulticlassAUROC': 0.7158749103546143, 'MulticlassAUPRC': 0.5182626247406006, 'MulticlassAccuracy': 0.5214246511459351}\n",
      "[Epoch 8] Train Loss: 828.6976, Acc: 0.5335\n",
      "[Epoch 8] Val Loss: 206.4838, Val Metrics: {'MulticlassAUROC': 0.7153782844543457, 'MulticlassAUPRC': 0.5180801153182983, 'MulticlassAccuracy': 0.5188442468643188}\n",
      "[Epoch 9] Train Loss: 825.4957, Acc: 0.5366\n",
      "[Epoch 9] Val Loss: 205.2297, Val Metrics: {'MulticlassAUROC': 0.7181970477104187, 'MulticlassAUPRC': 0.5221295952796936, 'MulticlassAccuracy': 0.5398510098457336}\n"
     ]
    },
    {
     "data": {
      "text/html": [],
      "text/plain": [
       "<IPython.core.display.HTML object>"
      ]
     },
     "metadata": {},
     "output_type": "display_data"
    },
    {
     "data": {
      "text/html": [
       "<br>    <style><br>        .wandb-row {<br>            display: flex;<br>            flex-direction: row;<br>            flex-wrap: wrap;<br>            justify-content: flex-start;<br>            width: 100%;<br>        }<br>        .wandb-col {<br>            display: flex;<br>            flex-direction: column;<br>            flex-basis: 100%;<br>            flex: 1;<br>            padding: 10px;<br>        }<br>    </style><br><div class=\"wandb-row\"><div class=\"wandb-col\"><h3>Run history:</h3><br/><table class=\"wandb\"><tr><td>epoch</td><td>▁▂▃▃▄▅▆▆▇█</td></tr><tr><td>train_accuracy</td><td>▁▅▆▆▇▇▇███</td></tr><tr><td>train_loss</td><td>█▅▄▃▃▂▂▁▁▁</td></tr><tr><td>val_MulticlassAUPRC</td><td>▁▃▄▅▆▆▇▇▇█</td></tr><tr><td>val_MulticlassAUROC</td><td>▁▃▄▅▆▆▇▇▇█</td></tr><tr><td>val_MulticlassAccuracy</td><td>▂▁▁▁▆▄▆▅▅█</td></tr><tr><td>val_loss</td><td>█▆▅▆▃▃▂▂▂▁</td></tr></table><br/></div><div class=\"wandb-col\"><h3>Run summary:</h3><br/><table class=\"wandb\"><tr><td>epoch</td><td>9</td></tr><tr><td>train_accuracy</td><td>0.5366</td></tr><tr><td>train_loss</td><td>825.49567</td></tr><tr><td>val_MulticlassAUPRC</td><td>0.52213</td></tr><tr><td>val_MulticlassAUROC</td><td>0.7182</td></tr><tr><td>val_MulticlassAccuracy</td><td>0.53985</td></tr><tr><td>val_loss</td><td>205.2297</td></tr></table><br/></div></div>"
      ],
      "text/plain": [
       "<IPython.core.display.HTML object>"
      ]
     },
     "metadata": {},
     "output_type": "display_data"
    },
    {
     "data": {
      "text/html": [
       " View run <strong style=\"color:#cdcd00\">gene_1kb_128_0.0001</strong> at: <a href='https://wandb.ai/bind-gps/BindGPS/runs/8lf3rjqm' target=\"_blank\">https://wandb.ai/bind-gps/BindGPS/runs/8lf3rjqm</a><br> View project at: <a href='https://wandb.ai/bind-gps/BindGPS' target=\"_blank\">https://wandb.ai/bind-gps/BindGPS</a><br>Synced 5 W&B file(s), 0 media file(s), 0 artifact file(s) and 0 other file(s)"
      ],
      "text/plain": [
       "<IPython.core.display.HTML object>"
      ]
     },
     "metadata": {},
     "output_type": "display_data"
    },
    {
     "data": {
      "text/html": [
       "Find logs at: <code>./wandb/run-20251002_142603-8lf3rjqm/logs</code>"
      ],
      "text/plain": [
       "<IPython.core.display.HTML object>"
      ]
     },
     "metadata": {},
     "output_type": "display_data"
    },
    {
     "name": "stderr",
     "output_type": "stream",
     "text": [
      "\u001b[34m\u001b[1mwandb\u001b[0m: Agent Starting Run: 6v8z5kh3 with config:\n",
      "\u001b[34m\u001b[1mwandb\u001b[0m: \tbatch_size: 128\n",
      "\u001b[34m\u001b[1mwandb\u001b[0m: \tepochs: 10\n",
      "\u001b[34m\u001b[1mwandb\u001b[0m: \thidden_dims: [256, 128]\n",
      "\u001b[34m\u001b[1mwandb\u001b[0m: \tlr: 0.0001\n",
      "\u001b[34m\u001b[1mwandb\u001b[0m: \tresolution: 1kb\n",
      "\u001b[34m\u001b[1mwandb\u001b[0m: \tsvd_dim: 128\n",
      "\u001b[34m\u001b[1mwandb\u001b[0m: \ttarget_metric: MulticlassAccuracy\n",
      "\u001b[34m\u001b[1mwandb\u001b[0m: \ttask: gene\n",
      "\u001b[34m\u001b[1mwandb\u001b[0m: \tweighted: False\n",
      "\u001b[34m\u001b[1mwandb\u001b[0m: \u001b[32m\u001b[41mERROR\u001b[0m Failed to detect the name of this notebook. You can set it manually with the WANDB_NOTEBOOK_NAME environment variable to enable code saving.\n"
     ]
    },
    {
     "data": {
      "text/html": [],
      "text/plain": [
       "<IPython.core.display.HTML object>"
      ]
     },
     "metadata": {},
     "output_type": "display_data"
    },
    {
     "data": {
      "text/html": [
       "Tracking run with wandb version 0.22.1"
      ],
      "text/plain": [
       "<IPython.core.display.HTML object>"
      ]
     },
     "metadata": {},
     "output_type": "display_data"
    },
    {
     "data": {
      "text/html": [
       "Run data is saved locally in <code>/oscar/data/larschan/shared_data/BindGPS/model/wandb/run-20251002_142648-6v8z5kh3</code>"
      ],
      "text/plain": [
       "<IPython.core.display.HTML object>"
      ]
     },
     "metadata": {},
     "output_type": "display_data"
    },
    {
     "data": {
      "text/html": [
       "Syncing run <strong><a href='https://wandb.ai/bind-gps/BindGPS/runs/6v8z5kh3' target=\"_blank\">super-sweep-92</a></strong> to <a href='https://wandb.ai/bind-gps/BindGPS' target=\"_blank\">Weights & Biases</a> (<a href='https://wandb.me/developer-guide' target=\"_blank\">docs</a>)<br>Sweep page: <a href='https://wandb.ai/bind-gps/BindGPS/sweeps/79ufxypb' target=\"_blank\">https://wandb.ai/bind-gps/BindGPS/sweeps/79ufxypb</a>"
      ],
      "text/plain": [
       "<IPython.core.display.HTML object>"
      ]
     },
     "metadata": {},
     "output_type": "display_data"
    },
    {
     "data": {
      "text/html": [
       " View project at <a href='https://wandb.ai/bind-gps/BindGPS' target=\"_blank\">https://wandb.ai/bind-gps/BindGPS</a>"
      ],
      "text/plain": [
       "<IPython.core.display.HTML object>"
      ]
     },
     "metadata": {},
     "output_type": "display_data"
    },
    {
     "data": {
      "text/html": [
       " View sweep at <a href='https://wandb.ai/bind-gps/BindGPS/sweeps/79ufxypb' target=\"_blank\">https://wandb.ai/bind-gps/BindGPS/sweeps/79ufxypb</a>"
      ],
      "text/plain": [
       "<IPython.core.display.HTML object>"
      ]
     },
     "metadata": {},
     "output_type": "display_data"
    },
    {
     "data": {
      "text/html": [
       " View run at <a href='https://wandb.ai/bind-gps/BindGPS/runs/6v8z5kh3' target=\"_blank\">https://wandb.ai/bind-gps/BindGPS/runs/6v8z5kh3</a>"
      ],
      "text/plain": [
       "<IPython.core.display.HTML object>"
      ]
     },
     "metadata": {},
     "output_type": "display_data"
    },
    {
     "name": "stderr",
     "output_type": "stream",
     "text": [
      "\u001b[34m\u001b[1mwandb\u001b[0m: \u001b[33mWARNING\u001b[0m Calling wandb.login() after wandb.init() has no effect.\n"
     ]
    },
    {
     "name": "stdout",
     "output_type": "stream",
     "text": [
      "[Epoch 0] Train Loss: 772.1718, Acc: 0.5848\n",
      "[Epoch 0] Val Loss: 181.9018, Val Metrics: {'MulticlassAUROC': 0.6911477446556091, 'MulticlassAUPRC': 0.48411521315574646, 'MulticlassAccuracy': 0.6166454553604126}\n",
      "[Epoch 1] Train Loss: 725.0562, Acc: 0.6111\n",
      "[Epoch 1] Val Loss: 179.2048, Val Metrics: {'MulticlassAUROC': 0.7012476921081543, 'MulticlassAUPRC': 0.4961678087711334, 'MulticlassAccuracy': 0.6198437213897705}\n",
      "[Epoch 2] Train Loss: 716.0814, Acc: 0.6177\n",
      "[Epoch 2] Val Loss: 177.7651, Val Metrics: {'MulticlassAUROC': 0.7072994112968445, 'MulticlassAUPRC': 0.5029932856559753, 'MulticlassAccuracy': 0.6223151087760925}\n",
      "[Epoch 3] Train Loss: 708.3297, Acc: 0.6229\n",
      "[Epoch 3] Val Loss: 177.0247, Val Metrics: {'MulticlassAUROC': 0.7115769982337952, 'MulticlassAUPRC': 0.5077829360961914, 'MulticlassAccuracy': 0.6239868998527527}\n",
      "[Epoch 4] Train Loss: 704.5848, Acc: 0.6252\n",
      "[Epoch 4] Val Loss: 175.8890, Val Metrics: {'MulticlassAUROC': 0.7157432436943054, 'MulticlassAUPRC': 0.5138934254646301, 'MulticlassAccuracy': 0.6261311769485474}\n",
      "[Epoch 5] Train Loss: 701.0241, Acc: 0.6273\n",
      "[Epoch 5] Val Loss: 175.3457, Val Metrics: {'MulticlassAUROC': 0.7184584736824036, 'MulticlassAUPRC': 0.5176846385002136, 'MulticlassAccuracy': 0.6294021606445312}\n",
      "[Epoch 6] Train Loss: 696.3878, Acc: 0.6311\n",
      "[Epoch 6] Val Loss: 174.7637, Val Metrics: {'MulticlassAUROC': 0.7198981642723083, 'MulticlassAUPRC': 0.5184102654457092, 'MulticlassAccuracy': 0.6304197907447815}\n",
      "[Epoch 7] Train Loss: 694.4391, Acc: 0.6309\n",
      "[Epoch 7] Val Loss: 175.0232, Val Metrics: {'MulticlassAUROC': 0.7205366492271423, 'MulticlassAUPRC': 0.5198580622673035, 'MulticlassAccuracy': 0.6309285759925842}\n",
      "[Epoch 8] Train Loss: 692.8746, Acc: 0.6319\n",
      "[Epoch 8] Val Loss: 173.5065, Val Metrics: {'MulticlassAUROC': 0.7239789962768555, 'MulticlassAUPRC': 0.5244286060333252, 'MulticlassAccuracy': 0.6318371891975403}\n",
      "[Epoch 9] Train Loss: 690.0867, Acc: 0.6344\n",
      "[Epoch 9] Val Loss: 173.4223, Val Metrics: {'MulticlassAUROC': 0.7243790030479431, 'MulticlassAUPRC': 0.5245811343193054, 'MulticlassAccuracy': 0.6320552229881287}\n"
     ]
    },
    {
     "data": {
      "text/html": [],
      "text/plain": [
       "<IPython.core.display.HTML object>"
      ]
     },
     "metadata": {},
     "output_type": "display_data"
    },
    {
     "data": {
      "text/html": [
       "<br>    <style><br>        .wandb-row {<br>            display: flex;<br>            flex-direction: row;<br>            flex-wrap: wrap;<br>            justify-content: flex-start;<br>            width: 100%;<br>        }<br>        .wandb-col {<br>            display: flex;<br>            flex-direction: column;<br>            flex-basis: 100%;<br>            flex: 1;<br>            padding: 10px;<br>        }<br>    </style><br><div class=\"wandb-row\"><div class=\"wandb-col\"><h3>Run history:</h3><br/><table class=\"wandb\"><tr><td>epoch</td><td>▁▂▃▃▄▅▆▆▇█</td></tr><tr><td>train_accuracy</td><td>▁▅▆▆▇▇████</td></tr><tr><td>train_loss</td><td>█▄▃▃▂▂▂▁▁▁</td></tr><tr><td>val_MulticlassAUPRC</td><td>▁▃▄▅▆▇▇▇██</td></tr><tr><td>val_MulticlassAUROC</td><td>▁▃▄▅▆▇▇▇██</td></tr><tr><td>val_MulticlassAccuracy</td><td>▁▂▄▄▅▇▇▇██</td></tr><tr><td>val_loss</td><td>█▆▅▄▃▃▂▂▁▁</td></tr></table><br/></div><div class=\"wandb-col\"><h3>Run summary:</h3><br/><table class=\"wandb\"><tr><td>epoch</td><td>9</td></tr><tr><td>train_accuracy</td><td>0.63441</td></tr><tr><td>train_loss</td><td>690.08675</td></tr><tr><td>val_MulticlassAUPRC</td><td>0.52458</td></tr><tr><td>val_MulticlassAUROC</td><td>0.72438</td></tr><tr><td>val_MulticlassAccuracy</td><td>0.63206</td></tr><tr><td>val_loss</td><td>173.4223</td></tr></table><br/></div></div>"
      ],
      "text/plain": [
       "<IPython.core.display.HTML object>"
      ]
     },
     "metadata": {},
     "output_type": "display_data"
    },
    {
     "data": {
      "text/html": [
       " View run <strong style=\"color:#cdcd00\">gene_1kb_128_0.0001</strong> at: <a href='https://wandb.ai/bind-gps/BindGPS/runs/6v8z5kh3' target=\"_blank\">https://wandb.ai/bind-gps/BindGPS/runs/6v8z5kh3</a><br> View project at: <a href='https://wandb.ai/bind-gps/BindGPS' target=\"_blank\">https://wandb.ai/bind-gps/BindGPS</a><br>Synced 5 W&B file(s), 0 media file(s), 0 artifact file(s) and 0 other file(s)"
      ],
      "text/plain": [
       "<IPython.core.display.HTML object>"
      ]
     },
     "metadata": {},
     "output_type": "display_data"
    },
    {
     "data": {
      "text/html": [
       "Find logs at: <code>./wandb/run-20251002_142648-6v8z5kh3/logs</code>"
      ],
      "text/plain": [
       "<IPython.core.display.HTML object>"
      ]
     },
     "metadata": {},
     "output_type": "display_data"
    },
    {
     "name": "stderr",
     "output_type": "stream",
     "text": [
      "\u001b[34m\u001b[1mwandb\u001b[0m: Agent Starting Run: bjj7onlz with config:\n",
      "\u001b[34m\u001b[1mwandb\u001b[0m: \tbatch_size: 128\n",
      "\u001b[34m\u001b[1mwandb\u001b[0m: \tepochs: 10\n",
      "\u001b[34m\u001b[1mwandb\u001b[0m: \thidden_dims: [256, 128]\n",
      "\u001b[34m\u001b[1mwandb\u001b[0m: \tlr: 0.0001\n",
      "\u001b[34m\u001b[1mwandb\u001b[0m: \tresolution: 1kb\n",
      "\u001b[34m\u001b[1mwandb\u001b[0m: \tsvd_dim: 128\n",
      "\u001b[34m\u001b[1mwandb\u001b[0m: \ttarget_metric: MulticlassAUPRC\n",
      "\u001b[34m\u001b[1mwandb\u001b[0m: \ttask: mre\n",
      "\u001b[34m\u001b[1mwandb\u001b[0m: \tweighted: True\n",
      "\u001b[34m\u001b[1mwandb\u001b[0m: \u001b[32m\u001b[41mERROR\u001b[0m Failed to detect the name of this notebook. You can set it manually with the WANDB_NOTEBOOK_NAME environment variable to enable code saving.\n"
     ]
    },
    {
     "data": {
      "text/html": [],
      "text/plain": [
       "<IPython.core.display.HTML object>"
      ]
     },
     "metadata": {},
     "output_type": "display_data"
    },
    {
     "data": {
      "text/html": [
       "Tracking run with wandb version 0.22.1"
      ],
      "text/plain": [
       "<IPython.core.display.HTML object>"
      ]
     },
     "metadata": {},
     "output_type": "display_data"
    },
    {
     "data": {
      "text/html": [
       "Run data is saved locally in <code>/oscar/data/larschan/shared_data/BindGPS/model/wandb/run-20251002_142734-bjj7onlz</code>"
      ],
      "text/plain": [
       "<IPython.core.display.HTML object>"
      ]
     },
     "metadata": {},
     "output_type": "display_data"
    },
    {
     "data": {
      "text/html": [
       "Syncing run <strong><a href='https://wandb.ai/bind-gps/BindGPS/runs/bjj7onlz' target=\"_blank\">fiery-sweep-93</a></strong> to <a href='https://wandb.ai/bind-gps/BindGPS' target=\"_blank\">Weights & Biases</a> (<a href='https://wandb.me/developer-guide' target=\"_blank\">docs</a>)<br>Sweep page: <a href='https://wandb.ai/bind-gps/BindGPS/sweeps/79ufxypb' target=\"_blank\">https://wandb.ai/bind-gps/BindGPS/sweeps/79ufxypb</a>"
      ],
      "text/plain": [
       "<IPython.core.display.HTML object>"
      ]
     },
     "metadata": {},
     "output_type": "display_data"
    },
    {
     "data": {
      "text/html": [
       " View project at <a href='https://wandb.ai/bind-gps/BindGPS' target=\"_blank\">https://wandb.ai/bind-gps/BindGPS</a>"
      ],
      "text/plain": [
       "<IPython.core.display.HTML object>"
      ]
     },
     "metadata": {},
     "output_type": "display_data"
    },
    {
     "data": {
      "text/html": [
       " View sweep at <a href='https://wandb.ai/bind-gps/BindGPS/sweeps/79ufxypb' target=\"_blank\">https://wandb.ai/bind-gps/BindGPS/sweeps/79ufxypb</a>"
      ],
      "text/plain": [
       "<IPython.core.display.HTML object>"
      ]
     },
     "metadata": {},
     "output_type": "display_data"
    },
    {
     "data": {
      "text/html": [
       " View run at <a href='https://wandb.ai/bind-gps/BindGPS/runs/bjj7onlz' target=\"_blank\">https://wandb.ai/bind-gps/BindGPS/runs/bjj7onlz</a>"
      ],
      "text/plain": [
       "<IPython.core.display.HTML object>"
      ]
     },
     "metadata": {},
     "output_type": "display_data"
    },
    {
     "name": "stderr",
     "output_type": "stream",
     "text": [
      "\u001b[34m\u001b[1mwandb\u001b[0m: \u001b[33mWARNING\u001b[0m Calling wandb.login() after wandb.init() has no effect.\n"
     ]
    },
    {
     "name": "stdout",
     "output_type": "stream",
     "text": [
      "[Epoch 0] Train Loss: 871.7475, Acc: 0.5403\n",
      "[Epoch 0] Val Loss: 199.2411, Val Metrics: {'MulticlassAUROC': 0.7568686604499817, 'MulticlassAUPRC': 0.48573580384254456, 'MulticlassAccuracy': 0.6998364329338074}\n",
      "[Epoch 1] Train Loss: 801.0364, Acc: 0.6582\n",
      "[Epoch 1] Val Loss: 191.5933, Val Metrics: {'MulticlassAUROC': 0.7846803069114685, 'MulticlassAUPRC': 0.5143346786499023, 'MulticlassAccuracy': 0.7207341194152832}\n",
      "[Epoch 2] Train Loss: 780.5683, Acc: 0.6803\n",
      "[Epoch 2] Val Loss: 187.2584, Val Metrics: {'MulticlassAUROC': 0.8021829128265381, 'MulticlassAUPRC': 0.523010790348053, 'MulticlassAccuracy': 0.7140105366706848}\n",
      "[Epoch 3] Train Loss: 759.5058, Acc: 0.6959\n",
      "[Epoch 3] Val Loss: 184.0912, Val Metrics: {'MulticlassAUROC': 0.8128509521484375, 'MulticlassAUPRC': 0.5361437797546387, 'MulticlassAccuracy': 0.743340015411377}\n",
      "[Epoch 4] Train Loss: 745.9618, Acc: 0.7110\n",
      "[Epoch 4] Val Loss: 184.8172, Val Metrics: {'MulticlassAUROC': 0.8187730312347412, 'MulticlassAUPRC': 0.5395740866661072, 'MulticlassAccuracy': 0.7144103050231934}\n",
      "[Epoch 5] Train Loss: 736.7874, Acc: 0.7175\n",
      "[Epoch 5] Val Loss: 180.6596, Val Metrics: {'MulticlassAUROC': 0.8223063349723816, 'MulticlassAUPRC': 0.5390866994857788, 'MulticlassAccuracy': 0.7430492639541626}\n",
      "[Epoch 6] Train Loss: 727.1907, Acc: 0.7238\n",
      "[Epoch 6] Val Loss: 180.3060, Val Metrics: {'MulticlassAUROC': 0.8249650001525879, 'MulticlassAUPRC': 0.5438997149467468, 'MulticlassAccuracy': 0.7357804775238037}\n",
      "[Epoch 7] Train Loss: 719.0488, Acc: 0.7318\n",
      "[Epoch 7] Val Loss: 178.7155, Val Metrics: {'MulticlassAUROC': 0.8258346915245056, 'MulticlassAUPRC': 0.5406361222267151, 'MulticlassAccuracy': 0.7346901893615723}\n",
      "[Epoch 8] Train Loss: 712.7165, Acc: 0.7305\n",
      "[Epoch 8] Val Loss: 178.1205, Val Metrics: {'MulticlassAUROC': 0.8320784568786621, 'MulticlassAUPRC': 0.5480973124504089, 'MulticlassAccuracy': 0.7550063729286194}\n",
      "[Epoch 9] Train Loss: 706.8751, Acc: 0.7386\n",
      "[Epoch 9] Val Loss: 177.5721, Val Metrics: {'MulticlassAUROC': 0.8364546895027161, 'MulticlassAUPRC': 0.5478269457817078, 'MulticlassAccuracy': 0.7474831938743591}\n"
     ]
    },
    {
     "data": {
      "text/html": [],
      "text/plain": [
       "<IPython.core.display.HTML object>"
      ]
     },
     "metadata": {},
     "output_type": "display_data"
    },
    {
     "data": {
      "text/html": [
       "<br>    <style><br>        .wandb-row {<br>            display: flex;<br>            flex-direction: row;<br>            flex-wrap: wrap;<br>            justify-content: flex-start;<br>            width: 100%;<br>        }<br>        .wandb-col {<br>            display: flex;<br>            flex-direction: column;<br>            flex-basis: 100%;<br>            flex: 1;<br>            padding: 10px;<br>        }<br>    </style><br><div class=\"wandb-row\"><div class=\"wandb-col\"><h3>Run history:</h3><br/><table class=\"wandb\"><tr><td>epoch</td><td>▁▂▃▃▄▅▆▆▇█</td></tr><tr><td>train_accuracy</td><td>▁▅▆▆▇▇▇███</td></tr><tr><td>train_loss</td><td>█▅▄▃▃▂▂▂▁▁</td></tr><tr><td>val_MulticlassAUPRC</td><td>▁▄▅▇▇▇█▇██</td></tr><tr><td>val_MulticlassAUROC</td><td>▁▃▅▆▆▇▇▇██</td></tr><tr><td>val_MulticlassAccuracy</td><td>▁▄▃▇▃▆▆▅█▇</td></tr><tr><td>val_loss</td><td>█▆▄▃▃▂▂▁▁▁</td></tr></table><br/></div><div class=\"wandb-col\"><h3>Run summary:</h3><br/><table class=\"wandb\"><tr><td>epoch</td><td>9</td></tr><tr><td>train_accuracy</td><td>0.73856</td></tr><tr><td>train_loss</td><td>706.87506</td></tr><tr><td>val_MulticlassAUPRC</td><td>0.54783</td></tr><tr><td>val_MulticlassAUROC</td><td>0.83645</td></tr><tr><td>val_MulticlassAccuracy</td><td>0.74748</td></tr><tr><td>val_loss</td><td>177.57207</td></tr></table><br/></div></div>"
      ],
      "text/plain": [
       "<IPython.core.display.HTML object>"
      ]
     },
     "metadata": {},
     "output_type": "display_data"
    },
    {
     "data": {
      "text/html": [
       " View run <strong style=\"color:#cdcd00\">mre_1kb_128_0.0001</strong> at: <a href='https://wandb.ai/bind-gps/BindGPS/runs/bjj7onlz' target=\"_blank\">https://wandb.ai/bind-gps/BindGPS/runs/bjj7onlz</a><br> View project at: <a href='https://wandb.ai/bind-gps/BindGPS' target=\"_blank\">https://wandb.ai/bind-gps/BindGPS</a><br>Synced 5 W&B file(s), 0 media file(s), 0 artifact file(s) and 0 other file(s)"
      ],
      "text/plain": [
       "<IPython.core.display.HTML object>"
      ]
     },
     "metadata": {},
     "output_type": "display_data"
    },
    {
     "data": {
      "text/html": [
       "Find logs at: <code>./wandb/run-20251002_142734-bjj7onlz/logs</code>"
      ],
      "text/plain": [
       "<IPython.core.display.HTML object>"
      ]
     },
     "metadata": {},
     "output_type": "display_data"
    },
    {
     "name": "stderr",
     "output_type": "stream",
     "text": [
      "\u001b[34m\u001b[1mwandb\u001b[0m: Agent Starting Run: c45p0owt with config:\n",
      "\u001b[34m\u001b[1mwandb\u001b[0m: \tbatch_size: 128\n",
      "\u001b[34m\u001b[1mwandb\u001b[0m: \tepochs: 10\n",
      "\u001b[34m\u001b[1mwandb\u001b[0m: \thidden_dims: [256, 128]\n",
      "\u001b[34m\u001b[1mwandb\u001b[0m: \tlr: 0.0001\n",
      "\u001b[34m\u001b[1mwandb\u001b[0m: \tresolution: 1kb\n",
      "\u001b[34m\u001b[1mwandb\u001b[0m: \tsvd_dim: 128\n",
      "\u001b[34m\u001b[1mwandb\u001b[0m: \ttarget_metric: MulticlassAUPRC\n",
      "\u001b[34m\u001b[1mwandb\u001b[0m: \ttask: mre\n",
      "\u001b[34m\u001b[1mwandb\u001b[0m: \tweighted: False\n",
      "\u001b[34m\u001b[1mwandb\u001b[0m: \u001b[32m\u001b[41mERROR\u001b[0m Failed to detect the name of this notebook. You can set it manually with the WANDB_NOTEBOOK_NAME environment variable to enable code saving.\n"
     ]
    },
    {
     "data": {
      "text/html": [],
      "text/plain": [
       "<IPython.core.display.HTML object>"
      ]
     },
     "metadata": {},
     "output_type": "display_data"
    },
    {
     "data": {
      "text/html": [
       "Tracking run with wandb version 0.22.1"
      ],
      "text/plain": [
       "<IPython.core.display.HTML object>"
      ]
     },
     "metadata": {},
     "output_type": "display_data"
    },
    {
     "data": {
      "text/html": [
       "Run data is saved locally in <code>/oscar/data/larschan/shared_data/BindGPS/model/wandb/run-20251002_142820-c45p0owt</code>"
      ],
      "text/plain": [
       "<IPython.core.display.HTML object>"
      ]
     },
     "metadata": {},
     "output_type": "display_data"
    },
    {
     "data": {
      "text/html": [
       "Syncing run <strong><a href='https://wandb.ai/bind-gps/BindGPS/runs/c45p0owt' target=\"_blank\">glowing-sweep-94</a></strong> to <a href='https://wandb.ai/bind-gps/BindGPS' target=\"_blank\">Weights & Biases</a> (<a href='https://wandb.me/developer-guide' target=\"_blank\">docs</a>)<br>Sweep page: <a href='https://wandb.ai/bind-gps/BindGPS/sweeps/79ufxypb' target=\"_blank\">https://wandb.ai/bind-gps/BindGPS/sweeps/79ufxypb</a>"
      ],
      "text/plain": [
       "<IPython.core.display.HTML object>"
      ]
     },
     "metadata": {},
     "output_type": "display_data"
    },
    {
     "data": {
      "text/html": [
       " View project at <a href='https://wandb.ai/bind-gps/BindGPS' target=\"_blank\">https://wandb.ai/bind-gps/BindGPS</a>"
      ],
      "text/plain": [
       "<IPython.core.display.HTML object>"
      ]
     },
     "metadata": {},
     "output_type": "display_data"
    },
    {
     "data": {
      "text/html": [
       " View sweep at <a href='https://wandb.ai/bind-gps/BindGPS/sweeps/79ufxypb' target=\"_blank\">https://wandb.ai/bind-gps/BindGPS/sweeps/79ufxypb</a>"
      ],
      "text/plain": [
       "<IPython.core.display.HTML object>"
      ]
     },
     "metadata": {},
     "output_type": "display_data"
    },
    {
     "data": {
      "text/html": [
       " View run at <a href='https://wandb.ai/bind-gps/BindGPS/runs/c45p0owt' target=\"_blank\">https://wandb.ai/bind-gps/BindGPS/runs/c45p0owt</a>"
      ],
      "text/plain": [
       "<IPython.core.display.HTML object>"
      ]
     },
     "metadata": {},
     "output_type": "display_data"
    },
    {
     "name": "stderr",
     "output_type": "stream",
     "text": [
      "\u001b[34m\u001b[1mwandb\u001b[0m: \u001b[33mWARNING\u001b[0m Calling wandb.login() after wandb.init() has no effect.\n"
     ]
    },
    {
     "name": "stdout",
     "output_type": "stream",
     "text": [
      "[Epoch 0] Train Loss: 519.2056, Acc: 0.7908\n",
      "[Epoch 0] Val Loss: 99.4531, Val Metrics: {'MulticlassAUROC': 0.7774559855461121, 'MulticlassAUPRC': 0.5086784958839417, 'MulticlassAccuracy': 0.8592040538787842}\n",
      "[Epoch 1] Train Loss: 363.1575, Acc: 0.8667\n",
      "[Epoch 1] Val Loss: 88.0811, Val Metrics: {'MulticlassAUROC': 0.8170010447502136, 'MulticlassAUPRC': 0.555236279964447, 'MulticlassAccuracy': 0.870507001876831}\n",
      "[Epoch 2] Train Loss: 341.8244, Acc: 0.8731\n",
      "[Epoch 2] Val Loss: 82.8525, Val Metrics: {'MulticlassAUROC': 0.8356197476387024, 'MulticlassAUPRC': 0.5792548656463623, 'MulticlassAccuracy': 0.8747591972351074}\n",
      "[Epoch 3] Train Loss: 333.0272, Acc: 0.8759\n",
      "[Epoch 3] Val Loss: 81.2967, Val Metrics: {'MulticlassAUROC': 0.8425585627555847, 'MulticlassAUPRC': 0.584663987159729, 'MulticlassAccuracy': 0.8760312795639038}\n",
      "[Epoch 4] Train Loss: 326.7995, Acc: 0.8772\n",
      "[Epoch 4] Val Loss: 80.6094, Val Metrics: {'MulticlassAUROC': 0.8456055521965027, 'MulticlassAUPRC': 0.5917498469352722, 'MulticlassAccuracy': 0.8757041692733765}\n",
      "[Epoch 5] Train Loss: 321.3276, Acc: 0.8785\n",
      "[Epoch 5] Val Loss: 80.1129, Val Metrics: {'MulticlassAUROC': 0.8502264022827148, 'MulticlassAUPRC': 0.5956642627716064, 'MulticlassAccuracy': 0.8775213360786438}\n",
      "[Epoch 6] Train Loss: 316.9794, Acc: 0.8796\n",
      "[Epoch 6] Val Loss: 78.8843, Val Metrics: {'MulticlassAUROC': 0.8515303134918213, 'MulticlassAUPRC': 0.5953347682952881, 'MulticlassAccuracy': 0.8774850368499756}\n",
      "[Epoch 7] Train Loss: 313.6075, Acc: 0.8802\n",
      "[Epoch 7] Val Loss: 77.4527, Val Metrics: {'MulticlassAUROC': 0.8574241995811462, 'MulticlassAUPRC': 0.6053031086921692, 'MulticlassAccuracy': 0.8778848052024841}\n",
      "[Epoch 8] Train Loss: 310.8347, Acc: 0.8806\n",
      "[Epoch 8] Val Loss: 78.1558, Val Metrics: {'MulticlassAUROC': 0.8553864359855652, 'MulticlassAUPRC': 0.6016567945480347, 'MulticlassAccuracy': 0.8776304125785828}\n",
      "[Epoch 9] Train Loss: 308.3453, Acc: 0.8805\n",
      "[Epoch 9] Val Loss: 78.0001, Val Metrics: {'MulticlassAUROC': 0.8595147132873535, 'MulticlassAUPRC': 0.6057634949684143, 'MulticlassAccuracy': 0.8784299492835999}\n"
     ]
    },
    {
     "data": {
      "text/html": [],
      "text/plain": [
       "<IPython.core.display.HTML object>"
      ]
     },
     "metadata": {},
     "output_type": "display_data"
    },
    {
     "data": {
      "text/html": [
       "<br>    <style><br>        .wandb-row {<br>            display: flex;<br>            flex-direction: row;<br>            flex-wrap: wrap;<br>            justify-content: flex-start;<br>            width: 100%;<br>        }<br>        .wandb-col {<br>            display: flex;<br>            flex-direction: column;<br>            flex-basis: 100%;<br>            flex: 1;<br>            padding: 10px;<br>        }<br>    </style><br><div class=\"wandb-row\"><div class=\"wandb-col\"><h3>Run history:</h3><br/><table class=\"wandb\"><tr><td>epoch</td><td>▁▂▃▃▄▅▆▆▇█</td></tr><tr><td>train_accuracy</td><td>▁▇▇███████</td></tr><tr><td>train_loss</td><td>█▃▂▂▂▁▁▁▁▁</td></tr><tr><td>val_MulticlassAUPRC</td><td>▁▄▆▆▇▇▇███</td></tr><tr><td>val_MulticlassAUROC</td><td>▁▄▆▇▇▇▇███</td></tr><tr><td>val_MulticlassAccuracy</td><td>▁▅▇▇▇█████</td></tr><tr><td>val_loss</td><td>█▄▃▂▂▂▁▁▁▁</td></tr></table><br/></div><div class=\"wandb-col\"><h3>Run summary:</h3><br/><table class=\"wandb\"><tr><td>epoch</td><td>9</td></tr><tr><td>train_accuracy</td><td>0.88047</td></tr><tr><td>train_loss</td><td>308.34529</td></tr><tr><td>val_MulticlassAUPRC</td><td>0.60576</td></tr><tr><td>val_MulticlassAUROC</td><td>0.85951</td></tr><tr><td>val_MulticlassAccuracy</td><td>0.87843</td></tr><tr><td>val_loss</td><td>78.00005</td></tr></table><br/></div></div>"
      ],
      "text/plain": [
       "<IPython.core.display.HTML object>"
      ]
     },
     "metadata": {},
     "output_type": "display_data"
    },
    {
     "data": {
      "text/html": [
       " View run <strong style=\"color:#cdcd00\">mre_1kb_128_0.0001</strong> at: <a href='https://wandb.ai/bind-gps/BindGPS/runs/c45p0owt' target=\"_blank\">https://wandb.ai/bind-gps/BindGPS/runs/c45p0owt</a><br> View project at: <a href='https://wandb.ai/bind-gps/BindGPS' target=\"_blank\">https://wandb.ai/bind-gps/BindGPS</a><br>Synced 5 W&B file(s), 0 media file(s), 0 artifact file(s) and 0 other file(s)"
      ],
      "text/plain": [
       "<IPython.core.display.HTML object>"
      ]
     },
     "metadata": {},
     "output_type": "display_data"
    },
    {
     "data": {
      "text/html": [
       "Find logs at: <code>./wandb/run-20251002_142820-c45p0owt/logs</code>"
      ],
      "text/plain": [
       "<IPython.core.display.HTML object>"
      ]
     },
     "metadata": {},
     "output_type": "display_data"
    },
    {
     "name": "stderr",
     "output_type": "stream",
     "text": [
      "\u001b[34m\u001b[1mwandb\u001b[0m: Agent Starting Run: qte6v7ym with config:\n",
      "\u001b[34m\u001b[1mwandb\u001b[0m: \tbatch_size: 128\n",
      "\u001b[34m\u001b[1mwandb\u001b[0m: \tepochs: 10\n",
      "\u001b[34m\u001b[1mwandb\u001b[0m: \thidden_dims: [256, 128]\n",
      "\u001b[34m\u001b[1mwandb\u001b[0m: \tlr: 0.0001\n",
      "\u001b[34m\u001b[1mwandb\u001b[0m: \tresolution: 1kb\n",
      "\u001b[34m\u001b[1mwandb\u001b[0m: \tsvd_dim: 128\n",
      "\u001b[34m\u001b[1mwandb\u001b[0m: \ttarget_metric: MulticlassAUPRC\n",
      "\u001b[34m\u001b[1mwandb\u001b[0m: \ttask: gene\n",
      "\u001b[34m\u001b[1mwandb\u001b[0m: \tweighted: True\n",
      "\u001b[34m\u001b[1mwandb\u001b[0m: \u001b[32m\u001b[41mERROR\u001b[0m Failed to detect the name of this notebook. You can set it manually with the WANDB_NOTEBOOK_NAME environment variable to enable code saving.\n"
     ]
    },
    {
     "data": {
      "text/html": [],
      "text/plain": [
       "<IPython.core.display.HTML object>"
      ]
     },
     "metadata": {},
     "output_type": "display_data"
    },
    {
     "data": {
      "text/html": [
       "Tracking run with wandb version 0.22.1"
      ],
      "text/plain": [
       "<IPython.core.display.HTML object>"
      ]
     },
     "metadata": {},
     "output_type": "display_data"
    },
    {
     "data": {
      "text/html": [
       "Run data is saved locally in <code>/oscar/data/larschan/shared_data/BindGPS/model/wandb/run-20251002_142906-qte6v7ym</code>"
      ],
      "text/plain": [
       "<IPython.core.display.HTML object>"
      ]
     },
     "metadata": {},
     "output_type": "display_data"
    },
    {
     "data": {
      "text/html": [
       "Syncing run <strong><a href='https://wandb.ai/bind-gps/BindGPS/runs/qte6v7ym' target=\"_blank\">sandy-sweep-95</a></strong> to <a href='https://wandb.ai/bind-gps/BindGPS' target=\"_blank\">Weights & Biases</a> (<a href='https://wandb.me/developer-guide' target=\"_blank\">docs</a>)<br>Sweep page: <a href='https://wandb.ai/bind-gps/BindGPS/sweeps/79ufxypb' target=\"_blank\">https://wandb.ai/bind-gps/BindGPS/sweeps/79ufxypb</a>"
      ],
      "text/plain": [
       "<IPython.core.display.HTML object>"
      ]
     },
     "metadata": {},
     "output_type": "display_data"
    },
    {
     "data": {
      "text/html": [
       " View project at <a href='https://wandb.ai/bind-gps/BindGPS' target=\"_blank\">https://wandb.ai/bind-gps/BindGPS</a>"
      ],
      "text/plain": [
       "<IPython.core.display.HTML object>"
      ]
     },
     "metadata": {},
     "output_type": "display_data"
    },
    {
     "data": {
      "text/html": [
       " View sweep at <a href='https://wandb.ai/bind-gps/BindGPS/sweeps/79ufxypb' target=\"_blank\">https://wandb.ai/bind-gps/BindGPS/sweeps/79ufxypb</a>"
      ],
      "text/plain": [
       "<IPython.core.display.HTML object>"
      ]
     },
     "metadata": {},
     "output_type": "display_data"
    },
    {
     "data": {
      "text/html": [
       " View run at <a href='https://wandb.ai/bind-gps/BindGPS/runs/qte6v7ym' target=\"_blank\">https://wandb.ai/bind-gps/BindGPS/runs/qte6v7ym</a>"
      ],
      "text/plain": [
       "<IPython.core.display.HTML object>"
      ]
     },
     "metadata": {},
     "output_type": "display_data"
    },
    {
     "name": "stderr",
     "output_type": "stream",
     "text": [
      "\u001b[34m\u001b[1mwandb\u001b[0m: \u001b[33mWARNING\u001b[0m Calling wandb.login() after wandb.init() has no effect.\n"
     ]
    },
    {
     "name": "stdout",
     "output_type": "stream",
     "text": [
      "[Epoch 0] Train Loss: 903.5549, Acc: 0.4520\n",
      "[Epoch 0] Val Loss: 214.0530, Val Metrics: {'MulticlassAUROC': 0.6819451451301575, 'MulticlassAUPRC': 0.4779454171657562, 'MulticlassAccuracy': 0.4942395091056824}\n",
      "[Epoch 1] Train Loss: 867.6849, Acc: 0.4953\n",
      "[Epoch 1] Val Loss: 211.3877, Val Metrics: {'MulticlassAUROC': 0.6943253874778748, 'MulticlassAUPRC': 0.4908388555049896, 'MulticlassAccuracy': 0.5012538433074951}\n",
      "[Epoch 2] Train Loss: 855.3713, Acc: 0.5036\n",
      "[Epoch 2] Val Loss: 210.4541, Val Metrics: {'MulticlassAUROC': 0.6988797187805176, 'MulticlassAUPRC': 0.4961634576320648, 'MulticlassAccuracy': 0.5009994506835938}\n",
      "[Epoch 3] Train Loss: 846.8749, Acc: 0.5116\n",
      "[Epoch 3] Val Loss: 210.1369, Val Metrics: {'MulticlassAUROC': 0.7022356986999512, 'MulticlassAUPRC': 0.499255508184433, 'MulticlassAccuracy': 0.5039069652557373}\n",
      "[Epoch 4] Train Loss: 842.3425, Acc: 0.5176\n",
      "[Epoch 4] Val Loss: 208.7715, Val Metrics: {'MulticlassAUROC': 0.7053213715553284, 'MulticlassAUPRC': 0.5023036003112793, 'MulticlassAccuracy': 0.5116845369338989}\n",
      "[Epoch 5] Train Loss: 836.5287, Acc: 0.5245\n",
      "[Epoch 5] Val Loss: 207.4624, Val Metrics: {'MulticlassAUROC': 0.7097471356391907, 'MulticlassAUPRC': 0.5074694752693176, 'MulticlassAccuracy': 0.5191713571548462}\n",
      "[Epoch 6] Train Loss: 832.8700, Acc: 0.5284\n",
      "[Epoch 6] Val Loss: 207.4393, Val Metrics: {'MulticlassAUROC': 0.7113714218139648, 'MulticlassAUPRC': 0.5085421204566956, 'MulticlassAccuracy': 0.5171724557876587}\n",
      "[Epoch 7] Train Loss: 830.6459, Acc: 0.5317\n",
      "[Epoch 7] Val Loss: 206.6804, Val Metrics: {'MulticlassAUROC': 0.7133126854896545, 'MulticlassAUPRC': 0.5098373293876648, 'MulticlassAccuracy': 0.5188079476356506}\n",
      "[Epoch 8] Train Loss: 827.9456, Acc: 0.5348\n",
      "[Epoch 8] Val Loss: 207.4531, Val Metrics: {'MulticlassAUROC': 0.7149810194969177, 'MulticlassAUPRC': 0.512563169002533, 'MulticlassAccuracy': 0.5222606062889099}\n",
      "[Epoch 9] Train Loss: 824.5920, Acc: 0.5379\n",
      "[Epoch 9] Val Loss: 205.8467, Val Metrics: {'MulticlassAUROC': 0.7147544026374817, 'MulticlassAUPRC': 0.5125542283058167, 'MulticlassAccuracy': 0.5229874849319458}\n"
     ]
    },
    {
     "data": {
      "text/html": [],
      "text/plain": [
       "<IPython.core.display.HTML object>"
      ]
     },
     "metadata": {},
     "output_type": "display_data"
    },
    {
     "data": {
      "text/html": [
       "<br>    <style><br>        .wandb-row {<br>            display: flex;<br>            flex-direction: row;<br>            flex-wrap: wrap;<br>            justify-content: flex-start;<br>            width: 100%;<br>        }<br>        .wandb-col {<br>            display: flex;<br>            flex-direction: column;<br>            flex-basis: 100%;<br>            flex: 1;<br>            padding: 10px;<br>        }<br>    </style><br><div class=\"wandb-row\"><div class=\"wandb-col\"><h3>Run history:</h3><br/><table class=\"wandb\"><tr><td>epoch</td><td>▁▂▃▃▄▅▆▆▇█</td></tr><tr><td>train_accuracy</td><td>▁▅▅▆▆▇▇▇██</td></tr><tr><td>train_loss</td><td>█▅▄▃▃▂▂▂▁▁</td></tr><tr><td>val_MulticlassAUPRC</td><td>▁▄▅▅▆▇▇▇██</td></tr><tr><td>val_MulticlassAUROC</td><td>▁▄▅▅▆▇▇███</td></tr><tr><td>val_MulticlassAccuracy</td><td>▁▃▃▃▅▇▇▇██</td></tr><tr><td>val_loss</td><td>█▆▅▅▃▂▂▂▂▁</td></tr></table><br/></div><div class=\"wandb-col\"><h3>Run summary:</h3><br/><table class=\"wandb\"><tr><td>epoch</td><td>9</td></tr><tr><td>train_accuracy</td><td>0.53792</td></tr><tr><td>train_loss</td><td>824.59203</td></tr><tr><td>val_MulticlassAUPRC</td><td>0.51255</td></tr><tr><td>val_MulticlassAUROC</td><td>0.71475</td></tr><tr><td>val_MulticlassAccuracy</td><td>0.52299</td></tr><tr><td>val_loss</td><td>205.84673</td></tr></table><br/></div></div>"
      ],
      "text/plain": [
       "<IPython.core.display.HTML object>"
      ]
     },
     "metadata": {},
     "output_type": "display_data"
    },
    {
     "data": {
      "text/html": [
       " View run <strong style=\"color:#cdcd00\">gene_1kb_128_0.0001</strong> at: <a href='https://wandb.ai/bind-gps/BindGPS/runs/qte6v7ym' target=\"_blank\">https://wandb.ai/bind-gps/BindGPS/runs/qte6v7ym</a><br> View project at: <a href='https://wandb.ai/bind-gps/BindGPS' target=\"_blank\">https://wandb.ai/bind-gps/BindGPS</a><br>Synced 5 W&B file(s), 0 media file(s), 0 artifact file(s) and 0 other file(s)"
      ],
      "text/plain": [
       "<IPython.core.display.HTML object>"
      ]
     },
     "metadata": {},
     "output_type": "display_data"
    },
    {
     "data": {
      "text/html": [
       "Find logs at: <code>./wandb/run-20251002_142906-qte6v7ym/logs</code>"
      ],
      "text/plain": [
       "<IPython.core.display.HTML object>"
      ]
     },
     "metadata": {},
     "output_type": "display_data"
    },
    {
     "name": "stderr",
     "output_type": "stream",
     "text": [
      "\u001b[34m\u001b[1mwandb\u001b[0m: Agent Starting Run: lojvy36n with config:\n",
      "\u001b[34m\u001b[1mwandb\u001b[0m: \tbatch_size: 128\n",
      "\u001b[34m\u001b[1mwandb\u001b[0m: \tepochs: 10\n",
      "\u001b[34m\u001b[1mwandb\u001b[0m: \thidden_dims: [256, 128]\n",
      "\u001b[34m\u001b[1mwandb\u001b[0m: \tlr: 0.0001\n",
      "\u001b[34m\u001b[1mwandb\u001b[0m: \tresolution: 1kb\n",
      "\u001b[34m\u001b[1mwandb\u001b[0m: \tsvd_dim: 128\n",
      "\u001b[34m\u001b[1mwandb\u001b[0m: \ttarget_metric: MulticlassAUPRC\n",
      "\u001b[34m\u001b[1mwandb\u001b[0m: \ttask: gene\n",
      "\u001b[34m\u001b[1mwandb\u001b[0m: \tweighted: False\n",
      "\u001b[34m\u001b[1mwandb\u001b[0m: \u001b[32m\u001b[41mERROR\u001b[0m Failed to detect the name of this notebook. You can set it manually with the WANDB_NOTEBOOK_NAME environment variable to enable code saving.\n"
     ]
    },
    {
     "data": {
      "text/html": [],
      "text/plain": [
       "<IPython.core.display.HTML object>"
      ]
     },
     "metadata": {},
     "output_type": "display_data"
    },
    {
     "data": {
      "text/html": [
       "Tracking run with wandb version 0.22.1"
      ],
      "text/plain": [
       "<IPython.core.display.HTML object>"
      ]
     },
     "metadata": {},
     "output_type": "display_data"
    },
    {
     "data": {
      "text/html": [
       "Run data is saved locally in <code>/oscar/data/larschan/shared_data/BindGPS/model/wandb/run-20251002_142952-lojvy36n</code>"
      ],
      "text/plain": [
       "<IPython.core.display.HTML object>"
      ]
     },
     "metadata": {},
     "output_type": "display_data"
    },
    {
     "data": {
      "text/html": [
       "Syncing run <strong><a href='https://wandb.ai/bind-gps/BindGPS/runs/lojvy36n' target=\"_blank\">dainty-sweep-96</a></strong> to <a href='https://wandb.ai/bind-gps/BindGPS' target=\"_blank\">Weights & Biases</a> (<a href='https://wandb.me/developer-guide' target=\"_blank\">docs</a>)<br>Sweep page: <a href='https://wandb.ai/bind-gps/BindGPS/sweeps/79ufxypb' target=\"_blank\">https://wandb.ai/bind-gps/BindGPS/sweeps/79ufxypb</a>"
      ],
      "text/plain": [
       "<IPython.core.display.HTML object>"
      ]
     },
     "metadata": {},
     "output_type": "display_data"
    },
    {
     "data": {
      "text/html": [
       " View project at <a href='https://wandb.ai/bind-gps/BindGPS' target=\"_blank\">https://wandb.ai/bind-gps/BindGPS</a>"
      ],
      "text/plain": [
       "<IPython.core.display.HTML object>"
      ]
     },
     "metadata": {},
     "output_type": "display_data"
    },
    {
     "data": {
      "text/html": [
       " View sweep at <a href='https://wandb.ai/bind-gps/BindGPS/sweeps/79ufxypb' target=\"_blank\">https://wandb.ai/bind-gps/BindGPS/sweeps/79ufxypb</a>"
      ],
      "text/plain": [
       "<IPython.core.display.HTML object>"
      ]
     },
     "metadata": {},
     "output_type": "display_data"
    },
    {
     "data": {
      "text/html": [
       " View run at <a href='https://wandb.ai/bind-gps/BindGPS/runs/lojvy36n' target=\"_blank\">https://wandb.ai/bind-gps/BindGPS/runs/lojvy36n</a>"
      ],
      "text/plain": [
       "<IPython.core.display.HTML object>"
      ]
     },
     "metadata": {},
     "output_type": "display_data"
    },
    {
     "name": "stderr",
     "output_type": "stream",
     "text": [
      "\u001b[34m\u001b[1mwandb\u001b[0m: \u001b[33mWARNING\u001b[0m Calling wandb.login() after wandb.init() has no effect.\n"
     ]
    },
    {
     "name": "stdout",
     "output_type": "stream",
     "text": [
      "[Epoch 0] Train Loss: 766.1026, Acc: 0.5951\n",
      "[Epoch 0] Val Loss: 180.7698, Val Metrics: {'MulticlassAUROC': 0.693306028842926, 'MulticlassAUPRC': 0.48116445541381836, 'MulticlassAccuracy': 0.6179174780845642}\n",
      "[Epoch 1] Train Loss: 723.4398, Acc: 0.6112\n",
      "[Epoch 1] Val Loss: 178.4405, Val Metrics: {'MulticlassAUROC': 0.7049506306648254, 'MulticlassAUPRC': 0.49635079503059387, 'MulticlassAccuracy': 0.6255496740341187}\n",
      "[Epoch 2] Train Loss: 715.0412, Acc: 0.6187\n",
      "[Epoch 2] Val Loss: 177.3148, Val Metrics: {'MulticlassAUROC': 0.7097506523132324, 'MulticlassAUPRC': 0.5028342604637146, 'MulticlassAccuracy': 0.6272578835487366}\n",
      "[Epoch 3] Train Loss: 708.2149, Acc: 0.6206\n",
      "[Epoch 3] Val Loss: 176.5659, Val Metrics: {'MulticlassAUROC': 0.7141987681388855, 'MulticlassAUPRC': 0.5080278515815735, 'MulticlassAccuracy': 0.6305288076400757}\n",
      "[Epoch 4] Train Loss: 703.8778, Acc: 0.6238\n",
      "[Epoch 4] Val Loss: 176.5313, Val Metrics: {'MulticlassAUROC': 0.7160661220550537, 'MulticlassAUPRC': 0.5103673934936523, 'MulticlassAccuracy': 0.6305288076400757}\n",
      "[Epoch 5] Train Loss: 700.4687, Acc: 0.6265\n",
      "[Epoch 5] Val Loss: 174.4799, Val Metrics: {'MulticlassAUROC': 0.7200211882591248, 'MulticlassAUPRC': 0.5156459212303162, 'MulticlassAccuracy': 0.6330001950263977}\n",
      "[Epoch 6] Train Loss: 696.5783, Acc: 0.6298\n",
      "[Epoch 6] Val Loss: 174.5296, Val Metrics: {'MulticlassAUROC': 0.7218784689903259, 'MulticlassAUPRC': 0.5181123614311218, 'MulticlassAccuracy': 0.6345629692077637}\n",
      "[Epoch 7] Train Loss: 694.2714, Acc: 0.6301\n",
      "[Epoch 7] Val Loss: 175.2315, Val Metrics: {'MulticlassAUROC': 0.7218405604362488, 'MulticlassAUPRC': 0.5183115601539612, 'MulticlassAccuracy': 0.6349627375602722}\n",
      "[Epoch 8] Train Loss: 692.3971, Acc: 0.6314\n",
      "[Epoch 8] Val Loss: 174.3349, Val Metrics: {'MulticlassAUROC': 0.7245994210243225, 'MulticlassAUPRC': 0.5221173763275146, 'MulticlassAccuracy': 0.6365255117416382}\n",
      "[Epoch 9] Train Loss: 689.4439, Acc: 0.6331\n",
      "[Epoch 9] Val Loss: 172.3141, Val Metrics: {'MulticlassAUROC': 0.7265851497650146, 'MulticlassAUPRC': 0.5242381691932678, 'MulticlassAccuracy': 0.6369979977607727}\n"
     ]
    },
    {
     "data": {
      "text/html": [],
      "text/plain": [
       "<IPython.core.display.HTML object>"
      ]
     },
     "metadata": {},
     "output_type": "display_data"
    },
    {
     "data": {
      "text/html": [
       "<br>    <style><br>        .wandb-row {<br>            display: flex;<br>            flex-direction: row;<br>            flex-wrap: wrap;<br>            justify-content: flex-start;<br>            width: 100%;<br>        }<br>        .wandb-col {<br>            display: flex;<br>            flex-direction: column;<br>            flex-basis: 100%;<br>            flex: 1;<br>            padding: 10px;<br>        }<br>    </style><br><div class=\"wandb-row\"><div class=\"wandb-col\"><h3>Run history:</h3><br/><table class=\"wandb\"><tr><td>epoch</td><td>▁▂▃▃▄▅▆▆▇█</td></tr><tr><td>train_accuracy</td><td>▁▄▅▆▆▇▇▇██</td></tr><tr><td>train_loss</td><td>█▄▃▃▂▂▂▁▁▁</td></tr><tr><td>val_MulticlassAUPRC</td><td>▁▃▅▅▆▇▇▇██</td></tr><tr><td>val_MulticlassAUROC</td><td>▁▃▄▅▆▇▇▇██</td></tr><tr><td>val_MulticlassAccuracy</td><td>▁▄▄▆▆▇▇▇██</td></tr><tr><td>val_loss</td><td>█▆▅▅▄▃▃▃▃▁</td></tr></table><br/></div><div class=\"wandb-col\"><h3>Run summary:</h3><br/><table class=\"wandb\"><tr><td>epoch</td><td>9</td></tr><tr><td>train_accuracy</td><td>0.63311</td></tr><tr><td>train_loss</td><td>689.44389</td></tr><tr><td>val_MulticlassAUPRC</td><td>0.52424</td></tr><tr><td>val_MulticlassAUROC</td><td>0.72659</td></tr><tr><td>val_MulticlassAccuracy</td><td>0.637</td></tr><tr><td>val_loss</td><td>172.31409</td></tr></table><br/></div></div>"
      ],
      "text/plain": [
       "<IPython.core.display.HTML object>"
      ]
     },
     "metadata": {},
     "output_type": "display_data"
    },
    {
     "data": {
      "text/html": [
       " View run <strong style=\"color:#cdcd00\">gene_1kb_128_0.0001</strong> at: <a href='https://wandb.ai/bind-gps/BindGPS/runs/lojvy36n' target=\"_blank\">https://wandb.ai/bind-gps/BindGPS/runs/lojvy36n</a><br> View project at: <a href='https://wandb.ai/bind-gps/BindGPS' target=\"_blank\">https://wandb.ai/bind-gps/BindGPS</a><br>Synced 5 W&B file(s), 0 media file(s), 0 artifact file(s) and 0 other file(s)"
      ],
      "text/plain": [
       "<IPython.core.display.HTML object>"
      ]
     },
     "metadata": {},
     "output_type": "display_data"
    },
    {
     "data": {
      "text/html": [
       "Find logs at: <code>./wandb/run-20251002_142952-lojvy36n/logs</code>"
      ],
      "text/plain": [
       "<IPython.core.display.HTML object>"
      ]
     },
     "metadata": {},
     "output_type": "display_data"
    },
    {
     "name": "stderr",
     "output_type": "stream",
     "text": [
      "\u001b[34m\u001b[1mwandb\u001b[0m: Agent Starting Run: aboa2c6s with config:\n",
      "\u001b[34m\u001b[1mwandb\u001b[0m: \tbatch_size: 128\n",
      "\u001b[34m\u001b[1mwandb\u001b[0m: \tepochs: 10\n",
      "\u001b[34m\u001b[1mwandb\u001b[0m: \thidden_dims: [256, 128]\n",
      "\u001b[34m\u001b[1mwandb\u001b[0m: \tlr: 0.0001\n",
      "\u001b[34m\u001b[1mwandb\u001b[0m: \tresolution: 1kb\n",
      "\u001b[34m\u001b[1mwandb\u001b[0m: \tsvd_dim: 256\n",
      "\u001b[34m\u001b[1mwandb\u001b[0m: \ttarget_metric: MulticlassAUROC\n",
      "\u001b[34m\u001b[1mwandb\u001b[0m: \ttask: mre\n",
      "\u001b[34m\u001b[1mwandb\u001b[0m: \tweighted: True\n",
      "\u001b[34m\u001b[1mwandb\u001b[0m: \u001b[32m\u001b[41mERROR\u001b[0m Failed to detect the name of this notebook. You can set it manually with the WANDB_NOTEBOOK_NAME environment variable to enable code saving.\n"
     ]
    },
    {
     "data": {
      "text/html": [],
      "text/plain": [
       "<IPython.core.display.HTML object>"
      ]
     },
     "metadata": {},
     "output_type": "display_data"
    },
    {
     "data": {
      "text/html": [
       "Tracking run with wandb version 0.22.1"
      ],
      "text/plain": [
       "<IPython.core.display.HTML object>"
      ]
     },
     "metadata": {},
     "output_type": "display_data"
    },
    {
     "data": {
      "text/html": [
       "Run data is saved locally in <code>/oscar/data/larschan/shared_data/BindGPS/model/wandb/run-20251002_143038-aboa2c6s</code>"
      ],
      "text/plain": [
       "<IPython.core.display.HTML object>"
      ]
     },
     "metadata": {},
     "output_type": "display_data"
    },
    {
     "data": {
      "text/html": [
       "Syncing run <strong><a href='https://wandb.ai/bind-gps/BindGPS/runs/aboa2c6s' target=\"_blank\">expert-sweep-97</a></strong> to <a href='https://wandb.ai/bind-gps/BindGPS' target=\"_blank\">Weights & Biases</a> (<a href='https://wandb.me/developer-guide' target=\"_blank\">docs</a>)<br>Sweep page: <a href='https://wandb.ai/bind-gps/BindGPS/sweeps/79ufxypb' target=\"_blank\">https://wandb.ai/bind-gps/BindGPS/sweeps/79ufxypb</a>"
      ],
      "text/plain": [
       "<IPython.core.display.HTML object>"
      ]
     },
     "metadata": {},
     "output_type": "display_data"
    },
    {
     "data": {
      "text/html": [
       " View project at <a href='https://wandb.ai/bind-gps/BindGPS' target=\"_blank\">https://wandb.ai/bind-gps/BindGPS</a>"
      ],
      "text/plain": [
       "<IPython.core.display.HTML object>"
      ]
     },
     "metadata": {},
     "output_type": "display_data"
    },
    {
     "data": {
      "text/html": [
       " View sweep at <a href='https://wandb.ai/bind-gps/BindGPS/sweeps/79ufxypb' target=\"_blank\">https://wandb.ai/bind-gps/BindGPS/sweeps/79ufxypb</a>"
      ],
      "text/plain": [
       "<IPython.core.display.HTML object>"
      ]
     },
     "metadata": {},
     "output_type": "display_data"
    },
    {
     "data": {
      "text/html": [
       " View run at <a href='https://wandb.ai/bind-gps/BindGPS/runs/aboa2c6s' target=\"_blank\">https://wandb.ai/bind-gps/BindGPS/runs/aboa2c6s</a>"
      ],
      "text/plain": [
       "<IPython.core.display.HTML object>"
      ]
     },
     "metadata": {},
     "output_type": "display_data"
    },
    {
     "name": "stderr",
     "output_type": "stream",
     "text": [
      "\u001b[34m\u001b[1mwandb\u001b[0m: \u001b[33mWARNING\u001b[0m Calling wandb.login() after wandb.init() has no effect.\n"
     ]
    },
    {
     "name": "stdout",
     "output_type": "stream",
     "text": [
      "[Epoch 0] Train Loss: 874.4502, Acc: 0.5547\n",
      "[Epoch 0] Val Loss: 196.9390, Val Metrics: {'MulticlassAUROC': 0.7702469825744629, 'MulticlassAUPRC': 0.49239253997802734, 'MulticlassAccuracy': 0.687552273273468}\n",
      "[Epoch 1] Train Loss: 783.7812, Acc: 0.6775\n",
      "[Epoch 1] Val Loss: 184.9265, Val Metrics: {'MulticlassAUROC': 0.8055389523506165, 'MulticlassAUPRC': 0.524029552936554, 'MulticlassAccuracy': 0.7016536593437195}\n",
      "[Epoch 2] Train Loss: 748.5764, Acc: 0.7054\n",
      "[Epoch 2] Val Loss: 179.8901, Val Metrics: {'MulticlassAUROC': 0.8222432136535645, 'MulticlassAUPRC': 0.5405216217041016, 'MulticlassAccuracy': 0.7427585124969482}\n",
      "[Epoch 3] Train Loss: 725.4094, Acc: 0.7178\n",
      "[Epoch 3] Val Loss: 176.1785, Val Metrics: {'MulticlassAUROC': 0.8297966122627258, 'MulticlassAUPRC': 0.545306384563446, 'MulticlassAccuracy': 0.7405415177345276}\n",
      "[Epoch 4] Train Loss: 707.1941, Acc: 0.7300\n",
      "[Epoch 4] Val Loss: 175.2857, Val Metrics: {'MulticlassAUROC': 0.8357610702514648, 'MulticlassAUPRC': 0.5517781972885132, 'MulticlassAccuracy': 0.7487552165985107}\n",
      "[Epoch 5] Train Loss: 694.8702, Acc: 0.7361\n",
      "[Epoch 5] Val Loss: 173.7529, Val Metrics: {'MulticlassAUROC': 0.8417999148368835, 'MulticlassAUPRC': 0.5594185590744019, 'MulticlassAccuracy': 0.7787752151489258}\n",
      "[Epoch 6] Train Loss: 683.5283, Acc: 0.7419\n",
      "[Epoch 6] Val Loss: 172.4574, Val Metrics: {'MulticlassAUROC': 0.8399590849876404, 'MulticlassAUPRC': 0.5517489910125732, 'MulticlassAccuracy': 0.7535162568092346}\n",
      "[Epoch 7] Train Loss: 669.9667, Acc: 0.7461\n",
      "[Epoch 7] Val Loss: 171.3250, Val Metrics: {'MulticlassAUROC': 0.839299738407135, 'MulticlassAUPRC': 0.5500989556312561, 'MulticlassAccuracy': 0.7476285696029663}\n",
      "[Epoch 8] Train Loss: 663.1665, Acc: 0.7474\n",
      "[Epoch 8] Val Loss: 170.7730, Val Metrics: {'MulticlassAUROC': 0.8393084406852722, 'MulticlassAUPRC': 0.5504873394966125, 'MulticlassAccuracy': 0.749809205532074}\n",
      "[Epoch 9] Train Loss: 654.1729, Acc: 0.7518\n",
      "[Epoch 9] Val Loss: 170.0483, Val Metrics: {'MulticlassAUROC': 0.8421122431755066, 'MulticlassAUPRC': 0.5525822043418884, 'MulticlassAccuracy': 0.7465745806694031}\n"
     ]
    },
    {
     "data": {
      "text/html": [],
      "text/plain": [
       "<IPython.core.display.HTML object>"
      ]
     },
     "metadata": {},
     "output_type": "display_data"
    },
    {
     "data": {
      "text/html": [
       "<br>    <style><br>        .wandb-row {<br>            display: flex;<br>            flex-direction: row;<br>            flex-wrap: wrap;<br>            justify-content: flex-start;<br>            width: 100%;<br>        }<br>        .wandb-col {<br>            display: flex;<br>            flex-direction: column;<br>            flex-basis: 100%;<br>            flex: 1;<br>            padding: 10px;<br>        }<br>    </style><br><div class=\"wandb-row\"><div class=\"wandb-col\"><h3>Run history:</h3><br/><table class=\"wandb\"><tr><td>epoch</td><td>▁▂▃▃▄▅▆▆▇█</td></tr><tr><td>train_accuracy</td><td>▁▅▆▇▇▇████</td></tr><tr><td>train_loss</td><td>█▅▄▃▃▂▂▂▁▁</td></tr><tr><td>val_MulticlassAUPRC</td><td>▁▄▆▇▇█▇▇▇▇</td></tr><tr><td>val_MulticlassAUROC</td><td>▁▄▆▇▇█████</td></tr><tr><td>val_MulticlassAccuracy</td><td>▁▂▅▅▆█▆▆▆▆</td></tr><tr><td>val_loss</td><td>█▅▄▃▂▂▂▁▁▁</td></tr></table><br/></div><div class=\"wandb-col\"><h3>Run summary:</h3><br/><table class=\"wandb\"><tr><td>epoch</td><td>9</td></tr><tr><td>train_accuracy</td><td>0.75185</td></tr><tr><td>train_loss</td><td>654.17294</td></tr><tr><td>val_MulticlassAUPRC</td><td>0.55258</td></tr><tr><td>val_MulticlassAUROC</td><td>0.84211</td></tr><tr><td>val_MulticlassAccuracy</td><td>0.74657</td></tr><tr><td>val_loss</td><td>170.04832</td></tr></table><br/></div></div>"
      ],
      "text/plain": [
       "<IPython.core.display.HTML object>"
      ]
     },
     "metadata": {},
     "output_type": "display_data"
    },
    {
     "data": {
      "text/html": [
       " View run <strong style=\"color:#cdcd00\">mre_1kb_256_0.0001</strong> at: <a href='https://wandb.ai/bind-gps/BindGPS/runs/aboa2c6s' target=\"_blank\">https://wandb.ai/bind-gps/BindGPS/runs/aboa2c6s</a><br> View project at: <a href='https://wandb.ai/bind-gps/BindGPS' target=\"_blank\">https://wandb.ai/bind-gps/BindGPS</a><br>Synced 5 W&B file(s), 0 media file(s), 0 artifact file(s) and 0 other file(s)"
      ],
      "text/plain": [
       "<IPython.core.display.HTML object>"
      ]
     },
     "metadata": {},
     "output_type": "display_data"
    },
    {
     "data": {
      "text/html": [
       "Find logs at: <code>./wandb/run-20251002_143038-aboa2c6s/logs</code>"
      ],
      "text/plain": [
       "<IPython.core.display.HTML object>"
      ]
     },
     "metadata": {},
     "output_type": "display_data"
    },
    {
     "name": "stderr",
     "output_type": "stream",
     "text": [
      "\u001b[34m\u001b[1mwandb\u001b[0m: Agent Starting Run: 872hqduo with config:\n",
      "\u001b[34m\u001b[1mwandb\u001b[0m: \tbatch_size: 128\n",
      "\u001b[34m\u001b[1mwandb\u001b[0m: \tepochs: 10\n",
      "\u001b[34m\u001b[1mwandb\u001b[0m: \thidden_dims: [256, 128]\n",
      "\u001b[34m\u001b[1mwandb\u001b[0m: \tlr: 0.0001\n",
      "\u001b[34m\u001b[1mwandb\u001b[0m: \tresolution: 1kb\n",
      "\u001b[34m\u001b[1mwandb\u001b[0m: \tsvd_dim: 256\n",
      "\u001b[34m\u001b[1mwandb\u001b[0m: \ttarget_metric: MulticlassAUROC\n",
      "\u001b[34m\u001b[1mwandb\u001b[0m: \ttask: mre\n",
      "\u001b[34m\u001b[1mwandb\u001b[0m: \tweighted: False\n",
      "\u001b[34m\u001b[1mwandb\u001b[0m: \u001b[32m\u001b[41mERROR\u001b[0m Failed to detect the name of this notebook. You can set it manually with the WANDB_NOTEBOOK_NAME environment variable to enable code saving.\n"
     ]
    },
    {
     "data": {
      "text/html": [],
      "text/plain": [
       "<IPython.core.display.HTML object>"
      ]
     },
     "metadata": {},
     "output_type": "display_data"
    },
    {
     "data": {
      "text/html": [
       "Tracking run with wandb version 0.22.1"
      ],
      "text/plain": [
       "<IPython.core.display.HTML object>"
      ]
     },
     "metadata": {},
     "output_type": "display_data"
    },
    {
     "data": {
      "text/html": [
       "Run data is saved locally in <code>/oscar/data/larschan/shared_data/BindGPS/model/wandb/run-20251002_143124-872hqduo</code>"
      ],
      "text/plain": [
       "<IPython.core.display.HTML object>"
      ]
     },
     "metadata": {},
     "output_type": "display_data"
    },
    {
     "data": {
      "text/html": [
       "Syncing run <strong><a href='https://wandb.ai/bind-gps/BindGPS/runs/872hqduo' target=\"_blank\">swept-sweep-98</a></strong> to <a href='https://wandb.ai/bind-gps/BindGPS' target=\"_blank\">Weights & Biases</a> (<a href='https://wandb.me/developer-guide' target=\"_blank\">docs</a>)<br>Sweep page: <a href='https://wandb.ai/bind-gps/BindGPS/sweeps/79ufxypb' target=\"_blank\">https://wandb.ai/bind-gps/BindGPS/sweeps/79ufxypb</a>"
      ],
      "text/plain": [
       "<IPython.core.display.HTML object>"
      ]
     },
     "metadata": {},
     "output_type": "display_data"
    },
    {
     "data": {
      "text/html": [
       " View project at <a href='https://wandb.ai/bind-gps/BindGPS' target=\"_blank\">https://wandb.ai/bind-gps/BindGPS</a>"
      ],
      "text/plain": [
       "<IPython.core.display.HTML object>"
      ]
     },
     "metadata": {},
     "output_type": "display_data"
    },
    {
     "data": {
      "text/html": [
       " View sweep at <a href='https://wandb.ai/bind-gps/BindGPS/sweeps/79ufxypb' target=\"_blank\">https://wandb.ai/bind-gps/BindGPS/sweeps/79ufxypb</a>"
      ],
      "text/plain": [
       "<IPython.core.display.HTML object>"
      ]
     },
     "metadata": {},
     "output_type": "display_data"
    },
    {
     "data": {
      "text/html": [
       " View run at <a href='https://wandb.ai/bind-gps/BindGPS/runs/872hqduo' target=\"_blank\">https://wandb.ai/bind-gps/BindGPS/runs/872hqduo</a>"
      ],
      "text/plain": [
       "<IPython.core.display.HTML object>"
      ]
     },
     "metadata": {},
     "output_type": "display_data"
    },
    {
     "name": "stderr",
     "output_type": "stream",
     "text": [
      "\u001b[34m\u001b[1mwandb\u001b[0m: \u001b[33mWARNING\u001b[0m Calling wandb.login() after wandb.init() has no effect.\n"
     ]
    },
    {
     "name": "stdout",
     "output_type": "stream",
     "text": [
      "[Epoch 0] Train Loss: 480.9674, Acc: 0.8205\n",
      "[Epoch 0] Val Loss: 91.6158, Val Metrics: {'MulticlassAUROC': 0.8134179711341858, 'MulticlassAUPRC': 0.5420981645584106, 'MulticlassAccuracy': 0.8678902387619019}\n",
      "[Epoch 1] Train Loss: 344.1334, Acc: 0.8706\n",
      "[Epoch 1] Val Loss: 82.0936, Val Metrics: {'MulticlassAUROC': 0.8404839038848877, 'MulticlassAUPRC': 0.5795915126800537, 'MulticlassAccuracy': 0.8784663081169128}\n",
      "[Epoch 2] Train Loss: 324.4291, Acc: 0.8765\n",
      "[Epoch 2] Val Loss: 77.8355, Val Metrics: {'MulticlassAUROC': 0.8515788912773132, 'MulticlassAUPRC': 0.5981453061103821, 'MulticlassAccuracy': 0.8816282153129578}\n",
      "[Epoch 3] Train Loss: 314.5857, Acc: 0.8797\n",
      "[Epoch 3] Val Loss: 76.9231, Val Metrics: {'MulticlassAUROC': 0.8571919798851013, 'MulticlassAUPRC': 0.6040920615196228, 'MulticlassAccuracy': 0.882573127746582}\n",
      "[Epoch 4] Train Loss: 306.5516, Acc: 0.8816\n",
      "[Epoch 4] Val Loss: 75.6152, Val Metrics: {'MulticlassAUROC': 0.8632605671882629, 'MulticlassAUPRC': 0.6119435429573059, 'MulticlassAccuracy': 0.8847174048423767}\n",
      "[Epoch 5] Train Loss: 301.7961, Acc: 0.8823\n",
      "[Epoch 5] Val Loss: 74.6424, Val Metrics: {'MulticlassAUROC': 0.8661899566650391, 'MulticlassAUPRC': 0.6150093674659729, 'MulticlassAccuracy': 0.8849718570709229}\n",
      "[Epoch 6] Train Loss: 296.1853, Acc: 0.8846\n",
      "[Epoch 6] Val Loss: 74.6912, Val Metrics: {'MulticlassAUROC': 0.868257999420166, 'MulticlassAUPRC': 0.619163990020752, 'MulticlassAccuracy': 0.8858441114425659}\n",
      "[Epoch 7] Train Loss: 292.3779, Acc: 0.8855\n",
      "[Epoch 7] Val Loss: 73.9089, Val Metrics: {'MulticlassAUROC': 0.8692717552185059, 'MulticlassAUPRC': 0.6181899905204773, 'MulticlassAccuracy': 0.8857713937759399}\n",
      "[Epoch 8] Train Loss: 290.4934, Acc: 0.8853\n",
      "[Epoch 8] Val Loss: 74.4649, Val Metrics: {'MulticlassAUROC': 0.870278537273407, 'MulticlassAUPRC': 0.6175867915153503, 'MulticlassAccuracy': 0.8863892555236816}\n",
      "[Epoch 9] Train Loss: 284.9009, Acc: 0.8864\n",
      "[Epoch 9] Val Loss: 73.2591, Val Metrics: {'MulticlassAUROC': 0.8722184300422668, 'MulticlassAUPRC': 0.620736300945282, 'MulticlassAccuracy': 0.8869343996047974}\n"
     ]
    },
    {
     "data": {
      "text/html": [],
      "text/plain": [
       "<IPython.core.display.HTML object>"
      ]
     },
     "metadata": {},
     "output_type": "display_data"
    },
    {
     "data": {
      "text/html": [
       "<br>    <style><br>        .wandb-row {<br>            display: flex;<br>            flex-direction: row;<br>            flex-wrap: wrap;<br>            justify-content: flex-start;<br>            width: 100%;<br>        }<br>        .wandb-col {<br>            display: flex;<br>            flex-direction: column;<br>            flex-basis: 100%;<br>            flex: 1;<br>            padding: 10px;<br>        }<br>    </style><br><div class=\"wandb-row\"><div class=\"wandb-col\"><h3>Run history:</h3><br/><table class=\"wandb\"><tr><td>epoch</td><td>▁▂▃▃▄▅▆▆▇█</td></tr><tr><td>train_accuracy</td><td>▁▆▇▇▇█████</td></tr><tr><td>train_loss</td><td>█▃▂▂▂▂▁▁▁▁</td></tr><tr><td>val_MulticlassAUPRC</td><td>▁▄▆▇▇▇████</td></tr><tr><td>val_MulticlassAUROC</td><td>▁▄▆▆▇▇████</td></tr><tr><td>val_MulticlassAccuracy</td><td>▁▅▆▆▇▇████</td></tr><tr><td>val_loss</td><td>█▄▃▂▂▂▂▁▁▁</td></tr></table><br/></div><div class=\"wandb-col\"><h3>Run summary:</h3><br/><table class=\"wandb\"><tr><td>epoch</td><td>9</td></tr><tr><td>train_accuracy</td><td>0.88645</td></tr><tr><td>train_loss</td><td>284.90091</td></tr><tr><td>val_MulticlassAUPRC</td><td>0.62074</td></tr><tr><td>val_MulticlassAUROC</td><td>0.87222</td></tr><tr><td>val_MulticlassAccuracy</td><td>0.88693</td></tr><tr><td>val_loss</td><td>73.25914</td></tr></table><br/></div></div>"
      ],
      "text/plain": [
       "<IPython.core.display.HTML object>"
      ]
     },
     "metadata": {},
     "output_type": "display_data"
    },
    {
     "data": {
      "text/html": [
       " View run <strong style=\"color:#cdcd00\">mre_1kb_256_0.0001</strong> at: <a href='https://wandb.ai/bind-gps/BindGPS/runs/872hqduo' target=\"_blank\">https://wandb.ai/bind-gps/BindGPS/runs/872hqduo</a><br> View project at: <a href='https://wandb.ai/bind-gps/BindGPS' target=\"_blank\">https://wandb.ai/bind-gps/BindGPS</a><br>Synced 5 W&B file(s), 0 media file(s), 0 artifact file(s) and 0 other file(s)"
      ],
      "text/plain": [
       "<IPython.core.display.HTML object>"
      ]
     },
     "metadata": {},
     "output_type": "display_data"
    },
    {
     "data": {
      "text/html": [
       "Find logs at: <code>./wandb/run-20251002_143124-872hqduo/logs</code>"
      ],
      "text/plain": [
       "<IPython.core.display.HTML object>"
      ]
     },
     "metadata": {},
     "output_type": "display_data"
    },
    {
     "name": "stderr",
     "output_type": "stream",
     "text": [
      "\u001b[34m\u001b[1mwandb\u001b[0m: Agent Starting Run: f4bs7r96 with config:\n",
      "\u001b[34m\u001b[1mwandb\u001b[0m: \tbatch_size: 128\n",
      "\u001b[34m\u001b[1mwandb\u001b[0m: \tepochs: 10\n",
      "\u001b[34m\u001b[1mwandb\u001b[0m: \thidden_dims: [256, 128]\n",
      "\u001b[34m\u001b[1mwandb\u001b[0m: \tlr: 0.0001\n",
      "\u001b[34m\u001b[1mwandb\u001b[0m: \tresolution: 1kb\n",
      "\u001b[34m\u001b[1mwandb\u001b[0m: \tsvd_dim: 256\n",
      "\u001b[34m\u001b[1mwandb\u001b[0m: \ttarget_metric: MulticlassAUROC\n",
      "\u001b[34m\u001b[1mwandb\u001b[0m: \ttask: gene\n",
      "\u001b[34m\u001b[1mwandb\u001b[0m: \tweighted: True\n",
      "\u001b[34m\u001b[1mwandb\u001b[0m: \u001b[32m\u001b[41mERROR\u001b[0m Failed to detect the name of this notebook. You can set it manually with the WANDB_NOTEBOOK_NAME environment variable to enable code saving.\n"
     ]
    },
    {
     "data": {
      "text/html": [],
      "text/plain": [
       "<IPython.core.display.HTML object>"
      ]
     },
     "metadata": {},
     "output_type": "display_data"
    },
    {
     "data": {
      "text/html": [
       "Tracking run with wandb version 0.22.1"
      ],
      "text/plain": [
       "<IPython.core.display.HTML object>"
      ]
     },
     "metadata": {},
     "output_type": "display_data"
    },
    {
     "data": {
      "text/html": [
       "Run data is saved locally in <code>/oscar/data/larschan/shared_data/BindGPS/model/wandb/run-20251002_143209-f4bs7r96</code>"
      ],
      "text/plain": [
       "<IPython.core.display.HTML object>"
      ]
     },
     "metadata": {},
     "output_type": "display_data"
    },
    {
     "data": {
      "text/html": [
       "Syncing run <strong><a href='https://wandb.ai/bind-gps/BindGPS/runs/f4bs7r96' target=\"_blank\">major-sweep-99</a></strong> to <a href='https://wandb.ai/bind-gps/BindGPS' target=\"_blank\">Weights & Biases</a> (<a href='https://wandb.me/developer-guide' target=\"_blank\">docs</a>)<br>Sweep page: <a href='https://wandb.ai/bind-gps/BindGPS/sweeps/79ufxypb' target=\"_blank\">https://wandb.ai/bind-gps/BindGPS/sweeps/79ufxypb</a>"
      ],
      "text/plain": [
       "<IPython.core.display.HTML object>"
      ]
     },
     "metadata": {},
     "output_type": "display_data"
    },
    {
     "data": {
      "text/html": [
       " View project at <a href='https://wandb.ai/bind-gps/BindGPS' target=\"_blank\">https://wandb.ai/bind-gps/BindGPS</a>"
      ],
      "text/plain": [
       "<IPython.core.display.HTML object>"
      ]
     },
     "metadata": {},
     "output_type": "display_data"
    },
    {
     "data": {
      "text/html": [
       " View sweep at <a href='https://wandb.ai/bind-gps/BindGPS/sweeps/79ufxypb' target=\"_blank\">https://wandb.ai/bind-gps/BindGPS/sweeps/79ufxypb</a>"
      ],
      "text/plain": [
       "<IPython.core.display.HTML object>"
      ]
     },
     "metadata": {},
     "output_type": "display_data"
    },
    {
     "data": {
      "text/html": [
       " View run at <a href='https://wandb.ai/bind-gps/BindGPS/runs/f4bs7r96' target=\"_blank\">https://wandb.ai/bind-gps/BindGPS/runs/f4bs7r96</a>"
      ],
      "text/plain": [
       "<IPython.core.display.HTML object>"
      ]
     },
     "metadata": {},
     "output_type": "display_data"
    },
    {
     "name": "stderr",
     "output_type": "stream",
     "text": [
      "\u001b[34m\u001b[1mwandb\u001b[0m: \u001b[33mWARNING\u001b[0m Calling wandb.login() after wandb.init() has no effect.\n"
     ]
    },
    {
     "name": "stdout",
     "output_type": "stream",
     "text": [
      "[Epoch 0] Train Loss: 899.1045, Acc: 0.4476\n",
      "[Epoch 0] Val Loss: 211.8993, Val Metrics: {'MulticlassAUROC': 0.6953907012939453, 'MulticlassAUPRC': 0.4951392710208893, 'MulticlassAccuracy': 0.4974377751350403}\n",
      "[Epoch 1] Train Loss: 852.0190, Acc: 0.5116\n",
      "[Epoch 1] Val Loss: 207.7591, Val Metrics: {'MulticlassAUROC': 0.7108487486839294, 'MulticlassAUPRC': 0.5127809643745422, 'MulticlassAccuracy': 0.5097946524620056}\n",
      "[Epoch 2] Train Loss: 837.1020, Acc: 0.5234\n",
      "[Epoch 2] Val Loss: 206.0411, Val Metrics: {'MulticlassAUROC': 0.7159309387207031, 'MulticlassAUPRC': 0.5174651145935059, 'MulticlassAccuracy': 0.5260403156280518}\n",
      "[Epoch 3] Train Loss: 827.5179, Acc: 0.5315\n",
      "[Epoch 3] Val Loss: 205.0142, Val Metrics: {'MulticlassAUROC': 0.7202146649360657, 'MulticlassAUPRC': 0.5218790173530579, 'MulticlassAccuracy': 0.5279302000999451}\n",
      "[Epoch 4] Train Loss: 821.7438, Acc: 0.5374\n",
      "[Epoch 4] Val Loss: 204.8779, Val Metrics: {'MulticlassAUROC': 0.7224289774894714, 'MulticlassAUPRC': 0.5237457752227783, 'MulticlassAccuracy': 0.5238597393035889}\n",
      "[Epoch 5] Train Loss: 814.1849, Acc: 0.5425\n",
      "[Epoch 5] Val Loss: 203.5612, Val Metrics: {'MulticlassAUROC': 0.7257140278816223, 'MulticlassAUPRC': 0.5267507433891296, 'MulticlassAccuracy': 0.539196789264679}\n",
      "[Epoch 6] Train Loss: 809.9477, Acc: 0.5465\n",
      "[Epoch 6] Val Loss: 203.1291, Val Metrics: {'MulticlassAUROC': 0.7269413471221924, 'MulticlassAUPRC': 0.5295431613922119, 'MulticlassAccuracy': 0.5405778884887695}\n",
      "[Epoch 7] Train Loss: 804.2500, Acc: 0.5512\n",
      "[Epoch 7] Val Loss: 203.5847, Val Metrics: {'MulticlassAUROC': 0.727116584777832, 'MulticlassAUPRC': 0.5283911824226379, 'MulticlassAccuracy': 0.5282936692237854}\n",
      "[Epoch 8] Train Loss: 799.5112, Acc: 0.5550\n",
      "[Epoch 8] Val Loss: 202.2348, Val Metrics: {'MulticlassAUROC': 0.7297961115837097, 'MulticlassAUPRC': 0.5315160155296326, 'MulticlassAccuracy': 0.5369798541069031}\n",
      "[Epoch 9] Train Loss: 796.6164, Acc: 0.5578\n",
      "[Epoch 9] Val Loss: 201.7871, Val Metrics: {'MulticlassAUROC': 0.7316725850105286, 'MulticlassAUPRC': 0.5344111323356628, 'MulticlassAccuracy': 0.5472288131713867}\n"
     ]
    },
    {
     "data": {
      "text/html": [],
      "text/plain": [
       "<IPython.core.display.HTML object>"
      ]
     },
     "metadata": {},
     "output_type": "display_data"
    },
    {
     "data": {
      "text/html": [
       "<br>    <style><br>        .wandb-row {<br>            display: flex;<br>            flex-direction: row;<br>            flex-wrap: wrap;<br>            justify-content: flex-start;<br>            width: 100%;<br>        }<br>        .wandb-col {<br>            display: flex;<br>            flex-direction: column;<br>            flex-basis: 100%;<br>            flex: 1;<br>            padding: 10px;<br>        }<br>    </style><br><div class=\"wandb-row\"><div class=\"wandb-col\"><h3>Run history:</h3><br/><table class=\"wandb\"><tr><td>epoch</td><td>▁▂▃▃▄▅▆▆▇█</td></tr><tr><td>train_accuracy</td><td>▁▅▆▆▇▇▇███</td></tr><tr><td>train_loss</td><td>█▅▄▃▃▂▂▂▁▁</td></tr><tr><td>val_MulticlassAUPRC</td><td>▁▄▅▆▆▇▇▇▇█</td></tr><tr><td>val_MulticlassAUROC</td><td>▁▄▅▆▆▇▇▇██</td></tr><tr><td>val_MulticlassAccuracy</td><td>▁▃▅▅▅▇▇▅▇█</td></tr><tr><td>val_loss</td><td>█▅▄▃▃▂▂▂▁▁</td></tr></table><br/></div><div class=\"wandb-col\"><h3>Run summary:</h3><br/><table class=\"wandb\"><tr><td>epoch</td><td>9</td></tr><tr><td>train_accuracy</td><td>0.55784</td></tr><tr><td>train_loss</td><td>796.61639</td></tr><tr><td>val_MulticlassAUPRC</td><td>0.53441</td></tr><tr><td>val_MulticlassAUROC</td><td>0.73167</td></tr><tr><td>val_MulticlassAccuracy</td><td>0.54723</td></tr><tr><td>val_loss</td><td>201.78714</td></tr></table><br/></div></div>"
      ],
      "text/plain": [
       "<IPython.core.display.HTML object>"
      ]
     },
     "metadata": {},
     "output_type": "display_data"
    },
    {
     "data": {
      "text/html": [
       " View run <strong style=\"color:#cdcd00\">gene_1kb_256_0.0001</strong> at: <a href='https://wandb.ai/bind-gps/BindGPS/runs/f4bs7r96' target=\"_blank\">https://wandb.ai/bind-gps/BindGPS/runs/f4bs7r96</a><br> View project at: <a href='https://wandb.ai/bind-gps/BindGPS' target=\"_blank\">https://wandb.ai/bind-gps/BindGPS</a><br>Synced 5 W&B file(s), 0 media file(s), 0 artifact file(s) and 0 other file(s)"
      ],
      "text/plain": [
       "<IPython.core.display.HTML object>"
      ]
     },
     "metadata": {},
     "output_type": "display_data"
    },
    {
     "data": {
      "text/html": [
       "Find logs at: <code>./wandb/run-20251002_143209-f4bs7r96/logs</code>"
      ],
      "text/plain": [
       "<IPython.core.display.HTML object>"
      ]
     },
     "metadata": {},
     "output_type": "display_data"
    },
    {
     "name": "stderr",
     "output_type": "stream",
     "text": [
      "\u001b[34m\u001b[1mwandb\u001b[0m: Agent Starting Run: i4qjfrcu with config:\n",
      "\u001b[34m\u001b[1mwandb\u001b[0m: \tbatch_size: 128\n",
      "\u001b[34m\u001b[1mwandb\u001b[0m: \tepochs: 10\n",
      "\u001b[34m\u001b[1mwandb\u001b[0m: \thidden_dims: [256, 128]\n",
      "\u001b[34m\u001b[1mwandb\u001b[0m: \tlr: 0.0001\n",
      "\u001b[34m\u001b[1mwandb\u001b[0m: \tresolution: 1kb\n",
      "\u001b[34m\u001b[1mwandb\u001b[0m: \tsvd_dim: 256\n",
      "\u001b[34m\u001b[1mwandb\u001b[0m: \ttarget_metric: MulticlassAUROC\n",
      "\u001b[34m\u001b[1mwandb\u001b[0m: \ttask: gene\n",
      "\u001b[34m\u001b[1mwandb\u001b[0m: \tweighted: False\n",
      "\u001b[34m\u001b[1mwandb\u001b[0m: \u001b[32m\u001b[41mERROR\u001b[0m Failed to detect the name of this notebook. You can set it manually with the WANDB_NOTEBOOK_NAME environment variable to enable code saving.\n"
     ]
    },
    {
     "data": {
      "text/html": [],
      "text/plain": [
       "<IPython.core.display.HTML object>"
      ]
     },
     "metadata": {},
     "output_type": "display_data"
    },
    {
     "data": {
      "text/html": [
       "Tracking run with wandb version 0.22.1"
      ],
      "text/plain": [
       "<IPython.core.display.HTML object>"
      ]
     },
     "metadata": {},
     "output_type": "display_data"
    },
    {
     "data": {
      "text/html": [
       "Run data is saved locally in <code>/oscar/data/larschan/shared_data/BindGPS/model/wandb/run-20251002_143255-i4qjfrcu</code>"
      ],
      "text/plain": [
       "<IPython.core.display.HTML object>"
      ]
     },
     "metadata": {},
     "output_type": "display_data"
    },
    {
     "data": {
      "text/html": [
       "Syncing run <strong><a href='https://wandb.ai/bind-gps/BindGPS/runs/i4qjfrcu' target=\"_blank\">revived-sweep-100</a></strong> to <a href='https://wandb.ai/bind-gps/BindGPS' target=\"_blank\">Weights & Biases</a> (<a href='https://wandb.me/developer-guide' target=\"_blank\">docs</a>)<br>Sweep page: <a href='https://wandb.ai/bind-gps/BindGPS/sweeps/79ufxypb' target=\"_blank\">https://wandb.ai/bind-gps/BindGPS/sweeps/79ufxypb</a>"
      ],
      "text/plain": [
       "<IPython.core.display.HTML object>"
      ]
     },
     "metadata": {},
     "output_type": "display_data"
    },
    {
     "data": {
      "text/html": [
       " View project at <a href='https://wandb.ai/bind-gps/BindGPS' target=\"_blank\">https://wandb.ai/bind-gps/BindGPS</a>"
      ],
      "text/plain": [
       "<IPython.core.display.HTML object>"
      ]
     },
     "metadata": {},
     "output_type": "display_data"
    },
    {
     "data": {
      "text/html": [
       " View sweep at <a href='https://wandb.ai/bind-gps/BindGPS/sweeps/79ufxypb' target=\"_blank\">https://wandb.ai/bind-gps/BindGPS/sweeps/79ufxypb</a>"
      ],
      "text/plain": [
       "<IPython.core.display.HTML object>"
      ]
     },
     "metadata": {},
     "output_type": "display_data"
    },
    {
     "data": {
      "text/html": [
       " View run at <a href='https://wandb.ai/bind-gps/BindGPS/runs/i4qjfrcu' target=\"_blank\">https://wandb.ai/bind-gps/BindGPS/runs/i4qjfrcu</a>"
      ],
      "text/plain": [
       "<IPython.core.display.HTML object>"
      ]
     },
     "metadata": {},
     "output_type": "display_data"
    },
    {
     "name": "stderr",
     "output_type": "stream",
     "text": [
      "\u001b[34m\u001b[1mwandb\u001b[0m: \u001b[33mWARNING\u001b[0m Calling wandb.login() after wandb.init() has no effect.\n"
     ]
    },
    {
     "name": "stdout",
     "output_type": "stream",
     "text": [
      "[Epoch 0] Train Loss: 778.8718, Acc: 0.5758\n",
      "[Epoch 0] Val Loss: 178.0251, Val Metrics: {'MulticlassAUROC': 0.7124812006950378, 'MulticlassAUPRC': 0.5022011995315552, 'MulticlassAccuracy': 0.6315100789070129}\n",
      "[Epoch 1] Train Loss: 715.2503, Acc: 0.6185\n",
      "[Epoch 1] Val Loss: 174.6831, Val Metrics: {'MulticlassAUROC': 0.7241435647010803, 'MulticlassAUPRC': 0.5194044709205627, 'MulticlassAccuracy': 0.6372160911560059}\n",
      "[Epoch 2] Train Loss: 703.6936, Acc: 0.6263\n",
      "[Epoch 2] Val Loss: 172.3660, Val Metrics: {'MulticlassAUROC': 0.7302940487861633, 'MulticlassAUPRC': 0.528144121170044, 'MulticlassAccuracy': 0.6414319276809692}\n",
      "[Epoch 3] Train Loss: 695.2714, Acc: 0.6313\n",
      "[Epoch 3] Val Loss: 171.6104, Val Metrics: {'MulticlassAUROC': 0.7333877086639404, 'MulticlassAUPRC': 0.5316388010978699, 'MulticlassAccuracy': 0.6446301937103271}\n",
      "[Epoch 4] Train Loss: 687.8997, Acc: 0.6367\n",
      "[Epoch 4] Val Loss: 170.4420, Val Metrics: {'MulticlassAUROC': 0.737145721912384, 'MulticlassAUPRC': 0.5354375839233398, 'MulticlassAccuracy': 0.6440850496292114}\n",
      "[Epoch 5] Train Loss: 683.5024, Acc: 0.6387\n",
      "[Epoch 5] Val Loss: 170.2885, Val Metrics: {'MulticlassAUROC': 0.7388550639152527, 'MulticlassAUPRC': 0.5371110439300537, 'MulticlassAccuracy': 0.642849326133728}\n",
      "[Epoch 6] Train Loss: 679.2484, Acc: 0.6409\n",
      "[Epoch 6] Val Loss: 169.1876, Val Metrics: {'MulticlassAUROC': 0.742780864238739, 'MulticlassAUPRC': 0.5430756211280823, 'MulticlassAccuracy': 0.6462293267250061}\n",
      "[Epoch 7] Train Loss: 676.2486, Acc: 0.6434\n",
      "[Epoch 7] Val Loss: 168.6012, Val Metrics: {'MulticlassAUROC': 0.7442505955696106, 'MulticlassAUPRC': 0.5442769527435303, 'MulticlassAccuracy': 0.6467381715774536}\n",
      "[Epoch 8] Train Loss: 672.4427, Acc: 0.6459\n",
      "[Epoch 8] Val Loss: 171.0964, Val Metrics: {'MulticlassAUROC': 0.7439701557159424, 'MulticlassAUPRC': 0.5450178384780884, 'MulticlassAccuracy': 0.6445938348770142}\n",
      "[Epoch 9] Train Loss: 668.7991, Acc: 0.6481\n",
      "[Epoch 9] Val Loss: 167.4928, Val Metrics: {'MulticlassAUROC': 0.7472384572029114, 'MulticlassAUPRC': 0.5490029454231262, 'MulticlassAccuracy': 0.6491368412971497}\n"
     ]
    },
    {
     "data": {
      "text/html": [],
      "text/plain": [
       "<IPython.core.display.HTML object>"
      ]
     },
     "metadata": {},
     "output_type": "display_data"
    },
    {
     "data": {
      "text/html": [
       "<br>    <style><br>        .wandb-row {<br>            display: flex;<br>            flex-direction: row;<br>            flex-wrap: wrap;<br>            justify-content: flex-start;<br>            width: 100%;<br>        }<br>        .wandb-col {<br>            display: flex;<br>            flex-direction: column;<br>            flex-basis: 100%;<br>            flex: 1;<br>            padding: 10px;<br>        }<br>    </style><br><div class=\"wandb-row\"><div class=\"wandb-col\"><h3>Run history:</h3><br/><table class=\"wandb\"><tr><td>epoch</td><td>▁▂▃▃▄▅▆▆▇█</td></tr><tr><td>train_accuracy</td><td>▁▅▆▆▇▇▇███</td></tr><tr><td>train_loss</td><td>█▄▃▃▂▂▂▁▁▁</td></tr><tr><td>val_MulticlassAUPRC</td><td>▁▄▅▅▆▆▇▇▇█</td></tr><tr><td>val_MulticlassAUROC</td><td>▁▃▅▅▆▆▇▇▇█</td></tr><tr><td>val_MulticlassAccuracy</td><td>▁▃▅▆▆▆▇▇▆█</td></tr><tr><td>val_loss</td><td>█▆▄▄▃▃▂▂▃▁</td></tr></table><br/></div><div class=\"wandb-col\"><h3>Run summary:</h3><br/><table class=\"wandb\"><tr><td>epoch</td><td>9</td></tr><tr><td>train_accuracy</td><td>0.64811</td></tr><tr><td>train_loss</td><td>668.79909</td></tr><tr><td>val_MulticlassAUPRC</td><td>0.549</td></tr><tr><td>val_MulticlassAUROC</td><td>0.74724</td></tr><tr><td>val_MulticlassAccuracy</td><td>0.64914</td></tr><tr><td>val_loss</td><td>167.49278</td></tr></table><br/></div></div>"
      ],
      "text/plain": [
       "<IPython.core.display.HTML object>"
      ]
     },
     "metadata": {},
     "output_type": "display_data"
    },
    {
     "data": {
      "text/html": [
       " View run <strong style=\"color:#cdcd00\">gene_1kb_256_0.0001</strong> at: <a href='https://wandb.ai/bind-gps/BindGPS/runs/i4qjfrcu' target=\"_blank\">https://wandb.ai/bind-gps/BindGPS/runs/i4qjfrcu</a><br> View project at: <a href='https://wandb.ai/bind-gps/BindGPS' target=\"_blank\">https://wandb.ai/bind-gps/BindGPS</a><br>Synced 5 W&B file(s), 0 media file(s), 0 artifact file(s) and 0 other file(s)"
      ],
      "text/plain": [
       "<IPython.core.display.HTML object>"
      ]
     },
     "metadata": {},
     "output_type": "display_data"
    },
    {
     "data": {
      "text/html": [
       "Find logs at: <code>./wandb/run-20251002_143255-i4qjfrcu/logs</code>"
      ],
      "text/plain": [
       "<IPython.core.display.HTML object>"
      ]
     },
     "metadata": {},
     "output_type": "display_data"
    }
   ],
   "source": [
    "def train_sweep():\n",
    "    wandb.init()\n",
    "    config = wandb.config\n",
    "    \n",
    "    wandb.run.name = f\"{config.task}_{config.resolution}_{config.svd_dim}_{config.lr}\"\n",
    "    \n",
    "    dataset_path = f\"../data/{config.resolution}_{config.svd_dim}_vec_dataset.pt\"\n",
    "    dataset = torch.load(dataset_path, weights_only=False)\n",
    "    dataset.vecs = torch.tensor(dataset.vecs, dtype=torch.float32)\n",
    "\n",
    "\n",
    "    #initialize trainer \n",
    "    trainer = SeqSVMTrainer(\n",
    "        dataset=dataset,\n",
    "        resolution=config.resolution,\n",
    "        svd_dim=config.svd_dim,\n",
    "        input_dim=config.svd_dim,\n",
    "        hidden_dims=config.hidden_dims,\n",
    "        batch_size=config.batch_size,\n",
    "        lr=config.lr,\n",
    "        weighted=config.weighted,\n",
    "        task=config.task,\n",
    "        target_metric=config.target_metric,\n",
    "        wandb_logger=WandbLogger(), \n",
    "        device=torch.device(\"cuda\" if torch.cuda.is_available() else \"cpu\")\n",
    "    )\n",
    "\n",
    "    val_metrics = [\n",
    "        MulticlassAUROC(num_classes=3),\n",
    "        MulticlassAUPRC(num_classes=3),\n",
    "        MulticlassAccuracy(),\n",
    "    ]\n",
    "    trainer.train(val_metrics=val_metrics, epochs=config.epochs)\n",
    "    \n",
    "\n",
    "\n",
    "sweep_config = {\n",
    "    \"method\": \"grid\",\n",
    "    \"metric\": {\n",
    "        \"name\": \"val_MulticlassAUROC\", \n",
    "        \"goal\": \"maximize\"\n",
    "    },\n",
    "    \"parameters\": {\n",
    "        \"resolution\": {\"values\": [\"1kb\", \"5kb\"]},\n",
    "        \"svd_dim\": {\"values\": [64, 128, 256]},\n",
    "        \"hidden_dims\": {\"values\": [(256, 128), (128, 64)]},\n",
    "        \"batch_size\": {\"values\": [128]},\n",
    "        \"lr\": {\"values\": [1e-3, 1e-4, 1e-5]},\n",
    "        \"weighted\": {\"values\": [True, False]},\n",
    "        \"task\": {\"values\": [\"mre\", \"gene\"]},\n",
    "        \"target_metric\": {\"values\": [\"MulticlassAUROC\", \"MulticlassAccuracy\", \"MulticlassAUPRC\"]},\n",
    "        \"epochs\": {\"values\": [10]}\n",
    "    }\n",
    "}\n",
    "\n",
    "\n",
    "\n",
    "sweep_id = wandb.sweep(sweep=sweep_config, project=\"BindGPS\")\n",
    "wandb.agent(sweep_id, function=train_sweep, count=100)\n",
    "wandb.finish()"
   ]
  },
  {
   "cell_type": "code",
   "execution_count": 4,
   "id": "f1561970",
   "metadata": {},
   "outputs": [
    {
     "name": "stdout",
     "output_type": "stream",
     "text": [
      "Sparse kmer dataset already exists for resolution 1kb, skipping generation.\n",
      "Building final dataset for resolution: 1kb, SVD dim: 64\n",
      "Saved dataset: ../data/1kb_64_vec_dataset.pt\n",
      "Building final dataset for resolution: 1kb, SVD dim: 128\n",
      "Saved dataset: ../data/1kb_128_vec_dataset.pt\n",
      "Building final dataset for resolution: 1kb, SVD dim: 256\n",
      "Saved dataset: ../data/1kb_256_vec_dataset.pt\n",
      "Generating sparse kmer dataset for resolution: 5kb\n",
      "Building final dataset for resolution: 5kb, SVD dim: 64\n",
      "Saved dataset: ../data/5kb_64_vec_dataset.pt\n",
      "Building final dataset for resolution: 5kb, SVD dim: 128\n",
      "Saved dataset: ../data/5kb_128_vec_dataset.pt\n",
      "Building final dataset for resolution: 5kb, SVD dim: 256\n",
      "Saved dataset: ../data/5kb_256_vec_dataset.pt\n"
     ]
    }
   ],
   "source": [
    "\"\"\"Ran once to generate datasets for each config of resolution + num components for svd.\n",
    "No need to run again\"\"\"\n",
    "\n",
    "# resolutions = [\"1kb\", \"5kb\"]\n",
    "# svd_dims = [64, 128, 256]\n",
    "# batch_size = 128 \n",
    "\n",
    "# # going over each possible config\n",
    "# for res in resolutions:\n",
    "#     sparse_path = f\"../data/sparse_kmer_counts_{res}.npz\"\n",
    "    \n",
    "#     if os.path.exists(sparse_path):\n",
    "#         print(f\"Sparse kmer dataset already exists for resolution {res}, skipping generation.\")\n",
    "#     else:\n",
    "#         print(f\"Generating sparse kmer dataset for resolution: {res}\")\n",
    "#         generate_vec_dataset(resolution=res, svd_dim=max(svd_dims), batch_size=batch_size)\n",
    "    \n",
    "    \n",
    "#     for svd_dim in svd_dims:\n",
    "#         print(f\"Building final dataset for resolution: {res}, SVD dim: {svd_dim}\")\n",
    "#         final_dataset = build_dataset(resolution=res, svd_dim=svd_dim, batch_size=batch_size)\n",
    "#         print(f\"Saved dataset: ../data/{res}_{svd_dim}_vec_dataset.pt\")\n"
   ]
  },
  {
   "cell_type": "code",
   "execution_count": 4,
   "id": "8e16dfc7",
   "metadata": {},
   "outputs": [
    {
     "name": "stdout",
     "output_type": "stream",
     "text": [
      "<class 'src.data.DNASequenceDataset'>\n",
      "Sample 0:\n",
      "(np.float64(0.0), np.float64(1.0), array([ 4.29903625e+00, -5.07841464e-02, -5.95490218e-02,  2.23849635e-02,\n",
      "       -1.95563769e+00, -2.74832220e-01, -1.47271345e-01, -5.98321708e-01,\n",
      "       -1.01756960e-01,  3.75994648e-01, -2.96419350e-01,  1.39606044e-01,\n",
      "       -8.28622317e-02,  1.15172188e+00, -1.14388889e+00,  1.88835120e-01,\n",
      "       -3.49444820e-01, -1.43968937e-01,  1.13821193e-01, -1.03384529e-03,\n",
      "        1.07563701e+00,  3.05132409e+00,  7.52321911e-02,  3.85161554e-02,\n",
      "       -3.28594366e-01,  1.53618512e+00,  1.69692086e+00, -2.87948883e-01,\n",
      "       -3.59926167e-01,  1.64228357e+00,  1.43106586e+00,  8.42300228e+00,\n",
      "        4.35640748e+00, -9.48458329e+00, -6.89165702e+00,  9.71942104e+00,\n",
      "        6.20992529e+00,  2.62728328e+01, -3.33701884e+00, -1.09555262e+01,\n",
      "       -4.38510073e+00,  1.13880819e+01,  6.86413200e+00, -1.17881584e+01,\n",
      "       -9.31975395e+00,  1.38754807e+00, -1.05953968e+01,  2.16327412e+00,\n",
      "        5.65219089e+00,  5.53953452e+00, -3.32795621e+00, -1.57358230e+00,\n",
      "        2.18925231e+00, -1.80594610e+01, -1.56528446e+01, -8.13035671e+00,\n",
      "       -1.47661673e+01,  4.65488147e+00,  1.25612578e+01, -1.06807726e+01,\n",
      "       -4.37338849e+00,  7.11433632e-01,  1.70812462e+00,  6.52377302e-01]))\n",
      "---\n",
      "Sample 1:\n",
      "(np.float64(0.0), np.float64(1.0), array([ 4.38760391e+00, -5.50645850e-02, -6.08583970e-02,  7.95246858e-02,\n",
      "       -1.95242156e+00, -2.86880112e-01, -2.17873610e-01, -5.67398853e-01,\n",
      "       -1.29116988e-01,  3.75735701e-01, -3.34791688e-01,  6.78328692e-02,\n",
      "       -8.13300415e-02,  1.11962141e+00, -1.13634437e+00,  1.37962201e-01,\n",
      "       -2.52506968e-01, -1.33993213e-01,  2.69248724e-02, -5.69750215e-03,\n",
      "        6.68368887e-01,  2.84918269e+00,  8.54170952e-02,  4.71544082e-02,\n",
      "       -4.92934676e-01,  1.50314556e+00,  2.04939587e+00, -2.87660773e-01,\n",
      "       -3.47665970e-01,  1.79470686e+00,  1.38239179e+00,  8.62184795e+00,\n",
      "        4.42039711e+00, -9.56248544e+00, -7.22065500e+00,  9.83346571e+00,\n",
      "        6.32446057e+00,  2.65939344e+01, -3.42098067e+00, -1.10910481e+01,\n",
      "       -4.58867477e+00,  1.17074324e+01,  7.06176761e+00, -1.19510276e+01,\n",
      "       -9.55025934e+00,  1.49229479e+00, -1.08174562e+01,  2.03320477e+00,\n",
      "        5.71415708e+00,  5.63686808e+00, -3.24300871e+00, -1.57834773e+00,\n",
      "        2.30591242e+00, -1.84911877e+01, -1.59888591e+01, -8.39309411e+00,\n",
      "       -1.51782362e+01,  4.61787101e+00,  1.27468852e+01, -1.06185918e+01,\n",
      "       -4.23444582e+00,  8.18697348e-01,  1.88739319e+00,  5.96707865e-01]))\n",
      "---\n",
      "Sample 2:\n",
      "(np.float64(0.0), np.float64(1.0), array([ 4.37387522e+00, -5.38732157e-02, -6.06796099e-02, -2.31984670e-02,\n",
      "       -1.97280920e+00, -2.85675656e-01, -1.53406183e-01, -6.54891075e-01,\n",
      "       -8.45269569e-02,  4.42080374e-01, -3.42143676e-01,  1.85755385e-01,\n",
      "       -9.70116408e-02,  1.18303089e+00, -1.00712915e+00,  3.21724983e-01,\n",
      "       -5.90604804e-01, -1.57820667e-01,  9.41549175e-02, -7.50191337e-03,\n",
      "        9.65417672e-01,  2.71243906e+00,  1.04648151e-01,  1.90877865e-01,\n",
      "       -1.91626803e-01,  1.62188539e+00,  1.54346954e+00, -9.79507525e-02,\n",
      "       -3.98186826e-01,  1.64831061e+00,  1.40796150e+00,  8.40916655e+00,\n",
      "        4.34259546e+00, -9.47221292e+00, -6.96996847e+00,  9.90878174e+00,\n",
      "        6.25089957e+00,  2.64817629e+01, -3.53731870e+00, -1.11517797e+01,\n",
      "       -4.38446531e+00,  1.15255824e+01,  6.90210285e+00, -1.18923616e+01,\n",
      "       -9.50859454e+00,  1.47949266e+00, -1.07787875e+01,  2.26676887e+00,\n",
      "        5.78115598e+00,  5.68753595e+00, -3.29102331e+00, -1.45526013e+00,\n",
      "        2.17845608e+00, -1.83843356e+01, -1.58451193e+01, -8.33219456e+00,\n",
      "       -1.51206927e+01,  4.56790427e+00,  1.27226672e+01, -1.06552450e+01,\n",
      "       -4.30644054e+00,  5.63588100e-01,  1.66508943e+00,  5.66618270e-01]))\n",
      "---\n",
      "Sample 3:\n",
      "(np.float64(0.0), np.float64(1.0), array([ 4.31341427e+00, -5.20064871e-02, -5.95032238e-02, -5.99765804e-03,\n",
      "       -1.93456517e+00, -2.96830654e-01, -1.73327378e-01, -4.99250680e-01,\n",
      "       -5.89989876e-02,  3.94480787e-01, -2.71219810e-01,  1.51417335e-01,\n",
      "       -8.38432763e-02,  1.14314233e+00, -1.15813748e+00,  2.88650942e-01,\n",
      "       -4.96200787e-01, -1.28920198e-01,  1.29312689e-01,  1.00968720e-02,\n",
      "        8.26953806e-01,  3.18899329e+00,  7.64076955e-02,  2.26285655e-03,\n",
      "       -1.33353960e-01,  1.73314096e+00,  1.73589998e+00, -3.08242011e-01,\n",
      "       -5.20454727e-01,  1.59242157e+00,  1.46392758e+00,  8.95385223e+00,\n",
      "        4.71138882e+00, -1.01386750e+01, -7.17913593e+00,  1.02697752e+01,\n",
      "        6.42770535e+00,  2.76984903e+01, -3.73530111e+00, -1.16761769e+01,\n",
      "       -4.57211810e+00,  1.18658888e+01,  7.12250552e+00, -1.20191061e+01,\n",
      "       -9.27614485e+00,  1.52048152e+00, -1.09253960e+01,  2.08766148e+00,\n",
      "        5.61148831e+00,  5.39891279e+00, -3.22681648e+00, -1.32047586e+00,\n",
      "        2.12362593e+00, -1.71008782e+01, -1.48875197e+01, -7.79847385e+00,\n",
      "       -1.40419881e+01,  4.50205415e+00,  1.20220248e+01, -1.02339180e+01,\n",
      "       -4.36000789e+00,  8.86339599e-01,  1.59390203e+00,  4.62033002e-01]))\n",
      "---\n",
      "Sample 4:\n",
      "(np.float64(0.0), np.float64(1.0), array([ 4.32338158e+00, -5.24148643e-02, -6.00469624e-02,  2.35641596e-02,\n",
      "       -1.97645206e+00, -2.68342890e-01, -1.18184316e-01, -6.52500903e-01,\n",
      "       -8.79883058e-02,  3.82652634e-01, -3.24687112e-01,  1.33289975e-01,\n",
      "       -9.07076323e-02,  1.20808417e+00, -1.10276400e+00,  1.95807046e-01,\n",
      "       -3.57988574e-01, -1.46489393e-01,  1.27383541e-01, -1.49082643e-02,\n",
      "        1.02941073e+00,  2.84145837e+00,  9.89674109e-02,  1.34170217e-01,\n",
      "       -2.31348006e-01,  1.45008800e+00,  1.59924326e+00, -3.75344741e-01,\n",
      "       -3.86678586e-01,  1.80187214e+00,  1.39463047e+00,  8.62980399e+00,\n",
      "        4.46559700e+00, -9.65518473e+00, -7.19452531e+00,  1.00269387e+01,\n",
      "        6.44057070e+00,  2.69263976e+01, -3.47350064e+00, -1.12979713e+01,\n",
      "       -4.46718038e+00,  1.18770657e+01,  7.13746080e+00, -1.22055966e+01,\n",
      "       -9.68424746e+00,  1.39790839e+00, -1.09306361e+01,  2.22567409e+00,\n",
      "        5.71258222e+00,  5.64489293e+00, -3.30187900e+00, -1.60053195e+00,\n",
      "        2.37310164e+00, -1.87285836e+01, -1.62882526e+01, -8.54423546e+00,\n",
      "       -1.52666704e+01,  4.87267166e+00,  1.29536043e+01, -1.09817487e+01,\n",
      "       -4.61144748e+00,  7.62379907e-01,  1.74794120e+00,  6.86417420e-01]))\n",
      "---\n"
     ]
    }
   ],
   "source": [
    "import torch\n",
    "\n",
    "path = \"../data/1kb_64_vec_dataset.pt\"  # pick one of your saved files\n",
    "dataset = torch.load(path, weights_only=False)\n",
    "\n",
    "\n",
    "print(type(dataset))\n",
    "for i in range(5):  # first 5 samples\n",
    "    sample = dataset[i]\n",
    "    print(f\"Sample {i}:\")\n",
    "    print(sample)\n",
    "    print(\"---\")\n",
    "\n",
    "#According to /src/data.py, each sample returns: (gene label), (mre label), (projected vecs)"
   ]
  },
  {
   "cell_type": "code",
   "execution_count": null,
   "id": "5977d48f",
   "metadata": {},
   "outputs": [],
   "source": []
  }
 ],
 "metadata": {
  "kernelspec": {
   "display_name": "mre_proj",
   "language": "python",
   "name": "mre_proj"
  },
  "language_info": {
   "codemirror_mode": {
    "name": "ipython",
    "version": 3
   },
   "file_extension": ".py",
   "mimetype": "text/x-python",
   "name": "python",
   "nbconvert_exporter": "python",
   "pygments_lexer": "ipython3",
   "version": "3.10.18"
  }
 },
 "nbformat": 4,
 "nbformat_minor": 5
}
