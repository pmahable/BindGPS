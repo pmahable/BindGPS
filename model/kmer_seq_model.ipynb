{
 "cells": [
  {
   "cell_type": "code",
   "execution_count": 1,
   "id": "8254349c",
   "metadata": {},
   "outputs": [],
   "source": [
    "%load_ext autoreload\n",
    "%autoreload 2"
   ]
  },
  {
   "cell_type": "code",
   "execution_count": 2,
   "id": "85449db2",
   "metadata": {},
   "outputs": [],
   "source": [
    "import numpy as np\n",
    "import pandas as pd\n",
    "from sklearn.decomposition import TruncatedSVD\n",
    "import joblib\n",
    "import wandb\n",
    "\n",
    "from scipy import sparse\n",
    "\n",
    "import torch\n",
    "import torch.nn as nn\n",
    "from torch.utils.data import DataLoader, random_split, DataLoader\n",
    "\n",
    "\n",
    "from src.wandb_utils import WandbLogger, create_sweep_config\n",
    "from src.models import KmerSequenceModel\n",
    "from src.utils import load_kmer_counts, svm_project_kmer_vec, load_svd\n",
    "from src.data import DNASequenceDataset"
   ]
  },
  {
   "cell_type": "code",
   "execution_count": null,
   "id": "ba65fcf3",
   "metadata": {},
   "outputs": [],
   "source": [
    "# Code to Generate Vector Dataset\n",
    "from src.data import KmerTokenizer\n",
    "\n",
    "# 1KB Dataset\n",
    "# df = pd.read_csv(\"../data/data_transformation/chipseq/updated_histone_mods_and_GA_factors.feature_matrix.1kb_res.txt\", sep=\"\\t\")\n",
    "# df['seq'] = df['seq'].str.upper()\n",
    "\n",
    "# tokenizer = KmerTokenizer(k=8)\n",
    "# df['kmer_vec'] = df['seq'].map(lambda x: tokenizer.seq_to_vec(x))\n",
    "\n",
    "# full_dataset = sparse.vstack(df['kmer_vec'])\n",
    "# sparse.save_npz(\"../data/sparse_kmer_counts.npz\", full_dataset)"
   ]
  },
  {
   "cell_type": "code",
   "execution_count": null,
   "id": "dd0b1ac8",
   "metadata": {},
   "outputs": [],
   "source": [
    " # uses default path ../data/sparse_kmer_counts.npz\n",
    "full_dataset = load_kmer_counts(drop_unk=True)"
   ]
  },
  {
   "cell_type": "markdown",
   "id": "0d195973",
   "metadata": {},
   "source": [
    "### Fit SVM Models\n",
    "TODO: need to replicate this for 64, 256 components"
   ]
  },
  {
   "cell_type": "code",
   "execution_count": null,
   "id": "42c0ba9d",
   "metadata": {},
   "outputs": [],
   "source": [
    "svd_model = TruncatedSVD(n_components=128)\n",
    "svd_model.fit(full_dataset)\n",
    "\n",
    "joblib.dump(svd_model, \"../models/seq_svm/svd_model_128.joblib\")"
   ]
  },
  {
   "cell_type": "code",
   "execution_count": null,
   "id": "1c47c985",
   "metadata": {},
   "outputs": [],
   "source": [
    "# Load fit SVM and Project KMer Counts Vectors\n",
    "svd_128 = load_svd(128)\n",
    "projected_vecs = svm_project_kmer_vec(\n",
    "    svd_model=svd_128,\n",
    "    full_dataset=full_dataset,\n",
    "    batch_size=128\n",
    ")"
   ]
  },
  {
   "cell_type": "code",
   "execution_count": null,
   "id": "00e99d20",
   "metadata": {},
   "outputs": [],
   "source": [
    "# Create DNA Sequence Dataset from projection\n",
    "sequences = df['seq']\n",
    "gene_labels = df['gene_labels'].to_numpy()\n",
    "mre_labels = df['mre_labels'].to_numpy()\n",
    "\n",
    "metadata =  df.drop(columns=['seq', 'gene_labels', 'mre_labels'])\n",
    "\n",
    "final_dataset = DNASequenceDataset(\n",
    "    sequences, gene_labels, mre_labels, projected_vecs, metadata\n",
    ")\n",
    "\n",
    "torch.save(final_dataset, '../data/128_vec_dataset.pt')"
   ]
  },
  {
   "cell_type": "markdown",
   "id": "952fef91",
   "metadata": {},
   "source": [
    "# TRAINING SEGMENT"
   ]
  },
  {
   "cell_type": "code",
   "execution_count": 3,
   "id": "27301860",
   "metadata": {},
   "outputs": [],
   "source": [
    "from sklearn.metrics import roc_auc_score, average_precision_score\n",
    "from torcheval.metrics import MulticlassAUROC, MulticlassAUPRC, MulticlassAccuracy\n",
    "import json\n",
    "\n",
    "def get_input_gradients(model, criterion, test_loader, device, task, num_classes=None):\n",
    "    model.eval()\n",
    "    all_loss_grads   = []\n",
    "    all_class_grads  = []\n",
    "\n",
    "    for gene, mre, vecs in test_loader:\n",
    "        labels = (mre if task == \"mre\" else gene).long().to(device)\n",
    "        vecs   = vecs.to(device)\n",
    "        vecs.requires_grad_(True)\n",
    "\n",
    "        outputs = model(vecs)\n",
    "\n",
    "        # per‐class gradients\n",
    "        # for each class c we do d(outputs[:,c].sum)/d(vecs)\n",
    "        class_grads = []\n",
    "        C = outputs.shape[1]\n",
    "        for c in range(C):\n",
    "            grad_c = torch.autograd.grad(\n",
    "                outputs[:, c].sum(), vecs, retain_graph=True\n",
    "            )[0]\n",
    "            class_grads.append(grad_c.detach().cpu())\n",
    "\n",
    "        # stack into (B, C, D)\n",
    "        class_grads = torch.stack(class_grads, dim=1)\n",
    "\n",
    "        loss = criterion(outputs, labels)\n",
    "        loss_grads = torch.autograd.grad(\n",
    "            loss, vecs\n",
    "        )[0].detach().cpu()\n",
    "\n",
    "        all_loss_grads.append(loss_grads)\n",
    "        all_class_grads.append(class_grads)\n",
    "\n",
    "    # concat over batches\n",
    "    loss_grads  = torch.cat(all_loss_grads,  dim=0)   # (N, D)\n",
    "    class_grads = torch.cat(all_class_grads, dim=0)   # (N, C, D)\n",
    "\n",
    "    return loss_grads, class_grads\n",
    "    \n",
    "def evaluate_model(model, criterion, test_loader, device, metrics, task, config_metrics, return_full=False):\n",
    "    model.eval()\n",
    "    for m in metrics:\n",
    "        m.to(device)\n",
    "        m.reset()\n",
    "    val_loss = 0\n",
    "    \n",
    "    lab_pred_log = ([], [], []) if return_full else None\n",
    "        \n",
    "    with torch.no_grad():\n",
    "        for gene, mre, vecs in test_loader:\n",
    "            labels = mre if task == \"mre\" else gene\n",
    "            labels = labels.long().to(device)\n",
    "            vecs = vecs.to(device)\n",
    "\n",
    "            outs = model(vecs)\n",
    "            loss = criterion(outs, labels)\n",
    "            val_loss += loss.detach().item()\n",
    "            logits = F.softmax(outs, dim=1)\n",
    "            preds = torch.argmax(logits, dim=1)\n",
    "            \n",
    "            for append, ls in zip([labels, preds, logits], lab_pred_log):\n",
    "                ls.append(append.detach().cpu())\n",
    "            \n",
    "            for metric in metrics:\n",
    "                metric.update(logits, labels)\n",
    "    \n",
    "    lab_pred_log = [torch.cat(ls) for ls in lab_pred_log] if return_full else None\n",
    "    return val_loss, {metric_name: metric.compute().item() for metric, metric_name in zip(metrics, config_metrics)}, lab_pred_log\n",
    "\n",
    "def train_model(model, criterion, optimizer, loaders, val_metrics, config):\n",
    "\n",
    "    _NAME = f\"{config.name}_{config.task}_{config.lr}_{config.wd}_weighted_{config.weighted}\"\n",
    "\n",
    "    device = torch.device(\"cuda\" if torch.cuda.is_available() else \"cpu\")\n",
    "    patience = 0\n",
    "    best_metric = 0\n",
    "    train_acc = MulticlassAccuracy().to(device)\n",
    "    best_metrics = {}\n",
    "    \n",
    "    for epoch in range(config.epochs):\n",
    "        if patience == 5:\n",
    "            break\n",
    "        print(f\"Epoch {epoch}:\")\n",
    "        train_loss = 0\n",
    "        model.train()\n",
    "        for gene, mre, vecs in loaders[\"train\"]:            \n",
    "            labels = mre if config.task == \"mre\" else gene\n",
    "            labels = labels.long().to(device)\n",
    "            vecs = vecs.to(device)\n",
    "\n",
    "            optimizer.zero_grad()\n",
    "            outs = model(vecs)\n",
    "            loss = criterion(outs, labels)\n",
    "            loss.backward()\n",
    "            optimizer.step()\n",
    "\n",
    "            logits = F.softmax(outs, dim=1)\n",
    "            train_loss += loss.detach().item()\n",
    "            train_acc.update(logits, labels)\n",
    "\n",
    "        train_accuracy = train_acc.compute().item()\n",
    "        print(f\"Train Metrics:\\n\\tLoss:{train_loss:.4f}, Acc: {train_accuracy:.4f}:\")\n",
    "        train_acc.reset()\n",
    "        \n",
    "        # Compute Validation Scores and Determine Patience\n",
    "        val_loss, metrics, _ = evaluate_model(\n",
    "            model, criterion, loaders[\"test\"], device, val_metrics, config.task, config.metrics\n",
    "        )\n",
    "        print(\"finished evaluation\")\n",
    "\n",
    "        wandb.log({\"train_loss\": train_loss, \"train_accuracy\": train_accuracy})\n",
    "        wandb.log({\"val_loss\": val_loss})\n",
    "        print(config.metrics)\n",
    "        wandb.log({f\"val_{metric_name}\": metrics[metric_name] for metric_name in config.metrics})\n",
    "\n",
    "        if metrics[config.target] > best_metric:\n",
    "            patience = 0\n",
    "            best_metric = metrics[config.target]\n",
    "            best_metrics = metrics\n",
    "            torch.save(model.state_dict(), f\"{config.outdir}/{_NAME}_best.pt\")\n",
    "            \n",
    "            metrics[\"epoch\"] = epoch\n",
    "            with open(f\"{config.outdir}/{_NAME}_best_metrics.json\", \"w\") as f:\n",
    "                json.dump(metrics, f)\n",
    "        else:\n",
    "            patience += 1\n",
    "        torch.save(model.state_dict(), f\"{config.outdir}/{_NAME}_current.pt\")\n",
    "        \n",
    "        # Logging!\n",
    "        print(\"Validation Metrics:\")\n",
    "        print(f\"\\tLoss: {val_loss:.4f}\")\n",
    "        for name, metric in metrics.items():\n",
    "            print(f\"\\t{name}: {metric:.4f}\")\n",
    "    \n",
    "    best_model = torch.load(f\"{config.outdir}/{_NAME}_best.pt\", map_location=device)\n",
    "    model.load_state_dict(best_model)\n",
    "    model.to(device)\n",
    "    return model, best_metrics"
   ]
  },
  {
   "cell_type": "code",
   "execution_count": 21,
   "id": "9f5ed910",
   "metadata": {},
   "outputs": [
    {
     "data": {
      "text/plain": [
       "True"
      ]
     },
     "execution_count": 21,
     "metadata": {},
     "output_type": "execute_result"
    }
   ],
   "source": [
    "import wandb\n",
    "wandb.login()"
   ]
  },
  {
   "cell_type": "code",
   "execution_count": 4,
   "id": "d3014b39",
   "metadata": {},
   "outputs": [],
   "source": [
    "def get_data():\n",
    "    # instance of kmer_data.DNASequenceDataset (contains sequences, projected vectors)\n",
    "    data = torch.load('data_transformation/128_vec_dataset.pt')\n",
    "    # ignore these two lines -- class counts. \n",
    "    _, mre_class_counts = np.unique(data.mre_labels, return_counts=True)\n",
    "    _, gene_class_counts = np.unique(data.gene_labels, return_counts=True)\n",
    "\n",
    "    mre_class_weights = torch.Tensor(1 / (mre_class_counts / np.sum(mre_class_counts)))\n",
    "    gene_class_weights = torch.Tensor(1 / (gene_class_counts / np.sum(gene_class_counts)))\n",
    "\n",
    "    train_size = int(0.8 * len(data))\n",
    "    test_size = len(data) - train_size\n",
    "\n",
    "    train_dataset, test_dataset = random_split(data, [train_size, test_size])\n",
    "    train_loader = DataLoader(train_dataset, batch_size=64, shuffle=True)\n",
    "    test_loader = DataLoader(test_dataset, batch_size=64, shuffle=False)\n",
    "\n",
    "    loaders = {\"train\": train_loader, \"test\": test_loader}\n",
    "\n",
    "    return loaders, mre_class_weights, gene_class_weights\n",
    "\n",
    "loaders, mre_class_weights, gene_class_weights = get_data()\n",
    "\n",
    "def train():\n",
    "    wandb.init(project=\"BindGPS\", name=\"kmer_128\")\n",
    "    config = wandb.config\n",
    "    \n",
    "    device = torch.device(\"cuda\" if torch.cuda.is_available() else \"cpu\")\n",
    "\n",
    "    if config.name == \"kmer_128\":\n",
    "        model = KmerSequenceModel(128, hidden_dims=config.hidden_dims, num_classes=3)\n",
    "        model.to(device)\n",
    "\n",
    "    if config.weighted:\n",
    "        weights = mre_class_weights if config.task == \"mre\" else gene_class_weights\n",
    "        weights = weights.float().to(device)\n",
    "        criterion = nn.CrossEntropyLoss(weight=weights)\n",
    "    else:\n",
    "        criterion = nn.CrossEntropyLoss()\n",
    "    optimizer = torch.optim.AdamW(model.parameters(), lr=config.lr, weight_decay=config.wd)\n",
    "\n",
    "    val_metrics = [\n",
    "        MulticlassAUROC(num_classes=3),\n",
    "        MulticlassAUPRC(num_classes=3),\n",
    "        MulticlassAccuracy(),\n",
    "    ]\n",
    "\n",
    "    loaders = {\"train\": train_loader, \"test\": test_loader}\n",
    "\n",
    "    _, metrics = train_model(\n",
    "        model,\n",
    "        criterion,\n",
    "        optimizer,\n",
    "        loaders,\n",
    "        val_metrics,\n",
    "        config,\n",
    "    )\n",
    "    wandb.finish()\n",
    "\n",
    "\n",
    "sweep_config = {\n",
    "    \"method\": \"grid\",\n",
    "    \"metric\": {\n",
    "        \"name\": \"auroc\",\n",
    "        \"goal\": \"maximize\"\n",
    "    },\n",
    "    \"parameters\": {\n",
    "        \"name\": {\"values\": [\"kmer_128\"]},\n",
    "        \"hidden_dims\": {\"values\": [(256, 128), (128, 64)]}, #, \n",
    "        \"lr\": {\"values\": [1e-3, 1e-4, 1e-5]},\n",
    "        \"wd\": {\"values\": [1e-5, 1e-6]},\n",
    "        \"epochs\": {\"values\": [10]},\n",
    "        \"seed\": {\"values\": [42]},\n",
    "        \"weighted\": {\"values\": [True, False]},\n",
    "        \"target\": {\"values\": [\"auroc\"]},\n",
    "        \"task\": {\"values\": [\"mre\", \"gene\"]},\n",
    "        \"metrics\": {\"values\": [[\"auroc\", \"auprc\", \"accuracy\"]]},\n",
    "        \"outdir\": {\"values\": [\"models/kmer_128\"]}\n",
    "    }\n",
    "}"
   ]
  },
  {
   "cell_type": "code",
   "execution_count": null,
   "id": "69616e3e",
   "metadata": {},
   "outputs": [
    {
     "name": "stdout",
     "output_type": "stream",
     "text": [
      "Create sweep with ID: ms3id6yy\n",
      "Sweep URL: https://wandb.ai/pranavmahabs/bind_gps/sweeps/ms3id6yy\n"
     ]
    },
    {
     "name": "stderr",
     "output_type": "stream",
     "text": [
      "\u001b[34m\u001b[1mwandb\u001b[0m: Agent Starting Run: txt5b9xc with config:\n",
      "\u001b[34m\u001b[1mwandb\u001b[0m: \tepochs: 10\n",
      "\u001b[34m\u001b[1mwandb\u001b[0m: \thidden_dims: [256, 128]\n",
      "\u001b[34m\u001b[1mwandb\u001b[0m: \tlr: 0.001\n",
      "\u001b[34m\u001b[1mwandb\u001b[0m: \tmetrics: ['auroc', 'auprc', 'accuracy']\n",
      "\u001b[34m\u001b[1mwandb\u001b[0m: \tname: kmer_128\n",
      "\u001b[34m\u001b[1mwandb\u001b[0m: \toutdir: models/kmer_128\n",
      "\u001b[34m\u001b[1mwandb\u001b[0m: \tseed: 42\n",
      "\u001b[34m\u001b[1mwandb\u001b[0m: \ttarget: auroc\n",
      "\u001b[34m\u001b[1mwandb\u001b[0m: \ttask: mre\n",
      "\u001b[34m\u001b[1mwandb\u001b[0m: \twd: 1e-05\n",
      "\u001b[34m\u001b[1mwandb\u001b[0m: \tweighted: True\n",
      "Failed to detect the name of this notebook, you can set it manually with the WANDB_NOTEBOOK_NAME environment variable to enable code saving.\n",
      "\u001b[34m\u001b[1mwandb\u001b[0m: \u001b[33mWARNING\u001b[0m Ignored wandb.init() arg project when running a sweep.\n"
     ]
    },
    {
     "data": {
      "text/html": [
       "wandb version 0.21.0 is available!  To upgrade, please run:\n",
       " $ pip install wandb --upgrade"
      ],
      "text/plain": [
       "<IPython.core.display.HTML object>"
      ]
     },
     "metadata": {},
     "output_type": "display_data"
    },
    {
     "data": {
      "text/html": [
       "Tracking run with wandb version 0.15.4"
      ],
      "text/plain": [
       "<IPython.core.display.HTML object>"
      ]
     },
     "metadata": {},
     "output_type": "display_data"
    },
    {
     "data": {
      "text/html": [
       "Run data is saved locally in <code>/oscar/data/larschan/shared_data/bind_gps/seq_modeling/wandb/run-20250711_230856-txt5b9xc</code>"
      ],
      "text/plain": [
       "<IPython.core.display.HTML object>"
      ]
     },
     "metadata": {},
     "output_type": "display_data"
    },
    {
     "data": {
      "text/html": [
       "Syncing run <strong><a href='https://wandb.ai/pranavmahabs/bind_gps/runs/txt5b9xc' target=\"_blank\">kmer_128</a></strong> to <a href='https://wandb.ai/pranavmahabs/bind_gps' target=\"_blank\">Weights & Biases</a> (<a href='https://wandb.me/run' target=\"_blank\">docs</a>)<br/>Sweep page: <a href='https://wandb.ai/pranavmahabs/bind_gps/sweeps/ms3id6yy' target=\"_blank\">https://wandb.ai/pranavmahabs/bind_gps/sweeps/ms3id6yy</a>"
      ],
      "text/plain": [
       "<IPython.core.display.HTML object>"
      ]
     },
     "metadata": {},
     "output_type": "display_data"
    },
    {
     "data": {
      "text/html": [
       " View project at <a href='https://wandb.ai/pranavmahabs/bind_gps' target=\"_blank\">https://wandb.ai/pranavmahabs/bind_gps</a>"
      ],
      "text/plain": [
       "<IPython.core.display.HTML object>"
      ]
     },
     "metadata": {},
     "output_type": "display_data"
    },
    {
     "data": {
      "text/html": [
       " View sweep at <a href='https://wandb.ai/pranavmahabs/bind_gps/sweeps/ms3id6yy' target=\"_blank\">https://wandb.ai/pranavmahabs/bind_gps/sweeps/ms3id6yy</a>"
      ],
      "text/plain": [
       "<IPython.core.display.HTML object>"
      ]
     },
     "metadata": {},
     "output_type": "display_data"
    },
    {
     "data": {
      "text/html": [
       " View run at <a href='https://wandb.ai/pranavmahabs/bind_gps/runs/txt5b9xc' target=\"_blank\">https://wandb.ai/pranavmahabs/bind_gps/runs/txt5b9xc</a>"
      ],
      "text/plain": [
       "<IPython.core.display.HTML object>"
      ]
     },
     "metadata": {},
     "output_type": "display_data"
    },
    {
     "name": "stdout",
     "output_type": "stream",
     "text": [
      "Epoch 0:\n",
      "Train Metrics:\n",
      "\tLoss:1593.3532, Acc: 0.6846:\n",
      "finished evaluation\n",
      "['auroc', 'auprc', 'accuracy']\n",
      "Validation Metrics:\n",
      "\tLoss: 374.7584\n",
      "\tauroc: 0.8240\n",
      "\tauprc: 0.5552\n",
      "\taccuracy: 0.7147\n",
      "\tepoch: 0.0000\n",
      "Epoch 1:\n",
      "Train Metrics:\n",
      "\tLoss:1484.3976, Acc: 0.7330:\n",
      "finished evaluation\n",
      "['auroc', 'auprc', 'accuracy']\n",
      "Validation Metrics:\n",
      "\tLoss: 364.5660\n",
      "\tauroc: 0.8154\n",
      "\tauprc: 0.5303\n",
      "\taccuracy: 0.7058\n",
      "Epoch 2:\n",
      "Train Metrics:\n",
      "\tLoss:1444.6294, Acc: 0.7421:\n",
      "finished evaluation\n",
      "['auroc', 'auprc', 'accuracy']\n",
      "Validation Metrics:\n",
      "\tLoss: 354.1389\n",
      "\tauroc: 0.8388\n",
      "\tauprc: 0.5610\n",
      "\taccuracy: 0.7352\n",
      "\tepoch: 2.0000\n",
      "Epoch 3:\n",
      "Train Metrics:\n",
      "\tLoss:1421.9388, Acc: 0.7483:\n",
      "finished evaluation\n",
      "['auroc', 'auprc', 'accuracy']\n",
      "Validation Metrics:\n",
      "\tLoss: 347.5382\n",
      "\tauroc: 0.8377\n",
      "\tauprc: 0.5583\n",
      "\taccuracy: 0.7719\n",
      "Epoch 4:\n",
      "Train Metrics:\n",
      "\tLoss:1402.7707, Acc: 0.7537:\n",
      "finished evaluation\n",
      "['auroc', 'auprc', 'accuracy']\n",
      "Validation Metrics:\n",
      "\tLoss: 354.8484\n",
      "\tauroc: 0.8388\n",
      "\tauprc: 0.5523\n",
      "\taccuracy: 0.7251\n",
      "Epoch 5:\n",
      "Train Metrics:\n",
      "\tLoss:1392.2705, Acc: 0.7573:\n",
      "finished evaluation\n",
      "['auroc', 'auprc', 'accuracy']\n",
      "Validation Metrics:\n",
      "\tLoss: 354.8354\n",
      "\tauroc: 0.8372\n",
      "\tauprc: 0.5543\n",
      "\taccuracy: 0.7074\n",
      "Epoch 6:\n",
      "Train Metrics:\n",
      "\tLoss:1377.2918, Acc: 0.7618:\n",
      "finished evaluation\n",
      "['auroc', 'auprc', 'accuracy']\n",
      "Validation Metrics:\n",
      "\tLoss: 350.8017\n",
      "\tauroc: 0.8382\n",
      "\tauprc: 0.5640\n",
      "\taccuracy: 0.7566\n",
      "Epoch 7:\n",
      "Train Metrics:\n",
      "\tLoss:1363.3427, Acc: 0.7579:\n",
      "finished evaluation\n",
      "['auroc', 'auprc', 'accuracy']\n",
      "Validation Metrics:\n",
      "\tLoss: 352.1507\n",
      "\tauroc: 0.8407\n",
      "\tauprc: 0.5668\n",
      "\taccuracy: 0.7320\n",
      "\tepoch: 7.0000\n",
      "Epoch 8:\n",
      "Train Metrics:\n",
      "\tLoss:1350.6172, Acc: 0.7571:\n",
      "finished evaluation\n",
      "['auroc', 'auprc', 'accuracy']\n",
      "Validation Metrics:\n",
      "\tLoss: 349.9018\n",
      "\tauroc: 0.8400\n",
      "\tauprc: 0.5432\n",
      "\taccuracy: 0.6918\n",
      "Epoch 9:\n",
      "Train Metrics:\n",
      "\tLoss:1338.5630, Acc: 0.7590:\n",
      "finished evaluation\n",
      "['auroc', 'auprc', 'accuracy']\n",
      "Validation Metrics:\n",
      "\tLoss: 349.9338\n",
      "\tauroc: 0.8415\n",
      "\tauprc: 0.5510\n",
      "\taccuracy: 0.7049\n",
      "\tepoch: 9.0000\n"
     ]
    },
    {
     "data": {
      "text/html": [
       "Waiting for W&B process to finish... <strong style=\"color:green\">(success).</strong>"
      ],
      "text/plain": [
       "<IPython.core.display.HTML object>"
      ]
     },
     "metadata": {},
     "output_type": "display_data"
    },
    {
     "data": {
      "application/vnd.jupyter.widget-view+json": {
       "model_id": "dbba4530ca14496eae42c6e048fd47f9",
       "version_major": 2,
       "version_minor": 0
      },
      "text/plain": [
       "VBox(children=(Label(value='0.008 MB of 0.008 MB uploaded (0.000 MB deduped)\\r'), FloatProgress(value=1.0, max…"
      ]
     },
     "metadata": {},
     "output_type": "display_data"
    },
    {
     "data": {
      "text/html": [
       "<style>\n",
       "    table.wandb td:nth-child(1) { padding: 0 10px; text-align: left ; width: auto;} td:nth-child(2) {text-align: left ; width: 100%}\n",
       "    .wandb-row { display: flex; flex-direction: row; flex-wrap: wrap; justify-content: flex-start; width: 100% }\n",
       "    .wandb-col { display: flex; flex-direction: column; flex-basis: 100%; flex: 1; padding: 10px; }\n",
       "    </style>\n",
       "<div class=\"wandb-row\"><div class=\"wandb-col\"><h3>Run history:</h3><br/><table class=\"wandb\"><tr><td>train_accuracy</td><td>▁▅▆▇▇█████</td></tr><tr><td>train_loss</td><td>█▅▄▃▃▂▂▂▁▁</td></tr><tr><td>val_accuracy</td><td>▃▂▅█▄▂▇▅▁▂</td></tr><tr><td>val_auprc</td><td>▆▁▇▆▅▆▇█▃▅</td></tr><tr><td>val_auroc</td><td>▃▁▇▇▇▇▇███</td></tr><tr><td>val_loss</td><td>█▅▃▁▃▃▂▂▂▂</td></tr></table><br/></div><div class=\"wandb-col\"><h3>Run summary:</h3><br/><table class=\"wandb\"><tr><td>train_accuracy</td><td>0.75898</td></tr><tr><td>train_loss</td><td>1338.56299</td></tr><tr><td>val_accuracy</td><td>0.70489</td></tr><tr><td>val_auprc</td><td>0.55098</td></tr><tr><td>val_auroc</td><td>0.84155</td></tr><tr><td>val_loss</td><td>349.93377</td></tr></table><br/></div></div>"
      ],
      "text/plain": [
       "<IPython.core.display.HTML object>"
      ]
     },
     "metadata": {},
     "output_type": "display_data"
    },
    {
     "data": {
      "text/html": [
       " View run <strong style=\"color:#cdcd00\">kmer_128</strong> at: <a href='https://wandb.ai/pranavmahabs/bind_gps/runs/txt5b9xc' target=\"_blank\">https://wandb.ai/pranavmahabs/bind_gps/runs/txt5b9xc</a><br/>Synced 5 W&B file(s), 0 media file(s), 0 artifact file(s) and 0 other file(s)"
      ],
      "text/plain": [
       "<IPython.core.display.HTML object>"
      ]
     },
     "metadata": {},
     "output_type": "display_data"
    },
    {
     "data": {
      "text/html": [
       "Find logs at: <code>./wandb/run-20250711_230856-txt5b9xc/logs</code>"
      ],
      "text/plain": [
       "<IPython.core.display.HTML object>"
      ]
     },
     "metadata": {},
     "output_type": "display_data"
    },
    {
     "name": "stderr",
     "output_type": "stream",
     "text": [
      "\u001b[34m\u001b[1mwandb\u001b[0m: Agent Starting Run: 8k9syyoe with config:\n",
      "\u001b[34m\u001b[1mwandb\u001b[0m: \tepochs: 10\n",
      "\u001b[34m\u001b[1mwandb\u001b[0m: \thidden_dims: [256, 128]\n",
      "\u001b[34m\u001b[1mwandb\u001b[0m: \tlr: 0.001\n",
      "\u001b[34m\u001b[1mwandb\u001b[0m: \tmetrics: ['auroc', 'auprc', 'accuracy']\n",
      "\u001b[34m\u001b[1mwandb\u001b[0m: \tname: kmer_128\n",
      "\u001b[34m\u001b[1mwandb\u001b[0m: \toutdir: models/kmer_128\n",
      "\u001b[34m\u001b[1mwandb\u001b[0m: \tseed: 42\n",
      "\u001b[34m\u001b[1mwandb\u001b[0m: \ttarget: auroc\n",
      "\u001b[34m\u001b[1mwandb\u001b[0m: \ttask: mre\n",
      "\u001b[34m\u001b[1mwandb\u001b[0m: \twd: 1e-05\n",
      "\u001b[34m\u001b[1mwandb\u001b[0m: \tweighted: False\n",
      "Failed to detect the name of this notebook, you can set it manually with the WANDB_NOTEBOOK_NAME environment variable to enable code saving.\n",
      "\u001b[34m\u001b[1mwandb\u001b[0m: \u001b[33mWARNING\u001b[0m Ignored wandb.init() arg project when running a sweep.\n"
     ]
    },
    {
     "data": {
      "text/html": [
       "wandb version 0.21.0 is available!  To upgrade, please run:\n",
       " $ pip install wandb --upgrade"
      ],
      "text/plain": [
       "<IPython.core.display.HTML object>"
      ]
     },
     "metadata": {},
     "output_type": "display_data"
    },
    {
     "data": {
      "text/html": [
       "Tracking run with wandb version 0.15.4"
      ],
      "text/plain": [
       "<IPython.core.display.HTML object>"
      ]
     },
     "metadata": {},
     "output_type": "display_data"
    },
    {
     "data": {
      "text/html": [
       "Run data is saved locally in <code>/oscar/data/larschan/shared_data/bind_gps/seq_modeling/wandb/run-20250711_230947-8k9syyoe</code>"
      ],
      "text/plain": [
       "<IPython.core.display.HTML object>"
      ]
     },
     "metadata": {},
     "output_type": "display_data"
    },
    {
     "data": {
      "text/html": [
       "Syncing run <strong><a href='https://wandb.ai/pranavmahabs/bind_gps/runs/8k9syyoe' target=\"_blank\">kmer_128</a></strong> to <a href='https://wandb.ai/pranavmahabs/bind_gps' target=\"_blank\">Weights & Biases</a> (<a href='https://wandb.me/run' target=\"_blank\">docs</a>)<br/>Sweep page: <a href='https://wandb.ai/pranavmahabs/bind_gps/sweeps/ms3id6yy' target=\"_blank\">https://wandb.ai/pranavmahabs/bind_gps/sweeps/ms3id6yy</a>"
      ],
      "text/plain": [
       "<IPython.core.display.HTML object>"
      ]
     },
     "metadata": {},
     "output_type": "display_data"
    },
    {
     "data": {
      "text/html": [
       " View project at <a href='https://wandb.ai/pranavmahabs/bind_gps' target=\"_blank\">https://wandb.ai/pranavmahabs/bind_gps</a>"
      ],
      "text/plain": [
       "<IPython.core.display.HTML object>"
      ]
     },
     "metadata": {},
     "output_type": "display_data"
    },
    {
     "data": {
      "text/html": [
       " View sweep at <a href='https://wandb.ai/pranavmahabs/bind_gps/sweeps/ms3id6yy' target=\"_blank\">https://wandb.ai/pranavmahabs/bind_gps/sweeps/ms3id6yy</a>"
      ],
      "text/plain": [
       "<IPython.core.display.HTML object>"
      ]
     },
     "metadata": {},
     "output_type": "display_data"
    },
    {
     "data": {
      "text/html": [
       " View run at <a href='https://wandb.ai/pranavmahabs/bind_gps/runs/8k9syyoe' target=\"_blank\">https://wandb.ai/pranavmahabs/bind_gps/runs/8k9syyoe</a>"
      ],
      "text/plain": [
       "<IPython.core.display.HTML object>"
      ]
     },
     "metadata": {},
     "output_type": "display_data"
    },
    {
     "name": "stdout",
     "output_type": "stream",
     "text": [
      "Epoch 0:\n",
      "Train Metrics:\n",
      "\tLoss:717.9150, Acc: 0.8674:\n",
      "finished evaluation\n",
      "['auroc', 'auprc', 'accuracy']\n",
      "Validation Metrics:\n",
      "\tLoss: 158.5344\n",
      "\tauroc: 0.8461\n",
      "\tauprc: 0.5808\n",
      "\taccuracy: 0.8785\n",
      "\tepoch: 0.0000\n",
      "Epoch 1:\n",
      "Train Metrics:\n",
      "\tLoss:651.2235, Acc: 0.8770:\n",
      "finished evaluation\n",
      "['auroc', 'auprc', 'accuracy']\n",
      "Validation Metrics:\n",
      "\tLoss: 156.9752\n",
      "\tauroc: 0.8567\n",
      "\tauprc: 0.5925\n",
      "\taccuracy: 0.8802\n",
      "\tepoch: 1.0000\n",
      "Epoch 2:\n",
      "Train Metrics:\n",
      "\tLoss:636.8734, Acc: 0.8780:\n",
      "finished evaluation\n",
      "['auroc', 'auprc', 'accuracy']\n",
      "Validation Metrics:\n",
      "\tLoss: 153.2113\n",
      "\tauroc: 0.8624\n",
      "\tauprc: 0.5955\n",
      "\taccuracy: 0.8808\n",
      "\tepoch: 2.0000\n",
      "Epoch 3:\n",
      "Train Metrics:\n",
      "\tLoss:626.5361, Acc: 0.8792:\n",
      "finished evaluation\n",
      "['auroc', 'auprc', 'accuracy']\n",
      "Validation Metrics:\n",
      "\tLoss: 153.6761\n",
      "\tauroc: 0.8635\n",
      "\tauprc: 0.6019\n",
      "\taccuracy: 0.8829\n",
      "\tepoch: 3.0000\n",
      "Epoch 4:\n",
      "Train Metrics:\n",
      "\tLoss:622.6196, Acc: 0.8794:\n",
      "finished evaluation\n",
      "['auroc', 'auprc', 'accuracy']\n",
      "Validation Metrics:\n",
      "\tLoss: 151.7542\n",
      "\tauroc: 0.8648\n",
      "\tauprc: 0.5995\n",
      "\taccuracy: 0.8814\n",
      "\tepoch: 4.0000\n",
      "Epoch 5:\n",
      "Train Metrics:\n",
      "\tLoss:614.5227, Acc: 0.8811:\n",
      "finished evaluation\n",
      "['auroc', 'auprc', 'accuracy']\n",
      "Validation Metrics:\n",
      "\tLoss: 151.8646\n",
      "\tauroc: 0.8655\n",
      "\tauprc: 0.6046\n",
      "\taccuracy: 0.8817\n",
      "\tepoch: 5.0000\n",
      "Epoch 6:\n",
      "Train Metrics:\n",
      "\tLoss:609.7965, Acc: 0.8811:\n",
      "finished evaluation\n",
      "['auroc', 'auprc', 'accuracy']\n",
      "Validation Metrics:\n",
      "\tLoss: 150.1007\n",
      "\tauroc: 0.8657\n",
      "\tauprc: 0.6077\n",
      "\taccuracy: 0.8836\n",
      "\tepoch: 6.0000\n",
      "Epoch 7:\n",
      "Train Metrics:\n",
      "\tLoss:606.4616, Acc: 0.8814:\n",
      "finished evaluation\n",
      "['auroc', 'auprc', 'accuracy']\n",
      "Validation Metrics:\n",
      "\tLoss: 148.9463\n",
      "\tauroc: 0.8667\n",
      "\tauprc: 0.6069\n",
      "\taccuracy: 0.8836\n",
      "\tepoch: 7.0000\n",
      "Epoch 8:\n",
      "Train Metrics:\n",
      "\tLoss:600.4733, Acc: 0.8822:\n",
      "finished evaluation\n",
      "['auroc', 'auprc', 'accuracy']\n",
      "Validation Metrics:\n",
      "\tLoss: 148.0000\n",
      "\tauroc: 0.8701\n",
      "\tauprc: 0.6077\n",
      "\taccuracy: 0.8851\n",
      "\tepoch: 8.0000\n",
      "Epoch 9:\n",
      "Train Metrics:\n",
      "\tLoss:598.5060, Acc: 0.8825:\n",
      "finished evaluation\n",
      "['auroc', 'auprc', 'accuracy']\n",
      "Validation Metrics:\n",
      "\tLoss: 148.7557\n",
      "\tauroc: 0.8699\n",
      "\tauprc: 0.6080\n",
      "\taccuracy: 0.8829\n"
     ]
    },
    {
     "data": {
      "text/html": [
       "Waiting for W&B process to finish... <strong style=\"color:green\">(success).</strong>"
      ],
      "text/plain": [
       "<IPython.core.display.HTML object>"
      ]
     },
     "metadata": {},
     "output_type": "display_data"
    },
    {
     "data": {
      "application/vnd.jupyter.widget-view+json": {
       "model_id": "587c547370c147d492dd3673928c4d67",
       "version_major": 2,
       "version_minor": 0
      },
      "text/plain": [
       "VBox(children=(Label(value='0.008 MB of 0.008 MB uploaded (0.000 MB deduped)\\r'), FloatProgress(value=1.0, max…"
      ]
     },
     "metadata": {},
     "output_type": "display_data"
    },
    {
     "data": {
      "text/html": [
       "<style>\n",
       "    table.wandb td:nth-child(1) { padding: 0 10px; text-align: left ; width: auto;} td:nth-child(2) {text-align: left ; width: 100%}\n",
       "    .wandb-row { display: flex; flex-direction: row; flex-wrap: wrap; justify-content: flex-start; width: 100% }\n",
       "    .wandb-col { display: flex; flex-direction: column; flex-basis: 100%; flex: 1; padding: 10px; }\n",
       "    </style>\n",
       "<div class=\"wandb-row\"><div class=\"wandb-col\"><h3>Run history:</h3><br/><table class=\"wandb\"><tr><td>train_accuracy</td><td>▁▅▆▆▇▇▇███</td></tr><tr><td>train_loss</td><td>█▄▃▃▂▂▂▁▁▁</td></tr><tr><td>val_accuracy</td><td>▁▃▃▆▄▄▆▆█▆</td></tr><tr><td>val_auprc</td><td>▁▄▅▆▆▇████</td></tr><tr><td>val_auroc</td><td>▁▄▆▆▆▇▇▇██</td></tr><tr><td>val_loss</td><td>█▇▄▅▃▄▂▂▁▂</td></tr></table><br/></div><div class=\"wandb-col\"><h3>Run summary:</h3><br/><table class=\"wandb\"><tr><td>train_accuracy</td><td>0.88247</td></tr><tr><td>train_loss</td><td>598.50604</td></tr><tr><td>val_accuracy</td><td>0.88286</td></tr><tr><td>val_auprc</td><td>0.60805</td></tr><tr><td>val_auroc</td><td>0.86986</td></tr><tr><td>val_loss</td><td>148.75572</td></tr></table><br/></div></div>"
      ],
      "text/plain": [
       "<IPython.core.display.HTML object>"
      ]
     },
     "metadata": {},
     "output_type": "display_data"
    },
    {
     "data": {
      "text/html": [
       " View run <strong style=\"color:#cdcd00\">kmer_128</strong> at: <a href='https://wandb.ai/pranavmahabs/bind_gps/runs/8k9syyoe' target=\"_blank\">https://wandb.ai/pranavmahabs/bind_gps/runs/8k9syyoe</a><br/>Synced 5 W&B file(s), 0 media file(s), 0 artifact file(s) and 0 other file(s)"
      ],
      "text/plain": [
       "<IPython.core.display.HTML object>"
      ]
     },
     "metadata": {},
     "output_type": "display_data"
    },
    {
     "data": {
      "text/html": [
       "Find logs at: <code>./wandb/run-20250711_230947-8k9syyoe/logs</code>"
      ],
      "text/plain": [
       "<IPython.core.display.HTML object>"
      ]
     },
     "metadata": {},
     "output_type": "display_data"
    },
    {
     "name": "stderr",
     "output_type": "stream",
     "text": [
      "\u001b[34m\u001b[1mwandb\u001b[0m: Agent Starting Run: 5bdzz9p6 with config:\n",
      "\u001b[34m\u001b[1mwandb\u001b[0m: \tepochs: 10\n",
      "\u001b[34m\u001b[1mwandb\u001b[0m: \thidden_dims: [256, 128]\n",
      "\u001b[34m\u001b[1mwandb\u001b[0m: \tlr: 0.001\n",
      "\u001b[34m\u001b[1mwandb\u001b[0m: \tmetrics: ['auroc', 'auprc', 'accuracy']\n",
      "\u001b[34m\u001b[1mwandb\u001b[0m: \tname: kmer_128\n",
      "\u001b[34m\u001b[1mwandb\u001b[0m: \toutdir: models/kmer_128\n",
      "\u001b[34m\u001b[1mwandb\u001b[0m: \tseed: 42\n",
      "\u001b[34m\u001b[1mwandb\u001b[0m: \ttarget: auroc\n",
      "\u001b[34m\u001b[1mwandb\u001b[0m: \ttask: mre\n",
      "\u001b[34m\u001b[1mwandb\u001b[0m: \twd: 1e-06\n",
      "\u001b[34m\u001b[1mwandb\u001b[0m: \tweighted: True\n",
      "Failed to detect the name of this notebook, you can set it manually with the WANDB_NOTEBOOK_NAME environment variable to enable code saving.\n",
      "\u001b[34m\u001b[1mwandb\u001b[0m: \u001b[33mWARNING\u001b[0m Ignored wandb.init() arg project when running a sweep.\n"
     ]
    },
    {
     "data": {
      "text/html": [
       "wandb version 0.21.0 is available!  To upgrade, please run:\n",
       " $ pip install wandb --upgrade"
      ],
      "text/plain": [
       "<IPython.core.display.HTML object>"
      ]
     },
     "metadata": {},
     "output_type": "display_data"
    },
    {
     "data": {
      "text/html": [
       "Tracking run with wandb version 0.15.4"
      ],
      "text/plain": [
       "<IPython.core.display.HTML object>"
      ]
     },
     "metadata": {},
     "output_type": "display_data"
    },
    {
     "data": {
      "text/html": [
       "Run data is saved locally in <code>/oscar/data/larschan/shared_data/bind_gps/seq_modeling/wandb/run-20250711_231042-5bdzz9p6</code>"
      ],
      "text/plain": [
       "<IPython.core.display.HTML object>"
      ]
     },
     "metadata": {},
     "output_type": "display_data"
    },
    {
     "data": {
      "text/html": [
       "Syncing run <strong><a href='https://wandb.ai/pranavmahabs/bind_gps/runs/5bdzz9p6' target=\"_blank\">kmer_128</a></strong> to <a href='https://wandb.ai/pranavmahabs/bind_gps' target=\"_blank\">Weights & Biases</a> (<a href='https://wandb.me/run' target=\"_blank\">docs</a>)<br/>Sweep page: <a href='https://wandb.ai/pranavmahabs/bind_gps/sweeps/ms3id6yy' target=\"_blank\">https://wandb.ai/pranavmahabs/bind_gps/sweeps/ms3id6yy</a>"
      ],
      "text/plain": [
       "<IPython.core.display.HTML object>"
      ]
     },
     "metadata": {},
     "output_type": "display_data"
    },
    {
     "data": {
      "text/html": [
       " View project at <a href='https://wandb.ai/pranavmahabs/bind_gps' target=\"_blank\">https://wandb.ai/pranavmahabs/bind_gps</a>"
      ],
      "text/plain": [
       "<IPython.core.display.HTML object>"
      ]
     },
     "metadata": {},
     "output_type": "display_data"
    },
    {
     "data": {
      "text/html": [
       " View sweep at <a href='https://wandb.ai/pranavmahabs/bind_gps/sweeps/ms3id6yy' target=\"_blank\">https://wandb.ai/pranavmahabs/bind_gps/sweeps/ms3id6yy</a>"
      ],
      "text/plain": [
       "<IPython.core.display.HTML object>"
      ]
     },
     "metadata": {},
     "output_type": "display_data"
    },
    {
     "data": {
      "text/html": [
       " View run at <a href='https://wandb.ai/pranavmahabs/bind_gps/runs/5bdzz9p6' target=\"_blank\">https://wandb.ai/pranavmahabs/bind_gps/runs/5bdzz9p6</a>"
      ],
      "text/plain": [
       "<IPython.core.display.HTML object>"
      ]
     },
     "metadata": {},
     "output_type": "display_data"
    },
    {
     "name": "stdout",
     "output_type": "stream",
     "text": [
      "Epoch 0:\n",
      "Train Metrics:\n",
      "\tLoss:1600.0425, Acc: 0.6836:\n",
      "finished evaluation\n",
      "['auroc', 'auprc', 'accuracy']\n",
      "Validation Metrics:\n",
      "\tLoss: 373.0173\n",
      "\tauroc: 0.8233\n",
      "\tauprc: 0.5561\n",
      "\taccuracy: 0.7450\n",
      "\tepoch: 0.0000\n",
      "Epoch 1:\n",
      "Train Metrics:\n",
      "\tLoss:1480.0749, Acc: 0.7359:\n",
      "finished evaluation\n",
      "['auroc', 'auprc', 'accuracy']\n",
      "Validation Metrics:\n",
      "\tLoss: 354.4935\n",
      "\tauroc: 0.8327\n",
      "\tauprc: 0.5572\n",
      "\taccuracy: 0.8004\n",
      "\tepoch: 1.0000\n",
      "Epoch 2:\n",
      "Train Metrics:\n",
      "\tLoss:1455.0905, Acc: 0.7496:\n",
      "finished evaluation\n",
      "['auroc', 'auprc', 'accuracy']\n",
      "Validation Metrics:\n",
      "\tLoss: 354.2650\n",
      "\tauroc: 0.8427\n",
      "\tauprc: 0.5618\n",
      "\taccuracy: 0.7942\n",
      "\tepoch: 2.0000\n",
      "Epoch 3:\n",
      "Train Metrics:\n",
      "\tLoss:1424.3853, Acc: 0.7551:\n",
      "finished evaluation\n",
      "['auroc', 'auprc', 'accuracy']\n",
      "Validation Metrics:\n",
      "\tLoss: 355.7416\n",
      "\tauroc: 0.8347\n",
      "\tauprc: 0.5562\n",
      "\taccuracy: 0.7924\n",
      "Epoch 4:\n",
      "Train Metrics:\n",
      "\tLoss:1409.3732, Acc: 0.7555:\n",
      "finished evaluation\n",
      "['auroc', 'auprc', 'accuracy']\n",
      "Validation Metrics:\n",
      "\tLoss: 346.1518\n",
      "\tauroc: 0.8482\n",
      "\tauprc: 0.5649\n",
      "\taccuracy: 0.7687\n",
      "\tepoch: 4.0000\n",
      "Epoch 5:\n",
      "Train Metrics:\n",
      "\tLoss:1399.4878, Acc: 0.7595:\n",
      "finished evaluation\n",
      "['auroc', 'auprc', 'accuracy']\n",
      "Validation Metrics:\n",
      "\tLoss: 350.2936\n",
      "\tauroc: 0.8410\n",
      "\tauprc: 0.5569\n",
      "\taccuracy: 0.7464\n",
      "Epoch 6:\n",
      "Train Metrics:\n",
      "\tLoss:1376.7880, Acc: 0.7600:\n",
      "finished evaluation\n",
      "['auroc', 'auprc', 'accuracy']\n",
      "Validation Metrics:\n",
      "\tLoss: 345.3905\n",
      "\tauroc: 0.8381\n",
      "\tauprc: 0.5456\n",
      "\taccuracy: 0.7327\n",
      "Epoch 7:\n",
      "Train Metrics:\n",
      "\tLoss:1360.5260, Acc: 0.7616:\n",
      "finished evaluation\n",
      "['auroc', 'auprc', 'accuracy']\n",
      "Validation Metrics:\n",
      "\tLoss: 348.5390\n",
      "\tauroc: 0.8370\n",
      "\tauprc: 0.5475\n",
      "\taccuracy: 0.7184\n",
      "Epoch 8:\n",
      "Train Metrics:\n",
      "\tLoss:1346.3565, Acc: 0.7604:\n",
      "finished evaluation\n",
      "['auroc', 'auprc', 'accuracy']\n",
      "Validation Metrics:\n",
      "\tLoss: 342.8745\n",
      "\tauroc: 0.8433\n",
      "\tauprc: 0.5605\n",
      "\taccuracy: 0.7742\n",
      "Epoch 9:\n",
      "Train Metrics:\n",
      "\tLoss:1347.1516, Acc: 0.7604:\n",
      "finished evaluation\n",
      "['auroc', 'auprc', 'accuracy']\n",
      "Validation Metrics:\n",
      "\tLoss: 343.6236\n",
      "\tauroc: 0.8407\n",
      "\tauprc: 0.5517\n",
      "\taccuracy: 0.7320\n"
     ]
    },
    {
     "data": {
      "text/html": [
       "Waiting for W&B process to finish... <strong style=\"color:green\">(success).</strong>"
      ],
      "text/plain": [
       "<IPython.core.display.HTML object>"
      ]
     },
     "metadata": {},
     "output_type": "display_data"
    },
    {
     "data": {
      "application/vnd.jupyter.widget-view+json": {
       "model_id": "6431350cb34646c388a330d1329888d7",
       "version_major": 2,
       "version_minor": 0
      },
      "text/plain": [
       "VBox(children=(Label(value='0.008 MB of 0.008 MB uploaded (0.000 MB deduped)\\r'), FloatProgress(value=1.0, max…"
      ]
     },
     "metadata": {},
     "output_type": "display_data"
    },
    {
     "data": {
      "text/html": [
       "<style>\n",
       "    table.wandb td:nth-child(1) { padding: 0 10px; text-align: left ; width: auto;} td:nth-child(2) {text-align: left ; width: 100%}\n",
       "    .wandb-row { display: flex; flex-direction: row; flex-wrap: wrap; justify-content: flex-start; width: 100% }\n",
       "    .wandb-col { display: flex; flex-direction: column; flex-basis: 100%; flex: 1; padding: 10px; }\n",
       "    </style>\n",
       "<div class=\"wandb-row\"><div class=\"wandb-col\"><h3>Run history:</h3><br/><table class=\"wandb\"><tr><td>train_accuracy</td><td>▁▆▇▇▇█████</td></tr><tr><td>train_loss</td><td>█▅▄▃▃▂▂▁▁▁</td></tr><tr><td>val_accuracy</td><td>▃█▇▇▅▃▂▁▆▂</td></tr><tr><td>val_auprc</td><td>▅▅▇▅█▅▁▂▆▃</td></tr><tr><td>val_auroc</td><td>▁▄▆▄█▆▅▅▇▆</td></tr><tr><td>val_loss</td><td>█▄▄▄▂▃▂▂▁▁</td></tr></table><br/></div><div class=\"wandb-col\"><h3>Run summary:</h3><br/><table class=\"wandb\"><tr><td>train_accuracy</td><td>0.7604</td></tr><tr><td>train_loss</td><td>1347.15162</td></tr><tr><td>val_accuracy</td><td>0.732</td></tr><tr><td>val_auprc</td><td>0.55167</td></tr><tr><td>val_auroc</td><td>0.84068</td></tr><tr><td>val_loss</td><td>343.62364</td></tr></table><br/></div></div>"
      ],
      "text/plain": [
       "<IPython.core.display.HTML object>"
      ]
     },
     "metadata": {},
     "output_type": "display_data"
    },
    {
     "data": {
      "text/html": [
       " View run <strong style=\"color:#cdcd00\">kmer_128</strong> at: <a href='https://wandb.ai/pranavmahabs/bind_gps/runs/5bdzz9p6' target=\"_blank\">https://wandb.ai/pranavmahabs/bind_gps/runs/5bdzz9p6</a><br/>Synced 5 W&B file(s), 0 media file(s), 0 artifact file(s) and 0 other file(s)"
      ],
      "text/plain": [
       "<IPython.core.display.HTML object>"
      ]
     },
     "metadata": {},
     "output_type": "display_data"
    },
    {
     "data": {
      "text/html": [
       "Find logs at: <code>./wandb/run-20250711_231042-5bdzz9p6/logs</code>"
      ],
      "text/plain": [
       "<IPython.core.display.HTML object>"
      ]
     },
     "metadata": {},
     "output_type": "display_data"
    },
    {
     "name": "stderr",
     "output_type": "stream",
     "text": [
      "\u001b[34m\u001b[1mwandb\u001b[0m: Agent Starting Run: wx9p9xvd with config:\n",
      "\u001b[34m\u001b[1mwandb\u001b[0m: \tepochs: 10\n",
      "\u001b[34m\u001b[1mwandb\u001b[0m: \thidden_dims: [256, 128]\n",
      "\u001b[34m\u001b[1mwandb\u001b[0m: \tlr: 0.001\n",
      "\u001b[34m\u001b[1mwandb\u001b[0m: \tmetrics: ['auroc', 'auprc', 'accuracy']\n",
      "\u001b[34m\u001b[1mwandb\u001b[0m: \tname: kmer_128\n",
      "\u001b[34m\u001b[1mwandb\u001b[0m: \toutdir: models/kmer_128\n",
      "\u001b[34m\u001b[1mwandb\u001b[0m: \tseed: 42\n",
      "\u001b[34m\u001b[1mwandb\u001b[0m: \ttarget: auroc\n",
      "\u001b[34m\u001b[1mwandb\u001b[0m: \ttask: mre\n",
      "\u001b[34m\u001b[1mwandb\u001b[0m: \twd: 1e-06\n",
      "\u001b[34m\u001b[1mwandb\u001b[0m: \tweighted: False\n",
      "Failed to detect the name of this notebook, you can set it manually with the WANDB_NOTEBOOK_NAME environment variable to enable code saving.\n",
      "\u001b[34m\u001b[1mwandb\u001b[0m: \u001b[33mWARNING\u001b[0m Ignored wandb.init() arg project when running a sweep.\n"
     ]
    },
    {
     "data": {
      "text/html": [
       "wandb version 0.21.0 is available!  To upgrade, please run:\n",
       " $ pip install wandb --upgrade"
      ],
      "text/plain": [
       "<IPython.core.display.HTML object>"
      ]
     },
     "metadata": {},
     "output_type": "display_data"
    },
    {
     "data": {
      "text/html": [
       "Tracking run with wandb version 0.15.4"
      ],
      "text/plain": [
       "<IPython.core.display.HTML object>"
      ]
     },
     "metadata": {},
     "output_type": "display_data"
    },
    {
     "data": {
      "text/html": [
       "Run data is saved locally in <code>/oscar/data/larschan/shared_data/bind_gps/seq_modeling/wandb/run-20250711_231134-wx9p9xvd</code>"
      ],
      "text/plain": [
       "<IPython.core.display.HTML object>"
      ]
     },
     "metadata": {},
     "output_type": "display_data"
    },
    {
     "data": {
      "text/html": [
       "Syncing run <strong><a href='https://wandb.ai/pranavmahabs/bind_gps/runs/wx9p9xvd' target=\"_blank\">kmer_128</a></strong> to <a href='https://wandb.ai/pranavmahabs/bind_gps' target=\"_blank\">Weights & Biases</a> (<a href='https://wandb.me/run' target=\"_blank\">docs</a>)<br/>Sweep page: <a href='https://wandb.ai/pranavmahabs/bind_gps/sweeps/ms3id6yy' target=\"_blank\">https://wandb.ai/pranavmahabs/bind_gps/sweeps/ms3id6yy</a>"
      ],
      "text/plain": [
       "<IPython.core.display.HTML object>"
      ]
     },
     "metadata": {},
     "output_type": "display_data"
    },
    {
     "data": {
      "text/html": [
       " View project at <a href='https://wandb.ai/pranavmahabs/bind_gps' target=\"_blank\">https://wandb.ai/pranavmahabs/bind_gps</a>"
      ],
      "text/plain": [
       "<IPython.core.display.HTML object>"
      ]
     },
     "metadata": {},
     "output_type": "display_data"
    },
    {
     "data": {
      "text/html": [
       " View sweep at <a href='https://wandb.ai/pranavmahabs/bind_gps/sweeps/ms3id6yy' target=\"_blank\">https://wandb.ai/pranavmahabs/bind_gps/sweeps/ms3id6yy</a>"
      ],
      "text/plain": [
       "<IPython.core.display.HTML object>"
      ]
     },
     "metadata": {},
     "output_type": "display_data"
    },
    {
     "data": {
      "text/html": [
       " View run at <a href='https://wandb.ai/pranavmahabs/bind_gps/runs/wx9p9xvd' target=\"_blank\">https://wandb.ai/pranavmahabs/bind_gps/runs/wx9p9xvd</a>"
      ],
      "text/plain": [
       "<IPython.core.display.HTML object>"
      ]
     },
     "metadata": {},
     "output_type": "display_data"
    },
    {
     "name": "stdout",
     "output_type": "stream",
     "text": [
      "Epoch 0:\n",
      "Train Metrics:\n",
      "\tLoss:712.3771, Acc: 0.8694:\n",
      "finished evaluation\n",
      "['auroc', 'auprc', 'accuracy']\n",
      "Validation Metrics:\n",
      "\tLoss: 158.3519\n",
      "\tauroc: 0.8454\n",
      "\tauprc: 0.5823\n",
      "\taccuracy: 0.8798\n",
      "\tepoch: 0.0000\n",
      "Epoch 1:\n",
      "Train Metrics:\n",
      "\tLoss:649.7934, Acc: 0.8772:\n",
      "finished evaluation\n",
      "['auroc', 'auprc', 'accuracy']\n",
      "Validation Metrics:\n",
      "\tLoss: 157.5916\n",
      "\tauroc: 0.8499\n",
      "\tauprc: 0.5793\n",
      "\taccuracy: 0.8765\n",
      "\tepoch: 1.0000\n",
      "Epoch 2:\n",
      "Train Metrics:\n",
      "\tLoss:637.1966, Acc: 0.8781:\n",
      "finished evaluation\n",
      "['auroc', 'auprc', 'accuracy']\n",
      "Validation Metrics:\n",
      "\tLoss: 154.9558\n",
      "\tauroc: 0.8608\n",
      "\tauprc: 0.5970\n",
      "\taccuracy: 0.8811\n",
      "\tepoch: 2.0000\n",
      "Epoch 3:\n",
      "Train Metrics:\n",
      "\tLoss:624.2266, Acc: 0.8797:\n",
      "finished evaluation\n",
      "['auroc', 'auprc', 'accuracy']\n",
      "Validation Metrics:\n",
      "\tLoss: 152.5145\n",
      "\tauroc: 0.8648\n",
      "\tauprc: 0.6047\n",
      "\taccuracy: 0.8838\n",
      "\tepoch: 3.0000\n",
      "Epoch 4:\n",
      "Train Metrics:\n",
      "\tLoss:618.2334, Acc: 0.8802:\n",
      "finished evaluation\n",
      "['auroc', 'auprc', 'accuracy']\n",
      "Validation Metrics:\n",
      "\tLoss: 152.7374\n",
      "\tauroc: 0.8641\n",
      "\tauprc: 0.6005\n",
      "\taccuracy: 0.8825\n",
      "Epoch 5:\n",
      "Train Metrics:\n",
      "\tLoss:614.6210, Acc: 0.8806:\n",
      "finished evaluation\n",
      "['auroc', 'auprc', 'accuracy']\n",
      "Validation Metrics:\n",
      "\tLoss: 150.0153\n",
      "\tauroc: 0.8662\n",
      "\tauprc: 0.6079\n",
      "\taccuracy: 0.8834\n",
      "\tepoch: 5.0000\n",
      "Epoch 6:\n",
      "Train Metrics:\n",
      "\tLoss:610.4057, Acc: 0.8809:\n",
      "finished evaluation\n",
      "['auroc', 'auprc', 'accuracy']\n",
      "Validation Metrics:\n",
      "\tLoss: 150.5598\n",
      "\tauroc: 0.8657\n",
      "\tauprc: 0.6050\n",
      "\taccuracy: 0.8837\n",
      "Epoch 7:\n",
      "Train Metrics:\n",
      "\tLoss:604.3881, Acc: 0.8816:\n",
      "finished evaluation\n",
      "['auroc', 'auprc', 'accuracy']\n",
      "Validation Metrics:\n",
      "\tLoss: 154.0887\n",
      "\tauroc: 0.8656\n",
      "\tauprc: 0.6066\n",
      "\taccuracy: 0.8839\n",
      "Epoch 8:\n",
      "Train Metrics:\n",
      "\tLoss:601.0534, Acc: 0.8825:\n",
      "finished evaluation\n",
      "['auroc', 'auprc', 'accuracy']\n",
      "Validation Metrics:\n",
      "\tLoss: 151.4260\n",
      "\tauroc: 0.8643\n",
      "\tauprc: 0.6032\n",
      "\taccuracy: 0.8828\n",
      "Epoch 9:\n",
      "Train Metrics:\n",
      "\tLoss:597.7910, Acc: 0.8826:\n",
      "finished evaluation\n",
      "['auroc', 'auprc', 'accuracy']\n",
      "Validation Metrics:\n",
      "\tLoss: 149.2834\n",
      "\tauroc: 0.8689\n",
      "\tauprc: 0.6091\n",
      "\taccuracy: 0.8848\n",
      "\tepoch: 9.0000\n"
     ]
    },
    {
     "data": {
      "text/html": [
       "Waiting for W&B process to finish... <strong style=\"color:green\">(success).</strong>"
      ],
      "text/plain": [
       "<IPython.core.display.HTML object>"
      ]
     },
     "metadata": {},
     "output_type": "display_data"
    },
    {
     "data": {
      "application/vnd.jupyter.widget-view+json": {
       "model_id": "fa2bc500c7d444afb459016a7c501ed8",
       "version_major": 2,
       "version_minor": 0
      },
      "text/plain": [
       "VBox(children=(Label(value='0.008 MB of 0.008 MB uploaded (0.000 MB deduped)\\r'), FloatProgress(value=1.0, max…"
      ]
     },
     "metadata": {},
     "output_type": "display_data"
    },
    {
     "data": {
      "text/html": [
       "<style>\n",
       "    table.wandb td:nth-child(1) { padding: 0 10px; text-align: left ; width: auto;} td:nth-child(2) {text-align: left ; width: 100%}\n",
       "    .wandb-row { display: flex; flex-direction: row; flex-wrap: wrap; justify-content: flex-start; width: 100% }\n",
       "    .wandb-col { display: flex; flex-direction: column; flex-basis: 100%; flex: 1; padding: 10px; }\n",
       "    </style>\n",
       "<div class=\"wandb-row\"><div class=\"wandb-col\"><h3>Run history:</h3><br/><table class=\"wandb\"><tr><td>train_accuracy</td><td>▁▅▆▆▇▇▇▇██</td></tr><tr><td>train_loss</td><td>█▄▃▃▂▂▂▁▁▁</td></tr><tr><td>val_accuracy</td><td>▄▁▅▇▆▇▇▇▆█</td></tr><tr><td>val_auprc</td><td>▂▁▅▇▆█▇▇▇█</td></tr><tr><td>val_auroc</td><td>▁▂▆▇▇▇▇▇▇█</td></tr><tr><td>val_loss</td><td>█▇▅▃▄▂▂▅▃▁</td></tr></table><br/></div><div class=\"wandb-col\"><h3>Run summary:</h3><br/><table class=\"wandb\"><tr><td>train_accuracy</td><td>0.88262</td></tr><tr><td>train_loss</td><td>597.79096</td></tr><tr><td>val_accuracy</td><td>0.88479</td></tr><tr><td>val_auprc</td><td>0.60905</td></tr><tr><td>val_auroc</td><td>0.86891</td></tr><tr><td>val_loss</td><td>149.28343</td></tr></table><br/></div></div>"
      ],
      "text/plain": [
       "<IPython.core.display.HTML object>"
      ]
     },
     "metadata": {},
     "output_type": "display_data"
    },
    {
     "data": {
      "text/html": [
       " View run <strong style=\"color:#cdcd00\">kmer_128</strong> at: <a href='https://wandb.ai/pranavmahabs/bind_gps/runs/wx9p9xvd' target=\"_blank\">https://wandb.ai/pranavmahabs/bind_gps/runs/wx9p9xvd</a><br/>Synced 5 W&B file(s), 0 media file(s), 0 artifact file(s) and 0 other file(s)"
      ],
      "text/plain": [
       "<IPython.core.display.HTML object>"
      ]
     },
     "metadata": {},
     "output_type": "display_data"
    },
    {
     "data": {
      "text/html": [
       "Find logs at: <code>./wandb/run-20250711_231134-wx9p9xvd/logs</code>"
      ],
      "text/plain": [
       "<IPython.core.display.HTML object>"
      ]
     },
     "metadata": {},
     "output_type": "display_data"
    },
    {
     "name": "stderr",
     "output_type": "stream",
     "text": [
      "\u001b[34m\u001b[1mwandb\u001b[0m: Agent Starting Run: pl4c9isk with config:\n",
      "\u001b[34m\u001b[1mwandb\u001b[0m: \tepochs: 10\n",
      "\u001b[34m\u001b[1mwandb\u001b[0m: \thidden_dims: [256, 128]\n",
      "\u001b[34m\u001b[1mwandb\u001b[0m: \tlr: 0.001\n",
      "\u001b[34m\u001b[1mwandb\u001b[0m: \tmetrics: ['auroc', 'auprc', 'accuracy']\n",
      "\u001b[34m\u001b[1mwandb\u001b[0m: \tname: kmer_128\n",
      "\u001b[34m\u001b[1mwandb\u001b[0m: \toutdir: models/kmer_128\n",
      "\u001b[34m\u001b[1mwandb\u001b[0m: \tseed: 42\n",
      "\u001b[34m\u001b[1mwandb\u001b[0m: \ttarget: auroc\n",
      "\u001b[34m\u001b[1mwandb\u001b[0m: \ttask: gene\n",
      "\u001b[34m\u001b[1mwandb\u001b[0m: \twd: 1e-05\n",
      "\u001b[34m\u001b[1mwandb\u001b[0m: \tweighted: True\n",
      "Failed to detect the name of this notebook, you can set it manually with the WANDB_NOTEBOOK_NAME environment variable to enable code saving.\n",
      "\u001b[34m\u001b[1mwandb\u001b[0m: \u001b[33mWARNING\u001b[0m Ignored wandb.init() arg project when running a sweep.\n"
     ]
    },
    {
     "data": {
      "text/html": [
       "wandb version 0.21.0 is available!  To upgrade, please run:\n",
       " $ pip install wandb --upgrade"
      ],
      "text/plain": [
       "<IPython.core.display.HTML object>"
      ]
     },
     "metadata": {},
     "output_type": "display_data"
    },
    {
     "data": {
      "text/html": [
       "Tracking run with wandb version 0.15.4"
      ],
      "text/plain": [
       "<IPython.core.display.HTML object>"
      ]
     },
     "metadata": {},
     "output_type": "display_data"
    },
    {
     "data": {
      "text/html": [
       "Run data is saved locally in <code>/oscar/data/larschan/shared_data/bind_gps/seq_modeling/wandb/run-20250711_231229-pl4c9isk</code>"
      ],
      "text/plain": [
       "<IPython.core.display.HTML object>"
      ]
     },
     "metadata": {},
     "output_type": "display_data"
    },
    {
     "data": {
      "text/html": [
       "Syncing run <strong><a href='https://wandb.ai/pranavmahabs/bind_gps/runs/pl4c9isk' target=\"_blank\">kmer_128</a></strong> to <a href='https://wandb.ai/pranavmahabs/bind_gps' target=\"_blank\">Weights & Biases</a> (<a href='https://wandb.me/run' target=\"_blank\">docs</a>)<br/>Sweep page: <a href='https://wandb.ai/pranavmahabs/bind_gps/sweeps/ms3id6yy' target=\"_blank\">https://wandb.ai/pranavmahabs/bind_gps/sweeps/ms3id6yy</a>"
      ],
      "text/plain": [
       "<IPython.core.display.HTML object>"
      ]
     },
     "metadata": {},
     "output_type": "display_data"
    },
    {
     "data": {
      "text/html": [
       " View project at <a href='https://wandb.ai/pranavmahabs/bind_gps' target=\"_blank\">https://wandb.ai/pranavmahabs/bind_gps</a>"
      ],
      "text/plain": [
       "<IPython.core.display.HTML object>"
      ]
     },
     "metadata": {},
     "output_type": "display_data"
    },
    {
     "data": {
      "text/html": [
       " View sweep at <a href='https://wandb.ai/pranavmahabs/bind_gps/sweeps/ms3id6yy' target=\"_blank\">https://wandb.ai/pranavmahabs/bind_gps/sweeps/ms3id6yy</a>"
      ],
      "text/plain": [
       "<IPython.core.display.HTML object>"
      ]
     },
     "metadata": {},
     "output_type": "display_data"
    },
    {
     "data": {
      "text/html": [
       " View run at <a href='https://wandb.ai/pranavmahabs/bind_gps/runs/pl4c9isk' target=\"_blank\">https://wandb.ai/pranavmahabs/bind_gps/runs/pl4c9isk</a>"
      ],
      "text/plain": [
       "<IPython.core.display.HTML object>"
      ]
     },
     "metadata": {},
     "output_type": "display_data"
    },
    {
     "name": "stdout",
     "output_type": "stream",
     "text": [
      "Epoch 0:\n",
      "Train Metrics:\n",
      "\tLoss:1732.3698, Acc: 0.4963:\n",
      "finished evaluation\n",
      "['auroc', 'auprc', 'accuracy']\n",
      "Validation Metrics:\n",
      "\tLoss: 429.5962\n",
      "\tauroc: 0.6950\n",
      "\tauprc: 0.4890\n",
      "\taccuracy: 0.4275\n",
      "\tepoch: 0.0000\n",
      "Epoch 1:\n",
      "Train Metrics:\n",
      "\tLoss:1681.3722, Acc: 0.5284:\n",
      "finished evaluation\n",
      "['auroc', 'auprc', 'accuracy']\n",
      "Validation Metrics:\n",
      "\tLoss: 420.5145\n",
      "\tauroc: 0.7055\n",
      "\tauprc: 0.5025\n",
      "\taccuracy: 0.4821\n",
      "\tepoch: 1.0000\n",
      "Epoch 2:\n",
      "Train Metrics:\n",
      "\tLoss:1666.1556, Acc: 0.5358:\n",
      "finished evaluation\n",
      "['auroc', 'auprc', 'accuracy']\n",
      "Validation Metrics:\n",
      "\tLoss: 415.1773\n",
      "\tauroc: 0.7150\n",
      "\tauprc: 0.5153\n",
      "\taccuracy: 0.5344\n",
      "\tepoch: 2.0000\n",
      "Epoch 3:\n",
      "Train Metrics:\n",
      "\tLoss:1656.6680, Acc: 0.5406:\n",
      "finished evaluation\n",
      "['auroc', 'auprc', 'accuracy']\n",
      "Validation Metrics:\n",
      "\tLoss: 418.2240\n",
      "\tauroc: 0.7191\n",
      "\tauprc: 0.5157\n",
      "\taccuracy: 0.5162\n",
      "\tepoch: 3.0000\n",
      "Epoch 4:\n",
      "Train Metrics:\n",
      "\tLoss:1647.3243, Acc: 0.5444:\n",
      "finished evaluation\n",
      "['auroc', 'auprc', 'accuracy']\n",
      "Validation Metrics:\n",
      "\tLoss: 414.1174\n",
      "\tauroc: 0.7178\n",
      "\tauprc: 0.5143\n",
      "\taccuracy: 0.5537\n",
      "Epoch 5:\n",
      "Train Metrics:\n",
      "\tLoss:1638.4609, Acc: 0.5478:\n",
      "finished evaluation\n",
      "['auroc', 'auprc', 'accuracy']\n",
      "Validation Metrics:\n",
      "\tLoss: 414.3283\n",
      "\tauroc: 0.7166\n",
      "\tauprc: 0.5149\n",
      "\taccuracy: 0.5207\n",
      "Epoch 6:\n",
      "Train Metrics:\n",
      "\tLoss:1634.0280, Acc: 0.5476:\n",
      "finished evaluation\n",
      "['auroc', 'auprc', 'accuracy']\n",
      "Validation Metrics:\n",
      "\tLoss: 415.2211\n",
      "\tauroc: 0.7222\n",
      "\tauprc: 0.5193\n",
      "\taccuracy: 0.5509\n",
      "\tepoch: 6.0000\n",
      "Epoch 7:\n",
      "Train Metrics:\n",
      "\tLoss:1627.4744, Acc: 0.5527:\n",
      "finished evaluation\n",
      "['auroc', 'auprc', 'accuracy']\n",
      "Validation Metrics:\n",
      "\tLoss: 414.5692\n",
      "\tauroc: 0.7136\n",
      "\tauprc: 0.5109\n",
      "\taccuracy: 0.5073\n",
      "Epoch 8:\n",
      "Train Metrics:\n",
      "\tLoss:1619.4647, Acc: 0.5513:\n",
      "finished evaluation\n",
      "['auroc', 'auprc', 'accuracy']\n",
      "Validation Metrics:\n",
      "\tLoss: 414.2273\n",
      "\tauroc: 0.7239\n",
      "\tauprc: 0.5215\n",
      "\taccuracy: 0.5599\n",
      "\tepoch: 8.0000\n",
      "Epoch 9:\n",
      "Train Metrics:\n",
      "\tLoss:1617.9619, Acc: 0.5533:\n",
      "finished evaluation\n",
      "['auroc', 'auprc', 'accuracy']\n",
      "Validation Metrics:\n",
      "\tLoss: 413.8014\n",
      "\tauroc: 0.7234\n",
      "\tauprc: 0.5219\n",
      "\taccuracy: 0.5497\n"
     ]
    },
    {
     "data": {
      "text/html": [
       "Waiting for W&B process to finish... <strong style=\"color:green\">(success).</strong>"
      ],
      "text/plain": [
       "<IPython.core.display.HTML object>"
      ]
     },
     "metadata": {},
     "output_type": "display_data"
    },
    {
     "data": {
      "application/vnd.jupyter.widget-view+json": {
       "model_id": "b15a8ec458b04a3fad4e97f33d293dc5",
       "version_major": 2,
       "version_minor": 0
      },
      "text/plain": [
       "VBox(children=(Label(value='0.008 MB of 0.008 MB uploaded (0.000 MB deduped)\\r'), FloatProgress(value=1.0, max…"
      ]
     },
     "metadata": {},
     "output_type": "display_data"
    },
    {
     "data": {
      "text/html": [
       "<style>\n",
       "    table.wandb td:nth-child(1) { padding: 0 10px; text-align: left ; width: auto;} td:nth-child(2) {text-align: left ; width: 100%}\n",
       "    .wandb-row { display: flex; flex-direction: row; flex-wrap: wrap; justify-content: flex-start; width: 100% }\n",
       "    .wandb-col { display: flex; flex-direction: column; flex-basis: 100%; flex: 1; padding: 10px; }\n",
       "    </style>\n",
       "<div class=\"wandb-row\"><div class=\"wandb-col\"><h3>Run history:</h3><br/><table class=\"wandb\"><tr><td>train_accuracy</td><td>▁▅▆▆▇▇▇███</td></tr><tr><td>train_loss</td><td>█▅▄▃▃▂▂▂▁▁</td></tr><tr><td>val_accuracy</td><td>▁▄▇▆█▆█▅█▇</td></tr><tr><td>val_auprc</td><td>▁▄▇▇▆▇▇▆██</td></tr><tr><td>val_auroc</td><td>▁▄▆▇▇▆█▆██</td></tr><tr><td>val_loss</td><td>█▄▂▃▁▁▂▁▁▁</td></tr></table><br/></div><div class=\"wandb-col\"><h3>Run summary:</h3><br/><table class=\"wandb\"><tr><td>train_accuracy</td><td>0.55331</td></tr><tr><td>train_loss</td><td>1617.96192</td></tr><tr><td>val_accuracy</td><td>0.54974</td></tr><tr><td>val_auprc</td><td>0.52194</td></tr><tr><td>val_auroc</td><td>0.72339</td></tr><tr><td>val_loss</td><td>413.80142</td></tr></table><br/></div></div>"
      ],
      "text/plain": [
       "<IPython.core.display.HTML object>"
      ]
     },
     "metadata": {},
     "output_type": "display_data"
    },
    {
     "data": {
      "text/html": [
       " View run <strong style=\"color:#cdcd00\">kmer_128</strong> at: <a href='https://wandb.ai/pranavmahabs/bind_gps/runs/pl4c9isk' target=\"_blank\">https://wandb.ai/pranavmahabs/bind_gps/runs/pl4c9isk</a><br/>Synced 5 W&B file(s), 0 media file(s), 0 artifact file(s) and 0 other file(s)"
      ],
      "text/plain": [
       "<IPython.core.display.HTML object>"
      ]
     },
     "metadata": {},
     "output_type": "display_data"
    },
    {
     "data": {
      "text/html": [
       "Find logs at: <code>./wandb/run-20250711_231229-pl4c9isk/logs</code>"
      ],
      "text/plain": [
       "<IPython.core.display.HTML object>"
      ]
     },
     "metadata": {},
     "output_type": "display_data"
    },
    {
     "name": "stderr",
     "output_type": "stream",
     "text": [
      "\u001b[34m\u001b[1mwandb\u001b[0m: Agent Starting Run: me97svgn with config:\n",
      "\u001b[34m\u001b[1mwandb\u001b[0m: \tepochs: 10\n",
      "\u001b[34m\u001b[1mwandb\u001b[0m: \thidden_dims: [256, 128]\n",
      "\u001b[34m\u001b[1mwandb\u001b[0m: \tlr: 0.001\n",
      "\u001b[34m\u001b[1mwandb\u001b[0m: \tmetrics: ['auroc', 'auprc', 'accuracy']\n",
      "\u001b[34m\u001b[1mwandb\u001b[0m: \tname: kmer_128\n",
      "\u001b[34m\u001b[1mwandb\u001b[0m: \toutdir: models/kmer_128\n",
      "\u001b[34m\u001b[1mwandb\u001b[0m: \tseed: 42\n",
      "\u001b[34m\u001b[1mwandb\u001b[0m: \ttarget: auroc\n",
      "\u001b[34m\u001b[1mwandb\u001b[0m: \ttask: gene\n",
      "\u001b[34m\u001b[1mwandb\u001b[0m: \twd: 1e-05\n",
      "\u001b[34m\u001b[1mwandb\u001b[0m: \tweighted: False\n",
      "Failed to detect the name of this notebook, you can set it manually with the WANDB_NOTEBOOK_NAME environment variable to enable code saving.\n",
      "\u001b[34m\u001b[1mwandb\u001b[0m: \u001b[33mWARNING\u001b[0m Ignored wandb.init() arg project when running a sweep.\n"
     ]
    },
    {
     "data": {
      "text/html": [
       "wandb version 0.21.0 is available!  To upgrade, please run:\n",
       " $ pip install wandb --upgrade"
      ],
      "text/plain": [
       "<IPython.core.display.HTML object>"
      ]
     },
     "metadata": {},
     "output_type": "display_data"
    },
    {
     "data": {
      "text/html": [
       "Tracking run with wandb version 0.15.4"
      ],
      "text/plain": [
       "<IPython.core.display.HTML object>"
      ]
     },
     "metadata": {},
     "output_type": "display_data"
    },
    {
     "data": {
      "text/html": [
       "Run data is saved locally in <code>/oscar/data/larschan/shared_data/bind_gps/seq_modeling/wandb/run-20250711_231321-me97svgn</code>"
      ],
      "text/plain": [
       "<IPython.core.display.HTML object>"
      ]
     },
     "metadata": {},
     "output_type": "display_data"
    },
    {
     "data": {
      "text/html": [
       "Syncing run <strong><a href='https://wandb.ai/pranavmahabs/bind_gps/runs/me97svgn' target=\"_blank\">kmer_128</a></strong> to <a href='https://wandb.ai/pranavmahabs/bind_gps' target=\"_blank\">Weights & Biases</a> (<a href='https://wandb.me/run' target=\"_blank\">docs</a>)<br/>Sweep page: <a href='https://wandb.ai/pranavmahabs/bind_gps/sweeps/ms3id6yy' target=\"_blank\">https://wandb.ai/pranavmahabs/bind_gps/sweeps/ms3id6yy</a>"
      ],
      "text/plain": [
       "<IPython.core.display.HTML object>"
      ]
     },
     "metadata": {},
     "output_type": "display_data"
    },
    {
     "data": {
      "text/html": [
       " View project at <a href='https://wandb.ai/pranavmahabs/bind_gps' target=\"_blank\">https://wandb.ai/pranavmahabs/bind_gps</a>"
      ],
      "text/plain": [
       "<IPython.core.display.HTML object>"
      ]
     },
     "metadata": {},
     "output_type": "display_data"
    },
    {
     "data": {
      "text/html": [
       " View sweep at <a href='https://wandb.ai/pranavmahabs/bind_gps/sweeps/ms3id6yy' target=\"_blank\">https://wandb.ai/pranavmahabs/bind_gps/sweeps/ms3id6yy</a>"
      ],
      "text/plain": [
       "<IPython.core.display.HTML object>"
      ]
     },
     "metadata": {},
     "output_type": "display_data"
    },
    {
     "data": {
      "text/html": [
       " View run at <a href='https://wandb.ai/pranavmahabs/bind_gps/runs/me97svgn' target=\"_blank\">https://wandb.ai/pranavmahabs/bind_gps/runs/me97svgn</a>"
      ],
      "text/plain": [
       "<IPython.core.display.HTML object>"
      ]
     },
     "metadata": {},
     "output_type": "display_data"
    },
    {
     "name": "stdout",
     "output_type": "stream",
     "text": [
      "Epoch 0:\n",
      "Train Metrics:\n",
      "\tLoss:1450.5786, Acc: 0.6112:\n",
      "finished evaluation\n",
      "['auroc', 'auprc', 'accuracy']\n",
      "Validation Metrics:\n",
      "\tLoss: 353.0629\n",
      "\tauroc: 0.7076\n",
      "\tauprc: 0.4972\n",
      "\taccuracy: 0.6257\n",
      "\tepoch: 0.0000\n",
      "Epoch 1:\n",
      "Train Metrics:\n",
      "\tLoss:1407.1891, Acc: 0.6239:\n",
      "finished evaluation\n",
      "['auroc', 'auprc', 'accuracy']\n",
      "Validation Metrics:\n",
      "\tLoss: 348.2163\n",
      "\tauroc: 0.7218\n",
      "\tauprc: 0.5171\n",
      "\taccuracy: 0.6304\n",
      "\tepoch: 1.0000\n",
      "Epoch 2:\n",
      "Train Metrics:\n",
      "\tLoss:1393.0937, Acc: 0.6293:\n",
      "finished evaluation\n",
      "['auroc', 'auprc', 'accuracy']\n",
      "Validation Metrics:\n",
      "\tLoss: 346.8178\n",
      "\tauroc: 0.7250\n",
      "\tauprc: 0.5176\n",
      "\taccuracy: 0.6383\n",
      "\tepoch: 2.0000\n",
      "Epoch 3:\n",
      "Train Metrics:\n",
      "\tLoss:1384.5944, Acc: 0.6316:\n",
      "finished evaluation\n",
      "['auroc', 'auprc', 'accuracy']\n",
      "Validation Metrics:\n",
      "\tLoss: 350.8802\n",
      "\tauroc: 0.7217\n",
      "\tauprc: 0.5178\n",
      "\taccuracy: 0.6322\n",
      "Epoch 4:\n",
      "Train Metrics:\n",
      "\tLoss:1378.2583, Acc: 0.6344:\n",
      "finished evaluation\n",
      "['auroc', 'auprc', 'accuracy']\n",
      "Validation Metrics:\n",
      "\tLoss: 343.7734\n",
      "\tauroc: 0.7291\n",
      "\tauprc: 0.5277\n",
      "\taccuracy: 0.6381\n",
      "\tepoch: 4.0000\n",
      "Epoch 5:\n",
      "Train Metrics:\n",
      "\tLoss:1372.7993, Acc: 0.6367:\n",
      "finished evaluation\n",
      "['auroc', 'auprc', 'accuracy']\n",
      "Validation Metrics:\n",
      "\tLoss: 344.2946\n",
      "\tauroc: 0.7280\n",
      "\tauprc: 0.5255\n",
      "\taccuracy: 0.6390\n",
      "Epoch 6:\n",
      "Train Metrics:\n",
      "\tLoss:1366.6422, Acc: 0.6399:\n",
      "finished evaluation\n",
      "['auroc', 'auprc', 'accuracy']\n",
      "Validation Metrics:\n",
      "\tLoss: 347.6565\n",
      "\tauroc: 0.7282\n",
      "\tauprc: 0.5263\n",
      "\taccuracy: 0.6351\n",
      "Epoch 7:\n",
      "Train Metrics:\n",
      "\tLoss:1363.3850, Acc: 0.6389:\n",
      "finished evaluation\n",
      "['auroc', 'auprc', 'accuracy']\n",
      "Validation Metrics:\n",
      "\tLoss: 347.2002\n",
      "\tauroc: 0.7304\n",
      "\tauprc: 0.5284\n",
      "\taccuracy: 0.6385\n",
      "\tepoch: 7.0000\n",
      "Epoch 8:\n",
      "Train Metrics:\n",
      "\tLoss:1358.6192, Acc: 0.6405:\n",
      "finished evaluation\n",
      "['auroc', 'auprc', 'accuracy']\n",
      "Validation Metrics:\n",
      "\tLoss: 339.8462\n",
      "\tauroc: 0.7347\n",
      "\tauprc: 0.5321\n",
      "\taccuracy: 0.6433\n",
      "\tepoch: 8.0000\n",
      "Epoch 9:\n",
      "Train Metrics:\n",
      "\tLoss:1355.7645, Acc: 0.6426:\n",
      "finished evaluation\n",
      "['auroc', 'auprc', 'accuracy']\n",
      "Validation Metrics:\n",
      "\tLoss: 343.5636\n",
      "\tauroc: 0.7315\n",
      "\tauprc: 0.5303\n",
      "\taccuracy: 0.6382\n"
     ]
    },
    {
     "data": {
      "text/html": [
       "Waiting for W&B process to finish... <strong style=\"color:green\">(success).</strong>"
      ],
      "text/plain": [
       "<IPython.core.display.HTML object>"
      ]
     },
     "metadata": {},
     "output_type": "display_data"
    },
    {
     "data": {
      "application/vnd.jupyter.widget-view+json": {
       "model_id": "f83391ee7fd549cda4e45892fb058a44",
       "version_major": 2,
       "version_minor": 0
      },
      "text/plain": [
       "VBox(children=(Label(value='0.008 MB of 0.008 MB uploaded (0.000 MB deduped)\\r'), FloatProgress(value=1.0, max…"
      ]
     },
     "metadata": {},
     "output_type": "display_data"
    },
    {
     "data": {
      "text/html": [
       "<style>\n",
       "    table.wandb td:nth-child(1) { padding: 0 10px; text-align: left ; width: auto;} td:nth-child(2) {text-align: left ; width: 100%}\n",
       "    .wandb-row { display: flex; flex-direction: row; flex-wrap: wrap; justify-content: flex-start; width: 100% }\n",
       "    .wandb-col { display: flex; flex-direction: column; flex-basis: 100%; flex: 1; padding: 10px; }\n",
       "    </style>\n",
       "<div class=\"wandb-row\"><div class=\"wandb-col\"><h3>Run history:</h3><br/><table class=\"wandb\"><tr><td>train_accuracy</td><td>▁▄▅▆▆▇▇▇██</td></tr><tr><td>train_loss</td><td>█▅▄▃▃▂▂▂▁▁</td></tr><tr><td>val_accuracy</td><td>▁▃▆▄▆▆▅▆█▆</td></tr><tr><td>val_auprc</td><td>▁▅▅▅▇▇▇▇██</td></tr><tr><td>val_auroc</td><td>▁▅▆▅▇▆▆▇█▇</td></tr><tr><td>val_loss</td><td>█▅▅▇▃▃▅▅▁▃</td></tr></table><br/></div><div class=\"wandb-col\"><h3>Run summary:</h3><br/><table class=\"wandb\"><tr><td>train_accuracy</td><td>0.64256</td></tr><tr><td>train_loss</td><td>1355.76447</td></tr><tr><td>val_accuracy</td><td>0.6382</td></tr><tr><td>val_auprc</td><td>0.53034</td></tr><tr><td>val_auroc</td><td>0.73147</td></tr><tr><td>val_loss</td><td>343.56358</td></tr></table><br/></div></div>"
      ],
      "text/plain": [
       "<IPython.core.display.HTML object>"
      ]
     },
     "metadata": {},
     "output_type": "display_data"
    },
    {
     "data": {
      "text/html": [
       " View run <strong style=\"color:#cdcd00\">kmer_128</strong> at: <a href='https://wandb.ai/pranavmahabs/bind_gps/runs/me97svgn' target=\"_blank\">https://wandb.ai/pranavmahabs/bind_gps/runs/me97svgn</a><br/>Synced 5 W&B file(s), 0 media file(s), 0 artifact file(s) and 0 other file(s)"
      ],
      "text/plain": [
       "<IPython.core.display.HTML object>"
      ]
     },
     "metadata": {},
     "output_type": "display_data"
    },
    {
     "data": {
      "text/html": [
       "Find logs at: <code>./wandb/run-20250711_231321-me97svgn/logs</code>"
      ],
      "text/plain": [
       "<IPython.core.display.HTML object>"
      ]
     },
     "metadata": {},
     "output_type": "display_data"
    },
    {
     "name": "stderr",
     "output_type": "stream",
     "text": [
      "\u001b[34m\u001b[1mwandb\u001b[0m: Agent Starting Run: 4yfyoq5c with config:\n",
      "\u001b[34m\u001b[1mwandb\u001b[0m: \tepochs: 10\n",
      "\u001b[34m\u001b[1mwandb\u001b[0m: \thidden_dims: [256, 128]\n",
      "\u001b[34m\u001b[1mwandb\u001b[0m: \tlr: 0.001\n",
      "\u001b[34m\u001b[1mwandb\u001b[0m: \tmetrics: ['auroc', 'auprc', 'accuracy']\n",
      "\u001b[34m\u001b[1mwandb\u001b[0m: \tname: kmer_128\n",
      "\u001b[34m\u001b[1mwandb\u001b[0m: \toutdir: models/kmer_128\n",
      "\u001b[34m\u001b[1mwandb\u001b[0m: \tseed: 42\n",
      "\u001b[34m\u001b[1mwandb\u001b[0m: \ttarget: auroc\n",
      "\u001b[34m\u001b[1mwandb\u001b[0m: \ttask: gene\n",
      "\u001b[34m\u001b[1mwandb\u001b[0m: \twd: 1e-06\n",
      "\u001b[34m\u001b[1mwandb\u001b[0m: \tweighted: True\n",
      "Failed to detect the name of this notebook, you can set it manually with the WANDB_NOTEBOOK_NAME environment variable to enable code saving.\n",
      "\u001b[34m\u001b[1mwandb\u001b[0m: \u001b[33mWARNING\u001b[0m Ignored wandb.init() arg project when running a sweep.\n"
     ]
    },
    {
     "data": {
      "text/html": [
       "wandb version 0.21.0 is available!  To upgrade, please run:\n",
       " $ pip install wandb --upgrade"
      ],
      "text/plain": [
       "<IPython.core.display.HTML object>"
      ]
     },
     "metadata": {},
     "output_type": "display_data"
    },
    {
     "data": {
      "text/html": [
       "Tracking run with wandb version 0.15.4"
      ],
      "text/plain": [
       "<IPython.core.display.HTML object>"
      ]
     },
     "metadata": {},
     "output_type": "display_data"
    },
    {
     "data": {
      "text/html": [
       "Run data is saved locally in <code>/oscar/data/larschan/shared_data/bind_gps/seq_modeling/wandb/run-20250711_231416-4yfyoq5c</code>"
      ],
      "text/plain": [
       "<IPython.core.display.HTML object>"
      ]
     },
     "metadata": {},
     "output_type": "display_data"
    },
    {
     "data": {
      "text/html": [
       "Syncing run <strong><a href='https://wandb.ai/pranavmahabs/bind_gps/runs/4yfyoq5c' target=\"_blank\">kmer_128</a></strong> to <a href='https://wandb.ai/pranavmahabs/bind_gps' target=\"_blank\">Weights & Biases</a> (<a href='https://wandb.me/run' target=\"_blank\">docs</a>)<br/>Sweep page: <a href='https://wandb.ai/pranavmahabs/bind_gps/sweeps/ms3id6yy' target=\"_blank\">https://wandb.ai/pranavmahabs/bind_gps/sweeps/ms3id6yy</a>"
      ],
      "text/plain": [
       "<IPython.core.display.HTML object>"
      ]
     },
     "metadata": {},
     "output_type": "display_data"
    },
    {
     "data": {
      "text/html": [
       " View project at <a href='https://wandb.ai/pranavmahabs/bind_gps' target=\"_blank\">https://wandb.ai/pranavmahabs/bind_gps</a>"
      ],
      "text/plain": [
       "<IPython.core.display.HTML object>"
      ]
     },
     "metadata": {},
     "output_type": "display_data"
    },
    {
     "data": {
      "text/html": [
       " View sweep at <a href='https://wandb.ai/pranavmahabs/bind_gps/sweeps/ms3id6yy' target=\"_blank\">https://wandb.ai/pranavmahabs/bind_gps/sweeps/ms3id6yy</a>"
      ],
      "text/plain": [
       "<IPython.core.display.HTML object>"
      ]
     },
     "metadata": {},
     "output_type": "display_data"
    },
    {
     "data": {
      "text/html": [
       " View run at <a href='https://wandb.ai/pranavmahabs/bind_gps/runs/4yfyoq5c' target=\"_blank\">https://wandb.ai/pranavmahabs/bind_gps/runs/4yfyoq5c</a>"
      ],
      "text/plain": [
       "<IPython.core.display.HTML object>"
      ]
     },
     "metadata": {},
     "output_type": "display_data"
    },
    {
     "name": "stdout",
     "output_type": "stream",
     "text": [
      "Epoch 0:\n",
      "Train Metrics:\n",
      "\tLoss:1731.1543, Acc: 0.4989:\n",
      "finished evaluation\n",
      "['auroc', 'auprc', 'accuracy']\n",
      "Validation Metrics:\n",
      "\tLoss: 425.0991\n",
      "\tauroc: 0.7011\n",
      "\tauprc: 0.4990\n",
      "\taccuracy: 0.4871\n",
      "\tepoch: 0.0000\n",
      "Epoch 1:\n",
      "Train Metrics:\n",
      "\tLoss:1683.3738, Acc: 0.5294:\n",
      "finished evaluation\n",
      "['auroc', 'auprc', 'accuracy']\n",
      "Validation Metrics:\n",
      "\tLoss: 424.6051\n",
      "\tauroc: 0.7102\n",
      "\tauprc: 0.5073\n",
      "\taccuracy: 0.5097\n",
      "\tepoch: 1.0000\n",
      "Epoch 2:\n",
      "Train Metrics:\n",
      "\tLoss:1668.2650, Acc: 0.5394:\n",
      "finished evaluation\n",
      "['auroc', 'auprc', 'accuracy']\n",
      "Validation Metrics:\n",
      "\tLoss: 420.3003\n",
      "\tauroc: 0.7056\n",
      "\tauprc: 0.5030\n",
      "\taccuracy: 0.4946\n",
      "Epoch 3:\n",
      "Train Metrics:\n",
      "\tLoss:1657.4124, Acc: 0.5415:\n",
      "finished evaluation\n",
      "['auroc', 'auprc', 'accuracy']\n",
      "Validation Metrics:\n",
      "\tLoss: 420.3571\n",
      "\tauroc: 0.7106\n",
      "\tauprc: 0.5089\n",
      "\taccuracy: 0.5027\n",
      "\tepoch: 3.0000\n",
      "Epoch 4:\n",
      "Train Metrics:\n",
      "\tLoss:1650.1243, Acc: 0.5438:\n",
      "finished evaluation\n",
      "['auroc', 'auprc', 'accuracy']\n",
      "Validation Metrics:\n",
      "\tLoss: 418.0963\n",
      "\tauroc: 0.7155\n",
      "\tauprc: 0.5108\n",
      "\taccuracy: 0.5099\n",
      "\tepoch: 4.0000\n",
      "Epoch 5:\n",
      "Train Metrics:\n",
      "\tLoss:1640.7520, Acc: 0.5494:\n",
      "finished evaluation\n",
      "['auroc', 'auprc', 'accuracy']\n",
      "Validation Metrics:\n",
      "\tLoss: 413.4675\n",
      "\tauroc: 0.7182\n",
      "\tauprc: 0.5149\n",
      "\taccuracy: 0.5184\n",
      "\tepoch: 5.0000\n",
      "Epoch 6:\n",
      "Train Metrics:\n",
      "\tLoss:1631.8310, Acc: 0.5509:\n",
      "finished evaluation\n",
      "['auroc', 'auprc', 'accuracy']\n",
      "Validation Metrics:\n",
      "\tLoss: 414.1910\n",
      "\tauroc: 0.7172\n",
      "\tauprc: 0.5160\n",
      "\taccuracy: 0.5428\n",
      "Epoch 7:\n",
      "Train Metrics:\n",
      "\tLoss:1626.6260, Acc: 0.5505:\n",
      "finished evaluation\n",
      "['auroc', 'auprc', 'accuracy']\n",
      "Validation Metrics:\n",
      "\tLoss: 412.1789\n",
      "\tauroc: 0.7231\n",
      "\tauprc: 0.5187\n",
      "\taccuracy: 0.5442\n",
      "\tepoch: 7.0000\n",
      "Epoch 8:\n",
      "Train Metrics:\n",
      "\tLoss:1621.6260, Acc: 0.5525:\n",
      "finished evaluation\n",
      "['auroc', 'auprc', 'accuracy']\n",
      "Validation Metrics:\n",
      "\tLoss: 414.8811\n",
      "\tauroc: 0.7217\n",
      "\tauprc: 0.5195\n",
      "\taccuracy: 0.5245\n",
      "Epoch 9:\n",
      "Train Metrics:\n",
      "\tLoss:1614.6943, Acc: 0.5548:\n",
      "finished evaluation\n",
      "['auroc', 'auprc', 'accuracy']\n",
      "Validation Metrics:\n",
      "\tLoss: 413.1067\n",
      "\tauroc: 0.7218\n",
      "\tauprc: 0.5202\n",
      "\taccuracy: 0.5375\n"
     ]
    },
    {
     "data": {
      "text/html": [
       "Waiting for W&B process to finish... <strong style=\"color:green\">(success).</strong>"
      ],
      "text/plain": [
       "<IPython.core.display.HTML object>"
      ]
     },
     "metadata": {},
     "output_type": "display_data"
    },
    {
     "data": {
      "application/vnd.jupyter.widget-view+json": {
       "model_id": "8763d7679add4f02b9450fdb1df44de2",
       "version_major": 2,
       "version_minor": 0
      },
      "text/plain": [
       "VBox(children=(Label(value='0.008 MB of 0.008 MB uploaded (0.000 MB deduped)\\r'), FloatProgress(value=1.0, max…"
      ]
     },
     "metadata": {},
     "output_type": "display_data"
    },
    {
     "data": {
      "text/html": [
       "<style>\n",
       "    table.wandb td:nth-child(1) { padding: 0 10px; text-align: left ; width: auto;} td:nth-child(2) {text-align: left ; width: 100%}\n",
       "    .wandb-row { display: flex; flex-direction: row; flex-wrap: wrap; justify-content: flex-start; width: 100% }\n",
       "    .wandb-col { display: flex; flex-direction: column; flex-basis: 100%; flex: 1; padding: 10px; }\n",
       "    </style>\n",
       "<div class=\"wandb-row\"><div class=\"wandb-col\"><h3>Run history:</h3><br/><table class=\"wandb\"><tr><td>train_accuracy</td><td>▁▅▆▆▇▇█▇██</td></tr><tr><td>train_loss</td><td>█▅▄▄▃▃▂▂▁▁</td></tr><tr><td>val_accuracy</td><td>▁▄▂▃▄▅██▆▇</td></tr><tr><td>val_auprc</td><td>▁▄▂▄▅▆▇███</td></tr><tr><td>val_auroc</td><td>▁▄▂▄▆▆▆███</td></tr><tr><td>val_loss</td><td>██▅▅▄▂▂▁▂▂</td></tr></table><br/></div><div class=\"wandb-col\"><h3>Run summary:</h3><br/><table class=\"wandb\"><tr><td>train_accuracy</td><td>0.55484</td></tr><tr><td>train_loss</td><td>1614.69425</td></tr><tr><td>val_accuracy</td><td>0.53749</td></tr><tr><td>val_auprc</td><td>0.52023</td></tr><tr><td>val_auroc</td><td>0.7218</td></tr><tr><td>val_loss</td><td>413.10669</td></tr></table><br/></div></div>"
      ],
      "text/plain": [
       "<IPython.core.display.HTML object>"
      ]
     },
     "metadata": {},
     "output_type": "display_data"
    },
    {
     "data": {
      "text/html": [
       " View run <strong style=\"color:#cdcd00\">kmer_128</strong> at: <a href='https://wandb.ai/pranavmahabs/bind_gps/runs/4yfyoq5c' target=\"_blank\">https://wandb.ai/pranavmahabs/bind_gps/runs/4yfyoq5c</a><br/>Synced 5 W&B file(s), 0 media file(s), 0 artifact file(s) and 0 other file(s)"
      ],
      "text/plain": [
       "<IPython.core.display.HTML object>"
      ]
     },
     "metadata": {},
     "output_type": "display_data"
    },
    {
     "data": {
      "text/html": [
       "Find logs at: <code>./wandb/run-20250711_231416-4yfyoq5c/logs</code>"
      ],
      "text/plain": [
       "<IPython.core.display.HTML object>"
      ]
     },
     "metadata": {},
     "output_type": "display_data"
    },
    {
     "name": "stderr",
     "output_type": "stream",
     "text": [
      "\u001b[34m\u001b[1mwandb\u001b[0m: Agent Starting Run: ku73ok89 with config:\n",
      "\u001b[34m\u001b[1mwandb\u001b[0m: \tepochs: 10\n",
      "\u001b[34m\u001b[1mwandb\u001b[0m: \thidden_dims: [256, 128]\n",
      "\u001b[34m\u001b[1mwandb\u001b[0m: \tlr: 0.001\n",
      "\u001b[34m\u001b[1mwandb\u001b[0m: \tmetrics: ['auroc', 'auprc', 'accuracy']\n",
      "\u001b[34m\u001b[1mwandb\u001b[0m: \tname: kmer_128\n",
      "\u001b[34m\u001b[1mwandb\u001b[0m: \toutdir: models/kmer_128\n",
      "\u001b[34m\u001b[1mwandb\u001b[0m: \tseed: 42\n",
      "\u001b[34m\u001b[1mwandb\u001b[0m: \ttarget: auroc\n",
      "\u001b[34m\u001b[1mwandb\u001b[0m: \ttask: gene\n",
      "\u001b[34m\u001b[1mwandb\u001b[0m: \twd: 1e-06\n",
      "\u001b[34m\u001b[1mwandb\u001b[0m: \tweighted: False\n",
      "Failed to detect the name of this notebook, you can set it manually with the WANDB_NOTEBOOK_NAME environment variable to enable code saving.\n",
      "\u001b[34m\u001b[1mwandb\u001b[0m: \u001b[33mWARNING\u001b[0m Ignored wandb.init() arg project when running a sweep.\n"
     ]
    },
    {
     "data": {
      "text/html": [
       "wandb version 0.21.0 is available!  To upgrade, please run:\n",
       " $ pip install wandb --upgrade"
      ],
      "text/plain": [
       "<IPython.core.display.HTML object>"
      ]
     },
     "metadata": {},
     "output_type": "display_data"
    },
    {
     "data": {
      "text/html": [
       "Tracking run with wandb version 0.15.4"
      ],
      "text/plain": [
       "<IPython.core.display.HTML object>"
      ]
     },
     "metadata": {},
     "output_type": "display_data"
    },
    {
     "data": {
      "text/html": [
       "Run data is saved locally in <code>/oscar/data/larschan/shared_data/bind_gps/seq_modeling/wandb/run-20250711_231508-ku73ok89</code>"
      ],
      "text/plain": [
       "<IPython.core.display.HTML object>"
      ]
     },
     "metadata": {},
     "output_type": "display_data"
    },
    {
     "data": {
      "text/html": [
       "Syncing run <strong><a href='https://wandb.ai/pranavmahabs/bind_gps/runs/ku73ok89' target=\"_blank\">kmer_128</a></strong> to <a href='https://wandb.ai/pranavmahabs/bind_gps' target=\"_blank\">Weights & Biases</a> (<a href='https://wandb.me/run' target=\"_blank\">docs</a>)<br/>Sweep page: <a href='https://wandb.ai/pranavmahabs/bind_gps/sweeps/ms3id6yy' target=\"_blank\">https://wandb.ai/pranavmahabs/bind_gps/sweeps/ms3id6yy</a>"
      ],
      "text/plain": [
       "<IPython.core.display.HTML object>"
      ]
     },
     "metadata": {},
     "output_type": "display_data"
    },
    {
     "data": {
      "text/html": [
       " View project at <a href='https://wandb.ai/pranavmahabs/bind_gps' target=\"_blank\">https://wandb.ai/pranavmahabs/bind_gps</a>"
      ],
      "text/plain": [
       "<IPython.core.display.HTML object>"
      ]
     },
     "metadata": {},
     "output_type": "display_data"
    },
    {
     "data": {
      "text/html": [
       " View sweep at <a href='https://wandb.ai/pranavmahabs/bind_gps/sweeps/ms3id6yy' target=\"_blank\">https://wandb.ai/pranavmahabs/bind_gps/sweeps/ms3id6yy</a>"
      ],
      "text/plain": [
       "<IPython.core.display.HTML object>"
      ]
     },
     "metadata": {},
     "output_type": "display_data"
    },
    {
     "data": {
      "text/html": [
       " View run at <a href='https://wandb.ai/pranavmahabs/bind_gps/runs/ku73ok89' target=\"_blank\">https://wandb.ai/pranavmahabs/bind_gps/runs/ku73ok89</a>"
      ],
      "text/plain": [
       "<IPython.core.display.HTML object>"
      ]
     },
     "metadata": {},
     "output_type": "display_data"
    },
    {
     "name": "stdout",
     "output_type": "stream",
     "text": [
      "Epoch 0:\n",
      "Train Metrics:\n",
      "\tLoss:1450.8677, Acc: 0.6106:\n",
      "finished evaluation\n",
      "['auroc', 'auprc', 'accuracy']\n",
      "Validation Metrics:\n",
      "\tLoss: 355.0241\n",
      "\tauroc: 0.7128\n",
      "\tauprc: 0.5064\n",
      "\taccuracy: 0.6325\n",
      "\tepoch: 0.0000\n",
      "Epoch 1:\n",
      "Train Metrics:\n",
      "\tLoss:1406.0916, Acc: 0.6253:\n",
      "finished evaluation\n",
      "['auroc', 'auprc', 'accuracy']\n",
      "Validation Metrics:\n",
      "\tLoss: 349.4867\n",
      "\tauroc: 0.7236\n",
      "\tauprc: 0.5185\n",
      "\taccuracy: 0.6306\n",
      "\tepoch: 1.0000\n",
      "Epoch 2:\n",
      "Train Metrics:\n",
      "\tLoss:1394.2899, Acc: 0.6292:\n",
      "finished evaluation\n",
      "['auroc', 'auprc', 'accuracy']\n",
      "Validation Metrics:\n",
      "\tLoss: 352.3647\n",
      "\tauroc: 0.7211\n",
      "\tauprc: 0.5146\n",
      "\taccuracy: 0.6331\n",
      "Epoch 3:\n",
      "Train Metrics:\n",
      "\tLoss:1385.6337, Acc: 0.6315:\n",
      "finished evaluation\n",
      "['auroc', 'auprc', 'accuracy']\n",
      "Validation Metrics:\n",
      "\tLoss: 350.3856\n",
      "\tauroc: 0.7242\n",
      "\tauprc: 0.5195\n",
      "\taccuracy: 0.6342\n",
      "\tepoch: 3.0000\n",
      "Epoch 4:\n",
      "Train Metrics:\n",
      "\tLoss:1377.6623, Acc: 0.6343:\n",
      "finished evaluation\n",
      "['auroc', 'auprc', 'accuracy']\n",
      "Validation Metrics:\n",
      "\tLoss: 347.0588\n",
      "\tauroc: 0.7269\n",
      "\tauprc: 0.5214\n",
      "\taccuracy: 0.6362\n",
      "\tepoch: 4.0000\n",
      "Epoch 5:\n",
      "Train Metrics:\n",
      "\tLoss:1372.5618, Acc: 0.6375:\n",
      "finished evaluation\n",
      "['auroc', 'auprc', 'accuracy']\n",
      "Validation Metrics:\n",
      "\tLoss: 343.0485\n",
      "\tauroc: 0.7311\n",
      "\tauprc: 0.5296\n",
      "\taccuracy: 0.6417\n",
      "\tepoch: 5.0000\n",
      "Epoch 6:\n",
      "Train Metrics:\n",
      "\tLoss:1366.0518, Acc: 0.6395:\n",
      "finished evaluation\n",
      "['auroc', 'auprc', 'accuracy']\n",
      "Validation Metrics:\n",
      "\tLoss: 344.3329\n",
      "\tauroc: 0.7317\n",
      "\tauprc: 0.5272\n",
      "\taccuracy: 0.6389\n",
      "\tepoch: 6.0000\n",
      "Epoch 7:\n",
      "Train Metrics:\n",
      "\tLoss:1362.5300, Acc: 0.6411:\n",
      "finished evaluation\n",
      "['auroc', 'auprc', 'accuracy']\n",
      "Validation Metrics:\n",
      "\tLoss: 346.9988\n",
      "\tauroc: 0.7308\n",
      "\tauprc: 0.5296\n",
      "\taccuracy: 0.6353\n",
      "Epoch 8:\n",
      "Train Metrics:\n",
      "\tLoss:1357.5343, Acc: 0.6416:\n",
      "finished evaluation\n",
      "['auroc', 'auprc', 'accuracy']\n",
      "Validation Metrics:\n",
      "\tLoss: 341.2020\n",
      "\tauroc: 0.7328\n",
      "\tauprc: 0.5305\n",
      "\taccuracy: 0.6423\n",
      "\tepoch: 8.0000\n",
      "Epoch 9:\n",
      "Train Metrics:\n",
      "\tLoss:1354.4709, Acc: 0.6427:\n",
      "finished evaluation\n",
      "['auroc', 'auprc', 'accuracy']\n",
      "Validation Metrics:\n",
      "\tLoss: 344.5301\n",
      "\tauroc: 0.7327\n",
      "\tauprc: 0.5312\n",
      "\taccuracy: 0.6371\n"
     ]
    },
    {
     "data": {
      "text/html": [
       "Waiting for W&B process to finish... <strong style=\"color:green\">(success).</strong>"
      ],
      "text/plain": [
       "<IPython.core.display.HTML object>"
      ]
     },
     "metadata": {},
     "output_type": "display_data"
    },
    {
     "data": {
      "application/vnd.jupyter.widget-view+json": {
       "model_id": "5294d55dfa0247c7bfc78af7ba2d5190",
       "version_major": 2,
       "version_minor": 0
      },
      "text/plain": [
       "VBox(children=(Label(value='0.008 MB of 0.008 MB uploaded (0.000 MB deduped)\\r'), FloatProgress(value=1.0, max…"
      ]
     },
     "metadata": {},
     "output_type": "display_data"
    },
    {
     "data": {
      "text/html": [
       "<style>\n",
       "    table.wandb td:nth-child(1) { padding: 0 10px; text-align: left ; width: auto;} td:nth-child(2) {text-align: left ; width: 100%}\n",
       "    .wandb-row { display: flex; flex-direction: row; flex-wrap: wrap; justify-content: flex-start; width: 100% }\n",
       "    .wandb-col { display: flex; flex-direction: column; flex-basis: 100%; flex: 1; padding: 10px; }\n",
       "    </style>\n",
       "<div class=\"wandb-row\"><div class=\"wandb-col\"><h3>Run history:</h3><br/><table class=\"wandb\"><tr><td>train_accuracy</td><td>▁▄▅▆▆▇▇███</td></tr><tr><td>train_loss</td><td>█▅▄▃▃▂▂▂▁▁</td></tr><tr><td>val_accuracy</td><td>▂▁▃▃▄█▆▄█▅</td></tr><tr><td>val_auprc</td><td>▁▄▃▅▅█▇███</td></tr><tr><td>val_auroc</td><td>▁▅▄▅▆▇█▇██</td></tr><tr><td>val_loss</td><td>█▅▇▆▄▂▃▄▁▃</td></tr></table><br/></div><div class=\"wandb-col\"><h3>Run summary:</h3><br/><table class=\"wandb\"><tr><td>train_accuracy</td><td>0.64271</td></tr><tr><td>train_loss</td><td>1354.47089</td></tr><tr><td>val_accuracy</td><td>0.63711</td></tr><tr><td>val_auprc</td><td>0.53122</td></tr><tr><td>val_auroc</td><td>0.73269</td></tr><tr><td>val_loss</td><td>344.53007</td></tr></table><br/></div></div>"
      ],
      "text/plain": [
       "<IPython.core.display.HTML object>"
      ]
     },
     "metadata": {},
     "output_type": "display_data"
    },
    {
     "data": {
      "text/html": [
       " View run <strong style=\"color:#cdcd00\">kmer_128</strong> at: <a href='https://wandb.ai/pranavmahabs/bind_gps/runs/ku73ok89' target=\"_blank\">https://wandb.ai/pranavmahabs/bind_gps/runs/ku73ok89</a><br/>Synced 5 W&B file(s), 0 media file(s), 0 artifact file(s) and 0 other file(s)"
      ],
      "text/plain": [
       "<IPython.core.display.HTML object>"
      ]
     },
     "metadata": {},
     "output_type": "display_data"
    },
    {
     "data": {
      "text/html": [
       "Find logs at: <code>./wandb/run-20250711_231508-ku73ok89/logs</code>"
      ],
      "text/plain": [
       "<IPython.core.display.HTML object>"
      ]
     },
     "metadata": {},
     "output_type": "display_data"
    },
    {
     "name": "stderr",
     "output_type": "stream",
     "text": [
      "\u001b[34m\u001b[1mwandb\u001b[0m: Agent Starting Run: g4qoh7cn with config:\n",
      "\u001b[34m\u001b[1mwandb\u001b[0m: \tepochs: 10\n",
      "\u001b[34m\u001b[1mwandb\u001b[0m: \thidden_dims: [256, 128]\n",
      "\u001b[34m\u001b[1mwandb\u001b[0m: \tlr: 0.0001\n",
      "\u001b[34m\u001b[1mwandb\u001b[0m: \tmetrics: ['auroc', 'auprc', 'accuracy']\n",
      "\u001b[34m\u001b[1mwandb\u001b[0m: \tname: kmer_128\n",
      "\u001b[34m\u001b[1mwandb\u001b[0m: \toutdir: models/kmer_128\n",
      "\u001b[34m\u001b[1mwandb\u001b[0m: \tseed: 42\n",
      "\u001b[34m\u001b[1mwandb\u001b[0m: \ttarget: auroc\n",
      "\u001b[34m\u001b[1mwandb\u001b[0m: \ttask: mre\n",
      "\u001b[34m\u001b[1mwandb\u001b[0m: \twd: 1e-05\n",
      "\u001b[34m\u001b[1mwandb\u001b[0m: \tweighted: True\n",
      "Failed to detect the name of this notebook, you can set it manually with the WANDB_NOTEBOOK_NAME environment variable to enable code saving.\n",
      "\u001b[34m\u001b[1mwandb\u001b[0m: \u001b[33mWARNING\u001b[0m Ignored wandb.init() arg project when running a sweep.\n"
     ]
    },
    {
     "data": {
      "text/html": [
       "wandb version 0.21.0 is available!  To upgrade, please run:\n",
       " $ pip install wandb --upgrade"
      ],
      "text/plain": [
       "<IPython.core.display.HTML object>"
      ]
     },
     "metadata": {},
     "output_type": "display_data"
    },
    {
     "data": {
      "text/html": [
       "Tracking run with wandb version 0.15.4"
      ],
      "text/plain": [
       "<IPython.core.display.HTML object>"
      ]
     },
     "metadata": {},
     "output_type": "display_data"
    },
    {
     "data": {
      "text/html": [
       "Run data is saved locally in <code>/oscar/data/larschan/shared_data/bind_gps/seq_modeling/wandb/run-20250711_231603-g4qoh7cn</code>"
      ],
      "text/plain": [
       "<IPython.core.display.HTML object>"
      ]
     },
     "metadata": {},
     "output_type": "display_data"
    },
    {
     "data": {
      "text/html": [
       "Syncing run <strong><a href='https://wandb.ai/pranavmahabs/bind_gps/runs/g4qoh7cn' target=\"_blank\">kmer_128</a></strong> to <a href='https://wandb.ai/pranavmahabs/bind_gps' target=\"_blank\">Weights & Biases</a> (<a href='https://wandb.me/run' target=\"_blank\">docs</a>)<br/>Sweep page: <a href='https://wandb.ai/pranavmahabs/bind_gps/sweeps/ms3id6yy' target=\"_blank\">https://wandb.ai/pranavmahabs/bind_gps/sweeps/ms3id6yy</a>"
      ],
      "text/plain": [
       "<IPython.core.display.HTML object>"
      ]
     },
     "metadata": {},
     "output_type": "display_data"
    },
    {
     "data": {
      "text/html": [
       " View project at <a href='https://wandb.ai/pranavmahabs/bind_gps' target=\"_blank\">https://wandb.ai/pranavmahabs/bind_gps</a>"
      ],
      "text/plain": [
       "<IPython.core.display.HTML object>"
      ]
     },
     "metadata": {},
     "output_type": "display_data"
    },
    {
     "data": {
      "text/html": [
       " View sweep at <a href='https://wandb.ai/pranavmahabs/bind_gps/sweeps/ms3id6yy' target=\"_blank\">https://wandb.ai/pranavmahabs/bind_gps/sweeps/ms3id6yy</a>"
      ],
      "text/plain": [
       "<IPython.core.display.HTML object>"
      ]
     },
     "metadata": {},
     "output_type": "display_data"
    },
    {
     "data": {
      "text/html": [
       " View run at <a href='https://wandb.ai/pranavmahabs/bind_gps/runs/g4qoh7cn' target=\"_blank\">https://wandb.ai/pranavmahabs/bind_gps/runs/g4qoh7cn</a>"
      ],
      "text/plain": [
       "<IPython.core.display.HTML object>"
      ]
     },
     "metadata": {},
     "output_type": "display_data"
    },
    {
     "name": "stdout",
     "output_type": "stream",
     "text": [
      "Epoch 0:\n",
      "Train Metrics:\n",
      "\tLoss:1739.5053, Acc: 0.5983:\n",
      "finished evaluation\n",
      "['auroc', 'auprc', 'accuracy']\n",
      "Validation Metrics:\n",
      "\tLoss: 415.1379\n",
      "\tauroc: 0.7694\n",
      "\tauprc: 0.5093\n",
      "\taccuracy: 0.7831\n",
      "\tepoch: 0.0000\n",
      "Epoch 1:\n",
      "Train Metrics:\n",
      "\tLoss:1591.5878, Acc: 0.6826:\n",
      "finished evaluation\n",
      "['auroc', 'auprc', 'accuracy']\n",
      "Validation Metrics:\n",
      "\tLoss: 388.3953\n",
      "\tauroc: 0.8016\n",
      "\tauprc: 0.5398\n",
      "\taccuracy: 0.7760\n",
      "\tepoch: 1.0000\n",
      "Epoch 2:\n",
      "Train Metrics:\n",
      "\tLoss:1541.6788, Acc: 0.7013:\n",
      "finished evaluation\n",
      "['auroc', 'auprc', 'accuracy']\n",
      "Validation Metrics:\n",
      "\tLoss: 381.8606\n",
      "\tauroc: 0.8129\n",
      "\tauprc: 0.5506\n",
      "\taccuracy: 0.7687\n",
      "\tepoch: 2.0000\n",
      "Epoch 3:\n",
      "Train Metrics:\n",
      "\tLoss:1508.5100, Acc: 0.7133:\n",
      "finished evaluation\n",
      "['auroc', 'auprc', 'accuracy']\n",
      "Validation Metrics:\n",
      "\tLoss: 368.4077\n",
      "\tauroc: 0.8169\n",
      "\tauprc: 0.5408\n",
      "\taccuracy: 0.7224\n",
      "\tepoch: 3.0000\n",
      "Epoch 4:\n",
      "Train Metrics:\n",
      "\tLoss:1487.3975, Acc: 0.7256:\n",
      "finished evaluation\n",
      "['auroc', 'auprc', 'accuracy']\n",
      "Validation Metrics:\n",
      "\tLoss: 372.0909\n",
      "\tauroc: 0.8264\n",
      "\tauprc: 0.5519\n",
      "\taccuracy: 0.7304\n",
      "\tepoch: 4.0000\n",
      "Epoch 5:\n",
      "Train Metrics:\n",
      "\tLoss:1465.8300, Acc: 0.7314:\n",
      "finished evaluation\n",
      "['auroc', 'auprc', 'accuracy']\n",
      "Validation Metrics:\n",
      "\tLoss: 361.6755\n",
      "\tauroc: 0.8264\n",
      "\tauprc: 0.5527\n",
      "\taccuracy: 0.7698\n",
      "Epoch 6:\n",
      "Train Metrics:\n",
      "\tLoss:1448.5143, Acc: 0.7363:\n",
      "finished evaluation\n",
      "['auroc', 'auprc', 'accuracy']\n",
      "Validation Metrics:\n",
      "\tLoss: 359.5277\n",
      "\tauroc: 0.8325\n",
      "\tauprc: 0.5526\n",
      "\taccuracy: 0.7588\n",
      "\tepoch: 6.0000\n",
      "Epoch 7:\n",
      "Train Metrics:\n",
      "\tLoss:1435.1760, Acc: 0.7381:\n",
      "finished evaluation\n",
      "['auroc', 'auprc', 'accuracy']\n",
      "Validation Metrics:\n",
      "\tLoss: 352.8481\n",
      "\tauroc: 0.8340\n",
      "\tauprc: 0.5503\n",
      "\taccuracy: 0.7569\n",
      "\tepoch: 7.0000\n",
      "Epoch 8:\n",
      "Train Metrics:\n",
      "\tLoss:1423.4476, Acc: 0.7456:\n",
      "finished evaluation\n",
      "['auroc', 'auprc', 'accuracy']\n",
      "Validation Metrics:\n",
      "\tLoss: 354.9381\n",
      "\tauroc: 0.8364\n",
      "\tauprc: 0.5552\n",
      "\taccuracy: 0.7423\n",
      "\tepoch: 8.0000\n",
      "Epoch 9:\n",
      "Train Metrics:\n",
      "\tLoss:1402.1792, Acc: 0.7463:\n",
      "finished evaluation\n",
      "['auroc', 'auprc', 'accuracy']\n",
      "Validation Metrics:\n",
      "\tLoss: 349.1578\n",
      "\tauroc: 0.8395\n",
      "\tauprc: 0.5599\n",
      "\taccuracy: 0.7694\n",
      "\tepoch: 9.0000\n"
     ]
    },
    {
     "data": {
      "text/html": [
       "Waiting for W&B process to finish... <strong style=\"color:green\">(success).</strong>"
      ],
      "text/plain": [
       "<IPython.core.display.HTML object>"
      ]
     },
     "metadata": {},
     "output_type": "display_data"
    },
    {
     "data": {
      "application/vnd.jupyter.widget-view+json": {
       "model_id": "70849fc54675459d9c458dee8bb5ba92",
       "version_major": 2,
       "version_minor": 0
      },
      "text/plain": [
       "VBox(children=(Label(value='0.008 MB of 0.008 MB uploaded (0.000 MB deduped)\\r'), FloatProgress(value=1.0, max…"
      ]
     },
     "metadata": {},
     "output_type": "display_data"
    },
    {
     "data": {
      "text/html": [
       "<style>\n",
       "    table.wandb td:nth-child(1) { padding: 0 10px; text-align: left ; width: auto;} td:nth-child(2) {text-align: left ; width: 100%}\n",
       "    .wandb-row { display: flex; flex-direction: row; flex-wrap: wrap; justify-content: flex-start; width: 100% }\n",
       "    .wandb-col { display: flex; flex-direction: column; flex-basis: 100%; flex: 1; padding: 10px; }\n",
       "    </style>\n",
       "<div class=\"wandb-row\"><div class=\"wandb-col\"><h3>Run history:</h3><br/><table class=\"wandb\"><tr><td>train_accuracy</td><td>▁▅▆▆▇▇████</td></tr><tr><td>train_loss</td><td>█▅▄▃▃▂▂▂▁▁</td></tr><tr><td>val_accuracy</td><td>█▇▆▁▂▆▅▅▃▆</td></tr><tr><td>val_auprc</td><td>▁▅▇▅▇▇▇▇▇█</td></tr><tr><td>val_auroc</td><td>▁▄▅▆▇▇▇▇██</td></tr><tr><td>val_loss</td><td>█▅▄▃▃▂▂▁▂▁</td></tr></table><br/></div><div class=\"wandb-col\"><h3>Run summary:</h3><br/><table class=\"wandb\"><tr><td>train_accuracy</td><td>0.74635</td></tr><tr><td>train_loss</td><td>1402.17918</td></tr><tr><td>val_accuracy</td><td>0.76943</td></tr><tr><td>val_auprc</td><td>0.55986</td></tr><tr><td>val_auroc</td><td>0.83946</td></tr><tr><td>val_loss</td><td>349.15781</td></tr></table><br/></div></div>"
      ],
      "text/plain": [
       "<IPython.core.display.HTML object>"
      ]
     },
     "metadata": {},
     "output_type": "display_data"
    },
    {
     "data": {
      "text/html": [
       " View run <strong style=\"color:#cdcd00\">kmer_128</strong> at: <a href='https://wandb.ai/pranavmahabs/bind_gps/runs/g4qoh7cn' target=\"_blank\">https://wandb.ai/pranavmahabs/bind_gps/runs/g4qoh7cn</a><br/>Synced 5 W&B file(s), 0 media file(s), 0 artifact file(s) and 0 other file(s)"
      ],
      "text/plain": [
       "<IPython.core.display.HTML object>"
      ]
     },
     "metadata": {},
     "output_type": "display_data"
    },
    {
     "data": {
      "text/html": [
       "Find logs at: <code>./wandb/run-20250711_231603-g4qoh7cn/logs</code>"
      ],
      "text/plain": [
       "<IPython.core.display.HTML object>"
      ]
     },
     "metadata": {},
     "output_type": "display_data"
    },
    {
     "name": "stderr",
     "output_type": "stream",
     "text": [
      "\u001b[34m\u001b[1mwandb\u001b[0m: Sweep Agent: Waiting for job.\n",
      "\u001b[34m\u001b[1mwandb\u001b[0m: Job received.\n",
      "\u001b[34m\u001b[1mwandb\u001b[0m: Agent Starting Run: 7js6ffy5 with config:\n",
      "\u001b[34m\u001b[1mwandb\u001b[0m: \tepochs: 10\n",
      "\u001b[34m\u001b[1mwandb\u001b[0m: \thidden_dims: [256, 128]\n",
      "\u001b[34m\u001b[1mwandb\u001b[0m: \tlr: 0.0001\n",
      "\u001b[34m\u001b[1mwandb\u001b[0m: \tmetrics: ['auroc', 'auprc', 'accuracy']\n",
      "\u001b[34m\u001b[1mwandb\u001b[0m: \tname: kmer_128\n",
      "\u001b[34m\u001b[1mwandb\u001b[0m: \toutdir: models/kmer_128\n",
      "\u001b[34m\u001b[1mwandb\u001b[0m: \tseed: 42\n",
      "\u001b[34m\u001b[1mwandb\u001b[0m: \ttarget: auroc\n",
      "\u001b[34m\u001b[1mwandb\u001b[0m: \ttask: mre\n",
      "\u001b[34m\u001b[1mwandb\u001b[0m: \twd: 1e-05\n",
      "\u001b[34m\u001b[1mwandb\u001b[0m: \tweighted: False\n",
      "Failed to detect the name of this notebook, you can set it manually with the WANDB_NOTEBOOK_NAME environment variable to enable code saving.\n",
      "\u001b[34m\u001b[1mwandb\u001b[0m: \u001b[33mWARNING\u001b[0m Ignored wandb.init() arg project when running a sweep.\n"
     ]
    },
    {
     "data": {
      "text/html": [
       "wandb version 0.21.0 is available!  To upgrade, please run:\n",
       " $ pip install wandb --upgrade"
      ],
      "text/plain": [
       "<IPython.core.display.HTML object>"
      ]
     },
     "metadata": {},
     "output_type": "display_data"
    },
    {
     "data": {
      "text/html": [
       "Tracking run with wandb version 0.15.4"
      ],
      "text/plain": [
       "<IPython.core.display.HTML object>"
      ]
     },
     "metadata": {},
     "output_type": "display_data"
    },
    {
     "data": {
      "text/html": [
       "Run data is saved locally in <code>/oscar/data/larschan/shared_data/bind_gps/seq_modeling/wandb/run-20250711_231703-7js6ffy5</code>"
      ],
      "text/plain": [
       "<IPython.core.display.HTML object>"
      ]
     },
     "metadata": {},
     "output_type": "display_data"
    },
    {
     "data": {
      "text/html": [
       "Syncing run <strong><a href='https://wandb.ai/pranavmahabs/bind_gps/runs/7js6ffy5' target=\"_blank\">kmer_128</a></strong> to <a href='https://wandb.ai/pranavmahabs/bind_gps' target=\"_blank\">Weights & Biases</a> (<a href='https://wandb.me/run' target=\"_blank\">docs</a>)<br/>Sweep page: <a href='https://wandb.ai/pranavmahabs/bind_gps/sweeps/ms3id6yy' target=\"_blank\">https://wandb.ai/pranavmahabs/bind_gps/sweeps/ms3id6yy</a>"
      ],
      "text/plain": [
       "<IPython.core.display.HTML object>"
      ]
     },
     "metadata": {},
     "output_type": "display_data"
    },
    {
     "data": {
      "text/html": [
       " View project at <a href='https://wandb.ai/pranavmahabs/bind_gps' target=\"_blank\">https://wandb.ai/pranavmahabs/bind_gps</a>"
      ],
      "text/plain": [
       "<IPython.core.display.HTML object>"
      ]
     },
     "metadata": {},
     "output_type": "display_data"
    },
    {
     "data": {
      "text/html": [
       " View sweep at <a href='https://wandb.ai/pranavmahabs/bind_gps/sweeps/ms3id6yy' target=\"_blank\">https://wandb.ai/pranavmahabs/bind_gps/sweeps/ms3id6yy</a>"
      ],
      "text/plain": [
       "<IPython.core.display.HTML object>"
      ]
     },
     "metadata": {},
     "output_type": "display_data"
    },
    {
     "data": {
      "text/html": [
       " View run at <a href='https://wandb.ai/pranavmahabs/bind_gps/runs/7js6ffy5' target=\"_blank\">https://wandb.ai/pranavmahabs/bind_gps/runs/7js6ffy5</a>"
      ],
      "text/plain": [
       "<IPython.core.display.HTML object>"
      ]
     },
     "metadata": {},
     "output_type": "display_data"
    },
    {
     "name": "stdout",
     "output_type": "stream",
     "text": [
      "Epoch 0:\n",
      "Train Metrics:\n",
      "\tLoss:909.1802, Acc: 0.8270:\n",
      "finished evaluation\n",
      "['auroc', 'auprc', 'accuracy']\n",
      "Validation Metrics:\n",
      "\tLoss: 184.0830\n",
      "\tauroc: 0.7886\n",
      "\tauprc: 0.5142\n",
      "\taccuracy: 0.8601\n",
      "\tepoch: 0.0000\n",
      "Epoch 1:\n",
      "Train Metrics:\n",
      "\tLoss:710.4176, Acc: 0.8690:\n",
      "finished evaluation\n",
      "['auroc', 'auprc', 'accuracy']\n",
      "Validation Metrics:\n",
      "\tLoss: 167.6106\n",
      "\tauroc: 0.8184\n",
      "\tauprc: 0.5515\n",
      "\taccuracy: 0.8743\n",
      "\tepoch: 1.0000\n",
      "Epoch 2:\n",
      "Train Metrics:\n",
      "\tLoss:681.7640, Acc: 0.8739:\n",
      "finished evaluation\n",
      "['auroc', 'auprc', 'accuracy']\n",
      "Validation Metrics:\n",
      "\tLoss: 168.1982\n",
      "\tauroc: 0.8315\n",
      "\tauprc: 0.5578\n",
      "\taccuracy: 0.8745\n",
      "\tepoch: 2.0000\n",
      "Epoch 3:\n",
      "Train Metrics:\n",
      "\tLoss:663.8692, Acc: 0.8748:\n",
      "finished evaluation\n",
      "['auroc', 'auprc', 'accuracy']\n",
      "Validation Metrics:\n",
      "\tLoss: 161.2087\n",
      "\tauroc: 0.8376\n",
      "\tauprc: 0.5793\n",
      "\taccuracy: 0.8782\n",
      "\tepoch: 3.0000\n",
      "Epoch 4:\n",
      "Train Metrics:\n",
      "\tLoss:653.9066, Acc: 0.8765:\n",
      "finished evaluation\n",
      "['auroc', 'auprc', 'accuracy']\n",
      "Validation Metrics:\n",
      "\tLoss: 154.2589\n",
      "\tauroc: 0.8502\n",
      "\tauprc: 0.5926\n",
      "\taccuracy: 0.8816\n",
      "\tepoch: 4.0000\n",
      "Epoch 5:\n",
      "Train Metrics:\n",
      "\tLoss:644.3613, Acc: 0.8775:\n",
      "finished evaluation\n",
      "['auroc', 'auprc', 'accuracy']\n",
      "Validation Metrics:\n",
      "\tLoss: 153.5137\n",
      "\tauroc: 0.8528\n",
      "\tauprc: 0.5951\n",
      "\taccuracy: 0.8820\n",
      "\tepoch: 5.0000\n",
      "Epoch 6:\n",
      "Train Metrics:\n",
      "\tLoss:637.0860, Acc: 0.8788:\n",
      "finished evaluation\n",
      "['auroc', 'auprc', 'accuracy']\n",
      "Validation Metrics:\n",
      "\tLoss: 153.0027\n",
      "\tauroc: 0.8545\n",
      "\tauprc: 0.5987\n",
      "\taccuracy: 0.8825\n",
      "\tepoch: 6.0000\n",
      "Epoch 7:\n",
      "Train Metrics:\n",
      "\tLoss:632.2043, Acc: 0.8791:\n",
      "finished evaluation\n",
      "['auroc', 'auprc', 'accuracy']\n",
      "Validation Metrics:\n",
      "\tLoss: 152.6972\n",
      "\tauroc: 0.8589\n",
      "\tauprc: 0.6000\n",
      "\taccuracy: 0.8813\n",
      "\tepoch: 7.0000\n",
      "Epoch 8:\n",
      "Train Metrics:\n",
      "\tLoss:625.2128, Acc: 0.8799:\n",
      "finished evaluation\n",
      "['auroc', 'auprc', 'accuracy']\n",
      "Validation Metrics:\n",
      "\tLoss: 152.2108\n",
      "\tauroc: 0.8604\n",
      "\tauprc: 0.6049\n",
      "\taccuracy: 0.8836\n",
      "\tepoch: 8.0000\n",
      "Epoch 9:\n",
      "Train Metrics:\n",
      "\tLoss:622.1575, Acc: 0.8796:\n",
      "finished evaluation\n",
      "['auroc', 'auprc', 'accuracy']\n",
      "Validation Metrics:\n",
      "\tLoss: 150.2958\n",
      "\tauroc: 0.8650\n",
      "\tauprc: 0.6067\n",
      "\taccuracy: 0.8841\n",
      "\tepoch: 9.0000\n"
     ]
    },
    {
     "data": {
      "text/html": [
       "Waiting for W&B process to finish... <strong style=\"color:green\">(success).</strong>"
      ],
      "text/plain": [
       "<IPython.core.display.HTML object>"
      ]
     },
     "metadata": {},
     "output_type": "display_data"
    },
    {
     "data": {
      "application/vnd.jupyter.widget-view+json": {
       "model_id": "ef149326eb0c4aeb831cc49156b73995",
       "version_major": 2,
       "version_minor": 0
      },
      "text/plain": [
       "VBox(children=(Label(value='0.008 MB of 0.008 MB uploaded (0.000 MB deduped)\\r'), FloatProgress(value=1.0, max…"
      ]
     },
     "metadata": {},
     "output_type": "display_data"
    },
    {
     "data": {
      "text/html": [
       "<style>\n",
       "    table.wandb td:nth-child(1) { padding: 0 10px; text-align: left ; width: auto;} td:nth-child(2) {text-align: left ; width: 100%}\n",
       "    .wandb-row { display: flex; flex-direction: row; flex-wrap: wrap; justify-content: flex-start; width: 100% }\n",
       "    .wandb-col { display: flex; flex-direction: column; flex-basis: 100%; flex: 1; padding: 10px; }\n",
       "    </style>\n",
       "<div class=\"wandb-row\"><div class=\"wandb-col\"><h3>Run history:</h3><br/><table class=\"wandb\"><tr><td>train_accuracy</td><td>▁▇▇▇██████</td></tr><tr><td>train_loss</td><td>█▃▂▂▂▂▁▁▁▁</td></tr><tr><td>val_accuracy</td><td>▁▅▅▆▇▇█▇██</td></tr><tr><td>val_auprc</td><td>▁▄▄▆▇▇▇▇██</td></tr><tr><td>val_auroc</td><td>▁▄▅▅▇▇▇▇██</td></tr><tr><td>val_loss</td><td>█▅▅▃▂▂▂▁▁▁</td></tr></table><br/></div><div class=\"wandb-col\"><h3>Run summary:</h3><br/><table class=\"wandb\"><tr><td>train_accuracy</td><td>0.87964</td></tr><tr><td>train_loss</td><td>622.15752</td></tr><tr><td>val_accuracy</td><td>0.8841</td></tr><tr><td>val_auprc</td><td>0.60667</td></tr><tr><td>val_auroc</td><td>0.86498</td></tr><tr><td>val_loss</td><td>150.29585</td></tr></table><br/></div></div>"
      ],
      "text/plain": [
       "<IPython.core.display.HTML object>"
      ]
     },
     "metadata": {},
     "output_type": "display_data"
    },
    {
     "data": {
      "text/html": [
       " View run <strong style=\"color:#cdcd00\">kmer_128</strong> at: <a href='https://wandb.ai/pranavmahabs/bind_gps/runs/7js6ffy5' target=\"_blank\">https://wandb.ai/pranavmahabs/bind_gps/runs/7js6ffy5</a><br/>Synced 5 W&B file(s), 0 media file(s), 0 artifact file(s) and 0 other file(s)"
      ],
      "text/plain": [
       "<IPython.core.display.HTML object>"
      ]
     },
     "metadata": {},
     "output_type": "display_data"
    },
    {
     "data": {
      "text/html": [
       "Find logs at: <code>./wandb/run-20250711_231703-7js6ffy5/logs</code>"
      ],
      "text/plain": [
       "<IPython.core.display.HTML object>"
      ]
     },
     "metadata": {},
     "output_type": "display_data"
    },
    {
     "name": "stderr",
     "output_type": "stream",
     "text": [
      "\u001b[34m\u001b[1mwandb\u001b[0m: Agent Starting Run: e2rcwugj with config:\n",
      "\u001b[34m\u001b[1mwandb\u001b[0m: \tepochs: 10\n",
      "\u001b[34m\u001b[1mwandb\u001b[0m: \thidden_dims: [256, 128]\n",
      "\u001b[34m\u001b[1mwandb\u001b[0m: \tlr: 0.0001\n",
      "\u001b[34m\u001b[1mwandb\u001b[0m: \tmetrics: ['auroc', 'auprc', 'accuracy']\n",
      "\u001b[34m\u001b[1mwandb\u001b[0m: \tname: kmer_128\n",
      "\u001b[34m\u001b[1mwandb\u001b[0m: \toutdir: models/kmer_128\n",
      "\u001b[34m\u001b[1mwandb\u001b[0m: \tseed: 42\n",
      "\u001b[34m\u001b[1mwandb\u001b[0m: \ttarget: auroc\n",
      "\u001b[34m\u001b[1mwandb\u001b[0m: \ttask: mre\n",
      "\u001b[34m\u001b[1mwandb\u001b[0m: \twd: 1e-06\n",
      "\u001b[34m\u001b[1mwandb\u001b[0m: \tweighted: True\n",
      "Failed to detect the name of this notebook, you can set it manually with the WANDB_NOTEBOOK_NAME environment variable to enable code saving.\n",
      "Connection to wandb service failed: [Errno 111] Connection refused. \n",
      "Traceback (most recent call last):\n",
      "  File \"/oscar/home/pmahable/my_env/lib64/python3.9/site-packages/wandb/sdk/wandb_manager.py\", line 116, in _service_connect\n",
      "    svc_iface._svc_connect(port=port)\n",
      "  File \"/oscar/home/pmahable/my_env/lib64/python3.9/site-packages/wandb/sdk/service/service_sock.py\", line 30, in _svc_connect\n",
      "    self._sock_client.connect(port=port)\n",
      "  File \"/oscar/home/pmahable/my_env/lib64/python3.9/site-packages/wandb/sdk/lib/sock_client.py\", line 102, in connect\n",
      "    s.connect((\"localhost\", port))\n",
      "ConnectionRefusedError: [Errno 111] Connection refused\n",
      "\n",
      "During handling of the above exception, another exception occurred:\n",
      "\n",
      "Traceback (most recent call last):\n",
      "  File \"/oscar/home/pmahable/my_env/lib64/python3.9/site-packages/wandb/sdk/wandb_init.py\", line 1148, in init\n",
      "    wi.setup(kwargs)\n",
      "  File \"/oscar/home/pmahable/my_env/lib64/python3.9/site-packages/wandb/sdk/wandb_init.py\", line 172, in setup\n",
      "    self._wl = wandb_setup.setup(settings=setup_settings)\n",
      "  File \"/oscar/home/pmahable/my_env/lib64/python3.9/site-packages/wandb/sdk/wandb_setup.py\", line 327, in setup\n",
      "    ret = _setup(settings=settings)\n",
      "  File \"/oscar/home/pmahable/my_env/lib64/python3.9/site-packages/wandb/sdk/wandb_setup.py\", line 320, in _setup\n",
      "    wl = _WandbSetup(settings=settings)\n",
      "  File \"/oscar/home/pmahable/my_env/lib64/python3.9/site-packages/wandb/sdk/wandb_setup.py\", line 303, in __init__\n",
      "    _WandbSetup._instance = _WandbSetup__WandbSetup(settings=settings, pid=pid)\n",
      "  File \"/oscar/home/pmahable/my_env/lib64/python3.9/site-packages/wandb/sdk/wandb_setup.py\", line 114, in __init__\n",
      "    self._setup()\n",
      "  File \"/oscar/home/pmahable/my_env/lib64/python3.9/site-packages/wandb/sdk/wandb_setup.py\", line 250, in _setup\n",
      "    self._setup_manager()\n",
      "  File \"/oscar/home/pmahable/my_env/lib64/python3.9/site-packages/wandb/sdk/wandb_setup.py\", line 277, in _setup_manager\n",
      "    self._manager = wandb_manager._Manager(settings=self._settings)\n",
      "  File \"/oscar/home/pmahable/my_env/lib64/python3.9/site-packages/wandb/sdk/wandb_manager.py\", line 163, in __init__\n",
      "    wandb._sentry.reraise(e)\n",
      "  File \"/oscar/home/pmahable/my_env/lib64/python3.9/site-packages/wandb/analytics/sentry.py\", line 146, in reraise\n",
      "    raise exc.with_traceback(sys.exc_info()[2])\n",
      "  File \"/oscar/home/pmahable/my_env/lib64/python3.9/site-packages/wandb/sdk/wandb_manager.py\", line 161, in __init__\n",
      "    self._service_connect()\n",
      "  File \"/oscar/home/pmahable/my_env/lib64/python3.9/site-packages/wandb/sdk/wandb_manager.py\", line 125, in _service_connect\n",
      "    raise ManagerConnectionRefusedError(message)\n",
      "wandb.sdk.wandb_manager.ManagerConnectionRefusedError: Connection to wandb service failed: [Errno 111] Connection refused. \n",
      "Run e2rcwugj errored: ManagerConnectionRefusedError('Connection to wandb service failed: [Errno 111] Connection refused. ')\n",
      "\u001b[34m\u001b[1mwandb\u001b[0m: \u001b[32m\u001b[41mERROR\u001b[0m Run e2rcwugj errored: ManagerConnectionRefusedError('Connection to wandb service failed: [Errno 111] Connection refused. ')\n",
      "\u001b[34m\u001b[1mwandb\u001b[0m: Agent Starting Run: 1qtz5e9r with config:\n",
      "\u001b[34m\u001b[1mwandb\u001b[0m: \tepochs: 10\n",
      "\u001b[34m\u001b[1mwandb\u001b[0m: \thidden_dims: [256, 128]\n",
      "\u001b[34m\u001b[1mwandb\u001b[0m: \tlr: 0.0001\n",
      "\u001b[34m\u001b[1mwandb\u001b[0m: \tmetrics: ['auroc', 'auprc', 'accuracy']\n",
      "\u001b[34m\u001b[1mwandb\u001b[0m: \tname: kmer_128\n",
      "\u001b[34m\u001b[1mwandb\u001b[0m: \toutdir: models/kmer_128\n",
      "\u001b[34m\u001b[1mwandb\u001b[0m: \tseed: 42\n",
      "\u001b[34m\u001b[1mwandb\u001b[0m: \ttarget: auroc\n",
      "\u001b[34m\u001b[1mwandb\u001b[0m: \ttask: mre\n",
      "\u001b[34m\u001b[1mwandb\u001b[0m: \twd: 1e-06\n",
      "\u001b[34m\u001b[1mwandb\u001b[0m: \tweighted: False\n",
      "Failed to detect the name of this notebook, you can set it manually with the WANDB_NOTEBOOK_NAME environment variable to enable code saving.\n",
      "\u001b[34m\u001b[1mwandb\u001b[0m: \u001b[33mWARNING\u001b[0m Ignored wandb.init() arg project when running a sweep.\n"
     ]
    },
    {
     "data": {
      "text/html": [
       "wandb version 0.21.0 is available!  To upgrade, please run:\n",
       " $ pip install wandb --upgrade"
      ],
      "text/plain": [
       "<IPython.core.display.HTML object>"
      ]
     },
     "metadata": {},
     "output_type": "display_data"
    },
    {
     "data": {
      "text/html": [
       "Tracking run with wandb version 0.15.4"
      ],
      "text/plain": [
       "<IPython.core.display.HTML object>"
      ]
     },
     "metadata": {},
     "output_type": "display_data"
    },
    {
     "data": {
      "text/html": [
       "Run data is saved locally in <code>/oscar/data/larschan/shared_data/bind_gps/seq_modeling/wandb/run-20250711_231757-1qtz5e9r</code>"
      ],
      "text/plain": [
       "<IPython.core.display.HTML object>"
      ]
     },
     "metadata": {},
     "output_type": "display_data"
    },
    {
     "data": {
      "text/html": [
       "Syncing run <strong><a href='https://wandb.ai/pranavmahabs/bind_gps/runs/1qtz5e9r' target=\"_blank\">kmer_128</a></strong> to <a href='https://wandb.ai/pranavmahabs/bind_gps' target=\"_blank\">Weights & Biases</a> (<a href='https://wandb.me/run' target=\"_blank\">docs</a>)<br/>Sweep page: <a href='https://wandb.ai/pranavmahabs/bind_gps/sweeps/ms3id6yy' target=\"_blank\">https://wandb.ai/pranavmahabs/bind_gps/sweeps/ms3id6yy</a>"
      ],
      "text/plain": [
       "<IPython.core.display.HTML object>"
      ]
     },
     "metadata": {},
     "output_type": "display_data"
    },
    {
     "data": {
      "text/html": [
       " View project at <a href='https://wandb.ai/pranavmahabs/bind_gps' target=\"_blank\">https://wandb.ai/pranavmahabs/bind_gps</a>"
      ],
      "text/plain": [
       "<IPython.core.display.HTML object>"
      ]
     },
     "metadata": {},
     "output_type": "display_data"
    },
    {
     "data": {
      "text/html": [
       " View sweep at <a href='https://wandb.ai/pranavmahabs/bind_gps/sweeps/ms3id6yy' target=\"_blank\">https://wandb.ai/pranavmahabs/bind_gps/sweeps/ms3id6yy</a>"
      ],
      "text/plain": [
       "<IPython.core.display.HTML object>"
      ]
     },
     "metadata": {},
     "output_type": "display_data"
    },
    {
     "data": {
      "text/html": [
       " View run at <a href='https://wandb.ai/pranavmahabs/bind_gps/runs/1qtz5e9r' target=\"_blank\">https://wandb.ai/pranavmahabs/bind_gps/runs/1qtz5e9r</a>"
      ],
      "text/plain": [
       "<IPython.core.display.HTML object>"
      ]
     },
     "metadata": {},
     "output_type": "display_data"
    },
    {
     "name": "stdout",
     "output_type": "stream",
     "text": [
      "Epoch 0:\n",
      "Train Metrics:\n",
      "\tLoss:886.6224, Acc: 0.8401:\n",
      "finished evaluation\n",
      "['auroc', 'auprc', 'accuracy']\n",
      "Validation Metrics:\n",
      "\tLoss: 191.1668\n",
      "\tauroc: 0.7824\n",
      "\tauprc: 0.5108\n",
      "\taccuracy: 0.8642\n",
      "\tepoch: 0.0000\n",
      "Epoch 1:\n",
      "Train Metrics:\n",
      "\tLoss:712.9115, Acc: 0.8691:\n",
      "finished evaluation\n",
      "['auroc', 'auprc', 'accuracy']\n",
      "Validation Metrics:\n",
      "\tLoss: 172.6132\n",
      "\tauroc: 0.8129\n",
      "\tauprc: 0.5475\n",
      "\taccuracy: 0.8730\n",
      "\tepoch: 1.0000\n",
      "Epoch 2:\n",
      "Train Metrics:\n",
      "\tLoss:681.6421, Acc: 0.8732:\n",
      "finished evaluation\n",
      "['auroc', 'auprc', 'accuracy']\n",
      "Validation Metrics:\n",
      "\tLoss: 162.1603\n",
      "\tauroc: 0.8293\n",
      "\tauprc: 0.5720\n",
      "\taccuracy: 0.8792\n",
      "\tepoch: 2.0000\n",
      "Epoch 3:\n",
      "Train Metrics:\n",
      "\tLoss:668.2068, Acc: 0.8753:\n",
      "finished evaluation\n",
      "['auroc', 'auprc', 'accuracy']\n",
      "Validation Metrics:\n",
      "\tLoss: 160.9595\n",
      "\tauroc: 0.8363\n",
      "\tauprc: 0.5747\n",
      "\taccuracy: 0.8785\n",
      "\tepoch: 3.0000\n",
      "Epoch 4:\n",
      "Train Metrics:\n",
      "\tLoss:654.8963, Acc: 0.8762:\n",
      "finished evaluation\n",
      "['auroc', 'auprc', 'accuracy']\n",
      "Validation Metrics:\n",
      "\tLoss: 157.6064\n",
      "\tauroc: 0.8448\n",
      "\tauprc: 0.5889\n",
      "\taccuracy: 0.8793\n",
      "\tepoch: 4.0000\n",
      "Epoch 5:\n",
      "Train Metrics:\n",
      "\tLoss:645.8894, Acc: 0.8774:\n",
      "finished evaluation\n",
      "['auroc', 'auprc', 'accuracy']\n",
      "Validation Metrics:\n",
      "\tLoss: 154.6987\n",
      "\tauroc: 0.8539\n",
      "\tauprc: 0.5952\n",
      "\taccuracy: 0.8806\n",
      "\tepoch: 5.0000\n",
      "Epoch 6:\n",
      "Train Metrics:\n",
      "\tLoss:639.0280, Acc: 0.8782:\n",
      "finished evaluation\n",
      "['auroc', 'auprc', 'accuracy']\n",
      "Validation Metrics:\n",
      "\tLoss: 152.6044\n",
      "\tauroc: 0.8564\n",
      "\tauprc: 0.5990\n",
      "\taccuracy: 0.8821\n",
      "\tepoch: 6.0000\n",
      "Epoch 7:\n",
      "Train Metrics:\n",
      "\tLoss:633.8548, Acc: 0.8780:\n",
      "finished evaluation\n",
      "['auroc', 'auprc', 'accuracy']\n",
      "Validation Metrics:\n",
      "\tLoss: 152.1370\n",
      "\tauroc: 0.8597\n",
      "\tauprc: 0.5985\n",
      "\taccuracy: 0.8829\n",
      "\tepoch: 7.0000\n",
      "Epoch 8:\n",
      "Train Metrics:\n",
      "\tLoss:628.0561, Acc: 0.8796:\n",
      "finished evaluation\n",
      "['auroc', 'auprc', 'accuracy']\n",
      "Validation Metrics:\n",
      "\tLoss: 151.0568\n",
      "\tauroc: 0.8618\n",
      "\tauprc: 0.6026\n",
      "\taccuracy: 0.8830\n",
      "\tepoch: 8.0000\n",
      "Epoch 9:\n",
      "Train Metrics:\n",
      "\tLoss:621.1911, Acc: 0.8799:\n",
      "finished evaluation\n",
      "['auroc', 'auprc', 'accuracy']\n",
      "Validation Metrics:\n",
      "\tLoss: 150.5710\n",
      "\tauroc: 0.8641\n",
      "\tauprc: 0.6044\n",
      "\taccuracy: 0.8831\n",
      "\tepoch: 9.0000\n"
     ]
    },
    {
     "data": {
      "text/html": [
       "Waiting for W&B process to finish... <strong style=\"color:green\">(success).</strong>"
      ],
      "text/plain": [
       "<IPython.core.display.HTML object>"
      ]
     },
     "metadata": {},
     "output_type": "display_data"
    },
    {
     "data": {
      "application/vnd.jupyter.widget-view+json": {
       "model_id": "7096a1a7bd5b40a78e0818e03548240b",
       "version_major": 2,
       "version_minor": 0
      },
      "text/plain": [
       "VBox(children=(Label(value='0.008 MB of 0.008 MB uploaded (0.000 MB deduped)\\r'), FloatProgress(value=1.0, max…"
      ]
     },
     "metadata": {},
     "output_type": "display_data"
    },
    {
     "data": {
      "text/html": [
       "<style>\n",
       "    table.wandb td:nth-child(1) { padding: 0 10px; text-align: left ; width: auto;} td:nth-child(2) {text-align: left ; width: 100%}\n",
       "    .wandb-row { display: flex; flex-direction: row; flex-wrap: wrap; justify-content: flex-start; width: 100% }\n",
       "    .wandb-col { display: flex; flex-direction: column; flex-basis: 100%; flex: 1; padding: 10px; }\n",
       "    </style>\n",
       "<div class=\"wandb-row\"><div class=\"wandb-col\"><h3>Run history:</h3><br/><table class=\"wandb\"><tr><td>train_accuracy</td><td>▁▆▇▇▇█████</td></tr><tr><td>train_loss</td><td>█▃▃▂▂▂▁▁▁▁</td></tr><tr><td>val_accuracy</td><td>▁▄▇▆▇▇████</td></tr><tr><td>val_auprc</td><td>▁▄▆▆▇▇████</td></tr><tr><td>val_auroc</td><td>▁▄▅▆▆▇▇███</td></tr><tr><td>val_loss</td><td>█▅▃▃▂▂▁▁▁▁</td></tr></table><br/></div><div class=\"wandb-col\"><h3>Run summary:</h3><br/><table class=\"wandb\"><tr><td>train_accuracy</td><td>0.87993</td></tr><tr><td>train_loss</td><td>621.19109</td></tr><tr><td>val_accuracy</td><td>0.88312</td></tr><tr><td>val_auprc</td><td>0.60443</td></tr><tr><td>val_auroc</td><td>0.86405</td></tr><tr><td>val_loss</td><td>150.57095</td></tr></table><br/></div></div>"
      ],
      "text/plain": [
       "<IPython.core.display.HTML object>"
      ]
     },
     "metadata": {},
     "output_type": "display_data"
    },
    {
     "data": {
      "text/html": [
       " View run <strong style=\"color:#cdcd00\">kmer_128</strong> at: <a href='https://wandb.ai/pranavmahabs/bind_gps/runs/1qtz5e9r' target=\"_blank\">https://wandb.ai/pranavmahabs/bind_gps/runs/1qtz5e9r</a><br/>Synced 5 W&B file(s), 0 media file(s), 0 artifact file(s) and 0 other file(s)"
      ],
      "text/plain": [
       "<IPython.core.display.HTML object>"
      ]
     },
     "metadata": {},
     "output_type": "display_data"
    },
    {
     "data": {
      "text/html": [
       "Find logs at: <code>./wandb/run-20250711_231757-1qtz5e9r/logs</code>"
      ],
      "text/plain": [
       "<IPython.core.display.HTML object>"
      ]
     },
     "metadata": {},
     "output_type": "display_data"
    },
    {
     "name": "stderr",
     "output_type": "stream",
     "text": [
      "\u001b[34m\u001b[1mwandb\u001b[0m: Agent Starting Run: zg926a0x with config:\n",
      "\u001b[34m\u001b[1mwandb\u001b[0m: \tepochs: 10\n",
      "\u001b[34m\u001b[1mwandb\u001b[0m: \thidden_dims: [256, 128]\n",
      "\u001b[34m\u001b[1mwandb\u001b[0m: \tlr: 0.0001\n",
      "\u001b[34m\u001b[1mwandb\u001b[0m: \tmetrics: ['auroc', 'auprc', 'accuracy']\n",
      "\u001b[34m\u001b[1mwandb\u001b[0m: \tname: kmer_128\n",
      "\u001b[34m\u001b[1mwandb\u001b[0m: \toutdir: models/kmer_128\n",
      "\u001b[34m\u001b[1mwandb\u001b[0m: \tseed: 42\n",
      "\u001b[34m\u001b[1mwandb\u001b[0m: \ttarget: auroc\n",
      "\u001b[34m\u001b[1mwandb\u001b[0m: \ttask: gene\n",
      "\u001b[34m\u001b[1mwandb\u001b[0m: \twd: 1e-05\n",
      "\u001b[34m\u001b[1mwandb\u001b[0m: \tweighted: True\n",
      "Failed to detect the name of this notebook, you can set it manually with the WANDB_NOTEBOOK_NAME environment variable to enable code saving.\n",
      "\u001b[34m\u001b[1mwandb\u001b[0m: \u001b[33mWARNING\u001b[0m Ignored wandb.init() arg project when running a sweep.\n"
     ]
    },
    {
     "data": {
      "text/html": [
       "wandb version 0.21.0 is available!  To upgrade, please run:\n",
       " $ pip install wandb --upgrade"
      ],
      "text/plain": [
       "<IPython.core.display.HTML object>"
      ]
     },
     "metadata": {},
     "output_type": "display_data"
    },
    {
     "data": {
      "text/html": [
       "Tracking run with wandb version 0.15.4"
      ],
      "text/plain": [
       "<IPython.core.display.HTML object>"
      ]
     },
     "metadata": {},
     "output_type": "display_data"
    },
    {
     "data": {
      "text/html": [
       "Run data is saved locally in <code>/oscar/data/larschan/shared_data/bind_gps/seq_modeling/wandb/run-20250711_231850-zg926a0x</code>"
      ],
      "text/plain": [
       "<IPython.core.display.HTML object>"
      ]
     },
     "metadata": {},
     "output_type": "display_data"
    },
    {
     "data": {
      "text/html": [
       "Syncing run <strong><a href='https://wandb.ai/pranavmahabs/bind_gps/runs/zg926a0x' target=\"_blank\">kmer_128</a></strong> to <a href='https://wandb.ai/pranavmahabs/bind_gps' target=\"_blank\">Weights & Biases</a> (<a href='https://wandb.me/run' target=\"_blank\">docs</a>)<br/>Sweep page: <a href='https://wandb.ai/pranavmahabs/bind_gps/sweeps/ms3id6yy' target=\"_blank\">https://wandb.ai/pranavmahabs/bind_gps/sweeps/ms3id6yy</a>"
      ],
      "text/plain": [
       "<IPython.core.display.HTML object>"
      ]
     },
     "metadata": {},
     "output_type": "display_data"
    },
    {
     "data": {
      "text/html": [
       " View project at <a href='https://wandb.ai/pranavmahabs/bind_gps' target=\"_blank\">https://wandb.ai/pranavmahabs/bind_gps</a>"
      ],
      "text/plain": [
       "<IPython.core.display.HTML object>"
      ]
     },
     "metadata": {},
     "output_type": "display_data"
    },
    {
     "data": {
      "text/html": [
       " View sweep at <a href='https://wandb.ai/pranavmahabs/bind_gps/sweeps/ms3id6yy' target=\"_blank\">https://wandb.ai/pranavmahabs/bind_gps/sweeps/ms3id6yy</a>"
      ],
      "text/plain": [
       "<IPython.core.display.HTML object>"
      ]
     },
     "metadata": {},
     "output_type": "display_data"
    },
    {
     "data": {
      "text/html": [
       " View run at <a href='https://wandb.ai/pranavmahabs/bind_gps/runs/zg926a0x' target=\"_blank\">https://wandb.ai/pranavmahabs/bind_gps/runs/zg926a0x</a>"
      ],
      "text/plain": [
       "<IPython.core.display.HTML object>"
      ]
     },
     "metadata": {},
     "output_type": "display_data"
    },
    {
     "name": "stdout",
     "output_type": "stream",
     "text": [
      "Epoch 0:\n",
      "Train Metrics:\n",
      "\tLoss:1798.0313, Acc: 0.4476:\n",
      "finished evaluation\n",
      "['auroc', 'auprc', 'accuracy']\n",
      "Validation Metrics:\n",
      "\tLoss: 446.9503\n",
      "\tauroc: 0.6724\n",
      "\tauprc: 0.4694\n",
      "\taccuracy: 0.3738\n",
      "\tepoch: 0.0000\n",
      "Epoch 1:\n",
      "Train Metrics:\n",
      "\tLoss:1733.7776, Acc: 0.4921:\n",
      "finished evaluation\n",
      "['auroc', 'auprc', 'accuracy']\n",
      "Validation Metrics:\n",
      "\tLoss: 438.2587\n",
      "\tauroc: 0.6808\n",
      "\tauprc: 0.4789\n",
      "\taccuracy: 0.3851\n",
      "\tepoch: 1.0000\n",
      "Epoch 2:\n",
      "Train Metrics:\n",
      "\tLoss:1708.3514, Acc: 0.5065:\n",
      "finished evaluation\n",
      "['auroc', 'auprc', 'accuracy']\n",
      "Validation Metrics:\n",
      "\tLoss: 430.7955\n",
      "\tauroc: 0.6874\n",
      "\tauprc: 0.4850\n",
      "\taccuracy: 0.4431\n",
      "\tepoch: 2.0000\n",
      "Epoch 3:\n",
      "Train Metrics:\n",
      "\tLoss:1696.3432, Acc: 0.5129:\n",
      "finished evaluation\n",
      "['auroc', 'auprc', 'accuracy']\n",
      "Validation Metrics:\n",
      "\tLoss: 428.8917\n",
      "\tauroc: 0.6940\n",
      "\tauprc: 0.4909\n",
      "\taccuracy: 0.4185\n",
      "\tepoch: 3.0000\n",
      "Epoch 4:\n",
      "Train Metrics:\n",
      "\tLoss:1685.4635, Acc: 0.5188:\n",
      "finished evaluation\n",
      "['auroc', 'auprc', 'accuracy']\n",
      "Validation Metrics:\n",
      "\tLoss: 425.5579\n",
      "\tauroc: 0.6999\n",
      "\tauprc: 0.4978\n",
      "\taccuracy: 0.4547\n",
      "\tepoch: 4.0000\n",
      "Epoch 5:\n",
      "Train Metrics:\n",
      "\tLoss:1675.1183, Acc: 0.5263:\n",
      "finished evaluation\n",
      "['auroc', 'auprc', 'accuracy']\n",
      "Validation Metrics:\n",
      "\tLoss: 420.5342\n",
      "\tauroc: 0.7036\n",
      "\tauprc: 0.5020\n",
      "\taccuracy: 0.4841\n",
      "\tepoch: 5.0000\n",
      "Epoch 6:\n",
      "Train Metrics:\n",
      "\tLoss:1667.4689, Acc: 0.5299:\n",
      "finished evaluation\n",
      "['auroc', 'auprc', 'accuracy']\n",
      "Validation Metrics:\n",
      "\tLoss: 424.4883\n",
      "\tauroc: 0.7046\n",
      "\tauprc: 0.5026\n",
      "\taccuracy: 0.4469\n",
      "\tepoch: 6.0000\n",
      "Epoch 7:\n",
      "Train Metrics:\n",
      "\tLoss:1661.8905, Acc: 0.5340:\n",
      "finished evaluation\n",
      "['auroc', 'auprc', 'accuracy']\n",
      "Validation Metrics:\n",
      "\tLoss: 428.7167\n",
      "\tauroc: 0.7061\n",
      "\tauprc: 0.5047\n",
      "\taccuracy: 0.4347\n",
      "\tepoch: 7.0000\n",
      "Epoch 8:\n",
      "Train Metrics:\n",
      "\tLoss:1656.6917, Acc: 0.5357:\n",
      "finished evaluation\n",
      "['auroc', 'auprc', 'accuracy']\n",
      "Validation Metrics:\n",
      "\tLoss: 416.6455\n",
      "\tauroc: 0.7112\n",
      "\tauprc: 0.5105\n",
      "\taccuracy: 0.5066\n",
      "\tepoch: 8.0000\n",
      "Epoch 9:\n",
      "Train Metrics:\n",
      "\tLoss:1649.9278, Acc: 0.5377:\n",
      "finished evaluation\n",
      "['auroc', 'auprc', 'accuracy']\n",
      "Validation Metrics:\n",
      "\tLoss: 416.5961\n",
      "\tauroc: 0.7098\n",
      "\tauprc: 0.5081\n",
      "\taccuracy: 0.4949\n"
     ]
    },
    {
     "data": {
      "text/html": [
       "Waiting for W&B process to finish... <strong style=\"color:green\">(success).</strong>"
      ],
      "text/plain": [
       "<IPython.core.display.HTML object>"
      ]
     },
     "metadata": {},
     "output_type": "display_data"
    },
    {
     "data": {
      "application/vnd.jupyter.widget-view+json": {
       "model_id": "2ac11150e50346a1b532bbac00d4a5c7",
       "version_major": 2,
       "version_minor": 0
      },
      "text/plain": [
       "VBox(children=(Label(value='0.008 MB of 0.008 MB uploaded (0.000 MB deduped)\\r'), FloatProgress(value=1.0, max…"
      ]
     },
     "metadata": {},
     "output_type": "display_data"
    },
    {
     "data": {
      "text/html": [
       "<style>\n",
       "    table.wandb td:nth-child(1) { padding: 0 10px; text-align: left ; width: auto;} td:nth-child(2) {text-align: left ; width: 100%}\n",
       "    .wandb-row { display: flex; flex-direction: row; flex-wrap: wrap; justify-content: flex-start; width: 100% }\n",
       "    .wandb-col { display: flex; flex-direction: column; flex-basis: 100%; flex: 1; padding: 10px; }\n",
       "    </style>\n",
       "<div class=\"wandb-row\"><div class=\"wandb-col\"><h3>Run history:</h3><br/><table class=\"wandb\"><tr><td>train_accuracy</td><td>▁▄▆▆▇▇▇███</td></tr><tr><td>train_loss</td><td>█▅▄▃▃▂▂▂▁▁</td></tr><tr><td>val_accuracy</td><td>▁▂▅▃▅▇▅▄█▇</td></tr><tr><td>val_auprc</td><td>▁▃▄▅▆▇▇▇██</td></tr><tr><td>val_auroc</td><td>▁▃▄▅▆▇▇▇██</td></tr><tr><td>val_loss</td><td>█▆▄▄▃▂▃▄▁▁</td></tr></table><br/></div><div class=\"wandb-col\"><h3>Run summary:</h3><br/><table class=\"wandb\"><tr><td>train_accuracy</td><td>0.53775</td></tr><tr><td>train_loss</td><td>1649.92783</td></tr><tr><td>val_accuracy</td><td>0.49486</td></tr><tr><td>val_auprc</td><td>0.50814</td></tr><tr><td>val_auroc</td><td>0.70977</td></tr><tr><td>val_loss</td><td>416.59611</td></tr></table><br/></div></div>"
      ],
      "text/plain": [
       "<IPython.core.display.HTML object>"
      ]
     },
     "metadata": {},
     "output_type": "display_data"
    },
    {
     "data": {
      "text/html": [
       " View run <strong style=\"color:#cdcd00\">kmer_128</strong> at: <a href='https://wandb.ai/pranavmahabs/bind_gps/runs/zg926a0x' target=\"_blank\">https://wandb.ai/pranavmahabs/bind_gps/runs/zg926a0x</a><br/>Synced 5 W&B file(s), 0 media file(s), 0 artifact file(s) and 0 other file(s)"
      ],
      "text/plain": [
       "<IPython.core.display.HTML object>"
      ]
     },
     "metadata": {},
     "output_type": "display_data"
    },
    {
     "data": {
      "text/html": [
       "Find logs at: <code>./wandb/run-20250711_231850-zg926a0x/logs</code>"
      ],
      "text/plain": [
       "<IPython.core.display.HTML object>"
      ]
     },
     "metadata": {},
     "output_type": "display_data"
    },
    {
     "name": "stderr",
     "output_type": "stream",
     "text": [
      "\u001b[34m\u001b[1mwandb\u001b[0m: Agent Starting Run: k0xo19c1 with config:\n",
      "\u001b[34m\u001b[1mwandb\u001b[0m: \tepochs: 10\n",
      "\u001b[34m\u001b[1mwandb\u001b[0m: \thidden_dims: [256, 128]\n",
      "\u001b[34m\u001b[1mwandb\u001b[0m: \tlr: 0.0001\n",
      "\u001b[34m\u001b[1mwandb\u001b[0m: \tmetrics: ['auroc', 'auprc', 'accuracy']\n",
      "\u001b[34m\u001b[1mwandb\u001b[0m: \tname: kmer_128\n",
      "\u001b[34m\u001b[1mwandb\u001b[0m: \toutdir: models/kmer_128\n",
      "\u001b[34m\u001b[1mwandb\u001b[0m: \tseed: 42\n",
      "\u001b[34m\u001b[1mwandb\u001b[0m: \ttarget: auroc\n",
      "\u001b[34m\u001b[1mwandb\u001b[0m: \ttask: gene\n",
      "\u001b[34m\u001b[1mwandb\u001b[0m: \twd: 1e-05\n",
      "\u001b[34m\u001b[1mwandb\u001b[0m: \tweighted: False\n",
      "Failed to detect the name of this notebook, you can set it manually with the WANDB_NOTEBOOK_NAME environment variable to enable code saving.\n",
      "\u001b[34m\u001b[1mwandb\u001b[0m: \u001b[33mWARNING\u001b[0m Ignored wandb.init() arg project when running a sweep.\n"
     ]
    },
    {
     "data": {
      "text/html": [
       "wandb version 0.21.0 is available!  To upgrade, please run:\n",
       " $ pip install wandb --upgrade"
      ],
      "text/plain": [
       "<IPython.core.display.HTML object>"
      ]
     },
     "metadata": {},
     "output_type": "display_data"
    },
    {
     "data": {
      "text/html": [
       "Tracking run with wandb version 0.15.4"
      ],
      "text/plain": [
       "<IPython.core.display.HTML object>"
      ]
     },
     "metadata": {},
     "output_type": "display_data"
    },
    {
     "data": {
      "text/html": [
       "Run data is saved locally in <code>/oscar/data/larschan/shared_data/bind_gps/seq_modeling/wandb/run-20250711_231942-k0xo19c1</code>"
      ],
      "text/plain": [
       "<IPython.core.display.HTML object>"
      ]
     },
     "metadata": {},
     "output_type": "display_data"
    },
    {
     "data": {
      "text/html": [
       "Syncing run <strong><a href='https://wandb.ai/pranavmahabs/bind_gps/runs/k0xo19c1' target=\"_blank\">kmer_128</a></strong> to <a href='https://wandb.ai/pranavmahabs/bind_gps' target=\"_blank\">Weights & Biases</a> (<a href='https://wandb.me/run' target=\"_blank\">docs</a>)<br/>Sweep page: <a href='https://wandb.ai/pranavmahabs/bind_gps/sweeps/ms3id6yy' target=\"_blank\">https://wandb.ai/pranavmahabs/bind_gps/sweeps/ms3id6yy</a>"
      ],
      "text/plain": [
       "<IPython.core.display.HTML object>"
      ]
     },
     "metadata": {},
     "output_type": "display_data"
    },
    {
     "data": {
      "text/html": [
       " View project at <a href='https://wandb.ai/pranavmahabs/bind_gps' target=\"_blank\">https://wandb.ai/pranavmahabs/bind_gps</a>"
      ],
      "text/plain": [
       "<IPython.core.display.HTML object>"
      ]
     },
     "metadata": {},
     "output_type": "display_data"
    },
    {
     "data": {
      "text/html": [
       " View sweep at <a href='https://wandb.ai/pranavmahabs/bind_gps/sweeps/ms3id6yy' target=\"_blank\">https://wandb.ai/pranavmahabs/bind_gps/sweeps/ms3id6yy</a>"
      ],
      "text/plain": [
       "<IPython.core.display.HTML object>"
      ]
     },
     "metadata": {},
     "output_type": "display_data"
    },
    {
     "data": {
      "text/html": [
       " View run at <a href='https://wandb.ai/pranavmahabs/bind_gps/runs/k0xo19c1' target=\"_blank\">https://wandb.ai/pranavmahabs/bind_gps/runs/k0xo19c1</a>"
      ],
      "text/plain": [
       "<IPython.core.display.HTML object>"
      ]
     },
     "metadata": {},
     "output_type": "display_data"
    },
    {
     "name": "stdout",
     "output_type": "stream",
     "text": [
      "Epoch 0:\n",
      "Train Metrics:\n",
      "\tLoss:1537.1760, Acc: 0.5805:\n",
      "finished evaluation\n",
      "['auroc', 'auprc', 'accuracy']\n",
      "Validation Metrics:\n",
      "\tLoss: 372.2624\n",
      "\tauroc: 0.6784\n",
      "\tauprc: 0.4602\n",
      "\taccuracy: 0.6085\n",
      "\tepoch: 0.0000\n",
      "Epoch 1:\n",
      "Train Metrics:\n",
      "\tLoss:1450.4834, Acc: 0.6106:\n",
      "finished evaluation\n",
      "['auroc', 'auprc', 'accuracy']\n",
      "Validation Metrics:\n",
      "\tLoss: 362.5607\n",
      "\tauroc: 0.6942\n",
      "\tauprc: 0.4778\n",
      "\taccuracy: 0.6157\n",
      "\tepoch: 1.0000\n",
      "Epoch 2:\n",
      "Train Metrics:\n",
      "\tLoss:1433.0534, Acc: 0.6157:\n",
      "finished evaluation\n",
      "['auroc', 'auprc', 'accuracy']\n",
      "Validation Metrics:\n",
      "\tLoss: 362.9411\n",
      "\tauroc: 0.6989\n",
      "\tauprc: 0.4831\n",
      "\taccuracy: 0.6180\n",
      "\tepoch: 2.0000\n",
      "Epoch 3:\n",
      "Train Metrics:\n",
      "\tLoss:1420.7393, Acc: 0.6204:\n",
      "finished evaluation\n",
      "['auroc', 'auprc', 'accuracy']\n",
      "Validation Metrics:\n",
      "\tLoss: 357.5126\n",
      "\tauroc: 0.7085\n",
      "\tauprc: 0.5002\n",
      "\taccuracy: 0.6223\n",
      "\tepoch: 3.0000\n",
      "Epoch 4:\n",
      "Train Metrics:\n",
      "\tLoss:1409.5638, Acc: 0.6240:\n",
      "finished evaluation\n",
      "['auroc', 'auprc', 'accuracy']\n",
      "Validation Metrics:\n",
      "\tLoss: 359.1412\n",
      "\tauroc: 0.7118\n",
      "\tauprc: 0.5048\n",
      "\taccuracy: 0.6250\n",
      "\tepoch: 4.0000\n",
      "Epoch 5:\n",
      "Train Metrics:\n",
      "\tLoss:1402.3759, Acc: 0.6255:\n",
      "finished evaluation\n",
      "['auroc', 'auprc', 'accuracy']\n",
      "Validation Metrics:\n",
      "\tLoss: 356.0087\n",
      "\tauroc: 0.7171\n",
      "\tauprc: 0.5107\n",
      "\taccuracy: 0.6232\n",
      "\tepoch: 5.0000\n",
      "Epoch 6:\n",
      "Train Metrics:\n",
      "\tLoss:1394.7012, Acc: 0.6278:\n",
      "finished evaluation\n",
      "['auroc', 'auprc', 'accuracy']\n",
      "Validation Metrics:\n",
      "\tLoss: 352.8469\n",
      "\tauroc: 0.7193\n",
      "\tauprc: 0.5132\n",
      "\taccuracy: 0.6294\n",
      "\tepoch: 6.0000\n",
      "Epoch 7:\n",
      "Train Metrics:\n",
      "\tLoss:1390.9165, Acc: 0.6292:\n",
      "finished evaluation\n",
      "['auroc', 'auprc', 'accuracy']\n",
      "Validation Metrics:\n",
      "\tLoss: 354.1341\n",
      "\tauroc: 0.7216\n",
      "\tauprc: 0.5157\n",
      "\taccuracy: 0.6257\n",
      "\tepoch: 7.0000\n",
      "Epoch 8:\n",
      "Train Metrics:\n",
      "\tLoss:1386.3879, Acc: 0.6307:\n",
      "finished evaluation\n",
      "['auroc', 'auprc', 'accuracy']\n",
      "Validation Metrics:\n",
      "\tLoss: 350.3146\n",
      "\tauroc: 0.7235\n",
      "\tauprc: 0.5171\n",
      "\taccuracy: 0.6301\n",
      "\tepoch: 8.0000\n",
      "Epoch 9:\n",
      "Train Metrics:\n",
      "\tLoss:1383.2244, Acc: 0.6325:\n",
      "finished evaluation\n",
      "['auroc', 'auprc', 'accuracy']\n",
      "Validation Metrics:\n",
      "\tLoss: 348.5024\n",
      "\tauroc: 0.7257\n",
      "\tauprc: 0.5206\n",
      "\taccuracy: 0.6321\n",
      "\tepoch: 9.0000\n"
     ]
    },
    {
     "data": {
      "text/html": [
       "Waiting for W&B process to finish... <strong style=\"color:green\">(success).</strong>"
      ],
      "text/plain": [
       "<IPython.core.display.HTML object>"
      ]
     },
     "metadata": {},
     "output_type": "display_data"
    },
    {
     "data": {
      "application/vnd.jupyter.widget-view+json": {
       "model_id": "9660515188e440199a568c3d5c453a4f",
       "version_major": 2,
       "version_minor": 0
      },
      "text/plain": [
       "VBox(children=(Label(value='0.008 MB of 0.008 MB uploaded (0.000 MB deduped)\\r'), FloatProgress(value=1.0, max…"
      ]
     },
     "metadata": {},
     "output_type": "display_data"
    },
    {
     "data": {
      "text/html": [
       "<style>\n",
       "    table.wandb td:nth-child(1) { padding: 0 10px; text-align: left ; width: auto;} td:nth-child(2) {text-align: left ; width: 100%}\n",
       "    .wandb-row { display: flex; flex-direction: row; flex-wrap: wrap; justify-content: flex-start; width: 100% }\n",
       "    .wandb-col { display: flex; flex-direction: column; flex-basis: 100%; flex: 1; padding: 10px; }\n",
       "    </style>\n",
       "<div class=\"wandb-row\"><div class=\"wandb-col\"><h3>Run history:</h3><br/><table class=\"wandb\"><tr><td>train_accuracy</td><td>▁▅▆▆▇▇▇███</td></tr><tr><td>train_loss</td><td>█▄▃▃▂▂▂▁▁▁</td></tr><tr><td>val_accuracy</td><td>▁▃▄▅▆▅▇▆▇█</td></tr><tr><td>val_auprc</td><td>▁▃▄▆▆▇▇▇██</td></tr><tr><td>val_auroc</td><td>▁▃▄▅▆▇▇▇██</td></tr><tr><td>val_loss</td><td>█▅▅▄▄▃▂▃▂▁</td></tr></table><br/></div><div class=\"wandb-col\"><h3>Run summary:</h3><br/><table class=\"wandb\"><tr><td>train_accuracy</td><td>0.63247</td></tr><tr><td>train_loss</td><td>1383.22443</td></tr><tr><td>val_accuracy</td><td>0.63206</td></tr><tr><td>val_auprc</td><td>0.52063</td></tr><tr><td>val_auroc</td><td>0.72568</td></tr><tr><td>val_loss</td><td>348.50241</td></tr></table><br/></div></div>"
      ],
      "text/plain": [
       "<IPython.core.display.HTML object>"
      ]
     },
     "metadata": {},
     "output_type": "display_data"
    },
    {
     "data": {
      "text/html": [
       " View run <strong style=\"color:#cdcd00\">kmer_128</strong> at: <a href='https://wandb.ai/pranavmahabs/bind_gps/runs/k0xo19c1' target=\"_blank\">https://wandb.ai/pranavmahabs/bind_gps/runs/k0xo19c1</a><br/>Synced 5 W&B file(s), 0 media file(s), 0 artifact file(s) and 0 other file(s)"
      ],
      "text/plain": [
       "<IPython.core.display.HTML object>"
      ]
     },
     "metadata": {},
     "output_type": "display_data"
    },
    {
     "data": {
      "text/html": [
       "Find logs at: <code>./wandb/run-20250711_231942-k0xo19c1/logs</code>"
      ],
      "text/plain": [
       "<IPython.core.display.HTML object>"
      ]
     },
     "metadata": {},
     "output_type": "display_data"
    },
    {
     "name": "stderr",
     "output_type": "stream",
     "text": [
      "\u001b[34m\u001b[1mwandb\u001b[0m: Agent Starting Run: 17npw5jo with config:\n",
      "\u001b[34m\u001b[1mwandb\u001b[0m: \tepochs: 10\n",
      "\u001b[34m\u001b[1mwandb\u001b[0m: \thidden_dims: [256, 128]\n",
      "\u001b[34m\u001b[1mwandb\u001b[0m: \tlr: 0.0001\n",
      "\u001b[34m\u001b[1mwandb\u001b[0m: \tmetrics: ['auroc', 'auprc', 'accuracy']\n",
      "\u001b[34m\u001b[1mwandb\u001b[0m: \tname: kmer_128\n",
      "\u001b[34m\u001b[1mwandb\u001b[0m: \toutdir: models/kmer_128\n",
      "\u001b[34m\u001b[1mwandb\u001b[0m: \tseed: 42\n",
      "\u001b[34m\u001b[1mwandb\u001b[0m: \ttarget: auroc\n",
      "\u001b[34m\u001b[1mwandb\u001b[0m: \ttask: gene\n",
      "\u001b[34m\u001b[1mwandb\u001b[0m: \twd: 1e-06\n",
      "\u001b[34m\u001b[1mwandb\u001b[0m: \tweighted: True\n",
      "Failed to detect the name of this notebook, you can set it manually with the WANDB_NOTEBOOK_NAME environment variable to enable code saving.\n",
      "\u001b[34m\u001b[1mwandb\u001b[0m: \u001b[33mWARNING\u001b[0m Ignored wandb.init() arg project when running a sweep.\n"
     ]
    },
    {
     "data": {
      "text/html": [
       "wandb version 0.21.0 is available!  To upgrade, please run:\n",
       " $ pip install wandb --upgrade"
      ],
      "text/plain": [
       "<IPython.core.display.HTML object>"
      ]
     },
     "metadata": {},
     "output_type": "display_data"
    },
    {
     "data": {
      "text/html": [
       "Tracking run with wandb version 0.15.4"
      ],
      "text/plain": [
       "<IPython.core.display.HTML object>"
      ]
     },
     "metadata": {},
     "output_type": "display_data"
    },
    {
     "data": {
      "text/html": [
       "Run data is saved locally in <code>/oscar/data/larschan/shared_data/bind_gps/seq_modeling/wandb/run-20250711_232038-17npw5jo</code>"
      ],
      "text/plain": [
       "<IPython.core.display.HTML object>"
      ]
     },
     "metadata": {},
     "output_type": "display_data"
    },
    {
     "data": {
      "text/html": [
       "Syncing run <strong><a href='https://wandb.ai/pranavmahabs/bind_gps/runs/17npw5jo' target=\"_blank\">kmer_128</a></strong> to <a href='https://wandb.ai/pranavmahabs/bind_gps' target=\"_blank\">Weights & Biases</a> (<a href='https://wandb.me/run' target=\"_blank\">docs</a>)<br/>Sweep page: <a href='https://wandb.ai/pranavmahabs/bind_gps/sweeps/ms3id6yy' target=\"_blank\">https://wandb.ai/pranavmahabs/bind_gps/sweeps/ms3id6yy</a>"
      ],
      "text/plain": [
       "<IPython.core.display.HTML object>"
      ]
     },
     "metadata": {},
     "output_type": "display_data"
    },
    {
     "data": {
      "text/html": [
       " View project at <a href='https://wandb.ai/pranavmahabs/bind_gps' target=\"_blank\">https://wandb.ai/pranavmahabs/bind_gps</a>"
      ],
      "text/plain": [
       "<IPython.core.display.HTML object>"
      ]
     },
     "metadata": {},
     "output_type": "display_data"
    },
    {
     "data": {
      "text/html": [
       " View sweep at <a href='https://wandb.ai/pranavmahabs/bind_gps/sweeps/ms3id6yy' target=\"_blank\">https://wandb.ai/pranavmahabs/bind_gps/sweeps/ms3id6yy</a>"
      ],
      "text/plain": [
       "<IPython.core.display.HTML object>"
      ]
     },
     "metadata": {},
     "output_type": "display_data"
    },
    {
     "data": {
      "text/html": [
       " View run at <a href='https://wandb.ai/pranavmahabs/bind_gps/runs/17npw5jo' target=\"_blank\">https://wandb.ai/pranavmahabs/bind_gps/runs/17npw5jo</a>"
      ],
      "text/plain": [
       "<IPython.core.display.HTML object>"
      ]
     },
     "metadata": {},
     "output_type": "display_data"
    },
    {
     "name": "stdout",
     "output_type": "stream",
     "text": [
      "Epoch 0:\n",
      "Train Metrics:\n",
      "\tLoss:1797.5280, Acc: 0.4553:\n",
      "finished evaluation\n",
      "['auroc', 'auprc', 'accuracy']\n",
      "Validation Metrics:\n",
      "\tLoss: 445.2492\n",
      "\tauroc: 0.6709\n",
      "\tauprc: 0.4652\n",
      "\taccuracy: 0.3621\n",
      "\tepoch: 0.0000\n",
      "Epoch 1:\n",
      "Train Metrics:\n",
      "\tLoss:1729.1713, Acc: 0.4930:\n",
      "finished evaluation\n",
      "['auroc', 'auprc', 'accuracy']\n",
      "Validation Metrics:\n",
      "\tLoss: 436.7714\n",
      "\tauroc: 0.6806\n",
      "\tauprc: 0.4786\n",
      "\taccuracy: 0.4038\n",
      "\tepoch: 1.0000\n",
      "Epoch 2:\n",
      "Train Metrics:\n",
      "\tLoss:1708.9864, Acc: 0.5089:\n",
      "finished evaluation\n",
      "['auroc', 'auprc', 'accuracy']\n",
      "Validation Metrics:\n",
      "\tLoss: 435.6467\n",
      "\tauroc: 0.6904\n",
      "\tauprc: 0.4877\n",
      "\taccuracy: 0.4069\n",
      "\tepoch: 2.0000\n",
      "Epoch 3:\n",
      "Train Metrics:\n",
      "\tLoss:1693.8612, Acc: 0.5157:\n",
      "finished evaluation\n",
      "['auroc', 'auprc', 'accuracy']\n",
      "Validation Metrics:\n",
      "\tLoss: 429.6992\n",
      "\tauroc: 0.6913\n",
      "\tauprc: 0.4897\n",
      "\taccuracy: 0.4117\n",
      "\tepoch: 3.0000\n",
      "Epoch 4:\n",
      "Train Metrics:\n",
      "\tLoss:1681.2547, Acc: 0.5209:\n",
      "finished evaluation\n",
      "['auroc', 'auprc', 'accuracy']\n",
      "Validation Metrics:\n",
      "\tLoss: 425.4374\n",
      "\tauroc: 0.6973\n",
      "\tauprc: 0.4952\n",
      "\taccuracy: 0.4513\n",
      "\tepoch: 4.0000\n",
      "Epoch 5:\n",
      "Train Metrics:\n",
      "\tLoss:1674.4703, Acc: 0.5250:\n",
      "finished evaluation\n",
      "['auroc', 'auprc', 'accuracy']\n",
      "Validation Metrics:\n",
      "\tLoss: 425.0221\n",
      "\tauroc: 0.7009\n",
      "\tauprc: 0.4988\n",
      "\taccuracy: 0.4641\n",
      "\tepoch: 5.0000\n",
      "Epoch 6:\n",
      "Train Metrics:\n",
      "\tLoss:1665.2380, Acc: 0.5323:\n",
      "finished evaluation\n",
      "['auroc', 'auprc', 'accuracy']\n",
      "Validation Metrics:\n",
      "\tLoss: 420.5344\n",
      "\tauroc: 0.7060\n",
      "\tauprc: 0.5036\n",
      "\taccuracy: 0.4864\n",
      "\tepoch: 6.0000\n",
      "Epoch 7:\n",
      "Train Metrics:\n",
      "\tLoss:1659.4954, Acc: 0.5353:\n",
      "finished evaluation\n",
      "['auroc', 'auprc', 'accuracy']\n",
      "Validation Metrics:\n",
      "\tLoss: 418.8516\n",
      "\tauroc: 0.7082\n",
      "\tauprc: 0.5074\n",
      "\taccuracy: 0.5018\n",
      "\tepoch: 7.0000\n",
      "Epoch 8:\n",
      "Train Metrics:\n",
      "\tLoss:1652.7130, Acc: 0.5377:\n",
      "finished evaluation\n",
      "['auroc', 'auprc', 'accuracy']\n",
      "Validation Metrics:\n",
      "\tLoss: 418.7078\n",
      "\tauroc: 0.7088\n",
      "\tauprc: 0.5067\n",
      "\taccuracy: 0.4987\n",
      "\tepoch: 8.0000\n",
      "Epoch 9:\n",
      "Train Metrics:\n",
      "\tLoss:1649.1573, Acc: 0.5415:\n",
      "finished evaluation\n",
      "['auroc', 'auprc', 'accuracy']\n",
      "Validation Metrics:\n",
      "\tLoss: 416.6290\n",
      "\tauroc: 0.7088\n",
      "\tauprc: 0.5054\n",
      "\taccuracy: 0.4890\n",
      "\tepoch: 9.0000\n"
     ]
    },
    {
     "data": {
      "text/html": [
       "Waiting for W&B process to finish... <strong style=\"color:green\">(success).</strong>"
      ],
      "text/plain": [
       "<IPython.core.display.HTML object>"
      ]
     },
     "metadata": {},
     "output_type": "display_data"
    },
    {
     "data": {
      "application/vnd.jupyter.widget-view+json": {
       "model_id": "ab2854cf64114909b9cb8dbffa3edd06",
       "version_major": 2,
       "version_minor": 0
      },
      "text/plain": [
       "VBox(children=(Label(value='0.008 MB of 0.008 MB uploaded (0.000 MB deduped)\\r'), FloatProgress(value=1.0, max…"
      ]
     },
     "metadata": {},
     "output_type": "display_data"
    },
    {
     "data": {
      "text/html": [
       "<style>\n",
       "    table.wandb td:nth-child(1) { padding: 0 10px; text-align: left ; width: auto;} td:nth-child(2) {text-align: left ; width: 100%}\n",
       "    .wandb-row { display: flex; flex-direction: row; flex-wrap: wrap; justify-content: flex-start; width: 100% }\n",
       "    .wandb-col { display: flex; flex-direction: column; flex-basis: 100%; flex: 1; padding: 10px; }\n",
       "    </style>\n",
       "<div class=\"wandb-row\"><div class=\"wandb-col\"><h3>Run history:</h3><br/><table class=\"wandb\"><tr><td>train_accuracy</td><td>▁▄▅▆▆▇▇▇██</td></tr><tr><td>train_loss</td><td>█▅▄▃▃▂▂▁▁▁</td></tr><tr><td>val_accuracy</td><td>▁▃▃▃▅▆▇██▇</td></tr><tr><td>val_auprc</td><td>▁▃▅▅▆▇▇███</td></tr><tr><td>val_auroc</td><td>▁▃▅▅▆▇▇███</td></tr><tr><td>val_loss</td><td>█▆▆▄▃▃▂▂▂▁</td></tr></table><br/></div><div class=\"wandb-col\"><h3>Run summary:</h3><br/><table class=\"wandb\"><tr><td>train_accuracy</td><td>0.54146</td></tr><tr><td>train_loss</td><td>1649.15729</td></tr><tr><td>val_accuracy</td><td>0.48901</td></tr><tr><td>val_auprc</td><td>0.50538</td></tr><tr><td>val_auroc</td><td>0.70879</td></tr><tr><td>val_loss</td><td>416.62902</td></tr></table><br/></div></div>"
      ],
      "text/plain": [
       "<IPython.core.display.HTML object>"
      ]
     },
     "metadata": {},
     "output_type": "display_data"
    },
    {
     "data": {
      "text/html": [
       " View run <strong style=\"color:#cdcd00\">kmer_128</strong> at: <a href='https://wandb.ai/pranavmahabs/bind_gps/runs/17npw5jo' target=\"_blank\">https://wandb.ai/pranavmahabs/bind_gps/runs/17npw5jo</a><br/>Synced 5 W&B file(s), 0 media file(s), 0 artifact file(s) and 0 other file(s)"
      ],
      "text/plain": [
       "<IPython.core.display.HTML object>"
      ]
     },
     "metadata": {},
     "output_type": "display_data"
    },
    {
     "data": {
      "text/html": [
       "Find logs at: <code>./wandb/run-20250711_232038-17npw5jo/logs</code>"
      ],
      "text/plain": [
       "<IPython.core.display.HTML object>"
      ]
     },
     "metadata": {},
     "output_type": "display_data"
    },
    {
     "name": "stderr",
     "output_type": "stream",
     "text": [
      "\u001b[34m\u001b[1mwandb\u001b[0m: Sweep Agent: Waiting for job.\n",
      "\u001b[34m\u001b[1mwandb\u001b[0m: Job received.\n",
      "\u001b[34m\u001b[1mwandb\u001b[0m: Agent Starting Run: j3103ag3 with config:\n",
      "\u001b[34m\u001b[1mwandb\u001b[0m: \tepochs: 10\n",
      "\u001b[34m\u001b[1mwandb\u001b[0m: \thidden_dims: [256, 128]\n",
      "\u001b[34m\u001b[1mwandb\u001b[0m: \tlr: 0.0001\n",
      "\u001b[34m\u001b[1mwandb\u001b[0m: \tmetrics: ['auroc', 'auprc', 'accuracy']\n",
      "\u001b[34m\u001b[1mwandb\u001b[0m: \tname: kmer_128\n",
      "\u001b[34m\u001b[1mwandb\u001b[0m: \toutdir: models/kmer_128\n",
      "\u001b[34m\u001b[1mwandb\u001b[0m: \tseed: 42\n",
      "\u001b[34m\u001b[1mwandb\u001b[0m: \ttarget: auroc\n",
      "\u001b[34m\u001b[1mwandb\u001b[0m: \ttask: gene\n",
      "\u001b[34m\u001b[1mwandb\u001b[0m: \twd: 1e-06\n",
      "\u001b[34m\u001b[1mwandb\u001b[0m: \tweighted: False\n",
      "Failed to detect the name of this notebook, you can set it manually with the WANDB_NOTEBOOK_NAME environment variable to enable code saving.\n",
      "\u001b[34m\u001b[1mwandb\u001b[0m: \u001b[33mWARNING\u001b[0m Ignored wandb.init() arg project when running a sweep.\n"
     ]
    },
    {
     "data": {
      "text/html": [
       "wandb version 0.21.0 is available!  To upgrade, please run:\n",
       " $ pip install wandb --upgrade"
      ],
      "text/plain": [
       "<IPython.core.display.HTML object>"
      ]
     },
     "metadata": {},
     "output_type": "display_data"
    },
    {
     "data": {
      "text/html": [
       "Tracking run with wandb version 0.15.4"
      ],
      "text/plain": [
       "<IPython.core.display.HTML object>"
      ]
     },
     "metadata": {},
     "output_type": "display_data"
    },
    {
     "data": {
      "text/html": [
       "Run data is saved locally in <code>/oscar/data/larschan/shared_data/bind_gps/seq_modeling/wandb/run-20250711_232139-j3103ag3</code>"
      ],
      "text/plain": [
       "<IPython.core.display.HTML object>"
      ]
     },
     "metadata": {},
     "output_type": "display_data"
    },
    {
     "data": {
      "text/html": [
       "Syncing run <strong><a href='https://wandb.ai/pranavmahabs/bind_gps/runs/j3103ag3' target=\"_blank\">kmer_128</a></strong> to <a href='https://wandb.ai/pranavmahabs/bind_gps' target=\"_blank\">Weights & Biases</a> (<a href='https://wandb.me/run' target=\"_blank\">docs</a>)<br/>Sweep page: <a href='https://wandb.ai/pranavmahabs/bind_gps/sweeps/ms3id6yy' target=\"_blank\">https://wandb.ai/pranavmahabs/bind_gps/sweeps/ms3id6yy</a>"
      ],
      "text/plain": [
       "<IPython.core.display.HTML object>"
      ]
     },
     "metadata": {},
     "output_type": "display_data"
    },
    {
     "data": {
      "text/html": [
       " View project at <a href='https://wandb.ai/pranavmahabs/bind_gps' target=\"_blank\">https://wandb.ai/pranavmahabs/bind_gps</a>"
      ],
      "text/plain": [
       "<IPython.core.display.HTML object>"
      ]
     },
     "metadata": {},
     "output_type": "display_data"
    },
    {
     "data": {
      "text/html": [
       " View sweep at <a href='https://wandb.ai/pranavmahabs/bind_gps/sweeps/ms3id6yy' target=\"_blank\">https://wandb.ai/pranavmahabs/bind_gps/sweeps/ms3id6yy</a>"
      ],
      "text/plain": [
       "<IPython.core.display.HTML object>"
      ]
     },
     "metadata": {},
     "output_type": "display_data"
    },
    {
     "data": {
      "text/html": [
       " View run at <a href='https://wandb.ai/pranavmahabs/bind_gps/runs/j3103ag3' target=\"_blank\">https://wandb.ai/pranavmahabs/bind_gps/runs/j3103ag3</a>"
      ],
      "text/plain": [
       "<IPython.core.display.HTML object>"
      ]
     },
     "metadata": {},
     "output_type": "display_data"
    },
    {
     "name": "stdout",
     "output_type": "stream",
     "text": [
      "Epoch 0:\n",
      "Train Metrics:\n",
      "\tLoss:1524.5449, Acc: 0.5899:\n",
      "finished evaluation\n",
      "['auroc', 'auprc', 'accuracy']\n",
      "Validation Metrics:\n",
      "\tLoss: 376.4445\n",
      "\tauroc: 0.6743\n",
      "\tauprc: 0.4570\n",
      "\taccuracy: 0.6102\n",
      "\tepoch: 0.0000\n",
      "Epoch 1:\n",
      "Train Metrics:\n",
      "\tLoss:1451.5600, Acc: 0.6107:\n",
      "finished evaluation\n",
      "['auroc', 'auprc', 'accuracy']\n",
      "Validation Metrics:\n",
      "\tLoss: 368.4339\n",
      "\tauroc: 0.6924\n",
      "\tauprc: 0.4826\n",
      "\taccuracy: 0.6131\n",
      "\tepoch: 1.0000\n",
      "Epoch 2:\n",
      "Train Metrics:\n",
      "\tLoss:1433.5033, Acc: 0.6168:\n",
      "finished evaluation\n",
      "['auroc', 'auprc', 'accuracy']\n",
      "Validation Metrics:\n",
      "\tLoss: 362.6983\n",
      "\tauroc: 0.7017\n",
      "\tauprc: 0.4927\n",
      "\taccuracy: 0.6165\n",
      "\tepoch: 2.0000\n",
      "Epoch 3:\n",
      "Train Metrics:\n",
      "\tLoss:1420.2182, Acc: 0.6202:\n",
      "finished evaluation\n",
      "['auroc', 'auprc', 'accuracy']\n",
      "Validation Metrics:\n",
      "\tLoss: 358.4986\n",
      "\tauroc: 0.7076\n",
      "\tauprc: 0.5002\n",
      "\taccuracy: 0.6221\n",
      "\tepoch: 3.0000\n",
      "Epoch 4:\n",
      "Train Metrics:\n",
      "\tLoss:1410.3834, Acc: 0.6233:\n",
      "finished evaluation\n",
      "['auroc', 'auprc', 'accuracy']\n",
      "Validation Metrics:\n",
      "\tLoss: 357.5287\n",
      "\tauroc: 0.7112\n",
      "\tauprc: 0.5040\n",
      "\taccuracy: 0.6249\n",
      "\tepoch: 4.0000\n",
      "Epoch 5:\n",
      "Train Metrics:\n",
      "\tLoss:1403.6279, Acc: 0.6260:\n",
      "finished evaluation\n",
      "['auroc', 'auprc', 'accuracy']\n",
      "Validation Metrics:\n",
      "\tLoss: 354.6458\n",
      "\tauroc: 0.7139\n",
      "\tauprc: 0.5083\n",
      "\taccuracy: 0.6300\n",
      "\tepoch: 5.0000\n",
      "Epoch 6:\n",
      "Train Metrics:\n",
      "\tLoss:1395.7731, Acc: 0.6283:\n",
      "finished evaluation\n",
      "['auroc', 'auprc', 'accuracy']\n",
      "Validation Metrics:\n",
      "\tLoss: 352.0140\n",
      "\tauroc: 0.7186\n",
      "\tauprc: 0.5122\n",
      "\taccuracy: 0.6297\n",
      "\tepoch: 6.0000\n",
      "Epoch 7:\n",
      "Train Metrics:\n",
      "\tLoss:1392.0549, Acc: 0.6308:\n",
      "finished evaluation\n",
      "['auroc', 'auprc', 'accuracy']\n",
      "Validation Metrics:\n",
      "\tLoss: 352.8479\n",
      "\tauroc: 0.7201\n",
      "\tauprc: 0.5151\n",
      "\taccuracy: 0.6258\n",
      "\tepoch: 7.0000\n",
      "Epoch 8:\n",
      "Train Metrics:\n",
      "\tLoss:1387.5130, Acc: 0.6308:\n",
      "finished evaluation\n",
      "['auroc', 'auprc', 'accuracy']\n",
      "Validation Metrics:\n",
      "\tLoss: 349.1609\n",
      "\tauroc: 0.7234\n",
      "\tauprc: 0.5175\n",
      "\taccuracy: 0.6346\n",
      "\tepoch: 8.0000\n",
      "Epoch 9:\n",
      "Train Metrics:\n",
      "\tLoss:1382.3737, Acc: 0.6325:\n",
      "finished evaluation\n",
      "['auroc', 'auprc', 'accuracy']\n",
      "Validation Metrics:\n",
      "\tLoss: 348.2838\n",
      "\tauroc: 0.7249\n",
      "\tauprc: 0.5203\n",
      "\taccuracy: 0.6336\n",
      "\tepoch: 9.0000\n"
     ]
    },
    {
     "data": {
      "text/html": [
       "Waiting for W&B process to finish... <strong style=\"color:green\">(success).</strong>"
      ],
      "text/plain": [
       "<IPython.core.display.HTML object>"
      ]
     },
     "metadata": {},
     "output_type": "display_data"
    },
    {
     "data": {
      "application/vnd.jupyter.widget-view+json": {
       "model_id": "8f027970a569410ca81238a7567775a8",
       "version_major": 2,
       "version_minor": 0
      },
      "text/plain": [
       "VBox(children=(Label(value='0.008 MB of 0.008 MB uploaded (0.000 MB deduped)\\r'), FloatProgress(value=1.0, max…"
      ]
     },
     "metadata": {},
     "output_type": "display_data"
    },
    {
     "data": {
      "text/html": [
       "<style>\n",
       "    table.wandb td:nth-child(1) { padding: 0 10px; text-align: left ; width: auto;} td:nth-child(2) {text-align: left ; width: 100%}\n",
       "    .wandb-row { display: flex; flex-direction: row; flex-wrap: wrap; justify-content: flex-start; width: 100% }\n",
       "    .wandb-col { display: flex; flex-direction: column; flex-basis: 100%; flex: 1; padding: 10px; }\n",
       "    </style>\n",
       "<div class=\"wandb-row\"><div class=\"wandb-col\"><h3>Run history:</h3><br/><table class=\"wandb\"><tr><td>train_accuracy</td><td>▁▄▅▆▆▇▇███</td></tr><tr><td>train_loss</td><td>█▄▄▃▂▂▂▁▁▁</td></tr><tr><td>val_accuracy</td><td>▁▂▃▄▅▇▇▅██</td></tr><tr><td>val_auprc</td><td>▁▄▅▆▆▇▇▇██</td></tr><tr><td>val_auroc</td><td>▁▄▅▆▆▆▇▇██</td></tr><tr><td>val_loss</td><td>█▆▅▄▃▃▂▂▁▁</td></tr></table><br/></div><div class=\"wandb-col\"><h3>Run summary:</h3><br/><table class=\"wandb\"><tr><td>train_accuracy</td><td>0.63252</td></tr><tr><td>train_loss</td><td>1382.37369</td></tr><tr><td>val_accuracy</td><td>0.63362</td></tr><tr><td>val_auprc</td><td>0.52032</td></tr><tr><td>val_auroc</td><td>0.72489</td></tr><tr><td>val_loss</td><td>348.28375</td></tr></table><br/></div></div>"
      ],
      "text/plain": [
       "<IPython.core.display.HTML object>"
      ]
     },
     "metadata": {},
     "output_type": "display_data"
    },
    {
     "data": {
      "text/html": [
       " View run <strong style=\"color:#cdcd00\">kmer_128</strong> at: <a href='https://wandb.ai/pranavmahabs/bind_gps/runs/j3103ag3' target=\"_blank\">https://wandb.ai/pranavmahabs/bind_gps/runs/j3103ag3</a><br/>Synced 5 W&B file(s), 0 media file(s), 0 artifact file(s) and 0 other file(s)"
      ],
      "text/plain": [
       "<IPython.core.display.HTML object>"
      ]
     },
     "metadata": {},
     "output_type": "display_data"
    },
    {
     "data": {
      "text/html": [
       "Find logs at: <code>./wandb/run-20250711_232139-j3103ag3/logs</code>"
      ],
      "text/plain": [
       "<IPython.core.display.HTML object>"
      ]
     },
     "metadata": {},
     "output_type": "display_data"
    },
    {
     "name": "stderr",
     "output_type": "stream",
     "text": [
      "\u001b[34m\u001b[1mwandb\u001b[0m: Sweep Agent: Waiting for job.\n",
      "\u001b[34m\u001b[1mwandb\u001b[0m: Job received.\n",
      "\u001b[34m\u001b[1mwandb\u001b[0m: Agent Starting Run: 5pkmjx9r with config:\n",
      "\u001b[34m\u001b[1mwandb\u001b[0m: \tepochs: 10\n",
      "\u001b[34m\u001b[1mwandb\u001b[0m: \thidden_dims: [256, 128]\n",
      "\u001b[34m\u001b[1mwandb\u001b[0m: \tlr: 1e-05\n",
      "\u001b[34m\u001b[1mwandb\u001b[0m: \tmetrics: ['auroc', 'auprc', 'accuracy']\n",
      "\u001b[34m\u001b[1mwandb\u001b[0m: \tname: kmer_128\n",
      "\u001b[34m\u001b[1mwandb\u001b[0m: \toutdir: models/kmer_128\n",
      "\u001b[34m\u001b[1mwandb\u001b[0m: \tseed: 42\n",
      "\u001b[34m\u001b[1mwandb\u001b[0m: \ttarget: auroc\n",
      "\u001b[34m\u001b[1mwandb\u001b[0m: \ttask: mre\n",
      "\u001b[34m\u001b[1mwandb\u001b[0m: \twd: 1e-05\n",
      "\u001b[34m\u001b[1mwandb\u001b[0m: \tweighted: True\n",
      "Failed to detect the name of this notebook, you can set it manually with the WANDB_NOTEBOOK_NAME environment variable to enable code saving.\n",
      "\u001b[34m\u001b[1mwandb\u001b[0m: \u001b[33mWARNING\u001b[0m Ignored wandb.init() arg project when running a sweep.\n"
     ]
    },
    {
     "data": {
      "text/html": [
       "wandb version 0.21.0 is available!  To upgrade, please run:\n",
       " $ pip install wandb --upgrade"
      ],
      "text/plain": [
       "<IPython.core.display.HTML object>"
      ]
     },
     "metadata": {},
     "output_type": "display_data"
    },
    {
     "data": {
      "text/html": [
       "Tracking run with wandb version 0.15.4"
      ],
      "text/plain": [
       "<IPython.core.display.HTML object>"
      ]
     },
     "metadata": {},
     "output_type": "display_data"
    },
    {
     "data": {
      "text/html": [
       "Run data is saved locally in <code>/oscar/data/larschan/shared_data/bind_gps/seq_modeling/wandb/run-20250711_232239-5pkmjx9r</code>"
      ],
      "text/plain": [
       "<IPython.core.display.HTML object>"
      ]
     },
     "metadata": {},
     "output_type": "display_data"
    },
    {
     "data": {
      "text/html": [
       "Syncing run <strong><a href='https://wandb.ai/pranavmahabs/bind_gps/runs/5pkmjx9r' target=\"_blank\">kmer_128</a></strong> to <a href='https://wandb.ai/pranavmahabs/bind_gps' target=\"_blank\">Weights & Biases</a> (<a href='https://wandb.me/run' target=\"_blank\">docs</a>)<br/>Sweep page: <a href='https://wandb.ai/pranavmahabs/bind_gps/sweeps/ms3id6yy' target=\"_blank\">https://wandb.ai/pranavmahabs/bind_gps/sweeps/ms3id6yy</a>"
      ],
      "text/plain": [
       "<IPython.core.display.HTML object>"
      ]
     },
     "metadata": {},
     "output_type": "display_data"
    },
    {
     "data": {
      "text/html": [
       " View project at <a href='https://wandb.ai/pranavmahabs/bind_gps' target=\"_blank\">https://wandb.ai/pranavmahabs/bind_gps</a>"
      ],
      "text/plain": [
       "<IPython.core.display.HTML object>"
      ]
     },
     "metadata": {},
     "output_type": "display_data"
    },
    {
     "data": {
      "text/html": [
       " View sweep at <a href='https://wandb.ai/pranavmahabs/bind_gps/sweeps/ms3id6yy' target=\"_blank\">https://wandb.ai/pranavmahabs/bind_gps/sweeps/ms3id6yy</a>"
      ],
      "text/plain": [
       "<IPython.core.display.HTML object>"
      ]
     },
     "metadata": {},
     "output_type": "display_data"
    },
    {
     "data": {
      "text/html": [
       " View run at <a href='https://wandb.ai/pranavmahabs/bind_gps/runs/5pkmjx9r' target=\"_blank\">https://wandb.ai/pranavmahabs/bind_gps/runs/5pkmjx9r</a>"
      ],
      "text/plain": [
       "<IPython.core.display.HTML object>"
      ]
     },
     "metadata": {},
     "output_type": "display_data"
    },
    {
     "name": "stdout",
     "output_type": "stream",
     "text": [
      "Epoch 0:\n",
      "Train Metrics:\n",
      "\tLoss:1933.3091, Acc: 0.3284:\n",
      "finished evaluation\n",
      "['auroc', 'auprc', 'accuracy']\n",
      "Validation Metrics:\n",
      "\tLoss: 460.3099\n",
      "\tauroc: 0.6276\n",
      "\tauprc: 0.3725\n",
      "\taccuracy: 0.1511\n",
      "\tepoch: 0.0000\n",
      "Epoch 1:\n",
      "Train Metrics:\n",
      "\tLoss:1828.2387, Acc: 0.4359:\n",
      "finished evaluation\n",
      "['auroc', 'auprc', 'accuracy']\n",
      "Validation Metrics:\n",
      "\tLoss: 454.0995\n",
      "\tauroc: 0.6635\n",
      "\tauprc: 0.3983\n",
      "\taccuracy: 0.1666\n",
      "\tepoch: 1.0000\n",
      "Epoch 2:\n",
      "Train Metrics:\n",
      "\tLoss:1781.5258, Acc: 0.5158:\n",
      "finished evaluation\n",
      "['auroc', 'auprc', 'accuracy']\n",
      "Validation Metrics:\n",
      "\tLoss: 441.7147\n",
      "\tauroc: 0.6950\n",
      "\tauprc: 0.4279\n",
      "\taccuracy: 0.3456\n",
      "\tepoch: 2.0000\n",
      "Epoch 3:\n",
      "Train Metrics:\n",
      "\tLoss:1748.4841, Acc: 0.5599:\n",
      "finished evaluation\n",
      "['auroc', 'auprc', 'accuracy']\n",
      "Validation Metrics:\n",
      "\tLoss: 430.1695\n",
      "\tauroc: 0.7142\n",
      "\tauprc: 0.4364\n",
      "\taccuracy: 0.5180\n",
      "\tepoch: 3.0000\n",
      "Epoch 4:\n",
      "Train Metrics:\n",
      "\tLoss:1721.3542, Acc: 0.5933:\n",
      "finished evaluation\n",
      "['auroc', 'auprc', 'accuracy']\n",
      "Validation Metrics:\n",
      "\tLoss: 432.0860\n",
      "\tauroc: 0.7187\n",
      "\tauprc: 0.4413\n",
      "\taccuracy: 0.5143\n",
      "\tepoch: 4.0000\n",
      "Epoch 5:\n",
      "Train Metrics:\n",
      "\tLoss:1702.1894, Acc: 0.6065:\n",
      "finished evaluation\n",
      "['auroc', 'auprc', 'accuracy']\n",
      "Validation Metrics:\n",
      "\tLoss: 429.4918\n",
      "\tauroc: 0.7298\n",
      "\tauprc: 0.4528\n",
      "\taccuracy: 0.4645\n",
      "\tepoch: 5.0000\n",
      "Epoch 6:\n",
      "Train Metrics:\n",
      "\tLoss:1685.0728, Acc: 0.6229:\n",
      "finished evaluation\n",
      "['auroc', 'auprc', 'accuracy']\n",
      "Validation Metrics:\n",
      "\tLoss: 422.3066\n",
      "\tauroc: 0.7398\n",
      "\tauprc: 0.4622\n",
      "\taccuracy: 0.5512\n",
      "\tepoch: 6.0000\n",
      "Epoch 7:\n",
      "Train Metrics:\n",
      "\tLoss:1665.8117, Acc: 0.6335:\n",
      "finished evaluation\n",
      "['auroc', 'auprc', 'accuracy']\n",
      "Validation Metrics:\n",
      "\tLoss: 417.1412\n",
      "\tauroc: 0.7527\n",
      "\tauprc: 0.4740\n",
      "\taccuracy: 0.5912\n",
      "\tepoch: 7.0000\n",
      "Epoch 8:\n",
      "Train Metrics:\n",
      "\tLoss:1654.9696, Acc: 0.6420:\n",
      "finished evaluation\n",
      "['auroc', 'auprc', 'accuracy']\n",
      "Validation Metrics:\n",
      "\tLoss: 417.1505\n",
      "\tauroc: 0.7535\n",
      "\tauprc: 0.4741\n",
      "\taccuracy: 0.5629\n",
      "\tepoch: 8.0000\n",
      "Epoch 9:\n",
      "Train Metrics:\n",
      "\tLoss:1641.1439, Acc: 0.6495:\n",
      "finished evaluation\n",
      "['auroc', 'auprc', 'accuracy']\n",
      "Validation Metrics:\n",
      "\tLoss: 415.3985\n",
      "\tauroc: 0.7568\n",
      "\tauprc: 0.4785\n",
      "\taccuracy: 0.6073\n",
      "\tepoch: 9.0000\n"
     ]
    },
    {
     "data": {
      "text/html": [
       "Waiting for W&B process to finish... <strong style=\"color:green\">(success).</strong>"
      ],
      "text/plain": [
       "<IPython.core.display.HTML object>"
      ]
     },
     "metadata": {},
     "output_type": "display_data"
    },
    {
     "data": {
      "application/vnd.jupyter.widget-view+json": {
       "model_id": "4073a3eee71a46b68882381959583e04",
       "version_major": 2,
       "version_minor": 0
      },
      "text/plain": [
       "VBox(children=(Label(value='0.008 MB of 0.008 MB uploaded (0.000 MB deduped)\\r'), FloatProgress(value=1.0, max…"
      ]
     },
     "metadata": {},
     "output_type": "display_data"
    },
    {
     "data": {
      "text/html": [
       "<style>\n",
       "    table.wandb td:nth-child(1) { padding: 0 10px; text-align: left ; width: auto;} td:nth-child(2) {text-align: left ; width: 100%}\n",
       "    .wandb-row { display: flex; flex-direction: row; flex-wrap: wrap; justify-content: flex-start; width: 100% }\n",
       "    .wandb-col { display: flex; flex-direction: column; flex-basis: 100%; flex: 1; padding: 10px; }\n",
       "    </style>\n",
       "<div class=\"wandb-row\"><div class=\"wandb-col\"><h3>Run history:</h3><br/><table class=\"wandb\"><tr><td>train_accuracy</td><td>▁▃▅▆▇▇▇███</td></tr><tr><td>train_loss</td><td>█▅▄▄▃▂▂▂▁▁</td></tr><tr><td>val_accuracy</td><td>▁▁▄▇▇▆▇█▇█</td></tr><tr><td>val_auprc</td><td>▁▃▅▅▆▆▇███</td></tr><tr><td>val_auroc</td><td>▁▃▅▆▆▇▇███</td></tr><tr><td>val_loss</td><td>█▇▅▃▄▃▂▁▁▁</td></tr></table><br/></div><div class=\"wandb-col\"><h3>Run summary:</h3><br/><table class=\"wandb\"><tr><td>train_accuracy</td><td>0.6495</td></tr><tr><td>train_loss</td><td>1641.14389</td></tr><tr><td>val_accuracy</td><td>0.60734</td></tr><tr><td>val_auprc</td><td>0.47851</td></tr><tr><td>val_auroc</td><td>0.75676</td></tr><tr><td>val_loss</td><td>415.39852</td></tr></table><br/></div></div>"
      ],
      "text/plain": [
       "<IPython.core.display.HTML object>"
      ]
     },
     "metadata": {},
     "output_type": "display_data"
    },
    {
     "data": {
      "text/html": [
       " View run <strong style=\"color:#cdcd00\">kmer_128</strong> at: <a href='https://wandb.ai/pranavmahabs/bind_gps/runs/5pkmjx9r' target=\"_blank\">https://wandb.ai/pranavmahabs/bind_gps/runs/5pkmjx9r</a><br/>Synced 5 W&B file(s), 0 media file(s), 0 artifact file(s) and 0 other file(s)"
      ],
      "text/plain": [
       "<IPython.core.display.HTML object>"
      ]
     },
     "metadata": {},
     "output_type": "display_data"
    },
    {
     "data": {
      "text/html": [
       "Find logs at: <code>./wandb/run-20250711_232239-5pkmjx9r/logs</code>"
      ],
      "text/plain": [
       "<IPython.core.display.HTML object>"
      ]
     },
     "metadata": {},
     "output_type": "display_data"
    },
    {
     "name": "stderr",
     "output_type": "stream",
     "text": [
      "\u001b[34m\u001b[1mwandb\u001b[0m: Agent Starting Run: 6h1up4rz with config:\n",
      "\u001b[34m\u001b[1mwandb\u001b[0m: \tepochs: 10\n",
      "\u001b[34m\u001b[1mwandb\u001b[0m: \thidden_dims: [256, 128]\n",
      "\u001b[34m\u001b[1mwandb\u001b[0m: \tlr: 1e-05\n",
      "\u001b[34m\u001b[1mwandb\u001b[0m: \tmetrics: ['auroc', 'auprc', 'accuracy']\n",
      "\u001b[34m\u001b[1mwandb\u001b[0m: \tname: kmer_128\n",
      "\u001b[34m\u001b[1mwandb\u001b[0m: \toutdir: models/kmer_128\n",
      "\u001b[34m\u001b[1mwandb\u001b[0m: \tseed: 42\n",
      "\u001b[34m\u001b[1mwandb\u001b[0m: \ttarget: auroc\n",
      "\u001b[34m\u001b[1mwandb\u001b[0m: \ttask: mre\n",
      "\u001b[34m\u001b[1mwandb\u001b[0m: \twd: 1e-05\n",
      "\u001b[34m\u001b[1mwandb\u001b[0m: \tweighted: False\n",
      "Failed to detect the name of this notebook, you can set it manually with the WANDB_NOTEBOOK_NAME environment variable to enable code saving.\n",
      "\u001b[34m\u001b[1mwandb\u001b[0m: \u001b[33mWARNING\u001b[0m Ignored wandb.init() arg project when running a sweep.\n"
     ]
    },
    {
     "data": {
      "text/html": [
       "wandb version 0.21.0 is available!  To upgrade, please run:\n",
       " $ pip install wandb --upgrade"
      ],
      "text/plain": [
       "<IPython.core.display.HTML object>"
      ]
     },
     "metadata": {},
     "output_type": "display_data"
    },
    {
     "data": {
      "text/html": [
       "Tracking run with wandb version 0.15.4"
      ],
      "text/plain": [
       "<IPython.core.display.HTML object>"
      ]
     },
     "metadata": {},
     "output_type": "display_data"
    },
    {
     "data": {
      "text/html": [
       "Run data is saved locally in <code>/oscar/data/larschan/shared_data/bind_gps/seq_modeling/wandb/run-20250711_232331-6h1up4rz</code>"
      ],
      "text/plain": [
       "<IPython.core.display.HTML object>"
      ]
     },
     "metadata": {},
     "output_type": "display_data"
    },
    {
     "data": {
      "text/html": [
       "Syncing run <strong><a href='https://wandb.ai/pranavmahabs/bind_gps/runs/6h1up4rz' target=\"_blank\">kmer_128</a></strong> to <a href='https://wandb.ai/pranavmahabs/bind_gps' target=\"_blank\">Weights & Biases</a> (<a href='https://wandb.me/run' target=\"_blank\">docs</a>)<br/>Sweep page: <a href='https://wandb.ai/pranavmahabs/bind_gps/sweeps/ms3id6yy' target=\"_blank\">https://wandb.ai/pranavmahabs/bind_gps/sweeps/ms3id6yy</a>"
      ],
      "text/plain": [
       "<IPython.core.display.HTML object>"
      ]
     },
     "metadata": {},
     "output_type": "display_data"
    },
    {
     "data": {
      "text/html": [
       " View project at <a href='https://wandb.ai/pranavmahabs/bind_gps' target=\"_blank\">https://wandb.ai/pranavmahabs/bind_gps</a>"
      ],
      "text/plain": [
       "<IPython.core.display.HTML object>"
      ]
     },
     "metadata": {},
     "output_type": "display_data"
    },
    {
     "data": {
      "text/html": [
       " View sweep at <a href='https://wandb.ai/pranavmahabs/bind_gps/sweeps/ms3id6yy' target=\"_blank\">https://wandb.ai/pranavmahabs/bind_gps/sweeps/ms3id6yy</a>"
      ],
      "text/plain": [
       "<IPython.core.display.HTML object>"
      ]
     },
     "metadata": {},
     "output_type": "display_data"
    },
    {
     "data": {
      "text/html": [
       " View run at <a href='https://wandb.ai/pranavmahabs/bind_gps/runs/6h1up4rz' target=\"_blank\">https://wandb.ai/pranavmahabs/bind_gps/runs/6h1up4rz</a>"
      ],
      "text/plain": [
       "<IPython.core.display.HTML object>"
      ]
     },
     "metadata": {},
     "output_type": "display_data"
    },
    {
     "name": "stdout",
     "output_type": "stream",
     "text": [
      "Epoch 0:\n",
      "Train Metrics:\n",
      "\tLoss:1347.3588, Acc: 0.7760:\n",
      "finished evaluation\n",
      "['auroc', 'auprc', 'accuracy']\n",
      "Validation Metrics:\n",
      "\tLoss: 308.2914\n",
      "\tauroc: 0.6668\n",
      "\tauprc: 0.4133\n",
      "\taccuracy: 0.8373\n",
      "\tepoch: 0.0000\n",
      "Epoch 1:\n",
      "Train Metrics:\n",
      "\tLoss:965.6808, Acc: 0.8426:\n",
      "finished evaluation\n",
      "['auroc', 'auprc', 'accuracy']\n",
      "Validation Metrics:\n",
      "\tLoss: 253.7086\n",
      "\tauroc: 0.7119\n",
      "\tauprc: 0.4450\n",
      "\taccuracy: 0.8406\n",
      "\tepoch: 1.0000\n",
      "Epoch 2:\n",
      "Train Metrics:\n",
      "\tLoss:861.4376, Acc: 0.8471:\n",
      "finished evaluation\n",
      "['auroc', 'auprc', 'accuracy']\n",
      "Validation Metrics:\n",
      "\tLoss: 228.2408\n",
      "\tauroc: 0.7285\n",
      "\tauprc: 0.4597\n",
      "\taccuracy: 0.8436\n",
      "\tepoch: 2.0000\n",
      "Epoch 3:\n",
      "Train Metrics:\n",
      "\tLoss:816.5087, Acc: 0.8513:\n",
      "finished evaluation\n",
      "['auroc', 'auprc', 'accuracy']\n",
      "Validation Metrics:\n",
      "\tLoss: 216.5059\n",
      "\tauroc: 0.7399\n",
      "\tauprc: 0.4691\n",
      "\taccuracy: 0.8478\n",
      "\tepoch: 3.0000\n",
      "Epoch 4:\n",
      "Train Metrics:\n",
      "\tLoss:788.6032, Acc: 0.8547:\n",
      "finished evaluation\n",
      "['auroc', 'auprc', 'accuracy']\n",
      "Validation Metrics:\n",
      "\tLoss: 208.6254\n",
      "\tauroc: 0.7576\n",
      "\tauprc: 0.4860\n",
      "\taccuracy: 0.8528\n",
      "\tepoch: 4.0000\n",
      "Epoch 5:\n",
      "Train Metrics:\n",
      "\tLoss:772.1649, Acc: 0.8577:\n",
      "finished evaluation\n",
      "['auroc', 'auprc', 'accuracy']\n",
      "Validation Metrics:\n",
      "\tLoss: 204.3557\n",
      "\tauroc: 0.7633\n",
      "\tauprc: 0.4915\n",
      "\taccuracy: 0.8550\n",
      "\tepoch: 5.0000\n",
      "Epoch 6:\n",
      "Train Metrics:\n",
      "\tLoss:757.8402, Acc: 0.8604:\n",
      "finished evaluation\n",
      "['auroc', 'auprc', 'accuracy']\n",
      "Validation Metrics:\n",
      "\tLoss: 201.1189\n",
      "\tauroc: 0.7747\n",
      "\tauprc: 0.5029\n",
      "\taccuracy: 0.8597\n",
      "\tepoch: 6.0000\n",
      "Epoch 7:\n",
      "Train Metrics:\n",
      "\tLoss:745.9894, Acc: 0.8624:\n",
      "finished evaluation\n",
      "['auroc', 'auprc', 'accuracy']\n",
      "Validation Metrics:\n",
      "\tLoss: 194.3609\n",
      "\tauroc: 0.7805\n",
      "\tauprc: 0.5080\n",
      "\taccuracy: 0.8601\n",
      "\tepoch: 7.0000\n",
      "Epoch 8:\n",
      "Train Metrics:\n",
      "\tLoss:737.7272, Acc: 0.8648:\n",
      "finished evaluation\n",
      "['auroc', 'auprc', 'accuracy']\n",
      "Validation Metrics:\n",
      "\tLoss: 192.5385\n",
      "\tauroc: 0.7880\n",
      "\tauprc: 0.5143\n",
      "\taccuracy: 0.8636\n",
      "\tepoch: 8.0000\n",
      "Epoch 9:\n",
      "Train Metrics:\n",
      "\tLoss:727.5481, Acc: 0.8660:\n",
      "finished evaluation\n",
      "['auroc', 'auprc', 'accuracy']\n",
      "Validation Metrics:\n",
      "\tLoss: 190.1870\n",
      "\tauroc: 0.7962\n",
      "\tauprc: 0.5222\n",
      "\taccuracy: 0.8658\n",
      "\tepoch: 9.0000\n"
     ]
    },
    {
     "data": {
      "text/html": [
       "Waiting for W&B process to finish... <strong style=\"color:green\">(success).</strong>"
      ],
      "text/plain": [
       "<IPython.core.display.HTML object>"
      ]
     },
     "metadata": {},
     "output_type": "display_data"
    },
    {
     "data": {
      "application/vnd.jupyter.widget-view+json": {
       "model_id": "acba5f579b3948c19f75163cc9091947",
       "version_major": 2,
       "version_minor": 0
      },
      "text/plain": [
       "VBox(children=(Label(value='0.008 MB of 0.008 MB uploaded (0.000 MB deduped)\\r'), FloatProgress(value=1.0, max…"
      ]
     },
     "metadata": {},
     "output_type": "display_data"
    },
    {
     "data": {
      "text/html": [
       "<style>\n",
       "    table.wandb td:nth-child(1) { padding: 0 10px; text-align: left ; width: auto;} td:nth-child(2) {text-align: left ; width: 100%}\n",
       "    .wandb-row { display: flex; flex-direction: row; flex-wrap: wrap; justify-content: flex-start; width: 100% }\n",
       "    .wandb-col { display: flex; flex-direction: column; flex-basis: 100%; flex: 1; padding: 10px; }\n",
       "    </style>\n",
       "<div class=\"wandb-row\"><div class=\"wandb-col\"><h3>Run history:</h3><br/><table class=\"wandb\"><tr><td>train_accuracy</td><td>▁▆▇▇▇▇████</td></tr><tr><td>train_loss</td><td>█▄▃▂▂▂▁▁▁▁</td></tr><tr><td>val_accuracy</td><td>▁▂▃▄▅▅▆▇▇█</td></tr><tr><td>val_auprc</td><td>▁▃▄▅▆▆▇▇▇█</td></tr><tr><td>val_auroc</td><td>▁▃▄▅▆▆▇▇██</td></tr><tr><td>val_loss</td><td>█▅▃▃▂▂▂▁▁▁</td></tr></table><br/></div><div class=\"wandb-col\"><h3>Run summary:</h3><br/><table class=\"wandb\"><tr><td>train_accuracy</td><td>0.866</td></tr><tr><td>train_loss</td><td>727.54814</td></tr><tr><td>val_accuracy</td><td>0.86582</td></tr><tr><td>val_auprc</td><td>0.52224</td></tr><tr><td>val_auroc</td><td>0.79623</td></tr><tr><td>val_loss</td><td>190.18704</td></tr></table><br/></div></div>"
      ],
      "text/plain": [
       "<IPython.core.display.HTML object>"
      ]
     },
     "metadata": {},
     "output_type": "display_data"
    },
    {
     "data": {
      "text/html": [
       " View run <strong style=\"color:#cdcd00\">kmer_128</strong> at: <a href='https://wandb.ai/pranavmahabs/bind_gps/runs/6h1up4rz' target=\"_blank\">https://wandb.ai/pranavmahabs/bind_gps/runs/6h1up4rz</a><br/>Synced 5 W&B file(s), 0 media file(s), 0 artifact file(s) and 0 other file(s)"
      ],
      "text/plain": [
       "<IPython.core.display.HTML object>"
      ]
     },
     "metadata": {},
     "output_type": "display_data"
    },
    {
     "data": {
      "text/html": [
       "Find logs at: <code>./wandb/run-20250711_232331-6h1up4rz/logs</code>"
      ],
      "text/plain": [
       "<IPython.core.display.HTML object>"
      ]
     },
     "metadata": {},
     "output_type": "display_data"
    },
    {
     "name": "stderr",
     "output_type": "stream",
     "text": [
      "\u001b[34m\u001b[1mwandb\u001b[0m: Agent Starting Run: oqx75kt6 with config:\n",
      "\u001b[34m\u001b[1mwandb\u001b[0m: \tepochs: 10\n",
      "\u001b[34m\u001b[1mwandb\u001b[0m: \thidden_dims: [256, 128]\n",
      "\u001b[34m\u001b[1mwandb\u001b[0m: \tlr: 1e-05\n",
      "\u001b[34m\u001b[1mwandb\u001b[0m: \tmetrics: ['auroc', 'auprc', 'accuracy']\n",
      "\u001b[34m\u001b[1mwandb\u001b[0m: \tname: kmer_128\n",
      "\u001b[34m\u001b[1mwandb\u001b[0m: \toutdir: models/kmer_128\n",
      "\u001b[34m\u001b[1mwandb\u001b[0m: \tseed: 42\n",
      "\u001b[34m\u001b[1mwandb\u001b[0m: \ttarget: auroc\n",
      "\u001b[34m\u001b[1mwandb\u001b[0m: \ttask: mre\n",
      "\u001b[34m\u001b[1mwandb\u001b[0m: \twd: 1e-06\n",
      "\u001b[34m\u001b[1mwandb\u001b[0m: \tweighted: True\n",
      "Failed to detect the name of this notebook, you can set it manually with the WANDB_NOTEBOOK_NAME environment variable to enable code saving.\n",
      "\u001b[34m\u001b[1mwandb\u001b[0m: \u001b[33mWARNING\u001b[0m Ignored wandb.init() arg project when running a sweep.\n"
     ]
    },
    {
     "data": {
      "text/html": [
       "wandb version 0.21.0 is available!  To upgrade, please run:\n",
       " $ pip install wandb --upgrade"
      ],
      "text/plain": [
       "<IPython.core.display.HTML object>"
      ]
     },
     "metadata": {},
     "output_type": "display_data"
    },
    {
     "data": {
      "text/html": [
       "Tracking run with wandb version 0.15.4"
      ],
      "text/plain": [
       "<IPython.core.display.HTML object>"
      ]
     },
     "metadata": {},
     "output_type": "display_data"
    },
    {
     "data": {
      "text/html": [
       "Run data is saved locally in <code>/oscar/data/larschan/shared_data/bind_gps/seq_modeling/wandb/run-20250711_232426-oqx75kt6</code>"
      ],
      "text/plain": [
       "<IPython.core.display.HTML object>"
      ]
     },
     "metadata": {},
     "output_type": "display_data"
    },
    {
     "data": {
      "text/html": [
       "Syncing run <strong><a href='https://wandb.ai/pranavmahabs/bind_gps/runs/oqx75kt6' target=\"_blank\">kmer_128</a></strong> to <a href='https://wandb.ai/pranavmahabs/bind_gps' target=\"_blank\">Weights & Biases</a> (<a href='https://wandb.me/run' target=\"_blank\">docs</a>)<br/>Sweep page: <a href='https://wandb.ai/pranavmahabs/bind_gps/sweeps/ms3id6yy' target=\"_blank\">https://wandb.ai/pranavmahabs/bind_gps/sweeps/ms3id6yy</a>"
      ],
      "text/plain": [
       "<IPython.core.display.HTML object>"
      ]
     },
     "metadata": {},
     "output_type": "display_data"
    },
    {
     "data": {
      "text/html": [
       " View project at <a href='https://wandb.ai/pranavmahabs/bind_gps' target=\"_blank\">https://wandb.ai/pranavmahabs/bind_gps</a>"
      ],
      "text/plain": [
       "<IPython.core.display.HTML object>"
      ]
     },
     "metadata": {},
     "output_type": "display_data"
    },
    {
     "data": {
      "text/html": [
       " View sweep at <a href='https://wandb.ai/pranavmahabs/bind_gps/sweeps/ms3id6yy' target=\"_blank\">https://wandb.ai/pranavmahabs/bind_gps/sweeps/ms3id6yy</a>"
      ],
      "text/plain": [
       "<IPython.core.display.HTML object>"
      ]
     },
     "metadata": {},
     "output_type": "display_data"
    },
    {
     "data": {
      "text/html": [
       " View run at <a href='https://wandb.ai/pranavmahabs/bind_gps/runs/oqx75kt6' target=\"_blank\">https://wandb.ai/pranavmahabs/bind_gps/runs/oqx75kt6</a>"
      ],
      "text/plain": [
       "<IPython.core.display.HTML object>"
      ]
     },
     "metadata": {},
     "output_type": "display_data"
    },
    {
     "name": "stdout",
     "output_type": "stream",
     "text": [
      "Epoch 0:\n",
      "Train Metrics:\n",
      "\tLoss:1923.8955, Acc: 0.3280:\n",
      "finished evaluation\n",
      "['auroc', 'auprc', 'accuracy']\n",
      "Validation Metrics:\n",
      "\tLoss: 462.9028\n",
      "\tauroc: 0.6228\n",
      "\tauprc: 0.3772\n",
      "\taccuracy: 0.4001\n",
      "\tepoch: 0.0000\n",
      "Epoch 1:\n",
      "Train Metrics:\n",
      "\tLoss:1829.7208, Acc: 0.4454:\n",
      "finished evaluation\n",
      "['auroc', 'auprc', 'accuracy']\n",
      "Validation Metrics:\n",
      "\tLoss: 451.1587\n",
      "\tauroc: 0.6642\n",
      "\tauprc: 0.4076\n",
      "\taccuracy: 0.6371\n",
      "\tepoch: 1.0000\n",
      "Epoch 2:\n",
      "Train Metrics:\n",
      "\tLoss:1784.4219, Acc: 0.5167:\n",
      "finished evaluation\n",
      "['auroc', 'auprc', 'accuracy']\n",
      "Validation Metrics:\n",
      "\tLoss: 447.3490\n",
      "\tauroc: 0.6853\n",
      "\tauprc: 0.4272\n",
      "\taccuracy: 0.7109\n",
      "\tepoch: 2.0000\n",
      "Epoch 3:\n",
      "Train Metrics:\n",
      "\tLoss:1750.1368, Acc: 0.5631:\n",
      "finished evaluation\n",
      "['auroc', 'auprc', 'accuracy']\n",
      "Validation Metrics:\n",
      "\tLoss: 438.6489\n",
      "\tauroc: 0.7019\n",
      "\tauprc: 0.4436\n",
      "\taccuracy: 0.7136\n",
      "\tepoch: 3.0000\n",
      "Epoch 4:\n",
      "Train Metrics:\n",
      "\tLoss:1724.3733, Acc: 0.5863:\n",
      "finished evaluation\n",
      "['auroc', 'auprc', 'accuracy']\n",
      "Validation Metrics:\n",
      "\tLoss: 434.0792\n",
      "\tauroc: 0.7179\n",
      "\tauprc: 0.4615\n",
      "\taccuracy: 0.7315\n",
      "\tepoch: 4.0000\n",
      "Epoch 5:\n",
      "Train Metrics:\n",
      "\tLoss:1701.2093, Acc: 0.6062:\n",
      "finished evaluation\n",
      "['auroc', 'auprc', 'accuracy']\n",
      "Validation Metrics:\n",
      "\tLoss: 434.9834\n",
      "\tauroc: 0.7215\n",
      "\tauprc: 0.4615\n",
      "\taccuracy: 0.7469\n",
      "\tepoch: 5.0000\n",
      "Epoch 6:\n",
      "Train Metrics:\n",
      "\tLoss:1683.4610, Acc: 0.6212:\n",
      "finished evaluation\n",
      "['auroc', 'auprc', 'accuracy']\n",
      "Validation Metrics:\n",
      "\tLoss: 423.2841\n",
      "\tauroc: 0.7384\n",
      "\tauprc: 0.4786\n",
      "\taccuracy: 0.7176\n",
      "\tepoch: 6.0000\n",
      "Epoch 7:\n",
      "Train Metrics:\n",
      "\tLoss:1664.7867, Acc: 0.6314:\n",
      "finished evaluation\n",
      "['auroc', 'auprc', 'accuracy']\n",
      "Validation Metrics:\n",
      "\tLoss: 422.0118\n",
      "\tauroc: 0.7449\n",
      "\tauprc: 0.4837\n",
      "\taccuracy: 0.7424\n",
      "\tepoch: 7.0000\n",
      "Epoch 8:\n",
      "Train Metrics:\n",
      "\tLoss:1654.4880, Acc: 0.6432:\n",
      "finished evaluation\n",
      "['auroc', 'auprc', 'accuracy']\n",
      "Validation Metrics:\n",
      "\tLoss: 417.7586\n",
      "\tauroc: 0.7465\n",
      "\tauprc: 0.4851\n",
      "\taccuracy: 0.7309\n",
      "\tepoch: 8.0000\n",
      "Epoch 9:\n",
      "Train Metrics:\n",
      "\tLoss:1643.1268, Acc: 0.6476:\n",
      "finished evaluation\n",
      "['auroc', 'auprc', 'accuracy']\n",
      "Validation Metrics:\n",
      "\tLoss: 418.1220\n",
      "\tauroc: 0.7591\n",
      "\tauprc: 0.4980\n",
      "\taccuracy: 0.7345\n",
      "\tepoch: 9.0000\n"
     ]
    },
    {
     "data": {
      "text/html": [
       "Waiting for W&B process to finish... <strong style=\"color:green\">(success).</strong>"
      ],
      "text/plain": [
       "<IPython.core.display.HTML object>"
      ]
     },
     "metadata": {},
     "output_type": "display_data"
    },
    {
     "data": {
      "application/vnd.jupyter.widget-view+json": {
       "model_id": "f2bffe2811764cf789010a0c094507b2",
       "version_major": 2,
       "version_minor": 0
      },
      "text/plain": [
       "VBox(children=(Label(value='0.008 MB of 0.008 MB uploaded (0.000 MB deduped)\\r'), FloatProgress(value=1.0, max…"
      ]
     },
     "metadata": {},
     "output_type": "display_data"
    },
    {
     "data": {
      "text/html": [
       "<style>\n",
       "    table.wandb td:nth-child(1) { padding: 0 10px; text-align: left ; width: auto;} td:nth-child(2) {text-align: left ; width: 100%}\n",
       "    .wandb-row { display: flex; flex-direction: row; flex-wrap: wrap; justify-content: flex-start; width: 100% }\n",
       "    .wandb-col { display: flex; flex-direction: column; flex-basis: 100%; flex: 1; padding: 10px; }\n",
       "    </style>\n",
       "<div class=\"wandb-row\"><div class=\"wandb-col\"><h3>Run history:</h3><br/><table class=\"wandb\"><tr><td>train_accuracy</td><td>▁▄▅▆▇▇▇███</td></tr><tr><td>train_loss</td><td>█▆▅▄▃▂▂▂▁▁</td></tr><tr><td>val_accuracy</td><td>▁▆▇▇██▇███</td></tr><tr><td>val_auprc</td><td>▁▃▄▅▆▆▇▇▇█</td></tr><tr><td>val_auroc</td><td>▁▃▄▅▆▆▇▇▇█</td></tr><tr><td>val_loss</td><td>█▆▆▄▄▄▂▂▁▁</td></tr></table><br/></div><div class=\"wandb-col\"><h3>Run summary:</h3><br/><table class=\"wandb\"><tr><td>train_accuracy</td><td>0.64765</td></tr><tr><td>train_loss</td><td>1643.12678</td></tr><tr><td>val_accuracy</td><td>0.73451</td></tr><tr><td>val_auprc</td><td>0.49796</td></tr><tr><td>val_auroc</td><td>0.7591</td></tr><tr><td>val_loss</td><td>418.12195</td></tr></table><br/></div></div>"
      ],
      "text/plain": [
       "<IPython.core.display.HTML object>"
      ]
     },
     "metadata": {},
     "output_type": "display_data"
    },
    {
     "data": {
      "text/html": [
       " View run <strong style=\"color:#cdcd00\">kmer_128</strong> at: <a href='https://wandb.ai/pranavmahabs/bind_gps/runs/oqx75kt6' target=\"_blank\">https://wandb.ai/pranavmahabs/bind_gps/runs/oqx75kt6</a><br/>Synced 5 W&B file(s), 0 media file(s), 0 artifact file(s) and 0 other file(s)"
      ],
      "text/plain": [
       "<IPython.core.display.HTML object>"
      ]
     },
     "metadata": {},
     "output_type": "display_data"
    },
    {
     "data": {
      "text/html": [
       "Find logs at: <code>./wandb/run-20250711_232426-oqx75kt6/logs</code>"
      ],
      "text/plain": [
       "<IPython.core.display.HTML object>"
      ]
     },
     "metadata": {},
     "output_type": "display_data"
    },
    {
     "name": "stderr",
     "output_type": "stream",
     "text": [
      "\u001b[34m\u001b[1mwandb\u001b[0m: Agent Starting Run: lfwinxu4 with config:\n",
      "\u001b[34m\u001b[1mwandb\u001b[0m: \tepochs: 10\n",
      "\u001b[34m\u001b[1mwandb\u001b[0m: \thidden_dims: [256, 128]\n",
      "\u001b[34m\u001b[1mwandb\u001b[0m: \tlr: 1e-05\n",
      "\u001b[34m\u001b[1mwandb\u001b[0m: \tmetrics: ['auroc', 'auprc', 'accuracy']\n",
      "\u001b[34m\u001b[1mwandb\u001b[0m: \tname: kmer_128\n",
      "\u001b[34m\u001b[1mwandb\u001b[0m: \toutdir: models/kmer_128\n",
      "\u001b[34m\u001b[1mwandb\u001b[0m: \tseed: 42\n",
      "\u001b[34m\u001b[1mwandb\u001b[0m: \ttarget: auroc\n",
      "\u001b[34m\u001b[1mwandb\u001b[0m: \ttask: mre\n",
      "\u001b[34m\u001b[1mwandb\u001b[0m: \twd: 1e-06\n",
      "\u001b[34m\u001b[1mwandb\u001b[0m: \tweighted: False\n",
      "Failed to detect the name of this notebook, you can set it manually with the WANDB_NOTEBOOK_NAME environment variable to enable code saving.\n",
      "\u001b[34m\u001b[1mwandb\u001b[0m: \u001b[33mWARNING\u001b[0m Ignored wandb.init() arg project when running a sweep.\n"
     ]
    },
    {
     "data": {
      "text/html": [
       "wandb version 0.21.0 is available!  To upgrade, please run:\n",
       " $ pip install wandb --upgrade"
      ],
      "text/plain": [
       "<IPython.core.display.HTML object>"
      ]
     },
     "metadata": {},
     "output_type": "display_data"
    },
    {
     "data": {
      "text/html": [
       "Tracking run with wandb version 0.15.4"
      ],
      "text/plain": [
       "<IPython.core.display.HTML object>"
      ]
     },
     "metadata": {},
     "output_type": "display_data"
    },
    {
     "data": {
      "text/html": [
       "Run data is saved locally in <code>/oscar/data/larschan/shared_data/bind_gps/seq_modeling/wandb/run-20250711_232518-lfwinxu4</code>"
      ],
      "text/plain": [
       "<IPython.core.display.HTML object>"
      ]
     },
     "metadata": {},
     "output_type": "display_data"
    },
    {
     "data": {
      "text/html": [
       "Syncing run <strong><a href='https://wandb.ai/pranavmahabs/bind_gps/runs/lfwinxu4' target=\"_blank\">kmer_128</a></strong> to <a href='https://wandb.ai/pranavmahabs/bind_gps' target=\"_blank\">Weights & Biases</a> (<a href='https://wandb.me/run' target=\"_blank\">docs</a>)<br/>Sweep page: <a href='https://wandb.ai/pranavmahabs/bind_gps/sweeps/ms3id6yy' target=\"_blank\">https://wandb.ai/pranavmahabs/bind_gps/sweeps/ms3id6yy</a>"
      ],
      "text/plain": [
       "<IPython.core.display.HTML object>"
      ]
     },
     "metadata": {},
     "output_type": "display_data"
    },
    {
     "data": {
      "text/html": [
       " View project at <a href='https://wandb.ai/pranavmahabs/bind_gps' target=\"_blank\">https://wandb.ai/pranavmahabs/bind_gps</a>"
      ],
      "text/plain": [
       "<IPython.core.display.HTML object>"
      ]
     },
     "metadata": {},
     "output_type": "display_data"
    },
    {
     "data": {
      "text/html": [
       " View sweep at <a href='https://wandb.ai/pranavmahabs/bind_gps/sweeps/ms3id6yy' target=\"_blank\">https://wandb.ai/pranavmahabs/bind_gps/sweeps/ms3id6yy</a>"
      ],
      "text/plain": [
       "<IPython.core.display.HTML object>"
      ]
     },
     "metadata": {},
     "output_type": "display_data"
    },
    {
     "data": {
      "text/html": [
       " View run at <a href='https://wandb.ai/pranavmahabs/bind_gps/runs/lfwinxu4' target=\"_blank\">https://wandb.ai/pranavmahabs/bind_gps/runs/lfwinxu4</a>"
      ],
      "text/plain": [
       "<IPython.core.display.HTML object>"
      ]
     },
     "metadata": {},
     "output_type": "display_data"
    },
    {
     "name": "stdout",
     "output_type": "stream",
     "text": [
      "Epoch 0:\n",
      "Train Metrics:\n",
      "\tLoss:1313.0786, Acc: 0.7948:\n",
      "finished evaluation\n",
      "['auroc', 'auprc', 'accuracy']\n",
      "Validation Metrics:\n",
      "\tLoss: 285.8733\n",
      "\tauroc: 0.6675\n",
      "\tauprc: 0.4077\n",
      "\taccuracy: 0.8378\n",
      "\tepoch: 0.0000\n",
      "Epoch 1:\n",
      "Train Metrics:\n",
      "\tLoss:970.4597, Acc: 0.8392:\n",
      "finished evaluation\n",
      "['auroc', 'auprc', 'accuracy']\n",
      "Validation Metrics:\n",
      "\tLoss: 242.2632\n",
      "\tauroc: 0.7062\n",
      "\tauprc: 0.4349\n",
      "\taccuracy: 0.8389\n",
      "\tepoch: 1.0000\n",
      "Epoch 2:\n",
      "Train Metrics:\n",
      "\tLoss:871.0077, Acc: 0.8442:\n",
      "finished evaluation\n",
      "['auroc', 'auprc', 'accuracy']\n",
      "Validation Metrics:\n",
      "\tLoss: 219.1306\n",
      "\tauroc: 0.7202\n",
      "\tauprc: 0.4468\n",
      "\taccuracy: 0.8422\n",
      "\tepoch: 2.0000\n",
      "Epoch 3:\n",
      "Train Metrics:\n",
      "\tLoss:825.2998, Acc: 0.8482:\n",
      "finished evaluation\n",
      "['auroc', 'auprc', 'accuracy']\n",
      "Validation Metrics:\n",
      "\tLoss: 208.4566\n",
      "\tauroc: 0.7351\n",
      "\tauprc: 0.4597\n",
      "\taccuracy: 0.8467\n",
      "\tepoch: 3.0000\n",
      "Epoch 4:\n",
      "Train Metrics:\n",
      "\tLoss:798.7600, Acc: 0.8523:\n",
      "finished evaluation\n",
      "['auroc', 'auprc', 'accuracy']\n",
      "Validation Metrics:\n",
      "\tLoss: 199.9170\n",
      "\tauroc: 0.7488\n",
      "\tauprc: 0.4718\n",
      "\taccuracy: 0.8496\n",
      "\tepoch: 4.0000\n",
      "Epoch 5:\n",
      "Train Metrics:\n",
      "\tLoss:779.6789, Acc: 0.8558:\n",
      "finished evaluation\n",
      "['auroc', 'auprc', 'accuracy']\n",
      "Validation Metrics:\n",
      "\tLoss: 196.8919\n",
      "\tauroc: 0.7591\n",
      "\tauprc: 0.4849\n",
      "\taccuracy: 0.8529\n",
      "\tepoch: 5.0000\n",
      "Epoch 6:\n",
      "Train Metrics:\n",
      "\tLoss:766.2053, Acc: 0.8586:\n",
      "finished evaluation\n",
      "['auroc', 'auprc', 'accuracy']\n",
      "Validation Metrics:\n",
      "\tLoss: 193.7556\n",
      "\tauroc: 0.7706\n",
      "\tauprc: 0.4993\n",
      "\taccuracy: 0.8575\n",
      "\tepoch: 6.0000\n",
      "Epoch 7:\n",
      "Train Metrics:\n",
      "\tLoss:751.0619, Acc: 0.8610:\n",
      "finished evaluation\n",
      "['auroc', 'auprc', 'accuracy']\n",
      "Validation Metrics:\n",
      "\tLoss: 188.2015\n",
      "\tauroc: 0.7766\n",
      "\tauprc: 0.5044\n",
      "\taccuracy: 0.8602\n",
      "\tepoch: 7.0000\n",
      "Epoch 8:\n",
      "Train Metrics:\n",
      "\tLoss:739.8444, Acc: 0.8636:\n",
      "finished evaluation\n",
      "['auroc', 'auprc', 'accuracy']\n",
      "Validation Metrics:\n",
      "\tLoss: 187.1834\n",
      "\tauroc: 0.7839\n",
      "\tauprc: 0.5120\n",
      "\taccuracy: 0.8625\n",
      "\tepoch: 8.0000\n",
      "Epoch 9:\n",
      "Train Metrics:\n",
      "\tLoss:733.9251, Acc: 0.8644:\n",
      "finished evaluation\n",
      "['auroc', 'auprc', 'accuracy']\n",
      "Validation Metrics:\n",
      "\tLoss: 184.4046\n",
      "\tauroc: 0.7926\n",
      "\tauprc: 0.5204\n",
      "\taccuracy: 0.8663\n",
      "\tepoch: 9.0000\n"
     ]
    },
    {
     "data": {
      "text/html": [
       "Waiting for W&B process to finish... <strong style=\"color:green\">(success).</strong>"
      ],
      "text/plain": [
       "<IPython.core.display.HTML object>"
      ]
     },
     "metadata": {},
     "output_type": "display_data"
    },
    {
     "data": {
      "application/vnd.jupyter.widget-view+json": {
       "model_id": "e54e88444ada45408af8fc9b81f85e94",
       "version_major": 2,
       "version_minor": 0
      },
      "text/plain": [
       "VBox(children=(Label(value='0.008 MB of 0.008 MB uploaded (0.000 MB deduped)\\r'), FloatProgress(value=1.0, max…"
      ]
     },
     "metadata": {},
     "output_type": "display_data"
    },
    {
     "data": {
      "text/html": [
       "<style>\n",
       "    table.wandb td:nth-child(1) { padding: 0 10px; text-align: left ; width: auto;} td:nth-child(2) {text-align: left ; width: 100%}\n",
       "    .wandb-row { display: flex; flex-direction: row; flex-wrap: wrap; justify-content: flex-start; width: 100% }\n",
       "    .wandb-col { display: flex; flex-direction: column; flex-basis: 100%; flex: 1; padding: 10px; }\n",
       "    </style>\n",
       "<div class=\"wandb-row\"><div class=\"wandb-col\"><h3>Run history:</h3><br/><table class=\"wandb\"><tr><td>train_accuracy</td><td>▁▅▆▆▇▇▇███</td></tr><tr><td>train_loss</td><td>█▄▃▂▂▂▁▁▁▁</td></tr><tr><td>val_accuracy</td><td>▁▁▂▃▄▅▆▇▇█</td></tr><tr><td>val_auprc</td><td>▁▃▃▄▅▆▇▇▇█</td></tr><tr><td>val_auroc</td><td>▁▃▄▅▆▆▇▇██</td></tr><tr><td>val_loss</td><td>█▅▃▃▂▂▂▁▁▁</td></tr></table><br/></div><div class=\"wandb-col\"><h3>Run summary:</h3><br/><table class=\"wandb\"><tr><td>train_accuracy</td><td>0.86438</td></tr><tr><td>train_loss</td><td>733.92506</td></tr><tr><td>val_accuracy</td><td>0.86633</td></tr><tr><td>val_auprc</td><td>0.52041</td></tr><tr><td>val_auroc</td><td>0.79262</td></tr><tr><td>val_loss</td><td>184.40464</td></tr></table><br/></div></div>"
      ],
      "text/plain": [
       "<IPython.core.display.HTML object>"
      ]
     },
     "metadata": {},
     "output_type": "display_data"
    },
    {
     "data": {
      "text/html": [
       " View run <strong style=\"color:#cdcd00\">kmer_128</strong> at: <a href='https://wandb.ai/pranavmahabs/bind_gps/runs/lfwinxu4' target=\"_blank\">https://wandb.ai/pranavmahabs/bind_gps/runs/lfwinxu4</a><br/>Synced 5 W&B file(s), 0 media file(s), 0 artifact file(s) and 0 other file(s)"
      ],
      "text/plain": [
       "<IPython.core.display.HTML object>"
      ]
     },
     "metadata": {},
     "output_type": "display_data"
    },
    {
     "data": {
      "text/html": [
       "Find logs at: <code>./wandb/run-20250711_232518-lfwinxu4/logs</code>"
      ],
      "text/plain": [
       "<IPython.core.display.HTML object>"
      ]
     },
     "metadata": {},
     "output_type": "display_data"
    },
    {
     "name": "stderr",
     "output_type": "stream",
     "text": [
      "\u001b[34m\u001b[1mwandb\u001b[0m: Agent Starting Run: 78yf358o with config:\n",
      "\u001b[34m\u001b[1mwandb\u001b[0m: \tepochs: 10\n",
      "\u001b[34m\u001b[1mwandb\u001b[0m: \thidden_dims: [256, 128]\n",
      "\u001b[34m\u001b[1mwandb\u001b[0m: \tlr: 1e-05\n",
      "\u001b[34m\u001b[1mwandb\u001b[0m: \tmetrics: ['auroc', 'auprc', 'accuracy']\n",
      "\u001b[34m\u001b[1mwandb\u001b[0m: \tname: kmer_128\n",
      "\u001b[34m\u001b[1mwandb\u001b[0m: \toutdir: models/kmer_128\n",
      "\u001b[34m\u001b[1mwandb\u001b[0m: \tseed: 42\n",
      "\u001b[34m\u001b[1mwandb\u001b[0m: \ttarget: auroc\n",
      "\u001b[34m\u001b[1mwandb\u001b[0m: \ttask: gene\n",
      "\u001b[34m\u001b[1mwandb\u001b[0m: \twd: 1e-05\n",
      "\u001b[34m\u001b[1mwandb\u001b[0m: \tweighted: True\n",
      "Failed to detect the name of this notebook, you can set it manually with the WANDB_NOTEBOOK_NAME environment variable to enable code saving.\n",
      "\u001b[34m\u001b[1mwandb\u001b[0m: \u001b[33mWARNING\u001b[0m Ignored wandb.init() arg project when running a sweep.\n"
     ]
    },
    {
     "data": {
      "text/html": [
       "wandb version 0.21.0 is available!  To upgrade, please run:\n",
       " $ pip install wandb --upgrade"
      ],
      "text/plain": [
       "<IPython.core.display.HTML object>"
      ]
     },
     "metadata": {},
     "output_type": "display_data"
    },
    {
     "data": {
      "text/html": [
       "Tracking run with wandb version 0.15.4"
      ],
      "text/plain": [
       "<IPython.core.display.HTML object>"
      ]
     },
     "metadata": {},
     "output_type": "display_data"
    },
    {
     "data": {
      "text/html": [
       "Run data is saved locally in <code>/oscar/data/larschan/shared_data/bind_gps/seq_modeling/wandb/run-20250711_232612-78yf358o</code>"
      ],
      "text/plain": [
       "<IPython.core.display.HTML object>"
      ]
     },
     "metadata": {},
     "output_type": "display_data"
    },
    {
     "data": {
      "text/html": [
       "Syncing run <strong><a href='https://wandb.ai/pranavmahabs/bind_gps/runs/78yf358o' target=\"_blank\">kmer_128</a></strong> to <a href='https://wandb.ai/pranavmahabs/bind_gps' target=\"_blank\">Weights & Biases</a> (<a href='https://wandb.me/run' target=\"_blank\">docs</a>)<br/>Sweep page: <a href='https://wandb.ai/pranavmahabs/bind_gps/sweeps/ms3id6yy' target=\"_blank\">https://wandb.ai/pranavmahabs/bind_gps/sweeps/ms3id6yy</a>"
      ],
      "text/plain": [
       "<IPython.core.display.HTML object>"
      ]
     },
     "metadata": {},
     "output_type": "display_data"
    },
    {
     "data": {
      "text/html": [
       " View project at <a href='https://wandb.ai/pranavmahabs/bind_gps' target=\"_blank\">https://wandb.ai/pranavmahabs/bind_gps</a>"
      ],
      "text/plain": [
       "<IPython.core.display.HTML object>"
      ]
     },
     "metadata": {},
     "output_type": "display_data"
    },
    {
     "data": {
      "text/html": [
       " View sweep at <a href='https://wandb.ai/pranavmahabs/bind_gps/sweeps/ms3id6yy' target=\"_blank\">https://wandb.ai/pranavmahabs/bind_gps/sweeps/ms3id6yy</a>"
      ],
      "text/plain": [
       "<IPython.core.display.HTML object>"
      ]
     },
     "metadata": {},
     "output_type": "display_data"
    },
    {
     "data": {
      "text/html": [
       " View run at <a href='https://wandb.ai/pranavmahabs/bind_gps/runs/78yf358o' target=\"_blank\">https://wandb.ai/pranavmahabs/bind_gps/runs/78yf358o</a>"
      ],
      "text/plain": [
       "<IPython.core.display.HTML object>"
      ]
     },
     "metadata": {},
     "output_type": "display_data"
    },
    {
     "name": "stdout",
     "output_type": "stream",
     "text": [
      "Epoch 0:\n",
      "Train Metrics:\n",
      "\tLoss:1924.3081, Acc: 0.3266:\n",
      "finished evaluation\n",
      "['auroc', 'auprc', 'accuracy']\n",
      "Validation Metrics:\n",
      "\tLoss: 461.7036\n",
      "\tauroc: 0.6062\n",
      "\tauprc: 0.4020\n",
      "\taccuracy: 0.3629\n",
      "\tepoch: 0.0000\n",
      "Epoch 1:\n",
      "Train Metrics:\n",
      "\tLoss:1854.1507, Acc: 0.4002:\n",
      "finished evaluation\n",
      "['auroc', 'auprc', 'accuracy']\n",
      "Validation Metrics:\n",
      "\tLoss: 458.2467\n",
      "\tauroc: 0.6338\n",
      "\tauprc: 0.4259\n",
      "\taccuracy: 0.3605\n",
      "\tepoch: 1.0000\n",
      "Epoch 2:\n",
      "Train Metrics:\n",
      "\tLoss:1821.7736, Acc: 0.4331:\n",
      "finished evaluation\n",
      "['auroc', 'auprc', 'accuracy']\n",
      "Validation Metrics:\n",
      "\tLoss: 453.2378\n",
      "\tauroc: 0.6465\n",
      "\tauprc: 0.4398\n",
      "\taccuracy: 0.3894\n",
      "\tepoch: 2.0000\n",
      "Epoch 3:\n",
      "Train Metrics:\n",
      "\tLoss:1798.6866, Acc: 0.4512:\n",
      "finished evaluation\n",
      "['auroc', 'auprc', 'accuracy']\n",
      "Validation Metrics:\n",
      "\tLoss: 452.6190\n",
      "\tauroc: 0.6529\n",
      "\tauprc: 0.4458\n",
      "\taccuracy: 0.3879\n",
      "\tepoch: 3.0000\n",
      "Epoch 4:\n",
      "Train Metrics:\n",
      "\tLoss:1788.5796, Acc: 0.4644:\n",
      "finished evaluation\n",
      "['auroc', 'auprc', 'accuracy']\n",
      "Validation Metrics:\n",
      "\tLoss: 450.6924\n",
      "\tauroc: 0.6609\n",
      "\tauprc: 0.4559\n",
      "\taccuracy: 0.3633\n",
      "\tepoch: 4.0000\n",
      "Epoch 5:\n",
      "Train Metrics:\n",
      "\tLoss:1773.9044, Acc: 0.4708:\n",
      "finished evaluation\n",
      "['auroc', 'auprc', 'accuracy']\n",
      "Validation Metrics:\n",
      "\tLoss: 448.2982\n",
      "\tauroc: 0.6664\n",
      "\tauprc: 0.4622\n",
      "\taccuracy: 0.3859\n",
      "\tepoch: 5.0000\n",
      "Epoch 6:\n",
      "Train Metrics:\n",
      "\tLoss:1764.3958, Acc: 0.4769:\n",
      "finished evaluation\n",
      "['auroc', 'auprc', 'accuracy']\n",
      "Validation Metrics:\n",
      "\tLoss: 449.0889\n",
      "\tauroc: 0.6654\n",
      "\tauprc: 0.4601\n",
      "\taccuracy: 0.3771\n",
      "Epoch 7:\n",
      "Train Metrics:\n",
      "\tLoss:1758.0795, Acc: 0.4816:\n",
      "finished evaluation\n",
      "['auroc', 'auprc', 'accuracy']\n",
      "Validation Metrics:\n",
      "\tLoss: 440.8847\n",
      "\tauroc: 0.6720\n",
      "\tauprc: 0.4688\n",
      "\taccuracy: 0.4067\n",
      "\tepoch: 7.0000\n",
      "Epoch 8:\n",
      "Train Metrics:\n",
      "\tLoss:1751.1933, Acc: 0.4845:\n",
      "finished evaluation\n",
      "['auroc', 'auprc', 'accuracy']\n",
      "Validation Metrics:\n",
      "\tLoss: 441.7362\n",
      "\tauroc: 0.6718\n",
      "\tauprc: 0.4689\n",
      "\taccuracy: 0.3866\n",
      "Epoch 9:\n",
      "Train Metrics:\n",
      "\tLoss:1743.5650, Acc: 0.4876:\n",
      "finished evaluation\n",
      "['auroc', 'auprc', 'accuracy']\n",
      "Validation Metrics:\n",
      "\tLoss: 441.2391\n",
      "\tauroc: 0.6722\n",
      "\tauprc: 0.4693\n",
      "\taccuracy: 0.3889\n",
      "\tepoch: 9.0000\n"
     ]
    },
    {
     "data": {
      "text/html": [
       "Waiting for W&B process to finish... <strong style=\"color:green\">(success).</strong>"
      ],
      "text/plain": [
       "<IPython.core.display.HTML object>"
      ]
     },
     "metadata": {},
     "output_type": "display_data"
    },
    {
     "data": {
      "application/vnd.jupyter.widget-view+json": {
       "model_id": "117adafb6e7e4c0fb95373db47bf44f0",
       "version_major": 2,
       "version_minor": 0
      },
      "text/plain": [
       "VBox(children=(Label(value='0.008 MB of 0.008 MB uploaded (0.000 MB deduped)\\r'), FloatProgress(value=1.0, max…"
      ]
     },
     "metadata": {},
     "output_type": "display_data"
    },
    {
     "data": {
      "text/html": [
       "<style>\n",
       "    table.wandb td:nth-child(1) { padding: 0 10px; text-align: left ; width: auto;} td:nth-child(2) {text-align: left ; width: 100%}\n",
       "    .wandb-row { display: flex; flex-direction: row; flex-wrap: wrap; justify-content: flex-start; width: 100% }\n",
       "    .wandb-col { display: flex; flex-direction: column; flex-basis: 100%; flex: 1; padding: 10px; }\n",
       "    </style>\n",
       "<div class=\"wandb-row\"><div class=\"wandb-col\"><h3>Run history:</h3><br/><table class=\"wandb\"><tr><td>train_accuracy</td><td>▁▄▆▆▇▇████</td></tr><tr><td>train_loss</td><td>█▅▄▃▃▂▂▂▁▁</td></tr><tr><td>val_accuracy</td><td>▁▁▅▅▁▅▄█▅▅</td></tr><tr><td>val_auprc</td><td>▁▃▅▆▇▇▇███</td></tr><tr><td>val_auroc</td><td>▁▄▅▆▇▇▇███</td></tr><tr><td>val_loss</td><td>█▇▅▅▄▃▄▁▁▁</td></tr></table><br/></div><div class=\"wandb-col\"><h3>Run summary:</h3><br/><table class=\"wandb\"><tr><td>train_accuracy</td><td>0.48756</td></tr><tr><td>train_loss</td><td>1743.56502</td></tr><tr><td>val_accuracy</td><td>0.38892</td></tr><tr><td>val_auprc</td><td>0.46934</td></tr><tr><td>val_auroc</td><td>0.67223</td></tr><tr><td>val_loss</td><td>441.23915</td></tr></table><br/></div></div>"
      ],
      "text/plain": [
       "<IPython.core.display.HTML object>"
      ]
     },
     "metadata": {},
     "output_type": "display_data"
    },
    {
     "data": {
      "text/html": [
       " View run <strong style=\"color:#cdcd00\">kmer_128</strong> at: <a href='https://wandb.ai/pranavmahabs/bind_gps/runs/78yf358o' target=\"_blank\">https://wandb.ai/pranavmahabs/bind_gps/runs/78yf358o</a><br/>Synced 5 W&B file(s), 0 media file(s), 0 artifact file(s) and 0 other file(s)"
      ],
      "text/plain": [
       "<IPython.core.display.HTML object>"
      ]
     },
     "metadata": {},
     "output_type": "display_data"
    },
    {
     "data": {
      "text/html": [
       "Find logs at: <code>./wandb/run-20250711_232612-78yf358o/logs</code>"
      ],
      "text/plain": [
       "<IPython.core.display.HTML object>"
      ]
     },
     "metadata": {},
     "output_type": "display_data"
    },
    {
     "name": "stderr",
     "output_type": "stream",
     "text": [
      "\u001b[34m\u001b[1mwandb\u001b[0m: Agent Starting Run: rgms268c with config:\n",
      "\u001b[34m\u001b[1mwandb\u001b[0m: \tepochs: 10\n",
      "\u001b[34m\u001b[1mwandb\u001b[0m: \thidden_dims: [256, 128]\n",
      "\u001b[34m\u001b[1mwandb\u001b[0m: \tlr: 1e-05\n",
      "\u001b[34m\u001b[1mwandb\u001b[0m: \tmetrics: ['auroc', 'auprc', 'accuracy']\n",
      "\u001b[34m\u001b[1mwandb\u001b[0m: \tname: kmer_128\n",
      "\u001b[34m\u001b[1mwandb\u001b[0m: \toutdir: models/kmer_128\n",
      "\u001b[34m\u001b[1mwandb\u001b[0m: \tseed: 42\n",
      "\u001b[34m\u001b[1mwandb\u001b[0m: \ttarget: auroc\n",
      "\u001b[34m\u001b[1mwandb\u001b[0m: \ttask: gene\n",
      "\u001b[34m\u001b[1mwandb\u001b[0m: \twd: 1e-05\n",
      "\u001b[34m\u001b[1mwandb\u001b[0m: \tweighted: False\n",
      "Failed to detect the name of this notebook, you can set it manually with the WANDB_NOTEBOOK_NAME environment variable to enable code saving.\n",
      "\u001b[34m\u001b[1mwandb\u001b[0m: \u001b[33mWARNING\u001b[0m Ignored wandb.init() arg project when running a sweep.\n"
     ]
    },
    {
     "data": {
      "text/html": [
       "wandb version 0.21.0 is available!  To upgrade, please run:\n",
       " $ pip install wandb --upgrade"
      ],
      "text/plain": [
       "<IPython.core.display.HTML object>"
      ]
     },
     "metadata": {},
     "output_type": "display_data"
    },
    {
     "data": {
      "text/html": [
       "Tracking run with wandb version 0.15.4"
      ],
      "text/plain": [
       "<IPython.core.display.HTML object>"
      ]
     },
     "metadata": {},
     "output_type": "display_data"
    },
    {
     "data": {
      "text/html": [
       "Run data is saved locally in <code>/oscar/data/larschan/shared_data/bind_gps/seq_modeling/wandb/run-20250711_232705-rgms268c</code>"
      ],
      "text/plain": [
       "<IPython.core.display.HTML object>"
      ]
     },
     "metadata": {},
     "output_type": "display_data"
    },
    {
     "data": {
      "text/html": [
       "Syncing run <strong><a href='https://wandb.ai/pranavmahabs/bind_gps/runs/rgms268c' target=\"_blank\">kmer_128</a></strong> to <a href='https://wandb.ai/pranavmahabs/bind_gps' target=\"_blank\">Weights & Biases</a> (<a href='https://wandb.me/run' target=\"_blank\">docs</a>)<br/>Sweep page: <a href='https://wandb.ai/pranavmahabs/bind_gps/sweeps/ms3id6yy' target=\"_blank\">https://wandb.ai/pranavmahabs/bind_gps/sweeps/ms3id6yy</a>"
      ],
      "text/plain": [
       "<IPython.core.display.HTML object>"
      ]
     },
     "metadata": {},
     "output_type": "display_data"
    },
    {
     "data": {
      "text/html": [
       " View project at <a href='https://wandb.ai/pranavmahabs/bind_gps' target=\"_blank\">https://wandb.ai/pranavmahabs/bind_gps</a>"
      ],
      "text/plain": [
       "<IPython.core.display.HTML object>"
      ]
     },
     "metadata": {},
     "output_type": "display_data"
    },
    {
     "data": {
      "text/html": [
       " View sweep at <a href='https://wandb.ai/pranavmahabs/bind_gps/sweeps/ms3id6yy' target=\"_blank\">https://wandb.ai/pranavmahabs/bind_gps/sweeps/ms3id6yy</a>"
      ],
      "text/plain": [
       "<IPython.core.display.HTML object>"
      ]
     },
     "metadata": {},
     "output_type": "display_data"
    },
    {
     "data": {
      "text/html": [
       " View run at <a href='https://wandb.ai/pranavmahabs/bind_gps/runs/rgms268c' target=\"_blank\">https://wandb.ai/pranavmahabs/bind_gps/runs/rgms268c</a>"
      ],
      "text/plain": [
       "<IPython.core.display.HTML object>"
      ]
     },
     "metadata": {},
     "output_type": "display_data"
    },
    {
     "name": "stdout",
     "output_type": "stream",
     "text": [
      "Epoch 0:\n",
      "Train Metrics:\n",
      "\tLoss:1857.3868, Acc: 0.4152:\n",
      "finished evaluation\n",
      "['auroc', 'auprc', 'accuracy']\n",
      "Validation Metrics:\n",
      "\tLoss: 437.2661\n",
      "\tauroc: 0.6020\n",
      "\tauprc: 0.4062\n",
      "\taccuracy: 0.4674\n",
      "\tepoch: 0.0000\n",
      "Epoch 1:\n",
      "Train Metrics:\n",
      "\tLoss:1598.2806, Acc: 0.5795:\n",
      "finished evaluation\n",
      "['auroc', 'auprc', 'accuracy']\n",
      "Validation Metrics:\n",
      "\tLoss: 394.3844\n",
      "\tauroc: 0.6447\n",
      "\tauprc: 0.4358\n",
      "\taccuracy: 0.5995\n",
      "\tepoch: 1.0000\n",
      "Epoch 2:\n",
      "Train Metrics:\n",
      "\tLoss:1533.1564, Acc: 0.5933:\n",
      "finished evaluation\n",
      "['auroc', 'auprc', 'accuracy']\n",
      "Validation Metrics:\n",
      "\tLoss: 383.7600\n",
      "\tauroc: 0.6565\n",
      "\tauprc: 0.4425\n",
      "\taccuracy: 0.5988\n",
      "\tepoch: 2.0000\n",
      "Epoch 3:\n",
      "Train Metrics:\n",
      "\tLoss:1508.6945, Acc: 0.5973:\n",
      "finished evaluation\n",
      "['auroc', 'auprc', 'accuracy']\n",
      "Validation Metrics:\n",
      "\tLoss: 380.5397\n",
      "\tauroc: 0.6646\n",
      "\tauprc: 0.4485\n",
      "\taccuracy: 0.6033\n",
      "\tepoch: 3.0000\n",
      "Epoch 4:\n",
      "Train Metrics:\n",
      "\tLoss:1488.4406, Acc: 0.6005:\n",
      "finished evaluation\n",
      "['auroc', 'auprc', 'accuracy']\n",
      "Validation Metrics:\n",
      "\tLoss: 380.5584\n",
      "\tauroc: 0.6702\n",
      "\tauprc: 0.4535\n",
      "\taccuracy: 0.6081\n",
      "\tepoch: 4.0000\n",
      "Epoch 5:\n",
      "Train Metrics:\n",
      "\tLoss:1482.9053, Acc: 0.6021:\n",
      "finished evaluation\n",
      "['auroc', 'auprc', 'accuracy']\n",
      "Validation Metrics:\n",
      "\tLoss: 380.0876\n",
      "\tauroc: 0.6715\n",
      "\tauprc: 0.4541\n",
      "\taccuracy: 0.6054\n",
      "\tepoch: 5.0000\n",
      "Epoch 6:\n",
      "Train Metrics:\n",
      "\tLoss:1476.8569, Acc: 0.6040:\n",
      "finished evaluation\n",
      "['auroc', 'auprc', 'accuracy']\n",
      "Validation Metrics:\n",
      "\tLoss: 376.0997\n",
      "\tauroc: 0.6800\n",
      "\tauprc: 0.4627\n",
      "\taccuracy: 0.6113\n",
      "\tepoch: 6.0000\n",
      "Epoch 7:\n",
      "Train Metrics:\n",
      "\tLoss:1469.1654, Acc: 0.6055:\n",
      "finished evaluation\n",
      "['auroc', 'auprc', 'accuracy']\n",
      "Validation Metrics:\n",
      "\tLoss: 374.9159\n",
      "\tauroc: 0.6778\n",
      "\tauprc: 0.4603\n",
      "\taccuracy: 0.6089\n",
      "Epoch 8:\n",
      "Train Metrics:\n",
      "\tLoss:1464.2938, Acc: 0.6066:\n",
      "finished evaluation\n",
      "['auroc', 'auprc', 'accuracy']\n",
      "Validation Metrics:\n",
      "\tLoss: 370.6841\n",
      "\tauroc: 0.6841\n",
      "\tauprc: 0.4672\n",
      "\taccuracy: 0.6125\n",
      "\tepoch: 8.0000\n",
      "Epoch 9:\n",
      "Train Metrics:\n",
      "\tLoss:1457.1373, Acc: 0.6093:\n",
      "finished evaluation\n",
      "['auroc', 'auprc', 'accuracy']\n",
      "Validation Metrics:\n",
      "\tLoss: 370.3121\n",
      "\tauroc: 0.6873\n",
      "\tauprc: 0.4701\n",
      "\taccuracy: 0.6108\n",
      "\tepoch: 9.0000\n"
     ]
    },
    {
     "data": {
      "text/html": [
       "Waiting for W&B process to finish... <strong style=\"color:green\">(success).</strong>"
      ],
      "text/plain": [
       "<IPython.core.display.HTML object>"
      ]
     },
     "metadata": {},
     "output_type": "display_data"
    },
    {
     "data": {
      "application/vnd.jupyter.widget-view+json": {
       "model_id": "7c8aed3adbb9492c885ef82b8cccccb4",
       "version_major": 2,
       "version_minor": 0
      },
      "text/plain": [
       "VBox(children=(Label(value='0.008 MB of 0.008 MB uploaded (0.000 MB deduped)\\r'), FloatProgress(value=1.0, max…"
      ]
     },
     "metadata": {},
     "output_type": "display_data"
    },
    {
     "data": {
      "text/html": [
       "<style>\n",
       "    table.wandb td:nth-child(1) { padding: 0 10px; text-align: left ; width: auto;} td:nth-child(2) {text-align: left ; width: 100%}\n",
       "    .wandb-row { display: flex; flex-direction: row; flex-wrap: wrap; justify-content: flex-start; width: 100% }\n",
       "    .wandb-col { display: flex; flex-direction: column; flex-basis: 100%; flex: 1; padding: 10px; }\n",
       "    </style>\n",
       "<div class=\"wandb-row\"><div class=\"wandb-col\"><h3>Run history:</h3><br/><table class=\"wandb\"><tr><td>train_accuracy</td><td>▁▇▇███████</td></tr><tr><td>train_loss</td><td>█▃▂▂▂▁▁▁▁▁</td></tr><tr><td>val_accuracy</td><td>▁▇▇███████</td></tr><tr><td>val_auprc</td><td>▁▄▅▆▆▆▇▇██</td></tr><tr><td>val_auroc</td><td>▁▅▅▆▇▇▇▇██</td></tr><tr><td>val_loss</td><td>█▄▂▂▂▂▂▁▁▁</td></tr></table><br/></div><div class=\"wandb-col\"><h3>Run summary:</h3><br/><table class=\"wandb\"><tr><td>train_accuracy</td><td>0.60928</td></tr><tr><td>train_loss</td><td>1457.13734</td></tr><tr><td>val_accuracy</td><td>0.61076</td></tr><tr><td>val_auprc</td><td>0.4701</td></tr><tr><td>val_auroc</td><td>0.68726</td></tr><tr><td>val_loss</td><td>370.3121</td></tr></table><br/></div></div>"
      ],
      "text/plain": [
       "<IPython.core.display.HTML object>"
      ]
     },
     "metadata": {},
     "output_type": "display_data"
    },
    {
     "data": {
      "text/html": [
       " View run <strong style=\"color:#cdcd00\">kmer_128</strong> at: <a href='https://wandb.ai/pranavmahabs/bind_gps/runs/rgms268c' target=\"_blank\">https://wandb.ai/pranavmahabs/bind_gps/runs/rgms268c</a><br/>Synced 5 W&B file(s), 0 media file(s), 0 artifact file(s) and 0 other file(s)"
      ],
      "text/plain": [
       "<IPython.core.display.HTML object>"
      ]
     },
     "metadata": {},
     "output_type": "display_data"
    },
    {
     "data": {
      "text/html": [
       "Find logs at: <code>./wandb/run-20250711_232705-rgms268c/logs</code>"
      ],
      "text/plain": [
       "<IPython.core.display.HTML object>"
      ]
     },
     "metadata": {},
     "output_type": "display_data"
    },
    {
     "name": "stderr",
     "output_type": "stream",
     "text": [
      "\u001b[34m\u001b[1mwandb\u001b[0m: Agent Starting Run: fac9u0vu with config:\n",
      "\u001b[34m\u001b[1mwandb\u001b[0m: \tepochs: 10\n",
      "\u001b[34m\u001b[1mwandb\u001b[0m: \thidden_dims: [256, 128]\n",
      "\u001b[34m\u001b[1mwandb\u001b[0m: \tlr: 1e-05\n",
      "\u001b[34m\u001b[1mwandb\u001b[0m: \tmetrics: ['auroc', 'auprc', 'accuracy']\n",
      "\u001b[34m\u001b[1mwandb\u001b[0m: \tname: kmer_128\n",
      "\u001b[34m\u001b[1mwandb\u001b[0m: \toutdir: models/kmer_128\n",
      "\u001b[34m\u001b[1mwandb\u001b[0m: \tseed: 42\n",
      "\u001b[34m\u001b[1mwandb\u001b[0m: \ttarget: auroc\n",
      "\u001b[34m\u001b[1mwandb\u001b[0m: \ttask: gene\n",
      "\u001b[34m\u001b[1mwandb\u001b[0m: \twd: 1e-06\n",
      "\u001b[34m\u001b[1mwandb\u001b[0m: \tweighted: True\n",
      "Failed to detect the name of this notebook, you can set it manually with the WANDB_NOTEBOOK_NAME environment variable to enable code saving.\n",
      "\u001b[34m\u001b[1mwandb\u001b[0m: \u001b[33mWARNING\u001b[0m Ignored wandb.init() arg project when running a sweep.\n"
     ]
    },
    {
     "data": {
      "text/html": [
       "wandb version 0.21.0 is available!  To upgrade, please run:\n",
       " $ pip install wandb --upgrade"
      ],
      "text/plain": [
       "<IPython.core.display.HTML object>"
      ]
     },
     "metadata": {},
     "output_type": "display_data"
    },
    {
     "data": {
      "text/html": [
       "Tracking run with wandb version 0.15.4"
      ],
      "text/plain": [
       "<IPython.core.display.HTML object>"
      ]
     },
     "metadata": {},
     "output_type": "display_data"
    },
    {
     "data": {
      "text/html": [
       "Run data is saved locally in <code>/oscar/data/larschan/shared_data/bind_gps/seq_modeling/wandb/run-20250711_232800-fac9u0vu</code>"
      ],
      "text/plain": [
       "<IPython.core.display.HTML object>"
      ]
     },
     "metadata": {},
     "output_type": "display_data"
    },
    {
     "data": {
      "text/html": [
       "Syncing run <strong><a href='https://wandb.ai/pranavmahabs/bind_gps/runs/fac9u0vu' target=\"_blank\">kmer_128</a></strong> to <a href='https://wandb.ai/pranavmahabs/bind_gps' target=\"_blank\">Weights & Biases</a> (<a href='https://wandb.me/run' target=\"_blank\">docs</a>)<br/>Sweep page: <a href='https://wandb.ai/pranavmahabs/bind_gps/sweeps/ms3id6yy' target=\"_blank\">https://wandb.ai/pranavmahabs/bind_gps/sweeps/ms3id6yy</a>"
      ],
      "text/plain": [
       "<IPython.core.display.HTML object>"
      ]
     },
     "metadata": {},
     "output_type": "display_data"
    },
    {
     "data": {
      "text/html": [
       " View project at <a href='https://wandb.ai/pranavmahabs/bind_gps' target=\"_blank\">https://wandb.ai/pranavmahabs/bind_gps</a>"
      ],
      "text/plain": [
       "<IPython.core.display.HTML object>"
      ]
     },
     "metadata": {},
     "output_type": "display_data"
    },
    {
     "data": {
      "text/html": [
       " View sweep at <a href='https://wandb.ai/pranavmahabs/bind_gps/sweeps/ms3id6yy' target=\"_blank\">https://wandb.ai/pranavmahabs/bind_gps/sweeps/ms3id6yy</a>"
      ],
      "text/plain": [
       "<IPython.core.display.HTML object>"
      ]
     },
     "metadata": {},
     "output_type": "display_data"
    },
    {
     "data": {
      "text/html": [
       " View run at <a href='https://wandb.ai/pranavmahabs/bind_gps/runs/fac9u0vu' target=\"_blank\">https://wandb.ai/pranavmahabs/bind_gps/runs/fac9u0vu</a>"
      ],
      "text/plain": [
       "<IPython.core.display.HTML object>"
      ]
     },
     "metadata": {},
     "output_type": "display_data"
    },
    {
     "name": "stdout",
     "output_type": "stream",
     "text": [
      "Epoch 0:\n",
      "Train Metrics:\n",
      "\tLoss:1918.2271, Acc: 0.2901:\n",
      "finished evaluation\n",
      "['auroc', 'auprc', 'accuracy']\n",
      "Validation Metrics:\n",
      "\tLoss: 463.5410\n",
      "\tauroc: 0.5970\n",
      "\tauprc: 0.3998\n",
      "\taccuracy: 0.2884\n",
      "\tepoch: 0.0000\n",
      "Epoch 1:\n",
      "Train Metrics:\n",
      "\tLoss:1841.2008, Acc: 0.3959:\n",
      "finished evaluation\n",
      "['auroc', 'auprc', 'accuracy']\n",
      "Validation Metrics:\n",
      "\tLoss: 457.0684\n",
      "\tauroc: 0.6289\n",
      "\tauprc: 0.4235\n",
      "\taccuracy: 0.3148\n",
      "\tepoch: 1.0000\n",
      "Epoch 2:\n",
      "Train Metrics:\n",
      "\tLoss:1812.5306, Acc: 0.4352:\n",
      "finished evaluation\n",
      "['auroc', 'auprc', 'accuracy']\n",
      "Validation Metrics:\n",
      "\tLoss: 454.3151\n",
      "\tauroc: 0.6359\n",
      "\tauprc: 0.4295\n",
      "\taccuracy: 0.3250\n",
      "\tepoch: 2.0000\n",
      "Epoch 3:\n",
      "Train Metrics:\n",
      "\tLoss:1794.2652, Acc: 0.4525:\n",
      "finished evaluation\n",
      "['auroc', 'auprc', 'accuracy']\n",
      "Validation Metrics:\n",
      "\tLoss: 447.5810\n",
      "\tauroc: 0.6511\n",
      "\tauprc: 0.4472\n",
      "\taccuracy: 0.3457\n",
      "\tepoch: 3.0000\n",
      "Epoch 4:\n",
      "Train Metrics:\n",
      "\tLoss:1778.6531, Acc: 0.4647:\n",
      "finished evaluation\n",
      "['auroc', 'auprc', 'accuracy']\n",
      "Validation Metrics:\n",
      "\tLoss: 444.5928\n",
      "\tauroc: 0.6571\n",
      "\tauprc: 0.4544\n",
      "\taccuracy: 0.3516\n",
      "\tepoch: 4.0000\n",
      "Epoch 5:\n",
      "Train Metrics:\n",
      "\tLoss:1770.2290, Acc: 0.4720:\n",
      "finished evaluation\n",
      "['auroc', 'auprc', 'accuracy']\n",
      "Validation Metrics:\n",
      "\tLoss: 446.6563\n",
      "\tauroc: 0.6561\n",
      "\tauprc: 0.4524\n",
      "\taccuracy: 0.3412\n",
      "Epoch 6:\n",
      "Train Metrics:\n",
      "\tLoss:1761.5126, Acc: 0.4801:\n",
      "finished evaluation\n",
      "['auroc', 'auprc', 'accuracy']\n",
      "Validation Metrics:\n",
      "\tLoss: 446.2386\n",
      "\tauroc: 0.6564\n",
      "\tauprc: 0.4524\n",
      "\taccuracy: 0.3534\n",
      "Epoch 7:\n",
      "Train Metrics:\n",
      "\tLoss:1752.6185, Acc: 0.4839:\n",
      "finished evaluation\n",
      "['auroc', 'auprc', 'accuracy']\n",
      "Validation Metrics:\n",
      "\tLoss: 442.3004\n",
      "\tauroc: 0.6642\n",
      "\tauprc: 0.4626\n",
      "\taccuracy: 0.3618\n",
      "\tepoch: 7.0000\n",
      "Epoch 8:\n",
      "Train Metrics:\n",
      "\tLoss:1750.5331, Acc: 0.4854:\n",
      "finished evaluation\n",
      "['auroc', 'auprc', 'accuracy']\n",
      "Validation Metrics:\n",
      "\tLoss: 437.4285\n",
      "\tauroc: 0.6706\n",
      "\tauprc: 0.4698\n",
      "\taccuracy: 0.3848\n",
      "\tepoch: 8.0000\n",
      "Epoch 9:\n",
      "Train Metrics:\n",
      "\tLoss:1747.0123, Acc: 0.4899:\n",
      "finished evaluation\n",
      "['auroc', 'auprc', 'accuracy']\n",
      "Validation Metrics:\n",
      "\tLoss: 441.0877\n",
      "\tauroc: 0.6671\n",
      "\tauprc: 0.4652\n",
      "\taccuracy: 0.3578\n"
     ]
    },
    {
     "data": {
      "text/html": [
       "Waiting for W&B process to finish... <strong style=\"color:green\">(success).</strong>"
      ],
      "text/plain": [
       "<IPython.core.display.HTML object>"
      ]
     },
     "metadata": {},
     "output_type": "display_data"
    },
    {
     "data": {
      "application/vnd.jupyter.widget-view+json": {
       "model_id": "9f5189d9a5e74b47a3745776fd7d6b73",
       "version_major": 2,
       "version_minor": 0
      },
      "text/plain": [
       "VBox(children=(Label(value='0.008 MB of 0.008 MB uploaded (0.000 MB deduped)\\r'), FloatProgress(value=1.0, max…"
      ]
     },
     "metadata": {},
     "output_type": "display_data"
    },
    {
     "data": {
      "text/html": [
       "<style>\n",
       "    table.wandb td:nth-child(1) { padding: 0 10px; text-align: left ; width: auto;} td:nth-child(2) {text-align: left ; width: 100%}\n",
       "    .wandb-row { display: flex; flex-direction: row; flex-wrap: wrap; justify-content: flex-start; width: 100% }\n",
       "    .wandb-col { display: flex; flex-direction: column; flex-basis: 100%; flex: 1; padding: 10px; }\n",
       "    </style>\n",
       "<div class=\"wandb-row\"><div class=\"wandb-col\"><h3>Run history:</h3><br/><table class=\"wandb\"><tr><td>train_accuracy</td><td>▁▅▆▇▇▇████</td></tr><tr><td>train_loss</td><td>█▅▄▃▂▂▂▁▁▁</td></tr><tr><td>val_accuracy</td><td>▁▃▄▅▆▅▆▆█▆</td></tr><tr><td>val_auprc</td><td>▁▃▄▆▆▆▆▇██</td></tr><tr><td>val_auroc</td><td>▁▄▅▆▇▇▇▇██</td></tr><tr><td>val_loss</td><td>█▆▆▄▃▃▃▂▁▂</td></tr></table><br/></div><div class=\"wandb-col\"><h3>Run summary:</h3><br/><table class=\"wandb\"><tr><td>train_accuracy</td><td>0.48993</td></tr><tr><td>train_loss</td><td>1747.01227</td></tr><tr><td>val_accuracy</td><td>0.3578</td></tr><tr><td>val_auprc</td><td>0.46517</td></tr><tr><td>val_auroc</td><td>0.66706</td></tr><tr><td>val_loss</td><td>441.08765</td></tr></table><br/></div></div>"
      ],
      "text/plain": [
       "<IPython.core.display.HTML object>"
      ]
     },
     "metadata": {},
     "output_type": "display_data"
    },
    {
     "data": {
      "text/html": [
       " View run <strong style=\"color:#cdcd00\">kmer_128</strong> at: <a href='https://wandb.ai/pranavmahabs/bind_gps/runs/fac9u0vu' target=\"_blank\">https://wandb.ai/pranavmahabs/bind_gps/runs/fac9u0vu</a><br/>Synced 5 W&B file(s), 0 media file(s), 0 artifact file(s) and 0 other file(s)"
      ],
      "text/plain": [
       "<IPython.core.display.HTML object>"
      ]
     },
     "metadata": {},
     "output_type": "display_data"
    },
    {
     "data": {
      "text/html": [
       "Find logs at: <code>./wandb/run-20250711_232800-fac9u0vu/logs</code>"
      ],
      "text/plain": [
       "<IPython.core.display.HTML object>"
      ]
     },
     "metadata": {},
     "output_type": "display_data"
    },
    {
     "name": "stderr",
     "output_type": "stream",
     "text": [
      "\u001b[34m\u001b[1mwandb\u001b[0m: Agent Starting Run: rvnehv77 with config:\n",
      "\u001b[34m\u001b[1mwandb\u001b[0m: \tepochs: 10\n",
      "\u001b[34m\u001b[1mwandb\u001b[0m: \thidden_dims: [256, 128]\n",
      "\u001b[34m\u001b[1mwandb\u001b[0m: \tlr: 1e-05\n",
      "\u001b[34m\u001b[1mwandb\u001b[0m: \tmetrics: ['auroc', 'auprc', 'accuracy']\n",
      "\u001b[34m\u001b[1mwandb\u001b[0m: \tname: kmer_128\n",
      "\u001b[34m\u001b[1mwandb\u001b[0m: \toutdir: models/kmer_128\n",
      "\u001b[34m\u001b[1mwandb\u001b[0m: \tseed: 42\n",
      "\u001b[34m\u001b[1mwandb\u001b[0m: \ttarget: auroc\n",
      "\u001b[34m\u001b[1mwandb\u001b[0m: \ttask: gene\n",
      "\u001b[34m\u001b[1mwandb\u001b[0m: \twd: 1e-06\n",
      "\u001b[34m\u001b[1mwandb\u001b[0m: \tweighted: False\n",
      "Failed to detect the name of this notebook, you can set it manually with the WANDB_NOTEBOOK_NAME environment variable to enable code saving.\n",
      "\u001b[34m\u001b[1mwandb\u001b[0m: \u001b[33mWARNING\u001b[0m Ignored wandb.init() arg project when running a sweep.\n"
     ]
    },
    {
     "data": {
      "text/html": [
       "wandb version 0.21.0 is available!  To upgrade, please run:\n",
       " $ pip install wandb --upgrade"
      ],
      "text/plain": [
       "<IPython.core.display.HTML object>"
      ]
     },
     "metadata": {},
     "output_type": "display_data"
    },
    {
     "data": {
      "text/html": [
       "Tracking run with wandb version 0.15.4"
      ],
      "text/plain": [
       "<IPython.core.display.HTML object>"
      ]
     },
     "metadata": {},
     "output_type": "display_data"
    },
    {
     "data": {
      "text/html": [
       "Run data is saved locally in <code>/oscar/data/larschan/shared_data/bind_gps/seq_modeling/wandb/run-20250711_232854-rvnehv77</code>"
      ],
      "text/plain": [
       "<IPython.core.display.HTML object>"
      ]
     },
     "metadata": {},
     "output_type": "display_data"
    },
    {
     "data": {
      "text/html": [
       "Syncing run <strong><a href='https://wandb.ai/pranavmahabs/bind_gps/runs/rvnehv77' target=\"_blank\">kmer_128</a></strong> to <a href='https://wandb.ai/pranavmahabs/bind_gps' target=\"_blank\">Weights & Biases</a> (<a href='https://wandb.me/run' target=\"_blank\">docs</a>)<br/>Sweep page: <a href='https://wandb.ai/pranavmahabs/bind_gps/sweeps/ms3id6yy' target=\"_blank\">https://wandb.ai/pranavmahabs/bind_gps/sweeps/ms3id6yy</a>"
      ],
      "text/plain": [
       "<IPython.core.display.HTML object>"
      ]
     },
     "metadata": {},
     "output_type": "display_data"
    },
    {
     "data": {
      "text/html": [
       " View project at <a href='https://wandb.ai/pranavmahabs/bind_gps' target=\"_blank\">https://wandb.ai/pranavmahabs/bind_gps</a>"
      ],
      "text/plain": [
       "<IPython.core.display.HTML object>"
      ]
     },
     "metadata": {},
     "output_type": "display_data"
    },
    {
     "data": {
      "text/html": [
       " View sweep at <a href='https://wandb.ai/pranavmahabs/bind_gps/sweeps/ms3id6yy' target=\"_blank\">https://wandb.ai/pranavmahabs/bind_gps/sweeps/ms3id6yy</a>"
      ],
      "text/plain": [
       "<IPython.core.display.HTML object>"
      ]
     },
     "metadata": {},
     "output_type": "display_data"
    },
    {
     "data": {
      "text/html": [
       " View run at <a href='https://wandb.ai/pranavmahabs/bind_gps/runs/rvnehv77' target=\"_blank\">https://wandb.ai/pranavmahabs/bind_gps/runs/rvnehv77</a>"
      ],
      "text/plain": [
       "<IPython.core.display.HTML object>"
      ]
     },
     "metadata": {},
     "output_type": "display_data"
    },
    {
     "name": "stdout",
     "output_type": "stream",
     "text": [
      "Epoch 0:\n",
      "Train Metrics:\n",
      "\tLoss:1792.9164, Acc: 0.4674:\n",
      "finished evaluation\n",
      "['auroc', 'auprc', 'accuracy']\n",
      "Validation Metrics:\n",
      "\tLoss: 432.3733\n",
      "\tauroc: 0.5930\n",
      "\tauprc: 0.3968\n",
      "\taccuracy: 0.5805\n",
      "\tepoch: 0.0000\n",
      "Epoch 1:\n",
      "Train Metrics:\n",
      "\tLoss:1588.1731, Acc: 0.5834:\n",
      "finished evaluation\n",
      "['auroc', 'auprc', 'accuracy']\n",
      "Validation Metrics:\n",
      "\tLoss: 398.5560\n",
      "\tauroc: 0.6310\n",
      "\tauprc: 0.4224\n",
      "\taccuracy: 0.5988\n",
      "\tepoch: 1.0000\n",
      "Epoch 2:\n",
      "Train Metrics:\n",
      "\tLoss:1533.9724, Acc: 0.5923:\n",
      "finished evaluation\n",
      "['auroc', 'auprc', 'accuracy']\n",
      "Validation Metrics:\n",
      "\tLoss: 388.2343\n",
      "\tauroc: 0.6416\n",
      "\tauprc: 0.4302\n",
      "\taccuracy: 0.5992\n",
      "\tepoch: 2.0000\n",
      "Epoch 3:\n",
      "Train Metrics:\n",
      "\tLoss:1507.6024, Acc: 0.5969:\n",
      "finished evaluation\n",
      "['auroc', 'auprc', 'accuracy']\n",
      "Validation Metrics:\n",
      "\tLoss: 384.3820\n",
      "\tauroc: 0.6544\n",
      "\tauprc: 0.4400\n",
      "\taccuracy: 0.6049\n",
      "\tepoch: 3.0000\n",
      "Epoch 4:\n",
      "Train Metrics:\n",
      "\tLoss:1494.5294, Acc: 0.5992:\n",
      "finished evaluation\n",
      "['auroc', 'auprc', 'accuracy']\n",
      "Validation Metrics:\n",
      "\tLoss: 382.4991\n",
      "\tauroc: 0.6586\n",
      "\tauprc: 0.4434\n",
      "\taccuracy: 0.6069\n",
      "\tepoch: 4.0000\n",
      "Epoch 5:\n",
      "Train Metrics:\n",
      "\tLoss:1487.4089, Acc: 0.6014:\n",
      "finished evaluation\n",
      "['auroc', 'auprc', 'accuracy']\n",
      "Validation Metrics:\n",
      "\tLoss: 380.9075\n",
      "\tauroc: 0.6612\n",
      "\tauprc: 0.4459\n",
      "\taccuracy: 0.6054\n",
      "\tepoch: 5.0000\n",
      "Epoch 6:\n",
      "Train Metrics:\n",
      "\tLoss:1476.7579, Acc: 0.6044:\n",
      "finished evaluation\n",
      "['auroc', 'auprc', 'accuracy']\n",
      "Validation Metrics:\n",
      "\tLoss: 380.3307\n",
      "\tauroc: 0.6659\n",
      "\tauprc: 0.4498\n",
      "\taccuracy: 0.6033\n",
      "\tepoch: 6.0000\n",
      "Epoch 7:\n",
      "Train Metrics:\n",
      "\tLoss:1471.1821, Acc: 0.6044:\n",
      "finished evaluation\n",
      "['auroc', 'auprc', 'accuracy']\n",
      "Validation Metrics:\n",
      "\tLoss: 382.2775\n",
      "\tauroc: 0.6680\n",
      "\tauprc: 0.4520\n",
      "\taccuracy: 0.5972\n",
      "\tepoch: 7.0000\n",
      "Epoch 8:\n",
      "Train Metrics:\n",
      "\tLoss:1466.2454, Acc: 0.6057:\n",
      "finished evaluation\n",
      "['auroc', 'auprc', 'accuracy']\n",
      "Validation Metrics:\n",
      "\tLoss: 378.3828\n",
      "\tauroc: 0.6745\n",
      "\tauprc: 0.4578\n",
      "\taccuracy: 0.5987\n",
      "\tepoch: 8.0000\n",
      "Epoch 9:\n",
      "Train Metrics:\n",
      "\tLoss:1463.0201, Acc: 0.6074:\n",
      "finished evaluation\n",
      "['auroc', 'auprc', 'accuracy']\n",
      "Validation Metrics:\n",
      "\tLoss: 376.3736\n",
      "\tauroc: 0.6759\n",
      "\tauprc: 0.4602\n",
      "\taccuracy: 0.6060\n",
      "\tepoch: 9.0000\n"
     ]
    },
    {
     "data": {
      "text/html": [
       "Waiting for W&B process to finish... <strong style=\"color:green\">(success).</strong>"
      ],
      "text/plain": [
       "<IPython.core.display.HTML object>"
      ]
     },
     "metadata": {},
     "output_type": "display_data"
    },
    {
     "data": {
      "application/vnd.jupyter.widget-view+json": {
       "model_id": "726621e51eb7480fa4bd7578b53692f3",
       "version_major": 2,
       "version_minor": 0
      },
      "text/plain": [
       "VBox(children=(Label(value='0.008 MB of 0.008 MB uploaded (0.000 MB deduped)\\r'), FloatProgress(value=1.0, max…"
      ]
     },
     "metadata": {},
     "output_type": "display_data"
    },
    {
     "data": {
      "text/html": [
       "<style>\n",
       "    table.wandb td:nth-child(1) { padding: 0 10px; text-align: left ; width: auto;} td:nth-child(2) {text-align: left ; width: 100%}\n",
       "    .wandb-row { display: flex; flex-direction: row; flex-wrap: wrap; justify-content: flex-start; width: 100% }\n",
       "    .wandb-col { display: flex; flex-direction: column; flex-basis: 100%; flex: 1; padding: 10px; }\n",
       "    </style>\n",
       "<div class=\"wandb-row\"><div class=\"wandb-col\"><h3>Run history:</h3><br/><table class=\"wandb\"><tr><td>train_accuracy</td><td>▁▇▇▇██████</td></tr><tr><td>train_loss</td><td>█▄▃▂▂▂▁▁▁▁</td></tr><tr><td>val_accuracy</td><td>▁▆▆▇██▇▅▆█</td></tr><tr><td>val_auprc</td><td>▁▄▅▆▆▆▇▇██</td></tr><tr><td>val_auroc</td><td>▁▄▅▆▇▇▇▇██</td></tr><tr><td>val_loss</td><td>█▄▂▂▂▂▁▂▁▁</td></tr></table><br/></div><div class=\"wandb-col\"><h3>Run summary:</h3><br/><table class=\"wandb\"><tr><td>train_accuracy</td><td>0.60737</td></tr><tr><td>train_loss</td><td>1463.02011</td></tr><tr><td>val_accuracy</td><td>0.606</td></tr><tr><td>val_auprc</td><td>0.46022</td></tr><tr><td>val_auroc</td><td>0.67592</td></tr><tr><td>val_loss</td><td>376.37356</td></tr></table><br/></div></div>"
      ],
      "text/plain": [
       "<IPython.core.display.HTML object>"
      ]
     },
     "metadata": {},
     "output_type": "display_data"
    },
    {
     "data": {
      "text/html": [
       " View run <strong style=\"color:#cdcd00\">kmer_128</strong> at: <a href='https://wandb.ai/pranavmahabs/bind_gps/runs/rvnehv77' target=\"_blank\">https://wandb.ai/pranavmahabs/bind_gps/runs/rvnehv77</a><br/>Synced 5 W&B file(s), 0 media file(s), 0 artifact file(s) and 0 other file(s)"
      ],
      "text/plain": [
       "<IPython.core.display.HTML object>"
      ]
     },
     "metadata": {},
     "output_type": "display_data"
    },
    {
     "data": {
      "text/html": [
       "Find logs at: <code>./wandb/run-20250711_232854-rvnehv77/logs</code>"
      ],
      "text/plain": [
       "<IPython.core.display.HTML object>"
      ]
     },
     "metadata": {},
     "output_type": "display_data"
    },
    {
     "name": "stderr",
     "output_type": "stream",
     "text": [
      "\u001b[34m\u001b[1mwandb\u001b[0m: Agent Starting Run: 54np5rkv with config:\n",
      "\u001b[34m\u001b[1mwandb\u001b[0m: \tepochs: 10\n",
      "\u001b[34m\u001b[1mwandb\u001b[0m: \thidden_dims: [128, 64]\n",
      "\u001b[34m\u001b[1mwandb\u001b[0m: \tlr: 0.001\n",
      "\u001b[34m\u001b[1mwandb\u001b[0m: \tmetrics: ['auroc', 'auprc', 'accuracy']\n",
      "\u001b[34m\u001b[1mwandb\u001b[0m: \tname: kmer_128\n",
      "\u001b[34m\u001b[1mwandb\u001b[0m: \toutdir: models/kmer_128\n",
      "\u001b[34m\u001b[1mwandb\u001b[0m: \tseed: 42\n",
      "\u001b[34m\u001b[1mwandb\u001b[0m: \ttarget: auroc\n",
      "\u001b[34m\u001b[1mwandb\u001b[0m: \ttask: mre\n",
      "\u001b[34m\u001b[1mwandb\u001b[0m: \twd: 1e-05\n",
      "\u001b[34m\u001b[1mwandb\u001b[0m: \tweighted: True\n",
      "Failed to detect the name of this notebook, you can set it manually with the WANDB_NOTEBOOK_NAME environment variable to enable code saving.\n",
      "\u001b[34m\u001b[1mwandb\u001b[0m: \u001b[33mWARNING\u001b[0m Ignored wandb.init() arg project when running a sweep.\n"
     ]
    },
    {
     "data": {
      "text/html": [
       "wandb version 0.21.0 is available!  To upgrade, please run:\n",
       " $ pip install wandb --upgrade"
      ],
      "text/plain": [
       "<IPython.core.display.HTML object>"
      ]
     },
     "metadata": {},
     "output_type": "display_data"
    },
    {
     "data": {
      "text/html": [
       "Tracking run with wandb version 0.15.4"
      ],
      "text/plain": [
       "<IPython.core.display.HTML object>"
      ]
     },
     "metadata": {},
     "output_type": "display_data"
    },
    {
     "data": {
      "text/html": [
       "Run data is saved locally in <code>/oscar/data/larschan/shared_data/bind_gps/seq_modeling/wandb/run-20250711_232946-54np5rkv</code>"
      ],
      "text/plain": [
       "<IPython.core.display.HTML object>"
      ]
     },
     "metadata": {},
     "output_type": "display_data"
    },
    {
     "data": {
      "text/html": [
       "Syncing run <strong><a href='https://wandb.ai/pranavmahabs/bind_gps/runs/54np5rkv' target=\"_blank\">kmer_128</a></strong> to <a href='https://wandb.ai/pranavmahabs/bind_gps' target=\"_blank\">Weights & Biases</a> (<a href='https://wandb.me/run' target=\"_blank\">docs</a>)<br/>Sweep page: <a href='https://wandb.ai/pranavmahabs/bind_gps/sweeps/ms3id6yy' target=\"_blank\">https://wandb.ai/pranavmahabs/bind_gps/sweeps/ms3id6yy</a>"
      ],
      "text/plain": [
       "<IPython.core.display.HTML object>"
      ]
     },
     "metadata": {},
     "output_type": "display_data"
    },
    {
     "data": {
      "text/html": [
       " View project at <a href='https://wandb.ai/pranavmahabs/bind_gps' target=\"_blank\">https://wandb.ai/pranavmahabs/bind_gps</a>"
      ],
      "text/plain": [
       "<IPython.core.display.HTML object>"
      ]
     },
     "metadata": {},
     "output_type": "display_data"
    },
    {
     "data": {
      "text/html": [
       " View sweep at <a href='https://wandb.ai/pranavmahabs/bind_gps/sweeps/ms3id6yy' target=\"_blank\">https://wandb.ai/pranavmahabs/bind_gps/sweeps/ms3id6yy</a>"
      ],
      "text/plain": [
       "<IPython.core.display.HTML object>"
      ]
     },
     "metadata": {},
     "output_type": "display_data"
    },
    {
     "data": {
      "text/html": [
       " View run at <a href='https://wandb.ai/pranavmahabs/bind_gps/runs/54np5rkv' target=\"_blank\">https://wandb.ai/pranavmahabs/bind_gps/runs/54np5rkv</a>"
      ],
      "text/plain": [
       "<IPython.core.display.HTML object>"
      ]
     },
     "metadata": {},
     "output_type": "display_data"
    },
    {
     "name": "stdout",
     "output_type": "stream",
     "text": [
      "Epoch 0:\n",
      "Train Metrics:\n",
      "\tLoss:1606.1914, Acc: 0.6836:\n",
      "finished evaluation\n",
      "['auroc', 'auprc', 'accuracy']\n",
      "Validation Metrics:\n",
      "\tLoss: 372.3451\n",
      "\tauroc: 0.8228\n",
      "\tauprc: 0.5520\n",
      "\taccuracy: 0.7534\n",
      "\tepoch: 0.0000\n",
      "Epoch 1:\n",
      "Train Metrics:\n",
      "\tLoss:1500.8601, Acc: 0.7306:\n",
      "finished evaluation\n",
      "['auroc', 'auprc', 'accuracy']\n",
      "Validation Metrics:\n",
      "\tLoss: 363.3745\n",
      "\tauroc: 0.8327\n",
      "\tauprc: 0.5519\n",
      "\taccuracy: 0.7418\n",
      "\tepoch: 1.0000\n",
      "Epoch 2:\n",
      "Train Metrics:\n",
      "\tLoss:1466.5493, Acc: 0.7431:\n",
      "finished evaluation\n",
      "['auroc', 'auprc', 'accuracy']\n",
      "Validation Metrics:\n",
      "\tLoss: 354.3537\n",
      "\tauroc: 0.8444\n",
      "\tauprc: 0.5651\n",
      "\taccuracy: 0.7684\n",
      "\tepoch: 2.0000\n",
      "Epoch 3:\n",
      "Train Metrics:\n",
      "\tLoss:1439.6680, Acc: 0.7500:\n",
      "finished evaluation\n",
      "['auroc', 'auprc', 'accuracy']\n",
      "Validation Metrics:\n",
      "\tLoss: 354.3547\n",
      "\tauroc: 0.8436\n",
      "\tauprc: 0.5666\n",
      "\taccuracy: 0.7565\n",
      "Epoch 4:\n",
      "Train Metrics:\n",
      "\tLoss:1426.3612, Acc: 0.7536:\n",
      "finished evaluation\n",
      "['auroc', 'auprc', 'accuracy']\n",
      "Validation Metrics:\n",
      "\tLoss: 349.6066\n",
      "\tauroc: 0.8422\n",
      "\tauprc: 0.5603\n",
      "\taccuracy: 0.7518\n",
      "Epoch 5:\n",
      "Train Metrics:\n",
      "\tLoss:1412.0290, Acc: 0.7570:\n",
      "finished evaluation\n",
      "['auroc', 'auprc', 'accuracy']\n",
      "Validation Metrics:\n",
      "\tLoss: 348.4809\n",
      "\tauroc: 0.8485\n",
      "\tauprc: 0.5710\n",
      "\taccuracy: 0.7912\n",
      "\tepoch: 5.0000\n",
      "Epoch 6:\n",
      "Train Metrics:\n",
      "\tLoss:1403.0057, Acc: 0.7630:\n",
      "finished evaluation\n",
      "['auroc', 'auprc', 'accuracy']\n",
      "Validation Metrics:\n",
      "\tLoss: 345.4351\n",
      "\tauroc: 0.8469\n",
      "\tauprc: 0.5692\n",
      "\taccuracy: 0.8009\n",
      "Epoch 7:\n",
      "Train Metrics:\n",
      "\tLoss:1390.4618, Acc: 0.7589:\n",
      "finished evaluation\n",
      "['auroc', 'auprc', 'accuracy']\n",
      "Validation Metrics:\n",
      "\tLoss: 349.9357\n",
      "\tauroc: 0.8389\n",
      "\tauprc: 0.5548\n",
      "\taccuracy: 0.7214\n",
      "Epoch 8:\n",
      "Train Metrics:\n",
      "\tLoss:1384.5538, Acc: 0.7613:\n",
      "finished evaluation\n",
      "['auroc', 'auprc', 'accuracy']\n",
      "Validation Metrics:\n",
      "\tLoss: 345.5827\n",
      "\tauroc: 0.8494\n",
      "\tauprc: 0.5711\n",
      "\taccuracy: 0.7974\n",
      "\tepoch: 8.0000\n",
      "Epoch 9:\n",
      "Train Metrics:\n",
      "\tLoss:1376.4897, Acc: 0.7605:\n",
      "finished evaluation\n",
      "['auroc', 'auprc', 'accuracy']\n",
      "Validation Metrics:\n",
      "\tLoss: 343.7347\n",
      "\tauroc: 0.8520\n",
      "\tauprc: 0.5657\n",
      "\taccuracy: 0.7670\n",
      "\tepoch: 9.0000\n"
     ]
    },
    {
     "data": {
      "text/html": [
       "Waiting for W&B process to finish... <strong style=\"color:green\">(success).</strong>"
      ],
      "text/plain": [
       "<IPython.core.display.HTML object>"
      ]
     },
     "metadata": {},
     "output_type": "display_data"
    },
    {
     "data": {
      "text/html": [
       "<style>\n",
       "    table.wandb td:nth-child(1) { padding: 0 10px; text-align: left ; width: auto;} td:nth-child(2) {text-align: left ; width: 100%}\n",
       "    .wandb-row { display: flex; flex-direction: row; flex-wrap: wrap; justify-content: flex-start; width: 100% }\n",
       "    .wandb-col { display: flex; flex-direction: column; flex-basis: 100%; flex: 1; padding: 10px; }\n",
       "    </style>\n",
       "<div class=\"wandb-row\"><div class=\"wandb-col\"><h3>Run history:</h3><br/><table class=\"wandb\"><tr><td>train_accuracy</td><td>▁▅▆▇▇▇████</td></tr><tr><td>train_loss</td><td>█▅▄▃▃▂▂▁▁▁</td></tr><tr><td>val_accuracy</td><td>▄▃▅▄▄▇█▁█▅</td></tr><tr><td>val_auprc</td><td>▁▁▆▆▄█▇▂█▆</td></tr><tr><td>val_auroc</td><td>▁▃▆▆▆▇▇▅▇█</td></tr><tr><td>val_loss</td><td>█▆▄▄▂▂▁▃▁▁</td></tr></table><br/></div><div class=\"wandb-col\"><h3>Run summary:</h3><br/><table class=\"wandb\"><tr><td>train_accuracy</td><td>0.76052</td></tr><tr><td>train_loss</td><td>1376.48967</td></tr><tr><td>val_accuracy</td><td>0.76696</td></tr><tr><td>val_auprc</td><td>0.56573</td></tr><tr><td>val_auroc</td><td>0.85202</td></tr><tr><td>val_loss</td><td>343.73471</td></tr></table><br/></div></div>"
      ],
      "text/plain": [
       "<IPython.core.display.HTML object>"
      ]
     },
     "metadata": {},
     "output_type": "display_data"
    },
    {
     "data": {
      "text/html": [
       " View run <strong style=\"color:#cdcd00\">kmer_128</strong> at: <a href='https://wandb.ai/pranavmahabs/bind_gps/runs/54np5rkv' target=\"_blank\">https://wandb.ai/pranavmahabs/bind_gps/runs/54np5rkv</a><br/>Synced 5 W&B file(s), 0 media file(s), 0 artifact file(s) and 0 other file(s)"
      ],
      "text/plain": [
       "<IPython.core.display.HTML object>"
      ]
     },
     "metadata": {},
     "output_type": "display_data"
    },
    {
     "data": {
      "text/html": [
       "Find logs at: <code>./wandb/run-20250711_232946-54np5rkv/logs</code>"
      ],
      "text/plain": [
       "<IPython.core.display.HTML object>"
      ]
     },
     "metadata": {},
     "output_type": "display_data"
    },
    {
     "name": "stderr",
     "output_type": "stream",
     "text": [
      "\u001b[34m\u001b[1mwandb\u001b[0m: Agent Starting Run: 21cx4dlr with config:\n",
      "\u001b[34m\u001b[1mwandb\u001b[0m: \tepochs: 10\n",
      "\u001b[34m\u001b[1mwandb\u001b[0m: \thidden_dims: [128, 64]\n",
      "\u001b[34m\u001b[1mwandb\u001b[0m: \tlr: 0.001\n",
      "\u001b[34m\u001b[1mwandb\u001b[0m: \tmetrics: ['auroc', 'auprc', 'accuracy']\n",
      "\u001b[34m\u001b[1mwandb\u001b[0m: \tname: kmer_128\n",
      "\u001b[34m\u001b[1mwandb\u001b[0m: \toutdir: models/kmer_128\n",
      "\u001b[34m\u001b[1mwandb\u001b[0m: \tseed: 42\n",
      "\u001b[34m\u001b[1mwandb\u001b[0m: \ttarget: auroc\n",
      "\u001b[34m\u001b[1mwandb\u001b[0m: \ttask: mre\n",
      "\u001b[34m\u001b[1mwandb\u001b[0m: \twd: 1e-05\n",
      "\u001b[34m\u001b[1mwandb\u001b[0m: \tweighted: False\n",
      "Failed to detect the name of this notebook, you can set it manually with the WANDB_NOTEBOOK_NAME environment variable to enable code saving.\n",
      "\u001b[34m\u001b[1mwandb\u001b[0m: \u001b[33mWARNING\u001b[0m Ignored wandb.init() arg project when running a sweep.\n"
     ]
    },
    {
     "data": {
      "text/html": [
       "wandb version 0.21.0 is available!  To upgrade, please run:\n",
       " $ pip install wandb --upgrade"
      ],
      "text/plain": [
       "<IPython.core.display.HTML object>"
      ]
     },
     "metadata": {},
     "output_type": "display_data"
    },
    {
     "data": {
      "text/html": [
       "Tracking run with wandb version 0.15.4"
      ],
      "text/plain": [
       "<IPython.core.display.HTML object>"
      ]
     },
     "metadata": {},
     "output_type": "display_data"
    },
    {
     "data": {
      "text/html": [
       "Run data is saved locally in <code>/oscar/data/larschan/shared_data/bind_gps/seq_modeling/wandb/run-20250711_233038-21cx4dlr</code>"
      ],
      "text/plain": [
       "<IPython.core.display.HTML object>"
      ]
     },
     "metadata": {},
     "output_type": "display_data"
    },
    {
     "data": {
      "text/html": [
       "Syncing run <strong><a href='https://wandb.ai/pranavmahabs/bind_gps/runs/21cx4dlr' target=\"_blank\">kmer_128</a></strong> to <a href='https://wandb.ai/pranavmahabs/bind_gps' target=\"_blank\">Weights & Biases</a> (<a href='https://wandb.me/run' target=\"_blank\">docs</a>)<br/>Sweep page: <a href='https://wandb.ai/pranavmahabs/bind_gps/sweeps/ms3id6yy' target=\"_blank\">https://wandb.ai/pranavmahabs/bind_gps/sweeps/ms3id6yy</a>"
      ],
      "text/plain": [
       "<IPython.core.display.HTML object>"
      ]
     },
     "metadata": {},
     "output_type": "display_data"
    },
    {
     "data": {
      "text/html": [
       " View project at <a href='https://wandb.ai/pranavmahabs/bind_gps' target=\"_blank\">https://wandb.ai/pranavmahabs/bind_gps</a>"
      ],
      "text/plain": [
       "<IPython.core.display.HTML object>"
      ]
     },
     "metadata": {},
     "output_type": "display_data"
    },
    {
     "data": {
      "text/html": [
       " View sweep at <a href='https://wandb.ai/pranavmahabs/bind_gps/sweeps/ms3id6yy' target=\"_blank\">https://wandb.ai/pranavmahabs/bind_gps/sweeps/ms3id6yy</a>"
      ],
      "text/plain": [
       "<IPython.core.display.HTML object>"
      ]
     },
     "metadata": {},
     "output_type": "display_data"
    },
    {
     "data": {
      "text/html": [
       " View run at <a href='https://wandb.ai/pranavmahabs/bind_gps/runs/21cx4dlr' target=\"_blank\">https://wandb.ai/pranavmahabs/bind_gps/runs/21cx4dlr</a>"
      ],
      "text/plain": [
       "<IPython.core.display.HTML object>"
      ]
     },
     "metadata": {},
     "output_type": "display_data"
    },
    {
     "name": "stdout",
     "output_type": "stream",
     "text": [
      "Epoch 0:\n",
      "Train Metrics:\n",
      "\tLoss:740.6698, Acc: 0.8647:\n",
      "finished evaluation\n",
      "['auroc', 'auprc', 'accuracy']\n",
      "Validation Metrics:\n",
      "\tLoss: 161.9217\n",
      "\tauroc: 0.8358\n",
      "\tauprc: 0.5729\n",
      "\taccuracy: 0.8785\n",
      "\tepoch: 0.0000\n",
      "Epoch 1:\n",
      "Train Metrics:\n",
      "\tLoss:661.8597, Acc: 0.8746:\n",
      "finished evaluation\n",
      "['auroc', 'auprc', 'accuracy']\n",
      "Validation Metrics:\n",
      "\tLoss: 155.4296\n",
      "\tauroc: 0.8535\n",
      "\tauprc: 0.5907\n",
      "\taccuracy: 0.8798\n",
      "\tepoch: 1.0000\n",
      "Epoch 2:\n",
      "Train Metrics:\n",
      "\tLoss:647.6703, Acc: 0.8771:\n",
      "finished evaluation\n",
      "['auroc', 'auprc', 'accuracy']\n",
      "Validation Metrics:\n",
      "\tLoss: 154.5160\n",
      "\tauroc: 0.8581\n",
      "\tauprc: 0.5929\n",
      "\taccuracy: 0.8801\n",
      "\tepoch: 2.0000\n",
      "Epoch 3:\n",
      "Train Metrics:\n",
      "\tLoss:638.5341, Acc: 0.8777:\n",
      "finished evaluation\n",
      "['auroc', 'auprc', 'accuracy']\n",
      "Validation Metrics:\n",
      "\tLoss: 154.0518\n",
      "\tauroc: 0.8579\n",
      "\tauprc: 0.5989\n",
      "\taccuracy: 0.8803\n",
      "Epoch 4:\n",
      "Train Metrics:\n",
      "\tLoss:631.5359, Acc: 0.8789:\n",
      "finished evaluation\n",
      "['auroc', 'auprc', 'accuracy']\n",
      "Validation Metrics:\n",
      "\tLoss: 150.8918\n",
      "\tauroc: 0.8661\n",
      "\tauprc: 0.5964\n",
      "\taccuracy: 0.8822\n",
      "\tepoch: 4.0000\n",
      "Epoch 5:\n",
      "Train Metrics:\n",
      "\tLoss:624.3978, Acc: 0.8792:\n",
      "finished evaluation\n",
      "['auroc', 'auprc', 'accuracy']\n",
      "Validation Metrics:\n",
      "\tLoss: 149.9689\n",
      "\tauroc: 0.8659\n",
      "\tauprc: 0.6042\n",
      "\taccuracy: 0.8848\n",
      "Epoch 6:\n",
      "Train Metrics:\n",
      "\tLoss:620.4787, Acc: 0.8806:\n",
      "finished evaluation\n",
      "['auroc', 'auprc', 'accuracy']\n",
      "Validation Metrics:\n",
      "\tLoss: 148.9634\n",
      "\tauroc: 0.8683\n",
      "\tauprc: 0.6046\n",
      "\taccuracy: 0.8832\n",
      "\tepoch: 6.0000\n",
      "Epoch 7:\n",
      "Train Metrics:\n",
      "\tLoss:613.4398, Acc: 0.8804:\n",
      "finished evaluation\n",
      "['auroc', 'auprc', 'accuracy']\n",
      "Validation Metrics:\n",
      "\tLoss: 150.8683\n",
      "\tauroc: 0.8673\n",
      "\tauprc: 0.6079\n",
      "\taccuracy: 0.8833\n",
      "Epoch 8:\n",
      "Train Metrics:\n",
      "\tLoss:615.5835, Acc: 0.8803:\n",
      "finished evaluation\n",
      "['auroc', 'auprc', 'accuracy']\n",
      "Validation Metrics:\n",
      "\tLoss: 151.2179\n",
      "\tauroc: 0.8679\n",
      "\tauprc: 0.6075\n",
      "\taccuracy: 0.8841\n",
      "Epoch 9:\n",
      "Train Metrics:\n",
      "\tLoss:610.1311, Acc: 0.8810:\n",
      "finished evaluation\n",
      "['auroc', 'auprc', 'accuracy']\n",
      "Validation Metrics:\n",
      "\tLoss: 149.3378\n",
      "\tauroc: 0.8702\n",
      "\tauprc: 0.6060\n",
      "\taccuracy: 0.8844\n",
      "\tepoch: 9.0000\n"
     ]
    },
    {
     "data": {
      "text/html": [
       "Waiting for W&B process to finish... <strong style=\"color:green\">(success).</strong>"
      ],
      "text/plain": [
       "<IPython.core.display.HTML object>"
      ]
     },
     "metadata": {},
     "output_type": "display_data"
    },
    {
     "data": {
      "application/vnd.jupyter.widget-view+json": {
       "model_id": "f235adf5621e43c4bd1d623bee1b6357",
       "version_major": 2,
       "version_minor": 0
      },
      "text/plain": [
       "VBox(children=(Label(value='0.008 MB of 0.008 MB uploaded (0.000 MB deduped)\\r'), FloatProgress(value=1.0, max…"
      ]
     },
     "metadata": {},
     "output_type": "display_data"
    },
    {
     "data": {
      "text/html": [
       "<style>\n",
       "    table.wandb td:nth-child(1) { padding: 0 10px; text-align: left ; width: auto;} td:nth-child(2) {text-align: left ; width: 100%}\n",
       "    .wandb-row { display: flex; flex-direction: row; flex-wrap: wrap; justify-content: flex-start; width: 100% }\n",
       "    .wandb-col { display: flex; flex-direction: column; flex-basis: 100%; flex: 1; padding: 10px; }\n",
       "    </style>\n",
       "<div class=\"wandb-row\"><div class=\"wandb-col\"><h3>Run history:</h3><br/><table class=\"wandb\"><tr><td>train_accuracy</td><td>▁▅▆▇▇▇████</td></tr><tr><td>train_loss</td><td>█▄▃▃▂▂▂▁▁▁</td></tr><tr><td>val_accuracy</td><td>▁▃▃▃▅█▆▆▇█</td></tr><tr><td>val_auprc</td><td>▁▅▅▆▆▇▇███</td></tr><tr><td>val_auroc</td><td>▁▅▆▅▇▇█▇██</td></tr><tr><td>val_loss</td><td>█▄▄▄▂▂▁▂▂▁</td></tr></table><br/></div><div class=\"wandb-col\"><h3>Run summary:</h3><br/><table class=\"wandb\"><tr><td>train_accuracy</td><td>0.88104</td></tr><tr><td>train_loss</td><td>610.13106</td></tr><tr><td>val_accuracy</td><td>0.88443</td></tr><tr><td>val_auprc</td><td>0.60603</td></tr><tr><td>val_auroc</td><td>0.87023</td></tr><tr><td>val_loss</td><td>149.33776</td></tr></table><br/></div></div>"
      ],
      "text/plain": [
       "<IPython.core.display.HTML object>"
      ]
     },
     "metadata": {},
     "output_type": "display_data"
    },
    {
     "data": {
      "text/html": [
       " View run <strong style=\"color:#cdcd00\">kmer_128</strong> at: <a href='https://wandb.ai/pranavmahabs/bind_gps/runs/21cx4dlr' target=\"_blank\">https://wandb.ai/pranavmahabs/bind_gps/runs/21cx4dlr</a><br/>Synced 5 W&B file(s), 0 media file(s), 0 artifact file(s) and 0 other file(s)"
      ],
      "text/plain": [
       "<IPython.core.display.HTML object>"
      ]
     },
     "metadata": {},
     "output_type": "display_data"
    },
    {
     "data": {
      "text/html": [
       "Find logs at: <code>./wandb/run-20250711_233038-21cx4dlr/logs</code>"
      ],
      "text/plain": [
       "<IPython.core.display.HTML object>"
      ]
     },
     "metadata": {},
     "output_type": "display_data"
    },
    {
     "name": "stderr",
     "output_type": "stream",
     "text": [
      "\u001b[34m\u001b[1mwandb\u001b[0m: Agent Starting Run: tq8p7hn3 with config:\n",
      "\u001b[34m\u001b[1mwandb\u001b[0m: \tepochs: 10\n",
      "\u001b[34m\u001b[1mwandb\u001b[0m: \thidden_dims: [128, 64]\n",
      "\u001b[34m\u001b[1mwandb\u001b[0m: \tlr: 0.001\n",
      "\u001b[34m\u001b[1mwandb\u001b[0m: \tmetrics: ['auroc', 'auprc', 'accuracy']\n",
      "\u001b[34m\u001b[1mwandb\u001b[0m: \tname: kmer_128\n",
      "\u001b[34m\u001b[1mwandb\u001b[0m: \toutdir: models/kmer_128\n",
      "\u001b[34m\u001b[1mwandb\u001b[0m: \tseed: 42\n",
      "\u001b[34m\u001b[1mwandb\u001b[0m: \ttarget: auroc\n",
      "\u001b[34m\u001b[1mwandb\u001b[0m: \ttask: mre\n",
      "\u001b[34m\u001b[1mwandb\u001b[0m: \twd: 1e-06\n",
      "\u001b[34m\u001b[1mwandb\u001b[0m: \tweighted: True\n",
      "Failed to detect the name of this notebook, you can set it manually with the WANDB_NOTEBOOK_NAME environment variable to enable code saving.\n",
      "\u001b[34m\u001b[1mwandb\u001b[0m: \u001b[33mWARNING\u001b[0m Ignored wandb.init() arg project when running a sweep.\n"
     ]
    },
    {
     "data": {
      "text/html": [
       "wandb version 0.21.0 is available!  To upgrade, please run:\n",
       " $ pip install wandb --upgrade"
      ],
      "text/plain": [
       "<IPython.core.display.HTML object>"
      ]
     },
     "metadata": {},
     "output_type": "display_data"
    },
    {
     "data": {
      "text/html": [
       "Tracking run with wandb version 0.15.4"
      ],
      "text/plain": [
       "<IPython.core.display.HTML object>"
      ]
     },
     "metadata": {},
     "output_type": "display_data"
    },
    {
     "data": {
      "text/html": [
       "Run data is saved locally in <code>/oscar/data/larschan/shared_data/bind_gps/seq_modeling/wandb/run-20250711_233133-tq8p7hn3</code>"
      ],
      "text/plain": [
       "<IPython.core.display.HTML object>"
      ]
     },
     "metadata": {},
     "output_type": "display_data"
    },
    {
     "data": {
      "text/html": [
       "Syncing run <strong><a href='https://wandb.ai/pranavmahabs/bind_gps/runs/tq8p7hn3' target=\"_blank\">kmer_128</a></strong> to <a href='https://wandb.ai/pranavmahabs/bind_gps' target=\"_blank\">Weights & Biases</a> (<a href='https://wandb.me/run' target=\"_blank\">docs</a>)<br/>Sweep page: <a href='https://wandb.ai/pranavmahabs/bind_gps/sweeps/ms3id6yy' target=\"_blank\">https://wandb.ai/pranavmahabs/bind_gps/sweeps/ms3id6yy</a>"
      ],
      "text/plain": [
       "<IPython.core.display.HTML object>"
      ]
     },
     "metadata": {},
     "output_type": "display_data"
    },
    {
     "data": {
      "text/html": [
       " View project at <a href='https://wandb.ai/pranavmahabs/bind_gps' target=\"_blank\">https://wandb.ai/pranavmahabs/bind_gps</a>"
      ],
      "text/plain": [
       "<IPython.core.display.HTML object>"
      ]
     },
     "metadata": {},
     "output_type": "display_data"
    },
    {
     "data": {
      "text/html": [
       " View sweep at <a href='https://wandb.ai/pranavmahabs/bind_gps/sweeps/ms3id6yy' target=\"_blank\">https://wandb.ai/pranavmahabs/bind_gps/sweeps/ms3id6yy</a>"
      ],
      "text/plain": [
       "<IPython.core.display.HTML object>"
      ]
     },
     "metadata": {},
     "output_type": "display_data"
    },
    {
     "data": {
      "text/html": [
       " View run at <a href='https://wandb.ai/pranavmahabs/bind_gps/runs/tq8p7hn3' target=\"_blank\">https://wandb.ai/pranavmahabs/bind_gps/runs/tq8p7hn3</a>"
      ],
      "text/plain": [
       "<IPython.core.display.HTML object>"
      ]
     },
     "metadata": {},
     "output_type": "display_data"
    },
    {
     "name": "stdout",
     "output_type": "stream",
     "text": [
      "Epoch 0:\n",
      "Train Metrics:\n",
      "\tLoss:1619.7319, Acc: 0.6640:\n",
      "finished evaluation\n",
      "['auroc', 'auprc', 'accuracy']\n",
      "Validation Metrics:\n",
      "\tLoss: 374.9735\n",
      "\tauroc: 0.8136\n",
      "\tauprc: 0.5282\n",
      "\taccuracy: 0.6254\n",
      "\tepoch: 0.0000\n",
      "Epoch 1:\n",
      "Train Metrics:\n",
      "\tLoss:1495.4299, Acc: 0.7329:\n",
      "finished evaluation\n",
      "['auroc', 'auprc', 'accuracy']\n",
      "Validation Metrics:\n",
      "\tLoss: 357.7283\n",
      "\tauroc: 0.8357\n",
      "\tauprc: 0.5586\n",
      "\taccuracy: 0.7678\n",
      "\tepoch: 1.0000\n",
      "Epoch 2:\n",
      "Train Metrics:\n",
      "\tLoss:1462.2365, Acc: 0.7503:\n",
      "finished evaluation\n",
      "['auroc', 'auprc', 'accuracy']\n",
      "Validation Metrics:\n",
      "\tLoss: 360.0183\n",
      "\tauroc: 0.8339\n",
      "\tauprc: 0.5516\n",
      "\taccuracy: 0.7226\n",
      "Epoch 3:\n",
      "Train Metrics:\n",
      "\tLoss:1447.3851, Acc: 0.7527:\n",
      "finished evaluation\n",
      "['auroc', 'auprc', 'accuracy']\n",
      "Validation Metrics:\n",
      "\tLoss: 352.5369\n",
      "\tauroc: 0.8454\n",
      "\tauprc: 0.5720\n",
      "\taccuracy: 0.7764\n",
      "\tepoch: 3.0000\n",
      "Epoch 4:\n",
      "Train Metrics:\n",
      "\tLoss:1424.3903, Acc: 0.7551:\n",
      "finished evaluation\n",
      "['auroc', 'auprc', 'accuracy']\n",
      "Validation Metrics:\n",
      "\tLoss: 353.6520\n",
      "\tauroc: 0.8483\n",
      "\tauprc: 0.5742\n",
      "\taccuracy: 0.7830\n",
      "\tepoch: 4.0000\n",
      "Epoch 5:\n",
      "Train Metrics:\n",
      "\tLoss:1414.5606, Acc: 0.7530:\n",
      "finished evaluation\n",
      "['auroc', 'auprc', 'accuracy']\n",
      "Validation Metrics:\n",
      "\tLoss: 353.3804\n",
      "\tauroc: 0.8510\n",
      "\tauprc: 0.5738\n",
      "\taccuracy: 0.7873\n",
      "\tepoch: 5.0000\n",
      "Epoch 6:\n",
      "Train Metrics:\n",
      "\tLoss:1402.0116, Acc: 0.7581:\n",
      "finished evaluation\n",
      "['auroc', 'auprc', 'accuracy']\n",
      "Validation Metrics:\n",
      "\tLoss: 346.7949\n",
      "\tauroc: 0.8501\n",
      "\tauprc: 0.5722\n",
      "\taccuracy: 0.7951\n",
      "Epoch 7:\n",
      "Train Metrics:\n",
      "\tLoss:1386.7590, Acc: 0.7597:\n",
      "finished evaluation\n",
      "['auroc', 'auprc', 'accuracy']\n",
      "Validation Metrics:\n",
      "\tLoss: 346.8442\n",
      "\tauroc: 0.8395\n",
      "\tauprc: 0.5557\n",
      "\taccuracy: 0.7342\n",
      "Epoch 8:\n",
      "Train Metrics:\n",
      "\tLoss:1383.3025, Acc: 0.7585:\n",
      "finished evaluation\n",
      "['auroc', 'auprc', 'accuracy']\n",
      "Validation Metrics:\n",
      "\tLoss: 344.4540\n",
      "\tauroc: 0.8458\n",
      "\tauprc: 0.5595\n",
      "\taccuracy: 0.7452\n",
      "Epoch 9:\n",
      "Train Metrics:\n",
      "\tLoss:1372.6393, Acc: 0.7615:\n",
      "finished evaluation\n",
      "['auroc', 'auprc', 'accuracy']\n",
      "Validation Metrics:\n",
      "\tLoss: 346.5415\n",
      "\tauroc: 0.8411\n",
      "\tauprc: 0.5488\n",
      "\taccuracy: 0.7513\n"
     ]
    },
    {
     "data": {
      "text/html": [
       "Waiting for W&B process to finish... <strong style=\"color:green\">(success).</strong>"
      ],
      "text/plain": [
       "<IPython.core.display.HTML object>"
      ]
     },
     "metadata": {},
     "output_type": "display_data"
    },
    {
     "data": {
      "application/vnd.jupyter.widget-view+json": {
       "model_id": "e2a9aff2b780451c82e64e4d9ca9551f",
       "version_major": 2,
       "version_minor": 0
      },
      "text/plain": [
       "VBox(children=(Label(value='0.008 MB of 0.008 MB uploaded (0.000 MB deduped)\\r'), FloatProgress(value=1.0, max…"
      ]
     },
     "metadata": {},
     "output_type": "display_data"
    },
    {
     "data": {
      "text/html": [
       "<style>\n",
       "    table.wandb td:nth-child(1) { padding: 0 10px; text-align: left ; width: auto;} td:nth-child(2) {text-align: left ; width: 100%}\n",
       "    .wandb-row { display: flex; flex-direction: row; flex-wrap: wrap; justify-content: flex-start; width: 100% }\n",
       "    .wandb-col { display: flex; flex-direction: column; flex-basis: 100%; flex: 1; padding: 10px; }\n",
       "    </style>\n",
       "<div class=\"wandb-row\"><div class=\"wandb-col\"><h3>Run history:</h3><br/><table class=\"wandb\"><tr><td>train_accuracy</td><td>▁▆▇▇█▇████</td></tr><tr><td>train_loss</td><td>█▄▄▃▂▂▂▁▁▁</td></tr><tr><td>val_accuracy</td><td>▁▇▅▇▇██▅▆▆</td></tr><tr><td>val_auprc</td><td>▁▆▅████▅▆▄</td></tr><tr><td>val_auroc</td><td>▁▅▅▇▇██▆▇▆</td></tr><tr><td>val_loss</td><td>█▄▅▃▃▃▂▂▁▁</td></tr></table><br/></div><div class=\"wandb-col\"><h3>Run summary:</h3><br/><table class=\"wandb\"><tr><td>train_accuracy</td><td>0.76149</td></tr><tr><td>train_loss</td><td>1372.63934</td></tr><tr><td>val_accuracy</td><td>0.7513</td></tr><tr><td>val_auprc</td><td>0.54876</td></tr><tr><td>val_auroc</td><td>0.84106</td></tr><tr><td>val_loss</td><td>346.54152</td></tr></table><br/></div></div>"
      ],
      "text/plain": [
       "<IPython.core.display.HTML object>"
      ]
     },
     "metadata": {},
     "output_type": "display_data"
    },
    {
     "data": {
      "text/html": [
       " View run <strong style=\"color:#cdcd00\">kmer_128</strong> at: <a href='https://wandb.ai/pranavmahabs/bind_gps/runs/tq8p7hn3' target=\"_blank\">https://wandb.ai/pranavmahabs/bind_gps/runs/tq8p7hn3</a><br/>Synced 5 W&B file(s), 0 media file(s), 0 artifact file(s) and 0 other file(s)"
      ],
      "text/plain": [
       "<IPython.core.display.HTML object>"
      ]
     },
     "metadata": {},
     "output_type": "display_data"
    },
    {
     "data": {
      "text/html": [
       "Find logs at: <code>./wandb/run-20250711_233133-tq8p7hn3/logs</code>"
      ],
      "text/plain": [
       "<IPython.core.display.HTML object>"
      ]
     },
     "metadata": {},
     "output_type": "display_data"
    },
    {
     "name": "stderr",
     "output_type": "stream",
     "text": [
      "\u001b[34m\u001b[1mwandb\u001b[0m: Agent Starting Run: vx8iyqwj with config:\n",
      "\u001b[34m\u001b[1mwandb\u001b[0m: \tepochs: 10\n",
      "\u001b[34m\u001b[1mwandb\u001b[0m: \thidden_dims: [128, 64]\n",
      "\u001b[34m\u001b[1mwandb\u001b[0m: \tlr: 0.001\n",
      "\u001b[34m\u001b[1mwandb\u001b[0m: \tmetrics: ['auroc', 'auprc', 'accuracy']\n",
      "\u001b[34m\u001b[1mwandb\u001b[0m: \tname: kmer_128\n",
      "\u001b[34m\u001b[1mwandb\u001b[0m: \toutdir: models/kmer_128\n",
      "\u001b[34m\u001b[1mwandb\u001b[0m: \tseed: 42\n",
      "\u001b[34m\u001b[1mwandb\u001b[0m: \ttarget: auroc\n",
      "\u001b[34m\u001b[1mwandb\u001b[0m: \ttask: mre\n",
      "\u001b[34m\u001b[1mwandb\u001b[0m: \twd: 1e-06\n",
      "\u001b[34m\u001b[1mwandb\u001b[0m: \tweighted: False\n",
      "Failed to detect the name of this notebook, you can set it manually with the WANDB_NOTEBOOK_NAME environment variable to enable code saving.\n",
      "\u001b[34m\u001b[1mwandb\u001b[0m: \u001b[33mWARNING\u001b[0m Ignored wandb.init() arg project when running a sweep.\n"
     ]
    },
    {
     "data": {
      "text/html": [
       "wandb version 0.21.0 is available!  To upgrade, please run:\n",
       " $ pip install wandb --upgrade"
      ],
      "text/plain": [
       "<IPython.core.display.HTML object>"
      ]
     },
     "metadata": {},
     "output_type": "display_data"
    },
    {
     "data": {
      "text/html": [
       "Tracking run with wandb version 0.15.4"
      ],
      "text/plain": [
       "<IPython.core.display.HTML object>"
      ]
     },
     "metadata": {},
     "output_type": "display_data"
    },
    {
     "data": {
      "text/html": [
       "Run data is saved locally in <code>/oscar/data/larschan/shared_data/bind_gps/seq_modeling/wandb/run-20250711_233224-vx8iyqwj</code>"
      ],
      "text/plain": [
       "<IPython.core.display.HTML object>"
      ]
     },
     "metadata": {},
     "output_type": "display_data"
    },
    {
     "data": {
      "text/html": [
       "Syncing run <strong><a href='https://wandb.ai/pranavmahabs/bind_gps/runs/vx8iyqwj' target=\"_blank\">kmer_128</a></strong> to <a href='https://wandb.ai/pranavmahabs/bind_gps' target=\"_blank\">Weights & Biases</a> (<a href='https://wandb.me/run' target=\"_blank\">docs</a>)<br/>Sweep page: <a href='https://wandb.ai/pranavmahabs/bind_gps/sweeps/ms3id6yy' target=\"_blank\">https://wandb.ai/pranavmahabs/bind_gps/sweeps/ms3id6yy</a>"
      ],
      "text/plain": [
       "<IPython.core.display.HTML object>"
      ]
     },
     "metadata": {},
     "output_type": "display_data"
    },
    {
     "data": {
      "text/html": [
       " View project at <a href='https://wandb.ai/pranavmahabs/bind_gps' target=\"_blank\">https://wandb.ai/pranavmahabs/bind_gps</a>"
      ],
      "text/plain": [
       "<IPython.core.display.HTML object>"
      ]
     },
     "metadata": {},
     "output_type": "display_data"
    },
    {
     "data": {
      "text/html": [
       " View sweep at <a href='https://wandb.ai/pranavmahabs/bind_gps/sweeps/ms3id6yy' target=\"_blank\">https://wandb.ai/pranavmahabs/bind_gps/sweeps/ms3id6yy</a>"
      ],
      "text/plain": [
       "<IPython.core.display.HTML object>"
      ]
     },
     "metadata": {},
     "output_type": "display_data"
    },
    {
     "data": {
      "text/html": [
       " View run at <a href='https://wandb.ai/pranavmahabs/bind_gps/runs/vx8iyqwj' target=\"_blank\">https://wandb.ai/pranavmahabs/bind_gps/runs/vx8iyqwj</a>"
      ],
      "text/plain": [
       "<IPython.core.display.HTML object>"
      ]
     },
     "metadata": {},
     "output_type": "display_data"
    },
    {
     "name": "stdout",
     "output_type": "stream",
     "text": [
      "Epoch 0:\n",
      "Train Metrics:\n",
      "\tLoss:744.1231, Acc: 0.8629:\n",
      "finished evaluation\n",
      "['auroc', 'auprc', 'accuracy']\n",
      "Validation Metrics:\n",
      "\tLoss: 159.0251\n",
      "\tauroc: 0.8422\n",
      "\tauprc: 0.5795\n",
      "\taccuracy: 0.8787\n",
      "\tepoch: 0.0000\n",
      "Epoch 1:\n",
      "Train Metrics:\n",
      "\tLoss:661.2547, Acc: 0.8752:\n",
      "finished evaluation\n",
      "['auroc', 'auprc', 'accuracy']\n",
      "Validation Metrics:\n",
      "\tLoss: 153.1773\n",
      "\tauroc: 0.8570\n",
      "\tauprc: 0.5950\n",
      "\taccuracy: 0.8813\n",
      "\tepoch: 1.0000\n",
      "Epoch 2:\n",
      "Train Metrics:\n",
      "\tLoss:643.4527, Acc: 0.8776:\n",
      "finished evaluation\n",
      "['auroc', 'auprc', 'accuracy']\n",
      "Validation Metrics:\n",
      "\tLoss: 155.5573\n",
      "\tauroc: 0.8584\n",
      "\tauprc: 0.5960\n",
      "\taccuracy: 0.8809\n",
      "\tepoch: 2.0000\n",
      "Epoch 3:\n",
      "Train Metrics:\n",
      "\tLoss:635.0619, Acc: 0.8777:\n",
      "finished evaluation\n",
      "['auroc', 'auprc', 'accuracy']\n",
      "Validation Metrics:\n",
      "\tLoss: 151.8601\n",
      "\tauroc: 0.8610\n",
      "\tauprc: 0.5960\n",
      "\taccuracy: 0.8821\n",
      "\tepoch: 3.0000\n",
      "Epoch 4:\n",
      "Train Metrics:\n",
      "\tLoss:630.0062, Acc: 0.8785:\n",
      "finished evaluation\n",
      "['auroc', 'auprc', 'accuracy']\n",
      "Validation Metrics:\n",
      "\tLoss: 151.4278\n",
      "\tauroc: 0.8633\n",
      "\tauprc: 0.5990\n",
      "\taccuracy: 0.8818\n",
      "\tepoch: 4.0000\n",
      "Epoch 5:\n",
      "Train Metrics:\n",
      "\tLoss:623.7574, Acc: 0.8793:\n",
      "finished evaluation\n",
      "['auroc', 'auprc', 'accuracy']\n",
      "Validation Metrics:\n",
      "\tLoss: 150.4711\n",
      "\tauroc: 0.8645\n",
      "\tauprc: 0.6018\n",
      "\taccuracy: 0.8829\n",
      "\tepoch: 5.0000\n",
      "Epoch 6:\n",
      "Train Metrics:\n",
      "\tLoss:620.3114, Acc: 0.8803:\n",
      "finished evaluation\n",
      "['auroc', 'auprc', 'accuracy']\n",
      "Validation Metrics:\n",
      "\tLoss: 150.3348\n",
      "\tauroc: 0.8654\n",
      "\tauprc: 0.6057\n",
      "\taccuracy: 0.8837\n",
      "\tepoch: 6.0000\n",
      "Epoch 7:\n",
      "Train Metrics:\n",
      "\tLoss:618.6583, Acc: 0.8798:\n",
      "finished evaluation\n",
      "['auroc', 'auprc', 'accuracy']\n",
      "Validation Metrics:\n",
      "\tLoss: 149.3851\n",
      "\tauroc: 0.8682\n",
      "\tauprc: 0.6094\n",
      "\taccuracy: 0.8844\n",
      "\tepoch: 7.0000\n",
      "Epoch 8:\n",
      "Train Metrics:\n",
      "\tLoss:613.7593, Acc: 0.8808:\n",
      "finished evaluation\n",
      "['auroc', 'auprc', 'accuracy']\n",
      "Validation Metrics:\n",
      "\tLoss: 149.7952\n",
      "\tauroc: 0.8710\n",
      "\tauprc: 0.6070\n",
      "\taccuracy: 0.8828\n",
      "\tepoch: 8.0000\n",
      "Epoch 9:\n",
      "Train Metrics:\n",
      "\tLoss:611.7569, Acc: 0.8803:\n",
      "finished evaluation\n",
      "['auroc', 'auprc', 'accuracy']\n",
      "Validation Metrics:\n",
      "\tLoss: 149.5327\n",
      "\tauroc: 0.8710\n",
      "\tauprc: 0.6077\n",
      "\taccuracy: 0.8831\n"
     ]
    },
    {
     "data": {
      "text/html": [
       "Waiting for W&B process to finish... <strong style=\"color:green\">(success).</strong>"
      ],
      "text/plain": [
       "<IPython.core.display.HTML object>"
      ]
     },
     "metadata": {},
     "output_type": "display_data"
    },
    {
     "data": {
      "application/vnd.jupyter.widget-view+json": {
       "model_id": "6735c32f0e8b4cb1a9ded69ba95bae1c",
       "version_major": 2,
       "version_minor": 0
      },
      "text/plain": [
       "VBox(children=(Label(value='0.008 MB of 0.008 MB uploaded (0.000 MB deduped)\\r'), FloatProgress(value=1.0, max…"
      ]
     },
     "metadata": {},
     "output_type": "display_data"
    },
    {
     "data": {
      "text/html": [
       "<style>\n",
       "    table.wandb td:nth-child(1) { padding: 0 10px; text-align: left ; width: auto;} td:nth-child(2) {text-align: left ; width: 100%}\n",
       "    .wandb-row { display: flex; flex-direction: row; flex-wrap: wrap; justify-content: flex-start; width: 100% }\n",
       "    .wandb-col { display: flex; flex-direction: column; flex-basis: 100%; flex: 1; padding: 10px; }\n",
       "    </style>\n",
       "<div class=\"wandb-row\"><div class=\"wandb-col\"><h3>Run history:</h3><br/><table class=\"wandb\"><tr><td>train_accuracy</td><td>▁▆▇▇▇▇████</td></tr><tr><td>train_loss</td><td>█▄▃▂▂▂▁▁▁▁</td></tr><tr><td>val_accuracy</td><td>▁▄▄▅▅▆▇█▆▆</td></tr><tr><td>val_auprc</td><td>▁▅▅▅▆▆▇█▇█</td></tr><tr><td>val_auroc</td><td>▁▅▅▆▆▆▇▇██</td></tr><tr><td>val_loss</td><td>█▄▅▃▂▂▂▁▁▁</td></tr></table><br/></div><div class=\"wandb-col\"><h3>Run summary:</h3><br/><table class=\"wandb\"><tr><td>train_accuracy</td><td>0.88028</td></tr><tr><td>train_loss</td><td>611.75694</td></tr><tr><td>val_accuracy</td><td>0.88312</td></tr><tr><td>val_auprc</td><td>0.60768</td></tr><tr><td>val_auroc</td><td>0.87097</td></tr><tr><td>val_loss</td><td>149.53266</td></tr></table><br/></div></div>"
      ],
      "text/plain": [
       "<IPython.core.display.HTML object>"
      ]
     },
     "metadata": {},
     "output_type": "display_data"
    },
    {
     "data": {
      "text/html": [
       " View run <strong style=\"color:#cdcd00\">kmer_128</strong> at: <a href='https://wandb.ai/pranavmahabs/bind_gps/runs/vx8iyqwj' target=\"_blank\">https://wandb.ai/pranavmahabs/bind_gps/runs/vx8iyqwj</a><br/>Synced 5 W&B file(s), 0 media file(s), 0 artifact file(s) and 0 other file(s)"
      ],
      "text/plain": [
       "<IPython.core.display.HTML object>"
      ]
     },
     "metadata": {},
     "output_type": "display_data"
    },
    {
     "data": {
      "text/html": [
       "Find logs at: <code>./wandb/run-20250711_233224-vx8iyqwj/logs</code>"
      ],
      "text/plain": [
       "<IPython.core.display.HTML object>"
      ]
     },
     "metadata": {},
     "output_type": "display_data"
    },
    {
     "name": "stderr",
     "output_type": "stream",
     "text": [
      "\u001b[34m\u001b[1mwandb\u001b[0m: Agent Starting Run: y1lpt1uy with config:\n",
      "\u001b[34m\u001b[1mwandb\u001b[0m: \tepochs: 10\n",
      "\u001b[34m\u001b[1mwandb\u001b[0m: \thidden_dims: [128, 64]\n",
      "\u001b[34m\u001b[1mwandb\u001b[0m: \tlr: 0.001\n",
      "\u001b[34m\u001b[1mwandb\u001b[0m: \tmetrics: ['auroc', 'auprc', 'accuracy']\n",
      "\u001b[34m\u001b[1mwandb\u001b[0m: \tname: kmer_128\n",
      "\u001b[34m\u001b[1mwandb\u001b[0m: \toutdir: models/kmer_128\n",
      "\u001b[34m\u001b[1mwandb\u001b[0m: \tseed: 42\n",
      "\u001b[34m\u001b[1mwandb\u001b[0m: \ttarget: auroc\n",
      "\u001b[34m\u001b[1mwandb\u001b[0m: \ttask: gene\n",
      "\u001b[34m\u001b[1mwandb\u001b[0m: \twd: 1e-05\n",
      "\u001b[34m\u001b[1mwandb\u001b[0m: \tweighted: True\n",
      "Failed to detect the name of this notebook, you can set it manually with the WANDB_NOTEBOOK_NAME environment variable to enable code saving.\n",
      "\u001b[34m\u001b[1mwandb\u001b[0m: \u001b[33mWARNING\u001b[0m Ignored wandb.init() arg project when running a sweep.\n"
     ]
    },
    {
     "data": {
      "text/html": [
       "wandb version 0.21.0 is available!  To upgrade, please run:\n",
       " $ pip install wandb --upgrade"
      ],
      "text/plain": [
       "<IPython.core.display.HTML object>"
      ]
     },
     "metadata": {},
     "output_type": "display_data"
    },
    {
     "data": {
      "text/html": [
       "Tracking run with wandb version 0.15.4"
      ],
      "text/plain": [
       "<IPython.core.display.HTML object>"
      ]
     },
     "metadata": {},
     "output_type": "display_data"
    },
    {
     "data": {
      "text/html": [
       "Run data is saved locally in <code>/oscar/data/larschan/shared_data/bind_gps/seq_modeling/wandb/run-20250711_233319-y1lpt1uy</code>"
      ],
      "text/plain": [
       "<IPython.core.display.HTML object>"
      ]
     },
     "metadata": {},
     "output_type": "display_data"
    },
    {
     "data": {
      "text/html": [
       "Syncing run <strong><a href='https://wandb.ai/pranavmahabs/bind_gps/runs/y1lpt1uy' target=\"_blank\">kmer_128</a></strong> to <a href='https://wandb.ai/pranavmahabs/bind_gps' target=\"_blank\">Weights & Biases</a> (<a href='https://wandb.me/run' target=\"_blank\">docs</a>)<br/>Sweep page: <a href='https://wandb.ai/pranavmahabs/bind_gps/sweeps/ms3id6yy' target=\"_blank\">https://wandb.ai/pranavmahabs/bind_gps/sweeps/ms3id6yy</a>"
      ],
      "text/plain": [
       "<IPython.core.display.HTML object>"
      ]
     },
     "metadata": {},
     "output_type": "display_data"
    },
    {
     "data": {
      "text/html": [
       " View project at <a href='https://wandb.ai/pranavmahabs/bind_gps' target=\"_blank\">https://wandb.ai/pranavmahabs/bind_gps</a>"
      ],
      "text/plain": [
       "<IPython.core.display.HTML object>"
      ]
     },
     "metadata": {},
     "output_type": "display_data"
    },
    {
     "data": {
      "text/html": [
       " View sweep at <a href='https://wandb.ai/pranavmahabs/bind_gps/sweeps/ms3id6yy' target=\"_blank\">https://wandb.ai/pranavmahabs/bind_gps/sweeps/ms3id6yy</a>"
      ],
      "text/plain": [
       "<IPython.core.display.HTML object>"
      ]
     },
     "metadata": {},
     "output_type": "display_data"
    },
    {
     "data": {
      "text/html": [
       " View run at <a href='https://wandb.ai/pranavmahabs/bind_gps/runs/y1lpt1uy' target=\"_blank\">https://wandb.ai/pranavmahabs/bind_gps/runs/y1lpt1uy</a>"
      ],
      "text/plain": [
       "<IPython.core.display.HTML object>"
      ]
     },
     "metadata": {},
     "output_type": "display_data"
    },
    {
     "name": "stdout",
     "output_type": "stream",
     "text": [
      "Epoch 0:\n",
      "Train Metrics:\n",
      "\tLoss:1736.4128, Acc: 0.4932:\n",
      "finished evaluation\n",
      "['auroc', 'auprc', 'accuracy']\n",
      "Validation Metrics:\n",
      "\tLoss: 426.2007\n",
      "\tauroc: 0.7000\n",
      "\tauprc: 0.4940\n",
      "\taccuracy: 0.4724\n",
      "\tepoch: 0.0000\n",
      "Epoch 1:\n",
      "Train Metrics:\n",
      "\tLoss:1691.2406, Acc: 0.5232:\n",
      "finished evaluation\n",
      "['auroc', 'auprc', 'accuracy']\n",
      "Validation Metrics:\n",
      "\tLoss: 420.1647\n",
      "\tauroc: 0.7083\n",
      "\tauprc: 0.5031\n",
      "\taccuracy: 0.4973\n",
      "\tepoch: 1.0000\n",
      "Epoch 2:\n",
      "Train Metrics:\n",
      "\tLoss:1675.7634, Acc: 0.5323:\n",
      "finished evaluation\n",
      "['auroc', 'auprc', 'accuracy']\n",
      "Validation Metrics:\n",
      "\tLoss: 419.9615\n",
      "\tauroc: 0.7116\n",
      "\tauprc: 0.5081\n",
      "\taccuracy: 0.5091\n",
      "\tepoch: 2.0000\n",
      "Epoch 3:\n",
      "Train Metrics:\n",
      "\tLoss:1665.7430, Acc: 0.5380:\n",
      "finished evaluation\n",
      "['auroc', 'auprc', 'accuracy']\n",
      "Validation Metrics:\n",
      "\tLoss: 414.7527\n",
      "\tauroc: 0.7148\n",
      "\tauprc: 0.5121\n",
      "\taccuracy: 0.5405\n",
      "\tepoch: 3.0000\n",
      "Epoch 4:\n",
      "Train Metrics:\n",
      "\tLoss:1658.7345, Acc: 0.5424:\n",
      "finished evaluation\n",
      "['auroc', 'auprc', 'accuracy']\n",
      "Validation Metrics:\n",
      "\tLoss: 416.9150\n",
      "\tauroc: 0.7168\n",
      "\tauprc: 0.5130\n",
      "\taccuracy: 0.5438\n",
      "\tepoch: 4.0000\n",
      "Epoch 5:\n",
      "Train Metrics:\n",
      "\tLoss:1656.2990, Acc: 0.5441:\n",
      "finished evaluation\n",
      "['auroc', 'auprc', 'accuracy']\n",
      "Validation Metrics:\n",
      "\tLoss: 416.0357\n",
      "\tauroc: 0.7179\n",
      "\tauprc: 0.5133\n",
      "\taccuracy: 0.5332\n",
      "\tepoch: 5.0000\n",
      "Epoch 6:\n",
      "Train Metrics:\n",
      "\tLoss:1648.0866, Acc: 0.5470:\n",
      "finished evaluation\n",
      "['auroc', 'auprc', 'accuracy']\n",
      "Validation Metrics:\n",
      "\tLoss: 414.0809\n",
      "\tauroc: 0.7178\n",
      "\tauprc: 0.5155\n",
      "\taccuracy: 0.5505\n",
      "Epoch 7:\n",
      "Train Metrics:\n",
      "\tLoss:1644.4240, Acc: 0.5455:\n",
      "finished evaluation\n",
      "['auroc', 'auprc', 'accuracy']\n",
      "Validation Metrics:\n",
      "\tLoss: 412.6077\n",
      "\tauroc: 0.7205\n",
      "\tauprc: 0.5189\n",
      "\taccuracy: 0.5529\n",
      "\tepoch: 7.0000\n",
      "Epoch 8:\n",
      "Train Metrics:\n",
      "\tLoss:1639.6412, Acc: 0.5493:\n",
      "finished evaluation\n",
      "['auroc', 'auprc', 'accuracy']\n",
      "Validation Metrics:\n",
      "\tLoss: 412.6505\n",
      "\tauroc: 0.7193\n",
      "\tauprc: 0.5152\n",
      "\taccuracy: 0.5320\n",
      "Epoch 9:\n",
      "Train Metrics:\n",
      "\tLoss:1634.5467, Acc: 0.5524:\n",
      "finished evaluation\n",
      "['auroc', 'auprc', 'accuracy']\n",
      "Validation Metrics:\n",
      "\tLoss: 413.1616\n",
      "\tauroc: 0.7167\n",
      "\tauprc: 0.5127\n",
      "\taccuracy: 0.5136\n"
     ]
    },
    {
     "data": {
      "text/html": [
       "Waiting for W&B process to finish... <strong style=\"color:green\">(success).</strong>"
      ],
      "text/plain": [
       "<IPython.core.display.HTML object>"
      ]
     },
     "metadata": {},
     "output_type": "display_data"
    },
    {
     "data": {
      "application/vnd.jupyter.widget-view+json": {
       "model_id": "21acee4d3d9f40aab0becf410097e31e",
       "version_major": 2,
       "version_minor": 0
      },
      "text/plain": [
       "VBox(children=(Label(value='0.008 MB of 0.008 MB uploaded (0.000 MB deduped)\\r'), FloatProgress(value=1.0, max…"
      ]
     },
     "metadata": {},
     "output_type": "display_data"
    },
    {
     "data": {
      "text/html": [
       "<style>\n",
       "    table.wandb td:nth-child(1) { padding: 0 10px; text-align: left ; width: auto;} td:nth-child(2) {text-align: left ; width: 100%}\n",
       "    .wandb-row { display: flex; flex-direction: row; flex-wrap: wrap; justify-content: flex-start; width: 100% }\n",
       "    .wandb-col { display: flex; flex-direction: column; flex-basis: 100%; flex: 1; padding: 10px; }\n",
       "    </style>\n",
       "<div class=\"wandb-row\"><div class=\"wandb-col\"><h3>Run history:</h3><br/><table class=\"wandb\"><tr><td>train_accuracy</td><td>▁▅▆▆▇▇▇▇██</td></tr><tr><td>train_loss</td><td>█▅▄▃▃▂▂▂▁▁</td></tr><tr><td>val_accuracy</td><td>▁▃▄▇▇▆██▆▅</td></tr><tr><td>val_auprc</td><td>▁▄▅▆▆▆▇█▇▆</td></tr><tr><td>val_auroc</td><td>▁▄▅▆▇▇▇██▇</td></tr><tr><td>val_loss</td><td>█▅▅▂▃▃▂▁▁▁</td></tr></table><br/></div><div class=\"wandb-col\"><h3>Run summary:</h3><br/><table class=\"wandb\"><tr><td>train_accuracy</td><td>0.55239</td></tr><tr><td>train_loss</td><td>1634.54671</td></tr><tr><td>val_accuracy</td><td>0.51361</td></tr><tr><td>val_auprc</td><td>0.51271</td></tr><tr><td>val_auroc</td><td>0.71671</td></tr><tr><td>val_loss</td><td>413.16159</td></tr></table><br/></div></div>"
      ],
      "text/plain": [
       "<IPython.core.display.HTML object>"
      ]
     },
     "metadata": {},
     "output_type": "display_data"
    },
    {
     "data": {
      "text/html": [
       " View run <strong style=\"color:#cdcd00\">kmer_128</strong> at: <a href='https://wandb.ai/pranavmahabs/bind_gps/runs/y1lpt1uy' target=\"_blank\">https://wandb.ai/pranavmahabs/bind_gps/runs/y1lpt1uy</a><br/>Synced 5 W&B file(s), 0 media file(s), 0 artifact file(s) and 0 other file(s)"
      ],
      "text/plain": [
       "<IPython.core.display.HTML object>"
      ]
     },
     "metadata": {},
     "output_type": "display_data"
    },
    {
     "data": {
      "text/html": [
       "Find logs at: <code>./wandb/run-20250711_233319-y1lpt1uy/logs</code>"
      ],
      "text/plain": [
       "<IPython.core.display.HTML object>"
      ]
     },
     "metadata": {},
     "output_type": "display_data"
    },
    {
     "name": "stderr",
     "output_type": "stream",
     "text": [
      "\u001b[34m\u001b[1mwandb\u001b[0m: Agent Starting Run: bazkzn1p with config:\n",
      "\u001b[34m\u001b[1mwandb\u001b[0m: \tepochs: 10\n",
      "\u001b[34m\u001b[1mwandb\u001b[0m: \thidden_dims: [128, 64]\n",
      "\u001b[34m\u001b[1mwandb\u001b[0m: \tlr: 0.001\n",
      "\u001b[34m\u001b[1mwandb\u001b[0m: \tmetrics: ['auroc', 'auprc', 'accuracy']\n",
      "\u001b[34m\u001b[1mwandb\u001b[0m: \tname: kmer_128\n",
      "\u001b[34m\u001b[1mwandb\u001b[0m: \toutdir: models/kmer_128\n",
      "\u001b[34m\u001b[1mwandb\u001b[0m: \tseed: 42\n",
      "\u001b[34m\u001b[1mwandb\u001b[0m: \ttarget: auroc\n",
      "\u001b[34m\u001b[1mwandb\u001b[0m: \ttask: gene\n",
      "\u001b[34m\u001b[1mwandb\u001b[0m: \twd: 1e-05\n",
      "\u001b[34m\u001b[1mwandb\u001b[0m: \tweighted: False\n",
      "Failed to detect the name of this notebook, you can set it manually with the WANDB_NOTEBOOK_NAME environment variable to enable code saving.\n",
      "\u001b[34m\u001b[1mwandb\u001b[0m: \u001b[33mWARNING\u001b[0m Ignored wandb.init() arg project when running a sweep.\n"
     ]
    },
    {
     "data": {
      "text/html": [
       "wandb version 0.21.0 is available!  To upgrade, please run:\n",
       " $ pip install wandb --upgrade"
      ],
      "text/plain": [
       "<IPython.core.display.HTML object>"
      ]
     },
     "metadata": {},
     "output_type": "display_data"
    },
    {
     "data": {
      "text/html": [
       "Tracking run with wandb version 0.15.4"
      ],
      "text/plain": [
       "<IPython.core.display.HTML object>"
      ]
     },
     "metadata": {},
     "output_type": "display_data"
    },
    {
     "data": {
      "text/html": [
       "Run data is saved locally in <code>/oscar/data/larschan/shared_data/bind_gps/seq_modeling/wandb/run-20250711_233411-bazkzn1p</code>"
      ],
      "text/plain": [
       "<IPython.core.display.HTML object>"
      ]
     },
     "metadata": {},
     "output_type": "display_data"
    },
    {
     "data": {
      "text/html": [
       "Syncing run <strong><a href='https://wandb.ai/pranavmahabs/bind_gps/runs/bazkzn1p' target=\"_blank\">kmer_128</a></strong> to <a href='https://wandb.ai/pranavmahabs/bind_gps' target=\"_blank\">Weights & Biases</a> (<a href='https://wandb.me/run' target=\"_blank\">docs</a>)<br/>Sweep page: <a href='https://wandb.ai/pranavmahabs/bind_gps/sweeps/ms3id6yy' target=\"_blank\">https://wandb.ai/pranavmahabs/bind_gps/sweeps/ms3id6yy</a>"
      ],
      "text/plain": [
       "<IPython.core.display.HTML object>"
      ]
     },
     "metadata": {},
     "output_type": "display_data"
    },
    {
     "data": {
      "text/html": [
       " View project at <a href='https://wandb.ai/pranavmahabs/bind_gps' target=\"_blank\">https://wandb.ai/pranavmahabs/bind_gps</a>"
      ],
      "text/plain": [
       "<IPython.core.display.HTML object>"
      ]
     },
     "metadata": {},
     "output_type": "display_data"
    },
    {
     "data": {
      "text/html": [
       " View sweep at <a href='https://wandb.ai/pranavmahabs/bind_gps/sweeps/ms3id6yy' target=\"_blank\">https://wandb.ai/pranavmahabs/bind_gps/sweeps/ms3id6yy</a>"
      ],
      "text/plain": [
       "<IPython.core.display.HTML object>"
      ]
     },
     "metadata": {},
     "output_type": "display_data"
    },
    {
     "data": {
      "text/html": [
       " View run at <a href='https://wandb.ai/pranavmahabs/bind_gps/runs/bazkzn1p' target=\"_blank\">https://wandb.ai/pranavmahabs/bind_gps/runs/bazkzn1p</a>"
      ],
      "text/plain": [
       "<IPython.core.display.HTML object>"
      ]
     },
     "metadata": {},
     "output_type": "display_data"
    },
    {
     "name": "stdout",
     "output_type": "stream",
     "text": [
      "Epoch 0:\n",
      "Train Metrics:\n",
      "\tLoss:1463.0252, Acc: 0.6063:\n",
      "finished evaluation\n",
      "['auroc', 'auprc', 'accuracy']\n",
      "Validation Metrics:\n",
      "\tLoss: 354.2038\n",
      "\tauroc: 0.7129\n",
      "\tauprc: 0.5063\n",
      "\taccuracy: 0.6271\n",
      "\tepoch: 0.0000\n",
      "Epoch 1:\n",
      "Train Metrics:\n",
      "\tLoss:1414.0356, Acc: 0.6230:\n",
      "finished evaluation\n",
      "['auroc', 'auprc', 'accuracy']\n",
      "Validation Metrics:\n",
      "\tLoss: 350.0138\n",
      "\tauroc: 0.7194\n",
      "\tauprc: 0.5136\n",
      "\taccuracy: 0.6333\n",
      "\tepoch: 1.0000\n",
      "Epoch 2:\n",
      "Train Metrics:\n",
      "\tLoss:1399.3363, Acc: 0.6252:\n",
      "finished evaluation\n",
      "['auroc', 'auprc', 'accuracy']\n",
      "Validation Metrics:\n",
      "\tLoss: 346.1013\n",
      "\tauroc: 0.7221\n",
      "\tauprc: 0.5137\n",
      "\taccuracy: 0.6359\n",
      "\tepoch: 2.0000\n",
      "Epoch 3:\n",
      "Train Metrics:\n",
      "\tLoss:1393.4683, Acc: 0.6291:\n",
      "finished evaluation\n",
      "['auroc', 'auprc', 'accuracy']\n",
      "Validation Metrics:\n",
      "\tLoss: 347.0383\n",
      "\tauroc: 0.7263\n",
      "\tauprc: 0.5212\n",
      "\taccuracy: 0.6399\n",
      "\tepoch: 3.0000\n",
      "Epoch 4:\n",
      "Train Metrics:\n",
      "\tLoss:1387.5972, Acc: 0.6301:\n",
      "finished evaluation\n",
      "['auroc', 'auprc', 'accuracy']\n",
      "Validation Metrics:\n",
      "\tLoss: 342.5479\n",
      "\tauroc: 0.7310\n",
      "\tauprc: 0.5254\n",
      "\taccuracy: 0.6413\n",
      "\tepoch: 4.0000\n",
      "Epoch 5:\n",
      "Train Metrics:\n",
      "\tLoss:1382.9874, Acc: 0.6347:\n",
      "finished evaluation\n",
      "['auroc', 'auprc', 'accuracy']\n",
      "Validation Metrics:\n",
      "\tLoss: 342.1170\n",
      "\tauroc: 0.7316\n",
      "\tauprc: 0.5266\n",
      "\taccuracy: 0.6410\n",
      "\tepoch: 5.0000\n",
      "Epoch 6:\n",
      "Train Metrics:\n",
      "\tLoss:1376.5025, Acc: 0.6354:\n",
      "finished evaluation\n",
      "['auroc', 'auprc', 'accuracy']\n",
      "Validation Metrics:\n",
      "\tLoss: 343.9635\n",
      "\tauroc: 0.7307\n",
      "\tauprc: 0.5260\n",
      "\taccuracy: 0.6412\n",
      "Epoch 7:\n",
      "Train Metrics:\n",
      "\tLoss:1375.0373, Acc: 0.6349:\n",
      "finished evaluation\n",
      "['auroc', 'auprc', 'accuracy']\n",
      "Validation Metrics:\n",
      "\tLoss: 341.6573\n",
      "\tauroc: 0.7335\n",
      "\tauprc: 0.5298\n",
      "\taccuracy: 0.6445\n",
      "\tepoch: 7.0000\n",
      "Epoch 8:\n",
      "Train Metrics:\n",
      "\tLoss:1371.1054, Acc: 0.6370:\n",
      "finished evaluation\n",
      "['auroc', 'auprc', 'accuracy']\n",
      "Validation Metrics:\n",
      "\tLoss: 343.9258\n",
      "\tauroc: 0.7311\n",
      "\tauprc: 0.5290\n",
      "\taccuracy: 0.6388\n",
      "Epoch 9:\n",
      "Train Metrics:\n",
      "\tLoss:1368.1960, Acc: 0.6385:\n",
      "finished evaluation\n",
      "['auroc', 'auprc', 'accuracy']\n",
      "Validation Metrics:\n",
      "\tLoss: 340.5829\n",
      "\tauroc: 0.7349\n",
      "\tauprc: 0.5316\n",
      "\taccuracy: 0.6449\n",
      "\tepoch: 9.0000\n"
     ]
    },
    {
     "data": {
      "text/html": [
       "Waiting for W&B process to finish... <strong style=\"color:green\">(success).</strong>"
      ],
      "text/plain": [
       "<IPython.core.display.HTML object>"
      ]
     },
     "metadata": {},
     "output_type": "display_data"
    },
    {
     "data": {
      "text/html": [
       "<style>\n",
       "    table.wandb td:nth-child(1) { padding: 0 10px; text-align: left ; width: auto;} td:nth-child(2) {text-align: left ; width: 100%}\n",
       "    .wandb-row { display: flex; flex-direction: row; flex-wrap: wrap; justify-content: flex-start; width: 100% }\n",
       "    .wandb-col { display: flex; flex-direction: column; flex-basis: 100%; flex: 1; padding: 10px; }\n",
       "    </style>\n",
       "<div class=\"wandb-row\"><div class=\"wandb-col\"><h3>Run history:</h3><br/><table class=\"wandb\"><tr><td>train_accuracy</td><td>▁▅▅▆▆▇▇▇██</td></tr><tr><td>train_loss</td><td>█▄▃▃▂▂▂▂▁▁</td></tr><tr><td>val_accuracy</td><td>▁▃▄▆▇▆▇█▆█</td></tr><tr><td>val_auprc</td><td>▁▃▃▅▆▇▆█▇█</td></tr><tr><td>val_auroc</td><td>▁▃▄▅▇▇▇█▇█</td></tr><tr><td>val_loss</td><td>█▆▄▄▂▂▃▂▃▁</td></tr></table><br/></div><div class=\"wandb-col\"><h3>Run summary:</h3><br/><table class=\"wandb\"><tr><td>train_accuracy</td><td>0.63847</td></tr><tr><td>train_loss</td><td>1368.19598</td></tr><tr><td>val_accuracy</td><td>0.64488</td></tr><tr><td>val_auprc</td><td>0.53157</td></tr><tr><td>val_auroc</td><td>0.73493</td></tr><tr><td>val_loss</td><td>340.58293</td></tr></table><br/></div></div>"
      ],
      "text/plain": [
       "<IPython.core.display.HTML object>"
      ]
     },
     "metadata": {},
     "output_type": "display_data"
    },
    {
     "data": {
      "text/html": [
       " View run <strong style=\"color:#cdcd00\">kmer_128</strong> at: <a href='https://wandb.ai/pranavmahabs/bind_gps/runs/bazkzn1p' target=\"_blank\">https://wandb.ai/pranavmahabs/bind_gps/runs/bazkzn1p</a><br/>Synced 5 W&B file(s), 0 media file(s), 0 artifact file(s) and 0 other file(s)"
      ],
      "text/plain": [
       "<IPython.core.display.HTML object>"
      ]
     },
     "metadata": {},
     "output_type": "display_data"
    },
    {
     "data": {
      "text/html": [
       "Find logs at: <code>./wandb/run-20250711_233411-bazkzn1p/logs</code>"
      ],
      "text/plain": [
       "<IPython.core.display.HTML object>"
      ]
     },
     "metadata": {},
     "output_type": "display_data"
    },
    {
     "name": "stderr",
     "output_type": "stream",
     "text": [
      "\u001b[34m\u001b[1mwandb\u001b[0m: Agent Starting Run: 3wla8sry with config:\n",
      "\u001b[34m\u001b[1mwandb\u001b[0m: \tepochs: 10\n",
      "\u001b[34m\u001b[1mwandb\u001b[0m: \thidden_dims: [128, 64]\n",
      "\u001b[34m\u001b[1mwandb\u001b[0m: \tlr: 0.001\n",
      "\u001b[34m\u001b[1mwandb\u001b[0m: \tmetrics: ['auroc', 'auprc', 'accuracy']\n",
      "\u001b[34m\u001b[1mwandb\u001b[0m: \tname: kmer_128\n",
      "\u001b[34m\u001b[1mwandb\u001b[0m: \toutdir: models/kmer_128\n",
      "\u001b[34m\u001b[1mwandb\u001b[0m: \tseed: 42\n",
      "\u001b[34m\u001b[1mwandb\u001b[0m: \ttarget: auroc\n",
      "\u001b[34m\u001b[1mwandb\u001b[0m: \ttask: gene\n",
      "\u001b[34m\u001b[1mwandb\u001b[0m: \twd: 1e-06\n",
      "\u001b[34m\u001b[1mwandb\u001b[0m: \tweighted: True\n",
      "Failed to detect the name of this notebook, you can set it manually with the WANDB_NOTEBOOK_NAME environment variable to enable code saving.\n",
      "\u001b[34m\u001b[1mwandb\u001b[0m: \u001b[33mWARNING\u001b[0m Ignored wandb.init() arg project when running a sweep.\n"
     ]
    },
    {
     "data": {
      "text/html": [
       "wandb version 0.21.0 is available!  To upgrade, please run:\n",
       " $ pip install wandb --upgrade"
      ],
      "text/plain": [
       "<IPython.core.display.HTML object>"
      ]
     },
     "metadata": {},
     "output_type": "display_data"
    },
    {
     "data": {
      "text/html": [
       "Tracking run with wandb version 0.15.4"
      ],
      "text/plain": [
       "<IPython.core.display.HTML object>"
      ]
     },
     "metadata": {},
     "output_type": "display_data"
    },
    {
     "data": {
      "text/html": [
       "Run data is saved locally in <code>/oscar/data/larschan/shared_data/bind_gps/seq_modeling/wandb/run-20250711_233506-3wla8sry</code>"
      ],
      "text/plain": [
       "<IPython.core.display.HTML object>"
      ]
     },
     "metadata": {},
     "output_type": "display_data"
    },
    {
     "data": {
      "text/html": [
       "Syncing run <strong><a href='https://wandb.ai/pranavmahabs/bind_gps/runs/3wla8sry' target=\"_blank\">kmer_128</a></strong> to <a href='https://wandb.ai/pranavmahabs/bind_gps' target=\"_blank\">Weights & Biases</a> (<a href='https://wandb.me/run' target=\"_blank\">docs</a>)<br/>Sweep page: <a href='https://wandb.ai/pranavmahabs/bind_gps/sweeps/ms3id6yy' target=\"_blank\">https://wandb.ai/pranavmahabs/bind_gps/sweeps/ms3id6yy</a>"
      ],
      "text/plain": [
       "<IPython.core.display.HTML object>"
      ]
     },
     "metadata": {},
     "output_type": "display_data"
    },
    {
     "data": {
      "text/html": [
       " View project at <a href='https://wandb.ai/pranavmahabs/bind_gps' target=\"_blank\">https://wandb.ai/pranavmahabs/bind_gps</a>"
      ],
      "text/plain": [
       "<IPython.core.display.HTML object>"
      ]
     },
     "metadata": {},
     "output_type": "display_data"
    },
    {
     "data": {
      "text/html": [
       " View sweep at <a href='https://wandb.ai/pranavmahabs/bind_gps/sweeps/ms3id6yy' target=\"_blank\">https://wandb.ai/pranavmahabs/bind_gps/sweeps/ms3id6yy</a>"
      ],
      "text/plain": [
       "<IPython.core.display.HTML object>"
      ]
     },
     "metadata": {},
     "output_type": "display_data"
    },
    {
     "data": {
      "text/html": [
       " View run at <a href='https://wandb.ai/pranavmahabs/bind_gps/runs/3wla8sry' target=\"_blank\">https://wandb.ai/pranavmahabs/bind_gps/runs/3wla8sry</a>"
      ],
      "text/plain": [
       "<IPython.core.display.HTML object>"
      ]
     },
     "metadata": {},
     "output_type": "display_data"
    },
    {
     "name": "stdout",
     "output_type": "stream",
     "text": [
      "Epoch 0:\n",
      "Train Metrics:\n",
      "\tLoss:1734.5710, Acc: 0.5014:\n",
      "finished evaluation\n",
      "['auroc', 'auprc', 'accuracy']\n",
      "Validation Metrics:\n",
      "\tLoss: 424.5590\n",
      "\tauroc: 0.6990\n",
      "\tauprc: 0.4969\n",
      "\taccuracy: 0.4846\n",
      "\tepoch: 0.0000\n",
      "Epoch 1:\n",
      "Train Metrics:\n",
      "\tLoss:1688.6282, Acc: 0.5294:\n",
      "finished evaluation\n",
      "['auroc', 'auprc', 'accuracy']\n",
      "Validation Metrics:\n",
      "\tLoss: 420.2741\n",
      "\tauroc: 0.7056\n",
      "\tauprc: 0.5038\n",
      "\taccuracy: 0.5149\n",
      "\tepoch: 1.0000\n",
      "Epoch 2:\n",
      "Train Metrics:\n",
      "\tLoss:1672.8614, Acc: 0.5358:\n",
      "finished evaluation\n",
      "['auroc', 'auprc', 'accuracy']\n",
      "Validation Metrics:\n",
      "\tLoss: 423.2323\n",
      "\tauroc: 0.7026\n",
      "\tauprc: 0.4987\n",
      "\taccuracy: 0.4650\n",
      "Epoch 3:\n",
      "Train Metrics:\n",
      "\tLoss:1664.7526, Acc: 0.5429:\n",
      "finished evaluation\n",
      "['auroc', 'auprc', 'accuracy']\n",
      "Validation Metrics:\n",
      "\tLoss: 419.5306\n",
      "\tauroc: 0.7163\n",
      "\tauprc: 0.5137\n",
      "\taccuracy: 0.5269\n",
      "\tepoch: 3.0000\n",
      "Epoch 4:\n",
      "Train Metrics:\n",
      "\tLoss:1657.7833, Acc: 0.5430:\n",
      "finished evaluation\n",
      "['auroc', 'auprc', 'accuracy']\n",
      "Validation Metrics:\n",
      "\tLoss: 418.0221\n",
      "\tauroc: 0.7125\n",
      "\tauprc: 0.5097\n",
      "\taccuracy: 0.5195\n",
      "Epoch 5:\n",
      "Train Metrics:\n",
      "\tLoss:1652.3992, Acc: 0.5462:\n",
      "finished evaluation\n",
      "['auroc', 'auprc', 'accuracy']\n",
      "Validation Metrics:\n",
      "\tLoss: 417.3807\n",
      "\tauroc: 0.7155\n",
      "\tauprc: 0.5100\n",
      "\taccuracy: 0.5186\n",
      "Epoch 6:\n",
      "Train Metrics:\n",
      "\tLoss:1646.2367, Acc: 0.5497:\n",
      "finished evaluation\n",
      "['auroc', 'auprc', 'accuracy']\n",
      "Validation Metrics:\n",
      "\tLoss: 414.6961\n",
      "\tauroc: 0.7177\n",
      "\tauprc: 0.5156\n",
      "\taccuracy: 0.5284\n",
      "\tepoch: 6.0000\n",
      "Epoch 7:\n",
      "Train Metrics:\n",
      "\tLoss:1641.8517, Acc: 0.5502:\n",
      "finished evaluation\n",
      "['auroc', 'auprc', 'accuracy']\n",
      "Validation Metrics:\n",
      "\tLoss: 413.4574\n",
      "\tauroc: 0.7191\n",
      "\tauprc: 0.5154\n",
      "\taccuracy: 0.5447\n",
      "\tepoch: 7.0000\n",
      "Epoch 8:\n",
      "Train Metrics:\n",
      "\tLoss:1637.2312, Acc: 0.5519:\n",
      "finished evaluation\n",
      "['auroc', 'auprc', 'accuracy']\n",
      "Validation Metrics:\n",
      "\tLoss: 414.2101\n",
      "\tauroc: 0.7185\n",
      "\tauprc: 0.5161\n",
      "\taccuracy: 0.5444\n",
      "Epoch 9:\n",
      "Train Metrics:\n",
      "\tLoss:1632.6485, Acc: 0.5541:\n",
      "finished evaluation\n",
      "['auroc', 'auprc', 'accuracy']\n",
      "Validation Metrics:\n",
      "\tLoss: 413.9403\n",
      "\tauroc: 0.7216\n",
      "\tauprc: 0.5188\n",
      "\taccuracy: 0.5652\n",
      "\tepoch: 9.0000\n"
     ]
    },
    {
     "data": {
      "text/html": [
       "Waiting for W&B process to finish... <strong style=\"color:green\">(success).</strong>"
      ],
      "text/plain": [
       "<IPython.core.display.HTML object>"
      ]
     },
     "metadata": {},
     "output_type": "display_data"
    },
    {
     "data": {
      "text/html": [
       "<style>\n",
       "    table.wandb td:nth-child(1) { padding: 0 10px; text-align: left ; width: auto;} td:nth-child(2) {text-align: left ; width: 100%}\n",
       "    .wandb-row { display: flex; flex-direction: row; flex-wrap: wrap; justify-content: flex-start; width: 100% }\n",
       "    .wandb-col { display: flex; flex-direction: column; flex-basis: 100%; flex: 1; padding: 10px; }\n",
       "    </style>\n",
       "<div class=\"wandb-row\"><div class=\"wandb-col\"><h3>Run history:</h3><br/><table class=\"wandb\"><tr><td>train_accuracy</td><td>▁▅▆▇▇▇▇▇██</td></tr><tr><td>train_loss</td><td>█▅▄▃▃▂▂▂▁▁</td></tr><tr><td>val_accuracy</td><td>▂▄▁▅▅▅▅▇▇█</td></tr><tr><td>val_auprc</td><td>▁▃▂▆▅▅▇▇▇█</td></tr><tr><td>val_auroc</td><td>▁▃▂▆▅▆▇▇▇█</td></tr><tr><td>val_loss</td><td>█▅▇▅▄▃▂▁▁▁</td></tr></table><br/></div><div class=\"wandb-col\"><h3>Run summary:</h3><br/><table class=\"wandb\"><tr><td>train_accuracy</td><td>0.55409</td></tr><tr><td>train_loss</td><td>1632.64847</td></tr><tr><td>val_accuracy</td><td>0.56518</td></tr><tr><td>val_auprc</td><td>0.51878</td></tr><tr><td>val_auroc</td><td>0.72162</td></tr><tr><td>val_loss</td><td>413.94031</td></tr></table><br/></div></div>"
      ],
      "text/plain": [
       "<IPython.core.display.HTML object>"
      ]
     },
     "metadata": {},
     "output_type": "display_data"
    },
    {
     "data": {
      "text/html": [
       " View run <strong style=\"color:#cdcd00\">kmer_128</strong> at: <a href='https://wandb.ai/pranavmahabs/bind_gps/runs/3wla8sry' target=\"_blank\">https://wandb.ai/pranavmahabs/bind_gps/runs/3wla8sry</a><br/>Synced 5 W&B file(s), 0 media file(s), 0 artifact file(s) and 0 other file(s)"
      ],
      "text/plain": [
       "<IPython.core.display.HTML object>"
      ]
     },
     "metadata": {},
     "output_type": "display_data"
    },
    {
     "data": {
      "text/html": [
       "Find logs at: <code>./wandb/run-20250711_233506-3wla8sry/logs</code>"
      ],
      "text/plain": [
       "<IPython.core.display.HTML object>"
      ]
     },
     "metadata": {},
     "output_type": "display_data"
    },
    {
     "name": "stderr",
     "output_type": "stream",
     "text": [
      "\u001b[34m\u001b[1mwandb\u001b[0m: Sweep Agent: Waiting for job.\n",
      "\u001b[34m\u001b[1mwandb\u001b[0m: Job received.\n",
      "\u001b[34m\u001b[1mwandb\u001b[0m: Agent Starting Run: ki3x7ov2 with config:\n",
      "\u001b[34m\u001b[1mwandb\u001b[0m: \tepochs: 10\n",
      "\u001b[34m\u001b[1mwandb\u001b[0m: \thidden_dims: [128, 64]\n",
      "\u001b[34m\u001b[1mwandb\u001b[0m: \tlr: 0.001\n",
      "\u001b[34m\u001b[1mwandb\u001b[0m: \tmetrics: ['auroc', 'auprc', 'accuracy']\n",
      "\u001b[34m\u001b[1mwandb\u001b[0m: \tname: kmer_128\n",
      "\u001b[34m\u001b[1mwandb\u001b[0m: \toutdir: models/kmer_128\n",
      "\u001b[34m\u001b[1mwandb\u001b[0m: \tseed: 42\n",
      "\u001b[34m\u001b[1mwandb\u001b[0m: \ttarget: auroc\n",
      "\u001b[34m\u001b[1mwandb\u001b[0m: \ttask: gene\n",
      "\u001b[34m\u001b[1mwandb\u001b[0m: \twd: 1e-06\n",
      "\u001b[34m\u001b[1mwandb\u001b[0m: \tweighted: False\n",
      "Failed to detect the name of this notebook, you can set it manually with the WANDB_NOTEBOOK_NAME environment variable to enable code saving.\n",
      "\u001b[34m\u001b[1mwandb\u001b[0m: \u001b[33mWARNING\u001b[0m Ignored wandb.init() arg project when running a sweep.\n"
     ]
    },
    {
     "data": {
      "text/html": [
       "wandb version 0.21.0 is available!  To upgrade, please run:\n",
       " $ pip install wandb --upgrade"
      ],
      "text/plain": [
       "<IPython.core.display.HTML object>"
      ]
     },
     "metadata": {},
     "output_type": "display_data"
    },
    {
     "data": {
      "text/html": [
       "Tracking run with wandb version 0.15.4"
      ],
      "text/plain": [
       "<IPython.core.display.HTML object>"
      ]
     },
     "metadata": {},
     "output_type": "display_data"
    },
    {
     "data": {
      "text/html": [
       "Run data is saved locally in <code>/oscar/data/larschan/shared_data/bind_gps/seq_modeling/wandb/run-20250711_233607-ki3x7ov2</code>"
      ],
      "text/plain": [
       "<IPython.core.display.HTML object>"
      ]
     },
     "metadata": {},
     "output_type": "display_data"
    },
    {
     "data": {
      "text/html": [
       "Syncing run <strong><a href='https://wandb.ai/pranavmahabs/bind_gps/runs/ki3x7ov2' target=\"_blank\">kmer_128</a></strong> to <a href='https://wandb.ai/pranavmahabs/bind_gps' target=\"_blank\">Weights & Biases</a> (<a href='https://wandb.me/run' target=\"_blank\">docs</a>)<br/>Sweep page: <a href='https://wandb.ai/pranavmahabs/bind_gps/sweeps/ms3id6yy' target=\"_blank\">https://wandb.ai/pranavmahabs/bind_gps/sweeps/ms3id6yy</a>"
      ],
      "text/plain": [
       "<IPython.core.display.HTML object>"
      ]
     },
     "metadata": {},
     "output_type": "display_data"
    },
    {
     "data": {
      "text/html": [
       " View project at <a href='https://wandb.ai/pranavmahabs/bind_gps' target=\"_blank\">https://wandb.ai/pranavmahabs/bind_gps</a>"
      ],
      "text/plain": [
       "<IPython.core.display.HTML object>"
      ]
     },
     "metadata": {},
     "output_type": "display_data"
    },
    {
     "data": {
      "text/html": [
       " View sweep at <a href='https://wandb.ai/pranavmahabs/bind_gps/sweeps/ms3id6yy' target=\"_blank\">https://wandb.ai/pranavmahabs/bind_gps/sweeps/ms3id6yy</a>"
      ],
      "text/plain": [
       "<IPython.core.display.HTML object>"
      ]
     },
     "metadata": {},
     "output_type": "display_data"
    },
    {
     "data": {
      "text/html": [
       " View run at <a href='https://wandb.ai/pranavmahabs/bind_gps/runs/ki3x7ov2' target=\"_blank\">https://wandb.ai/pranavmahabs/bind_gps/runs/ki3x7ov2</a>"
      ],
      "text/plain": [
       "<IPython.core.display.HTML object>"
      ]
     },
     "metadata": {},
     "output_type": "display_data"
    },
    {
     "name": "stdout",
     "output_type": "stream",
     "text": [
      "Epoch 0:\n",
      "Train Metrics:\n",
      "\tLoss:1468.7762, Acc: 0.6043:\n",
      "finished evaluation\n",
      "['auroc', 'auprc', 'accuracy']\n",
      "Validation Metrics:\n",
      "\tLoss: 356.7371\n",
      "\tauroc: 0.7111\n",
      "\tauprc: 0.5037\n",
      "\taccuracy: 0.6256\n",
      "\tepoch: 0.0000\n",
      "Epoch 1:\n",
      "Train Metrics:\n",
      "\tLoss:1415.0281, Acc: 0.6198:\n",
      "finished evaluation\n",
      "['auroc', 'auprc', 'accuracy']\n",
      "Validation Metrics:\n",
      "\tLoss: 346.8447\n",
      "\tauroc: 0.7234\n",
      "\tauprc: 0.5191\n",
      "\taccuracy: 0.6371\n",
      "\tepoch: 1.0000\n",
      "Epoch 2:\n",
      "Train Metrics:\n",
      "\tLoss:1401.1371, Acc: 0.6268:\n",
      "finished evaluation\n",
      "['auroc', 'auprc', 'accuracy']\n",
      "Validation Metrics:\n",
      "\tLoss: 347.4728\n",
      "\tauroc: 0.7229\n",
      "\tauprc: 0.5174\n",
      "\taccuracy: 0.6374\n",
      "Epoch 3:\n",
      "Train Metrics:\n",
      "\tLoss:1393.8222, Acc: 0.6295:\n",
      "finished evaluation\n",
      "['auroc', 'auprc', 'accuracy']\n",
      "Validation Metrics:\n",
      "\tLoss: 344.0044\n",
      "\tauroc: 0.7287\n",
      "\tauprc: 0.5228\n",
      "\taccuracy: 0.6395\n",
      "\tepoch: 3.0000\n",
      "Epoch 4:\n",
      "Train Metrics:\n",
      "\tLoss:1389.2334, Acc: 0.6313:\n",
      "finished evaluation\n",
      "['auroc', 'auprc', 'accuracy']\n",
      "Validation Metrics:\n",
      "\tLoss: 345.6620\n",
      "\tauroc: 0.7294\n",
      "\tauprc: 0.5241\n",
      "\taccuracy: 0.6370\n",
      "\tepoch: 4.0000\n",
      "Epoch 5:\n",
      "Train Metrics:\n",
      "\tLoss:1384.8072, Acc: 0.6321:\n",
      "finished evaluation\n",
      "['auroc', 'auprc', 'accuracy']\n",
      "Validation Metrics:\n",
      "\tLoss: 344.5741\n",
      "\tauroc: 0.7295\n",
      "\tauprc: 0.5252\n",
      "\taccuracy: 0.6377\n",
      "\tepoch: 5.0000\n",
      "Epoch 6:\n",
      "Train Metrics:\n",
      "\tLoss:1378.2607, Acc: 0.6346:\n",
      "finished evaluation\n",
      "['auroc', 'auprc', 'accuracy']\n",
      "Validation Metrics:\n",
      "\tLoss: 342.2243\n",
      "\tauroc: 0.7317\n",
      "\tauprc: 0.5290\n",
      "\taccuracy: 0.6385\n",
      "\tepoch: 6.0000\n",
      "Epoch 7:\n",
      "Train Metrics:\n",
      "\tLoss:1376.5442, Acc: 0.6352:\n",
      "finished evaluation\n",
      "['auroc', 'auprc', 'accuracy']\n",
      "Validation Metrics:\n",
      "\tLoss: 341.6819\n",
      "\tauroc: 0.7325\n",
      "\tauprc: 0.5289\n",
      "\taccuracy: 0.6401\n",
      "\tepoch: 7.0000\n",
      "Epoch 8:\n",
      "Train Metrics:\n",
      "\tLoss:1372.3640, Acc: 0.6364:\n",
      "finished evaluation\n",
      "['auroc', 'auprc', 'accuracy']\n",
      "Validation Metrics:\n",
      "\tLoss: 340.2279\n",
      "\tauroc: 0.7337\n",
      "\tauprc: 0.5308\n",
      "\taccuracy: 0.6425\n",
      "\tepoch: 8.0000\n",
      "Epoch 9:\n",
      "Train Metrics:\n",
      "\tLoss:1369.1145, Acc: 0.6380:\n",
      "finished evaluation\n",
      "['auroc', 'auprc', 'accuracy']\n",
      "Validation Metrics:\n",
      "\tLoss: 339.8465\n",
      "\tauroc: 0.7344\n",
      "\tauprc: 0.5306\n",
      "\taccuracy: 0.6418\n",
      "\tepoch: 9.0000\n"
     ]
    },
    {
     "data": {
      "text/html": [
       "Waiting for W&B process to finish... <strong style=\"color:green\">(success).</strong>"
      ],
      "text/plain": [
       "<IPython.core.display.HTML object>"
      ]
     },
     "metadata": {},
     "output_type": "display_data"
    },
    {
     "data": {
      "text/html": [
       "<style>\n",
       "    table.wandb td:nth-child(1) { padding: 0 10px; text-align: left ; width: auto;} td:nth-child(2) {text-align: left ; width: 100%}\n",
       "    .wandb-row { display: flex; flex-direction: row; flex-wrap: wrap; justify-content: flex-start; width: 100% }\n",
       "    .wandb-col { display: flex; flex-direction: column; flex-basis: 100%; flex: 1; padding: 10px; }\n",
       "    </style>\n",
       "<div class=\"wandb-row\"><div class=\"wandb-col\"><h3>Run history:</h3><br/><table class=\"wandb\"><tr><td>train_accuracy</td><td>▁▄▆▆▇▇▇▇██</td></tr><tr><td>train_loss</td><td>█▄▃▃▂▂▂▂▁▁</td></tr><tr><td>val_accuracy</td><td>▁▆▆▇▆▆▆▇██</td></tr><tr><td>val_auprc</td><td>▁▅▅▆▆▇████</td></tr><tr><td>val_auroc</td><td>▁▅▅▆▆▇▇▇██</td></tr><tr><td>val_loss</td><td>█▄▄▃▃▃▂▂▁▁</td></tr></table><br/></div><div class=\"wandb-col\"><h3>Run summary:</h3><br/><table class=\"wandb\"><tr><td>train_accuracy</td><td>0.63795</td></tr><tr><td>train_loss</td><td>1369.11448</td></tr><tr><td>val_accuracy</td><td>0.64183</td></tr><tr><td>val_auprc</td><td>0.53063</td></tr><tr><td>val_auroc</td><td>0.73438</td></tr><tr><td>val_loss</td><td>339.8465</td></tr></table><br/></div></div>"
      ],
      "text/plain": [
       "<IPython.core.display.HTML object>"
      ]
     },
     "metadata": {},
     "output_type": "display_data"
    },
    {
     "data": {
      "text/html": [
       " View run <strong style=\"color:#cdcd00\">kmer_128</strong> at: <a href='https://wandb.ai/pranavmahabs/bind_gps/runs/ki3x7ov2' target=\"_blank\">https://wandb.ai/pranavmahabs/bind_gps/runs/ki3x7ov2</a><br/>Synced 5 W&B file(s), 0 media file(s), 0 artifact file(s) and 0 other file(s)"
      ],
      "text/plain": [
       "<IPython.core.display.HTML object>"
      ]
     },
     "metadata": {},
     "output_type": "display_data"
    },
    {
     "data": {
      "text/html": [
       "Find logs at: <code>./wandb/run-20250711_233607-ki3x7ov2/logs</code>"
      ],
      "text/plain": [
       "<IPython.core.display.HTML object>"
      ]
     },
     "metadata": {},
     "output_type": "display_data"
    },
    {
     "name": "stderr",
     "output_type": "stream",
     "text": [
      "\u001b[34m\u001b[1mwandb\u001b[0m: Agent Starting Run: 8zgckyvb with config:\n",
      "\u001b[34m\u001b[1mwandb\u001b[0m: \tepochs: 10\n",
      "\u001b[34m\u001b[1mwandb\u001b[0m: \thidden_dims: [128, 64]\n",
      "\u001b[34m\u001b[1mwandb\u001b[0m: \tlr: 0.0001\n",
      "\u001b[34m\u001b[1mwandb\u001b[0m: \tmetrics: ['auroc', 'auprc', 'accuracy']\n",
      "\u001b[34m\u001b[1mwandb\u001b[0m: \tname: kmer_128\n",
      "\u001b[34m\u001b[1mwandb\u001b[0m: \toutdir: models/kmer_128\n",
      "\u001b[34m\u001b[1mwandb\u001b[0m: \tseed: 42\n",
      "\u001b[34m\u001b[1mwandb\u001b[0m: \ttarget: auroc\n",
      "\u001b[34m\u001b[1mwandb\u001b[0m: \ttask: mre\n",
      "\u001b[34m\u001b[1mwandb\u001b[0m: \twd: 1e-05\n",
      "\u001b[34m\u001b[1mwandb\u001b[0m: \tweighted: True\n",
      "Failed to detect the name of this notebook, you can set it manually with the WANDB_NOTEBOOK_NAME environment variable to enable code saving.\n",
      "\u001b[34m\u001b[1mwandb\u001b[0m: \u001b[33mWARNING\u001b[0m Ignored wandb.init() arg project when running a sweep.\n"
     ]
    },
    {
     "data": {
      "text/html": [
       "wandb version 0.21.0 is available!  To upgrade, please run:\n",
       " $ pip install wandb --upgrade"
      ],
      "text/plain": [
       "<IPython.core.display.HTML object>"
      ]
     },
     "metadata": {},
     "output_type": "display_data"
    },
    {
     "data": {
      "text/html": [
       "Tracking run with wandb version 0.15.4"
      ],
      "text/plain": [
       "<IPython.core.display.HTML object>"
      ]
     },
     "metadata": {},
     "output_type": "display_data"
    },
    {
     "data": {
      "text/html": [
       "Run data is saved locally in <code>/oscar/data/larschan/shared_data/bind_gps/seq_modeling/wandb/run-20250711_233658-8zgckyvb</code>"
      ],
      "text/plain": [
       "<IPython.core.display.HTML object>"
      ]
     },
     "metadata": {},
     "output_type": "display_data"
    },
    {
     "data": {
      "text/html": [
       "Syncing run <strong><a href='https://wandb.ai/pranavmahabs/bind_gps/runs/8zgckyvb' target=\"_blank\">kmer_128</a></strong> to <a href='https://wandb.ai/pranavmahabs/bind_gps' target=\"_blank\">Weights & Biases</a> (<a href='https://wandb.me/run' target=\"_blank\">docs</a>)<br/>Sweep page: <a href='https://wandb.ai/pranavmahabs/bind_gps/sweeps/ms3id6yy' target=\"_blank\">https://wandb.ai/pranavmahabs/bind_gps/sweeps/ms3id6yy</a>"
      ],
      "text/plain": [
       "<IPython.core.display.HTML object>"
      ]
     },
     "metadata": {},
     "output_type": "display_data"
    },
    {
     "data": {
      "text/html": [
       " View project at <a href='https://wandb.ai/pranavmahabs/bind_gps' target=\"_blank\">https://wandb.ai/pranavmahabs/bind_gps</a>"
      ],
      "text/plain": [
       "<IPython.core.display.HTML object>"
      ]
     },
     "metadata": {},
     "output_type": "display_data"
    },
    {
     "data": {
      "text/html": [
       " View sweep at <a href='https://wandb.ai/pranavmahabs/bind_gps/sweeps/ms3id6yy' target=\"_blank\">https://wandb.ai/pranavmahabs/bind_gps/sweeps/ms3id6yy</a>"
      ],
      "text/plain": [
       "<IPython.core.display.HTML object>"
      ]
     },
     "metadata": {},
     "output_type": "display_data"
    },
    {
     "data": {
      "text/html": [
       " View run at <a href='https://wandb.ai/pranavmahabs/bind_gps/runs/8zgckyvb' target=\"_blank\">https://wandb.ai/pranavmahabs/bind_gps/runs/8zgckyvb</a>"
      ],
      "text/plain": [
       "<IPython.core.display.HTML object>"
      ]
     },
     "metadata": {},
     "output_type": "display_data"
    },
    {
     "name": "stdout",
     "output_type": "stream",
     "text": [
      "Epoch 0:\n",
      "Train Metrics:\n",
      "\tLoss:1798.1717, Acc: 0.5530:\n",
      "finished evaluation\n",
      "['auroc', 'auprc', 'accuracy']\n",
      "Validation Metrics:\n",
      "\tLoss: 431.6206\n",
      "\tauroc: 0.7339\n",
      "\tauprc: 0.4662\n",
      "\taccuracy: 0.7210\n",
      "\tepoch: 0.0000\n",
      "Epoch 1:\n",
      "Train Metrics:\n",
      "\tLoss:1652.3695, Acc: 0.6610:\n",
      "finished evaluation\n",
      "['auroc', 'auprc', 'accuracy']\n",
      "Validation Metrics:\n",
      "\tLoss: 396.3582\n",
      "\tauroc: 0.7808\n",
      "\tauprc: 0.5136\n",
      "\taccuracy: 0.7446\n",
      "\tepoch: 1.0000\n",
      "Epoch 2:\n",
      "Train Metrics:\n",
      "\tLoss:1585.1215, Acc: 0.6958:\n",
      "finished evaluation\n",
      "['auroc', 'auprc', 'accuracy']\n",
      "Validation Metrics:\n",
      "\tLoss: 383.1010\n",
      "\tauroc: 0.8028\n",
      "\tauprc: 0.5381\n",
      "\taccuracy: 0.7554\n",
      "\tepoch: 2.0000\n",
      "Epoch 3:\n",
      "Train Metrics:\n",
      "\tLoss:1540.8297, Acc: 0.7128:\n",
      "finished evaluation\n",
      "['auroc', 'auprc', 'accuracy']\n",
      "Validation Metrics:\n",
      "\tLoss: 373.3435\n",
      "\tauroc: 0.8123\n",
      "\tauprc: 0.5435\n",
      "\taccuracy: 0.7473\n",
      "\tepoch: 3.0000\n",
      "Epoch 4:\n",
      "Train Metrics:\n",
      "\tLoss:1518.2812, Acc: 0.7207:\n",
      "finished evaluation\n",
      "['auroc', 'auprc', 'accuracy']\n",
      "Validation Metrics:\n",
      "\tLoss: 366.7701\n",
      "\tauroc: 0.8195\n",
      "\tauprc: 0.5479\n",
      "\taccuracy: 0.7420\n",
      "\tepoch: 4.0000\n",
      "Epoch 5:\n",
      "Train Metrics:\n",
      "\tLoss:1496.6820, Acc: 0.7296:\n",
      "finished evaluation\n",
      "['auroc', 'auprc', 'accuracy']\n",
      "Validation Metrics:\n",
      "\tLoss: 369.5053\n",
      "\tauroc: 0.8263\n",
      "\tauprc: 0.5568\n",
      "\taccuracy: 0.7474\n",
      "\tepoch: 5.0000\n",
      "Epoch 6:\n",
      "Train Metrics:\n",
      "\tLoss:1481.5898, Acc: 0.7329:\n",
      "finished evaluation\n",
      "['auroc', 'auprc', 'accuracy']\n",
      "Validation Metrics:\n",
      "\tLoss: 363.2549\n",
      "\tauroc: 0.8334\n",
      "\tauprc: 0.5625\n",
      "\taccuracy: 0.7809\n",
      "\tepoch: 6.0000\n",
      "Epoch 7:\n",
      "Train Metrics:\n",
      "\tLoss:1466.9166, Acc: 0.7366:\n",
      "finished evaluation\n",
      "['auroc', 'auprc', 'accuracy']\n",
      "Validation Metrics:\n",
      "\tLoss: 356.6092\n",
      "\tauroc: 0.8366\n",
      "\tauprc: 0.5631\n",
      "\taccuracy: 0.8007\n",
      "\tepoch: 7.0000\n",
      "Epoch 8:\n",
      "Train Metrics:\n",
      "\tLoss:1455.0483, Acc: 0.7382:\n",
      "finished evaluation\n",
      "['auroc', 'auprc', 'accuracy']\n",
      "Validation Metrics:\n",
      "\tLoss: 353.9561\n",
      "\tauroc: 0.8338\n",
      "\tauprc: 0.5597\n",
      "\taccuracy: 0.7837\n",
      "Epoch 9:\n",
      "Train Metrics:\n",
      "\tLoss:1439.3961, Acc: 0.7436:\n",
      "finished evaluation\n",
      "['auroc', 'auprc', 'accuracy']\n",
      "Validation Metrics:\n",
      "\tLoss: 351.1434\n",
      "\tauroc: 0.8358\n",
      "\tauprc: 0.5538\n",
      "\taccuracy: 0.7397\n"
     ]
    },
    {
     "data": {
      "text/html": [
       "Waiting for W&B process to finish... <strong style=\"color:green\">(success).</strong>"
      ],
      "text/plain": [
       "<IPython.core.display.HTML object>"
      ]
     },
     "metadata": {},
     "output_type": "display_data"
    },
    {
     "data": {
      "text/html": [
       "<style>\n",
       "    table.wandb td:nth-child(1) { padding: 0 10px; text-align: left ; width: auto;} td:nth-child(2) {text-align: left ; width: 100%}\n",
       "    .wandb-row { display: flex; flex-direction: row; flex-wrap: wrap; justify-content: flex-start; width: 100% }\n",
       "    .wandb-col { display: flex; flex-direction: column; flex-basis: 100%; flex: 1; padding: 10px; }\n",
       "    </style>\n",
       "<div class=\"wandb-row\"><div class=\"wandb-col\"><h3>Run history:</h3><br/><table class=\"wandb\"><tr><td>train_accuracy</td><td>▁▅▆▇▇▇████</td></tr><tr><td>train_loss</td><td>█▅▄▃▃▂▂▂▁▁</td></tr><tr><td>val_accuracy</td><td>▁▃▄▃▃▃▆█▇▃</td></tr><tr><td>val_auprc</td><td>▁▄▆▇▇████▇</td></tr><tr><td>val_auroc</td><td>▁▄▆▆▇▇████</td></tr><tr><td>val_loss</td><td>█▅▄▃▂▃▂▁▁▁</td></tr></table><br/></div><div class=\"wandb-col\"><h3>Run summary:</h3><br/><table class=\"wandb\"><tr><td>train_accuracy</td><td>0.74358</td></tr><tr><td>train_loss</td><td>1439.39607</td></tr><tr><td>val_accuracy</td><td>0.73971</td></tr><tr><td>val_auprc</td><td>0.55375</td></tr><tr><td>val_auroc</td><td>0.83584</td></tr><tr><td>val_loss</td><td>351.14339</td></tr></table><br/></div></div>"
      ],
      "text/plain": [
       "<IPython.core.display.HTML object>"
      ]
     },
     "metadata": {},
     "output_type": "display_data"
    },
    {
     "data": {
      "text/html": [
       " View run <strong style=\"color:#cdcd00\">kmer_128</strong> at: <a href='https://wandb.ai/pranavmahabs/bind_gps/runs/8zgckyvb' target=\"_blank\">https://wandb.ai/pranavmahabs/bind_gps/runs/8zgckyvb</a><br/>Synced 5 W&B file(s), 0 media file(s), 0 artifact file(s) and 0 other file(s)"
      ],
      "text/plain": [
       "<IPython.core.display.HTML object>"
      ]
     },
     "metadata": {},
     "output_type": "display_data"
    },
    {
     "data": {
      "text/html": [
       "Find logs at: <code>./wandb/run-20250711_233658-8zgckyvb/logs</code>"
      ],
      "text/plain": [
       "<IPython.core.display.HTML object>"
      ]
     },
     "metadata": {},
     "output_type": "display_data"
    },
    {
     "name": "stderr",
     "output_type": "stream",
     "text": [
      "\u001b[34m\u001b[1mwandb\u001b[0m: Agent Starting Run: 7y6brbpa with config:\n",
      "\u001b[34m\u001b[1mwandb\u001b[0m: \tepochs: 10\n",
      "\u001b[34m\u001b[1mwandb\u001b[0m: \thidden_dims: [128, 64]\n",
      "\u001b[34m\u001b[1mwandb\u001b[0m: \tlr: 0.0001\n",
      "\u001b[34m\u001b[1mwandb\u001b[0m: \tmetrics: ['auroc', 'auprc', 'accuracy']\n",
      "\u001b[34m\u001b[1mwandb\u001b[0m: \tname: kmer_128\n",
      "\u001b[34m\u001b[1mwandb\u001b[0m: \toutdir: models/kmer_128\n",
      "\u001b[34m\u001b[1mwandb\u001b[0m: \tseed: 42\n",
      "\u001b[34m\u001b[1mwandb\u001b[0m: \ttarget: auroc\n",
      "\u001b[34m\u001b[1mwandb\u001b[0m: \ttask: mre\n",
      "\u001b[34m\u001b[1mwandb\u001b[0m: \twd: 1e-05\n",
      "\u001b[34m\u001b[1mwandb\u001b[0m: \tweighted: False\n",
      "Failed to detect the name of this notebook, you can set it manually with the WANDB_NOTEBOOK_NAME environment variable to enable code saving.\n",
      "\u001b[34m\u001b[1mwandb\u001b[0m: \u001b[33mWARNING\u001b[0m Ignored wandb.init() arg project when running a sweep.\n"
     ]
    },
    {
     "data": {
      "text/html": [
       "wandb version 0.21.0 is available!  To upgrade, please run:\n",
       " $ pip install wandb --upgrade"
      ],
      "text/plain": [
       "<IPython.core.display.HTML object>"
      ]
     },
     "metadata": {},
     "output_type": "display_data"
    },
    {
     "data": {
      "text/html": [
       "Tracking run with wandb version 0.15.4"
      ],
      "text/plain": [
       "<IPython.core.display.HTML object>"
      ]
     },
     "metadata": {},
     "output_type": "display_data"
    },
    {
     "data": {
      "text/html": [
       "Run data is saved locally in <code>/oscar/data/larschan/shared_data/bind_gps/seq_modeling/wandb/run-20250711_233753-7y6brbpa</code>"
      ],
      "text/plain": [
       "<IPython.core.display.HTML object>"
      ]
     },
     "metadata": {},
     "output_type": "display_data"
    },
    {
     "data": {
      "text/html": [
       "Syncing run <strong><a href='https://wandb.ai/pranavmahabs/bind_gps/runs/7y6brbpa' target=\"_blank\">kmer_128</a></strong> to <a href='https://wandb.ai/pranavmahabs/bind_gps' target=\"_blank\">Weights & Biases</a> (<a href='https://wandb.me/run' target=\"_blank\">docs</a>)<br/>Sweep page: <a href='https://wandb.ai/pranavmahabs/bind_gps/sweeps/ms3id6yy' target=\"_blank\">https://wandb.ai/pranavmahabs/bind_gps/sweeps/ms3id6yy</a>"
      ],
      "text/plain": [
       "<IPython.core.display.HTML object>"
      ]
     },
     "metadata": {},
     "output_type": "display_data"
    },
    {
     "data": {
      "text/html": [
       " View project at <a href='https://wandb.ai/pranavmahabs/bind_gps' target=\"_blank\">https://wandb.ai/pranavmahabs/bind_gps</a>"
      ],
      "text/plain": [
       "<IPython.core.display.HTML object>"
      ]
     },
     "metadata": {},
     "output_type": "display_data"
    },
    {
     "data": {
      "text/html": [
       " View sweep at <a href='https://wandb.ai/pranavmahabs/bind_gps/sweeps/ms3id6yy' target=\"_blank\">https://wandb.ai/pranavmahabs/bind_gps/sweeps/ms3id6yy</a>"
      ],
      "text/plain": [
       "<IPython.core.display.HTML object>"
      ]
     },
     "metadata": {},
     "output_type": "display_data"
    },
    {
     "data": {
      "text/html": [
       " View run at <a href='https://wandb.ai/pranavmahabs/bind_gps/runs/7y6brbpa' target=\"_blank\">https://wandb.ai/pranavmahabs/bind_gps/runs/7y6brbpa</a>"
      ],
      "text/plain": [
       "<IPython.core.display.HTML object>"
      ]
     },
     "metadata": {},
     "output_type": "display_data"
    },
    {
     "name": "stdout",
     "output_type": "stream",
     "text": [
      "Epoch 0:\n",
      "Train Metrics:\n",
      "\tLoss:967.9422, Acc: 0.8281:\n",
      "finished evaluation\n",
      "['auroc', 'auprc', 'accuracy']\n",
      "Validation Metrics:\n",
      "\tLoss: 196.0624\n",
      "\tauroc: 0.7558\n",
      "\tauprc: 0.4837\n",
      "\taccuracy: 0.8553\n",
      "\tepoch: 0.0000\n",
      "Epoch 1:\n",
      "Train Metrics:\n",
      "\tLoss:750.8735, Acc: 0.8635:\n",
      "finished evaluation\n",
      "['auroc', 'auprc', 'accuracy']\n",
      "Validation Metrics:\n",
      "\tLoss: 174.1721\n",
      "\tauroc: 0.8016\n",
      "\tauprc: 0.5326\n",
      "\taccuracy: 0.8725\n",
      "\tepoch: 1.0000\n",
      "Epoch 2:\n",
      "Train Metrics:\n",
      "\tLoss:712.4300, Acc: 0.8688:\n",
      "finished evaluation\n",
      "['auroc', 'auprc', 'accuracy']\n",
      "Validation Metrics:\n",
      "\tLoss: 166.2194\n",
      "\tauroc: 0.8231\n",
      "\tauprc: 0.5495\n",
      "\taccuracy: 0.8774\n",
      "\tepoch: 2.0000\n",
      "Epoch 3:\n",
      "Train Metrics:\n",
      "\tLoss:691.3220, Acc: 0.8718:\n",
      "finished evaluation\n",
      "['auroc', 'auprc', 'accuracy']\n",
      "Validation Metrics:\n",
      "\tLoss: 163.9117\n",
      "\tauroc: 0.8301\n",
      "\tauprc: 0.5569\n",
      "\taccuracy: 0.8779\n",
      "\tepoch: 3.0000\n",
      "Epoch 4:\n",
      "Train Metrics:\n",
      "\tLoss:674.8677, Acc: 0.8734:\n",
      "finished evaluation\n",
      "['auroc', 'auprc', 'accuracy']\n",
      "Validation Metrics:\n",
      "\tLoss: 158.6498\n",
      "\tauroc: 0.8424\n",
      "\tauprc: 0.5705\n",
      "\taccuracy: 0.8788\n",
      "\tepoch: 4.0000\n",
      "Epoch 5:\n",
      "Train Metrics:\n",
      "\tLoss:664.9790, Acc: 0.8754:\n",
      "finished evaluation\n",
      "['auroc', 'auprc', 'accuracy']\n",
      "Validation Metrics:\n",
      "\tLoss: 155.8012\n",
      "\tauroc: 0.8470\n",
      "\tauprc: 0.5748\n",
      "\taccuracy: 0.8804\n",
      "\tepoch: 5.0000\n",
      "Epoch 6:\n",
      "Train Metrics:\n",
      "\tLoss:658.1671, Acc: 0.8758:\n",
      "finished evaluation\n",
      "['auroc', 'auprc', 'accuracy']\n",
      "Validation Metrics:\n",
      "\tLoss: 155.3898\n",
      "\tauroc: 0.8517\n",
      "\tauprc: 0.5815\n",
      "\taccuracy: 0.8816\n",
      "\tepoch: 6.0000\n",
      "Epoch 7:\n",
      "Train Metrics:\n",
      "\tLoss:651.5571, Acc: 0.8765:\n",
      "finished evaluation\n",
      "['auroc', 'auprc', 'accuracy']\n",
      "Validation Metrics:\n",
      "\tLoss: 153.9591\n",
      "\tauroc: 0.8542\n",
      "\tauprc: 0.5899\n",
      "\taccuracy: 0.8813\n",
      "\tepoch: 7.0000\n",
      "Epoch 8:\n",
      "Train Metrics:\n",
      "\tLoss:646.4347, Acc: 0.8774:\n",
      "finished evaluation\n",
      "['auroc', 'auprc', 'accuracy']\n",
      "Validation Metrics:\n",
      "\tLoss: 152.5491\n",
      "\tauroc: 0.8585\n",
      "\tauprc: 0.5908\n",
      "\taccuracy: 0.8820\n",
      "\tepoch: 8.0000\n",
      "Epoch 9:\n",
      "Train Metrics:\n",
      "\tLoss:640.3177, Acc: 0.8779:\n",
      "finished evaluation\n",
      "['auroc', 'auprc', 'accuracy']\n",
      "Validation Metrics:\n",
      "\tLoss: 153.1532\n",
      "\tauroc: 0.8583\n",
      "\tauprc: 0.5940\n",
      "\taccuracy: 0.8822\n"
     ]
    },
    {
     "data": {
      "text/html": [
       "Waiting for W&B process to finish... <strong style=\"color:green\">(success).</strong>"
      ],
      "text/plain": [
       "<IPython.core.display.HTML object>"
      ]
     },
     "metadata": {},
     "output_type": "display_data"
    },
    {
     "data": {
      "application/vnd.jupyter.widget-view+json": {
       "model_id": "6a22bc1a7d90425cadc3fef6b7383553",
       "version_major": 2,
       "version_minor": 0
      },
      "text/plain": [
       "VBox(children=(Label(value='0.008 MB of 0.008 MB uploaded (0.000 MB deduped)\\r'), FloatProgress(value=1.0, max…"
      ]
     },
     "metadata": {},
     "output_type": "display_data"
    },
    {
     "data": {
      "text/html": [
       "<style>\n",
       "    table.wandb td:nth-child(1) { padding: 0 10px; text-align: left ; width: auto;} td:nth-child(2) {text-align: left ; width: 100%}\n",
       "    .wandb-row { display: flex; flex-direction: row; flex-wrap: wrap; justify-content: flex-start; width: 100% }\n",
       "    .wandb-col { display: flex; flex-direction: column; flex-basis: 100%; flex: 1; padding: 10px; }\n",
       "    </style>\n",
       "<div class=\"wandb-row\"><div class=\"wandb-col\"><h3>Run history:</h3><br/><table class=\"wandb\"><tr><td>train_accuracy</td><td>▁▆▇▇▇█████</td></tr><tr><td>train_loss</td><td>█▃▃▂▂▂▁▁▁▁</td></tr><tr><td>val_accuracy</td><td>▁▅▇▇▇█████</td></tr><tr><td>val_auprc</td><td>▁▄▅▆▇▇▇███</td></tr><tr><td>val_auroc</td><td>▁▄▆▆▇▇████</td></tr><tr><td>val_loss</td><td>█▄▃▃▂▂▁▁▁▁</td></tr></table><br/></div><div class=\"wandb-col\"><h3>Run summary:</h3><br/><table class=\"wandb\"><tr><td>train_accuracy</td><td>0.87786</td></tr><tr><td>train_loss</td><td>640.31771</td></tr><tr><td>val_accuracy</td><td>0.88221</td></tr><tr><td>val_auprc</td><td>0.59399</td></tr><tr><td>val_auroc</td><td>0.85827</td></tr><tr><td>val_loss</td><td>153.15324</td></tr></table><br/></div></div>"
      ],
      "text/plain": [
       "<IPython.core.display.HTML object>"
      ]
     },
     "metadata": {},
     "output_type": "display_data"
    },
    {
     "data": {
      "text/html": [
       " View run <strong style=\"color:#cdcd00\">kmer_128</strong> at: <a href='https://wandb.ai/pranavmahabs/bind_gps/runs/7y6brbpa' target=\"_blank\">https://wandb.ai/pranavmahabs/bind_gps/runs/7y6brbpa</a><br/>Synced 5 W&B file(s), 0 media file(s), 0 artifact file(s) and 0 other file(s)"
      ],
      "text/plain": [
       "<IPython.core.display.HTML object>"
      ]
     },
     "metadata": {},
     "output_type": "display_data"
    },
    {
     "data": {
      "text/html": [
       "Find logs at: <code>./wandb/run-20250711_233753-7y6brbpa/logs</code>"
      ],
      "text/plain": [
       "<IPython.core.display.HTML object>"
      ]
     },
     "metadata": {},
     "output_type": "display_data"
    },
    {
     "name": "stderr",
     "output_type": "stream",
     "text": [
      "\u001b[34m\u001b[1mwandb\u001b[0m: Agent Starting Run: zio8n0fd with config:\n",
      "\u001b[34m\u001b[1mwandb\u001b[0m: \tepochs: 10\n",
      "\u001b[34m\u001b[1mwandb\u001b[0m: \thidden_dims: [128, 64]\n",
      "\u001b[34m\u001b[1mwandb\u001b[0m: \tlr: 0.0001\n",
      "\u001b[34m\u001b[1mwandb\u001b[0m: \tmetrics: ['auroc', 'auprc', 'accuracy']\n",
      "\u001b[34m\u001b[1mwandb\u001b[0m: \tname: kmer_128\n",
      "\u001b[34m\u001b[1mwandb\u001b[0m: \toutdir: models/kmer_128\n",
      "\u001b[34m\u001b[1mwandb\u001b[0m: \tseed: 42\n",
      "\u001b[34m\u001b[1mwandb\u001b[0m: \ttarget: auroc\n",
      "\u001b[34m\u001b[1mwandb\u001b[0m: \ttask: mre\n",
      "\u001b[34m\u001b[1mwandb\u001b[0m: \twd: 1e-06\n",
      "\u001b[34m\u001b[1mwandb\u001b[0m: \tweighted: True\n",
      "Failed to detect the name of this notebook, you can set it manually with the WANDB_NOTEBOOK_NAME environment variable to enable code saving.\n",
      "\u001b[34m\u001b[1mwandb\u001b[0m: \u001b[33mWARNING\u001b[0m Ignored wandb.init() arg project when running a sweep.\n"
     ]
    },
    {
     "data": {
      "text/html": [
       "wandb version 0.21.0 is available!  To upgrade, please run:\n",
       " $ pip install wandb --upgrade"
      ],
      "text/plain": [
       "<IPython.core.display.HTML object>"
      ]
     },
     "metadata": {},
     "output_type": "display_data"
    },
    {
     "data": {
      "text/html": [
       "Tracking run with wandb version 0.15.4"
      ],
      "text/plain": [
       "<IPython.core.display.HTML object>"
      ]
     },
     "metadata": {},
     "output_type": "display_data"
    },
    {
     "data": {
      "text/html": [
       "Run data is saved locally in <code>/oscar/data/larschan/shared_data/bind_gps/seq_modeling/wandb/run-20250711_233845-zio8n0fd</code>"
      ],
      "text/plain": [
       "<IPython.core.display.HTML object>"
      ]
     },
     "metadata": {},
     "output_type": "display_data"
    },
    {
     "data": {
      "text/html": [
       "Syncing run <strong><a href='https://wandb.ai/pranavmahabs/bind_gps/runs/zio8n0fd' target=\"_blank\">kmer_128</a></strong> to <a href='https://wandb.ai/pranavmahabs/bind_gps' target=\"_blank\">Weights & Biases</a> (<a href='https://wandb.me/run' target=\"_blank\">docs</a>)<br/>Sweep page: <a href='https://wandb.ai/pranavmahabs/bind_gps/sweeps/ms3id6yy' target=\"_blank\">https://wandb.ai/pranavmahabs/bind_gps/sweeps/ms3id6yy</a>"
      ],
      "text/plain": [
       "<IPython.core.display.HTML object>"
      ]
     },
     "metadata": {},
     "output_type": "display_data"
    },
    {
     "data": {
      "text/html": [
       " View project at <a href='https://wandb.ai/pranavmahabs/bind_gps' target=\"_blank\">https://wandb.ai/pranavmahabs/bind_gps</a>"
      ],
      "text/plain": [
       "<IPython.core.display.HTML object>"
      ]
     },
     "metadata": {},
     "output_type": "display_data"
    },
    {
     "data": {
      "text/html": [
       " View sweep at <a href='https://wandb.ai/pranavmahabs/bind_gps/sweeps/ms3id6yy' target=\"_blank\">https://wandb.ai/pranavmahabs/bind_gps/sweeps/ms3id6yy</a>"
      ],
      "text/plain": [
       "<IPython.core.display.HTML object>"
      ]
     },
     "metadata": {},
     "output_type": "display_data"
    },
    {
     "data": {
      "text/html": [
       " View run at <a href='https://wandb.ai/pranavmahabs/bind_gps/runs/zio8n0fd' target=\"_blank\">https://wandb.ai/pranavmahabs/bind_gps/runs/zio8n0fd</a>"
      ],
      "text/plain": [
       "<IPython.core.display.HTML object>"
      ]
     },
     "metadata": {},
     "output_type": "display_data"
    },
    {
     "name": "stdout",
     "output_type": "stream",
     "text": [
      "Epoch 0:\n",
      "Train Metrics:\n",
      "\tLoss:1790.6061, Acc: 0.5107:\n",
      "finished evaluation\n",
      "['auroc', 'auprc', 'accuracy']\n",
      "Validation Metrics:\n",
      "\tLoss: 418.9692\n",
      "\tauroc: 0.7479\n",
      "\tauprc: 0.4834\n",
      "\taccuracy: 0.7148\n",
      "\tepoch: 0.0000\n",
      "Epoch 1:\n",
      "Train Metrics:\n",
      "\tLoss:1656.0393, Acc: 0.6571:\n",
      "finished evaluation\n",
      "['auroc', 'auprc', 'accuracy']\n",
      "Validation Metrics:\n",
      "\tLoss: 399.5925\n",
      "\tauroc: 0.7828\n",
      "\tauprc: 0.5156\n",
      "\taccuracy: 0.7055\n",
      "\tepoch: 1.0000\n",
      "Epoch 2:\n",
      "Train Metrics:\n",
      "\tLoss:1582.9133, Acc: 0.6873:\n",
      "finished evaluation\n",
      "['auroc', 'auprc', 'accuracy']\n",
      "Validation Metrics:\n",
      "\tLoss: 384.8728\n",
      "\tauroc: 0.8005\n",
      "\tauprc: 0.5231\n",
      "\taccuracy: 0.7265\n",
      "\tepoch: 2.0000\n",
      "Epoch 3:\n",
      "Train Metrics:\n",
      "\tLoss:1545.1033, Acc: 0.7040:\n",
      "finished evaluation\n",
      "['auroc', 'auprc', 'accuracy']\n",
      "Validation Metrics:\n",
      "\tLoss: 381.4312\n",
      "\tauroc: 0.8137\n",
      "\tauprc: 0.5445\n",
      "\taccuracy: 0.7211\n",
      "\tepoch: 3.0000\n",
      "Epoch 4:\n",
      "Train Metrics:\n",
      "\tLoss:1520.2135, Acc: 0.7184:\n",
      "finished evaluation\n",
      "['auroc', 'auprc', 'accuracy']\n",
      "Validation Metrics:\n",
      "\tLoss: 373.9184\n",
      "\tauroc: 0.8196\n",
      "\tauprc: 0.5478\n",
      "\taccuracy: 0.7407\n",
      "\tepoch: 4.0000\n",
      "Epoch 5:\n",
      "Train Metrics:\n",
      "\tLoss:1501.0055, Acc: 0.7249:\n",
      "finished evaluation\n",
      "['auroc', 'auprc', 'accuracy']\n",
      "Validation Metrics:\n",
      "\tLoss: 365.6326\n",
      "\tauroc: 0.8278\n",
      "\tauprc: 0.5530\n",
      "\taccuracy: 0.7470\n",
      "\tepoch: 5.0000\n",
      "Epoch 6:\n",
      "Train Metrics:\n",
      "\tLoss:1490.0114, Acc: 0.7278:\n",
      "finished evaluation\n",
      "['auroc', 'auprc', 'accuracy']\n",
      "Validation Metrics:\n",
      "\tLoss: 363.6284\n",
      "\tauroc: 0.8267\n",
      "\tauprc: 0.5508\n",
      "\taccuracy: 0.7779\n",
      "Epoch 7:\n",
      "Train Metrics:\n",
      "\tLoss:1471.4267, Acc: 0.7337:\n",
      "finished evaluation\n",
      "['auroc', 'auprc', 'accuracy']\n",
      "Validation Metrics:\n",
      "\tLoss: 358.7798\n",
      "\tauroc: 0.8302\n",
      "\tauprc: 0.5521\n",
      "\taccuracy: 0.7513\n",
      "\tepoch: 7.0000\n",
      "Epoch 8:\n",
      "Train Metrics:\n",
      "\tLoss:1452.8075, Acc: 0.7411:\n",
      "finished evaluation\n",
      "['auroc', 'auprc', 'accuracy']\n",
      "Validation Metrics:\n",
      "\tLoss: 356.9984\n",
      "\tauroc: 0.8337\n",
      "\tauprc: 0.5567\n",
      "\taccuracy: 0.7807\n",
      "\tepoch: 8.0000\n",
      "Epoch 9:\n",
      "Train Metrics:\n",
      "\tLoss:1445.1722, Acc: 0.7411:\n",
      "finished evaluation\n",
      "['auroc', 'auprc', 'accuracy']\n",
      "Validation Metrics:\n",
      "\tLoss: 353.1648\n",
      "\tauroc: 0.8374\n",
      "\tauprc: 0.5546\n",
      "\taccuracy: 0.7648\n",
      "\tepoch: 9.0000\n"
     ]
    },
    {
     "data": {
      "text/html": [
       "Waiting for W&B process to finish... <strong style=\"color:green\">(success).</strong>"
      ],
      "text/plain": [
       "<IPython.core.display.HTML object>"
      ]
     },
     "metadata": {},
     "output_type": "display_data"
    },
    {
     "data": {
      "text/html": [
       "<style>\n",
       "    table.wandb td:nth-child(1) { padding: 0 10px; text-align: left ; width: auto;} td:nth-child(2) {text-align: left ; width: 100%}\n",
       "    .wandb-row { display: flex; flex-direction: row; flex-wrap: wrap; justify-content: flex-start; width: 100% }\n",
       "    .wandb-col { display: flex; flex-direction: column; flex-basis: 100%; flex: 1; padding: 10px; }\n",
       "    </style>\n",
       "<div class=\"wandb-row\"><div class=\"wandb-col\"><h3>Run history:</h3><br/><table class=\"wandb\"><tr><td>train_accuracy</td><td>▁▅▆▇▇█████</td></tr><tr><td>train_loss</td><td>█▅▄▃▃▂▂▂▁▁</td></tr><tr><td>val_accuracy</td><td>▂▁▃▂▄▅█▅█▇</td></tr><tr><td>val_auprc</td><td>▁▄▅▇▇█▇███</td></tr><tr><td>val_auroc</td><td>▁▄▅▆▇▇▇▇██</td></tr><tr><td>val_loss</td><td>█▆▄▄▃▂▂▂▁▁</td></tr></table><br/></div><div class=\"wandb-col\"><h3>Run summary:</h3><br/><table class=\"wandb\"><tr><td>train_accuracy</td><td>0.74113</td></tr><tr><td>train_loss</td><td>1445.17222</td></tr><tr><td>val_accuracy</td><td>0.76478</td></tr><tr><td>val_auprc</td><td>0.55462</td></tr><tr><td>val_auroc</td><td>0.83736</td></tr><tr><td>val_loss</td><td>353.1648</td></tr></table><br/></div></div>"
      ],
      "text/plain": [
       "<IPython.core.display.HTML object>"
      ]
     },
     "metadata": {},
     "output_type": "display_data"
    },
    {
     "data": {
      "text/html": [
       " View run <strong style=\"color:#cdcd00\">kmer_128</strong> at: <a href='https://wandb.ai/pranavmahabs/bind_gps/runs/zio8n0fd' target=\"_blank\">https://wandb.ai/pranavmahabs/bind_gps/runs/zio8n0fd</a><br/>Synced 5 W&B file(s), 0 media file(s), 0 artifact file(s) and 0 other file(s)"
      ],
      "text/plain": [
       "<IPython.core.display.HTML object>"
      ]
     },
     "metadata": {},
     "output_type": "display_data"
    },
    {
     "data": {
      "text/html": [
       "Find logs at: <code>./wandb/run-20250711_233845-zio8n0fd/logs</code>"
      ],
      "text/plain": [
       "<IPython.core.display.HTML object>"
      ]
     },
     "metadata": {},
     "output_type": "display_data"
    },
    {
     "name": "stderr",
     "output_type": "stream",
     "text": [
      "\u001b[34m\u001b[1mwandb\u001b[0m: Agent Starting Run: u7dl8cdc with config:\n",
      "\u001b[34m\u001b[1mwandb\u001b[0m: \tepochs: 10\n",
      "\u001b[34m\u001b[1mwandb\u001b[0m: \thidden_dims: [128, 64]\n",
      "\u001b[34m\u001b[1mwandb\u001b[0m: \tlr: 0.0001\n",
      "\u001b[34m\u001b[1mwandb\u001b[0m: \tmetrics: ['auroc', 'auprc', 'accuracy']\n",
      "\u001b[34m\u001b[1mwandb\u001b[0m: \tname: kmer_128\n",
      "\u001b[34m\u001b[1mwandb\u001b[0m: \toutdir: models/kmer_128\n",
      "\u001b[34m\u001b[1mwandb\u001b[0m: \tseed: 42\n",
      "\u001b[34m\u001b[1mwandb\u001b[0m: \ttarget: auroc\n",
      "\u001b[34m\u001b[1mwandb\u001b[0m: \ttask: mre\n",
      "\u001b[34m\u001b[1mwandb\u001b[0m: \twd: 1e-06\n",
      "\u001b[34m\u001b[1mwandb\u001b[0m: \tweighted: False\n",
      "Failed to detect the name of this notebook, you can set it manually with the WANDB_NOTEBOOK_NAME environment variable to enable code saving.\n",
      "\u001b[34m\u001b[1mwandb\u001b[0m: \u001b[33mWARNING\u001b[0m Ignored wandb.init() arg project when running a sweep.\n"
     ]
    },
    {
     "data": {
      "text/html": [
       "wandb version 0.21.0 is available!  To upgrade, please run:\n",
       " $ pip install wandb --upgrade"
      ],
      "text/plain": [
       "<IPython.core.display.HTML object>"
      ]
     },
     "metadata": {},
     "output_type": "display_data"
    },
    {
     "data": {
      "text/html": [
       "Tracking run with wandb version 0.15.4"
      ],
      "text/plain": [
       "<IPython.core.display.HTML object>"
      ]
     },
     "metadata": {},
     "output_type": "display_data"
    },
    {
     "data": {
      "text/html": [
       "Run data is saved locally in <code>/oscar/data/larschan/shared_data/bind_gps/seq_modeling/wandb/run-20250711_233940-u7dl8cdc</code>"
      ],
      "text/plain": [
       "<IPython.core.display.HTML object>"
      ]
     },
     "metadata": {},
     "output_type": "display_data"
    },
    {
     "data": {
      "text/html": [
       "Syncing run <strong><a href='https://wandb.ai/pranavmahabs/bind_gps/runs/u7dl8cdc' target=\"_blank\">kmer_128</a></strong> to <a href='https://wandb.ai/pranavmahabs/bind_gps' target=\"_blank\">Weights & Biases</a> (<a href='https://wandb.me/run' target=\"_blank\">docs</a>)<br/>Sweep page: <a href='https://wandb.ai/pranavmahabs/bind_gps/sweeps/ms3id6yy' target=\"_blank\">https://wandb.ai/pranavmahabs/bind_gps/sweeps/ms3id6yy</a>"
      ],
      "text/plain": [
       "<IPython.core.display.HTML object>"
      ]
     },
     "metadata": {},
     "output_type": "display_data"
    },
    {
     "data": {
      "text/html": [
       " View project at <a href='https://wandb.ai/pranavmahabs/bind_gps' target=\"_blank\">https://wandb.ai/pranavmahabs/bind_gps</a>"
      ],
      "text/plain": [
       "<IPython.core.display.HTML object>"
      ]
     },
     "metadata": {},
     "output_type": "display_data"
    },
    {
     "data": {
      "text/html": [
       " View sweep at <a href='https://wandb.ai/pranavmahabs/bind_gps/sweeps/ms3id6yy' target=\"_blank\">https://wandb.ai/pranavmahabs/bind_gps/sweeps/ms3id6yy</a>"
      ],
      "text/plain": [
       "<IPython.core.display.HTML object>"
      ]
     },
     "metadata": {},
     "output_type": "display_data"
    },
    {
     "data": {
      "text/html": [
       " View run at <a href='https://wandb.ai/pranavmahabs/bind_gps/runs/u7dl8cdc' target=\"_blank\">https://wandb.ai/pranavmahabs/bind_gps/runs/u7dl8cdc</a>"
      ],
      "text/plain": [
       "<IPython.core.display.HTML object>"
      ]
     },
     "metadata": {},
     "output_type": "display_data"
    },
    {
     "name": "stdout",
     "output_type": "stream",
     "text": [
      "Epoch 0:\n",
      "Train Metrics:\n",
      "\tLoss:1000.3065, Acc: 0.8191:\n",
      "finished evaluation\n",
      "['auroc', 'auprc', 'accuracy']\n",
      "Validation Metrics:\n",
      "\tLoss: 194.2290\n",
      "\tauroc: 0.7592\n",
      "\tauprc: 0.4870\n",
      "\taccuracy: 0.8497\n",
      "\tepoch: 0.0000\n",
      "Epoch 1:\n",
      "Train Metrics:\n",
      "\tLoss:754.3338, Acc: 0.8607:\n",
      "finished evaluation\n",
      "['auroc', 'auprc', 'accuracy']\n",
      "Validation Metrics:\n",
      "\tLoss: 177.5602\n",
      "\tauroc: 0.8032\n",
      "\tauprc: 0.5253\n",
      "\taccuracy: 0.8621\n",
      "\tepoch: 1.0000\n",
      "Epoch 2:\n",
      "Train Metrics:\n",
      "\tLoss:710.2895, Acc: 0.8691:\n",
      "finished evaluation\n",
      "['auroc', 'auprc', 'accuracy']\n",
      "Validation Metrics:\n",
      "\tLoss: 161.0891\n",
      "\tauroc: 0.8336\n",
      "\tauprc: 0.5518\n",
      "\taccuracy: 0.8784\n",
      "\tepoch: 2.0000\n",
      "Epoch 3:\n",
      "Train Metrics:\n",
      "\tLoss:688.5086, Acc: 0.8718:\n",
      "finished evaluation\n",
      "['auroc', 'auprc', 'accuracy']\n",
      "Validation Metrics:\n",
      "\tLoss: 160.5334\n",
      "\tauroc: 0.8377\n",
      "\tauprc: 0.5650\n",
      "\taccuracy: 0.8785\n",
      "\tepoch: 3.0000\n",
      "Epoch 4:\n",
      "Train Metrics:\n",
      "\tLoss:675.3985, Acc: 0.8742:\n",
      "finished evaluation\n",
      "['auroc', 'auprc', 'accuracy']\n",
      "Validation Metrics:\n",
      "\tLoss: 157.4579\n",
      "\tauroc: 0.8456\n",
      "\tauprc: 0.5803\n",
      "\taccuracy: 0.8791\n",
      "\tepoch: 4.0000\n",
      "Epoch 5:\n",
      "Train Metrics:\n",
      "\tLoss:663.6626, Acc: 0.8759:\n",
      "finished evaluation\n",
      "['auroc', 'auprc', 'accuracy']\n",
      "Validation Metrics:\n",
      "\tLoss: 154.2057\n",
      "\tauroc: 0.8521\n",
      "\tauprc: 0.5882\n",
      "\taccuracy: 0.8806\n",
      "\tepoch: 5.0000\n",
      "Epoch 6:\n",
      "Train Metrics:\n",
      "\tLoss:654.4488, Acc: 0.8766:\n",
      "finished evaluation\n",
      "['auroc', 'auprc', 'accuracy']\n",
      "Validation Metrics:\n",
      "\tLoss: 154.4226\n",
      "\tauroc: 0.8530\n",
      "\tauprc: 0.5919\n",
      "\taccuracy: 0.8808\n",
      "\tepoch: 6.0000\n",
      "Epoch 7:\n",
      "Train Metrics:\n",
      "\tLoss:650.3175, Acc: 0.8769:\n",
      "finished evaluation\n",
      "['auroc', 'auprc', 'accuracy']\n",
      "Validation Metrics:\n",
      "\tLoss: 153.4820\n",
      "\tauroc: 0.8551\n",
      "\tauprc: 0.5961\n",
      "\taccuracy: 0.8814\n",
      "\tepoch: 7.0000\n",
      "Epoch 8:\n",
      "Train Metrics:\n",
      "\tLoss:643.1597, Acc: 0.8773:\n",
      "finished evaluation\n",
      "['auroc', 'auprc', 'accuracy']\n",
      "Validation Metrics:\n",
      "\tLoss: 151.4602\n",
      "\tauroc: 0.8604\n",
      "\tauprc: 0.6009\n",
      "\taccuracy: 0.8819\n",
      "\tepoch: 8.0000\n",
      "Epoch 9:\n",
      "Train Metrics:\n",
      "\tLoss:641.4914, Acc: 0.8776:\n",
      "finished evaluation\n",
      "['auroc', 'auprc', 'accuracy']\n",
      "Validation Metrics:\n",
      "\tLoss: 150.9051\n",
      "\tauroc: 0.8613\n",
      "\tauprc: 0.6012\n",
      "\taccuracy: 0.8832\n",
      "\tepoch: 9.0000\n"
     ]
    },
    {
     "data": {
      "text/html": [
       "Waiting for W&B process to finish... <strong style=\"color:green\">(success).</strong>"
      ],
      "text/plain": [
       "<IPython.core.display.HTML object>"
      ]
     },
     "metadata": {},
     "output_type": "display_data"
    },
    {
     "data": {
      "application/vnd.jupyter.widget-view+json": {
       "model_id": "37851c0d34894c53be339321029ee109",
       "version_major": 2,
       "version_minor": 0
      },
      "text/plain": [
       "VBox(children=(Label(value='0.008 MB of 0.008 MB uploaded (0.000 MB deduped)\\r'), FloatProgress(value=1.0, max…"
      ]
     },
     "metadata": {},
     "output_type": "display_data"
    },
    {
     "data": {
      "text/html": [
       "<style>\n",
       "    table.wandb td:nth-child(1) { padding: 0 10px; text-align: left ; width: auto;} td:nth-child(2) {text-align: left ; width: 100%}\n",
       "    .wandb-row { display: flex; flex-direction: row; flex-wrap: wrap; justify-content: flex-start; width: 100% }\n",
       "    .wandb-col { display: flex; flex-direction: column; flex-basis: 100%; flex: 1; padding: 10px; }\n",
       "    </style>\n",
       "<div class=\"wandb-row\"><div class=\"wandb-col\"><h3>Run history:</h3><br/><table class=\"wandb\"><tr><td>train_accuracy</td><td>▁▆▇▇██████</td></tr><tr><td>train_loss</td><td>█▃▂▂▂▁▁▁▁▁</td></tr><tr><td>val_accuracy</td><td>▁▄▇▇▇▇████</td></tr><tr><td>val_auprc</td><td>▁▃▅▆▇▇▇███</td></tr><tr><td>val_auroc</td><td>▁▄▆▆▇▇▇███</td></tr><tr><td>val_loss</td><td>█▅▃▃▂▂▂▁▁▁</td></tr></table><br/></div><div class=\"wandb-col\"><h3>Run summary:</h3><br/><table class=\"wandb\"><tr><td>train_accuracy</td><td>0.8776</td></tr><tr><td>train_loss</td><td>641.49143</td></tr><tr><td>val_accuracy</td><td>0.88315</td></tr><tr><td>val_auprc</td><td>0.6012</td></tr><tr><td>val_auroc</td><td>0.86134</td></tr><tr><td>val_loss</td><td>150.90511</td></tr></table><br/></div></div>"
      ],
      "text/plain": [
       "<IPython.core.display.HTML object>"
      ]
     },
     "metadata": {},
     "output_type": "display_data"
    },
    {
     "data": {
      "text/html": [
       " View run <strong style=\"color:#cdcd00\">kmer_128</strong> at: <a href='https://wandb.ai/pranavmahabs/bind_gps/runs/u7dl8cdc' target=\"_blank\">https://wandb.ai/pranavmahabs/bind_gps/runs/u7dl8cdc</a><br/>Synced 5 W&B file(s), 0 media file(s), 0 artifact file(s) and 0 other file(s)"
      ],
      "text/plain": [
       "<IPython.core.display.HTML object>"
      ]
     },
     "metadata": {},
     "output_type": "display_data"
    },
    {
     "data": {
      "text/html": [
       "Find logs at: <code>./wandb/run-20250711_233940-u7dl8cdc/logs</code>"
      ],
      "text/plain": [
       "<IPython.core.display.HTML object>"
      ]
     },
     "metadata": {},
     "output_type": "display_data"
    },
    {
     "name": "stderr",
     "output_type": "stream",
     "text": [
      "\u001b[34m\u001b[1mwandb\u001b[0m: Agent Starting Run: ff0lquqc with config:\n",
      "\u001b[34m\u001b[1mwandb\u001b[0m: \tepochs: 10\n",
      "\u001b[34m\u001b[1mwandb\u001b[0m: \thidden_dims: [128, 64]\n",
      "\u001b[34m\u001b[1mwandb\u001b[0m: \tlr: 0.0001\n",
      "\u001b[34m\u001b[1mwandb\u001b[0m: \tmetrics: ['auroc', 'auprc', 'accuracy']\n",
      "\u001b[34m\u001b[1mwandb\u001b[0m: \tname: kmer_128\n",
      "\u001b[34m\u001b[1mwandb\u001b[0m: \toutdir: models/kmer_128\n",
      "\u001b[34m\u001b[1mwandb\u001b[0m: \tseed: 42\n",
      "\u001b[34m\u001b[1mwandb\u001b[0m: \ttarget: auroc\n",
      "\u001b[34m\u001b[1mwandb\u001b[0m: \ttask: gene\n",
      "\u001b[34m\u001b[1mwandb\u001b[0m: \twd: 1e-05\n",
      "\u001b[34m\u001b[1mwandb\u001b[0m: \tweighted: True\n",
      "Failed to detect the name of this notebook, you can set it manually with the WANDB_NOTEBOOK_NAME environment variable to enable code saving.\n",
      "\u001b[34m\u001b[1mwandb\u001b[0m: \u001b[33mWARNING\u001b[0m Ignored wandb.init() arg project when running a sweep.\n"
     ]
    },
    {
     "data": {
      "text/html": [
       "wandb version 0.21.0 is available!  To upgrade, please run:\n",
       " $ pip install wandb --upgrade"
      ],
      "text/plain": [
       "<IPython.core.display.HTML object>"
      ]
     },
     "metadata": {},
     "output_type": "display_data"
    },
    {
     "data": {
      "text/html": [
       "Tracking run with wandb version 0.15.4"
      ],
      "text/plain": [
       "<IPython.core.display.HTML object>"
      ]
     },
     "metadata": {},
     "output_type": "display_data"
    },
    {
     "data": {
      "text/html": [
       "Run data is saved locally in <code>/oscar/data/larschan/shared_data/bind_gps/seq_modeling/wandb/run-20250711_234031-ff0lquqc</code>"
      ],
      "text/plain": [
       "<IPython.core.display.HTML object>"
      ]
     },
     "metadata": {},
     "output_type": "display_data"
    },
    {
     "data": {
      "text/html": [
       "Syncing run <strong><a href='https://wandb.ai/pranavmahabs/bind_gps/runs/ff0lquqc' target=\"_blank\">kmer_128</a></strong> to <a href='https://wandb.ai/pranavmahabs/bind_gps' target=\"_blank\">Weights & Biases</a> (<a href='https://wandb.me/run' target=\"_blank\">docs</a>)<br/>Sweep page: <a href='https://wandb.ai/pranavmahabs/bind_gps/sweeps/ms3id6yy' target=\"_blank\">https://wandb.ai/pranavmahabs/bind_gps/sweeps/ms3id6yy</a>"
      ],
      "text/plain": [
       "<IPython.core.display.HTML object>"
      ]
     },
     "metadata": {},
     "output_type": "display_data"
    },
    {
     "data": {
      "text/html": [
       " View project at <a href='https://wandb.ai/pranavmahabs/bind_gps' target=\"_blank\">https://wandb.ai/pranavmahabs/bind_gps</a>"
      ],
      "text/plain": [
       "<IPython.core.display.HTML object>"
      ]
     },
     "metadata": {},
     "output_type": "display_data"
    },
    {
     "data": {
      "text/html": [
       " View sweep at <a href='https://wandb.ai/pranavmahabs/bind_gps/sweeps/ms3id6yy' target=\"_blank\">https://wandb.ai/pranavmahabs/bind_gps/sweeps/ms3id6yy</a>"
      ],
      "text/plain": [
       "<IPython.core.display.HTML object>"
      ]
     },
     "metadata": {},
     "output_type": "display_data"
    },
    {
     "data": {
      "text/html": [
       " View run at <a href='https://wandb.ai/pranavmahabs/bind_gps/runs/ff0lquqc' target=\"_blank\">https://wandb.ai/pranavmahabs/bind_gps/runs/ff0lquqc</a>"
      ],
      "text/plain": [
       "<IPython.core.display.HTML object>"
      ]
     },
     "metadata": {},
     "output_type": "display_data"
    },
    {
     "name": "stdout",
     "output_type": "stream",
     "text": [
      "Epoch 0:\n",
      "Train Metrics:\n",
      "\tLoss:1836.2155, Acc: 0.4253:\n",
      "finished evaluation\n",
      "['auroc', 'auprc', 'accuracy']\n",
      "Validation Metrics:\n",
      "\tLoss: 446.6750\n",
      "\tauroc: 0.6676\n",
      "\tauprc: 0.4605\n",
      "\taccuracy: 0.3815\n",
      "\tepoch: 0.0000\n",
      "Epoch 1:\n",
      "Train Metrics:\n",
      "\tLoss:1750.2576, Acc: 0.4834:\n",
      "finished evaluation\n",
      "['auroc', 'auprc', 'accuracy']\n",
      "Validation Metrics:\n",
      "\tLoss: 433.2540\n",
      "\tauroc: 0.6822\n",
      "\tauprc: 0.4785\n",
      "\taccuracy: 0.4383\n",
      "\tepoch: 1.0000\n",
      "Epoch 2:\n",
      "Train Metrics:\n",
      "\tLoss:1721.5718, Acc: 0.5004:\n",
      "finished evaluation\n",
      "['auroc', 'auprc', 'accuracy']\n",
      "Validation Metrics:\n",
      "\tLoss: 431.8229\n",
      "\tauroc: 0.6862\n",
      "\tauprc: 0.4822\n",
      "\taccuracy: 0.4418\n",
      "\tepoch: 2.0000\n",
      "Epoch 3:\n",
      "Train Metrics:\n",
      "\tLoss:1707.2063, Acc: 0.5100:\n",
      "finished evaluation\n",
      "['auroc', 'auprc', 'accuracy']\n",
      "Validation Metrics:\n",
      "\tLoss: 427.9693\n",
      "\tauroc: 0.6897\n",
      "\tauprc: 0.4863\n",
      "\taccuracy: 0.4485\n",
      "\tepoch: 3.0000\n",
      "Epoch 4:\n",
      "Train Metrics:\n",
      "\tLoss:1698.9633, Acc: 0.5148:\n",
      "finished evaluation\n",
      "['auroc', 'auprc', 'accuracy']\n",
      "Validation Metrics:\n",
      "\tLoss: 424.4298\n",
      "\tauroc: 0.6950\n",
      "\tauprc: 0.4917\n",
      "\taccuracy: 0.4740\n",
      "\tepoch: 4.0000\n",
      "Epoch 5:\n",
      "Train Metrics:\n",
      "\tLoss:1689.9644, Acc: 0.5179:\n",
      "finished evaluation\n",
      "['auroc', 'auprc', 'accuracy']\n",
      "Validation Metrics:\n",
      "\tLoss: 423.5468\n",
      "\tauroc: 0.7009\n",
      "\tauprc: 0.4975\n",
      "\taccuracy: 0.4891\n",
      "\tepoch: 5.0000\n",
      "Epoch 6:\n",
      "Train Metrics:\n",
      "\tLoss:1685.0750, Acc: 0.5222:\n",
      "finished evaluation\n",
      "['auroc', 'auprc', 'accuracy']\n",
      "Validation Metrics:\n",
      "\tLoss: 421.7444\n",
      "\tauroc: 0.7048\n",
      "\tauprc: 0.5002\n",
      "\taccuracy: 0.5049\n",
      "\tepoch: 6.0000\n",
      "Epoch 7:\n",
      "Train Metrics:\n",
      "\tLoss:1677.0229, Acc: 0.5263:\n",
      "finished evaluation\n",
      "['auroc', 'auprc', 'accuracy']\n",
      "Validation Metrics:\n",
      "\tLoss: 421.2184\n",
      "\tauroc: 0.7047\n",
      "\tauprc: 0.5005\n",
      "\taccuracy: 0.4774\n",
      "Epoch 8:\n",
      "Train Metrics:\n",
      "\tLoss:1673.6209, Acc: 0.5312:\n",
      "finished evaluation\n",
      "['auroc', 'auprc', 'accuracy']\n",
      "Validation Metrics:\n",
      "\tLoss: 419.3608\n",
      "\tauroc: 0.7078\n",
      "\tauprc: 0.5034\n",
      "\taccuracy: 0.5037\n",
      "\tepoch: 8.0000\n",
      "Epoch 9:\n",
      "Train Metrics:\n",
      "\tLoss:1667.3193, Acc: 0.5315:\n",
      "finished evaluation\n",
      "['auroc', 'auprc', 'accuracy']\n",
      "Validation Metrics:\n",
      "\tLoss: 416.2811\n",
      "\tauroc: 0.7102\n",
      "\tauprc: 0.5063\n",
      "\taccuracy: 0.5240\n",
      "\tepoch: 9.0000\n"
     ]
    },
    {
     "data": {
      "text/html": [
       "Waiting for W&B process to finish... <strong style=\"color:green\">(success).</strong>"
      ],
      "text/plain": [
       "<IPython.core.display.HTML object>"
      ]
     },
     "metadata": {},
     "output_type": "display_data"
    },
    {
     "data": {
      "application/vnd.jupyter.widget-view+json": {
       "model_id": "5bf83b35e9934e23b72a10526d169ea3",
       "version_major": 2,
       "version_minor": 0
      },
      "text/plain": [
       "VBox(children=(Label(value='0.008 MB of 0.008 MB uploaded (0.000 MB deduped)\\r'), FloatProgress(value=1.0, max…"
      ]
     },
     "metadata": {},
     "output_type": "display_data"
    },
    {
     "data": {
      "text/html": [
       "<style>\n",
       "    table.wandb td:nth-child(1) { padding: 0 10px; text-align: left ; width: auto;} td:nth-child(2) {text-align: left ; width: 100%}\n",
       "    .wandb-row { display: flex; flex-direction: row; flex-wrap: wrap; justify-content: flex-start; width: 100% }\n",
       "    .wandb-col { display: flex; flex-direction: column; flex-basis: 100%; flex: 1; padding: 10px; }\n",
       "    </style>\n",
       "<div class=\"wandb-row\"><div class=\"wandb-col\"><h3>Run history:</h3><br/><table class=\"wandb\"><tr><td>train_accuracy</td><td>▁▅▆▇▇▇▇███</td></tr><tr><td>train_loss</td><td>█▄▃▃▂▂▂▁▁▁</td></tr><tr><td>val_accuracy</td><td>▁▄▄▄▆▆▇▆▇█</td></tr><tr><td>val_auprc</td><td>▁▄▄▅▆▇▇▇██</td></tr><tr><td>val_auroc</td><td>▁▃▄▅▆▆▇▇██</td></tr><tr><td>val_loss</td><td>█▅▅▄▃▃▂▂▂▁</td></tr></table><br/></div><div class=\"wandb-col\"><h3>Run summary:</h3><br/><table class=\"wandb\"><tr><td>train_accuracy</td><td>0.53148</td></tr><tr><td>train_loss</td><td>1667.31927</td></tr><tr><td>val_accuracy</td><td>0.52404</td></tr><tr><td>val_auprc</td><td>0.50629</td></tr><tr><td>val_auroc</td><td>0.71016</td></tr><tr><td>val_loss</td><td>416.28113</td></tr></table><br/></div></div>"
      ],
      "text/plain": [
       "<IPython.core.display.HTML object>"
      ]
     },
     "metadata": {},
     "output_type": "display_data"
    },
    {
     "data": {
      "text/html": [
       " View run <strong style=\"color:#cdcd00\">kmer_128</strong> at: <a href='https://wandb.ai/pranavmahabs/bind_gps/runs/ff0lquqc' target=\"_blank\">https://wandb.ai/pranavmahabs/bind_gps/runs/ff0lquqc</a><br/>Synced 5 W&B file(s), 0 media file(s), 0 artifact file(s) and 0 other file(s)"
      ],
      "text/plain": [
       "<IPython.core.display.HTML object>"
      ]
     },
     "metadata": {},
     "output_type": "display_data"
    },
    {
     "data": {
      "text/html": [
       "Find logs at: <code>./wandb/run-20250711_234031-ff0lquqc/logs</code>"
      ],
      "text/plain": [
       "<IPython.core.display.HTML object>"
      ]
     },
     "metadata": {},
     "output_type": "display_data"
    },
    {
     "name": "stderr",
     "output_type": "stream",
     "text": [
      "\u001b[34m\u001b[1mwandb\u001b[0m: Agent Starting Run: 1j0cf1jd with config:\n",
      "\u001b[34m\u001b[1mwandb\u001b[0m: \tepochs: 10\n",
      "\u001b[34m\u001b[1mwandb\u001b[0m: \thidden_dims: [128, 64]\n",
      "\u001b[34m\u001b[1mwandb\u001b[0m: \tlr: 0.0001\n",
      "\u001b[34m\u001b[1mwandb\u001b[0m: \tmetrics: ['auroc', 'auprc', 'accuracy']\n",
      "\u001b[34m\u001b[1mwandb\u001b[0m: \tname: kmer_128\n",
      "\u001b[34m\u001b[1mwandb\u001b[0m: \toutdir: models/kmer_128\n",
      "\u001b[34m\u001b[1mwandb\u001b[0m: \tseed: 42\n",
      "\u001b[34m\u001b[1mwandb\u001b[0m: \ttarget: auroc\n",
      "\u001b[34m\u001b[1mwandb\u001b[0m: \ttask: gene\n",
      "\u001b[34m\u001b[1mwandb\u001b[0m: \twd: 1e-05\n",
      "\u001b[34m\u001b[1mwandb\u001b[0m: \tweighted: False\n",
      "Failed to detect the name of this notebook, you can set it manually with the WANDB_NOTEBOOK_NAME environment variable to enable code saving.\n",
      "\u001b[34m\u001b[1mwandb\u001b[0m: \u001b[33mWARNING\u001b[0m Ignored wandb.init() arg project when running a sweep.\n"
     ]
    },
    {
     "data": {
      "text/html": [
       "wandb version 0.21.0 is available!  To upgrade, please run:\n",
       " $ pip install wandb --upgrade"
      ],
      "text/plain": [
       "<IPython.core.display.HTML object>"
      ]
     },
     "metadata": {},
     "output_type": "display_data"
    },
    {
     "data": {
      "text/html": [
       "Tracking run with wandb version 0.15.4"
      ],
      "text/plain": [
       "<IPython.core.display.HTML object>"
      ]
     },
     "metadata": {},
     "output_type": "display_data"
    },
    {
     "data": {
      "text/html": [
       "Run data is saved locally in <code>/oscar/data/larschan/shared_data/bind_gps/seq_modeling/wandb/run-20250711_234126-1j0cf1jd</code>"
      ],
      "text/plain": [
       "<IPython.core.display.HTML object>"
      ]
     },
     "metadata": {},
     "output_type": "display_data"
    },
    {
     "data": {
      "text/html": [
       "Syncing run <strong><a href='https://wandb.ai/pranavmahabs/bind_gps/runs/1j0cf1jd' target=\"_blank\">kmer_128</a></strong> to <a href='https://wandb.ai/pranavmahabs/bind_gps' target=\"_blank\">Weights & Biases</a> (<a href='https://wandb.me/run' target=\"_blank\">docs</a>)<br/>Sweep page: <a href='https://wandb.ai/pranavmahabs/bind_gps/sweeps/ms3id6yy' target=\"_blank\">https://wandb.ai/pranavmahabs/bind_gps/sweeps/ms3id6yy</a>"
      ],
      "text/plain": [
       "<IPython.core.display.HTML object>"
      ]
     },
     "metadata": {},
     "output_type": "display_data"
    },
    {
     "data": {
      "text/html": [
       " View project at <a href='https://wandb.ai/pranavmahabs/bind_gps' target=\"_blank\">https://wandb.ai/pranavmahabs/bind_gps</a>"
      ],
      "text/plain": [
       "<IPython.core.display.HTML object>"
      ]
     },
     "metadata": {},
     "output_type": "display_data"
    },
    {
     "data": {
      "text/html": [
       " View sweep at <a href='https://wandb.ai/pranavmahabs/bind_gps/sweeps/ms3id6yy' target=\"_blank\">https://wandb.ai/pranavmahabs/bind_gps/sweeps/ms3id6yy</a>"
      ],
      "text/plain": [
       "<IPython.core.display.HTML object>"
      ]
     },
     "metadata": {},
     "output_type": "display_data"
    },
    {
     "data": {
      "text/html": [
       " View run at <a href='https://wandb.ai/pranavmahabs/bind_gps/runs/1j0cf1jd' target=\"_blank\">https://wandb.ai/pranavmahabs/bind_gps/runs/1j0cf1jd</a>"
      ],
      "text/plain": [
       "<IPython.core.display.HTML object>"
      ]
     },
     "metadata": {},
     "output_type": "display_data"
    },
    {
     "name": "stdout",
     "output_type": "stream",
     "text": [
      "Epoch 0:\n",
      "Train Metrics:\n",
      "\tLoss:1552.0662, Acc: 0.5858:\n",
      "finished evaluation\n",
      "['auroc', 'auprc', 'accuracy']\n",
      "Validation Metrics:\n",
      "\tLoss: 371.9972\n",
      "\tauroc: 0.6670\n",
      "\tauprc: 0.4582\n",
      "\taccuracy: 0.6010\n",
      "\tepoch: 0.0000\n",
      "Epoch 1:\n",
      "Train Metrics:\n",
      "\tLoss:1468.2562, Acc: 0.6054:\n",
      "finished evaluation\n",
      "['auroc', 'auprc', 'accuracy']\n",
      "Validation Metrics:\n",
      "\tLoss: 365.9622\n",
      "\tauroc: 0.6905\n",
      "\tauprc: 0.4809\n",
      "\taccuracy: 0.6185\n",
      "\tepoch: 1.0000\n",
      "Epoch 2:\n",
      "Train Metrics:\n",
      "\tLoss:1447.2072, Acc: 0.6109:\n",
      "finished evaluation\n",
      "['auroc', 'auprc', 'accuracy']\n",
      "Validation Metrics:\n",
      "\tLoss: 358.1918\n",
      "\tauroc: 0.7001\n",
      "\tauprc: 0.4907\n",
      "\taccuracy: 0.6244\n",
      "\tepoch: 2.0000\n",
      "Epoch 3:\n",
      "Train Metrics:\n",
      "\tLoss:1434.4231, Acc: 0.6154:\n",
      "finished evaluation\n",
      "['auroc', 'auprc', 'accuracy']\n",
      "Validation Metrics:\n",
      "\tLoss: 357.8039\n",
      "\tauroc: 0.7046\n",
      "\tauprc: 0.4961\n",
      "\taccuracy: 0.6259\n",
      "\tepoch: 3.0000\n",
      "Epoch 4:\n",
      "Train Metrics:\n",
      "\tLoss:1422.4638, Acc: 0.6187:\n",
      "finished evaluation\n",
      "['auroc', 'auprc', 'accuracy']\n",
      "Validation Metrics:\n",
      "\tLoss: 353.4531\n",
      "\tauroc: 0.7109\n",
      "\tauprc: 0.5050\n",
      "\taccuracy: 0.6277\n",
      "\tepoch: 4.0000\n",
      "Epoch 5:\n",
      "Train Metrics:\n",
      "\tLoss:1415.0336, Acc: 0.6208:\n",
      "finished evaluation\n",
      "['auroc', 'auprc', 'accuracy']\n",
      "Validation Metrics:\n",
      "\tLoss: 350.7944\n",
      "\tauroc: 0.7151\n",
      "\tauprc: 0.5097\n",
      "\taccuracy: 0.6307\n",
      "\tepoch: 5.0000\n",
      "Epoch 6:\n",
      "Train Metrics:\n",
      "\tLoss:1410.5081, Acc: 0.6231:\n",
      "finished evaluation\n",
      "['auroc', 'auprc', 'accuracy']\n",
      "Validation Metrics:\n",
      "\tLoss: 350.2745\n",
      "\tauroc: 0.7173\n",
      "\tauprc: 0.5136\n",
      "\taccuracy: 0.6326\n",
      "\tepoch: 6.0000\n",
      "Epoch 7:\n",
      "Train Metrics:\n",
      "\tLoss:1405.6984, Acc: 0.6251:\n",
      "finished evaluation\n",
      "['auroc', 'auprc', 'accuracy']\n",
      "Validation Metrics:\n",
      "\tLoss: 354.4022\n",
      "\tauroc: 0.7152\n",
      "\tauprc: 0.5109\n",
      "\taccuracy: 0.6297\n",
      "Epoch 8:\n",
      "Train Metrics:\n",
      "\tLoss:1400.7284, Acc: 0.6259:\n",
      "finished evaluation\n",
      "['auroc', 'auprc', 'accuracy']\n",
      "Validation Metrics:\n",
      "\tLoss: 346.2672\n",
      "\tauroc: 0.7223\n",
      "\tauprc: 0.5179\n",
      "\taccuracy: 0.6355\n",
      "\tepoch: 8.0000\n",
      "Epoch 9:\n",
      "Train Metrics:\n",
      "\tLoss:1395.6072, Acc: 0.6283:\n",
      "finished evaluation\n",
      "['auroc', 'auprc', 'accuracy']\n",
      "Validation Metrics:\n",
      "\tLoss: 347.7228\n",
      "\tauroc: 0.7231\n",
      "\tauprc: 0.5185\n",
      "\taccuracy: 0.6343\n",
      "\tepoch: 9.0000\n"
     ]
    },
    {
     "data": {
      "text/html": [
       "Waiting for W&B process to finish... <strong style=\"color:green\">(success).</strong>"
      ],
      "text/plain": [
       "<IPython.core.display.HTML object>"
      ]
     },
     "metadata": {},
     "output_type": "display_data"
    },
    {
     "data": {
      "text/html": [
       "<style>\n",
       "    table.wandb td:nth-child(1) { padding: 0 10px; text-align: left ; width: auto;} td:nth-child(2) {text-align: left ; width: 100%}\n",
       "    .wandb-row { display: flex; flex-direction: row; flex-wrap: wrap; justify-content: flex-start; width: 100% }\n",
       "    .wandb-col { display: flex; flex-direction: column; flex-basis: 100%; flex: 1; padding: 10px; }\n",
       "    </style>\n",
       "<div class=\"wandb-row\"><div class=\"wandb-col\"><h3>Run history:</h3><br/><table class=\"wandb\"><tr><td>train_accuracy</td><td>▁▄▅▆▆▇▇▇██</td></tr><tr><td>train_loss</td><td>█▄▃▃▂▂▂▁▁▁</td></tr><tr><td>val_accuracy</td><td>▁▅▆▆▆▇▇▇██</td></tr><tr><td>val_auprc</td><td>▁▄▅▅▆▇▇▇██</td></tr><tr><td>val_auroc</td><td>▁▄▅▆▆▇▇▇██</td></tr><tr><td>val_loss</td><td>█▆▄▄▃▂▂▃▁▁</td></tr></table><br/></div><div class=\"wandb-col\"><h3>Run summary:</h3><br/><table class=\"wandb\"><tr><td>train_accuracy</td><td>0.62827</td></tr><tr><td>train_loss</td><td>1395.60718</td></tr><tr><td>val_accuracy</td><td>0.63431</td></tr><tr><td>val_auprc</td><td>0.5185</td></tr><tr><td>val_auroc</td><td>0.7231</td></tr><tr><td>val_loss</td><td>347.72281</td></tr></table><br/></div></div>"
      ],
      "text/plain": [
       "<IPython.core.display.HTML object>"
      ]
     },
     "metadata": {},
     "output_type": "display_data"
    },
    {
     "data": {
      "text/html": [
       " View run <strong style=\"color:#cdcd00\">kmer_128</strong> at: <a href='https://wandb.ai/pranavmahabs/bind_gps/runs/1j0cf1jd' target=\"_blank\">https://wandb.ai/pranavmahabs/bind_gps/runs/1j0cf1jd</a><br/>Synced 5 W&B file(s), 0 media file(s), 0 artifact file(s) and 0 other file(s)"
      ],
      "text/plain": [
       "<IPython.core.display.HTML object>"
      ]
     },
     "metadata": {},
     "output_type": "display_data"
    },
    {
     "data": {
      "text/html": [
       "Find logs at: <code>./wandb/run-20250711_234126-1j0cf1jd/logs</code>"
      ],
      "text/plain": [
       "<IPython.core.display.HTML object>"
      ]
     },
     "metadata": {},
     "output_type": "display_data"
    },
    {
     "name": "stderr",
     "output_type": "stream",
     "text": [
      "\u001b[34m\u001b[1mwandb\u001b[0m: Agent Starting Run: huf0ds9u with config:\n",
      "\u001b[34m\u001b[1mwandb\u001b[0m: \tepochs: 10\n",
      "\u001b[34m\u001b[1mwandb\u001b[0m: \thidden_dims: [128, 64]\n",
      "\u001b[34m\u001b[1mwandb\u001b[0m: \tlr: 0.0001\n",
      "\u001b[34m\u001b[1mwandb\u001b[0m: \tmetrics: ['auroc', 'auprc', 'accuracy']\n",
      "\u001b[34m\u001b[1mwandb\u001b[0m: \tname: kmer_128\n",
      "\u001b[34m\u001b[1mwandb\u001b[0m: \toutdir: models/kmer_128\n",
      "\u001b[34m\u001b[1mwandb\u001b[0m: \tseed: 42\n",
      "\u001b[34m\u001b[1mwandb\u001b[0m: \ttarget: auroc\n",
      "\u001b[34m\u001b[1mwandb\u001b[0m: \ttask: gene\n",
      "\u001b[34m\u001b[1mwandb\u001b[0m: \twd: 1e-06\n",
      "\u001b[34m\u001b[1mwandb\u001b[0m: \tweighted: True\n",
      "Failed to detect the name of this notebook, you can set it manually with the WANDB_NOTEBOOK_NAME environment variable to enable code saving.\n",
      "\u001b[34m\u001b[1mwandb\u001b[0m: \u001b[33mWARNING\u001b[0m Ignored wandb.init() arg project when running a sweep.\n"
     ]
    },
    {
     "data": {
      "text/html": [
       "wandb version 0.21.0 is available!  To upgrade, please run:\n",
       " $ pip install wandb --upgrade"
      ],
      "text/plain": [
       "<IPython.core.display.HTML object>"
      ]
     },
     "metadata": {},
     "output_type": "display_data"
    },
    {
     "data": {
      "text/html": [
       "Tracking run with wandb version 0.15.4"
      ],
      "text/plain": [
       "<IPython.core.display.HTML object>"
      ]
     },
     "metadata": {},
     "output_type": "display_data"
    },
    {
     "data": {
      "text/html": [
       "Run data is saved locally in <code>/oscar/data/larschan/shared_data/bind_gps/seq_modeling/wandb/run-20250711_234218-huf0ds9u</code>"
      ],
      "text/plain": [
       "<IPython.core.display.HTML object>"
      ]
     },
     "metadata": {},
     "output_type": "display_data"
    },
    {
     "data": {
      "text/html": [
       "Syncing run <strong><a href='https://wandb.ai/pranavmahabs/bind_gps/runs/huf0ds9u' target=\"_blank\">kmer_128</a></strong> to <a href='https://wandb.ai/pranavmahabs/bind_gps' target=\"_blank\">Weights & Biases</a> (<a href='https://wandb.me/run' target=\"_blank\">docs</a>)<br/>Sweep page: <a href='https://wandb.ai/pranavmahabs/bind_gps/sweeps/ms3id6yy' target=\"_blank\">https://wandb.ai/pranavmahabs/bind_gps/sweeps/ms3id6yy</a>"
      ],
      "text/plain": [
       "<IPython.core.display.HTML object>"
      ]
     },
     "metadata": {},
     "output_type": "display_data"
    },
    {
     "data": {
      "text/html": [
       " View project at <a href='https://wandb.ai/pranavmahabs/bind_gps' target=\"_blank\">https://wandb.ai/pranavmahabs/bind_gps</a>"
      ],
      "text/plain": [
       "<IPython.core.display.HTML object>"
      ]
     },
     "metadata": {},
     "output_type": "display_data"
    },
    {
     "data": {
      "text/html": [
       " View sweep at <a href='https://wandb.ai/pranavmahabs/bind_gps/sweeps/ms3id6yy' target=\"_blank\">https://wandb.ai/pranavmahabs/bind_gps/sweeps/ms3id6yy</a>"
      ],
      "text/plain": [
       "<IPython.core.display.HTML object>"
      ]
     },
     "metadata": {},
     "output_type": "display_data"
    },
    {
     "data": {
      "text/html": [
       " View run at <a href='https://wandb.ai/pranavmahabs/bind_gps/runs/huf0ds9u' target=\"_blank\">https://wandb.ai/pranavmahabs/bind_gps/runs/huf0ds9u</a>"
      ],
      "text/plain": [
       "<IPython.core.display.HTML object>"
      ]
     },
     "metadata": {},
     "output_type": "display_data"
    },
    {
     "name": "stdout",
     "output_type": "stream",
     "text": [
      "Epoch 0:\n",
      "Train Metrics:\n",
      "\tLoss:1826.3920, Acc: 0.4266:\n",
      "finished evaluation\n",
      "['auroc', 'auprc', 'accuracy']\n",
      "Validation Metrics:\n",
      "\tLoss: 437.8860\n",
      "\tauroc: 0.6674\n",
      "\tauprc: 0.4610\n",
      "\taccuracy: 0.4197\n",
      "\tepoch: 0.0000\n",
      "Epoch 1:\n",
      "Train Metrics:\n",
      "\tLoss:1747.3243, Acc: 0.4866:\n",
      "finished evaluation\n",
      "['auroc', 'auprc', 'accuracy']\n",
      "Validation Metrics:\n",
      "\tLoss: 433.7804\n",
      "\tauroc: 0.6779\n",
      "\tauprc: 0.4742\n",
      "\taccuracy: 0.4194\n",
      "\tepoch: 1.0000\n",
      "Epoch 2:\n",
      "Train Metrics:\n",
      "\tLoss:1722.6611, Acc: 0.5003:\n",
      "finished evaluation\n",
      "['auroc', 'auprc', 'accuracy']\n",
      "Validation Metrics:\n",
      "\tLoss: 438.1209\n",
      "\tauroc: 0.6830\n",
      "\tauprc: 0.4796\n",
      "\taccuracy: 0.3877\n",
      "\tepoch: 2.0000\n",
      "Epoch 3:\n",
      "Train Metrics:\n",
      "\tLoss:1706.6841, Acc: 0.5088:\n",
      "finished evaluation\n",
      "['auroc', 'auprc', 'accuracy']\n",
      "Validation Metrics:\n",
      "\tLoss: 428.5460\n",
      "\tauroc: 0.6873\n",
      "\tauprc: 0.4840\n",
      "\taccuracy: 0.4340\n",
      "\tepoch: 3.0000\n",
      "Epoch 4:\n",
      "Train Metrics:\n",
      "\tLoss:1700.9887, Acc: 0.5092:\n",
      "finished evaluation\n",
      "['auroc', 'auprc', 'accuracy']\n",
      "Validation Metrics:\n",
      "\tLoss: 424.4900\n",
      "\tauroc: 0.6914\n",
      "\tauprc: 0.4888\n",
      "\taccuracy: 0.4524\n",
      "\tepoch: 4.0000\n",
      "Epoch 5:\n",
      "Train Metrics:\n",
      "\tLoss:1688.9195, Acc: 0.5138:\n",
      "finished evaluation\n",
      "['auroc', 'auprc', 'accuracy']\n",
      "Validation Metrics:\n",
      "\tLoss: 422.7612\n",
      "\tauroc: 0.6964\n",
      "\tauprc: 0.4928\n",
      "\taccuracy: 0.4736\n",
      "\tepoch: 5.0000\n",
      "Epoch 6:\n",
      "Train Metrics:\n",
      "\tLoss:1682.7091, Acc: 0.5215:\n",
      "finished evaluation\n",
      "['auroc', 'auprc', 'accuracy']\n",
      "Validation Metrics:\n",
      "\tLoss: 420.0352\n",
      "\tauroc: 0.7026\n",
      "\tauprc: 0.5003\n",
      "\taccuracy: 0.5074\n",
      "\tepoch: 6.0000\n",
      "Epoch 7:\n",
      "Train Metrics:\n",
      "\tLoss:1677.2900, Acc: 0.5257:\n",
      "finished evaluation\n",
      "['auroc', 'auprc', 'accuracy']\n",
      "Validation Metrics:\n",
      "\tLoss: 417.7175\n",
      "\tauroc: 0.7060\n",
      "\tauprc: 0.5034\n",
      "\taccuracy: 0.5188\n",
      "\tepoch: 7.0000\n",
      "Epoch 8:\n",
      "Train Metrics:\n",
      "\tLoss:1670.3146, Acc: 0.5272:\n",
      "finished evaluation\n",
      "['auroc', 'auprc', 'accuracy']\n",
      "Validation Metrics:\n",
      "\tLoss: 417.8013\n",
      "\tauroc: 0.7054\n",
      "\tauprc: 0.5019\n",
      "\taccuracy: 0.5012\n",
      "Epoch 9:\n",
      "Train Metrics:\n",
      "\tLoss:1665.3346, Acc: 0.5333:\n",
      "finished evaluation\n",
      "['auroc', 'auprc', 'accuracy']\n",
      "Validation Metrics:\n",
      "\tLoss: 416.7180\n",
      "\tauroc: 0.7076\n",
      "\tauprc: 0.5046\n",
      "\taccuracy: 0.5166\n",
      "\tepoch: 9.0000\n"
     ]
    },
    {
     "data": {
      "text/html": [
       "Waiting for W&B process to finish... <strong style=\"color:green\">(success).</strong>"
      ],
      "text/plain": [
       "<IPython.core.display.HTML object>"
      ]
     },
     "metadata": {},
     "output_type": "display_data"
    },
    {
     "data": {
      "application/vnd.jupyter.widget-view+json": {
       "model_id": "5e8541b0ef5f442f8c5ef4cd1ceed8e8",
       "version_major": 2,
       "version_minor": 0
      },
      "text/plain": [
       "VBox(children=(Label(value='0.008 MB of 0.008 MB uploaded (0.000 MB deduped)\\r'), FloatProgress(value=1.0, max…"
      ]
     },
     "metadata": {},
     "output_type": "display_data"
    },
    {
     "data": {
      "text/html": [
       "<style>\n",
       "    table.wandb td:nth-child(1) { padding: 0 10px; text-align: left ; width: auto;} td:nth-child(2) {text-align: left ; width: 100%}\n",
       "    .wandb-row { display: flex; flex-direction: row; flex-wrap: wrap; justify-content: flex-start; width: 100% }\n",
       "    .wandb-col { display: flex; flex-direction: column; flex-basis: 100%; flex: 1; padding: 10px; }\n",
       "    </style>\n",
       "<div class=\"wandb-row\"><div class=\"wandb-col\"><h3>Run history:</h3><br/><table class=\"wandb\"><tr><td>train_accuracy</td><td>▁▅▆▆▆▇▇███</td></tr><tr><td>train_loss</td><td>█▅▃▃▃▂▂▂▁▁</td></tr><tr><td>val_accuracy</td><td>▃▃▁▃▄▆▇█▇█</td></tr><tr><td>val_auprc</td><td>▁▃▄▅▅▆▇███</td></tr><tr><td>val_auroc</td><td>▁▃▄▄▅▆▇███</td></tr><tr><td>val_loss</td><td>█▇█▅▄▃▂▁▁▁</td></tr></table><br/></div><div class=\"wandb-col\"><h3>Run summary:</h3><br/><table class=\"wandb\"><tr><td>train_accuracy</td><td>0.53328</td></tr><tr><td>train_loss</td><td>1665.33456</td></tr><tr><td>val_accuracy</td><td>0.51663</td></tr><tr><td>val_auprc</td><td>0.50463</td></tr><tr><td>val_auroc</td><td>0.7076</td></tr><tr><td>val_loss</td><td>416.71802</td></tr></table><br/></div></div>"
      ],
      "text/plain": [
       "<IPython.core.display.HTML object>"
      ]
     },
     "metadata": {},
     "output_type": "display_data"
    },
    {
     "data": {
      "text/html": [
       " View run <strong style=\"color:#cdcd00\">kmer_128</strong> at: <a href='https://wandb.ai/pranavmahabs/bind_gps/runs/huf0ds9u' target=\"_blank\">https://wandb.ai/pranavmahabs/bind_gps/runs/huf0ds9u</a><br/>Synced 5 W&B file(s), 0 media file(s), 0 artifact file(s) and 0 other file(s)"
      ],
      "text/plain": [
       "<IPython.core.display.HTML object>"
      ]
     },
     "metadata": {},
     "output_type": "display_data"
    },
    {
     "data": {
      "text/html": [
       "Find logs at: <code>./wandb/run-20250711_234218-huf0ds9u/logs</code>"
      ],
      "text/plain": [
       "<IPython.core.display.HTML object>"
      ]
     },
     "metadata": {},
     "output_type": "display_data"
    },
    {
     "name": "stderr",
     "output_type": "stream",
     "text": [
      "\u001b[34m\u001b[1mwandb\u001b[0m: Agent Starting Run: dibotcn9 with config:\n",
      "\u001b[34m\u001b[1mwandb\u001b[0m: \tepochs: 10\n",
      "\u001b[34m\u001b[1mwandb\u001b[0m: \thidden_dims: [128, 64]\n",
      "\u001b[34m\u001b[1mwandb\u001b[0m: \tlr: 0.0001\n",
      "\u001b[34m\u001b[1mwandb\u001b[0m: \tmetrics: ['auroc', 'auprc', 'accuracy']\n",
      "\u001b[34m\u001b[1mwandb\u001b[0m: \tname: kmer_128\n",
      "\u001b[34m\u001b[1mwandb\u001b[0m: \toutdir: models/kmer_128\n",
      "\u001b[34m\u001b[1mwandb\u001b[0m: \tseed: 42\n",
      "\u001b[34m\u001b[1mwandb\u001b[0m: \ttarget: auroc\n",
      "\u001b[34m\u001b[1mwandb\u001b[0m: \ttask: gene\n",
      "\u001b[34m\u001b[1mwandb\u001b[0m: \twd: 1e-06\n",
      "\u001b[34m\u001b[1mwandb\u001b[0m: \tweighted: False\n",
      "Failed to detect the name of this notebook, you can set it manually with the WANDB_NOTEBOOK_NAME environment variable to enable code saving.\n",
      "\u001b[34m\u001b[1mwandb\u001b[0m: \u001b[33mWARNING\u001b[0m Ignored wandb.init() arg project when running a sweep.\n"
     ]
    },
    {
     "data": {
      "text/html": [
       "wandb version 0.21.0 is available!  To upgrade, please run:\n",
       " $ pip install wandb --upgrade"
      ],
      "text/plain": [
       "<IPython.core.display.HTML object>"
      ]
     },
     "metadata": {},
     "output_type": "display_data"
    },
    {
     "data": {
      "text/html": [
       "Tracking run with wandb version 0.15.4"
      ],
      "text/plain": [
       "<IPython.core.display.HTML object>"
      ]
     },
     "metadata": {},
     "output_type": "display_data"
    },
    {
     "data": {
      "text/html": [
       "Run data is saved locally in <code>/oscar/data/larschan/shared_data/bind_gps/seq_modeling/wandb/run-20250711_234313-dibotcn9</code>"
      ],
      "text/plain": [
       "<IPython.core.display.HTML object>"
      ]
     },
     "metadata": {},
     "output_type": "display_data"
    },
    {
     "data": {
      "text/html": [
       "Syncing run <strong><a href='https://wandb.ai/pranavmahabs/bind_gps/runs/dibotcn9' target=\"_blank\">kmer_128</a></strong> to <a href='https://wandb.ai/pranavmahabs/bind_gps' target=\"_blank\">Weights & Biases</a> (<a href='https://wandb.me/run' target=\"_blank\">docs</a>)<br/>Sweep page: <a href='https://wandb.ai/pranavmahabs/bind_gps/sweeps/ms3id6yy' target=\"_blank\">https://wandb.ai/pranavmahabs/bind_gps/sweeps/ms3id6yy</a>"
      ],
      "text/plain": [
       "<IPython.core.display.HTML object>"
      ]
     },
     "metadata": {},
     "output_type": "display_data"
    },
    {
     "data": {
      "text/html": [
       " View project at <a href='https://wandb.ai/pranavmahabs/bind_gps' target=\"_blank\">https://wandb.ai/pranavmahabs/bind_gps</a>"
      ],
      "text/plain": [
       "<IPython.core.display.HTML object>"
      ]
     },
     "metadata": {},
     "output_type": "display_data"
    },
    {
     "data": {
      "text/html": [
       " View sweep at <a href='https://wandb.ai/pranavmahabs/bind_gps/sweeps/ms3id6yy' target=\"_blank\">https://wandb.ai/pranavmahabs/bind_gps/sweeps/ms3id6yy</a>"
      ],
      "text/plain": [
       "<IPython.core.display.HTML object>"
      ]
     },
     "metadata": {},
     "output_type": "display_data"
    },
    {
     "data": {
      "text/html": [
       " View run at <a href='https://wandb.ai/pranavmahabs/bind_gps/runs/dibotcn9' target=\"_blank\">https://wandb.ai/pranavmahabs/bind_gps/runs/dibotcn9</a>"
      ],
      "text/plain": [
       "<IPython.core.display.HTML object>"
      ]
     },
     "metadata": {},
     "output_type": "display_data"
    },
    {
     "name": "stdout",
     "output_type": "stream",
     "text": [
      "Epoch 0:\n",
      "Train Metrics:\n",
      "\tLoss:1597.2792, Acc: 0.5589:\n",
      "finished evaluation\n",
      "['auroc', 'auprc', 'accuracy']\n",
      "Validation Metrics:\n",
      "\tLoss: 371.4747\n",
      "\tauroc: 0.6716\n",
      "\tauprc: 0.4595\n",
      "\taccuracy: 0.6087\n",
      "\tepoch: 0.0000\n",
      "Epoch 1:\n",
      "Train Metrics:\n",
      "\tLoss:1469.9430, Acc: 0.6057:\n",
      "finished evaluation\n",
      "['auroc', 'auprc', 'accuracy']\n",
      "Validation Metrics:\n",
      "\tLoss: 367.0525\n",
      "\tauroc: 0.6858\n",
      "\tauprc: 0.4732\n",
      "\taccuracy: 0.6145\n",
      "\tepoch: 1.0000\n",
      "Epoch 2:\n",
      "Train Metrics:\n",
      "\tLoss:1449.9904, Acc: 0.6099:\n",
      "finished evaluation\n",
      "['auroc', 'auprc', 'accuracy']\n",
      "Validation Metrics:\n",
      "\tLoss: 361.5016\n",
      "\tauroc: 0.6968\n",
      "\tauprc: 0.4863\n",
      "\taccuracy: 0.6206\n",
      "\tepoch: 2.0000\n",
      "Epoch 3:\n",
      "Train Metrics:\n",
      "\tLoss:1436.1810, Acc: 0.6159:\n",
      "finished evaluation\n",
      "['auroc', 'auprc', 'accuracy']\n",
      "Validation Metrics:\n",
      "\tLoss: 358.2387\n",
      "\tauroc: 0.7031\n",
      "\tauprc: 0.4933\n",
      "\taccuracy: 0.6199\n",
      "\tepoch: 3.0000\n",
      "Epoch 4:\n",
      "Train Metrics:\n",
      "\tLoss:1426.3225, Acc: 0.6191:\n",
      "finished evaluation\n",
      "['auroc', 'auprc', 'accuracy']\n",
      "Validation Metrics:\n",
      "\tLoss: 359.8649\n",
      "\tauroc: 0.7061\n",
      "\tauprc: 0.4978\n",
      "\taccuracy: 0.6163\n",
      "\tepoch: 4.0000\n",
      "Epoch 5:\n",
      "Train Metrics:\n",
      "\tLoss:1418.3090, Acc: 0.6219:\n",
      "finished evaluation\n",
      "['auroc', 'auprc', 'accuracy']\n",
      "Validation Metrics:\n",
      "\tLoss: 356.7219\n",
      "\tauroc: 0.7098\n",
      "\tauprc: 0.5020\n",
      "\taccuracy: 0.6270\n",
      "\tepoch: 5.0000\n",
      "Epoch 6:\n",
      "Train Metrics:\n",
      "\tLoss:1412.8302, Acc: 0.6239:\n",
      "finished evaluation\n",
      "['auroc', 'auprc', 'accuracy']\n",
      "Validation Metrics:\n",
      "\tLoss: 353.2702\n",
      "\tauroc: 0.7149\n",
      "\tauprc: 0.5078\n",
      "\taccuracy: 0.6283\n",
      "\tepoch: 6.0000\n",
      "Epoch 7:\n",
      "Train Metrics:\n",
      "\tLoss:1406.6382, Acc: 0.6248:\n",
      "finished evaluation\n",
      "['auroc', 'auprc', 'accuracy']\n",
      "Validation Metrics:\n",
      "\tLoss: 350.5125\n",
      "\tauroc: 0.7186\n",
      "\tauprc: 0.5119\n",
      "\taccuracy: 0.6291\n",
      "\tepoch: 7.0000\n",
      "Epoch 8:\n",
      "Train Metrics:\n",
      "\tLoss:1401.5098, Acc: 0.6275:\n",
      "finished evaluation\n",
      "['auroc', 'auprc', 'accuracy']\n",
      "Validation Metrics:\n",
      "\tLoss: 350.9259\n",
      "\tauroc: 0.7198\n",
      "\tauprc: 0.5139\n",
      "\taccuracy: 0.6315\n",
      "\tepoch: 8.0000\n",
      "Epoch 9:\n",
      "Train Metrics:\n",
      "\tLoss:1398.7640, Acc: 0.6285:\n",
      "finished evaluation\n",
      "['auroc', 'auprc', 'accuracy']\n",
      "Validation Metrics:\n",
      "\tLoss: 346.7206\n",
      "\tauroc: 0.7234\n",
      "\tauprc: 0.5173\n",
      "\taccuracy: 0.6352\n",
      "\tepoch: 9.0000\n"
     ]
    },
    {
     "data": {
      "text/html": [
       "Waiting for W&B process to finish... <strong style=\"color:green\">(success).</strong>"
      ],
      "text/plain": [
       "<IPython.core.display.HTML object>"
      ]
     },
     "metadata": {},
     "output_type": "display_data"
    },
    {
     "data": {
      "application/vnd.jupyter.widget-view+json": {
       "model_id": "a1e9d73f72854f3cb033a7533b77cb13",
       "version_major": 2,
       "version_minor": 0
      },
      "text/plain": [
       "VBox(children=(Label(value='0.008 MB of 0.008 MB uploaded (0.000 MB deduped)\\r'), FloatProgress(value=1.0, max…"
      ]
     },
     "metadata": {},
     "output_type": "display_data"
    },
    {
     "data": {
      "text/html": [
       "<style>\n",
       "    table.wandb td:nth-child(1) { padding: 0 10px; text-align: left ; width: auto;} td:nth-child(2) {text-align: left ; width: 100%}\n",
       "    .wandb-row { display: flex; flex-direction: row; flex-wrap: wrap; justify-content: flex-start; width: 100% }\n",
       "    .wandb-col { display: flex; flex-direction: column; flex-basis: 100%; flex: 1; padding: 10px; }\n",
       "    </style>\n",
       "<div class=\"wandb-row\"><div class=\"wandb-col\"><h3>Run history:</h3><br/><table class=\"wandb\"><tr><td>train_accuracy</td><td>▁▆▆▇▇▇████</td></tr><tr><td>train_loss</td><td>█▄▃▂▂▂▁▁▁▁</td></tr><tr><td>val_accuracy</td><td>▁▃▄▄▃▆▆▆▇█</td></tr><tr><td>val_auprc</td><td>▁▃▄▅▆▆▇▇██</td></tr><tr><td>val_auroc</td><td>▁▃▄▅▆▆▇▇██</td></tr><tr><td>val_loss</td><td>█▇▅▄▅▄▃▂▂▁</td></tr></table><br/></div><div class=\"wandb-col\"><h3>Run summary:</h3><br/><table class=\"wandb\"><tr><td>train_accuracy</td><td>0.62851</td></tr><tr><td>train_loss</td><td>1398.76402</td></tr><tr><td>val_accuracy</td><td>0.63518</td></tr><tr><td>val_auprc</td><td>0.51731</td></tr><tr><td>val_auroc</td><td>0.72336</td></tr><tr><td>val_loss</td><td>346.72063</td></tr></table><br/></div></div>"
      ],
      "text/plain": [
       "<IPython.core.display.HTML object>"
      ]
     },
     "metadata": {},
     "output_type": "display_data"
    },
    {
     "data": {
      "text/html": [
       " View run <strong style=\"color:#cdcd00\">kmer_128</strong> at: <a href='https://wandb.ai/pranavmahabs/bind_gps/runs/dibotcn9' target=\"_blank\">https://wandb.ai/pranavmahabs/bind_gps/runs/dibotcn9</a><br/>Synced 5 W&B file(s), 0 media file(s), 0 artifact file(s) and 0 other file(s)"
      ],
      "text/plain": [
       "<IPython.core.display.HTML object>"
      ]
     },
     "metadata": {},
     "output_type": "display_data"
    },
    {
     "data": {
      "text/html": [
       "Find logs at: <code>./wandb/run-20250711_234313-dibotcn9/logs</code>"
      ],
      "text/plain": [
       "<IPython.core.display.HTML object>"
      ]
     },
     "metadata": {},
     "output_type": "display_data"
    },
    {
     "name": "stderr",
     "output_type": "stream",
     "text": [
      "\u001b[34m\u001b[1mwandb\u001b[0m: Sweep Agent: Waiting for job.\n",
      "\u001b[34m\u001b[1mwandb\u001b[0m: Job received.\n",
      "\u001b[34m\u001b[1mwandb\u001b[0m: Agent Starting Run: ai8zq6f8 with config:\n",
      "\u001b[34m\u001b[1mwandb\u001b[0m: \tepochs: 10\n",
      "\u001b[34m\u001b[1mwandb\u001b[0m: \thidden_dims: [128, 64]\n",
      "\u001b[34m\u001b[1mwandb\u001b[0m: \tlr: 1e-05\n",
      "\u001b[34m\u001b[1mwandb\u001b[0m: \tmetrics: ['auroc', 'auprc', 'accuracy']\n",
      "\u001b[34m\u001b[1mwandb\u001b[0m: \tname: kmer_128\n",
      "\u001b[34m\u001b[1mwandb\u001b[0m: \toutdir: models/kmer_128\n",
      "\u001b[34m\u001b[1mwandb\u001b[0m: \tseed: 42\n",
      "\u001b[34m\u001b[1mwandb\u001b[0m: \ttarget: auroc\n",
      "\u001b[34m\u001b[1mwandb\u001b[0m: \ttask: mre\n",
      "\u001b[34m\u001b[1mwandb\u001b[0m: \twd: 1e-05\n",
      "\u001b[34m\u001b[1mwandb\u001b[0m: \tweighted: True\n",
      "Failed to detect the name of this notebook, you can set it manually with the WANDB_NOTEBOOK_NAME environment variable to enable code saving.\n",
      "\u001b[34m\u001b[1mwandb\u001b[0m: \u001b[33mWARNING\u001b[0m Ignored wandb.init() arg project when running a sweep.\n"
     ]
    },
    {
     "data": {
      "text/html": [
       "wandb version 0.21.0 is available!  To upgrade, please run:\n",
       " $ pip install wandb --upgrade"
      ],
      "text/plain": [
       "<IPython.core.display.HTML object>"
      ]
     },
     "metadata": {},
     "output_type": "display_data"
    },
    {
     "data": {
      "text/html": [
       "Tracking run with wandb version 0.15.4"
      ],
      "text/plain": [
       "<IPython.core.display.HTML object>"
      ]
     },
     "metadata": {},
     "output_type": "display_data"
    },
    {
     "data": {
      "text/html": [
       "Run data is saved locally in <code>/oscar/data/larschan/shared_data/bind_gps/seq_modeling/wandb/run-20250711_234414-ai8zq6f8</code>"
      ],
      "text/plain": [
       "<IPython.core.display.HTML object>"
      ]
     },
     "metadata": {},
     "output_type": "display_data"
    },
    {
     "data": {
      "text/html": [
       "Syncing run <strong><a href='https://wandb.ai/pranavmahabs/bind_gps/runs/ai8zq6f8' target=\"_blank\">kmer_128</a></strong> to <a href='https://wandb.ai/pranavmahabs/bind_gps' target=\"_blank\">Weights & Biases</a> (<a href='https://wandb.me/run' target=\"_blank\">docs</a>)<br/>Sweep page: <a href='https://wandb.ai/pranavmahabs/bind_gps/sweeps/ms3id6yy' target=\"_blank\">https://wandb.ai/pranavmahabs/bind_gps/sweeps/ms3id6yy</a>"
      ],
      "text/plain": [
       "<IPython.core.display.HTML object>"
      ]
     },
     "metadata": {},
     "output_type": "display_data"
    },
    {
     "data": {
      "text/html": [
       " View project at <a href='https://wandb.ai/pranavmahabs/bind_gps' target=\"_blank\">https://wandb.ai/pranavmahabs/bind_gps</a>"
      ],
      "text/plain": [
       "<IPython.core.display.HTML object>"
      ]
     },
     "metadata": {},
     "output_type": "display_data"
    },
    {
     "data": {
      "text/html": [
       " View sweep at <a href='https://wandb.ai/pranavmahabs/bind_gps/sweeps/ms3id6yy' target=\"_blank\">https://wandb.ai/pranavmahabs/bind_gps/sweeps/ms3id6yy</a>"
      ],
      "text/plain": [
       "<IPython.core.display.HTML object>"
      ]
     },
     "metadata": {},
     "output_type": "display_data"
    },
    {
     "data": {
      "text/html": [
       " View run at <a href='https://wandb.ai/pranavmahabs/bind_gps/runs/ai8zq6f8' target=\"_blank\">https://wandb.ai/pranavmahabs/bind_gps/runs/ai8zq6f8</a>"
      ],
      "text/plain": [
       "<IPython.core.display.HTML object>"
      ]
     },
     "metadata": {},
     "output_type": "display_data"
    },
    {
     "name": "stdout",
     "output_type": "stream",
     "text": [
      "Epoch 0:\n",
      "Train Metrics:\n",
      "\tLoss:1940.7057, Acc: 0.2311:\n",
      "finished evaluation\n",
      "['auroc', 'auprc', 'accuracy']\n",
      "Validation Metrics:\n",
      "\tLoss: 467.5340\n",
      "\tauroc: 0.5774\n",
      "\tauprc: 0.3549\n",
      "\taccuracy: 0.6630\n",
      "\tepoch: 0.0000\n",
      "Epoch 1:\n",
      "Train Metrics:\n",
      "\tLoss:1877.6694, Acc: 0.3393:\n",
      "finished evaluation\n",
      "['auroc', 'auprc', 'accuracy']\n",
      "Validation Metrics:\n",
      "\tLoss: 454.6061\n",
      "\tauroc: 0.6351\n",
      "\tauprc: 0.3808\n",
      "\taccuracy: 0.6935\n",
      "\tepoch: 1.0000\n",
      "Epoch 2:\n",
      "Train Metrics:\n",
      "\tLoss:1840.2861, Acc: 0.4232:\n",
      "finished evaluation\n",
      "['auroc', 'auprc', 'accuracy']\n",
      "Validation Metrics:\n",
      "\tLoss: 455.4833\n",
      "\tauroc: 0.6466\n",
      "\tauprc: 0.3880\n",
      "\taccuracy: 0.7837\n",
      "\tepoch: 2.0000\n",
      "Epoch 3:\n",
      "Train Metrics:\n",
      "\tLoss:1811.2846, Acc: 0.4826:\n",
      "finished evaluation\n",
      "['auroc', 'auprc', 'accuracy']\n",
      "Validation Metrics:\n",
      "\tLoss: 449.7415\n",
      "\tauroc: 0.6659\n",
      "\tauprc: 0.4023\n",
      "\taccuracy: 0.8052\n",
      "\tepoch: 3.0000\n",
      "Epoch 4:\n",
      "Train Metrics:\n",
      "\tLoss:1783.2235, Acc: 0.5243:\n",
      "finished evaluation\n",
      "['auroc', 'auprc', 'accuracy']\n",
      "Validation Metrics:\n",
      "\tLoss: 447.5149\n",
      "\tauroc: 0.6845\n",
      "\tauprc: 0.4192\n",
      "\taccuracy: 0.8141\n",
      "\tepoch: 4.0000\n",
      "Epoch 5:\n",
      "Train Metrics:\n",
      "\tLoss:1762.4000, Acc: 0.5555:\n",
      "finished evaluation\n",
      "['auroc', 'auprc', 'accuracy']\n",
      "Validation Metrics:\n",
      "\tLoss: 444.5689\n",
      "\tauroc: 0.6880\n",
      "\tauprc: 0.4222\n",
      "\taccuracy: 0.7900\n",
      "\tepoch: 5.0000\n",
      "Epoch 6:\n",
      "Train Metrics:\n",
      "\tLoss:1743.6260, Acc: 0.5787:\n",
      "finished evaluation\n",
      "['auroc', 'auprc', 'accuracy']\n",
      "Validation Metrics:\n",
      "\tLoss: 434.4524\n",
      "\tauroc: 0.7086\n",
      "\tauprc: 0.4449\n",
      "\taccuracy: 0.7879\n",
      "\tepoch: 6.0000\n",
      "Epoch 7:\n",
      "Train Metrics:\n",
      "\tLoss:1726.9607, Acc: 0.5992:\n",
      "finished evaluation\n",
      "['auroc', 'auprc', 'accuracy']\n",
      "Validation Metrics:\n",
      "\tLoss: 434.2915\n",
      "\tauroc: 0.7156\n",
      "\tauprc: 0.4525\n",
      "\taccuracy: 0.7991\n",
      "\tepoch: 7.0000\n",
      "Epoch 8:\n",
      "Train Metrics:\n",
      "\tLoss:1708.1497, Acc: 0.6130:\n",
      "finished evaluation\n",
      "['auroc', 'auprc', 'accuracy']\n",
      "Validation Metrics:\n",
      "\tLoss: 434.9876\n",
      "\tauroc: 0.7220\n",
      "\tauprc: 0.4585\n",
      "\taccuracy: 0.7991\n",
      "\tepoch: 8.0000\n",
      "Epoch 9:\n",
      "Train Metrics:\n",
      "\tLoss:1704.9153, Acc: 0.6272:\n",
      "finished evaluation\n",
      "['auroc', 'auprc', 'accuracy']\n",
      "Validation Metrics:\n",
      "\tLoss: 432.3775\n",
      "\tauroc: 0.7313\n",
      "\tauprc: 0.4703\n",
      "\taccuracy: 0.7983\n",
      "\tepoch: 9.0000\n"
     ]
    },
    {
     "data": {
      "text/html": [
       "Waiting for W&B process to finish... <strong style=\"color:green\">(success).</strong>"
      ],
      "text/plain": [
       "<IPython.core.display.HTML object>"
      ]
     },
     "metadata": {},
     "output_type": "display_data"
    },
    {
     "data": {
      "application/vnd.jupyter.widget-view+json": {
       "model_id": "d10bd77ccf6e4f83a1d8de3ce0226b1f",
       "version_major": 2,
       "version_minor": 0
      },
      "text/plain": [
       "VBox(children=(Label(value='0.008 MB of 0.008 MB uploaded (0.000 MB deduped)\\r'), FloatProgress(value=1.0, max…"
      ]
     },
     "metadata": {},
     "output_type": "display_data"
    },
    {
     "data": {
      "text/html": [
       "<style>\n",
       "    table.wandb td:nth-child(1) { padding: 0 10px; text-align: left ; width: auto;} td:nth-child(2) {text-align: left ; width: 100%}\n",
       "    .wandb-row { display: flex; flex-direction: row; flex-wrap: wrap; justify-content: flex-start; width: 100% }\n",
       "    .wandb-col { display: flex; flex-direction: column; flex-basis: 100%; flex: 1; padding: 10px; }\n",
       "    </style>\n",
       "<div class=\"wandb-row\"><div class=\"wandb-col\"><h3>Run history:</h3><br/><table class=\"wandb\"><tr><td>train_accuracy</td><td>▁▃▄▅▆▇▇███</td></tr><tr><td>train_loss</td><td>█▆▅▄▃▃▂▂▁▁</td></tr><tr><td>val_accuracy</td><td>▁▂▇██▇▇▇▇▇</td></tr><tr><td>val_auprc</td><td>▁▃▃▄▅▅▆▇▇█</td></tr><tr><td>val_auroc</td><td>▁▄▄▅▆▆▇▇██</td></tr><tr><td>val_loss</td><td>█▅▆▄▄▃▁▁▂▁</td></tr></table><br/></div><div class=\"wandb-col\"><h3>Run summary:</h3><br/><table class=\"wandb\"><tr><td>train_accuracy</td><td>0.62721</td></tr><tr><td>train_loss</td><td>1704.91528</td></tr><tr><td>val_accuracy</td><td>0.79833</td></tr><tr><td>val_auprc</td><td>0.47034</td></tr><tr><td>val_auroc</td><td>0.73128</td></tr><tr><td>val_loss</td><td>432.37752</td></tr></table><br/></div></div>"
      ],
      "text/plain": [
       "<IPython.core.display.HTML object>"
      ]
     },
     "metadata": {},
     "output_type": "display_data"
    },
    {
     "data": {
      "text/html": [
       " View run <strong style=\"color:#cdcd00\">kmer_128</strong> at: <a href='https://wandb.ai/pranavmahabs/bind_gps/runs/ai8zq6f8' target=\"_blank\">https://wandb.ai/pranavmahabs/bind_gps/runs/ai8zq6f8</a><br/>Synced 5 W&B file(s), 0 media file(s), 0 artifact file(s) and 0 other file(s)"
      ],
      "text/plain": [
       "<IPython.core.display.HTML object>"
      ]
     },
     "metadata": {},
     "output_type": "display_data"
    },
    {
     "data": {
      "text/html": [
       "Find logs at: <code>./wandb/run-20250711_234414-ai8zq6f8/logs</code>"
      ],
      "text/plain": [
       "<IPython.core.display.HTML object>"
      ]
     },
     "metadata": {},
     "output_type": "display_data"
    },
    {
     "name": "stderr",
     "output_type": "stream",
     "text": [
      "\u001b[34m\u001b[1mwandb\u001b[0m: Agent Starting Run: 2l9jvt38 with config:\n",
      "\u001b[34m\u001b[1mwandb\u001b[0m: \tepochs: 10\n",
      "\u001b[34m\u001b[1mwandb\u001b[0m: \thidden_dims: [128, 64]\n",
      "\u001b[34m\u001b[1mwandb\u001b[0m: \tlr: 1e-05\n",
      "\u001b[34m\u001b[1mwandb\u001b[0m: \tmetrics: ['auroc', 'auprc', 'accuracy']\n",
      "\u001b[34m\u001b[1mwandb\u001b[0m: \tname: kmer_128\n",
      "\u001b[34m\u001b[1mwandb\u001b[0m: \toutdir: models/kmer_128\n",
      "\u001b[34m\u001b[1mwandb\u001b[0m: \tseed: 42\n",
      "\u001b[34m\u001b[1mwandb\u001b[0m: \ttarget: auroc\n",
      "\u001b[34m\u001b[1mwandb\u001b[0m: \ttask: mre\n",
      "\u001b[34m\u001b[1mwandb\u001b[0m: \twd: 1e-05\n",
      "\u001b[34m\u001b[1mwandb\u001b[0m: \tweighted: False\n",
      "Failed to detect the name of this notebook, you can set it manually with the WANDB_NOTEBOOK_NAME environment variable to enable code saving.\n",
      "\u001b[34m\u001b[1mwandb\u001b[0m: \u001b[33mWARNING\u001b[0m Ignored wandb.init() arg project when running a sweep.\n"
     ]
    },
    {
     "data": {
      "text/html": [
       "wandb version 0.21.0 is available!  To upgrade, please run:\n",
       " $ pip install wandb --upgrade"
      ],
      "text/plain": [
       "<IPython.core.display.HTML object>"
      ]
     },
     "metadata": {},
     "output_type": "display_data"
    },
    {
     "data": {
      "text/html": [
       "Tracking run with wandb version 0.15.4"
      ],
      "text/plain": [
       "<IPython.core.display.HTML object>"
      ]
     },
     "metadata": {},
     "output_type": "display_data"
    },
    {
     "data": {
      "text/html": [
       "Run data is saved locally in <code>/oscar/data/larschan/shared_data/bind_gps/seq_modeling/wandb/run-20250711_234506-2l9jvt38</code>"
      ],
      "text/plain": [
       "<IPython.core.display.HTML object>"
      ]
     },
     "metadata": {},
     "output_type": "display_data"
    },
    {
     "data": {
      "text/html": [
       "Syncing run <strong><a href='https://wandb.ai/pranavmahabs/bind_gps/runs/2l9jvt38' target=\"_blank\">kmer_128</a></strong> to <a href='https://wandb.ai/pranavmahabs/bind_gps' target=\"_blank\">Weights & Biases</a> (<a href='https://wandb.me/run' target=\"_blank\">docs</a>)<br/>Sweep page: <a href='https://wandb.ai/pranavmahabs/bind_gps/sweeps/ms3id6yy' target=\"_blank\">https://wandb.ai/pranavmahabs/bind_gps/sweeps/ms3id6yy</a>"
      ],
      "text/plain": [
       "<IPython.core.display.HTML object>"
      ]
     },
     "metadata": {},
     "output_type": "display_data"
    },
    {
     "data": {
      "text/html": [
       " View project at <a href='https://wandb.ai/pranavmahabs/bind_gps' target=\"_blank\">https://wandb.ai/pranavmahabs/bind_gps</a>"
      ],
      "text/plain": [
       "<IPython.core.display.HTML object>"
      ]
     },
     "metadata": {},
     "output_type": "display_data"
    },
    {
     "data": {
      "text/html": [
       " View sweep at <a href='https://wandb.ai/pranavmahabs/bind_gps/sweeps/ms3id6yy' target=\"_blank\">https://wandb.ai/pranavmahabs/bind_gps/sweeps/ms3id6yy</a>"
      ],
      "text/plain": [
       "<IPython.core.display.HTML object>"
      ]
     },
     "metadata": {},
     "output_type": "display_data"
    },
    {
     "data": {
      "text/html": [
       " View run at <a href='https://wandb.ai/pranavmahabs/bind_gps/runs/2l9jvt38' target=\"_blank\">https://wandb.ai/pranavmahabs/bind_gps/runs/2l9jvt38</a>"
      ],
      "text/plain": [
       "<IPython.core.display.HTML object>"
      ]
     },
     "metadata": {},
     "output_type": "display_data"
    },
    {
     "name": "stdout",
     "output_type": "stream",
     "text": [
      "Epoch 0:\n",
      "Train Metrics:\n",
      "\tLoss:1805.0255, Acc: 0.5078:\n",
      "finished evaluation\n",
      "['auroc', 'auprc', 'accuracy']\n",
      "Validation Metrics:\n",
      "\tLoss: 418.2351\n",
      "\tauroc: 0.5256\n",
      "\tauprc: 0.3456\n",
      "\taccuracy: 0.8365\n",
      "\tepoch: 0.0000\n",
      "Epoch 1:\n",
      "Train Metrics:\n",
      "\tLoss:1355.7160, Acc: 0.8064:\n",
      "finished evaluation\n",
      "['auroc', 'auprc', 'accuracy']\n",
      "Validation Metrics:\n",
      "\tLoss: 327.1201\n",
      "\tauroc: 0.6320\n",
      "\tauprc: 0.3834\n",
      "\taccuracy: 0.8370\n",
      "\tepoch: 1.0000\n",
      "Epoch 2:\n",
      "Train Metrics:\n",
      "\tLoss:1098.8899, Acc: 0.8366:\n",
      "finished evaluation\n",
      "['auroc', 'auprc', 'accuracy']\n",
      "Validation Metrics:\n",
      "\tLoss: 272.4922\n",
      "\tauroc: 0.6842\n",
      "\tauprc: 0.4148\n",
      "\taccuracy: 0.8373\n",
      "\tepoch: 2.0000\n",
      "Epoch 3:\n",
      "Train Metrics:\n",
      "\tLoss:963.1478, Acc: 0.8401:\n",
      "finished evaluation\n",
      "['auroc', 'auprc', 'accuracy']\n",
      "Validation Metrics:\n",
      "\tLoss: 237.5647\n",
      "\tauroc: 0.7027\n",
      "\tauprc: 0.4242\n",
      "\taccuracy: 0.8379\n",
      "\tepoch: 3.0000\n",
      "Epoch 4:\n",
      "Train Metrics:\n",
      "\tLoss:892.9960, Acc: 0.8417:\n",
      "finished evaluation\n",
      "['auroc', 'auprc', 'accuracy']\n",
      "Validation Metrics:\n",
      "\tLoss: 217.6892\n",
      "\tauroc: 0.7182\n",
      "\tauprc: 0.4359\n",
      "\taccuracy: 0.8379\n",
      "\tepoch: 4.0000\n",
      "Epoch 5:\n",
      "Train Metrics:\n",
      "\tLoss:854.5944, Acc: 0.8441:\n",
      "finished evaluation\n",
      "['auroc', 'auprc', 'accuracy']\n",
      "Validation Metrics:\n",
      "\tLoss: 216.6160\n",
      "\tauroc: 0.7437\n",
      "\tauprc: 0.4680\n",
      "\taccuracy: 0.8459\n",
      "\tepoch: 5.0000\n",
      "Epoch 6:\n",
      "Train Metrics:\n",
      "\tLoss:831.2033, Acc: 0.8466:\n",
      "finished evaluation\n",
      "['auroc', 'auprc', 'accuracy']\n",
      "Validation Metrics:\n",
      "\tLoss: 203.5784\n",
      "\tauroc: 0.7456\n",
      "\tauprc: 0.4634\n",
      "\taccuracy: 0.8441\n",
      "\tepoch: 6.0000\n",
      "Epoch 7:\n",
      "Train Metrics:\n",
      "\tLoss:809.3621, Acc: 0.8496:\n",
      "finished evaluation\n",
      "['auroc', 'auprc', 'accuracy']\n",
      "Validation Metrics:\n",
      "\tLoss: 200.9861\n",
      "\tauroc: 0.7547\n",
      "\tauprc: 0.4764\n",
      "\taccuracy: 0.8473\n",
      "\tepoch: 7.0000\n",
      "Epoch 8:\n",
      "Train Metrics:\n",
      "\tLoss:795.7449, Acc: 0.8527:\n",
      "finished evaluation\n",
      "['auroc', 'auprc', 'accuracy']\n",
      "Validation Metrics:\n",
      "\tLoss: 198.4925\n",
      "\tauroc: 0.7646\n",
      "\tauprc: 0.4853\n",
      "\taccuracy: 0.8515\n",
      "\tepoch: 8.0000\n",
      "Epoch 9:\n",
      "Train Metrics:\n",
      "\tLoss:782.1834, Acc: 0.8547:\n",
      "finished evaluation\n",
      "['auroc', 'auprc', 'accuracy']\n",
      "Validation Metrics:\n",
      "\tLoss: 195.7438\n",
      "\tauroc: 0.7698\n",
      "\tauprc: 0.4922\n",
      "\taccuracy: 0.8523\n",
      "\tepoch: 9.0000\n"
     ]
    },
    {
     "data": {
      "text/html": [
       "Waiting for W&B process to finish... <strong style=\"color:green\">(success).</strong>"
      ],
      "text/plain": [
       "<IPython.core.display.HTML object>"
      ]
     },
     "metadata": {},
     "output_type": "display_data"
    },
    {
     "data": {
      "application/vnd.jupyter.widget-view+json": {
       "model_id": "a19f6f3af2b640c8921ffcbe31d9145d",
       "version_major": 2,
       "version_minor": 0
      },
      "text/plain": [
       "VBox(children=(Label(value='0.008 MB of 0.008 MB uploaded (0.000 MB deduped)\\r'), FloatProgress(value=1.0, max…"
      ]
     },
     "metadata": {},
     "output_type": "display_data"
    },
    {
     "data": {
      "text/html": [
       "<style>\n",
       "    table.wandb td:nth-child(1) { padding: 0 10px; text-align: left ; width: auto;} td:nth-child(2) {text-align: left ; width: 100%}\n",
       "    .wandb-row { display: flex; flex-direction: row; flex-wrap: wrap; justify-content: flex-start; width: 100% }\n",
       "    .wandb-col { display: flex; flex-direction: column; flex-basis: 100%; flex: 1; padding: 10px; }\n",
       "    </style>\n",
       "<div class=\"wandb-row\"><div class=\"wandb-col\"><h3>Run history:</h3><br/><table class=\"wandb\"><tr><td>train_accuracy</td><td>▁▇████████</td></tr><tr><td>train_loss</td><td>█▅▃▂▂▁▁▁▁▁</td></tr><tr><td>val_accuracy</td><td>▁▁▁▂▂▅▄▆██</td></tr><tr><td>val_auprc</td><td>▁▃▄▅▅▇▇▇██</td></tr><tr><td>val_auroc</td><td>▁▄▆▆▇▇▇███</td></tr><tr><td>val_loss</td><td>█▅▃▂▂▂▁▁▁▁</td></tr></table><br/></div><div class=\"wandb-col\"><h3>Run summary:</h3><br/><table class=\"wandb\"><tr><td>train_accuracy</td><td>0.85474</td></tr><tr><td>train_loss</td><td>782.18344</td></tr><tr><td>val_accuracy</td><td>0.85234</td></tr><tr><td>val_auprc</td><td>0.49218</td></tr><tr><td>val_auroc</td><td>0.76981</td></tr><tr><td>val_loss</td><td>195.74377</td></tr></table><br/></div></div>"
      ],
      "text/plain": [
       "<IPython.core.display.HTML object>"
      ]
     },
     "metadata": {},
     "output_type": "display_data"
    },
    {
     "data": {
      "text/html": [
       " View run <strong style=\"color:#cdcd00\">kmer_128</strong> at: <a href='https://wandb.ai/pranavmahabs/bind_gps/runs/2l9jvt38' target=\"_blank\">https://wandb.ai/pranavmahabs/bind_gps/runs/2l9jvt38</a><br/>Synced 5 W&B file(s), 0 media file(s), 0 artifact file(s) and 0 other file(s)"
      ],
      "text/plain": [
       "<IPython.core.display.HTML object>"
      ]
     },
     "metadata": {},
     "output_type": "display_data"
    },
    {
     "data": {
      "text/html": [
       "Find logs at: <code>./wandb/run-20250711_234506-2l9jvt38/logs</code>"
      ],
      "text/plain": [
       "<IPython.core.display.HTML object>"
      ]
     },
     "metadata": {},
     "output_type": "display_data"
    },
    {
     "name": "stderr",
     "output_type": "stream",
     "text": [
      "\u001b[34m\u001b[1mwandb\u001b[0m: Agent Starting Run: clcfaytl with config:\n",
      "\u001b[34m\u001b[1mwandb\u001b[0m: \tepochs: 10\n",
      "\u001b[34m\u001b[1mwandb\u001b[0m: \thidden_dims: [128, 64]\n",
      "\u001b[34m\u001b[1mwandb\u001b[0m: \tlr: 1e-05\n",
      "\u001b[34m\u001b[1mwandb\u001b[0m: \tmetrics: ['auroc', 'auprc', 'accuracy']\n",
      "\u001b[34m\u001b[1mwandb\u001b[0m: \tname: kmer_128\n",
      "\u001b[34m\u001b[1mwandb\u001b[0m: \toutdir: models/kmer_128\n",
      "\u001b[34m\u001b[1mwandb\u001b[0m: \tseed: 42\n",
      "\u001b[34m\u001b[1mwandb\u001b[0m: \ttarget: auroc\n",
      "\u001b[34m\u001b[1mwandb\u001b[0m: \ttask: mre\n",
      "\u001b[34m\u001b[1mwandb\u001b[0m: \twd: 1e-06\n",
      "\u001b[34m\u001b[1mwandb\u001b[0m: \tweighted: True\n",
      "Failed to detect the name of this notebook, you can set it manually with the WANDB_NOTEBOOK_NAME environment variable to enable code saving.\n",
      "\u001b[34m\u001b[1mwandb\u001b[0m: \u001b[33mWARNING\u001b[0m Ignored wandb.init() arg project when running a sweep.\n"
     ]
    },
    {
     "data": {
      "text/html": [
       "wandb version 0.21.0 is available!  To upgrade, please run:\n",
       " $ pip install wandb --upgrade"
      ],
      "text/plain": [
       "<IPython.core.display.HTML object>"
      ]
     },
     "metadata": {},
     "output_type": "display_data"
    },
    {
     "data": {
      "text/html": [
       "Tracking run with wandb version 0.15.4"
      ],
      "text/plain": [
       "<IPython.core.display.HTML object>"
      ]
     },
     "metadata": {},
     "output_type": "display_data"
    },
    {
     "data": {
      "text/html": [
       "Run data is saved locally in <code>/oscar/data/larschan/shared_data/bind_gps/seq_modeling/wandb/run-20250711_234600-clcfaytl</code>"
      ],
      "text/plain": [
       "<IPython.core.display.HTML object>"
      ]
     },
     "metadata": {},
     "output_type": "display_data"
    },
    {
     "data": {
      "text/html": [
       "Syncing run <strong><a href='https://wandb.ai/pranavmahabs/bind_gps/runs/clcfaytl' target=\"_blank\">kmer_128</a></strong> to <a href='https://wandb.ai/pranavmahabs/bind_gps' target=\"_blank\">Weights & Biases</a> (<a href='https://wandb.me/run' target=\"_blank\">docs</a>)<br/>Sweep page: <a href='https://wandb.ai/pranavmahabs/bind_gps/sweeps/ms3id6yy' target=\"_blank\">https://wandb.ai/pranavmahabs/bind_gps/sweeps/ms3id6yy</a>"
      ],
      "text/plain": [
       "<IPython.core.display.HTML object>"
      ]
     },
     "metadata": {},
     "output_type": "display_data"
    },
    {
     "data": {
      "text/html": [
       " View project at <a href='https://wandb.ai/pranavmahabs/bind_gps' target=\"_blank\">https://wandb.ai/pranavmahabs/bind_gps</a>"
      ],
      "text/plain": [
       "<IPython.core.display.HTML object>"
      ]
     },
     "metadata": {},
     "output_type": "display_data"
    },
    {
     "data": {
      "text/html": [
       " View sweep at <a href='https://wandb.ai/pranavmahabs/bind_gps/sweeps/ms3id6yy' target=\"_blank\">https://wandb.ai/pranavmahabs/bind_gps/sweeps/ms3id6yy</a>"
      ],
      "text/plain": [
       "<IPython.core.display.HTML object>"
      ]
     },
     "metadata": {},
     "output_type": "display_data"
    },
    {
     "data": {
      "text/html": [
       " View run at <a href='https://wandb.ai/pranavmahabs/bind_gps/runs/clcfaytl' target=\"_blank\">https://wandb.ai/pranavmahabs/bind_gps/runs/clcfaytl</a>"
      ],
      "text/plain": [
       "<IPython.core.display.HTML object>"
      ]
     },
     "metadata": {},
     "output_type": "display_data"
    },
    {
     "name": "stdout",
     "output_type": "stream",
     "text": [
      "Epoch 0:\n",
      "Train Metrics:\n",
      "\tLoss:2008.9411, Acc: 0.1755:\n",
      "finished evaluation\n",
      "['auroc', 'auprc', 'accuracy']\n",
      "Validation Metrics:\n",
      "\tLoss: 471.9339\n",
      "\tauroc: 0.5590\n",
      "\tauprc: 0.3605\n",
      "\taccuracy: 0.1204\n",
      "\tepoch: 0.0000\n",
      "Epoch 1:\n",
      "Train Metrics:\n",
      "\tLoss:1909.3787, Acc: 0.2591:\n",
      "finished evaluation\n",
      "['auroc', 'auprc', 'accuracy']\n",
      "Validation Metrics:\n",
      "\tLoss: 462.4073\n",
      "\tauroc: 0.6206\n",
      "\tauprc: 0.3813\n",
      "\taccuracy: 0.1552\n",
      "\tepoch: 1.0000\n",
      "Epoch 2:\n",
      "Train Metrics:\n",
      "\tLoss:1854.8624, Acc: 0.3449:\n",
      "finished evaluation\n",
      "['auroc', 'auprc', 'accuracy']\n",
      "Validation Metrics:\n",
      "\tLoss: 453.7627\n",
      "\tauroc: 0.6557\n",
      "\tauprc: 0.4015\n",
      "\taccuracy: 0.4398\n",
      "\tepoch: 2.0000\n",
      "Epoch 3:\n",
      "Train Metrics:\n",
      "\tLoss:1822.0312, Acc: 0.4266:\n",
      "finished evaluation\n",
      "['auroc', 'auprc', 'accuracy']\n",
      "Validation Metrics:\n",
      "\tLoss: 452.4125\n",
      "\tauroc: 0.6617\n",
      "\tauprc: 0.4054\n",
      "\taccuracy: 0.5156\n",
      "\tepoch: 3.0000\n",
      "Epoch 4:\n",
      "Train Metrics:\n",
      "\tLoss:1793.5715, Acc: 0.4801:\n",
      "finished evaluation\n",
      "['auroc', 'auprc', 'accuracy']\n",
      "Validation Metrics:\n",
      "\tLoss: 445.8616\n",
      "\tauroc: 0.6801\n",
      "\tauprc: 0.4192\n",
      "\taccuracy: 0.6482\n",
      "\tepoch: 4.0000\n",
      "Epoch 5:\n",
      "Train Metrics:\n",
      "\tLoss:1772.9339, Acc: 0.5162:\n",
      "finished evaluation\n",
      "['auroc', 'auprc', 'accuracy']\n",
      "Validation Metrics:\n",
      "\tLoss: 444.7645\n",
      "\tauroc: 0.6890\n",
      "\tauprc: 0.4280\n",
      "\taccuracy: 0.6820\n",
      "\tepoch: 5.0000\n",
      "Epoch 6:\n",
      "Train Metrics:\n",
      "\tLoss:1752.2105, Acc: 0.5392:\n",
      "finished evaluation\n",
      "['auroc', 'auprc', 'accuracy']\n",
      "Validation Metrics:\n",
      "\tLoss: 436.9297\n",
      "\tauroc: 0.7067\n",
      "\tauprc: 0.4435\n",
      "\taccuracy: 0.7246\n",
      "\tepoch: 6.0000\n",
      "Epoch 7:\n",
      "Train Metrics:\n",
      "\tLoss:1731.5641, Acc: 0.5665:\n",
      "finished evaluation\n",
      "['auroc', 'auprc', 'accuracy']\n",
      "Validation Metrics:\n",
      "\tLoss: 432.1592\n",
      "\tauroc: 0.7153\n",
      "\tauprc: 0.4509\n",
      "\taccuracy: 0.7020\n",
      "\tepoch: 7.0000\n",
      "Epoch 8:\n",
      "Train Metrics:\n",
      "\tLoss:1723.4171, Acc: 0.5868:\n",
      "finished evaluation\n",
      "['auroc', 'auprc', 'accuracy']\n",
      "Validation Metrics:\n",
      "\tLoss: 435.0036\n",
      "\tauroc: 0.7254\n",
      "\tauprc: 0.4620\n",
      "\taccuracy: 0.7323\n",
      "\tepoch: 8.0000\n",
      "Epoch 9:\n",
      "Train Metrics:\n",
      "\tLoss:1709.3405, Acc: 0.5995:\n",
      "finished evaluation\n",
      "['auroc', 'auprc', 'accuracy']\n",
      "Validation Metrics:\n",
      "\tLoss: 427.4875\n",
      "\tauroc: 0.7361\n",
      "\tauprc: 0.4722\n",
      "\taccuracy: 0.7541\n",
      "\tepoch: 9.0000\n"
     ]
    },
    {
     "data": {
      "text/html": [
       "Waiting for W&B process to finish... <strong style=\"color:green\">(success).</strong>"
      ],
      "text/plain": [
       "<IPython.core.display.HTML object>"
      ]
     },
     "metadata": {},
     "output_type": "display_data"
    },
    {
     "data": {
      "text/html": [
       "<style>\n",
       "    table.wandb td:nth-child(1) { padding: 0 10px; text-align: left ; width: auto;} td:nth-child(2) {text-align: left ; width: 100%}\n",
       "    .wandb-row { display: flex; flex-direction: row; flex-wrap: wrap; justify-content: flex-start; width: 100% }\n",
       "    .wandb-col { display: flex; flex-direction: column; flex-basis: 100%; flex: 1; padding: 10px; }\n",
       "    </style>\n",
       "<div class=\"wandb-row\"><div class=\"wandb-col\"><h3>Run history:</h3><br/><table class=\"wandb\"><tr><td>train_accuracy</td><td>▁▂▄▅▆▇▇▇██</td></tr><tr><td>train_loss</td><td>█▆▄▄▃▂▂▂▁▁</td></tr><tr><td>val_accuracy</td><td>▁▁▅▅▇▇█▇██</td></tr><tr><td>val_auprc</td><td>▁▂▄▄▅▅▆▇▇█</td></tr><tr><td>val_auroc</td><td>▁▃▅▅▆▆▇▇██</td></tr><tr><td>val_loss</td><td>█▆▅▅▄▄▂▂▂▁</td></tr></table><br/></div><div class=\"wandb-col\"><h3>Run summary:</h3><br/><table class=\"wandb\"><tr><td>train_accuracy</td><td>0.59954</td></tr><tr><td>train_loss</td><td>1709.34047</td></tr><tr><td>val_accuracy</td><td>0.75406</td></tr><tr><td>val_auprc</td><td>0.47224</td></tr><tr><td>val_auroc</td><td>0.73609</td></tr><tr><td>val_loss</td><td>427.48746</td></tr></table><br/></div></div>"
      ],
      "text/plain": [
       "<IPython.core.display.HTML object>"
      ]
     },
     "metadata": {},
     "output_type": "display_data"
    },
    {
     "data": {
      "text/html": [
       " View run <strong style=\"color:#cdcd00\">kmer_128</strong> at: <a href='https://wandb.ai/pranavmahabs/bind_gps/runs/clcfaytl' target=\"_blank\">https://wandb.ai/pranavmahabs/bind_gps/runs/clcfaytl</a><br/>Synced 5 W&B file(s), 0 media file(s), 0 artifact file(s) and 0 other file(s)"
      ],
      "text/plain": [
       "<IPython.core.display.HTML object>"
      ]
     },
     "metadata": {},
     "output_type": "display_data"
    },
    {
     "data": {
      "text/html": [
       "Find logs at: <code>./wandb/run-20250711_234600-clcfaytl/logs</code>"
      ],
      "text/plain": [
       "<IPython.core.display.HTML object>"
      ]
     },
     "metadata": {},
     "output_type": "display_data"
    },
    {
     "name": "stderr",
     "output_type": "stream",
     "text": [
      "\u001b[34m\u001b[1mwandb\u001b[0m: Agent Starting Run: heb0ck2p with config:\n",
      "\u001b[34m\u001b[1mwandb\u001b[0m: \tepochs: 10\n",
      "\u001b[34m\u001b[1mwandb\u001b[0m: \thidden_dims: [128, 64]\n",
      "\u001b[34m\u001b[1mwandb\u001b[0m: \tlr: 1e-05\n",
      "\u001b[34m\u001b[1mwandb\u001b[0m: \tmetrics: ['auroc', 'auprc', 'accuracy']\n",
      "\u001b[34m\u001b[1mwandb\u001b[0m: \tname: kmer_128\n",
      "\u001b[34m\u001b[1mwandb\u001b[0m: \toutdir: models/kmer_128\n",
      "\u001b[34m\u001b[1mwandb\u001b[0m: \tseed: 42\n",
      "\u001b[34m\u001b[1mwandb\u001b[0m: \ttarget: auroc\n",
      "\u001b[34m\u001b[1mwandb\u001b[0m: \ttask: mre\n",
      "\u001b[34m\u001b[1mwandb\u001b[0m: \twd: 1e-06\n",
      "\u001b[34m\u001b[1mwandb\u001b[0m: \tweighted: False\n",
      "Failed to detect the name of this notebook, you can set it manually with the WANDB_NOTEBOOK_NAME environment variable to enable code saving.\n",
      "\u001b[34m\u001b[1mwandb\u001b[0m: \u001b[33mWARNING\u001b[0m Ignored wandb.init() arg project when running a sweep.\n"
     ]
    },
    {
     "data": {
      "text/html": [
       "wandb version 0.21.0 is available!  To upgrade, please run:\n",
       " $ pip install wandb --upgrade"
      ],
      "text/plain": [
       "<IPython.core.display.HTML object>"
      ]
     },
     "metadata": {},
     "output_type": "display_data"
    },
    {
     "data": {
      "text/html": [
       "Tracking run with wandb version 0.15.4"
      ],
      "text/plain": [
       "<IPython.core.display.HTML object>"
      ]
     },
     "metadata": {},
     "output_type": "display_data"
    },
    {
     "data": {
      "text/html": [
       "Run data is saved locally in <code>/oscar/data/larschan/shared_data/bind_gps/seq_modeling/wandb/run-20250711_234652-heb0ck2p</code>"
      ],
      "text/plain": [
       "<IPython.core.display.HTML object>"
      ]
     },
     "metadata": {},
     "output_type": "display_data"
    },
    {
     "data": {
      "text/html": [
       "Syncing run <strong><a href='https://wandb.ai/pranavmahabs/bind_gps/runs/heb0ck2p' target=\"_blank\">kmer_128</a></strong> to <a href='https://wandb.ai/pranavmahabs/bind_gps' target=\"_blank\">Weights & Biases</a> (<a href='https://wandb.me/run' target=\"_blank\">docs</a>)<br/>Sweep page: <a href='https://wandb.ai/pranavmahabs/bind_gps/sweeps/ms3id6yy' target=\"_blank\">https://wandb.ai/pranavmahabs/bind_gps/sweeps/ms3id6yy</a>"
      ],
      "text/plain": [
       "<IPython.core.display.HTML object>"
      ]
     },
     "metadata": {},
     "output_type": "display_data"
    },
    {
     "data": {
      "text/html": [
       " View project at <a href='https://wandb.ai/pranavmahabs/bind_gps' target=\"_blank\">https://wandb.ai/pranavmahabs/bind_gps</a>"
      ],
      "text/plain": [
       "<IPython.core.display.HTML object>"
      ]
     },
     "metadata": {},
     "output_type": "display_data"
    },
    {
     "data": {
      "text/html": [
       " View sweep at <a href='https://wandb.ai/pranavmahabs/bind_gps/sweeps/ms3id6yy' target=\"_blank\">https://wandb.ai/pranavmahabs/bind_gps/sweeps/ms3id6yy</a>"
      ],
      "text/plain": [
       "<IPython.core.display.HTML object>"
      ]
     },
     "metadata": {},
     "output_type": "display_data"
    },
    {
     "data": {
      "text/html": [
       " View run at <a href='https://wandb.ai/pranavmahabs/bind_gps/runs/heb0ck2p' target=\"_blank\">https://wandb.ai/pranavmahabs/bind_gps/runs/heb0ck2p</a>"
      ],
      "text/plain": [
       "<IPython.core.display.HTML object>"
      ]
     },
     "metadata": {},
     "output_type": "display_data"
    },
    {
     "name": "stdout",
     "output_type": "stream",
     "text": [
      "Epoch 0:\n",
      "Train Metrics:\n",
      "\tLoss:1780.9424, Acc: 0.4892:\n",
      "finished evaluation\n",
      "['auroc', 'auprc', 'accuracy']\n",
      "Validation Metrics:\n",
      "\tLoss: 417.2238\n",
      "\tauroc: 0.4997\n",
      "\tauprc: 0.3431\n",
      "\taccuracy: 0.8244\n",
      "\tepoch: 0.0000\n",
      "Epoch 1:\n",
      "Train Metrics:\n",
      "\tLoss:1353.3437, Acc: 0.8014:\n",
      "finished evaluation\n",
      "['auroc', 'auprc', 'accuracy']\n",
      "Validation Metrics:\n",
      "\tLoss: 320.2318\n",
      "\tauroc: 0.6351\n",
      "\tauprc: 0.3901\n",
      "\taccuracy: 0.8375\n",
      "\tepoch: 1.0000\n",
      "Epoch 2:\n",
      "Train Metrics:\n",
      "\tLoss:1100.3573, Acc: 0.8359:\n",
      "finished evaluation\n",
      "['auroc', 'auprc', 'accuracy']\n",
      "Validation Metrics:\n",
      "\tLoss: 266.4917\n",
      "\tauroc: 0.6882\n",
      "\tauprc: 0.4190\n",
      "\taccuracy: 0.8377\n",
      "\tepoch: 2.0000\n",
      "Epoch 3:\n",
      "Train Metrics:\n",
      "\tLoss:965.0922, Acc: 0.8402:\n",
      "finished evaluation\n",
      "['auroc', 'auprc', 'accuracy']\n",
      "Validation Metrics:\n",
      "\tLoss: 232.9762\n",
      "\tauroc: 0.7131\n",
      "\tauprc: 0.4383\n",
      "\taccuracy: 0.8381\n",
      "\tepoch: 3.0000\n",
      "Epoch 4:\n",
      "Train Metrics:\n",
      "\tLoss:892.9333, Acc: 0.8425:\n",
      "finished evaluation\n",
      "['auroc', 'auprc', 'accuracy']\n",
      "Validation Metrics:\n",
      "\tLoss: 220.8886\n",
      "\tauroc: 0.7245\n",
      "\tauprc: 0.4500\n",
      "\taccuracy: 0.8405\n",
      "\tepoch: 4.0000\n",
      "Epoch 5:\n",
      "Train Metrics:\n",
      "\tLoss:855.2289, Acc: 0.8451:\n",
      "finished evaluation\n",
      "['auroc', 'auprc', 'accuracy']\n",
      "Validation Metrics:\n",
      "\tLoss: 209.6349\n",
      "\tauroc: 0.7339\n",
      "\tauprc: 0.4586\n",
      "\taccuracy: 0.8428\n",
      "\tepoch: 5.0000\n",
      "Epoch 6:\n",
      "Train Metrics:\n",
      "\tLoss:827.6867, Acc: 0.8478:\n",
      "finished evaluation\n",
      "['auroc', 'auprc', 'accuracy']\n",
      "Validation Metrics:\n",
      "\tLoss: 209.8873\n",
      "\tauroc: 0.7487\n",
      "\tauprc: 0.4749\n",
      "\taccuracy: 0.8492\n",
      "\tepoch: 6.0000\n",
      "Epoch 7:\n",
      "Train Metrics:\n",
      "\tLoss:809.0877, Acc: 0.8504:\n",
      "finished evaluation\n",
      "['auroc', 'auprc', 'accuracy']\n",
      "Validation Metrics:\n",
      "\tLoss: 200.6048\n",
      "\tauroc: 0.7532\n",
      "\tauprc: 0.4774\n",
      "\taccuracy: 0.8498\n",
      "\tepoch: 7.0000\n",
      "Epoch 8:\n",
      "Train Metrics:\n",
      "\tLoss:796.5955, Acc: 0.8529:\n",
      "finished evaluation\n",
      "['auroc', 'auprc', 'accuracy']\n",
      "Validation Metrics:\n",
      "\tLoss: 198.3996\n",
      "\tauroc: 0.7591\n",
      "\tauprc: 0.4824\n",
      "\taccuracy: 0.8517\n",
      "\tepoch: 8.0000\n",
      "Epoch 9:\n",
      "Train Metrics:\n",
      "\tLoss:783.8486, Acc: 0.8551:\n",
      "finished evaluation\n",
      "['auroc', 'auprc', 'accuracy']\n",
      "Validation Metrics:\n",
      "\tLoss: 193.7244\n",
      "\tauroc: 0.7670\n",
      "\tauprc: 0.4890\n",
      "\taccuracy: 0.8543\n",
      "\tepoch: 9.0000\n"
     ]
    },
    {
     "data": {
      "text/html": [
       "Waiting for W&B process to finish... <strong style=\"color:green\">(success).</strong>"
      ],
      "text/plain": [
       "<IPython.core.display.HTML object>"
      ]
     },
     "metadata": {},
     "output_type": "display_data"
    },
    {
     "data": {
      "text/html": [
       "<style>\n",
       "    table.wandb td:nth-child(1) { padding: 0 10px; text-align: left ; width: auto;} td:nth-child(2) {text-align: left ; width: 100%}\n",
       "    .wandb-row { display: flex; flex-direction: row; flex-wrap: wrap; justify-content: flex-start; width: 100% }\n",
       "    .wandb-col { display: flex; flex-direction: column; flex-basis: 100%; flex: 1; padding: 10px; }\n",
       "    </style>\n",
       "<div class=\"wandb-row\"><div class=\"wandb-col\"><h3>Run history:</h3><br/><table class=\"wandb\"><tr><td>train_accuracy</td><td>▁▇████████</td></tr><tr><td>train_loss</td><td>█▅▃▂▂▂▁▁▁▁</td></tr><tr><td>val_accuracy</td><td>▁▄▄▄▅▅▇▇▇█</td></tr><tr><td>val_auprc</td><td>▁▃▅▆▆▇▇▇██</td></tr><tr><td>val_auroc</td><td>▁▅▆▇▇▇████</td></tr><tr><td>val_loss</td><td>█▅▃▂▂▁▂▁▁▁</td></tr></table><br/></div><div class=\"wandb-col\"><h3>Run summary:</h3><br/><table class=\"wandb\"><tr><td>train_accuracy</td><td>0.85512</td></tr><tr><td>train_loss</td><td>783.84864</td></tr><tr><td>val_accuracy</td><td>0.85426</td></tr><tr><td>val_auprc</td><td>0.48897</td></tr><tr><td>val_auroc</td><td>0.76696</td></tr><tr><td>val_loss</td><td>193.72436</td></tr></table><br/></div></div>"
      ],
      "text/plain": [
       "<IPython.core.display.HTML object>"
      ]
     },
     "metadata": {},
     "output_type": "display_data"
    },
    {
     "data": {
      "text/html": [
       " View run <strong style=\"color:#cdcd00\">kmer_128</strong> at: <a href='https://wandb.ai/pranavmahabs/bind_gps/runs/heb0ck2p' target=\"_blank\">https://wandb.ai/pranavmahabs/bind_gps/runs/heb0ck2p</a><br/>Synced 5 W&B file(s), 0 media file(s), 0 artifact file(s) and 0 other file(s)"
      ],
      "text/plain": [
       "<IPython.core.display.HTML object>"
      ]
     },
     "metadata": {},
     "output_type": "display_data"
    },
    {
     "data": {
      "text/html": [
       "Find logs at: <code>./wandb/run-20250711_234652-heb0ck2p/logs</code>"
      ],
      "text/plain": [
       "<IPython.core.display.HTML object>"
      ]
     },
     "metadata": {},
     "output_type": "display_data"
    },
    {
     "name": "stderr",
     "output_type": "stream",
     "text": [
      "\u001b[34m\u001b[1mwandb\u001b[0m: Agent Starting Run: f8qvtwa7 with config:\n",
      "\u001b[34m\u001b[1mwandb\u001b[0m: \tepochs: 10\n",
      "\u001b[34m\u001b[1mwandb\u001b[0m: \thidden_dims: [128, 64]\n",
      "\u001b[34m\u001b[1mwandb\u001b[0m: \tlr: 1e-05\n",
      "\u001b[34m\u001b[1mwandb\u001b[0m: \tmetrics: ['auroc', 'auprc', 'accuracy']\n",
      "\u001b[34m\u001b[1mwandb\u001b[0m: \tname: kmer_128\n",
      "\u001b[34m\u001b[1mwandb\u001b[0m: \toutdir: models/kmer_128\n",
      "\u001b[34m\u001b[1mwandb\u001b[0m: \tseed: 42\n",
      "\u001b[34m\u001b[1mwandb\u001b[0m: \ttarget: auroc\n",
      "\u001b[34m\u001b[1mwandb\u001b[0m: \ttask: gene\n",
      "\u001b[34m\u001b[1mwandb\u001b[0m: \twd: 1e-05\n",
      "\u001b[34m\u001b[1mwandb\u001b[0m: \tweighted: True\n",
      "Failed to detect the name of this notebook, you can set it manually with the WANDB_NOTEBOOK_NAME environment variable to enable code saving.\n",
      "\u001b[34m\u001b[1mwandb\u001b[0m: \u001b[33mWARNING\u001b[0m Ignored wandb.init() arg project when running a sweep.\n"
     ]
    },
    {
     "data": {
      "text/html": [
       "wandb version 0.21.0 is available!  To upgrade, please run:\n",
       " $ pip install wandb --upgrade"
      ],
      "text/plain": [
       "<IPython.core.display.HTML object>"
      ]
     },
     "metadata": {},
     "output_type": "display_data"
    },
    {
     "data": {
      "text/html": [
       "Tracking run with wandb version 0.15.4"
      ],
      "text/plain": [
       "<IPython.core.display.HTML object>"
      ]
     },
     "metadata": {},
     "output_type": "display_data"
    },
    {
     "data": {
      "text/html": [
       "Run data is saved locally in <code>/oscar/data/larschan/shared_data/bind_gps/seq_modeling/wandb/run-20250711_234747-f8qvtwa7</code>"
      ],
      "text/plain": [
       "<IPython.core.display.HTML object>"
      ]
     },
     "metadata": {},
     "output_type": "display_data"
    },
    {
     "data": {
      "text/html": [
       "Syncing run <strong><a href='https://wandb.ai/pranavmahabs/bind_gps/runs/f8qvtwa7' target=\"_blank\">kmer_128</a></strong> to <a href='https://wandb.ai/pranavmahabs/bind_gps' target=\"_blank\">Weights & Biases</a> (<a href='https://wandb.me/run' target=\"_blank\">docs</a>)<br/>Sweep page: <a href='https://wandb.ai/pranavmahabs/bind_gps/sweeps/ms3id6yy' target=\"_blank\">https://wandb.ai/pranavmahabs/bind_gps/sweeps/ms3id6yy</a>"
      ],
      "text/plain": [
       "<IPython.core.display.HTML object>"
      ]
     },
     "metadata": {},
     "output_type": "display_data"
    },
    {
     "data": {
      "text/html": [
       " View project at <a href='https://wandb.ai/pranavmahabs/bind_gps' target=\"_blank\">https://wandb.ai/pranavmahabs/bind_gps</a>"
      ],
      "text/plain": [
       "<IPython.core.display.HTML object>"
      ]
     },
     "metadata": {},
     "output_type": "display_data"
    },
    {
     "data": {
      "text/html": [
       " View sweep at <a href='https://wandb.ai/pranavmahabs/bind_gps/sweeps/ms3id6yy' target=\"_blank\">https://wandb.ai/pranavmahabs/bind_gps/sweeps/ms3id6yy</a>"
      ],
      "text/plain": [
       "<IPython.core.display.HTML object>"
      ]
     },
     "metadata": {},
     "output_type": "display_data"
    },
    {
     "data": {
      "text/html": [
       " View run at <a href='https://wandb.ai/pranavmahabs/bind_gps/runs/f8qvtwa7' target=\"_blank\">https://wandb.ai/pranavmahabs/bind_gps/runs/f8qvtwa7</a>"
      ],
      "text/plain": [
       "<IPython.core.display.HTML object>"
      ]
     },
     "metadata": {},
     "output_type": "display_data"
    },
    {
     "name": "stdout",
     "output_type": "stream",
     "text": [
      "Epoch 0:\n",
      "Train Metrics:\n",
      "\tLoss:1959.2321, Acc: 0.2661:\n",
      "finished evaluation\n",
      "['auroc', 'auprc', 'accuracy']\n",
      "Validation Metrics:\n",
      "\tLoss: 467.9266\n",
      "\tauroc: 0.5542\n",
      "\tauprc: 0.3721\n",
      "\taccuracy: 0.2451\n",
      "\tepoch: 0.0000\n",
      "Epoch 1:\n",
      "Train Metrics:\n",
      "\tLoss:1891.5797, Acc: 0.3429:\n",
      "finished evaluation\n",
      "['auroc', 'auprc', 'accuracy']\n",
      "Validation Metrics:\n",
      "\tLoss: 462.5811\n",
      "\tauroc: 0.5906\n",
      "\tauprc: 0.3978\n",
      "\taccuracy: 0.3242\n",
      "\tepoch: 1.0000\n",
      "Epoch 2:\n",
      "Train Metrics:\n",
      "\tLoss:1854.0585, Acc: 0.3912:\n",
      "finished evaluation\n",
      "['auroc', 'auprc', 'accuracy']\n",
      "Validation Metrics:\n",
      "\tLoss: 460.4324\n",
      "\tauroc: 0.6096\n",
      "\tauprc: 0.4135\n",
      "\taccuracy: 0.3230\n",
      "\tepoch: 2.0000\n",
      "Epoch 3:\n",
      "Train Metrics:\n",
      "\tLoss:1834.8691, Acc: 0.4153:\n",
      "finished evaluation\n",
      "['auroc', 'auprc', 'accuracy']\n",
      "Validation Metrics:\n",
      "\tLoss: 457.7049\n",
      "\tauroc: 0.6240\n",
      "\tauprc: 0.4229\n",
      "\taccuracy: 0.3300\n",
      "\tepoch: 3.0000\n",
      "Epoch 4:\n",
      "Train Metrics:\n",
      "\tLoss:1818.8286, Acc: 0.4320:\n",
      "finished evaluation\n",
      "['auroc', 'auprc', 'accuracy']\n",
      "Validation Metrics:\n",
      "\tLoss: 457.4275\n",
      "\tauroc: 0.6341\n",
      "\tauprc: 0.4322\n",
      "\taccuracy: 0.3280\n",
      "\tepoch: 4.0000\n",
      "Epoch 5:\n",
      "Train Metrics:\n",
      "\tLoss:1802.0813, Acc: 0.4410:\n",
      "finished evaluation\n",
      "['auroc', 'auprc', 'accuracy']\n",
      "Validation Metrics:\n",
      "\tLoss: 454.0786\n",
      "\tauroc: 0.6425\n",
      "\tauprc: 0.4386\n",
      "\taccuracy: 0.3320\n",
      "\tepoch: 5.0000\n",
      "Epoch 6:\n",
      "Train Metrics:\n",
      "\tLoss:1791.9909, Acc: 0.4515:\n",
      "finished evaluation\n",
      "['auroc', 'auprc', 'accuracy']\n",
      "Validation Metrics:\n",
      "\tLoss: 454.6306\n",
      "\tauroc: 0.6422\n",
      "\tauprc: 0.4402\n",
      "\taccuracy: 0.3367\n",
      "Epoch 7:\n",
      "Train Metrics:\n",
      "\tLoss:1782.8164, Acc: 0.4591:\n",
      "finished evaluation\n",
      "['auroc', 'auprc', 'accuracy']\n",
      "Validation Metrics:\n",
      "\tLoss: 453.9502\n",
      "\tauroc: 0.6552\n",
      "\tauprc: 0.4492\n",
      "\taccuracy: 0.3383\n",
      "\tepoch: 7.0000\n",
      "Epoch 8:\n",
      "Train Metrics:\n",
      "\tLoss:1773.8426, Acc: 0.4656:\n",
      "finished evaluation\n",
      "['auroc', 'auprc', 'accuracy']\n",
      "Validation Metrics:\n",
      "\tLoss: 448.6367\n",
      "\tauroc: 0.6576\n",
      "\tauprc: 0.4533\n",
      "\taccuracy: 0.3612\n",
      "\tepoch: 8.0000\n",
      "Epoch 9:\n",
      "Train Metrics:\n",
      "\tLoss:1768.9284, Acc: 0.4693:\n",
      "finished evaluation\n",
      "['auroc', 'auprc', 'accuracy']\n",
      "Validation Metrics:\n",
      "\tLoss: 447.6994\n",
      "\tauroc: 0.6606\n",
      "\tauprc: 0.4570\n",
      "\taccuracy: 0.3653\n",
      "\tepoch: 9.0000\n"
     ]
    },
    {
     "data": {
      "text/html": [
       "Waiting for W&B process to finish... <strong style=\"color:green\">(success).</strong>"
      ],
      "text/plain": [
       "<IPython.core.display.HTML object>"
      ]
     },
     "metadata": {},
     "output_type": "display_data"
    },
    {
     "data": {
      "application/vnd.jupyter.widget-view+json": {
       "model_id": "9ce1d231977f4453baa4b1d6737832ec",
       "version_major": 2,
       "version_minor": 0
      },
      "text/plain": [
       "VBox(children=(Label(value='0.008 MB of 0.008 MB uploaded (0.000 MB deduped)\\r'), FloatProgress(value=1.0, max…"
      ]
     },
     "metadata": {},
     "output_type": "display_data"
    },
    {
     "data": {
      "text/html": [
       "<style>\n",
       "    table.wandb td:nth-child(1) { padding: 0 10px; text-align: left ; width: auto;} td:nth-child(2) {text-align: left ; width: 100%}\n",
       "    .wandb-row { display: flex; flex-direction: row; flex-wrap: wrap; justify-content: flex-start; width: 100% }\n",
       "    .wandb-col { display: flex; flex-direction: column; flex-basis: 100%; flex: 1; padding: 10px; }\n",
       "    </style>\n",
       "<div class=\"wandb-row\"><div class=\"wandb-col\"><h3>Run history:</h3><br/><table class=\"wandb\"><tr><td>train_accuracy</td><td>▁▄▅▆▇▇▇███</td></tr><tr><td>train_loss</td><td>█▆▄▃▃▂▂▂▁▁</td></tr><tr><td>val_accuracy</td><td>▁▆▆▆▆▆▆▆██</td></tr><tr><td>val_auprc</td><td>▁▃▄▅▆▆▇▇██</td></tr><tr><td>val_auroc</td><td>▁▃▅▆▆▇▇███</td></tr><tr><td>val_loss</td><td>█▆▅▄▄▃▃▃▁▁</td></tr></table><br/></div><div class=\"wandb-col\"><h3>Run summary:</h3><br/><table class=\"wandb\"><tr><td>train_accuracy</td><td>0.46927</td></tr><tr><td>train_loss</td><td>1768.92842</td></tr><tr><td>val_accuracy</td><td>0.36533</td></tr><tr><td>val_auprc</td><td>0.45696</td></tr><tr><td>val_auroc</td><td>0.66057</td></tr><tr><td>val_loss</td><td>447.69942</td></tr></table><br/></div></div>"
      ],
      "text/plain": [
       "<IPython.core.display.HTML object>"
      ]
     },
     "metadata": {},
     "output_type": "display_data"
    },
    {
     "data": {
      "text/html": [
       " View run <strong style=\"color:#cdcd00\">kmer_128</strong> at: <a href='https://wandb.ai/pranavmahabs/bind_gps/runs/f8qvtwa7' target=\"_blank\">https://wandb.ai/pranavmahabs/bind_gps/runs/f8qvtwa7</a><br/>Synced 5 W&B file(s), 0 media file(s), 0 artifact file(s) and 0 other file(s)"
      ],
      "text/plain": [
       "<IPython.core.display.HTML object>"
      ]
     },
     "metadata": {},
     "output_type": "display_data"
    },
    {
     "data": {
      "text/html": [
       "Find logs at: <code>./wandb/run-20250711_234747-f8qvtwa7/logs</code>"
      ],
      "text/plain": [
       "<IPython.core.display.HTML object>"
      ]
     },
     "metadata": {},
     "output_type": "display_data"
    },
    {
     "name": "stderr",
     "output_type": "stream",
     "text": [
      "\u001b[34m\u001b[1mwandb\u001b[0m: Agent Starting Run: xn60z2vg with config:\n",
      "\u001b[34m\u001b[1mwandb\u001b[0m: \tepochs: 10\n",
      "\u001b[34m\u001b[1mwandb\u001b[0m: \thidden_dims: [128, 64]\n",
      "\u001b[34m\u001b[1mwandb\u001b[0m: \tlr: 1e-05\n",
      "\u001b[34m\u001b[1mwandb\u001b[0m: \tmetrics: ['auroc', 'auprc', 'accuracy']\n",
      "\u001b[34m\u001b[1mwandb\u001b[0m: \tname: kmer_128\n",
      "\u001b[34m\u001b[1mwandb\u001b[0m: \toutdir: models/kmer_128\n",
      "\u001b[34m\u001b[1mwandb\u001b[0m: \tseed: 42\n",
      "\u001b[34m\u001b[1mwandb\u001b[0m: \ttarget: auroc\n",
      "\u001b[34m\u001b[1mwandb\u001b[0m: \ttask: gene\n",
      "\u001b[34m\u001b[1mwandb\u001b[0m: \twd: 1e-05\n",
      "\u001b[34m\u001b[1mwandb\u001b[0m: \tweighted: False\n",
      "Failed to detect the name of this notebook, you can set it manually with the WANDB_NOTEBOOK_NAME environment variable to enable code saving.\n",
      "\u001b[34m\u001b[1mwandb\u001b[0m: \u001b[33mWARNING\u001b[0m Ignored wandb.init() arg project when running a sweep.\n"
     ]
    },
    {
     "data": {
      "text/html": [
       "wandb version 0.21.0 is available!  To upgrade, please run:\n",
       " $ pip install wandb --upgrade"
      ],
      "text/plain": [
       "<IPython.core.display.HTML object>"
      ]
     },
     "metadata": {},
     "output_type": "display_data"
    },
    {
     "data": {
      "text/html": [
       "Tracking run with wandb version 0.15.4"
      ],
      "text/plain": [
       "<IPython.core.display.HTML object>"
      ]
     },
     "metadata": {},
     "output_type": "display_data"
    },
    {
     "data": {
      "text/html": [
       "Run data is saved locally in <code>/oscar/data/larschan/shared_data/bind_gps/seq_modeling/wandb/run-20250711_234839-xn60z2vg</code>"
      ],
      "text/plain": [
       "<IPython.core.display.HTML object>"
      ]
     },
     "metadata": {},
     "output_type": "display_data"
    },
    {
     "data": {
      "text/html": [
       "Syncing run <strong><a href='https://wandb.ai/pranavmahabs/bind_gps/runs/xn60z2vg' target=\"_blank\">kmer_128</a></strong> to <a href='https://wandb.ai/pranavmahabs/bind_gps' target=\"_blank\">Weights & Biases</a> (<a href='https://wandb.me/run' target=\"_blank\">docs</a>)<br/>Sweep page: <a href='https://wandb.ai/pranavmahabs/bind_gps/sweeps/ms3id6yy' target=\"_blank\">https://wandb.ai/pranavmahabs/bind_gps/sweeps/ms3id6yy</a>"
      ],
      "text/plain": [
       "<IPython.core.display.HTML object>"
      ]
     },
     "metadata": {},
     "output_type": "display_data"
    },
    {
     "data": {
      "text/html": [
       " View project at <a href='https://wandb.ai/pranavmahabs/bind_gps' target=\"_blank\">https://wandb.ai/pranavmahabs/bind_gps</a>"
      ],
      "text/plain": [
       "<IPython.core.display.HTML object>"
      ]
     },
     "metadata": {},
     "output_type": "display_data"
    },
    {
     "data": {
      "text/html": [
       " View sweep at <a href='https://wandb.ai/pranavmahabs/bind_gps/sweeps/ms3id6yy' target=\"_blank\">https://wandb.ai/pranavmahabs/bind_gps/sweeps/ms3id6yy</a>"
      ],
      "text/plain": [
       "<IPython.core.display.HTML object>"
      ]
     },
     "metadata": {},
     "output_type": "display_data"
    },
    {
     "data": {
      "text/html": [
       " View run at <a href='https://wandb.ai/pranavmahabs/bind_gps/runs/xn60z2vg' target=\"_blank\">https://wandb.ai/pranavmahabs/bind_gps/runs/xn60z2vg</a>"
      ],
      "text/plain": [
       "<IPython.core.display.HTML object>"
      ]
     },
     "metadata": {},
     "output_type": "display_data"
    },
    {
     "name": "stdout",
     "output_type": "stream",
     "text": [
      "Epoch 0:\n",
      "Train Metrics:\n",
      "\tLoss:1885.3849, Acc: 0.3783:\n",
      "finished evaluation\n",
      "['auroc', 'auprc', 'accuracy']\n",
      "Validation Metrics:\n",
      "\tLoss: 455.8679\n",
      "\tauroc: 0.5749\n",
      "\tauprc: 0.3829\n",
      "\taccuracy: 0.4442\n",
      "\tepoch: 0.0000\n",
      "Epoch 1:\n",
      "Train Metrics:\n",
      "\tLoss:1684.3171, Acc: 0.5357:\n",
      "finished evaluation\n",
      "['auroc', 'auprc', 'accuracy']\n",
      "Validation Metrics:\n",
      "\tLoss: 419.1891\n",
      "\tauroc: 0.6016\n",
      "\tauprc: 0.4030\n",
      "\taccuracy: 0.5942\n",
      "\tepoch: 1.0000\n",
      "Epoch 2:\n",
      "Train Metrics:\n",
      "\tLoss:1590.9755, Acc: 0.5799:\n",
      "finished evaluation\n",
      "['auroc', 'auprc', 'accuracy']\n",
      "Validation Metrics:\n",
      "\tLoss: 400.5698\n",
      "\tauroc: 0.6299\n",
      "\tauprc: 0.4243\n",
      "\taccuracy: 0.5936\n",
      "\tepoch: 2.0000\n",
      "Epoch 3:\n",
      "Train Metrics:\n",
      "\tLoss:1550.0063, Acc: 0.5883:\n",
      "finished evaluation\n",
      "['auroc', 'auprc', 'accuracy']\n",
      "Validation Metrics:\n",
      "\tLoss: 389.5472\n",
      "\tauroc: 0.6345\n",
      "\tauprc: 0.4261\n",
      "\taccuracy: 0.5945\n",
      "\tepoch: 3.0000\n",
      "Epoch 4:\n",
      "Train Metrics:\n",
      "\tLoss:1529.5367, Acc: 0.5924:\n",
      "finished evaluation\n",
      "['auroc', 'auprc', 'accuracy']\n",
      "Validation Metrics:\n",
      "\tLoss: 386.0733\n",
      "\tauroc: 0.6440\n",
      "\tauprc: 0.4331\n",
      "\taccuracy: 0.5953\n",
      "\tepoch: 4.0000\n",
      "Epoch 5:\n",
      "Train Metrics:\n",
      "\tLoss:1512.7020, Acc: 0.5952:\n",
      "finished evaluation\n",
      "['auroc', 'auprc', 'accuracy']\n",
      "Validation Metrics:\n",
      "\tLoss: 383.3884\n",
      "\tauroc: 0.6526\n",
      "\tauprc: 0.4395\n",
      "\taccuracy: 0.5964\n",
      "\tepoch: 5.0000\n",
      "Epoch 6:\n",
      "Train Metrics:\n",
      "\tLoss:1504.7583, Acc: 0.5968:\n",
      "finished evaluation\n",
      "['auroc', 'auprc', 'accuracy']\n",
      "Validation Metrics:\n",
      "\tLoss: 382.4021\n",
      "\tauroc: 0.6571\n",
      "\tauprc: 0.4431\n",
      "\taccuracy: 0.5991\n",
      "\tepoch: 6.0000\n",
      "Epoch 7:\n",
      "Train Metrics:\n",
      "\tLoss:1499.3756, Acc: 0.5977:\n",
      "finished evaluation\n",
      "['auroc', 'auprc', 'accuracy']\n",
      "Validation Metrics:\n",
      "\tLoss: 379.0529\n",
      "\tauroc: 0.6583\n",
      "\tauprc: 0.4444\n",
      "\taccuracy: 0.5979\n",
      "\tepoch: 7.0000\n",
      "Epoch 8:\n"
     ]
    }
   ],
   "source": [
    "sweep_id = wandb.sweep(sweep=sweep_config, project=\"bind_gps\")\n",
    "wandb.agent(sweep_id, function=train, count=100)"
   ]
  },
  {
   "cell_type": "markdown",
   "id": "267e7699",
   "metadata": {},
   "source": [
    "# EVALUATION"
   ]
  },
  {
   "cell_type": "code",
   "execution_count": 10,
   "id": "9a00c236",
   "metadata": {},
   "outputs": [],
   "source": [
    "device = torch.device(\"cuda\" if torch.cuda.is_available() else \"cpu\")\n",
    "loaders, mre_class_weights, gene_class_weights = get_data()\n",
    "\n",
    "# Load best MRE model, best GENE model\n",
    "model = KmerSequenceModel(128, hidden_dims=(128, 64), num_classes=3)\n",
    "best_model = torch.load(\"models/kmer_128/kmer_128_mre_0.001_1e-06_weighted_False_best.pt\", map_location=device)\n",
    "model.load_state_dict(best_model)\n",
    "mre_model = model.to(device)\n",
    "\n",
    "# Initialize Other Items\n",
    "val_metrics = [\n",
    "    MulticlassAUROC(num_classes=3),\n",
    "    MulticlassAUPRC(num_classes=3),\n",
    "    MulticlassAccuracy(),\n",
    "]\n",
    "config_metrics = [\"auroc\", \"auprc\", \"accuracy\"]\n",
    "task = \"mre\"\n",
    "criterion = nn.CrossEntropyLoss()\n",
    "\n",
    "val_loss, metrics, full = evaluate_model(\n",
    "    model, criterion, loaders[\"test\"], device, val_metrics, task, config_metrics, return_full=True, input_grads=False\n",
    ")"
   ]
  },
  {
   "cell_type": "code",
   "execution_count": 22,
   "id": "ec80ed15",
   "metadata": {},
   "outputs": [],
   "source": [
    "loss_grads, class_grads = get_input_gradients(\n",
    "    model, criterion, loaders[\"test\"], device, task\n",
    ")"
   ]
  },
  {
   "cell_type": "code",
   "execution_count": 50,
   "id": "53f69ad7",
   "metadata": {},
   "outputs": [],
   "source": [
    "filename = 'models/svd_model_128.joblib'\n",
    "svd_model = joblib.load(filename)\n",
    "comps = torch.from_numpy(svd_model.components_).to(device)"
   ]
  },
  {
   "cell_type": "code",
   "execution_count": 38,
   "id": "f7adc94c",
   "metadata": {},
   "outputs": [],
   "source": [
    "from torch.utils.data import TensorDataset, DataLoader\n",
    "agg_loss   = torch.zeros(comps.size()[1],device=device)\n",
    "agg_class  = torch.zeros(3, comps.size()[1], device=device)\n",
    "\n",
    "batch_size = 64\n",
    "ds = TensorDataset(loss_grads, class_grads)\n",
    "loader = DataLoader(ds, batch_size=batch_size, shuffle=False)\n",
    "comps = comps.to(torch.float32)\n",
    "\n",
    "for loss_batch, class_batch in loader:\n",
    "    loss_batch, class_batch = loss_batch.to(device), class_batch.to(device)\n",
    "    loss_backproj  = loss_batch @ comps\n",
    "    class_backproj = torch.matmul(class_batch, comps)\n",
    "    \n",
    "    agg_loss  += loss_backproj.abs().sum(dim=0)\n",
    "    agg_class += class_backproj.abs().sum(dim=0)"
   ]
  },
  {
   "cell_type": "code",
   "execution_count": 57,
   "id": "8987ee23",
   "metadata": {},
   "outputs": [
    {
     "name": "stdout",
     "output_type": "stream",
     "text": [
      "[8738, 30583, 34952, 56797, 2184, 56799, 32904, 546, 30591, 34953, 56829, 8736, 40413, 8226, 24029]\n"
     ]
    }
   ],
   "source": [
    "top_overall = list(torch.topk(agg_loss,k=15).indices.cpu().numpy())\n",
    "print(top_overall)\n",
    "top_indices = []\n",
    "for i in range(3):\n",
    "    class_proj = agg_class[i].squeeze()\n",
    "    top_indices.append(list(torch.topk(class_proj,k=15).indices.cpu().numpy()))"
   ]
  },
  {
   "cell_type": "code",
   "execution_count": 59,
   "id": "93d0d77f",
   "metadata": {},
   "outputs": [
    {
     "name": "stdout",
     "output_type": "stream",
     "text": [
      "OVERALL TOP 8-mers\n",
      "['AGAGAGAG', 'CTCTCTCT', 'GAGAGAGA', 'TCTCTCTC', 'AAGAGAGA', 'TCTCTCTT', 'GAAAGAGA', 'AAAGAGAG', 'CTCTCTTT', 'GAGAGAGC', 'TCTCTTTC', 'AGAGAGAA', 'GCTCTCTC', 'AGAAAGAG', 'CCTCTCTC']\n",
      "\n",
      "Class Specific Top 8-mers\n",
      "Class 0: ['AGAGAGAG', 'CTCTCTCT', 'GAGAGAGA', 'TCTCTCTC', 'AAGAGAGA', 'TCTCTCTT', 'GAAAGAGA', 'AAAGAGAG', 'CTCTCTTT', 'GAGAGAGC', 'AGAGAGAA', 'TCTCTTTC', 'GCTCTCTC', 'AGAAAGAG', 'CCTCTCTC']\n",
      "Class 1: ['AGAGAGAG', 'CTCTCTCT', 'GAGAGAGA', 'TCTCTCTC', 'AAGAGAGA', 'TCTCTCTT', 'GAAAGAGA', 'CTCTCTTT', 'AAAGAGAG', 'AGAGAGAA', 'TCTCTTTC', 'GAGAGAGC', 'GCTCTCTC', 'AGAAAGAG', 'CCTCTCTC']\n",
      "Class 2: ['AGAGAGAG', 'CTCTCTCT', 'GAGAGAGA', 'TCTCTCTC', 'AAGAGAGA', 'TCTCTCTT', 'GAAAGAGA', 'AAAGAGAG', 'CTCTCTTT', 'TCTCTTTC', 'GAGAGAGC', 'AGAGAGAA', 'GCTCTCTC', 'AGAAAGAG', 'TTCTCTCT']\n"
     ]
    }
   ],
   "source": [
    "kmer_tokenizer = KmerTokenizer(k=8)\n",
    "\n",
    "print(\"OVERALL TOP 8-mers\")\n",
    "print(kmer_tokenizer.detokenize(top_overall))\n",
    "\n",
    "print(\"\\nClass Specific Top 8-mers\")\n",
    "for i in range(3):\n",
    "    print(f\"Class {i}: {kmer_tokenizer.detokenize(top_indices[i])}\")"
   ]
  },
  {
   "cell_type": "markdown",
   "id": "b84c816d",
   "metadata": {},
   "source": [
    "# Gene Task Evaluation"
   ]
  },
  {
   "cell_type": "code",
   "execution_count": 8,
   "id": "e7b57209",
   "metadata": {},
   "outputs": [],
   "source": [
    "device = torch.device(\"cuda\" if torch.cuda.is_available() else \"cpu\")\n",
    "loaders, mre_class_weights, gene_class_weights = get_data()\n",
    "\n",
    "# Load best MRE model, best GENE model\n",
    "model = KmerSequenceModel(128, hidden_dims=(128, 64), num_classes=3)\n",
    "best_model = torch.load(\"models/kmer_128/kmer_128_gene_0.001_1e-05_weighted_False_best.pt\", map_location=device)\n",
    "model.load_state_dict(best_model)\n",
    "mre_model = model.to(device)\n",
    "\n",
    "# Initialize Other Items\n",
    "val_metrics = [\n",
    "    MulticlassAUROC(num_classes=3),\n",
    "    MulticlassAUPRC(num_classes=3),\n",
    "    MulticlassAccuracy(),\n",
    "]\n",
    "config_metrics = [\"auroc\", \"auprc\", \"accuracy\"]\n",
    "task = \"gene\"\n",
    "criterion = nn.CrossEntropyLoss()\n",
    "\n",
    "val_loss, metrics, full = evaluate_model(\n",
    "    model, criterion, loaders[\"test\"], device, val_metrics, task, config_metrics, return_full=True\n",
    ")"
   ]
  },
  {
   "cell_type": "code",
   "execution_count": 9,
   "id": "7e56b8e6",
   "metadata": {},
   "outputs": [],
   "source": [
    "loss_grads, class_grads = get_input_gradients(\n",
    "    model, criterion, loaders[\"test\"], device, task\n",
    ")\n",
    "filename = 'models/svd_model_128.joblib'\n",
    "svd_model = joblib.load(filename)\n",
    "comps = torch.from_numpy(svd_model.components_).to(device)"
   ]
  },
  {
   "cell_type": "code",
   "execution_count": 10,
   "id": "e2311ace",
   "metadata": {},
   "outputs": [],
   "source": [
    "from torch.utils.data import TensorDataset, DataLoader\n",
    "agg_loss   = torch.zeros(comps.size()[1],device=device)\n",
    "agg_class  = torch.zeros(3, comps.size()[1], device=device)\n",
    "\n",
    "batch_size = 64\n",
    "ds = TensorDataset(loss_grads, class_grads)\n",
    "loader = DataLoader(ds, batch_size=batch_size, shuffle=False)\n",
    "comps = comps.to(torch.float32)\n",
    "\n",
    "for loss_batch, class_batch in loader:\n",
    "    loss_batch, class_batch = loss_batch.to(device), class_batch.to(device)\n",
    "    loss_backproj  = loss_batch @ comps\n",
    "    class_backproj = torch.matmul(class_batch, comps)\n",
    "    \n",
    "    agg_loss  += loss_backproj.abs().sum(dim=0)\n",
    "    agg_class += class_backproj.abs().sum(dim=0)"
   ]
  },
  {
   "cell_type": "code",
   "execution_count": 11,
   "id": "77507b26",
   "metadata": {},
   "outputs": [
    {
     "name": "stdout",
     "output_type": "stream",
     "text": [
      "[43690, 21845, 8738, 34952, 30583, 56797, 15163, 60652, 52942, 0, 20805, 17684, 16371, 65023, 256]\n",
      "OVERALL TOP 8-mers\n",
      "['GGGGGGGG', 'CCCCCCCC', 'AGAGAGAG', 'GAGAGAGA', 'CTCTCTCT', 'TCTCTCTC', 'ATGTATGT', 'TGTATGTA', 'TATGTATG', 'AAAAAAAA', 'CCACCACC', 'CACCACCA', 'ATTTTTAT', 'TTTCTTTT', 'AAACAAAA']\n",
      "\n",
      "Class Specific Top 8-mers\n",
      "Class 0: ['AGAGAGAG', 'GAGAGAGA', 'GGGGGGGG', 'CCCCCCCC', 'CTCTCTCT', 'TCTCTCTC', 'ATGTATGT', 'TGTATGTA', 'TATGTATG', 'CCACCACC', 'CACCACCA', 'AAACAAAA', 'TTTGTTTT', 'ATTTTTAT', 'TTTCTTTT']\n",
      "Class 1: ['GGGGGGGG', 'CCCCCCCC', 'AGAGAGAG', 'GAGAGAGA', 'AAAAAAAA', 'AAACAAAA', 'CCACCACC', 'GCTGCTGC', 'TTTGTTTT', 'CACCACCA', 'ATCTTATC', 'TCTTATCT', 'TATCTTAT', 'TTTTTTTT', 'TGCTGCTG']\n",
      "Class 2: ['CCCCCCCC', 'GGGGGGGG', 'TTTTTTTT', 'AAAAAAAA', 'AGAGAGAG', 'CTCTCTCT', 'GAGAGAGA', 'TCTCTCTC', 'TATGTATG', 'ATGTATGT', 'TGTATGTA', 'CAAAAAAA', 'TATTATTA', 'TATAAATT', 'ATTATTAT']\n"
     ]
    }
   ],
   "source": [
    "top_overall = list(torch.topk(agg_loss,k=15).indices.cpu().numpy())\n",
    "print(top_overall)\n",
    "top_indices = []\n",
    "for i in range(3):\n",
    "    class_proj = agg_class[i].squeeze()\n",
    "    top_indices.append(list(torch.topk(class_proj,k=15).indices.cpu().numpy()))\n",
    "    \n",
    "kmer_tokenizer = KmerTokenizer(k=8)\n",
    "\n",
    "print(\"OVERALL TOP 8-mers\")\n",
    "print(kmer_tokenizer.detokenize(top_overall))\n",
    "\n",
    "print(\"\\nClass Specific Top 8-mers\")\n",
    "for i in range(3):\n",
    "    print(f\"Class {i}: {kmer_tokenizer.detokenize(top_indices[i])}\")"
   ]
  },
  {
   "cell_type": "code",
   "execution_count": null,
   "id": "30ea2eb3",
   "metadata": {},
   "outputs": [],
   "source": []
  }
 ],
 "metadata": {
  "kernelspec": {
   "display_name": "openfold_env",
   "language": "python",
   "name": "openfold_env"
  }
 },
 "nbformat": 4,
 "nbformat_minor": 5
}
