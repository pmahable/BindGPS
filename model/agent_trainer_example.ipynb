{
 "cells": [
  {
   "cell_type": "code",
   "execution_count": 6,
   "metadata": {},
   "outputs": [
    {
     "name": "stdout",
     "output_type": "stream",
     "text": [
      "Config(base_path='/home/jchc/Documents/larschan_laboratory/BindGPS/data/datasets', p_value='0_1', resolution='1kb', exclude_features=('clamp', 'gaf', 'psq'), features_of_interest=('clamp', 'gaf', 'psq', 'h3k27ac', 'h3k27me3', 'h3k36me3', 'h3k4me1', 'h3k4me2', 'h3k4me3', 'h3k9me3', 'h4k16ac'), target_column='mre_labels', train_size=0.8, seed=42, hidden_gnn_size=128, num_gnn_layers=3, hidden_linear_size=128, num_linear_layers=3, dropout=0.5, normalize=True, lr=0.0005, weight_decay=0.0005, epochs=25, num_neighbors=(20, 20, 20), batch_size=256, num_workers=8, use_cuda_if_available=True, use_wandb=True, wandb_project='basic-gnn', wandb_entity=None)\n"
     ]
    },
    {
     "name": "stderr",
     "output_type": "stream",
     "text": [
      "\u001b[34m\u001b[1mwandb\u001b[0m: Currently logged in as: \u001b[33mjoseph_aguilera\u001b[0m (\u001b[33mbind-gps\u001b[0m) to \u001b[32mhttps://api.wandb.ai\u001b[0m. Use \u001b[1m`wandb login --relogin`\u001b[0m to force relogin\n"
     ]
    },
    {
     "data": {
      "text/html": [],
      "text/plain": [
       "<IPython.core.display.HTML object>"
      ]
     },
     "metadata": {},
     "output_type": "display_data"
    },
    {
     "data": {
      "text/html": [
       "Tracking run with wandb version 0.22.2"
      ],
      "text/plain": [
       "<IPython.core.display.HTML object>"
      ]
     },
     "metadata": {},
     "output_type": "display_data"
    },
    {
     "data": {
      "text/html": [
       "Run data is saved locally in <code>/home/jchc/Documents/larschan_laboratory/BindGPS/model/wandb/run-20251015_195813-gglyoup6</code>"
      ],
      "text/plain": [
       "<IPython.core.display.HTML object>"
      ]
     },
     "metadata": {},
     "output_type": "display_data"
    },
    {
     "data": {
      "text/html": [
       "Syncing run <strong><a href='https://wandb.ai/bind-gps/basic-gnn/runs/gglyoup6' target=\"_blank\">magic-flower-1</a></strong> to <a href='https://wandb.ai/bind-gps/basic-gnn' target=\"_blank\">Weights & Biases</a> (<a href='https://wandb.me/developer-guide' target=\"_blank\">docs</a>)<br>"
      ],
      "text/plain": [
       "<IPython.core.display.HTML object>"
      ]
     },
     "metadata": {},
     "output_type": "display_data"
    },
    {
     "data": {
      "text/html": [
       " View project at <a href='https://wandb.ai/bind-gps/basic-gnn' target=\"_blank\">https://wandb.ai/bind-gps/basic-gnn</a>"
      ],
      "text/plain": [
       "<IPython.core.display.HTML object>"
      ]
     },
     "metadata": {},
     "output_type": "display_data"
    },
    {
     "data": {
      "text/html": [
       " View run at <a href='https://wandb.ai/bind-gps/basic-gnn/runs/gglyoup6' target=\"_blank\">https://wandb.ai/bind-gps/basic-gnn/runs/gglyoup6</a>"
      ],
      "text/plain": [
       "<IPython.core.display.HTML object>"
      ]
     },
     "metadata": {},
     "output_type": "display_data"
    },
    {
     "name": "stdout",
     "output_type": "stream",
     "text": [
      "cuda\n",
      "Epoch 000 | loss=1.2605 | acc=0.7984\n",
      "Epoch 001 | loss=0.6849 | acc=0.7987\n",
      "Epoch 002 | loss=0.6503 | acc=0.7987\n",
      "Epoch 003 | loss=0.6284 | acc=0.7985\n",
      "Epoch 004 | loss=0.6195 | acc=0.7986\n",
      "Epoch 005 | loss=0.6126 | acc=0.7986\n",
      "Epoch 006 | loss=0.6076 | acc=0.7988\n",
      "Epoch 007 | loss=0.6026 | acc=0.7987\n",
      "Epoch 008 | loss=0.5986 | acc=0.7987\n",
      "Epoch 009 | loss=0.5949 | acc=0.7986\n",
      "Epoch 010 | loss=0.5907 | acc=0.7988\n",
      "Epoch 011 | loss=0.5796 | acc=0.7985\n",
      "Epoch 012 | loss=0.6065 | acc=0.7985\n",
      "Epoch 013 | loss=0.5670 | acc=0.7987\n",
      "Epoch 014 | loss=0.5546 | acc=0.7986\n",
      "Epoch 015 | loss=0.4630 | acc=0.7987\n",
      "Epoch 016 | loss=0.4617 | acc=0.7986\n",
      "Epoch 017 | loss=0.3600 | acc=0.7987\n",
      "Epoch 018 | loss=0.3380 | acc=0.7988\n",
      "Epoch 019 | loss=0.3219 | acc=0.7986\n",
      "Epoch 020 | loss=0.2482 | acc=0.8336\n",
      "Epoch 021 | loss=0.1821 | acc=0.9746\n",
      "Epoch 022 | loss=0.1291 | acc=0.9746\n",
      "Epoch 023 | loss=0.0958 | acc=0.9784\n",
      "Epoch 024 | loss=0.0685 | acc=0.9844\n",
      "Test Accuracy: 0.9739\n"
     ]
    },
    {
     "data": {
      "text/html": [],
      "text/plain": [
       "<IPython.core.display.HTML object>"
      ]
     },
     "metadata": {},
     "output_type": "display_data"
    },
    {
     "data": {
      "text/html": [
       "<br>    <style><br>        .wandb-row {<br>            display: flex;<br>            flex-direction: row;<br>            flex-wrap: wrap;<br>            justify-content: flex-start;<br>            width: 100%;<br>        }<br>        .wandb-col {<br>            display: flex;<br>            flex-direction: column;<br>            flex-basis: 100%;<br>            flex: 1;<br>            padding: 10px;<br>        }<br>    </style><br><div class=\"wandb-row\"><div class=\"wandb-col\"><h3>Run history:</h3><br/><table class=\"wandb\"><tr><td>epoch</td><td>▁▁▂▂▂▂▃▃▃▄▄▄▅▅▅▅▆▆▆▇▇▇▇██</td></tr><tr><td>test/acc</td><td>▁</td></tr><tr><td>train/acc</td><td>▁▁▁▁▁▁▁▁▁▁▁▁▁▁▁▁▁▁▁▁▂████</td></tr><tr><td>train/loss</td><td>█▅▄▄▄▄▄▄▄▄▄▄▄▄▄▃▃▃▃▂▂▂▁▁▁</td></tr></table><br/></div><div class=\"wandb-col\"><h3>Run summary:</h3><br/><table class=\"wandb\"><tr><td>epoch</td><td>24</td></tr><tr><td>test/acc</td><td>0.97391</td></tr><tr><td>train/acc</td><td>0.98437</td></tr><tr><td>train/loss</td><td>0.06846</td></tr></table><br/></div></div>"
      ],
      "text/plain": [
       "<IPython.core.display.HTML object>"
      ]
     },
     "metadata": {},
     "output_type": "display_data"
    },
    {
     "data": {
      "text/html": [
       " View run <strong style=\"color:#cdcd00\">magic-flower-1</strong> at: <a href='https://wandb.ai/bind-gps/basic-gnn/runs/gglyoup6' target=\"_blank\">https://wandb.ai/bind-gps/basic-gnn/runs/gglyoup6</a><br> View project at: <a href='https://wandb.ai/bind-gps/basic-gnn' target=\"_blank\">https://wandb.ai/bind-gps/basic-gnn</a><br>Synced 5 W&B file(s), 0 media file(s), 0 artifact file(s) and 0 other file(s)"
      ],
      "text/plain": [
       "<IPython.core.display.HTML object>"
      ]
     },
     "metadata": {},
     "output_type": "display_data"
    },
    {
     "data": {
      "text/html": [
       "Find logs at: <code>./wandb/run-20251015_195813-gglyoup6/logs</code>"
      ],
      "text/plain": [
       "<IPython.core.display.HTML object>"
      ]
     },
     "metadata": {},
     "output_type": "display_data"
    }
   ],
   "source": [
    "from agent_trainer_classification_v2 import Config,GNNTrainer\n",
    "import torch\n",
    "import numpy as np\n",
    "\n",
    "########### import config class ###########\n",
    "cfg = Config(\n",
    "    use_wandb=True,\n",
    "    epochs=25,\n",
    "    use_cuda_if_available=True,\n",
    "    wandb_project='basic-gnn'\n",
    "\n",
    ")\n",
    "print(cfg)\n",
    "\n",
    "###### define util functions (in py file) ######\n",
    "def set_global_seed(seed: int) -> None:\n",
    "    np.random.seed(seed)\n",
    "    torch.manual_seed(seed)\n",
    "    torch.cuda.manual_seed_all(seed)\n",
    "    # For more determinism (may reduce performance slightly)\n",
    "    torch.backends.cudnn.deterministic = True\n",
    "    torch.backends.cudnn.benchmark = False\n",
    "\n",
    "def get_device(use_cuda_if_available: bool = True) -> torch.device:\n",
    "    if use_cuda_if_available and torch.cuda.is_available():\n",
    "        return torch.device(\"cuda\")\n",
    "    return torch.device(\"cpu\")\n",
    "\n",
    "############# Model and Run ##############\n",
    "\n",
    "trainer = GNNTrainer(cfg)\n",
    "trainer.run()"
   ]
  },
  {
   "cell_type": "code",
   "execution_count": null,
   "metadata": {},
   "outputs": [],
   "source": []
  }
 ],
 "metadata": {
  "kernelspec": {
   "display_name": "bindgps",
   "language": "python",
   "name": "python3"
  },
  "language_info": {
   "codemirror_mode": {
    "name": "ipython",
    "version": 3
   },
   "file_extension": ".py",
   "mimetype": "text/x-python",
   "name": "python",
   "nbconvert_exporter": "python",
   "pygments_lexer": "ipython3",
   "version": "3.11.13"
  }
 },
 "nbformat": 4,
 "nbformat_minor": 2
}
