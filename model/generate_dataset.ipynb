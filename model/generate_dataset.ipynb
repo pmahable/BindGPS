{
 "cells": [
  {
   "cell_type": "code",
   "execution_count": 1,
   "id": "0f882557",
   "metadata": {
    "tags": []
   },
   "outputs": [],
   "source": []
  },
  {
   "cell_type": "code",
   "execution_count": null,
   "id": "01511bf4-6c65-49d1-9f63-4e74ce6564a7",
   "metadata": {},
   "outputs": [],
   "source": [
    "import os\n",
    "import numpy as np\n",
    "import pandas as pd\n",
    "import torch \n",
    "from src.data import DatasetLoader, GraphParamBuilder"
   ]
  },
  {
   "cell_type": "code",
   "execution_count": 2,
   "id": "44845885",
   "metadata": {
    "tags": []
   },
   "outputs": [],
   "source": [
    "loader = DatasetLoader()\n",
    "node_df, edge_df = loader.load(p_value='0_1', resolution='5kb')"
   ]
  },
  {
   "cell_type": "code",
   "execution_count": 11,
   "id": "b10ce0fd-a3f1-4d14-a834-373280cc7465",
   "metadata": {
    "tags": []
   },
   "outputs": [],
   "source": [
    "# node_df.head(5)"
   ]
  },
  {
   "cell_type": "code",
   "execution_count": 12,
   "id": "dbba5464-f5d7-41c2-b17d-dcacc1c4e095",
   "metadata": {
    "tags": []
   },
   "outputs": [],
   "source": [
    "# edge_df.head(5)"
   ]
  },
  {
   "cell_type": "code",
   "execution_count": 13,
   "id": "4b5c4af1-1549-47fc-bf40-76227d1749ba",
   "metadata": {},
   "outputs": [],
   "source": [
    "target = node_df['counts'] #regression task\n",
    "mask = node_df['gene_in_bin']\n",
    "input_features = node_df.loc[:,'clamp':'psq']\n",
    "seed = 42"
   ]
  },
  {
   "cell_type": "code",
   "execution_count": 14,
   "id": "01908f1d-df68-484e-9b82-f081f8661fb8",
   "metadata": {},
   "outputs": [],
   "source": [
    "builder = GraphParamBuilder(\n",
    "    node_df=node_df,\n",
    "    edge_df=edge_df,\n",
    "    target=target,\n",
    "    mask=mask,\n",
    "    input_features=input_features,\n",
    "    seed=seed\n",
    ")\n",
    "tensors = builder.convert_to_tensors()"
   ]
  },
  {
   "cell_type": "code",
   "execution_count": 15,
   "id": "3b97607c-fd2c-407d-85f8-e3b420ddd4d5",
   "metadata": {
    "tags": []
   },
   "outputs": [
    {
     "data": {
      "text/plain": [
       "{'X': tensor([[1.1338e-02, 2.9695e-02, 0.0000e+00,  ..., 0.0000e+00, 0.0000e+00,\n",
       "          3.0075e+01],\n",
       "         [2.0017e+01, 2.0032e+01, 1.1005e+02,  ..., 2.0029e+01, 0.0000e+00,\n",
       "          7.0099e+01],\n",
       "         [1.0024e+01, 1.0011e+01, 1.3005e+02,  ..., 0.0000e+00, 0.0000e+00,\n",
       "          7.0026e+01],\n",
       "         ...,\n",
       "         [3.0811e-04, 3.2222e-04, 0.0000e+00,  ..., 0.0000e+00, 0.0000e+00,\n",
       "          1.7110e-02],\n",
       "         [4.6011e-04, 1.9613e-04, 0.0000e+00,  ..., 0.0000e+00, 0.0000e+00,\n",
       "          0.0000e+00],\n",
       "         [2.0060e+01, 1.0073e+01, 0.0000e+00,  ..., 0.0000e+00, 0.0000e+00,\n",
       "          0.0000e+00]]),\n",
       " 'y': tensor([ 0., 19.,  0.,  ...,  0.,  0.,  0.]),\n",
       " 'all_mask': tensor([False,  True, False,  ..., False, False, False]),\n",
       " 'train_mask': tensor([False, False,  True,  ...,  True,  True, False]),\n",
       " 'val_mask': tensor([ True,  True, False,  ..., False, False,  True]),\n",
       " 'test_mask': tensor([False, False, False,  ..., False, False, False]),\n",
       " 'edge_index': tensor([[    1,     1,     1,  ..., 26748, 26748, 26805],\n",
       "         [    3,    11,    12,  ..., 26752, 26753, 27491]]),\n",
       " 'edge_weight': tensor([14.4448,  1.7445,  1.1418,  ...,  8.0283, 13.8082,  1.8119])}"
      ]
     },
     "execution_count": 15,
     "metadata": {},
     "output_type": "execute_result"
    }
   ],
   "source": [
    "tensors"
   ]
  },
  {
   "cell_type": "code",
   "execution_count": 16,
   "id": "cbb9269b-4ae7-46dd-ac21-916560ca5c9e",
   "metadata": {
    "tags": []
   },
   "outputs": [
    {
     "name": "stdout",
     "output_type": "stream",
     "text": [
      "torch.Size([2, 2744020])\n",
      "torch.Size([2744020])\n"
     ]
    }
   ],
   "source": [
    "print(tensors['edge_index'].shape)\n",
    "print(tensors['edge_weight'].shape)"
   ]
  },
  {
   "cell_type": "code",
   "execution_count": 17,
   "id": "8590ee24-7e88-4d69-b5b7-598070f96a30",
   "metadata": {
    "tags": []
   },
   "outputs": [
    {
     "ename": "ModuleNotFoundError",
     "evalue": "No module named 'torch_geometric'",
     "output_type": "error",
     "traceback": [
      "\u001b[0;31m---------------------------------------------------------------------------\u001b[0m",
      "\u001b[0;31mModuleNotFoundError\u001b[0m                       Traceback (most recent call last)",
      "Cell \u001b[0;32mIn[17], line 1\u001b[0m\n\u001b[0;32m----> 1\u001b[0m \u001b[38;5;28;01mfrom\u001b[39;00m\u001b[38;5;250m \u001b[39m\u001b[38;5;21;01mtorch_geometric\u001b[39;00m\u001b[38;5;21;01m.\u001b[39;00m\u001b[38;5;21;01mdata\u001b[39;00m\u001b[38;5;250m \u001b[39m\u001b[38;5;28;01mimport\u001b[39;00m Data\n\u001b[1;32m      3\u001b[0m data \u001b[38;5;241m=\u001b[39m Data(\n\u001b[1;32m      4\u001b[0m     x\u001b[38;5;241m=\u001b[39mtensors[\u001b[38;5;124m'\u001b[39m\u001b[38;5;124mX\u001b[39m\u001b[38;5;124m'\u001b[39m],\n\u001b[1;32m      5\u001b[0m     train_mask\u001b[38;5;241m=\u001b[39mtensors[\u001b[38;5;124m'\u001b[39m\u001b[38;5;124mtrain_mask\u001b[39m\u001b[38;5;124m'\u001b[39m],\n\u001b[0;32m   (...)\u001b[0m\n\u001b[1;32m     11\u001b[0m     y\u001b[38;5;241m=\u001b[39mtensors[\u001b[38;5;124m'\u001b[39m\u001b[38;5;124my\u001b[39m\u001b[38;5;124m'\u001b[39m]\n\u001b[1;32m     12\u001b[0m )\n",
      "\u001b[0;31mModuleNotFoundError\u001b[0m: No module named 'torch_geometric'"
     ]
    }
   ],
   "source": [
    "from torch_geometric.data import Data\n",
    "\n",
    "data = Data(\n",
    "    x=tensors['X'],\n",
    "    train_mask=tensors['train_mask'],\n",
    "    all_mask=tensors['all_mask'],\n",
    "    val_mask=tensors['val_mask'],\n",
    "    test_mask=tensors['test_mask'],\n",
    "    edge_index=tensors['edge_index'],\n",
    "    edge_weight=tensors['edge_weight'],\n",
    "    y=tensors['y']\n",
    ")"
   ]
  },
  {
   "cell_type": "code",
   "execution_count": null,
   "id": "036ff0e1-cb02-44e9-a99c-db58cd72cd0a",
   "metadata": {},
   "outputs": [],
   "source": []
  }
 ],
 "metadata": {
  "kernelspec": {
   "display_name": "Python conda_ssgunase",
   "language": "python",
   "name": "conda_ssgunase"
  },
  "language_info": {
   "codemirror_mode": {
    "name": "ipython",
    "version": 3
   },
   "file_extension": ".py",
   "mimetype": "text/x-python",
   "name": "python",
   "nbconvert_exporter": "python",
   "pygments_lexer": "ipython3",
   "version": "3.9.21"
  }
 },
 "nbformat": 4,
 "nbformat_minor": 5
}
